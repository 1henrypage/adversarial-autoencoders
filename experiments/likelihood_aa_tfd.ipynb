{
 "cells": [
  {
   "metadata": {},
   "cell_type": "markdown",
   "source": "# Adversarial Autoencoder: Toronto Face Likelihood Experiments",
   "id": "15565269da156ec9"
  },
  {
   "metadata": {},
   "cell_type": "markdown",
   "source": "### Imports",
   "id": "37f22469d5958976"
  },
  {
   "metadata": {
    "ExecuteTime": {
     "end_time": "2025-05-18T01:03:54.218016Z",
     "start_time": "2025-05-18T01:03:54.214457Z"
    }
   },
   "cell_type": "code",
   "source": [
    "import numpy as np\n",
    "import torch\n",
    "import matplotlib.pyplot as plt\n",
    "from torch.utils.data import Dataset\n",
    "from utils import save_weights\n",
    "import scipy.io\n",
    "from torch import nn\n",
    "\n",
    "\n",
    "from torch.utils.data import TensorDataset, DataLoader\n",
    "\n",
    "import torch\n",
    "from torch.utils.data import DataLoader, TensorDataset\n",
    "\n",
    "from src.aae import  AdversarialAutoencoder\n",
    "\n",
    "from sklearn.model_selection import train_test_split\n",
    "\n",
    "from likelihood import cross_validate_sigma, estimate_log_likelihood\n",
    "from utils import compute_mean_std, normalize_data, rescale_to_unit_interval, save_weights"
   ],
   "id": "639a3f3942775cd5",
   "outputs": [],
   "execution_count": 10
  },
  {
   "metadata": {
    "ExecuteTime": {
     "end_time": "2025-05-18T01:01:22.256829Z",
     "start_time": "2025-05-18T01:01:22.222193Z"
    }
   },
   "cell_type": "code",
   "source": "device = torch.device(\"cuda\" if torch.cuda.is_available() else \"cpu\")",
   "id": "ec506ab703b7913",
   "outputs": [],
   "execution_count": 3
  },
  {
   "metadata": {
    "ExecuteTime": {
     "end_time": "2025-05-18T01:01:26.208052Z",
     "start_time": "2025-05-18T01:01:24.861258Z"
    }
   },
   "cell_type": "code",
   "source": [
    "data = scipy.io.loadmat('./data/TFD/TFD_48x48.mat')\n",
    "data.keys()"
   ],
   "id": "50680ad8150abd87",
   "outputs": [
    {
     "data": {
      "text/plain": [
       "dict_keys(['__header__', '__version__', '__globals__', 'images', 'labs_ex', 'labs_id', 'folds'])"
      ]
     },
     "execution_count": 4,
     "metadata": {},
     "output_type": "execute_result"
    }
   ],
   "execution_count": 4
  },
  {
   "metadata": {},
   "cell_type": "markdown",
   "source": "",
   "id": "cb5d22dd63723851"
  },
  {
   "metadata": {},
   "cell_type": "markdown",
   "source": "### Preprocessing Pipeline",
   "id": "382034d338455814"
  },
  {
   "metadata": {
    "ExecuteTime": {
     "end_time": "2025-05-18T01:01:28.720021Z",
     "start_time": "2025-05-18T01:01:28.711385Z"
    }
   },
   "cell_type": "code",
   "source": [
    "\n",
    "\n",
    "def configure_tfd(data, device='cuda', batch_size=100):\n",
    "    images = data['images']\n",
    "    labels = data['labs_id']\n",
    "\n",
    "    # Filter unlabeled samples (label == -1)\n",
    "    mask = labels.flatten() == -1\n",
    "    if not isinstance(images, torch.Tensor):\n",
    "        images = torch.tensor(images, dtype=torch.float32)\n",
    "    images_filtered = images[mask].to(device)\n",
    "\n",
    "    print(f\"Number of unlabeled samples: {images_filtered.shape[0]}\")\n",
    "\n",
    "    print(images_filtered.shape)\n",
    "    # Flatten\n",
    "    X = images_filtered.reshape(images_filtered.shape[0], -1)\n",
    "\n",
    "    # Compute mean and std on GPU\n",
    "    mean = X.mean(dim=0)\n",
    "    std = X.std(dim=0)\n",
    "    X_norm = (X - mean) / std\n",
    "\n",
    "    # Shuffle and split indices on GPU\n",
    "    total_samples = X_norm.shape[0]\n",
    "    perm = torch.randperm(total_samples, device=device)\n",
    "    train_size = int(0.8 * total_samples)\n",
    "    train_idx = perm[:train_size]\n",
    "    test_idx = perm[train_size:]\n",
    "\n",
    "    X_train = X_norm[train_idx]\n",
    "    X_test = X_norm[test_idx]\n",
    "\n",
    "    # Create train DataLoader\n",
    "    train_dataset = TensorDataset(X_train, torch.zeros(X_train.size(0), dtype=torch.uint8, device=device))\n",
    "    train_loader = DataLoader(train_dataset, batch_size=batch_size, shuffle=True)\n",
    "\n",
    "    return train_loader, X_train, X_test, mean, std\n",
    "\n",
    "\n",
    "\n",
    "\n",
    "\n",
    "\n",
    "\n",
    "\n",
    "\n",
    "\n",
    "\n"
   ],
   "id": "a2c2c8a2c5383b2c",
   "outputs": [],
   "execution_count": 5
  },
  {
   "metadata": {},
   "cell_type": "markdown",
   "source": "## Paper Configuration",
   "id": "6f5d3d0ea1d00e4a"
  },
  {
   "metadata": {
    "ExecuteTime": {
     "end_time": "2025-05-18T01:01:32.208263Z",
     "start_time": "2025-05-18T01:01:32.204283Z"
    }
   },
   "cell_type": "code",
   "source": [
    "INPUT_DIM = 48*48\n",
    "BATCH_SIZE = 100\n",
    "AE_HIDDEN = 1000\n",
    "DC_HIDDEN = 1000\n",
    "LATENT_DIM = 15\n",
    "PRIOR_STD = 10.0\n",
    "recon_loss = nn.MSELoss()\n",
    "init_recon_lr = 0.01\n",
    "init_gen_lr = init_disc_lr = 0.1\n",
    "use_decoder_sigmoid = False"
   ],
   "id": "c7e133d8bc629d8b",
   "outputs": [],
   "execution_count": 6
  },
  {
   "metadata": {},
   "cell_type": "markdown",
   "source": "## Training",
   "id": "b204b8d1962b9998"
  },
  {
   "metadata": {
    "ExecuteTime": {
     "end_time": "2025-05-18T01:01:36.423749Z",
     "start_time": "2025-05-18T01:01:33.911084Z"
    }
   },
   "cell_type": "code",
   "source": [
    "aae = AdversarialAutoencoder(\n",
    "    input_dim=INPUT_DIM,\n",
    "    ae_hidden=AE_HIDDEN,\n",
    "    dc_hidden=DC_HIDDEN,\n",
    "    latent_dim=LATENT_DIM,\n",
    "    recon_loss_fn=recon_loss,\n",
    "    init_recon_lr=init_recon_lr,\n",
    "    init_gen_lr=init_gen_lr,\n",
    "    init_disc_lr=init_disc_lr,\n",
    "    use_decoder_sigmoid=use_decoder_sigmoid,\n",
    "    device = device\n",
    ")\n",
    "\n",
    "train_loader, X_train, X_test, mean, std = configure_tfd(data=data, device=device, batch_size=100)"
   ],
   "id": "7c534fe8b6d5b066",
   "outputs": [
    {
     "name": "stdout",
     "output_type": "stream",
     "text": [
      "Number of unlabeled samples: 98362\n",
      "torch.Size([98362, 48, 48])\n"
     ]
    }
   ],
   "execution_count": 7
  },
  {
   "metadata": {
    "ExecuteTime": {
     "end_time": "2025-05-18T00:52:11.642696Z",
     "start_time": "2025-05-18T00:52:11.619345Z"
    }
   },
   "cell_type": "code",
   "source": "",
   "id": "c6d063fac0d9b912",
   "outputs": [
    {
     "name": "stdout",
     "output_type": "stream",
     "text": [
      "[tensor([[-1.1078, -0.6528, -0.4506,  ..., -0.9035, -0.9044, -0.9440],\n",
      "        [ 0.5341,  0.5197,  0.5198,  ...,  1.6592,  1.6904,  1.6325],\n",
      "        [ 0.9585,  1.0222,  1.0050,  ...,  1.0319,  1.2202,  1.2596],\n",
      "        ...,\n",
      "        [ 0.3681,  0.1103, -0.0774,  ...,  0.2793, -0.2774, -0.6388],\n",
      "        [ 0.6633,  0.6686,  0.6131,  ...,  0.8886,  0.7326,  0.2595],\n",
      "        [ 1.7887,  1.7667,  1.6955,  ...,  0.2434,  0.2276,  0.2595]],\n",
      "       device='cuda:0')]\n"
     ]
    }
   ],
   "execution_count": 32
  },
  {
   "metadata": {
    "jupyter": {
     "is_executing": true
    },
    "ExecuteTime": {
     "start_time": "2025-05-18T01:10:27.475631Z"
    }
   },
   "cell_type": "code",
   "source": [
    "aae.train_mbgd(\n",
    "    data_loader=train_loader,\n",
    "    epochs=2000,\n",
    "    prior_std=PRIOR_STD,\n",
    ")"
   ],
   "id": "9ed6f0b5609ba3ba",
   "outputs": [
    {
     "name": "stdout",
     "output_type": "stream",
     "text": [
      "Epoch (1/2000)\t)Recon Loss: 0.1910\t)Disc Loss: 1.3799\t)Gen Loss: 0.7210\t)\n"
     ]
    }
   ],
   "execution_count": null
  },
  {
   "metadata": {
    "ExecuteTime": {
     "end_time": "2025-05-18T01:03:59.646143Z",
     "start_time": "2025-05-18T01:03:59.601673Z"
    }
   },
   "cell_type": "code",
   "source": "save_weights(encoder=aae.encoder, decoder=aae.decoder, discriminator=aae.discriminator, path_prefix=\"2000_tfd_aae_weights\")",
   "id": "50d0476541fddf1",
   "outputs": [
    {
     "name": "stdout",
     "output_type": "stream",
     "text": [
      "Weights saved to 2000_tfd_aae_weights_*.pth\n"
     ]
    }
   ],
   "execution_count": 11
  }
 ],
 "metadata": {},
 "nbformat": 4,
 "nbformat_minor": 5
}
