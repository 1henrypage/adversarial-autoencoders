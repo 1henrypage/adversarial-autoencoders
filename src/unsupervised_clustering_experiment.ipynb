{
 "cells": [
  {
   "cell_type": "code",
   "execution_count": 1,
   "metadata": {},
   "outputs": [],
   "source": [
    "# %% [markdown]\n",
    "# ## Unsupervised AAE – MNIST\n",
    "# Stand-alone version (no inheritance) + clustering accuracy\n",
    "\n",
    "# %%\n",
    "import torch, torch.nn as nn\n",
    "from pathlib import Path\n",
    "import matplotlib.pyplot as plt\n",
    "\n",
    "from unsupervised import (\n",
    "    UAAEConfig,\n",
    "    UnsupervisedAdversarialAutoencoder,\n",
    ")\n",
    "from dataloader import load_mnist_data          # your helper\n"
   ]
  },
  {
   "cell_type": "code",
   "execution_count": 2,
   "metadata": {},
   "outputs": [
    {
     "name": "stdout",
     "output_type": "stream",
     "text": [
      "Train batches: 421  |  Val samples: 6000\n"
     ]
    }
   ],
   "source": [
    "# %%\n",
    "BATCH_SIZE   = 128\n",
    "VAL_FRAC     = 0.10\n",
    "device       = torch.device(\"mps\")\n",
    "\n",
    "# full train/test loaders\n",
    "train_full, test_loader = load_mnist_data(batch_size=BATCH_SIZE, num_samples=-1)\n",
    "\n",
    "# carve a validation split out of the training loader’s dataset\n",
    "full_train_ds = train_full.dataset            # underlying Dataset object\n",
    "n_val         = int(len(full_train_ds) * VAL_FRAC)\n",
    "\n",
    "val_ds, train_ds = torch.utils.data.random_split(\n",
    "    full_train_ds, [n_val, len(full_train_ds) - n_val], generator=torch.Generator().manual_seed(42)\n",
    ")\n",
    "\n",
    "train_loader = torch.utils.data.DataLoader(train_ds, batch_size=BATCH_SIZE, shuffle=True,  drop_last=True)\n",
    "val_loader   = torch.utils.data.DataLoader(val_ds,   batch_size=BATCH_SIZE, shuffle=False)\n",
    "\n",
    "print(f\"Train batches: {len(train_loader)}  |  Val samples: {len(val_ds)}\")\n"
   ]
  },
  {
   "cell_type": "code",
   "execution_count": 3,
   "metadata": {},
   "outputs": [
    {
     "name": "stdout",
     "output_type": "stream",
     "text": [
      "<UnsupervisedAAE input_dim=784, ae_hidden=3000, disc_hidden=3000, latent_dim_categorical=16, latent_dim_style=5, use_decoder_sigmoid=True, recon_loss_fn=MSELoss(), adv_loss_fn=BCEWithLogitsLoss(), device=mps>\n"
     ]
    }
   ],
   "source": [
    "# %%\n",
    "cfg = UAAEConfig(\n",
    "    input_dim   = 784,\n",
    "    ae_hidden   = 3000,\n",
    "    disc_hidden = 3000,\n",
    "    latent_dim_categorical = 16,\n",
    "    latent_dim_style = 5,\n",
    "    device      = device,\n",
    ")\n",
    "\n",
    "model = UnsupervisedAdversarialAutoencoder(cfg)\n",
    "print(model)\n"
   ]
  },
  {
   "cell_type": "code",
   "execution_count": 4,
   "metadata": {},
   "outputs": [
    {
     "data": {
      "application/vnd.jupyter.widget-view+json": {
       "model_id": "2a578a18d4214bb9809e9a2a313f4954",
       "version_major": 2,
       "version_minor": 0
      },
      "text/plain": [
       "Epoch [1/200]:   0%|          | 0/421 [00:00<?, ?it/s]"
      ]
     },
     "metadata": {},
     "output_type": "display_data"
    },
    {
     "name": "stdout",
     "output_type": "stream",
     "text": [
      "Epoch 1/200 - Recon: 0.2301, Disc_Cat: 1.2458, Gen_Cat: 0.7927, Disc_Style: 1.3863, Gen_Style: 0.6933\n"
     ]
    },
    {
     "data": {
      "application/vnd.jupyter.widget-view+json": {
       "model_id": "d0fd47c32adf4850885808e82a86adda",
       "version_major": 2,
       "version_minor": 0
      },
      "text/plain": [
       "Epoch [2/200]:   0%|          | 0/421 [00:00<?, ?it/s]"
      ]
     },
     "metadata": {},
     "output_type": "display_data"
    },
    {
     "name": "stdout",
     "output_type": "stream",
     "text": [
      "Epoch 2/200 - Recon: 0.2273, Disc_Cat: 1.2379, Gen_Cat: 1.0035, Disc_Style: 1.3864, Gen_Style: 0.6931\n"
     ]
    },
    {
     "data": {
      "application/vnd.jupyter.widget-view+json": {
       "model_id": "638e4f72ef914b719c3b07e796799764",
       "version_major": 2,
       "version_minor": 0
      },
      "text/plain": [
       "Epoch [3/200]:   0%|          | 0/421 [00:00<?, ?it/s]"
      ]
     },
     "metadata": {},
     "output_type": "display_data"
    },
    {
     "name": "stdout",
     "output_type": "stream",
     "text": [
      "Epoch 3/200 - Recon: 0.2241, Disc_Cat: 1.2758, Gen_Cat: 0.9532, Disc_Style: 1.3863, Gen_Style: 0.6932\n"
     ]
    },
    {
     "data": {
      "application/vnd.jupyter.widget-view+json": {
       "model_id": "ea81e2e665ea4e6fb9eee0765a80ccef",
       "version_major": 2,
       "version_minor": 0
      },
      "text/plain": [
       "Epoch [4/200]:   0%|          | 0/421 [00:00<?, ?it/s]"
      ]
     },
     "metadata": {},
     "output_type": "display_data"
    },
    {
     "name": "stdout",
     "output_type": "stream",
     "text": [
      "Epoch 4/200 - Recon: 0.2199, Disc_Cat: 1.2888, Gen_Cat: 0.9334, Disc_Style: 1.3863, Gen_Style: 0.6932\n"
     ]
    },
    {
     "data": {
      "application/vnd.jupyter.widget-view+json": {
       "model_id": "48bbc6127380413cbf6ab8e67e7808ac",
       "version_major": 2,
       "version_minor": 0
      },
      "text/plain": [
       "Epoch [5/200]:   0%|          | 0/421 [00:00<?, ?it/s]"
      ]
     },
     "metadata": {},
     "output_type": "display_data"
    },
    {
     "name": "stdout",
     "output_type": "stream",
     "text": [
      "Validation Clustering Accuracy: 74.57%\n",
      "Epoch 5/200 - Recon: 0.2133, Disc_Cat: 1.2963, Gen_Cat: 0.9236, Disc_Style: 1.3863, Gen_Style: 0.6934\n"
     ]
    },
    {
     "data": {
      "application/vnd.jupyter.widget-view+json": {
       "model_id": "351ee398c5e540a489a79b69a3f4e2d8",
       "version_major": 2,
       "version_minor": 0
      },
      "text/plain": [
       "Epoch [6/200]:   0%|          | 0/421 [00:00<?, ?it/s]"
      ]
     },
     "metadata": {},
     "output_type": "display_data"
    },
    {
     "name": "stdout",
     "output_type": "stream",
     "text": [
      "Epoch 6/200 - Recon: 0.2010, Disc_Cat: 1.3073, Gen_Cat: 0.9081, Disc_Style: 1.3863, Gen_Style: 0.6933\n"
     ]
    },
    {
     "data": {
      "application/vnd.jupyter.widget-view+json": {
       "model_id": "15fa1d7c3d724435a7aedcf1d0b4010e",
       "version_major": 2,
       "version_minor": 0
      },
      "text/plain": [
       "Epoch [7/200]:   0%|          | 0/421 [00:00<?, ?it/s]"
      ]
     },
     "metadata": {},
     "output_type": "display_data"
    },
    {
     "name": "stdout",
     "output_type": "stream",
     "text": [
      "Epoch 7/200 - Recon: 0.1737, Disc_Cat: 1.3056, Gen_Cat: 0.9071, Disc_Style: 1.3863, Gen_Style: 0.6932\n"
     ]
    },
    {
     "data": {
      "application/vnd.jupyter.widget-view+json": {
       "model_id": "670c48a45c12485596abc0810a26e8fc",
       "version_major": 2,
       "version_minor": 0
      },
      "text/plain": [
       "Epoch [8/200]:   0%|          | 0/421 [00:00<?, ?it/s]"
      ]
     },
     "metadata": {},
     "output_type": "display_data"
    },
    {
     "name": "stdout",
     "output_type": "stream",
     "text": [
      "Epoch 8/200 - Recon: 0.1215, Disc_Cat: 1.3073, Gen_Cat: 0.9074, Disc_Style: 1.3862, Gen_Style: 0.6935\n"
     ]
    },
    {
     "data": {
      "application/vnd.jupyter.widget-view+json": {
       "model_id": "2f0c5d45c0fd4c2d876701cceb544236",
       "version_major": 2,
       "version_minor": 0
      },
      "text/plain": [
       "Epoch [9/200]:   0%|          | 0/421 [00:00<?, ?it/s]"
      ]
     },
     "metadata": {},
     "output_type": "display_data"
    },
    {
     "name": "stdout",
     "output_type": "stream",
     "text": [
      "Epoch 9/200 - Recon: 0.0826, Disc_Cat: 1.2821, Gen_Cat: 0.9194, Disc_Style: 1.3862, Gen_Style: 0.6932\n"
     ]
    },
    {
     "data": {
      "application/vnd.jupyter.widget-view+json": {
       "model_id": "a24ef3ff7de947b2bef3172ebf095cde",
       "version_major": 2,
       "version_minor": 0
      },
      "text/plain": [
       "Epoch [10/200]:   0%|          | 0/421 [00:00<?, ?it/s]"
      ]
     },
     "metadata": {},
     "output_type": "display_data"
    },
    {
     "name": "stdout",
     "output_type": "stream",
     "text": [
      "Validation Clustering Accuracy: 73.60%\n",
      "Epoch 10/200 - Recon: 0.0722, Disc_Cat: 1.2787, Gen_Cat: 0.9134, Disc_Style: 1.3863, Gen_Style: 0.6931\n"
     ]
    },
    {
     "data": {
      "application/vnd.jupyter.widget-view+json": {
       "model_id": "1267d20afbfb4399a0571ea068ed087f",
       "version_major": 2,
       "version_minor": 0
      },
      "text/plain": [
       "Epoch [11/200]:   0%|          | 0/421 [00:00<?, ?it/s]"
      ]
     },
     "metadata": {},
     "output_type": "display_data"
    },
    {
     "name": "stdout",
     "output_type": "stream",
     "text": [
      "Epoch 11/200 - Recon: 0.0694, Disc_Cat: 1.2813, Gen_Cat: 0.9090, Disc_Style: 1.3863, Gen_Style: 0.6933\n"
     ]
    },
    {
     "data": {
      "application/vnd.jupyter.widget-view+json": {
       "model_id": "4ba11e0701974b58a823ae67901482bc",
       "version_major": 2,
       "version_minor": 0
      },
      "text/plain": [
       "Epoch [12/200]:   0%|          | 0/421 [00:00<?, ?it/s]"
      ]
     },
     "metadata": {},
     "output_type": "display_data"
    },
    {
     "name": "stdout",
     "output_type": "stream",
     "text": [
      "Epoch 12/200 - Recon: 0.0682, Disc_Cat: 1.2800, Gen_Cat: 0.9144, Disc_Style: 1.3863, Gen_Style: 0.6932\n"
     ]
    },
    {
     "data": {
      "application/vnd.jupyter.widget-view+json": {
       "model_id": "b0406da5b9d447db9028fbea64dc79d1",
       "version_major": 2,
       "version_minor": 0
      },
      "text/plain": [
       "Epoch [13/200]:   0%|          | 0/421 [00:00<?, ?it/s]"
      ]
     },
     "metadata": {},
     "output_type": "display_data"
    },
    {
     "name": "stdout",
     "output_type": "stream",
     "text": [
      "Epoch 13/200 - Recon: 0.0677, Disc_Cat: 1.2828, Gen_Cat: 0.9110, Disc_Style: 1.3863, Gen_Style: 0.6932\n"
     ]
    },
    {
     "data": {
      "application/vnd.jupyter.widget-view+json": {
       "model_id": "5b81ec6c83b249d783c18417da1f7e53",
       "version_major": 2,
       "version_minor": 0
      },
      "text/plain": [
       "Epoch [14/200]:   0%|          | 0/421 [00:00<?, ?it/s]"
      ]
     },
     "metadata": {},
     "output_type": "display_data"
    },
    {
     "name": "stdout",
     "output_type": "stream",
     "text": [
      "Epoch 14/200 - Recon: 0.0672, Disc_Cat: 1.2690, Gen_Cat: 0.9327, Disc_Style: 1.3863, Gen_Style: 0.6931\n"
     ]
    },
    {
     "data": {
      "application/vnd.jupyter.widget-view+json": {
       "model_id": "dd26f08099f7499caee685ca6a8d1437",
       "version_major": 2,
       "version_minor": 0
      },
      "text/plain": [
       "Epoch [15/200]:   0%|          | 0/421 [00:00<?, ?it/s]"
      ]
     },
     "metadata": {},
     "output_type": "display_data"
    },
    {
     "name": "stdout",
     "output_type": "stream",
     "text": [
      "Validation Clustering Accuracy: 68.80%\n",
      "Epoch 15/200 - Recon: 0.0669, Disc_Cat: 1.2461, Gen_Cat: 0.9341, Disc_Style: 1.3863, Gen_Style: 0.6933\n"
     ]
    },
    {
     "data": {
      "application/vnd.jupyter.widget-view+json": {
       "model_id": "b23931f380e84ca5ad1e3a3f18974efe",
       "version_major": 2,
       "version_minor": 0
      },
      "text/plain": [
       "Epoch [16/200]:   0%|          | 0/421 [00:00<?, ?it/s]"
      ]
     },
     "metadata": {},
     "output_type": "display_data"
    },
    {
     "name": "stdout",
     "output_type": "stream",
     "text": [
      "Epoch 16/200 - Recon: 0.0666, Disc_Cat: 1.2442, Gen_Cat: 0.9371, Disc_Style: 1.3863, Gen_Style: 0.6932\n"
     ]
    },
    {
     "data": {
      "application/vnd.jupyter.widget-view+json": {
       "model_id": "d201b2fef55f418cb0ae84c3d6151495",
       "version_major": 2,
       "version_minor": 0
      },
      "text/plain": [
       "Epoch [17/200]:   0%|          | 0/421 [00:00<?, ?it/s]"
      ]
     },
     "metadata": {},
     "output_type": "display_data"
    },
    {
     "name": "stdout",
     "output_type": "stream",
     "text": [
      "Epoch 17/200 - Recon: 0.0664, Disc_Cat: 1.2478, Gen_Cat: 0.9317, Disc_Style: 1.3863, Gen_Style: 0.6932\n"
     ]
    },
    {
     "data": {
      "application/vnd.jupyter.widget-view+json": {
       "model_id": "133ad063d28941159d00c81172a75cdf",
       "version_major": 2,
       "version_minor": 0
      },
      "text/plain": [
       "Epoch [18/200]:   0%|          | 0/421 [00:00<?, ?it/s]"
      ]
     },
     "metadata": {},
     "output_type": "display_data"
    },
    {
     "name": "stdout",
     "output_type": "stream",
     "text": [
      "Epoch 18/200 - Recon: 0.0662, Disc_Cat: 1.2472, Gen_Cat: 0.9367, Disc_Style: 1.3863, Gen_Style: 0.6933\n"
     ]
    },
    {
     "data": {
      "application/vnd.jupyter.widget-view+json": {
       "model_id": "eb243b1c134e49728924e205c1c169cb",
       "version_major": 2,
       "version_minor": 0
      },
      "text/plain": [
       "Epoch [19/200]:   0%|          | 0/421 [00:00<?, ?it/s]"
      ]
     },
     "metadata": {},
     "output_type": "display_data"
    },
    {
     "name": "stdout",
     "output_type": "stream",
     "text": [
      "Epoch 19/200 - Recon: 0.0660, Disc_Cat: 1.2455, Gen_Cat: 0.9317, Disc_Style: 1.3863, Gen_Style: 0.6934\n"
     ]
    },
    {
     "data": {
      "application/vnd.jupyter.widget-view+json": {
       "model_id": "cb932df06185435888c020126f7a6eb4",
       "version_major": 2,
       "version_minor": 0
      },
      "text/plain": [
       "Epoch [20/200]:   0%|          | 0/421 [00:00<?, ?it/s]"
      ]
     },
     "metadata": {},
     "output_type": "display_data"
    },
    {
     "name": "stdout",
     "output_type": "stream",
     "text": [
      "Validation Clustering Accuracy: 68.13%\n",
      "Epoch 20/200 - Recon: 0.0658, Disc_Cat: 1.2528, Gen_Cat: 0.9207, Disc_Style: 1.3863, Gen_Style: 0.6931\n"
     ]
    },
    {
     "data": {
      "application/vnd.jupyter.widget-view+json": {
       "model_id": "5aa178fb5bec48909644aa7dc61fec78",
       "version_major": 2,
       "version_minor": 0
      },
      "text/plain": [
       "Epoch [21/200]:   0%|          | 0/421 [00:00<?, ?it/s]"
      ]
     },
     "metadata": {},
     "output_type": "display_data"
    },
    {
     "name": "stdout",
     "output_type": "stream",
     "text": [
      "Epoch 21/200 - Recon: 0.0657, Disc_Cat: 1.2540, Gen_Cat: 0.9136, Disc_Style: 1.3863, Gen_Style: 0.6932\n"
     ]
    },
    {
     "data": {
      "application/vnd.jupyter.widget-view+json": {
       "model_id": "1fb8736f391d4acfb721efc36767d1b7",
       "version_major": 2,
       "version_minor": 0
      },
      "text/plain": [
       "Epoch [22/200]:   0%|          | 0/421 [00:00<?, ?it/s]"
      ]
     },
     "metadata": {},
     "output_type": "display_data"
    },
    {
     "name": "stdout",
     "output_type": "stream",
     "text": [
      "Epoch 22/200 - Recon: 0.0656, Disc_Cat: 1.2503, Gen_Cat: 0.9164, Disc_Style: 1.3863, Gen_Style: 0.6932\n"
     ]
    },
    {
     "data": {
      "application/vnd.jupyter.widget-view+json": {
       "model_id": "1ea6c053978249de96e455d74e7a4956",
       "version_major": 2,
       "version_minor": 0
      },
      "text/plain": [
       "Epoch [23/200]:   0%|          | 0/421 [00:00<?, ?it/s]"
      ]
     },
     "metadata": {},
     "output_type": "display_data"
    },
    {
     "name": "stdout",
     "output_type": "stream",
     "text": [
      "Epoch 23/200 - Recon: 0.0655, Disc_Cat: 1.2488, Gen_Cat: 0.9229, Disc_Style: 1.3863, Gen_Style: 0.6932\n"
     ]
    },
    {
     "data": {
      "application/vnd.jupyter.widget-view+json": {
       "model_id": "6c2358033bbf4504b76c3b48bf044992",
       "version_major": 2,
       "version_minor": 0
      },
      "text/plain": [
       "Epoch [24/200]:   0%|          | 0/421 [00:00<?, ?it/s]"
      ]
     },
     "metadata": {},
     "output_type": "display_data"
    },
    {
     "name": "stdout",
     "output_type": "stream",
     "text": [
      "Epoch 24/200 - Recon: 0.0655, Disc_Cat: 1.2463, Gen_Cat: 0.9253, Disc_Style: 1.3863, Gen_Style: 0.6933\n"
     ]
    },
    {
     "data": {
      "application/vnd.jupyter.widget-view+json": {
       "model_id": "b44db3c153bb45489decc3cc8edba7b9",
       "version_major": 2,
       "version_minor": 0
      },
      "text/plain": [
       "Epoch [25/200]:   0%|          | 0/421 [00:00<?, ?it/s]"
      ]
     },
     "metadata": {},
     "output_type": "display_data"
    },
    {
     "name": "stdout",
     "output_type": "stream",
     "text": [
      "Validation Clustering Accuracy: 69.50%\n",
      "Epoch 25/200 - Recon: 0.0653, Disc_Cat: 1.2470, Gen_Cat: 0.9281, Disc_Style: 1.3862, Gen_Style: 0.6932\n"
     ]
    },
    {
     "data": {
      "application/vnd.jupyter.widget-view+json": {
       "model_id": "52b7467ea5b04d65ac51728e96406be6",
       "version_major": 2,
       "version_minor": 0
      },
      "text/plain": [
       "Epoch [26/200]:   0%|          | 0/421 [00:00<?, ?it/s]"
      ]
     },
     "metadata": {},
     "output_type": "display_data"
    },
    {
     "name": "stdout",
     "output_type": "stream",
     "text": [
      "Epoch 26/200 - Recon: 0.0653, Disc_Cat: 1.2605, Gen_Cat: 0.9242, Disc_Style: 1.3863, Gen_Style: 0.6932\n"
     ]
    },
    {
     "data": {
      "application/vnd.jupyter.widget-view+json": {
       "model_id": "fc3ce633bfc44d4fbd16f6de8f8454e5",
       "version_major": 2,
       "version_minor": 0
      },
      "text/plain": [
       "Epoch [27/200]:   0%|          | 0/421 [00:00<?, ?it/s]"
      ]
     },
     "metadata": {},
     "output_type": "display_data"
    },
    {
     "name": "stdout",
     "output_type": "stream",
     "text": [
      "Epoch 27/200 - Recon: 0.0651, Disc_Cat: 1.2451, Gen_Cat: 0.9339, Disc_Style: 1.3862, Gen_Style: 0.6933\n"
     ]
    },
    {
     "data": {
      "application/vnd.jupyter.widget-view+json": {
       "model_id": "e2cf44b89a03470f99b4f7a527816d15",
       "version_major": 2,
       "version_minor": 0
      },
      "text/plain": [
       "Epoch [28/200]:   0%|          | 0/421 [00:00<?, ?it/s]"
      ]
     },
     "metadata": {},
     "output_type": "display_data"
    },
    {
     "name": "stdout",
     "output_type": "stream",
     "text": [
      "Epoch 28/200 - Recon: 0.0650, Disc_Cat: 1.2485, Gen_Cat: 0.9286, Disc_Style: 1.3863, Gen_Style: 0.6933\n"
     ]
    },
    {
     "data": {
      "application/vnd.jupyter.widget-view+json": {
       "model_id": "edf39189e15f46c7ac4cb5c2e76f659c",
       "version_major": 2,
       "version_minor": 0
      },
      "text/plain": [
       "Epoch [29/200]:   0%|          | 0/421 [00:00<?, ?it/s]"
      ]
     },
     "metadata": {},
     "output_type": "display_data"
    },
    {
     "name": "stdout",
     "output_type": "stream",
     "text": [
      "Epoch 29/200 - Recon: 0.0650, Disc_Cat: 1.2521, Gen_Cat: 0.9162, Disc_Style: 1.3863, Gen_Style: 0.6931\n"
     ]
    },
    {
     "data": {
      "application/vnd.jupyter.widget-view+json": {
       "model_id": "e3c8a02f28784c148bb5c8396a321fcd",
       "version_major": 2,
       "version_minor": 0
      },
      "text/plain": [
       "Epoch [30/200]:   0%|          | 0/421 [00:00<?, ?it/s]"
      ]
     },
     "metadata": {},
     "output_type": "display_data"
    },
    {
     "name": "stdout",
     "output_type": "stream",
     "text": [
      "Validation Clustering Accuracy: 67.68%\n",
      "Epoch 30/200 - Recon: 0.0650, Disc_Cat: 1.2531, Gen_Cat: 0.9195, Disc_Style: 1.3863, Gen_Style: 0.6934\n"
     ]
    },
    {
     "data": {
      "application/vnd.jupyter.widget-view+json": {
       "model_id": "681152795ed84affaafd208c218fe496",
       "version_major": 2,
       "version_minor": 0
      },
      "text/plain": [
       "Epoch [31/200]:   0%|          | 0/421 [00:00<?, ?it/s]"
      ]
     },
     "metadata": {},
     "output_type": "display_data"
    },
    {
     "name": "stdout",
     "output_type": "stream",
     "text": [
      "Epoch 31/200 - Recon: 0.0649, Disc_Cat: 1.2504, Gen_Cat: 0.9184, Disc_Style: 1.3863, Gen_Style: 0.6931\n"
     ]
    },
    {
     "data": {
      "application/vnd.jupyter.widget-view+json": {
       "model_id": "5c93972569ca4dd0b0d2bad64796dcac",
       "version_major": 2,
       "version_minor": 0
      },
      "text/plain": [
       "Epoch [32/200]:   0%|          | 0/421 [00:00<?, ?it/s]"
      ]
     },
     "metadata": {},
     "output_type": "display_data"
    },
    {
     "name": "stdout",
     "output_type": "stream",
     "text": [
      "Epoch 32/200 - Recon: 0.0648, Disc_Cat: 1.2496, Gen_Cat: 0.9203, Disc_Style: 1.3863, Gen_Style: 0.6933\n"
     ]
    },
    {
     "data": {
      "application/vnd.jupyter.widget-view+json": {
       "model_id": "aed6936ca2864b8084b5b5d57852bf61",
       "version_major": 2,
       "version_minor": 0
      },
      "text/plain": [
       "Epoch [33/200]:   0%|          | 0/421 [00:00<?, ?it/s]"
      ]
     },
     "metadata": {},
     "output_type": "display_data"
    },
    {
     "name": "stdout",
     "output_type": "stream",
     "text": [
      "Epoch 33/200 - Recon: 0.0647, Disc_Cat: 1.2513, Gen_Cat: 0.9178, Disc_Style: 1.3863, Gen_Style: 0.6931\n"
     ]
    },
    {
     "data": {
      "application/vnd.jupyter.widget-view+json": {
       "model_id": "15e1f7e7a0704f199dbc4526ef035bb1",
       "version_major": 2,
       "version_minor": 0
      },
      "text/plain": [
       "Epoch [34/200]:   0%|          | 0/421 [00:00<?, ?it/s]"
      ]
     },
     "metadata": {},
     "output_type": "display_data"
    },
    {
     "name": "stdout",
     "output_type": "stream",
     "text": [
      "Epoch 34/200 - Recon: 0.0646, Disc_Cat: 1.2547, Gen_Cat: 0.9098, Disc_Style: 1.3862, Gen_Style: 0.6933\n"
     ]
    },
    {
     "data": {
      "application/vnd.jupyter.widget-view+json": {
       "model_id": "223ed72545d44bc2986d1872b8285e6c",
       "version_major": 2,
       "version_minor": 0
      },
      "text/plain": [
       "Epoch [35/200]:   0%|          | 0/421 [00:00<?, ?it/s]"
      ]
     },
     "metadata": {},
     "output_type": "display_data"
    },
    {
     "name": "stdout",
     "output_type": "stream",
     "text": [
      "Validation Clustering Accuracy: 66.02%\n",
      "Epoch 35/200 - Recon: 0.0645, Disc_Cat: 1.2576, Gen_Cat: 0.9050, Disc_Style: 1.3862, Gen_Style: 0.6933\n"
     ]
    },
    {
     "data": {
      "application/vnd.jupyter.widget-view+json": {
       "model_id": "b938163fba4e4bc69cebdabc073a554c",
       "version_major": 2,
       "version_minor": 0
      },
      "text/plain": [
       "Epoch [36/200]:   0%|          | 0/421 [00:00<?, ?it/s]"
      ]
     },
     "metadata": {},
     "output_type": "display_data"
    },
    {
     "name": "stdout",
     "output_type": "stream",
     "text": [
      "Epoch 36/200 - Recon: 0.0645, Disc_Cat: 1.2588, Gen_Cat: 0.9027, Disc_Style: 1.3863, Gen_Style: 0.6931\n"
     ]
    },
    {
     "data": {
      "application/vnd.jupyter.widget-view+json": {
       "model_id": "ae52de0479a44b35941b98831be81f2a",
       "version_major": 2,
       "version_minor": 0
      },
      "text/plain": [
       "Epoch [37/200]:   0%|          | 0/421 [00:00<?, ?it/s]"
      ]
     },
     "metadata": {},
     "output_type": "display_data"
    },
    {
     "name": "stdout",
     "output_type": "stream",
     "text": [
      "Epoch 37/200 - Recon: 0.0644, Disc_Cat: 1.2563, Gen_Cat: 0.9070, Disc_Style: 1.3863, Gen_Style: 0.6932\n"
     ]
    },
    {
     "data": {
      "application/vnd.jupyter.widget-view+json": {
       "model_id": "dc63500b159a41a1bcd83a306c090999",
       "version_major": 2,
       "version_minor": 0
      },
      "text/plain": [
       "Epoch [38/200]:   0%|          | 0/421 [00:00<?, ?it/s]"
      ]
     },
     "metadata": {},
     "output_type": "display_data"
    },
    {
     "name": "stdout",
     "output_type": "stream",
     "text": [
      "Epoch 38/200 - Recon: 0.0643, Disc_Cat: 1.2543, Gen_Cat: 0.9130, Disc_Style: 1.3862, Gen_Style: 0.6932\n"
     ]
    },
    {
     "data": {
      "application/vnd.jupyter.widget-view+json": {
       "model_id": "c88329dcb6ab430ba8ba88c27687dd94",
       "version_major": 2,
       "version_minor": 0
      },
      "text/plain": [
       "Epoch [39/200]:   0%|          | 0/421 [00:00<?, ?it/s]"
      ]
     },
     "metadata": {},
     "output_type": "display_data"
    },
    {
     "name": "stdout",
     "output_type": "stream",
     "text": [
      "Epoch 39/200 - Recon: 0.0642, Disc_Cat: 1.2557, Gen_Cat: 0.9073, Disc_Style: 1.3863, Gen_Style: 0.6933\n"
     ]
    },
    {
     "data": {
      "application/vnd.jupyter.widget-view+json": {
       "model_id": "bab9cd9f1b8f435b9d896f96a077bf2e",
       "version_major": 2,
       "version_minor": 0
      },
      "text/plain": [
       "Epoch [40/200]:   0%|          | 0/421 [00:00<?, ?it/s]"
      ]
     },
     "metadata": {},
     "output_type": "display_data"
    },
    {
     "name": "stdout",
     "output_type": "stream",
     "text": [
      "Validation Clustering Accuracy: 67.00%\n",
      "Epoch 40/200 - Recon: 0.0641, Disc_Cat: 1.2560, Gen_Cat: 0.9035, Disc_Style: 1.3863, Gen_Style: 0.6931\n"
     ]
    },
    {
     "data": {
      "application/vnd.jupyter.widget-view+json": {
       "model_id": "773fe28f51d64682ac0aed436d962c4d",
       "version_major": 2,
       "version_minor": 0
      },
      "text/plain": [
       "Epoch [41/200]:   0%|          | 0/421 [00:00<?, ?it/s]"
      ]
     },
     "metadata": {},
     "output_type": "display_data"
    },
    {
     "name": "stdout",
     "output_type": "stream",
     "text": [
      "Epoch 41/200 - Recon: 0.0640, Disc_Cat: 1.2546, Gen_Cat: 0.9071, Disc_Style: 1.3863, Gen_Style: 0.6932\n"
     ]
    },
    {
     "data": {
      "application/vnd.jupyter.widget-view+json": {
       "model_id": "9c7359d3be84418aa04022832478c7d6",
       "version_major": 2,
       "version_minor": 0
      },
      "text/plain": [
       "Epoch [42/200]:   0%|          | 0/421 [00:00<?, ?it/s]"
      ]
     },
     "metadata": {},
     "output_type": "display_data"
    },
    {
     "name": "stdout",
     "output_type": "stream",
     "text": [
      "Epoch 42/200 - Recon: 0.0639, Disc_Cat: 1.2543, Gen_Cat: 0.9062, Disc_Style: 1.3863, Gen_Style: 0.6933\n"
     ]
    },
    {
     "data": {
      "application/vnd.jupyter.widget-view+json": {
       "model_id": "8f7bc6177c204e9686676e206298fdec",
       "version_major": 2,
       "version_minor": 0
      },
      "text/plain": [
       "Epoch [43/200]:   0%|          | 0/421 [00:00<?, ?it/s]"
      ]
     },
     "metadata": {},
     "output_type": "display_data"
    },
    {
     "name": "stdout",
     "output_type": "stream",
     "text": [
      "Epoch 43/200 - Recon: 0.0639, Disc_Cat: 1.2570, Gen_Cat: 0.9021, Disc_Style: 1.3863, Gen_Style: 0.6931\n"
     ]
    },
    {
     "data": {
      "application/vnd.jupyter.widget-view+json": {
       "model_id": "5c5258fd47694178a41db50d45c030b2",
       "version_major": 2,
       "version_minor": 0
      },
      "text/plain": [
       "Epoch [44/200]:   0%|          | 0/421 [00:00<?, ?it/s]"
      ]
     },
     "metadata": {},
     "output_type": "display_data"
    },
    {
     "name": "stdout",
     "output_type": "stream",
     "text": [
      "Epoch 44/200 - Recon: 0.0638, Disc_Cat: 1.2588, Gen_Cat: 0.8997, Disc_Style: 1.3863, Gen_Style: 0.6932\n"
     ]
    },
    {
     "data": {
      "application/vnd.jupyter.widget-view+json": {
       "model_id": "c8674d3db9254f36880cc784d4e1d13f",
       "version_major": 2,
       "version_minor": 0
      },
      "text/plain": [
       "Epoch [45/200]:   0%|          | 0/421 [00:00<?, ?it/s]"
      ]
     },
     "metadata": {},
     "output_type": "display_data"
    },
    {
     "name": "stdout",
     "output_type": "stream",
     "text": [
      "Validation Clustering Accuracy: 67.55%\n",
      "Epoch 45/200 - Recon: 0.0637, Disc_Cat: 1.2605, Gen_Cat: 0.8944, Disc_Style: 1.3863, Gen_Style: 0.6933\n"
     ]
    },
    {
     "data": {
      "application/vnd.jupyter.widget-view+json": {
       "model_id": "0aa07b24012a4ae0b413c5e52a1cda5f",
       "version_major": 2,
       "version_minor": 0
      },
      "text/plain": [
       "Epoch [46/200]:   0%|          | 0/421 [00:00<?, ?it/s]"
      ]
     },
     "metadata": {},
     "output_type": "display_data"
    },
    {
     "name": "stdout",
     "output_type": "stream",
     "text": [
      "Epoch 46/200 - Recon: 0.0636, Disc_Cat: 1.2557, Gen_Cat: 0.9029, Disc_Style: 1.3863, Gen_Style: 0.6932\n"
     ]
    },
    {
     "data": {
      "application/vnd.jupyter.widget-view+json": {
       "model_id": "6c258b96fd6f499c974bc7d2c189e1a2",
       "version_major": 2,
       "version_minor": 0
      },
      "text/plain": [
       "Epoch [47/200]:   0%|          | 0/421 [00:00<?, ?it/s]"
      ]
     },
     "metadata": {},
     "output_type": "display_data"
    },
    {
     "name": "stdout",
     "output_type": "stream",
     "text": [
      "Epoch 47/200 - Recon: 0.0635, Disc_Cat: 1.2586, Gen_Cat: 0.8942, Disc_Style: 1.3862, Gen_Style: 0.6933\n"
     ]
    },
    {
     "data": {
      "application/vnd.jupyter.widget-view+json": {
       "model_id": "89840cc147464300a1492c4b4930c8aa",
       "version_major": 2,
       "version_minor": 0
      },
      "text/plain": [
       "Epoch [48/200]:   0%|          | 0/421 [00:00<?, ?it/s]"
      ]
     },
     "metadata": {},
     "output_type": "display_data"
    },
    {
     "name": "stdout",
     "output_type": "stream",
     "text": [
      "Epoch 48/200 - Recon: 0.0634, Disc_Cat: 1.2586, Gen_Cat: 0.8963, Disc_Style: 1.3863, Gen_Style: 0.6933\n"
     ]
    },
    {
     "data": {
      "application/vnd.jupyter.widget-view+json": {
       "model_id": "e1421415b2a14cb2af82fa1d4dda5fd3",
       "version_major": 2,
       "version_minor": 0
      },
      "text/plain": [
       "Epoch [49/200]:   0%|          | 0/421 [00:00<?, ?it/s]"
      ]
     },
     "metadata": {},
     "output_type": "display_data"
    },
    {
     "name": "stdout",
     "output_type": "stream",
     "text": [
      "Epoch 49/200 - Recon: 0.0632, Disc_Cat: 1.2593, Gen_Cat: 0.8970, Disc_Style: 1.3862, Gen_Style: 0.6932\n"
     ]
    },
    {
     "data": {
      "application/vnd.jupyter.widget-view+json": {
       "model_id": "789cf72855b84cf6a56d5b21666e44a4",
       "version_major": 2,
       "version_minor": 0
      },
      "text/plain": [
       "Epoch [50/200]:   0%|          | 0/421 [00:00<?, ?it/s]"
      ]
     },
     "metadata": {},
     "output_type": "display_data"
    },
    {
     "name": "stdout",
     "output_type": "stream",
     "text": [
      "Validation Clustering Accuracy: 66.80%\n",
      "Epoch 50/200 - Recon: 0.0632, Disc_Cat: 1.2517, Gen_Cat: 0.8840, Disc_Style: 1.3862, Gen_Style: 0.6928\n"
     ]
    },
    {
     "ename": "TypeError",
     "evalue": "save_weights() got multiple values for argument 'path_prefix'",
     "output_type": "error",
     "traceback": [
      "\u001b[31m---------------------------------------------------------------------------\u001b[39m",
      "\u001b[31mTypeError\u001b[39m                                 Traceback (most recent call last)",
      "\u001b[36mCell\u001b[39m\u001b[36m \u001b[39m\u001b[32mIn[4]\u001b[39m\u001b[32m, line 2\u001b[39m\n\u001b[32m      1\u001b[39m \u001b[38;5;66;03m# %%\u001b[39;00m\n\u001b[32m----> \u001b[39m\u001b[32m2\u001b[39m \u001b[43mmodel\u001b[49m\u001b[43m.\u001b[49m\u001b[43mfit\u001b[49m\u001b[43m(\u001b[49m\n\u001b[32m      3\u001b[39m \u001b[43m    \u001b[49m\u001b[43mtrain_loader\u001b[49m\u001b[43m  \u001b[49m\u001b[43m=\u001b[49m\u001b[43m \u001b[49m\u001b[43mtrain_loader\u001b[49m\u001b[43m,\u001b[49m\n\u001b[32m      4\u001b[39m \u001b[43m    \u001b[49m\u001b[43mval_loader\u001b[49m\u001b[43m  \u001b[49m\u001b[43m=\u001b[49m\u001b[43m \u001b[49m\u001b[43mval_loader\u001b[49m\u001b[43m,\u001b[49m\u001b[43m     \u001b[49m\u001b[38;5;66;43;03m# gives val accuracy each epoch\u001b[39;49;00m\n\u001b[32m      5\u001b[39m \u001b[43m    \u001b[49m\u001b[43mepochs\u001b[49m\u001b[43m      \u001b[49m\u001b[43m=\u001b[49m\u001b[43m \u001b[49m\u001b[32;43m200\u001b[39;49m\u001b[43m,\u001b[49m\u001b[43m \u001b[49m\u001b[38;5;66;43;03m# 1500\u001b[39;49;00m\n\u001b[32m      6\u001b[39m \u001b[43m    \u001b[49m\u001b[43mprior_std\u001b[49m\u001b[43m   \u001b[49m\u001b[43m=\u001b[49m\u001b[43m \u001b[49m\u001b[32;43m1.0\u001b[39;49m\u001b[43m,\u001b[49m\n\u001b[32m      7\u001b[39m \u001b[43m    \u001b[49m\u001b[43mresult_folder\u001b[49m\u001b[43m     \u001b[49m\u001b[43m=\u001b[49m\u001b[43m \u001b[49m\u001b[43mPath\u001b[49m\u001b[43m(\u001b[49m\u001b[33;43m\"\u001b[39;49m\u001b[33;43mruns/unsup_aae\u001b[39;49m\u001b[33;43m\"\u001b[39;49m\u001b[43m)\u001b[49m\u001b[43m,\u001b[49m\n\u001b[32m      8\u001b[39m \u001b[43m)\u001b[49m\n",
      "\u001b[36mFile \u001b[39m\u001b[32m~/Projects/Delft/Q4/adversarial-autoencoders/src/unsupervised.py:250\u001b[39m, in \u001b[36mUnsupervisedAdversarialAutoencoder.fit\u001b[39m\u001b[34m(self, train_loader, val_loader, epochs, result_folder, prior_std)\u001b[39m\n\u001b[32m    248\u001b[39m \u001b[38;5;28;01mif\u001b[39;00m (epoch + \u001b[32m1\u001b[39m) % \u001b[32m50\u001b[39m == \u001b[32m0\u001b[39m:\n\u001b[32m    249\u001b[39m     os.makedirs(\u001b[33mf\u001b[39m\u001b[33m'\u001b[39m\u001b[38;5;132;01m{\u001b[39;00mresult_folder\u001b[38;5;132;01m}\u001b[39;00m\u001b[33m/weights_epoch_\u001b[39m\u001b[38;5;132;01m{\u001b[39;00mepoch+\u001b[32m1\u001b[39m\u001b[38;5;132;01m}\u001b[39;00m\u001b[33m'\u001b[39m, exist_ok=\u001b[38;5;28;01mTrue\u001b[39;00m)\n\u001b[32m--> \u001b[39m\u001b[32m250\u001b[39m     \u001b[38;5;28;43mself\u001b[39;49m\u001b[43m.\u001b[49m\u001b[43msave_weights\u001b[49m\u001b[43m(\u001b[49m\u001b[33;43mf\u001b[39;49m\u001b[33;43m'\u001b[39;49m\u001b[38;5;132;43;01m{\u001b[39;49;00m\u001b[43mresult_folder\u001b[49m\u001b[38;5;132;43;01m}\u001b[39;49;00m\u001b[33;43m/weights_epoch_\u001b[39;49m\u001b[38;5;132;43;01m{\u001b[39;49;00m\u001b[43mepoch\u001b[49m\u001b[43m+\u001b[49m\u001b[32;43m1\u001b[39;49m\u001b[38;5;132;43;01m}\u001b[39;49;00m\u001b[33;43m/weights\u001b[39;49m\u001b[33;43m'\u001b[39;49m\u001b[43m)\u001b[49m\n",
      "\u001b[36mFile \u001b[39m\u001b[32m~/Projects/Delft/Q4/adversarial-autoencoders/src/unsupervised.py:290\u001b[39m, in \u001b[36mUnsupervisedAdversarialAutoencoder.save_weights\u001b[39m\u001b[34m(self, prefix)\u001b[39m\n\u001b[32m    289\u001b[39m \u001b[38;5;28;01mdef\u001b[39;00m\u001b[38;5;250m \u001b[39m\u001b[34msave_weights\u001b[39m(\u001b[38;5;28mself\u001b[39m, prefix: Path | \u001b[38;5;28mstr\u001b[39m):\n\u001b[32m--> \u001b[39m\u001b[32m290\u001b[39m     \u001b[43msave_weights\u001b[49m\u001b[43m(\u001b[49m\u001b[38;5;28;43mself\u001b[39;49m\u001b[43m.\u001b[49m\u001b[43mencoder\u001b[49m\u001b[43m,\u001b[49m\u001b[43m \u001b[49m\u001b[38;5;28;43mself\u001b[39;49m\u001b[43m.\u001b[49m\u001b[43mdecoder\u001b[49m\u001b[43m,\u001b[49m\u001b[43m \u001b[49m\u001b[38;5;28;43mself\u001b[39;49m\u001b[43m.\u001b[49m\u001b[43mdisc_cat\u001b[49m\u001b[43m,\u001b[49m\u001b[43m \u001b[49m\u001b[38;5;28;43mself\u001b[39;49m\u001b[43m.\u001b[49m\u001b[43mdisc_style\u001b[49m\u001b[43m,\u001b[49m\u001b[43m \u001b[49m\u001b[43mpath_prefix\u001b[49m\u001b[43m=\u001b[49m\u001b[38;5;28;43mstr\u001b[39;49m\u001b[43m(\u001b[49m\u001b[43mprefix\u001b[49m\u001b[43m)\u001b[49m\u001b[43m)\u001b[49m\n",
      "\u001b[31mTypeError\u001b[39m: save_weights() got multiple values for argument 'path_prefix'"
     ]
    }
   ],
   "source": [
    "# %%\n",
    "model.fit(\n",
    "    train_loader  = train_loader,\n",
    "    val_loader  = val_loader,     # gives val accuracy each epoch\n",
    "    epochs      = 200, # 1500\n",
    "    prior_std   = 1.0,\n",
    "    result_folder     = Path(\"runs/unsup_aae\"),\n",
    ")\n",
    "        self.encoder.apply(weights_init)\n",
    "        self.decoder.apply(weights_init)\n",
    "        self.discriminator_categorical.apply(weights_init)\n",
    "        self.discriminator_style.apply(weights_init)        self.encoder.apply(weights_init)\n",
    "        self.decoder.apply(weights_init)\n",
    "        self.discriminator_categorical.apply(weights_init)\n",
    "        self.discriminator_style.apply(weights_init)        self.encoder.apply(weights_init)\n",
    "        self.decoder.apply(weights_init)\n",
    "        self.discriminator_categorical.apply(weights_init)\n",
    "        self.discriminator_style.apply(weights_init)        self.encoder.apply(weights_init)\n",
    "        self.decoder.apply(weights_init)\n",
    "        self.discriminator_categorical.apply(weights_init)\n",
    "        self.discriminator_style.apply(weights_init)        self.encoder.apply(weights_init)\n",
    "        self.decoder.apply(weights_init)\n",
    "        self.discriminator_categorical.apply(weights_init)\n",
    "        self.discriminator_style.apply(weights_init)"
   ]
  },
  {
   "cell_type": "code",
   "execution_count": null,
   "metadata": {},
   "outputs": [
    {
     "name": "stdout",
     "output_type": "stream",
     "text": [
      "Test clustering accuracy: 26.90%\n"
     ]
    }
   ],
   "source": [
    "# %%\n",
    "test_acc = model.evaluate_clustering(test_loader)\n",
    "print(f\"Test clustering accuracy: {test_acc:.2%}\")\n"
   ]
  },
  {
   "cell_type": "code",
   "execution_count": 6,
   "metadata": {},
   "outputs": [
    {
     "ename": "ValueError",
     "evalue": "object __array__ method not producing an array",
     "output_type": "error",
     "traceback": [
      "\u001b[31m---------------------------------------------------------------------------\u001b[39m",
      "\u001b[31mValueError\u001b[39m                                Traceback (most recent call last)",
      "\u001b[36mCell\u001b[39m\u001b[36m \u001b[39m\u001b[32mIn[6]\u001b[39m\u001b[32m, line 7\u001b[39m\n\u001b[32m      5\u001b[39m fig, axes = plt.subplots(\u001b[32m4\u001b[39m, \u001b[32m4\u001b[39m, figsize=(\u001b[32m4\u001b[39m,\u001b[32m4\u001b[39m))\n\u001b[32m      6\u001b[39m \u001b[38;5;28;01mfor\u001b[39;00m ax, img \u001b[38;5;129;01min\u001b[39;00m \u001b[38;5;28mzip\u001b[39m(axes.flatten(), samples):\n\u001b[32m----> \u001b[39m\u001b[32m7\u001b[39m     \u001b[43max\u001b[49m\u001b[43m.\u001b[49m\u001b[43mimshow\u001b[49m\u001b[43m(\u001b[49m\u001b[43mimg\u001b[49m\u001b[43m,\u001b[49m\u001b[43m \u001b[49m\u001b[43mcmap\u001b[49m\u001b[43m=\u001b[49m\u001b[33;43m\"\u001b[39;49m\u001b[33;43mgray\u001b[39;49m\u001b[33;43m\"\u001b[39;49m\u001b[43m)\u001b[49m\n\u001b[32m      8\u001b[39m     ax.axis(\u001b[33m\"\u001b[39m\u001b[33moff\u001b[39m\u001b[33m\"\u001b[39m)\n\u001b[32m      9\u001b[39m plt.tight_layout()\n",
      "\u001b[36mFile \u001b[39m\u001b[32m~/anaconda3/envs/myenv/lib/python3.12/site-packages/matplotlib/__init__.py:1521\u001b[39m, in \u001b[36m_preprocess_data.<locals>.inner\u001b[39m\u001b[34m(ax, data, *args, **kwargs)\u001b[39m\n\u001b[32m   1518\u001b[39m \u001b[38;5;129m@functools\u001b[39m.wraps(func)\n\u001b[32m   1519\u001b[39m \u001b[38;5;28;01mdef\u001b[39;00m\u001b[38;5;250m \u001b[39m\u001b[34minner\u001b[39m(ax, *args, data=\u001b[38;5;28;01mNone\u001b[39;00m, **kwargs):\n\u001b[32m   1520\u001b[39m     \u001b[38;5;28;01mif\u001b[39;00m data \u001b[38;5;129;01mis\u001b[39;00m \u001b[38;5;28;01mNone\u001b[39;00m:\n\u001b[32m-> \u001b[39m\u001b[32m1521\u001b[39m         \u001b[38;5;28;01mreturn\u001b[39;00m \u001b[43mfunc\u001b[49m\u001b[43m(\u001b[49m\n\u001b[32m   1522\u001b[39m \u001b[43m            \u001b[49m\u001b[43max\u001b[49m\u001b[43m,\u001b[49m\n\u001b[32m   1523\u001b[39m \u001b[43m            \u001b[49m\u001b[43m*\u001b[49m\u001b[38;5;28;43mmap\u001b[39;49m\u001b[43m(\u001b[49m\u001b[43mcbook\u001b[49m\u001b[43m.\u001b[49m\u001b[43msanitize_sequence\u001b[49m\u001b[43m,\u001b[49m\u001b[43m \u001b[49m\u001b[43margs\u001b[49m\u001b[43m)\u001b[49m\u001b[43m,\u001b[49m\n\u001b[32m   1524\u001b[39m \u001b[43m            \u001b[49m\u001b[43m*\u001b[49m\u001b[43m*\u001b[49m\u001b[43m{\u001b[49m\u001b[43mk\u001b[49m\u001b[43m:\u001b[49m\u001b[43m \u001b[49m\u001b[43mcbook\u001b[49m\u001b[43m.\u001b[49m\u001b[43msanitize_sequence\u001b[49m\u001b[43m(\u001b[49m\u001b[43mv\u001b[49m\u001b[43m)\u001b[49m\u001b[43m \u001b[49m\u001b[38;5;28;43;01mfor\u001b[39;49;00m\u001b[43m \u001b[49m\u001b[43mk\u001b[49m\u001b[43m,\u001b[49m\u001b[43m \u001b[49m\u001b[43mv\u001b[49m\u001b[43m \u001b[49m\u001b[38;5;129;43;01min\u001b[39;49;00m\u001b[43m \u001b[49m\u001b[43mkwargs\u001b[49m\u001b[43m.\u001b[49m\u001b[43mitems\u001b[49m\u001b[43m(\u001b[49m\u001b[43m)\u001b[49m\u001b[43m}\u001b[49m\u001b[43m)\u001b[49m\n\u001b[32m   1526\u001b[39m     bound = new_sig.bind(ax, *args, **kwargs)\n\u001b[32m   1527\u001b[39m     auto_label = (bound.arguments.get(label_namer)\n\u001b[32m   1528\u001b[39m                   \u001b[38;5;129;01mor\u001b[39;00m bound.kwargs.get(label_namer))\n",
      "\u001b[36mFile \u001b[39m\u001b[32m~/anaconda3/envs/myenv/lib/python3.12/site-packages/matplotlib/axes/_axes.py:5945\u001b[39m, in \u001b[36mAxes.imshow\u001b[39m\u001b[34m(self, X, cmap, norm, aspect, interpolation, alpha, vmin, vmax, colorizer, origin, extent, interpolation_stage, filternorm, filterrad, resample, url, **kwargs)\u001b[39m\n\u001b[32m   5942\u001b[39m \u001b[38;5;28;01mif\u001b[39;00m aspect \u001b[38;5;129;01mis\u001b[39;00m \u001b[38;5;129;01mnot\u001b[39;00m \u001b[38;5;28;01mNone\u001b[39;00m:\n\u001b[32m   5943\u001b[39m     \u001b[38;5;28mself\u001b[39m.set_aspect(aspect)\n\u001b[32m-> \u001b[39m\u001b[32m5945\u001b[39m \u001b[43mim\u001b[49m\u001b[43m.\u001b[49m\u001b[43mset_data\u001b[49m\u001b[43m(\u001b[49m\u001b[43mX\u001b[49m\u001b[43m)\u001b[49m\n\u001b[32m   5946\u001b[39m im.set_alpha(alpha)\n\u001b[32m   5947\u001b[39m \u001b[38;5;28;01mif\u001b[39;00m im.get_clip_path() \u001b[38;5;129;01mis\u001b[39;00m \u001b[38;5;28;01mNone\u001b[39;00m:\n\u001b[32m   5948\u001b[39m     \u001b[38;5;66;03m# image does not already have clipping set, clip to Axes patch\u001b[39;00m\n",
      "\u001b[36mFile \u001b[39m\u001b[32m~/anaconda3/envs/myenv/lib/python3.12/site-packages/matplotlib/image.py:675\u001b[39m, in \u001b[36m_ImageBase.set_data\u001b[39m\u001b[34m(self, A)\u001b[39m\n\u001b[32m    673\u001b[39m \u001b[38;5;28;01mif\u001b[39;00m \u001b[38;5;28misinstance\u001b[39m(A, PIL.Image.Image):\n\u001b[32m    674\u001b[39m     A = pil_to_array(A)  \u001b[38;5;66;03m# Needed e.g. to apply png palette.\u001b[39;00m\n\u001b[32m--> \u001b[39m\u001b[32m675\u001b[39m \u001b[38;5;28mself\u001b[39m._A = \u001b[38;5;28;43mself\u001b[39;49m\u001b[43m.\u001b[49m\u001b[43m_normalize_image_array\u001b[49m\u001b[43m(\u001b[49m\u001b[43mA\u001b[49m\u001b[43m)\u001b[49m\n\u001b[32m    676\u001b[39m \u001b[38;5;28mself\u001b[39m._imcache = \u001b[38;5;28;01mNone\u001b[39;00m\n\u001b[32m    677\u001b[39m \u001b[38;5;28mself\u001b[39m.stale = \u001b[38;5;28;01mTrue\u001b[39;00m\n",
      "\u001b[36mFile \u001b[39m\u001b[32m~/anaconda3/envs/myenv/lib/python3.12/site-packages/matplotlib/image.py:636\u001b[39m, in \u001b[36m_ImageBase._normalize_image_array\u001b[39m\u001b[34m(A)\u001b[39m\n\u001b[32m    630\u001b[39m \u001b[38;5;129m@staticmethod\u001b[39m\n\u001b[32m    631\u001b[39m \u001b[38;5;28;01mdef\u001b[39;00m\u001b[38;5;250m \u001b[39m\u001b[34m_normalize_image_array\u001b[39m(A):\n\u001b[32m    632\u001b[39m \u001b[38;5;250m    \u001b[39m\u001b[33;03m\"\"\"\u001b[39;00m\n\u001b[32m    633\u001b[39m \u001b[33;03m    Check validity of image-like input *A* and normalize it to a format suitable for\u001b[39;00m\n\u001b[32m    634\u001b[39m \u001b[33;03m    Image subclasses.\u001b[39;00m\n\u001b[32m    635\u001b[39m \u001b[33;03m    \"\"\"\u001b[39;00m\n\u001b[32m--> \u001b[39m\u001b[32m636\u001b[39m     A = \u001b[43mcbook\u001b[49m\u001b[43m.\u001b[49m\u001b[43msafe_masked_invalid\u001b[49m\u001b[43m(\u001b[49m\u001b[43mA\u001b[49m\u001b[43m,\u001b[49m\u001b[43m \u001b[49m\u001b[43mcopy\u001b[49m\u001b[43m=\u001b[49m\u001b[38;5;28;43;01mTrue\u001b[39;49;00m\u001b[43m)\u001b[49m\n\u001b[32m    637\u001b[39m     \u001b[38;5;28;01mif\u001b[39;00m A.dtype != np.uint8 \u001b[38;5;129;01mand\u001b[39;00m \u001b[38;5;129;01mnot\u001b[39;00m np.can_cast(A.dtype, \u001b[38;5;28mfloat\u001b[39m, \u001b[33m\"\u001b[39m\u001b[33msame_kind\u001b[39m\u001b[33m\"\u001b[39m):\n\u001b[32m    638\u001b[39m         \u001b[38;5;28;01mraise\u001b[39;00m \u001b[38;5;167;01mTypeError\u001b[39;00m(\u001b[33mf\u001b[39m\u001b[33m\"\u001b[39m\u001b[33mImage data of dtype \u001b[39m\u001b[38;5;132;01m{\u001b[39;00mA.dtype\u001b[38;5;132;01m}\u001b[39;00m\u001b[33m cannot be \u001b[39m\u001b[33m\"\u001b[39m\n\u001b[32m    639\u001b[39m                         \u001b[33mf\u001b[39m\u001b[33m\"\u001b[39m\u001b[33mconverted to float\u001b[39m\u001b[33m\"\u001b[39m)\n",
      "\u001b[36mFile \u001b[39m\u001b[32m~/anaconda3/envs/myenv/lib/python3.12/site-packages/matplotlib/cbook.py:684\u001b[39m, in \u001b[36msafe_masked_invalid\u001b[39m\u001b[34m(x, copy)\u001b[39m\n\u001b[32m    683\u001b[39m \u001b[38;5;28;01mdef\u001b[39;00m\u001b[38;5;250m \u001b[39m\u001b[34msafe_masked_invalid\u001b[39m(x, copy=\u001b[38;5;28;01mFalse\u001b[39;00m):\n\u001b[32m--> \u001b[39m\u001b[32m684\u001b[39m     x = \u001b[43mnp\u001b[49m\u001b[43m.\u001b[49m\u001b[43marray\u001b[49m\u001b[43m(\u001b[49m\u001b[43mx\u001b[49m\u001b[43m,\u001b[49m\u001b[43m \u001b[49m\u001b[43msubok\u001b[49m\u001b[43m=\u001b[49m\u001b[38;5;28;43;01mTrue\u001b[39;49;00m\u001b[43m,\u001b[49m\u001b[43m \u001b[49m\u001b[43mcopy\u001b[49m\u001b[43m=\u001b[49m\u001b[43mcopy\u001b[49m\u001b[43m)\u001b[49m\n\u001b[32m    685\u001b[39m     \u001b[38;5;28;01mif\u001b[39;00m \u001b[38;5;129;01mnot\u001b[39;00m x.dtype.isnative:\n\u001b[32m    686\u001b[39m         \u001b[38;5;66;03m# If we have already made a copy, do the byteswap in place, else make a\u001b[39;00m\n\u001b[32m    687\u001b[39m         \u001b[38;5;66;03m# copy with the byte order swapped.\u001b[39;00m\n\u001b[32m    688\u001b[39m         \u001b[38;5;66;03m# Swap to native order.\u001b[39;00m\n\u001b[32m    689\u001b[39m         x = x.byteswap(inplace=copy).view(x.dtype.newbyteorder(\u001b[33m'\u001b[39m\u001b[33mN\u001b[39m\u001b[33m'\u001b[39m))\n",
      "\u001b[31mValueError\u001b[39m: object __array__ method not producing an array"
     ]
    },
    {
     "data": {
      "image/png": "[encoded data removed]",
      "text/plain": [
       "<Figure size 400x400 with 16 Axes>"
      ]
     },
     "metadata": {},
     "output_type": "display_data"
    }
   ],
   "source": [
    "# %%\n",
    "with torch.no_grad():\n",
    "    samples = model.generate(16).cpu().view(-1, 28, 28)\n",
    "\n",
    "fig, axes = plt.subplots(4, 4, figsize=(4,4))\n",
    "for ax, img in zip(axes.flatten(), samples):\n",
    "    ax.imshow(img, cmap=\"gray\")\n",
    "    ax.axis(\"off\")\n",
    "plt.tight_layout()\n"
   ]
  },
  {
   "cell_type": "code",
   "execution_count": null,
   "metadata": {},
   "outputs": [],
   "source": [
    "# %%\n",
    "model.save_weights(\"weights/unsup_aae_final\")\n"
   ]
  }
 ],
 "metadata": {
  "kernelspec": {
   "display_name": "myenv",
   "language": "python",
   "name": "python3"
  },
  "language_info": {
   "codemirror_mode": {
    "name": "ipython",
    "version": 3
   },
   "file_extension": ".py",
   "mimetype": "text/x-python",
   "name": "python",
   "nbconvert_exporter": "python",
   "pygments_lexer": "ipython3",
   "version": "3.12.10"
  }
 },
 "nbformat": 4,
 "nbformat_minor": 2
}
