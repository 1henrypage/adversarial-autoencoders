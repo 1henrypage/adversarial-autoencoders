{
 "cells": [
  {
   "metadata": {},
   "cell_type": "markdown",
   "source": "# Adversarial Autoencoder: Toronto Face Likelihood Experiments",
   "id": "15565269da156ec9"
  },
  {
   "metadata": {},
   "cell_type": "markdown",
   "source": "### Imports",
   "id": "37f22469d5958976"
  },
  {
   "metadata": {
    "ExecuteTime": {
     "end_time": "2025-05-17T20:33:38.277619Z",
     "start_time": "2025-05-17T20:33:33.810968Z"
    }
   },
   "cell_type": "code",
   "source": [
    "import numpy as np\n",
    "import torch\n",
    "import matplotlib.pyplot as plt\n",
    "from torch import nn\n",
    "from adversarial import AdversarialAutoencoder\n",
    "from likelihood import cross_validate_sigma, estimate_log_likelihood"
   ],
   "id": "639a3f3942775cd5",
   "outputs": [],
   "execution_count": 1
  },
  {
   "metadata": {},
   "cell_type": "code",
   "outputs": [],
   "execution_count": null,
   "source": "",
   "id": "50680ad8150abd87"
  }
 ],
 "metadata": {},
 "nbformat": 4,
 "nbformat_minor": 5
}
