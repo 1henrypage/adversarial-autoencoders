{
 "cells": [
  {
   "cell_type": "code",
   "execution_count": 1,
   "id": "e81322f4",
   "metadata": {},
   "outputs": [
    {
     "name": "stdout",
     "output_type": "stream",
     "text": [
      "CUDA_VISIBLE_DEVICES: 0\n",
      "Built with CUDA: 12.6\n",
      "CUDA available?: True\n",
      "Device count: 1\n"
     ]
    }
   ],
   "source": [
    "import os, torch\n",
    "os.environ[\"CUDA_VISIBLE_DEVICES\"] = \"0\"\n",
    "print(\"CUDA_VISIBLE_DEVICES:\", os.environ.get(\"CUDA_VISIBLE_DEVICES\"))\n",
    "print(\"Built with CUDA:\", torch.version.cuda)     \n",
    "print(\"CUDA available?:\", torch.cuda.is_available())  \n",
    "print(\"Device count:\", torch.cuda.device_count())"
   ]
  },
  {
   "cell_type": "code",
   "execution_count": 2,
   "id": "276a202e",
   "metadata": {},
   "outputs": [],
   "source": [
    "import numpy as np\n",
    "import matplotlib.pyplot as plt\n",
    "from torchvision import datasets, transforms\n",
    "from torch.utils.data import DataLoader\n",
    "from torch import nn\n",
    "from semisupervised import SemiSupervisedAutoEncoderOptions, SemiSupervisedAdversarialAutoencoder\n",
    "from dimensionality_reduction import DimensionalityReductionAAE"
   ]
  },
  {
   "cell_type": "markdown",
   "id": "6425f087",
   "metadata": {},
   "source": [
    "## Fixed Experiment"
   ]
  },
  {
   "cell_type": "code",
   "execution_count": 3,
   "id": "bbc43b66",
   "metadata": {},
   "outputs": [],
   "source": [
    "NUM_EPOCHS = 100\n",
    "GAUSSIAN_NOISE = True\n",
    "INPUT_DIM = 784\n",
    "BATCH_SIZE = 100\n",
    "AE_HIDDEN = 1000\n",
    "DC_HIDDEN = 1000\n",
    "LATENT_DIM_CAT = 10\n",
    "LATENT_DIM_STYLE = 2\n",
    "PRIOR_STD = 1.0\n",
    "RESULT_FOLDER = 'dimensionality_reduction_results/100_epochs_adam_eta_1000_results'\n",
    "NUM_LABELED = 1000\n",
    "eta = 1000\n",
    "\n",
    "recon_loss = nn.MSELoss()\n",
    "init_recon_lr = 0.001 #0.01\n",
    "# init_recon_lr = 0.01\n",
    "\n",
    "semi_sup_loss = nn.CrossEntropyLoss()\n",
    "init_semi_sup_lr = 0.01 #0.1\n",
    "# init_semi_sup_lr = 0.1\n",
    "\n",
    "init_gen_lr = init_disc_lr = 0.001 #0.1\n",
    "# init_gen_lr = init_disc_lr = 0.1\n",
    "use_decoder_sigmoid = False"
   ]
  },
  {
   "cell_type": "code",
   "execution_count": 4,
   "id": "d2f92f7b",
   "metadata": {},
   "outputs": [],
   "source": [
    "from torch.utils.data import DataLoader, Subset, random_split, Dataset\n",
    "from torchvision import datasets, transforms\n",
    "import torch, numpy as np\n",
    "\n",
    "\n",
    "class UnlabeledWrapper(Dataset):\n",
    "    \"\"\"Return images only; label is always -1.\"\"\"\n",
    "    def __init__(self, base_ds, indices):\n",
    "        self.base_ds = base_ds\n",
    "        self.indices = indices\n",
    "    def __len__(self):\n",
    "        return len(self.indices)\n",
    "    def __getitem__(self, i):\n",
    "        x, _ = self.base_ds[self.indices[i]]\n",
    "        return x, -1\n",
    "\n",
    "\n",
    "def configure_mnist(batch_size=100, n_labeled=1000, val_fraction=0.10, seed=42):\n",
    "    transform = transforms.Compose([\n",
    "        transforms.ToTensor(),\n",
    "        transforms.Lambda(lambda x: x.view(-1))          # flatten to 784\n",
    "    ])\n",
    "\n",
    "    full_train = datasets.MNIST(root='./data', train=True,  download=True, transform=transform)\n",
    "    test_ds    = datasets.MNIST(root='./data', train=False, download=True, transform=transform)\n",
    "\n",
    "    rng = np.random.RandomState(seed)\n",
    "    all_idx       = np.arange(len(full_train))                       # 60 000 indices\n",
    "    labeled_idx   = rng.choice(all_idx, size=n_labeled, replace=False)\n",
    "    remaining_idx = np.setdiff1d(all_idx, labeled_idx)\n",
    "\n",
    "    n_val   = int(len(remaining_idx) * val_fraction)\n",
    "    val_idx = rng.choice(remaining_idx, size=n_val, replace=False)\n",
    "    unlabeled_idx = np.setdiff1d(remaining_idx, val_idx)\n",
    "\n",
    "    labeled_ds     = Subset(full_train, labeled_idx)                 # (x, y)\n",
    "    val_ds         = Subset(full_train, val_idx)                     # (x, y)\n",
    "    unlabeled_ds   = UnlabeledWrapper(full_train, unlabeled_idx)     # (x, -1)\n",
    "\n",
    "    train_labeled_loader   = DataLoader(labeled_ds,   batch_size=batch_size, shuffle=True,  drop_last=True)\n",
    "    train_unlabeled_loader = DataLoader(unlabeled_ds, batch_size=batch_size, shuffle=True,  drop_last=True)\n",
    "    val_loader             = DataLoader(val_ds,       batch_size=batch_size, shuffle=False)\n",
    "    test_loader            = DataLoader(test_ds,      batch_size=batch_size, shuffle=False)\n",
    "\n",
    "    X_lab = torch.stack([x for x, _ in labeled_ds])\n",
    "    Y_lab = torch.tensor([y for _, y in labeled_ds])\n",
    "\n",
    "    X_val = torch.stack([x for x, _ in val_ds])\n",
    "    Y_val = torch.tensor([y for _, y in val_ds])\n",
    "\n",
    "    X_test = torch.stack([x for x, _ in test_ds])\n",
    "    Y_test = test_ds.targets.clone()\n",
    "\n",
    "    return (X_lab, X_val, X_test,\n",
    "            Y_lab, Y_val, Y_test,\n",
    "            train_labeled_loader, train_unlabeled_loader, val_loader, test_loader)"
   ]
  },
  {
   "cell_type": "code",
   "execution_count": 5,
   "id": "82732268",
   "metadata": {},
   "outputs": [
    {
     "name": "stdout",
     "output_type": "stream",
     "text": [
      "labelled   : 1000\n",
      "unlabelled : 53100\n",
      "val        : 5900\n",
      "tensor(9) tensor(0)\n"
     ]
    }
   ],
   "source": [
    "(X_lab, X_val, X_test,\n",
    " Y_lab, Y_val, Y_test,\n",
    " train_labeled_loader,\n",
    " train_unlabeled_loader,\n",
    " val_loader,\n",
    " test_loader) = configure_mnist(batch_size=BATCH_SIZE, n_labeled=NUM_LABELED)\n",
    "\n",
    "print(\"labelled   :\", len(train_labeled_loader.dataset))   # 1 000\n",
    "print(\"unlabelled :\", len(train_unlabeled_loader.dataset)) # ≈53 000\n",
    "print(\"val        :\", len(val_loader.dataset))             # ≈6 000\n",
    "print(Y_lab.max(), Y_lab.min())      "
   ]
  },
  {
   "cell_type": "code",
   "execution_count": 6,
   "id": "882e48be",
   "metadata": {},
   "outputs": [
    {
     "name": "stdout",
     "output_type": "stream",
     "text": [
      "DimensionalityReductionAAE(\n",
      "  (encoder): Encoder(\n",
      "    (fc): Sequential(\n",
      "      (0): Linear(in_features=784, out_features=1000, bias=True)\n",
      "      (1): ReLU()\n",
      "      (2): Linear(in_features=1000, out_features=1000, bias=True)\n",
      "      (3): ReLU()\n",
      "      (4): Linear(in_features=1000, out_features=12, bias=True)\n",
      "    )\n",
      "  )\n",
      "  (decoder): Decoder(\n",
      "    (fc): Sequential(\n",
      "      (0): Linear(in_features=2, out_features=1000, bias=True)\n",
      "      (1): ReLU()\n",
      "      (2): Linear(in_features=1000, out_features=1000, bias=True)\n",
      "      (3): ReLU()\n",
      "      (4): Linear(in_features=1000, out_features=784, bias=True)\n",
      "    )\n",
      "  )\n",
      "  (cat_softmax): Softmax(dim=1)\n",
      "  (discriminator_categorical): Discriminator(\n",
      "    (fc): Sequential(\n",
      "      (0): Linear(in_features=10, out_features=1000, bias=True)\n",
      "      (1): ReLU()\n",
      "      (2): Linear(in_features=1000, out_features=1000, bias=True)\n",
      "      (3): ReLU()\n",
      "      (4): Linear(in_features=1000, out_features=1, bias=True)\n",
      "    )\n",
      "  )\n",
      "  (discriminator_style): Discriminator(\n",
      "    (fc): Sequential(\n",
      "      (0): Linear(in_features=2, out_features=1000, bias=True)\n",
      "      (1): ReLU()\n",
      "      (2): Linear(in_features=1000, out_features=1000, bias=True)\n",
      "      (3): ReLU()\n",
      "      (4): Linear(in_features=1000, out_features=1, bias=True)\n",
      "    )\n",
      "  )\n",
      "  (recon_loss): ReconLossWithPenalty(\n",
      "    (base_loss): MSELoss()\n",
      "  )\n",
      "  (semi_supervised_loss): CrossEntropyLoss()\n",
      "  (adv_loss): BCEWithLogitsLoss()\n",
      ")\n"
     ]
    }
   ],
   "source": [
    "options = SemiSupervisedAutoEncoderOptions(\n",
    "    input_dim=INPUT_DIM,\n",
    "    ae_hidden_dim=AE_HIDDEN,\n",
    "    disc_hidden_dim=DC_HIDDEN,\n",
    "    latent_dim_categorical=LATENT_DIM_CAT,\n",
    "    latent_dim_style=LATENT_DIM_STYLE,\n",
    "    recon_loss_fn=recon_loss,\n",
    "    init_recon_lr=init_recon_lr,\n",
    "    semi_supervised_loss_fn=semi_sup_loss,\n",
    "    init_semi_sup_lr=init_semi_sup_lr,\n",
    "    init_gen_lr=init_gen_lr,\n",
    "    use_decoder_sigmoid=use_decoder_sigmoid,\n",
    "    init_disc_categorical_lr = init_disc_lr,\n",
    "    init_disc_style_lr = init_disc_lr\n",
    ")\n",
    "\n",
    "model = DimensionalityReductionAAE(options, eta=eta)\n",
    "print(model)"
   ]
  },
  {
   "cell_type": "code",
   "execution_count": 7,
   "id": "f1d93d0b",
   "metadata": {},
   "outputs": [
    {
     "data": {
      "application/vnd.jupyter.widget-view+json": {
       "model_id": "a71efd332ef74abaae1fc9f5a5fa8ef4",
       "version_major": 2,
       "version_minor": 0
      },
      "text/plain": [
       "Epoch [1/100]:   0%|          | 0/10 [00:00<?, ?it/s]"
      ]
     },
     "metadata": {},
     "output_type": "display_data"
    },
    {
     "name": "stdout",
     "output_type": "stream",
     "text": [
      "Epoch 1/100 — Recon_U: 998.8118, Recon_L: 998.8120, SemiSup: 2.3429, Disc_Cat: 1.3530, Gen_Cat: 0.6783, Disc_Sty: 1.3460, Gen_Sty: 0.7010\n",
      "Validation Accuracy: 65.78%\n",
      "\n",
      "Weights saved to dimensionality_reduction_results/100_epochs_adam_eta_1000_results/weights_*.pth\n"
     ]
    },
    {
     "data": {
      "application/vnd.jupyter.widget-view+json": {
       "model_id": "3d22d7781dd04c8882afe5b1dfe78e0a",
       "version_major": 2,
       "version_minor": 0
      },
      "text/plain": [
       "Epoch [2/100]:   0%|          | 0/10 [00:00<?, ?it/s]"
      ]
     },
     "metadata": {},
     "output_type": "display_data"
    },
    {
     "name": "stdout",
     "output_type": "stream",
     "text": [
      "Epoch 2/100 — Recon_U: 998.7751, Recon_L: 998.7741, SemiSup: 0.8305, Disc_Cat: 1.2934, Gen_Cat: 0.6652, Disc_Sty: 1.2226, Gen_Sty: 0.7183\n",
      "Validation Accuracy: 81.75%\n",
      "\n",
      "Weights saved to dimensionality_reduction_results/100_epochs_adam_eta_1000_results/weights_*.pth\n"
     ]
    },
    {
     "data": {
      "application/vnd.jupyter.widget-view+json": {
       "model_id": "3743bdd0536048478602c3a5ec8e3901",
       "version_major": 2,
       "version_minor": 0
      },
      "text/plain": [
       "Epoch [3/100]:   0%|          | 0/10 [00:00<?, ?it/s]"
      ]
     },
     "metadata": {},
     "output_type": "display_data"
    },
    {
     "name": "stdout",
     "output_type": "stream",
     "text": [
      "Epoch 3/100 — Recon_U: 998.7568, Recon_L: 998.7567, SemiSup: 0.5005, Disc_Cat: 1.2391, Gen_Cat: 0.7680, Disc_Sty: 1.6927, Gen_Sty: 0.6881\n",
      "Validation Accuracy: 86.12%\n",
      "\n",
      "Weights saved to dimensionality_reduction_results/100_epochs_adam_eta_1000_results/weights_*.pth\n"
     ]
    },
    {
     "data": {
      "application/vnd.jupyter.widget-view+json": {
       "model_id": "d398f12522ac43189d5d5d8a512c5413",
       "version_major": 2,
       "version_minor": 0
      },
      "text/plain": [
       "Epoch [4/100]:   0%|          | 0/10 [00:00<?, ?it/s]"
      ]
     },
     "metadata": {},
     "output_type": "display_data"
    },
    {
     "name": "stdout",
     "output_type": "stream",
     "text": [
      "Epoch 4/100 — Recon_U: 998.7403, Recon_L: 998.7400, SemiSup: 0.3973, Disc_Cat: 1.2178, Gen_Cat: 0.9049, Disc_Sty: 1.6151, Gen_Sty: 1.0643\n",
      "Validation Accuracy: 86.07%\n",
      "\n",
      "Weights saved to dimensionality_reduction_results/100_epochs_adam_eta_1000_results/weights_*.pth\n"
     ]
    },
    {
     "data": {
      "application/vnd.jupyter.widget-view+json": {
       "model_id": "e35acc8059af409295d21f257edeb479",
       "version_major": 2,
       "version_minor": 0
      },
      "text/plain": [
       "Epoch [5/100]:   0%|          | 0/10 [00:00<?, ?it/s]"
      ]
     },
     "metadata": {},
     "output_type": "display_data"
    },
    {
     "name": "stdout",
     "output_type": "stream",
     "text": [
      "Epoch 5/100 — Recon_U: 998.7244, Recon_L: 998.7244, SemiSup: 0.3399, Disc_Cat: 1.1593, Gen_Cat: 1.1506, Disc_Sty: 1.2021, Gen_Sty: 1.5196\n",
      "Validation Accuracy: 87.46%\n",
      "\n",
      "Weights saved to dimensionality_reduction_results/100_epochs_adam_eta_1000_results/weights_*.pth\n"
     ]
    },
    {
     "data": {
      "application/vnd.jupyter.widget-view+json": {
       "model_id": "9081adf5b73747ffb6500cf93864a81a",
       "version_major": 2,
       "version_minor": 0
      },
      "text/plain": [
       "Epoch [6/100]:   0%|          | 0/10 [00:00<?, ?it/s]"
      ]
     },
     "metadata": {},
     "output_type": "display_data"
    },
    {
     "name": "stdout",
     "output_type": "stream",
     "text": [
      "Epoch 6/100 — Recon_U: 998.7095, Recon_L: 998.7087, SemiSup: 0.2269, Disc_Cat: 1.1811, Gen_Cat: 1.2656, Disc_Sty: 1.1975, Gen_Sty: 1.3316\n",
      "Validation Accuracy: 89.75%\n",
      "\n",
      "Weights saved to dimensionality_reduction_results/100_epochs_adam_eta_1000_results/weights_*.pth\n"
     ]
    },
    {
     "data": {
      "application/vnd.jupyter.widget-view+json": {
       "model_id": "b463b7c04834452ea7e52db1e37a81dd",
       "version_major": 2,
       "version_minor": 0
      },
      "text/plain": [
       "Epoch [7/100]:   0%|          | 0/10 [00:00<?, ?it/s]"
      ]
     },
     "metadata": {},
     "output_type": "display_data"
    },
    {
     "name": "stdout",
     "output_type": "stream",
     "text": [
      "Epoch 7/100 — Recon_U: 998.6925, Recon_L: 998.6926, SemiSup: 0.2538, Disc_Cat: 1.2446, Gen_Cat: 1.1198, Disc_Sty: 1.5270, Gen_Sty: 0.6393\n",
      "Validation Accuracy: 89.31%\n",
      "\n",
      "Weights saved to dimensionality_reduction_results/100_epochs_adam_eta_1000_results/weights_*.pth\n"
     ]
    },
    {
     "data": {
      "application/vnd.jupyter.widget-view+json": {
       "model_id": "b228e74be108453da7e00c1673331bbb",
       "version_major": 2,
       "version_minor": 0
      },
      "text/plain": [
       "Epoch [8/100]:   0%|          | 0/10 [00:00<?, ?it/s]"
      ]
     },
     "metadata": {},
     "output_type": "display_data"
    },
    {
     "name": "stdout",
     "output_type": "stream",
     "text": [
      "Epoch 8/100 — Recon_U: 998.6767, Recon_L: 998.6762, SemiSup: 0.2397, Disc_Cat: 1.2467, Gen_Cat: 1.1250, Disc_Sty: 1.5196, Gen_Sty: 0.5323\n",
      "Validation Accuracy: 88.83%\n",
      "\n",
      "Weights saved to dimensionality_reduction_results/100_epochs_adam_eta_1000_results/weights_*.pth\n"
     ]
    },
    {
     "data": {
      "application/vnd.jupyter.widget-view+json": {
       "model_id": "f90d4b6d2c4c4e1797c54f1cc75db329",
       "version_major": 2,
       "version_minor": 0
      },
      "text/plain": [
       "Epoch [9/100]:   0%|          | 0/10 [00:00<?, ?it/s]"
      ]
     },
     "metadata": {},
     "output_type": "display_data"
    },
    {
     "name": "stdout",
     "output_type": "stream",
     "text": [
      "Epoch 9/100 — Recon_U: 998.6595, Recon_L: 998.6599, SemiSup: 0.2566, Disc_Cat: 1.2564, Gen_Cat: 1.1015, Disc_Sty: 1.3111, Gen_Sty: 0.6783\n",
      "Validation Accuracy: 89.49%\n",
      "\n",
      "Weights saved to dimensionality_reduction_results/100_epochs_adam_eta_1000_results/weights_*.pth\n"
     ]
    },
    {
     "data": {
      "application/vnd.jupyter.widget-view+json": {
       "model_id": "accbb7db2d714120b05d138b90be49b3",
       "version_major": 2,
       "version_minor": 0
      },
      "text/plain": [
       "Epoch [10/100]:   0%|          | 0/10 [00:00<?, ?it/s]"
      ]
     },
     "metadata": {},
     "output_type": "display_data"
    },
    {
     "name": "stdout",
     "output_type": "stream",
     "text": [
      "Epoch 10/100 — Recon_U: 998.6447, Recon_L: 998.6442, SemiSup: 0.2576, Disc_Cat: 1.2493, Gen_Cat: 1.1110, Disc_Sty: 1.1513, Gen_Sty: 0.9403\n",
      "Validation Accuracy: 90.15%\n",
      "\n",
      "Weights saved to dimensionality_reduction_results/100_epochs_adam_eta_1000_results/weights_*.pth\n"
     ]
    },
    {
     "data": {
      "application/vnd.jupyter.widget-view+json": {
       "model_id": "0456deca17ce4b2abfac7fa2bc22656e",
       "version_major": 2,
       "version_minor": 0
      },
      "text/plain": [
       "Epoch [11/100]:   0%|          | 0/10 [00:00<?, ?it/s]"
      ]
     },
     "metadata": {},
     "output_type": "display_data"
    },
    {
     "name": "stdout",
     "output_type": "stream",
     "text": [
      "Epoch 11/100 — Recon_U: 998.6283, Recon_L: 998.6286, SemiSup: 0.2057, Disc_Cat: 1.2528, Gen_Cat: 1.1483, Disc_Sty: 1.5413, Gen_Sty: 0.8652\n",
      "Validation Accuracy: 90.73%\n",
      "\n",
      "Weights saved to dimensionality_reduction_results/100_epochs_adam_eta_1000_results/weights_*.pth\n"
     ]
    },
    {
     "data": {
      "application/vnd.jupyter.widget-view+json": {
       "model_id": "4cb4c1b5d9094c08bdeb9d86209d4e53",
       "version_major": 2,
       "version_minor": 0
      },
      "text/plain": [
       "Epoch [12/100]:   0%|          | 0/10 [00:00<?, ?it/s]"
      ]
     },
     "metadata": {},
     "output_type": "display_data"
    },
    {
     "name": "stdout",
     "output_type": "stream",
     "text": [
      "Epoch 12/100 — Recon_U: 998.6133, Recon_L: 998.6128, SemiSup: 0.1800, Disc_Cat: 1.2296, Gen_Cat: 1.1812, Disc_Sty: 1.7021, Gen_Sty: 0.8442\n",
      "Validation Accuracy: 89.69%\n",
      "\n",
      "Weights saved to dimensionality_reduction_results/100_epochs_adam_eta_1000_results/weights_*.pth\n"
     ]
    },
    {
     "data": {
      "application/vnd.jupyter.widget-view+json": {
       "model_id": "1e538232767949a88c08d5869ec10fc2",
       "version_major": 2,
       "version_minor": 0
      },
      "text/plain": [
       "Epoch [13/100]:   0%|          | 0/10 [00:00<?, ?it/s]"
      ]
     },
     "metadata": {},
     "output_type": "display_data"
    },
    {
     "name": "stdout",
     "output_type": "stream",
     "text": [
      "Epoch 13/100 — Recon_U: 998.5983, Recon_L: 998.5976, SemiSup: 0.1726, Disc_Cat: 1.2570, Gen_Cat: 1.0919, Disc_Sty: 1.3359, Gen_Sty: 1.0786\n",
      "Validation Accuracy: 89.27%\n",
      "\n",
      "Weights saved to dimensionality_reduction_results/100_epochs_adam_eta_1000_results/weights_*.pth\n"
     ]
    },
    {
     "data": {
      "application/vnd.jupyter.widget-view+json": {
       "model_id": "5d66275792fc4293ada1385dd0c89838",
       "version_major": 2,
       "version_minor": 0
      },
      "text/plain": [
       "Epoch [14/100]:   0%|          | 0/10 [00:00<?, ?it/s]"
      ]
     },
     "metadata": {},
     "output_type": "display_data"
    },
    {
     "name": "stdout",
     "output_type": "stream",
     "text": [
      "Epoch 14/100 — Recon_U: 998.5817, Recon_L: 998.5818, SemiSup: 0.1609, Disc_Cat: 1.2339, Gen_Cat: 1.1788, Disc_Sty: 1.2455, Gen_Sty: 1.0904\n",
      "Validation Accuracy: 90.58%\n",
      "\n",
      "Weights saved to dimensionality_reduction_results/100_epochs_adam_eta_1000_results/weights_*.pth\n"
     ]
    },
    {
     "data": {
      "application/vnd.jupyter.widget-view+json": {
       "model_id": "9ef194c74d494078b56d0f257ce6e72d",
       "version_major": 2,
       "version_minor": 0
      },
      "text/plain": [
       "Epoch [15/100]:   0%|          | 0/10 [00:00<?, ?it/s]"
      ]
     },
     "metadata": {},
     "output_type": "display_data"
    },
    {
     "name": "stdout",
     "output_type": "stream",
     "text": [
      "Epoch 15/100 — Recon_U: 998.5668, Recon_L: 998.5662, SemiSup: 0.1180, Disc_Cat: 1.2492, Gen_Cat: 1.1576, Disc_Sty: 1.3532, Gen_Sty: 0.8322\n",
      "Validation Accuracy: 91.47%\n",
      "\n",
      "Weights saved to dimensionality_reduction_results/100_epochs_adam_eta_1000_results/weights_*.pth\n"
     ]
    },
    {
     "data": {
      "application/vnd.jupyter.widget-view+json": {
       "model_id": "0df4ed0a7af741519753f189faf725a0",
       "version_major": 2,
       "version_minor": 0
      },
      "text/plain": [
       "Epoch [16/100]:   0%|          | 0/10 [00:00<?, ?it/s]"
      ]
     },
     "metadata": {},
     "output_type": "display_data"
    },
    {
     "name": "stdout",
     "output_type": "stream",
     "text": [
      "Epoch 16/100 — Recon_U: 998.5505, Recon_L: 998.5504, SemiSup: 0.1148, Disc_Cat: 1.2887, Gen_Cat: 1.0735, Disc_Sty: 1.4174, Gen_Sty: 0.7710\n",
      "Validation Accuracy: 90.27%\n",
      "\n",
      "Weights saved to dimensionality_reduction_results/100_epochs_adam_eta_1000_results/weights_*.pth\n"
     ]
    },
    {
     "data": {
      "application/vnd.jupyter.widget-view+json": {
       "model_id": "0886a627ad0243c19e43e2d1a6819e32",
       "version_major": 2,
       "version_minor": 0
      },
      "text/plain": [
       "Epoch [17/100]:   0%|          | 0/10 [00:00<?, ?it/s]"
      ]
     },
     "metadata": {},
     "output_type": "display_data"
    },
    {
     "name": "stdout",
     "output_type": "stream",
     "text": [
      "Epoch 17/100 — Recon_U: 998.5347, Recon_L: 998.5346, SemiSup: 0.1021, Disc_Cat: 1.3050, Gen_Cat: 1.0443, Disc_Sty: 1.3320, Gen_Sty: 0.8050\n",
      "Validation Accuracy: 91.08%\n",
      "\n",
      "Weights saved to dimensionality_reduction_results/100_epochs_adam_eta_1000_results/weights_*.pth\n"
     ]
    },
    {
     "data": {
      "application/vnd.jupyter.widget-view+json": {
       "model_id": "363c7b43ad834a7882093ff9c38f46a4",
       "version_major": 2,
       "version_minor": 0
      },
      "text/plain": [
       "Epoch [18/100]:   0%|          | 0/10 [00:00<?, ?it/s]"
      ]
     },
     "metadata": {},
     "output_type": "display_data"
    },
    {
     "name": "stdout",
     "output_type": "stream",
     "text": [
      "Epoch 18/100 — Recon_U: 998.5197, Recon_L: 998.5189, SemiSup: 0.1693, Disc_Cat: 1.3020, Gen_Cat: 1.0159, Disc_Sty: 1.2936, Gen_Sty: 0.7947\n",
      "Validation Accuracy: 90.44%\n",
      "\n",
      "Weights saved to dimensionality_reduction_results/100_epochs_adam_eta_1000_results/weights_*.pth\n"
     ]
    },
    {
     "data": {
      "application/vnd.jupyter.widget-view+json": {
       "model_id": "63fd25d0e1ed465e9f3a2a79f7d5abf1",
       "version_major": 2,
       "version_minor": 0
      },
      "text/plain": [
       "Epoch [19/100]:   0%|          | 0/10 [00:00<?, ?it/s]"
      ]
     },
     "metadata": {},
     "output_type": "display_data"
    },
    {
     "name": "stdout",
     "output_type": "stream",
     "text": [
      "Epoch 19/100 — Recon_U: 998.5045, Recon_L: 998.5033, SemiSup: 0.0972, Disc_Cat: 1.3168, Gen_Cat: 0.9858, Disc_Sty: 1.3525, Gen_Sty: 0.8414\n",
      "Validation Accuracy: 90.24%\n",
      "\n",
      "Weights saved to dimensionality_reduction_results/100_epochs_adam_eta_1000_results/weights_*.pth\n"
     ]
    },
    {
     "data": {
      "application/vnd.jupyter.widget-view+json": {
       "model_id": "dd654dd3e22e4776a0c422cf42ebe4dc",
       "version_major": 2,
       "version_minor": 0
      },
      "text/plain": [
       "Epoch [20/100]:   0%|          | 0/10 [00:00<?, ?it/s]"
      ]
     },
     "metadata": {},
     "output_type": "display_data"
    },
    {
     "name": "stdout",
     "output_type": "stream",
     "text": [
      "Epoch 20/100 — Recon_U: 998.4903, Recon_L: 998.4883, SemiSup: 0.0984, Disc_Cat: 1.2694, Gen_Cat: 1.0218, Disc_Sty: 1.3955, Gen_Sty: 0.8828\n",
      "Validation Accuracy: 90.12%\n",
      "\n",
      "Weights saved to dimensionality_reduction_results/100_epochs_adam_eta_1000_results/weights_*.pth\n"
     ]
    },
    {
     "data": {
      "application/vnd.jupyter.widget-view+json": {
       "model_id": "0c480cc42b3c4e9db2a254511b770c16",
       "version_major": 2,
       "version_minor": 0
      },
      "text/plain": [
       "Epoch [21/100]:   0%|          | 0/10 [00:00<?, ?it/s]"
      ]
     },
     "metadata": {},
     "output_type": "display_data"
    },
    {
     "name": "stdout",
     "output_type": "stream",
     "text": [
      "Epoch 21/100 — Recon_U: 998.4723, Recon_L: 998.4722, SemiSup: 0.1263, Disc_Cat: 1.3199, Gen_Cat: 0.9522, Disc_Sty: 1.3272, Gen_Sty: 0.9062\n",
      "Validation Accuracy: 90.98%\n",
      "\n",
      "Weights saved to dimensionality_reduction_results/100_epochs_adam_eta_1000_results/weights_*.pth\n"
     ]
    },
    {
     "data": {
      "application/vnd.jupyter.widget-view+json": {
       "model_id": "2cd6b84f947a43e8959b4b52b40cd311",
       "version_major": 2,
       "version_minor": 0
      },
      "text/plain": [
       "Epoch [22/100]:   0%|          | 0/10 [00:00<?, ?it/s]"
      ]
     },
     "metadata": {},
     "output_type": "display_data"
    },
    {
     "name": "stdout",
     "output_type": "stream",
     "text": [
      "Epoch 22/100 — Recon_U: 998.4571, Recon_L: 998.4565, SemiSup: 0.1150, Disc_Cat: 1.2742, Gen_Cat: 0.9947, Disc_Sty: 1.2995, Gen_Sty: 0.8665\n",
      "Validation Accuracy: 89.93%\n",
      "\n",
      "Weights saved to dimensionality_reduction_results/100_epochs_adam_eta_1000_results/weights_*.pth\n"
     ]
    },
    {
     "data": {
      "application/vnd.jupyter.widget-view+json": {
       "model_id": "28060ae9e8ff463e958161c68f0b460e",
       "version_major": 2,
       "version_minor": 0
      },
      "text/plain": [
       "Epoch [23/100]:   0%|          | 0/10 [00:00<?, ?it/s]"
      ]
     },
     "metadata": {},
     "output_type": "display_data"
    },
    {
     "name": "stdout",
     "output_type": "stream",
     "text": [
      "Epoch 23/100 — Recon_U: 998.4405, Recon_L: 998.4402, SemiSup: 0.1626, Disc_Cat: 1.3029, Gen_Cat: 0.9532, Disc_Sty: 1.3232, Gen_Sty: 0.8548\n",
      "Validation Accuracy: 89.78%\n",
      "\n",
      "Weights saved to dimensionality_reduction_results/100_epochs_adam_eta_1000_results/weights_*.pth\n"
     ]
    },
    {
     "data": {
      "application/vnd.jupyter.widget-view+json": {
       "model_id": "781ec2b51bb14186a109403f2390eddd",
       "version_major": 2,
       "version_minor": 0
      },
      "text/plain": [
       "Epoch [24/100]:   0%|          | 0/10 [00:00<?, ?it/s]"
      ]
     },
     "metadata": {},
     "output_type": "display_data"
    },
    {
     "name": "stdout",
     "output_type": "stream",
     "text": [
      "Epoch 24/100 — Recon_U: 998.4254, Recon_L: 998.4245, SemiSup: 0.1496, Disc_Cat: 1.2835, Gen_Cat: 0.9705, Disc_Sty: 1.3725, Gen_Sty: 0.7804\n",
      "Validation Accuracy: 90.51%\n",
      "\n",
      "Weights saved to dimensionality_reduction_results/100_epochs_adam_eta_1000_results/weights_*.pth\n"
     ]
    },
    {
     "data": {
      "application/vnd.jupyter.widget-view+json": {
       "model_id": "f8de625876e0480ab8b4b291635a25d4",
       "version_major": 2,
       "version_minor": 0
      },
      "text/plain": [
       "Epoch [25/100]:   0%|          | 0/10 [00:00<?, ?it/s]"
      ]
     },
     "metadata": {},
     "output_type": "display_data"
    },
    {
     "name": "stdout",
     "output_type": "stream",
     "text": [
      "Epoch 25/100 — Recon_U: 998.4096, Recon_L: 998.4079, SemiSup: 0.1081, Disc_Cat: 1.2965, Gen_Cat: 0.9396, Disc_Sty: 1.3374, Gen_Sty: 0.8414\n",
      "Validation Accuracy: 89.24%\n",
      "\n",
      "Weights saved to dimensionality_reduction_results/100_epochs_adam_eta_1000_results/weights_*.pth\n"
     ]
    },
    {
     "data": {
      "application/vnd.jupyter.widget-view+json": {
       "model_id": "2c3d0a480dd04c338f80fd6c33d07335",
       "version_major": 2,
       "version_minor": 0
      },
      "text/plain": [
       "Epoch [26/100]:   0%|          | 0/10 [00:00<?, ?it/s]"
      ]
     },
     "metadata": {},
     "output_type": "display_data"
    },
    {
     "name": "stdout",
     "output_type": "stream",
     "text": [
      "Epoch 26/100 — Recon_U: 998.3918, Recon_L: 998.3918, SemiSup: 0.1713, Disc_Cat: 1.2863, Gen_Cat: 0.9584, Disc_Sty: 1.2940, Gen_Sty: 0.8237\n",
      "Validation Accuracy: 90.36%\n",
      "\n",
      "Weights saved to dimensionality_reduction_results/100_epochs_adam_eta_1000_results/weights_*.pth\n"
     ]
    },
    {
     "data": {
      "application/vnd.jupyter.widget-view+json": {
       "model_id": "6ca09c2ecc2a4dd6af05fdde13c59e59",
       "version_major": 2,
       "version_minor": 0
      },
      "text/plain": [
       "Epoch [27/100]:   0%|          | 0/10 [00:00<?, ?it/s]"
      ]
     },
     "metadata": {},
     "output_type": "display_data"
    },
    {
     "name": "stdout",
     "output_type": "stream",
     "text": [
      "Epoch 27/100 — Recon_U: 998.3772, Recon_L: 998.3759, SemiSup: 0.1003, Disc_Cat: 1.2700, Gen_Cat: 1.0300, Disc_Sty: 1.3155, Gen_Sty: 0.7932\n",
      "Validation Accuracy: 90.39%\n",
      "\n",
      "Weights saved to dimensionality_reduction_results/100_epochs_adam_eta_1000_results/weights_*.pth\n"
     ]
    },
    {
     "data": {
      "application/vnd.jupyter.widget-view+json": {
       "model_id": "511176f343e74e95b4335421a4ebf214",
       "version_major": 2,
       "version_minor": 0
      },
      "text/plain": [
       "Epoch [28/100]:   0%|          | 0/10 [00:00<?, ?it/s]"
      ]
     },
     "metadata": {},
     "output_type": "display_data"
    },
    {
     "name": "stdout",
     "output_type": "stream",
     "text": [
      "Epoch 28/100 — Recon_U: 998.3622, Recon_L: 998.3611, SemiSup: 0.0934, Disc_Cat: 1.2976, Gen_Cat: 0.9535, Disc_Sty: 1.3616, Gen_Sty: 0.8012\n",
      "Validation Accuracy: 90.49%\n",
      "\n",
      "Weights saved to dimensionality_reduction_results/100_epochs_adam_eta_1000_results/weights_*.pth\n"
     ]
    },
    {
     "data": {
      "application/vnd.jupyter.widget-view+json": {
       "model_id": "e6f51e61ede24680be1f3c80e45be885",
       "version_major": 2,
       "version_minor": 0
      },
      "text/plain": [
       "Epoch [29/100]:   0%|          | 0/10 [00:00<?, ?it/s]"
      ]
     },
     "metadata": {},
     "output_type": "display_data"
    },
    {
     "name": "stdout",
     "output_type": "stream",
     "text": [
      "Epoch 29/100 — Recon_U: 998.3466, Recon_L: 998.3449, SemiSup: 0.1260, Disc_Cat: 1.2786, Gen_Cat: 1.0191, Disc_Sty: 1.3398, Gen_Sty: 0.8599\n",
      "Validation Accuracy: 89.66%\n",
      "\n",
      "Weights saved to dimensionality_reduction_results/100_epochs_adam_eta_1000_results/weights_*.pth\n"
     ]
    },
    {
     "data": {
      "application/vnd.jupyter.widget-view+json": {
       "model_id": "ce33d02567e44d35a6c068bc503c5cea",
       "version_major": 2,
       "version_minor": 0
      },
      "text/plain": [
       "Epoch [30/100]:   0%|          | 0/10 [00:00<?, ?it/s]"
      ]
     },
     "metadata": {},
     "output_type": "display_data"
    },
    {
     "name": "stdout",
     "output_type": "stream",
     "text": [
      "Epoch 30/100 — Recon_U: 998.3296, Recon_L: 998.3280, SemiSup: 0.1317, Disc_Cat: 1.3081, Gen_Cat: 0.9602, Disc_Sty: 1.3216, Gen_Sty: 0.8840\n",
      "Validation Accuracy: 90.80%\n",
      "\n",
      "Weights saved to dimensionality_reduction_results/100_epochs_adam_eta_1000_results/weights_*.pth\n"
     ]
    },
    {
     "data": {
      "application/vnd.jupyter.widget-view+json": {
       "model_id": "44285b7e1ee24c6a8aa9d0de9eada53d",
       "version_major": 2,
       "version_minor": 0
      },
      "text/plain": [
       "Epoch [31/100]:   0%|          | 0/10 [00:00<?, ?it/s]"
      ]
     },
     "metadata": {},
     "output_type": "display_data"
    },
    {
     "name": "stdout",
     "output_type": "stream",
     "text": [
      "Epoch 31/100 — Recon_U: 998.3119, Recon_L: 998.3116, SemiSup: 0.1187, Disc_Cat: 1.3013, Gen_Cat: 0.9675, Disc_Sty: 1.3376, Gen_Sty: 0.8002\n",
      "Validation Accuracy: 91.24%\n",
      "\n",
      "Weights saved to dimensionality_reduction_results/100_epochs_adam_eta_1000_results/weights_*.pth\n"
     ]
    },
    {
     "data": {
      "application/vnd.jupyter.widget-view+json": {
       "model_id": "58f41221cc0f44f89bbd52fba69f2c1e",
       "version_major": 2,
       "version_minor": 0
      },
      "text/plain": [
       "Epoch [32/100]:   0%|          | 0/10 [00:00<?, ?it/s]"
      ]
     },
     "metadata": {},
     "output_type": "display_data"
    },
    {
     "name": "stdout",
     "output_type": "stream",
     "text": [
      "Epoch 32/100 — Recon_U: 998.2963, Recon_L: 998.2949, SemiSup: 0.1346, Disc_Cat: 1.2871, Gen_Cat: 0.9896, Disc_Sty: 1.3348, Gen_Sty: 0.7883\n",
      "Validation Accuracy: 91.14%\n",
      "\n",
      "Weights saved to dimensionality_reduction_results/100_epochs_adam_eta_1000_results/weights_*.pth\n"
     ]
    },
    {
     "data": {
      "application/vnd.jupyter.widget-view+json": {
       "model_id": "e2b501dd5761424ea4a7ef0b4be9f9a2",
       "version_major": 2,
       "version_minor": 0
      },
      "text/plain": [
       "Epoch [33/100]:   0%|          | 0/10 [00:00<?, ?it/s]"
      ]
     },
     "metadata": {},
     "output_type": "display_data"
    },
    {
     "name": "stdout",
     "output_type": "stream",
     "text": [
      "Epoch 33/100 — Recon_U: 998.2792, Recon_L: 998.2781, SemiSup: 0.0918, Disc_Cat: 1.3002, Gen_Cat: 0.9617, Disc_Sty: 1.3062, Gen_Sty: 0.8607\n",
      "Validation Accuracy: 91.02%\n",
      "\n",
      "Weights saved to dimensionality_reduction_results/100_epochs_adam_eta_1000_results/weights_*.pth\n"
     ]
    },
    {
     "data": {
      "application/vnd.jupyter.widget-view+json": {
       "model_id": "34d70fc1303743bf986c96e172bf0811",
       "version_major": 2,
       "version_minor": 0
      },
      "text/plain": [
       "Epoch [34/100]:   0%|          | 0/10 [00:00<?, ?it/s]"
      ]
     },
     "metadata": {},
     "output_type": "display_data"
    },
    {
     "name": "stdout",
     "output_type": "stream",
     "text": [
      "Epoch 34/100 — Recon_U: 998.2629, Recon_L: 998.2622, SemiSup: 0.0803, Disc_Cat: 1.3018, Gen_Cat: 0.9860, Disc_Sty: 1.3525, Gen_Sty: 0.8075\n",
      "Validation Accuracy: 90.29%\n",
      "\n",
      "Weights saved to dimensionality_reduction_results/100_epochs_adam_eta_1000_results/weights_*.pth\n"
     ]
    },
    {
     "data": {
      "application/vnd.jupyter.widget-view+json": {
       "model_id": "d030c67986a5443dbe6c6974e016aec7",
       "version_major": 2,
       "version_minor": 0
      },
      "text/plain": [
       "Epoch [35/100]:   0%|          | 0/10 [00:00<?, ?it/s]"
      ]
     },
     "metadata": {},
     "output_type": "display_data"
    },
    {
     "name": "stdout",
     "output_type": "stream",
     "text": [
      "Epoch 35/100 — Recon_U: 998.2462, Recon_L: 998.2456, SemiSup: 0.1537, Disc_Cat: 1.2959, Gen_Cat: 1.0042, Disc_Sty: 1.3479, Gen_Sty: 0.7933\n",
      "Validation Accuracy: 89.25%\n",
      "\n",
      "Weights saved to dimensionality_reduction_results/100_epochs_adam_eta_1000_results/weights_*.pth\n"
     ]
    },
    {
     "data": {
      "application/vnd.jupyter.widget-view+json": {
       "model_id": "84b9db5bebd34401853efd651d3ca9f9",
       "version_major": 2,
       "version_minor": 0
      },
      "text/plain": [
       "Epoch [36/100]:   0%|          | 0/10 [00:00<?, ?it/s]"
      ]
     },
     "metadata": {},
     "output_type": "display_data"
    },
    {
     "name": "stdout",
     "output_type": "stream",
     "text": [
      "Epoch 36/100 — Recon_U: 998.2303, Recon_L: 998.2293, SemiSup: 0.0944, Disc_Cat: 1.3304, Gen_Cat: 0.9475, Disc_Sty: 1.3590, Gen_Sty: 0.7904\n",
      "Validation Accuracy: 89.98%\n",
      "\n",
      "Weights saved to dimensionality_reduction_results/100_epochs_adam_eta_1000_results/weights_*.pth\n"
     ]
    },
    {
     "data": {
      "application/vnd.jupyter.widget-view+json": {
       "model_id": "39275b797d9041e1baecfdff15f0a97b",
       "version_major": 2,
       "version_minor": 0
      },
      "text/plain": [
       "Epoch [37/100]:   0%|          | 0/10 [00:00<?, ?it/s]"
      ]
     },
     "metadata": {},
     "output_type": "display_data"
    },
    {
     "name": "stdout",
     "output_type": "stream",
     "text": [
      "Epoch 37/100 — Recon_U: 998.2130, Recon_L: 998.2121, SemiSup: 0.1029, Disc_Cat: 1.3118, Gen_Cat: 0.9584, Disc_Sty: 1.3524, Gen_Sty: 0.7733\n",
      "Validation Accuracy: 89.68%\n",
      "\n",
      "Weights saved to dimensionality_reduction_results/100_epochs_adam_eta_1000_results/weights_*.pth\n"
     ]
    },
    {
     "data": {
      "application/vnd.jupyter.widget-view+json": {
       "model_id": "70fef689d2d145fe95eb15abba1ac82c",
       "version_major": 2,
       "version_minor": 0
      },
      "text/plain": [
       "Epoch [38/100]:   0%|          | 0/10 [00:00<?, ?it/s]"
      ]
     },
     "metadata": {},
     "output_type": "display_data"
    },
    {
     "name": "stdout",
     "output_type": "stream",
     "text": [
      "Epoch 38/100 — Recon_U: 998.1965, Recon_L: 998.1959, SemiSup: 0.0970, Disc_Cat: 1.3038, Gen_Cat: 0.9500, Disc_Sty: 1.3595, Gen_Sty: 0.7628\n",
      "Validation Accuracy: 89.46%\n",
      "\n",
      "Weights saved to dimensionality_reduction_results/100_epochs_adam_eta_1000_results/weights_*.pth\n"
     ]
    },
    {
     "data": {
      "application/vnd.jupyter.widget-view+json": {
       "model_id": "8e00bb11b3e14e9f9d31127a3ede6da5",
       "version_major": 2,
       "version_minor": 0
      },
      "text/plain": [
       "Epoch [39/100]:   0%|          | 0/10 [00:00<?, ?it/s]"
      ]
     },
     "metadata": {},
     "output_type": "display_data"
    },
    {
     "name": "stdout",
     "output_type": "stream",
     "text": [
      "Epoch 39/100 — Recon_U: 998.1791, Recon_L: 998.1789, SemiSup: 0.1139, Disc_Cat: 1.2970, Gen_Cat: 0.9596, Disc_Sty: 1.3247, Gen_Sty: 0.7933\n",
      "Validation Accuracy: 89.69%\n",
      "\n",
      "Weights saved to dimensionality_reduction_results/100_epochs_adam_eta_1000_results/weights_*.pth\n"
     ]
    },
    {
     "data": {
      "application/vnd.jupyter.widget-view+json": {
       "model_id": "86a06ac0f2244e608d716dd3df2bfac4",
       "version_major": 2,
       "version_minor": 0
      },
      "text/plain": [
       "Epoch [40/100]:   0%|          | 0/10 [00:00<?, ?it/s]"
      ]
     },
     "metadata": {},
     "output_type": "display_data"
    },
    {
     "name": "stdout",
     "output_type": "stream",
     "text": [
      "Epoch 40/100 — Recon_U: 998.1629, Recon_L: 998.1627, SemiSup: 0.1948, Disc_Cat: 1.3006, Gen_Cat: 0.9336, Disc_Sty: 1.3375, Gen_Sty: 0.7909\n",
      "Validation Accuracy: 90.85%\n",
      "\n",
      "Weights saved to dimensionality_reduction_results/100_epochs_adam_eta_1000_results/weights_*.pth\n"
     ]
    },
    {
     "data": {
      "application/vnd.jupyter.widget-view+json": {
       "model_id": "a68e92d2ce9948338456c6c9fc1c43c4",
       "version_major": 2,
       "version_minor": 0
      },
      "text/plain": [
       "Epoch [41/100]:   0%|          | 0/10 [00:00<?, ?it/s]"
      ]
     },
     "metadata": {},
     "output_type": "display_data"
    },
    {
     "name": "stdout",
     "output_type": "stream",
     "text": [
      "Epoch 41/100 — Recon_U: 998.1483, Recon_L: 998.1465, SemiSup: 0.1072, Disc_Cat: 1.2975, Gen_Cat: 0.9996, Disc_Sty: 1.3497, Gen_Sty: 0.7656\n",
      "Validation Accuracy: 90.03%\n",
      "\n",
      "Weights saved to dimensionality_reduction_results/100_epochs_adam_eta_1000_results/weights_*.pth\n"
     ]
    },
    {
     "data": {
      "application/vnd.jupyter.widget-view+json": {
       "model_id": "80c247b95be042f19c937a4b47a95f78",
       "version_major": 2,
       "version_minor": 0
      },
      "text/plain": [
       "Epoch [42/100]:   0%|          | 0/10 [00:00<?, ?it/s]"
      ]
     },
     "metadata": {},
     "output_type": "display_data"
    },
    {
     "name": "stdout",
     "output_type": "stream",
     "text": [
      "Epoch 42/100 — Recon_U: 998.1314, Recon_L: 998.1308, SemiSup: 0.1654, Disc_Cat: 1.3153, Gen_Cat: 0.9434, Disc_Sty: 1.3357, Gen_Sty: 0.7819\n",
      "Validation Accuracy: 89.59%\n",
      "\n",
      "Weights saved to dimensionality_reduction_results/100_epochs_adam_eta_1000_results/weights_*.pth\n"
     ]
    },
    {
     "data": {
      "application/vnd.jupyter.widget-view+json": {
       "model_id": "eab0e459dce34f2f929eee152a293027",
       "version_major": 2,
       "version_minor": 0
      },
      "text/plain": [
       "Epoch [43/100]:   0%|          | 0/10 [00:00<?, ?it/s]"
      ]
     },
     "metadata": {},
     "output_type": "display_data"
    },
    {
     "name": "stdout",
     "output_type": "stream",
     "text": [
      "Epoch 43/100 — Recon_U: 998.1145, Recon_L: 998.1146, SemiSup: 0.1146, Disc_Cat: 1.3167, Gen_Cat: 0.9625, Disc_Sty: 1.3809, Gen_Sty: 0.6992\n",
      "Validation Accuracy: 90.69%\n",
      "\n",
      "Weights saved to dimensionality_reduction_results/100_epochs_adam_eta_1000_results/weights_*.pth\n"
     ]
    },
    {
     "data": {
      "application/vnd.jupyter.widget-view+json": {
       "model_id": "da62149c8fdd424388d166ba6724c741",
       "version_major": 2,
       "version_minor": 0
      },
      "text/plain": [
       "Epoch [44/100]:   0%|          | 0/10 [00:00<?, ?it/s]"
      ]
     },
     "metadata": {},
     "output_type": "display_data"
    },
    {
     "name": "stdout",
     "output_type": "stream",
     "text": [
      "Epoch 44/100 — Recon_U: 998.0986, Recon_L: 998.0979, SemiSup: 0.0762, Disc_Cat: 1.3024, Gen_Cat: 0.9555, Disc_Sty: 1.4081, Gen_Sty: 0.7041\n",
      "Validation Accuracy: 90.83%\n",
      "\n",
      "Weights saved to dimensionality_reduction_results/100_epochs_adam_eta_1000_results/weights_*.pth\n"
     ]
    },
    {
     "data": {
      "application/vnd.jupyter.widget-view+json": {
       "model_id": "161526cf78b74e7ebb2eeb2cfebb93e1",
       "version_major": 2,
       "version_minor": 0
      },
      "text/plain": [
       "Epoch [45/100]:   0%|          | 0/10 [00:00<?, ?it/s]"
      ]
     },
     "metadata": {},
     "output_type": "display_data"
    },
    {
     "name": "stdout",
     "output_type": "stream",
     "text": [
      "Epoch 45/100 — Recon_U: 998.0803, Recon_L: 998.0805, SemiSup: 0.1297, Disc_Cat: 1.2940, Gen_Cat: 0.9254, Disc_Sty: 1.3873, Gen_Sty: 0.6992\n",
      "Validation Accuracy: 90.00%\n",
      "\n",
      "Weights saved to dimensionality_reduction_results/100_epochs_adam_eta_1000_results/weights_*.pth\n"
     ]
    },
    {
     "data": {
      "application/vnd.jupyter.widget-view+json": {
       "model_id": "b80fc2fa15dc4df3be84559b75244159",
       "version_major": 2,
       "version_minor": 0
      },
      "text/plain": [
       "Epoch [46/100]:   0%|          | 0/10 [00:00<?, ?it/s]"
      ]
     },
     "metadata": {},
     "output_type": "display_data"
    },
    {
     "name": "stdout",
     "output_type": "stream",
     "text": [
      "Epoch 46/100 — Recon_U: 998.0629, Recon_L: 998.0634, SemiSup: 0.1625, Disc_Cat: 1.3139, Gen_Cat: 0.9291, Disc_Sty: 1.3657, Gen_Sty: 0.6973\n",
      "Validation Accuracy: 88.58%\n",
      "\n",
      "Weights saved to dimensionality_reduction_results/100_epochs_adam_eta_1000_results/weights_*.pth\n"
     ]
    },
    {
     "data": {
      "application/vnd.jupyter.widget-view+json": {
       "model_id": "f2f9683aafdc4a708d9f448cced67763",
       "version_major": 2,
       "version_minor": 0
      },
      "text/plain": [
       "Epoch [47/100]:   0%|          | 0/10 [00:00<?, ?it/s]"
      ]
     },
     "metadata": {},
     "output_type": "display_data"
    },
    {
     "name": "stdout",
     "output_type": "stream",
     "text": [
      "Epoch 47/100 — Recon_U: 998.0480, Recon_L: 998.0465, SemiSup: 0.1332, Disc_Cat: 1.3160, Gen_Cat: 0.9223, Disc_Sty: 1.3714, Gen_Sty: 0.6785\n",
      "Validation Accuracy: 89.22%\n",
      "\n",
      "Weights saved to dimensionality_reduction_results/100_epochs_adam_eta_1000_results/weights_*.pth\n"
     ]
    },
    {
     "data": {
      "application/vnd.jupyter.widget-view+json": {
       "model_id": "235096c9499049c7bfae39330215a2ce",
       "version_major": 2,
       "version_minor": 0
      },
      "text/plain": [
       "Epoch [48/100]:   0%|          | 0/10 [00:00<?, ?it/s]"
      ]
     },
     "metadata": {},
     "output_type": "display_data"
    },
    {
     "name": "stdout",
     "output_type": "stream",
     "text": [
      "Epoch 48/100 — Recon_U: 998.0293, Recon_L: 998.0285, SemiSup: 0.1115, Disc_Cat: 1.3227, Gen_Cat: 0.8664, Disc_Sty: 1.3763, Gen_Sty: 0.7146\n",
      "Validation Accuracy: 89.64%\n",
      "\n",
      "Weights saved to dimensionality_reduction_results/100_epochs_adam_eta_1000_results/weights_*.pth\n"
     ]
    },
    {
     "data": {
      "application/vnd.jupyter.widget-view+json": {
       "model_id": "00c7c4c26acf4f7099de6989069372d2",
       "version_major": 2,
       "version_minor": 0
      },
      "text/plain": [
       "Epoch [49/100]:   0%|          | 0/10 [00:00<?, ?it/s]"
      ]
     },
     "metadata": {},
     "output_type": "display_data"
    },
    {
     "name": "stdout",
     "output_type": "stream",
     "text": [
      "Epoch 49/100 — Recon_U: 998.0126, Recon_L: 998.0119, SemiSup: 0.1656, Disc_Cat: 1.3105, Gen_Cat: 0.9097, Disc_Sty: 1.3842, Gen_Sty: 0.7212\n",
      "Validation Accuracy: 89.49%\n",
      "\n",
      "Weights saved to dimensionality_reduction_results/100_epochs_adam_eta_1000_results/weights_*.pth\n"
     ]
    },
    {
     "data": {
      "application/vnd.jupyter.widget-view+json": {
       "model_id": "88fccd7bcc6c46388d9ccdc98613cec9",
       "version_major": 2,
       "version_minor": 0
      },
      "text/plain": [
       "Epoch [50/100]:   0%|          | 0/10 [00:00<?, ?it/s]"
      ]
     },
     "metadata": {},
     "output_type": "display_data"
    },
    {
     "name": "stdout",
     "output_type": "stream",
     "text": [
      "Epoch 50/100 — Recon_U: 997.9962, Recon_L: 997.9952, SemiSup: 0.1154, Disc_Cat: 1.3336, Gen_Cat: 0.8759, Disc_Sty: 1.3761, Gen_Sty: 0.7186\n",
      "Validation Accuracy: 90.51%\n",
      "\n",
      "Weights saved to dimensionality_reduction_results/100_epochs_adam_eta_1000_results/weights_epoch_50/weights_*.pth\n",
      "Weights saved to dimensionality_reduction_results/100_epochs_adam_eta_1000_results/weights_*.pth\n"
     ]
    },
    {
     "data": {
      "application/vnd.jupyter.widget-view+json": {
       "model_id": "ef831164ba3241119242a8105f403fc7",
       "version_major": 2,
       "version_minor": 0
      },
      "text/plain": [
       "Epoch [51/100]:   0%|          | 0/10 [00:00<?, ?it/s]"
      ]
     },
     "metadata": {},
     "output_type": "display_data"
    },
    {
     "name": "stdout",
     "output_type": "stream",
     "text": [
      "Epoch 51/100 — Recon_U: 997.9844, Recon_L: 997.9837, SemiSup: 0.0663, Disc_Cat: 1.3204, Gen_Cat: 0.9047, Disc_Sty: 1.3882, Gen_Sty: 0.6783\n",
      "Validation Accuracy: 90.54%\n",
      "\n",
      "Weights saved to dimensionality_reduction_results/100_epochs_adam_eta_1000_results/weights_*.pth\n"
     ]
    },
    {
     "data": {
      "application/vnd.jupyter.widget-view+json": {
       "model_id": "8e2c7d0a3ebe45fa9f12673962e7e725",
       "version_major": 2,
       "version_minor": 0
      },
      "text/plain": [
       "Epoch [52/100]:   0%|          | 0/10 [00:00<?, ?it/s]"
      ]
     },
     "metadata": {},
     "output_type": "display_data"
    },
    {
     "name": "stdout",
     "output_type": "stream",
     "text": [
      "Epoch 52/100 — Recon_U: 997.9823, Recon_L: 997.9813, SemiSup: 0.0796, Disc_Cat: 1.3232, Gen_Cat: 0.8337, Disc_Sty: 1.3848, Gen_Sty: 0.6779\n",
      "Validation Accuracy: 90.69%\n",
      "\n",
      "Weights saved to dimensionality_reduction_results/100_epochs_adam_eta_1000_results/weights_*.pth\n"
     ]
    },
    {
     "data": {
      "application/vnd.jupyter.widget-view+json": {
       "model_id": "5a8b9922cd124a6b81b3d4d910fe4a42",
       "version_major": 2,
       "version_minor": 0
      },
      "text/plain": [
       "Epoch [53/100]:   0%|          | 0/10 [00:00<?, ?it/s]"
      ]
     },
     "metadata": {},
     "output_type": "display_data"
    },
    {
     "name": "stdout",
     "output_type": "stream",
     "text": [
      "Epoch 53/100 — Recon_U: 997.9806, Recon_L: 997.9793, SemiSup: 0.0561, Disc_Cat: 1.2989, Gen_Cat: 0.8697, Disc_Sty: 1.3781, Gen_Sty: 0.6812\n",
      "Validation Accuracy: 90.76%\n",
      "\n",
      "Weights saved to dimensionality_reduction_results/100_epochs_adam_eta_1000_results/weights_*.pth\n"
     ]
    },
    {
     "data": {
      "application/vnd.jupyter.widget-view+json": {
       "model_id": "f960078bb7fd42c6a9162aa5fbcaf79b",
       "version_major": 2,
       "version_minor": 0
      },
      "text/plain": [
       "Epoch [54/100]:   0%|          | 0/10 [00:00<?, ?it/s]"
      ]
     },
     "metadata": {},
     "output_type": "display_data"
    },
    {
     "name": "stdout",
     "output_type": "stream",
     "text": [
      "Epoch 54/100 — Recon_U: 997.9770, Recon_L: 997.9775, SemiSup: 0.0480, Disc_Cat: 1.3065, Gen_Cat: 0.8669, Disc_Sty: 1.3832, Gen_Sty: 0.6783\n",
      "Validation Accuracy: 90.83%\n",
      "\n",
      "Weights saved to dimensionality_reduction_results/100_epochs_adam_eta_1000_results/weights_*.pth\n"
     ]
    },
    {
     "data": {
      "application/vnd.jupyter.widget-view+json": {
       "model_id": "5bbc7002c6074e5e8d460598450494aa",
       "version_major": 2,
       "version_minor": 0
      },
      "text/plain": [
       "Epoch [55/100]:   0%|          | 0/10 [00:00<?, ?it/s]"
      ]
     },
     "metadata": {},
     "output_type": "display_data"
    },
    {
     "name": "stdout",
     "output_type": "stream",
     "text": [
      "Epoch 55/100 — Recon_U: 997.9766, Recon_L: 997.9754, SemiSup: 0.0801, Disc_Cat: 1.2944, Gen_Cat: 0.8909, Disc_Sty: 1.3844, Gen_Sty: 0.6798\n",
      "Validation Accuracy: 91.03%\n",
      "\n",
      "Weights saved to dimensionality_reduction_results/100_epochs_adam_eta_1000_results/weights_*.pth\n"
     ]
    },
    {
     "data": {
      "application/vnd.jupyter.widget-view+json": {
       "model_id": "161b3b92cb504b1f8e2fc63725ffcde2",
       "version_major": 2,
       "version_minor": 0
      },
      "text/plain": [
       "Epoch [56/100]:   0%|          | 0/10 [00:00<?, ?it/s]"
      ]
     },
     "metadata": {},
     "output_type": "display_data"
    },
    {
     "name": "stdout",
     "output_type": "stream",
     "text": [
      "Epoch 56/100 — Recon_U: 997.9747, Recon_L: 997.9735, SemiSup: 0.0836, Disc_Cat: 1.3081, Gen_Cat: 0.8503, Disc_Sty: 1.3841, Gen_Sty: 0.6794\n",
      "Validation Accuracy: 91.07%\n",
      "\n",
      "Weights saved to dimensionality_reduction_results/100_epochs_adam_eta_1000_results/weights_*.pth\n"
     ]
    },
    {
     "data": {
      "application/vnd.jupyter.widget-view+json": {
       "model_id": "003302b37ab04bada71e835f93a942ac",
       "version_major": 2,
       "version_minor": 0
      },
      "text/plain": [
       "Epoch [57/100]:   0%|          | 0/10 [00:00<?, ?it/s]"
      ]
     },
     "metadata": {},
     "output_type": "display_data"
    },
    {
     "name": "stdout",
     "output_type": "stream",
     "text": [
      "Epoch 57/100 — Recon_U: 997.9721, Recon_L: 997.9720, SemiSup: 0.0582, Disc_Cat: 1.3152, Gen_Cat: 0.8432, Disc_Sty: 1.3870, Gen_Sty: 0.6798\n",
      "Validation Accuracy: 91.08%\n",
      "\n",
      "Weights saved to dimensionality_reduction_results/100_epochs_adam_eta_1000_results/weights_*.pth\n"
     ]
    },
    {
     "data": {
      "application/vnd.jupyter.widget-view+json": {
       "model_id": "f7910d792cb841d8b8e1a1f8f4726418",
       "version_major": 2,
       "version_minor": 0
      },
      "text/plain": [
       "Epoch [58/100]:   0%|          | 0/10 [00:00<?, ?it/s]"
      ]
     },
     "metadata": {},
     "output_type": "display_data"
    },
    {
     "name": "stdout",
     "output_type": "stream",
     "text": [
      "Epoch 58/100 — Recon_U: 997.9712, Recon_L: 997.9700, SemiSup: 0.0621, Disc_Cat: 1.3196, Gen_Cat: 0.8514, Disc_Sty: 1.3907, Gen_Sty: 0.6794\n",
      "Validation Accuracy: 91.12%\n",
      "\n",
      "Weights saved to dimensionality_reduction_results/100_epochs_adam_eta_1000_results/weights_*.pth\n"
     ]
    },
    {
     "data": {
      "application/vnd.jupyter.widget-view+json": {
       "model_id": "aad0850ac5d54229b472acdc4230be07",
       "version_major": 2,
       "version_minor": 0
      },
      "text/plain": [
       "Epoch [59/100]:   0%|          | 0/10 [00:00<?, ?it/s]"
      ]
     },
     "metadata": {},
     "output_type": "display_data"
    },
    {
     "name": "stdout",
     "output_type": "stream",
     "text": [
      "Epoch 59/100 — Recon_U: 997.9703, Recon_L: 997.9684, SemiSup: 0.1134, Disc_Cat: 1.3131, Gen_Cat: 0.8485, Disc_Sty: 1.3911, Gen_Sty: 0.6785\n",
      "Validation Accuracy: 91.24%\n",
      "\n",
      "Weights saved to dimensionality_reduction_results/100_epochs_adam_eta_1000_results/weights_*.pth\n"
     ]
    },
    {
     "data": {
      "application/vnd.jupyter.widget-view+json": {
       "model_id": "2b910e5cec024bc6952191ce368b7dc1",
       "version_major": 2,
       "version_minor": 0
      },
      "text/plain": [
       "Epoch [60/100]:   0%|          | 0/10 [00:00<?, ?it/s]"
      ]
     },
     "metadata": {},
     "output_type": "display_data"
    },
    {
     "name": "stdout",
     "output_type": "stream",
     "text": [
      "Epoch 60/100 — Recon_U: 997.9680, Recon_L: 997.9666, SemiSup: 0.0554, Disc_Cat: 1.3050, Gen_Cat: 0.8781, Disc_Sty: 1.3847, Gen_Sty: 0.6888\n",
      "Validation Accuracy: 91.27%\n",
      "\n",
      "Weights saved to dimensionality_reduction_results/100_epochs_adam_eta_1000_results/weights_*.pth\n"
     ]
    },
    {
     "data": {
      "application/vnd.jupyter.widget-view+json": {
       "model_id": "5dd31e841a1444778a063252c63b80c5",
       "version_major": 2,
       "version_minor": 0
      },
      "text/plain": [
       "Epoch [61/100]:   0%|          | 0/10 [00:00<?, ?it/s]"
      ]
     },
     "metadata": {},
     "output_type": "display_data"
    },
    {
     "name": "stdout",
     "output_type": "stream",
     "text": [
      "Epoch 61/100 — Recon_U: 997.9661, Recon_L: 997.9646, SemiSup: 0.1081, Disc_Cat: 1.3023, Gen_Cat: 0.8777, Disc_Sty: 1.3930, Gen_Sty: 0.6846\n",
      "Validation Accuracy: 91.25%\n",
      "\n",
      "Weights saved to dimensionality_reduction_results/100_epochs_adam_eta_1000_results/weights_*.pth\n"
     ]
    },
    {
     "data": {
      "application/vnd.jupyter.widget-view+json": {
       "model_id": "c0345911ff2c4e6a83545b25aae941b2",
       "version_major": 2,
       "version_minor": 0
      },
      "text/plain": [
       "Epoch [62/100]:   0%|          | 0/10 [00:00<?, ?it/s]"
      ]
     },
     "metadata": {},
     "output_type": "display_data"
    },
    {
     "name": "stdout",
     "output_type": "stream",
     "text": [
      "Epoch 62/100 — Recon_U: 997.9630, Recon_L: 997.9630, SemiSup: 0.0565, Disc_Cat: 1.3193, Gen_Cat: 0.8470, Disc_Sty: 1.3902, Gen_Sty: 0.6880\n",
      "Validation Accuracy: 91.27%\n",
      "\n",
      "Weights saved to dimensionality_reduction_results/100_epochs_adam_eta_1000_results/weights_*.pth\n"
     ]
    },
    {
     "data": {
      "application/vnd.jupyter.widget-view+json": {
       "model_id": "0095faef802e44c2bff8d070a17eb644",
       "version_major": 2,
       "version_minor": 0
      },
      "text/plain": [
       "Epoch [63/100]:   0%|          | 0/10 [00:00<?, ?it/s]"
      ]
     },
     "metadata": {},
     "output_type": "display_data"
    },
    {
     "name": "stdout",
     "output_type": "stream",
     "text": [
      "Epoch 63/100 — Recon_U: 997.9618, Recon_L: 997.9614, SemiSup: 0.0440, Disc_Cat: 1.3158, Gen_Cat: 0.8520, Disc_Sty: 1.3894, Gen_Sty: 0.6917\n",
      "Validation Accuracy: 91.32%\n",
      "\n",
      "Weights saved to dimensionality_reduction_results/100_epochs_adam_eta_1000_results/weights_*.pth\n"
     ]
    },
    {
     "data": {
      "application/vnd.jupyter.widget-view+json": {
       "model_id": "9589ad9b8bca4e929d3ac7eb5d3157c4",
       "version_major": 2,
       "version_minor": 0
      },
      "text/plain": [
       "Epoch [64/100]:   0%|          | 0/10 [00:00<?, ?it/s]"
      ]
     },
     "metadata": {},
     "output_type": "display_data"
    },
    {
     "name": "stdout",
     "output_type": "stream",
     "text": [
      "Epoch 64/100 — Recon_U: 997.9604, Recon_L: 997.9594, SemiSup: 0.0319, Disc_Cat: 1.3118, Gen_Cat: 0.8632, Disc_Sty: 1.3864, Gen_Sty: 0.6934\n",
      "Validation Accuracy: 91.36%\n",
      "\n",
      "Weights saved to dimensionality_reduction_results/100_epochs_adam_eta_1000_results/weights_*.pth\n"
     ]
    },
    {
     "data": {
      "application/vnd.jupyter.widget-view+json": {
       "model_id": "80df5a66357848adb7ac33b29248ad40",
       "version_major": 2,
       "version_minor": 0
      },
      "text/plain": [
       "Epoch [65/100]:   0%|          | 0/10 [00:00<?, ?it/s]"
      ]
     },
     "metadata": {},
     "output_type": "display_data"
    },
    {
     "name": "stdout",
     "output_type": "stream",
     "text": [
      "Epoch 65/100 — Recon_U: 997.9590, Recon_L: 997.9580, SemiSup: 0.0221, Disc_Cat: 1.3066, Gen_Cat: 0.8593, Disc_Sty: 1.3872, Gen_Sty: 0.6919\n",
      "Validation Accuracy: 91.41%\n",
      "\n",
      "Weights saved to dimensionality_reduction_results/100_epochs_adam_eta_1000_results/weights_*.pth\n"
     ]
    },
    {
     "data": {
      "application/vnd.jupyter.widget-view+json": {
       "model_id": "b63f9a8e8b8947548768b93c18afd388",
       "version_major": 2,
       "version_minor": 0
      },
      "text/plain": [
       "Epoch [66/100]:   0%|          | 0/10 [00:00<?, ?it/s]"
      ]
     },
     "metadata": {},
     "output_type": "display_data"
    },
    {
     "name": "stdout",
     "output_type": "stream",
     "text": [
      "Epoch 66/100 — Recon_U: 997.9566, Recon_L: 997.9559, SemiSup: 0.0298, Disc_Cat: 1.3179, Gen_Cat: 0.8482, Disc_Sty: 1.3942, Gen_Sty: 0.6872\n",
      "Validation Accuracy: 91.34%\n",
      "\n",
      "Weights saved to dimensionality_reduction_results/100_epochs_adam_eta_1000_results/weights_*.pth\n"
     ]
    },
    {
     "data": {
      "application/vnd.jupyter.widget-view+json": {
       "model_id": "b748de1390854e8da327e8b9a2506202",
       "version_major": 2,
       "version_minor": 0
      },
      "text/plain": [
       "Epoch [67/100]:   0%|          | 0/10 [00:00<?, ?it/s]"
      ]
     },
     "metadata": {},
     "output_type": "display_data"
    },
    {
     "name": "stdout",
     "output_type": "stream",
     "text": [
      "Epoch 67/100 — Recon_U: 997.9554, Recon_L: 997.9544, SemiSup: 0.0889, Disc_Cat: 1.3100, Gen_Cat: 0.8664, Disc_Sty: 1.3922, Gen_Sty: 0.6907\n",
      "Validation Accuracy: 91.34%\n",
      "\n",
      "Weights saved to dimensionality_reduction_results/100_epochs_adam_eta_1000_results/weights_*.pth\n"
     ]
    },
    {
     "data": {
      "application/vnd.jupyter.widget-view+json": {
       "model_id": "d01f51c39d5245f696341c3dc92866d5",
       "version_major": 2,
       "version_minor": 0
      },
      "text/plain": [
       "Epoch [68/100]:   0%|          | 0/10 [00:00<?, ?it/s]"
      ]
     },
     "metadata": {},
     "output_type": "display_data"
    },
    {
     "name": "stdout",
     "output_type": "stream",
     "text": [
      "Epoch 68/100 — Recon_U: 997.9536, Recon_L: 997.9526, SemiSup: 0.0479, Disc_Cat: 1.3111, Gen_Cat: 0.8487, Disc_Sty: 1.3869, Gen_Sty: 0.6975\n",
      "Validation Accuracy: 91.39%\n",
      "\n",
      "Weights saved to dimensionality_reduction_results/100_epochs_adam_eta_1000_results/weights_*.pth\n"
     ]
    },
    {
     "data": {
      "application/vnd.jupyter.widget-view+json": {
       "model_id": "165e4704e73945678b4c491dcc6ba04b",
       "version_major": 2,
       "version_minor": 0
      },
      "text/plain": [
       "Epoch [69/100]:   0%|          | 0/10 [00:00<?, ?it/s]"
      ]
     },
     "metadata": {},
     "output_type": "display_data"
    },
    {
     "name": "stdout",
     "output_type": "stream",
     "text": [
      "Epoch 69/100 — Recon_U: 997.9521, Recon_L: 997.9507, SemiSup: 0.0610, Disc_Cat: 1.3170, Gen_Cat: 0.8673, Disc_Sty: 1.3864, Gen_Sty: 0.6962\n",
      "Validation Accuracy: 91.37%\n",
      "\n",
      "Weights saved to dimensionality_reduction_results/100_epochs_adam_eta_1000_results/weights_*.pth\n"
     ]
    },
    {
     "data": {
      "application/vnd.jupyter.widget-view+json": {
       "model_id": "d673278147094b23a1eaa67e7eda40ed",
       "version_major": 2,
       "version_minor": 0
      },
      "text/plain": [
       "Epoch [70/100]:   0%|          | 0/10 [00:00<?, ?it/s]"
      ]
     },
     "metadata": {},
     "output_type": "display_data"
    },
    {
     "name": "stdout",
     "output_type": "stream",
     "text": [
      "Epoch 70/100 — Recon_U: 997.9497, Recon_L: 997.9492, SemiSup: 0.0436, Disc_Cat: 1.3111, Gen_Cat: 0.8509, Disc_Sty: 1.3865, Gen_Sty: 0.6976\n",
      "Validation Accuracy: 91.32%\n",
      "\n",
      "Weights saved to dimensionality_reduction_results/100_epochs_adam_eta_1000_results/weights_*.pth\n"
     ]
    },
    {
     "data": {
      "application/vnd.jupyter.widget-view+json": {
       "model_id": "b60cac54d20948178114ecfb65f4a65e",
       "version_major": 2,
       "version_minor": 0
      },
      "text/plain": [
       "Epoch [71/100]:   0%|          | 0/10 [00:00<?, ?it/s]"
      ]
     },
     "metadata": {},
     "output_type": "display_data"
    },
    {
     "name": "stdout",
     "output_type": "stream",
     "text": [
      "Epoch 71/100 — Recon_U: 997.9490, Recon_L: 997.9473, SemiSup: 0.0382, Disc_Cat: 1.3146, Gen_Cat: 0.8774, Disc_Sty: 1.3909, Gen_Sty: 0.6979\n",
      "Validation Accuracy: 91.37%\n",
      "\n",
      "Weights saved to dimensionality_reduction_results/100_epochs_adam_eta_1000_results/weights_*.pth\n"
     ]
    },
    {
     "data": {
      "application/vnd.jupyter.widget-view+json": {
       "model_id": "33d4d0f1d31a4c6b85216a3d6e1854f0",
       "version_major": 2,
       "version_minor": 0
      },
      "text/plain": [
       "Epoch [72/100]:   0%|          | 0/10 [00:00<?, ?it/s]"
      ]
     },
     "metadata": {},
     "output_type": "display_data"
    },
    {
     "name": "stdout",
     "output_type": "stream",
     "text": [
      "Epoch 72/100 — Recon_U: 997.9470, Recon_L: 997.9457, SemiSup: 0.0201, Disc_Cat: 1.3234, Gen_Cat: 0.8456, Disc_Sty: 1.3879, Gen_Sty: 0.7005\n",
      "Validation Accuracy: 91.32%\n",
      "\n",
      "Weights saved to dimensionality_reduction_results/100_epochs_adam_eta_1000_results/weights_*.pth\n"
     ]
    },
    {
     "data": {
      "application/vnd.jupyter.widget-view+json": {
       "model_id": "5b94f5d952204836a101707e11c21c09",
       "version_major": 2,
       "version_minor": 0
      },
      "text/plain": [
       "Epoch [73/100]:   0%|          | 0/10 [00:00<?, ?it/s]"
      ]
     },
     "metadata": {},
     "output_type": "display_data"
    },
    {
     "name": "stdout",
     "output_type": "stream",
     "text": [
      "Epoch 73/100 — Recon_U: 997.9463, Recon_L: 997.9440, SemiSup: 0.0569, Disc_Cat: 1.3110, Gen_Cat: 0.8599, Disc_Sty: 1.3869, Gen_Sty: 0.6988\n",
      "Validation Accuracy: 91.29%\n",
      "\n",
      "Weights saved to dimensionality_reduction_results/100_epochs_adam_eta_1000_results/weights_*.pth\n"
     ]
    },
    {
     "data": {
      "application/vnd.jupyter.widget-view+json": {
       "model_id": "213c5505f25a43c9bbec14f402543faa",
       "version_major": 2,
       "version_minor": 0
      },
      "text/plain": [
       "Epoch [74/100]:   0%|          | 0/10 [00:00<?, ?it/s]"
      ]
     },
     "metadata": {},
     "output_type": "display_data"
    },
    {
     "name": "stdout",
     "output_type": "stream",
     "text": [
      "Epoch 74/100 — Recon_U: 997.9433, Recon_L: 997.9422, SemiSup: 0.0362, Disc_Cat: 1.3165, Gen_Cat: 0.8559, Disc_Sty: 1.3878, Gen_Sty: 0.7003\n",
      "Validation Accuracy: 91.34%\n",
      "\n",
      "Weights saved to dimensionality_reduction_results/100_epochs_adam_eta_1000_results/weights_*.pth\n"
     ]
    },
    {
     "data": {
      "application/vnd.jupyter.widget-view+json": {
       "model_id": "53a967f683c14a9fb027e98cea2d012d",
       "version_major": 2,
       "version_minor": 0
      },
      "text/plain": [
       "Epoch [75/100]:   0%|          | 0/10 [00:00<?, ?it/s]"
      ]
     },
     "metadata": {},
     "output_type": "display_data"
    },
    {
     "name": "stdout",
     "output_type": "stream",
     "text": [
      "Epoch 75/100 — Recon_U: 997.9413, Recon_L: 997.9405, SemiSup: 0.0636, Disc_Cat: 1.3044, Gen_Cat: 0.8972, Disc_Sty: 1.3900, Gen_Sty: 0.6977\n",
      "Validation Accuracy: 91.39%\n",
      "\n",
      "Weights saved to dimensionality_reduction_results/100_epochs_adam_eta_1000_results/weights_*.pth\n"
     ]
    },
    {
     "data": {
      "application/vnd.jupyter.widget-view+json": {
       "model_id": "02128d31e10a4b0b900d80abdf838330",
       "version_major": 2,
       "version_minor": 0
      },
      "text/plain": [
       "Epoch [76/100]:   0%|          | 0/10 [00:00<?, ?it/s]"
      ]
     },
     "metadata": {},
     "output_type": "display_data"
    },
    {
     "name": "stdout",
     "output_type": "stream",
     "text": [
      "Epoch 76/100 — Recon_U: 997.9400, Recon_L: 997.9388, SemiSup: 0.0323, Disc_Cat: 1.3234, Gen_Cat: 0.8392, Disc_Sty: 1.3901, Gen_Sty: 0.7000\n",
      "Validation Accuracy: 91.44%\n",
      "\n",
      "Weights saved to dimensionality_reduction_results/100_epochs_adam_eta_1000_results/weights_*.pth\n"
     ]
    },
    {
     "data": {
      "application/vnd.jupyter.widget-view+json": {
       "model_id": "af92419ea0b14511b5ecfec6c9fb66d8",
       "version_major": 2,
       "version_minor": 0
      },
      "text/plain": [
       "Epoch [77/100]:   0%|          | 0/10 [00:00<?, ?it/s]"
      ]
     },
     "metadata": {},
     "output_type": "display_data"
    },
    {
     "name": "stdout",
     "output_type": "stream",
     "text": [
      "Epoch 77/100 — Recon_U: 997.9386, Recon_L: 997.9370, SemiSup: 0.0499, Disc_Cat: 1.3149, Gen_Cat: 0.8811, Disc_Sty: 1.3881, Gen_Sty: 0.6960\n",
      "Validation Accuracy: 91.47%\n",
      "\n",
      "Weights saved to dimensionality_reduction_results/100_epochs_adam_eta_1000_results/weights_*.pth\n"
     ]
    },
    {
     "data": {
      "application/vnd.jupyter.widget-view+json": {
       "model_id": "a9f049073cae4699b57ba72b266a54f1",
       "version_major": 2,
       "version_minor": 0
      },
      "text/plain": [
       "Epoch [78/100]:   0%|          | 0/10 [00:00<?, ?it/s]"
      ]
     },
     "metadata": {},
     "output_type": "display_data"
    },
    {
     "name": "stdout",
     "output_type": "stream",
     "text": [
      "Epoch 78/100 — Recon_U: 997.9374, Recon_L: 997.9354, SemiSup: 0.0208, Disc_Cat: 1.3108, Gen_Cat: 0.8670, Disc_Sty: 1.3910, Gen_Sty: 0.6962\n",
      "Validation Accuracy: 91.47%\n",
      "\n",
      "Weights saved to dimensionality_reduction_results/100_epochs_adam_eta_1000_results/weights_*.pth\n"
     ]
    },
    {
     "data": {
      "application/vnd.jupyter.widget-view+json": {
       "model_id": "71eabd9441bd47c4875275f9e53d90b9",
       "version_major": 2,
       "version_minor": 0
      },
      "text/plain": [
       "Epoch [79/100]:   0%|          | 0/10 [00:00<?, ?it/s]"
      ]
     },
     "metadata": {},
     "output_type": "display_data"
    },
    {
     "name": "stdout",
     "output_type": "stream",
     "text": [
      "Epoch 79/100 — Recon_U: 997.9347, Recon_L: 997.9337, SemiSup: 0.0464, Disc_Cat: 1.3140, Gen_Cat: 0.8852, Disc_Sty: 1.3885, Gen_Sty: 0.6956\n",
      "Validation Accuracy: 91.47%\n",
      "\n",
      "Weights saved to dimensionality_reduction_results/100_epochs_adam_eta_1000_results/weights_*.pth\n"
     ]
    },
    {
     "data": {
      "application/vnd.jupyter.widget-view+json": {
       "model_id": "042166a9d20744e090b45b48300e83a8",
       "version_major": 2,
       "version_minor": 0
      },
      "text/plain": [
       "Epoch [80/100]:   0%|          | 0/10 [00:00<?, ?it/s]"
      ]
     },
     "metadata": {},
     "output_type": "display_data"
    },
    {
     "name": "stdout",
     "output_type": "stream",
     "text": [
      "Epoch 80/100 — Recon_U: 997.9336, Recon_L: 997.9320, SemiSup: 0.0171, Disc_Cat: 1.3111, Gen_Cat: 0.8603, Disc_Sty: 1.3860, Gen_Sty: 0.6979\n",
      "Validation Accuracy: 91.49%\n",
      "\n",
      "Weights saved to dimensionality_reduction_results/100_epochs_adam_eta_1000_results/weights_*.pth\n"
     ]
    },
    {
     "data": {
      "application/vnd.jupyter.widget-view+json": {
       "model_id": "2e4820c81bfb4ac7aaba4a5292706be0",
       "version_major": 2,
       "version_minor": 0
      },
      "text/plain": [
       "Epoch [81/100]:   0%|          | 0/10 [00:00<?, ?it/s]"
      ]
     },
     "metadata": {},
     "output_type": "display_data"
    },
    {
     "name": "stdout",
     "output_type": "stream",
     "text": [
      "Epoch 81/100 — Recon_U: 997.9315, Recon_L: 997.9302, SemiSup: 0.0527, Disc_Cat: 1.3179, Gen_Cat: 0.8791, Disc_Sty: 1.3864, Gen_Sty: 0.6972\n",
      "Validation Accuracy: 91.44%\n",
      "\n",
      "Weights saved to dimensionality_reduction_results/100_epochs_adam_eta_1000_results/weights_*.pth\n"
     ]
    },
    {
     "data": {
      "application/vnd.jupyter.widget-view+json": {
       "model_id": "90a6a318ab934e21a0a978d65b0d7ce6",
       "version_major": 2,
       "version_minor": 0
      },
      "text/plain": [
       "Epoch [82/100]:   0%|          | 0/10 [00:00<?, ?it/s]"
      ]
     },
     "metadata": {},
     "output_type": "display_data"
    },
    {
     "name": "stdout",
     "output_type": "stream",
     "text": [
      "Epoch 82/100 — Recon_U: 997.9309, Recon_L: 997.9284, SemiSup: 0.0349, Disc_Cat: 1.3093, Gen_Cat: 0.8906, Disc_Sty: 1.3861, Gen_Sty: 0.6982\n",
      "Validation Accuracy: 91.44%\n",
      "\n",
      "Weights saved to dimensionality_reduction_results/100_epochs_adam_eta_1000_results/weights_*.pth\n"
     ]
    },
    {
     "data": {
      "application/vnd.jupyter.widget-view+json": {
       "model_id": "61b6f85953b04d0f9a1c572ad41a2807",
       "version_major": 2,
       "version_minor": 0
      },
      "text/plain": [
       "Epoch [83/100]:   0%|          | 0/10 [00:00<?, ?it/s]"
      ]
     },
     "metadata": {},
     "output_type": "display_data"
    },
    {
     "name": "stdout",
     "output_type": "stream",
     "text": [
      "Epoch 83/100 — Recon_U: 997.9291, Recon_L: 997.9269, SemiSup: 0.0474, Disc_Cat: 1.3167, Gen_Cat: 0.8849, Disc_Sty: 1.3873, Gen_Sty: 0.6969\n",
      "Validation Accuracy: 91.53%\n",
      "\n",
      "Weights saved to dimensionality_reduction_results/100_epochs_adam_eta_1000_results/weights_*.pth\n"
     ]
    },
    {
     "data": {
      "application/vnd.jupyter.widget-view+json": {
       "model_id": "b73ce4f4ed294cc6897b9822b0f6d134",
       "version_major": 2,
       "version_minor": 0
      },
      "text/plain": [
       "Epoch [84/100]:   0%|          | 0/10 [00:00<?, ?it/s]"
      ]
     },
     "metadata": {},
     "output_type": "display_data"
    },
    {
     "name": "stdout",
     "output_type": "stream",
     "text": [
      "Epoch 84/100 — Recon_U: 997.9260, Recon_L: 997.9251, SemiSup: 0.0104, Disc_Cat: 1.3186, Gen_Cat: 0.8522, Disc_Sty: 1.3875, Gen_Sty: 0.6977\n",
      "Validation Accuracy: 91.56%\n",
      "\n",
      "Weights saved to dimensionality_reduction_results/100_epochs_adam_eta_1000_results/weights_*.pth\n"
     ]
    },
    {
     "data": {
      "application/vnd.jupyter.widget-view+json": {
       "model_id": "6d13fcdc939a4f4782f2de20002b0d50",
       "version_major": 2,
       "version_minor": 0
      },
      "text/plain": [
       "Epoch [85/100]:   0%|          | 0/10 [00:00<?, ?it/s]"
      ]
     },
     "metadata": {},
     "output_type": "display_data"
    },
    {
     "name": "stdout",
     "output_type": "stream",
     "text": [
      "Epoch 85/100 — Recon_U: 997.9247, Recon_L: 997.9236, SemiSup: 0.0406, Disc_Cat: 1.3109, Gen_Cat: 0.8846, Disc_Sty: 1.3874, Gen_Sty: 0.6994\n",
      "Validation Accuracy: 91.51%\n",
      "\n",
      "Weights saved to dimensionality_reduction_results/100_epochs_adam_eta_1000_results/weights_*.pth\n"
     ]
    },
    {
     "data": {
      "application/vnd.jupyter.widget-view+json": {
       "model_id": "e1a75a3e633540d49ac79e88ac68655a",
       "version_major": 2,
       "version_minor": 0
      },
      "text/plain": [
       "Epoch [86/100]:   0%|          | 0/10 [00:00<?, ?it/s]"
      ]
     },
     "metadata": {},
     "output_type": "display_data"
    },
    {
     "name": "stdout",
     "output_type": "stream",
     "text": [
      "Epoch 86/100 — Recon_U: 997.9235, Recon_L: 997.9217, SemiSup: 0.0262, Disc_Cat: 1.3233, Gen_Cat: 0.8493, Disc_Sty: 1.3902, Gen_Sty: 0.6974\n",
      "Validation Accuracy: 91.49%\n",
      "\n",
      "Weights saved to dimensionality_reduction_results/100_epochs_adam_eta_1000_results/weights_*.pth\n"
     ]
    },
    {
     "data": {
      "application/vnd.jupyter.widget-view+json": {
       "model_id": "cbdc47d2c7f6472caf9c98a39a9ca73e",
       "version_major": 2,
       "version_minor": 0
      },
      "text/plain": [
       "Epoch [87/100]:   0%|          | 0/10 [00:00<?, ?it/s]"
      ]
     },
     "metadata": {},
     "output_type": "display_data"
    },
    {
     "name": "stdout",
     "output_type": "stream",
     "text": [
      "Epoch 87/100 — Recon_U: 997.9217, Recon_L: 997.9202, SemiSup: 0.0414, Disc_Cat: 1.3199, Gen_Cat: 0.8611, Disc_Sty: 1.3903, Gen_Sty: 0.6970\n",
      "Validation Accuracy: 91.44%\n",
      "\n",
      "Weights saved to dimensionality_reduction_results/100_epochs_adam_eta_1000_results/weights_*.pth\n"
     ]
    },
    {
     "data": {
      "application/vnd.jupyter.widget-view+json": {
       "model_id": "9149237e744c40c1b96b9ae5b8695d70",
       "version_major": 2,
       "version_minor": 0
      },
      "text/plain": [
       "Epoch [88/100]:   0%|          | 0/10 [00:00<?, ?it/s]"
      ]
     },
     "metadata": {},
     "output_type": "display_data"
    },
    {
     "name": "stdout",
     "output_type": "stream",
     "text": [
      "Epoch 88/100 — Recon_U: 997.9198, Recon_L: 997.9184, SemiSup: 0.0392, Disc_Cat: 1.3219, Gen_Cat: 0.8614, Disc_Sty: 1.3885, Gen_Sty: 0.7007\n",
      "Validation Accuracy: 91.46%\n",
      "\n",
      "Weights saved to dimensionality_reduction_results/100_epochs_adam_eta_1000_results/weights_*.pth\n"
     ]
    },
    {
     "data": {
      "application/vnd.jupyter.widget-view+json": {
       "model_id": "9f25d390a7f3448e9de718adac8a41bc",
       "version_major": 2,
       "version_minor": 0
      },
      "text/plain": [
       "Epoch [89/100]:   0%|          | 0/10 [00:00<?, ?it/s]"
      ]
     },
     "metadata": {},
     "output_type": "display_data"
    },
    {
     "name": "stdout",
     "output_type": "stream",
     "text": [
      "Epoch 89/100 — Recon_U: 997.9185, Recon_L: 997.9168, SemiSup: 0.0466, Disc_Cat: 1.3193, Gen_Cat: 0.8689, Disc_Sty: 1.3884, Gen_Sty: 0.7008\n",
      "Validation Accuracy: 91.44%\n",
      "\n",
      "Weights saved to dimensionality_reduction_results/100_epochs_adam_eta_1000_results/weights_*.pth\n"
     ]
    },
    {
     "data": {
      "application/vnd.jupyter.widget-view+json": {
       "model_id": "f1cb29dd0d1743d1ae5b770494be2a94",
       "version_major": 2,
       "version_minor": 0
      },
      "text/plain": [
       "Epoch [90/100]:   0%|          | 0/10 [00:00<?, ?it/s]"
      ]
     },
     "metadata": {},
     "output_type": "display_data"
    },
    {
     "name": "stdout",
     "output_type": "stream",
     "text": [
      "Epoch 90/100 — Recon_U: 997.9164, Recon_L: 997.9151, SemiSup: 0.0173, Disc_Cat: 1.3222, Gen_Cat: 0.8639, Disc_Sty: 1.3888, Gen_Sty: 0.6999\n",
      "Validation Accuracy: 91.51%\n",
      "\n",
      "Weights saved to dimensionality_reduction_results/100_epochs_adam_eta_1000_results/weights_*.pth\n"
     ]
    },
    {
     "data": {
      "application/vnd.jupyter.widget-view+json": {
       "model_id": "e53cca763ae74dc3b95dc94b98a13f2a",
       "version_major": 2,
       "version_minor": 0
      },
      "text/plain": [
       "Epoch [91/100]:   0%|          | 0/10 [00:00<?, ?it/s]"
      ]
     },
     "metadata": {},
     "output_type": "display_data"
    },
    {
     "name": "stdout",
     "output_type": "stream",
     "text": [
      "Epoch 91/100 — Recon_U: 997.9150, Recon_L: 997.9131, SemiSup: 0.0682, Disc_Cat: 1.3256, Gen_Cat: 0.8489, Disc_Sty: 1.3853, Gen_Sty: 0.7021\n",
      "Validation Accuracy: 91.51%\n",
      "\n",
      "Weights saved to dimensionality_reduction_results/100_epochs_adam_eta_1000_results/weights_*.pth\n"
     ]
    },
    {
     "data": {
      "application/vnd.jupyter.widget-view+json": {
       "model_id": "0a32db7f0b484d5ca71c23f91f743768",
       "version_major": 2,
       "version_minor": 0
      },
      "text/plain": [
       "Epoch [92/100]:   0%|          | 0/10 [00:00<?, ?it/s]"
      ]
     },
     "metadata": {},
     "output_type": "display_data"
    },
    {
     "name": "stdout",
     "output_type": "stream",
     "text": [
      "Epoch 92/100 — Recon_U: 997.9120, Recon_L: 997.9118, SemiSup: 0.0201, Disc_Cat: 1.3162, Gen_Cat: 0.8666, Disc_Sty: 1.3882, Gen_Sty: 0.7024\n",
      "Validation Accuracy: 91.54%\n",
      "\n",
      "Weights saved to dimensionality_reduction_results/100_epochs_adam_eta_1000_results/weights_*.pth\n"
     ]
    },
    {
     "data": {
      "application/vnd.jupyter.widget-view+json": {
       "model_id": "a6dcad00cf6345a3a88a244b09c97629",
       "version_major": 2,
       "version_minor": 0
      },
      "text/plain": [
       "Epoch [93/100]:   0%|          | 0/10 [00:00<?, ?it/s]"
      ]
     },
     "metadata": {},
     "output_type": "display_data"
    },
    {
     "name": "stdout",
     "output_type": "stream",
     "text": [
      "Epoch 93/100 — Recon_U: 997.9110, Recon_L: 997.9101, SemiSup: 0.0282, Disc_Cat: 1.3090, Gen_Cat: 0.8756, Disc_Sty: 1.3852, Gen_Sty: 0.7016\n",
      "Validation Accuracy: 91.63%\n",
      "\n",
      "Weights saved to dimensionality_reduction_results/100_epochs_adam_eta_1000_results/weights_*.pth\n"
     ]
    },
    {
     "data": {
      "application/vnd.jupyter.widget-view+json": {
       "model_id": "1fbc17d33de14144bcde4f4383972972",
       "version_major": 2,
       "version_minor": 0
      },
      "text/plain": [
       "Epoch [94/100]:   0%|          | 0/10 [00:00<?, ?it/s]"
      ]
     },
     "metadata": {},
     "output_type": "display_data"
    },
    {
     "name": "stdout",
     "output_type": "stream",
     "text": [
      "Epoch 94/100 — Recon_U: 997.9098, Recon_L: 997.9085, SemiSup: 0.0440, Disc_Cat: 1.3246, Gen_Cat: 0.8680, Disc_Sty: 1.3863, Gen_Sty: 0.7012\n",
      "Validation Accuracy: 91.61%\n",
      "\n",
      "Weights saved to dimensionality_reduction_results/100_epochs_adam_eta_1000_results/weights_*.pth\n"
     ]
    },
    {
     "data": {
      "application/vnd.jupyter.widget-view+json": {
       "model_id": "081e5e35118b4ca59d93440f66b804e3",
       "version_major": 2,
       "version_minor": 0
      },
      "text/plain": [
       "Epoch [95/100]:   0%|          | 0/10 [00:00<?, ?it/s]"
      ]
     },
     "metadata": {},
     "output_type": "display_data"
    },
    {
     "name": "stdout",
     "output_type": "stream",
     "text": [
      "Epoch 95/100 — Recon_U: 997.9081, Recon_L: 997.9067, SemiSup: 0.0395, Disc_Cat: 1.3310, Gen_Cat: 0.8571, Disc_Sty: 1.3872, Gen_Sty: 0.7006\n",
      "Validation Accuracy: 91.59%\n",
      "\n",
      "Weights saved to dimensionality_reduction_results/100_epochs_adam_eta_1000_results/weights_*.pth\n"
     ]
    },
    {
     "data": {
      "application/vnd.jupyter.widget-view+json": {
       "model_id": "55c10f91c775445983cae5317732a475",
       "version_major": 2,
       "version_minor": 0
      },
      "text/plain": [
       "Epoch [96/100]:   0%|          | 0/10 [00:00<?, ?it/s]"
      ]
     },
     "metadata": {},
     "output_type": "display_data"
    },
    {
     "name": "stdout",
     "output_type": "stream",
     "text": [
      "Epoch 96/100 — Recon_U: 997.9059, Recon_L: 997.9049, SemiSup: 0.0295, Disc_Cat: 1.3279, Gen_Cat: 0.8480, Disc_Sty: 1.3844, Gen_Sty: 0.7005\n",
      "Validation Accuracy: 91.68%\n",
      "\n",
      "Weights saved to dimensionality_reduction_results/100_epochs_adam_eta_1000_results/weights_*.pth\n"
     ]
    },
    {
     "data": {
      "application/vnd.jupyter.widget-view+json": {
       "model_id": "67d28401990c44838883624e973b5f50",
       "version_major": 2,
       "version_minor": 0
      },
      "text/plain": [
       "Epoch [97/100]:   0%|          | 0/10 [00:00<?, ?it/s]"
      ]
     },
     "metadata": {},
     "output_type": "display_data"
    },
    {
     "name": "stdout",
     "output_type": "stream",
     "text": [
      "Epoch 97/100 — Recon_U: 997.9050, Recon_L: 997.9034, SemiSup: 0.0412, Disc_Cat: 1.3189, Gen_Cat: 0.8791, Disc_Sty: 1.3869, Gen_Sty: 0.6999\n",
      "Validation Accuracy: 91.64%\n",
      "\n",
      "Weights saved to dimensionality_reduction_results/100_epochs_adam_eta_1000_results/weights_*.pth\n"
     ]
    },
    {
     "data": {
      "application/vnd.jupyter.widget-view+json": {
       "model_id": "e6a71b8f4ce9443c83a3c01050aaefa3",
       "version_major": 2,
       "version_minor": 0
      },
      "text/plain": [
       "Epoch [98/100]:   0%|          | 0/10 [00:00<?, ?it/s]"
      ]
     },
     "metadata": {},
     "output_type": "display_data"
    },
    {
     "name": "stdout",
     "output_type": "stream",
     "text": [
      "Epoch 98/100 — Recon_U: 997.9026, Recon_L: 997.9015, SemiSup: 0.0142, Disc_Cat: 1.3181, Gen_Cat: 0.8764, Disc_Sty: 1.3858, Gen_Sty: 0.6977\n",
      "Validation Accuracy: 91.63%\n",
      "\n",
      "Weights saved to dimensionality_reduction_results/100_epochs_adam_eta_1000_results/weights_*.pth\n"
     ]
    },
    {
     "data": {
      "application/vnd.jupyter.widget-view+json": {
       "model_id": "f7aacb964c2941d29ce8a10c18f85c04",
       "version_major": 2,
       "version_minor": 0
      },
      "text/plain": [
       "Epoch [99/100]:   0%|          | 0/10 [00:00<?, ?it/s]"
      ]
     },
     "metadata": {},
     "output_type": "display_data"
    },
    {
     "name": "stdout",
     "output_type": "stream",
     "text": [
      "Epoch 99/100 — Recon_U: 997.9002, Recon_L: 997.8998, SemiSup: 0.0287, Disc_Cat: 1.3258, Gen_Cat: 0.8451, Disc_Sty: 1.3843, Gen_Sty: 0.6988\n",
      "Validation Accuracy: 91.69%\n",
      "\n",
      "Weights saved to dimensionality_reduction_results/100_epochs_adam_eta_1000_results/weights_*.pth\n"
     ]
    },
    {
     "data": {
      "application/vnd.jupyter.widget-view+json": {
       "model_id": "144a275219a4434ea7f91e7d3b174509",
       "version_major": 2,
       "version_minor": 0
      },
      "text/plain": [
       "Epoch [100/100]:   0%|          | 0/10 [00:00<?, ?it/s]"
      ]
     },
     "metadata": {},
     "output_type": "display_data"
    },
    {
     "name": "stdout",
     "output_type": "stream",
     "text": [
      "Epoch 100/100 — Recon_U: 997.9003, Recon_L: 997.8984, SemiSup: 0.0278, Disc_Cat: 1.3086, Gen_Cat: 0.8972, Disc_Sty: 1.3861, Gen_Sty: 0.6979\n",
      "Validation Accuracy: 91.76%\n",
      "\n",
      "Weights saved to dimensionality_reduction_results/100_epochs_adam_eta_1000_results/weights_epoch_100/weights_*.pth\n",
      "Weights saved to dimensionality_reduction_results/100_epochs_adam_eta_1000_results/weights_*.pth\n"
     ]
    }
   ],
   "source": [
    "model.train_mbgd_2(\n",
    "    val_loader=val_loader,\n",
    "    epochs=NUM_EPOCHS,\n",
    "    prior_std=PRIOR_STD,\n",
    "    result_folder=RESULT_FOLDER,\n",
    "    add_gaussian_noise=GAUSSIAN_NOISE,\n",
    "    train_labeled_loader=train_labeled_loader,\n",
    "    train_unlabeled_loader=train_unlabeled_loader\n",
    ")"
   ]
  },
  {
   "cell_type": "markdown",
   "id": "dc122157",
   "metadata": {},
   "source": [
    "## Accuracy Eval"
   ]
  },
  {
   "cell_type": "code",
   "execution_count": 8,
   "id": "ef724ebe",
   "metadata": {},
   "outputs": [
    {
     "name": "stdout",
     "output_type": "stream",
     "text": [
      "Weights loaded from dimensionality_reduction_results/100_epochs_adam_eta_1000_results/weights_*.pth\n"
     ]
    }
   ],
   "source": [
    "model.load_weights(\"dimensionality_reduction_results/100_epochs_adam_eta_1000_results/weights\")"
   ]
  },
  {
   "cell_type": "code",
   "execution_count": 9,
   "id": "f329e81a",
   "metadata": {},
   "outputs": [],
   "source": [
    "all_probs, all_preds = [], []\n",
    "for imgs, _ in test_loader:\n",
    "    probs, preds = model.predict(imgs)\n",
    "    all_probs.append(probs.cpu())\n",
    "    all_preds.append(preds.cpu())\n",
    "\n",
    "all_probs = torch.cat(all_probs, dim=0)\n",
    "all_preds = torch.cat(all_preds, dim=0)"
   ]
  },
  {
   "cell_type": "code",
   "execution_count": 10,
   "id": "37708662",
   "metadata": {},
   "outputs": [
    {
     "name": "stdout",
     "output_type": "stream",
     "text": [
      "Test accuracy: 91.68%\n"
     ]
    }
   ],
   "source": [
    "num_correct = torch.eq(all_preds, Y_test).sum().item()\n",
    "accuracy = num_correct / Y_test.size(0)\n",
    "print(f\"Test accuracy: {accuracy*100:.2f}%\")"
   ]
  },
  {
   "cell_type": "markdown",
   "id": "f7c84c88",
   "metadata": {},
   "source": [
    "# Visualization"
   ]
  },
  {
   "cell_type": "code",
   "execution_count": 11,
   "id": "7889a5c9",
   "metadata": {},
   "outputs": [
    {
     "name": "stdout",
     "output_type": "stream",
     "text": [
      "Weights loaded from dimensionality_reduction_results/100_epochs_adam_eta_1000_results/weights_*.pth\n"
     ]
    }
   ],
   "source": [
    "model.load_weights(\"dimensionality_reduction_results/100_epochs_adam_eta_1000_results/weights\")"
   ]
  },
  {
   "cell_type": "code",
   "execution_count": 12,
   "id": "5422b7f0",
   "metadata": {},
   "outputs": [
    {
     "name": "stderr",
     "output_type": "stream",
     "text": [
      "100%|██████████| 100/100 [00:03<00:00, 33.24it/s]\n"
     ]
    },
    {
     "data": {
      "image/png": "[encoded data removed]",
      "text/plain": [
       "<Figure size 400x400 with 1 Axes>"
      ]
     },
     "metadata": {},
     "output_type": "display_data"
    }
   ],
   "source": [
    "# ---------------------------------------------------------------\n",
    "#  Visualising the Dimensionality-Reduction AAE embedding\n",
    "#  (Figure-11 style: panels a–d)\n",
    "# ---------------------------------------------------------------\n",
    "import matplotlib.pyplot as plt\n",
    "import numpy as np\n",
    "import torch\n",
    "from tqdm import tqdm\n",
    "from sklearn.manifold import TSNE            # only used when n > 2\n",
    "\n",
    "# ----------------------------------------------------------------\n",
    "#  Replace these three handles with your own variables\n",
    "# ----------------------------------------------------------------\n",
    "model   = model                              # ❶ DimensionalityReductionAAE\n",
    "loader  = test_loader                        # ❷ held-out / validation set\n",
    "device  = torch.device(\"cuda:0\")             # ❸ or \"cpu\"\n",
    "\n",
    "# ----------------------------------------------------------------\n",
    "# 1.  Pass the entire split through `embed`\n",
    "# ----------------------------------------------------------------\n",
    "Z, colours = [], []\n",
    "model.eval()\n",
    "with torch.no_grad():\n",
    "    for x, y in tqdm(loader):\n",
    "        x = x.to(device)\n",
    "        z_batch = model.embed(x)             # (B, n)  ← new helper!\n",
    "        Z.append(z_batch.cpu())\n",
    "\n",
    "        # # decide how to colour points\n",
    "        # if model.options.n_labelled == 0:        # fully unsupervised\n",
    "        #     _, z_cat, _ = model.embed(x, return_parts=True)\n",
    "        #     colours.append(z_cat.argmax(1).cpu())   # cluster id\n",
    "        # else:                                    # semi/fully supervised\n",
    "        colours.append(y.cpu())              # true digit label\n",
    "\n",
    "Z       = torch.cat(Z).numpy()               # (N, n)\n",
    "colours = torch.cat(colours).numpy()\n",
    "\n",
    "# ----------------------------------------------------------------\n",
    "# 2.  If n == 2  → direct scatter;  else project to 2-D first\n",
    "# ----------------------------------------------------------------\n",
    "if Z.shape[1] == 2:\n",
    "    Z2 = Z\n",
    "else:\n",
    "    # Follow the paper: project 10-D style space so the K cluster\n",
    "    # heads lie on a circle (optional); t-SNE works fine too.\n",
    "    Z2 = TSNE(n_components=2, perplexity=30).fit_transform(Z)\n",
    "\n",
    "# ----------------------------------------------------------------\n",
    "# 3.  Plot\n",
    "# ----------------------------------------------------------------\n",
    "plt.figure(figsize=(4,4))\n",
    "plt.scatter(Z2[:,0], Z2[:,1], c=colours, s=4, cmap='tab10', alpha=.7)\n",
    "plt.gca().set(aspect='equal', xticks=[], yticks=[])\n",
    "title = (f\"{Z.shape[1]}-D representation \"\n",
    "         f\"(10 labels)\")\n",
    "plt.title(title)\n",
    "plt.show()\n"
   ]
  },
  {
   "cell_type": "code",
   "execution_count": null,
   "id": "cc3d98ec",
   "metadata": {},
   "outputs": [],
   "source": []
  }
 ],
 "metadata": {
  "kernelspec": {
   "display_name": "adversarial-autoencoder-u34-HMVf-py3.12",
   "language": "python",
   "name": "python3"
  },
  "language_info": {
   "codemirror_mode": {
    "name": "ipython",
    "version": 3
   },
   "file_extension": ".py",
   "mimetype": "text/x-python",
   "name": "python",
   "nbconvert_exporter": "python",
   "pygments_lexer": "ipython3",
   "version": "3.12.8"
  }
 },
 "nbformat": 4,
 "nbformat_minor": 5
}
