{
 "cells": [
  {
   "cell_type": "code",
   "execution_count": 1,
   "metadata": {},
   "outputs": [],
   "source": [
    "!export CUDA_VISIBLE_DEVICES=0"
   ]
  },
  {
   "cell_type": "code",
   "execution_count": 2,
   "metadata": {},
   "outputs": [
    {
     "name": "stdout",
     "output_type": "stream",
     "text": [
      "CUDA_VISIBLE_DEVICES: 0\n",
      "Built with CUDA: 12.4\n",
      "CUDA available?: True\n",
      "Device count: 1\n"
     ]
    }
   ],
   "source": [
    "import os, torch\n",
    "os.environ[\"CUDA_VISIBLE_DEVICES\"] = \"0\"\n",
    "print(\"CUDA_VISIBLE_DEVICES:\", os.environ.get(\"CUDA_VISIBLE_DEVICES\"))\n",
    "print(\"Built with CUDA:\", torch.version.cuda)     \n",
    "print(\"CUDA available?:\", torch.cuda.is_available())  \n",
    "print(\"Device count:\", torch.cuda.device_count())"
   ]
  },
  {
   "cell_type": "code",
   "execution_count": 3,
   "metadata": {},
   "outputs": [],
   "source": [
    "import numpy as np\n",
    "import matplotlib.pyplot as plt\n",
    "from torchvision import datasets, transforms\n",
    "from torch.utils.data import DataLoader\n",
    "from torch import nn\n",
    "from semisupervised import SemiSupervisedAutoEncoderOptions, SemiSupervisedAdversarialAutoencoder"
   ]
  },
  {
   "cell_type": "code",
   "execution_count": 4,
   "metadata": {},
   "outputs": [],
   "source": [
    "from torch.utils.data import random_split\n",
    "\n",
    "def configure_mnist(batch_size=100, val_size=10000):\n",
    "    # transform: ToTensor + flatten\n",
    "    transform = transforms.Compose([\n",
    "        transforms.ToTensor(),\n",
    "        transforms.Lambda(lambda x: x.view(-1))\n",
    "    ])\n",
    "\n",
    "    # full train + test datasets\n",
    "    full_train = datasets.MNIST(root='./data', train=True, download=True, transform=transform)\n",
    "    test_ds    = datasets.MNIST(root='./data', train=False, download=True, transform=transform)\n",
    "\n",
    "    # split full_train → train_ds (60k - val_size) and val_ds (val_size)\n",
    "    train_size = len(full_train) - val_size\n",
    "    train_ds, val_ds = random_split(full_train, [train_size, val_size])\n",
    "\n",
    "    # DataLoaders\n",
    "    train_loader = DataLoader(train_ds,  batch_size=batch_size, shuffle=True)\n",
    "    val_loader   = DataLoader(val_ds,   batch_size=batch_size, shuffle=False)\n",
    "    test_loader  = DataLoader(test_ds,  batch_size=batch_size, shuffle=False)\n",
    "\n",
    "    # (Optionally) extract raw tensors:\n",
    "    X_train = torch.stack([x for x, _ in train_ds])\n",
    "    Y_train = torch.tensor([y for _, y in train_ds])\n",
    "    X_val   = torch.stack([x for x, _ in val_ds])\n",
    "    Y_val   = torch.tensor([y for _, y in val_ds])\n",
    "    X_test  = torch.stack([x for x, _ in test_ds])\n",
    "    Y_test  = test_ds.targets.clone()\n",
    "\n",
    "    return (X_train, X_val, X_test,\n",
    "            Y_train, Y_val, Y_test,\n",
    "            train_loader, val_loader, test_loader)"
   ]
  },
  {
   "cell_type": "code",
   "execution_count": 5,
   "metadata": {},
   "outputs": [
    {
     "name": "stdout",
     "output_type": "stream",
     "text": [
      "tensor(9)\n",
      "tensor(0)\n"
     ]
    }
   ],
   "source": [
    "(X_train, X_val, X_test, Y_train, Y_val, Y_test, train_loader, val_loader, test_loader) = configure_mnist()\n",
    "\n",
    "print(Y_train.max())\n",
    "print(Y_train.min())"
   ]
  },
  {
   "cell_type": "code",
   "execution_count": 6,
   "metadata": {},
   "outputs": [],
   "source": [
    "INPUT_DIM = 784\n",
    "BATCH_SIZE = 100\n",
    "AE_HIDDEN = 1000\n",
    "DC_HIDDEN = 1000\n",
    "LATENT_DIM_CAT = 10\n",
    "LATENT_DIM_STYLE = 10\n",
    "PRIOR_STD = 1.0\n",
    "\n",
    "recon_loss = nn.MSELoss()\n",
    "init_recon_lr = 0.001 #0.01\n",
    "\n",
    "semi_sup_loss = nn.CrossEntropyLoss()\n",
    "init_semi_sup_lr = 0.001 #0.1\n",
    "\n",
    "init_gen_lr = init_disc_lr = 0.001 #0.1\n",
    "use_decoder_sigmoid = True"
   ]
  },
  {
   "cell_type": "code",
   "execution_count": 7,
   "metadata": {},
   "outputs": [],
   "source": [
    "options = SemiSupervisedAutoEncoderOptions(\n",
    "    input_dim=INPUT_DIM,\n",
    "    ae_hidden_dim=AE_HIDDEN,\n",
    "    disc_hidden_dim=DC_HIDDEN,\n",
    "    latent_dim_categorical=LATENT_DIM_CAT,\n",
    "    latent_dim_style=LATENT_DIM_STYLE,\n",
    "    recon_loss_fn=recon_loss,\n",
    "    init_recon_lr=init_recon_lr,\n",
    "    semi_supervised_loss_fn=semi_sup_loss,\n",
    "    init_semi_sup_lr=init_semi_sup_lr,\n",
    "    init_gen_lr=init_gen_lr,\n",
    "    use_decoder_sigmoid=use_decoder_sigmoid,\n",
    "    init_disc_categorical_lr = init_disc_lr,\n",
    "    init_disc_style_lr = init_disc_lr\n",
    ")\n",
    "\n",
    "model = SemiSupervisedAdversarialAutoencoder(options);"
   ]
  },
  {
   "cell_type": "code",
   "execution_count": 8,
   "metadata": {},
   "outputs": [
    {
     "data": {
      "application/vnd.jupyter.widget-view+json": {
       "model_id": "ab9ca5a31ec444a3881809ea689982e4",
       "version_major": 2,
       "version_minor": 0
      },
      "text/plain": [
       "Epoch [1/100]:   0%|          | 0/500 [00:00<?, ?it/s]"
      ]
     },
     "metadata": {},
     "output_type": "display_data"
    },
    {
     "name": "stdout",
     "output_type": "stream",
     "text": [
      "Epoch 1/100 — Recon: 0.0609, Disc_Cat: 0.3663, Gen_Cat: 5.0771, Disc_Style: 0.3417, Gen_Style: 5.4662, SemiSup: 3.7592\n",
      "Validation Accuracy: 35.26%\n",
      "\n",
      "Weights saved to semisupervised_results/100_epochs_adam_results/weights_*.pth\n"
     ]
    },
    {
     "data": {
      "application/vnd.jupyter.widget-view+json": {
       "model_id": "e465f6b3ffd14a45b67e144b1bfbef4e",
       "version_major": 2,
       "version_minor": 0
      },
      "text/plain": [
       "Epoch [2/100]:   0%|          | 0/500 [00:00<?, ?it/s]"
      ]
     },
     "metadata": {},
     "output_type": "display_data"
    },
    {
     "name": "stdout",
     "output_type": "stream",
     "text": [
      "Epoch 2/100 — Recon: 0.0388, Disc_Cat: 0.6897, Gen_Cat: 5.5884, Disc_Style: 0.5254, Gen_Style: 5.2608, SemiSup: 1.9409\n",
      "Validation Accuracy: 63.97%\n",
      "\n",
      "Weights saved to semisupervised_results/100_epochs_adam_results/weights_*.pth\n"
     ]
    },
    {
     "data": {
      "application/vnd.jupyter.widget-view+json": {
       "model_id": "df92ee101f7448d697c18b31cbb0f858",
       "version_major": 2,
       "version_minor": 0
      },
      "text/plain": [
       "Epoch [3/100]:   0%|          | 0/500 [00:00<?, ?it/s]"
      ]
     },
     "metadata": {},
     "output_type": "display_data"
    },
    {
     "name": "stdout",
     "output_type": "stream",
     "text": [
      "Epoch 3/100 — Recon: 0.0290, Disc_Cat: 0.8686, Gen_Cat: 4.1864, Disc_Style: 0.7717, Gen_Style: 3.9845, SemiSup: 1.8868\n",
      "Validation Accuracy: 66.53%\n",
      "\n",
      "Weights saved to semisupervised_results/100_epochs_adam_results/weights_*.pth\n"
     ]
    },
    {
     "data": {
      "application/vnd.jupyter.widget-view+json": {
       "model_id": "83d3748f6e854446b218fc06acfa1f14",
       "version_major": 2,
       "version_minor": 0
      },
      "text/plain": [
       "Epoch [4/100]:   0%|          | 0/500 [00:00<?, ?it/s]"
      ]
     },
     "metadata": {},
     "output_type": "display_data"
    },
    {
     "name": "stdout",
     "output_type": "stream",
     "text": [
      "Epoch 4/100 — Recon: 0.0237, Disc_Cat: 1.0532, Gen_Cat: 3.9667, Disc_Style: 0.9341, Gen_Style: 2.2338, SemiSup: 1.0771\n",
      "Validation Accuracy: 89.10%\n",
      "\n",
      "Weights saved to semisupervised_results/100_epochs_adam_results/weights_*.pth\n"
     ]
    },
    {
     "data": {
      "application/vnd.jupyter.widget-view+json": {
       "model_id": "fafdad78f48145fab85d43ba7f920c4f",
       "version_major": 2,
       "version_minor": 0
      },
      "text/plain": [
       "Epoch [5/100]:   0%|          | 0/500 [00:00<?, ?it/s]"
      ]
     },
     "metadata": {},
     "output_type": "display_data"
    },
    {
     "name": "stdout",
     "output_type": "stream",
     "text": [
      "Epoch 5/100 — Recon: 0.0206, Disc_Cat: 1.2045, Gen_Cat: 2.6495, Disc_Style: 0.8671, Gen_Style: 1.6885, SemiSup: 0.4570\n",
      "Validation Accuracy: 90.75%\n",
      "\n",
      "Weights saved to semisupervised_results/100_epochs_adam_results/weights_*.pth\n"
     ]
    },
    {
     "data": {
      "application/vnd.jupyter.widget-view+json": {
       "model_id": "bf5cbd6253c74f1b80a092643bbc8b37",
       "version_major": 2,
       "version_minor": 0
      },
      "text/plain": [
       "Epoch [6/100]:   0%|          | 0/500 [00:00<?, ?it/s]"
      ]
     },
     "metadata": {},
     "output_type": "display_data"
    },
    {
     "name": "stdout",
     "output_type": "stream",
     "text": [
      "Epoch 6/100 — Recon: 0.0195, Disc_Cat: 1.2204, Gen_Cat: 2.3635, Disc_Style: 0.9750, Gen_Style: 1.4802, SemiSup: 0.3995\n",
      "Validation Accuracy: 92.09%\n",
      "\n",
      "Weights saved to semisupervised_results/100_epochs_adam_results/weights_*.pth\n"
     ]
    },
    {
     "data": {
      "application/vnd.jupyter.widget-view+json": {
       "model_id": "c6c9db147cee4537a1ff65cfa3fdbddb",
       "version_major": 2,
       "version_minor": 0
      },
      "text/plain": [
       "Epoch [7/100]:   0%|          | 0/500 [00:00<?, ?it/s]"
      ]
     },
     "metadata": {},
     "output_type": "display_data"
    },
    {
     "name": "stdout",
     "output_type": "stream",
     "text": [
      "Epoch 7/100 — Recon: 0.0189, Disc_Cat: 1.2296, Gen_Cat: 2.1795, Disc_Style: 1.0082, Gen_Style: 1.4119, SemiSup: 0.3494\n",
      "Validation Accuracy: 92.69%\n",
      "\n",
      "Weights saved to semisupervised_results/100_epochs_adam_results/weights_*.pth\n"
     ]
    },
    {
     "data": {
      "application/vnd.jupyter.widget-view+json": {
       "model_id": "4241c2f1fab94e01ba7ec03c34c903c8",
       "version_major": 2,
       "version_minor": 0
      },
      "text/plain": [
       "Epoch [8/100]:   0%|          | 0/500 [00:00<?, ?it/s]"
      ]
     },
     "metadata": {},
     "output_type": "display_data"
    },
    {
     "name": "stdout",
     "output_type": "stream",
     "text": [
      "Epoch 8/100 — Recon: 0.0188, Disc_Cat: 1.2388, Gen_Cat: 2.0152, Disc_Style: 1.1004, Gen_Style: 1.3047, SemiSup: 0.3109\n",
      "Validation Accuracy: 93.13%\n",
      "\n",
      "Weights saved to semisupervised_results/100_epochs_adam_results/weights_*.pth\n"
     ]
    },
    {
     "data": {
      "application/vnd.jupyter.widget-view+json": {
       "model_id": "29b6ff3ba4c24d1fae6b66933e369745",
       "version_major": 2,
       "version_minor": 0
      },
      "text/plain": [
       "Epoch [9/100]:   0%|          | 0/500 [00:00<?, ?it/s]"
      ]
     },
     "metadata": {},
     "output_type": "display_data"
    },
    {
     "name": "stdout",
     "output_type": "stream",
     "text": [
      "Epoch 9/100 — Recon: 0.0183, Disc_Cat: 1.2491, Gen_Cat: 1.8310, Disc_Style: 1.1211, Gen_Style: 1.2047, SemiSup: 0.2894\n",
      "Validation Accuracy: 93.14%\n",
      "\n",
      "Weights saved to semisupervised_results/100_epochs_adam_results/weights_*.pth\n"
     ]
    },
    {
     "data": {
      "application/vnd.jupyter.widget-view+json": {
       "model_id": "0046f614fde44836adb1d224c77f086f",
       "version_major": 2,
       "version_minor": 0
      },
      "text/plain": [
       "Epoch [10/100]:   0%|          | 0/500 [00:00<?, ?it/s]"
      ]
     },
     "metadata": {},
     "output_type": "display_data"
    },
    {
     "name": "stdout",
     "output_type": "stream",
     "text": [
      "Epoch 10/100 — Recon: 0.0180, Disc_Cat: 1.2533, Gen_Cat: 1.7211, Disc_Style: 1.1690, Gen_Style: 1.1182, SemiSup: 0.2686\n",
      "Validation Accuracy: 93.89%\n",
      "\n",
      "Weights saved to semisupervised_results/100_epochs_adam_results/weights_*.pth\n"
     ]
    },
    {
     "data": {
      "application/vnd.jupyter.widget-view+json": {
       "model_id": "8471b07667f94465a9b2c30d711424bf",
       "version_major": 2,
       "version_minor": 0
      },
      "text/plain": [
       "Epoch [11/100]:   0%|          | 0/500 [00:00<?, ?it/s]"
      ]
     },
     "metadata": {},
     "output_type": "display_data"
    },
    {
     "name": "stdout",
     "output_type": "stream",
     "text": [
      "Epoch 11/100 — Recon: 0.0179, Disc_Cat: 1.2599, Gen_Cat: 1.6459, Disc_Style: 1.1807, Gen_Style: 1.0888, SemiSup: 0.2586\n",
      "Validation Accuracy: 93.82%\n",
      "\n",
      "Weights saved to semisupervised_results/100_epochs_adam_results/weights_*.pth\n"
     ]
    },
    {
     "data": {
      "application/vnd.jupyter.widget-view+json": {
       "model_id": "d22a1f6b4f5246ce945515bb54b26d78",
       "version_major": 2,
       "version_minor": 0
      },
      "text/plain": [
       "Epoch [12/100]:   0%|          | 0/500 [00:00<?, ?it/s]"
      ]
     },
     "metadata": {},
     "output_type": "display_data"
    },
    {
     "name": "stdout",
     "output_type": "stream",
     "text": [
      "Epoch 12/100 — Recon: 0.0178, Disc_Cat: 1.2672, Gen_Cat: 1.5677, Disc_Style: 1.2146, Gen_Style: 1.0339, SemiSup: 0.2444\n",
      "Validation Accuracy: 94.18%\n",
      "\n",
      "Weights saved to semisupervised_results/100_epochs_adam_results/weights_*.pth\n"
     ]
    },
    {
     "data": {
      "application/vnd.jupyter.widget-view+json": {
       "model_id": "b6f6e7204419494c827bb06662af60af",
       "version_major": 2,
       "version_minor": 0
      },
      "text/plain": [
       "Epoch [13/100]:   0%|          | 0/500 [00:00<?, ?it/s]"
      ]
     },
     "metadata": {},
     "output_type": "display_data"
    },
    {
     "name": "stdout",
     "output_type": "stream",
     "text": [
      "Epoch 13/100 — Recon: 0.0176, Disc_Cat: 1.2722, Gen_Cat: 1.4675, Disc_Style: 1.2509, Gen_Style: 0.9893, SemiSup: 0.2343\n",
      "Validation Accuracy: 94.37%\n",
      "\n",
      "Weights saved to semisupervised_results/100_epochs_adam_results/weights_*.pth\n"
     ]
    },
    {
     "data": {
      "application/vnd.jupyter.widget-view+json": {
       "model_id": "4f87ee4d1a28435a989ca5b23c1a4a64",
       "version_major": 2,
       "version_minor": 0
      },
      "text/plain": [
       "Epoch [14/100]:   0%|          | 0/500 [00:00<?, ?it/s]"
      ]
     },
     "metadata": {},
     "output_type": "display_data"
    },
    {
     "name": "stdout",
     "output_type": "stream",
     "text": [
      "Epoch 14/100 — Recon: 0.0174, Disc_Cat: 1.2749, Gen_Cat: 1.4090, Disc_Style: 1.2676, Gen_Style: 0.9439, SemiSup: 0.2221\n",
      "Validation Accuracy: 94.28%\n",
      "\n",
      "Weights saved to semisupervised_results/100_epochs_adam_results/weights_*.pth\n"
     ]
    },
    {
     "data": {
      "application/vnd.jupyter.widget-view+json": {
       "model_id": "6b8f23652cb745a494d2a42dadf586fd",
       "version_major": 2,
       "version_minor": 0
      },
      "text/plain": [
       "Epoch [15/100]:   0%|          | 0/500 [00:00<?, ?it/s]"
      ]
     },
     "metadata": {},
     "output_type": "display_data"
    },
    {
     "name": "stdout",
     "output_type": "stream",
     "text": [
      "Epoch 15/100 — Recon: 0.0171, Disc_Cat: 1.2826, Gen_Cat: 1.3634, Disc_Style: 1.2656, Gen_Style: 0.9374, SemiSup: 0.2187\n",
      "Validation Accuracy: 94.85%\n",
      "\n",
      "Weights saved to semisupervised_results/100_epochs_adam_results/weights_*.pth\n"
     ]
    },
    {
     "data": {
      "application/vnd.jupyter.widget-view+json": {
       "model_id": "44198505dab249848d426b3d8a09c906",
       "version_major": 2,
       "version_minor": 0
      },
      "text/plain": [
       "Epoch [16/100]:   0%|          | 0/500 [00:00<?, ?it/s]"
      ]
     },
     "metadata": {},
     "output_type": "display_data"
    },
    {
     "name": "stdout",
     "output_type": "stream",
     "text": [
      "Epoch 16/100 — Recon: 0.0172, Disc_Cat: 1.2849, Gen_Cat: 1.3082, Disc_Style: 1.2865, Gen_Style: 0.9106, SemiSup: 0.2089\n",
      "Validation Accuracy: 95.04%\n",
      "\n",
      "Weights saved to semisupervised_results/100_epochs_adam_results/weights_*.pth\n"
     ]
    },
    {
     "data": {
      "application/vnd.jupyter.widget-view+json": {
       "model_id": "aad4a789694048eab6536f6cd120a667",
       "version_major": 2,
       "version_minor": 0
      },
      "text/plain": [
       "Epoch [17/100]:   0%|          | 0/500 [00:00<?, ?it/s]"
      ]
     },
     "metadata": {},
     "output_type": "display_data"
    },
    {
     "name": "stdout",
     "output_type": "stream",
     "text": [
      "Epoch 17/100 — Recon: 0.0172, Disc_Cat: 1.2885, Gen_Cat: 1.2657, Disc_Style: 1.2961, Gen_Style: 0.8966, SemiSup: 0.2038\n",
      "Validation Accuracy: 95.13%\n",
      "\n",
      "Weights saved to semisupervised_results/100_epochs_adam_results/weights_*.pth\n"
     ]
    },
    {
     "data": {
      "application/vnd.jupyter.widget-view+json": {
       "model_id": "748d1d56403f414cb6d8a475f11e0f1c",
       "version_major": 2,
       "version_minor": 0
      },
      "text/plain": [
       "Epoch [18/100]:   0%|          | 0/500 [00:00<?, ?it/s]"
      ]
     },
     "metadata": {},
     "output_type": "display_data"
    },
    {
     "name": "stdout",
     "output_type": "stream",
     "text": [
      "Epoch 18/100 — Recon: 0.0168, Disc_Cat: 1.2929, Gen_Cat: 1.2168, Disc_Style: 1.3144, Gen_Style: 0.8650, SemiSup: 0.1948\n",
      "Validation Accuracy: 95.00%\n",
      "\n",
      "Weights saved to semisupervised_results/100_epochs_adam_results/weights_*.pth\n"
     ]
    },
    {
     "data": {
      "application/vnd.jupyter.widget-view+json": {
       "model_id": "ccfb372276744fac97fca00f14d151b4",
       "version_major": 2,
       "version_minor": 0
      },
      "text/plain": [
       "Epoch [19/100]:   0%|          | 0/500 [00:00<?, ?it/s]"
      ]
     },
     "metadata": {},
     "output_type": "display_data"
    },
    {
     "name": "stdout",
     "output_type": "stream",
     "text": [
      "Epoch 19/100 — Recon: 0.0168, Disc_Cat: 1.2937, Gen_Cat: 1.2147, Disc_Style: 1.3157, Gen_Style: 0.8480, SemiSup: 0.1861\n",
      "Validation Accuracy: 95.48%\n",
      "\n",
      "Weights saved to semisupervised_results/100_epochs_adam_results/weights_*.pth\n"
     ]
    },
    {
     "data": {
      "application/vnd.jupyter.widget-view+json": {
       "model_id": "d9a6ae65a0964143b24a3d6eea2b6aef",
       "version_major": 2,
       "version_minor": 0
      },
      "text/plain": [
       "Epoch [20/100]:   0%|          | 0/500 [00:00<?, ?it/s]"
      ]
     },
     "metadata": {},
     "output_type": "display_data"
    },
    {
     "name": "stdout",
     "output_type": "stream",
     "text": [
      "Epoch 20/100 — Recon: 0.0167, Disc_Cat: 1.3009, Gen_Cat: 1.1508, Disc_Style: 1.3243, Gen_Style: 0.8321, SemiSup: 0.1918\n",
      "Validation Accuracy: 95.18%\n",
      "\n",
      "Weights saved to semisupervised_results/100_epochs_adam_results/weights_*.pth\n"
     ]
    },
    {
     "data": {
      "application/vnd.jupyter.widget-view+json": {
       "model_id": "71495c64db7746e1b3b33def5686d78b",
       "version_major": 2,
       "version_minor": 0
      },
      "text/plain": [
       "Epoch [21/100]:   0%|          | 0/500 [00:00<?, ?it/s]"
      ]
     },
     "metadata": {},
     "output_type": "display_data"
    },
    {
     "name": "stdout",
     "output_type": "stream",
     "text": [
      "Epoch 21/100 — Recon: 0.0169, Disc_Cat: 1.3004, Gen_Cat: 1.1457, Disc_Style: 1.3336, Gen_Style: 0.8198, SemiSup: 0.1843\n",
      "Validation Accuracy: 95.65%\n",
      "\n",
      "Weights saved to semisupervised_results/100_epochs_adam_results/weights_*.pth\n"
     ]
    },
    {
     "data": {
      "application/vnd.jupyter.widget-view+json": {
       "model_id": "47ece873814e45d7a75c840eea3272fe",
       "version_major": 2,
       "version_minor": 0
      },
      "text/plain": [
       "Epoch [22/100]:   0%|          | 0/500 [00:00<?, ?it/s]"
      ]
     },
     "metadata": {},
     "output_type": "display_data"
    },
    {
     "name": "stdout",
     "output_type": "stream",
     "text": [
      "Epoch 22/100 — Recon: 0.0164, Disc_Cat: 1.3049, Gen_Cat: 1.1065, Disc_Style: 1.3360, Gen_Style: 0.8092, SemiSup: 0.1842\n",
      "Validation Accuracy: 95.33%\n",
      "\n",
      "Weights saved to semisupervised_results/100_epochs_adam_results/weights_*.pth\n"
     ]
    },
    {
     "data": {
      "application/vnd.jupyter.widget-view+json": {
       "model_id": "970809d33c004a2d8d69584377dbb9dd",
       "version_major": 2,
       "version_minor": 0
      },
      "text/plain": [
       "Epoch [23/100]:   0%|          | 0/500 [00:00<?, ?it/s]"
      ]
     },
     "metadata": {},
     "output_type": "display_data"
    },
    {
     "name": "stdout",
     "output_type": "stream",
     "text": [
      "Epoch 23/100 — Recon: 0.0167, Disc_Cat: 1.3052, Gen_Cat: 1.0997, Disc_Style: 1.3399, Gen_Style: 0.8105, SemiSup: 0.1781\n",
      "Validation Accuracy: 95.54%\n",
      "\n",
      "Weights saved to semisupervised_results/100_epochs_adam_results/weights_*.pth\n"
     ]
    },
    {
     "data": {
      "application/vnd.jupyter.widget-view+json": {
       "model_id": "f2bb7f29b0f94e4da3971e5aa1f262d5",
       "version_major": 2,
       "version_minor": 0
      },
      "text/plain": [
       "Epoch [24/100]:   0%|          | 0/500 [00:00<?, ?it/s]"
      ]
     },
     "metadata": {},
     "output_type": "display_data"
    },
    {
     "name": "stdout",
     "output_type": "stream",
     "text": [
      "Epoch 24/100 — Recon: 0.0167, Disc_Cat: 1.3068, Gen_Cat: 1.0928, Disc_Style: 1.3488, Gen_Style: 0.8013, SemiSup: 0.1756\n",
      "Validation Accuracy: 95.36%\n",
      "\n",
      "Weights saved to semisupervised_results/100_epochs_adam_results/weights_*.pth\n"
     ]
    },
    {
     "data": {
      "application/vnd.jupyter.widget-view+json": {
       "model_id": "4a52e4fc87fb4f7aae41cee2ab55c60a",
       "version_major": 2,
       "version_minor": 0
      },
      "text/plain": [
       "Epoch [25/100]:   0%|          | 0/500 [00:00<?, ?it/s]"
      ]
     },
     "metadata": {},
     "output_type": "display_data"
    },
    {
     "name": "stdout",
     "output_type": "stream",
     "text": [
      "Epoch 25/100 — Recon: 0.0161, Disc_Cat: 1.3088, Gen_Cat: 1.0747, Disc_Style: 1.3607, Gen_Style: 0.7664, SemiSup: 0.1756\n",
      "Validation Accuracy: 95.72%\n",
      "\n",
      "Weights saved to semisupervised_results/100_epochs_adam_results/weights_*.pth\n"
     ]
    },
    {
     "data": {
      "application/vnd.jupyter.widget-view+json": {
       "model_id": "8a778f3ee82843d0b2465c298fa713bc",
       "version_major": 2,
       "version_minor": 0
      },
      "text/plain": [
       "Epoch [26/100]:   0%|          | 0/500 [00:00<?, ?it/s]"
      ]
     },
     "metadata": {},
     "output_type": "display_data"
    },
    {
     "name": "stdout",
     "output_type": "stream",
     "text": [
      "Epoch 26/100 — Recon: 0.0162, Disc_Cat: 1.3116, Gen_Cat: 1.0435, Disc_Style: 1.3623, Gen_Style: 0.7610, SemiSup: 0.1690\n",
      "Validation Accuracy: 95.70%\n",
      "\n",
      "Weights saved to semisupervised_results/100_epochs_adam_results/weights_*.pth\n"
     ]
    },
    {
     "data": {
      "application/vnd.jupyter.widget-view+json": {
       "model_id": "2843a1a93289476d8d5945afdf6a5af9",
       "version_major": 2,
       "version_minor": 0
      },
      "text/plain": [
       "Epoch [27/100]:   0%|          | 0/500 [00:00<?, ?it/s]"
      ]
     },
     "metadata": {},
     "output_type": "display_data"
    },
    {
     "name": "stdout",
     "output_type": "stream",
     "text": [
      "Epoch 27/100 — Recon: 0.0162, Disc_Cat: 1.3125, Gen_Cat: 1.0516, Disc_Style: 1.3638, Gen_Style: 0.7644, SemiSup: 0.1719\n",
      "Validation Accuracy: 95.76%\n",
      "\n",
      "Weights saved to semisupervised_results/100_epochs_adam_results/weights_*.pth\n"
     ]
    },
    {
     "data": {
      "application/vnd.jupyter.widget-view+json": {
       "model_id": "abc5838e34cc4c01a7b87f42edd5de70",
       "version_major": 2,
       "version_minor": 0
      },
      "text/plain": [
       "Epoch [28/100]:   0%|          | 0/500 [00:00<?, ?it/s]"
      ]
     },
     "metadata": {},
     "output_type": "display_data"
    },
    {
     "name": "stdout",
     "output_type": "stream",
     "text": [
      "Epoch 28/100 — Recon: 0.0164, Disc_Cat: 1.3119, Gen_Cat: 1.0700, Disc_Style: 1.3673, Gen_Style: 0.7572, SemiSup: 0.1738\n",
      "Validation Accuracy: 95.64%\n",
      "\n",
      "Weights saved to semisupervised_results/100_epochs_adam_results/weights_*.pth\n"
     ]
    },
    {
     "data": {
      "application/vnd.jupyter.widget-view+json": {
       "model_id": "4f46a2e04a7344e4af32c2d539aeac49",
       "version_major": 2,
       "version_minor": 0
      },
      "text/plain": [
       "Epoch [29/100]:   0%|          | 0/500 [00:00<?, ?it/s]"
      ]
     },
     "metadata": {},
     "output_type": "display_data"
    },
    {
     "name": "stdout",
     "output_type": "stream",
     "text": [
      "Epoch 29/100 — Recon: 0.0163, Disc_Cat: 1.3147, Gen_Cat: 1.1181, Disc_Style: 1.3678, Gen_Style: 0.7524, SemiSup: 0.1794\n",
      "Validation Accuracy: 95.68%\n",
      "\n",
      "Weights saved to semisupervised_results/100_epochs_adam_results/weights_*.pth\n"
     ]
    },
    {
     "data": {
      "application/vnd.jupyter.widget-view+json": {
       "model_id": "afc438d1545b413a9857542481b4538e",
       "version_major": 2,
       "version_minor": 0
      },
      "text/plain": [
       "Epoch [30/100]:   0%|          | 0/500 [00:00<?, ?it/s]"
      ]
     },
     "metadata": {},
     "output_type": "display_data"
    },
    {
     "name": "stdout",
     "output_type": "stream",
     "text": [
      "Epoch 30/100 — Recon: 0.0161, Disc_Cat: 1.3151, Gen_Cat: 1.1664, Disc_Style: 1.3720, Gen_Style: 0.7375, SemiSup: 0.1757\n",
      "Validation Accuracy: 96.02%\n",
      "\n",
      "Weights saved to semisupervised_results/100_epochs_adam_results/weights_*.pth\n"
     ]
    },
    {
     "data": {
      "application/vnd.jupyter.widget-view+json": {
       "model_id": "cb03356f153e476691f7e2578f0f8385",
       "version_major": 2,
       "version_minor": 0
      },
      "text/plain": [
       "Epoch [31/100]:   0%|          | 0/500 [00:00<?, ?it/s]"
      ]
     },
     "metadata": {},
     "output_type": "display_data"
    },
    {
     "name": "stdout",
     "output_type": "stream",
     "text": [
      "Epoch 31/100 — Recon: 0.0163, Disc_Cat: 1.3160, Gen_Cat: 1.2089, Disc_Style: 1.3725, Gen_Style: 0.7459, SemiSup: 0.1835\n",
      "Validation Accuracy: 95.97%\n",
      "\n",
      "Weights saved to semisupervised_results/100_epochs_adam_results/weights_*.pth\n"
     ]
    },
    {
     "data": {
      "application/vnd.jupyter.widget-view+json": {
       "model_id": "9926963bf1b04e53bbbd348cb112a674",
       "version_major": 2,
       "version_minor": 0
      },
      "text/plain": [
       "Epoch [32/100]:   0%|          | 0/500 [00:00<?, ?it/s]"
      ]
     },
     "metadata": {},
     "output_type": "display_data"
    },
    {
     "name": "stdout",
     "output_type": "stream",
     "text": [
      "Epoch 32/100 — Recon: 0.0158, Disc_Cat: 1.3182, Gen_Cat: 1.2364, Disc_Style: 1.3755, Gen_Style: 0.7393, SemiSup: 0.1812\n",
      "Validation Accuracy: 95.75%\n",
      "\n",
      "Weights saved to semisupervised_results/100_epochs_adam_results/weights_*.pth\n"
     ]
    },
    {
     "data": {
      "application/vnd.jupyter.widget-view+json": {
       "model_id": "1a147b854d084d2598a7f9ae740ccf8a",
       "version_major": 2,
       "version_minor": 0
      },
      "text/plain": [
       "Epoch [33/100]:   0%|          | 0/500 [00:00<?, ?it/s]"
      ]
     },
     "metadata": {},
     "output_type": "display_data"
    },
    {
     "name": "stdout",
     "output_type": "stream",
     "text": [
      "Epoch 33/100 — Recon: 0.0160, Disc_Cat: 1.3167, Gen_Cat: 1.2799, Disc_Style: 1.3758, Gen_Style: 0.7383, SemiSup: 0.1782\n",
      "Validation Accuracy: 95.97%\n",
      "\n",
      "Weights saved to semisupervised_results/100_epochs_adam_results/weights_*.pth\n"
     ]
    },
    {
     "data": {
      "application/vnd.jupyter.widget-view+json": {
       "model_id": "c7a2581fdff6456dba3fd94fdb18568c",
       "version_major": 2,
       "version_minor": 0
      },
      "text/plain": [
       "Epoch [34/100]:   0%|          | 0/500 [00:00<?, ?it/s]"
      ]
     },
     "metadata": {},
     "output_type": "display_data"
    },
    {
     "name": "stdout",
     "output_type": "stream",
     "text": [
      "Epoch 34/100 — Recon: 0.0158, Disc_Cat: 1.3199, Gen_Cat: 1.2791, Disc_Style: 1.3788, Gen_Style: 0.7218, SemiSup: 0.1747\n",
      "Validation Accuracy: 96.26%\n",
      "\n",
      "Weights saved to semisupervised_results/100_epochs_adam_results/weights_*.pth\n"
     ]
    },
    {
     "data": {
      "application/vnd.jupyter.widget-view+json": {
       "model_id": "1a63a87726e54dde94b54d2d530b98ab",
       "version_major": 2,
       "version_minor": 0
      },
      "text/plain": [
       "Epoch [35/100]:   0%|          | 0/500 [00:00<?, ?it/s]"
      ]
     },
     "metadata": {},
     "output_type": "display_data"
    },
    {
     "name": "stdout",
     "output_type": "stream",
     "text": [
      "Epoch 35/100 — Recon: 0.0159, Disc_Cat: 1.3182, Gen_Cat: 1.3250, Disc_Style: 1.3783, Gen_Style: 0.7271, SemiSup: 0.1682\n",
      "Validation Accuracy: 95.57%\n",
      "\n",
      "Weights saved to semisupervised_results/100_epochs_adam_results/weights_*.pth\n"
     ]
    },
    {
     "data": {
      "application/vnd.jupyter.widget-view+json": {
       "model_id": "97677f9f6c6d4a9a9cc65b77a8dfcb15",
       "version_major": 2,
       "version_minor": 0
      },
      "text/plain": [
       "Epoch [36/100]:   0%|          | 0/500 [00:00<?, ?it/s]"
      ]
     },
     "metadata": {},
     "output_type": "display_data"
    },
    {
     "name": "stdout",
     "output_type": "stream",
     "text": [
      "Epoch 36/100 — Recon: 0.0157, Disc_Cat: 1.3185, Gen_Cat: 1.3483, Disc_Style: 1.3806, Gen_Style: 0.7250, SemiSup: 0.1707\n",
      "Validation Accuracy: 96.10%\n",
      "\n",
      "Weights saved to semisupervised_results/100_epochs_adam_results/weights_*.pth\n"
     ]
    },
    {
     "data": {
      "application/vnd.jupyter.widget-view+json": {
       "model_id": "6410020f687c4a7db28f708cd3fbe08f",
       "version_major": 2,
       "version_minor": 0
      },
      "text/plain": [
       "Epoch [37/100]:   0%|          | 0/500 [00:00<?, ?it/s]"
      ]
     },
     "metadata": {},
     "output_type": "display_data"
    },
    {
     "name": "stdout",
     "output_type": "stream",
     "text": [
      "Epoch 37/100 — Recon: 0.0159, Disc_Cat: 1.3168, Gen_Cat: 1.4227, Disc_Style: 1.3825, Gen_Style: 0.7186, SemiSup: 0.1683\n",
      "Validation Accuracy: 95.86%\n",
      "\n",
      "Weights saved to semisupervised_results/100_epochs_adam_results/weights_*.pth\n"
     ]
    },
    {
     "data": {
      "application/vnd.jupyter.widget-view+json": {
       "model_id": "6907f38d827e47cd8a0fdb640eaeb507",
       "version_major": 2,
       "version_minor": 0
      },
      "text/plain": [
       "Epoch [38/100]:   0%|          | 0/500 [00:00<?, ?it/s]"
      ]
     },
     "metadata": {},
     "output_type": "display_data"
    },
    {
     "name": "stdout",
     "output_type": "stream",
     "text": [
      "Epoch 38/100 — Recon: 0.0158, Disc_Cat: 1.3189, Gen_Cat: 1.4322, Disc_Style: 1.3784, Gen_Style: 0.7218, SemiSup: 0.1669\n",
      "Validation Accuracy: 96.06%\n",
      "\n",
      "Weights saved to semisupervised_results/100_epochs_adam_results/weights_*.pth\n"
     ]
    },
    {
     "data": {
      "application/vnd.jupyter.widget-view+json": {
       "model_id": "00b2323d78e34f6cb7f30211b1a664b8",
       "version_major": 2,
       "version_minor": 0
      },
      "text/plain": [
       "Epoch [39/100]:   0%|          | 0/500 [00:00<?, ?it/s]"
      ]
     },
     "metadata": {},
     "output_type": "display_data"
    },
    {
     "name": "stdout",
     "output_type": "stream",
     "text": [
      "Epoch 39/100 — Recon: 0.0162, Disc_Cat: 1.3165, Gen_Cat: 1.4873, Disc_Style: 1.3838, Gen_Style: 0.7191, SemiSup: 0.1673\n",
      "Validation Accuracy: 96.15%\n",
      "\n",
      "Weights saved to semisupervised_results/100_epochs_adam_results/weights_*.pth\n"
     ]
    },
    {
     "data": {
      "application/vnd.jupyter.widget-view+json": {
       "model_id": "2fa4dd022bfc48fc9e5b1b92a347322c",
       "version_major": 2,
       "version_minor": 0
      },
      "text/plain": [
       "Epoch [40/100]:   0%|          | 0/500 [00:00<?, ?it/s]"
      ]
     },
     "metadata": {},
     "output_type": "display_data"
    },
    {
     "name": "stdout",
     "output_type": "stream",
     "text": [
      "Epoch 40/100 — Recon: 0.0154, Disc_Cat: 1.3178, Gen_Cat: 1.5004, Disc_Style: 1.3819, Gen_Style: 0.7223, SemiSup: 0.1653\n",
      "Validation Accuracy: 96.19%\n",
      "\n",
      "Weights saved to semisupervised_results/100_epochs_adam_results/weights_*.pth\n"
     ]
    },
    {
     "data": {
      "application/vnd.jupyter.widget-view+json": {
       "model_id": "a1a31307131847d585ad09ce8b2f0a70",
       "version_major": 2,
       "version_minor": 0
      },
      "text/plain": [
       "Epoch [41/100]:   0%|          | 0/500 [00:00<?, ?it/s]"
      ]
     },
     "metadata": {},
     "output_type": "display_data"
    },
    {
     "name": "stdout",
     "output_type": "stream",
     "text": [
      "Epoch 41/100 — Recon: 0.0154, Disc_Cat: 1.3184, Gen_Cat: 1.5092, Disc_Style: 1.3825, Gen_Style: 0.7138, SemiSup: 0.1613\n",
      "Validation Accuracy: 95.99%\n",
      "\n",
      "Weights saved to semisupervised_results/100_epochs_adam_results/weights_*.pth\n"
     ]
    },
    {
     "data": {
      "application/vnd.jupyter.widget-view+json": {
       "model_id": "e963d4a14fdf41dfb7b64e08e1e5386c",
       "version_major": 2,
       "version_minor": 0
      },
      "text/plain": [
       "Epoch [42/100]:   0%|          | 0/500 [00:00<?, ?it/s]"
      ]
     },
     "metadata": {},
     "output_type": "display_data"
    },
    {
     "name": "stdout",
     "output_type": "stream",
     "text": [
      "Epoch 42/100 — Recon: 0.0152, Disc_Cat: 1.3190, Gen_Cat: 1.5346, Disc_Style: 1.3836, Gen_Style: 0.7108, SemiSup: 0.1590\n",
      "Validation Accuracy: 96.01%\n",
      "\n",
      "Weights saved to semisupervised_results/100_epochs_adam_results/weights_*.pth\n"
     ]
    },
    {
     "data": {
      "application/vnd.jupyter.widget-view+json": {
       "model_id": "9832bca8ec944864922c0a1a6af3f87a",
       "version_major": 2,
       "version_minor": 0
      },
      "text/plain": [
       "Epoch [43/100]:   0%|          | 0/500 [00:00<?, ?it/s]"
      ]
     },
     "metadata": {},
     "output_type": "display_data"
    },
    {
     "name": "stdout",
     "output_type": "stream",
     "text": [
      "Epoch 43/100 — Recon: 0.0159, Disc_Cat: 1.3150, Gen_Cat: 1.6002, Disc_Style: 1.3831, Gen_Style: 0.7211, SemiSup: 0.1603\n",
      "Validation Accuracy: 95.96%\n",
      "\n",
      "Weights saved to semisupervised_results/100_epochs_adam_results/weights_*.pth\n"
     ]
    },
    {
     "data": {
      "application/vnd.jupyter.widget-view+json": {
       "model_id": "969bfcd1acda4c7f83231042572258f7",
       "version_major": 2,
       "version_minor": 0
      },
      "text/plain": [
       "Epoch [44/100]:   0%|          | 0/500 [00:00<?, ?it/s]"
      ]
     },
     "metadata": {},
     "output_type": "display_data"
    },
    {
     "name": "stdout",
     "output_type": "stream",
     "text": [
      "Epoch 44/100 — Recon: 0.0157, Disc_Cat: 1.3177, Gen_Cat: 1.5827, Disc_Style: 1.3850, Gen_Style: 0.7070, SemiSup: 0.1564\n",
      "Validation Accuracy: 96.00%\n",
      "\n",
      "Weights saved to semisupervised_results/100_epochs_adam_results/weights_*.pth\n"
     ]
    },
    {
     "data": {
      "application/vnd.jupyter.widget-view+json": {
       "model_id": "3bff944eb88a4de48a91b59632a84810",
       "version_major": 2,
       "version_minor": 0
      },
      "text/plain": [
       "Epoch [45/100]:   0%|          | 0/500 [00:00<?, ?it/s]"
      ]
     },
     "metadata": {},
     "output_type": "display_data"
    },
    {
     "name": "stdout",
     "output_type": "stream",
     "text": [
      "Epoch 45/100 — Recon: 0.0156, Disc_Cat: 1.3181, Gen_Cat: 1.5950, Disc_Style: 1.3866, Gen_Style: 0.7101, SemiSup: 0.1563\n",
      "Validation Accuracy: 95.99%\n",
      "\n",
      "Weights saved to semisupervised_results/100_epochs_adam_results/weights_*.pth\n"
     ]
    },
    {
     "data": {
      "application/vnd.jupyter.widget-view+json": {
       "model_id": "ad1da1ba110347cd9642d85aa25f778d",
       "version_major": 2,
       "version_minor": 0
      },
      "text/plain": [
       "Epoch [46/100]:   0%|          | 0/500 [00:00<?, ?it/s]"
      ]
     },
     "metadata": {},
     "output_type": "display_data"
    },
    {
     "name": "stdout",
     "output_type": "stream",
     "text": [
      "Epoch 46/100 — Recon: 0.0151, Disc_Cat: 1.3177, Gen_Cat: 1.6180, Disc_Style: 1.3860, Gen_Style: 0.7066, SemiSup: 0.1491\n",
      "Validation Accuracy: 96.41%\n",
      "\n",
      "Weights saved to semisupervised_results/100_epochs_adam_results/weights_*.pth\n"
     ]
    },
    {
     "data": {
      "application/vnd.jupyter.widget-view+json": {
       "model_id": "8528e97b79c04b2fae66efc73139251f",
       "version_major": 2,
       "version_minor": 0
      },
      "text/plain": [
       "Epoch [47/100]:   0%|          | 0/500 [00:00<?, ?it/s]"
      ]
     },
     "metadata": {},
     "output_type": "display_data"
    },
    {
     "name": "stdout",
     "output_type": "stream",
     "text": [
      "Epoch 47/100 — Recon: 0.0150, Disc_Cat: 1.3188, Gen_Cat: 1.6081, Disc_Style: 1.3859, Gen_Style: 0.7041, SemiSup: 0.1472\n",
      "Validation Accuracy: 95.79%\n",
      "\n",
      "Weights saved to semisupervised_results/100_epochs_adam_results/weights_*.pth\n"
     ]
    },
    {
     "data": {
      "application/vnd.jupyter.widget-view+json": {
       "model_id": "f390edc1c1ae45e9bade80acae3d6829",
       "version_major": 2,
       "version_minor": 0
      },
      "text/plain": [
       "Epoch [48/100]:   0%|          | 0/500 [00:00<?, ?it/s]"
      ]
     },
     "metadata": {},
     "output_type": "display_data"
    },
    {
     "name": "stdout",
     "output_type": "stream",
     "text": [
      "Epoch 48/100 — Recon: 0.0151, Disc_Cat: 1.3194, Gen_Cat: 1.6090, Disc_Style: 1.3872, Gen_Style: 0.7024, SemiSup: 0.1512\n",
      "Validation Accuracy: 96.43%\n",
      "\n",
      "Weights saved to semisupervised_results/100_epochs_adam_results/weights_*.pth\n"
     ]
    },
    {
     "data": {
      "application/vnd.jupyter.widget-view+json": {
       "model_id": "c9a28ad2fa324cf4a3950539ea195ef7",
       "version_major": 2,
       "version_minor": 0
      },
      "text/plain": [
       "Epoch [49/100]:   0%|          | 0/500 [00:00<?, ?it/s]"
      ]
     },
     "metadata": {},
     "output_type": "display_data"
    },
    {
     "name": "stdout",
     "output_type": "stream",
     "text": [
      "Epoch 49/100 — Recon: 0.0152, Disc_Cat: 1.3195, Gen_Cat: 1.6539, Disc_Style: 1.3880, Gen_Style: 0.7069, SemiSup: 0.1455\n",
      "Validation Accuracy: 96.08%\n",
      "\n",
      "Weights saved to semisupervised_results/100_epochs_adam_results/weights_*.pth\n"
     ]
    },
    {
     "data": {
      "application/vnd.jupyter.widget-view+json": {
       "model_id": "d3510ef4992b41febc31fc87fe2acbcc",
       "version_major": 2,
       "version_minor": 0
      },
      "text/plain": [
       "Epoch [50/100]:   0%|          | 0/500 [00:00<?, ?it/s]"
      ]
     },
     "metadata": {},
     "output_type": "display_data"
    },
    {
     "name": "stdout",
     "output_type": "stream",
     "text": [
      "Epoch 50/100 — Recon: 0.0156, Disc_Cat: 1.3154, Gen_Cat: 1.7123, Disc_Style: 1.3863, Gen_Style: 0.7075, SemiSup: 0.1490\n",
      "Validation Accuracy: 96.42%\n",
      "\n",
      "Weights saved to semisupervised_results/100_epochs_adam_results/weights_*.pth\n"
     ]
    },
    {
     "data": {
      "application/vnd.jupyter.widget-view+json": {
       "model_id": "b1c70b11fce347519ea0d4c6a168965e",
       "version_major": 2,
       "version_minor": 0
      },
      "text/plain": [
       "Epoch [51/100]:   0%|          | 0/500 [00:00<?, ?it/s]"
      ]
     },
     "metadata": {},
     "output_type": "display_data"
    },
    {
     "name": "stdout",
     "output_type": "stream",
     "text": [
      "Epoch 51/100 — Recon: 0.0135, Disc_Cat: 1.3120, Gen_Cat: 1.7503, Disc_Style: 1.3809, Gen_Style: 0.6995, SemiSup: 0.1162\n",
      "Validation Accuracy: 96.69%\n",
      "\n",
      "Weights saved to semisupervised_results/100_epochs_adam_results/weights_*.pth\n"
     ]
    },
    {
     "data": {
      "application/vnd.jupyter.widget-view+json": {
       "model_id": "b5a2c2004fec4087b933e1d53a4a8c7b",
       "version_major": 2,
       "version_minor": 0
      },
      "text/plain": [
       "Epoch [52/100]:   0%|          | 0/500 [00:00<?, ?it/s]"
      ]
     },
     "metadata": {},
     "output_type": "display_data"
    },
    {
     "name": "stdout",
     "output_type": "stream",
     "text": [
      "Epoch 52/100 — Recon: 0.0129, Disc_Cat: 1.3138, Gen_Cat: 1.7216, Disc_Style: 1.3778, Gen_Style: 0.7052, SemiSup: 0.1133\n",
      "Validation Accuracy: 96.63%\n",
      "\n",
      "Weights saved to semisupervised_results/100_epochs_adam_results/weights_*.pth\n"
     ]
    },
    {
     "data": {
      "application/vnd.jupyter.widget-view+json": {
       "model_id": "9687a3fb87f746fe943ab3a70f9d4c4a",
       "version_major": 2,
       "version_minor": 0
      },
      "text/plain": [
       "Epoch [53/100]:   0%|          | 0/500 [00:00<?, ?it/s]"
      ]
     },
     "metadata": {},
     "output_type": "display_data"
    },
    {
     "name": "stdout",
     "output_type": "stream",
     "text": [
      "Epoch 53/100 — Recon: 0.0128, Disc_Cat: 1.3126, Gen_Cat: 1.7522, Disc_Style: 1.3783, Gen_Style: 0.7070, SemiSup: 0.1129\n",
      "Validation Accuracy: 96.64%\n",
      "\n",
      "Weights saved to semisupervised_results/100_epochs_adam_results/weights_*.pth\n"
     ]
    },
    {
     "data": {
      "application/vnd.jupyter.widget-view+json": {
       "model_id": "bec8f972cc304802b5ac9c55f5513dd8",
       "version_major": 2,
       "version_minor": 0
      },
      "text/plain": [
       "Epoch [54/100]:   0%|          | 0/500 [00:00<?, ?it/s]"
      ]
     },
     "metadata": {},
     "output_type": "display_data"
    },
    {
     "name": "stdout",
     "output_type": "stream",
     "text": [
      "Epoch 54/100 — Recon: 0.0127, Disc_Cat: 1.3091, Gen_Cat: 1.8126, Disc_Style: 1.3751, Gen_Style: 0.7064, SemiSup: 0.1111\n",
      "Validation Accuracy: 96.72%\n",
      "\n",
      "Weights saved to semisupervised_results/100_epochs_adam_results/weights_*.pth\n"
     ]
    },
    {
     "data": {
      "application/vnd.jupyter.widget-view+json": {
       "model_id": "a202b4280209401d8a5875ec0a3a206f",
       "version_major": 2,
       "version_minor": 0
      },
      "text/plain": [
       "Epoch [55/100]:   0%|          | 0/500 [00:00<?, ?it/s]"
      ]
     },
     "metadata": {},
     "output_type": "display_data"
    },
    {
     "name": "stdout",
     "output_type": "stream",
     "text": [
      "Epoch 55/100 — Recon: 0.0127, Disc_Cat: 1.3097, Gen_Cat: 1.8262, Disc_Style: 1.3718, Gen_Style: 0.7115, SemiSup: 0.1160\n",
      "Validation Accuracy: 96.70%\n",
      "\n",
      "Weights saved to semisupervised_results/100_epochs_adam_results/weights_*.pth\n"
     ]
    },
    {
     "data": {
      "application/vnd.jupyter.widget-view+json": {
       "model_id": "2f01080f201448ed9019a0e39b9050b3",
       "version_major": 2,
       "version_minor": 0
      },
      "text/plain": [
       "Epoch [56/100]:   0%|          | 0/500 [00:00<?, ?it/s]"
      ]
     },
     "metadata": {},
     "output_type": "display_data"
    },
    {
     "name": "stdout",
     "output_type": "stream",
     "text": [
      "Epoch 56/100 — Recon: 0.0129, Disc_Cat: 1.3083, Gen_Cat: 1.8823, Disc_Style: 1.3705, Gen_Style: 0.7112, SemiSup: 0.1144\n",
      "Validation Accuracy: 96.67%\n",
      "\n",
      "Weights saved to semisupervised_results/100_epochs_adam_results/weights_*.pth\n"
     ]
    },
    {
     "data": {
      "application/vnd.jupyter.widget-view+json": {
       "model_id": "9c65051d9fce4984815f7e7a4d60aa2f",
       "version_major": 2,
       "version_minor": 0
      },
      "text/plain": [
       "Epoch [57/100]:   0%|          | 0/500 [00:00<?, ?it/s]"
      ]
     },
     "metadata": {},
     "output_type": "display_data"
    },
    {
     "name": "stdout",
     "output_type": "stream",
     "text": [
      "Epoch 57/100 — Recon: 0.0129, Disc_Cat: 1.3093, Gen_Cat: 1.8857, Disc_Style: 1.3688, Gen_Style: 0.7259, SemiSup: 0.1191\n",
      "Validation Accuracy: 96.59%\n",
      "\n",
      "Weights saved to semisupervised_results/100_epochs_adam_results/weights_*.pth\n"
     ]
    },
    {
     "data": {
      "application/vnd.jupyter.widget-view+json": {
       "model_id": "6ee05885487e43709a56ecc6933f2508",
       "version_major": 2,
       "version_minor": 0
      },
      "text/plain": [
       "Epoch [58/100]:   0%|          | 0/500 [00:00<?, ?it/s]"
      ]
     },
     "metadata": {},
     "output_type": "display_data"
    },
    {
     "name": "stdout",
     "output_type": "stream",
     "text": [
      "Epoch 58/100 — Recon: 0.0129, Disc_Cat: 1.3097, Gen_Cat: 1.9300, Disc_Style: 1.3619, Gen_Style: 0.7106, SemiSup: 0.1193\n",
      "Validation Accuracy: 96.60%\n",
      "\n",
      "Weights saved to semisupervised_results/100_epochs_adam_results/weights_*.pth\n"
     ]
    },
    {
     "data": {
      "application/vnd.jupyter.widget-view+json": {
       "model_id": "ee36868030b84ad693bf157182570839",
       "version_major": 2,
       "version_minor": 0
      },
      "text/plain": [
       "Epoch [59/100]:   0%|          | 0/500 [00:00<?, ?it/s]"
      ]
     },
     "metadata": {},
     "output_type": "display_data"
    },
    {
     "name": "stdout",
     "output_type": "stream",
     "text": [
      "Epoch 59/100 — Recon: 0.0128, Disc_Cat: 1.3078, Gen_Cat: 1.9665, Disc_Style: 1.3534, Gen_Style: 0.7240, SemiSup: 0.1170\n",
      "Validation Accuracy: 96.63%\n",
      "\n",
      "Weights saved to semisupervised_results/100_epochs_adam_results/weights_*.pth\n"
     ]
    },
    {
     "data": {
      "application/vnd.jupyter.widget-view+json": {
       "model_id": "ec27cd8b2788494d871e3b70a8c56d97",
       "version_major": 2,
       "version_minor": 0
      },
      "text/plain": [
       "Epoch [60/100]:   0%|          | 0/500 [00:00<?, ?it/s]"
      ]
     },
     "metadata": {},
     "output_type": "display_data"
    },
    {
     "name": "stdout",
     "output_type": "stream",
     "text": [
      "Epoch 60/100 — Recon: 0.0127, Disc_Cat: 1.3085, Gen_Cat: 1.9958, Disc_Style: 1.3504, Gen_Style: 0.7356, SemiSup: 0.1178\n",
      "Validation Accuracy: 96.58%\n",
      "\n",
      "Weights saved to semisupervised_results/100_epochs_adam_results/weights_*.pth\n"
     ]
    },
    {
     "data": {
      "application/vnd.jupyter.widget-view+json": {
       "model_id": "f5d5c1de132b4f9cb58ab3fa96a7023b",
       "version_major": 2,
       "version_minor": 0
      },
      "text/plain": [
       "Epoch [61/100]:   0%|          | 0/500 [00:00<?, ?it/s]"
      ]
     },
     "metadata": {},
     "output_type": "display_data"
    },
    {
     "name": "stdout",
     "output_type": "stream",
     "text": [
      "Epoch 61/100 — Recon: 0.0126, Disc_Cat: 1.3059, Gen_Cat: 2.0409, Disc_Style: 1.3490, Gen_Style: 0.7388, SemiSup: 0.1154\n",
      "Validation Accuracy: 96.58%\n",
      "\n",
      "Weights saved to semisupervised_results/100_epochs_adam_results/weights_*.pth\n"
     ]
    },
    {
     "data": {
      "application/vnd.jupyter.widget-view+json": {
       "model_id": "5128b6f53f3c4d13aafab094ac1bd3f7",
       "version_major": 2,
       "version_minor": 0
      },
      "text/plain": [
       "Epoch [62/100]:   0%|          | 0/500 [00:00<?, ?it/s]"
      ]
     },
     "metadata": {},
     "output_type": "display_data"
    },
    {
     "name": "stdout",
     "output_type": "stream",
     "text": [
      "Epoch 62/100 — Recon: 0.0126, Disc_Cat: 1.3097, Gen_Cat: 2.0473, Disc_Style: 1.3442, Gen_Style: 0.7429, SemiSup: 0.1175\n",
      "Validation Accuracy: 96.57%\n",
      "\n",
      "Weights saved to semisupervised_results/100_epochs_adam_results/weights_*.pth\n"
     ]
    },
    {
     "data": {
      "application/vnd.jupyter.widget-view+json": {
       "model_id": "7e3687ae8752486fbe0c365ad01c9466",
       "version_major": 2,
       "version_minor": 0
      },
      "text/plain": [
       "Epoch [63/100]:   0%|          | 0/500 [00:00<?, ?it/s]"
      ]
     },
     "metadata": {},
     "output_type": "display_data"
    },
    {
     "name": "stdout",
     "output_type": "stream",
     "text": [
      "Epoch 63/100 — Recon: 0.0126, Disc_Cat: 1.3082, Gen_Cat: 2.0794, Disc_Style: 1.3361, Gen_Style: 0.7491, SemiSup: 0.1165\n",
      "Validation Accuracy: 96.61%\n",
      "\n",
      "Weights saved to semisupervised_results/100_epochs_adam_results/weights_*.pth\n"
     ]
    },
    {
     "data": {
      "application/vnd.jupyter.widget-view+json": {
       "model_id": "cd2c33dff0164d0fa354be87feac311d",
       "version_major": 2,
       "version_minor": 0
      },
      "text/plain": [
       "Epoch [64/100]:   0%|          | 0/500 [00:00<?, ?it/s]"
      ]
     },
     "metadata": {},
     "output_type": "display_data"
    },
    {
     "name": "stdout",
     "output_type": "stream",
     "text": [
      "Epoch 64/100 — Recon: 0.0126, Disc_Cat: 1.3086, Gen_Cat: 2.1126, Disc_Style: 1.3324, Gen_Style: 0.7504, SemiSup: 0.1161\n",
      "Validation Accuracy: 96.62%\n",
      "\n",
      "Weights saved to semisupervised_results/100_epochs_adam_results/weights_*.pth\n"
     ]
    },
    {
     "data": {
      "application/vnd.jupyter.widget-view+json": {
       "model_id": "1fea72aee4a840bb8fa70d5569dcdb7d",
       "version_major": 2,
       "version_minor": 0
      },
      "text/plain": [
       "Epoch [65/100]:   0%|          | 0/500 [00:00<?, ?it/s]"
      ]
     },
     "metadata": {},
     "output_type": "display_data"
    },
    {
     "name": "stdout",
     "output_type": "stream",
     "text": [
      "Epoch 65/100 — Recon: 0.0126, Disc_Cat: 1.3082, Gen_Cat: 2.1472, Disc_Style: 1.3337, Gen_Style: 0.7604, SemiSup: 0.1170\n",
      "Validation Accuracy: 96.65%\n",
      "\n",
      "Weights saved to semisupervised_results/100_epochs_adam_results/weights_*.pth\n"
     ]
    },
    {
     "data": {
      "application/vnd.jupyter.widget-view+json": {
       "model_id": "116dabc02b134f679b98f1e510c150c2",
       "version_major": 2,
       "version_minor": 0
      },
      "text/plain": [
       "Epoch [66/100]:   0%|          | 0/500 [00:00<?, ?it/s]"
      ]
     },
     "metadata": {},
     "output_type": "display_data"
    },
    {
     "name": "stdout",
     "output_type": "stream",
     "text": [
      "Epoch 66/100 — Recon: 0.0126, Disc_Cat: 1.3091, Gen_Cat: 2.1704, Disc_Style: 1.3266, Gen_Style: 0.7636, SemiSup: 0.1178\n",
      "Validation Accuracy: 96.59%\n",
      "\n",
      "Weights saved to semisupervised_results/100_epochs_adam_results/weights_*.pth\n"
     ]
    },
    {
     "data": {
      "application/vnd.jupyter.widget-view+json": {
       "model_id": "c46e3509646649fb86c5ec18d10dc538",
       "version_major": 2,
       "version_minor": 0
      },
      "text/plain": [
       "Epoch [67/100]:   0%|          | 0/500 [00:00<?, ?it/s]"
      ]
     },
     "metadata": {},
     "output_type": "display_data"
    },
    {
     "name": "stdout",
     "output_type": "stream",
     "text": [
      "Epoch 67/100 — Recon: 0.0126, Disc_Cat: 1.3086, Gen_Cat: 2.2060, Disc_Style: 1.3246, Gen_Style: 0.7720, SemiSup: 0.1171\n",
      "Validation Accuracy: 96.58%\n",
      "\n",
      "Weights saved to semisupervised_results/100_epochs_adam_results/weights_*.pth\n"
     ]
    },
    {
     "data": {
      "application/vnd.jupyter.widget-view+json": {
       "model_id": "d2084d17ba8a4ea4a777cb1937540dc1",
       "version_major": 2,
       "version_minor": 0
      },
      "text/plain": [
       "Epoch [68/100]:   0%|          | 0/500 [00:00<?, ?it/s]"
      ]
     },
     "metadata": {},
     "output_type": "display_data"
    },
    {
     "name": "stdout",
     "output_type": "stream",
     "text": [
      "Epoch 68/100 — Recon: 0.0125, Disc_Cat: 1.3095, Gen_Cat: 2.2104, Disc_Style: 1.3227, Gen_Style: 0.7704, SemiSup: 0.1169\n",
      "Validation Accuracy: 96.61%\n",
      "\n",
      "Weights saved to semisupervised_results/100_epochs_adam_results/weights_*.pth\n"
     ]
    },
    {
     "data": {
      "application/vnd.jupyter.widget-view+json": {
       "model_id": "9ca599ff1eb34e3fa8a2b2c05b968f32",
       "version_major": 2,
       "version_minor": 0
      },
      "text/plain": [
       "Epoch [69/100]:   0%|          | 0/500 [00:00<?, ?it/s]"
      ]
     },
     "metadata": {},
     "output_type": "display_data"
    },
    {
     "name": "stdout",
     "output_type": "stream",
     "text": [
      "Epoch 69/100 — Recon: 0.0125, Disc_Cat: 1.3105, Gen_Cat: 2.2252, Disc_Style: 1.3160, Gen_Style: 0.7773, SemiSup: 0.1155\n",
      "Validation Accuracy: 96.67%\n",
      "\n",
      "Weights saved to semisupervised_results/100_epochs_adam_results/weights_*.pth\n"
     ]
    },
    {
     "data": {
      "application/vnd.jupyter.widget-view+json": {
       "model_id": "7151ad3793ed417188ff6a32b1cc80ad",
       "version_major": 2,
       "version_minor": 0
      },
      "text/plain": [
       "Epoch [70/100]:   0%|          | 0/500 [00:00<?, ?it/s]"
      ]
     },
     "metadata": {},
     "output_type": "display_data"
    },
    {
     "name": "stdout",
     "output_type": "stream",
     "text": [
      "Epoch 70/100 — Recon: 0.0125, Disc_Cat: 1.3101, Gen_Cat: 2.2606, Disc_Style: 1.3141, Gen_Style: 0.7817, SemiSup: 0.1175\n",
      "Validation Accuracy: 96.66%\n",
      "\n",
      "Weights saved to semisupervised_results/100_epochs_adam_results/weights_*.pth\n"
     ]
    },
    {
     "data": {
      "application/vnd.jupyter.widget-view+json": {
       "model_id": "0d176b32c3c4459bbce1fa9fcbf0e25f",
       "version_major": 2,
       "version_minor": 0
      },
      "text/plain": [
       "Epoch [71/100]:   0%|          | 0/500 [00:00<?, ?it/s]"
      ]
     },
     "metadata": {},
     "output_type": "display_data"
    },
    {
     "name": "stdout",
     "output_type": "stream",
     "text": [
      "Epoch 71/100 — Recon: 0.0125, Disc_Cat: 1.3107, Gen_Cat: 2.2885, Disc_Style: 1.3082, Gen_Style: 0.7831, SemiSup: 0.1154\n",
      "Validation Accuracy: 96.71%\n",
      "\n",
      "Weights saved to semisupervised_results/100_epochs_adam_results/weights_*.pth\n"
     ]
    },
    {
     "data": {
      "application/vnd.jupyter.widget-view+json": {
       "model_id": "63979404b9954711a666827ba9093cbc",
       "version_major": 2,
       "version_minor": 0
      },
      "text/plain": [
       "Epoch [72/100]:   0%|          | 0/500 [00:00<?, ?it/s]"
      ]
     },
     "metadata": {},
     "output_type": "display_data"
    },
    {
     "name": "stdout",
     "output_type": "stream",
     "text": [
      "Epoch 72/100 — Recon: 0.0124, Disc_Cat: 1.3100, Gen_Cat: 2.3336, Disc_Style: 1.3058, Gen_Style: 0.7939, SemiSup: 0.1159\n",
      "Validation Accuracy: 96.68%\n",
      "\n",
      "Weights saved to semisupervised_results/100_epochs_adam_results/weights_*.pth\n"
     ]
    },
    {
     "data": {
      "application/vnd.jupyter.widget-view+json": {
       "model_id": "f17d249dc57443afaad915483a9aafcc",
       "version_major": 2,
       "version_minor": 0
      },
      "text/plain": [
       "Epoch [73/100]:   0%|          | 0/500 [00:00<?, ?it/s]"
      ]
     },
     "metadata": {},
     "output_type": "display_data"
    },
    {
     "name": "stdout",
     "output_type": "stream",
     "text": [
      "Epoch 73/100 — Recon: 0.0124, Disc_Cat: 1.3092, Gen_Cat: 2.3671, Disc_Style: 1.3048, Gen_Style: 0.7971, SemiSup: 0.1160\n",
      "Validation Accuracy: 96.65%\n",
      "\n",
      "Weights saved to semisupervised_results/100_epochs_adam_results/weights_*.pth\n"
     ]
    },
    {
     "data": {
      "application/vnd.jupyter.widget-view+json": {
       "model_id": "0c8762f9c5d64bd282686fde720d0590",
       "version_major": 2,
       "version_minor": 0
      },
      "text/plain": [
       "Epoch [74/100]:   0%|          | 0/500 [00:00<?, ?it/s]"
      ]
     },
     "metadata": {},
     "output_type": "display_data"
    },
    {
     "name": "stdout",
     "output_type": "stream",
     "text": [
      "Epoch 74/100 — Recon: 0.0124, Disc_Cat: 1.3114, Gen_Cat: 2.3840, Disc_Style: 1.3064, Gen_Style: 0.7920, SemiSup: 0.1160\n",
      "Validation Accuracy: 96.77%\n",
      "\n",
      "Weights saved to semisupervised_results/100_epochs_adam_results/weights_*.pth\n"
     ]
    },
    {
     "data": {
      "application/vnd.jupyter.widget-view+json": {
       "model_id": "24bba481848949d38a004c385b2eb552",
       "version_major": 2,
       "version_minor": 0
      },
      "text/plain": [
       "Epoch [75/100]:   0%|          | 0/500 [00:00<?, ?it/s]"
      ]
     },
     "metadata": {},
     "output_type": "display_data"
    },
    {
     "name": "stdout",
     "output_type": "stream",
     "text": [
      "Epoch 75/100 — Recon: 0.0124, Disc_Cat: 1.3094, Gen_Cat: 2.4195, Disc_Style: 1.3026, Gen_Style: 0.7939, SemiSup: 0.1151\n",
      "Validation Accuracy: 96.75%\n",
      "\n",
      "Weights saved to semisupervised_results/100_epochs_adam_results/weights_*.pth\n"
     ]
    },
    {
     "data": {
      "application/vnd.jupyter.widget-view+json": {
       "model_id": "94a0349925144f24ba4e8fdcd3dc8b2b",
       "version_major": 2,
       "version_minor": 0
      },
      "text/plain": [
       "Epoch [76/100]:   0%|          | 0/500 [00:00<?, ?it/s]"
      ]
     },
     "metadata": {},
     "output_type": "display_data"
    },
    {
     "name": "stdout",
     "output_type": "stream",
     "text": [
      "Epoch 76/100 — Recon: 0.0124, Disc_Cat: 1.3124, Gen_Cat: 2.3990, Disc_Style: 1.3031, Gen_Style: 0.8008, SemiSup: 0.1166\n",
      "Validation Accuracy: 96.75%\n",
      "\n",
      "Weights saved to semisupervised_results/100_epochs_adam_results/weights_*.pth\n"
     ]
    },
    {
     "data": {
      "application/vnd.jupyter.widget-view+json": {
       "model_id": "8c9731cd496a401ab260119948787874",
       "version_major": 2,
       "version_minor": 0
      },
      "text/plain": [
       "Epoch [77/100]:   0%|          | 0/500 [00:00<?, ?it/s]"
      ]
     },
     "metadata": {},
     "output_type": "display_data"
    },
    {
     "name": "stdout",
     "output_type": "stream",
     "text": [
      "Epoch 77/100 — Recon: 0.0124, Disc_Cat: 1.3119, Gen_Cat: 2.4188, Disc_Style: 1.2998, Gen_Style: 0.8083, SemiSup: 0.1171\n",
      "Validation Accuracy: 96.61%\n",
      "\n",
      "Weights saved to semisupervised_results/100_epochs_adam_results/weights_*.pth\n"
     ]
    },
    {
     "data": {
      "application/vnd.jupyter.widget-view+json": {
       "model_id": "eafbd32c0ab44673bdd2b345ba3b423e",
       "version_major": 2,
       "version_minor": 0
      },
      "text/plain": [
       "Epoch [78/100]:   0%|          | 0/500 [00:00<?, ?it/s]"
      ]
     },
     "metadata": {},
     "output_type": "display_data"
    },
    {
     "name": "stdout",
     "output_type": "stream",
     "text": [
      "Epoch 78/100 — Recon: 0.0123, Disc_Cat: 1.3120, Gen_Cat: 2.4368, Disc_Style: 1.3011, Gen_Style: 0.8122, SemiSup: 0.1169\n",
      "Validation Accuracy: 96.69%\n",
      "\n",
      "Weights saved to semisupervised_results/100_epochs_adam_results/weights_*.pth\n"
     ]
    },
    {
     "data": {
      "application/vnd.jupyter.widget-view+json": {
       "model_id": "f451eb6b56c14138a6bfdf2cbdd7c7c6",
       "version_major": 2,
       "version_minor": 0
      },
      "text/plain": [
       "Epoch [79/100]:   0%|          | 0/500 [00:00<?, ?it/s]"
      ]
     },
     "metadata": {},
     "output_type": "display_data"
    },
    {
     "name": "stdout",
     "output_type": "stream",
     "text": [
      "Epoch 79/100 — Recon: 0.0123, Disc_Cat: 1.3128, Gen_Cat: 2.4721, Disc_Style: 1.2991, Gen_Style: 0.8085, SemiSup: 0.1164\n",
      "Validation Accuracy: 96.64%\n",
      "\n",
      "Weights saved to semisupervised_results/100_epochs_adam_results/weights_*.pth\n"
     ]
    },
    {
     "data": {
      "application/vnd.jupyter.widget-view+json": {
       "model_id": "9ba072be0d17454cb6230805a23451c0",
       "version_major": 2,
       "version_minor": 0
      },
      "text/plain": [
       "Epoch [80/100]:   0%|          | 0/500 [00:00<?, ?it/s]"
      ]
     },
     "metadata": {},
     "output_type": "display_data"
    },
    {
     "name": "stdout",
     "output_type": "stream",
     "text": [
      "Epoch 80/100 — Recon: 0.0123, Disc_Cat: 1.3124, Gen_Cat: 2.4911, Disc_Style: 1.2994, Gen_Style: 0.8089, SemiSup: 0.1158\n",
      "Validation Accuracy: 96.65%\n",
      "\n",
      "Weights saved to semisupervised_results/100_epochs_adam_results/weights_*.pth\n"
     ]
    },
    {
     "data": {
      "application/vnd.jupyter.widget-view+json": {
       "model_id": "729799a55f3c4465b265f64b62cbfa97",
       "version_major": 2,
       "version_minor": 0
      },
      "text/plain": [
       "Epoch [81/100]:   0%|          | 0/500 [00:00<?, ?it/s]"
      ]
     },
     "metadata": {},
     "output_type": "display_data"
    },
    {
     "name": "stdout",
     "output_type": "stream",
     "text": [
      "Epoch 81/100 — Recon: 0.0123, Disc_Cat: 1.3139, Gen_Cat: 2.4957, Disc_Style: 1.2946, Gen_Style: 0.8115, SemiSup: 0.1155\n",
      "Validation Accuracy: 96.75%\n",
      "\n",
      "Weights saved to semisupervised_results/100_epochs_adam_results/weights_*.pth\n"
     ]
    },
    {
     "data": {
      "application/vnd.jupyter.widget-view+json": {
       "model_id": "68b3234265404bd9a9b74cffa05e2366",
       "version_major": 2,
       "version_minor": 0
      },
      "text/plain": [
       "Epoch [82/100]:   0%|          | 0/500 [00:00<?, ?it/s]"
      ]
     },
     "metadata": {},
     "output_type": "display_data"
    },
    {
     "name": "stdout",
     "output_type": "stream",
     "text": [
      "Epoch 82/100 — Recon: 0.0123, Disc_Cat: 1.3140, Gen_Cat: 2.5303, Disc_Style: 1.2944, Gen_Style: 0.8163, SemiSup: 0.1152\n",
      "Validation Accuracy: 96.68%\n",
      "\n",
      "Weights saved to semisupervised_results/100_epochs_adam_results/weights_*.pth\n"
     ]
    },
    {
     "data": {
      "application/vnd.jupyter.widget-view+json": {
       "model_id": "d7211ee7883e4fdeb4db97bb1821ee05",
       "version_major": 2,
       "version_minor": 0
      },
      "text/plain": [
       "Epoch [83/100]:   0%|          | 0/500 [00:00<?, ?it/s]"
      ]
     },
     "metadata": {},
     "output_type": "display_data"
    },
    {
     "name": "stdout",
     "output_type": "stream",
     "text": [
      "Epoch 83/100 — Recon: 0.0123, Disc_Cat: 1.3130, Gen_Cat: 2.5581, Disc_Style: 1.3013, Gen_Style: 0.8177, SemiSup: 0.1144\n",
      "Validation Accuracy: 96.75%\n",
      "\n",
      "Weights saved to semisupervised_results/100_epochs_adam_results/weights_*.pth\n"
     ]
    },
    {
     "data": {
      "application/vnd.jupyter.widget-view+json": {
       "model_id": "a44838826abe48aaa314795f652d073e",
       "version_major": 2,
       "version_minor": 0
      },
      "text/plain": [
       "Epoch [84/100]:   0%|          | 0/500 [00:00<?, ?it/s]"
      ]
     },
     "metadata": {},
     "output_type": "display_data"
    },
    {
     "name": "stdout",
     "output_type": "stream",
     "text": [
      "Epoch 84/100 — Recon: 0.0123, Disc_Cat: 1.3128, Gen_Cat: 2.6017, Disc_Style: 1.2929, Gen_Style: 0.8217, SemiSup: 0.1157\n",
      "Validation Accuracy: 96.53%\n",
      "\n",
      "Weights saved to semisupervised_results/100_epochs_adam_results/weights_*.pth\n"
     ]
    },
    {
     "data": {
      "application/vnd.jupyter.widget-view+json": {
       "model_id": "2078afbcdfc341dfb0f0d25efa651966",
       "version_major": 2,
       "version_minor": 0
      },
      "text/plain": [
       "Epoch [85/100]:   0%|          | 0/500 [00:00<?, ?it/s]"
      ]
     },
     "metadata": {},
     "output_type": "display_data"
    },
    {
     "name": "stdout",
     "output_type": "stream",
     "text": [
      "Epoch 85/100 — Recon: 0.0123, Disc_Cat: 1.3127, Gen_Cat: 2.6455, Disc_Style: 1.2994, Gen_Style: 0.8188, SemiSup: 0.1138\n",
      "Validation Accuracy: 96.56%\n",
      "\n",
      "Weights saved to semisupervised_results/100_epochs_adam_results/weights_*.pth\n"
     ]
    },
    {
     "data": {
      "application/vnd.jupyter.widget-view+json": {
       "model_id": "3ee78909bae549de9655c044e986cdc1",
       "version_major": 2,
       "version_minor": 0
      },
      "text/plain": [
       "Epoch [86/100]:   0%|          | 0/500 [00:00<?, ?it/s]"
      ]
     },
     "metadata": {},
     "output_type": "display_data"
    },
    {
     "name": "stdout",
     "output_type": "stream",
     "text": [
      "Epoch 86/100 — Recon: 0.0122, Disc_Cat: 1.3133, Gen_Cat: 2.6267, Disc_Style: 1.2891, Gen_Style: 0.8186, SemiSup: 0.1158\n",
      "Validation Accuracy: 96.52%\n",
      "\n",
      "Weights saved to semisupervised_results/100_epochs_adam_results/weights_*.pth\n"
     ]
    },
    {
     "data": {
      "application/vnd.jupyter.widget-view+json": {
       "model_id": "283bc64e0c634b119d70ad234f44df51",
       "version_major": 2,
       "version_minor": 0
      },
      "text/plain": [
       "Epoch [87/100]:   0%|          | 0/500 [00:00<?, ?it/s]"
      ]
     },
     "metadata": {},
     "output_type": "display_data"
    },
    {
     "name": "stdout",
     "output_type": "stream",
     "text": [
      "Epoch 87/100 — Recon: 0.0122, Disc_Cat: 1.3140, Gen_Cat: 2.6460, Disc_Style: 1.2894, Gen_Style: 0.8282, SemiSup: 0.1159\n",
      "Validation Accuracy: 96.64%\n",
      "\n",
      "Weights saved to semisupervised_results/100_epochs_adam_results/weights_*.pth\n"
     ]
    },
    {
     "data": {
      "application/vnd.jupyter.widget-view+json": {
       "model_id": "414622004bed449f8b79ad54d38e78c2",
       "version_major": 2,
       "version_minor": 0
      },
      "text/plain": [
       "Epoch [88/100]:   0%|          | 0/500 [00:00<?, ?it/s]"
      ]
     },
     "metadata": {},
     "output_type": "display_data"
    },
    {
     "name": "stdout",
     "output_type": "stream",
     "text": [
      "Epoch 88/100 — Recon: 0.0123, Disc_Cat: 1.3136, Gen_Cat: 2.6592, Disc_Style: 1.2993, Gen_Style: 0.8166, SemiSup: 0.1186\n",
      "Validation Accuracy: 96.61%\n",
      "\n",
      "Weights saved to semisupervised_results/100_epochs_adam_results/weights_*.pth\n"
     ]
    },
    {
     "data": {
      "application/vnd.jupyter.widget-view+json": {
       "model_id": "777befef94cb484e8c9ccf7ed27687b7",
       "version_major": 2,
       "version_minor": 0
      },
      "text/plain": [
       "Epoch [89/100]:   0%|          | 0/500 [00:00<?, ?it/s]"
      ]
     },
     "metadata": {},
     "output_type": "display_data"
    },
    {
     "name": "stdout",
     "output_type": "stream",
     "text": [
      "Epoch 89/100 — Recon: 0.0123, Disc_Cat: 1.3134, Gen_Cat: 2.6969, Disc_Style: 1.2986, Gen_Style: 0.8136, SemiSup: 0.1163\n",
      "Validation Accuracy: 96.53%\n",
      "\n",
      "Weights saved to semisupervised_results/100_epochs_adam_results/weights_*.pth\n"
     ]
    },
    {
     "data": {
      "application/vnd.jupyter.widget-view+json": {
       "model_id": "ae7fb0a5d42a4b21a45dd7f5da6091d0",
       "version_major": 2,
       "version_minor": 0
      },
      "text/plain": [
       "Epoch [90/100]:   0%|          | 0/500 [00:00<?, ?it/s]"
      ]
     },
     "metadata": {},
     "output_type": "display_data"
    },
    {
     "name": "stdout",
     "output_type": "stream",
     "text": [
      "Epoch 90/100 — Recon: 0.0123, Disc_Cat: 1.3142, Gen_Cat: 2.7021, Disc_Style: 1.3002, Gen_Style: 0.8175, SemiSup: 0.1167\n",
      "Validation Accuracy: 96.51%\n",
      "\n",
      "Weights saved to semisupervised_results/100_epochs_adam_results/weights_*.pth\n"
     ]
    },
    {
     "data": {
      "application/vnd.jupyter.widget-view+json": {
       "model_id": "c11c549ecf454d88959ee70edd48bad4",
       "version_major": 2,
       "version_minor": 0
      },
      "text/plain": [
       "Epoch [91/100]:   0%|          | 0/500 [00:00<?, ?it/s]"
      ]
     },
     "metadata": {},
     "output_type": "display_data"
    },
    {
     "name": "stdout",
     "output_type": "stream",
     "text": [
      "Epoch 91/100 — Recon: 0.0123, Disc_Cat: 1.3149, Gen_Cat: 2.7069, Disc_Style: 1.2993, Gen_Style: 0.8173, SemiSup: 0.1164\n",
      "Validation Accuracy: 96.56%\n",
      "\n",
      "Weights saved to semisupervised_results/100_epochs_adam_results/weights_*.pth\n"
     ]
    },
    {
     "data": {
      "application/vnd.jupyter.widget-view+json": {
       "model_id": "62f977f4602843ea9a429d8fcafd9e51",
       "version_major": 2,
       "version_minor": 0
      },
      "text/plain": [
       "Epoch [92/100]:   0%|          | 0/500 [00:00<?, ?it/s]"
      ]
     },
     "metadata": {},
     "output_type": "display_data"
    },
    {
     "name": "stdout",
     "output_type": "stream",
     "text": [
      "Epoch 92/100 — Recon: 0.0123, Disc_Cat: 1.3137, Gen_Cat: 2.7354, Disc_Style: 1.2979, Gen_Style: 0.8171, SemiSup: 0.1171\n",
      "Validation Accuracy: 96.53%\n",
      "\n",
      "Weights saved to semisupervised_results/100_epochs_adam_results/weights_*.pth\n"
     ]
    },
    {
     "data": {
      "application/vnd.jupyter.widget-view+json": {
       "model_id": "4f8791c820a649a59bd04f6fb1897c20",
       "version_major": 2,
       "version_minor": 0
      },
      "text/plain": [
       "Epoch [93/100]:   0%|          | 0/500 [00:00<?, ?it/s]"
      ]
     },
     "metadata": {},
     "output_type": "display_data"
    },
    {
     "name": "stdout",
     "output_type": "stream",
     "text": [
      "Epoch 93/100 — Recon: 0.0123, Disc_Cat: 1.3130, Gen_Cat: 2.7558, Disc_Style: 1.2953, Gen_Style: 0.8192, SemiSup: 0.1160\n",
      "Validation Accuracy: 96.60%\n",
      "\n",
      "Weights saved to semisupervised_results/100_epochs_adam_results/weights_*.pth\n"
     ]
    },
    {
     "data": {
      "application/vnd.jupyter.widget-view+json": {
       "model_id": "9c7518e9aa9a4d5ea7216a1b3870e7c1",
       "version_major": 2,
       "version_minor": 0
      },
      "text/plain": [
       "Epoch [94/100]:   0%|          | 0/500 [00:00<?, ?it/s]"
      ]
     },
     "metadata": {},
     "output_type": "display_data"
    },
    {
     "name": "stdout",
     "output_type": "stream",
     "text": [
      "Epoch 94/100 — Recon: 0.0123, Disc_Cat: 1.3142, Gen_Cat: 2.7914, Disc_Style: 1.2981, Gen_Style: 0.8168, SemiSup: 0.1163\n",
      "Validation Accuracy: 96.57%\n",
      "\n",
      "Weights saved to semisupervised_results/100_epochs_adam_results/weights_*.pth\n"
     ]
    },
    {
     "data": {
      "application/vnd.jupyter.widget-view+json": {
       "model_id": "1565741ba8c843e586f2f0039d556801",
       "version_major": 2,
       "version_minor": 0
      },
      "text/plain": [
       "Epoch [95/100]:   0%|          | 0/500 [00:00<?, ?it/s]"
      ]
     },
     "metadata": {},
     "output_type": "display_data"
    },
    {
     "name": "stdout",
     "output_type": "stream",
     "text": [
      "Epoch 95/100 — Recon: 0.0122, Disc_Cat: 1.3124, Gen_Cat: 2.8346, Disc_Style: 1.2953, Gen_Style: 0.8223, SemiSup: 0.1153\n",
      "Validation Accuracy: 96.58%\n",
      "\n",
      "Weights saved to semisupervised_results/100_epochs_adam_results/weights_*.pth\n"
     ]
    },
    {
     "data": {
      "application/vnd.jupyter.widget-view+json": {
       "model_id": "d9802578b37e4ee7969511cf6f232f2a",
       "version_major": 2,
       "version_minor": 0
      },
      "text/plain": [
       "Epoch [96/100]:   0%|          | 0/500 [00:00<?, ?it/s]"
      ]
     },
     "metadata": {},
     "output_type": "display_data"
    },
    {
     "name": "stdout",
     "output_type": "stream",
     "text": [
      "Epoch 96/100 — Recon: 0.0122, Disc_Cat: 1.3120, Gen_Cat: 2.8502, Disc_Style: 1.2910, Gen_Style: 0.8266, SemiSup: 0.1152\n",
      "Validation Accuracy: 96.61%\n",
      "\n",
      "Weights saved to semisupervised_results/100_epochs_adam_results/weights_*.pth\n"
     ]
    },
    {
     "data": {
      "application/vnd.jupyter.widget-view+json": {
       "model_id": "edabdce2a1ee49818c95e19fcee5a977",
       "version_major": 2,
       "version_minor": 0
      },
      "text/plain": [
       "Epoch [97/100]:   0%|          | 0/500 [00:00<?, ?it/s]"
      ]
     },
     "metadata": {},
     "output_type": "display_data"
    },
    {
     "name": "stdout",
     "output_type": "stream",
     "text": [
      "Epoch 97/100 — Recon: 0.0122, Disc_Cat: 1.3137, Gen_Cat: 2.8908, Disc_Style: 1.2935, Gen_Style: 0.8213, SemiSup: 0.1150\n",
      "Validation Accuracy: 96.51%\n",
      "\n",
      "Weights saved to semisupervised_results/100_epochs_adam_results/weights_*.pth\n"
     ]
    },
    {
     "data": {
      "application/vnd.jupyter.widget-view+json": {
       "model_id": "b7c85aa8d5d2468e8ed7edc9fc3307ed",
       "version_major": 2,
       "version_minor": 0
      },
      "text/plain": [
       "Epoch [98/100]:   0%|          | 0/500 [00:00<?, ?it/s]"
      ]
     },
     "metadata": {},
     "output_type": "display_data"
    },
    {
     "name": "stdout",
     "output_type": "stream",
     "text": [
      "Epoch 98/100 — Recon: 0.0122, Disc_Cat: 1.3120, Gen_Cat: 2.8971, Disc_Style: 1.2906, Gen_Style: 0.8268, SemiSup: 0.1141\n",
      "Validation Accuracy: 96.68%\n",
      "\n",
      "Weights saved to semisupervised_results/100_epochs_adam_results/weights_*.pth\n"
     ]
    },
    {
     "data": {
      "application/vnd.jupyter.widget-view+json": {
       "model_id": "87562242837b489d9f7350d283f91964",
       "version_major": 2,
       "version_minor": 0
      },
      "text/plain": [
       "Epoch [99/100]:   0%|          | 0/500 [00:00<?, ?it/s]"
      ]
     },
     "metadata": {},
     "output_type": "display_data"
    },
    {
     "name": "stdout",
     "output_type": "stream",
     "text": [
      "Epoch 99/100 — Recon: 0.0122, Disc_Cat: 1.3119, Gen_Cat: 2.9231, Disc_Style: 1.2882, Gen_Style: 0.8339, SemiSup: 0.1152\n",
      "Validation Accuracy: 96.54%\n",
      "\n",
      "Weights saved to semisupervised_results/100_epochs_adam_results/weights_*.pth\n"
     ]
    },
    {
     "data": {
      "application/vnd.jupyter.widget-view+json": {
       "model_id": "f0212a92f16a44508e898f3c1d4749f3",
       "version_major": 2,
       "version_minor": 0
      },
      "text/plain": [
       "Epoch [100/100]:   0%|          | 0/500 [00:00<?, ?it/s]"
      ]
     },
     "metadata": {},
     "output_type": "display_data"
    },
    {
     "name": "stdout",
     "output_type": "stream",
     "text": [
      "Epoch 100/100 — Recon: 0.0122, Disc_Cat: 1.3133, Gen_Cat: 2.9349, Disc_Style: 1.2873, Gen_Style: 0.8335, SemiSup: 0.1162\n",
      "Validation Accuracy: 96.52%\n",
      "\n",
      "Weights saved to semisupervised_results/100_epochs_adam_results/weights_*.pth\n"
     ]
    }
   ],
   "source": [
    "model.train_mbgd(\n",
    "    train_loader=train_loader,\n",
    "    val_loader=val_loader,\n",
    "    epochs=100,\n",
    "    prior_std=PRIOR_STD,\n",
    "    result_folder=\"semisupervised_results/100_epochs_adam_results\"\n",
    ")"
   ]
  },
  {
   "cell_type": "code",
   "execution_count": 12,
   "metadata": {},
   "outputs": [],
   "source": [
    "all_probs, all_preds = [], []\n",
    "for imgs, _ in test_loader:\n",
    "    probs, preds = model.predict(imgs)\n",
    "    all_probs.append(probs.cpu())\n",
    "    all_preds.append(preds.cpu())\n",
    "\n",
    "all_probs = torch.cat(all_probs, dim=0)\n",
    "all_preds = torch.cat(all_preds, dim=0)"
   ]
  },
  {
   "cell_type": "code",
   "execution_count": 13,
   "metadata": {},
   "outputs": [
    {
     "name": "stdout",
     "output_type": "stream",
     "text": [
      "Test accuracy: 98.37%\n"
     ]
    }
   ],
   "source": [
    "num_correct = torch.eq(all_preds, Y_test).sum().item()\n",
    "accuracy = num_correct / Y_test.size(0)\n",
    "print(f\"Test accuracy: {accuracy*100:.2f}%\")"
   ]
  },
  {
   "cell_type": "code",
   "execution_count": 14,
   "metadata": {},
   "outputs": [
    {
     "name": "stdout",
     "output_type": "stream",
     "text": [
      "Weights saved to run_2_weights/aae_weights_*.pth\n"
     ]
    }
   ],
   "source": [
    "model.save_weights(\"run_2_weights/aae_weights\")"
   ]
  },
  {
   "cell_type": "markdown",
   "metadata": {},
   "source": [
    "## Image Generation"
   ]
  },
  {
   "cell_type": "code",
   "execution_count": 10,
   "metadata": {},
   "outputs": [
    {
     "name": "stdout",
     "output_type": "stream",
     "text": [
      "Weights loaded from semisupervised_results/100_epochs_adam_results/weights_*.pth\n"
     ]
    }
   ],
   "source": [
    "model.load_weights(\"semisupervised_results/100_epochs_adam_results/weights\")"
   ]
  },
  {
   "cell_type": "code",
   "execution_count": 12,
   "metadata": {},
   "outputs": [
    {
     "data": {
      "image/png": "[encoded data removed]",
      "text/plain": [
       "<Figure size 640x480 with 1 Axes>"
      ]
     },
     "metadata": {},
     "output_type": "display_data"
    }
   ],
   "source": [
    "import matplotlib.pyplot as plt\n",
    "\n",
    "img7 = model.generate_images(5, prior_std=1.0)\n",
    "plt.imshow(img7.squeeze().cpu().numpy(), cmap='gray')\n",
    "plt.axis('off')\n",
    "plt.show()"
   ]
  }
 ],
 "metadata": {
  "kernelspec": {
   "display_name": "adversarial-autoencoder-GiuVyiXw-py3.12",
   "language": "python",
   "name": "python3"
  },
  "language_info": {
   "codemirror_mode": {
    "name": "ipython",
    "version": 3
   },
   "file_extension": ".py",
   "mimetype": "text/x-python",
   "name": "python",
   "nbconvert_exporter": "python",
   "pygments_lexer": "ipython3",
   "version": "3.12.7"
  }
 },
 "nbformat": 4,
 "nbformat_minor": 2
}
