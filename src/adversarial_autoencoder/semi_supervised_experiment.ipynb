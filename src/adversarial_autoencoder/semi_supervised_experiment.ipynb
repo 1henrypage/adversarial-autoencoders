{
 "cells": [
  {
   "cell_type": "code",
   "execution_count": 1,
   "metadata": {},
   "outputs": [],
   "source": [
    "!export CUDA_VISIBLE_DEVICES=0"
   ]
  },
  {
   "cell_type": "code",
   "execution_count": 2,
   "metadata": {},
   "outputs": [
    {
     "name": "stdout",
     "output_type": "stream",
     "text": [
      "CUDA_VISIBLE_DEVICES: 0\n",
      "Built with CUDA: 12.4\n",
      "CUDA available?: True\n",
      "Device count: 1\n"
     ]
    }
   ],
   "source": [
    "import os, torch\n",
    "os.environ[\"CUDA_VISIBLE_DEVICES\"] = \"0\"\n",
    "print(\"CUDA_VISIBLE_DEVICES:\", os.environ.get(\"CUDA_VISIBLE_DEVICES\"))\n",
    "print(\"Built with CUDA:\", torch.version.cuda)     \n",
    "print(\"CUDA available?:\", torch.cuda.is_available())  \n",
    "print(\"Device count:\", torch.cuda.device_count())"
   ]
  },
  {
   "cell_type": "code",
   "execution_count": 3,
   "metadata": {},
   "outputs": [],
   "source": [
    "import numpy as np\n",
    "import matplotlib.pyplot as plt\n",
    "from torchvision import datasets, transforms\n",
    "from torch.utils.data import DataLoader\n",
    "from torch import nn\n",
    "from semisupervised import SemiSupervisedAutoEncoderOptions, SemiSupervisedAdversarialAutoencoder"
   ]
  },
  {
   "cell_type": "code",
   "execution_count": 4,
   "metadata": {},
   "outputs": [],
   "source": [
    "from torch.utils.data import random_split\n",
    "\n",
    "def configure_mnist(batch_size=100, val_size=10000):\n",
    "    # transform: ToTensor + flatten\n",
    "    transform = transforms.Compose([\n",
    "        transforms.ToTensor(),\n",
    "        transforms.Lambda(lambda x: x.view(-1))\n",
    "    ])\n",
    "\n",
    "    # full train + test datasets\n",
    "    full_train = datasets.MNIST(root='./data', train=True, download=True, transform=transform)\n",
    "    test_ds    = datasets.MNIST(root='./data', train=False, download=True, transform=transform)\n",
    "\n",
    "    # split full_train → train_ds (60k - val_size) and val_ds (val_size)\n",
    "    train_size = len(full_train) - val_size\n",
    "    train_ds, val_ds = random_split(full_train, [train_size, val_size])\n",
    "\n",
    "    # DataLoaders\n",
    "    train_loader = DataLoader(train_ds,  batch_size=batch_size, shuffle=True)\n",
    "    val_loader   = DataLoader(val_ds,   batch_size=batch_size, shuffle=False)\n",
    "    test_loader  = DataLoader(test_ds,  batch_size=batch_size, shuffle=False)\n",
    "\n",
    "    # (Optionally) extract raw tensors:\n",
    "    X_train = torch.stack([x for x, _ in train_ds])\n",
    "    Y_train = torch.tensor([y for _, y in train_ds])\n",
    "    X_val   = torch.stack([x for x, _ in val_ds])\n",
    "    Y_val   = torch.tensor([y for _, y in val_ds])\n",
    "    X_test  = torch.stack([x for x, _ in test_ds])\n",
    "    Y_test  = test_ds.targets.clone()\n",
    "\n",
    "    return (X_train, X_val, X_test,\n",
    "            Y_train, Y_val, Y_test,\n",
    "            train_loader, val_loader, test_loader)"
   ]
  },
  {
   "cell_type": "code",
   "execution_count": 5,
   "metadata": {},
   "outputs": [
    {
     "name": "stdout",
     "output_type": "stream",
     "text": [
      "tensor(9)\n",
      "tensor(0)\n"
     ]
    }
   ],
   "source": [
    "(X_train, X_val, X_test, Y_train, Y_val, Y_test, train_loader, val_loader, test_loader) = configure_mnist()\n",
    "\n",
    "print(Y_train.max())\n",
    "print(Y_train.min())"
   ]
  },
  {
   "cell_type": "code",
   "execution_count": 4,
   "metadata": {},
   "outputs": [],
   "source": [
    "NUM_EPOCHS = 300\n",
    "INPUT_DIM = 784\n",
    "BATCH_SIZE = 100\n",
    "AE_HIDDEN = 1000\n",
    "DC_HIDDEN = 1000\n",
    "LATENT_DIM_CAT = 10\n",
    "LATENT_DIM_STYLE = 10\n",
    "PRIOR_STD = 1.0\n",
    "\n",
    "recon_loss = nn.MSELoss()\n",
    "init_recon_lr = 0.001 #0.01\n",
    "\n",
    "semi_sup_loss = nn.CrossEntropyLoss()\n",
    "init_semi_sup_lr = 0.001 #0.1\n",
    "\n",
    "init_gen_lr = init_disc_lr = 0.001 #0.1\n",
    "use_decoder_sigmoid = True"
   ]
  },
  {
   "cell_type": "code",
   "execution_count": 5,
   "metadata": {},
   "outputs": [],
   "source": [
    "options = SemiSupervisedAutoEncoderOptions(\n",
    "    input_dim=INPUT_DIM,\n",
    "    ae_hidden_dim=AE_HIDDEN,\n",
    "    disc_hidden_dim=DC_HIDDEN,\n",
    "    latent_dim_categorical=LATENT_DIM_CAT,\n",
    "    latent_dim_style=LATENT_DIM_STYLE,\n",
    "    recon_loss_fn=recon_loss,\n",
    "    init_recon_lr=init_recon_lr,\n",
    "    semi_supervised_loss_fn=semi_sup_loss,\n",
    "    init_semi_sup_lr=init_semi_sup_lr,\n",
    "    init_gen_lr=init_gen_lr,\n",
    "    use_decoder_sigmoid=use_decoder_sigmoid,\n",
    "    init_disc_categorical_lr = init_disc_lr,\n",
    "    init_disc_style_lr = init_disc_lr\n",
    ")\n",
    "\n",
    "model = SemiSupervisedAdversarialAutoencoder(options);"
   ]
  },
  {
   "cell_type": "code",
   "execution_count": 9,
   "metadata": {},
   "outputs": [
    {
     "data": {
      "application/vnd.jupyter.widget-view+json": {
       "model_id": "5dddd4bc7a1648bb8ea68cb2550905e0",
       "version_major": 2,
       "version_minor": 0
      },
      "text/plain": [
       "Epoch [1/300]:   0%|          | 0/500 [00:00<?, ?it/s]"
      ]
     },
     "metadata": {},
     "output_type": "display_data"
    },
    {
     "name": "stdout",
     "output_type": "stream",
     "text": [
      "Epoch 1/300 — Recon: 0.0612, Disc_Cat: 0.3863, Gen_Cat: 4.7761, Disc_Style: 0.4202, Gen_Style: 4.0133, SemiSup: 3.9085\n",
      "Validation Accuracy: 29.31%\n",
      "\n",
      "Weights saved to semisupervised_results/300_epochs_adam_results/weights_*.pth\n"
     ]
    },
    {
     "data": {
      "application/vnd.jupyter.widget-view+json": {
       "model_id": "e821c4fbf16a49b99eb880c4b6c65436",
       "version_major": 2,
       "version_minor": 0
      },
      "text/plain": [
       "Epoch [2/300]:   0%|          | 0/500 [00:00<?, ?it/s]"
      ]
     },
     "metadata": {},
     "output_type": "display_data"
    },
    {
     "name": "stdout",
     "output_type": "stream",
     "text": [
      "Epoch 2/300 — Recon: 0.0384, Disc_Cat: 0.7342, Gen_Cat: 4.3829, Disc_Style: 0.5188, Gen_Style: 3.9642, SemiSup: 2.1183\n",
      "Validation Accuracy: 83.20%\n",
      "\n",
      "Weights saved to semisupervised_results/300_epochs_adam_results/weights_*.pth\n"
     ]
    },
    {
     "data": {
      "application/vnd.jupyter.widget-view+json": {
       "model_id": "01f589da2427450cadfa7efe3ebf8e70",
       "version_major": 2,
       "version_minor": 0
      },
      "text/plain": [
       "Epoch [3/300]:   0%|          | 0/500 [00:00<?, ?it/s]"
      ]
     },
     "metadata": {},
     "output_type": "display_data"
    },
    {
     "name": "stdout",
     "output_type": "stream",
     "text": [
      "Epoch 3/300 — Recon: 0.0269, Disc_Cat: 1.2160, Gen_Cat: 2.1005, Disc_Style: 0.9221, Gen_Style: 1.8681, SemiSup: 0.5172\n",
      "Validation Accuracy: 91.66%\n",
      "\n",
      "Weights saved to semisupervised_results/300_epochs_adam_results/weights_*.pth\n"
     ]
    },
    {
     "data": {
      "application/vnd.jupyter.widget-view+json": {
       "model_id": "0031a3dded7d4fc0ba6c4b36dd095f5b",
       "version_major": 2,
       "version_minor": 0
      },
      "text/plain": [
       "Epoch [4/300]:   0%|          | 0/500 [00:00<?, ?it/s]"
      ]
     },
     "metadata": {},
     "output_type": "display_data"
    },
    {
     "name": "stdout",
     "output_type": "stream",
     "text": [
      "Epoch 4/300 — Recon: 0.0220, Disc_Cat: 1.2514, Gen_Cat: 1.6221, Disc_Style: 1.0677, Gen_Style: 1.3401, SemiSup: 0.3741\n",
      "Validation Accuracy: 93.29%\n",
      "\n",
      "Weights saved to semisupervised_results/300_epochs_adam_results/weights_*.pth\n"
     ]
    },
    {
     "data": {
      "application/vnd.jupyter.widget-view+json": {
       "model_id": "1f8ff26c759049348b99a4192bc3fdf7",
       "version_major": 2,
       "version_minor": 0
      },
      "text/plain": [
       "Epoch [5/300]:   0%|          | 0/500 [00:00<?, ?it/s]"
      ]
     },
     "metadata": {},
     "output_type": "display_data"
    },
    {
     "name": "stdout",
     "output_type": "stream",
     "text": [
      "Epoch 5/300 — Recon: 0.0203, Disc_Cat: 1.2588, Gen_Cat: 1.4991, Disc_Style: 1.1353, Gen_Style: 1.1472, SemiSup: 0.3098\n",
      "Validation Accuracy: 93.94%\n",
      "\n",
      "Weights saved to semisupervised_results/300_epochs_adam_results/weights_*.pth\n"
     ]
    },
    {
     "data": {
      "application/vnd.jupyter.widget-view+json": {
       "model_id": "ca0b45a1183b41bfb12b8d9641f87a31",
       "version_major": 2,
       "version_minor": 0
      },
      "text/plain": [
       "Epoch [6/300]:   0%|          | 0/500 [00:00<?, ?it/s]"
      ]
     },
     "metadata": {},
     "output_type": "display_data"
    },
    {
     "name": "stdout",
     "output_type": "stream",
     "text": [
      "Epoch 6/300 — Recon: 0.0193, Disc_Cat: 1.2694, Gen_Cat: 1.3502, Disc_Style: 1.2035, Gen_Style: 1.0591, SemiSup: 0.2781\n",
      "Validation Accuracy: 94.60%\n",
      "\n",
      "Weights saved to semisupervised_results/300_epochs_adam_results/weights_*.pth\n"
     ]
    },
    {
     "data": {
      "application/vnd.jupyter.widget-view+json": {
       "model_id": "5c19320f75e64432abeebf163771c49a",
       "version_major": 2,
       "version_minor": 0
      },
      "text/plain": [
       "Epoch [7/300]:   0%|          | 0/500 [00:00<?, ?it/s]"
      ]
     },
     "metadata": {},
     "output_type": "display_data"
    },
    {
     "name": "stdout",
     "output_type": "stream",
     "text": [
      "Epoch 7/300 — Recon: 0.0185, Disc_Cat: 1.2801, Gen_Cat: 1.2553, Disc_Style: 1.2436, Gen_Style: 0.9934, SemiSup: 0.2581\n",
      "Validation Accuracy: 94.82%\n",
      "\n",
      "Weights saved to semisupervised_results/300_epochs_adam_results/weights_*.pth\n"
     ]
    },
    {
     "data": {
      "application/vnd.jupyter.widget-view+json": {
       "model_id": "4be44b53ba074f59ac585439e8fd8eee",
       "version_major": 2,
       "version_minor": 0
      },
      "text/plain": [
       "Epoch [8/300]:   0%|          | 0/500 [00:00<?, ?it/s]"
      ]
     },
     "metadata": {},
     "output_type": "display_data"
    },
    {
     "name": "stdout",
     "output_type": "stream",
     "text": [
      "Epoch 8/300 — Recon: 0.0178, Disc_Cat: 1.2922, Gen_Cat: 1.1603, Disc_Style: 1.2685, Gen_Style: 0.9349, SemiSup: 0.2226\n",
      "Validation Accuracy: 94.74%\n",
      "\n",
      "Weights saved to semisupervised_results/300_epochs_adam_results/weights_*.pth\n"
     ]
    },
    {
     "data": {
      "application/vnd.jupyter.widget-view+json": {
       "model_id": "77fa741fbaea4ebe9eb955c00bd91e2d",
       "version_major": 2,
       "version_minor": 0
      },
      "text/plain": [
       "Epoch [9/300]:   0%|          | 0/500 [00:00<?, ?it/s]"
      ]
     },
     "metadata": {},
     "output_type": "display_data"
    },
    {
     "name": "stdout",
     "output_type": "stream",
     "text": [
      "Epoch 9/300 — Recon: 0.0173, Disc_Cat: 1.2985, Gen_Cat: 1.0895, Disc_Style: 1.2840, Gen_Style: 0.9045, SemiSup: 0.1995\n",
      "Validation Accuracy: 95.55%\n",
      "\n",
      "Weights saved to semisupervised_results/300_epochs_adam_results/weights_*.pth\n"
     ]
    },
    {
     "data": {
      "application/vnd.jupyter.widget-view+json": {
       "model_id": "affd11f28def4abeb0bd0b83fc1ab47f",
       "version_major": 2,
       "version_minor": 0
      },
      "text/plain": [
       "Epoch [10/300]:   0%|          | 0/500 [00:00<?, ?it/s]"
      ]
     },
     "metadata": {},
     "output_type": "display_data"
    },
    {
     "name": "stdout",
     "output_type": "stream",
     "text": [
      "Epoch 10/300 — Recon: 0.0173, Disc_Cat: 1.3056, Gen_Cat: 1.0340, Disc_Style: 1.3083, Gen_Style: 0.8827, SemiSup: 0.1829\n",
      "Validation Accuracy: 95.70%\n",
      "\n",
      "Weights saved to semisupervised_results/300_epochs_adam_results/weights_*.pth\n"
     ]
    },
    {
     "data": {
      "application/vnd.jupyter.widget-view+json": {
       "model_id": "232ccfa17dcc41fbb018b129c30bb377",
       "version_major": 2,
       "version_minor": 0
      },
      "text/plain": [
       "Epoch [11/300]:   0%|          | 0/500 [00:00<?, ?it/s]"
      ]
     },
     "metadata": {},
     "output_type": "display_data"
    },
    {
     "name": "stdout",
     "output_type": "stream",
     "text": [
      "Epoch 11/300 — Recon: 0.0167, Disc_Cat: 1.3099, Gen_Cat: 0.9961, Disc_Style: 1.3112, Gen_Style: 0.8687, SemiSup: 0.1705\n",
      "Validation Accuracy: 95.90%\n",
      "\n",
      "Weights saved to semisupervised_results/300_epochs_adam_results/weights_*.pth\n"
     ]
    },
    {
     "data": {
      "application/vnd.jupyter.widget-view+json": {
       "model_id": "c125eb2e20224e2b94bab66072f595cb",
       "version_major": 2,
       "version_minor": 0
      },
      "text/plain": [
       "Epoch [12/300]:   0%|          | 0/500 [00:00<?, ?it/s]"
      ]
     },
     "metadata": {},
     "output_type": "display_data"
    },
    {
     "name": "stdout",
     "output_type": "stream",
     "text": [
      "Epoch 12/300 — Recon: 0.0164, Disc_Cat: 1.3156, Gen_Cat: 0.9695, Disc_Style: 1.3268, Gen_Style: 0.8370, SemiSup: 0.1644\n",
      "Validation Accuracy: 95.78%\n",
      "\n",
      "Weights saved to semisupervised_results/300_epochs_adam_results/weights_*.pth\n"
     ]
    },
    {
     "data": {
      "application/vnd.jupyter.widget-view+json": {
       "model_id": "0674aba5355b432b8187214158f295a1",
       "version_major": 2,
       "version_minor": 0
      },
      "text/plain": [
       "Epoch [13/300]:   0%|          | 0/500 [00:00<?, ?it/s]"
      ]
     },
     "metadata": {},
     "output_type": "display_data"
    },
    {
     "name": "stdout",
     "output_type": "stream",
     "text": [
      "Epoch 13/300 — Recon: 0.0164, Disc_Cat: 1.3164, Gen_Cat: 0.9630, Disc_Style: 1.3325, Gen_Style: 0.8306, SemiSup: 0.1590\n",
      "Validation Accuracy: 96.23%\n",
      "\n",
      "Weights saved to semisupervised_results/300_epochs_adam_results/weights_*.pth\n"
     ]
    },
    {
     "data": {
      "application/vnd.jupyter.widget-view+json": {
       "model_id": "0b9a73b4ff164a70ad91a06de301b02f",
       "version_major": 2,
       "version_minor": 0
      },
      "text/plain": [
       "Epoch [14/300]:   0%|          | 0/500 [00:00<?, ?it/s]"
      ]
     },
     "metadata": {},
     "output_type": "display_data"
    },
    {
     "name": "stdout",
     "output_type": "stream",
     "text": [
      "Epoch 14/300 — Recon: 0.0161, Disc_Cat: 1.3213, Gen_Cat: 0.9446, Disc_Style: 1.3367, Gen_Style: 0.8020, SemiSup: 0.1530\n",
      "Validation Accuracy: 95.87%\n",
      "\n",
      "Weights saved to semisupervised_results/300_epochs_adam_results/weights_*.pth\n"
     ]
    },
    {
     "data": {
      "application/vnd.jupyter.widget-view+json": {
       "model_id": "7fd6234d8fe341f48810fb1541340715",
       "version_major": 2,
       "version_minor": 0
      },
      "text/plain": [
       "Epoch [15/300]:   0%|          | 0/500 [00:00<?, ?it/s]"
      ]
     },
     "metadata": {},
     "output_type": "display_data"
    },
    {
     "name": "stdout",
     "output_type": "stream",
     "text": [
      "Epoch 15/300 — Recon: 0.0161, Disc_Cat: 1.3259, Gen_Cat: 0.9127, Disc_Style: 1.3500, Gen_Style: 0.8091, SemiSup: 0.1502\n",
      "Validation Accuracy: 96.17%\n",
      "\n",
      "Weights saved to semisupervised_results/300_epochs_adam_results/weights_*.pth\n"
     ]
    },
    {
     "data": {
      "application/vnd.jupyter.widget-view+json": {
       "model_id": "48fdf69d10c74b6180eccd1637fd2e62",
       "version_major": 2,
       "version_minor": 0
      },
      "text/plain": [
       "Epoch [16/300]:   0%|          | 0/500 [00:00<?, ?it/s]"
      ]
     },
     "metadata": {},
     "output_type": "display_data"
    },
    {
     "name": "stdout",
     "output_type": "stream",
     "text": [
      "Epoch 16/300 — Recon: 0.0160, Disc_Cat: 1.3287, Gen_Cat: 0.9028, Disc_Style: 1.3548, Gen_Style: 0.7935, SemiSup: 0.1425\n",
      "Validation Accuracy: 96.23%\n",
      "\n",
      "Weights saved to semisupervised_results/300_epochs_adam_results/weights_*.pth\n"
     ]
    },
    {
     "data": {
      "application/vnd.jupyter.widget-view+json": {
       "model_id": "dc2cfcd138f8458abce636c69f0d9572",
       "version_major": 2,
       "version_minor": 0
      },
      "text/plain": [
       "Epoch [17/300]:   0%|          | 0/500 [00:00<?, ?it/s]"
      ]
     },
     "metadata": {},
     "output_type": "display_data"
    },
    {
     "name": "stdout",
     "output_type": "stream",
     "text": [
      "Epoch 17/300 — Recon: 0.0157, Disc_Cat: 1.3305, Gen_Cat: 0.8986, Disc_Style: 1.3586, Gen_Style: 0.7760, SemiSup: 0.1415\n",
      "Validation Accuracy: 96.25%\n",
      "\n",
      "Weights saved to semisupervised_results/300_epochs_adam_results/weights_*.pth\n"
     ]
    },
    {
     "data": {
      "application/vnd.jupyter.widget-view+json": {
       "model_id": "a11414d62aff415386381273bb9ef6c5",
       "version_major": 2,
       "version_minor": 0
      },
      "text/plain": [
       "Epoch [18/300]:   0%|          | 0/500 [00:00<?, ?it/s]"
      ]
     },
     "metadata": {},
     "output_type": "display_data"
    },
    {
     "name": "stdout",
     "output_type": "stream",
     "text": [
      "Epoch 18/300 — Recon: 0.0155, Disc_Cat: 1.3310, Gen_Cat: 0.8935, Disc_Style: 1.3664, Gen_Style: 0.7606, SemiSup: 0.1366\n",
      "Validation Accuracy: 96.65%\n",
      "\n",
      "Weights saved to semisupervised_results/300_epochs_adam_results/weights_*.pth\n"
     ]
    },
    {
     "data": {
      "application/vnd.jupyter.widget-view+json": {
       "model_id": "4c851f85661246fb8688c1e4749ded04",
       "version_major": 2,
       "version_minor": 0
      },
      "text/plain": [
       "Epoch [19/300]:   0%|          | 0/500 [00:00<?, ?it/s]"
      ]
     },
     "metadata": {},
     "output_type": "display_data"
    },
    {
     "name": "stdout",
     "output_type": "stream",
     "text": [
      "Epoch 19/300 — Recon: 0.0154, Disc_Cat: 1.3343, Gen_Cat: 0.8844, Disc_Style: 1.3694, Gen_Style: 0.7491, SemiSup: 0.1287\n",
      "Validation Accuracy: 96.44%\n",
      "\n",
      "Weights saved to semisupervised_results/300_epochs_adam_results/weights_*.pth\n"
     ]
    },
    {
     "data": {
      "application/vnd.jupyter.widget-view+json": {
       "model_id": "35133a77e4fa4452b8600c63308a80ee",
       "version_major": 2,
       "version_minor": 0
      },
      "text/plain": [
       "Epoch [20/300]:   0%|          | 0/500 [00:00<?, ?it/s]"
      ]
     },
     "metadata": {},
     "output_type": "display_data"
    },
    {
     "name": "stdout",
     "output_type": "stream",
     "text": [
      "Epoch 20/300 — Recon: 0.0152, Disc_Cat: 1.3353, Gen_Cat: 0.8795, Disc_Style: 1.3766, Gen_Style: 0.7406, SemiSup: 0.1267\n",
      "Validation Accuracy: 96.42%\n",
      "\n",
      "Weights saved to semisupervised_results/300_epochs_adam_results/weights_*.pth\n"
     ]
    },
    {
     "data": {
      "application/vnd.jupyter.widget-view+json": {
       "model_id": "5bcbac797d804770952bde94eefadbb1",
       "version_major": 2,
       "version_minor": 0
      },
      "text/plain": [
       "Epoch [21/300]:   0%|          | 0/500 [00:00<?, ?it/s]"
      ]
     },
     "metadata": {},
     "output_type": "display_data"
    },
    {
     "name": "stdout",
     "output_type": "stream",
     "text": [
      "Epoch 21/300 — Recon: 0.0152, Disc_Cat: 1.3346, Gen_Cat: 0.8849, Disc_Style: 1.3738, Gen_Style: 0.7376, SemiSup: 0.1223\n",
      "Validation Accuracy: 96.33%\n",
      "\n",
      "Weights saved to semisupervised_results/300_epochs_adam_results/weights_*.pth\n"
     ]
    },
    {
     "data": {
      "application/vnd.jupyter.widget-view+json": {
       "model_id": "ba673ea4eaf64ae3bc98b22c25a19d2f",
       "version_major": 2,
       "version_minor": 0
      },
      "text/plain": [
       "Epoch [22/300]:   0%|          | 0/500 [00:00<?, ?it/s]"
      ]
     },
     "metadata": {},
     "output_type": "display_data"
    },
    {
     "name": "stdout",
     "output_type": "stream",
     "text": [
      "Epoch 22/300 — Recon: 0.0150, Disc_Cat: 1.3384, Gen_Cat: 0.8644, Disc_Style: 1.3778, Gen_Style: 0.7294, SemiSup: 0.1179\n",
      "Validation Accuracy: 96.71%\n",
      "\n",
      "Weights saved to semisupervised_results/300_epochs_adam_results/weights_*.pth\n"
     ]
    },
    {
     "data": {
      "application/vnd.jupyter.widget-view+json": {
       "model_id": "fd85e8ed423f423bb1b6a0cefbc725df",
       "version_major": 2,
       "version_minor": 0
      },
      "text/plain": [
       "Epoch [23/300]:   0%|          | 0/500 [00:00<?, ?it/s]"
      ]
     },
     "metadata": {},
     "output_type": "display_data"
    },
    {
     "name": "stdout",
     "output_type": "stream",
     "text": [
      "Epoch 23/300 — Recon: 0.0151, Disc_Cat: 1.3370, Gen_Cat: 0.8768, Disc_Style: 1.3819, Gen_Style: 0.7249, SemiSup: 0.1168\n",
      "Validation Accuracy: 96.33%\n",
      "\n",
      "Weights saved to semisupervised_results/300_epochs_adam_results/weights_*.pth\n"
     ]
    },
    {
     "data": {
      "application/vnd.jupyter.widget-view+json": {
       "model_id": "24871596323e4a78b932c71adf2e8336",
       "version_major": 2,
       "version_minor": 0
      },
      "text/plain": [
       "Epoch [24/300]:   0%|          | 0/500 [00:00<?, ?it/s]"
      ]
     },
     "metadata": {},
     "output_type": "display_data"
    },
    {
     "name": "stdout",
     "output_type": "stream",
     "text": [
      "Epoch 24/300 — Recon: 0.0149, Disc_Cat: 1.3374, Gen_Cat: 0.8737, Disc_Style: 1.3818, Gen_Style: 0.7254, SemiSup: 0.1171\n",
      "Validation Accuracy: 96.75%\n",
      "\n",
      "Weights saved to semisupervised_results/300_epochs_adam_results/weights_*.pth\n"
     ]
    },
    {
     "data": {
      "application/vnd.jupyter.widget-view+json": {
       "model_id": "66d26abc2c6047f5b17a5303eb7b3cfd",
       "version_major": 2,
       "version_minor": 0
      },
      "text/plain": [
       "Epoch [25/300]:   0%|          | 0/500 [00:00<?, ?it/s]"
      ]
     },
     "metadata": {},
     "output_type": "display_data"
    },
    {
     "name": "stdout",
     "output_type": "stream",
     "text": [
      "Epoch 25/300 — Recon: 0.0143, Disc_Cat: 1.3393, Gen_Cat: 0.8788, Disc_Style: 1.3829, Gen_Style: 0.7125, SemiSup: 0.1077\n",
      "Validation Accuracy: 96.66%\n",
      "\n",
      "Weights saved to semisupervised_results/300_epochs_adam_results/weights_*.pth\n"
     ]
    },
    {
     "data": {
      "application/vnd.jupyter.widget-view+json": {
       "model_id": "deeff6bb4b4944f4a20361b097891ad6",
       "version_major": 2,
       "version_minor": 0
      },
      "text/plain": [
       "Epoch [26/300]:   0%|          | 0/500 [00:00<?, ?it/s]"
      ]
     },
     "metadata": {},
     "output_type": "display_data"
    },
    {
     "name": "stdout",
     "output_type": "stream",
     "text": [
      "Epoch 26/300 — Recon: 0.0148, Disc_Cat: 1.3371, Gen_Cat: 0.8848, Disc_Style: 1.3856, Gen_Style: 0.7142, SemiSup: 0.1082\n",
      "Validation Accuracy: 96.81%\n",
      "\n",
      "Weights saved to semisupervised_results/300_epochs_adam_results/weights_*.pth\n"
     ]
    },
    {
     "data": {
      "application/vnd.jupyter.widget-view+json": {
       "model_id": "e6dfc52d7a4946539296e72be8017da5",
       "version_major": 2,
       "version_minor": 0
      },
      "text/plain": [
       "Epoch [27/300]:   0%|          | 0/500 [00:00<?, ?it/s]"
      ]
     },
     "metadata": {},
     "output_type": "display_data"
    },
    {
     "name": "stdout",
     "output_type": "stream",
     "text": [
      "Epoch 27/300 — Recon: 0.0142, Disc_Cat: 1.3395, Gen_Cat: 0.8851, Disc_Style: 1.3847, Gen_Style: 0.7086, SemiSup: 0.1016\n",
      "Validation Accuracy: 96.84%\n",
      "\n",
      "Weights saved to semisupervised_results/300_epochs_adam_results/weights_*.pth\n"
     ]
    },
    {
     "data": {
      "application/vnd.jupyter.widget-view+json": {
       "model_id": "7a0e2d11f3944de18e23ad24088d67c5",
       "version_major": 2,
       "version_minor": 0
      },
      "text/plain": [
       "Epoch [28/300]:   0%|          | 0/500 [00:00<?, ?it/s]"
      ]
     },
     "metadata": {},
     "output_type": "display_data"
    },
    {
     "name": "stdout",
     "output_type": "stream",
     "text": [
      "Epoch 28/300 — Recon: 0.0146, Disc_Cat: 1.3393, Gen_Cat: 0.9042, Disc_Style: 1.3871, Gen_Style: 0.7081, SemiSup: 0.1043\n",
      "Validation Accuracy: 96.51%\n",
      "\n",
      "Weights saved to semisupervised_results/300_epochs_adam_results/weights_*.pth\n"
     ]
    },
    {
     "data": {
      "application/vnd.jupyter.widget-view+json": {
       "model_id": "408bfeb677754e0da25e0f5ceff64d08",
       "version_major": 2,
       "version_minor": 0
      },
      "text/plain": [
       "Epoch [29/300]:   0%|          | 0/500 [00:00<?, ?it/s]"
      ]
     },
     "metadata": {},
     "output_type": "display_data"
    },
    {
     "name": "stdout",
     "output_type": "stream",
     "text": [
      "Epoch 29/300 — Recon: 0.0151, Disc_Cat: 1.3395, Gen_Cat: 0.9345, Disc_Style: 1.3867, Gen_Style: 0.7095, SemiSup: 0.1073\n",
      "Validation Accuracy: 96.98%\n",
      "\n",
      "Weights saved to semisupervised_results/300_epochs_adam_results/weights_*.pth\n"
     ]
    },
    {
     "data": {
      "application/vnd.jupyter.widget-view+json": {
       "model_id": "1f9f806e4cd7478b82751faf980dc8a0",
       "version_major": 2,
       "version_minor": 0
      },
      "text/plain": [
       "Epoch [30/300]:   0%|          | 0/500 [00:00<?, ?it/s]"
      ]
     },
     "metadata": {},
     "output_type": "display_data"
    },
    {
     "name": "stdout",
     "output_type": "stream",
     "text": [
      "Epoch 30/300 — Recon: 0.0141, Disc_Cat: 1.3413, Gen_Cat: 0.9437, Disc_Style: 1.3861, Gen_Style: 0.7078, SemiSup: 0.1070\n",
      "Validation Accuracy: 96.78%\n",
      "\n",
      "Weights saved to semisupervised_results/300_epochs_adam_results/weights_*.pth\n"
     ]
    },
    {
     "data": {
      "application/vnd.jupyter.widget-view+json": {
       "model_id": "43da047b6c1546f69c0e87420c1f0980",
       "version_major": 2,
       "version_minor": 0
      },
      "text/plain": [
       "Epoch [31/300]:   0%|          | 0/500 [00:00<?, ?it/s]"
      ]
     },
     "metadata": {},
     "output_type": "display_data"
    },
    {
     "name": "stdout",
     "output_type": "stream",
     "text": [
      "Epoch 31/300 — Recon: 0.0148, Disc_Cat: 1.3396, Gen_Cat: 0.9717, Disc_Style: 1.3894, Gen_Style: 0.7075, SemiSup: 0.1050\n",
      "Validation Accuracy: 96.89%\n",
      "\n",
      "Weights saved to semisupervised_results/300_epochs_adam_results/weights_*.pth\n"
     ]
    },
    {
     "data": {
      "application/vnd.jupyter.widget-view+json": {
       "model_id": "6f768fc9bb794b48a3997e2d994cced1",
       "version_major": 2,
       "version_minor": 0
      },
      "text/plain": [
       "Epoch [32/300]:   0%|          | 0/500 [00:00<?, ?it/s]"
      ]
     },
     "metadata": {},
     "output_type": "display_data"
    },
    {
     "name": "stdout",
     "output_type": "stream",
     "text": [
      "Epoch 32/300 — Recon: 0.0137, Disc_Cat: 1.3416, Gen_Cat: 0.9743, Disc_Style: 1.3870, Gen_Style: 0.7010, SemiSup: 0.0901\n",
      "Validation Accuracy: 96.83%\n",
      "\n",
      "Weights saved to semisupervised_results/300_epochs_adam_results/weights_*.pth\n"
     ]
    },
    {
     "data": {
      "application/vnd.jupyter.widget-view+json": {
       "model_id": "d2a5b43ba23144cfa6661c083976ee8c",
       "version_major": 2,
       "version_minor": 0
      },
      "text/plain": [
       "Epoch [33/300]:   0%|          | 0/500 [00:00<?, ?it/s]"
      ]
     },
     "metadata": {},
     "output_type": "display_data"
    },
    {
     "name": "stdout",
     "output_type": "stream",
     "text": [
      "Epoch 33/300 — Recon: 0.0142, Disc_Cat: 1.3404, Gen_Cat: 1.0040, Disc_Style: 1.3868, Gen_Style: 0.7006, SemiSup: 0.0960\n",
      "Validation Accuracy: 96.72%\n",
      "\n",
      "Weights saved to semisupervised_results/300_epochs_adam_results/weights_*.pth\n"
     ]
    },
    {
     "data": {
      "application/vnd.jupyter.widget-view+json": {
       "model_id": "1bf86ab549944225aff8ece07dbeaeb1",
       "version_major": 2,
       "version_minor": 0
      },
      "text/plain": [
       "Epoch [34/300]:   0%|          | 0/500 [00:00<?, ?it/s]"
      ]
     },
     "metadata": {},
     "output_type": "display_data"
    },
    {
     "name": "stdout",
     "output_type": "stream",
     "text": [
      "Epoch 34/300 — Recon: 0.0135, Disc_Cat: 1.3445, Gen_Cat: 0.9958, Disc_Style: 1.3873, Gen_Style: 0.6990, SemiSup: 0.0925\n",
      "Validation Accuracy: 97.06%\n",
      "\n",
      "Weights saved to semisupervised_results/300_epochs_adam_results/weights_*.pth\n"
     ]
    },
    {
     "data": {
      "application/vnd.jupyter.widget-view+json": {
       "model_id": "0787eac050464674b2ffbf05fce2893c",
       "version_major": 2,
       "version_minor": 0
      },
      "text/plain": [
       "Epoch [35/300]:   0%|          | 0/500 [00:00<?, ?it/s]"
      ]
     },
     "metadata": {},
     "output_type": "display_data"
    },
    {
     "name": "stdout",
     "output_type": "stream",
     "text": [
      "Epoch 35/300 — Recon: 0.0137, Disc_Cat: 1.3424, Gen_Cat: 1.0247, Disc_Style: 1.3870, Gen_Style: 0.6988, SemiSup: 0.0913\n",
      "Validation Accuracy: 96.97%\n",
      "\n",
      "Weights saved to semisupervised_results/300_epochs_adam_results/weights_*.pth\n"
     ]
    },
    {
     "data": {
      "application/vnd.jupyter.widget-view+json": {
       "model_id": "df08282947f64dacb8bb2fd0aa7dd599",
       "version_major": 2,
       "version_minor": 0
      },
      "text/plain": [
       "Epoch [36/300]:   0%|          | 0/500 [00:00<?, ?it/s]"
      ]
     },
     "metadata": {},
     "output_type": "display_data"
    },
    {
     "name": "stdout",
     "output_type": "stream",
     "text": [
      "Epoch 36/300 — Recon: 0.0138, Disc_Cat: 1.3423, Gen_Cat: 1.0345, Disc_Style: 1.3883, Gen_Style: 0.6978, SemiSup: 0.0872\n",
      "Validation Accuracy: 97.21%\n",
      "\n",
      "Weights saved to semisupervised_results/300_epochs_adam_results/weights_*.pth\n"
     ]
    },
    {
     "data": {
      "application/vnd.jupyter.widget-view+json": {
       "model_id": "4aa6d8d2cc314f479cd1866ff0d71368",
       "version_major": 2,
       "version_minor": 0
      },
      "text/plain": [
       "Epoch [37/300]:   0%|          | 0/500 [00:00<?, ?it/s]"
      ]
     },
     "metadata": {},
     "output_type": "display_data"
    },
    {
     "name": "stdout",
     "output_type": "stream",
     "text": [
      "Epoch 37/300 — Recon: 0.0135, Disc_Cat: 1.3416, Gen_Cat: 1.0611, Disc_Style: 1.3879, Gen_Style: 0.6974, SemiSup: 0.0816\n",
      "Validation Accuracy: 97.02%\n",
      "\n",
      "Weights saved to semisupervised_results/300_epochs_adam_results/weights_*.pth\n"
     ]
    },
    {
     "data": {
      "application/vnd.jupyter.widget-view+json": {
       "model_id": "ddd3e6369e0e4944955dacdb84f0320d",
       "version_major": 2,
       "version_minor": 0
      },
      "text/plain": [
       "Epoch [38/300]:   0%|          | 0/500 [00:00<?, ?it/s]"
      ]
     },
     "metadata": {},
     "output_type": "display_data"
    },
    {
     "name": "stdout",
     "output_type": "stream",
     "text": [
      "Epoch 38/300 — Recon: 0.0143, Disc_Cat: 1.3391, Gen_Cat: 1.1061, Disc_Style: 1.3893, Gen_Style: 0.6993, SemiSup: 0.0881\n",
      "Validation Accuracy: 97.04%\n",
      "\n",
      "Weights saved to semisupervised_results/300_epochs_adam_results/weights_*.pth\n"
     ]
    },
    {
     "data": {
      "application/vnd.jupyter.widget-view+json": {
       "model_id": "2833eae067954a19902d19f9e9bf92da",
       "version_major": 2,
       "version_minor": 0
      },
      "text/plain": [
       "Epoch [39/300]:   0%|          | 0/500 [00:00<?, ?it/s]"
      ]
     },
     "metadata": {},
     "output_type": "display_data"
    },
    {
     "name": "stdout",
     "output_type": "stream",
     "text": [
      "Epoch 39/300 — Recon: 0.0125, Disc_Cat: 1.3454, Gen_Cat: 1.0596, Disc_Style: 1.3864, Gen_Style: 0.6940, SemiSup: 0.0785\n",
      "Validation Accuracy: 97.30%\n",
      "\n",
      "Weights saved to semisupervised_results/300_epochs_adam_results/weights_*.pth\n"
     ]
    },
    {
     "data": {
      "application/vnd.jupyter.widget-view+json": {
       "model_id": "76e3615f4a854779b024fedc08d11060",
       "version_major": 2,
       "version_minor": 0
      },
      "text/plain": [
       "Epoch [40/300]:   0%|          | 0/500 [00:00<?, ?it/s]"
      ]
     },
     "metadata": {},
     "output_type": "display_data"
    },
    {
     "name": "stdout",
     "output_type": "stream",
     "text": [
      "Epoch 40/300 — Recon: 0.0133, Disc_Cat: 1.3430, Gen_Cat: 1.0941, Disc_Style: 1.3874, Gen_Style: 0.6957, SemiSup: 0.0819\n",
      "Validation Accuracy: 96.79%\n",
      "\n",
      "Weights saved to semisupervised_results/300_epochs_adam_results/weights_*.pth\n"
     ]
    },
    {
     "data": {
      "application/vnd.jupyter.widget-view+json": {
       "model_id": "ae471041ddda4bba8966820330956923",
       "version_major": 2,
       "version_minor": 0
      },
      "text/plain": [
       "Epoch [41/300]:   0%|          | 0/500 [00:00<?, ?it/s]"
      ]
     },
     "metadata": {},
     "output_type": "display_data"
    },
    {
     "name": "stdout",
     "output_type": "stream",
     "text": [
      "Epoch 41/300 — Recon: 0.0134, Disc_Cat: 1.3439, Gen_Cat: 1.1064, Disc_Style: 1.3886, Gen_Style: 0.6954, SemiSup: 0.0790\n",
      "Validation Accuracy: 96.91%\n",
      "\n",
      "Weights saved to semisupervised_results/300_epochs_adam_results/weights_*.pth\n"
     ]
    },
    {
     "data": {
      "application/vnd.jupyter.widget-view+json": {
       "model_id": "39e2e46866ab4301b243bfc6ccebedd2",
       "version_major": 2,
       "version_minor": 0
      },
      "text/plain": [
       "Epoch [42/300]:   0%|          | 0/500 [00:00<?, ?it/s]"
      ]
     },
     "metadata": {},
     "output_type": "display_data"
    },
    {
     "name": "stdout",
     "output_type": "stream",
     "text": [
      "Epoch 42/300 — Recon: 0.0132, Disc_Cat: 1.3432, Gen_Cat: 1.1382, Disc_Style: 1.3876, Gen_Style: 0.6951, SemiSup: 0.0700\n",
      "Validation Accuracy: 96.92%\n",
      "\n",
      "Weights saved to semisupervised_results/300_epochs_adam_results/weights_*.pth\n"
     ]
    },
    {
     "data": {
      "application/vnd.jupyter.widget-view+json": {
       "model_id": "c9ee5d28181f4c72bd0458959145cc81",
       "version_major": 2,
       "version_minor": 0
      },
      "text/plain": [
       "Epoch [43/300]:   0%|          | 0/500 [00:00<?, ?it/s]"
      ]
     },
     "metadata": {},
     "output_type": "display_data"
    },
    {
     "name": "stdout",
     "output_type": "stream",
     "text": [
      "Epoch 43/300 — Recon: 0.0125, Disc_Cat: 1.3436, Gen_Cat: 1.1579, Disc_Style: 1.3866, Gen_Style: 0.6942, SemiSup: 0.0706\n",
      "Validation Accuracy: 97.29%\n",
      "\n",
      "Weights saved to semisupervised_results/300_epochs_adam_results/weights_*.pth\n"
     ]
    },
    {
     "data": {
      "application/vnd.jupyter.widget-view+json": {
       "model_id": "79681e0bd662499a8c56476e4e62f76e",
       "version_major": 2,
       "version_minor": 0
      },
      "text/plain": [
       "Epoch [44/300]:   0%|          | 0/500 [00:00<?, ?it/s]"
      ]
     },
     "metadata": {},
     "output_type": "display_data"
    },
    {
     "name": "stdout",
     "output_type": "stream",
     "text": [
      "Epoch 44/300 — Recon: 0.0247, Disc_Cat: 1.2866, Gen_Cat: 1.8962, Disc_Style: 1.4289, Gen_Style: 0.7941, SemiSup: 0.2417\n",
      "Validation Accuracy: 96.23%\n",
      "\n",
      "Weights saved to semisupervised_results/300_epochs_adam_results/weights_*.pth\n"
     ]
    },
    {
     "data": {
      "application/vnd.jupyter.widget-view+json": {
       "model_id": "0433c54913a54b8eab4198804caf99be",
       "version_major": 2,
       "version_minor": 0
      },
      "text/plain": [
       "Epoch [45/300]:   0%|          | 0/500 [00:00<?, ?it/s]"
      ]
     },
     "metadata": {},
     "output_type": "display_data"
    },
    {
     "name": "stdout",
     "output_type": "stream",
     "text": [
      "Epoch 45/300 — Recon: 0.0168, Disc_Cat: 1.3241, Gen_Cat: 1.4940, Disc_Style: 1.4050, Gen_Style: 0.7593, SemiSup: 0.1280\n",
      "Validation Accuracy: 96.94%\n",
      "\n",
      "Weights saved to semisupervised_results/300_epochs_adam_results/weights_*.pth\n"
     ]
    },
    {
     "data": {
      "application/vnd.jupyter.widget-view+json": {
       "model_id": "08adfe2eee124980ab5b50f1264fea83",
       "version_major": 2,
       "version_minor": 0
      },
      "text/plain": [
       "Epoch [46/300]:   0%|          | 0/500 [00:00<?, ?it/s]"
      ]
     },
     "metadata": {},
     "output_type": "display_data"
    },
    {
     "name": "stdout",
     "output_type": "stream",
     "text": [
      "Epoch 46/300 — Recon: 0.0133, Disc_Cat: 1.3399, Gen_Cat: 1.2889, Disc_Style: 1.3862, Gen_Style: 0.6995, SemiSup: 0.0896\n",
      "Validation Accuracy: 96.79%\n",
      "\n",
      "Weights saved to semisupervised_results/300_epochs_adam_results/weights_*.pth\n"
     ]
    },
    {
     "data": {
      "application/vnd.jupyter.widget-view+json": {
       "model_id": "874fc2b7b8494c6582983555c861fec1",
       "version_major": 2,
       "version_minor": 0
      },
      "text/plain": [
       "Epoch [47/300]:   0%|          | 0/500 [00:00<?, ?it/s]"
      ]
     },
     "metadata": {},
     "output_type": "display_data"
    },
    {
     "name": "stdout",
     "output_type": "stream",
     "text": [
      "Epoch 47/300 — Recon: 0.0123, Disc_Cat: 1.3420, Gen_Cat: 1.2802, Disc_Style: 1.3862, Gen_Style: 0.6943, SemiSup: 0.0745\n",
      "Validation Accuracy: 97.30%\n",
      "\n",
      "Weights saved to semisupervised_results/300_epochs_adam_results/weights_*.pth\n"
     ]
    },
    {
     "data": {
      "application/vnd.jupyter.widget-view+json": {
       "model_id": "17e58ed7e44a41dd953d2a445bce1001",
       "version_major": 2,
       "version_minor": 0
      },
      "text/plain": [
       "Epoch [48/300]:   0%|          | 0/500 [00:00<?, ?it/s]"
      ]
     },
     "metadata": {},
     "output_type": "display_data"
    },
    {
     "name": "stdout",
     "output_type": "stream",
     "text": [
      "Epoch 48/300 — Recon: 0.0121, Disc_Cat: 1.3424, Gen_Cat: 1.3067, Disc_Style: 1.3861, Gen_Style: 0.6936, SemiSup: 0.0720\n",
      "Validation Accuracy: 97.41%\n",
      "\n",
      "Weights saved to semisupervised_results/300_epochs_adam_results/weights_*.pth\n"
     ]
    },
    {
     "data": {
      "application/vnd.jupyter.widget-view+json": {
       "model_id": "1b3b033a317c43edb8deed3967a31eea",
       "version_major": 2,
       "version_minor": 0
      },
      "text/plain": [
       "Epoch [49/300]:   0%|          | 0/500 [00:00<?, ?it/s]"
      ]
     },
     "metadata": {},
     "output_type": "display_data"
    },
    {
     "name": "stdout",
     "output_type": "stream",
     "text": [
      "Epoch 49/300 — Recon: 0.0122, Disc_Cat: 1.3434, Gen_Cat: 1.2849, Disc_Style: 1.3865, Gen_Style: 0.6941, SemiSup: 0.0706\n",
      "Validation Accuracy: 97.23%\n",
      "\n",
      "Weights saved to semisupervised_results/300_epochs_adam_results/weights_*.pth\n"
     ]
    },
    {
     "data": {
      "application/vnd.jupyter.widget-view+json": {
       "model_id": "a651d826e59841689f56073f9f43c1f1",
       "version_major": 2,
       "version_minor": 0
      },
      "text/plain": [
       "Epoch [50/300]:   0%|          | 0/500 [00:00<?, ?it/s]"
      ]
     },
     "metadata": {},
     "output_type": "display_data"
    },
    {
     "name": "stdout",
     "output_type": "stream",
     "text": [
      "Epoch 50/300 — Recon: 0.0120, Disc_Cat: 1.3439, Gen_Cat: 1.2839, Disc_Style: 1.3862, Gen_Style: 0.6940, SemiSup: 0.0681\n",
      "Validation Accuracy: 97.30%\n",
      "\n",
      "Weights saved to semisupervised_results/300_epochs_adam_results/weights_*.pth\n"
     ]
    },
    {
     "data": {
      "application/vnd.jupyter.widget-view+json": {
       "model_id": "a1a9ae323e2141edad25810af0737dea",
       "version_major": 2,
       "version_minor": 0
      },
      "text/plain": [
       "Epoch [51/300]:   0%|          | 0/500 [00:00<?, ?it/s]"
      ]
     },
     "metadata": {},
     "output_type": "display_data"
    },
    {
     "name": "stdout",
     "output_type": "stream",
     "text": [
      "Epoch 51/300 — Recon: 0.0110, Disc_Cat: 1.3475, Gen_Cat: 1.2006, Disc_Style: 1.3859, Gen_Style: 0.6921, SemiSup: 0.0463\n",
      "Validation Accuracy: 97.47%\n",
      "\n",
      "Weights saved to semisupervised_results/300_epochs_adam_results/weights_*.pth\n"
     ]
    },
    {
     "data": {
      "application/vnd.jupyter.widget-view+json": {
       "model_id": "37858d4700694cae81b3ba064933f722",
       "version_major": 2,
       "version_minor": 0
      },
      "text/plain": [
       "Epoch [52/300]:   0%|          | 0/500 [00:00<?, ?it/s]"
      ]
     },
     "metadata": {},
     "output_type": "display_data"
    },
    {
     "name": "stdout",
     "output_type": "stream",
     "text": [
      "Epoch 52/300 — Recon: 0.0108, Disc_Cat: 1.3447, Gen_Cat: 1.2376, Disc_Style: 1.3859, Gen_Style: 0.6924, SemiSup: 0.0389\n",
      "Validation Accuracy: 97.35%\n",
      "\n",
      "Weights saved to semisupervised_results/300_epochs_adam_results/weights_*.pth\n"
     ]
    },
    {
     "data": {
      "application/vnd.jupyter.widget-view+json": {
       "model_id": "e52a93e363274f1cbb4324f125c71725",
       "version_major": 2,
       "version_minor": 0
      },
      "text/plain": [
       "Epoch [53/300]:   0%|          | 0/500 [00:00<?, ?it/s]"
      ]
     },
     "metadata": {},
     "output_type": "display_data"
    },
    {
     "name": "stdout",
     "output_type": "stream",
     "text": [
      "Epoch 53/300 — Recon: 0.0107, Disc_Cat: 1.3431, Gen_Cat: 1.2677, Disc_Style: 1.3861, Gen_Style: 0.6938, SemiSup: 0.0386\n",
      "Validation Accuracy: 97.49%\n",
      "\n",
      "Weights saved to semisupervised_results/300_epochs_adam_results/weights_*.pth\n"
     ]
    },
    {
     "data": {
      "application/vnd.jupyter.widget-view+json": {
       "model_id": "b19dffb36d8f4c4d898c879f166b481b",
       "version_major": 2,
       "version_minor": 0
      },
      "text/plain": [
       "Epoch [54/300]:   0%|          | 0/500 [00:00<?, ?it/s]"
      ]
     },
     "metadata": {},
     "output_type": "display_data"
    },
    {
     "name": "stdout",
     "output_type": "stream",
     "text": [
      "Epoch 54/300 — Recon: 0.0107, Disc_Cat: 1.3414, Gen_Cat: 1.2907, Disc_Style: 1.3865, Gen_Style: 0.6931, SemiSup: 0.0372\n",
      "Validation Accuracy: 97.45%\n",
      "\n",
      "Weights saved to semisupervised_results/300_epochs_adam_results/weights_*.pth\n"
     ]
    },
    {
     "data": {
      "application/vnd.jupyter.widget-view+json": {
       "model_id": "d863be65ff2c4ca5bf13c8e81fdd9a61",
       "version_major": 2,
       "version_minor": 0
      },
      "text/plain": [
       "Epoch [55/300]:   0%|          | 0/500 [00:00<?, ?it/s]"
      ]
     },
     "metadata": {},
     "output_type": "display_data"
    },
    {
     "name": "stdout",
     "output_type": "stream",
     "text": [
      "Epoch 55/300 — Recon: 0.0109, Disc_Cat: 1.3397, Gen_Cat: 1.3102, Disc_Style: 1.3857, Gen_Style: 0.6970, SemiSup: 0.0377\n",
      "Validation Accuracy: 97.55%\n",
      "\n",
      "Weights saved to semisupervised_results/300_epochs_adam_results/weights_*.pth\n"
     ]
    },
    {
     "data": {
      "application/vnd.jupyter.widget-view+json": {
       "model_id": "9062722857a5450686c950091cd35a3d",
       "version_major": 2,
       "version_minor": 0
      },
      "text/plain": [
       "Epoch [56/300]:   0%|          | 0/500 [00:00<?, ?it/s]"
      ]
     },
     "metadata": {},
     "output_type": "display_data"
    },
    {
     "name": "stdout",
     "output_type": "stream",
     "text": [
      "Epoch 56/300 — Recon: 0.0110, Disc_Cat: 1.3404, Gen_Cat: 1.3144, Disc_Style: 1.3853, Gen_Style: 0.6930, SemiSup: 0.0404\n",
      "Validation Accuracy: 97.38%\n",
      "\n",
      "Weights saved to semisupervised_results/300_epochs_adam_results/weights_*.pth\n"
     ]
    },
    {
     "data": {
      "application/vnd.jupyter.widget-view+json": {
       "model_id": "17c27c5872654b29b26b26176d139606",
       "version_major": 2,
       "version_minor": 0
      },
      "text/plain": [
       "Epoch [57/300]:   0%|          | 0/500 [00:00<?, ?it/s]"
      ]
     },
     "metadata": {},
     "output_type": "display_data"
    },
    {
     "name": "stdout",
     "output_type": "stream",
     "text": [
      "Epoch 57/300 — Recon: 0.0111, Disc_Cat: 1.3395, Gen_Cat: 1.3467, Disc_Style: 1.3848, Gen_Style: 0.6945, SemiSup: 0.0414\n",
      "Validation Accuracy: 97.51%\n",
      "\n",
      "Weights saved to semisupervised_results/300_epochs_adam_results/weights_*.pth\n"
     ]
    },
    {
     "data": {
      "application/vnd.jupyter.widget-view+json": {
       "model_id": "d2a3cb69ca6244ee9705ade4470b4fba",
       "version_major": 2,
       "version_minor": 0
      },
      "text/plain": [
       "Epoch [58/300]:   0%|          | 0/500 [00:00<?, ?it/s]"
      ]
     },
     "metadata": {},
     "output_type": "display_data"
    },
    {
     "name": "stdout",
     "output_type": "stream",
     "text": [
      "Epoch 58/300 — Recon: 0.0111, Disc_Cat: 1.3375, Gen_Cat: 1.3679, Disc_Style: 1.3844, Gen_Style: 0.6948, SemiSup: 0.0409\n",
      "Validation Accuracy: 97.48%\n",
      "\n",
      "Weights saved to semisupervised_results/300_epochs_adam_results/weights_*.pth\n"
     ]
    },
    {
     "data": {
      "application/vnd.jupyter.widget-view+json": {
       "model_id": "9b8d0dfbd0d44ccdac3dec7f2fb880ca",
       "version_major": 2,
       "version_minor": 0
      },
      "text/plain": [
       "Epoch [59/300]:   0%|          | 0/500 [00:00<?, ?it/s]"
      ]
     },
     "metadata": {},
     "output_type": "display_data"
    },
    {
     "name": "stdout",
     "output_type": "stream",
     "text": [
      "Epoch 59/300 — Recon: 0.0112, Disc_Cat: 1.3389, Gen_Cat: 1.3796, Disc_Style: 1.3853, Gen_Style: 0.6958, SemiSup: 0.0402\n",
      "Validation Accuracy: 97.44%\n",
      "\n",
      "Weights saved to semisupervised_results/300_epochs_adam_results/weights_*.pth\n"
     ]
    },
    {
     "data": {
      "application/vnd.jupyter.widget-view+json": {
       "model_id": "ae0007ab76a941a4be46fb44cae83c8d",
       "version_major": 2,
       "version_minor": 0
      },
      "text/plain": [
       "Epoch [60/300]:   0%|          | 0/500 [00:00<?, ?it/s]"
      ]
     },
     "metadata": {},
     "output_type": "display_data"
    },
    {
     "name": "stdout",
     "output_type": "stream",
     "text": [
      "Epoch 60/300 — Recon: 0.0112, Disc_Cat: 1.3369, Gen_Cat: 1.4096, Disc_Style: 1.3839, Gen_Style: 0.6959, SemiSup: 0.0400\n",
      "Validation Accuracy: 97.52%\n",
      "\n",
      "Weights saved to semisupervised_results/300_epochs_adam_results/weights_*.pth\n"
     ]
    },
    {
     "data": {
      "application/vnd.jupyter.widget-view+json": {
       "model_id": "f87b247dfeeb446ebd7c5f4073accd0c",
       "version_major": 2,
       "version_minor": 0
      },
      "text/plain": [
       "Epoch [61/300]:   0%|          | 0/500 [00:00<?, ?it/s]"
      ]
     },
     "metadata": {},
     "output_type": "display_data"
    },
    {
     "name": "stdout",
     "output_type": "stream",
     "text": [
      "Epoch 61/300 — Recon: 0.0113, Disc_Cat: 1.3364, Gen_Cat: 1.4242, Disc_Style: 1.3841, Gen_Style: 0.6946, SemiSup: 0.0391\n",
      "Validation Accuracy: 97.35%\n",
      "\n",
      "Weights saved to semisupervised_results/300_epochs_adam_results/weights_*.pth\n"
     ]
    },
    {
     "data": {
      "application/vnd.jupyter.widget-view+json": {
       "model_id": "197b5b0b385e4878b40b489f4f7d91e6",
       "version_major": 2,
       "version_minor": 0
      },
      "text/plain": [
       "Epoch [62/300]:   0%|          | 0/500 [00:00<?, ?it/s]"
      ]
     },
     "metadata": {},
     "output_type": "display_data"
    },
    {
     "name": "stdout",
     "output_type": "stream",
     "text": [
      "Epoch 62/300 — Recon: 0.0113, Disc_Cat: 1.3341, Gen_Cat: 1.4621, Disc_Style: 1.3843, Gen_Style: 0.6979, SemiSup: 0.0416\n",
      "Validation Accuracy: 97.37%\n",
      "\n",
      "Weights saved to semisupervised_results/300_epochs_adam_results/weights_*.pth\n"
     ]
    },
    {
     "data": {
      "application/vnd.jupyter.widget-view+json": {
       "model_id": "6b68b87297a444ae9af4df20ce4f982e",
       "version_major": 2,
       "version_minor": 0
      },
      "text/plain": [
       "Epoch [63/300]:   0%|          | 0/500 [00:00<?, ?it/s]"
      ]
     },
     "metadata": {},
     "output_type": "display_data"
    },
    {
     "name": "stdout",
     "output_type": "stream",
     "text": [
      "Epoch 63/300 — Recon: 0.0111, Disc_Cat: 1.3347, Gen_Cat: 1.4662, Disc_Style: 1.3841, Gen_Style: 0.6941, SemiSup: 0.0380\n",
      "Validation Accuracy: 97.53%\n",
      "\n",
      "Weights saved to semisupervised_results/300_epochs_adam_results/weights_*.pth\n"
     ]
    },
    {
     "data": {
      "application/vnd.jupyter.widget-view+json": {
       "model_id": "8db3b342120b405f9810a6e1268c5e5f",
       "version_major": 2,
       "version_minor": 0
      },
      "text/plain": [
       "Epoch [64/300]:   0%|          | 0/500 [00:00<?, ?it/s]"
      ]
     },
     "metadata": {},
     "output_type": "display_data"
    },
    {
     "name": "stdout",
     "output_type": "stream",
     "text": [
      "Epoch 64/300 — Recon: 0.0109, Disc_Cat: 1.3373, Gen_Cat: 1.4403, Disc_Style: 1.3851, Gen_Style: 0.6951, SemiSup: 0.0384\n",
      "Validation Accuracy: 97.45%\n",
      "\n",
      "Weights saved to semisupervised_results/300_epochs_adam_results/weights_*.pth\n"
     ]
    },
    {
     "data": {
      "application/vnd.jupyter.widget-view+json": {
       "model_id": "b852d11d11b241b7b5117c6c54c3f09a",
       "version_major": 2,
       "version_minor": 0
      },
      "text/plain": [
       "Epoch [65/300]:   0%|          | 0/500 [00:00<?, ?it/s]"
      ]
     },
     "metadata": {},
     "output_type": "display_data"
    },
    {
     "name": "stdout",
     "output_type": "stream",
     "text": [
      "Epoch 65/300 — Recon: 0.0108, Disc_Cat: 1.3388, Gen_Cat: 1.4409, Disc_Style: 1.3848, Gen_Style: 0.6939, SemiSup: 0.0372\n",
      "Validation Accuracy: 97.46%\n",
      "\n",
      "Weights saved to semisupervised_results/300_epochs_adam_results/weights_*.pth\n"
     ]
    },
    {
     "data": {
      "application/vnd.jupyter.widget-view+json": {
       "model_id": "6e74de0222714e6f80d44a2b2e2b5d5d",
       "version_major": 2,
       "version_minor": 0
      },
      "text/plain": [
       "Epoch [66/300]:   0%|          | 0/500 [00:00<?, ?it/s]"
      ]
     },
     "metadata": {},
     "output_type": "display_data"
    },
    {
     "name": "stdout",
     "output_type": "stream",
     "text": [
      "Epoch 66/300 — Recon: 0.0110, Disc_Cat: 1.3370, Gen_Cat: 1.4773, Disc_Style: 1.3833, Gen_Style: 0.6981, SemiSup: 0.0375\n",
      "Validation Accuracy: 97.49%\n",
      "\n",
      "Weights saved to semisupervised_results/300_epochs_adam_results/weights_*.pth\n"
     ]
    },
    {
     "data": {
      "application/vnd.jupyter.widget-view+json": {
       "model_id": "c3db9da18049465ead9bdb38d279220e",
       "version_major": 2,
       "version_minor": 0
      },
      "text/plain": [
       "Epoch [67/300]:   0%|          | 0/500 [00:00<?, ?it/s]"
      ]
     },
     "metadata": {},
     "output_type": "display_data"
    },
    {
     "name": "stdout",
     "output_type": "stream",
     "text": [
      "Epoch 67/300 — Recon: 0.0110, Disc_Cat: 1.3367, Gen_Cat: 1.4961, Disc_Style: 1.3839, Gen_Style: 0.6964, SemiSup: 0.0369\n",
      "Validation Accuracy: 97.45%\n",
      "\n",
      "Weights saved to semisupervised_results/300_epochs_adam_results/weights_*.pth\n"
     ]
    },
    {
     "data": {
      "application/vnd.jupyter.widget-view+json": {
       "model_id": "f891aaf61c6347f2810c047b7a26f2e1",
       "version_major": 2,
       "version_minor": 0
      },
      "text/plain": [
       "Epoch [68/300]:   0%|          | 0/500 [00:00<?, ?it/s]"
      ]
     },
     "metadata": {},
     "output_type": "display_data"
    },
    {
     "name": "stdout",
     "output_type": "stream",
     "text": [
      "Epoch 68/300 — Recon: 0.0113, Disc_Cat: 1.3380, Gen_Cat: 1.5163, Disc_Style: 1.3829, Gen_Style: 0.6994, SemiSup: 0.0389\n",
      "Validation Accuracy: 97.60%\n",
      "\n",
      "Weights saved to semisupervised_results/300_epochs_adam_results/weights_*.pth\n"
     ]
    },
    {
     "data": {
      "application/vnd.jupyter.widget-view+json": {
       "model_id": "a96db91ba75e4eafa912ecd84793f104",
       "version_major": 2,
       "version_minor": 0
      },
      "text/plain": [
       "Epoch [69/300]:   0%|          | 0/500 [00:00<?, ?it/s]"
      ]
     },
     "metadata": {},
     "output_type": "display_data"
    },
    {
     "name": "stdout",
     "output_type": "stream",
     "text": [
      "Epoch 69/300 — Recon: 0.0112, Disc_Cat: 1.3372, Gen_Cat: 1.5405, Disc_Style: 1.3833, Gen_Style: 0.6956, SemiSup: 0.0386\n",
      "Validation Accuracy: 97.41%\n",
      "\n",
      "Weights saved to semisupervised_results/300_epochs_adam_results/weights_*.pth\n"
     ]
    },
    {
     "data": {
      "application/vnd.jupyter.widget-view+json": {
       "model_id": "da6f66d49f5d4ace90e23e95d13dee00",
       "version_major": 2,
       "version_minor": 0
      },
      "text/plain": [
       "Epoch [70/300]:   0%|          | 0/500 [00:00<?, ?it/s]"
      ]
     },
     "metadata": {},
     "output_type": "display_data"
    },
    {
     "name": "stdout",
     "output_type": "stream",
     "text": [
      "Epoch 70/300 — Recon: 0.0111, Disc_Cat: 1.3377, Gen_Cat: 1.5389, Disc_Style: 1.3830, Gen_Style: 0.6962, SemiSup: 0.0365\n",
      "Validation Accuracy: 97.43%\n",
      "\n",
      "Weights saved to semisupervised_results/300_epochs_adam_results/weights_*.pth\n"
     ]
    },
    {
     "data": {
      "application/vnd.jupyter.widget-view+json": {
       "model_id": "d1c13ebad5b5431db98d8f725efbb4f8",
       "version_major": 2,
       "version_minor": 0
      },
      "text/plain": [
       "Epoch [71/300]:   0%|          | 0/500 [00:00<?, ?it/s]"
      ]
     },
     "metadata": {},
     "output_type": "display_data"
    },
    {
     "name": "stdout",
     "output_type": "stream",
     "text": [
      "Epoch 71/300 — Recon: 0.0111, Disc_Cat: 1.3359, Gen_Cat: 1.5723, Disc_Style: 1.3803, Gen_Style: 0.7021, SemiSup: 0.0363\n",
      "Validation Accuracy: 97.40%\n",
      "\n",
      "Weights saved to semisupervised_results/300_epochs_adam_results/weights_*.pth\n"
     ]
    },
    {
     "data": {
      "application/vnd.jupyter.widget-view+json": {
       "model_id": "6612660df0524a99908e6138659403af",
       "version_major": 2,
       "version_minor": 0
      },
      "text/plain": [
       "Epoch [72/300]:   0%|          | 0/500 [00:00<?, ?it/s]"
      ]
     },
     "metadata": {},
     "output_type": "display_data"
    },
    {
     "name": "stdout",
     "output_type": "stream",
     "text": [
      "Epoch 72/300 — Recon: 0.0114, Disc_Cat: 1.3364, Gen_Cat: 1.5897, Disc_Style: 1.3802, Gen_Style: 0.7040, SemiSup: 0.0376\n",
      "Validation Accuracy: 97.43%\n",
      "\n",
      "Weights saved to semisupervised_results/300_epochs_adam_results/weights_*.pth\n"
     ]
    },
    {
     "data": {
      "application/vnd.jupyter.widget-view+json": {
       "model_id": "f2e49eeb62964aff888afe7a090bf42c",
       "version_major": 2,
       "version_minor": 0
      },
      "text/plain": [
       "Epoch [73/300]:   0%|          | 0/500 [00:00<?, ?it/s]"
      ]
     },
     "metadata": {},
     "output_type": "display_data"
    },
    {
     "name": "stdout",
     "output_type": "stream",
     "text": [
      "Epoch 73/300 — Recon: 0.0111, Disc_Cat: 1.3371, Gen_Cat: 1.5793, Disc_Style: 1.3820, Gen_Style: 0.6948, SemiSup: 0.0370\n",
      "Validation Accuracy: 97.44%\n",
      "\n",
      "Weights saved to semisupervised_results/300_epochs_adam_results/weights_*.pth\n"
     ]
    },
    {
     "data": {
      "application/vnd.jupyter.widget-view+json": {
       "model_id": "75d898fc11344ddca0fdfb79329d137e",
       "version_major": 2,
       "version_minor": 0
      },
      "text/plain": [
       "Epoch [74/300]:   0%|          | 0/500 [00:00<?, ?it/s]"
      ]
     },
     "metadata": {},
     "output_type": "display_data"
    },
    {
     "name": "stdout",
     "output_type": "stream",
     "text": [
      "Epoch 74/300 — Recon: 0.0110, Disc_Cat: 1.3389, Gen_Cat: 1.5631, Disc_Style: 1.3805, Gen_Style: 0.6995, SemiSup: 0.0372\n",
      "Validation Accuracy: 97.38%\n",
      "\n",
      "Weights saved to semisupervised_results/300_epochs_adam_results/weights_*.pth\n"
     ]
    },
    {
     "data": {
      "application/vnd.jupyter.widget-view+json": {
       "model_id": "72071d16c1174491a9027c1fcc2d8c14",
       "version_major": 2,
       "version_minor": 0
      },
      "text/plain": [
       "Epoch [75/300]:   0%|          | 0/500 [00:00<?, ?it/s]"
      ]
     },
     "metadata": {},
     "output_type": "display_data"
    },
    {
     "name": "stdout",
     "output_type": "stream",
     "text": [
      "Epoch 75/300 — Recon: 0.0111, Disc_Cat: 1.3388, Gen_Cat: 1.5761, Disc_Style: 1.3772, Gen_Style: 0.7030, SemiSup: 0.0385\n",
      "Validation Accuracy: 97.47%\n",
      "\n",
      "Weights saved to semisupervised_results/300_epochs_adam_results/weights_*.pth\n"
     ]
    },
    {
     "data": {
      "application/vnd.jupyter.widget-view+json": {
       "model_id": "87c4d4ef6aca4ef3b839fd0cf0c6bbc6",
       "version_major": 2,
       "version_minor": 0
      },
      "text/plain": [
       "Epoch [76/300]:   0%|          | 0/500 [00:00<?, ?it/s]"
      ]
     },
     "metadata": {},
     "output_type": "display_data"
    },
    {
     "name": "stdout",
     "output_type": "stream",
     "text": [
      "Epoch 76/300 — Recon: 0.0112, Disc_Cat: 1.3374, Gen_Cat: 1.6306, Disc_Style: 1.3774, Gen_Style: 0.7046, SemiSup: 0.0389\n",
      "Validation Accuracy: 97.55%\n",
      "\n",
      "Weights saved to semisupervised_results/300_epochs_adam_results/weights_*.pth\n"
     ]
    },
    {
     "data": {
      "application/vnd.jupyter.widget-view+json": {
       "model_id": "33a9ba194cdd4c8ebf0c85c4672844d3",
       "version_major": 2,
       "version_minor": 0
      },
      "text/plain": [
       "Epoch [77/300]:   0%|          | 0/500 [00:00<?, ?it/s]"
      ]
     },
     "metadata": {},
     "output_type": "display_data"
    },
    {
     "name": "stdout",
     "output_type": "stream",
     "text": [
      "Epoch 77/300 — Recon: 0.0111, Disc_Cat: 1.3373, Gen_Cat: 1.6250, Disc_Style: 1.3782, Gen_Style: 0.6990, SemiSup: 0.0370\n",
      "Validation Accuracy: 97.46%\n",
      "\n",
      "Weights saved to semisupervised_results/300_epochs_adam_results/weights_*.pth\n"
     ]
    },
    {
     "data": {
      "application/vnd.jupyter.widget-view+json": {
       "model_id": "38f64b3e7e9d41ce9ff8b8e272bfe512",
       "version_major": 2,
       "version_minor": 0
      },
      "text/plain": [
       "Epoch [78/300]:   0%|          | 0/500 [00:00<?, ?it/s]"
      ]
     },
     "metadata": {},
     "output_type": "display_data"
    },
    {
     "name": "stdout",
     "output_type": "stream",
     "text": [
      "Epoch 78/300 — Recon: 0.0110, Disc_Cat: 1.3385, Gen_Cat: 1.6320, Disc_Style: 1.3777, Gen_Style: 0.7088, SemiSup: 0.0367\n",
      "Validation Accuracy: 97.48%\n",
      "\n",
      "Weights saved to semisupervised_results/300_epochs_adam_results/weights_*.pth\n"
     ]
    },
    {
     "data": {
      "application/vnd.jupyter.widget-view+json": {
       "model_id": "34536c9e41b44d9da5cd75d6f788c261",
       "version_major": 2,
       "version_minor": 0
      },
      "text/plain": [
       "Epoch [79/300]:   0%|          | 0/500 [00:00<?, ?it/s]"
      ]
     },
     "metadata": {},
     "output_type": "display_data"
    },
    {
     "name": "stdout",
     "output_type": "stream",
     "text": [
      "Epoch 79/300 — Recon: 0.0111, Disc_Cat: 1.3375, Gen_Cat: 1.6556, Disc_Style: 1.3770, Gen_Style: 0.7095, SemiSup: 0.0360\n",
      "Validation Accuracy: 97.45%\n",
      "\n",
      "Weights saved to semisupervised_results/300_epochs_adam_results/weights_*.pth\n"
     ]
    },
    {
     "data": {
      "application/vnd.jupyter.widget-view+json": {
       "model_id": "b12b4a87f81f43dbab23e54b9ff5bd38",
       "version_major": 2,
       "version_minor": 0
      },
      "text/plain": [
       "Epoch [80/300]:   0%|          | 0/500 [00:00<?, ?it/s]"
      ]
     },
     "metadata": {},
     "output_type": "display_data"
    },
    {
     "name": "stdout",
     "output_type": "stream",
     "text": [
      "Epoch 80/300 — Recon: 0.0111, Disc_Cat: 1.3391, Gen_Cat: 1.6417, Disc_Style: 1.3768, Gen_Style: 0.7019, SemiSup: 0.0357\n",
      "Validation Accuracy: 97.46%\n",
      "\n",
      "Weights saved to semisupervised_results/300_epochs_adam_results/weights_*.pth\n"
     ]
    },
    {
     "data": {
      "application/vnd.jupyter.widget-view+json": {
       "model_id": "aa10892333d74fd4b07ed6fac64bc4c1",
       "version_major": 2,
       "version_minor": 0
      },
      "text/plain": [
       "Epoch [81/300]:   0%|          | 0/500 [00:00<?, ?it/s]"
      ]
     },
     "metadata": {},
     "output_type": "display_data"
    },
    {
     "name": "stdout",
     "output_type": "stream",
     "text": [
      "Epoch 81/300 — Recon: 0.0113, Disc_Cat: 1.3384, Gen_Cat: 1.6727, Disc_Style: 1.3762, Gen_Style: 0.7156, SemiSup: 0.0362\n",
      "Validation Accuracy: 97.48%\n",
      "\n",
      "Weights saved to semisupervised_results/300_epochs_adam_results/weights_*.pth\n"
     ]
    },
    {
     "data": {
      "application/vnd.jupyter.widget-view+json": {
       "model_id": "cf2061bf3d6f4db9a7d17e9e07065876",
       "version_major": 2,
       "version_minor": 0
      },
      "text/plain": [
       "Epoch [82/300]:   0%|          | 0/500 [00:00<?, ?it/s]"
      ]
     },
     "metadata": {},
     "output_type": "display_data"
    },
    {
     "name": "stdout",
     "output_type": "stream",
     "text": [
      "Epoch 82/300 — Recon: 0.0111, Disc_Cat: 1.3366, Gen_Cat: 1.6830, Disc_Style: 1.3720, Gen_Style: 0.7122, SemiSup: 0.0347\n",
      "Validation Accuracy: 97.47%\n",
      "\n",
      "Weights saved to semisupervised_results/300_epochs_adam_results/weights_*.pth\n"
     ]
    },
    {
     "data": {
      "application/vnd.jupyter.widget-view+json": {
       "model_id": "9e3ab2f289fd409d917230c8424f4546",
       "version_major": 2,
       "version_minor": 0
      },
      "text/plain": [
       "Epoch [83/300]:   0%|          | 0/500 [00:00<?, ?it/s]"
      ]
     },
     "metadata": {},
     "output_type": "display_data"
    },
    {
     "name": "stdout",
     "output_type": "stream",
     "text": [
      "Epoch 83/300 — Recon: 0.0111, Disc_Cat: 1.3381, Gen_Cat: 1.6779, Disc_Style: 1.3725, Gen_Style: 0.7142, SemiSup: 0.0372\n",
      "Validation Accuracy: 97.45%\n",
      "\n",
      "Weights saved to semisupervised_results/300_epochs_adam_results/weights_*.pth\n"
     ]
    },
    {
     "data": {
      "application/vnd.jupyter.widget-view+json": {
       "model_id": "fb00781d680547b4aa6994f6ac663d9e",
       "version_major": 2,
       "version_minor": 0
      },
      "text/plain": [
       "Epoch [84/300]:   0%|          | 0/500 [00:00<?, ?it/s]"
      ]
     },
     "metadata": {},
     "output_type": "display_data"
    },
    {
     "name": "stdout",
     "output_type": "stream",
     "text": [
      "Epoch 84/300 — Recon: 0.0111, Disc_Cat: 1.3372, Gen_Cat: 1.7073, Disc_Style: 1.3715, Gen_Style: 0.7142, SemiSup: 0.0351\n",
      "Validation Accuracy: 97.56%\n",
      "\n",
      "Weights saved to semisupervised_results/300_epochs_adam_results/weights_*.pth\n"
     ]
    },
    {
     "data": {
      "application/vnd.jupyter.widget-view+json": {
       "model_id": "45a9d27984d7459493d6f221bd33f93a",
       "version_major": 2,
       "version_minor": 0
      },
      "text/plain": [
       "Epoch [85/300]:   0%|          | 0/500 [00:00<?, ?it/s]"
      ]
     },
     "metadata": {},
     "output_type": "display_data"
    },
    {
     "name": "stdout",
     "output_type": "stream",
     "text": [
      "Epoch 85/300 — Recon: 0.0112, Disc_Cat: 1.3378, Gen_Cat: 1.7102, Disc_Style: 1.3718, Gen_Style: 0.7157, SemiSup: 0.0358\n",
      "Validation Accuracy: 97.48%\n",
      "\n",
      "Weights saved to semisupervised_results/300_epochs_adam_results/weights_*.pth\n"
     ]
    },
    {
     "data": {
      "application/vnd.jupyter.widget-view+json": {
       "model_id": "1b9ee40fcbbd42bfbc6ee52328f649e6",
       "version_major": 2,
       "version_minor": 0
      },
      "text/plain": [
       "Epoch [86/300]:   0%|          | 0/500 [00:00<?, ?it/s]"
      ]
     },
     "metadata": {},
     "output_type": "display_data"
    },
    {
     "name": "stdout",
     "output_type": "stream",
     "text": [
      "Epoch 86/300 — Recon: 0.0112, Disc_Cat: 1.3385, Gen_Cat: 1.7294, Disc_Style: 1.3694, Gen_Style: 0.7188, SemiSup: 0.0349\n",
      "Validation Accuracy: 97.53%\n",
      "\n",
      "Weights saved to semisupervised_results/300_epochs_adam_results/weights_*.pth\n"
     ]
    },
    {
     "data": {
      "application/vnd.jupyter.widget-view+json": {
       "model_id": "83a310f5556f4ad9acbb09a1d0224e04",
       "version_major": 2,
       "version_minor": 0
      },
      "text/plain": [
       "Epoch [87/300]:   0%|          | 0/500 [00:00<?, ?it/s]"
      ]
     },
     "metadata": {},
     "output_type": "display_data"
    },
    {
     "name": "stdout",
     "output_type": "stream",
     "text": [
      "Epoch 87/300 — Recon: 0.0112, Disc_Cat: 1.3385, Gen_Cat: 1.7439, Disc_Style: 1.3681, Gen_Style: 0.7171, SemiSup: 0.0356\n",
      "Validation Accuracy: 97.40%\n",
      "\n",
      "Weights saved to semisupervised_results/300_epochs_adam_results/weights_*.pth\n"
     ]
    },
    {
     "data": {
      "application/vnd.jupyter.widget-view+json": {
       "model_id": "fe01b728c9664bc5a0dc482a78729daa",
       "version_major": 2,
       "version_minor": 0
      },
      "text/plain": [
       "Epoch [88/300]:   0%|          | 0/500 [00:00<?, ?it/s]"
      ]
     },
     "metadata": {},
     "output_type": "display_data"
    },
    {
     "name": "stdout",
     "output_type": "stream",
     "text": [
      "Epoch 88/300 — Recon: 0.0112, Disc_Cat: 1.3391, Gen_Cat: 1.7393, Disc_Style: 1.3634, Gen_Style: 0.7281, SemiSup: 0.0349\n",
      "Validation Accuracy: 97.50%\n",
      "\n",
      "Weights saved to semisupervised_results/300_epochs_adam_results/weights_*.pth\n"
     ]
    },
    {
     "data": {
      "application/vnd.jupyter.widget-view+json": {
       "model_id": "224b3d622549401b86677f186bbfa229",
       "version_major": 2,
       "version_minor": 0
      },
      "text/plain": [
       "Epoch [89/300]:   0%|          | 0/500 [00:00<?, ?it/s]"
      ]
     },
     "metadata": {},
     "output_type": "display_data"
    },
    {
     "name": "stdout",
     "output_type": "stream",
     "text": [
      "Epoch 89/300 — Recon: 0.0112, Disc_Cat: 1.3364, Gen_Cat: 1.7639, Disc_Style: 1.3619, Gen_Style: 0.7241, SemiSup: 0.0351\n",
      "Validation Accuracy: 97.41%\n",
      "\n",
      "Weights saved to semisupervised_results/300_epochs_adam_results/weights_*.pth\n"
     ]
    },
    {
     "data": {
      "application/vnd.jupyter.widget-view+json": {
       "model_id": "05609396ea4d4d7aaedb3bea9311fa33",
       "version_major": 2,
       "version_minor": 0
      },
      "text/plain": [
       "Epoch [90/300]:   0%|          | 0/500 [00:00<?, ?it/s]"
      ]
     },
     "metadata": {},
     "output_type": "display_data"
    },
    {
     "name": "stdout",
     "output_type": "stream",
     "text": [
      "Epoch 90/300 — Recon: 0.0113, Disc_Cat: 1.3369, Gen_Cat: 1.7853, Disc_Style: 1.3625, Gen_Style: 0.7270, SemiSup: 0.0364\n",
      "Validation Accuracy: 97.43%\n",
      "\n",
      "Weights saved to semisupervised_results/300_epochs_adam_results/weights_*.pth\n"
     ]
    },
    {
     "data": {
      "application/vnd.jupyter.widget-view+json": {
       "model_id": "bb111c5221d5424bb9e1ec60353e0fd0",
       "version_major": 2,
       "version_minor": 0
      },
      "text/plain": [
       "Epoch [91/300]:   0%|          | 0/500 [00:00<?, ?it/s]"
      ]
     },
     "metadata": {},
     "output_type": "display_data"
    },
    {
     "name": "stdout",
     "output_type": "stream",
     "text": [
      "Epoch 91/300 — Recon: 0.0113, Disc_Cat: 1.3390, Gen_Cat: 1.7816, Disc_Style: 1.3668, Gen_Style: 0.7344, SemiSup: 0.0352\n",
      "Validation Accuracy: 97.50%\n",
      "\n",
      "Weights saved to semisupervised_results/300_epochs_adam_results/weights_*.pth\n"
     ]
    },
    {
     "data": {
      "application/vnd.jupyter.widget-view+json": {
       "model_id": "5a50627d836f48c39e957f3cff070d5a",
       "version_major": 2,
       "version_minor": 0
      },
      "text/plain": [
       "Epoch [92/300]:   0%|          | 0/500 [00:00<?, ?it/s]"
      ]
     },
     "metadata": {},
     "output_type": "display_data"
    },
    {
     "name": "stdout",
     "output_type": "stream",
     "text": [
      "Epoch 92/300 — Recon: 0.0112, Disc_Cat: 1.3377, Gen_Cat: 1.8013, Disc_Style: 1.3658, Gen_Style: 0.7279, SemiSup: 0.0345\n",
      "Validation Accuracy: 97.50%\n",
      "\n",
      "Weights saved to semisupervised_results/300_epochs_adam_results/weights_*.pth\n"
     ]
    },
    {
     "data": {
      "application/vnd.jupyter.widget-view+json": {
       "model_id": "9bf58001e98f4d0caf2eafc2945aa137",
       "version_major": 2,
       "version_minor": 0
      },
      "text/plain": [
       "Epoch [93/300]:   0%|          | 0/500 [00:00<?, ?it/s]"
      ]
     },
     "metadata": {},
     "output_type": "display_data"
    },
    {
     "name": "stdout",
     "output_type": "stream",
     "text": [
      "Epoch 93/300 — Recon: 0.0111, Disc_Cat: 1.3364, Gen_Cat: 1.8136, Disc_Style: 1.3625, Gen_Style: 0.7286, SemiSup: 0.0344\n",
      "Validation Accuracy: 97.53%\n",
      "\n",
      "Weights saved to semisupervised_results/300_epochs_adam_results/weights_*.pth\n"
     ]
    },
    {
     "data": {
      "application/vnd.jupyter.widget-view+json": {
       "model_id": "66b554a1eb6a499fa643129a0961b49f",
       "version_major": 2,
       "version_minor": 0
      },
      "text/plain": [
       "Epoch [94/300]:   0%|          | 0/500 [00:00<?, ?it/s]"
      ]
     },
     "metadata": {},
     "output_type": "display_data"
    },
    {
     "name": "stdout",
     "output_type": "stream",
     "text": [
      "Epoch 94/300 — Recon: 0.0111, Disc_Cat: 1.3390, Gen_Cat: 1.8054, Disc_Style: 1.3638, Gen_Style: 0.7288, SemiSup: 0.0341\n",
      "Validation Accuracy: 97.46%\n",
      "\n",
      "Weights saved to semisupervised_results/300_epochs_adam_results/weights_*.pth\n"
     ]
    },
    {
     "data": {
      "application/vnd.jupyter.widget-view+json": {
       "model_id": "b95a03d40ac44bb9b8692a545721ba78",
       "version_major": 2,
       "version_minor": 0
      },
      "text/plain": [
       "Epoch [95/300]:   0%|          | 0/500 [00:00<?, ?it/s]"
      ]
     },
     "metadata": {},
     "output_type": "display_data"
    },
    {
     "name": "stdout",
     "output_type": "stream",
     "text": [
      "Epoch 95/300 — Recon: 0.0110, Disc_Cat: 1.3391, Gen_Cat: 1.8023, Disc_Style: 1.3608, Gen_Style: 0.7290, SemiSup: 0.0326\n",
      "Validation Accuracy: 97.44%\n",
      "\n",
      "Weights saved to semisupervised_results/300_epochs_adam_results/weights_*.pth\n"
     ]
    },
    {
     "data": {
      "application/vnd.jupyter.widget-view+json": {
       "model_id": "7546c5b17d3c4c93b6bf44f46204d8b3",
       "version_major": 2,
       "version_minor": 0
      },
      "text/plain": [
       "Epoch [96/300]:   0%|          | 0/500 [00:00<?, ?it/s]"
      ]
     },
     "metadata": {},
     "output_type": "display_data"
    },
    {
     "name": "stdout",
     "output_type": "stream",
     "text": [
      "Epoch 96/300 — Recon: 0.0110, Disc_Cat: 1.3394, Gen_Cat: 1.8021, Disc_Style: 1.3586, Gen_Style: 0.7309, SemiSup: 0.0322\n",
      "Validation Accuracy: 97.32%\n",
      "\n",
      "Weights saved to semisupervised_results/300_epochs_adam_results/weights_*.pth\n"
     ]
    },
    {
     "data": {
      "application/vnd.jupyter.widget-view+json": {
       "model_id": "46f25e16acb54692ba7b7667f92c29a5",
       "version_major": 2,
       "version_minor": 0
      },
      "text/plain": [
       "Epoch [97/300]:   0%|          | 0/500 [00:00<?, ?it/s]"
      ]
     },
     "metadata": {},
     "output_type": "display_data"
    },
    {
     "name": "stdout",
     "output_type": "stream",
     "text": [
      "Epoch 97/300 — Recon: 0.0111, Disc_Cat: 1.3365, Gen_Cat: 1.8463, Disc_Style: 1.3635, Gen_Style: 0.7304, SemiSup: 0.0322\n",
      "Validation Accuracy: 97.40%\n",
      "\n",
      "Weights saved to semisupervised_results/300_epochs_adam_results/weights_*.pth\n"
     ]
    },
    {
     "data": {
      "application/vnd.jupyter.widget-view+json": {
       "model_id": "bce14a04354d48c4855405e11a80d371",
       "version_major": 2,
       "version_minor": 0
      },
      "text/plain": [
       "Epoch [98/300]:   0%|          | 0/500 [00:00<?, ?it/s]"
      ]
     },
     "metadata": {},
     "output_type": "display_data"
    },
    {
     "name": "stdout",
     "output_type": "stream",
     "text": [
      "Epoch 98/300 — Recon: 0.0111, Disc_Cat: 1.3375, Gen_Cat: 1.8459, Disc_Style: 1.3621, Gen_Style: 0.7290, SemiSup: 0.0317\n",
      "Validation Accuracy: 97.46%\n",
      "\n",
      "Weights saved to semisupervised_results/300_epochs_adam_results/weights_*.pth\n"
     ]
    },
    {
     "data": {
      "application/vnd.jupyter.widget-view+json": {
       "model_id": "4fc49f0a0793443e81493d4bff748c8b",
       "version_major": 2,
       "version_minor": 0
      },
      "text/plain": [
       "Epoch [99/300]:   0%|          | 0/500 [00:00<?, ?it/s]"
      ]
     },
     "metadata": {},
     "output_type": "display_data"
    },
    {
     "name": "stdout",
     "output_type": "stream",
     "text": [
      "Epoch 99/300 — Recon: 0.0111, Disc_Cat: 1.3390, Gen_Cat: 1.8379, Disc_Style: 1.3587, Gen_Style: 0.7338, SemiSup: 0.0322\n",
      "Validation Accuracy: 97.43%\n",
      "\n",
      "Weights saved to semisupervised_results/300_epochs_adam_results/weights_*.pth\n"
     ]
    },
    {
     "data": {
      "application/vnd.jupyter.widget-view+json": {
       "model_id": "3847a401a7b042b88e5646234aafd8cc",
       "version_major": 2,
       "version_minor": 0
      },
      "text/plain": [
       "Epoch [100/300]:   0%|          | 0/500 [00:00<?, ?it/s]"
      ]
     },
     "metadata": {},
     "output_type": "display_data"
    },
    {
     "name": "stdout",
     "output_type": "stream",
     "text": [
      "Epoch 100/300 — Recon: 0.0111, Disc_Cat: 1.3378, Gen_Cat: 1.8535, Disc_Style: 1.3605, Gen_Style: 0.7274, SemiSup: 0.0324\n",
      "Validation Accuracy: 97.45%\n",
      "\n",
      "Weights saved to semisupervised_results/300_epochs_adam_results/weights_*.pth\n"
     ]
    },
    {
     "data": {
      "application/vnd.jupyter.widget-view+json": {
       "model_id": "e4054786ac824fd28b9d4d5f7d50a329",
       "version_major": 2,
       "version_minor": 0
      },
      "text/plain": [
       "Epoch [101/300]:   0%|          | 0/500 [00:00<?, ?it/s]"
      ]
     },
     "metadata": {},
     "output_type": "display_data"
    },
    {
     "name": "stdout",
     "output_type": "stream",
     "text": [
      "Epoch 101/300 — Recon: 0.0110, Disc_Cat: 1.3382, Gen_Cat: 1.8566, Disc_Style: 1.3600, Gen_Style: 0.7277, SemiSup: 0.0324\n",
      "Validation Accuracy: 97.44%\n",
      "\n",
      "Weights saved to semisupervised_results/300_epochs_adam_results/weights_*.pth\n"
     ]
    },
    {
     "data": {
      "application/vnd.jupyter.widget-view+json": {
       "model_id": "139b5afbad3e4d27b42b203f943d4ef7",
       "version_major": 2,
       "version_minor": 0
      },
      "text/plain": [
       "Epoch [102/300]:   0%|          | 0/500 [00:00<?, ?it/s]"
      ]
     },
     "metadata": {},
     "output_type": "display_data"
    },
    {
     "name": "stdout",
     "output_type": "stream",
     "text": [
      "Epoch 102/300 — Recon: 0.0110, Disc_Cat: 1.3379, Gen_Cat: 1.8702, Disc_Style: 1.3590, Gen_Style: 0.7329, SemiSup: 0.0310\n",
      "Validation Accuracy: 97.45%\n",
      "\n",
      "Weights saved to semisupervised_results/300_epochs_adam_results/weights_*.pth\n"
     ]
    },
    {
     "data": {
      "application/vnd.jupyter.widget-view+json": {
       "model_id": "8ecf32179b004887807380fd0e17e909",
       "version_major": 2,
       "version_minor": 0
      },
      "text/plain": [
       "Epoch [103/300]:   0%|          | 0/500 [00:00<?, ?it/s]"
      ]
     },
     "metadata": {},
     "output_type": "display_data"
    },
    {
     "name": "stdout",
     "output_type": "stream",
     "text": [
      "Epoch 103/300 — Recon: 0.0110, Disc_Cat: 1.3390, Gen_Cat: 1.8725, Disc_Style: 1.3604, Gen_Style: 0.7305, SemiSup: 0.0313\n",
      "Validation Accuracy: 97.40%\n",
      "\n",
      "Weights saved to semisupervised_results/300_epochs_adam_results/weights_*.pth\n"
     ]
    },
    {
     "data": {
      "application/vnd.jupyter.widget-view+json": {
       "model_id": "6d2454a3db7a45988534fa2ef55cf602",
       "version_major": 2,
       "version_minor": 0
      },
      "text/plain": [
       "Epoch [104/300]:   0%|          | 0/500 [00:00<?, ?it/s]"
      ]
     },
     "metadata": {},
     "output_type": "display_data"
    },
    {
     "name": "stdout",
     "output_type": "stream",
     "text": [
      "Epoch 104/300 — Recon: 0.0110, Disc_Cat: 1.3410, Gen_Cat: 1.8492, Disc_Style: 1.3621, Gen_Style: 0.7285, SemiSup: 0.0312\n",
      "Validation Accuracy: 97.32%\n",
      "\n",
      "Weights saved to semisupervised_results/300_epochs_adam_results/weights_*.pth\n"
     ]
    },
    {
     "data": {
      "application/vnd.jupyter.widget-view+json": {
       "model_id": "c4219729dfb740b3b7d9b28301ce01b3",
       "version_major": 2,
       "version_minor": 0
      },
      "text/plain": [
       "Epoch [105/300]:   0%|          | 0/500 [00:00<?, ?it/s]"
      ]
     },
     "metadata": {},
     "output_type": "display_data"
    },
    {
     "name": "stdout",
     "output_type": "stream",
     "text": [
      "Epoch 105/300 — Recon: 0.0110, Disc_Cat: 1.3412, Gen_Cat: 1.8564, Disc_Style: 1.3628, Gen_Style: 0.7294, SemiSup: 0.0314\n",
      "Validation Accuracy: 97.49%\n",
      "\n",
      "Weights saved to semisupervised_results/300_epochs_adam_results/weights_*.pth\n"
     ]
    },
    {
     "data": {
      "application/vnd.jupyter.widget-view+json": {
       "model_id": "9de5923a9da54e20a9ab84016fdb09b5",
       "version_major": 2,
       "version_minor": 0
      },
      "text/plain": [
       "Epoch [106/300]:   0%|          | 0/500 [00:00<?, ?it/s]"
      ]
     },
     "metadata": {},
     "output_type": "display_data"
    },
    {
     "name": "stdout",
     "output_type": "stream",
     "text": [
      "Epoch 106/300 — Recon: 0.0110, Disc_Cat: 1.3392, Gen_Cat: 1.8783, Disc_Style: 1.3612, Gen_Style: 0.7312, SemiSup: 0.0315\n",
      "Validation Accuracy: 97.40%\n",
      "\n",
      "Weights saved to semisupervised_results/300_epochs_adam_results/weights_*.pth\n"
     ]
    },
    {
     "data": {
      "application/vnd.jupyter.widget-view+json": {
       "model_id": "649bc666a3bc407a8400437bfc9150d4",
       "version_major": 2,
       "version_minor": 0
      },
      "text/plain": [
       "Epoch [107/300]:   0%|          | 0/500 [00:00<?, ?it/s]"
      ]
     },
     "metadata": {},
     "output_type": "display_data"
    },
    {
     "name": "stdout",
     "output_type": "stream",
     "text": [
      "Epoch 107/300 — Recon: 0.0110, Disc_Cat: 1.3387, Gen_Cat: 1.8923, Disc_Style: 1.3635, Gen_Style: 0.7282, SemiSup: 0.0308\n",
      "Validation Accuracy: 97.34%\n",
      "\n",
      "Weights saved to semisupervised_results/300_epochs_adam_results/weights_*.pth\n"
     ]
    },
    {
     "data": {
      "application/vnd.jupyter.widget-view+json": {
       "model_id": "1abc123433c8488bae480859a66abe80",
       "version_major": 2,
       "version_minor": 0
      },
      "text/plain": [
       "Epoch [108/300]:   0%|          | 0/500 [00:00<?, ?it/s]"
      ]
     },
     "metadata": {},
     "output_type": "display_data"
    },
    {
     "name": "stdout",
     "output_type": "stream",
     "text": [
      "Epoch 108/300 — Recon: 0.0110, Disc_Cat: 1.3389, Gen_Cat: 1.8875, Disc_Style: 1.3638, Gen_Style: 0.7271, SemiSup: 0.0309\n",
      "Validation Accuracy: 97.41%\n",
      "\n",
      "Weights saved to semisupervised_results/300_epochs_adam_results/weights_*.pth\n"
     ]
    },
    {
     "data": {
      "application/vnd.jupyter.widget-view+json": {
       "model_id": "f83bbf6dc9244a7480c71825e7db46cc",
       "version_major": 2,
       "version_minor": 0
      },
      "text/plain": [
       "Epoch [109/300]:   0%|          | 0/500 [00:00<?, ?it/s]"
      ]
     },
     "metadata": {},
     "output_type": "display_data"
    },
    {
     "name": "stdout",
     "output_type": "stream",
     "text": [
      "Epoch 109/300 — Recon: 0.0109, Disc_Cat: 1.3405, Gen_Cat: 1.8806, Disc_Style: 1.3627, Gen_Style: 0.7272, SemiSup: 0.0309\n",
      "Validation Accuracy: 97.40%\n",
      "\n",
      "Weights saved to semisupervised_results/300_epochs_adam_results/weights_*.pth\n"
     ]
    },
    {
     "data": {
      "application/vnd.jupyter.widget-view+json": {
       "model_id": "644af0cb8cab43e2ba1bab98830efbb4",
       "version_major": 2,
       "version_minor": 0
      },
      "text/plain": [
       "Epoch [110/300]:   0%|          | 0/500 [00:00<?, ?it/s]"
      ]
     },
     "metadata": {},
     "output_type": "display_data"
    },
    {
     "name": "stdout",
     "output_type": "stream",
     "text": [
      "Epoch 110/300 — Recon: 0.0110, Disc_Cat: 1.3401, Gen_Cat: 1.9001, Disc_Style: 1.3631, Gen_Style: 0.7283, SemiSup: 0.0304\n",
      "Validation Accuracy: 97.35%\n",
      "\n",
      "Weights saved to semisupervised_results/300_epochs_adam_results/weights_*.pth\n"
     ]
    },
    {
     "data": {
      "application/vnd.jupyter.widget-view+json": {
       "model_id": "40863cef87c64826991eaa6a29b2b602",
       "version_major": 2,
       "version_minor": 0
      },
      "text/plain": [
       "Epoch [111/300]:   0%|          | 0/500 [00:00<?, ?it/s]"
      ]
     },
     "metadata": {},
     "output_type": "display_data"
    },
    {
     "name": "stdout",
     "output_type": "stream",
     "text": [
      "Epoch 111/300 — Recon: 0.0110, Disc_Cat: 1.3404, Gen_Cat: 1.8991, Disc_Style: 1.3618, Gen_Style: 0.7279, SemiSup: 0.0304\n",
      "Validation Accuracy: 97.45%\n",
      "\n",
      "Weights saved to semisupervised_results/300_epochs_adam_results/weights_*.pth\n"
     ]
    },
    {
     "data": {
      "application/vnd.jupyter.widget-view+json": {
       "model_id": "e1ba7fcbc1a643bb9c9c1d1500ce61cd",
       "version_major": 2,
       "version_minor": 0
      },
      "text/plain": [
       "Epoch [112/300]:   0%|          | 0/500 [00:00<?, ?it/s]"
      ]
     },
     "metadata": {},
     "output_type": "display_data"
    },
    {
     "name": "stdout",
     "output_type": "stream",
     "text": [
      "Epoch 112/300 — Recon: 0.0110, Disc_Cat: 1.3416, Gen_Cat: 1.8852, Disc_Style: 1.3597, Gen_Style: 0.7296, SemiSup: 0.0309\n",
      "Validation Accuracy: 97.42%\n",
      "\n",
      "Weights saved to semisupervised_results/300_epochs_adam_results/weights_*.pth\n"
     ]
    },
    {
     "data": {
      "application/vnd.jupyter.widget-view+json": {
       "model_id": "5856d29d0aa54c049d3051b48a213df4",
       "version_major": 2,
       "version_minor": 0
      },
      "text/plain": [
       "Epoch [113/300]:   0%|          | 0/500 [00:00<?, ?it/s]"
      ]
     },
     "metadata": {},
     "output_type": "display_data"
    },
    {
     "name": "stdout",
     "output_type": "stream",
     "text": [
      "Epoch 113/300 — Recon: 0.0110, Disc_Cat: 1.3402, Gen_Cat: 1.9201, Disc_Style: 1.3610, Gen_Style: 0.7274, SemiSup: 0.0306\n",
      "Validation Accuracy: 97.41%\n",
      "\n",
      "Weights saved to semisupervised_results/300_epochs_adam_results/weights_*.pth\n"
     ]
    },
    {
     "data": {
      "application/vnd.jupyter.widget-view+json": {
       "model_id": "caa6e0970a6c4918bbd0b99009f3cc5f",
       "version_major": 2,
       "version_minor": 0
      },
      "text/plain": [
       "Epoch [114/300]:   0%|          | 0/500 [00:00<?, ?it/s]"
      ]
     },
     "metadata": {},
     "output_type": "display_data"
    },
    {
     "name": "stdout",
     "output_type": "stream",
     "text": [
      "Epoch 114/300 — Recon: 0.0110, Disc_Cat: 1.3411, Gen_Cat: 1.9177, Disc_Style: 1.3617, Gen_Style: 0.7285, SemiSup: 0.0297\n",
      "Validation Accuracy: 97.41%\n",
      "\n",
      "Weights saved to semisupervised_results/300_epochs_adam_results/weights_*.pth\n"
     ]
    },
    {
     "data": {
      "application/vnd.jupyter.widget-view+json": {
       "model_id": "9081828766eb4977860059172010c630",
       "version_major": 2,
       "version_minor": 0
      },
      "text/plain": [
       "Epoch [115/300]:   0%|          | 0/500 [00:00<?, ?it/s]"
      ]
     },
     "metadata": {},
     "output_type": "display_data"
    },
    {
     "name": "stdout",
     "output_type": "stream",
     "text": [
      "Epoch 115/300 — Recon: 0.0109, Disc_Cat: 1.3416, Gen_Cat: 1.9266, Disc_Style: 1.3655, Gen_Style: 0.7275, SemiSup: 0.0299\n",
      "Validation Accuracy: 97.43%\n",
      "\n",
      "Weights saved to semisupervised_results/300_epochs_adam_results/weights_*.pth\n"
     ]
    },
    {
     "data": {
      "application/vnd.jupyter.widget-view+json": {
       "model_id": "b7a2a0550b9741c78e9878dadfbc47e3",
       "version_major": 2,
       "version_minor": 0
      },
      "text/plain": [
       "Epoch [116/300]:   0%|          | 0/500 [00:00<?, ?it/s]"
      ]
     },
     "metadata": {},
     "output_type": "display_data"
    },
    {
     "name": "stdout",
     "output_type": "stream",
     "text": [
      "Epoch 116/300 — Recon: 0.0109, Disc_Cat: 1.3393, Gen_Cat: 1.9263, Disc_Style: 1.3658, Gen_Style: 0.7256, SemiSup: 0.0297\n",
      "Validation Accuracy: 97.45%\n",
      "\n",
      "Weights saved to semisupervised_results/300_epochs_adam_results/weights_*.pth\n"
     ]
    },
    {
     "data": {
      "application/vnd.jupyter.widget-view+json": {
       "model_id": "c4dc7114290f4ad68806209dcde95634",
       "version_major": 2,
       "version_minor": 0
      },
      "text/plain": [
       "Epoch [117/300]:   0%|          | 0/500 [00:00<?, ?it/s]"
      ]
     },
     "metadata": {},
     "output_type": "display_data"
    },
    {
     "name": "stdout",
     "output_type": "stream",
     "text": [
      "Epoch 117/300 — Recon: 0.0109, Disc_Cat: 1.3414, Gen_Cat: 1.9195, Disc_Style: 1.3635, Gen_Style: 0.7259, SemiSup: 0.0283\n",
      "Validation Accuracy: 97.44%\n",
      "\n",
      "Weights saved to semisupervised_results/300_epochs_adam_results/weights_*.pth\n"
     ]
    },
    {
     "data": {
      "application/vnd.jupyter.widget-view+json": {
       "model_id": "380fc7513e8e4ac0910c0a2cf1946957",
       "version_major": 2,
       "version_minor": 0
      },
      "text/plain": [
       "Epoch [118/300]:   0%|          | 0/500 [00:00<?, ?it/s]"
      ]
     },
     "metadata": {},
     "output_type": "display_data"
    },
    {
     "name": "stdout",
     "output_type": "stream",
     "text": [
      "Epoch 118/300 — Recon: 0.0109, Disc_Cat: 1.3411, Gen_Cat: 1.9269, Disc_Style: 1.3622, Gen_Style: 0.7252, SemiSup: 0.0295\n",
      "Validation Accuracy: 97.42%\n",
      "\n",
      "Weights saved to semisupervised_results/300_epochs_adam_results/weights_*.pth\n"
     ]
    },
    {
     "data": {
      "application/vnd.jupyter.widget-view+json": {
       "model_id": "9d56ea4cc6a34d54af472993c7306d1c",
       "version_major": 2,
       "version_minor": 0
      },
      "text/plain": [
       "Epoch [119/300]:   0%|          | 0/500 [00:00<?, ?it/s]"
      ]
     },
     "metadata": {},
     "output_type": "display_data"
    },
    {
     "name": "stdout",
     "output_type": "stream",
     "text": [
      "Epoch 119/300 — Recon: 0.0109, Disc_Cat: 1.3422, Gen_Cat: 1.9263, Disc_Style: 1.3622, Gen_Style: 0.7272, SemiSup: 0.0292\n",
      "Validation Accuracy: 97.43%\n",
      "\n",
      "Weights saved to semisupervised_results/300_epochs_adam_results/weights_*.pth\n"
     ]
    },
    {
     "data": {
      "application/vnd.jupyter.widget-view+json": {
       "model_id": "4497dff89878450ea8e2232e7839b6bf",
       "version_major": 2,
       "version_minor": 0
      },
      "text/plain": [
       "Epoch [120/300]:   0%|          | 0/500 [00:00<?, ?it/s]"
      ]
     },
     "metadata": {},
     "output_type": "display_data"
    },
    {
     "name": "stdout",
     "output_type": "stream",
     "text": [
      "Epoch 120/300 — Recon: 0.0109, Disc_Cat: 1.3394, Gen_Cat: 1.9444, Disc_Style: 1.3625, Gen_Style: 0.7270, SemiSup: 0.0286\n",
      "Validation Accuracy: 97.50%\n",
      "\n",
      "Weights saved to semisupervised_results/300_epochs_adam_results/weights_*.pth\n"
     ]
    },
    {
     "data": {
      "application/vnd.jupyter.widget-view+json": {
       "model_id": "f3871a5bc8954b2fb219d0d2276f3778",
       "version_major": 2,
       "version_minor": 0
      },
      "text/plain": [
       "Epoch [121/300]:   0%|          | 0/500 [00:00<?, ?it/s]"
      ]
     },
     "metadata": {},
     "output_type": "display_data"
    },
    {
     "name": "stdout",
     "output_type": "stream",
     "text": [
      "Epoch 121/300 — Recon: 0.0109, Disc_Cat: 1.3417, Gen_Cat: 1.9405, Disc_Style: 1.3636, Gen_Style: 0.7277, SemiSup: 0.0285\n",
      "Validation Accuracy: 97.52%\n",
      "\n",
      "Weights saved to semisupervised_results/300_epochs_adam_results/weights_*.pth\n"
     ]
    },
    {
     "data": {
      "application/vnd.jupyter.widget-view+json": {
       "model_id": "836a415fb0b34c7fbaa01de966fedfc9",
       "version_major": 2,
       "version_minor": 0
      },
      "text/plain": [
       "Epoch [122/300]:   0%|          | 0/500 [00:00<?, ?it/s]"
      ]
     },
     "metadata": {},
     "output_type": "display_data"
    },
    {
     "name": "stdout",
     "output_type": "stream",
     "text": [
      "Epoch 122/300 — Recon: 0.0109, Disc_Cat: 1.3391, Gen_Cat: 1.9702, Disc_Style: 1.3643, Gen_Style: 0.7260, SemiSup: 0.0284\n",
      "Validation Accuracy: 97.40%\n",
      "\n",
      "Weights saved to semisupervised_results/300_epochs_adam_results/weights_*.pth\n"
     ]
    },
    {
     "data": {
      "application/vnd.jupyter.widget-view+json": {
       "model_id": "67a7981a7b3f4a44812ebf645ab13821",
       "version_major": 2,
       "version_minor": 0
      },
      "text/plain": [
       "Epoch [123/300]:   0%|          | 0/500 [00:00<?, ?it/s]"
      ]
     },
     "metadata": {},
     "output_type": "display_data"
    },
    {
     "name": "stdout",
     "output_type": "stream",
     "text": [
      "Epoch 123/300 — Recon: 0.0109, Disc_Cat: 1.3414, Gen_Cat: 1.9675, Disc_Style: 1.3631, Gen_Style: 0.7271, SemiSup: 0.0288\n",
      "Validation Accuracy: 97.41%\n",
      "\n",
      "Weights saved to semisupervised_results/300_epochs_adam_results/weights_*.pth\n"
     ]
    },
    {
     "data": {
      "application/vnd.jupyter.widget-view+json": {
       "model_id": "d7b58f29bf6543fdb67d4d0539b7967b",
       "version_major": 2,
       "version_minor": 0
      },
      "text/plain": [
       "Epoch [124/300]:   0%|          | 0/500 [00:00<?, ?it/s]"
      ]
     },
     "metadata": {},
     "output_type": "display_data"
    },
    {
     "name": "stdout",
     "output_type": "stream",
     "text": [
      "Epoch 124/300 — Recon: 0.0109, Disc_Cat: 1.3395, Gen_Cat: 1.9959, Disc_Style: 1.3655, Gen_Style: 0.7262, SemiSup: 0.0280\n",
      "Validation Accuracy: 97.52%\n",
      "\n",
      "Weights saved to semisupervised_results/300_epochs_adam_results/weights_*.pth\n"
     ]
    },
    {
     "data": {
      "application/vnd.jupyter.widget-view+json": {
       "model_id": "16e0495031784a0785f2c4533d8a447b",
       "version_major": 2,
       "version_minor": 0
      },
      "text/plain": [
       "Epoch [125/300]:   0%|          | 0/500 [00:00<?, ?it/s]"
      ]
     },
     "metadata": {},
     "output_type": "display_data"
    },
    {
     "name": "stdout",
     "output_type": "stream",
     "text": [
      "Epoch 125/300 — Recon: 0.0109, Disc_Cat: 1.3427, Gen_Cat: 1.9659, Disc_Style: 1.3638, Gen_Style: 0.7287, SemiSup: 0.0284\n",
      "Validation Accuracy: 97.42%\n",
      "\n",
      "Weights saved to semisupervised_results/300_epochs_adam_results/weights_*.pth\n"
     ]
    },
    {
     "data": {
      "application/vnd.jupyter.widget-view+json": {
       "model_id": "eb8d91214dbf404da11b32ab2b973fb4",
       "version_major": 2,
       "version_minor": 0
      },
      "text/plain": [
       "Epoch [126/300]:   0%|          | 0/500 [00:00<?, ?it/s]"
      ]
     },
     "metadata": {},
     "output_type": "display_data"
    },
    {
     "name": "stdout",
     "output_type": "stream",
     "text": [
      "Epoch 126/300 — Recon: 0.0108, Disc_Cat: 1.3415, Gen_Cat: 1.9720, Disc_Style: 1.3621, Gen_Style: 0.7288, SemiSup: 0.0276\n",
      "Validation Accuracy: 97.40%\n",
      "\n",
      "Weights saved to semisupervised_results/300_epochs_adam_results/weights_*.pth\n"
     ]
    },
    {
     "data": {
      "application/vnd.jupyter.widget-view+json": {
       "model_id": "507a2a4f9936483bb675acf7c597a056",
       "version_major": 2,
       "version_minor": 0
      },
      "text/plain": [
       "Epoch [127/300]:   0%|          | 0/500 [00:00<?, ?it/s]"
      ]
     },
     "metadata": {},
     "output_type": "display_data"
    },
    {
     "name": "stdout",
     "output_type": "stream",
     "text": [
      "Epoch 127/300 — Recon: 0.0108, Disc_Cat: 1.3400, Gen_Cat: 1.9877, Disc_Style: 1.3621, Gen_Style: 0.7264, SemiSup: 0.0275\n",
      "Validation Accuracy: 97.46%\n",
      "\n",
      "Weights saved to semisupervised_results/300_epochs_adam_results/weights_*.pth\n"
     ]
    },
    {
     "data": {
      "application/vnd.jupyter.widget-view+json": {
       "model_id": "e85d5a6d183348cc81c47566911b847b",
       "version_major": 2,
       "version_minor": 0
      },
      "text/plain": [
       "Epoch [128/300]:   0%|          | 0/500 [00:00<?, ?it/s]"
      ]
     },
     "metadata": {},
     "output_type": "display_data"
    },
    {
     "name": "stdout",
     "output_type": "stream",
     "text": [
      "Epoch 128/300 — Recon: 0.0108, Disc_Cat: 1.3397, Gen_Cat: 1.9977, Disc_Style: 1.3631, Gen_Style: 0.7254, SemiSup: 0.0276\n",
      "Validation Accuracy: 97.49%\n",
      "\n",
      "Weights saved to semisupervised_results/300_epochs_adam_results/weights_*.pth\n"
     ]
    },
    {
     "data": {
      "application/vnd.jupyter.widget-view+json": {
       "model_id": "32b0dd9401264d668e2cd60f2dfe6294",
       "version_major": 2,
       "version_minor": 0
      },
      "text/plain": [
       "Epoch [129/300]:   0%|          | 0/500 [00:00<?, ?it/s]"
      ]
     },
     "metadata": {},
     "output_type": "display_data"
    },
    {
     "name": "stdout",
     "output_type": "stream",
     "text": [
      "Epoch 129/300 — Recon: 0.0108, Disc_Cat: 1.3398, Gen_Cat: 2.0087, Disc_Style: 1.3624, Gen_Style: 0.7269, SemiSup: 0.0270\n",
      "Validation Accuracy: 97.47%\n",
      "\n",
      "Weights saved to semisupervised_results/300_epochs_adam_results/weights_*.pth\n"
     ]
    },
    {
     "data": {
      "application/vnd.jupyter.widget-view+json": {
       "model_id": "0e31cf44a67f4fa08e40c92d345370ee",
       "version_major": 2,
       "version_minor": 0
      },
      "text/plain": [
       "Epoch [130/300]:   0%|          | 0/500 [00:00<?, ?it/s]"
      ]
     },
     "metadata": {},
     "output_type": "display_data"
    },
    {
     "name": "stdout",
     "output_type": "stream",
     "text": [
      "Epoch 130/300 — Recon: 0.0108, Disc_Cat: 1.3423, Gen_Cat: 1.9756, Disc_Style: 1.3594, Gen_Style: 0.7316, SemiSup: 0.0274\n",
      "Validation Accuracy: 97.48%\n",
      "\n",
      "Weights saved to semisupervised_results/300_epochs_adam_results/weights_*.pth\n"
     ]
    },
    {
     "data": {
      "application/vnd.jupyter.widget-view+json": {
       "model_id": "ef1c40ee59914e4eafabf920c0c6b549",
       "version_major": 2,
       "version_minor": 0
      },
      "text/plain": [
       "Epoch [131/300]:   0%|          | 0/500 [00:00<?, ?it/s]"
      ]
     },
     "metadata": {},
     "output_type": "display_data"
    },
    {
     "name": "stdout",
     "output_type": "stream",
     "text": [
      "Epoch 131/300 — Recon: 0.0108, Disc_Cat: 1.3407, Gen_Cat: 2.0021, Disc_Style: 1.3612, Gen_Style: 0.7319, SemiSup: 0.0269\n",
      "Validation Accuracy: 97.51%\n",
      "\n",
      "Weights saved to semisupervised_results/300_epochs_adam_results/weights_*.pth\n"
     ]
    },
    {
     "data": {
      "application/vnd.jupyter.widget-view+json": {
       "model_id": "7451e52c65a24a04a1e9aa503d473662",
       "version_major": 2,
       "version_minor": 0
      },
      "text/plain": [
       "Epoch [132/300]:   0%|          | 0/500 [00:00<?, ?it/s]"
      ]
     },
     "metadata": {},
     "output_type": "display_data"
    },
    {
     "name": "stdout",
     "output_type": "stream",
     "text": [
      "Epoch 132/300 — Recon: 0.0109, Disc_Cat: 1.3403, Gen_Cat: 2.0307, Disc_Style: 1.3634, Gen_Style: 0.7298, SemiSup: 0.0268\n",
      "Validation Accuracy: 97.45%\n",
      "\n",
      "Weights saved to semisupervised_results/300_epochs_adam_results/weights_*.pth\n"
     ]
    },
    {
     "data": {
      "application/vnd.jupyter.widget-view+json": {
       "model_id": "5563e952d715452bad4155040e7c462b",
       "version_major": 2,
       "version_minor": 0
      },
      "text/plain": [
       "Epoch [133/300]:   0%|          | 0/500 [00:00<?, ?it/s]"
      ]
     },
     "metadata": {},
     "output_type": "display_data"
    },
    {
     "name": "stdout",
     "output_type": "stream",
     "text": [
      "Epoch 133/300 — Recon: 0.0108, Disc_Cat: 1.3410, Gen_Cat: 2.0137, Disc_Style: 1.3617, Gen_Style: 0.7289, SemiSup: 0.0264\n",
      "Validation Accuracy: 97.39%\n",
      "\n",
      "Weights saved to semisupervised_results/300_epochs_adam_results/weights_*.pth\n"
     ]
    },
    {
     "data": {
      "application/vnd.jupyter.widget-view+json": {
       "model_id": "8ee839104f4e4149bb5f68cbc0ac909d",
       "version_major": 2,
       "version_minor": 0
      },
      "text/plain": [
       "Epoch [134/300]:   0%|          | 0/500 [00:00<?, ?it/s]"
      ]
     },
     "metadata": {},
     "output_type": "display_data"
    },
    {
     "name": "stdout",
     "output_type": "stream",
     "text": [
      "Epoch 134/300 — Recon: 0.0108, Disc_Cat: 1.3404, Gen_Cat: 2.0579, Disc_Style: 1.3594, Gen_Style: 0.7296, SemiSup: 0.0262\n",
      "Validation Accuracy: 97.47%\n",
      "\n",
      "Weights saved to semisupervised_results/300_epochs_adam_results/weights_*.pth\n"
     ]
    },
    {
     "data": {
      "application/vnd.jupyter.widget-view+json": {
       "model_id": "11defc75d3b241feafe6f0b4fb0c3ff7",
       "version_major": 2,
       "version_minor": 0
      },
      "text/plain": [
       "Epoch [135/300]:   0%|          | 0/500 [00:00<?, ?it/s]"
      ]
     },
     "metadata": {},
     "output_type": "display_data"
    },
    {
     "name": "stdout",
     "output_type": "stream",
     "text": [
      "Epoch 135/300 — Recon: 0.0108, Disc_Cat: 1.3411, Gen_Cat: 2.0294, Disc_Style: 1.3606, Gen_Style: 0.7294, SemiSup: 0.0269\n",
      "Validation Accuracy: 97.37%\n",
      "\n",
      "Weights saved to semisupervised_results/300_epochs_adam_results/weights_*.pth\n"
     ]
    },
    {
     "data": {
      "application/vnd.jupyter.widget-view+json": {
       "model_id": "4b92220134a6492493c61866c86de0ef",
       "version_major": 2,
       "version_minor": 0
      },
      "text/plain": [
       "Epoch [136/300]:   0%|          | 0/500 [00:00<?, ?it/s]"
      ]
     },
     "metadata": {},
     "output_type": "display_data"
    },
    {
     "name": "stdout",
     "output_type": "stream",
     "text": [
      "Epoch 136/300 — Recon: 0.0108, Disc_Cat: 1.3414, Gen_Cat: 2.0218, Disc_Style: 1.3579, Gen_Style: 0.7301, SemiSup: 0.0263\n",
      "Validation Accuracy: 97.42%\n",
      "\n",
      "Weights saved to semisupervised_results/300_epochs_adam_results/weights_*.pth\n"
     ]
    },
    {
     "data": {
      "application/vnd.jupyter.widget-view+json": {
       "model_id": "57c57b3c4f02427eb61048d19b6de2b7",
       "version_major": 2,
       "version_minor": 0
      },
      "text/plain": [
       "Epoch [137/300]:   0%|          | 0/500 [00:00<?, ?it/s]"
      ]
     },
     "metadata": {},
     "output_type": "display_data"
    },
    {
     "name": "stdout",
     "output_type": "stream",
     "text": [
      "Epoch 137/300 — Recon: 0.0108, Disc_Cat: 1.3414, Gen_Cat: 2.0330, Disc_Style: 1.3603, Gen_Style: 0.7353, SemiSup: 0.0265\n",
      "Validation Accuracy: 97.43%\n",
      "\n",
      "Weights saved to semisupervised_results/300_epochs_adam_results/weights_*.pth\n"
     ]
    },
    {
     "data": {
      "application/vnd.jupyter.widget-view+json": {
       "model_id": "a0093f261e0b47f7b6b8635742bb2fd7",
       "version_major": 2,
       "version_minor": 0
      },
      "text/plain": [
       "Epoch [138/300]:   0%|          | 0/500 [00:00<?, ?it/s]"
      ]
     },
     "metadata": {},
     "output_type": "display_data"
    },
    {
     "name": "stdout",
     "output_type": "stream",
     "text": [
      "Epoch 138/300 — Recon: 0.0109, Disc_Cat: 1.3389, Gen_Cat: 2.0583, Disc_Style: 1.3600, Gen_Style: 0.7324, SemiSup: 0.0255\n",
      "Validation Accuracy: 97.41%\n",
      "\n",
      "Weights saved to semisupervised_results/300_epochs_adam_results/weights_*.pth\n"
     ]
    },
    {
     "data": {
      "application/vnd.jupyter.widget-view+json": {
       "model_id": "ac39d986f52c4c778d41a1a2ea98545f",
       "version_major": 2,
       "version_minor": 0
      },
      "text/plain": [
       "Epoch [139/300]:   0%|          | 0/500 [00:00<?, ?it/s]"
      ]
     },
     "metadata": {},
     "output_type": "display_data"
    },
    {
     "name": "stdout",
     "output_type": "stream",
     "text": [
      "Epoch 139/300 — Recon: 0.0109, Disc_Cat: 1.3418, Gen_Cat: 2.0673, Disc_Style: 1.3620, Gen_Style: 0.7297, SemiSup: 0.0268\n",
      "Validation Accuracy: 97.40%\n",
      "\n",
      "Weights saved to semisupervised_results/300_epochs_adam_results/weights_*.pth\n"
     ]
    },
    {
     "data": {
      "application/vnd.jupyter.widget-view+json": {
       "model_id": "56ea4552e9da40b485cc67404d9a482b",
       "version_major": 2,
       "version_minor": 0
      },
      "text/plain": [
       "Epoch [140/300]:   0%|          | 0/500 [00:00<?, ?it/s]"
      ]
     },
     "metadata": {},
     "output_type": "display_data"
    },
    {
     "name": "stdout",
     "output_type": "stream",
     "text": [
      "Epoch 140/300 — Recon: 0.0108, Disc_Cat: 1.3419, Gen_Cat: 2.0592, Disc_Style: 1.3602, Gen_Style: 0.7291, SemiSup: 0.0264\n",
      "Validation Accuracy: 97.36%\n",
      "\n",
      "Weights saved to semisupervised_results/300_epochs_adam_results/weights_*.pth\n"
     ]
    },
    {
     "data": {
      "application/vnd.jupyter.widget-view+json": {
       "model_id": "8115cfd5ec014b14a2f6e12f8c6e9456",
       "version_major": 2,
       "version_minor": 0
      },
      "text/plain": [
       "Epoch [141/300]:   0%|          | 0/500 [00:00<?, ?it/s]"
      ]
     },
     "metadata": {},
     "output_type": "display_data"
    },
    {
     "name": "stdout",
     "output_type": "stream",
     "text": [
      "Epoch 141/300 — Recon: 0.0108, Disc_Cat: 1.3423, Gen_Cat: 2.0437, Disc_Style: 1.3605, Gen_Style: 0.7307, SemiSup: 0.0253\n",
      "Validation Accuracy: 97.40%\n",
      "\n",
      "Weights saved to semisupervised_results/300_epochs_adam_results/weights_*.pth\n"
     ]
    },
    {
     "data": {
      "application/vnd.jupyter.widget-view+json": {
       "model_id": "104664a43bdb4887b2ae61c49990bf29",
       "version_major": 2,
       "version_minor": 0
      },
      "text/plain": [
       "Epoch [142/300]:   0%|          | 0/500 [00:00<?, ?it/s]"
      ]
     },
     "metadata": {},
     "output_type": "display_data"
    },
    {
     "name": "stdout",
     "output_type": "stream",
     "text": [
      "Epoch 142/300 — Recon: 0.0108, Disc_Cat: 1.3406, Gen_Cat: 2.0733, Disc_Style: 1.3581, Gen_Style: 0.7317, SemiSup: 0.0254\n",
      "Validation Accuracy: 97.48%\n",
      "\n",
      "Weights saved to semisupervised_results/300_epochs_adam_results/weights_*.pth\n"
     ]
    },
    {
     "data": {
      "application/vnd.jupyter.widget-view+json": {
       "model_id": "81e0982fda70454ba83158ffffa89bae",
       "version_major": 2,
       "version_minor": 0
      },
      "text/plain": [
       "Epoch [143/300]:   0%|          | 0/500 [00:00<?, ?it/s]"
      ]
     },
     "metadata": {},
     "output_type": "display_data"
    },
    {
     "name": "stdout",
     "output_type": "stream",
     "text": [
      "Epoch 143/300 — Recon: 0.0108, Disc_Cat: 1.3411, Gen_Cat: 2.0629, Disc_Style: 1.3591, Gen_Style: 0.7324, SemiSup: 0.0254\n",
      "Validation Accuracy: 97.34%\n",
      "\n",
      "Weights saved to semisupervised_results/300_epochs_adam_results/weights_*.pth\n"
     ]
    },
    {
     "data": {
      "application/vnd.jupyter.widget-view+json": {
       "model_id": "e9f32786c132487e89c1bebce970ccad",
       "version_major": 2,
       "version_minor": 0
      },
      "text/plain": [
       "Epoch [144/300]:   0%|          | 0/500 [00:00<?, ?it/s]"
      ]
     },
     "metadata": {},
     "output_type": "display_data"
    },
    {
     "name": "stdout",
     "output_type": "stream",
     "text": [
      "Epoch 144/300 — Recon: 0.0107, Disc_Cat: 1.3404, Gen_Cat: 2.0750, Disc_Style: 1.3583, Gen_Style: 0.7325, SemiSup: 0.0255\n",
      "Validation Accuracy: 97.39%\n",
      "\n",
      "Weights saved to semisupervised_results/300_epochs_adam_results/weights_*.pth\n"
     ]
    },
    {
     "data": {
      "application/vnd.jupyter.widget-view+json": {
       "model_id": "d961618c98734c47ba58e52d77374ff7",
       "version_major": 2,
       "version_minor": 0
      },
      "text/plain": [
       "Epoch [145/300]:   0%|          | 0/500 [00:00<?, ?it/s]"
      ]
     },
     "metadata": {},
     "output_type": "display_data"
    },
    {
     "name": "stdout",
     "output_type": "stream",
     "text": [
      "Epoch 145/300 — Recon: 0.0107, Disc_Cat: 1.3411, Gen_Cat: 2.0802, Disc_Style: 1.3581, Gen_Style: 0.7337, SemiSup: 0.0247\n",
      "Validation Accuracy: 97.37%\n",
      "\n",
      "Weights saved to semisupervised_results/300_epochs_adam_results/weights_*.pth\n"
     ]
    },
    {
     "data": {
      "application/vnd.jupyter.widget-view+json": {
       "model_id": "4f0a8eb6baf94f4f89a6c21722763ac1",
       "version_major": 2,
       "version_minor": 0
      },
      "text/plain": [
       "Epoch [146/300]:   0%|          | 0/500 [00:00<?, ?it/s]"
      ]
     },
     "metadata": {},
     "output_type": "display_data"
    },
    {
     "name": "stdout",
     "output_type": "stream",
     "text": [
      "Epoch 146/300 — Recon: 0.0107, Disc_Cat: 1.3415, Gen_Cat: 2.0808, Disc_Style: 1.3588, Gen_Style: 0.7332, SemiSup: 0.0251\n",
      "Validation Accuracy: 97.32%\n",
      "\n",
      "Weights saved to semisupervised_results/300_epochs_adam_results/weights_*.pth\n"
     ]
    },
    {
     "data": {
      "application/vnd.jupyter.widget-view+json": {
       "model_id": "9ca7d58969ba46d3aeda284a56d47877",
       "version_major": 2,
       "version_minor": 0
      },
      "text/plain": [
       "Epoch [147/300]:   0%|          | 0/500 [00:00<?, ?it/s]"
      ]
     },
     "metadata": {},
     "output_type": "display_data"
    },
    {
     "name": "stdout",
     "output_type": "stream",
     "text": [
      "Epoch 147/300 — Recon: 0.0107, Disc_Cat: 1.3415, Gen_Cat: 2.0775, Disc_Style: 1.3592, Gen_Style: 0.7299, SemiSup: 0.0247\n",
      "Validation Accuracy: 97.43%\n",
      "\n",
      "Weights saved to semisupervised_results/300_epochs_adam_results/weights_*.pth\n"
     ]
    },
    {
     "data": {
      "application/vnd.jupyter.widget-view+json": {
       "model_id": "02a93a40f7ba4e6f955475c92fbfb0b1",
       "version_major": 2,
       "version_minor": 0
      },
      "text/plain": [
       "Epoch [148/300]:   0%|          | 0/500 [00:00<?, ?it/s]"
      ]
     },
     "metadata": {},
     "output_type": "display_data"
    },
    {
     "name": "stdout",
     "output_type": "stream",
     "text": [
      "Epoch 148/300 — Recon: 0.0107, Disc_Cat: 1.3421, Gen_Cat: 2.0958, Disc_Style: 1.3584, Gen_Style: 0.7320, SemiSup: 0.0256\n",
      "Validation Accuracy: 97.42%\n",
      "\n",
      "Weights saved to semisupervised_results/300_epochs_adam_results/weights_*.pth\n"
     ]
    },
    {
     "data": {
      "application/vnd.jupyter.widget-view+json": {
       "model_id": "2b0b0425471442a6bbc59904ab407493",
       "version_major": 2,
       "version_minor": 0
      },
      "text/plain": [
       "Epoch [149/300]:   0%|          | 0/500 [00:00<?, ?it/s]"
      ]
     },
     "metadata": {},
     "output_type": "display_data"
    },
    {
     "name": "stdout",
     "output_type": "stream",
     "text": [
      "Epoch 149/300 — Recon: 0.0107, Disc_Cat: 1.3406, Gen_Cat: 2.0976, Disc_Style: 1.3596, Gen_Style: 0.7319, SemiSup: 0.0242\n",
      "Validation Accuracy: 97.35%\n",
      "\n",
      "Weights saved to semisupervised_results/300_epochs_adam_results/weights_*.pth\n"
     ]
    },
    {
     "data": {
      "application/vnd.jupyter.widget-view+json": {
       "model_id": "b07c0009611f4e3d953aa80114043e64",
       "version_major": 2,
       "version_minor": 0
      },
      "text/plain": [
       "Epoch [150/300]:   0%|          | 0/500 [00:00<?, ?it/s]"
      ]
     },
     "metadata": {},
     "output_type": "display_data"
    },
    {
     "name": "stdout",
     "output_type": "stream",
     "text": [
      "Epoch 150/300 — Recon: 0.0107, Disc_Cat: 1.3411, Gen_Cat: 2.1075, Disc_Style: 1.3619, Gen_Style: 0.7308, SemiSup: 0.0245\n",
      "Validation Accuracy: 97.41%\n",
      "\n",
      "Weights saved to semisupervised_results/300_epochs_adam_results/weights_*.pth\n"
     ]
    },
    {
     "data": {
      "application/vnd.jupyter.widget-view+json": {
       "model_id": "41a42991645148e2aca5a2e7aaef1be0",
       "version_major": 2,
       "version_minor": 0
      },
      "text/plain": [
       "Epoch [151/300]:   0%|          | 0/500 [00:00<?, ?it/s]"
      ]
     },
     "metadata": {},
     "output_type": "display_data"
    },
    {
     "name": "stdout",
     "output_type": "stream",
     "text": [
      "Epoch 151/300 — Recon: 0.0107, Disc_Cat: 1.3410, Gen_Cat: 2.1143, Disc_Style: 1.3619, Gen_Style: 0.7308, SemiSup: 0.0246\n",
      "Validation Accuracy: 97.46%\n",
      "\n",
      "Weights saved to semisupervised_results/300_epochs_adam_results/weights_*.pth\n"
     ]
    },
    {
     "data": {
      "application/vnd.jupyter.widget-view+json": {
       "model_id": "0a5b2de9b6e7452cab69adf8652a1e3f",
       "version_major": 2,
       "version_minor": 0
      },
      "text/plain": [
       "Epoch [152/300]:   0%|          | 0/500 [00:00<?, ?it/s]"
      ]
     },
     "metadata": {},
     "output_type": "display_data"
    },
    {
     "name": "stdout",
     "output_type": "stream",
     "text": [
      "Epoch 152/300 — Recon: 0.0107, Disc_Cat: 1.3414, Gen_Cat: 2.1127, Disc_Style: 1.3607, Gen_Style: 0.7338, SemiSup: 0.0241\n",
      "Validation Accuracy: 97.38%\n",
      "\n",
      "Weights saved to semisupervised_results/300_epochs_adam_results/weights_*.pth\n"
     ]
    },
    {
     "data": {
      "application/vnd.jupyter.widget-view+json": {
       "model_id": "8890332671074ab9902299aeb1ddf6bd",
       "version_major": 2,
       "version_minor": 0
      },
      "text/plain": [
       "Epoch [153/300]:   0%|          | 0/500 [00:00<?, ?it/s]"
      ]
     },
     "metadata": {},
     "output_type": "display_data"
    },
    {
     "name": "stdout",
     "output_type": "stream",
     "text": [
      "Epoch 153/300 — Recon: 0.0107, Disc_Cat: 1.3401, Gen_Cat: 2.1425, Disc_Style: 1.3611, Gen_Style: 0.7315, SemiSup: 0.0243\n",
      "Validation Accuracy: 97.47%\n",
      "\n",
      "Weights saved to semisupervised_results/300_epochs_adam_results/weights_*.pth\n"
     ]
    },
    {
     "data": {
      "application/vnd.jupyter.widget-view+json": {
       "model_id": "0b3fce029e5243bf9c83a85e6b9817d1",
       "version_major": 2,
       "version_minor": 0
      },
      "text/plain": [
       "Epoch [154/300]:   0%|          | 0/500 [00:00<?, ?it/s]"
      ]
     },
     "metadata": {},
     "output_type": "display_data"
    },
    {
     "name": "stdout",
     "output_type": "stream",
     "text": [
      "Epoch 154/300 — Recon: 0.0107, Disc_Cat: 1.3408, Gen_Cat: 2.1400, Disc_Style: 1.3602, Gen_Style: 0.7310, SemiSup: 0.0235\n",
      "Validation Accuracy: 97.43%\n",
      "\n",
      "Weights saved to semisupervised_results/300_epochs_adam_results/weights_*.pth\n"
     ]
    },
    {
     "data": {
      "application/vnd.jupyter.widget-view+json": {
       "model_id": "354a5339c8b344ad8cb6512827ae4bab",
       "version_major": 2,
       "version_minor": 0
      },
      "text/plain": [
       "Epoch [155/300]:   0%|          | 0/500 [00:00<?, ?it/s]"
      ]
     },
     "metadata": {},
     "output_type": "display_data"
    },
    {
     "name": "stdout",
     "output_type": "stream",
     "text": [
      "Epoch 155/300 — Recon: 0.0107, Disc_Cat: 1.3405, Gen_Cat: 2.1516, Disc_Style: 1.3601, Gen_Style: 0.7342, SemiSup: 0.0242\n",
      "Validation Accuracy: 97.48%\n",
      "\n",
      "Weights saved to semisupervised_results/300_epochs_adam_results/weights_*.pth\n"
     ]
    },
    {
     "data": {
      "application/vnd.jupyter.widget-view+json": {
       "model_id": "75dbebe1e7d94120933a0408683fb5e8",
       "version_major": 2,
       "version_minor": 0
      },
      "text/plain": [
       "Epoch [156/300]:   0%|          | 0/500 [00:00<?, ?it/s]"
      ]
     },
     "metadata": {},
     "output_type": "display_data"
    },
    {
     "name": "stdout",
     "output_type": "stream",
     "text": [
      "Epoch 156/300 — Recon: 0.0107, Disc_Cat: 1.3412, Gen_Cat: 2.1421, Disc_Style: 1.3607, Gen_Style: 0.7305, SemiSup: 0.0234\n",
      "Validation Accuracy: 97.40%\n",
      "\n",
      "Weights saved to semisupervised_results/300_epochs_adam_results/weights_*.pth\n"
     ]
    },
    {
     "data": {
      "application/vnd.jupyter.widget-view+json": {
       "model_id": "bd34d129d82c4e2d853224493cea558b",
       "version_major": 2,
       "version_minor": 0
      },
      "text/plain": [
       "Epoch [157/300]:   0%|          | 0/500 [00:00<?, ?it/s]"
      ]
     },
     "metadata": {},
     "output_type": "display_data"
    },
    {
     "name": "stdout",
     "output_type": "stream",
     "text": [
      "Epoch 157/300 — Recon: 0.0107, Disc_Cat: 1.3384, Gen_Cat: 2.1657, Disc_Style: 1.3605, Gen_Style: 0.7313, SemiSup: 0.0240\n",
      "Validation Accuracy: 97.41%\n",
      "\n",
      "Weights saved to semisupervised_results/300_epochs_adam_results/weights_*.pth\n"
     ]
    },
    {
     "data": {
      "application/vnd.jupyter.widget-view+json": {
       "model_id": "675d2b8a7b1e43ec80964f58e24cced4",
       "version_major": 2,
       "version_minor": 0
      },
      "text/plain": [
       "Epoch [158/300]:   0%|          | 0/500 [00:00<?, ?it/s]"
      ]
     },
     "metadata": {},
     "output_type": "display_data"
    },
    {
     "name": "stdout",
     "output_type": "stream",
     "text": [
      "Epoch 158/300 — Recon: 0.0107, Disc_Cat: 1.3409, Gen_Cat: 2.1570, Disc_Style: 1.3586, Gen_Style: 0.7339, SemiSup: 0.0232\n",
      "Validation Accuracy: 97.37%\n",
      "\n",
      "Weights saved to semisupervised_results/300_epochs_adam_results/weights_*.pth\n"
     ]
    },
    {
     "data": {
      "application/vnd.jupyter.widget-view+json": {
       "model_id": "f3f87ee6817241a2bc8649032a2555f7",
       "version_major": 2,
       "version_minor": 0
      },
      "text/plain": [
       "Epoch [159/300]:   0%|          | 0/500 [00:00<?, ?it/s]"
      ]
     },
     "metadata": {},
     "output_type": "display_data"
    },
    {
     "name": "stdout",
     "output_type": "stream",
     "text": [
      "Epoch 159/300 — Recon: 0.0107, Disc_Cat: 1.3414, Gen_Cat: 2.1585, Disc_Style: 1.3616, Gen_Style: 0.7316, SemiSup: 0.0236\n",
      "Validation Accuracy: 97.47%\n",
      "\n",
      "Weights saved to semisupervised_results/300_epochs_adam_results/weights_*.pth\n"
     ]
    },
    {
     "data": {
      "application/vnd.jupyter.widget-view+json": {
       "model_id": "85340e6315c8432fb9605d889c00677d",
       "version_major": 2,
       "version_minor": 0
      },
      "text/plain": [
       "Epoch [160/300]:   0%|          | 0/500 [00:00<?, ?it/s]"
      ]
     },
     "metadata": {},
     "output_type": "display_data"
    },
    {
     "name": "stdout",
     "output_type": "stream",
     "text": [
      "Epoch 160/300 — Recon: 0.0107, Disc_Cat: 1.3404, Gen_Cat: 2.1708, Disc_Style: 1.3578, Gen_Style: 0.7340, SemiSup: 0.0234\n",
      "Validation Accuracy: 97.41%\n",
      "\n",
      "Weights saved to semisupervised_results/300_epochs_adam_results/weights_*.pth\n"
     ]
    },
    {
     "data": {
      "application/vnd.jupyter.widget-view+json": {
       "model_id": "e495503645514fd1b64a924174b0fb7f",
       "version_major": 2,
       "version_minor": 0
      },
      "text/plain": [
       "Epoch [161/300]:   0%|          | 0/500 [00:00<?, ?it/s]"
      ]
     },
     "metadata": {},
     "output_type": "display_data"
    },
    {
     "name": "stdout",
     "output_type": "stream",
     "text": [
      "Epoch 161/300 — Recon: 0.0106, Disc_Cat: 1.3420, Gen_Cat: 2.1640, Disc_Style: 1.3574, Gen_Style: 0.7336, SemiSup: 0.0233\n",
      "Validation Accuracy: 97.43%\n",
      "\n",
      "Weights saved to semisupervised_results/300_epochs_adam_results/weights_*.pth\n"
     ]
    },
    {
     "data": {
      "application/vnd.jupyter.widget-view+json": {
       "model_id": "45a527ccbba04de3bf3e85e074ec7e01",
       "version_major": 2,
       "version_minor": 0
      },
      "text/plain": [
       "Epoch [162/300]:   0%|          | 0/500 [00:00<?, ?it/s]"
      ]
     },
     "metadata": {},
     "output_type": "display_data"
    },
    {
     "name": "stdout",
     "output_type": "stream",
     "text": [
      "Epoch 162/300 — Recon: 0.0106, Disc_Cat: 1.3420, Gen_Cat: 2.1707, Disc_Style: 1.3602, Gen_Style: 0.7323, SemiSup: 0.0231\n",
      "Validation Accuracy: 97.43%\n",
      "\n",
      "Weights saved to semisupervised_results/300_epochs_adam_results/weights_*.pth\n"
     ]
    },
    {
     "data": {
      "application/vnd.jupyter.widget-view+json": {
       "model_id": "58d3c3c58b3445e5869f3269687cfc14",
       "version_major": 2,
       "version_minor": 0
      },
      "text/plain": [
       "Epoch [163/300]:   0%|          | 0/500 [00:00<?, ?it/s]"
      ]
     },
     "metadata": {},
     "output_type": "display_data"
    },
    {
     "name": "stdout",
     "output_type": "stream",
     "text": [
      "Epoch 163/300 — Recon: 0.0106, Disc_Cat: 1.3436, Gen_Cat: 2.1501, Disc_Style: 1.3586, Gen_Style: 0.7330, SemiSup: 0.0231\n",
      "Validation Accuracy: 97.43%\n",
      "\n",
      "Weights saved to semisupervised_results/300_epochs_adam_results/weights_*.pth\n"
     ]
    },
    {
     "data": {
      "application/vnd.jupyter.widget-view+json": {
       "model_id": "3d7133e7281c47d383da29b91b0dd12b",
       "version_major": 2,
       "version_minor": 0
      },
      "text/plain": [
       "Epoch [164/300]:   0%|          | 0/500 [00:00<?, ?it/s]"
      ]
     },
     "metadata": {},
     "output_type": "display_data"
    },
    {
     "name": "stdout",
     "output_type": "stream",
     "text": [
      "Epoch 164/300 — Recon: 0.0106, Disc_Cat: 1.3416, Gen_Cat: 2.1839, Disc_Style: 1.3584, Gen_Style: 0.7320, SemiSup: 0.0228\n",
      "Validation Accuracy: 97.45%\n",
      "\n",
      "Weights saved to semisupervised_results/300_epochs_adam_results/weights_*.pth\n"
     ]
    },
    {
     "data": {
      "application/vnd.jupyter.widget-view+json": {
       "model_id": "3a4cfc94fd9741af88aa076a2e77f0df",
       "version_major": 2,
       "version_minor": 0
      },
      "text/plain": [
       "Epoch [165/300]:   0%|          | 0/500 [00:00<?, ?it/s]"
      ]
     },
     "metadata": {},
     "output_type": "display_data"
    },
    {
     "name": "stdout",
     "output_type": "stream",
     "text": [
      "Epoch 165/300 — Recon: 0.0106, Disc_Cat: 1.3396, Gen_Cat: 2.2039, Disc_Style: 1.3567, Gen_Style: 0.7321, SemiSup: 0.0225\n",
      "Validation Accuracy: 97.44%\n",
      "\n",
      "Weights saved to semisupervised_results/300_epochs_adam_results/weights_*.pth\n"
     ]
    },
    {
     "data": {
      "application/vnd.jupyter.widget-view+json": {
       "model_id": "b784676e0ecf41f4a9d0aef8c276957c",
       "version_major": 2,
       "version_minor": 0
      },
      "text/plain": [
       "Epoch [166/300]:   0%|          | 0/500 [00:00<?, ?it/s]"
      ]
     },
     "metadata": {},
     "output_type": "display_data"
    },
    {
     "name": "stdout",
     "output_type": "stream",
     "text": [
      "Epoch 166/300 — Recon: 0.0106, Disc_Cat: 1.3402, Gen_Cat: 2.1836, Disc_Style: 1.3569, Gen_Style: 0.7364, SemiSup: 0.0226\n",
      "Validation Accuracy: 97.47%\n",
      "\n",
      "Weights saved to semisupervised_results/300_epochs_adam_results/weights_*.pth\n"
     ]
    },
    {
     "data": {
      "application/vnd.jupyter.widget-view+json": {
       "model_id": "f6a7dbd419634464b0644893fbd89dc2",
       "version_major": 2,
       "version_minor": 0
      },
      "text/plain": [
       "Epoch [167/300]:   0%|          | 0/500 [00:00<?, ?it/s]"
      ]
     },
     "metadata": {},
     "output_type": "display_data"
    },
    {
     "name": "stdout",
     "output_type": "stream",
     "text": [
      "Epoch 167/300 — Recon: 0.0106, Disc_Cat: 1.3411, Gen_Cat: 2.2073, Disc_Style: 1.3563, Gen_Style: 0.7382, SemiSup: 0.0225\n",
      "Validation Accuracy: 97.48%\n",
      "\n",
      "Weights saved to semisupervised_results/300_epochs_adam_results/weights_*.pth\n"
     ]
    },
    {
     "data": {
      "application/vnd.jupyter.widget-view+json": {
       "model_id": "ef4bf5c238ee406191e019c45d19c4b1",
       "version_major": 2,
       "version_minor": 0
      },
      "text/plain": [
       "Epoch [168/300]:   0%|          | 0/500 [00:00<?, ?it/s]"
      ]
     },
     "metadata": {},
     "output_type": "display_data"
    },
    {
     "name": "stdout",
     "output_type": "stream",
     "text": [
      "Epoch 168/300 — Recon: 0.0105, Disc_Cat: 1.3401, Gen_Cat: 2.2131, Disc_Style: 1.3548, Gen_Style: 0.7383, SemiSup: 0.0220\n",
      "Validation Accuracy: 97.57%\n",
      "\n",
      "Weights saved to semisupervised_results/300_epochs_adam_results/weights_*.pth\n"
     ]
    },
    {
     "data": {
      "application/vnd.jupyter.widget-view+json": {
       "model_id": "fe8cd40655e741cf999055d58f0eb933",
       "version_major": 2,
       "version_minor": 0
      },
      "text/plain": [
       "Epoch [169/300]:   0%|          | 0/500 [00:00<?, ?it/s]"
      ]
     },
     "metadata": {},
     "output_type": "display_data"
    },
    {
     "name": "stdout",
     "output_type": "stream",
     "text": [
      "Epoch 169/300 — Recon: 0.0105, Disc_Cat: 1.3405, Gen_Cat: 2.2261, Disc_Style: 1.3549, Gen_Style: 0.7368, SemiSup: 0.0222\n",
      "Validation Accuracy: 97.44%\n",
      "\n",
      "Weights saved to semisupervised_results/300_epochs_adam_results/weights_*.pth\n"
     ]
    },
    {
     "data": {
      "application/vnd.jupyter.widget-view+json": {
       "model_id": "de72cd00d9154b1f89d1f356831099de",
       "version_major": 2,
       "version_minor": 0
      },
      "text/plain": [
       "Epoch [170/300]:   0%|          | 0/500 [00:00<?, ?it/s]"
      ]
     },
     "metadata": {},
     "output_type": "display_data"
    },
    {
     "name": "stdout",
     "output_type": "stream",
     "text": [
      "Epoch 170/300 — Recon: 0.0106, Disc_Cat: 1.3404, Gen_Cat: 2.2182, Disc_Style: 1.3564, Gen_Style: 0.7361, SemiSup: 0.0230\n",
      "Validation Accuracy: 97.43%\n",
      "\n",
      "Weights saved to semisupervised_results/300_epochs_adam_results/weights_*.pth\n"
     ]
    },
    {
     "data": {
      "application/vnd.jupyter.widget-view+json": {
       "model_id": "72a70fb9f4a748699e28918776e31da8",
       "version_major": 2,
       "version_minor": 0
      },
      "text/plain": [
       "Epoch [171/300]:   0%|          | 0/500 [00:00<?, ?it/s]"
      ]
     },
     "metadata": {},
     "output_type": "display_data"
    },
    {
     "name": "stdout",
     "output_type": "stream",
     "text": [
      "Epoch 171/300 — Recon: 0.0105, Disc_Cat: 1.3415, Gen_Cat: 2.2171, Disc_Style: 1.3543, Gen_Style: 0.7375, SemiSup: 0.0232\n",
      "Validation Accuracy: 97.46%\n",
      "\n",
      "Weights saved to semisupervised_results/300_epochs_adam_results/weights_*.pth\n"
     ]
    },
    {
     "data": {
      "application/vnd.jupyter.widget-view+json": {
       "model_id": "415fbebeeb2c44d8b169b43f4322a556",
       "version_major": 2,
       "version_minor": 0
      },
      "text/plain": [
       "Epoch [172/300]:   0%|          | 0/500 [00:00<?, ?it/s]"
      ]
     },
     "metadata": {},
     "output_type": "display_data"
    },
    {
     "name": "stdout",
     "output_type": "stream",
     "text": [
      "Epoch 172/300 — Recon: 0.0105, Disc_Cat: 1.3402, Gen_Cat: 2.2234, Disc_Style: 1.3571, Gen_Style: 0.7368, SemiSup: 0.0219\n",
      "Validation Accuracy: 97.46%\n",
      "\n",
      "Weights saved to semisupervised_results/300_epochs_adam_results/weights_*.pth\n"
     ]
    },
    {
     "data": {
      "application/vnd.jupyter.widget-view+json": {
       "model_id": "6c57cf442ba14a67b96ae6833c27b561",
       "version_major": 2,
       "version_minor": 0
      },
      "text/plain": [
       "Epoch [173/300]:   0%|          | 0/500 [00:00<?, ?it/s]"
      ]
     },
     "metadata": {},
     "output_type": "display_data"
    },
    {
     "name": "stdout",
     "output_type": "stream",
     "text": [
      "Epoch 173/300 — Recon: 0.0105, Disc_Cat: 1.3439, Gen_Cat: 2.1856, Disc_Style: 1.3555, Gen_Style: 0.7364, SemiSup: 0.0221\n",
      "Validation Accuracy: 97.46%\n",
      "\n",
      "Weights saved to semisupervised_results/300_epochs_adam_results/weights_*.pth\n"
     ]
    },
    {
     "data": {
      "application/vnd.jupyter.widget-view+json": {
       "model_id": "b0185a73ff544896bd140c8d6911a8df",
       "version_major": 2,
       "version_minor": 0
      },
      "text/plain": [
       "Epoch [174/300]:   0%|          | 0/500 [00:00<?, ?it/s]"
      ]
     },
     "metadata": {},
     "output_type": "display_data"
    },
    {
     "name": "stdout",
     "output_type": "stream",
     "text": [
      "Epoch 174/300 — Recon: 0.0105, Disc_Cat: 1.3414, Gen_Cat: 2.2061, Disc_Style: 1.3542, Gen_Style: 0.7376, SemiSup: 0.0218\n",
      "Validation Accuracy: 97.40%\n",
      "\n",
      "Weights saved to semisupervised_results/300_epochs_adam_results/weights_*.pth\n"
     ]
    },
    {
     "data": {
      "application/vnd.jupyter.widget-view+json": {
       "model_id": "8f34951a60f74d768f29a3ca16f4a430",
       "version_major": 2,
       "version_minor": 0
      },
      "text/plain": [
       "Epoch [175/300]:   0%|          | 0/500 [00:00<?, ?it/s]"
      ]
     },
     "metadata": {},
     "output_type": "display_data"
    },
    {
     "name": "stdout",
     "output_type": "stream",
     "text": [
      "Epoch 175/300 — Recon: 0.0105, Disc_Cat: 1.3409, Gen_Cat: 2.2384, Disc_Style: 1.3557, Gen_Style: 0.7341, SemiSup: 0.0225\n",
      "Validation Accuracy: 97.52%\n",
      "\n",
      "Weights saved to semisupervised_results/300_epochs_adam_results/weights_*.pth\n"
     ]
    },
    {
     "data": {
      "application/vnd.jupyter.widget-view+json": {
       "model_id": "77c5d3c6628b461dba1d5678931bb93c",
       "version_major": 2,
       "version_minor": 0
      },
      "text/plain": [
       "Epoch [176/300]:   0%|          | 0/500 [00:00<?, ?it/s]"
      ]
     },
     "metadata": {},
     "output_type": "display_data"
    },
    {
     "name": "stdout",
     "output_type": "stream",
     "text": [
      "Epoch 176/300 — Recon: 0.0105, Disc_Cat: 1.3432, Gen_Cat: 2.2236, Disc_Style: 1.3551, Gen_Style: 0.7368, SemiSup: 0.0216\n",
      "Validation Accuracy: 97.48%\n",
      "\n",
      "Weights saved to semisupervised_results/300_epochs_adam_results/weights_*.pth\n"
     ]
    },
    {
     "data": {
      "application/vnd.jupyter.widget-view+json": {
       "model_id": "41f71b2a923143dca372b81d0630274b",
       "version_major": 2,
       "version_minor": 0
      },
      "text/plain": [
       "Epoch [177/300]:   0%|          | 0/500 [00:00<?, ?it/s]"
      ]
     },
     "metadata": {},
     "output_type": "display_data"
    },
    {
     "name": "stdout",
     "output_type": "stream",
     "text": [
      "Epoch 177/300 — Recon: 0.0105, Disc_Cat: 1.3392, Gen_Cat: 2.2454, Disc_Style: 1.3537, Gen_Style: 0.7404, SemiSup: 0.0216\n",
      "Validation Accuracy: 97.51%\n",
      "\n",
      "Weights saved to semisupervised_results/300_epochs_adam_results/weights_*.pth\n"
     ]
    },
    {
     "data": {
      "application/vnd.jupyter.widget-view+json": {
       "model_id": "57f9270db3fd469b882cb695af0c7045",
       "version_major": 2,
       "version_minor": 0
      },
      "text/plain": [
       "Epoch [178/300]:   0%|          | 0/500 [00:00<?, ?it/s]"
      ]
     },
     "metadata": {},
     "output_type": "display_data"
    },
    {
     "name": "stdout",
     "output_type": "stream",
     "text": [
      "Epoch 178/300 — Recon: 0.0105, Disc_Cat: 1.3401, Gen_Cat: 2.2506, Disc_Style: 1.3568, Gen_Style: 0.7408, SemiSup: 0.0214\n",
      "Validation Accuracy: 97.49%\n",
      "\n",
      "Weights saved to semisupervised_results/300_epochs_adam_results/weights_*.pth\n"
     ]
    },
    {
     "data": {
      "application/vnd.jupyter.widget-view+json": {
       "model_id": "d8bbe527239a460aa12acbe50b27904c",
       "version_major": 2,
       "version_minor": 0
      },
      "text/plain": [
       "Epoch [179/300]:   0%|          | 0/500 [00:00<?, ?it/s]"
      ]
     },
     "metadata": {},
     "output_type": "display_data"
    },
    {
     "name": "stdout",
     "output_type": "stream",
     "text": [
      "Epoch 179/300 — Recon: 0.0105, Disc_Cat: 1.3416, Gen_Cat: 2.2365, Disc_Style: 1.3539, Gen_Style: 0.7394, SemiSup: 0.0208\n",
      "Validation Accuracy: 97.47%\n",
      "\n",
      "Weights saved to semisupervised_results/300_epochs_adam_results/weights_*.pth\n"
     ]
    },
    {
     "data": {
      "application/vnd.jupyter.widget-view+json": {
       "model_id": "7a09768885e649cdb3d7f4ab1cbe1ba2",
       "version_major": 2,
       "version_minor": 0
      },
      "text/plain": [
       "Epoch [180/300]:   0%|          | 0/500 [00:00<?, ?it/s]"
      ]
     },
     "metadata": {},
     "output_type": "display_data"
    },
    {
     "name": "stdout",
     "output_type": "stream",
     "text": [
      "Epoch 180/300 — Recon: 0.0104, Disc_Cat: 1.3425, Gen_Cat: 2.2234, Disc_Style: 1.3525, Gen_Style: 0.7390, SemiSup: 0.0212\n",
      "Validation Accuracy: 97.46%\n",
      "\n",
      "Weights saved to semisupervised_results/300_epochs_adam_results/weights_*.pth\n"
     ]
    },
    {
     "data": {
      "application/vnd.jupyter.widget-view+json": {
       "model_id": "42a6fd0500214f3eb3ad0bd590f25342",
       "version_major": 2,
       "version_minor": 0
      },
      "text/plain": [
       "Epoch [181/300]:   0%|          | 0/500 [00:00<?, ?it/s]"
      ]
     },
     "metadata": {},
     "output_type": "display_data"
    },
    {
     "name": "stdout",
     "output_type": "stream",
     "text": [
      "Epoch 181/300 — Recon: 0.0104, Disc_Cat: 1.3422, Gen_Cat: 2.2439, Disc_Style: 1.3522, Gen_Style: 0.7392, SemiSup: 0.0208\n",
      "Validation Accuracy: 97.44%\n",
      "\n",
      "Weights saved to semisupervised_results/300_epochs_adam_results/weights_*.pth\n"
     ]
    },
    {
     "data": {
      "application/vnd.jupyter.widget-view+json": {
       "model_id": "9d085bca5d664c1c8d2fc43b4548ec67",
       "version_major": 2,
       "version_minor": 0
      },
      "text/plain": [
       "Epoch [182/300]:   0%|          | 0/500 [00:00<?, ?it/s]"
      ]
     },
     "metadata": {},
     "output_type": "display_data"
    },
    {
     "name": "stdout",
     "output_type": "stream",
     "text": [
      "Epoch 182/300 — Recon: 0.0104, Disc_Cat: 1.3401, Gen_Cat: 2.2480, Disc_Style: 1.3538, Gen_Style: 0.7390, SemiSup: 0.0211\n",
      "Validation Accuracy: 97.45%\n",
      "\n",
      "Weights saved to semisupervised_results/300_epochs_adam_results/weights_*.pth\n"
     ]
    },
    {
     "data": {
      "application/vnd.jupyter.widget-view+json": {
       "model_id": "224f3b27b6324652a51c0f262a79d289",
       "version_major": 2,
       "version_minor": 0
      },
      "text/plain": [
       "Epoch [183/300]:   0%|          | 0/500 [00:00<?, ?it/s]"
      ]
     },
     "metadata": {},
     "output_type": "display_data"
    },
    {
     "name": "stdout",
     "output_type": "stream",
     "text": [
      "Epoch 183/300 — Recon: 0.0104, Disc_Cat: 1.3411, Gen_Cat: 2.2359, Disc_Style: 1.3533, Gen_Style: 0.7388, SemiSup: 0.0210\n",
      "Validation Accuracy: 97.47%\n",
      "\n",
      "Weights saved to semisupervised_results/300_epochs_adam_results/weights_*.pth\n"
     ]
    },
    {
     "data": {
      "application/vnd.jupyter.widget-view+json": {
       "model_id": "287d407210ae407c9561c7cc1515980a",
       "version_major": 2,
       "version_minor": 0
      },
      "text/plain": [
       "Epoch [184/300]:   0%|          | 0/500 [00:00<?, ?it/s]"
      ]
     },
     "metadata": {},
     "output_type": "display_data"
    },
    {
     "name": "stdout",
     "output_type": "stream",
     "text": [
      "Epoch 184/300 — Recon: 0.0104, Disc_Cat: 1.3408, Gen_Cat: 2.2487, Disc_Style: 1.3522, Gen_Style: 0.7409, SemiSup: 0.0211\n",
      "Validation Accuracy: 97.42%\n",
      "\n",
      "Weights saved to semisupervised_results/300_epochs_adam_results/weights_*.pth\n"
     ]
    },
    {
     "data": {
      "application/vnd.jupyter.widget-view+json": {
       "model_id": "0ed1fa4bf95b4b6cb3cab7d3d5e2215a",
       "version_major": 2,
       "version_minor": 0
      },
      "text/plain": [
       "Epoch [185/300]:   0%|          | 0/500 [00:00<?, ?it/s]"
      ]
     },
     "metadata": {},
     "output_type": "display_data"
    },
    {
     "name": "stdout",
     "output_type": "stream",
     "text": [
      "Epoch 185/300 — Recon: 0.0105, Disc_Cat: 1.3402, Gen_Cat: 2.2565, Disc_Style: 1.3561, Gen_Style: 0.7404, SemiSup: 0.0209\n",
      "Validation Accuracy: 97.45%\n",
      "\n",
      "Weights saved to semisupervised_results/300_epochs_adam_results/weights_*.pth\n"
     ]
    },
    {
     "data": {
      "application/vnd.jupyter.widget-view+json": {
       "model_id": "f5998ff119204d96822d23537433bf0f",
       "version_major": 2,
       "version_minor": 0
      },
      "text/plain": [
       "Epoch [186/300]:   0%|          | 0/500 [00:00<?, ?it/s]"
      ]
     },
     "metadata": {},
     "output_type": "display_data"
    },
    {
     "name": "stdout",
     "output_type": "stream",
     "text": [
      "Epoch 186/300 — Recon: 0.0105, Disc_Cat: 1.3427, Gen_Cat: 2.2407, Disc_Style: 1.3536, Gen_Style: 0.7392, SemiSup: 0.0207\n",
      "Validation Accuracy: 97.38%\n",
      "\n",
      "Weights saved to semisupervised_results/300_epochs_adam_results/weights_*.pth\n"
     ]
    },
    {
     "data": {
      "application/vnd.jupyter.widget-view+json": {
       "model_id": "ed662dbb681246c1afe65b391c54b712",
       "version_major": 2,
       "version_minor": 0
      },
      "text/plain": [
       "Epoch [187/300]:   0%|          | 0/500 [00:00<?, ?it/s]"
      ]
     },
     "metadata": {},
     "output_type": "display_data"
    },
    {
     "name": "stdout",
     "output_type": "stream",
     "text": [
      "Epoch 187/300 — Recon: 0.0105, Disc_Cat: 1.3427, Gen_Cat: 2.2355, Disc_Style: 1.3545, Gen_Style: 0.7403, SemiSup: 0.0212\n",
      "Validation Accuracy: 97.42%\n",
      "\n",
      "Weights saved to semisupervised_results/300_epochs_adam_results/weights_*.pth\n"
     ]
    },
    {
     "data": {
      "application/vnd.jupyter.widget-view+json": {
       "model_id": "f65c347ed44c4eb591d580a26001ba50",
       "version_major": 2,
       "version_minor": 0
      },
      "text/plain": [
       "Epoch [188/300]:   0%|          | 0/500 [00:00<?, ?it/s]"
      ]
     },
     "metadata": {},
     "output_type": "display_data"
    },
    {
     "name": "stdout",
     "output_type": "stream",
     "text": [
      "Epoch 188/300 — Recon: 0.0104, Disc_Cat: 1.3393, Gen_Cat: 2.2752, Disc_Style: 1.3547, Gen_Style: 0.7385, SemiSup: 0.0210\n",
      "Validation Accuracy: 97.40%\n",
      "\n",
      "Weights saved to semisupervised_results/300_epochs_adam_results/weights_*.pth\n"
     ]
    },
    {
     "data": {
      "application/vnd.jupyter.widget-view+json": {
       "model_id": "af9d703aa55d456dbe14070c60e783e2",
       "version_major": 2,
       "version_minor": 0
      },
      "text/plain": [
       "Epoch [189/300]:   0%|          | 0/500 [00:00<?, ?it/s]"
      ]
     },
     "metadata": {},
     "output_type": "display_data"
    },
    {
     "name": "stdout",
     "output_type": "stream",
     "text": [
      "Epoch 189/300 — Recon: 0.0105, Disc_Cat: 1.3406, Gen_Cat: 2.2851, Disc_Style: 1.3558, Gen_Style: 0.7394, SemiSup: 0.0207\n",
      "Validation Accuracy: 97.39%\n",
      "\n",
      "Weights saved to semisupervised_results/300_epochs_adam_results/weights_*.pth\n"
     ]
    },
    {
     "data": {
      "application/vnd.jupyter.widget-view+json": {
       "model_id": "a09fdec164ad400792ca9cef62da760a",
       "version_major": 2,
       "version_minor": 0
      },
      "text/plain": [
       "Epoch [190/300]:   0%|          | 0/500 [00:00<?, ?it/s]"
      ]
     },
     "metadata": {},
     "output_type": "display_data"
    },
    {
     "name": "stdout",
     "output_type": "stream",
     "text": [
      "Epoch 190/300 — Recon: 0.0105, Disc_Cat: 1.3417, Gen_Cat: 2.2630, Disc_Style: 1.3558, Gen_Style: 0.7379, SemiSup: 0.0211\n",
      "Validation Accuracy: 97.43%\n",
      "\n",
      "Weights saved to semisupervised_results/300_epochs_adam_results/weights_*.pth\n"
     ]
    },
    {
     "data": {
      "application/vnd.jupyter.widget-view+json": {
       "model_id": "a6f9d5e73df84129a7aca1f7a3518bc1",
       "version_major": 2,
       "version_minor": 0
      },
      "text/plain": [
       "Epoch [191/300]:   0%|          | 0/500 [00:00<?, ?it/s]"
      ]
     },
     "metadata": {},
     "output_type": "display_data"
    },
    {
     "name": "stdout",
     "output_type": "stream",
     "text": [
      "Epoch 191/300 — Recon: 0.0105, Disc_Cat: 1.3435, Gen_Cat: 2.2707, Disc_Style: 1.3598, Gen_Style: 0.7364, SemiSup: 0.0204\n",
      "Validation Accuracy: 97.47%\n",
      "\n",
      "Weights saved to semisupervised_results/300_epochs_adam_results/weights_*.pth\n"
     ]
    },
    {
     "data": {
      "application/vnd.jupyter.widget-view+json": {
       "model_id": "297cf40e632b45eb8ad6c780b08fdf32",
       "version_major": 2,
       "version_minor": 0
      },
      "text/plain": [
       "Epoch [192/300]:   0%|          | 0/500 [00:00<?, ?it/s]"
      ]
     },
     "metadata": {},
     "output_type": "display_data"
    },
    {
     "name": "stdout",
     "output_type": "stream",
     "text": [
      "Epoch 192/300 — Recon: 0.0104, Disc_Cat: 1.3403, Gen_Cat: 2.2971, Disc_Style: 1.3576, Gen_Style: 0.7374, SemiSup: 0.0207\n",
      "Validation Accuracy: 97.34%\n",
      "\n",
      "Weights saved to semisupervised_results/300_epochs_adam_results/weights_*.pth\n"
     ]
    },
    {
     "data": {
      "application/vnd.jupyter.widget-view+json": {
       "model_id": "343c87bb5505462f97255c1c2d22f0e7",
       "version_major": 2,
       "version_minor": 0
      },
      "text/plain": [
       "Epoch [193/300]:   0%|          | 0/500 [00:00<?, ?it/s]"
      ]
     },
     "metadata": {},
     "output_type": "display_data"
    },
    {
     "name": "stdout",
     "output_type": "stream",
     "text": [
      "Epoch 193/300 — Recon: 0.0104, Disc_Cat: 1.3425, Gen_Cat: 2.2691, Disc_Style: 1.3573, Gen_Style: 0.7384, SemiSup: 0.0211\n",
      "Validation Accuracy: 97.47%\n",
      "\n",
      "Weights saved to semisupervised_results/300_epochs_adam_results/weights_*.pth\n"
     ]
    },
    {
     "data": {
      "application/vnd.jupyter.widget-view+json": {
       "model_id": "680f71201e234990a62f6188f61a017d",
       "version_major": 2,
       "version_minor": 0
      },
      "text/plain": [
       "Epoch [194/300]:   0%|          | 0/500 [00:00<?, ?it/s]"
      ]
     },
     "metadata": {},
     "output_type": "display_data"
    },
    {
     "name": "stdout",
     "output_type": "stream",
     "text": [
      "Epoch 194/300 — Recon: 0.0104, Disc_Cat: 1.3406, Gen_Cat: 2.2886, Disc_Style: 1.3552, Gen_Style: 0.7364, SemiSup: 0.0208\n",
      "Validation Accuracy: 97.48%\n",
      "\n",
      "Weights saved to semisupervised_results/300_epochs_adam_results/weights_*.pth\n"
     ]
    },
    {
     "data": {
      "application/vnd.jupyter.widget-view+json": {
       "model_id": "aabe84a980de4d97b4026417a48e0462",
       "version_major": 2,
       "version_minor": 0
      },
      "text/plain": [
       "Epoch [195/300]:   0%|          | 0/500 [00:00<?, ?it/s]"
      ]
     },
     "metadata": {},
     "output_type": "display_data"
    },
    {
     "name": "stdout",
     "output_type": "stream",
     "text": [
      "Epoch 195/300 — Recon: 0.0104, Disc_Cat: 1.3413, Gen_Cat: 2.2961, Disc_Style: 1.3551, Gen_Style: 0.7391, SemiSup: 0.0208\n",
      "Validation Accuracy: 97.41%\n",
      "\n",
      "Weights saved to semisupervised_results/300_epochs_adam_results/weights_*.pth\n"
     ]
    },
    {
     "data": {
      "application/vnd.jupyter.widget-view+json": {
       "model_id": "e332d29eeb1149178201546b43a7dd51",
       "version_major": 2,
       "version_minor": 0
      },
      "text/plain": [
       "Epoch [196/300]:   0%|          | 0/500 [00:00<?, ?it/s]"
      ]
     },
     "metadata": {},
     "output_type": "display_data"
    },
    {
     "name": "stdout",
     "output_type": "stream",
     "text": [
      "Epoch 196/300 — Recon: 0.0104, Disc_Cat: 1.3408, Gen_Cat: 2.2966, Disc_Style: 1.3562, Gen_Style: 0.7375, SemiSup: 0.0201\n",
      "Validation Accuracy: 97.48%\n",
      "\n",
      "Weights saved to semisupervised_results/300_epochs_adam_results/weights_*.pth\n"
     ]
    },
    {
     "data": {
      "application/vnd.jupyter.widget-view+json": {
       "model_id": "097967bf41f84d38861e093a65afbd7b",
       "version_major": 2,
       "version_minor": 0
      },
      "text/plain": [
       "Epoch [197/300]:   0%|          | 0/500 [00:00<?, ?it/s]"
      ]
     },
     "metadata": {},
     "output_type": "display_data"
    },
    {
     "name": "stdout",
     "output_type": "stream",
     "text": [
      "Epoch 197/300 — Recon: 0.0104, Disc_Cat: 1.3411, Gen_Cat: 2.2865, Disc_Style: 1.3546, Gen_Style: 0.7374, SemiSup: 0.0204\n",
      "Validation Accuracy: 97.51%\n",
      "\n",
      "Weights saved to semisupervised_results/300_epochs_adam_results/weights_*.pth\n"
     ]
    },
    {
     "data": {
      "application/vnd.jupyter.widget-view+json": {
       "model_id": "df4ea628d1b143ce9296a7e723122f81",
       "version_major": 2,
       "version_minor": 0
      },
      "text/plain": [
       "Epoch [198/300]:   0%|          | 0/500 [00:00<?, ?it/s]"
      ]
     },
     "metadata": {},
     "output_type": "display_data"
    },
    {
     "name": "stdout",
     "output_type": "stream",
     "text": [
      "Epoch 198/300 — Recon: 0.0104, Disc_Cat: 1.3419, Gen_Cat: 2.2666, Disc_Style: 1.3544, Gen_Style: 0.7390, SemiSup: 0.0207\n",
      "Validation Accuracy: 97.53%\n",
      "\n",
      "Weights saved to semisupervised_results/300_epochs_adam_results/weights_*.pth\n"
     ]
    },
    {
     "data": {
      "application/vnd.jupyter.widget-view+json": {
       "model_id": "dbfb8faf092d41e2b5b2a23900215ab4",
       "version_major": 2,
       "version_minor": 0
      },
      "text/plain": [
       "Epoch [199/300]:   0%|          | 0/500 [00:00<?, ?it/s]"
      ]
     },
     "metadata": {},
     "output_type": "display_data"
    },
    {
     "name": "stdout",
     "output_type": "stream",
     "text": [
      "Epoch 199/300 — Recon: 0.0104, Disc_Cat: 1.3433, Gen_Cat: 2.2750, Disc_Style: 1.3563, Gen_Style: 0.7397, SemiSup: 0.0202\n",
      "Validation Accuracy: 97.41%\n",
      "\n",
      "Weights saved to semisupervised_results/300_epochs_adam_results/weights_*.pth\n"
     ]
    },
    {
     "data": {
      "application/vnd.jupyter.widget-view+json": {
       "model_id": "c2ba72df0bb446c6ae3c8066890aaec7",
       "version_major": 2,
       "version_minor": 0
      },
      "text/plain": [
       "Epoch [200/300]:   0%|          | 0/500 [00:00<?, ?it/s]"
      ]
     },
     "metadata": {},
     "output_type": "display_data"
    },
    {
     "name": "stdout",
     "output_type": "stream",
     "text": [
      "Epoch 200/300 — Recon: 0.0104, Disc_Cat: 1.3436, Gen_Cat: 2.2671, Disc_Style: 1.3569, Gen_Style: 0.7408, SemiSup: 0.0204\n",
      "Validation Accuracy: 97.49%\n",
      "\n",
      "Weights saved to semisupervised_results/300_epochs_adam_results/weights_*.pth\n"
     ]
    },
    {
     "data": {
      "application/vnd.jupyter.widget-view+json": {
       "model_id": "03bac6ebd65448249f3f62c9f991f515",
       "version_major": 2,
       "version_minor": 0
      },
      "text/plain": [
       "Epoch [201/300]:   0%|          | 0/500 [00:00<?, ?it/s]"
      ]
     },
     "metadata": {},
     "output_type": "display_data"
    },
    {
     "name": "stdout",
     "output_type": "stream",
     "text": [
      "Epoch 201/300 — Recon: 0.0104, Disc_Cat: 1.3417, Gen_Cat: 2.2901, Disc_Style: 1.3555, Gen_Style: 0.7428, SemiSup: 0.0202\n",
      "Validation Accuracy: 97.42%\n",
      "\n",
      "Weights saved to semisupervised_results/300_epochs_adam_results/weights_*.pth\n"
     ]
    },
    {
     "data": {
      "application/vnd.jupyter.widget-view+json": {
       "model_id": "a8fe1dc70ce8493fa76b5b7c1a3af3c6",
       "version_major": 2,
       "version_minor": 0
      },
      "text/plain": [
       "Epoch [202/300]:   0%|          | 0/500 [00:00<?, ?it/s]"
      ]
     },
     "metadata": {},
     "output_type": "display_data"
    },
    {
     "name": "stdout",
     "output_type": "stream",
     "text": [
      "Epoch 202/300 — Recon: 0.0104, Disc_Cat: 1.3416, Gen_Cat: 2.3068, Disc_Style: 1.3527, Gen_Style: 0.7421, SemiSup: 0.0197\n",
      "Validation Accuracy: 97.48%\n",
      "\n",
      "Weights saved to semisupervised_results/300_epochs_adam_results/weights_*.pth\n"
     ]
    },
    {
     "data": {
      "application/vnd.jupyter.widget-view+json": {
       "model_id": "fca153aa21f9463da9594589efa8cd53",
       "version_major": 2,
       "version_minor": 0
      },
      "text/plain": [
       "Epoch [203/300]:   0%|          | 0/500 [00:00<?, ?it/s]"
      ]
     },
     "metadata": {},
     "output_type": "display_data"
    },
    {
     "name": "stdout",
     "output_type": "stream",
     "text": [
      "Epoch 203/300 — Recon: 0.0104, Disc_Cat: 1.3423, Gen_Cat: 2.2962, Disc_Style: 1.3531, Gen_Style: 0.7410, SemiSup: 0.0193\n",
      "Validation Accuracy: 97.43%\n",
      "\n",
      "Weights saved to semisupervised_results/300_epochs_adam_results/weights_*.pth\n"
     ]
    },
    {
     "data": {
      "application/vnd.jupyter.widget-view+json": {
       "model_id": "a47150102f1a4406a39e672f82ce44d9",
       "version_major": 2,
       "version_minor": 0
      },
      "text/plain": [
       "Epoch [204/300]:   0%|          | 0/500 [00:00<?, ?it/s]"
      ]
     },
     "metadata": {},
     "output_type": "display_data"
    },
    {
     "name": "stdout",
     "output_type": "stream",
     "text": [
      "Epoch 204/300 — Recon: 0.0103, Disc_Cat: 1.3413, Gen_Cat: 2.3021, Disc_Style: 1.3553, Gen_Style: 0.7366, SemiSup: 0.0195\n",
      "Validation Accuracy: 97.46%\n",
      "\n",
      "Weights saved to semisupervised_results/300_epochs_adam_results/weights_*.pth\n"
     ]
    },
    {
     "data": {
      "application/vnd.jupyter.widget-view+json": {
       "model_id": "08e18cfb316f4fca9c11ef48b24a22f3",
       "version_major": 2,
       "version_minor": 0
      },
      "text/plain": [
       "Epoch [205/300]:   0%|          | 0/500 [00:00<?, ?it/s]"
      ]
     },
     "metadata": {},
     "output_type": "display_data"
    },
    {
     "name": "stdout",
     "output_type": "stream",
     "text": [
      "Epoch 205/300 — Recon: 0.0103, Disc_Cat: 1.3408, Gen_Cat: 2.3229, Disc_Style: 1.3547, Gen_Style: 0.7381, SemiSup: 0.0195\n",
      "Validation Accuracy: 97.49%\n",
      "\n",
      "Weights saved to semisupervised_results/300_epochs_adam_results/weights_*.pth\n"
     ]
    },
    {
     "data": {
      "application/vnd.jupyter.widget-view+json": {
       "model_id": "568f5bc5bdad43ff81372d0b5ca2e0e3",
       "version_major": 2,
       "version_minor": 0
      },
      "text/plain": [
       "Epoch [206/300]:   0%|          | 0/500 [00:00<?, ?it/s]"
      ]
     },
     "metadata": {},
     "output_type": "display_data"
    },
    {
     "name": "stdout",
     "output_type": "stream",
     "text": [
      "Epoch 206/300 — Recon: 0.0104, Disc_Cat: 1.3399, Gen_Cat: 2.3229, Disc_Style: 1.3537, Gen_Style: 0.7413, SemiSup: 0.0195\n",
      "Validation Accuracy: 97.48%\n",
      "\n",
      "Weights saved to semisupervised_results/300_epochs_adam_results/weights_*.pth\n"
     ]
    },
    {
     "data": {
      "application/vnd.jupyter.widget-view+json": {
       "model_id": "d323bdf572184366920971089f9d358f",
       "version_major": 2,
       "version_minor": 0
      },
      "text/plain": [
       "Epoch [207/300]:   0%|          | 0/500 [00:00<?, ?it/s]"
      ]
     },
     "metadata": {},
     "output_type": "display_data"
    },
    {
     "name": "stdout",
     "output_type": "stream",
     "text": [
      "Epoch 207/300 — Recon: 0.0104, Disc_Cat: 1.3417, Gen_Cat: 2.3088, Disc_Style: 1.3552, Gen_Style: 0.7384, SemiSup: 0.0202\n",
      "Validation Accuracy: 97.46%\n",
      "\n",
      "Weights saved to semisupervised_results/300_epochs_adam_results/weights_*.pth\n"
     ]
    },
    {
     "data": {
      "application/vnd.jupyter.widget-view+json": {
       "model_id": "fde04116a1464b9ab5ed03ce0c57efd2",
       "version_major": 2,
       "version_minor": 0
      },
      "text/plain": [
       "Epoch [208/300]:   0%|          | 0/500 [00:00<?, ?it/s]"
      ]
     },
     "metadata": {},
     "output_type": "display_data"
    },
    {
     "name": "stdout",
     "output_type": "stream",
     "text": [
      "Epoch 208/300 — Recon: 0.0104, Disc_Cat: 1.3402, Gen_Cat: 2.3407, Disc_Style: 1.3577, Gen_Style: 0.7371, SemiSup: 0.0190\n",
      "Validation Accuracy: 97.44%\n",
      "\n",
      "Weights saved to semisupervised_results/300_epochs_adam_results/weights_*.pth\n"
     ]
    },
    {
     "data": {
      "application/vnd.jupyter.widget-view+json": {
       "model_id": "94aaf1653cd5457cb0783efabaf60f5e",
       "version_major": 2,
       "version_minor": 0
      },
      "text/plain": [
       "Epoch [209/300]:   0%|          | 0/500 [00:00<?, ?it/s]"
      ]
     },
     "metadata": {},
     "output_type": "display_data"
    },
    {
     "name": "stdout",
     "output_type": "stream",
     "text": [
      "Epoch 209/300 — Recon: 0.0104, Disc_Cat: 1.3409, Gen_Cat: 2.3162, Disc_Style: 1.3557, Gen_Style: 0.7367, SemiSup: 0.0200\n",
      "Validation Accuracy: 97.41%\n",
      "\n",
      "Weights saved to semisupervised_results/300_epochs_adam_results/weights_*.pth\n"
     ]
    },
    {
     "data": {
      "application/vnd.jupyter.widget-view+json": {
       "model_id": "524fc8bf88c04d4aafb21c0c917d6786",
       "version_major": 2,
       "version_minor": 0
      },
      "text/plain": [
       "Epoch [210/300]:   0%|          | 0/500 [00:00<?, ?it/s]"
      ]
     },
     "metadata": {},
     "output_type": "display_data"
    },
    {
     "name": "stdout",
     "output_type": "stream",
     "text": [
      "Epoch 210/300 — Recon: 0.0104, Disc_Cat: 1.3406, Gen_Cat: 2.3317, Disc_Style: 1.3546, Gen_Style: 0.7394, SemiSup: 0.0193\n",
      "Validation Accuracy: 97.44%\n",
      "\n",
      "Weights saved to semisupervised_results/300_epochs_adam_results/weights_*.pth\n"
     ]
    },
    {
     "data": {
      "application/vnd.jupyter.widget-view+json": {
       "model_id": "6a7fefc5185f4cbba55a3766d3b8814a",
       "version_major": 2,
       "version_minor": 0
      },
      "text/plain": [
       "Epoch [211/300]:   0%|          | 0/500 [00:00<?, ?it/s]"
      ]
     },
     "metadata": {},
     "output_type": "display_data"
    },
    {
     "name": "stdout",
     "output_type": "stream",
     "text": [
      "Epoch 211/300 — Recon: 0.0103, Disc_Cat: 1.3411, Gen_Cat: 2.3229, Disc_Style: 1.3561, Gen_Style: 0.7389, SemiSup: 0.0195\n",
      "Validation Accuracy: 97.49%\n",
      "\n",
      "Weights saved to semisupervised_results/300_epochs_adam_results/weights_*.pth\n"
     ]
    },
    {
     "data": {
      "application/vnd.jupyter.widget-view+json": {
       "model_id": "ce68b294dc62484bb99aa6f79bac3b2c",
       "version_major": 2,
       "version_minor": 0
      },
      "text/plain": [
       "Epoch [212/300]:   0%|          | 0/500 [00:00<?, ?it/s]"
      ]
     },
     "metadata": {},
     "output_type": "display_data"
    },
    {
     "name": "stdout",
     "output_type": "stream",
     "text": [
      "Epoch 212/300 — Recon: 0.0103, Disc_Cat: 1.3424, Gen_Cat: 2.3156, Disc_Style: 1.3540, Gen_Style: 0.7400, SemiSup: 0.0196\n",
      "Validation Accuracy: 97.54%\n",
      "\n",
      "Weights saved to semisupervised_results/300_epochs_adam_results/weights_*.pth\n"
     ]
    },
    {
     "data": {
      "application/vnd.jupyter.widget-view+json": {
       "model_id": "d3478cdf5a154a7a94ad238ede1a10ea",
       "version_major": 2,
       "version_minor": 0
      },
      "text/plain": [
       "Epoch [213/300]:   0%|          | 0/500 [00:00<?, ?it/s]"
      ]
     },
     "metadata": {},
     "output_type": "display_data"
    },
    {
     "name": "stdout",
     "output_type": "stream",
     "text": [
      "Epoch 213/300 — Recon: 0.0103, Disc_Cat: 1.3426, Gen_Cat: 2.3136, Disc_Style: 1.3537, Gen_Style: 0.7398, SemiSup: 0.0186\n",
      "Validation Accuracy: 97.53%\n",
      "\n",
      "Weights saved to semisupervised_results/300_epochs_adam_results/weights_*.pth\n"
     ]
    },
    {
     "data": {
      "application/vnd.jupyter.widget-view+json": {
       "model_id": "1886a9bc658748899fefde37fc1b8d78",
       "version_major": 2,
       "version_minor": 0
      },
      "text/plain": [
       "Epoch [214/300]:   0%|          | 0/500 [00:00<?, ?it/s]"
      ]
     },
     "metadata": {},
     "output_type": "display_data"
    },
    {
     "name": "stdout",
     "output_type": "stream",
     "text": [
      "Epoch 214/300 — Recon: 0.0103, Disc_Cat: 1.3425, Gen_Cat: 2.3264, Disc_Style: 1.3544, Gen_Style: 0.7405, SemiSup: 0.0195\n",
      "Validation Accuracy: 97.51%\n",
      "\n",
      "Weights saved to semisupervised_results/300_epochs_adam_results/weights_*.pth\n"
     ]
    },
    {
     "data": {
      "application/vnd.jupyter.widget-view+json": {
       "model_id": "fbc8afdeed384d4683a3c1647cfaad93",
       "version_major": 2,
       "version_minor": 0
      },
      "text/plain": [
       "Epoch [215/300]:   0%|          | 0/500 [00:00<?, ?it/s]"
      ]
     },
     "metadata": {},
     "output_type": "display_data"
    },
    {
     "name": "stdout",
     "output_type": "stream",
     "text": [
      "Epoch 215/300 — Recon: 0.0103, Disc_Cat: 1.3419, Gen_Cat: 2.3457, Disc_Style: 1.3552, Gen_Style: 0.7404, SemiSup: 0.0197\n",
      "Validation Accuracy: 97.52%\n",
      "\n",
      "Weights saved to semisupervised_results/300_epochs_adam_results/weights_*.pth\n"
     ]
    },
    {
     "data": {
      "application/vnd.jupyter.widget-view+json": {
       "model_id": "61c37ceec7634fe88e4dfc1989213b27",
       "version_major": 2,
       "version_minor": 0
      },
      "text/plain": [
       "Epoch [216/300]:   0%|          | 0/500 [00:00<?, ?it/s]"
      ]
     },
     "metadata": {},
     "output_type": "display_data"
    },
    {
     "name": "stdout",
     "output_type": "stream",
     "text": [
      "Epoch 216/300 — Recon: 0.0103, Disc_Cat: 1.3415, Gen_Cat: 2.3352, Disc_Style: 1.3550, Gen_Style: 0.7426, SemiSup: 0.0192\n",
      "Validation Accuracy: 97.50%\n",
      "\n",
      "Weights saved to semisupervised_results/300_epochs_adam_results/weights_*.pth\n"
     ]
    },
    {
     "data": {
      "application/vnd.jupyter.widget-view+json": {
       "model_id": "c41e87f8173d4b8988a9f048875097a8",
       "version_major": 2,
       "version_minor": 0
      },
      "text/plain": [
       "Epoch [217/300]:   0%|          | 0/500 [00:00<?, ?it/s]"
      ]
     },
     "metadata": {},
     "output_type": "display_data"
    },
    {
     "name": "stdout",
     "output_type": "stream",
     "text": [
      "Epoch 217/300 — Recon: 0.0103, Disc_Cat: 1.3403, Gen_Cat: 2.3636, Disc_Style: 1.3558, Gen_Style: 0.7396, SemiSup: 0.0197\n",
      "Validation Accuracy: 97.51%\n",
      "\n",
      "Weights saved to semisupervised_results/300_epochs_adam_results/weights_*.pth\n"
     ]
    },
    {
     "data": {
      "application/vnd.jupyter.widget-view+json": {
       "model_id": "628676d015b54210998abe1e606877a7",
       "version_major": 2,
       "version_minor": 0
      },
      "text/plain": [
       "Epoch [218/300]:   0%|          | 0/500 [00:00<?, ?it/s]"
      ]
     },
     "metadata": {},
     "output_type": "display_data"
    },
    {
     "name": "stdout",
     "output_type": "stream",
     "text": [
      "Epoch 218/300 — Recon: 0.0104, Disc_Cat: 1.3411, Gen_Cat: 2.3663, Disc_Style: 1.3569, Gen_Style: 0.7387, SemiSup: 0.0195\n",
      "Validation Accuracy: 97.42%\n",
      "\n",
      "Weights saved to semisupervised_results/300_epochs_adam_results/weights_*.pth\n"
     ]
    },
    {
     "data": {
      "application/vnd.jupyter.widget-view+json": {
       "model_id": "8b158b8cad9e43469f0635ded96e073a",
       "version_major": 2,
       "version_minor": 0
      },
      "text/plain": [
       "Epoch [219/300]:   0%|          | 0/500 [00:00<?, ?it/s]"
      ]
     },
     "metadata": {},
     "output_type": "display_data"
    },
    {
     "name": "stdout",
     "output_type": "stream",
     "text": [
      "Epoch 219/300 — Recon: 0.0103, Disc_Cat: 1.3416, Gen_Cat: 2.3562, Disc_Style: 1.3557, Gen_Style: 0.7391, SemiSup: 0.0193\n",
      "Validation Accuracy: 97.55%\n",
      "\n",
      "Weights saved to semisupervised_results/300_epochs_adam_results/weights_*.pth\n"
     ]
    },
    {
     "data": {
      "application/vnd.jupyter.widget-view+json": {
       "model_id": "c9caffba66d0499dae5423fe405bacd4",
       "version_major": 2,
       "version_minor": 0
      },
      "text/plain": [
       "Epoch [220/300]:   0%|          | 0/500 [00:00<?, ?it/s]"
      ]
     },
     "metadata": {},
     "output_type": "display_data"
    },
    {
     "name": "stdout",
     "output_type": "stream",
     "text": [
      "Epoch 220/300 — Recon: 0.0103, Disc_Cat: 1.3423, Gen_Cat: 2.3612, Disc_Style: 1.3574, Gen_Style: 0.7364, SemiSup: 0.0193\n",
      "Validation Accuracy: 97.48%\n",
      "\n",
      "Weights saved to semisupervised_results/300_epochs_adam_results/weights_*.pth\n"
     ]
    },
    {
     "data": {
      "application/vnd.jupyter.widget-view+json": {
       "model_id": "145db6384bca4731a7e86f98697027b7",
       "version_major": 2,
       "version_minor": 0
      },
      "text/plain": [
       "Epoch [221/300]:   0%|          | 0/500 [00:00<?, ?it/s]"
      ]
     },
     "metadata": {},
     "output_type": "display_data"
    },
    {
     "name": "stdout",
     "output_type": "stream",
     "text": [
      "Epoch 221/300 — Recon: 0.0103, Disc_Cat: 1.3421, Gen_Cat: 2.3596, Disc_Style: 1.3560, Gen_Style: 0.7380, SemiSup: 0.0192\n",
      "Validation Accuracy: 97.44%\n",
      "\n",
      "Weights saved to semisupervised_results/300_epochs_adam_results/weights_*.pth\n"
     ]
    },
    {
     "data": {
      "application/vnd.jupyter.widget-view+json": {
       "model_id": "c807983c5dd74f1c89d0a61811c34c13",
       "version_major": 2,
       "version_minor": 0
      },
      "text/plain": [
       "Epoch [222/300]:   0%|          | 0/500 [00:00<?, ?it/s]"
      ]
     },
     "metadata": {},
     "output_type": "display_data"
    },
    {
     "name": "stdout",
     "output_type": "stream",
     "text": [
      "Epoch 222/300 — Recon: 0.0103, Disc_Cat: 1.3412, Gen_Cat: 2.3564, Disc_Style: 1.3546, Gen_Style: 0.7393, SemiSup: 0.0184\n",
      "Validation Accuracy: 97.48%\n",
      "\n",
      "Weights saved to semisupervised_results/300_epochs_adam_results/weights_*.pth\n"
     ]
    },
    {
     "data": {
      "application/vnd.jupyter.widget-view+json": {
       "model_id": "34b8c4ced23942579cfd468277e79e1e",
       "version_major": 2,
       "version_minor": 0
      },
      "text/plain": [
       "Epoch [223/300]:   0%|          | 0/500 [00:00<?, ?it/s]"
      ]
     },
     "metadata": {},
     "output_type": "display_data"
    },
    {
     "name": "stdout",
     "output_type": "stream",
     "text": [
      "Epoch 223/300 — Recon: 0.0102, Disc_Cat: 1.3403, Gen_Cat: 2.3513, Disc_Style: 1.3556, Gen_Style: 0.7370, SemiSup: 0.0188\n",
      "Validation Accuracy: 97.55%\n",
      "\n",
      "Weights saved to semisupervised_results/300_epochs_adam_results/weights_*.pth\n"
     ]
    },
    {
     "data": {
      "application/vnd.jupyter.widget-view+json": {
       "model_id": "14ffd18ce3b644e09eb5c6d4f919b150",
       "version_major": 2,
       "version_minor": 0
      },
      "text/plain": [
       "Epoch [224/300]:   0%|          | 0/500 [00:00<?, ?it/s]"
      ]
     },
     "metadata": {},
     "output_type": "display_data"
    },
    {
     "name": "stdout",
     "output_type": "stream",
     "text": [
      "Epoch 224/300 — Recon: 0.0102, Disc_Cat: 1.3433, Gen_Cat: 2.3429, Disc_Style: 1.3546, Gen_Style: 0.7391, SemiSup: 0.0185\n",
      "Validation Accuracy: 97.52%\n",
      "\n",
      "Weights saved to semisupervised_results/300_epochs_adam_results/weights_*.pth\n"
     ]
    },
    {
     "data": {
      "application/vnd.jupyter.widget-view+json": {
       "model_id": "35034df0cff1438bafe97bcdadf174c9",
       "version_major": 2,
       "version_minor": 0
      },
      "text/plain": [
       "Epoch [225/300]:   0%|          | 0/500 [00:00<?, ?it/s]"
      ]
     },
     "metadata": {},
     "output_type": "display_data"
    },
    {
     "name": "stdout",
     "output_type": "stream",
     "text": [
      "Epoch 225/300 — Recon: 0.0102, Disc_Cat: 1.3424, Gen_Cat: 2.3348, Disc_Style: 1.3550, Gen_Style: 0.7387, SemiSup: 0.0190\n",
      "Validation Accuracy: 97.49%\n",
      "\n",
      "Weights saved to semisupervised_results/300_epochs_adam_results/weights_*.pth\n"
     ]
    },
    {
     "data": {
      "application/vnd.jupyter.widget-view+json": {
       "model_id": "e04b4b41ac344ddfa8ec1b412b069e0b",
       "version_major": 2,
       "version_minor": 0
      },
      "text/plain": [
       "Epoch [226/300]:   0%|          | 0/500 [00:00<?, ?it/s]"
      ]
     },
     "metadata": {},
     "output_type": "display_data"
    },
    {
     "name": "stdout",
     "output_type": "stream",
     "text": [
      "Epoch 226/300 — Recon: 0.0102, Disc_Cat: 1.3412, Gen_Cat: 2.3602, Disc_Style: 1.3536, Gen_Style: 0.7405, SemiSup: 0.0191\n",
      "Validation Accuracy: 97.48%\n",
      "\n",
      "Weights saved to semisupervised_results/300_epochs_adam_results/weights_*.pth\n"
     ]
    },
    {
     "data": {
      "application/vnd.jupyter.widget-view+json": {
       "model_id": "205b828c61434aeba506e16e7c5de19f",
       "version_major": 2,
       "version_minor": 0
      },
      "text/plain": [
       "Epoch [227/300]:   0%|          | 0/500 [00:00<?, ?it/s]"
      ]
     },
     "metadata": {},
     "output_type": "display_data"
    },
    {
     "name": "stdout",
     "output_type": "stream",
     "text": [
      "Epoch 227/300 — Recon: 0.0102, Disc_Cat: 1.3415, Gen_Cat: 2.3825, Disc_Style: 1.3534, Gen_Style: 0.7392, SemiSup: 0.0184\n",
      "Validation Accuracy: 97.52%\n",
      "\n",
      "Weights saved to semisupervised_results/300_epochs_adam_results/weights_*.pth\n"
     ]
    },
    {
     "data": {
      "application/vnd.jupyter.widget-view+json": {
       "model_id": "1438e55d9a454a8f919dc2721ffeec82",
       "version_major": 2,
       "version_minor": 0
      },
      "text/plain": [
       "Epoch [228/300]:   0%|          | 0/500 [00:00<?, ?it/s]"
      ]
     },
     "metadata": {},
     "output_type": "display_data"
    },
    {
     "name": "stdout",
     "output_type": "stream",
     "text": [
      "Epoch 228/300 — Recon: 0.0103, Disc_Cat: 1.3413, Gen_Cat: 2.3863, Disc_Style: 1.3544, Gen_Style: 0.7417, SemiSup: 0.0190\n",
      "Validation Accuracy: 97.42%\n",
      "\n",
      "Weights saved to semisupervised_results/300_epochs_adam_results/weights_*.pth\n"
     ]
    },
    {
     "data": {
      "application/vnd.jupyter.widget-view+json": {
       "model_id": "5b9fec5ed68a4b798cd80a336dc7524e",
       "version_major": 2,
       "version_minor": 0
      },
      "text/plain": [
       "Epoch [229/300]:   0%|          | 0/500 [00:00<?, ?it/s]"
      ]
     },
     "metadata": {},
     "output_type": "display_data"
    },
    {
     "name": "stdout",
     "output_type": "stream",
     "text": [
      "Epoch 229/300 — Recon: 0.0103, Disc_Cat: 1.3382, Gen_Cat: 2.4405, Disc_Style: 1.3541, Gen_Style: 0.7439, SemiSup: 0.0185\n",
      "Validation Accuracy: 97.49%\n",
      "\n",
      "Weights saved to semisupervised_results/300_epochs_adam_results/weights_*.pth\n"
     ]
    },
    {
     "data": {
      "application/vnd.jupyter.widget-view+json": {
       "model_id": "afbf5f6190be486da546df797c8a46c9",
       "version_major": 2,
       "version_minor": 0
      },
      "text/plain": [
       "Epoch [230/300]:   0%|          | 0/500 [00:00<?, ?it/s]"
      ]
     },
     "metadata": {},
     "output_type": "display_data"
    },
    {
     "name": "stdout",
     "output_type": "stream",
     "text": [
      "Epoch 230/300 — Recon: 0.0103, Disc_Cat: 1.3419, Gen_Cat: 2.3741, Disc_Style: 1.3543, Gen_Style: 0.7429, SemiSup: 0.0189\n",
      "Validation Accuracy: 97.45%\n",
      "\n",
      "Weights saved to semisupervised_results/300_epochs_adam_results/weights_*.pth\n"
     ]
    },
    {
     "data": {
      "application/vnd.jupyter.widget-view+json": {
       "model_id": "2793183e19f140558fbb395a10d0000c",
       "version_major": 2,
       "version_minor": 0
      },
      "text/plain": [
       "Epoch [231/300]:   0%|          | 0/500 [00:00<?, ?it/s]"
      ]
     },
     "metadata": {},
     "output_type": "display_data"
    },
    {
     "name": "stdout",
     "output_type": "stream",
     "text": [
      "Epoch 231/300 — Recon: 0.0102, Disc_Cat: 1.3413, Gen_Cat: 2.3853, Disc_Style: 1.3542, Gen_Style: 0.7397, SemiSup: 0.0188\n",
      "Validation Accuracy: 97.58%\n",
      "\n",
      "Weights saved to semisupervised_results/300_epochs_adam_results/weights_*.pth\n"
     ]
    },
    {
     "data": {
      "application/vnd.jupyter.widget-view+json": {
       "model_id": "8131828d06a34a23a3c194c3ec58ef29",
       "version_major": 2,
       "version_minor": 0
      },
      "text/plain": [
       "Epoch [232/300]:   0%|          | 0/500 [00:00<?, ?it/s]"
      ]
     },
     "metadata": {},
     "output_type": "display_data"
    },
    {
     "name": "stdout",
     "output_type": "stream",
     "text": [
      "Epoch 232/300 — Recon: 0.0102, Disc_Cat: 1.3419, Gen_Cat: 2.3748, Disc_Style: 1.3542, Gen_Style: 0.7416, SemiSup: 0.0183\n",
      "Validation Accuracy: 97.57%\n",
      "\n",
      "Weights saved to semisupervised_results/300_epochs_adam_results/weights_*.pth\n"
     ]
    },
    {
     "data": {
      "application/vnd.jupyter.widget-view+json": {
       "model_id": "c7400e7b3fc94f7ca7bb5e521d288052",
       "version_major": 2,
       "version_minor": 0
      },
      "text/plain": [
       "Epoch [233/300]:   0%|          | 0/500 [00:00<?, ?it/s]"
      ]
     },
     "metadata": {},
     "output_type": "display_data"
    },
    {
     "name": "stdout",
     "output_type": "stream",
     "text": [
      "Epoch 233/300 — Recon: 0.0102, Disc_Cat: 1.3400, Gen_Cat: 2.3895, Disc_Style: 1.3541, Gen_Style: 0.7406, SemiSup: 0.0180\n",
      "Validation Accuracy: 97.47%\n",
      "\n",
      "Weights saved to semisupervised_results/300_epochs_adam_results/weights_*.pth\n"
     ]
    },
    {
     "data": {
      "application/vnd.jupyter.widget-view+json": {
       "model_id": "285abf42b4cb497fab650a868e717bc0",
       "version_major": 2,
       "version_minor": 0
      },
      "text/plain": [
       "Epoch [234/300]:   0%|          | 0/500 [00:00<?, ?it/s]"
      ]
     },
     "metadata": {},
     "output_type": "display_data"
    },
    {
     "name": "stdout",
     "output_type": "stream",
     "text": [
      "Epoch 234/300 — Recon: 0.0102, Disc_Cat: 1.3395, Gen_Cat: 2.4156, Disc_Style: 1.3533, Gen_Style: 0.7453, SemiSup: 0.0183\n",
      "Validation Accuracy: 97.49%\n",
      "\n",
      "Weights saved to semisupervised_results/300_epochs_adam_results/weights_*.pth\n"
     ]
    },
    {
     "data": {
      "application/vnd.jupyter.widget-view+json": {
       "model_id": "0c856c3fd06f444a993a663307a8bac0",
       "version_major": 2,
       "version_minor": 0
      },
      "text/plain": [
       "Epoch [235/300]:   0%|          | 0/500 [00:00<?, ?it/s]"
      ]
     },
     "metadata": {},
     "output_type": "display_data"
    },
    {
     "name": "stdout",
     "output_type": "stream",
     "text": [
      "Epoch 235/300 — Recon: 0.0102, Disc_Cat: 1.3417, Gen_Cat: 2.4106, Disc_Style: 1.3530, Gen_Style: 0.7425, SemiSup: 0.0181\n",
      "Validation Accuracy: 97.46%\n",
      "\n",
      "Weights saved to semisupervised_results/300_epochs_adam_results/weights_*.pth\n"
     ]
    },
    {
     "data": {
      "application/vnd.jupyter.widget-view+json": {
       "model_id": "0c12201e93fa4d278b33c1d599336022",
       "version_major": 2,
       "version_minor": 0
      },
      "text/plain": [
       "Epoch [236/300]:   0%|          | 0/500 [00:00<?, ?it/s]"
      ]
     },
     "metadata": {},
     "output_type": "display_data"
    },
    {
     "name": "stdout",
     "output_type": "stream",
     "text": [
      "Epoch 236/300 — Recon: 0.0102, Disc_Cat: 1.3420, Gen_Cat: 2.3793, Disc_Style: 1.3552, Gen_Style: 0.7407, SemiSup: 0.0176\n",
      "Validation Accuracy: 97.55%\n",
      "\n",
      "Weights saved to semisupervised_results/300_epochs_adam_results/weights_*.pth\n"
     ]
    },
    {
     "data": {
      "application/vnd.jupyter.widget-view+json": {
       "model_id": "01313be8f82f4194a7574d4d6f8491ee",
       "version_major": 2,
       "version_minor": 0
      },
      "text/plain": [
       "Epoch [237/300]:   0%|          | 0/500 [00:00<?, ?it/s]"
      ]
     },
     "metadata": {},
     "output_type": "display_data"
    },
    {
     "name": "stdout",
     "output_type": "stream",
     "text": [
      "Epoch 237/300 — Recon: 0.0102, Disc_Cat: 1.3431, Gen_Cat: 2.3765, Disc_Style: 1.3543, Gen_Style: 0.7416, SemiSup: 0.0178\n",
      "Validation Accuracy: 97.54%\n",
      "\n",
      "Weights saved to semisupervised_results/300_epochs_adam_results/weights_*.pth\n"
     ]
    },
    {
     "data": {
      "application/vnd.jupyter.widget-view+json": {
       "model_id": "517b4085ff5b4f7fa393d3dc3244c4e0",
       "version_major": 2,
       "version_minor": 0
      },
      "text/plain": [
       "Epoch [238/300]:   0%|          | 0/500 [00:00<?, ?it/s]"
      ]
     },
     "metadata": {},
     "output_type": "display_data"
    },
    {
     "name": "stdout",
     "output_type": "stream",
     "text": [
      "Epoch 238/300 — Recon: 0.0102, Disc_Cat: 1.3405, Gen_Cat: 2.3854, Disc_Style: 1.3536, Gen_Style: 0.7400, SemiSup: 0.0177\n",
      "Validation Accuracy: 97.53%\n",
      "\n",
      "Weights saved to semisupervised_results/300_epochs_adam_results/weights_*.pth\n"
     ]
    },
    {
     "data": {
      "application/vnd.jupyter.widget-view+json": {
       "model_id": "027b504054014a7e820c3fa5cf4a3353",
       "version_major": 2,
       "version_minor": 0
      },
      "text/plain": [
       "Epoch [239/300]:   0%|          | 0/500 [00:00<?, ?it/s]"
      ]
     },
     "metadata": {},
     "output_type": "display_data"
    },
    {
     "name": "stdout",
     "output_type": "stream",
     "text": [
      "Epoch 239/300 — Recon: 0.0102, Disc_Cat: 1.3415, Gen_Cat: 2.3994, Disc_Style: 1.3542, Gen_Style: 0.7409, SemiSup: 0.0179\n",
      "Validation Accuracy: 97.62%\n",
      "\n",
      "Weights saved to semisupervised_results/300_epochs_adam_results/weights_*.pth\n"
     ]
    },
    {
     "data": {
      "application/vnd.jupyter.widget-view+json": {
       "model_id": "9b947b8c63b643ce9bb7894c4ebcdcf9",
       "version_major": 2,
       "version_minor": 0
      },
      "text/plain": [
       "Epoch [240/300]:   0%|          | 0/500 [00:00<?, ?it/s]"
      ]
     },
     "metadata": {},
     "output_type": "display_data"
    },
    {
     "name": "stdout",
     "output_type": "stream",
     "text": [
      "Epoch 240/300 — Recon: 0.0102, Disc_Cat: 1.3429, Gen_Cat: 2.3824, Disc_Style: 1.3544, Gen_Style: 0.7422, SemiSup: 0.0180\n",
      "Validation Accuracy: 97.59%\n",
      "\n",
      "Weights saved to semisupervised_results/300_epochs_adam_results/weights_*.pth\n"
     ]
    },
    {
     "data": {
      "application/vnd.jupyter.widget-view+json": {
       "model_id": "f3130bee30f149ecbc90d413ddf2de28",
       "version_major": 2,
       "version_minor": 0
      },
      "text/plain": [
       "Epoch [241/300]:   0%|          | 0/500 [00:00<?, ?it/s]"
      ]
     },
     "metadata": {},
     "output_type": "display_data"
    },
    {
     "name": "stdout",
     "output_type": "stream",
     "text": [
      "Epoch 241/300 — Recon: 0.0102, Disc_Cat: 1.3438, Gen_Cat: 2.3842, Disc_Style: 1.3527, Gen_Style: 0.7418, SemiSup: 0.0182\n",
      "Validation Accuracy: 97.50%\n",
      "\n",
      "Weights saved to semisupervised_results/300_epochs_adam_results/weights_*.pth\n"
     ]
    },
    {
     "data": {
      "application/vnd.jupyter.widget-view+json": {
       "model_id": "4d0059c2a46a40c4add63dccffb7a5b1",
       "version_major": 2,
       "version_minor": 0
      },
      "text/plain": [
       "Epoch [242/300]:   0%|          | 0/500 [00:00<?, ?it/s]"
      ]
     },
     "metadata": {},
     "output_type": "display_data"
    },
    {
     "name": "stdout",
     "output_type": "stream",
     "text": [
      "Epoch 242/300 — Recon: 0.0102, Disc_Cat: 1.3429, Gen_Cat: 2.3976, Disc_Style: 1.3527, Gen_Style: 0.7421, SemiSup: 0.0181\n",
      "Validation Accuracy: 97.55%\n",
      "\n",
      "Weights saved to semisupervised_results/300_epochs_adam_results/weights_*.pth\n"
     ]
    },
    {
     "data": {
      "application/vnd.jupyter.widget-view+json": {
       "model_id": "9b0ddb1460fa49148e1c841ed518e70b",
       "version_major": 2,
       "version_minor": 0
      },
      "text/plain": [
       "Epoch [243/300]:   0%|          | 0/500 [00:00<?, ?it/s]"
      ]
     },
     "metadata": {},
     "output_type": "display_data"
    },
    {
     "name": "stdout",
     "output_type": "stream",
     "text": [
      "Epoch 243/300 — Recon: 0.0101, Disc_Cat: 1.3442, Gen_Cat: 2.3908, Disc_Style: 1.3533, Gen_Style: 0.7414, SemiSup: 0.0179\n",
      "Validation Accuracy: 97.53%\n",
      "\n",
      "Weights saved to semisupervised_results/300_epochs_adam_results/weights_*.pth\n"
     ]
    },
    {
     "data": {
      "application/vnd.jupyter.widget-view+json": {
       "model_id": "955d35b6e21f42298720128a36102a3d",
       "version_major": 2,
       "version_minor": 0
      },
      "text/plain": [
       "Epoch [244/300]:   0%|          | 0/500 [00:00<?, ?it/s]"
      ]
     },
     "metadata": {},
     "output_type": "display_data"
    },
    {
     "name": "stdout",
     "output_type": "stream",
     "text": [
      "Epoch 244/300 — Recon: 0.0101, Disc_Cat: 1.3433, Gen_Cat: 2.3789, Disc_Style: 1.3540, Gen_Style: 0.7400, SemiSup: 0.0175\n",
      "Validation Accuracy: 97.52%\n",
      "\n",
      "Weights saved to semisupervised_results/300_epochs_adam_results/weights_*.pth\n"
     ]
    },
    {
     "data": {
      "application/vnd.jupyter.widget-view+json": {
       "model_id": "c47e37251f2d422abd2f32d1d3e5361c",
       "version_major": 2,
       "version_minor": 0
      },
      "text/plain": [
       "Epoch [245/300]:   0%|          | 0/500 [00:00<?, ?it/s]"
      ]
     },
     "metadata": {},
     "output_type": "display_data"
    },
    {
     "name": "stdout",
     "output_type": "stream",
     "text": [
      "Epoch 245/300 — Recon: 0.0101, Disc_Cat: 1.3424, Gen_Cat: 2.3728, Disc_Style: 1.3514, Gen_Style: 0.7427, SemiSup: 0.0174\n",
      "Validation Accuracy: 97.48%\n",
      "\n",
      "Weights saved to semisupervised_results/300_epochs_adam_results/weights_*.pth\n"
     ]
    },
    {
     "data": {
      "application/vnd.jupyter.widget-view+json": {
       "model_id": "a594877aece24f36ae12c583fc094a13",
       "version_major": 2,
       "version_minor": 0
      },
      "text/plain": [
       "Epoch [246/300]:   0%|          | 0/500 [00:00<?, ?it/s]"
      ]
     },
     "metadata": {},
     "output_type": "display_data"
    },
    {
     "name": "stdout",
     "output_type": "stream",
     "text": [
      "Epoch 246/300 — Recon: 0.0101, Disc_Cat: 1.3397, Gen_Cat: 2.4490, Disc_Style: 1.3546, Gen_Style: 0.7415, SemiSup: 0.0172\n",
      "Validation Accuracy: 97.50%\n",
      "\n",
      "Weights saved to semisupervised_results/300_epochs_adam_results/weights_*.pth\n"
     ]
    },
    {
     "data": {
      "application/vnd.jupyter.widget-view+json": {
       "model_id": "85e9ec1fe0a84e14b2a2472b1ccf2c8c",
       "version_major": 2,
       "version_minor": 0
      },
      "text/plain": [
       "Epoch [247/300]:   0%|          | 0/500 [00:00<?, ?it/s]"
      ]
     },
     "metadata": {},
     "output_type": "display_data"
    },
    {
     "name": "stdout",
     "output_type": "stream",
     "text": [
      "Epoch 247/300 — Recon: 0.0101, Disc_Cat: 1.3440, Gen_Cat: 2.3959, Disc_Style: 1.3540, Gen_Style: 0.7422, SemiSup: 0.0170\n",
      "Validation Accuracy: 97.62%\n",
      "\n",
      "Weights saved to semisupervised_results/300_epochs_adam_results/weights_*.pth\n"
     ]
    },
    {
     "data": {
      "application/vnd.jupyter.widget-view+json": {
       "model_id": "e6a042326e0a4ee88ee10f239d5300ce",
       "version_major": 2,
       "version_minor": 0
      },
      "text/plain": [
       "Epoch [248/300]:   0%|          | 0/500 [00:00<?, ?it/s]"
      ]
     },
     "metadata": {},
     "output_type": "display_data"
    },
    {
     "name": "stdout",
     "output_type": "stream",
     "text": [
      "Epoch 248/300 — Recon: 0.0101, Disc_Cat: 1.3424, Gen_Cat: 2.4048, Disc_Style: 1.3514, Gen_Style: 0.7422, SemiSup: 0.0173\n",
      "Validation Accuracy: 97.45%\n",
      "\n",
      "Weights saved to semisupervised_results/300_epochs_adam_results/weights_*.pth\n"
     ]
    },
    {
     "data": {
      "application/vnd.jupyter.widget-view+json": {
       "model_id": "0e9445714a79402f8373d38d6db6f1e9",
       "version_major": 2,
       "version_minor": 0
      },
      "text/plain": [
       "Epoch [249/300]:   0%|          | 0/500 [00:00<?, ?it/s]"
      ]
     },
     "metadata": {},
     "output_type": "display_data"
    },
    {
     "name": "stdout",
     "output_type": "stream",
     "text": [
      "Epoch 249/300 — Recon: 0.0101, Disc_Cat: 1.3437, Gen_Cat: 2.3874, Disc_Style: 1.3529, Gen_Style: 0.7416, SemiSup: 0.0173\n",
      "Validation Accuracy: 97.55%\n",
      "\n",
      "Weights saved to semisupervised_results/300_epochs_adam_results/weights_*.pth\n"
     ]
    },
    {
     "data": {
      "application/vnd.jupyter.widget-view+json": {
       "model_id": "81c2ff352fef4d9ea8d4ac55b4f21415",
       "version_major": 2,
       "version_minor": 0
      },
      "text/plain": [
       "Epoch [250/300]:   0%|          | 0/500 [00:00<?, ?it/s]"
      ]
     },
     "metadata": {},
     "output_type": "display_data"
    },
    {
     "name": "stdout",
     "output_type": "stream",
     "text": [
      "Epoch 250/300 — Recon: 0.0101, Disc_Cat: 1.3419, Gen_Cat: 2.4166, Disc_Style: 1.3554, Gen_Style: 0.7421, SemiSup: 0.0173\n",
      "Validation Accuracy: 97.59%\n",
      "\n",
      "Weights saved to semisupervised_results/300_epochs_adam_results/weights_*.pth\n"
     ]
    },
    {
     "data": {
      "application/vnd.jupyter.widget-view+json": {
       "model_id": "17c74cb0f32e4c42bf90bcf44c17427f",
       "version_major": 2,
       "version_minor": 0
      },
      "text/plain": [
       "Epoch [251/300]:   0%|          | 0/500 [00:00<?, ?it/s]"
      ]
     },
     "metadata": {},
     "output_type": "display_data"
    },
    {
     "name": "stdout",
     "output_type": "stream",
     "text": [
      "Epoch 251/300 — Recon: 0.0101, Disc_Cat: 1.3441, Gen_Cat: 2.3676, Disc_Style: 1.3531, Gen_Style: 0.7423, SemiSup: 0.0167\n",
      "Validation Accuracy: 97.53%\n",
      "\n",
      "Weights saved to semisupervised_results/300_epochs_adam_results/weights_*.pth\n"
     ]
    },
    {
     "data": {
      "application/vnd.jupyter.widget-view+json": {
       "model_id": "2e1df5405b3e4f9dbd454f62ccce5af8",
       "version_major": 2,
       "version_minor": 0
      },
      "text/plain": [
       "Epoch [252/300]:   0%|          | 0/500 [00:00<?, ?it/s]"
      ]
     },
     "metadata": {},
     "output_type": "display_data"
    },
    {
     "name": "stdout",
     "output_type": "stream",
     "text": [
      "Epoch 252/300 — Recon: 0.0101, Disc_Cat: 1.3436, Gen_Cat: 2.3941, Disc_Style: 1.3530, Gen_Style: 0.7423, SemiSup: 0.0172\n",
      "Validation Accuracy: 97.50%\n",
      "\n",
      "Weights saved to semisupervised_results/300_epochs_adam_results/weights_*.pth\n"
     ]
    },
    {
     "data": {
      "application/vnd.jupyter.widget-view+json": {
       "model_id": "7d1ecebe22864b9e91c55bd8cc7132c2",
       "version_major": 2,
       "version_minor": 0
      },
      "text/plain": [
       "Epoch [253/300]:   0%|          | 0/500 [00:00<?, ?it/s]"
      ]
     },
     "metadata": {},
     "output_type": "display_data"
    },
    {
     "name": "stdout",
     "output_type": "stream",
     "text": [
      "Epoch 253/300 — Recon: 0.0101, Disc_Cat: 1.3457, Gen_Cat: 2.3975, Disc_Style: 1.3522, Gen_Style: 0.7409, SemiSup: 0.0170\n",
      "Validation Accuracy: 97.58%\n",
      "\n",
      "Weights saved to semisupervised_results/300_epochs_adam_results/weights_*.pth\n"
     ]
    },
    {
     "data": {
      "application/vnd.jupyter.widget-view+json": {
       "model_id": "0989e18a7758492aabde54a1e449b80c",
       "version_major": 2,
       "version_minor": 0
      },
      "text/plain": [
       "Epoch [254/300]:   0%|          | 0/500 [00:00<?, ?it/s]"
      ]
     },
     "metadata": {},
     "output_type": "display_data"
    },
    {
     "name": "stdout",
     "output_type": "stream",
     "text": [
      "Epoch 254/300 — Recon: 0.0101, Disc_Cat: 1.3430, Gen_Cat: 2.4375, Disc_Style: 1.3559, Gen_Style: 0.7413, SemiSup: 0.0171\n",
      "Validation Accuracy: 97.56%\n",
      "\n",
      "Weights saved to semisupervised_results/300_epochs_adam_results/weights_*.pth\n"
     ]
    },
    {
     "data": {
      "application/vnd.jupyter.widget-view+json": {
       "model_id": "83311356724b4f02a3a6f4509028017f",
       "version_major": 2,
       "version_minor": 0
      },
      "text/plain": [
       "Epoch [255/300]:   0%|          | 0/500 [00:00<?, ?it/s]"
      ]
     },
     "metadata": {},
     "output_type": "display_data"
    },
    {
     "name": "stdout",
     "output_type": "stream",
     "text": [
      "Epoch 255/300 — Recon: 0.0101, Disc_Cat: 1.3453, Gen_Cat: 2.3948, Disc_Style: 1.3549, Gen_Style: 0.7419, SemiSup: 0.0166\n",
      "Validation Accuracy: 97.54%\n",
      "\n",
      "Weights saved to semisupervised_results/300_epochs_adam_results/weights_*.pth\n"
     ]
    },
    {
     "data": {
      "application/vnd.jupyter.widget-view+json": {
       "model_id": "5e93b0d07343422c89ebf8f8ae17094a",
       "version_major": 2,
       "version_minor": 0
      },
      "text/plain": [
       "Epoch [256/300]:   0%|          | 0/500 [00:00<?, ?it/s]"
      ]
     },
     "metadata": {},
     "output_type": "display_data"
    },
    {
     "name": "stdout",
     "output_type": "stream",
     "text": [
      "Epoch 256/300 — Recon: 0.0101, Disc_Cat: 1.3441, Gen_Cat: 2.4042, Disc_Style: 1.3526, Gen_Style: 0.7423, SemiSup: 0.0166\n",
      "Validation Accuracy: 97.55%\n",
      "\n",
      "Weights saved to semisupervised_results/300_epochs_adam_results/weights_*.pth\n"
     ]
    },
    {
     "data": {
      "application/vnd.jupyter.widget-view+json": {
       "model_id": "d4ab5b54d8ce44948145e33fbb1e1a0d",
       "version_major": 2,
       "version_minor": 0
      },
      "text/plain": [
       "Epoch [257/300]:   0%|          | 0/500 [00:00<?, ?it/s]"
      ]
     },
     "metadata": {},
     "output_type": "display_data"
    },
    {
     "name": "stdout",
     "output_type": "stream",
     "text": [
      "Epoch 257/300 — Recon: 0.0100, Disc_Cat: 1.3455, Gen_Cat: 2.3807, Disc_Style: 1.3514, Gen_Style: 0.7439, SemiSup: 0.0169\n",
      "Validation Accuracy: 97.53%\n",
      "\n",
      "Weights saved to semisupervised_results/300_epochs_adam_results/weights_*.pth\n"
     ]
    },
    {
     "data": {
      "application/vnd.jupyter.widget-view+json": {
       "model_id": "501205e3cc094248830ba1b8fd3b44ec",
       "version_major": 2,
       "version_minor": 0
      },
      "text/plain": [
       "Epoch [258/300]:   0%|          | 0/500 [00:00<?, ?it/s]"
      ]
     },
     "metadata": {},
     "output_type": "display_data"
    },
    {
     "name": "stdout",
     "output_type": "stream",
     "text": [
      "Epoch 258/300 — Recon: 0.0100, Disc_Cat: 1.3445, Gen_Cat: 2.3779, Disc_Style: 1.3498, Gen_Style: 0.7459, SemiSup: 0.0162\n",
      "Validation Accuracy: 97.58%\n",
      "\n",
      "Weights saved to semisupervised_results/300_epochs_adam_results/weights_*.pth\n"
     ]
    },
    {
     "data": {
      "application/vnd.jupyter.widget-view+json": {
       "model_id": "d1ec325c56564f9e86b9316cda4a6eb2",
       "version_major": 2,
       "version_minor": 0
      },
      "text/plain": [
       "Epoch [259/300]:   0%|          | 0/500 [00:00<?, ?it/s]"
      ]
     },
     "metadata": {},
     "output_type": "display_data"
    },
    {
     "name": "stdout",
     "output_type": "stream",
     "text": [
      "Epoch 259/300 — Recon: 0.0100, Disc_Cat: 1.3424, Gen_Cat: 2.4034, Disc_Style: 1.3513, Gen_Style: 0.7436, SemiSup: 0.0162\n",
      "Validation Accuracy: 97.56%\n",
      "\n",
      "Weights saved to semisupervised_results/300_epochs_adam_results/weights_*.pth\n"
     ]
    },
    {
     "data": {
      "application/vnd.jupyter.widget-view+json": {
       "model_id": "23f4526ddb2747fe9ac9024540aa9735",
       "version_major": 2,
       "version_minor": 0
      },
      "text/plain": [
       "Epoch [260/300]:   0%|          | 0/500 [00:00<?, ?it/s]"
      ]
     },
     "metadata": {},
     "output_type": "display_data"
    },
    {
     "name": "stdout",
     "output_type": "stream",
     "text": [
      "Epoch 260/300 — Recon: 0.0100, Disc_Cat: 1.3440, Gen_Cat: 2.3904, Disc_Style: 1.3529, Gen_Style: 0.7416, SemiSup: 0.0166\n",
      "Validation Accuracy: 97.58%\n",
      "\n",
      "Weights saved to semisupervised_results/300_epochs_adam_results/weights_*.pth\n"
     ]
    },
    {
     "data": {
      "application/vnd.jupyter.widget-view+json": {
       "model_id": "ec5396877fdb4addae4523c705ec4ca8",
       "version_major": 2,
       "version_minor": 0
      },
      "text/plain": [
       "Epoch [261/300]:   0%|          | 0/500 [00:00<?, ?it/s]"
      ]
     },
     "metadata": {},
     "output_type": "display_data"
    },
    {
     "name": "stdout",
     "output_type": "stream",
     "text": [
      "Epoch 261/300 — Recon: 0.0100, Disc_Cat: 1.3430, Gen_Cat: 2.4000, Disc_Style: 1.3494, Gen_Style: 0.7459, SemiSup: 0.0168\n",
      "Validation Accuracy: 97.53%\n",
      "\n",
      "Weights saved to semisupervised_results/300_epochs_adam_results/weights_*.pth\n"
     ]
    },
    {
     "data": {
      "application/vnd.jupyter.widget-view+json": {
       "model_id": "bd70795d9ac745a68dbd053e7b333016",
       "version_major": 2,
       "version_minor": 0
      },
      "text/plain": [
       "Epoch [262/300]:   0%|          | 0/500 [00:00<?, ?it/s]"
      ]
     },
     "metadata": {},
     "output_type": "display_data"
    },
    {
     "name": "stdout",
     "output_type": "stream",
     "text": [
      "Epoch 262/300 — Recon: 0.0100, Disc_Cat: 1.3442, Gen_Cat: 2.3766, Disc_Style: 1.3531, Gen_Style: 0.7421, SemiSup: 0.0168\n",
      "Validation Accuracy: 97.57%\n",
      "\n",
      "Weights saved to semisupervised_results/300_epochs_adam_results/weights_*.pth\n"
     ]
    },
    {
     "data": {
      "application/vnd.jupyter.widget-view+json": {
       "model_id": "e70471b532914977ac47ceafc2b0fc32",
       "version_major": 2,
       "version_minor": 0
      },
      "text/plain": [
       "Epoch [263/300]:   0%|          | 0/500 [00:00<?, ?it/s]"
      ]
     },
     "metadata": {},
     "output_type": "display_data"
    },
    {
     "name": "stdout",
     "output_type": "stream",
     "text": [
      "Epoch 263/300 — Recon: 0.0100, Disc_Cat: 1.3433, Gen_Cat: 2.4058, Disc_Style: 1.3544, Gen_Style: 0.7422, SemiSup: 0.0159\n",
      "Validation Accuracy: 97.50%\n",
      "\n",
      "Weights saved to semisupervised_results/300_epochs_adam_results/weights_*.pth\n"
     ]
    },
    {
     "data": {
      "application/vnd.jupyter.widget-view+json": {
       "model_id": "47935b986d7c46fcbf4a0beb18b1ea9a",
       "version_major": 2,
       "version_minor": 0
      },
      "text/plain": [
       "Epoch [264/300]:   0%|          | 0/500 [00:00<?, ?it/s]"
      ]
     },
     "metadata": {},
     "output_type": "display_data"
    },
    {
     "name": "stdout",
     "output_type": "stream",
     "text": [
      "Epoch 264/300 — Recon: 0.0100, Disc_Cat: 1.3455, Gen_Cat: 2.3871, Disc_Style: 1.3503, Gen_Style: 0.7438, SemiSup: 0.0161\n",
      "Validation Accuracy: 97.61%\n",
      "\n",
      "Weights saved to semisupervised_results/300_epochs_adam_results/weights_*.pth\n"
     ]
    },
    {
     "data": {
      "application/vnd.jupyter.widget-view+json": {
       "model_id": "dd5e257bad7843a9a8754521925a0965",
       "version_major": 2,
       "version_minor": 0
      },
      "text/plain": [
       "Epoch [265/300]:   0%|          | 0/500 [00:00<?, ?it/s]"
      ]
     },
     "metadata": {},
     "output_type": "display_data"
    },
    {
     "name": "stdout",
     "output_type": "stream",
     "text": [
      "Epoch 265/300 — Recon: 0.0100, Disc_Cat: 1.3456, Gen_Cat: 2.3754, Disc_Style: 1.3519, Gen_Style: 0.7448, SemiSup: 0.0167\n",
      "Validation Accuracy: 97.48%\n",
      "\n",
      "Weights saved to semisupervised_results/300_epochs_adam_results/weights_*.pth\n"
     ]
    },
    {
     "data": {
      "application/vnd.jupyter.widget-view+json": {
       "model_id": "68113d149c6f4d0eb1cdf5ffd9bb53e4",
       "version_major": 2,
       "version_minor": 0
      },
      "text/plain": [
       "Epoch [266/300]:   0%|          | 0/500 [00:00<?, ?it/s]"
      ]
     },
     "metadata": {},
     "output_type": "display_data"
    },
    {
     "name": "stdout",
     "output_type": "stream",
     "text": [
      "Epoch 266/300 — Recon: 0.0100, Disc_Cat: 1.3431, Gen_Cat: 2.4156, Disc_Style: 1.3504, Gen_Style: 0.7462, SemiSup: 0.0162\n",
      "Validation Accuracy: 97.61%\n",
      "\n",
      "Weights saved to semisupervised_results/300_epochs_adam_results/weights_*.pth\n"
     ]
    },
    {
     "data": {
      "application/vnd.jupyter.widget-view+json": {
       "model_id": "324b51a41bae4f35916f991e7893c8e3",
       "version_major": 2,
       "version_minor": 0
      },
      "text/plain": [
       "Epoch [267/300]:   0%|          | 0/500 [00:00<?, ?it/s]"
      ]
     },
     "metadata": {},
     "output_type": "display_data"
    },
    {
     "name": "stdout",
     "output_type": "stream",
     "text": [
      "Epoch 267/300 — Recon: 0.0100, Disc_Cat: 1.3458, Gen_Cat: 2.3982, Disc_Style: 1.3515, Gen_Style: 0.7452, SemiSup: 0.0164\n",
      "Validation Accuracy: 97.45%\n",
      "\n",
      "Weights saved to semisupervised_results/300_epochs_adam_results/weights_*.pth\n"
     ]
    },
    {
     "data": {
      "application/vnd.jupyter.widget-view+json": {
       "model_id": "328e1a45e0cf4950a737d243c457b6e3",
       "version_major": 2,
       "version_minor": 0
      },
      "text/plain": [
       "Epoch [268/300]:   0%|          | 0/500 [00:00<?, ?it/s]"
      ]
     },
     "metadata": {},
     "output_type": "display_data"
    },
    {
     "name": "stdout",
     "output_type": "stream",
     "text": [
      "Epoch 268/300 — Recon: 0.0100, Disc_Cat: 1.3443, Gen_Cat: 2.3829, Disc_Style: 1.3507, Gen_Style: 0.7442, SemiSup: 0.0160\n",
      "Validation Accuracy: 97.44%\n",
      "\n",
      "Weights saved to semisupervised_results/300_epochs_adam_results/weights_*.pth\n"
     ]
    },
    {
     "data": {
      "application/vnd.jupyter.widget-view+json": {
       "model_id": "b61036fe9054406bb6dd30fcc013a814",
       "version_major": 2,
       "version_minor": 0
      },
      "text/plain": [
       "Epoch [269/300]:   0%|          | 0/500 [00:00<?, ?it/s]"
      ]
     },
     "metadata": {},
     "output_type": "display_data"
    },
    {
     "name": "stdout",
     "output_type": "stream",
     "text": [
      "Epoch 269/300 — Recon: 0.0100, Disc_Cat: 1.3445, Gen_Cat: 2.3594, Disc_Style: 1.3496, Gen_Style: 0.7439, SemiSup: 0.0160\n",
      "Validation Accuracy: 97.51%\n",
      "\n",
      "Weights saved to semisupervised_results/300_epochs_adam_results/weights_*.pth\n"
     ]
    },
    {
     "data": {
      "application/vnd.jupyter.widget-view+json": {
       "model_id": "0c6a076bcd6e41169ea3986b0de07844",
       "version_major": 2,
       "version_minor": 0
      },
      "text/plain": [
       "Epoch [270/300]:   0%|          | 0/500 [00:00<?, ?it/s]"
      ]
     },
     "metadata": {},
     "output_type": "display_data"
    },
    {
     "name": "stdout",
     "output_type": "stream",
     "text": [
      "Epoch 270/300 — Recon: 0.0100, Disc_Cat: 1.3454, Gen_Cat: 2.3898, Disc_Style: 1.3522, Gen_Style: 0.7446, SemiSup: 0.0161\n",
      "Validation Accuracy: 97.51%\n",
      "\n",
      "Weights saved to semisupervised_results/300_epochs_adam_results/weights_*.pth\n"
     ]
    },
    {
     "data": {
      "application/vnd.jupyter.widget-view+json": {
       "model_id": "572bd5f0422a4e8d9b6070a227e6de5e",
       "version_major": 2,
       "version_minor": 0
      },
      "text/plain": [
       "Epoch [271/300]:   0%|          | 0/500 [00:00<?, ?it/s]"
      ]
     },
     "metadata": {},
     "output_type": "display_data"
    },
    {
     "name": "stdout",
     "output_type": "stream",
     "text": [
      "Epoch 271/300 — Recon: 0.0100, Disc_Cat: 1.3469, Gen_Cat: 2.3564, Disc_Style: 1.3513, Gen_Style: 0.7435, SemiSup: 0.0164\n",
      "Validation Accuracy: 97.58%\n",
      "\n",
      "Weights saved to semisupervised_results/300_epochs_adam_results/weights_*.pth\n"
     ]
    },
    {
     "data": {
      "application/vnd.jupyter.widget-view+json": {
       "model_id": "2a365c7eaeb9463590440c1f39a274b4",
       "version_major": 2,
       "version_minor": 0
      },
      "text/plain": [
       "Epoch [272/300]:   0%|          | 0/500 [00:00<?, ?it/s]"
      ]
     },
     "metadata": {},
     "output_type": "display_data"
    },
    {
     "name": "stdout",
     "output_type": "stream",
     "text": [
      "Epoch 272/300 — Recon: 0.0100, Disc_Cat: 1.3447, Gen_Cat: 2.3746, Disc_Style: 1.3514, Gen_Style: 0.7439, SemiSup: 0.0160\n",
      "Validation Accuracy: 97.47%\n",
      "\n",
      "Weights saved to semisupervised_results/300_epochs_adam_results/weights_*.pth\n"
     ]
    },
    {
     "data": {
      "application/vnd.jupyter.widget-view+json": {
       "model_id": "5298471611a14c199aa6c4bd4f91de67",
       "version_major": 2,
       "version_minor": 0
      },
      "text/plain": [
       "Epoch [273/300]:   0%|          | 0/500 [00:00<?, ?it/s]"
      ]
     },
     "metadata": {},
     "output_type": "display_data"
    },
    {
     "name": "stdout",
     "output_type": "stream",
     "text": [
      "Epoch 273/300 — Recon: 0.0100, Disc_Cat: 1.3437, Gen_Cat: 2.3833, Disc_Style: 1.3502, Gen_Style: 0.7450, SemiSup: 0.0158\n",
      "Validation Accuracy: 97.54%\n",
      "\n",
      "Weights saved to semisupervised_results/300_epochs_adam_results/weights_*.pth\n"
     ]
    },
    {
     "data": {
      "application/vnd.jupyter.widget-view+json": {
       "model_id": "ce8a96da90ca49d2bca03850710250e2",
       "version_major": 2,
       "version_minor": 0
      },
      "text/plain": [
       "Epoch [274/300]:   0%|          | 0/500 [00:00<?, ?it/s]"
      ]
     },
     "metadata": {},
     "output_type": "display_data"
    },
    {
     "name": "stdout",
     "output_type": "stream",
     "text": [
      "Epoch 274/300 — Recon: 0.0099, Disc_Cat: 1.3459, Gen_Cat: 2.3734, Disc_Style: 1.3510, Gen_Style: 0.7435, SemiSup: 0.0163\n",
      "Validation Accuracy: 97.53%\n",
      "\n",
      "Weights saved to semisupervised_results/300_epochs_adam_results/weights_*.pth\n"
     ]
    },
    {
     "data": {
      "application/vnd.jupyter.widget-view+json": {
       "model_id": "5852d737dc4540199a88d46f86663c20",
       "version_major": 2,
       "version_minor": 0
      },
      "text/plain": [
       "Epoch [275/300]:   0%|          | 0/500 [00:00<?, ?it/s]"
      ]
     },
     "metadata": {},
     "output_type": "display_data"
    },
    {
     "name": "stdout",
     "output_type": "stream",
     "text": [
      "Epoch 275/300 — Recon: 0.0099, Disc_Cat: 1.3425, Gen_Cat: 2.3955, Disc_Style: 1.3500, Gen_Style: 0.7455, SemiSup: 0.0163\n",
      "Validation Accuracy: 97.51%\n",
      "\n",
      "Weights saved to semisupervised_results/300_epochs_adam_results/weights_*.pth\n"
     ]
    },
    {
     "data": {
      "application/vnd.jupyter.widget-view+json": {
       "model_id": "f0a48b056fec4bb3aa30466f20118533",
       "version_major": 2,
       "version_minor": 0
      },
      "text/plain": [
       "Epoch [276/300]:   0%|          | 0/500 [00:00<?, ?it/s]"
      ]
     },
     "metadata": {},
     "output_type": "display_data"
    },
    {
     "name": "stdout",
     "output_type": "stream",
     "text": [
      "Epoch 276/300 — Recon: 0.0099, Disc_Cat: 1.3436, Gen_Cat: 2.3952, Disc_Style: 1.3499, Gen_Style: 0.7446, SemiSup: 0.0161\n",
      "Validation Accuracy: 97.55%\n",
      "\n",
      "Weights saved to semisupervised_results/300_epochs_adam_results/weights_*.pth\n"
     ]
    },
    {
     "data": {
      "application/vnd.jupyter.widget-view+json": {
       "model_id": "0c60b191ea71495988b560888556bb8f",
       "version_major": 2,
       "version_minor": 0
      },
      "text/plain": [
       "Epoch [277/300]:   0%|          | 0/500 [00:00<?, ?it/s]"
      ]
     },
     "metadata": {},
     "output_type": "display_data"
    },
    {
     "name": "stdout",
     "output_type": "stream",
     "text": [
      "Epoch 277/300 — Recon: 0.0099, Disc_Cat: 1.3431, Gen_Cat: 2.3774, Disc_Style: 1.3496, Gen_Style: 0.7460, SemiSup: 0.0160\n",
      "Validation Accuracy: 97.52%\n",
      "\n",
      "Weights saved to semisupervised_results/300_epochs_adam_results/weights_*.pth\n"
     ]
    },
    {
     "data": {
      "application/vnd.jupyter.widget-view+json": {
       "model_id": "268439547adb460d91bc76512eb5a33e",
       "version_major": 2,
       "version_minor": 0
      },
      "text/plain": [
       "Epoch [278/300]:   0%|          | 0/500 [00:00<?, ?it/s]"
      ]
     },
     "metadata": {},
     "output_type": "display_data"
    },
    {
     "name": "stdout",
     "output_type": "stream",
     "text": [
      "Epoch 278/300 — Recon: 0.0099, Disc_Cat: 1.3430, Gen_Cat: 2.3966, Disc_Style: 1.3502, Gen_Style: 0.7453, SemiSup: 0.0157\n",
      "Validation Accuracy: 97.49%\n",
      "\n",
      "Weights saved to semisupervised_results/300_epochs_adam_results/weights_*.pth\n"
     ]
    },
    {
     "data": {
      "application/vnd.jupyter.widget-view+json": {
       "model_id": "9d7f341486094c26b467f94dad339625",
       "version_major": 2,
       "version_minor": 0
      },
      "text/plain": [
       "Epoch [279/300]:   0%|          | 0/500 [00:00<?, ?it/s]"
      ]
     },
     "metadata": {},
     "output_type": "display_data"
    },
    {
     "name": "stdout",
     "output_type": "stream",
     "text": [
      "Epoch 279/300 — Recon: 0.0099, Disc_Cat: 1.3441, Gen_Cat: 2.3836, Disc_Style: 1.3485, Gen_Style: 0.7450, SemiSup: 0.0157\n",
      "Validation Accuracy: 97.40%\n",
      "\n",
      "Weights saved to semisupervised_results/300_epochs_adam_results/weights_*.pth\n"
     ]
    },
    {
     "data": {
      "application/vnd.jupyter.widget-view+json": {
       "model_id": "a2af7714aaa240efbc16db17805d7189",
       "version_major": 2,
       "version_minor": 0
      },
      "text/plain": [
       "Epoch [280/300]:   0%|          | 0/500 [00:00<?, ?it/s]"
      ]
     },
     "metadata": {},
     "output_type": "display_data"
    },
    {
     "name": "stdout",
     "output_type": "stream",
     "text": [
      "Epoch 280/300 — Recon: 0.0099, Disc_Cat: 1.3448, Gen_Cat: 2.3595, Disc_Style: 1.3491, Gen_Style: 0.7451, SemiSup: 0.0160\n",
      "Validation Accuracy: 97.53%\n",
      "\n",
      "Weights saved to semisupervised_results/300_epochs_adam_results/weights_*.pth\n"
     ]
    },
    {
     "data": {
      "application/vnd.jupyter.widget-view+json": {
       "model_id": "7451c278365d4d69b7b9c52eaa763c2e",
       "version_major": 2,
       "version_minor": 0
      },
      "text/plain": [
       "Epoch [281/300]:   0%|          | 0/500 [00:00<?, ?it/s]"
      ]
     },
     "metadata": {},
     "output_type": "display_data"
    },
    {
     "name": "stdout",
     "output_type": "stream",
     "text": [
      "Epoch 281/300 — Recon: 0.0099, Disc_Cat: 1.3440, Gen_Cat: 2.3841, Disc_Style: 1.3498, Gen_Style: 0.7454, SemiSup: 0.0154\n",
      "Validation Accuracy: 97.51%\n",
      "\n",
      "Weights saved to semisupervised_results/300_epochs_adam_results/weights_*.pth\n"
     ]
    },
    {
     "data": {
      "application/vnd.jupyter.widget-view+json": {
       "model_id": "4e77d90c73cf410c89dc56ffc0ee5c1d",
       "version_major": 2,
       "version_minor": 0
      },
      "text/plain": [
       "Epoch [282/300]:   0%|          | 0/500 [00:00<?, ?it/s]"
      ]
     },
     "metadata": {},
     "output_type": "display_data"
    },
    {
     "name": "stdout",
     "output_type": "stream",
     "text": [
      "Epoch 282/300 — Recon: 0.0099, Disc_Cat: 1.3441, Gen_Cat: 2.3759, Disc_Style: 1.3513, Gen_Style: 0.7449, SemiSup: 0.0155\n",
      "Validation Accuracy: 97.50%\n",
      "\n",
      "Weights saved to semisupervised_results/300_epochs_adam_results/weights_*.pth\n"
     ]
    },
    {
     "data": {
      "application/vnd.jupyter.widget-view+json": {
       "model_id": "421d3d52d03d4847bb00e4828d5bb7be",
       "version_major": 2,
       "version_minor": 0
      },
      "text/plain": [
       "Epoch [283/300]:   0%|          | 0/500 [00:00<?, ?it/s]"
      ]
     },
     "metadata": {},
     "output_type": "display_data"
    },
    {
     "name": "stdout",
     "output_type": "stream",
     "text": [
      "Epoch 283/300 — Recon: 0.0099, Disc_Cat: 1.3453, Gen_Cat: 2.3797, Disc_Style: 1.3498, Gen_Style: 0.7478, SemiSup: 0.0154\n",
      "Validation Accuracy: 97.56%\n",
      "\n",
      "Weights saved to semisupervised_results/300_epochs_adam_results/weights_*.pth\n"
     ]
    },
    {
     "data": {
      "application/vnd.jupyter.widget-view+json": {
       "model_id": "bec57c4e8e194a3fbf0f6abcd6c01fc5",
       "version_major": 2,
       "version_minor": 0
      },
      "text/plain": [
       "Epoch [284/300]:   0%|          | 0/500 [00:00<?, ?it/s]"
      ]
     },
     "metadata": {},
     "output_type": "display_data"
    },
    {
     "name": "stdout",
     "output_type": "stream",
     "text": [
      "Epoch 284/300 — Recon: 0.0099, Disc_Cat: 1.3440, Gen_Cat: 2.3781, Disc_Style: 1.3502, Gen_Style: 0.7444, SemiSup: 0.0158\n",
      "Validation Accuracy: 97.45%\n",
      "\n",
      "Weights saved to semisupervised_results/300_epochs_adam_results/weights_*.pth\n"
     ]
    },
    {
     "data": {
      "application/vnd.jupyter.widget-view+json": {
       "model_id": "72b1dcf1f8354546be08a75509ed6689",
       "version_major": 2,
       "version_minor": 0
      },
      "text/plain": [
       "Epoch [285/300]:   0%|          | 0/500 [00:00<?, ?it/s]"
      ]
     },
     "metadata": {},
     "output_type": "display_data"
    },
    {
     "name": "stdout",
     "output_type": "stream",
     "text": [
      "Epoch 285/300 — Recon: 0.0099, Disc_Cat: 1.3420, Gen_Cat: 2.3867, Disc_Style: 1.3491, Gen_Style: 0.7471, SemiSup: 0.0156\n",
      "Validation Accuracy: 97.52%\n",
      "\n",
      "Weights saved to semisupervised_results/300_epochs_adam_results/weights_*.pth\n"
     ]
    },
    {
     "data": {
      "application/vnd.jupyter.widget-view+json": {
       "model_id": "d149068c32ed45f1a1c7e6d45271b0ab",
       "version_major": 2,
       "version_minor": 0
      },
      "text/plain": [
       "Epoch [286/300]:   0%|          | 0/500 [00:00<?, ?it/s]"
      ]
     },
     "metadata": {},
     "output_type": "display_data"
    },
    {
     "name": "stdout",
     "output_type": "stream",
     "text": [
      "Epoch 286/300 — Recon: 0.0099, Disc_Cat: 1.3450, Gen_Cat: 2.3609, Disc_Style: 1.3503, Gen_Style: 0.7457, SemiSup: 0.0159\n",
      "Validation Accuracy: 97.49%\n",
      "\n",
      "Weights saved to semisupervised_results/300_epochs_adam_results/weights_*.pth\n"
     ]
    },
    {
     "data": {
      "application/vnd.jupyter.widget-view+json": {
       "model_id": "f745b6558308439a9c777657ed5e0171",
       "version_major": 2,
       "version_minor": 0
      },
      "text/plain": [
       "Epoch [287/300]:   0%|          | 0/500 [00:00<?, ?it/s]"
      ]
     },
     "metadata": {},
     "output_type": "display_data"
    },
    {
     "name": "stdout",
     "output_type": "stream",
     "text": [
      "Epoch 287/300 — Recon: 0.0099, Disc_Cat: 1.3472, Gen_Cat: 2.3480, Disc_Style: 1.3488, Gen_Style: 0.7479, SemiSup: 0.0158\n",
      "Validation Accuracy: 97.56%\n",
      "\n",
      "Weights saved to semisupervised_results/300_epochs_adam_results/weights_*.pth\n"
     ]
    },
    {
     "data": {
      "application/vnd.jupyter.widget-view+json": {
       "model_id": "3a3c7bc132804cf1998577c163ca0d52",
       "version_major": 2,
       "version_minor": 0
      },
      "text/plain": [
       "Epoch [288/300]:   0%|          | 0/500 [00:00<?, ?it/s]"
      ]
     },
     "metadata": {},
     "output_type": "display_data"
    },
    {
     "name": "stdout",
     "output_type": "stream",
     "text": [
      "Epoch 288/300 — Recon: 0.0099, Disc_Cat: 1.3464, Gen_Cat: 2.3650, Disc_Style: 1.3502, Gen_Style: 0.7448, SemiSup: 0.0155\n",
      "Validation Accuracy: 97.51%\n",
      "\n",
      "Weights saved to semisupervised_results/300_epochs_adam_results/weights_*.pth\n"
     ]
    },
    {
     "data": {
      "application/vnd.jupyter.widget-view+json": {
       "model_id": "1008708e04f44309bb32eccb68d60ee6",
       "version_major": 2,
       "version_minor": 0
      },
      "text/plain": [
       "Epoch [289/300]:   0%|          | 0/500 [00:00<?, ?it/s]"
      ]
     },
     "metadata": {},
     "output_type": "display_data"
    },
    {
     "name": "stdout",
     "output_type": "stream",
     "text": [
      "Epoch 289/300 — Recon: 0.0099, Disc_Cat: 1.3454, Gen_Cat: 2.3699, Disc_Style: 1.3494, Gen_Style: 0.7469, SemiSup: 0.0153\n",
      "Validation Accuracy: 97.49%\n",
      "\n",
      "Weights saved to semisupervised_results/300_epochs_adam_results/weights_*.pth\n"
     ]
    },
    {
     "data": {
      "application/vnd.jupyter.widget-view+json": {
       "model_id": "775ba19a616b438f985280b23d3a1d85",
       "version_major": 2,
       "version_minor": 0
      },
      "text/plain": [
       "Epoch [290/300]:   0%|          | 0/500 [00:00<?, ?it/s]"
      ]
     },
     "metadata": {},
     "output_type": "display_data"
    },
    {
     "name": "stdout",
     "output_type": "stream",
     "text": [
      "Epoch 290/300 — Recon: 0.0099, Disc_Cat: 1.3447, Gen_Cat: 2.3628, Disc_Style: 1.3497, Gen_Style: 0.7466, SemiSup: 0.0155\n",
      "Validation Accuracy: 97.46%\n",
      "\n",
      "Weights saved to semisupervised_results/300_epochs_adam_results/weights_*.pth\n"
     ]
    },
    {
     "data": {
      "application/vnd.jupyter.widget-view+json": {
       "model_id": "2035bf123fd4462e8404dc1bffa2b2e7",
       "version_major": 2,
       "version_minor": 0
      },
      "text/plain": [
       "Epoch [291/300]:   0%|          | 0/500 [00:00<?, ?it/s]"
      ]
     },
     "metadata": {},
     "output_type": "display_data"
    },
    {
     "name": "stdout",
     "output_type": "stream",
     "text": [
      "Epoch 291/300 — Recon: 0.0099, Disc_Cat: 1.3459, Gen_Cat: 2.3444, Disc_Style: 1.3489, Gen_Style: 0.7477, SemiSup: 0.0155\n",
      "Validation Accuracy: 97.49%\n",
      "\n",
      "Weights saved to semisupervised_results/300_epochs_adam_results/weights_*.pth\n"
     ]
    },
    {
     "data": {
      "application/vnd.jupyter.widget-view+json": {
       "model_id": "7d69e3598b734740b2ff01ad46b14b2c",
       "version_major": 2,
       "version_minor": 0
      },
      "text/plain": [
       "Epoch [292/300]:   0%|          | 0/500 [00:00<?, ?it/s]"
      ]
     },
     "metadata": {},
     "output_type": "display_data"
    },
    {
     "name": "stdout",
     "output_type": "stream",
     "text": [
      "Epoch 292/300 — Recon: 0.0099, Disc_Cat: 1.3443, Gen_Cat: 2.3674, Disc_Style: 1.3501, Gen_Style: 0.7491, SemiSup: 0.0156\n",
      "Validation Accuracy: 97.55%\n",
      "\n",
      "Weights saved to semisupervised_results/300_epochs_adam_results/weights_*.pth\n"
     ]
    },
    {
     "data": {
      "application/vnd.jupyter.widget-view+json": {
       "model_id": "62e4699f07bc4902b6bac90b03056f77",
       "version_major": 2,
       "version_minor": 0
      },
      "text/plain": [
       "Epoch [293/300]:   0%|          | 0/500 [00:00<?, ?it/s]"
      ]
     },
     "metadata": {},
     "output_type": "display_data"
    },
    {
     "name": "stdout",
     "output_type": "stream",
     "text": [
      "Epoch 293/300 — Recon: 0.0098, Disc_Cat: 1.3433, Gen_Cat: 2.3878, Disc_Style: 1.3472, Gen_Style: 0.7494, SemiSup: 0.0154\n",
      "Validation Accuracy: 97.50%\n",
      "\n",
      "Weights saved to semisupervised_results/300_epochs_adam_results/weights_*.pth\n"
     ]
    },
    {
     "data": {
      "application/vnd.jupyter.widget-view+json": {
       "model_id": "850aae18e2854ea8b82a5609f9330905",
       "version_major": 2,
       "version_minor": 0
      },
      "text/plain": [
       "Epoch [294/300]:   0%|          | 0/500 [00:00<?, ?it/s]"
      ]
     },
     "metadata": {},
     "output_type": "display_data"
    },
    {
     "name": "stdout",
     "output_type": "stream",
     "text": [
      "Epoch 294/300 — Recon: 0.0099, Disc_Cat: 1.3423, Gen_Cat: 2.3890, Disc_Style: 1.3486, Gen_Style: 0.7480, SemiSup: 0.0155\n",
      "Validation Accuracy: 97.42%\n",
      "\n",
      "Weights saved to semisupervised_results/300_epochs_adam_results/weights_*.pth\n"
     ]
    },
    {
     "data": {
      "application/vnd.jupyter.widget-view+json": {
       "model_id": "fc0fa778c3b942279b7413c315d8c29f",
       "version_major": 2,
       "version_minor": 0
      },
      "text/plain": [
       "Epoch [295/300]:   0%|          | 0/500 [00:00<?, ?it/s]"
      ]
     },
     "metadata": {},
     "output_type": "display_data"
    },
    {
     "name": "stdout",
     "output_type": "stream",
     "text": [
      "Epoch 295/300 — Recon: 0.0098, Disc_Cat: 1.3445, Gen_Cat: 2.3624, Disc_Style: 1.3469, Gen_Style: 0.7484, SemiSup: 0.0155\n",
      "Validation Accuracy: 97.46%\n",
      "\n",
      "Weights saved to semisupervised_results/300_epochs_adam_results/weights_*.pth\n"
     ]
    },
    {
     "data": {
      "application/vnd.jupyter.widget-view+json": {
       "model_id": "db1613ad30ea44789b4bccdc2736bbb8",
       "version_major": 2,
       "version_minor": 0
      },
      "text/plain": [
       "Epoch [296/300]:   0%|          | 0/500 [00:00<?, ?it/s]"
      ]
     },
     "metadata": {},
     "output_type": "display_data"
    },
    {
     "name": "stdout",
     "output_type": "stream",
     "text": [
      "Epoch 296/300 — Recon: 0.0098, Disc_Cat: 1.3453, Gen_Cat: 2.3835, Disc_Style: 1.3487, Gen_Style: 0.7465, SemiSup: 0.0153\n",
      "Validation Accuracy: 97.45%\n",
      "\n",
      "Weights saved to semisupervised_results/300_epochs_adam_results/weights_*.pth\n"
     ]
    },
    {
     "data": {
      "application/vnd.jupyter.widget-view+json": {
       "model_id": "70b3dc66fc7c4c899e251182a4625f56",
       "version_major": 2,
       "version_minor": 0
      },
      "text/plain": [
       "Epoch [297/300]:   0%|          | 0/500 [00:00<?, ?it/s]"
      ]
     },
     "metadata": {},
     "output_type": "display_data"
    },
    {
     "name": "stdout",
     "output_type": "stream",
     "text": [
      "Epoch 297/300 — Recon: 0.0098, Disc_Cat: 1.3449, Gen_Cat: 2.3679, Disc_Style: 1.3493, Gen_Style: 0.7480, SemiSup: 0.0151\n",
      "Validation Accuracy: 97.47%\n",
      "\n",
      "Weights saved to semisupervised_results/300_epochs_adam_results/weights_*.pth\n"
     ]
    },
    {
     "data": {
      "application/vnd.jupyter.widget-view+json": {
       "model_id": "9c077fbfc8f54e90b1eb88516b37a9b9",
       "version_major": 2,
       "version_minor": 0
      },
      "text/plain": [
       "Epoch [298/300]:   0%|          | 0/500 [00:00<?, ?it/s]"
      ]
     },
     "metadata": {},
     "output_type": "display_data"
    },
    {
     "name": "stdout",
     "output_type": "stream",
     "text": [
      "Epoch 298/300 — Recon: 0.0098, Disc_Cat: 1.3444, Gen_Cat: 2.3830, Disc_Style: 1.3453, Gen_Style: 0.7487, SemiSup: 0.0153\n",
      "Validation Accuracy: 97.44%\n",
      "\n",
      "Weights saved to semisupervised_results/300_epochs_adam_results/weights_*.pth\n"
     ]
    },
    {
     "data": {
      "application/vnd.jupyter.widget-view+json": {
       "model_id": "d49d035a9fa54bd7b7a36c3266648d48",
       "version_major": 2,
       "version_minor": 0
      },
      "text/plain": [
       "Epoch [299/300]:   0%|          | 0/500 [00:00<?, ?it/s]"
      ]
     },
     "metadata": {},
     "output_type": "display_data"
    },
    {
     "name": "stdout",
     "output_type": "stream",
     "text": [
      "Epoch 299/300 — Recon: 0.0098, Disc_Cat: 1.3449, Gen_Cat: 2.3686, Disc_Style: 1.3485, Gen_Style: 0.7487, SemiSup: 0.0152\n",
      "Validation Accuracy: 97.48%\n",
      "\n",
      "Weights saved to semisupervised_results/300_epochs_adam_results/weights_*.pth\n"
     ]
    },
    {
     "data": {
      "application/vnd.jupyter.widget-view+json": {
       "model_id": "bc7c805d21714f8697452e1a6f9a67d9",
       "version_major": 2,
       "version_minor": 0
      },
      "text/plain": [
       "Epoch [300/300]:   0%|          | 0/500 [00:00<?, ?it/s]"
      ]
     },
     "metadata": {},
     "output_type": "display_data"
    },
    {
     "name": "stdout",
     "output_type": "stream",
     "text": [
      "Epoch 300/300 — Recon: 0.0098, Disc_Cat: 1.3465, Gen_Cat: 2.3371, Disc_Style: 1.3456, Gen_Style: 0.7504, SemiSup: 0.0150\n",
      "Validation Accuracy: 97.57%\n",
      "\n",
      "Weights saved to semisupervised_results/300_epochs_adam_results/weights_*.pth\n"
     ]
    }
   ],
   "source": [
    "model.train_mbgd(\n",
    "    train_loader=train_loader,\n",
    "    val_loader=val_loader,\n",
    "    epochs=NUM_EPOCHS,\n",
    "    prior_std=PRIOR_STD,\n",
    "    result_folder=\"semisupervised_results/300_epochs_adam_results\"\n",
    ")"
   ]
  },
  {
   "cell_type": "code",
   "execution_count": 10,
   "metadata": {},
   "outputs": [],
   "source": [
    "all_probs, all_preds = [], []\n",
    "for imgs, _ in test_loader:\n",
    "    probs, preds = model.predict(imgs)\n",
    "    all_probs.append(probs.cpu())\n",
    "    all_preds.append(preds.cpu())\n",
    "\n",
    "all_probs = torch.cat(all_probs, dim=0)\n",
    "all_preds = torch.cat(all_preds, dim=0)"
   ]
  },
  {
   "cell_type": "code",
   "execution_count": 11,
   "metadata": {},
   "outputs": [
    {
     "name": "stdout",
     "output_type": "stream",
     "text": [
      "Test accuracy: 97.68%\n"
     ]
    }
   ],
   "source": [
    "num_correct = torch.eq(all_preds, Y_test).sum().item()\n",
    "accuracy = num_correct / Y_test.size(0)\n",
    "print(f\"Test accuracy: {accuracy*100:.2f}%\")"
   ]
  },
  {
   "cell_type": "code",
   "execution_count": 14,
   "metadata": {},
   "outputs": [
    {
     "name": "stdout",
     "output_type": "stream",
     "text": [
      "Weights saved to run_2_weights/aae_weights_*.pth\n"
     ]
    }
   ],
   "source": [
    "model.save_weights(\"run_2_weights/aae_weights\")"
   ]
  },
  {
   "cell_type": "markdown",
   "metadata": {},
   "source": [
    "## Image Generation"
   ]
  },
  {
   "cell_type": "code",
   "execution_count": 7,
   "metadata": {},
   "outputs": [
    {
     "name": "stdout",
     "output_type": "stream",
     "text": [
      "Weights loaded from semisupervised_results/300_epochs_adam_results/weights_*.pth\n"
     ]
    }
   ],
   "source": [
    "model.load_weights(\"semisupervised_results/300_epochs_adam_results/weights\")"
   ]
  },
  {
   "cell_type": "code",
   "execution_count": 42,
   "metadata": {},
   "outputs": [
    {
     "data": {
      "image/png": "[encoded data removed]",
      "text/plain": [
       "<Figure size 640x480 with 1 Axes>"
      ]
     },
     "metadata": {},
     "output_type": "display_data"
    }
   ],
   "source": [
    "import matplotlib.pyplot as plt\n",
    "\n",
    "img7 = model.generate_images(5, prior_std=1.0)\n",
    "plt.imshow(img7.squeeze().cpu().numpy(), cmap='gray')\n",
    "plt.axis('off')\n",
    "plt.show()"
   ]
  }
 ],
 "metadata": {
  "kernelspec": {
   "display_name": "adversarial-autoencoder-GiuVyiXw-py3.12",
   "language": "python",
   "name": "python3"
  },
  "language_info": {
   "codemirror_mode": {
    "name": "ipython",
    "version": 3
   },
   "file_extension": ".py",
   "mimetype": "text/x-python",
   "name": "python",
   "nbconvert_exporter": "python",
   "pygments_lexer": "ipython3",
   "version": "3.12.7"
  }
 },
 "nbformat": 4,
 "nbformat_minor": 2
}
