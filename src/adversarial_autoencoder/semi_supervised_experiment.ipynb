{
 "cells": [
  {
   "cell_type": "code",
   "execution_count": 2,
   "metadata": {},
   "outputs": [],
   "source": [
    "import numpy as np\n",
    "import torch\n",
    "import matplotlib.pyplot as plt\n",
    "from torchvision import datasets, transforms\n",
    "from torch.utils.data import DataLoader\n",
    "from torch import nn\n",
    "from semisupervised import SemiSupervisedAutoEncoderOptions, SemiSupervisedAdversarialAutoencoder"
   ]
  },
  {
   "cell_type": "code",
   "execution_count": 3,
   "metadata": {},
   "outputs": [],
   "source": [
    "def configure_mnist(batch_size=100):\n",
    "    # Transform: Just ToTensor (auto 0-1) + flatten\n",
    "    transform = transforms.Compose([\n",
    "        transforms.ToTensor(),  # Automatically scales pixels to [0, 1]\n",
    "        transforms.Lambda(lambda x: x.view(-1))  # Flatten\n",
    "    ])\n",
    "\n",
    "    # Load datasets (applies transform automatically)\n",
    "    train_dataset = datasets.MNIST(root='./data', train=True, transform=transform, download=True)\n",
    "    test_dataset = datasets.MNIST(root='./data', train=False, transform=transform, download=True)\n",
    "\n",
    "    # Get the actual transformed data (0-1 scaled, flattened)\n",
    "    X_train = torch.stack([x for x, _ in train_dataset])  # Exactly what DataLoader will see\n",
    "    X_test = torch.stack([x for x, _ in test_dataset])\n",
    "\n",
    "    Y_train = train_dataset.targets.clone()\n",
    "    Y_test = test_dataset.targets.clone()\n",
    "\n",
    "    # DataLoader (will serve same transformed data)\n",
    "    train_loader = DataLoader(\n",
    "        train_dataset,\n",
    "        batch_size=batch_size,\n",
    "        shuffle=True\n",
    "    )\n",
    "\n",
    "    return X_train, X_test, Y_train, Y_test, train_loader"
   ]
  },
  {
   "cell_type": "code",
   "execution_count": 5,
   "metadata": {},
   "outputs": [
    {
     "name": "stderr",
     "output_type": "stream",
     "text": [
      "100.0%\n",
      "100.0%\n",
      "100.0%\n",
      "100.0%\n"
     ]
    },
    {
     "name": "stdout",
     "output_type": "stream",
     "text": [
      "tensor(9)\n",
      "tensor(0)\n"
     ]
    }
   ],
   "source": [
    "X_train, X_test, Y_train, Y_test, train_loader = configure_mnist()\n",
    "\n",
    "print(Y_train.max())\n",
    "print(Y_train.min())"
   ]
  },
  {
   "cell_type": "code",
   "execution_count": null,
   "metadata": {},
   "outputs": [],
   "source": [
    "INPUT_DIM = 784\n",
    "BATCH_SIZE = 100\n",
    "AE_HIDDEN = 1000\n",
    "DC_HIDDEN = 1000\n",
    "LATENT_DIM_CAT = 10\n",
    "LATENT_DIM_STYLE = 15\n",
    "PRIOR_STD = 5.0\n",
    "\n",
    "recon_loss = nn.MSELoss()\n",
    "init_recon_lr = 0.01\n",
    "\n",
    "semi_sup_loss = nn.CrossEntropyLoss()\n",
    "init_semi_sup_lr = 0.01\n",
    "\n",
    "init_gen_lr = init_disc_lr = 0.1\n",
    "use_decoder_sigmoid = True"
   ]
  },
  {
   "cell_type": "code",
   "execution_count": null,
   "metadata": {},
   "outputs": [],
   "source": [
    "options = SemiSupervisedAutoEncoderOptions(\n",
    "    input_dim=INPUT_DIM,\n",
    "    batch_size=BATCH_SIZE,\n",
    "    ae_hidden=AE_HIDDEN,\n",
    "    dc_hidden=DC_HIDDEN,\n",
    "    latent_dim_categorical=LATENT_DIM_CAT,\n",
    "    latent_dim_style=LATENT_DIM_STYLE,\n",
    "    recon_loss_fn=recon_loss,\n",
    "    init_recon_lr=init_recon_lr,\n",
    "    semi_supervised_loss_fn=semi_sup_loss,\n",
    "    init_semi_sup_lr=init_semi_sup_lr,\n",
    "    init_gen_lr=init_gen_lr,\n",
    "    use_decoder_sigmoid=use_decoder_sigmoid,\n",
    "    init_disc_categorical_lr = init_disc_lr,\n",
    "    init_disc_style_lr = init_disc_lr\n",
    ")"
   ]
  },
  {
   "cell_type": "code",
   "execution_count": null,
   "metadata": {},
   "outputs": [],
   "source": []
  }
 ],
 "metadata": {
  "kernelspec": {
   "display_name": "adversarial-autoencoder-GiuVyiXw-py3.12",
   "language": "python",
   "name": "python3"
  },
  "language_info": {
   "codemirror_mode": {
    "name": "ipython",
    "version": 3
   },
   "file_extension": ".py",
   "mimetype": "text/x-python",
   "name": "python",
   "nbconvert_exporter": "python",
   "pygments_lexer": "ipython3",
   "version": "3.12.7"
  }
 },
 "nbformat": 4,
 "nbformat_minor": 2
}
