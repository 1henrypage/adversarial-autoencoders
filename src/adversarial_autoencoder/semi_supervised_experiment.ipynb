{
 "cells": [
  {
   "cell_type": "code",
   "execution_count": 1,
   "metadata": {},
   "outputs": [],
   "source": [
    "!export CUDA_VISIBLE_DEVICES=0"
   ]
  },
  {
   "cell_type": "code",
   "execution_count": 2,
   "metadata": {},
   "outputs": [
    {
     "name": "stdout",
     "output_type": "stream",
     "text": [
      "CUDA_VISIBLE_DEVICES: 0\n",
      "Built with CUDA: 12.4\n",
      "CUDA available?: True\n",
      "Device count: 1\n"
     ]
    }
   ],
   "source": [
    "import os, torch\n",
    "os.environ[\"CUDA_VISIBLE_DEVICES\"] = \"0\"\n",
    "print(\"CUDA_VISIBLE_DEVICES:\", os.environ.get(\"CUDA_VISIBLE_DEVICES\"))\n",
    "print(\"Built with CUDA:\", torch.version.cuda)     \n",
    "print(\"CUDA available?:\", torch.cuda.is_available())  \n",
    "print(\"Device count:\", torch.cuda.device_count())"
   ]
  },
  {
   "cell_type": "code",
   "execution_count": 3,
   "metadata": {},
   "outputs": [],
   "source": [
    "import numpy as np\n",
    "import matplotlib.pyplot as plt\n",
    "from torchvision import datasets, transforms\n",
    "from torch.utils.data import DataLoader\n",
    "from torch import nn\n",
    "from semisupervised import SemiSupervisedAutoEncoderOptions, SemiSupervisedAdversarialAutoencoder"
   ]
  },
  {
   "cell_type": "code",
   "execution_count": 5,
   "metadata": {},
   "outputs": [],
   "source": [
    "from torch.utils.data import random_split\n",
    "\n",
    "def configure_mnist(batch_size=100, val_size=10000):\n",
    "    # transform: ToTensor + flatten\n",
    "    transform = transforms.Compose([\n",
    "        transforms.ToTensor(),\n",
    "        transforms.Lambda(lambda x: x.view(-1))\n",
    "    ])\n",
    "\n",
    "    # full train + test datasets\n",
    "    full_train = datasets.MNIST(root='./data', train=True, download=True, transform=transform)\n",
    "    test_ds    = datasets.MNIST(root='./data', train=False, download=True, transform=transform)\n",
    "\n",
    "    # split full_train → train_ds (60k - val_size) and val_ds (val_size)\n",
    "    train_size = len(full_train) - val_size\n",
    "    train_ds, val_ds = random_split(full_train, [train_size, val_size])\n",
    "\n",
    "    # DataLoaders\n",
    "    train_loader = DataLoader(train_ds,  batch_size=batch_size, shuffle=True)\n",
    "    val_loader   = DataLoader(val_ds,   batch_size=batch_size, shuffle=False)\n",
    "    test_loader  = DataLoader(test_ds,  batch_size=batch_size, shuffle=False)\n",
    "\n",
    "    # (Optionally) extract raw tensors:\n",
    "    X_train = torch.stack([x for x, _ in train_ds])\n",
    "    Y_train = torch.tensor([y for _, y in train_ds])\n",
    "    X_val   = torch.stack([x for x, _ in val_ds])\n",
    "    Y_val   = torch.tensor([y for _, y in val_ds])\n",
    "    X_test  = torch.stack([x for x, _ in test_ds])\n",
    "    Y_test  = test_ds.targets.clone()\n",
    "\n",
    "    return (X_train, X_val, X_test,\n",
    "            Y_train, Y_val, Y_test,\n",
    "            train_loader, val_loader, test_loader)"
   ]
  },
  {
   "cell_type": "code",
   "execution_count": 6,
   "metadata": {},
   "outputs": [
    {
     "name": "stdout",
     "output_type": "stream",
     "text": [
      "tensor(9)\n",
      "tensor(0)\n"
     ]
    }
   ],
   "source": [
    "(X_train, X_val, X_test, Y_train, Y_val, Y_test, train_loader, val_loader, test_loader) = configure_mnist()\n",
    "\n",
    "print(Y_train.max())\n",
    "print(Y_train.min())"
   ]
  },
  {
   "cell_type": "code",
   "execution_count": 4,
   "metadata": {},
   "outputs": [],
   "source": [
    "INPUT_DIM = 784\n",
    "BATCH_SIZE = 100\n",
    "AE_HIDDEN = 1000\n",
    "DC_HIDDEN = 1000\n",
    "LATENT_DIM_CAT = 10\n",
    "LATENT_DIM_STYLE = 15\n",
    "PRIOR_STD = 5.0\n",
    "\n",
    "recon_loss = nn.MSELoss()\n",
    "init_recon_lr = 0.01\n",
    "\n",
    "semi_sup_loss = nn.CrossEntropyLoss()\n",
    "init_semi_sup_lr = 0.01\n",
    "\n",
    "init_gen_lr = init_disc_lr = 0.1\n",
    "use_decoder_sigmoid = True"
   ]
  },
  {
   "cell_type": "code",
   "execution_count": 5,
   "metadata": {},
   "outputs": [],
   "source": [
    "options = SemiSupervisedAutoEncoderOptions(\n",
    "    input_dim=INPUT_DIM,\n",
    "    ae_hidden_dim=AE_HIDDEN,\n",
    "    disc_hidden_dim=DC_HIDDEN,\n",
    "    latent_dim_categorical=LATENT_DIM_CAT,\n",
    "    latent_dim_style=LATENT_DIM_STYLE,\n",
    "    recon_loss_fn=recon_loss,\n",
    "    init_recon_lr=init_recon_lr,\n",
    "    semi_supervised_loss_fn=semi_sup_loss,\n",
    "    init_semi_sup_lr=init_semi_sup_lr,\n",
    "    init_gen_lr=init_gen_lr,\n",
    "    use_decoder_sigmoid=use_decoder_sigmoid,\n",
    "    init_disc_categorical_lr = init_disc_lr,\n",
    "    init_disc_style_lr = init_disc_lr\n",
    ")\n",
    "\n",
    "model = SemiSupervisedAdversarialAutoencoder(options);"
   ]
  },
  {
   "cell_type": "code",
   "execution_count": 9,
   "metadata": {},
   "outputs": [
    {
     "data": {
      "application/vnd.jupyter.widget-view+json": {
       "model_id": "d1114b68cdd54091bddfe634301c5a9a",
       "version_major": 2,
       "version_minor": 0
      },
      "text/plain": [
       "Epoch [1/30]:   0%|          | 0/500 [00:00<?, ?it/s]"
      ]
     },
     "metadata": {},
     "output_type": "display_data"
    },
    {
     "name": "stdout",
     "output_type": "stream",
     "text": [
      "Epoch 1/30 — Recon: 0.2298, Disc_Cat: 1.3768, Gen_Cat: 0.6970, Disc_Style: 0.3769, Gen_Style: 3.0420, SemiSup: 1.0777\n",
      "Validation Accuracy: 86.52%\n",
      "\n"
     ]
    },
    {
     "data": {
      "application/vnd.jupyter.widget-view+json": {
       "model_id": "4c92bf5da0ac45fc8b9b7c44f5155aa2",
       "version_major": 2,
       "version_minor": 0
      },
      "text/plain": [
       "Epoch [2/30]:   0%|          | 0/500 [00:00<?, ?it/s]"
      ]
     },
     "metadata": {},
     "output_type": "display_data"
    },
    {
     "name": "stdout",
     "output_type": "stream",
     "text": [
      "Epoch 2/30 — Recon: 0.2242, Disc_Cat: 1.3347, Gen_Cat: 0.7227, Disc_Style: 0.7367, Gen_Style: 2.5821, SemiSup: 0.3747\n",
      "Validation Accuracy: 90.73%\n",
      "\n"
     ]
    },
    {
     "data": {
      "application/vnd.jupyter.widget-view+json": {
       "model_id": "a247fe89a07948ba861b0a17013dee0a",
       "version_major": 2,
       "version_minor": 0
      },
      "text/plain": [
       "Epoch [3/30]:   0%|          | 0/500 [00:00<?, ?it/s]"
      ]
     },
     "metadata": {},
     "output_type": "display_data"
    },
    {
     "name": "stdout",
     "output_type": "stream",
     "text": [
      "Epoch 3/30 — Recon: 0.1970, Disc_Cat: 1.3041, Gen_Cat: 0.8029, Disc_Style: 0.9881, Gen_Style: 1.8815, SemiSup: 0.3250\n",
      "Validation Accuracy: 92.91%\n",
      "\n"
     ]
    },
    {
     "data": {
      "application/vnd.jupyter.widget-view+json": {
       "model_id": "180363056c904ddfbafe5ddedc54fe36",
       "version_major": 2,
       "version_minor": 0
      },
      "text/plain": [
       "Epoch [4/30]:   0%|          | 0/500 [00:00<?, ?it/s]"
      ]
     },
     "metadata": {},
     "output_type": "display_data"
    },
    {
     "name": "stdout",
     "output_type": "stream",
     "text": [
      "Epoch 4/30 — Recon: 0.1014, Disc_Cat: 1.3313, Gen_Cat: 0.8332, Disc_Style: 1.1437, Gen_Style: 1.3936, SemiSup: 0.2895\n",
      "Validation Accuracy: 94.05%\n",
      "\n"
     ]
    },
    {
     "data": {
      "application/vnd.jupyter.widget-view+json": {
       "model_id": "159e73090db744f089db2bebc732eddc",
       "version_major": 2,
       "version_minor": 0
      },
      "text/plain": [
       "Epoch [5/30]:   0%|          | 0/500 [00:00<?, ?it/s]"
      ]
     },
     "metadata": {},
     "output_type": "display_data"
    },
    {
     "name": "stdout",
     "output_type": "stream",
     "text": [
      "Epoch 5/30 — Recon: 0.0735, Disc_Cat: 1.3413, Gen_Cat: 0.8191, Disc_Style: 1.2164, Gen_Style: 1.1799, SemiSup: 0.2493\n",
      "Validation Accuracy: 94.50%\n",
      "\n"
     ]
    },
    {
     "data": {
      "application/vnd.jupyter.widget-view+json": {
       "model_id": "99945c398b1941ab841dd9c27ea6bf7b",
       "version_major": 2,
       "version_minor": 0
      },
      "text/plain": [
       "Epoch [6/30]:   0%|          | 0/500 [00:00<?, ?it/s]"
      ]
     },
     "metadata": {},
     "output_type": "display_data"
    },
    {
     "name": "stdout",
     "output_type": "stream",
     "text": [
      "Epoch 6/30 — Recon: 0.0708, Disc_Cat: 1.3494, Gen_Cat: 0.8051, Disc_Style: 1.2485, Gen_Style: 1.0767, SemiSup: 0.2100\n",
      "Validation Accuracy: 95.36%\n",
      "\n"
     ]
    },
    {
     "data": {
      "application/vnd.jupyter.widget-view+json": {
       "model_id": "6810163c1b53450287305a5e0d460a5a",
       "version_major": 2,
       "version_minor": 0
      },
      "text/plain": [
       "Epoch [7/30]:   0%|          | 0/500 [00:00<?, ?it/s]"
      ]
     },
     "metadata": {},
     "output_type": "display_data"
    },
    {
     "name": "stdout",
     "output_type": "stream",
     "text": [
      "Epoch 7/30 — Recon: 0.0698, Disc_Cat: 1.3530, Gen_Cat: 0.7955, Disc_Style: 1.2766, Gen_Style: 1.0066, SemiSup: 0.1857\n",
      "Validation Accuracy: 96.10%\n",
      "\n"
     ]
    },
    {
     "data": {
      "application/vnd.jupyter.widget-view+json": {
       "model_id": "bba6f673d35147779abb9d034cf395b0",
       "version_major": 2,
       "version_minor": 0
      },
      "text/plain": [
       "Epoch [8/30]:   0%|          | 0/500 [00:00<?, ?it/s]"
      ]
     },
     "metadata": {},
     "output_type": "display_data"
    },
    {
     "name": "stdout",
     "output_type": "stream",
     "text": [
      "Epoch 8/30 — Recon: 0.0694, Disc_Cat: 1.3570, Gen_Cat: 0.7867, Disc_Style: 1.2879, Gen_Style: 0.9806, SemiSup: 0.1616\n",
      "Validation Accuracy: 96.12%\n",
      "\n"
     ]
    },
    {
     "data": {
      "application/vnd.jupyter.widget-view+json": {
       "model_id": "964c04bebe614b67848b05c009a42840",
       "version_major": 2,
       "version_minor": 0
      },
      "text/plain": [
       "Epoch [9/30]:   0%|          | 0/500 [00:00<?, ?it/s]"
      ]
     },
     "metadata": {},
     "output_type": "display_data"
    },
    {
     "name": "stdout",
     "output_type": "stream",
     "text": [
      "Epoch 9/30 — Recon: 0.0691, Disc_Cat: 1.3588, Gen_Cat: 0.7807, Disc_Style: 1.3064, Gen_Style: 0.9241, SemiSup: 0.1522\n",
      "Validation Accuracy: 96.78%\n",
      "\n"
     ]
    },
    {
     "data": {
      "application/vnd.jupyter.widget-view+json": {
       "model_id": "249523e6c43d456c9f5364edc0027345",
       "version_major": 2,
       "version_minor": 0
      },
      "text/plain": [
       "Epoch [10/30]:   0%|          | 0/500 [00:00<?, ?it/s]"
      ]
     },
     "metadata": {},
     "output_type": "display_data"
    },
    {
     "name": "stdout",
     "output_type": "stream",
     "text": [
      "Epoch 10/30 — Recon: 0.0687, Disc_Cat: 1.3618, Gen_Cat: 0.7741, Disc_Style: 1.3091, Gen_Style: 0.9076, SemiSup: 0.1379\n",
      "Validation Accuracy: 96.93%\n",
      "\n"
     ]
    },
    {
     "data": {
      "application/vnd.jupyter.widget-view+json": {
       "model_id": "3fa9b226879442dca872c1eb737febe2",
       "version_major": 2,
       "version_minor": 0
      },
      "text/plain": [
       "Epoch [11/30]:   0%|          | 0/500 [00:00<?, ?it/s]"
      ]
     },
     "metadata": {},
     "output_type": "display_data"
    },
    {
     "name": "stdout",
     "output_type": "stream",
     "text": [
      "Epoch 11/30 — Recon: 0.0686, Disc_Cat: 1.3658, Gen_Cat: 0.7663, Disc_Style: 1.3243, Gen_Style: 0.8697, SemiSup: 0.1191\n",
      "Validation Accuracy: 97.20%\n",
      "\n"
     ]
    },
    {
     "data": {
      "application/vnd.jupyter.widget-view+json": {
       "model_id": "8c7af67514734e27b12610f3c51093f0",
       "version_major": 2,
       "version_minor": 0
      },
      "text/plain": [
       "Epoch [12/30]:   0%|          | 0/500 [00:00<?, ?it/s]"
      ]
     },
     "metadata": {},
     "output_type": "display_data"
    },
    {
     "name": "stdout",
     "output_type": "stream",
     "text": [
      "Epoch 12/30 — Recon: 0.0685, Disc_Cat: 1.3671, Gen_Cat: 0.7586, Disc_Style: 1.3332, Gen_Style: 0.8522, SemiSup: 0.1088\n",
      "Validation Accuracy: 97.17%\n",
      "\n"
     ]
    },
    {
     "data": {
      "application/vnd.jupyter.widget-view+json": {
       "model_id": "81a2ec5c5c6d4215a7799de8c7fa4f49",
       "version_major": 2,
       "version_minor": 0
      },
      "text/plain": [
       "Epoch [13/30]:   0%|          | 0/500 [00:00<?, ?it/s]"
      ]
     },
     "metadata": {},
     "output_type": "display_data"
    },
    {
     "name": "stdout",
     "output_type": "stream",
     "text": [
      "Epoch 13/30 — Recon: 0.0683, Disc_Cat: 1.3678, Gen_Cat: 0.7560, Disc_Style: 1.3410, Gen_Style: 0.8303, SemiSup: 0.1037\n",
      "Validation Accuracy: 97.22%\n",
      "\n"
     ]
    },
    {
     "data": {
      "application/vnd.jupyter.widget-view+json": {
       "model_id": "639b60116b4f4821b4d5477f2eaa342f",
       "version_major": 2,
       "version_minor": 0
      },
      "text/plain": [
       "Epoch [14/30]:   0%|          | 0/500 [00:00<?, ?it/s]"
      ]
     },
     "metadata": {},
     "output_type": "display_data"
    },
    {
     "name": "stdout",
     "output_type": "stream",
     "text": [
      "Epoch 14/30 — Recon: 0.0681, Disc_Cat: 1.3710, Gen_Cat: 0.7476, Disc_Style: 1.3385, Gen_Style: 0.8245, SemiSup: 0.0849\n",
      "Validation Accuracy: 97.57%\n",
      "\n"
     ]
    },
    {
     "data": {
      "application/vnd.jupyter.widget-view+json": {
       "model_id": "525560d827fb46beb1096965c80b69c6",
       "version_major": 2,
       "version_minor": 0
      },
      "text/plain": [
       "Epoch [15/30]:   0%|          | 0/500 [00:00<?, ?it/s]"
      ]
     },
     "metadata": {},
     "output_type": "display_data"
    },
    {
     "name": "stdout",
     "output_type": "stream",
     "text": [
      "Epoch 15/30 — Recon: 0.0680, Disc_Cat: 1.3711, Gen_Cat: 0.7452, Disc_Style: 1.3474, Gen_Style: 0.8175, SemiSup: 0.0784\n",
      "Validation Accuracy: 97.41%\n",
      "\n"
     ]
    },
    {
     "data": {
      "application/vnd.jupyter.widget-view+json": {
       "model_id": "366cc2c67f3242108ea9222b5902baef",
       "version_major": 2,
       "version_minor": 0
      },
      "text/plain": [
       "Epoch [16/30]:   0%|          | 0/500 [00:00<?, ?it/s]"
      ]
     },
     "metadata": {},
     "output_type": "display_data"
    },
    {
     "name": "stdout",
     "output_type": "stream",
     "text": [
      "Epoch 16/30 — Recon: 0.0679, Disc_Cat: 1.3722, Gen_Cat: 0.7410, Disc_Style: 1.3526, Gen_Style: 0.7901, SemiSup: 0.0801\n",
      "Validation Accuracy: 97.57%\n",
      "\n"
     ]
    },
    {
     "data": {
      "application/vnd.jupyter.widget-view+json": {
       "model_id": "0b9fd239b17e4ff6b2fc103a49ece7c4",
       "version_major": 2,
       "version_minor": 0
      },
      "text/plain": [
       "Epoch [17/30]:   0%|          | 0/500 [00:00<?, ?it/s]"
      ]
     },
     "metadata": {},
     "output_type": "display_data"
    },
    {
     "name": "stdout",
     "output_type": "stream",
     "text": [
      "Epoch 17/30 — Recon: 0.0677, Disc_Cat: 1.3735, Gen_Cat: 0.7374, Disc_Style: 1.3538, Gen_Style: 0.7901, SemiSup: 0.0651\n",
      "Validation Accuracy: 97.80%\n",
      "\n"
     ]
    },
    {
     "data": {
      "application/vnd.jupyter.widget-view+json": {
       "model_id": "4cb0d2d536ff4af88f0d38825d3c788d",
       "version_major": 2,
       "version_minor": 0
      },
      "text/plain": [
       "Epoch [18/30]:   0%|          | 0/500 [00:00<?, ?it/s]"
      ]
     },
     "metadata": {},
     "output_type": "display_data"
    },
    {
     "name": "stdout",
     "output_type": "stream",
     "text": [
      "Epoch 18/30 — Recon: 0.0676, Disc_Cat: 1.3754, Gen_Cat: 0.7320, Disc_Style: 1.3592, Gen_Style: 0.7827, SemiSup: 0.0577\n",
      "Validation Accuracy: 97.85%\n",
      "\n"
     ]
    },
    {
     "data": {
      "application/vnd.jupyter.widget-view+json": {
       "model_id": "1a85cb6d6e1a4a8898fbc546b3997d8b",
       "version_major": 2,
       "version_minor": 0
      },
      "text/plain": [
       "Epoch [19/30]:   0%|          | 0/500 [00:00<?, ?it/s]"
      ]
     },
     "metadata": {},
     "output_type": "display_data"
    },
    {
     "name": "stdout",
     "output_type": "stream",
     "text": [
      "Epoch 19/30 — Recon: 0.0675, Disc_Cat: 1.3758, Gen_Cat: 0.7293, Disc_Style: 1.3615, Gen_Style: 0.7718, SemiSup: 0.0528\n",
      "Validation Accuracy: 97.93%\n",
      "\n"
     ]
    },
    {
     "data": {
      "application/vnd.jupyter.widget-view+json": {
       "model_id": "a3d168dbd7f74b37a125b6f1756de224",
       "version_major": 2,
       "version_minor": 0
      },
      "text/plain": [
       "Epoch [20/30]:   0%|          | 0/500 [00:00<?, ?it/s]"
      ]
     },
     "metadata": {},
     "output_type": "display_data"
    },
    {
     "name": "stdout",
     "output_type": "stream",
     "text": [
      "Epoch 20/30 — Recon: 0.0672, Disc_Cat: 1.3772, Gen_Cat: 0.7264, Disc_Style: 1.3662, Gen_Style: 0.7596, SemiSup: 0.0473\n",
      "Validation Accuracy: 97.90%\n",
      "\n"
     ]
    },
    {
     "data": {
      "application/vnd.jupyter.widget-view+json": {
       "model_id": "67d0a9900a2e498188162a413ed78ac2",
       "version_major": 2,
       "version_minor": 0
      },
      "text/plain": [
       "Epoch [21/30]:   0%|          | 0/500 [00:00<?, ?it/s]"
      ]
     },
     "metadata": {},
     "output_type": "display_data"
    },
    {
     "name": "stdout",
     "output_type": "stream",
     "text": [
      "Epoch 21/30 — Recon: 0.0669, Disc_Cat: 1.3777, Gen_Cat: 0.7244, Disc_Style: 1.3634, Gen_Style: 0.7640, SemiSup: 0.0434\n",
      "Validation Accuracy: 97.97%\n",
      "\n"
     ]
    },
    {
     "data": {
      "application/vnd.jupyter.widget-view+json": {
       "model_id": "7da765091a674e17af1eee10f746aa68",
       "version_major": 2,
       "version_minor": 0
      },
      "text/plain": [
       "Epoch [22/30]:   0%|          | 0/500 [00:00<?, ?it/s]"
      ]
     },
     "metadata": {},
     "output_type": "display_data"
    },
    {
     "name": "stdout",
     "output_type": "stream",
     "text": [
      "Epoch 22/30 — Recon: 0.0671, Disc_Cat: 1.3781, Gen_Cat: 0.7219, Disc_Style: 1.3617, Gen_Style: 0.7659, SemiSup: 0.0377\n",
      "Validation Accuracy: 98.13%\n",
      "\n"
     ]
    },
    {
     "data": {
      "application/vnd.jupyter.widget-view+json": {
       "model_id": "de38039dde0d43fdb93b9dbe0dffc2b9",
       "version_major": 2,
       "version_minor": 0
      },
      "text/plain": [
       "Epoch [23/30]:   0%|          | 0/500 [00:00<?, ?it/s]"
      ]
     },
     "metadata": {},
     "output_type": "display_data"
    },
    {
     "name": "stdout",
     "output_type": "stream",
     "text": [
      "Epoch 23/30 — Recon: 0.0667, Disc_Cat: 1.3791, Gen_Cat: 0.7189, Disc_Style: 1.3655, Gen_Style: 0.7632, SemiSup: 0.0335\n",
      "Validation Accuracy: 98.12%\n",
      "\n"
     ]
    },
    {
     "data": {
      "application/vnd.jupyter.widget-view+json": {
       "model_id": "3c7d595181884c4aa04e54cae0aafe80",
       "version_major": 2,
       "version_minor": 0
      },
      "text/plain": [
       "Epoch [24/30]:   0%|          | 0/500 [00:00<?, ?it/s]"
      ]
     },
     "metadata": {},
     "output_type": "display_data"
    },
    {
     "name": "stdout",
     "output_type": "stream",
     "text": [
      "Epoch 24/30 — Recon: 0.0667, Disc_Cat: 1.3795, Gen_Cat: 0.7174, Disc_Style: 1.3702, Gen_Style: 0.7502, SemiSup: 0.0325\n",
      "Validation Accuracy: 97.87%\n",
      "\n"
     ]
    },
    {
     "data": {
      "application/vnd.jupyter.widget-view+json": {
       "model_id": "d31deac5f7c74de2b7c46b7b6ed57af0",
       "version_major": 2,
       "version_minor": 0
      },
      "text/plain": [
       "Epoch [25/30]:   0%|          | 0/500 [00:00<?, ?it/s]"
      ]
     },
     "metadata": {},
     "output_type": "display_data"
    },
    {
     "name": "stdout",
     "output_type": "stream",
     "text": [
      "Epoch 25/30 — Recon: 0.0661, Disc_Cat: 1.3798, Gen_Cat: 0.7158, Disc_Style: 1.3694, Gen_Style: 0.7460, SemiSup: 0.0268\n",
      "Validation Accuracy: 98.09%\n",
      "\n"
     ]
    },
    {
     "data": {
      "application/vnd.jupyter.widget-view+json": {
       "model_id": "45d4d693747c43899f92437b6e16d682",
       "version_major": 2,
       "version_minor": 0
      },
      "text/plain": [
       "Epoch [26/30]:   0%|          | 0/500 [00:00<?, ?it/s]"
      ]
     },
     "metadata": {},
     "output_type": "display_data"
    },
    {
     "name": "stdout",
     "output_type": "stream",
     "text": [
      "Epoch 26/30 — Recon: 0.0659, Disc_Cat: 1.3804, Gen_Cat: 0.7148, Disc_Style: 1.3728, Gen_Style: 0.7398, SemiSup: 0.0250\n",
      "Validation Accuracy: 98.23%\n",
      "\n"
     ]
    },
    {
     "data": {
      "application/vnd.jupyter.widget-view+json": {
       "model_id": "44e8983f73f74ae29700efa3b6acd08e",
       "version_major": 2,
       "version_minor": 0
      },
      "text/plain": [
       "Epoch [27/30]:   0%|          | 0/500 [00:00<?, ?it/s]"
      ]
     },
     "metadata": {},
     "output_type": "display_data"
    },
    {
     "name": "stdout",
     "output_type": "stream",
     "text": [
      "Epoch 27/30 — Recon: 0.0664, Disc_Cat: 1.3808, Gen_Cat: 0.7129, Disc_Style: 1.3725, Gen_Style: 0.7371, SemiSup: 0.0203\n",
      "Validation Accuracy: 98.02%\n",
      "\n"
     ]
    },
    {
     "data": {
      "application/vnd.jupyter.widget-view+json": {
       "model_id": "dc7047899833451abceb540e72a4fdda",
       "version_major": 2,
       "version_minor": 0
      },
      "text/plain": [
       "Epoch [28/30]:   0%|          | 0/500 [00:00<?, ?it/s]"
      ]
     },
     "metadata": {},
     "output_type": "display_data"
    },
    {
     "name": "stdout",
     "output_type": "stream",
     "text": [
      "Epoch 28/30 — Recon: 0.0658, Disc_Cat: 1.3810, Gen_Cat: 0.7117, Disc_Style: 1.3736, Gen_Style: 0.7393, SemiSup: 0.0170\n",
      "Validation Accuracy: 98.07%\n",
      "\n"
     ]
    },
    {
     "data": {
      "application/vnd.jupyter.widget-view+json": {
       "model_id": "9b1cdb463c964f728725b737af08b311",
       "version_major": 2,
       "version_minor": 0
      },
      "text/plain": [
       "Epoch [29/30]:   0%|          | 0/500 [00:00<?, ?it/s]"
      ]
     },
     "metadata": {},
     "output_type": "display_data"
    },
    {
     "name": "stdout",
     "output_type": "stream",
     "text": [
      "Epoch 29/30 — Recon: 0.0658, Disc_Cat: 1.3823, Gen_Cat: 0.7096, Disc_Style: 1.3763, Gen_Style: 0.7304, SemiSup: 0.0153\n",
      "Validation Accuracy: 98.17%\n",
      "\n"
     ]
    },
    {
     "data": {
      "application/vnd.jupyter.widget-view+json": {
       "model_id": "2d1d879a61634e19923ccb53626b072f",
       "version_major": 2,
       "version_minor": 0
      },
      "text/plain": [
       "Epoch [30/30]:   0%|          | 0/500 [00:00<?, ?it/s]"
      ]
     },
     "metadata": {},
     "output_type": "display_data"
    },
    {
     "name": "stdout",
     "output_type": "stream",
     "text": [
      "Epoch 30/30 — Recon: 0.0655, Disc_Cat: 1.3829, Gen_Cat: 0.7081, Disc_Style: 1.3757, Gen_Style: 0.7328, SemiSup: 0.0134\n",
      "Validation Accuracy: 98.33%\n",
      "\n"
     ]
    }
   ],
   "source": [
    "model.train_mbgd(\n",
    "    train_loader=train_loader,\n",
    "    val_loader=val_loader,\n",
    "    epochs=30,\n",
    "    prior_std=PRIOR_STD,\n",
    ")"
   ]
  },
  {
   "cell_type": "code",
   "execution_count": 10,
   "metadata": {},
   "outputs": [],
   "source": [
    "all_probs, all_preds = [], []\n",
    "for imgs, _ in test_loader:\n",
    "    probs, preds = model.predict(imgs)\n",
    "    all_probs.append(probs.cpu())\n",
    "    all_preds.append(preds.cpu())\n",
    "\n",
    "all_probs = torch.cat(all_probs, dim=0)\n",
    "all_preds = torch.cat(all_preds, dim=0)"
   ]
  },
  {
   "cell_type": "code",
   "execution_count": 11,
   "metadata": {},
   "outputs": [
    {
     "name": "stdout",
     "output_type": "stream",
     "text": [
      "Test accuracy: 98.14%\n"
     ]
    }
   ],
   "source": [
    "num_correct = torch.eq(all_preds, Y_test).sum().item()\n",
    "accuracy = num_correct / Y_test.size(0)\n",
    "print(f\"Test accuracy: {accuracy*100:.2f}%\")"
   ]
  },
  {
   "cell_type": "code",
   "execution_count": 12,
   "metadata": {},
   "outputs": [
    {
     "name": "stdout",
     "output_type": "stream",
     "text": [
      "Weights saved to run_1_weights/aae_weights_*.pth\n"
     ]
    }
   ],
   "source": [
    "model.save_weights(\"run_1_weights/aae_weights\")"
   ]
  },
  {
   "cell_type": "markdown",
   "metadata": {},
   "source": [
    "## Image Generation"
   ]
  },
  {
   "cell_type": "code",
   "execution_count": 8,
   "metadata": {},
   "outputs": [
    {
     "name": "stdout",
     "output_type": "stream",
     "text": [
      "Weights loaded from run_1_weights/aae_weights_*.pth\n"
     ]
    }
   ],
   "source": [
    "model.load_weights(\"run_1_weights/aae_weights\")"
   ]
  },
  {
   "cell_type": "code",
   "execution_count": 118,
   "metadata": {},
   "outputs": [],
   "source": [
    "img7 = model.generate_images(2, prior_std=37.0)  "
   ]
  },
  {
   "cell_type": "code",
   "execution_count": 119,
   "metadata": {},
   "outputs": [
    {
     "data": {
      "image/png": "[encoded data removed]",
      "text/plain": [
       "<Figure size 640x480 with 1 Axes>"
      ]
     },
     "metadata": {},
     "output_type": "display_data"
    }
   ],
   "source": [
    "import matplotlib.pyplot as plt\n",
    "\n",
    "plt.imshow(img7.squeeze().cpu().numpy(), cmap='gray')\n",
    "plt.axis('off')\n",
    "plt.show()"
   ]
  }
 ],
 "metadata": {
  "kernelspec": {
   "display_name": "adversarial-autoencoder-GiuVyiXw-py3.12",
   "language": "python",
   "name": "python3"
  },
  "language_info": {
   "codemirror_mode": {
    "name": "ipython",
    "version": 3
   },
   "file_extension": ".py",
   "mimetype": "text/x-python",
   "name": "python",
   "nbconvert_exporter": "python",
   "pygments_lexer": "ipython3",
   "version": "3.12.7"
  }
 },
 "nbformat": 4,
 "nbformat_minor": 2
}
