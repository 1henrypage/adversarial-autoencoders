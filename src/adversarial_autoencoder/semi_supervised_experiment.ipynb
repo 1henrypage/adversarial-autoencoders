{
 "cells": [
  {
   "cell_type": "code",
   "execution_count": 1,
   "metadata": {},
   "outputs": [],
   "source": [
    "!export CUDA_VISIBLE_DEVICES=0"
   ]
  },
  {
   "cell_type": "code",
   "execution_count": 2,
   "metadata": {},
   "outputs": [
    {
     "name": "stdout",
     "output_type": "stream",
     "text": [
      "CUDA_VISIBLE_DEVICES: 0\n",
      "Built with CUDA: 12.4\n",
      "CUDA available?: True\n",
      "Device count: 1\n"
     ]
    }
   ],
   "source": [
    "import os, torch\n",
    "os.environ[\"CUDA_VISIBLE_DEVICES\"] = \"0\"\n",
    "print(\"CUDA_VISIBLE_DEVICES:\", os.environ.get(\"CUDA_VISIBLE_DEVICES\"))\n",
    "print(\"Built with CUDA:\", torch.version.cuda)     \n",
    "print(\"CUDA available?:\", torch.cuda.is_available())  \n",
    "print(\"Device count:\", torch.cuda.device_count())"
   ]
  },
  {
   "cell_type": "code",
   "execution_count": 3,
   "metadata": {},
   "outputs": [],
   "source": [
    "import numpy as np\n",
    "import matplotlib.pyplot as plt\n",
    "from torchvision import datasets, transforms\n",
    "from torch.utils.data import DataLoader\n",
    "from torch import nn\n",
    "from semisupervised import SemiSupervisedAutoEncoderOptions, SemiSupervisedAdversarialAutoencoder"
   ]
  },
  {
   "cell_type": "code",
   "execution_count": 4,
   "metadata": {},
   "outputs": [],
   "source": [
    "from torch.utils.data import random_split\n",
    "\n",
    "def configure_mnist(batch_size=100, val_size=10000):\n",
    "    # transform: ToTensor + flatten\n",
    "    transform = transforms.Compose([\n",
    "        transforms.ToTensor(),\n",
    "        transforms.Lambda(lambda x: x.view(-1))\n",
    "    ])\n",
    "\n",
    "    # full train + test datasets\n",
    "    full_train = datasets.MNIST(root='./data', train=True, download=True, transform=transform)\n",
    "    test_ds    = datasets.MNIST(root='./data', train=False, download=True, transform=transform)\n",
    "\n",
    "    # split full_train → train_ds (60k - val_size) and val_ds (val_size)\n",
    "    train_size = len(full_train) - val_size\n",
    "    train_ds, val_ds = random_split(full_train, [train_size, val_size], generator=torch.Generator().manual_seed(42))\n",
    "\n",
    "    # DataLoaders\n",
    "    train_loader = DataLoader(train_ds,  batch_size=batch_size, shuffle=True)\n",
    "    val_loader   = DataLoader(val_ds,   batch_size=batch_size, shuffle=False)\n",
    "    test_loader  = DataLoader(test_ds,  batch_size=batch_size, shuffle=False)\n",
    "\n",
    "    # (Optionally) extract raw tensors:\n",
    "    X_train = torch.stack([x for x, _ in train_ds])\n",
    "    Y_train = torch.tensor([y for _, y in train_ds])\n",
    "    X_val   = torch.stack([x for x, _ in val_ds])\n",
    "    Y_val   = torch.tensor([y for _, y in val_ds])\n",
    "    X_test  = torch.stack([x for x, _ in test_ds])\n",
    "    Y_test  = test_ds.targets.clone()\n",
    "\n",
    "    return (X_train, X_val, X_test,\n",
    "            Y_train, Y_val, Y_test,\n",
    "            train_loader, val_loader, test_loader)"
   ]
  },
  {
   "cell_type": "code",
   "execution_count": 5,
   "metadata": {},
   "outputs": [
    {
     "name": "stdout",
     "output_type": "stream",
     "text": [
      "tensor(9)\n",
      "tensor(0)\n"
     ]
    }
   ],
   "source": [
    "(X_train, X_val, X_test, Y_train, Y_val, Y_test, train_loader, val_loader, test_loader) = configure_mnist()\n",
    "\n",
    "print(Y_train.max())\n",
    "print(Y_train.min())"
   ]
  },
  {
   "cell_type": "code",
   "execution_count": 78,
   "metadata": {},
   "outputs": [],
   "source": [
    "NUM_EPOCHS = 500\n",
    "GAUSSIAN_NOISE = True\n",
    "INPUT_DIM = 784\n",
    "BATCH_SIZE = 100\n",
    "AE_HIDDEN = 1000\n",
    "DC_HIDDEN = 1000\n",
    "LATENT_DIM_CAT = 10\n",
    "LATENT_DIM_STYLE = 10\n",
    "PRIOR_STD = 1.0\n",
    "RESULT_FOLDER = 'semisupervised_results/500_epochs_adam_results_run_2_noise'\n",
    "\n",
    "recon_loss = nn.MSELoss()\n",
    "init_recon_lr = 0.001 #0.01\n",
    "\n",
    "semi_sup_loss = nn.CrossEntropyLoss()\n",
    "init_semi_sup_lr = 0.001 #0.1\n",
    "\n",
    "init_gen_lr = init_disc_lr = 0.001 #0.1\n",
    "use_decoder_sigmoid = True"
   ]
  },
  {
   "cell_type": "code",
   "execution_count": 7,
   "metadata": {},
   "outputs": [],
   "source": [
    "options = SemiSupervisedAutoEncoderOptions(\n",
    "    input_dim=INPUT_DIM,\n",
    "    ae_hidden_dim=AE_HIDDEN,\n",
    "    disc_hidden_dim=DC_HIDDEN,\n",
    "    latent_dim_categorical=LATENT_DIM_CAT,\n",
    "    latent_dim_style=LATENT_DIM_STYLE,\n",
    "    recon_loss_fn=recon_loss,\n",
    "    init_recon_lr=init_recon_lr,\n",
    "    semi_supervised_loss_fn=semi_sup_loss,\n",
    "    init_semi_sup_lr=init_semi_sup_lr,\n",
    "    init_gen_lr=init_gen_lr,\n",
    "    use_decoder_sigmoid=use_decoder_sigmoid,\n",
    "    init_disc_categorical_lr = init_disc_lr,\n",
    "    init_disc_style_lr = init_disc_lr\n",
    ")\n",
    "\n",
    "model = SemiSupervisedAdversarialAutoencoder(options);"
   ]
  },
  {
   "cell_type": "code",
   "execution_count": 8,
   "metadata": {},
   "outputs": [
    {
     "data": {
      "application/vnd.jupyter.widget-view+json": {
       "model_id": "f2add77b9c194bdfa3eed94d159b7558",
       "version_major": 2,
       "version_minor": 0
      },
      "text/plain": [
       "Epoch [1/500]:   0%|          | 0/500 [00:00<?, ?it/s]"
      ]
     },
     "metadata": {},
     "output_type": "display_data"
    },
    {
     "name": "stdout",
     "output_type": "stream",
     "text": [
      "Epoch 1/500 — Recon: 0.1538, Disc_Cat: 0.4298, Gen_Cat: 4.5980, Disc_Style: 1.2685, Gen_Style: 2.6257, SemiSup: 4.0240\n",
      "Validation Accuracy: 39.96%\n",
      "\n",
      "Weights saved to semisupervised_results/500_epochs_adam_results_run_2_noise/weights_*.pth\n"
     ]
    },
    {
     "data": {
      "application/vnd.jupyter.widget-view+json": {
       "model_id": "a7f8e2a778564d4b9aa3ec725561eb8c",
       "version_major": 2,
       "version_minor": 0
      },
      "text/plain": [
       "Epoch [2/500]:   0%|          | 0/500 [00:00<?, ?it/s]"
      ]
     },
     "metadata": {},
     "output_type": "display_data"
    },
    {
     "name": "stdout",
     "output_type": "stream",
     "text": [
      "Epoch 2/500 — Recon: 0.1321, Disc_Cat: 1.0010, Gen_Cat: 1.9300, Disc_Style: 1.6699, Gen_Style: 1.5854, SemiSup: 1.5737\n",
      "Validation Accuracy: 88.35%\n",
      "\n",
      "Weights saved to semisupervised_results/500_epochs_adam_results_run_2_noise/weights_*.pth\n"
     ]
    },
    {
     "data": {
      "application/vnd.jupyter.widget-view+json": {
       "model_id": "074e25b87d11456bbfb6786c93cfe13f",
       "version_major": 2,
       "version_minor": 0
      },
      "text/plain": [
       "Epoch [3/500]:   0%|          | 0/500 [00:00<?, ?it/s]"
      ]
     },
     "metadata": {},
     "output_type": "display_data"
    },
    {
     "name": "stdout",
     "output_type": "stream",
     "text": [
      "Epoch 3/500 — Recon: 0.1206, Disc_Cat: 1.2465, Gen_Cat: 1.4559, Disc_Style: 1.4506, Gen_Style: 0.9587, SemiSup: 0.5526\n",
      "Validation Accuracy: 93.47%\n",
      "\n",
      "Weights saved to semisupervised_results/500_epochs_adam_results_run_2_noise/weights_*.pth\n"
     ]
    },
    {
     "data": {
      "application/vnd.jupyter.widget-view+json": {
       "model_id": "9bfb15c75cf54793a395fd280655bbd7",
       "version_major": 2,
       "version_minor": 0
      },
      "text/plain": [
       "Epoch [4/500]:   0%|          | 0/500 [00:00<?, ?it/s]"
      ]
     },
     "metadata": {},
     "output_type": "display_data"
    },
    {
     "name": "stdout",
     "output_type": "stream",
     "text": [
      "Epoch 4/500 — Recon: 0.1150, Disc_Cat: 1.2844, Gen_Cat: 1.2887, Disc_Style: 1.3917, Gen_Style: 0.8376, SemiSup: 0.4066\n",
      "Validation Accuracy: 95.01%\n",
      "\n",
      "Weights saved to semisupervised_results/500_epochs_adam_results_run_2_noise/weights_*.pth\n"
     ]
    },
    {
     "data": {
      "application/vnd.jupyter.widget-view+json": {
       "model_id": "cf7de993347f4c6bbec025038911d9b0",
       "version_major": 2,
       "version_minor": 0
      },
      "text/plain": [
       "Epoch [5/500]:   0%|          | 0/500 [00:00<?, ?it/s]"
      ]
     },
     "metadata": {},
     "output_type": "display_data"
    },
    {
     "name": "stdout",
     "output_type": "stream",
     "text": [
      "Epoch 5/500 — Recon: 0.1119, Disc_Cat: 1.2973, Gen_Cat: 1.1747, Disc_Style: 1.3767, Gen_Style: 0.7524, SemiSup: 0.3228\n",
      "Validation Accuracy: 95.25%\n",
      "\n",
      "Weights saved to semisupervised_results/500_epochs_adam_results_run_2_noise/weights_*.pth\n"
     ]
    },
    {
     "data": {
      "application/vnd.jupyter.widget-view+json": {
       "model_id": "fe0eea911e8c42479486beb028646780",
       "version_major": 2,
       "version_minor": 0
      },
      "text/plain": [
       "Epoch [6/500]:   0%|          | 0/500 [00:00<?, ?it/s]"
      ]
     },
     "metadata": {},
     "output_type": "display_data"
    },
    {
     "name": "stdout",
     "output_type": "stream",
     "text": [
      "Epoch 6/500 — Recon: 0.1113, Disc_Cat: 1.3002, Gen_Cat: 1.1681, Disc_Style: 1.3899, Gen_Style: 0.7185, SemiSup: 0.2978\n",
      "Validation Accuracy: 95.29%\n",
      "\n",
      "Weights saved to semisupervised_results/500_epochs_adam_results_run_2_noise/weights_*.pth\n"
     ]
    },
    {
     "data": {
      "application/vnd.jupyter.widget-view+json": {
       "model_id": "71dfc57750df4843b8947f14ec6c9fc5",
       "version_major": 2,
       "version_minor": 0
      },
      "text/plain": [
       "Epoch [7/500]:   0%|          | 0/500 [00:00<?, ?it/s]"
      ]
     },
     "metadata": {},
     "output_type": "display_data"
    },
    {
     "name": "stdout",
     "output_type": "stream",
     "text": [
      "Epoch 7/500 — Recon: 0.1106, Disc_Cat: 1.3020, Gen_Cat: 1.1734, Disc_Style: 1.3888, Gen_Style: 0.7114, SemiSup: 0.2940\n",
      "Validation Accuracy: 95.50%\n",
      "\n",
      "Weights saved to semisupervised_results/500_epochs_adam_results_run_2_noise/weights_*.pth\n"
     ]
    },
    {
     "data": {
      "application/vnd.jupyter.widget-view+json": {
       "model_id": "d8dfcfc670a84274b053cd719d7875b0",
       "version_major": 2,
       "version_minor": 0
      },
      "text/plain": [
       "Epoch [8/500]:   0%|          | 0/500 [00:00<?, ?it/s]"
      ]
     },
     "metadata": {},
     "output_type": "display_data"
    },
    {
     "name": "stdout",
     "output_type": "stream",
     "text": [
      "Epoch 8/500 — Recon: 0.1113, Disc_Cat: 1.3068, Gen_Cat: 1.1863, Disc_Style: 1.3935, Gen_Style: 0.7094, SemiSup: 0.3031\n",
      "Validation Accuracy: 95.65%\n",
      "\n",
      "Weights saved to semisupervised_results/500_epochs_adam_results_run_2_noise/weights_*.pth\n"
     ]
    },
    {
     "data": {
      "application/vnd.jupyter.widget-view+json": {
       "model_id": "b331d292cb024676ae8a181436cc61d5",
       "version_major": 2,
       "version_minor": 0
      },
      "text/plain": [
       "Epoch [9/500]:   0%|          | 0/500 [00:00<?, ?it/s]"
      ]
     },
     "metadata": {},
     "output_type": "display_data"
    },
    {
     "name": "stdout",
     "output_type": "stream",
     "text": [
      "Epoch 9/500 — Recon: 0.1097, Disc_Cat: 1.3158, Gen_Cat: 1.1765, Disc_Style: 1.3874, Gen_Style: 0.6926, SemiSup: 0.3153\n",
      "Validation Accuracy: 95.38%\n",
      "\n",
      "Weights saved to semisupervised_results/500_epochs_adam_results_run_2_noise/weights_*.pth\n"
     ]
    },
    {
     "data": {
      "application/vnd.jupyter.widget-view+json": {
       "model_id": "1087ae54e0e7456c97a8d6e6bda4edba",
       "version_major": 2,
       "version_minor": 0
      },
      "text/plain": [
       "Epoch [10/500]:   0%|          | 0/500 [00:00<?, ?it/s]"
      ]
     },
     "metadata": {},
     "output_type": "display_data"
    },
    {
     "name": "stdout",
     "output_type": "stream",
     "text": [
      "Epoch 10/500 — Recon: 0.1106, Disc_Cat: 1.3161, Gen_Cat: 1.2229, Disc_Style: 1.3961, Gen_Style: 0.6989, SemiSup: 0.3469\n",
      "Validation Accuracy: 96.30%\n",
      "\n",
      "Weights saved to semisupervised_results/500_epochs_adam_results_run_2_noise/weights_*.pth\n"
     ]
    },
    {
     "data": {
      "application/vnd.jupyter.widget-view+json": {
       "model_id": "e2c9a41518ac4079adf6882f8200d253",
       "version_major": 2,
       "version_minor": 0
      },
      "text/plain": [
       "Epoch [11/500]:   0%|          | 0/500 [00:00<?, ?it/s]"
      ]
     },
     "metadata": {},
     "output_type": "display_data"
    },
    {
     "name": "stdout",
     "output_type": "stream",
     "text": [
      "Epoch 11/500 — Recon: 0.1081, Disc_Cat: 1.3271, Gen_Cat: 1.1843, Disc_Style: 1.3872, Gen_Style: 0.6959, SemiSup: 0.2883\n",
      "Validation Accuracy: 96.54%\n",
      "\n",
      "Weights saved to semisupervised_results/500_epochs_adam_results_run_2_noise/weights_*.pth\n"
     ]
    },
    {
     "data": {
      "application/vnd.jupyter.widget-view+json": {
       "model_id": "f88f6f2227c54b78b089e208b9525a6c",
       "version_major": 2,
       "version_minor": 0
      },
      "text/plain": [
       "Epoch [12/500]:   0%|          | 0/500 [00:00<?, ?it/s]"
      ]
     },
     "metadata": {},
     "output_type": "display_data"
    },
    {
     "name": "stdout",
     "output_type": "stream",
     "text": [
      "Epoch 12/500 — Recon: 0.1133, Disc_Cat: 1.3140, Gen_Cat: 1.3269, Disc_Style: 1.4037, Gen_Style: 0.7111, SemiSup: 0.3612\n",
      "Validation Accuracy: 96.14%\n",
      "\n",
      "Weights saved to semisupervised_results/500_epochs_adam_results_run_2_noise/weights_*.pth\n"
     ]
    },
    {
     "data": {
      "application/vnd.jupyter.widget-view+json": {
       "model_id": "72cc392bfd944777a2917d7830bc6e10",
       "version_major": 2,
       "version_minor": 0
      },
      "text/plain": [
       "Epoch [13/500]:   0%|          | 0/500 [00:00<?, ?it/s]"
      ]
     },
     "metadata": {},
     "output_type": "display_data"
    },
    {
     "name": "stdout",
     "output_type": "stream",
     "text": [
      "Epoch 13/500 — Recon: 0.1099, Disc_Cat: 1.3225, Gen_Cat: 1.2943, Disc_Style: 1.3914, Gen_Style: 0.7284, SemiSup: 0.2863\n",
      "Validation Accuracy: 97.09%\n",
      "\n",
      "Weights saved to semisupervised_results/500_epochs_adam_results_run_2_noise/weights_*.pth\n"
     ]
    },
    {
     "data": {
      "application/vnd.jupyter.widget-view+json": {
       "model_id": "0b72b1a9cda341de9a27a05a5baf0c2b",
       "version_major": 2,
       "version_minor": 0
      },
      "text/plain": [
       "Epoch [14/500]:   0%|          | 0/500 [00:00<?, ?it/s]"
      ]
     },
     "metadata": {},
     "output_type": "display_data"
    },
    {
     "name": "stdout",
     "output_type": "stream",
     "text": [
      "Epoch 14/500 — Recon: 0.1069, Disc_Cat: 1.3362, Gen_Cat: 1.1677, Disc_Style: 1.3873, Gen_Style: 0.6961, SemiSup: 0.2451\n",
      "Validation Accuracy: 96.80%\n",
      "\n",
      "Weights saved to semisupervised_results/500_epochs_adam_results_run_2_noise/weights_*.pth\n"
     ]
    },
    {
     "data": {
      "application/vnd.jupyter.widget-view+json": {
       "model_id": "30c3372cbff44337b26efef80c1fd236",
       "version_major": 2,
       "version_minor": 0
      },
      "text/plain": [
       "Epoch [15/500]:   0%|          | 0/500 [00:00<?, ?it/s]"
      ]
     },
     "metadata": {},
     "output_type": "display_data"
    },
    {
     "name": "stdout",
     "output_type": "stream",
     "text": [
      "Epoch 15/500 — Recon: 0.1066, Disc_Cat: 1.3343, Gen_Cat: 1.1964, Disc_Style: 1.3864, Gen_Style: 0.6937, SemiSup: 0.2551\n",
      "Validation Accuracy: 96.88%\n",
      "\n",
      "Weights saved to semisupervised_results/500_epochs_adam_results_run_2_noise/weights_*.pth\n"
     ]
    },
    {
     "data": {
      "application/vnd.jupyter.widget-view+json": {
       "model_id": "cac8c0e48e4d4e269c49bd3fd7bda535",
       "version_major": 2,
       "version_minor": 0
      },
      "text/plain": [
       "Epoch [16/500]:   0%|          | 0/500 [00:00<?, ?it/s]"
      ]
     },
     "metadata": {},
     "output_type": "display_data"
    },
    {
     "name": "stdout",
     "output_type": "stream",
     "text": [
      "Epoch 16/500 — Recon: 0.1066, Disc_Cat: 1.3356, Gen_Cat: 1.2101, Disc_Style: 1.3871, Gen_Style: 0.6938, SemiSup: 0.2600\n",
      "Validation Accuracy: 96.83%\n",
      "\n",
      "Weights saved to semisupervised_results/500_epochs_adam_results_run_2_noise/weights_*.pth\n"
     ]
    },
    {
     "data": {
      "application/vnd.jupyter.widget-view+json": {
       "model_id": "091fadd21fa645e3bf5178ded434825d",
       "version_major": 2,
       "version_minor": 0
      },
      "text/plain": [
       "Epoch [17/500]:   0%|          | 0/500 [00:00<?, ?it/s]"
      ]
     },
     "metadata": {},
     "output_type": "display_data"
    },
    {
     "name": "stdout",
     "output_type": "stream",
     "text": [
      "Epoch 17/500 — Recon: 0.1057, Disc_Cat: 1.3386, Gen_Cat: 1.1907, Disc_Style: 1.3867, Gen_Style: 0.6934, SemiSup: 0.2421\n",
      "Validation Accuracy: 97.20%\n",
      "\n",
      "Weights saved to semisupervised_results/500_epochs_adam_results_run_2_noise/weights_*.pth\n"
     ]
    },
    {
     "data": {
      "application/vnd.jupyter.widget-view+json": {
       "model_id": "e26392f746a54fb19bef2747d3cfd688",
       "version_major": 2,
       "version_minor": 0
      },
      "text/plain": [
       "Epoch [18/500]:   0%|          | 0/500 [00:00<?, ?it/s]"
      ]
     },
     "metadata": {},
     "output_type": "display_data"
    },
    {
     "name": "stdout",
     "output_type": "stream",
     "text": [
      "Epoch 18/500 — Recon: 0.1056, Disc_Cat: 1.3382, Gen_Cat: 1.2153, Disc_Style: 1.3869, Gen_Style: 0.6937, SemiSup: 0.2124\n",
      "Validation Accuracy: 97.38%\n",
      "\n",
      "Weights saved to semisupervised_results/500_epochs_adam_results_run_2_noise/weights_*.pth\n"
     ]
    },
    {
     "data": {
      "application/vnd.jupyter.widget-view+json": {
       "model_id": "4b53cdf9c71b4137b757d93f1628d96c",
       "version_major": 2,
       "version_minor": 0
      },
      "text/plain": [
       "Epoch [19/500]:   0%|          | 0/500 [00:00<?, ?it/s]"
      ]
     },
     "metadata": {},
     "output_type": "display_data"
    },
    {
     "name": "stdout",
     "output_type": "stream",
     "text": [
      "Epoch 19/500 — Recon: 0.1202, Disc_Cat: 1.1927, Gen_Cat: 2.7753, Disc_Style: 1.4504, Gen_Style: 0.8736, SemiSup: 0.7654\n",
      "Validation Accuracy: 86.48%\n",
      "\n",
      "Weights saved to semisupervised_results/500_epochs_adam_results_run_2_noise/weights_*.pth\n"
     ]
    },
    {
     "data": {
      "application/vnd.jupyter.widget-view+json": {
       "model_id": "70513fdd201b4c3493f149baa36ba180",
       "version_major": 2,
       "version_minor": 0
      },
      "text/plain": [
       "Epoch [20/500]:   0%|          | 0/500 [00:00<?, ?it/s]"
      ]
     },
     "metadata": {},
     "output_type": "display_data"
    },
    {
     "name": "stdout",
     "output_type": "stream",
     "text": [
      "Epoch 20/500 — Recon: 0.1184, Disc_Cat: 1.2447, Gen_Cat: 2.2430, Disc_Style: 1.3382, Gen_Style: 0.8381, SemiSup: 0.5671\n",
      "Validation Accuracy: 95.54%\n",
      "\n",
      "Weights saved to semisupervised_results/500_epochs_adam_results_run_2_noise/weights_*.pth\n"
     ]
    },
    {
     "data": {
      "application/vnd.jupyter.widget-view+json": {
       "model_id": "bd033697eff44390bbca30eaa4618b1b",
       "version_major": 2,
       "version_minor": 0
      },
      "text/plain": [
       "Epoch [21/500]:   0%|          | 0/500 [00:00<?, ?it/s]"
      ]
     },
     "metadata": {},
     "output_type": "display_data"
    },
    {
     "name": "stdout",
     "output_type": "stream",
     "text": [
      "Epoch 21/500 — Recon: 0.1097, Disc_Cat: 1.3050, Gen_Cat: 1.5862, Disc_Style: 1.3890, Gen_Style: 0.7326, SemiSup: 0.3252\n",
      "Validation Accuracy: 96.47%\n",
      "\n",
      "Weights saved to semisupervised_results/500_epochs_adam_results_run_2_noise/weights_*.pth\n"
     ]
    },
    {
     "data": {
      "application/vnd.jupyter.widget-view+json": {
       "model_id": "d025e8ac6ee1449b97e23a4100551f2c",
       "version_major": 2,
       "version_minor": 0
      },
      "text/plain": [
       "Epoch [22/500]:   0%|          | 0/500 [00:00<?, ?it/s]"
      ]
     },
     "metadata": {},
     "output_type": "display_data"
    },
    {
     "name": "stdout",
     "output_type": "stream",
     "text": [
      "Epoch 22/500 — Recon: 0.1071, Disc_Cat: 1.3231, Gen_Cat: 1.3884, Disc_Style: 1.3869, Gen_Style: 0.6978, SemiSup: 0.2649\n",
      "Validation Accuracy: 97.11%\n",
      "\n",
      "Weights saved to semisupervised_results/500_epochs_adam_results_run_2_noise/weights_*.pth\n"
     ]
    },
    {
     "data": {
      "application/vnd.jupyter.widget-view+json": {
       "model_id": "29781ba884874992981244e176ffdd71",
       "version_major": 2,
       "version_minor": 0
      },
      "text/plain": [
       "Epoch [23/500]:   0%|          | 0/500 [00:00<?, ?it/s]"
      ]
     },
     "metadata": {},
     "output_type": "display_data"
    },
    {
     "name": "stdout",
     "output_type": "stream",
     "text": [
      "Epoch 23/500 — Recon: 0.1060, Disc_Cat: 1.3257, Gen_Cat: 1.4086, Disc_Style: 1.3865, Gen_Style: 0.6933, SemiSup: 0.2397\n",
      "Validation Accuracy: 97.12%\n",
      "\n",
      "Weights saved to semisupervised_results/500_epochs_adam_results_run_2_noise/weights_*.pth\n"
     ]
    },
    {
     "data": {
      "application/vnd.jupyter.widget-view+json": {
       "model_id": "1f9aefcc4e78486aa5b5131bc0b87b29",
       "version_major": 2,
       "version_minor": 0
      },
      "text/plain": [
       "Epoch [24/500]:   0%|          | 0/500 [00:00<?, ?it/s]"
      ]
     },
     "metadata": {},
     "output_type": "display_data"
    },
    {
     "name": "stdout",
     "output_type": "stream",
     "text": [
      "Epoch 24/500 — Recon: 0.1056, Disc_Cat: 1.3316, Gen_Cat: 1.3358, Disc_Style: 1.3868, Gen_Style: 0.6928, SemiSup: 0.2373\n",
      "Validation Accuracy: 96.97%\n",
      "\n",
      "Weights saved to semisupervised_results/500_epochs_adam_results_run_2_noise/weights_*.pth\n"
     ]
    },
    {
     "data": {
      "application/vnd.jupyter.widget-view+json": {
       "model_id": "f8a271168ff947a7963150dd383bbf3a",
       "version_major": 2,
       "version_minor": 0
      },
      "text/plain": [
       "Epoch [25/500]:   0%|          | 0/500 [00:00<?, ?it/s]"
      ]
     },
     "metadata": {},
     "output_type": "display_data"
    },
    {
     "name": "stdout",
     "output_type": "stream",
     "text": [
      "Epoch 25/500 — Recon: 0.1061, Disc_Cat: 1.3330, Gen_Cat: 1.3097, Disc_Style: 1.3877, Gen_Style: 0.6949, SemiSup: 0.2354\n",
      "Validation Accuracy: 97.44%\n",
      "\n",
      "Weights saved to semisupervised_results/500_epochs_adam_results_run_2_noise/weights_*.pth\n"
     ]
    },
    {
     "data": {
      "application/vnd.jupyter.widget-view+json": {
       "model_id": "a75521355cd142e6a419b6d80be08bfa",
       "version_major": 2,
       "version_minor": 0
      },
      "text/plain": [
       "Epoch [26/500]:   0%|          | 0/500 [00:00<?, ?it/s]"
      ]
     },
     "metadata": {},
     "output_type": "display_data"
    },
    {
     "name": "stdout",
     "output_type": "stream",
     "text": [
      "Epoch 26/500 — Recon: 0.1055, Disc_Cat: 1.3360, Gen_Cat: 1.3048, Disc_Style: 1.3862, Gen_Style: 0.6932, SemiSup: 0.2816\n",
      "Validation Accuracy: 96.70%\n",
      "\n",
      "Weights saved to semisupervised_results/500_epochs_adam_results_run_2_noise/weights_*.pth\n"
     ]
    },
    {
     "data": {
      "application/vnd.jupyter.widget-view+json": {
       "model_id": "ad1508e192274bbb80c0bad400637afc",
       "version_major": 2,
       "version_minor": 0
      },
      "text/plain": [
       "Epoch [27/500]:   0%|          | 0/500 [00:00<?, ?it/s]"
      ]
     },
     "metadata": {},
     "output_type": "display_data"
    },
    {
     "name": "stdout",
     "output_type": "stream",
     "text": [
      "Epoch 27/500 — Recon: 0.1126, Disc_Cat: 1.3337, Gen_Cat: 1.3830, Disc_Style: 1.4673, Gen_Style: 0.7951, SemiSup: 0.3978\n",
      "Validation Accuracy: 90.75%\n",
      "\n",
      "Weights saved to semisupervised_results/500_epochs_adam_results_run_2_noise/weights_*.pth\n"
     ]
    },
    {
     "data": {
      "application/vnd.jupyter.widget-view+json": {
       "model_id": "ba09cd77a4004db8b0de8e16624cb169",
       "version_major": 2,
       "version_minor": 0
      },
      "text/plain": [
       "Epoch [28/500]:   0%|          | 0/500 [00:00<?, ?it/s]"
      ]
     },
     "metadata": {},
     "output_type": "display_data"
    },
    {
     "name": "stdout",
     "output_type": "stream",
     "text": [
      "Epoch 28/500 — Recon: 0.1124, Disc_Cat: 1.3257, Gen_Cat: 1.4995, Disc_Style: 1.3491, Gen_Style: 1.0234, SemiSup: 0.3601\n",
      "Validation Accuracy: 97.14%\n",
      "\n",
      "Weights saved to semisupervised_results/500_epochs_adam_results_run_2_noise/weights_*.pth\n"
     ]
    },
    {
     "data": {
      "application/vnd.jupyter.widget-view+json": {
       "model_id": "3bb80c4398004151a77adf812839e289",
       "version_major": 2,
       "version_minor": 0
      },
      "text/plain": [
       "Epoch [29/500]:   0%|          | 0/500 [00:00<?, ?it/s]"
      ]
     },
     "metadata": {},
     "output_type": "display_data"
    },
    {
     "name": "stdout",
     "output_type": "stream",
     "text": [
      "Epoch 29/500 — Recon: 0.1064, Disc_Cat: 1.3395, Gen_Cat: 1.2906, Disc_Style: 1.3970, Gen_Style: 0.7982, SemiSup: 0.2298\n",
      "Validation Accuracy: 97.50%\n",
      "\n",
      "Weights saved to semisupervised_results/500_epochs_adam_results_run_2_noise/weights_*.pth\n"
     ]
    },
    {
     "data": {
      "application/vnd.jupyter.widget-view+json": {
       "model_id": "bf24b167a04045d4819c69b83aaa10c0",
       "version_major": 2,
       "version_minor": 0
      },
      "text/plain": [
       "Epoch [30/500]:   0%|          | 0/500 [00:00<?, ?it/s]"
      ]
     },
     "metadata": {},
     "output_type": "display_data"
    },
    {
     "name": "stdout",
     "output_type": "stream",
     "text": [
      "Epoch 30/500 — Recon: 0.1059, Disc_Cat: 1.3375, Gen_Cat: 1.3589, Disc_Style: 1.3848, Gen_Style: 0.7185, SemiSup: 0.2115\n",
      "Validation Accuracy: 97.06%\n",
      "\n",
      "Weights saved to semisupervised_results/500_epochs_adam_results_run_2_noise/weights_*.pth\n"
     ]
    },
    {
     "data": {
      "application/vnd.jupyter.widget-view+json": {
       "model_id": "6dfabe980c1340fc932bd4a035c5358e",
       "version_major": 2,
       "version_minor": 0
      },
      "text/plain": [
       "Epoch [31/500]:   0%|          | 0/500 [00:00<?, ?it/s]"
      ]
     },
     "metadata": {},
     "output_type": "display_data"
    },
    {
     "name": "stdout",
     "output_type": "stream",
     "text": [
      "Epoch 31/500 — Recon: 0.1089, Disc_Cat: 1.3247, Gen_Cat: 1.5975, Disc_Style: 1.3866, Gen_Style: 0.7343, SemiSup: 0.2282\n",
      "Validation Accuracy: 97.55%\n",
      "\n",
      "Weights saved to semisupervised_results/500_epochs_adam_results_run_2_noise/weights_*.pth\n"
     ]
    },
    {
     "data": {
      "application/vnd.jupyter.widget-view+json": {
       "model_id": "7cab1a4232d741e383bb48993d088cd7",
       "version_major": 2,
       "version_minor": 0
      },
      "text/plain": [
       "Epoch [32/500]:   0%|          | 0/500 [00:00<?, ?it/s]"
      ]
     },
     "metadata": {},
     "output_type": "display_data"
    },
    {
     "name": "stdout",
     "output_type": "stream",
     "text": [
      "Epoch 32/500 — Recon: 0.1047, Disc_Cat: 1.3376, Gen_Cat: 1.4153, Disc_Style: 1.3863, Gen_Style: 0.7021, SemiSup: 0.1709\n",
      "Validation Accuracy: 97.76%\n",
      "\n",
      "Weights saved to semisupervised_results/500_epochs_adam_results_run_2_noise/weights_*.pth\n"
     ]
    },
    {
     "data": {
      "application/vnd.jupyter.widget-view+json": {
       "model_id": "6691e21a2fd143d9a9b04b508601764b",
       "version_major": 2,
       "version_minor": 0
      },
      "text/plain": [
       "Epoch [33/500]:   0%|          | 0/500 [00:00<?, ?it/s]"
      ]
     },
     "metadata": {},
     "output_type": "display_data"
    },
    {
     "name": "stdout",
     "output_type": "stream",
     "text": [
      "Epoch 33/500 — Recon: 0.1042, Disc_Cat: 1.3405, Gen_Cat: 1.3458, Disc_Style: 1.3863, Gen_Style: 0.6940, SemiSup: 0.1767\n",
      "Validation Accuracy: 97.68%\n",
      "\n",
      "Weights saved to semisupervised_results/500_epochs_adam_results_run_2_noise/weights_*.pth\n"
     ]
    },
    {
     "data": {
      "application/vnd.jupyter.widget-view+json": {
       "model_id": "7ea12ea8a61a462c8d673f34ce62b54d",
       "version_major": 2,
       "version_minor": 0
      },
      "text/plain": [
       "Epoch [34/500]:   0%|          | 0/500 [00:00<?, ?it/s]"
      ]
     },
     "metadata": {},
     "output_type": "display_data"
    },
    {
     "name": "stdout",
     "output_type": "stream",
     "text": [
      "Epoch 34/500 — Recon: 0.1040, Disc_Cat: 1.3425, Gen_Cat: 1.3238, Disc_Style: 1.3856, Gen_Style: 0.6933, SemiSup: 0.1727\n",
      "Validation Accuracy: 97.54%\n",
      "\n",
      "Weights saved to semisupervised_results/500_epochs_adam_results_run_2_noise/weights_*.pth\n"
     ]
    },
    {
     "data": {
      "application/vnd.jupyter.widget-view+json": {
       "model_id": "b515db2c7fdc4680ac352b092e4c01cb",
       "version_major": 2,
       "version_minor": 0
      },
      "text/plain": [
       "Epoch [35/500]:   0%|          | 0/500 [00:00<?, ?it/s]"
      ]
     },
     "metadata": {},
     "output_type": "display_data"
    },
    {
     "name": "stdout",
     "output_type": "stream",
     "text": [
      "Epoch 35/500 — Recon: 0.1051, Disc_Cat: 1.3419, Gen_Cat: 1.3579, Disc_Style: 1.3830, Gen_Style: 0.6943, SemiSup: 0.2147\n",
      "Validation Accuracy: 97.01%\n",
      "\n",
      "Weights saved to semisupervised_results/500_epochs_adam_results_run_2_noise/weights_*.pth\n"
     ]
    },
    {
     "data": {
      "application/vnd.jupyter.widget-view+json": {
       "model_id": "c9df337c49fc4bc6bd144d1da1c02e26",
       "version_major": 2,
       "version_minor": 0
      },
      "text/plain": [
       "Epoch [36/500]:   0%|          | 0/500 [00:00<?, ?it/s]"
      ]
     },
     "metadata": {},
     "output_type": "display_data"
    },
    {
     "name": "stdout",
     "output_type": "stream",
     "text": [
      "Epoch 36/500 — Recon: 0.1062, Disc_Cat: 1.3352, Gen_Cat: 1.5106, Disc_Style: 1.3867, Gen_Style: 0.6963, SemiSup: 0.1727\n",
      "Validation Accuracy: 97.89%\n",
      "\n",
      "Weights saved to semisupervised_results/500_epochs_adam_results_run_2_noise/weights_*.pth\n"
     ]
    },
    {
     "data": {
      "application/vnd.jupyter.widget-view+json": {
       "model_id": "cf238c6dea13413297ca904b38e5b96f",
       "version_major": 2,
       "version_minor": 0
      },
      "text/plain": [
       "Epoch [37/500]:   0%|          | 0/500 [00:00<?, ?it/s]"
      ]
     },
     "metadata": {},
     "output_type": "display_data"
    },
    {
     "name": "stdout",
     "output_type": "stream",
     "text": [
      "Epoch 37/500 — Recon: 0.1068, Disc_Cat: 1.3356, Gen_Cat: 1.4689, Disc_Style: 1.3876, Gen_Style: 0.6953, SemiSup: 0.1430\n",
      "Validation Accuracy: 97.84%\n",
      "\n",
      "Weights saved to semisupervised_results/500_epochs_adam_results_run_2_noise/weights_*.pth\n"
     ]
    },
    {
     "data": {
      "application/vnd.jupyter.widget-view+json": {
       "model_id": "072b566826d5489fa86e2848fe27a1a0",
       "version_major": 2,
       "version_minor": 0
      },
      "text/plain": [
       "Epoch [38/500]:   0%|          | 0/500 [00:00<?, ?it/s]"
      ]
     },
     "metadata": {},
     "output_type": "display_data"
    },
    {
     "name": "stdout",
     "output_type": "stream",
     "text": [
      "Epoch 38/500 — Recon: 0.1042, Disc_Cat: 1.3405, Gen_Cat: 1.3987, Disc_Style: 1.3864, Gen_Style: 0.6934, SemiSup: 0.1219\n",
      "Validation Accuracy: 98.12%\n",
      "\n",
      "Weights saved to semisupervised_results/500_epochs_adam_results_run_2_noise/weights_*.pth\n"
     ]
    },
    {
     "data": {
      "application/vnd.jupyter.widget-view+json": {
       "model_id": "dbb1bfc3c625404e983f01a5e6ea9c3b",
       "version_major": 2,
       "version_minor": 0
      },
      "text/plain": [
       "Epoch [39/500]:   0%|          | 0/500 [00:00<?, ?it/s]"
      ]
     },
     "metadata": {},
     "output_type": "display_data"
    },
    {
     "name": "stdout",
     "output_type": "stream",
     "text": [
      "Epoch 39/500 — Recon: 0.1036, Disc_Cat: 1.3424, Gen_Cat: 1.4007, Disc_Style: 1.3863, Gen_Style: 0.6931, SemiSup: 0.1229\n",
      "Validation Accuracy: 98.09%\n",
      "\n",
      "Weights saved to semisupervised_results/500_epochs_adam_results_run_2_noise/weights_*.pth\n"
     ]
    },
    {
     "data": {
      "application/vnd.jupyter.widget-view+json": {
       "model_id": "758c997f191349478ae2eb3f01ac2239",
       "version_major": 2,
       "version_minor": 0
      },
      "text/plain": [
       "Epoch [40/500]:   0%|          | 0/500 [00:00<?, ?it/s]"
      ]
     },
     "metadata": {},
     "output_type": "display_data"
    },
    {
     "name": "stdout",
     "output_type": "stream",
     "text": [
      "Epoch 40/500 — Recon: 0.1036, Disc_Cat: 1.3444, Gen_Cat: 1.3661, Disc_Style: 1.3863, Gen_Style: 0.6932, SemiSup: 0.1190\n",
      "Validation Accuracy: 98.05%\n",
      "\n",
      "Weights saved to semisupervised_results/500_epochs_adam_results_run_2_noise/weights_*.pth\n"
     ]
    },
    {
     "data": {
      "application/vnd.jupyter.widget-view+json": {
       "model_id": "8230c51b9798473b9bacdfaeefa724d6",
       "version_major": 2,
       "version_minor": 0
      },
      "text/plain": [
       "Epoch [41/500]:   0%|          | 0/500 [00:00<?, ?it/s]"
      ]
     },
     "metadata": {},
     "output_type": "display_data"
    },
    {
     "name": "stdout",
     "output_type": "stream",
     "text": [
      "Epoch 41/500 — Recon: 0.1036, Disc_Cat: 1.3457, Gen_Cat: 1.3530, Disc_Style: 1.3863, Gen_Style: 0.6932, SemiSup: 0.1183\n",
      "Validation Accuracy: 98.21%\n",
      "\n",
      "Weights saved to semisupervised_results/500_epochs_adam_results_run_2_noise/weights_*.pth\n"
     ]
    },
    {
     "data": {
      "application/vnd.jupyter.widget-view+json": {
       "model_id": "e43accf02739475993a356aded55f985",
       "version_major": 2,
       "version_minor": 0
      },
      "text/plain": [
       "Epoch [42/500]:   0%|          | 0/500 [00:00<?, ?it/s]"
      ]
     },
     "metadata": {},
     "output_type": "display_data"
    },
    {
     "name": "stdout",
     "output_type": "stream",
     "text": [
      "Epoch 42/500 — Recon: 0.1055, Disc_Cat: 1.3429, Gen_Cat: 1.3991, Disc_Style: 1.3877, Gen_Style: 0.6937, SemiSup: 0.1198\n",
      "Validation Accuracy: 97.86%\n",
      "\n",
      "Weights saved to semisupervised_results/500_epochs_adam_results_run_2_noise/weights_*.pth\n"
     ]
    },
    {
     "data": {
      "application/vnd.jupyter.widget-view+json": {
       "model_id": "95e743ce1bcd4c72a825ff46963eba61",
       "version_major": 2,
       "version_minor": 0
      },
      "text/plain": [
       "Epoch [43/500]:   0%|          | 0/500 [00:00<?, ?it/s]"
      ]
     },
     "metadata": {},
     "output_type": "display_data"
    },
    {
     "name": "stdout",
     "output_type": "stream",
     "text": [
      "Epoch 43/500 — Recon: 0.1039, Disc_Cat: 1.3407, Gen_Cat: 1.4576, Disc_Style: 1.3864, Gen_Style: 0.6931, SemiSup: 0.1121\n",
      "Validation Accuracy: 97.84%\n",
      "\n",
      "Weights saved to semisupervised_results/500_epochs_adam_results_run_2_noise/weights_*.pth\n"
     ]
    },
    {
     "data": {
      "application/vnd.jupyter.widget-view+json": {
       "model_id": "704425844efd4edf8b45539eddbc3d2c",
       "version_major": 2,
       "version_minor": 0
      },
      "text/plain": [
       "Epoch [44/500]:   0%|          | 0/500 [00:00<?, ?it/s]"
      ]
     },
     "metadata": {},
     "output_type": "display_data"
    },
    {
     "name": "stdout",
     "output_type": "stream",
     "text": [
      "Epoch 44/500 — Recon: 0.1030, Disc_Cat: 1.3467, Gen_Cat: 1.3603, Disc_Style: 1.3863, Gen_Style: 0.6931, SemiSup: 0.1074\n",
      "Validation Accuracy: 98.34%\n",
      "\n",
      "Weights saved to semisupervised_results/500_epochs_adam_results_run_2_noise/weights_*.pth\n"
     ]
    },
    {
     "data": {
      "application/vnd.jupyter.widget-view+json": {
       "model_id": "f4d1f6b5ec7747848838bbb84046465e",
       "version_major": 2,
       "version_minor": 0
      },
      "text/plain": [
       "Epoch [45/500]:   0%|          | 0/500 [00:00<?, ?it/s]"
      ]
     },
     "metadata": {},
     "output_type": "display_data"
    },
    {
     "name": "stdout",
     "output_type": "stream",
     "text": [
      "Epoch 45/500 — Recon: 0.1029, Disc_Cat: 1.3468, Gen_Cat: 1.3874, Disc_Style: 1.3864, Gen_Style: 0.6931, SemiSup: 0.0972\n",
      "Validation Accuracy: 98.39%\n",
      "\n",
      "Weights saved to semisupervised_results/500_epochs_adam_results_run_2_noise/weights_*.pth\n"
     ]
    },
    {
     "data": {
      "application/vnd.jupyter.widget-view+json": {
       "model_id": "1567bf7429a048fb9732de21032aed24",
       "version_major": 2,
       "version_minor": 0
      },
      "text/plain": [
       "Epoch [46/500]:   0%|          | 0/500 [00:00<?, ?it/s]"
      ]
     },
     "metadata": {},
     "output_type": "display_data"
    },
    {
     "name": "stdout",
     "output_type": "stream",
     "text": [
      "Epoch 46/500 — Recon: 0.1027, Disc_Cat: 1.3491, Gen_Cat: 1.3303, Disc_Style: 1.3864, Gen_Style: 0.6931, SemiSup: 0.1009\n",
      "Validation Accuracy: 98.23%\n",
      "\n",
      "Weights saved to semisupervised_results/500_epochs_adam_results_run_2_noise/weights_*.pth\n"
     ]
    },
    {
     "data": {
      "application/vnd.jupyter.widget-view+json": {
       "model_id": "be38c8c33ccc4d59930f142b5ca04a6e",
       "version_major": 2,
       "version_minor": 0
      },
      "text/plain": [
       "Epoch [47/500]:   0%|          | 0/500 [00:00<?, ?it/s]"
      ]
     },
     "metadata": {},
     "output_type": "display_data"
    },
    {
     "name": "stdout",
     "output_type": "stream",
     "text": [
      "Epoch 47/500 — Recon: 0.1026, Disc_Cat: 1.3498, Gen_Cat: 1.3370, Disc_Style: 1.3866, Gen_Style: 0.6932, SemiSup: 0.0931\n",
      "Validation Accuracy: 98.18%\n",
      "\n",
      "Weights saved to semisupervised_results/500_epochs_adam_results_run_2_noise/weights_*.pth\n"
     ]
    },
    {
     "data": {
      "application/vnd.jupyter.widget-view+json": {
       "model_id": "290f4830dad94e0eab2b01a467147227",
       "version_major": 2,
       "version_minor": 0
      },
      "text/plain": [
       "Epoch [48/500]:   0%|          | 0/500 [00:00<?, ?it/s]"
      ]
     },
     "metadata": {},
     "output_type": "display_data"
    },
    {
     "name": "stdout",
     "output_type": "stream",
     "text": [
      "Epoch 48/500 — Recon: 0.1030, Disc_Cat: 1.3503, Gen_Cat: 1.3076, Disc_Style: 1.3863, Gen_Style: 0.6932, SemiSup: 0.0897\n",
      "Validation Accuracy: 98.26%\n",
      "\n",
      "Weights saved to semisupervised_results/500_epochs_adam_results_run_2_noise/weights_*.pth\n"
     ]
    },
    {
     "data": {
      "application/vnd.jupyter.widget-view+json": {
       "model_id": "c5604c0d0d6246db88f13db0b30a5910",
       "version_major": 2,
       "version_minor": 0
      },
      "text/plain": [
       "Epoch [49/500]:   0%|          | 0/500 [00:00<?, ?it/s]"
      ]
     },
     "metadata": {},
     "output_type": "display_data"
    },
    {
     "name": "stdout",
     "output_type": "stream",
     "text": [
      "Epoch 49/500 — Recon: 0.1029, Disc_Cat: 1.3457, Gen_Cat: 1.4351, Disc_Style: 1.3864, Gen_Style: 0.6932, SemiSup: 0.0933\n",
      "Validation Accuracy: 98.52%\n",
      "\n",
      "Weights saved to semisupervised_results/500_epochs_adam_results_run_2_noise/weights_*.pth\n"
     ]
    },
    {
     "data": {
      "application/vnd.jupyter.widget-view+json": {
       "model_id": "66282507de364cfd9e2cee40d524bb20",
       "version_major": 2,
       "version_minor": 0
      },
      "text/plain": [
       "Epoch [50/500]:   0%|          | 0/500 [00:00<?, ?it/s]"
      ]
     },
     "metadata": {},
     "output_type": "display_data"
    },
    {
     "name": "stdout",
     "output_type": "stream",
     "text": [
      "Epoch 50/500 — Recon: 0.1022, Disc_Cat: 1.3510, Gen_Cat: 1.3079, Disc_Style: 1.3863, Gen_Style: 0.6931, SemiSup: 0.0873\n",
      "Validation Accuracy: 98.39%\n",
      "\n",
      "Weights saved to semisupervised_results/500_epochs_adam_results_run_2_noise/weights_epoch_50_*.pth\n",
      "Weights saved to semisupervised_results/500_epochs_adam_results_run_2_noise/weights_*.pth\n"
     ]
    },
    {
     "data": {
      "application/vnd.jupyter.widget-view+json": {
       "model_id": "693d813aa3e5413f801525323618afd7",
       "version_major": 2,
       "version_minor": 0
      },
      "text/plain": [
       "Epoch [51/500]:   0%|          | 0/500 [00:00<?, ?it/s]"
      ]
     },
     "metadata": {},
     "output_type": "display_data"
    },
    {
     "name": "stdout",
     "output_type": "stream",
     "text": [
      "Epoch 51/500 — Recon: 0.1013, Disc_Cat: 1.3594, Gen_Cat: 1.1031, Disc_Style: 1.3863, Gen_Style: 0.6932, SemiSup: 0.0556\n",
      "Validation Accuracy: 98.75%\n",
      "\n",
      "Weights saved to semisupervised_results/500_epochs_adam_results_run_2_noise/weights_*.pth\n"
     ]
    },
    {
     "data": {
      "application/vnd.jupyter.widget-view+json": {
       "model_id": "f7f9bf5332994bbaab5c5564ea44f960",
       "version_major": 2,
       "version_minor": 0
      },
      "text/plain": [
       "Epoch [52/500]:   0%|          | 0/500 [00:00<?, ?it/s]"
      ]
     },
     "metadata": {},
     "output_type": "display_data"
    },
    {
     "name": "stdout",
     "output_type": "stream",
     "text": [
      "Epoch 52/500 — Recon: 0.1012, Disc_Cat: 1.3582, Gen_Cat: 1.1440, Disc_Style: 1.3863, Gen_Style: 0.6931, SemiSup: 0.0473\n",
      "Validation Accuracy: 98.83%\n",
      "\n",
      "Weights saved to semisupervised_results/500_epochs_adam_results_run_2_noise/weights_*.pth\n"
     ]
    },
    {
     "data": {
      "application/vnd.jupyter.widget-view+json": {
       "model_id": "b5e0fc40275a4ddab8dcd3f215eaa340",
       "version_major": 2,
       "version_minor": 0
      },
      "text/plain": [
       "Epoch [53/500]:   0%|          | 0/500 [00:00<?, ?it/s]"
      ]
     },
     "metadata": {},
     "output_type": "display_data"
    },
    {
     "name": "stdout",
     "output_type": "stream",
     "text": [
      "Epoch 53/500 — Recon: 0.1012, Disc_Cat: 1.3535, Gen_Cat: 1.2116, Disc_Style: 1.3862, Gen_Style: 0.6932, SemiSup: 0.0438\n",
      "Validation Accuracy: 98.79%\n",
      "\n",
      "Weights saved to semisupervised_results/500_epochs_adam_results_run_2_noise/weights_*.pth\n"
     ]
    },
    {
     "data": {
      "application/vnd.jupyter.widget-view+json": {
       "model_id": "c72f62dcb51d4843ae1c3650734314a1",
       "version_major": 2,
       "version_minor": 0
      },
      "text/plain": [
       "Epoch [54/500]:   0%|          | 0/500 [00:00<?, ?it/s]"
      ]
     },
     "metadata": {},
     "output_type": "display_data"
    },
    {
     "name": "stdout",
     "output_type": "stream",
     "text": [
      "Epoch 54/500 — Recon: 0.1012, Disc_Cat: 1.3542, Gen_Cat: 1.2026, Disc_Style: 1.3863, Gen_Style: 0.6932, SemiSup: 0.0456\n",
      "Validation Accuracy: 98.76%\n",
      "\n",
      "Weights saved to semisupervised_results/500_epochs_adam_results_run_2_noise/weights_*.pth\n"
     ]
    },
    {
     "data": {
      "application/vnd.jupyter.widget-view+json": {
       "model_id": "e1e44695ceaa45cc9c0d64195dc27ef9",
       "version_major": 2,
       "version_minor": 0
      },
      "text/plain": [
       "Epoch [55/500]:   0%|          | 0/500 [00:00<?, ?it/s]"
      ]
     },
     "metadata": {},
     "output_type": "display_data"
    },
    {
     "name": "stdout",
     "output_type": "stream",
     "text": [
      "Epoch 55/500 — Recon: 0.1013, Disc_Cat: 1.3528, Gen_Cat: 1.2307, Disc_Style: 1.3861, Gen_Style: 0.6934, SemiSup: 0.0425\n",
      "Validation Accuracy: 98.80%\n",
      "\n",
      "Weights saved to semisupervised_results/500_epochs_adam_results_run_2_noise/weights_*.pth\n"
     ]
    },
    {
     "data": {
      "application/vnd.jupyter.widget-view+json": {
       "model_id": "8f3a5ba5fb20404898e722b0ac5c128d",
       "version_major": 2,
       "version_minor": 0
      },
      "text/plain": [
       "Epoch [56/500]:   0%|          | 0/500 [00:00<?, ?it/s]"
      ]
     },
     "metadata": {},
     "output_type": "display_data"
    },
    {
     "name": "stdout",
     "output_type": "stream",
     "text": [
      "Epoch 56/500 — Recon: 0.1014, Disc_Cat: 1.3531, Gen_Cat: 1.2271, Disc_Style: 1.3864, Gen_Style: 0.6932, SemiSup: 0.0434\n",
      "Validation Accuracy: 98.78%\n",
      "\n",
      "Weights saved to semisupervised_results/500_epochs_adam_results_run_2_noise/weights_*.pth\n"
     ]
    },
    {
     "data": {
      "application/vnd.jupyter.widget-view+json": {
       "model_id": "f1621af8b69440a5b1d5c5df2715b986",
       "version_major": 2,
       "version_minor": 0
      },
      "text/plain": [
       "Epoch [57/500]:   0%|          | 0/500 [00:00<?, ?it/s]"
      ]
     },
     "metadata": {},
     "output_type": "display_data"
    },
    {
     "name": "stdout",
     "output_type": "stream",
     "text": [
      "Epoch 57/500 — Recon: 0.1011, Disc_Cat: 1.3533, Gen_Cat: 1.2141, Disc_Style: 1.3863, Gen_Style: 0.6932, SemiSup: 0.0466\n",
      "Validation Accuracy: 98.77%\n",
      "\n",
      "Weights saved to semisupervised_results/500_epochs_adam_results_run_2_noise/weights_*.pth\n"
     ]
    },
    {
     "data": {
      "application/vnd.jupyter.widget-view+json": {
       "model_id": "b31ee39cc70849d79fc95a03e5285504",
       "version_major": 2,
       "version_minor": 0
      },
      "text/plain": [
       "Epoch [58/500]:   0%|          | 0/500 [00:00<?, ?it/s]"
      ]
     },
     "metadata": {},
     "output_type": "display_data"
    },
    {
     "name": "stdout",
     "output_type": "stream",
     "text": [
      "Epoch 58/500 — Recon: 0.1010, Disc_Cat: 1.3548, Gen_Cat: 1.2183, Disc_Style: 1.3863, Gen_Style: 0.6932, SemiSup: 0.0397\n",
      "Validation Accuracy: 98.75%\n",
      "\n",
      "Weights saved to semisupervised_results/500_epochs_adam_results_run_2_noise/weights_*.pth\n"
     ]
    },
    {
     "data": {
      "application/vnd.jupyter.widget-view+json": {
       "model_id": "a9c54db3746e47bb8a932effad73f66a",
       "version_major": 2,
       "version_minor": 0
      },
      "text/plain": [
       "Epoch [59/500]:   0%|          | 0/500 [00:00<?, ?it/s]"
      ]
     },
     "metadata": {},
     "output_type": "display_data"
    },
    {
     "name": "stdout",
     "output_type": "stream",
     "text": [
      "Epoch 59/500 — Recon: 0.1009, Disc_Cat: 1.3558, Gen_Cat: 1.2050, Disc_Style: 1.3862, Gen_Style: 0.6932, SemiSup: 0.0384\n",
      "Validation Accuracy: 98.76%\n",
      "\n",
      "Weights saved to semisupervised_results/500_epochs_adam_results_run_2_noise/weights_*.pth\n"
     ]
    },
    {
     "data": {
      "application/vnd.jupyter.widget-view+json": {
       "model_id": "d6f4fcb17b8d4e35ad69abe0009f1f73",
       "version_major": 2,
       "version_minor": 0
      },
      "text/plain": [
       "Epoch [60/500]:   0%|          | 0/500 [00:00<?, ?it/s]"
      ]
     },
     "metadata": {},
     "output_type": "display_data"
    },
    {
     "name": "stdout",
     "output_type": "stream",
     "text": [
      "Epoch 60/500 — Recon: 0.1009, Disc_Cat: 1.3552, Gen_Cat: 1.2141, Disc_Style: 1.3863, Gen_Style: 0.6932, SemiSup: 0.0413\n",
      "Validation Accuracy: 98.80%\n",
      "\n",
      "Weights saved to semisupervised_results/500_epochs_adam_results_run_2_noise/weights_*.pth\n"
     ]
    },
    {
     "data": {
      "application/vnd.jupyter.widget-view+json": {
       "model_id": "6becac88db834ceebc4bd8df4de86c8e",
       "version_major": 2,
       "version_minor": 0
      },
      "text/plain": [
       "Epoch [61/500]:   0%|          | 0/500 [00:00<?, ?it/s]"
      ]
     },
     "metadata": {},
     "output_type": "display_data"
    },
    {
     "name": "stdout",
     "output_type": "stream",
     "text": [
      "Epoch 61/500 — Recon: 0.1009, Disc_Cat: 1.3546, Gen_Cat: 1.2372, Disc_Style: 1.3863, Gen_Style: 0.6932, SemiSup: 0.0385\n",
      "Validation Accuracy: 98.83%\n",
      "\n",
      "Weights saved to semisupervised_results/500_epochs_adam_results_run_2_noise/weights_*.pth\n"
     ]
    },
    {
     "data": {
      "application/vnd.jupyter.widget-view+json": {
       "model_id": "0075161c4cce47039c413d1e74716e64",
       "version_major": 2,
       "version_minor": 0
      },
      "text/plain": [
       "Epoch [62/500]:   0%|          | 0/500 [00:00<?, ?it/s]"
      ]
     },
     "metadata": {},
     "output_type": "display_data"
    },
    {
     "name": "stdout",
     "output_type": "stream",
     "text": [
      "Epoch 62/500 — Recon: 0.1008, Disc_Cat: 1.3537, Gen_Cat: 1.2477, Disc_Style: 1.3862, Gen_Style: 0.6932, SemiSup: 0.0404\n",
      "Validation Accuracy: 98.80%\n",
      "\n",
      "Weights saved to semisupervised_results/500_epochs_adam_results_run_2_noise/weights_*.pth\n"
     ]
    },
    {
     "data": {
      "application/vnd.jupyter.widget-view+json": {
       "model_id": "dae48bdbe119461b9ef3315c50414186",
       "version_major": 2,
       "version_minor": 0
      },
      "text/plain": [
       "Epoch [63/500]:   0%|          | 0/500 [00:00<?, ?it/s]"
      ]
     },
     "metadata": {},
     "output_type": "display_data"
    },
    {
     "name": "stdout",
     "output_type": "stream",
     "text": [
      "Epoch 63/500 — Recon: 0.1009, Disc_Cat: 1.3525, Gen_Cat: 1.2586, Disc_Style: 1.3863, Gen_Style: 0.6932, SemiSup: 0.0370\n",
      "Validation Accuracy: 98.81%\n",
      "\n",
      "Weights saved to semisupervised_results/500_epochs_adam_results_run_2_noise/weights_*.pth\n"
     ]
    },
    {
     "data": {
      "application/vnd.jupyter.widget-view+json": {
       "model_id": "910dd65940cc4d0aa407891fa88255e9",
       "version_major": 2,
       "version_minor": 0
      },
      "text/plain": [
       "Epoch [64/500]:   0%|          | 0/500 [00:00<?, ?it/s]"
      ]
     },
     "metadata": {},
     "output_type": "display_data"
    },
    {
     "name": "stdout",
     "output_type": "stream",
     "text": [
      "Epoch 64/500 — Recon: 0.1010, Disc_Cat: 1.3533, Gen_Cat: 1.2546, Disc_Style: 1.3863, Gen_Style: 0.6933, SemiSup: 0.0360\n",
      "Validation Accuracy: 98.81%\n",
      "\n",
      "Weights saved to semisupervised_results/500_epochs_adam_results_run_2_noise/weights_*.pth\n"
     ]
    },
    {
     "data": {
      "application/vnd.jupyter.widget-view+json": {
       "model_id": "266478f180c149f59b99058834c09ce0",
       "version_major": 2,
       "version_minor": 0
      },
      "text/plain": [
       "Epoch [65/500]:   0%|          | 0/500 [00:00<?, ?it/s]"
      ]
     },
     "metadata": {},
     "output_type": "display_data"
    },
    {
     "name": "stdout",
     "output_type": "stream",
     "text": [
      "Epoch 65/500 — Recon: 0.1009, Disc_Cat: 1.3517, Gen_Cat: 1.2804, Disc_Style: 1.3865, Gen_Style: 0.6931, SemiSup: 0.0377\n",
      "Validation Accuracy: 98.88%\n",
      "\n",
      "Weights saved to semisupervised_results/500_epochs_adam_results_run_2_noise/weights_*.pth\n"
     ]
    },
    {
     "data": {
      "application/vnd.jupyter.widget-view+json": {
       "model_id": "31125af773414e3596fc3b418171305d",
       "version_major": 2,
       "version_minor": 0
      },
      "text/plain": [
       "Epoch [66/500]:   0%|          | 0/500 [00:00<?, ?it/s]"
      ]
     },
     "metadata": {},
     "output_type": "display_data"
    },
    {
     "name": "stdout",
     "output_type": "stream",
     "text": [
      "Epoch 66/500 — Recon: 0.1008, Disc_Cat: 1.3531, Gen_Cat: 1.2476, Disc_Style: 1.3864, Gen_Style: 0.6932, SemiSup: 0.0354\n",
      "Validation Accuracy: 98.82%\n",
      "\n",
      "Weights saved to semisupervised_results/500_epochs_adam_results_run_2_noise/weights_*.pth\n"
     ]
    },
    {
     "data": {
      "application/vnd.jupyter.widget-view+json": {
       "model_id": "cc1aa34580bf403892be9c58830f488d",
       "version_major": 2,
       "version_minor": 0
      },
      "text/plain": [
       "Epoch [67/500]:   0%|          | 0/500 [00:00<?, ?it/s]"
      ]
     },
     "metadata": {},
     "output_type": "display_data"
    },
    {
     "name": "stdout",
     "output_type": "stream",
     "text": [
      "Epoch 67/500 — Recon: 0.1008, Disc_Cat: 1.3541, Gen_Cat: 1.2655, Disc_Style: 1.3862, Gen_Style: 0.6932, SemiSup: 0.0332\n",
      "Validation Accuracy: 98.82%\n",
      "\n",
      "Weights saved to semisupervised_results/500_epochs_adam_results_run_2_noise/weights_*.pth\n"
     ]
    },
    {
     "data": {
      "application/vnd.jupyter.widget-view+json": {
       "model_id": "464c14b938fe440dbb43b01faa9d4fa2",
       "version_major": 2,
       "version_minor": 0
      },
      "text/plain": [
       "Epoch [68/500]:   0%|          | 0/500 [00:00<?, ?it/s]"
      ]
     },
     "metadata": {},
     "output_type": "display_data"
    },
    {
     "name": "stdout",
     "output_type": "stream",
     "text": [
      "Epoch 68/500 — Recon: 0.1008, Disc_Cat: 1.3546, Gen_Cat: 1.2679, Disc_Style: 1.3863, Gen_Style: 0.6932, SemiSup: 0.0356\n",
      "Validation Accuracy: 98.79%\n",
      "\n",
      "Weights saved to semisupervised_results/500_epochs_adam_results_run_2_noise/weights_*.pth\n"
     ]
    },
    {
     "data": {
      "application/vnd.jupyter.widget-view+json": {
       "model_id": "8e9d7300529a499c839e7dab9bbe24be",
       "version_major": 2,
       "version_minor": 0
      },
      "text/plain": [
       "Epoch [69/500]:   0%|          | 0/500 [00:00<?, ?it/s]"
      ]
     },
     "metadata": {},
     "output_type": "display_data"
    },
    {
     "name": "stdout",
     "output_type": "stream",
     "text": [
      "Epoch 69/500 — Recon: 0.1008, Disc_Cat: 1.3532, Gen_Cat: 1.2780, Disc_Style: 1.3861, Gen_Style: 0.6934, SemiSup: 0.0371\n",
      "Validation Accuracy: 98.75%\n",
      "\n",
      "Weights saved to semisupervised_results/500_epochs_adam_results_run_2_noise/weights_*.pth\n"
     ]
    },
    {
     "data": {
      "application/vnd.jupyter.widget-view+json": {
       "model_id": "08a6da8c5b68487aac713d62c6db8de5",
       "version_major": 2,
       "version_minor": 0
      },
      "text/plain": [
       "Epoch [70/500]:   0%|          | 0/500 [00:00<?, ?it/s]"
      ]
     },
     "metadata": {},
     "output_type": "display_data"
    },
    {
     "name": "stdout",
     "output_type": "stream",
     "text": [
      "Epoch 70/500 — Recon: 0.1013, Disc_Cat: 1.3530, Gen_Cat: 1.2815, Disc_Style: 1.3865, Gen_Style: 0.6934, SemiSup: 0.0382\n",
      "Validation Accuracy: 98.77%\n",
      "\n",
      "Weights saved to semisupervised_results/500_epochs_adam_results_run_2_noise/weights_*.pth\n"
     ]
    },
    {
     "data": {
      "application/vnd.jupyter.widget-view+json": {
       "model_id": "0bfacfb239fd4ef4a959c3b3ef926a85",
       "version_major": 2,
       "version_minor": 0
      },
      "text/plain": [
       "Epoch [71/500]:   0%|          | 0/500 [00:00<?, ?it/s]"
      ]
     },
     "metadata": {},
     "output_type": "display_data"
    },
    {
     "name": "stdout",
     "output_type": "stream",
     "text": [
      "Epoch 71/500 — Recon: 0.1012, Disc_Cat: 1.3538, Gen_Cat: 1.2717, Disc_Style: 1.3864, Gen_Style: 0.6934, SemiSup: 0.0339\n",
      "Validation Accuracy: 98.78%\n",
      "\n",
      "Weights saved to semisupervised_results/500_epochs_adam_results_run_2_noise/weights_*.pth\n"
     ]
    },
    {
     "data": {
      "application/vnd.jupyter.widget-view+json": {
       "model_id": "70072b4eeafd4a01a67ed115ad91d79b",
       "version_major": 2,
       "version_minor": 0
      },
      "text/plain": [
       "Epoch [72/500]:   0%|          | 0/500 [00:00<?, ?it/s]"
      ]
     },
     "metadata": {},
     "output_type": "display_data"
    },
    {
     "name": "stdout",
     "output_type": "stream",
     "text": [
      "Epoch 72/500 — Recon: 0.1014, Disc_Cat: 1.3539, Gen_Cat: 1.2854, Disc_Style: 1.3868, Gen_Style: 0.6934, SemiSup: 0.0404\n",
      "Validation Accuracy: 98.83%\n",
      "\n",
      "Weights saved to semisupervised_results/500_epochs_adam_results_run_2_noise/weights_*.pth\n"
     ]
    },
    {
     "data": {
      "application/vnd.jupyter.widget-view+json": {
       "model_id": "b4d0c89f34b8427f86bc3ad0c171eea6",
       "version_major": 2,
       "version_minor": 0
      },
      "text/plain": [
       "Epoch [73/500]:   0%|          | 0/500 [00:00<?, ?it/s]"
      ]
     },
     "metadata": {},
     "output_type": "display_data"
    },
    {
     "name": "stdout",
     "output_type": "stream",
     "text": [
      "Epoch 73/500 — Recon: 0.1013, Disc_Cat: 1.3527, Gen_Cat: 1.3152, Disc_Style: 1.3857, Gen_Style: 0.6938, SemiSup: 0.0369\n",
      "Validation Accuracy: 98.84%\n",
      "\n",
      "Weights saved to semisupervised_results/500_epochs_adam_results_run_2_noise/weights_*.pth\n"
     ]
    },
    {
     "data": {
      "application/vnd.jupyter.widget-view+json": {
       "model_id": "295ceffc5aab486a83360a84e535cd5e",
       "version_major": 2,
       "version_minor": 0
      },
      "text/plain": [
       "Epoch [74/500]:   0%|          | 0/500 [00:00<?, ?it/s]"
      ]
     },
     "metadata": {},
     "output_type": "display_data"
    },
    {
     "name": "stdout",
     "output_type": "stream",
     "text": [
      "Epoch 74/500 — Recon: 0.1015, Disc_Cat: 1.3551, Gen_Cat: 1.2785, Disc_Style: 1.3872, Gen_Style: 0.6934, SemiSup: 0.0373\n",
      "Validation Accuracy: 98.83%\n",
      "\n",
      "Weights saved to semisupervised_results/500_epochs_adam_results_run_2_noise/weights_*.pth\n"
     ]
    },
    {
     "data": {
      "application/vnd.jupyter.widget-view+json": {
       "model_id": "d8eb1386e09e47a6a711657015e05c30",
       "version_major": 2,
       "version_minor": 0
      },
      "text/plain": [
       "Epoch [75/500]:   0%|          | 0/500 [00:00<?, ?it/s]"
      ]
     },
     "metadata": {},
     "output_type": "display_data"
    },
    {
     "name": "stdout",
     "output_type": "stream",
     "text": [
      "Epoch 75/500 — Recon: 0.1013, Disc_Cat: 1.3554, Gen_Cat: 1.2922, Disc_Style: 1.3864, Gen_Style: 0.6930, SemiSup: 0.0344\n",
      "Validation Accuracy: 98.74%\n",
      "\n",
      "Weights saved to semisupervised_results/500_epochs_adam_results_run_2_noise/weights_*.pth\n"
     ]
    },
    {
     "data": {
      "application/vnd.jupyter.widget-view+json": {
       "model_id": "472be6c6be7d47589f843d3b97f3ed61",
       "version_major": 2,
       "version_minor": 0
      },
      "text/plain": [
       "Epoch [76/500]:   0%|          | 0/500 [00:00<?, ?it/s]"
      ]
     },
     "metadata": {},
     "output_type": "display_data"
    },
    {
     "name": "stdout",
     "output_type": "stream",
     "text": [
      "Epoch 76/500 — Recon: 0.1016, Disc_Cat: 1.3550, Gen_Cat: 1.2884, Disc_Style: 1.3867, Gen_Style: 0.6938, SemiSup: 0.0363\n",
      "Validation Accuracy: 98.79%\n",
      "\n",
      "Weights saved to semisupervised_results/500_epochs_adam_results_run_2_noise/weights_*.pth\n"
     ]
    },
    {
     "data": {
      "application/vnd.jupyter.widget-view+json": {
       "model_id": "12848e0994f14840879ccc03832fdd2f",
       "version_major": 2,
       "version_minor": 0
      },
      "text/plain": [
       "Epoch [77/500]:   0%|          | 0/500 [00:00<?, ?it/s]"
      ]
     },
     "metadata": {},
     "output_type": "display_data"
    },
    {
     "name": "stdout",
     "output_type": "stream",
     "text": [
      "Epoch 77/500 — Recon: 0.1013, Disc_Cat: 1.3541, Gen_Cat: 1.3033, Disc_Style: 1.3858, Gen_Style: 0.6937, SemiSup: 0.0328\n",
      "Validation Accuracy: 98.79%\n",
      "\n",
      "Weights saved to semisupervised_results/500_epochs_adam_results_run_2_noise/weights_*.pth\n"
     ]
    },
    {
     "data": {
      "application/vnd.jupyter.widget-view+json": {
       "model_id": "0df2f06072604c028ecef009760d1eb6",
       "version_major": 2,
       "version_minor": 0
      },
      "text/plain": [
       "Epoch [78/500]:   0%|          | 0/500 [00:00<?, ?it/s]"
      ]
     },
     "metadata": {},
     "output_type": "display_data"
    },
    {
     "name": "stdout",
     "output_type": "stream",
     "text": [
      "Epoch 78/500 — Recon: 0.1015, Disc_Cat: 1.3553, Gen_Cat: 1.2989, Disc_Style: 1.3857, Gen_Style: 0.6939, SemiSup: 0.0378\n",
      "Validation Accuracy: 98.88%\n",
      "\n",
      "Weights saved to semisupervised_results/500_epochs_adam_results_run_2_noise/weights_*.pth\n"
     ]
    },
    {
     "data": {
      "application/vnd.jupyter.widget-view+json": {
       "model_id": "618d49e66ff54332b40c735f501c11b0",
       "version_major": 2,
       "version_minor": 0
      },
      "text/plain": [
       "Epoch [79/500]:   0%|          | 0/500 [00:00<?, ?it/s]"
      ]
     },
     "metadata": {},
     "output_type": "display_data"
    },
    {
     "name": "stdout",
     "output_type": "stream",
     "text": [
      "Epoch 79/500 — Recon: 0.1015, Disc_Cat: 1.3560, Gen_Cat: 1.2904, Disc_Style: 1.3868, Gen_Style: 0.6935, SemiSup: 0.0376\n",
      "Validation Accuracy: 98.82%\n",
      "\n",
      "Weights saved to semisupervised_results/500_epochs_adam_results_run_2_noise/weights_*.pth\n"
     ]
    },
    {
     "data": {
      "application/vnd.jupyter.widget-view+json": {
       "model_id": "56f722e462424762bcf0cf039a1a0263",
       "version_major": 2,
       "version_minor": 0
      },
      "text/plain": [
       "Epoch [80/500]:   0%|          | 0/500 [00:00<?, ?it/s]"
      ]
     },
     "metadata": {},
     "output_type": "display_data"
    },
    {
     "name": "stdout",
     "output_type": "stream",
     "text": [
      "Epoch 80/500 — Recon: 0.1013, Disc_Cat: 1.3553, Gen_Cat: 1.2958, Disc_Style: 1.3865, Gen_Style: 0.6931, SemiSup: 0.0348\n",
      "Validation Accuracy: 98.87%\n",
      "\n",
      "Weights saved to semisupervised_results/500_epochs_adam_results_run_2_noise/weights_*.pth\n"
     ]
    },
    {
     "data": {
      "application/vnd.jupyter.widget-view+json": {
       "model_id": "3dbc20a09717440ba2ad38f7c012b86c",
       "version_major": 2,
       "version_minor": 0
      },
      "text/plain": [
       "Epoch [81/500]:   0%|          | 0/500 [00:00<?, ?it/s]"
      ]
     },
     "metadata": {},
     "output_type": "display_data"
    },
    {
     "name": "stdout",
     "output_type": "stream",
     "text": [
      "Epoch 81/500 — Recon: 0.1012, Disc_Cat: 1.3572, Gen_Cat: 1.2728, Disc_Style: 1.3865, Gen_Style: 0.6937, SemiSup: 0.0347\n",
      "Validation Accuracy: 98.79%\n",
      "\n",
      "Weights saved to semisupervised_results/500_epochs_adam_results_run_2_noise/weights_*.pth\n"
     ]
    },
    {
     "data": {
      "application/vnd.jupyter.widget-view+json": {
       "model_id": "ece1f11de98342058b82524709bb65bf",
       "version_major": 2,
       "version_minor": 0
      },
      "text/plain": [
       "Epoch [82/500]:   0%|          | 0/500 [00:00<?, ?it/s]"
      ]
     },
     "metadata": {},
     "output_type": "display_data"
    },
    {
     "name": "stdout",
     "output_type": "stream",
     "text": [
      "Epoch 82/500 — Recon: 0.1011, Disc_Cat: 1.3584, Gen_Cat: 1.2561, Disc_Style: 1.3862, Gen_Style: 0.6930, SemiSup: 0.0316\n",
      "Validation Accuracy: 98.82%\n",
      "\n",
      "Weights saved to semisupervised_results/500_epochs_adam_results_run_2_noise/weights_*.pth\n"
     ]
    },
    {
     "data": {
      "application/vnd.jupyter.widget-view+json": {
       "model_id": "e7478481533b461e96108ff6095f7ffe",
       "version_major": 2,
       "version_minor": 0
      },
      "text/plain": [
       "Epoch [83/500]:   0%|          | 0/500 [00:00<?, ?it/s]"
      ]
     },
     "metadata": {},
     "output_type": "display_data"
    },
    {
     "name": "stdout",
     "output_type": "stream",
     "text": [
      "Epoch 83/500 — Recon: 0.1011, Disc_Cat: 1.3567, Gen_Cat: 1.2965, Disc_Style: 1.3862, Gen_Style: 0.6933, SemiSup: 0.0357\n",
      "Validation Accuracy: 98.77%\n",
      "\n",
      "Weights saved to semisupervised_results/500_epochs_adam_results_run_2_noise/weights_*.pth\n"
     ]
    },
    {
     "data": {
      "application/vnd.jupyter.widget-view+json": {
       "model_id": "cd9fa4b27a244670ae40e2b191cea6b2",
       "version_major": 2,
       "version_minor": 0
      },
      "text/plain": [
       "Epoch [84/500]:   0%|          | 0/500 [00:00<?, ?it/s]"
      ]
     },
     "metadata": {},
     "output_type": "display_data"
    },
    {
     "name": "stdout",
     "output_type": "stream",
     "text": [
      "Epoch 84/500 — Recon: 0.1010, Disc_Cat: 1.3571, Gen_Cat: 1.3028, Disc_Style: 1.3861, Gen_Style: 0.6934, SemiSup: 0.0332\n",
      "Validation Accuracy: 98.76%\n",
      "\n",
      "Weights saved to semisupervised_results/500_epochs_adam_results_run_2_noise/weights_*.pth\n"
     ]
    },
    {
     "data": {
      "application/vnd.jupyter.widget-view+json": {
       "model_id": "b9833ec241604c8283177d2e7624c52d",
       "version_major": 2,
       "version_minor": 0
      },
      "text/plain": [
       "Epoch [85/500]:   0%|          | 0/500 [00:00<?, ?it/s]"
      ]
     },
     "metadata": {},
     "output_type": "display_data"
    },
    {
     "name": "stdout",
     "output_type": "stream",
     "text": [
      "Epoch 85/500 — Recon: 0.1011, Disc_Cat: 1.3581, Gen_Cat: 1.2905, Disc_Style: 1.3862, Gen_Style: 0.6933, SemiSup: 0.0337\n",
      "Validation Accuracy: 98.84%\n",
      "\n",
      "Weights saved to semisupervised_results/500_epochs_adam_results_run_2_noise/weights_*.pth\n"
     ]
    },
    {
     "data": {
      "application/vnd.jupyter.widget-view+json": {
       "model_id": "4ea34526ed8349f3afb844d1a9b3b3df",
       "version_major": 2,
       "version_minor": 0
      },
      "text/plain": [
       "Epoch [86/500]:   0%|          | 0/500 [00:00<?, ?it/s]"
      ]
     },
     "metadata": {},
     "output_type": "display_data"
    },
    {
     "name": "stdout",
     "output_type": "stream",
     "text": [
      "Epoch 86/500 — Recon: 0.1010, Disc_Cat: 1.3575, Gen_Cat: 1.2943, Disc_Style: 1.3861, Gen_Style: 0.6933, SemiSup: 0.0340\n",
      "Validation Accuracy: 98.84%\n",
      "\n",
      "Weights saved to semisupervised_results/500_epochs_adam_results_run_2_noise/weights_*.pth\n"
     ]
    },
    {
     "data": {
      "application/vnd.jupyter.widget-view+json": {
       "model_id": "72329c0a14f2482d8049a871fc1d045c",
       "version_major": 2,
       "version_minor": 0
      },
      "text/plain": [
       "Epoch [87/500]:   0%|          | 0/500 [00:00<?, ?it/s]"
      ]
     },
     "metadata": {},
     "output_type": "display_data"
    },
    {
     "name": "stdout",
     "output_type": "stream",
     "text": [
      "Epoch 87/500 — Recon: 0.1011, Disc_Cat: 1.3584, Gen_Cat: 1.2838, Disc_Style: 1.3862, Gen_Style: 0.6932, SemiSup: 0.0327\n",
      "Validation Accuracy: 98.74%\n",
      "\n",
      "Weights saved to semisupervised_results/500_epochs_adam_results_run_2_noise/weights_*.pth\n"
     ]
    },
    {
     "data": {
      "application/vnd.jupyter.widget-view+json": {
       "model_id": "e4a9d2dd594a4bf7986e445446e8d23b",
       "version_major": 2,
       "version_minor": 0
      },
      "text/plain": [
       "Epoch [88/500]:   0%|          | 0/500 [00:00<?, ?it/s]"
      ]
     },
     "metadata": {},
     "output_type": "display_data"
    },
    {
     "name": "stdout",
     "output_type": "stream",
     "text": [
      "Epoch 88/500 — Recon: 0.1010, Disc_Cat: 1.3581, Gen_Cat: 1.3019, Disc_Style: 1.3862, Gen_Style: 0.6935, SemiSup: 0.0322\n",
      "Validation Accuracy: 98.77%\n",
      "\n",
      "Weights saved to semisupervised_results/500_epochs_adam_results_run_2_noise/weights_*.pth\n"
     ]
    },
    {
     "data": {
      "application/vnd.jupyter.widget-view+json": {
       "model_id": "0d5212a17c5b4e429debf953fc827561",
       "version_major": 2,
       "version_minor": 0
      },
      "text/plain": [
       "Epoch [89/500]:   0%|          | 0/500 [00:00<?, ?it/s]"
      ]
     },
     "metadata": {},
     "output_type": "display_data"
    },
    {
     "name": "stdout",
     "output_type": "stream",
     "text": [
      "Epoch 89/500 — Recon: 0.1010, Disc_Cat: 1.3575, Gen_Cat: 1.3192, Disc_Style: 1.3863, Gen_Style: 0.6930, SemiSup: 0.0323\n",
      "Validation Accuracy: 98.81%\n",
      "\n",
      "Weights saved to semisupervised_results/500_epochs_adam_results_run_2_noise/weights_*.pth\n"
     ]
    },
    {
     "data": {
      "application/vnd.jupyter.widget-view+json": {
       "model_id": "57b0114ae9ad488c8f828a4d2cfe3233",
       "version_major": 2,
       "version_minor": 0
      },
      "text/plain": [
       "Epoch [90/500]:   0%|          | 0/500 [00:00<?, ?it/s]"
      ]
     },
     "metadata": {},
     "output_type": "display_data"
    },
    {
     "name": "stdout",
     "output_type": "stream",
     "text": [
      "Epoch 90/500 — Recon: 0.1010, Disc_Cat: 1.3572, Gen_Cat: 1.3143, Disc_Style: 1.3863, Gen_Style: 0.6934, SemiSup: 0.0308\n",
      "Validation Accuracy: 98.82%\n",
      "\n",
      "Weights saved to semisupervised_results/500_epochs_adam_results_run_2_noise/weights_*.pth\n"
     ]
    },
    {
     "data": {
      "application/vnd.jupyter.widget-view+json": {
       "model_id": "1f755dd3ba344620939b5ac5066fdd66",
       "version_major": 2,
       "version_minor": 0
      },
      "text/plain": [
       "Epoch [91/500]:   0%|          | 0/500 [00:00<?, ?it/s]"
      ]
     },
     "metadata": {},
     "output_type": "display_data"
    },
    {
     "name": "stdout",
     "output_type": "stream",
     "text": [
      "Epoch 91/500 — Recon: 0.1011, Disc_Cat: 1.3586, Gen_Cat: 1.2991, Disc_Style: 1.3863, Gen_Style: 0.6937, SemiSup: 0.0320\n",
      "Validation Accuracy: 98.86%\n",
      "\n",
      "Weights saved to semisupervised_results/500_epochs_adam_results_run_2_noise/weights_*.pth\n"
     ]
    },
    {
     "data": {
      "application/vnd.jupyter.widget-view+json": {
       "model_id": "1c1186933dbb4fd58f590448180679cc",
       "version_major": 2,
       "version_minor": 0
      },
      "text/plain": [
       "Epoch [92/500]:   0%|          | 0/500 [00:00<?, ?it/s]"
      ]
     },
     "metadata": {},
     "output_type": "display_data"
    },
    {
     "name": "stdout",
     "output_type": "stream",
     "text": [
      "Epoch 92/500 — Recon: 0.1009, Disc_Cat: 1.3585, Gen_Cat: 1.3019, Disc_Style: 1.3863, Gen_Style: 0.6931, SemiSup: 0.0305\n",
      "Validation Accuracy: 98.89%\n",
      "\n",
      "Weights saved to semisupervised_results/500_epochs_adam_results_run_2_noise/weights_*.pth\n"
     ]
    },
    {
     "data": {
      "application/vnd.jupyter.widget-view+json": {
       "model_id": "fdaa0529040b43d4a29809b84b9edb59",
       "version_major": 2,
       "version_minor": 0
      },
      "text/plain": [
       "Epoch [93/500]:   0%|          | 0/500 [00:00<?, ?it/s]"
      ]
     },
     "metadata": {},
     "output_type": "display_data"
    },
    {
     "name": "stdout",
     "output_type": "stream",
     "text": [
      "Epoch 93/500 — Recon: 0.1010, Disc_Cat: 1.3580, Gen_Cat: 1.2970, Disc_Style: 1.3863, Gen_Style: 0.6935, SemiSup: 0.0287\n",
      "Validation Accuracy: 98.84%\n",
      "\n",
      "Weights saved to semisupervised_results/500_epochs_adam_results_run_2_noise/weights_*.pth\n"
     ]
    },
    {
     "data": {
      "application/vnd.jupyter.widget-view+json": {
       "model_id": "c75a4b5717ea4ea393c49cddcbf4b602",
       "version_major": 2,
       "version_minor": 0
      },
      "text/plain": [
       "Epoch [94/500]:   0%|          | 0/500 [00:00<?, ?it/s]"
      ]
     },
     "metadata": {},
     "output_type": "display_data"
    },
    {
     "name": "stdout",
     "output_type": "stream",
     "text": [
      "Epoch 94/500 — Recon: 0.1008, Disc_Cat: 1.3588, Gen_Cat: 1.2992, Disc_Style: 1.3864, Gen_Style: 0.6929, SemiSup: 0.0281\n",
      "Validation Accuracy: 98.80%\n",
      "\n",
      "Weights saved to semisupervised_results/500_epochs_adam_results_run_2_noise/weights_*.pth\n"
     ]
    },
    {
     "data": {
      "application/vnd.jupyter.widget-view+json": {
       "model_id": "f8382af73b274464a056ff10e57af5dd",
       "version_major": 2,
       "version_minor": 0
      },
      "text/plain": [
       "Epoch [95/500]:   0%|          | 0/500 [00:00<?, ?it/s]"
      ]
     },
     "metadata": {},
     "output_type": "display_data"
    },
    {
     "name": "stdout",
     "output_type": "stream",
     "text": [
      "Epoch 95/500 — Recon: 0.1008, Disc_Cat: 1.3580, Gen_Cat: 1.3222, Disc_Style: 1.3861, Gen_Style: 0.6933, SemiSup: 0.0302\n",
      "Validation Accuracy: 98.88%\n",
      "\n",
      "Weights saved to semisupervised_results/500_epochs_adam_results_run_2_noise/weights_*.pth\n"
     ]
    },
    {
     "data": {
      "application/vnd.jupyter.widget-view+json": {
       "model_id": "4dce9f19337546f8a93e4d7274230fca",
       "version_major": 2,
       "version_minor": 0
      },
      "text/plain": [
       "Epoch [96/500]:   0%|          | 0/500 [00:00<?, ?it/s]"
      ]
     },
     "metadata": {},
     "output_type": "display_data"
    },
    {
     "name": "stdout",
     "output_type": "stream",
     "text": [
      "Epoch 96/500 — Recon: 0.1011, Disc_Cat: 1.3585, Gen_Cat: 1.3207, Disc_Style: 1.3864, Gen_Style: 0.6936, SemiSup: 0.0308\n",
      "Validation Accuracy: 98.84%\n",
      "\n",
      "Weights saved to semisupervised_results/500_epochs_adam_results_run_2_noise/weights_*.pth\n"
     ]
    },
    {
     "data": {
      "application/vnd.jupyter.widget-view+json": {
       "model_id": "c421deb074e6454bba8f4a9522eeccae",
       "version_major": 2,
       "version_minor": 0
      },
      "text/plain": [
       "Epoch [97/500]:   0%|          | 0/500 [00:00<?, ?it/s]"
      ]
     },
     "metadata": {},
     "output_type": "display_data"
    },
    {
     "name": "stdout",
     "output_type": "stream",
     "text": [
      "Epoch 97/500 — Recon: 0.1010, Disc_Cat: 1.3588, Gen_Cat: 1.3123, Disc_Style: 1.3865, Gen_Style: 0.6933, SemiSup: 0.0320\n",
      "Validation Accuracy: 98.87%\n",
      "\n",
      "Weights saved to semisupervised_results/500_epochs_adam_results_run_2_noise/weights_*.pth\n"
     ]
    },
    {
     "data": {
      "application/vnd.jupyter.widget-view+json": {
       "model_id": "0d1609da5a77456e940d40f1a207753e",
       "version_major": 2,
       "version_minor": 0
      },
      "text/plain": [
       "Epoch [98/500]:   0%|          | 0/500 [00:00<?, ?it/s]"
      ]
     },
     "metadata": {},
     "output_type": "display_data"
    },
    {
     "name": "stdout",
     "output_type": "stream",
     "text": [
      "Epoch 98/500 — Recon: 0.1011, Disc_Cat: 1.3589, Gen_Cat: 1.3205, Disc_Style: 1.3864, Gen_Style: 0.6934, SemiSup: 0.0277\n",
      "Validation Accuracy: 98.82%\n",
      "\n",
      "Weights saved to semisupervised_results/500_epochs_adam_results_run_2_noise/weights_*.pth\n"
     ]
    },
    {
     "data": {
      "application/vnd.jupyter.widget-view+json": {
       "model_id": "d066b293bbde4b54aac4d7ec5ddff263",
       "version_major": 2,
       "version_minor": 0
      },
      "text/plain": [
       "Epoch [99/500]:   0%|          | 0/500 [00:00<?, ?it/s]"
      ]
     },
     "metadata": {},
     "output_type": "display_data"
    },
    {
     "name": "stdout",
     "output_type": "stream",
     "text": [
      "Epoch 99/500 — Recon: 0.1010, Disc_Cat: 1.3577, Gen_Cat: 1.3524, Disc_Style: 1.3864, Gen_Style: 0.6932, SemiSup: 0.0292\n",
      "Validation Accuracy: 98.85%\n",
      "\n",
      "Weights saved to semisupervised_results/500_epochs_adam_results_run_2_noise/weights_*.pth\n"
     ]
    },
    {
     "data": {
      "application/vnd.jupyter.widget-view+json": {
       "model_id": "7adbc9bc1b804a4db1172468336d4c54",
       "version_major": 2,
       "version_minor": 0
      },
      "text/plain": [
       "Epoch [100/500]:   0%|          | 0/500 [00:00<?, ?it/s]"
      ]
     },
     "metadata": {},
     "output_type": "display_data"
    },
    {
     "name": "stdout",
     "output_type": "stream",
     "text": [
      "Epoch 100/500 — Recon: 0.1010, Disc_Cat: 1.3590, Gen_Cat: 1.3038, Disc_Style: 1.3864, Gen_Style: 0.6934, SemiSup: 0.0308\n",
      "Validation Accuracy: 98.79%\n",
      "\n",
      "Weights saved to semisupervised_results/500_epochs_adam_results_run_2_noise/weights_epoch_100_*.pth\n",
      "Weights saved to semisupervised_results/500_epochs_adam_results_run_2_noise/weights_*.pth\n"
     ]
    },
    {
     "data": {
      "application/vnd.jupyter.widget-view+json": {
       "model_id": "b985ba4feffc4907b99802d92f3090b9",
       "version_major": 2,
       "version_minor": 0
      },
      "text/plain": [
       "Epoch [101/500]:   0%|          | 0/500 [00:00<?, ?it/s]"
      ]
     },
     "metadata": {},
     "output_type": "display_data"
    },
    {
     "name": "stdout",
     "output_type": "stream",
     "text": [
      "Epoch 101/500 — Recon: 0.1009, Disc_Cat: 1.3593, Gen_Cat: 1.3022, Disc_Style: 1.3863, Gen_Style: 0.6933, SemiSup: 0.0284\n",
      "Validation Accuracy: 98.87%\n",
      "\n",
      "Weights saved to semisupervised_results/500_epochs_adam_results_run_2_noise/weights_*.pth\n"
     ]
    },
    {
     "data": {
      "application/vnd.jupyter.widget-view+json": {
       "model_id": "1fc59b03912744a7ba8fb846e754d384",
       "version_major": 2,
       "version_minor": 0
      },
      "text/plain": [
       "Epoch [102/500]:   0%|          | 0/500 [00:00<?, ?it/s]"
      ]
     },
     "metadata": {},
     "output_type": "display_data"
    },
    {
     "name": "stdout",
     "output_type": "stream",
     "text": [
      "Epoch 102/500 — Recon: 0.1010, Disc_Cat: 1.3597, Gen_Cat: 1.3233, Disc_Style: 1.3862, Gen_Style: 0.6930, SemiSup: 0.0284\n",
      "Validation Accuracy: 98.85%\n",
      "\n",
      "Weights saved to semisupervised_results/500_epochs_adam_results_run_2_noise/weights_*.pth\n"
     ]
    },
    {
     "data": {
      "application/vnd.jupyter.widget-view+json": {
       "model_id": "841faa829501448b803e799b8f12aae9",
       "version_major": 2,
       "version_minor": 0
      },
      "text/plain": [
       "Epoch [103/500]:   0%|          | 0/500 [00:00<?, ?it/s]"
      ]
     },
     "metadata": {},
     "output_type": "display_data"
    },
    {
     "name": "stdout",
     "output_type": "stream",
     "text": [
      "Epoch 103/500 — Recon: 0.1012, Disc_Cat: 1.3577, Gen_Cat: 1.3386, Disc_Style: 1.3865, Gen_Style: 0.6941, SemiSup: 0.0276\n",
      "Validation Accuracy: 98.77%\n",
      "\n",
      "Weights saved to semisupervised_results/500_epochs_adam_results_run_2_noise/weights_*.pth\n"
     ]
    },
    {
     "data": {
      "application/vnd.jupyter.widget-view+json": {
       "model_id": "adc80edd407b43bb97c9a8cd86043b33",
       "version_major": 2,
       "version_minor": 0
      },
      "text/plain": [
       "Epoch [104/500]:   0%|          | 0/500 [00:00<?, ?it/s]"
      ]
     },
     "metadata": {},
     "output_type": "display_data"
    },
    {
     "name": "stdout",
     "output_type": "stream",
     "text": [
      "Epoch 104/500 — Recon: 0.1011, Disc_Cat: 1.3588, Gen_Cat: 1.3193, Disc_Style: 1.3864, Gen_Style: 0.6929, SemiSup: 0.0285\n",
      "Validation Accuracy: 98.81%\n",
      "\n",
      "Weights saved to semisupervised_results/500_epochs_adam_results_run_2_noise/weights_*.pth\n"
     ]
    },
    {
     "data": {
      "application/vnd.jupyter.widget-view+json": {
       "model_id": "1723c0c2aa2a49fd839b5b395cc6c3a5",
       "version_major": 2,
       "version_minor": 0
      },
      "text/plain": [
       "Epoch [105/500]:   0%|          | 0/500 [00:00<?, ?it/s]"
      ]
     },
     "metadata": {},
     "output_type": "display_data"
    },
    {
     "name": "stdout",
     "output_type": "stream",
     "text": [
      "Epoch 105/500 — Recon: 0.1011, Disc_Cat: 1.3593, Gen_Cat: 1.3359, Disc_Style: 1.3864, Gen_Style: 0.6936, SemiSup: 0.0269\n",
      "Validation Accuracy: 98.83%\n",
      "\n",
      "Weights saved to semisupervised_results/500_epochs_adam_results_run_2_noise/weights_*.pth\n"
     ]
    },
    {
     "data": {
      "application/vnd.jupyter.widget-view+json": {
       "model_id": "73e625b1dc0845c08c6aff45c41ba09b",
       "version_major": 2,
       "version_minor": 0
      },
      "text/plain": [
       "Epoch [106/500]:   0%|          | 0/500 [00:00<?, ?it/s]"
      ]
     },
     "metadata": {},
     "output_type": "display_data"
    },
    {
     "name": "stdout",
     "output_type": "stream",
     "text": [
      "Epoch 106/500 — Recon: 0.1009, Disc_Cat: 1.3593, Gen_Cat: 1.3358, Disc_Style: 1.3864, Gen_Style: 0.6932, SemiSup: 0.0270\n",
      "Validation Accuracy: 98.83%\n",
      "\n",
      "Weights saved to semisupervised_results/500_epochs_adam_results_run_2_noise/weights_*.pth\n"
     ]
    },
    {
     "data": {
      "application/vnd.jupyter.widget-view+json": {
       "model_id": "160db27121534f50a8a99fb8b9146ec4",
       "version_major": 2,
       "version_minor": 0
      },
      "text/plain": [
       "Epoch [107/500]:   0%|          | 0/500 [00:00<?, ?it/s]"
      ]
     },
     "metadata": {},
     "output_type": "display_data"
    },
    {
     "name": "stdout",
     "output_type": "stream",
     "text": [
      "Epoch 107/500 — Recon: 0.1009, Disc_Cat: 1.3599, Gen_Cat: 1.3199, Disc_Style: 1.3863, Gen_Style: 0.6932, SemiSup: 0.0284\n",
      "Validation Accuracy: 98.86%\n",
      "\n",
      "Weights saved to semisupervised_results/500_epochs_adam_results_run_2_noise/weights_*.pth\n"
     ]
    },
    {
     "data": {
      "application/vnd.jupyter.widget-view+json": {
       "model_id": "5abaac3117494faaae6ed8610fc5c7ad",
       "version_major": 2,
       "version_minor": 0
      },
      "text/plain": [
       "Epoch [108/500]:   0%|          | 0/500 [00:00<?, ?it/s]"
      ]
     },
     "metadata": {},
     "output_type": "display_data"
    },
    {
     "name": "stdout",
     "output_type": "stream",
     "text": [
      "Epoch 108/500 — Recon: 0.1009, Disc_Cat: 1.3598, Gen_Cat: 1.3330, Disc_Style: 1.3863, Gen_Style: 0.6934, SemiSup: 0.0237\n",
      "Validation Accuracy: 98.86%\n",
      "\n",
      "Weights saved to semisupervised_results/500_epochs_adam_results_run_2_noise/weights_*.pth\n"
     ]
    },
    {
     "data": {
      "application/vnd.jupyter.widget-view+json": {
       "model_id": "9b942561b1d94a5bb0ee085ff6321250",
       "version_major": 2,
       "version_minor": 0
      },
      "text/plain": [
       "Epoch [109/500]:   0%|          | 0/500 [00:00<?, ?it/s]"
      ]
     },
     "metadata": {},
     "output_type": "display_data"
    },
    {
     "name": "stdout",
     "output_type": "stream",
     "text": [
      "Epoch 109/500 — Recon: 0.1010, Disc_Cat: 1.3591, Gen_Cat: 1.3440, Disc_Style: 1.3863, Gen_Style: 0.6937, SemiSup: 0.0240\n",
      "Validation Accuracy: 98.73%\n",
      "\n",
      "Weights saved to semisupervised_results/500_epochs_adam_results_run_2_noise/weights_*.pth\n"
     ]
    },
    {
     "data": {
      "application/vnd.jupyter.widget-view+json": {
       "model_id": "65ae944fdad1472f9b36ccd3f1c5a5af",
       "version_major": 2,
       "version_minor": 0
      },
      "text/plain": [
       "Epoch [110/500]:   0%|          | 0/500 [00:00<?, ?it/s]"
      ]
     },
     "metadata": {},
     "output_type": "display_data"
    },
    {
     "name": "stdout",
     "output_type": "stream",
     "text": [
      "Epoch 110/500 — Recon: 0.1011, Disc_Cat: 1.3605, Gen_Cat: 1.3196, Disc_Style: 1.3864, Gen_Style: 0.6929, SemiSup: 0.0256\n",
      "Validation Accuracy: 98.86%\n",
      "\n",
      "Weights saved to semisupervised_results/500_epochs_adam_results_run_2_noise/weights_*.pth\n"
     ]
    },
    {
     "data": {
      "application/vnd.jupyter.widget-view+json": {
       "model_id": "dfa084b597274036a4fa5be4232f0d16",
       "version_major": 2,
       "version_minor": 0
      },
      "text/plain": [
       "Epoch [111/500]:   0%|          | 0/500 [00:00<?, ?it/s]"
      ]
     },
     "metadata": {},
     "output_type": "display_data"
    },
    {
     "name": "stdout",
     "output_type": "stream",
     "text": [
      "Epoch 111/500 — Recon: 0.1010, Disc_Cat: 1.3595, Gen_Cat: 1.3328, Disc_Style: 1.3863, Gen_Style: 0.6932, SemiSup: 0.0248\n",
      "Validation Accuracy: 98.73%\n",
      "\n",
      "Weights saved to semisupervised_results/500_epochs_adam_results_run_2_noise/weights_*.pth\n"
     ]
    },
    {
     "data": {
      "application/vnd.jupyter.widget-view+json": {
       "model_id": "06a2ed4cf9684e2bb76d3aa699059e09",
       "version_major": 2,
       "version_minor": 0
      },
      "text/plain": [
       "Epoch [112/500]:   0%|          | 0/500 [00:00<?, ?it/s]"
      ]
     },
     "metadata": {},
     "output_type": "display_data"
    },
    {
     "name": "stdout",
     "output_type": "stream",
     "text": [
      "Epoch 112/500 — Recon: 0.1010, Disc_Cat: 1.3610, Gen_Cat: 1.3182, Disc_Style: 1.3864, Gen_Style: 0.6937, SemiSup: 0.0257\n",
      "Validation Accuracy: 98.76%\n",
      "\n",
      "Weights saved to semisupervised_results/500_epochs_adam_results_run_2_noise/weights_*.pth\n"
     ]
    },
    {
     "data": {
      "application/vnd.jupyter.widget-view+json": {
       "model_id": "8757df409ea846f4b9ec35186efd2714",
       "version_major": 2,
       "version_minor": 0
      },
      "text/plain": [
       "Epoch [113/500]:   0%|          | 0/500 [00:00<?, ?it/s]"
      ]
     },
     "metadata": {},
     "output_type": "display_data"
    },
    {
     "name": "stdout",
     "output_type": "stream",
     "text": [
      "Epoch 113/500 — Recon: 0.1009, Disc_Cat: 1.3609, Gen_Cat: 1.3065, Disc_Style: 1.3864, Gen_Style: 0.6931, SemiSup: 0.0290\n",
      "Validation Accuracy: 98.73%\n",
      "\n",
      "Weights saved to semisupervised_results/500_epochs_adam_results_run_2_noise/weights_*.pth\n"
     ]
    },
    {
     "data": {
      "application/vnd.jupyter.widget-view+json": {
       "model_id": "bcfebe9447c644cebc2127261c611171",
       "version_major": 2,
       "version_minor": 0
      },
      "text/plain": [
       "Epoch [114/500]:   0%|          | 0/500 [00:00<?, ?it/s]"
      ]
     },
     "metadata": {},
     "output_type": "display_data"
    },
    {
     "name": "stdout",
     "output_type": "stream",
     "text": [
      "Epoch 114/500 — Recon: 0.1010, Disc_Cat: 1.3602, Gen_Cat: 1.3408, Disc_Style: 1.3864, Gen_Style: 0.6934, SemiSup: 0.0236\n",
      "Validation Accuracy: 98.85%\n",
      "\n",
      "Weights saved to semisupervised_results/500_epochs_adam_results_run_2_noise/weights_*.pth\n"
     ]
    },
    {
     "data": {
      "application/vnd.jupyter.widget-view+json": {
       "model_id": "3a8c773fc7b24fe481141c7a04a4c95c",
       "version_major": 2,
       "version_minor": 0
      },
      "text/plain": [
       "Epoch [115/500]:   0%|          | 0/500 [00:00<?, ?it/s]"
      ]
     },
     "metadata": {},
     "output_type": "display_data"
    },
    {
     "name": "stdout",
     "output_type": "stream",
     "text": [
      "Epoch 115/500 — Recon: 0.1010, Disc_Cat: 1.3592, Gen_Cat: 1.3458, Disc_Style: 1.3863, Gen_Style: 0.6934, SemiSup: 0.0256\n",
      "Validation Accuracy: 98.89%\n",
      "\n",
      "Weights saved to semisupervised_results/500_epochs_adam_results_run_2_noise/weights_*.pth\n"
     ]
    },
    {
     "data": {
      "application/vnd.jupyter.widget-view+json": {
       "model_id": "257310f6f04144f182631bc3dcf277da",
       "version_major": 2,
       "version_minor": 0
      },
      "text/plain": [
       "Epoch [116/500]:   0%|          | 0/500 [00:00<?, ?it/s]"
      ]
     },
     "metadata": {},
     "output_type": "display_data"
    },
    {
     "name": "stdout",
     "output_type": "stream",
     "text": [
      "Epoch 116/500 — Recon: 0.1010, Disc_Cat: 1.3605, Gen_Cat: 1.3303, Disc_Style: 1.3863, Gen_Style: 0.6929, SemiSup: 0.0234\n",
      "Validation Accuracy: 98.84%\n",
      "\n",
      "Weights saved to semisupervised_results/500_epochs_adam_results_run_2_noise/weights_*.pth\n"
     ]
    },
    {
     "data": {
      "application/vnd.jupyter.widget-view+json": {
       "model_id": "502ecdbacc0046df9c1a51bd2018f15b",
       "version_major": 2,
       "version_minor": 0
      },
      "text/plain": [
       "Epoch [117/500]:   0%|          | 0/500 [00:00<?, ?it/s]"
      ]
     },
     "metadata": {},
     "output_type": "display_data"
    },
    {
     "name": "stdout",
     "output_type": "stream",
     "text": [
      "Epoch 117/500 — Recon: 0.1010, Disc_Cat: 1.3600, Gen_Cat: 1.3443, Disc_Style: 1.3862, Gen_Style: 0.6928, SemiSup: 0.0268\n",
      "Validation Accuracy: 98.87%\n",
      "\n",
      "Weights saved to semisupervised_results/500_epochs_adam_results_run_2_noise/weights_*.pth\n"
     ]
    },
    {
     "data": {
      "application/vnd.jupyter.widget-view+json": {
       "model_id": "4e00b0dc4a85474f8c3162b02a46428e",
       "version_major": 2,
       "version_minor": 0
      },
      "text/plain": [
       "Epoch [118/500]:   0%|          | 0/500 [00:00<?, ?it/s]"
      ]
     },
     "metadata": {},
     "output_type": "display_data"
    },
    {
     "name": "stdout",
     "output_type": "stream",
     "text": [
      "Epoch 118/500 — Recon: 0.1011, Disc_Cat: 1.3599, Gen_Cat: 1.3439, Disc_Style: 1.3862, Gen_Style: 0.6935, SemiSup: 0.0230\n",
      "Validation Accuracy: 98.92%\n",
      "\n",
      "Weights saved to semisupervised_results/500_epochs_adam_results_run_2_noise/weights_*.pth\n"
     ]
    },
    {
     "data": {
      "application/vnd.jupyter.widget-view+json": {
       "model_id": "1fa8811fe303465289c783d27bfd3d11",
       "version_major": 2,
       "version_minor": 0
      },
      "text/plain": [
       "Epoch [119/500]:   0%|          | 0/500 [00:00<?, ?it/s]"
      ]
     },
     "metadata": {},
     "output_type": "display_data"
    },
    {
     "name": "stdout",
     "output_type": "stream",
     "text": [
      "Epoch 119/500 — Recon: 0.1012, Disc_Cat: 1.3611, Gen_Cat: 1.3337, Disc_Style: 1.3866, Gen_Style: 0.6937, SemiSup: 0.0265\n",
      "Validation Accuracy: 98.83%\n",
      "\n",
      "Weights saved to semisupervised_results/500_epochs_adam_results_run_2_noise/weights_*.pth\n"
     ]
    },
    {
     "data": {
      "application/vnd.jupyter.widget-view+json": {
       "model_id": "27a205c2e3164c969306af9a8294653c",
       "version_major": 2,
       "version_minor": 0
      },
      "text/plain": [
       "Epoch [120/500]:   0%|          | 0/500 [00:00<?, ?it/s]"
      ]
     },
     "metadata": {},
     "output_type": "display_data"
    },
    {
     "name": "stdout",
     "output_type": "stream",
     "text": [
      "Epoch 120/500 — Recon: 0.1011, Disc_Cat: 1.3608, Gen_Cat: 1.3529, Disc_Style: 1.3862, Gen_Style: 0.6946, SemiSup: 0.0254\n",
      "Validation Accuracy: 98.80%\n",
      "\n",
      "Weights saved to semisupervised_results/500_epochs_adam_results_run_2_noise/weights_*.pth\n"
     ]
    },
    {
     "data": {
      "application/vnd.jupyter.widget-view+json": {
       "model_id": "e356e063434e4422a92cb19998ff3ce1",
       "version_major": 2,
       "version_minor": 0
      },
      "text/plain": [
       "Epoch [121/500]:   0%|          | 0/500 [00:00<?, ?it/s]"
      ]
     },
     "metadata": {},
     "output_type": "display_data"
    },
    {
     "name": "stdout",
     "output_type": "stream",
     "text": [
      "Epoch 121/500 — Recon: 0.1011, Disc_Cat: 1.3596, Gen_Cat: 1.3403, Disc_Style: 1.3863, Gen_Style: 0.6932, SemiSup: 0.0239\n",
      "Validation Accuracy: 98.89%\n",
      "\n",
      "Weights saved to semisupervised_results/500_epochs_adam_results_run_2_noise/weights_*.pth\n"
     ]
    },
    {
     "data": {
      "application/vnd.jupyter.widget-view+json": {
       "model_id": "12ebb575b86f463d8820404c5f541b6a",
       "version_major": 2,
       "version_minor": 0
      },
      "text/plain": [
       "Epoch [122/500]:   0%|          | 0/500 [00:00<?, ?it/s]"
      ]
     },
     "metadata": {},
     "output_type": "display_data"
    },
    {
     "name": "stdout",
     "output_type": "stream",
     "text": [
      "Epoch 122/500 — Recon: 0.1009, Disc_Cat: 1.3607, Gen_Cat: 1.3343, Disc_Style: 1.3861, Gen_Style: 0.6932, SemiSup: 0.0240\n",
      "Validation Accuracy: 98.93%\n",
      "\n",
      "Weights saved to semisupervised_results/500_epochs_adam_results_run_2_noise/weights_*.pth\n"
     ]
    },
    {
     "data": {
      "application/vnd.jupyter.widget-view+json": {
       "model_id": "e72ecf8cf948456b824446fad52961d6",
       "version_major": 2,
       "version_minor": 0
      },
      "text/plain": [
       "Epoch [123/500]:   0%|          | 0/500 [00:00<?, ?it/s]"
      ]
     },
     "metadata": {},
     "output_type": "display_data"
    },
    {
     "name": "stdout",
     "output_type": "stream",
     "text": [
      "Epoch 123/500 — Recon: 0.1012, Disc_Cat: 1.3604, Gen_Cat: 1.3488, Disc_Style: 1.3864, Gen_Style: 0.6941, SemiSup: 0.0226\n",
      "Validation Accuracy: 98.88%\n",
      "\n",
      "Weights saved to semisupervised_results/500_epochs_adam_results_run_2_noise/weights_*.pth\n"
     ]
    },
    {
     "data": {
      "application/vnd.jupyter.widget-view+json": {
       "model_id": "6f965a85e0e24c7394e90806f3d8d62d",
       "version_major": 2,
       "version_minor": 0
      },
      "text/plain": [
       "Epoch [124/500]:   0%|          | 0/500 [00:00<?, ?it/s]"
      ]
     },
     "metadata": {},
     "output_type": "display_data"
    },
    {
     "name": "stdout",
     "output_type": "stream",
     "text": [
      "Epoch 124/500 — Recon: 0.1009, Disc_Cat: 1.3604, Gen_Cat: 1.3652, Disc_Style: 1.3862, Gen_Style: 0.6925, SemiSup: 0.0234\n",
      "Validation Accuracy: 98.89%\n",
      "\n",
      "Weights saved to semisupervised_results/500_epochs_adam_results_run_2_noise/weights_*.pth\n"
     ]
    },
    {
     "data": {
      "application/vnd.jupyter.widget-view+json": {
       "model_id": "92b92814e93749419d2cc44239f4328c",
       "version_major": 2,
       "version_minor": 0
      },
      "text/plain": [
       "Epoch [125/500]:   0%|          | 0/500 [00:00<?, ?it/s]"
      ]
     },
     "metadata": {},
     "output_type": "display_data"
    },
    {
     "name": "stdout",
     "output_type": "stream",
     "text": [
      "Epoch 125/500 — Recon: 0.1009, Disc_Cat: 1.3609, Gen_Cat: 1.3385, Disc_Style: 1.3860, Gen_Style: 0.6934, SemiSup: 0.0227\n",
      "Validation Accuracy: 98.96%\n",
      "\n",
      "Weights saved to semisupervised_results/500_epochs_adam_results_run_2_noise/weights_*.pth\n"
     ]
    },
    {
     "data": {
      "application/vnd.jupyter.widget-view+json": {
       "model_id": "3a8c9818a02948b4868de8dca58f23d8",
       "version_major": 2,
       "version_minor": 0
      },
      "text/plain": [
       "Epoch [126/500]:   0%|          | 0/500 [00:00<?, ?it/s]"
      ]
     },
     "metadata": {},
     "output_type": "display_data"
    },
    {
     "name": "stdout",
     "output_type": "stream",
     "text": [
      "Epoch 126/500 — Recon: 0.1009, Disc_Cat: 1.3599, Gen_Cat: 1.3692, Disc_Style: 1.3858, Gen_Style: 0.6946, SemiSup: 0.0251\n",
      "Validation Accuracy: 98.95%\n",
      "\n",
      "Weights saved to semisupervised_results/500_epochs_adam_results_run_2_noise/weights_*.pth\n"
     ]
    },
    {
     "data": {
      "application/vnd.jupyter.widget-view+json": {
       "model_id": "88465662a0324c5dbb6878517ebc54aa",
       "version_major": 2,
       "version_minor": 0
      },
      "text/plain": [
       "Epoch [127/500]:   0%|          | 0/500 [00:00<?, ?it/s]"
      ]
     },
     "metadata": {},
     "output_type": "display_data"
    },
    {
     "name": "stdout",
     "output_type": "stream",
     "text": [
      "Epoch 127/500 — Recon: 0.1009, Disc_Cat: 1.3609, Gen_Cat: 1.3317, Disc_Style: 1.3859, Gen_Style: 0.6925, SemiSup: 0.0241\n",
      "Validation Accuracy: 98.93%\n",
      "\n",
      "Weights saved to semisupervised_results/500_epochs_adam_results_run_2_noise/weights_*.pth\n"
     ]
    },
    {
     "data": {
      "application/vnd.jupyter.widget-view+json": {
       "model_id": "de5886ba8e984e6f80704eac3891a31e",
       "version_major": 2,
       "version_minor": 0
      },
      "text/plain": [
       "Epoch [128/500]:   0%|          | 0/500 [00:00<?, ?it/s]"
      ]
     },
     "metadata": {},
     "output_type": "display_data"
    },
    {
     "name": "stdout",
     "output_type": "stream",
     "text": [
      "Epoch 128/500 — Recon: 0.1011, Disc_Cat: 1.3608, Gen_Cat: 1.3574, Disc_Style: 1.3866, Gen_Style: 0.6948, SemiSup: 0.0236\n",
      "Validation Accuracy: 98.81%\n",
      "\n",
      "Weights saved to semisupervised_results/500_epochs_adam_results_run_2_noise/weights_*.pth\n"
     ]
    },
    {
     "data": {
      "application/vnd.jupyter.widget-view+json": {
       "model_id": "c17517852ac54262b8ad7028cd3d3ccd",
       "version_major": 2,
       "version_minor": 0
      },
      "text/plain": [
       "Epoch [129/500]:   0%|          | 0/500 [00:00<?, ?it/s]"
      ]
     },
     "metadata": {},
     "output_type": "display_data"
    },
    {
     "name": "stdout",
     "output_type": "stream",
     "text": [
      "Epoch 129/500 — Recon: 0.1009, Disc_Cat: 1.3612, Gen_Cat: 1.3539, Disc_Style: 1.3861, Gen_Style: 0.6931, SemiSup: 0.0213\n",
      "Validation Accuracy: 98.95%\n",
      "\n",
      "Weights saved to semisupervised_results/500_epochs_adam_results_run_2_noise/weights_*.pth\n"
     ]
    },
    {
     "data": {
      "application/vnd.jupyter.widget-view+json": {
       "model_id": "bb99c801794c4a019613dd0a5991497c",
       "version_major": 2,
       "version_minor": 0
      },
      "text/plain": [
       "Epoch [130/500]:   0%|          | 0/500 [00:00<?, ?it/s]"
      ]
     },
     "metadata": {},
     "output_type": "display_data"
    },
    {
     "name": "stdout",
     "output_type": "stream",
     "text": [
      "Epoch 130/500 — Recon: 0.1009, Disc_Cat: 1.3619, Gen_Cat: 1.3429, Disc_Style: 1.3860, Gen_Style: 0.6936, SemiSup: 0.0230\n",
      "Validation Accuracy: 98.86%\n",
      "\n",
      "Weights saved to semisupervised_results/500_epochs_adam_results_run_2_noise/weights_*.pth\n"
     ]
    },
    {
     "data": {
      "application/vnd.jupyter.widget-view+json": {
       "model_id": "c7761ee3a87b487791a0913e4b345887",
       "version_major": 2,
       "version_minor": 0
      },
      "text/plain": [
       "Epoch [131/500]:   0%|          | 0/500 [00:00<?, ?it/s]"
      ]
     },
     "metadata": {},
     "output_type": "display_data"
    },
    {
     "name": "stdout",
     "output_type": "stream",
     "text": [
      "Epoch 131/500 — Recon: 0.1009, Disc_Cat: 1.3616, Gen_Cat: 1.3426, Disc_Style: 1.3860, Gen_Style: 0.6941, SemiSup: 0.0229\n",
      "Validation Accuracy: 98.89%\n",
      "\n",
      "Weights saved to semisupervised_results/500_epochs_adam_results_run_2_noise/weights_*.pth\n"
     ]
    },
    {
     "data": {
      "application/vnd.jupyter.widget-view+json": {
       "model_id": "08cac66cf99145ecb3756b5e9f822f00",
       "version_major": 2,
       "version_minor": 0
      },
      "text/plain": [
       "Epoch [132/500]:   0%|          | 0/500 [00:00<?, ?it/s]"
      ]
     },
     "metadata": {},
     "output_type": "display_data"
    },
    {
     "name": "stdout",
     "output_type": "stream",
     "text": [
      "Epoch 132/500 — Recon: 0.1009, Disc_Cat: 1.3612, Gen_Cat: 1.3571, Disc_Style: 1.3863, Gen_Style: 0.6939, SemiSup: 0.0217\n",
      "Validation Accuracy: 98.85%\n",
      "\n",
      "Weights saved to semisupervised_results/500_epochs_adam_results_run_2_noise/weights_*.pth\n"
     ]
    },
    {
     "data": {
      "application/vnd.jupyter.widget-view+json": {
       "model_id": "a6eb94f32d45453e894775fb796f90b8",
       "version_major": 2,
       "version_minor": 0
      },
      "text/plain": [
       "Epoch [133/500]:   0%|          | 0/500 [00:00<?, ?it/s]"
      ]
     },
     "metadata": {},
     "output_type": "display_data"
    },
    {
     "name": "stdout",
     "output_type": "stream",
     "text": [
      "Epoch 133/500 — Recon: 0.1008, Disc_Cat: 1.3611, Gen_Cat: 1.3545, Disc_Style: 1.3860, Gen_Style: 0.6935, SemiSup: 0.0201\n",
      "Validation Accuracy: 98.93%\n",
      "\n",
      "Weights saved to semisupervised_results/500_epochs_adam_results_run_2_noise/weights_*.pth\n"
     ]
    },
    {
     "data": {
      "application/vnd.jupyter.widget-view+json": {
       "model_id": "4f0d9c01931b48b7a307fb757382dfc0",
       "version_major": 2,
       "version_minor": 0
      },
      "text/plain": [
       "Epoch [134/500]:   0%|          | 0/500 [00:00<?, ?it/s]"
      ]
     },
     "metadata": {},
     "output_type": "display_data"
    },
    {
     "name": "stdout",
     "output_type": "stream",
     "text": [
      "Epoch 134/500 — Recon: 0.1007, Disc_Cat: 1.3610, Gen_Cat: 1.3265, Disc_Style: 1.3860, Gen_Style: 0.6934, SemiSup: 0.0217\n",
      "Validation Accuracy: 98.92%\n",
      "\n",
      "Weights saved to semisupervised_results/500_epochs_adam_results_run_2_noise/weights_*.pth\n"
     ]
    },
    {
     "data": {
      "application/vnd.jupyter.widget-view+json": {
       "model_id": "8fed7d36fb884369bf0147a58546b3b6",
       "version_major": 2,
       "version_minor": 0
      },
      "text/plain": [
       "Epoch [135/500]:   0%|          | 0/500 [00:00<?, ?it/s]"
      ]
     },
     "metadata": {},
     "output_type": "display_data"
    },
    {
     "name": "stdout",
     "output_type": "stream",
     "text": [
      "Epoch 135/500 — Recon: 0.1009, Disc_Cat: 1.3613, Gen_Cat: 1.3788, Disc_Style: 1.3859, Gen_Style: 0.6930, SemiSup: 0.0222\n",
      "Validation Accuracy: 98.86%\n",
      "\n",
      "Weights saved to semisupervised_results/500_epochs_adam_results_run_2_noise/weights_*.pth\n"
     ]
    },
    {
     "data": {
      "application/vnd.jupyter.widget-view+json": {
       "model_id": "71d95c93988342428cdc83e0d123befc",
       "version_major": 2,
       "version_minor": 0
      },
      "text/plain": [
       "Epoch [136/500]:   0%|          | 0/500 [00:00<?, ?it/s]"
      ]
     },
     "metadata": {},
     "output_type": "display_data"
    },
    {
     "name": "stdout",
     "output_type": "stream",
     "text": [
      "Epoch 136/500 — Recon: 0.1009, Disc_Cat: 1.3612, Gen_Cat: 1.3551, Disc_Style: 1.3866, Gen_Style: 0.6952, SemiSup: 0.0222\n",
      "Validation Accuracy: 98.88%\n",
      "\n",
      "Weights saved to semisupervised_results/500_epochs_adam_results_run_2_noise/weights_*.pth\n"
     ]
    },
    {
     "data": {
      "application/vnd.jupyter.widget-view+json": {
       "model_id": "d3717938ce5d4116a292ce6d904ee057",
       "version_major": 2,
       "version_minor": 0
      },
      "text/plain": [
       "Epoch [137/500]:   0%|          | 0/500 [00:00<?, ?it/s]"
      ]
     },
     "metadata": {},
     "output_type": "display_data"
    },
    {
     "name": "stdout",
     "output_type": "stream",
     "text": [
      "Epoch 137/500 — Recon: 0.1009, Disc_Cat: 1.3609, Gen_Cat: 1.3653, Disc_Style: 1.3865, Gen_Style: 0.6925, SemiSup: 0.0230\n",
      "Validation Accuracy: 98.89%\n",
      "\n",
      "Weights saved to semisupervised_results/500_epochs_adam_results_run_2_noise/weights_*.pth\n"
     ]
    },
    {
     "data": {
      "application/vnd.jupyter.widget-view+json": {
       "model_id": "07e8716ea5f9458983fe7309671e5240",
       "version_major": 2,
       "version_minor": 0
      },
      "text/plain": [
       "Epoch [138/500]:   0%|          | 0/500 [00:00<?, ?it/s]"
      ]
     },
     "metadata": {},
     "output_type": "display_data"
    },
    {
     "name": "stdout",
     "output_type": "stream",
     "text": [
      "Epoch 138/500 — Recon: 0.1007, Disc_Cat: 1.3609, Gen_Cat: 1.3492, Disc_Style: 1.3859, Gen_Style: 0.6936, SemiSup: 0.0181\n",
      "Validation Accuracy: 98.87%\n",
      "\n",
      "Weights saved to semisupervised_results/500_epochs_adam_results_run_2_noise/weights_*.pth\n"
     ]
    },
    {
     "data": {
      "application/vnd.jupyter.widget-view+json": {
       "model_id": "78babe26d64f4e7aa9659a50c0f0e415",
       "version_major": 2,
       "version_minor": 0
      },
      "text/plain": [
       "Epoch [139/500]:   0%|          | 0/500 [00:00<?, ?it/s]"
      ]
     },
     "metadata": {},
     "output_type": "display_data"
    },
    {
     "name": "stdout",
     "output_type": "stream",
     "text": [
      "Epoch 139/500 — Recon: 0.1007, Disc_Cat: 1.3604, Gen_Cat: 1.3814, Disc_Style: 1.3858, Gen_Style: 0.6937, SemiSup: 0.0221\n",
      "Validation Accuracy: 98.91%\n",
      "\n",
      "Weights saved to semisupervised_results/500_epochs_adam_results_run_2_noise/weights_*.pth\n"
     ]
    },
    {
     "data": {
      "application/vnd.jupyter.widget-view+json": {
       "model_id": "b3f527bdf3f4458ea68cd02f498113e9",
       "version_major": 2,
       "version_minor": 0
      },
      "text/plain": [
       "Epoch [140/500]:   0%|          | 0/500 [00:00<?, ?it/s]"
      ]
     },
     "metadata": {},
     "output_type": "display_data"
    },
    {
     "name": "stdout",
     "output_type": "stream",
     "text": [
      "Epoch 140/500 — Recon: 0.1010, Disc_Cat: 1.3616, Gen_Cat: 1.3696, Disc_Style: 1.3866, Gen_Style: 0.6948, SemiSup: 0.0183\n",
      "Validation Accuracy: 98.89%\n",
      "\n",
      "Weights saved to semisupervised_results/500_epochs_adam_results_run_2_noise/weights_*.pth\n"
     ]
    },
    {
     "data": {
      "application/vnd.jupyter.widget-view+json": {
       "model_id": "d92e996ed89741e6a9473e41ccad0d55",
       "version_major": 2,
       "version_minor": 0
      },
      "text/plain": [
       "Epoch [141/500]:   0%|          | 0/500 [00:00<?, ?it/s]"
      ]
     },
     "metadata": {},
     "output_type": "display_data"
    },
    {
     "name": "stdout",
     "output_type": "stream",
     "text": [
      "Epoch 141/500 — Recon: 0.1009, Disc_Cat: 1.3619, Gen_Cat: 1.3496, Disc_Style: 1.3861, Gen_Style: 0.6930, SemiSup: 0.0185\n",
      "Validation Accuracy: 98.93%\n",
      "\n",
      "Weights saved to semisupervised_results/500_epochs_adam_results_run_2_noise/weights_*.pth\n"
     ]
    },
    {
     "data": {
      "application/vnd.jupyter.widget-view+json": {
       "model_id": "be7587dfd24240d390b7c0b6de51f5bb",
       "version_major": 2,
       "version_minor": 0
      },
      "text/plain": [
       "Epoch [142/500]:   0%|          | 0/500 [00:00<?, ?it/s]"
      ]
     },
     "metadata": {},
     "output_type": "display_data"
    },
    {
     "name": "stdout",
     "output_type": "stream",
     "text": [
      "Epoch 142/500 — Recon: 0.1008, Disc_Cat: 1.3609, Gen_Cat: 1.3650, Disc_Style: 1.3862, Gen_Style: 0.6945, SemiSup: 0.0209\n",
      "Validation Accuracy: 98.87%\n",
      "\n",
      "Weights saved to semisupervised_results/500_epochs_adam_results_run_2_noise/weights_*.pth\n"
     ]
    },
    {
     "data": {
      "application/vnd.jupyter.widget-view+json": {
       "model_id": "051e5a777e154ba9ad40cec605378e9a",
       "version_major": 2,
       "version_minor": 0
      },
      "text/plain": [
       "Epoch [143/500]:   0%|          | 0/500 [00:00<?, ?it/s]"
      ]
     },
     "metadata": {},
     "output_type": "display_data"
    },
    {
     "name": "stdout",
     "output_type": "stream",
     "text": [
      "Epoch 143/500 — Recon: 0.1007, Disc_Cat: 1.3631, Gen_Cat: 1.3141, Disc_Style: 1.3859, Gen_Style: 0.6942, SemiSup: 0.0214\n",
      "Validation Accuracy: 98.89%\n",
      "\n",
      "Weights saved to semisupervised_results/500_epochs_adam_results_run_2_noise/weights_*.pth\n"
     ]
    },
    {
     "data": {
      "application/vnd.jupyter.widget-view+json": {
       "model_id": "48a22b8a869b434b8c5106876872afab",
       "version_major": 2,
       "version_minor": 0
      },
      "text/plain": [
       "Epoch [144/500]:   0%|          | 0/500 [00:00<?, ?it/s]"
      ]
     },
     "metadata": {},
     "output_type": "display_data"
    },
    {
     "name": "stdout",
     "output_type": "stream",
     "text": [
      "Epoch 144/500 — Recon: 0.1009, Disc_Cat: 1.3635, Gen_Cat: 1.3350, Disc_Style: 1.3863, Gen_Style: 0.6928, SemiSup: 0.0212\n",
      "Validation Accuracy: 98.88%\n",
      "\n",
      "Weights saved to semisupervised_results/500_epochs_adam_results_run_2_noise/weights_*.pth\n"
     ]
    },
    {
     "data": {
      "application/vnd.jupyter.widget-view+json": {
       "model_id": "3fbe580582d247cfb4bd81328dcd1d46",
       "version_major": 2,
       "version_minor": 0
      },
      "text/plain": [
       "Epoch [145/500]:   0%|          | 0/500 [00:00<?, ?it/s]"
      ]
     },
     "metadata": {},
     "output_type": "display_data"
    },
    {
     "name": "stdout",
     "output_type": "stream",
     "text": [
      "Epoch 145/500 — Recon: 0.1008, Disc_Cat: 1.3633, Gen_Cat: 1.3284, Disc_Style: 1.3861, Gen_Style: 0.6938, SemiSup: 0.0195\n",
      "Validation Accuracy: 98.90%\n",
      "\n",
      "Weights saved to semisupervised_results/500_epochs_adam_results_run_2_noise/weights_*.pth\n"
     ]
    },
    {
     "data": {
      "application/vnd.jupyter.widget-view+json": {
       "model_id": "2fd936a4df9f4d89ad666f0f89fa5480",
       "version_major": 2,
       "version_minor": 0
      },
      "text/plain": [
       "Epoch [146/500]:   0%|          | 0/500 [00:00<?, ?it/s]"
      ]
     },
     "metadata": {},
     "output_type": "display_data"
    },
    {
     "name": "stdout",
     "output_type": "stream",
     "text": [
      "Epoch 146/500 — Recon: 0.1008, Disc_Cat: 1.3619, Gen_Cat: 1.3650, Disc_Style: 1.3861, Gen_Style: 0.6930, SemiSup: 0.0192\n",
      "Validation Accuracy: 98.96%\n",
      "\n",
      "Weights saved to semisupervised_results/500_epochs_adam_results_run_2_noise/weights_*.pth\n"
     ]
    },
    {
     "data": {
      "application/vnd.jupyter.widget-view+json": {
       "model_id": "0d4bacaa70634651a15d51b462cd603c",
       "version_major": 2,
       "version_minor": 0
      },
      "text/plain": [
       "Epoch [147/500]:   0%|          | 0/500 [00:00<?, ?it/s]"
      ]
     },
     "metadata": {},
     "output_type": "display_data"
    },
    {
     "name": "stdout",
     "output_type": "stream",
     "text": [
      "Epoch 147/500 — Recon: 0.1008, Disc_Cat: 1.3630, Gen_Cat: 1.3238, Disc_Style: 1.3861, Gen_Style: 0.6943, SemiSup: 0.0194\n",
      "Validation Accuracy: 98.85%\n",
      "\n",
      "Weights saved to semisupervised_results/500_epochs_adam_results_run_2_noise/weights_*.pth\n"
     ]
    },
    {
     "data": {
      "application/vnd.jupyter.widget-view+json": {
       "model_id": "280818536fd247aba1c9100fa101801e",
       "version_major": 2,
       "version_minor": 0
      },
      "text/plain": [
       "Epoch [148/500]:   0%|          | 0/500 [00:00<?, ?it/s]"
      ]
     },
     "metadata": {},
     "output_type": "display_data"
    },
    {
     "name": "stdout",
     "output_type": "stream",
     "text": [
      "Epoch 148/500 — Recon: 0.1008, Disc_Cat: 1.3623, Gen_Cat: 1.3297, Disc_Style: 1.3866, Gen_Style: 0.6932, SemiSup: 0.0193\n",
      "Validation Accuracy: 98.78%\n",
      "\n",
      "Weights saved to semisupervised_results/500_epochs_adam_results_run_2_noise/weights_*.pth\n"
     ]
    },
    {
     "data": {
      "application/vnd.jupyter.widget-view+json": {
       "model_id": "708506d5b5604d57bc93ae16b532f6d4",
       "version_major": 2,
       "version_minor": 0
      },
      "text/plain": [
       "Epoch [149/500]:   0%|          | 0/500 [00:00<?, ?it/s]"
      ]
     },
     "metadata": {},
     "output_type": "display_data"
    },
    {
     "name": "stdout",
     "output_type": "stream",
     "text": [
      "Epoch 149/500 — Recon: 0.1007, Disc_Cat: 1.3625, Gen_Cat: 1.3536, Disc_Style: 1.3860, Gen_Style: 0.6933, SemiSup: 0.0212\n",
      "Validation Accuracy: 98.86%\n",
      "\n",
      "Weights saved to semisupervised_results/500_epochs_adam_results_run_2_noise/weights_*.pth\n"
     ]
    },
    {
     "data": {
      "application/vnd.jupyter.widget-view+json": {
       "model_id": "1920ea0fbd23469a83e0a1a08e7bfcdb",
       "version_major": 2,
       "version_minor": 0
      },
      "text/plain": [
       "Epoch [150/500]:   0%|          | 0/500 [00:00<?, ?it/s]"
      ]
     },
     "metadata": {},
     "output_type": "display_data"
    },
    {
     "name": "stdout",
     "output_type": "stream",
     "text": [
      "Epoch 150/500 — Recon: 0.1008, Disc_Cat: 1.3628, Gen_Cat: 1.3557, Disc_Style: 1.3858, Gen_Style: 0.6938, SemiSup: 0.0215\n",
      "Validation Accuracy: 98.89%\n",
      "\n",
      "Weights saved to semisupervised_results/500_epochs_adam_results_run_2_noise/weights_epoch_150_*.pth\n",
      "Weights saved to semisupervised_results/500_epochs_adam_results_run_2_noise/weights_*.pth\n"
     ]
    },
    {
     "data": {
      "application/vnd.jupyter.widget-view+json": {
       "model_id": "a29d989ef9ca4f27ac6428ca2cabd6e1",
       "version_major": 2,
       "version_minor": 0
      },
      "text/plain": [
       "Epoch [151/500]:   0%|          | 0/500 [00:00<?, ?it/s]"
      ]
     },
     "metadata": {},
     "output_type": "display_data"
    },
    {
     "name": "stdout",
     "output_type": "stream",
     "text": [
      "Epoch 151/500 — Recon: 0.1010, Disc_Cat: 1.3622, Gen_Cat: 1.3671, Disc_Style: 1.3869, Gen_Style: 0.6940, SemiSup: 0.0189\n",
      "Validation Accuracy: 98.91%\n",
      "\n",
      "Weights saved to semisupervised_results/500_epochs_adam_results_run_2_noise/weights_*.pth\n"
     ]
    },
    {
     "data": {
      "application/vnd.jupyter.widget-view+json": {
       "model_id": "fce1c6efe31c45c390447c330cbc76a9",
       "version_major": 2,
       "version_minor": 0
      },
      "text/plain": [
       "Epoch [152/500]:   0%|          | 0/500 [00:00<?, ?it/s]"
      ]
     },
     "metadata": {},
     "output_type": "display_data"
    },
    {
     "name": "stdout",
     "output_type": "stream",
     "text": [
      "Epoch 152/500 — Recon: 0.1006, Disc_Cat: 1.3626, Gen_Cat: 1.3339, Disc_Style: 1.3860, Gen_Style: 0.6943, SemiSup: 0.0194\n",
      "Validation Accuracy: 98.87%\n",
      "\n",
      "Weights saved to semisupervised_results/500_epochs_adam_results_run_2_noise/weights_*.pth\n"
     ]
    },
    {
     "data": {
      "application/vnd.jupyter.widget-view+json": {
       "model_id": "7d7b67fe09e04548ac507377e4b862f3",
       "version_major": 2,
       "version_minor": 0
      },
      "text/plain": [
       "Epoch [153/500]:   0%|          | 0/500 [00:00<?, ?it/s]"
      ]
     },
     "metadata": {},
     "output_type": "display_data"
    },
    {
     "name": "stdout",
     "output_type": "stream",
     "text": [
      "Epoch 153/500 — Recon: 0.1008, Disc_Cat: 1.3639, Gen_Cat: 1.3375, Disc_Style: 1.3863, Gen_Style: 0.6928, SemiSup: 0.0177\n",
      "Validation Accuracy: 98.98%\n",
      "\n",
      "Weights saved to semisupervised_results/500_epochs_adam_results_run_2_noise/weights_*.pth\n"
     ]
    },
    {
     "data": {
      "application/vnd.jupyter.widget-view+json": {
       "model_id": "3d07e5bbe0b44353bd9e40b53ab782aa",
       "version_major": 2,
       "version_minor": 0
      },
      "text/plain": [
       "Epoch [154/500]:   0%|          | 0/500 [00:00<?, ?it/s]"
      ]
     },
     "metadata": {},
     "output_type": "display_data"
    },
    {
     "name": "stdout",
     "output_type": "stream",
     "text": [
      "Epoch 154/500 — Recon: 0.1007, Disc_Cat: 1.3639, Gen_Cat: 1.3193, Disc_Style: 1.3862, Gen_Style: 0.6937, SemiSup: 0.0227\n",
      "Validation Accuracy: 98.85%\n",
      "\n",
      "Weights saved to semisupervised_results/500_epochs_adam_results_run_2_noise/weights_*.pth\n"
     ]
    },
    {
     "data": {
      "application/vnd.jupyter.widget-view+json": {
       "model_id": "bb6769a6c305405d87bfc16801a9a7c9",
       "version_major": 2,
       "version_minor": 0
      },
      "text/plain": [
       "Epoch [155/500]:   0%|          | 0/500 [00:00<?, ?it/s]"
      ]
     },
     "metadata": {},
     "output_type": "display_data"
    },
    {
     "name": "stdout",
     "output_type": "stream",
     "text": [
      "Epoch 155/500 — Recon: 0.1009, Disc_Cat: 1.3617, Gen_Cat: 1.3645, Disc_Style: 1.3863, Gen_Style: 0.6934, SemiSup: 0.0164\n",
      "Validation Accuracy: 98.84%\n",
      "\n",
      "Weights saved to semisupervised_results/500_epochs_adam_results_run_2_noise/weights_*.pth\n"
     ]
    },
    {
     "data": {
      "application/vnd.jupyter.widget-view+json": {
       "model_id": "d52e41d3f58946b4a98250881b8a0b21",
       "version_major": 2,
       "version_minor": 0
      },
      "text/plain": [
       "Epoch [156/500]:   0%|          | 0/500 [00:00<?, ?it/s]"
      ]
     },
     "metadata": {},
     "output_type": "display_data"
    },
    {
     "name": "stdout",
     "output_type": "stream",
     "text": [
      "Epoch 156/500 — Recon: 0.1007, Disc_Cat: 1.3616, Gen_Cat: 1.3611, Disc_Style: 1.3863, Gen_Style: 0.6939, SemiSup: 0.0198\n",
      "Validation Accuracy: 98.83%\n",
      "\n",
      "Weights saved to semisupervised_results/500_epochs_adam_results_run_2_noise/weights_*.pth\n"
     ]
    },
    {
     "data": {
      "application/vnd.jupyter.widget-view+json": {
       "model_id": "d606f65102774ea48b954b85e106daa2",
       "version_major": 2,
       "version_minor": 0
      },
      "text/plain": [
       "Epoch [157/500]:   0%|          | 0/500 [00:00<?, ?it/s]"
      ]
     },
     "metadata": {},
     "output_type": "display_data"
    },
    {
     "name": "stdout",
     "output_type": "stream",
     "text": [
      "Epoch 157/500 — Recon: 0.1007, Disc_Cat: 1.3633, Gen_Cat: 1.3421, Disc_Style: 1.3862, Gen_Style: 0.6937, SemiSup: 0.0211\n",
      "Validation Accuracy: 98.88%\n",
      "\n",
      "Weights saved to semisupervised_results/500_epochs_adam_results_run_2_noise/weights_*.pth\n"
     ]
    },
    {
     "data": {
      "application/vnd.jupyter.widget-view+json": {
       "model_id": "6a96eb5947664aa9ba9a0a13d4e5f8e4",
       "version_major": 2,
       "version_minor": 0
      },
      "text/plain": [
       "Epoch [158/500]:   0%|          | 0/500 [00:00<?, ?it/s]"
      ]
     },
     "metadata": {},
     "output_type": "display_data"
    },
    {
     "name": "stdout",
     "output_type": "stream",
     "text": [
      "Epoch 158/500 — Recon: 0.1008, Disc_Cat: 1.3624, Gen_Cat: 1.3823, Disc_Style: 1.3866, Gen_Style: 0.6935, SemiSup: 0.0187\n",
      "Validation Accuracy: 98.95%\n",
      "\n",
      "Weights saved to semisupervised_results/500_epochs_adam_results_run_2_noise/weights_*.pth\n"
     ]
    },
    {
     "data": {
      "application/vnd.jupyter.widget-view+json": {
       "model_id": "d90b1d031f174dc7a149ab0ad653f859",
       "version_major": 2,
       "version_minor": 0
      },
      "text/plain": [
       "Epoch [159/500]:   0%|          | 0/500 [00:00<?, ?it/s]"
      ]
     },
     "metadata": {},
     "output_type": "display_data"
    },
    {
     "name": "stdout",
     "output_type": "stream",
     "text": [
      "Epoch 159/500 — Recon: 0.1006, Disc_Cat: 1.3628, Gen_Cat: 1.3483, Disc_Style: 1.3864, Gen_Style: 0.6936, SemiSup: 0.0197\n",
      "Validation Accuracy: 98.85%\n",
      "\n",
      "Weights saved to semisupervised_results/500_epochs_adam_results_run_2_noise/weights_*.pth\n"
     ]
    },
    {
     "data": {
      "application/vnd.jupyter.widget-view+json": {
       "model_id": "9e303d738e504a96aa370f957d56c3b0",
       "version_major": 2,
       "version_minor": 0
      },
      "text/plain": [
       "Epoch [160/500]:   0%|          | 0/500 [00:00<?, ?it/s]"
      ]
     },
     "metadata": {},
     "output_type": "display_data"
    },
    {
     "name": "stdout",
     "output_type": "stream",
     "text": [
      "Epoch 160/500 — Recon: 0.1006, Disc_Cat: 1.3620, Gen_Cat: 1.3713, Disc_Style: 1.3863, Gen_Style: 0.6936, SemiSup: 0.0176\n",
      "Validation Accuracy: 98.95%\n",
      "\n",
      "Weights saved to semisupervised_results/500_epochs_adam_results_run_2_noise/weights_*.pth\n"
     ]
    },
    {
     "data": {
      "application/vnd.jupyter.widget-view+json": {
       "model_id": "2f5b319376454340ad09a0317e15e8b8",
       "version_major": 2,
       "version_minor": 0
      },
      "text/plain": [
       "Epoch [161/500]:   0%|          | 0/500 [00:00<?, ?it/s]"
      ]
     },
     "metadata": {},
     "output_type": "display_data"
    },
    {
     "name": "stdout",
     "output_type": "stream",
     "text": [
      "Epoch 161/500 — Recon: 0.1009, Disc_Cat: 1.3625, Gen_Cat: 1.3442, Disc_Style: 1.3868, Gen_Style: 0.6933, SemiSup: 0.0182\n",
      "Validation Accuracy: 98.95%\n",
      "\n",
      "Weights saved to semisupervised_results/500_epochs_adam_results_run_2_noise/weights_*.pth\n"
     ]
    },
    {
     "data": {
      "application/vnd.jupyter.widget-view+json": {
       "model_id": "3b4fcfa460aa445188c2218180a339f9",
       "version_major": 2,
       "version_minor": 0
      },
      "text/plain": [
       "Epoch [162/500]:   0%|          | 0/500 [00:00<?, ?it/s]"
      ]
     },
     "metadata": {},
     "output_type": "display_data"
    },
    {
     "name": "stdout",
     "output_type": "stream",
     "text": [
      "Epoch 162/500 — Recon: 0.1004, Disc_Cat: 1.3625, Gen_Cat: 1.3412, Disc_Style: 1.3862, Gen_Style: 0.6947, SemiSup: 0.0177\n",
      "Validation Accuracy: 98.89%\n",
      "\n",
      "Weights saved to semisupervised_results/500_epochs_adam_results_run_2_noise/weights_*.pth\n"
     ]
    },
    {
     "data": {
      "application/vnd.jupyter.widget-view+json": {
       "model_id": "9715f50646b4409080c1a626ad4e8a1a",
       "version_major": 2,
       "version_minor": 0
      },
      "text/plain": [
       "Epoch [163/500]:   0%|          | 0/500 [00:00<?, ?it/s]"
      ]
     },
     "metadata": {},
     "output_type": "display_data"
    },
    {
     "name": "stdout",
     "output_type": "stream",
     "text": [
      "Epoch 163/500 — Recon: 0.1005, Disc_Cat: 1.3636, Gen_Cat: 1.3311, Disc_Style: 1.3861, Gen_Style: 0.6933, SemiSup: 0.0216\n",
      "Validation Accuracy: 98.98%\n",
      "\n",
      "Weights saved to semisupervised_results/500_epochs_adam_results_run_2_noise/weights_*.pth\n"
     ]
    },
    {
     "data": {
      "application/vnd.jupyter.widget-view+json": {
       "model_id": "d280a0bd6b61478eb989a8b00c66a3a4",
       "version_major": 2,
       "version_minor": 0
      },
      "text/plain": [
       "Epoch [164/500]:   0%|          | 0/500 [00:00<?, ?it/s]"
      ]
     },
     "metadata": {},
     "output_type": "display_data"
    },
    {
     "name": "stdout",
     "output_type": "stream",
     "text": [
      "Epoch 164/500 — Recon: 0.1007, Disc_Cat: 1.3628, Gen_Cat: 1.3551, Disc_Style: 1.3866, Gen_Style: 0.6937, SemiSup: 0.0197\n",
      "Validation Accuracy: 98.93%\n",
      "\n",
      "Weights saved to semisupervised_results/500_epochs_adam_results_run_2_noise/weights_*.pth\n"
     ]
    },
    {
     "data": {
      "application/vnd.jupyter.widget-view+json": {
       "model_id": "7f2496e58be248c5a69bd9a9f0ccd32b",
       "version_major": 2,
       "version_minor": 0
      },
      "text/plain": [
       "Epoch [165/500]:   0%|          | 0/500 [00:00<?, ?it/s]"
      ]
     },
     "metadata": {},
     "output_type": "display_data"
    },
    {
     "name": "stdout",
     "output_type": "stream",
     "text": [
      "Epoch 165/500 — Recon: 0.1006, Disc_Cat: 1.3630, Gen_Cat: 1.3249, Disc_Style: 1.3864, Gen_Style: 0.6926, SemiSup: 0.0157\n",
      "Validation Accuracy: 98.97%\n",
      "\n",
      "Weights saved to semisupervised_results/500_epochs_adam_results_run_2_noise/weights_*.pth\n"
     ]
    },
    {
     "data": {
      "application/vnd.jupyter.widget-view+json": {
       "model_id": "715b796fd0654990b7146d0274439194",
       "version_major": 2,
       "version_minor": 0
      },
      "text/plain": [
       "Epoch [166/500]:   0%|          | 0/500 [00:00<?, ?it/s]"
      ]
     },
     "metadata": {},
     "output_type": "display_data"
    },
    {
     "name": "stdout",
     "output_type": "stream",
     "text": [
      "Epoch 166/500 — Recon: 0.1005, Disc_Cat: 1.3647, Gen_Cat: 1.3119, Disc_Style: 1.3865, Gen_Style: 0.6933, SemiSup: 0.0200\n",
      "Validation Accuracy: 98.92%\n",
      "\n",
      "Weights saved to semisupervised_results/500_epochs_adam_results_run_2_noise/weights_*.pth\n"
     ]
    },
    {
     "data": {
      "application/vnd.jupyter.widget-view+json": {
       "model_id": "3ffc2258783344d384ae75887700eaac",
       "version_major": 2,
       "version_minor": 0
      },
      "text/plain": [
       "Epoch [167/500]:   0%|          | 0/500 [00:00<?, ?it/s]"
      ]
     },
     "metadata": {},
     "output_type": "display_data"
    },
    {
     "name": "stdout",
     "output_type": "stream",
     "text": [
      "Epoch 167/500 — Recon: 0.1005, Disc_Cat: 1.3635, Gen_Cat: 1.3555, Disc_Style: 1.3864, Gen_Style: 0.6928, SemiSup: 0.0158\n",
      "Validation Accuracy: 98.99%\n",
      "\n",
      "Weights saved to semisupervised_results/500_epochs_adam_results_run_2_noise/weights_*.pth\n"
     ]
    },
    {
     "data": {
      "application/vnd.jupyter.widget-view+json": {
       "model_id": "e9a6d58ebfd145ef81c18c8e4c0db5f7",
       "version_major": 2,
       "version_minor": 0
      },
      "text/plain": [
       "Epoch [168/500]:   0%|          | 0/500 [00:00<?, ?it/s]"
      ]
     },
     "metadata": {},
     "output_type": "display_data"
    },
    {
     "name": "stdout",
     "output_type": "stream",
     "text": [
      "Epoch 168/500 — Recon: 0.1005, Disc_Cat: 1.3630, Gen_Cat: 1.3580, Disc_Style: 1.3863, Gen_Style: 0.6946, SemiSup: 0.0166\n",
      "Validation Accuracy: 98.86%\n",
      "\n",
      "Weights saved to semisupervised_results/500_epochs_adam_results_run_2_noise/weights_*.pth\n"
     ]
    },
    {
     "data": {
      "application/vnd.jupyter.widget-view+json": {
       "model_id": "b5025de84c114c75b7a942f7aec2f48e",
       "version_major": 2,
       "version_minor": 0
      },
      "text/plain": [
       "Epoch [169/500]:   0%|          | 0/500 [00:00<?, ?it/s]"
      ]
     },
     "metadata": {},
     "output_type": "display_data"
    },
    {
     "name": "stdout",
     "output_type": "stream",
     "text": [
      "Epoch 169/500 — Recon: 0.1005, Disc_Cat: 1.3638, Gen_Cat: 1.3373, Disc_Style: 1.3863, Gen_Style: 0.6934, SemiSup: 0.0165\n",
      "Validation Accuracy: 98.85%\n",
      "\n",
      "Weights saved to semisupervised_results/500_epochs_adam_results_run_2_noise/weights_*.pth\n"
     ]
    },
    {
     "data": {
      "application/vnd.jupyter.widget-view+json": {
       "model_id": "21bc7c9989364038b51b370ae30e81f5",
       "version_major": 2,
       "version_minor": 0
      },
      "text/plain": [
       "Epoch [170/500]:   0%|          | 0/500 [00:00<?, ?it/s]"
      ]
     },
     "metadata": {},
     "output_type": "display_data"
    },
    {
     "name": "stdout",
     "output_type": "stream",
     "text": [
      "Epoch 170/500 — Recon: 0.1005, Disc_Cat: 1.3640, Gen_Cat: 1.3335, Disc_Style: 1.3865, Gen_Style: 0.6940, SemiSup: 0.0190\n",
      "Validation Accuracy: 98.93%\n",
      "\n",
      "Weights saved to semisupervised_results/500_epochs_adam_results_run_2_noise/weights_*.pth\n"
     ]
    },
    {
     "data": {
      "application/vnd.jupyter.widget-view+json": {
       "model_id": "91cfee61ad2d4a1aa52300d2040fd984",
       "version_major": 2,
       "version_minor": 0
      },
      "text/plain": [
       "Epoch [171/500]:   0%|          | 0/500 [00:00<?, ?it/s]"
      ]
     },
     "metadata": {},
     "output_type": "display_data"
    },
    {
     "name": "stdout",
     "output_type": "stream",
     "text": [
      "Epoch 171/500 — Recon: 0.1004, Disc_Cat: 1.3636, Gen_Cat: 1.3360, Disc_Style: 1.3863, Gen_Style: 0.6920, SemiSup: 0.0167\n",
      "Validation Accuracy: 98.96%\n",
      "\n",
      "Weights saved to semisupervised_results/500_epochs_adam_results_run_2_noise/weights_*.pth\n"
     ]
    },
    {
     "data": {
      "application/vnd.jupyter.widget-view+json": {
       "model_id": "c9aaf6e20e8743958ecca0456550fd2d",
       "version_major": 2,
       "version_minor": 0
      },
      "text/plain": [
       "Epoch [172/500]:   0%|          | 0/500 [00:00<?, ?it/s]"
      ]
     },
     "metadata": {},
     "output_type": "display_data"
    },
    {
     "name": "stdout",
     "output_type": "stream",
     "text": [
      "Epoch 172/500 — Recon: 0.1005, Disc_Cat: 1.3653, Gen_Cat: 1.3129, Disc_Style: 1.3864, Gen_Style: 0.6932, SemiSup: 0.0171\n",
      "Validation Accuracy: 98.97%\n",
      "\n",
      "Weights saved to semisupervised_results/500_epochs_adam_results_run_2_noise/weights_*.pth\n"
     ]
    },
    {
     "data": {
      "application/vnd.jupyter.widget-view+json": {
       "model_id": "838219600c2c477f968cfc725970a80a",
       "version_major": 2,
       "version_minor": 0
      },
      "text/plain": [
       "Epoch [173/500]:   0%|          | 0/500 [00:00<?, ?it/s]"
      ]
     },
     "metadata": {},
     "output_type": "display_data"
    },
    {
     "name": "stdout",
     "output_type": "stream",
     "text": [
      "Epoch 173/500 — Recon: 0.1004, Disc_Cat: 1.3637, Gen_Cat: 1.3341, Disc_Style: 1.3863, Gen_Style: 0.6937, SemiSup: 0.0180\n",
      "Validation Accuracy: 98.91%\n",
      "\n",
      "Weights saved to semisupervised_results/500_epochs_adam_results_run_2_noise/weights_*.pth\n"
     ]
    },
    {
     "data": {
      "application/vnd.jupyter.widget-view+json": {
       "model_id": "ef89cb5a21e440f7bb7f8ba02c38c911",
       "version_major": 2,
       "version_minor": 0
      },
      "text/plain": [
       "Epoch [174/500]:   0%|          | 0/500 [00:00<?, ?it/s]"
      ]
     },
     "metadata": {},
     "output_type": "display_data"
    },
    {
     "name": "stdout",
     "output_type": "stream",
     "text": [
      "Epoch 174/500 — Recon: 0.1007, Disc_Cat: 1.3639, Gen_Cat: 1.3480, Disc_Style: 1.3868, Gen_Style: 0.6924, SemiSup: 0.0184\n",
      "Validation Accuracy: 99.02%\n",
      "\n",
      "Weights saved to semisupervised_results/500_epochs_adam_results_run_2_noise/weights_*.pth\n"
     ]
    },
    {
     "data": {
      "application/vnd.jupyter.widget-view+json": {
       "model_id": "d3291847bcc541d08cceb01d527fe22a",
       "version_major": 2,
       "version_minor": 0
      },
      "text/plain": [
       "Epoch [175/500]:   0%|          | 0/500 [00:00<?, ?it/s]"
      ]
     },
     "metadata": {},
     "output_type": "display_data"
    },
    {
     "name": "stdout",
     "output_type": "stream",
     "text": [
      "Epoch 175/500 — Recon: 0.1003, Disc_Cat: 1.3626, Gen_Cat: 1.3478, Disc_Style: 1.3864, Gen_Style: 0.6950, SemiSup: 0.0153\n",
      "Validation Accuracy: 99.00%\n",
      "\n",
      "Weights saved to semisupervised_results/500_epochs_adam_results_run_2_noise/weights_*.pth\n"
     ]
    },
    {
     "data": {
      "application/vnd.jupyter.widget-view+json": {
       "model_id": "d7792428f3e54fdcb1e855e196e5e691",
       "version_major": 2,
       "version_minor": 0
      },
      "text/plain": [
       "Epoch [176/500]:   0%|          | 0/500 [00:00<?, ?it/s]"
      ]
     },
     "metadata": {},
     "output_type": "display_data"
    },
    {
     "name": "stdout",
     "output_type": "stream",
     "text": [
      "Epoch 176/500 — Recon: 0.1005, Disc_Cat: 1.3639, Gen_Cat: 1.3426, Disc_Style: 1.3864, Gen_Style: 0.6933, SemiSup: 0.0155\n",
      "Validation Accuracy: 98.99%\n",
      "\n",
      "Weights saved to semisupervised_results/500_epochs_adam_results_run_2_noise/weights_*.pth\n"
     ]
    },
    {
     "data": {
      "application/vnd.jupyter.widget-view+json": {
       "model_id": "aa9c73f53c6443f2b3dd6bf60d85eb4c",
       "version_major": 2,
       "version_minor": 0
      },
      "text/plain": [
       "Epoch [177/500]:   0%|          | 0/500 [00:00<?, ?it/s]"
      ]
     },
     "metadata": {},
     "output_type": "display_data"
    },
    {
     "name": "stdout",
     "output_type": "stream",
     "text": [
      "Epoch 177/500 — Recon: 0.1005, Disc_Cat: 1.3635, Gen_Cat: 1.3440, Disc_Style: 1.3866, Gen_Style: 0.6926, SemiSup: 0.0174\n",
      "Validation Accuracy: 98.92%\n",
      "\n",
      "Weights saved to semisupervised_results/500_epochs_adam_results_run_2_noise/weights_*.pth\n"
     ]
    },
    {
     "data": {
      "application/vnd.jupyter.widget-view+json": {
       "model_id": "4f67ea8b27bc43f9b7d36304cd8c82c8",
       "version_major": 2,
       "version_minor": 0
      },
      "text/plain": [
       "Epoch [178/500]:   0%|          | 0/500 [00:00<?, ?it/s]"
      ]
     },
     "metadata": {},
     "output_type": "display_data"
    },
    {
     "name": "stdout",
     "output_type": "stream",
     "text": [
      "Epoch 178/500 — Recon: 0.1003, Disc_Cat: 1.3649, Gen_Cat: 1.3182, Disc_Style: 1.3864, Gen_Style: 0.6947, SemiSup: 0.0192\n",
      "Validation Accuracy: 98.96%\n",
      "\n",
      "Weights saved to semisupervised_results/500_epochs_adam_results_run_2_noise/weights_*.pth\n"
     ]
    },
    {
     "data": {
      "application/vnd.jupyter.widget-view+json": {
       "model_id": "dd482862d9b84ecf9fd3427a53774a8e",
       "version_major": 2,
       "version_minor": 0
      },
      "text/plain": [
       "Epoch [179/500]:   0%|          | 0/500 [00:00<?, ?it/s]"
      ]
     },
     "metadata": {},
     "output_type": "display_data"
    },
    {
     "name": "stdout",
     "output_type": "stream",
     "text": [
      "Epoch 179/500 — Recon: 0.1005, Disc_Cat: 1.3630, Gen_Cat: 1.3508, Disc_Style: 1.3864, Gen_Style: 0.6921, SemiSup: 0.0170\n",
      "Validation Accuracy: 98.99%\n",
      "\n",
      "Weights saved to semisupervised_results/500_epochs_adam_results_run_2_noise/weights_*.pth\n"
     ]
    },
    {
     "data": {
      "application/vnd.jupyter.widget-view+json": {
       "model_id": "aff41b5d10c945aba1f516f391a1e9f7",
       "version_major": 2,
       "version_minor": 0
      },
      "text/plain": [
       "Epoch [180/500]:   0%|          | 0/500 [00:00<?, ?it/s]"
      ]
     },
     "metadata": {},
     "output_type": "display_data"
    },
    {
     "name": "stdout",
     "output_type": "stream",
     "text": [
      "Epoch 180/500 — Recon: 0.1004, Disc_Cat: 1.3646, Gen_Cat: 1.3288, Disc_Style: 1.3865, Gen_Style: 0.6945, SemiSup: 0.0166\n",
      "Validation Accuracy: 98.96%\n",
      "\n",
      "Weights saved to semisupervised_results/500_epochs_adam_results_run_2_noise/weights_*.pth\n"
     ]
    },
    {
     "data": {
      "application/vnd.jupyter.widget-view+json": {
       "model_id": "d1e690528be9454195ee083902d0366a",
       "version_major": 2,
       "version_minor": 0
      },
      "text/plain": [
       "Epoch [181/500]:   0%|          | 0/500 [00:00<?, ?it/s]"
      ]
     },
     "metadata": {},
     "output_type": "display_data"
    },
    {
     "name": "stdout",
     "output_type": "stream",
     "text": [
      "Epoch 181/500 — Recon: 0.1005, Disc_Cat: 1.3649, Gen_Cat: 1.3418, Disc_Style: 1.3866, Gen_Style: 0.6931, SemiSup: 0.0158\n",
      "Validation Accuracy: 98.96%\n",
      "\n",
      "Weights saved to semisupervised_results/500_epochs_adam_results_run_2_noise/weights_*.pth\n"
     ]
    },
    {
     "data": {
      "application/vnd.jupyter.widget-view+json": {
       "model_id": "70f11f0e30274204863603969a7a948f",
       "version_major": 2,
       "version_minor": 0
      },
      "text/plain": [
       "Epoch [182/500]:   0%|          | 0/500 [00:00<?, ?it/s]"
      ]
     },
     "metadata": {},
     "output_type": "display_data"
    },
    {
     "name": "stdout",
     "output_type": "stream",
     "text": [
      "Epoch 182/500 — Recon: 0.1002, Disc_Cat: 1.3646, Gen_Cat: 1.3434, Disc_Style: 1.3865, Gen_Style: 0.6930, SemiSup: 0.0147\n",
      "Validation Accuracy: 98.84%\n",
      "\n",
      "Weights saved to semisupervised_results/500_epochs_adam_results_run_2_noise/weights_*.pth\n"
     ]
    },
    {
     "data": {
      "application/vnd.jupyter.widget-view+json": {
       "model_id": "952e1513e07149a8a1ef93249e6bcb26",
       "version_major": 2,
       "version_minor": 0
      },
      "text/plain": [
       "Epoch [183/500]:   0%|          | 0/500 [00:00<?, ?it/s]"
      ]
     },
     "metadata": {},
     "output_type": "display_data"
    },
    {
     "name": "stdout",
     "output_type": "stream",
     "text": [
      "Epoch 183/500 — Recon: 0.1003, Disc_Cat: 1.3642, Gen_Cat: 1.3423, Disc_Style: 1.3862, Gen_Style: 0.6921, SemiSup: 0.0146\n",
      "Validation Accuracy: 98.97%\n",
      "\n",
      "Weights saved to semisupervised_results/500_epochs_adam_results_run_2_noise/weights_*.pth\n"
     ]
    },
    {
     "data": {
      "application/vnd.jupyter.widget-view+json": {
       "model_id": "8de4472bf33a4fcda52676dbb1229b39",
       "version_major": 2,
       "version_minor": 0
      },
      "text/plain": [
       "Epoch [184/500]:   0%|          | 0/500 [00:00<?, ?it/s]"
      ]
     },
     "metadata": {},
     "output_type": "display_data"
    },
    {
     "name": "stdout",
     "output_type": "stream",
     "text": [
      "Epoch 184/500 — Recon: 0.1004, Disc_Cat: 1.3637, Gen_Cat: 1.3427, Disc_Style: 1.3864, Gen_Style: 0.6941, SemiSup: 0.0156\n",
      "Validation Accuracy: 98.91%\n",
      "\n",
      "Weights saved to semisupervised_results/500_epochs_adam_results_run_2_noise/weights_*.pth\n"
     ]
    },
    {
     "data": {
      "application/vnd.jupyter.widget-view+json": {
       "model_id": "da328044e8a54e36ab68f6561d9f5b5e",
       "version_major": 2,
       "version_minor": 0
      },
      "text/plain": [
       "Epoch [185/500]:   0%|          | 0/500 [00:00<?, ?it/s]"
      ]
     },
     "metadata": {},
     "output_type": "display_data"
    },
    {
     "name": "stdout",
     "output_type": "stream",
     "text": [
      "Epoch 185/500 — Recon: 0.1003, Disc_Cat: 1.3630, Gen_Cat: 1.3495, Disc_Style: 1.3864, Gen_Style: 0.6943, SemiSup: 0.0182\n",
      "Validation Accuracy: 98.96%\n",
      "\n",
      "Weights saved to semisupervised_results/500_epochs_adam_results_run_2_noise/weights_*.pth\n"
     ]
    },
    {
     "data": {
      "application/vnd.jupyter.widget-view+json": {
       "model_id": "43427f52d5c948b58fd8d293071570e2",
       "version_major": 2,
       "version_minor": 0
      },
      "text/plain": [
       "Epoch [186/500]:   0%|          | 0/500 [00:00<?, ?it/s]"
      ]
     },
     "metadata": {},
     "output_type": "display_data"
    },
    {
     "name": "stdout",
     "output_type": "stream",
     "text": [
      "Epoch 186/500 — Recon: 0.1005, Disc_Cat: 1.3637, Gen_Cat: 1.3146, Disc_Style: 1.3864, Gen_Style: 0.6928, SemiSup: 0.0194\n",
      "Validation Accuracy: 98.95%\n",
      "\n",
      "Weights saved to semisupervised_results/500_epochs_adam_results_run_2_noise/weights_*.pth\n"
     ]
    },
    {
     "data": {
      "application/vnd.jupyter.widget-view+json": {
       "model_id": "15a183aef35042078dd869428940add9",
       "version_major": 2,
       "version_minor": 0
      },
      "text/plain": [
       "Epoch [187/500]:   0%|          | 0/500 [00:00<?, ?it/s]"
      ]
     },
     "metadata": {},
     "output_type": "display_data"
    },
    {
     "name": "stdout",
     "output_type": "stream",
     "text": [
      "Epoch 187/500 — Recon: 0.1004, Disc_Cat: 1.3643, Gen_Cat: 1.3269, Disc_Style: 1.3863, Gen_Style: 0.6929, SemiSup: 0.0133\n",
      "Validation Accuracy: 98.94%\n",
      "\n",
      "Weights saved to semisupervised_results/500_epochs_adam_results_run_2_noise/weights_*.pth\n"
     ]
    },
    {
     "data": {
      "application/vnd.jupyter.widget-view+json": {
       "model_id": "c7a87524477e4f34aaa8f61b975e3779",
       "version_major": 2,
       "version_minor": 0
      },
      "text/plain": [
       "Epoch [188/500]:   0%|          | 0/500 [00:00<?, ?it/s]"
      ]
     },
     "metadata": {},
     "output_type": "display_data"
    },
    {
     "name": "stdout",
     "output_type": "stream",
     "text": [
      "Epoch 188/500 — Recon: 0.1003, Disc_Cat: 1.3637, Gen_Cat: 1.3264, Disc_Style: 1.3864, Gen_Style: 0.6939, SemiSup: 0.0164\n",
      "Validation Accuracy: 98.88%\n",
      "\n",
      "Weights saved to semisupervised_results/500_epochs_adam_results_run_2_noise/weights_*.pth\n"
     ]
    },
    {
     "data": {
      "application/vnd.jupyter.widget-view+json": {
       "model_id": "037ef886566f4a60a916619a0858046b",
       "version_major": 2,
       "version_minor": 0
      },
      "text/plain": [
       "Epoch [189/500]:   0%|          | 0/500 [00:00<?, ?it/s]"
      ]
     },
     "metadata": {},
     "output_type": "display_data"
    },
    {
     "name": "stdout",
     "output_type": "stream",
     "text": [
      "Epoch 189/500 — Recon: 0.1004, Disc_Cat: 1.3642, Gen_Cat: 1.3360, Disc_Style: 1.3864, Gen_Style: 0.6931, SemiSup: 0.0170\n",
      "Validation Accuracy: 98.92%\n",
      "\n",
      "Weights saved to semisupervised_results/500_epochs_adam_results_run_2_noise/weights_*.pth\n"
     ]
    },
    {
     "data": {
      "application/vnd.jupyter.widget-view+json": {
       "model_id": "955a40ef354f4389ba421cf822b7631a",
       "version_major": 2,
       "version_minor": 0
      },
      "text/plain": [
       "Epoch [190/500]:   0%|          | 0/500 [00:00<?, ?it/s]"
      ]
     },
     "metadata": {},
     "output_type": "display_data"
    },
    {
     "name": "stdout",
     "output_type": "stream",
     "text": [
      "Epoch 190/500 — Recon: 0.1004, Disc_Cat: 1.3642, Gen_Cat: 1.3383, Disc_Style: 1.3864, Gen_Style: 0.6930, SemiSup: 0.0158\n",
      "Validation Accuracy: 98.91%\n",
      "\n",
      "Weights saved to semisupervised_results/500_epochs_adam_results_run_2_noise/weights_*.pth\n"
     ]
    },
    {
     "data": {
      "application/vnd.jupyter.widget-view+json": {
       "model_id": "c5c0ae0cf79a4609900f0db71c4c1dc4",
       "version_major": 2,
       "version_minor": 0
      },
      "text/plain": [
       "Epoch [191/500]:   0%|          | 0/500 [00:00<?, ?it/s]"
      ]
     },
     "metadata": {},
     "output_type": "display_data"
    },
    {
     "name": "stdout",
     "output_type": "stream",
     "text": [
      "Epoch 191/500 — Recon: 0.1004, Disc_Cat: 1.3644, Gen_Cat: 1.3075, Disc_Style: 1.3866, Gen_Style: 0.6930, SemiSup: 0.0157\n",
      "Validation Accuracy: 99.03%\n",
      "\n",
      "Weights saved to semisupervised_results/500_epochs_adam_results_run_2_noise/weights_*.pth\n"
     ]
    },
    {
     "data": {
      "application/vnd.jupyter.widget-view+json": {
       "model_id": "71203e21fee94826b1fd45face429914",
       "version_major": 2,
       "version_minor": 0
      },
      "text/plain": [
       "Epoch [192/500]:   0%|          | 0/500 [00:00<?, ?it/s]"
      ]
     },
     "metadata": {},
     "output_type": "display_data"
    },
    {
     "name": "stdout",
     "output_type": "stream",
     "text": [
      "Epoch 192/500 — Recon: 0.1003, Disc_Cat: 1.3643, Gen_Cat: 1.3319, Disc_Style: 1.3864, Gen_Style: 0.6943, SemiSup: 0.0144\n",
      "Validation Accuracy: 98.88%\n",
      "\n",
      "Weights saved to semisupervised_results/500_epochs_adam_results_run_2_noise/weights_*.pth\n"
     ]
    },
    {
     "data": {
      "application/vnd.jupyter.widget-view+json": {
       "model_id": "20137b6f0b9740c481459a545dbc0d4b",
       "version_major": 2,
       "version_minor": 0
      },
      "text/plain": [
       "Epoch [193/500]:   0%|          | 0/500 [00:00<?, ?it/s]"
      ]
     },
     "metadata": {},
     "output_type": "display_data"
    },
    {
     "name": "stdout",
     "output_type": "stream",
     "text": [
      "Epoch 193/500 — Recon: 0.1003, Disc_Cat: 1.3648, Gen_Cat: 1.3267, Disc_Style: 1.3863, Gen_Style: 0.6924, SemiSup: 0.0179\n",
      "Validation Accuracy: 98.98%\n",
      "\n",
      "Weights saved to semisupervised_results/500_epochs_adam_results_run_2_noise/weights_*.pth\n"
     ]
    },
    {
     "data": {
      "application/vnd.jupyter.widget-view+json": {
       "model_id": "28529900a24142698826a03ac9423fbe",
       "version_major": 2,
       "version_minor": 0
      },
      "text/plain": [
       "Epoch [194/500]:   0%|          | 0/500 [00:00<?, ?it/s]"
      ]
     },
     "metadata": {},
     "output_type": "display_data"
    },
    {
     "name": "stdout",
     "output_type": "stream",
     "text": [
      "Epoch 194/500 — Recon: 0.1004, Disc_Cat: 1.3652, Gen_Cat: 1.2957, Disc_Style: 1.3866, Gen_Style: 0.6946, SemiSup: 0.0148\n",
      "Validation Accuracy: 98.96%\n",
      "\n",
      "Weights saved to semisupervised_results/500_epochs_adam_results_run_2_noise/weights_*.pth\n"
     ]
    },
    {
     "data": {
      "application/vnd.jupyter.widget-view+json": {
       "model_id": "4eca1085da004398a638d60dba31a441",
       "version_major": 2,
       "version_minor": 0
      },
      "text/plain": [
       "Epoch [195/500]:   0%|          | 0/500 [00:00<?, ?it/s]"
      ]
     },
     "metadata": {},
     "output_type": "display_data"
    },
    {
     "name": "stdout",
     "output_type": "stream",
     "text": [
      "Epoch 195/500 — Recon: 0.1002, Disc_Cat: 1.3643, Gen_Cat: 1.3406, Disc_Style: 1.3863, Gen_Style: 0.6923, SemiSup: 0.0178\n",
      "Validation Accuracy: 98.86%\n",
      "\n",
      "Weights saved to semisupervised_results/500_epochs_adam_results_run_2_noise/weights_*.pth\n"
     ]
    },
    {
     "data": {
      "application/vnd.jupyter.widget-view+json": {
       "model_id": "e8445a440302453bbd972e647ed5805f",
       "version_major": 2,
       "version_minor": 0
      },
      "text/plain": [
       "Epoch [196/500]:   0%|          | 0/500 [00:00<?, ?it/s]"
      ]
     },
     "metadata": {},
     "output_type": "display_data"
    },
    {
     "name": "stdout",
     "output_type": "stream",
     "text": [
      "Epoch 196/500 — Recon: 0.1003, Disc_Cat: 1.3642, Gen_Cat: 1.3447, Disc_Style: 1.3864, Gen_Style: 0.6938, SemiSup: 0.0164\n",
      "Validation Accuracy: 98.95%\n",
      "\n",
      "Weights saved to semisupervised_results/500_epochs_adam_results_run_2_noise/weights_*.pth\n"
     ]
    },
    {
     "data": {
      "application/vnd.jupyter.widget-view+json": {
       "model_id": "5f5e8e02ca84421f8f798182a36d4f5a",
       "version_major": 2,
       "version_minor": 0
      },
      "text/plain": [
       "Epoch [197/500]:   0%|          | 0/500 [00:00<?, ?it/s]"
      ]
     },
     "metadata": {},
     "output_type": "display_data"
    },
    {
     "name": "stdout",
     "output_type": "stream",
     "text": [
      "Epoch 197/500 — Recon: 0.1003, Disc_Cat: 1.3655, Gen_Cat: 1.3137, Disc_Style: 1.3865, Gen_Style: 0.6934, SemiSup: 0.0171\n",
      "Validation Accuracy: 98.99%\n",
      "\n",
      "Weights saved to semisupervised_results/500_epochs_adam_results_run_2_noise/weights_*.pth\n"
     ]
    },
    {
     "data": {
      "application/vnd.jupyter.widget-view+json": {
       "model_id": "a434ffe7cd134d7690b05823e52086b9",
       "version_major": 2,
       "version_minor": 0
      },
      "text/plain": [
       "Epoch [198/500]:   0%|          | 0/500 [00:00<?, ?it/s]"
      ]
     },
     "metadata": {},
     "output_type": "display_data"
    },
    {
     "name": "stdout",
     "output_type": "stream",
     "text": [
      "Epoch 198/500 — Recon: 0.1002, Disc_Cat: 1.3672, Gen_Cat: 1.2663, Disc_Style: 1.3865, Gen_Style: 0.6935, SemiSup: 0.0142\n",
      "Validation Accuracy: 99.01%\n",
      "\n",
      "Weights saved to semisupervised_results/500_epochs_adam_results_run_2_noise/weights_*.pth\n"
     ]
    },
    {
     "data": {
      "application/vnd.jupyter.widget-view+json": {
       "model_id": "7327ca645aba49f4afb37f749f940a17",
       "version_major": 2,
       "version_minor": 0
      },
      "text/plain": [
       "Epoch [199/500]:   0%|          | 0/500 [00:00<?, ?it/s]"
      ]
     },
     "metadata": {},
     "output_type": "display_data"
    },
    {
     "name": "stdout",
     "output_type": "stream",
     "text": [
      "Epoch 199/500 — Recon: 0.1002, Disc_Cat: 1.3654, Gen_Cat: 1.3159, Disc_Style: 1.3862, Gen_Style: 0.6932, SemiSup: 0.0152\n",
      "Validation Accuracy: 99.02%\n",
      "\n",
      "Weights saved to semisupervised_results/500_epochs_adam_results_run_2_noise/weights_*.pth\n"
     ]
    },
    {
     "data": {
      "application/vnd.jupyter.widget-view+json": {
       "model_id": "ce46a46673d2486f9ac550c1053c84fa",
       "version_major": 2,
       "version_minor": 0
      },
      "text/plain": [
       "Epoch [200/500]:   0%|          | 0/500 [00:00<?, ?it/s]"
      ]
     },
     "metadata": {},
     "output_type": "display_data"
    },
    {
     "name": "stdout",
     "output_type": "stream",
     "text": [
      "Epoch 200/500 — Recon: 0.1002, Disc_Cat: 1.3660, Gen_Cat: 1.3215, Disc_Style: 1.3865, Gen_Style: 0.6929, SemiSup: 0.0156\n",
      "Validation Accuracy: 98.90%\n",
      "\n",
      "Weights saved to semisupervised_results/500_epochs_adam_results_run_2_noise/weights_epoch_200_*.pth\n",
      "Weights saved to semisupervised_results/500_epochs_adam_results_run_2_noise/weights_*.pth\n"
     ]
    },
    {
     "data": {
      "application/vnd.jupyter.widget-view+json": {
       "model_id": "7c7852ae2a8c4c9082e5779a4c9cb65e",
       "version_major": 2,
       "version_minor": 0
      },
      "text/plain": [
       "Epoch [201/500]:   0%|          | 0/500 [00:00<?, ?it/s]"
      ]
     },
     "metadata": {},
     "output_type": "display_data"
    },
    {
     "name": "stdout",
     "output_type": "stream",
     "text": [
      "Epoch 201/500 — Recon: 0.1003, Disc_Cat: 1.3652, Gen_Cat: 1.3140, Disc_Style: 1.3865, Gen_Style: 0.6936, SemiSup: 0.0180\n",
      "Validation Accuracy: 98.92%\n",
      "\n",
      "Weights saved to semisupervised_results/500_epochs_adam_results_run_2_noise/weights_*.pth\n"
     ]
    },
    {
     "data": {
      "application/vnd.jupyter.widget-view+json": {
       "model_id": "78ff7aee173a478ebea0d33c77add1c4",
       "version_major": 2,
       "version_minor": 0
      },
      "text/plain": [
       "Epoch [202/500]:   0%|          | 0/500 [00:00<?, ?it/s]"
      ]
     },
     "metadata": {},
     "output_type": "display_data"
    },
    {
     "name": "stdout",
     "output_type": "stream",
     "text": [
      "Epoch 202/500 — Recon: 0.1003, Disc_Cat: 1.3652, Gen_Cat: 1.3137, Disc_Style: 1.3865, Gen_Style: 0.6930, SemiSup: 0.0139\n",
      "Validation Accuracy: 98.92%\n",
      "\n",
      "Weights saved to semisupervised_results/500_epochs_adam_results_run_2_noise/weights_*.pth\n"
     ]
    },
    {
     "data": {
      "application/vnd.jupyter.widget-view+json": {
       "model_id": "7d157e5fa9ec4f69b4516c52405cbf92",
       "version_major": 2,
       "version_minor": 0
      },
      "text/plain": [
       "Epoch [203/500]:   0%|          | 0/500 [00:00<?, ?it/s]"
      ]
     },
     "metadata": {},
     "output_type": "display_data"
    },
    {
     "name": "stdout",
     "output_type": "stream",
     "text": [
      "Epoch 203/500 — Recon: 0.1000, Disc_Cat: 1.3642, Gen_Cat: 1.3263, Disc_Style: 1.3861, Gen_Style: 0.6935, SemiSup: 0.0141\n",
      "Validation Accuracy: 98.82%\n",
      "\n",
      "Weights saved to semisupervised_results/500_epochs_adam_results_run_2_noise/weights_*.pth\n"
     ]
    },
    {
     "data": {
      "application/vnd.jupyter.widget-view+json": {
       "model_id": "71d2d580e685483696699796b9ef1d84",
       "version_major": 2,
       "version_minor": 0
      },
      "text/plain": [
       "Epoch [204/500]:   0%|          | 0/500 [00:00<?, ?it/s]"
      ]
     },
     "metadata": {},
     "output_type": "display_data"
    },
    {
     "name": "stdout",
     "output_type": "stream",
     "text": [
      "Epoch 204/500 — Recon: 0.1003, Disc_Cat: 1.3644, Gen_Cat: 1.3391, Disc_Style: 1.3864, Gen_Style: 0.6936, SemiSup: 0.0161\n",
      "Validation Accuracy: 98.94%\n",
      "\n",
      "Weights saved to semisupervised_results/500_epochs_adam_results_run_2_noise/weights_*.pth\n"
     ]
    },
    {
     "data": {
      "application/vnd.jupyter.widget-view+json": {
       "model_id": "70105185d00843088bcdf10cf42dbc18",
       "version_major": 2,
       "version_minor": 0
      },
      "text/plain": [
       "Epoch [205/500]:   0%|          | 0/500 [00:00<?, ?it/s]"
      ]
     },
     "metadata": {},
     "output_type": "display_data"
    },
    {
     "name": "stdout",
     "output_type": "stream",
     "text": [
      "Epoch 205/500 — Recon: 0.1002, Disc_Cat: 1.3649, Gen_Cat: 1.3286, Disc_Style: 1.3863, Gen_Style: 0.6923, SemiSup: 0.0160\n",
      "Validation Accuracy: 98.94%\n",
      "\n",
      "Weights saved to semisupervised_results/500_epochs_adam_results_run_2_noise/weights_*.pth\n"
     ]
    },
    {
     "data": {
      "application/vnd.jupyter.widget-view+json": {
       "model_id": "e454525bdb72469f9a3b1196f451083e",
       "version_major": 2,
       "version_minor": 0
      },
      "text/plain": [
       "Epoch [206/500]:   0%|          | 0/500 [00:00<?, ?it/s]"
      ]
     },
     "metadata": {},
     "output_type": "display_data"
    },
    {
     "name": "stdout",
     "output_type": "stream",
     "text": [
      "Epoch 206/500 — Recon: 0.1002, Disc_Cat: 1.3649, Gen_Cat: 1.3275, Disc_Style: 1.3866, Gen_Style: 0.6934, SemiSup: 0.0172\n",
      "Validation Accuracy: 98.90%\n",
      "\n",
      "Weights saved to semisupervised_results/500_epochs_adam_results_run_2_noise/weights_*.pth\n"
     ]
    },
    {
     "data": {
      "application/vnd.jupyter.widget-view+json": {
       "model_id": "617b89ef9d244260af264cacb9ddd8c6",
       "version_major": 2,
       "version_minor": 0
      },
      "text/plain": [
       "Epoch [207/500]:   0%|          | 0/500 [00:00<?, ?it/s]"
      ]
     },
     "metadata": {},
     "output_type": "display_data"
    },
    {
     "name": "stdout",
     "output_type": "stream",
     "text": [
      "Epoch 207/500 — Recon: 0.1001, Disc_Cat: 1.3647, Gen_Cat: 1.3262, Disc_Style: 1.3863, Gen_Style: 0.6939, SemiSup: 0.0159\n",
      "Validation Accuracy: 98.97%\n",
      "\n",
      "Weights saved to semisupervised_results/500_epochs_adam_results_run_2_noise/weights_*.pth\n"
     ]
    },
    {
     "data": {
      "application/vnd.jupyter.widget-view+json": {
       "model_id": "7eaf5585e4dc4126b21663448438fdc1",
       "version_major": 2,
       "version_minor": 0
      },
      "text/plain": [
       "Epoch [208/500]:   0%|          | 0/500 [00:00<?, ?it/s]"
      ]
     },
     "metadata": {},
     "output_type": "display_data"
    },
    {
     "name": "stdout",
     "output_type": "stream",
     "text": [
      "Epoch 208/500 — Recon: 0.1000, Disc_Cat: 1.3656, Gen_Cat: 1.2856, Disc_Style: 1.3861, Gen_Style: 0.6931, SemiSup: 0.0148\n",
      "Validation Accuracy: 98.89%\n",
      "\n",
      "Weights saved to semisupervised_results/500_epochs_adam_results_run_2_noise/weights_*.pth\n"
     ]
    },
    {
     "data": {
      "application/vnd.jupyter.widget-view+json": {
       "model_id": "ae3ea80c1a47409ca6d194712603cf26",
       "version_major": 2,
       "version_minor": 0
      },
      "text/plain": [
       "Epoch [209/500]:   0%|          | 0/500 [00:00<?, ?it/s]"
      ]
     },
     "metadata": {},
     "output_type": "display_data"
    },
    {
     "name": "stdout",
     "output_type": "stream",
     "text": [
      "Epoch 209/500 — Recon: 0.1002, Disc_Cat: 1.3648, Gen_Cat: 1.3257, Disc_Style: 1.3865, Gen_Style: 0.6940, SemiSup: 0.0141\n",
      "Validation Accuracy: 98.93%\n",
      "\n",
      "Weights saved to semisupervised_results/500_epochs_adam_results_run_2_noise/weights_*.pth\n"
     ]
    },
    {
     "data": {
      "application/vnd.jupyter.widget-view+json": {
       "model_id": "5d30642e495d4d0191af6925d18fd2cf",
       "version_major": 2,
       "version_minor": 0
      },
      "text/plain": [
       "Epoch [210/500]:   0%|          | 0/500 [00:00<?, ?it/s]"
      ]
     },
     "metadata": {},
     "output_type": "display_data"
    },
    {
     "name": "stdout",
     "output_type": "stream",
     "text": [
      "Epoch 210/500 — Recon: 0.1001, Disc_Cat: 1.3662, Gen_Cat: 1.2889, Disc_Style: 1.3862, Gen_Style: 0.6928, SemiSup: 0.0142\n",
      "Validation Accuracy: 98.93%\n",
      "\n",
      "Weights saved to semisupervised_results/500_epochs_adam_results_run_2_noise/weights_*.pth\n"
     ]
    },
    {
     "data": {
      "application/vnd.jupyter.widget-view+json": {
       "model_id": "eb98190c024e4efd959ab4431a7a2ef5",
       "version_major": 2,
       "version_minor": 0
      },
      "text/plain": [
       "Epoch [211/500]:   0%|          | 0/500 [00:00<?, ?it/s]"
      ]
     },
     "metadata": {},
     "output_type": "display_data"
    },
    {
     "name": "stdout",
     "output_type": "stream",
     "text": [
      "Epoch 211/500 — Recon: 0.1001, Disc_Cat: 1.3646, Gen_Cat: 1.3077, Disc_Style: 1.3866, Gen_Style: 0.6927, SemiSup: 0.0149\n",
      "Validation Accuracy: 98.83%\n",
      "\n",
      "Weights saved to semisupervised_results/500_epochs_adam_results_run_2_noise/weights_*.pth\n"
     ]
    },
    {
     "data": {
      "application/vnd.jupyter.widget-view+json": {
       "model_id": "8abc2f184d414f36b8d44f0bc64edc0b",
       "version_major": 2,
       "version_minor": 0
      },
      "text/plain": [
       "Epoch [212/500]:   0%|          | 0/500 [00:00<?, ?it/s]"
      ]
     },
     "metadata": {},
     "output_type": "display_data"
    },
    {
     "name": "stdout",
     "output_type": "stream",
     "text": [
      "Epoch 212/500 — Recon: 0.1001, Disc_Cat: 1.3654, Gen_Cat: 1.2980, Disc_Style: 1.3862, Gen_Style: 0.6938, SemiSup: 0.0142\n",
      "Validation Accuracy: 98.92%\n",
      "\n",
      "Weights saved to semisupervised_results/500_epochs_adam_results_run_2_noise/weights_*.pth\n"
     ]
    },
    {
     "data": {
      "application/vnd.jupyter.widget-view+json": {
       "model_id": "ef57efcde7844fa98aebfc8f0fdd6ba3",
       "version_major": 2,
       "version_minor": 0
      },
      "text/plain": [
       "Epoch [213/500]:   0%|          | 0/500 [00:00<?, ?it/s]"
      ]
     },
     "metadata": {},
     "output_type": "display_data"
    },
    {
     "name": "stdout",
     "output_type": "stream",
     "text": [
      "Epoch 213/500 — Recon: 0.1002, Disc_Cat: 1.3655, Gen_Cat: 1.2988, Disc_Style: 1.3867, Gen_Style: 0.6939, SemiSup: 0.0142\n",
      "Validation Accuracy: 98.97%\n",
      "\n",
      "Weights saved to semisupervised_results/500_epochs_adam_results_run_2_noise/weights_*.pth\n"
     ]
    },
    {
     "data": {
      "application/vnd.jupyter.widget-view+json": {
       "model_id": "d9bde6390335469da05d77283b8b70bb",
       "version_major": 2,
       "version_minor": 0
      },
      "text/plain": [
       "Epoch [214/500]:   0%|          | 0/500 [00:00<?, ?it/s]"
      ]
     },
     "metadata": {},
     "output_type": "display_data"
    },
    {
     "name": "stdout",
     "output_type": "stream",
     "text": [
      "Epoch 214/500 — Recon: 0.1002, Disc_Cat: 1.3657, Gen_Cat: 1.3076, Disc_Style: 1.3864, Gen_Style: 0.6927, SemiSup: 0.0138\n",
      "Validation Accuracy: 98.93%\n",
      "\n",
      "Weights saved to semisupervised_results/500_epochs_adam_results_run_2_noise/weights_*.pth\n"
     ]
    },
    {
     "data": {
      "application/vnd.jupyter.widget-view+json": {
       "model_id": "553e42f1751b4071a30281ce9d8ff86c",
       "version_major": 2,
       "version_minor": 0
      },
      "text/plain": [
       "Epoch [215/500]:   0%|          | 0/500 [00:00<?, ?it/s]"
      ]
     },
     "metadata": {},
     "output_type": "display_data"
    },
    {
     "name": "stdout",
     "output_type": "stream",
     "text": [
      "Epoch 215/500 — Recon: 0.1002, Disc_Cat: 1.3663, Gen_Cat: 1.3037, Disc_Style: 1.3865, Gen_Style: 0.6937, SemiSup: 0.0136\n",
      "Validation Accuracy: 98.94%\n",
      "\n",
      "Weights saved to semisupervised_results/500_epochs_adam_results_run_2_noise/weights_*.pth\n"
     ]
    },
    {
     "data": {
      "application/vnd.jupyter.widget-view+json": {
       "model_id": "06a12e255a194ef5bd842dbb05c819a9",
       "version_major": 2,
       "version_minor": 0
      },
      "text/plain": [
       "Epoch [216/500]:   0%|          | 0/500 [00:00<?, ?it/s]"
      ]
     },
     "metadata": {},
     "output_type": "display_data"
    },
    {
     "name": "stdout",
     "output_type": "stream",
     "text": [
      "Epoch 216/500 — Recon: 0.1001, Disc_Cat: 1.3649, Gen_Cat: 1.3078, Disc_Style: 1.3864, Gen_Style: 0.6920, SemiSup: 0.0152\n",
      "Validation Accuracy: 99.03%\n",
      "\n",
      "Weights saved to semisupervised_results/500_epochs_adam_results_run_2_noise/weights_*.pth\n"
     ]
    },
    {
     "data": {
      "application/vnd.jupyter.widget-view+json": {
       "model_id": "778171a0a61c491096053483ba4b9adf",
       "version_major": 2,
       "version_minor": 0
      },
      "text/plain": [
       "Epoch [217/500]:   0%|          | 0/500 [00:00<?, ?it/s]"
      ]
     },
     "metadata": {},
     "output_type": "display_data"
    },
    {
     "name": "stdout",
     "output_type": "stream",
     "text": [
      "Epoch 217/500 — Recon: 0.1002, Disc_Cat: 1.3650, Gen_Cat: 1.3113, Disc_Style: 1.3865, Gen_Style: 0.6948, SemiSup: 0.0171\n",
      "Validation Accuracy: 98.95%\n",
      "\n",
      "Weights saved to semisupervised_results/500_epochs_adam_results_run_2_noise/weights_*.pth\n"
     ]
    },
    {
     "data": {
      "application/vnd.jupyter.widget-view+json": {
       "model_id": "f4680fef8cc640d28f0a544247f5164c",
       "version_major": 2,
       "version_minor": 0
      },
      "text/plain": [
       "Epoch [218/500]:   0%|          | 0/500 [00:00<?, ?it/s]"
      ]
     },
     "metadata": {},
     "output_type": "display_data"
    },
    {
     "name": "stdout",
     "output_type": "stream",
     "text": [
      "Epoch 218/500 — Recon: 0.1000, Disc_Cat: 1.3664, Gen_Cat: 1.2810, Disc_Style: 1.3863, Gen_Style: 0.6925, SemiSup: 0.0158\n",
      "Validation Accuracy: 98.99%\n",
      "\n",
      "Weights saved to semisupervised_results/500_epochs_adam_results_run_2_noise/weights_*.pth\n"
     ]
    },
    {
     "data": {
      "application/vnd.jupyter.widget-view+json": {
       "model_id": "c943e6e7bd544f7a92bc4c0abcaee151",
       "version_major": 2,
       "version_minor": 0
      },
      "text/plain": [
       "Epoch [219/500]:   0%|          | 0/500 [00:00<?, ?it/s]"
      ]
     },
     "metadata": {},
     "output_type": "display_data"
    },
    {
     "name": "stdout",
     "output_type": "stream",
     "text": [
      "Epoch 219/500 — Recon: 0.1000, Disc_Cat: 1.3668, Gen_Cat: 1.2988, Disc_Style: 1.3864, Gen_Style: 0.6934, SemiSup: 0.0155\n",
      "Validation Accuracy: 99.00%\n",
      "\n",
      "Weights saved to semisupervised_results/500_epochs_adam_results_run_2_noise/weights_*.pth\n"
     ]
    },
    {
     "data": {
      "application/vnd.jupyter.widget-view+json": {
       "model_id": "3ecd26a750754530ac05706c2b397c2f",
       "version_major": 2,
       "version_minor": 0
      },
      "text/plain": [
       "Epoch [220/500]:   0%|          | 0/500 [00:00<?, ?it/s]"
      ]
     },
     "metadata": {},
     "output_type": "display_data"
    },
    {
     "name": "stdout",
     "output_type": "stream",
     "text": [
      "Epoch 220/500 — Recon: 0.1002, Disc_Cat: 1.3645, Gen_Cat: 1.3345, Disc_Style: 1.3865, Gen_Style: 0.6941, SemiSup: 0.0142\n",
      "Validation Accuracy: 98.94%\n",
      "\n",
      "Weights saved to semisupervised_results/500_epochs_adam_results_run_2_noise/weights_*.pth\n"
     ]
    },
    {
     "data": {
      "application/vnd.jupyter.widget-view+json": {
       "model_id": "d7219bcd5fe649958e9bd8d7bb31a570",
       "version_major": 2,
       "version_minor": 0
      },
      "text/plain": [
       "Epoch [221/500]:   0%|          | 0/500 [00:00<?, ?it/s]"
      ]
     },
     "metadata": {},
     "output_type": "display_data"
    },
    {
     "name": "stdout",
     "output_type": "stream",
     "text": [
      "Epoch 221/500 — Recon: 0.1002, Disc_Cat: 1.3644, Gen_Cat: 1.3136, Disc_Style: 1.3866, Gen_Style: 0.6938, SemiSup: 0.0176\n",
      "Validation Accuracy: 98.96%\n",
      "\n",
      "Weights saved to semisupervised_results/500_epochs_adam_results_run_2_noise/weights_*.pth\n"
     ]
    },
    {
     "data": {
      "application/vnd.jupyter.widget-view+json": {
       "model_id": "4b4b57a3819f48b0a4274ef86b7e4e76",
       "version_major": 2,
       "version_minor": 0
      },
      "text/plain": [
       "Epoch [222/500]:   0%|          | 0/500 [00:00<?, ?it/s]"
      ]
     },
     "metadata": {},
     "output_type": "display_data"
    },
    {
     "name": "stdout",
     "output_type": "stream",
     "text": [
      "Epoch 222/500 — Recon: 0.1000, Disc_Cat: 1.3655, Gen_Cat: 1.3040, Disc_Style: 1.3863, Gen_Style: 0.6922, SemiSup: 0.0164\n",
      "Validation Accuracy: 99.00%\n",
      "\n",
      "Weights saved to semisupervised_results/500_epochs_adam_results_run_2_noise/weights_*.pth\n"
     ]
    },
    {
     "data": {
      "application/vnd.jupyter.widget-view+json": {
       "model_id": "6e26c3b186fe4345b6d5aa34af457594",
       "version_major": 2,
       "version_minor": 0
      },
      "text/plain": [
       "Epoch [223/500]:   0%|          | 0/500 [00:00<?, ?it/s]"
      ]
     },
     "metadata": {},
     "output_type": "display_data"
    },
    {
     "name": "stdout",
     "output_type": "stream",
     "text": [
      "Epoch 223/500 — Recon: 0.1000, Disc_Cat: 1.3651, Gen_Cat: 1.3308, Disc_Style: 1.3864, Gen_Style: 0.6933, SemiSup: 0.0141\n",
      "Validation Accuracy: 98.95%\n",
      "\n",
      "Weights saved to semisupervised_results/500_epochs_adam_results_run_2_noise/weights_*.pth\n"
     ]
    },
    {
     "data": {
      "application/vnd.jupyter.widget-view+json": {
       "model_id": "9c8237dcc35641f282760614abb11d0b",
       "version_major": 2,
       "version_minor": 0
      },
      "text/plain": [
       "Epoch [224/500]:   0%|          | 0/500 [00:00<?, ?it/s]"
      ]
     },
     "metadata": {},
     "output_type": "display_data"
    },
    {
     "name": "stdout",
     "output_type": "stream",
     "text": [
      "Epoch 224/500 — Recon: 0.1003, Disc_Cat: 1.3664, Gen_Cat: 1.2889, Disc_Style: 1.3867, Gen_Style: 0.6940, SemiSup: 0.0138\n",
      "Validation Accuracy: 98.87%\n",
      "\n",
      "Weights saved to semisupervised_results/500_epochs_adam_results_run_2_noise/weights_*.pth\n"
     ]
    },
    {
     "data": {
      "application/vnd.jupyter.widget-view+json": {
       "model_id": "e4750c553c7b4efb82e07628ca83e8dd",
       "version_major": 2,
       "version_minor": 0
      },
      "text/plain": [
       "Epoch [225/500]:   0%|          | 0/500 [00:00<?, ?it/s]"
      ]
     },
     "metadata": {},
     "output_type": "display_data"
    },
    {
     "name": "stdout",
     "output_type": "stream",
     "text": [
      "Epoch 225/500 — Recon: 0.0999, Disc_Cat: 1.3659, Gen_Cat: 1.2932, Disc_Style: 1.3863, Gen_Style: 0.6931, SemiSup: 0.0126\n",
      "Validation Accuracy: 98.98%\n",
      "\n",
      "Weights saved to semisupervised_results/500_epochs_adam_results_run_2_noise/weights_*.pth\n"
     ]
    },
    {
     "data": {
      "application/vnd.jupyter.widget-view+json": {
       "model_id": "34eff3714f0e4a43a14650f0dcf9754a",
       "version_major": 2,
       "version_minor": 0
      },
      "text/plain": [
       "Epoch [226/500]:   0%|          | 0/500 [00:00<?, ?it/s]"
      ]
     },
     "metadata": {},
     "output_type": "display_data"
    },
    {
     "name": "stdout",
     "output_type": "stream",
     "text": [
      "Epoch 226/500 — Recon: 0.0999, Disc_Cat: 1.3664, Gen_Cat: 1.2948, Disc_Style: 1.3862, Gen_Style: 0.6930, SemiSup: 0.0122\n",
      "Validation Accuracy: 98.99%\n",
      "\n",
      "Weights saved to semisupervised_results/500_epochs_adam_results_run_2_noise/weights_*.pth\n"
     ]
    },
    {
     "data": {
      "application/vnd.jupyter.widget-view+json": {
       "model_id": "baa59ef1c990498794849b3149b82a5b",
       "version_major": 2,
       "version_minor": 0
      },
      "text/plain": [
       "Epoch [227/500]:   0%|          | 0/500 [00:00<?, ?it/s]"
      ]
     },
     "metadata": {},
     "output_type": "display_data"
    },
    {
     "name": "stdout",
     "output_type": "stream",
     "text": [
      "Epoch 227/500 — Recon: 0.1002, Disc_Cat: 1.3650, Gen_Cat: 1.3306, Disc_Style: 1.3866, Gen_Style: 0.6930, SemiSup: 0.0140\n",
      "Validation Accuracy: 99.02%\n",
      "\n",
      "Weights saved to semisupervised_results/500_epochs_adam_results_run_2_noise/weights_*.pth\n"
     ]
    },
    {
     "data": {
      "application/vnd.jupyter.widget-view+json": {
       "model_id": "8dabfcab33b44e31b84387988001fc01",
       "version_major": 2,
       "version_minor": 0
      },
      "text/plain": [
       "Epoch [228/500]:   0%|          | 0/500 [00:00<?, ?it/s]"
      ]
     },
     "metadata": {},
     "output_type": "display_data"
    },
    {
     "name": "stdout",
     "output_type": "stream",
     "text": [
      "Epoch 228/500 — Recon: 0.0999, Disc_Cat: 1.3656, Gen_Cat: 1.2929, Disc_Style: 1.3864, Gen_Style: 0.6934, SemiSup: 0.0123\n",
      "Validation Accuracy: 98.97%\n",
      "\n",
      "Weights saved to semisupervised_results/500_epochs_adam_results_run_2_noise/weights_*.pth\n"
     ]
    },
    {
     "data": {
      "application/vnd.jupyter.widget-view+json": {
       "model_id": "65e45cf0bc9e47759515dcd5c3ab44b2",
       "version_major": 2,
       "version_minor": 0
      },
      "text/plain": [
       "Epoch [229/500]:   0%|          | 0/500 [00:00<?, ?it/s]"
      ]
     },
     "metadata": {},
     "output_type": "display_data"
    },
    {
     "name": "stdout",
     "output_type": "stream",
     "text": [
      "Epoch 229/500 — Recon: 0.1001, Disc_Cat: 1.3663, Gen_Cat: 1.3061, Disc_Style: 1.3865, Gen_Style: 0.6934, SemiSup: 0.0145\n",
      "Validation Accuracy: 99.07%\n",
      "\n",
      "Weights saved to semisupervised_results/500_epochs_adam_results_run_2_noise/weights_*.pth\n"
     ]
    },
    {
     "data": {
      "application/vnd.jupyter.widget-view+json": {
       "model_id": "d0a1bb668fb948598ccba26264de26e6",
       "version_major": 2,
       "version_minor": 0
      },
      "text/plain": [
       "Epoch [230/500]:   0%|          | 0/500 [00:00<?, ?it/s]"
      ]
     },
     "metadata": {},
     "output_type": "display_data"
    },
    {
     "name": "stdout",
     "output_type": "stream",
     "text": [
      "Epoch 230/500 — Recon: 0.1000, Disc_Cat: 1.3662, Gen_Cat: 1.2882, Disc_Style: 1.3863, Gen_Style: 0.6935, SemiSup: 0.0146\n",
      "Validation Accuracy: 98.93%\n",
      "\n",
      "Weights saved to semisupervised_results/500_epochs_adam_results_run_2_noise/weights_*.pth\n"
     ]
    },
    {
     "data": {
      "application/vnd.jupyter.widget-view+json": {
       "model_id": "db1b287bc0664b5d8045c4d6c978a3a9",
       "version_major": 2,
       "version_minor": 0
      },
      "text/plain": [
       "Epoch [231/500]:   0%|          | 0/500 [00:00<?, ?it/s]"
      ]
     },
     "metadata": {},
     "output_type": "display_data"
    },
    {
     "name": "stdout",
     "output_type": "stream",
     "text": [
      "Epoch 231/500 — Recon: 0.1000, Disc_Cat: 1.3670, Gen_Cat: 1.2722, Disc_Style: 1.3864, Gen_Style: 0.6924, SemiSup: 0.0124\n",
      "Validation Accuracy: 99.02%\n",
      "\n",
      "Weights saved to semisupervised_results/500_epochs_adam_results_run_2_noise/weights_*.pth\n"
     ]
    },
    {
     "data": {
      "application/vnd.jupyter.widget-view+json": {
       "model_id": "93c3e57c01e241f58a6fb6c8a97d3cea",
       "version_major": 2,
       "version_minor": 0
      },
      "text/plain": [
       "Epoch [232/500]:   0%|          | 0/500 [00:00<?, ?it/s]"
      ]
     },
     "metadata": {},
     "output_type": "display_data"
    },
    {
     "name": "stdout",
     "output_type": "stream",
     "text": [
      "Epoch 232/500 — Recon: 0.1001, Disc_Cat: 1.3666, Gen_Cat: 1.3049, Disc_Style: 1.3864, Gen_Style: 0.6939, SemiSup: 0.0151\n",
      "Validation Accuracy: 98.93%\n",
      "\n",
      "Weights saved to semisupervised_results/500_epochs_adam_results_run_2_noise/weights_*.pth\n"
     ]
    },
    {
     "data": {
      "application/vnd.jupyter.widget-view+json": {
       "model_id": "2ae7640680df416c9d4613d6fba5cbce",
       "version_major": 2,
       "version_minor": 0
      },
      "text/plain": [
       "Epoch [233/500]:   0%|          | 0/500 [00:00<?, ?it/s]"
      ]
     },
     "metadata": {},
     "output_type": "display_data"
    },
    {
     "name": "stdout",
     "output_type": "stream",
     "text": [
      "Epoch 233/500 — Recon: 0.1000, Disc_Cat: 1.3660, Gen_Cat: 1.3015, Disc_Style: 1.3863, Gen_Style: 0.6931, SemiSup: 0.0136\n",
      "Validation Accuracy: 99.01%\n",
      "\n",
      "Weights saved to semisupervised_results/500_epochs_adam_results_run_2_noise/weights_*.pth\n"
     ]
    },
    {
     "data": {
      "application/vnd.jupyter.widget-view+json": {
       "model_id": "761b4f7e1e1f490697e54f5c436a7eec",
       "version_major": 2,
       "version_minor": 0
      },
      "text/plain": [
       "Epoch [234/500]:   0%|          | 0/500 [00:00<?, ?it/s]"
      ]
     },
     "metadata": {},
     "output_type": "display_data"
    },
    {
     "name": "stdout",
     "output_type": "stream",
     "text": [
      "Epoch 234/500 — Recon: 0.0999, Disc_Cat: 1.3668, Gen_Cat: 1.2681, Disc_Style: 1.3864, Gen_Style: 0.6931, SemiSup: 0.0139\n",
      "Validation Accuracy: 98.91%\n",
      "\n",
      "Weights saved to semisupervised_results/500_epochs_adam_results_run_2_noise/weights_*.pth\n"
     ]
    },
    {
     "data": {
      "application/vnd.jupyter.widget-view+json": {
       "model_id": "9bb62908235d4dd3a5ac4c88ca98a104",
       "version_major": 2,
       "version_minor": 0
      },
      "text/plain": [
       "Epoch [235/500]:   0%|          | 0/500 [00:00<?, ?it/s]"
      ]
     },
     "metadata": {},
     "output_type": "display_data"
    },
    {
     "name": "stdout",
     "output_type": "stream",
     "text": [
      "Epoch 235/500 — Recon: 0.0999, Disc_Cat: 1.3664, Gen_Cat: 1.2750, Disc_Style: 1.3862, Gen_Style: 0.6940, SemiSup: 0.0125\n",
      "Validation Accuracy: 98.97%\n",
      "\n",
      "Weights saved to semisupervised_results/500_epochs_adam_results_run_2_noise/weights_*.pth\n"
     ]
    },
    {
     "data": {
      "application/vnd.jupyter.widget-view+json": {
       "model_id": "2aac8c847096424f97fe4b4ac824b4d7",
       "version_major": 2,
       "version_minor": 0
      },
      "text/plain": [
       "Epoch [236/500]:   0%|          | 0/500 [00:00<?, ?it/s]"
      ]
     },
     "metadata": {},
     "output_type": "display_data"
    },
    {
     "name": "stdout",
     "output_type": "stream",
     "text": [
      "Epoch 236/500 — Recon: 0.1001, Disc_Cat: 1.3677, Gen_Cat: 1.2632, Disc_Style: 1.3866, Gen_Style: 0.6929, SemiSup: 0.0128\n",
      "Validation Accuracy: 99.00%\n",
      "\n",
      "Weights saved to semisupervised_results/500_epochs_adam_results_run_2_noise/weights_*.pth\n"
     ]
    },
    {
     "data": {
      "application/vnd.jupyter.widget-view+json": {
       "model_id": "e789becd475045e0a39d9b5c8e88c6bc",
       "version_major": 2,
       "version_minor": 0
      },
      "text/plain": [
       "Epoch [237/500]:   0%|          | 0/500 [00:00<?, ?it/s]"
      ]
     },
     "metadata": {},
     "output_type": "display_data"
    },
    {
     "name": "stdout",
     "output_type": "stream",
     "text": [
      "Epoch 237/500 — Recon: 0.0998, Disc_Cat: 1.3667, Gen_Cat: 1.2770, Disc_Style: 1.3863, Gen_Style: 0.6932, SemiSup: 0.0130\n",
      "Validation Accuracy: 99.01%\n",
      "\n",
      "Weights saved to semisupervised_results/500_epochs_adam_results_run_2_noise/weights_*.pth\n"
     ]
    },
    {
     "data": {
      "application/vnd.jupyter.widget-view+json": {
       "model_id": "d2690830130843759534ceefb9ffb3c6",
       "version_major": 2,
       "version_minor": 0
      },
      "text/plain": [
       "Epoch [238/500]:   0%|          | 0/500 [00:00<?, ?it/s]"
      ]
     },
     "metadata": {},
     "output_type": "display_data"
    },
    {
     "name": "stdout",
     "output_type": "stream",
     "text": [
      "Epoch 238/500 — Recon: 0.0999, Disc_Cat: 1.3661, Gen_Cat: 1.2688, Disc_Style: 1.3862, Gen_Style: 0.6931, SemiSup: 0.0133\n",
      "Validation Accuracy: 98.87%\n",
      "\n",
      "Weights saved to semisupervised_results/500_epochs_adam_results_run_2_noise/weights_*.pth\n"
     ]
    },
    {
     "data": {
      "application/vnd.jupyter.widget-view+json": {
       "model_id": "6437e0787e0b413eaa1d21c61874c128",
       "version_major": 2,
       "version_minor": 0
      },
      "text/plain": [
       "Epoch [239/500]:   0%|          | 0/500 [00:00<?, ?it/s]"
      ]
     },
     "metadata": {},
     "output_type": "display_data"
    },
    {
     "name": "stdout",
     "output_type": "stream",
     "text": [
      "Epoch 239/500 — Recon: 0.1002, Disc_Cat: 1.3666, Gen_Cat: 1.3011, Disc_Style: 1.3866, Gen_Style: 0.6935, SemiSup: 0.0145\n",
      "Validation Accuracy: 98.98%\n",
      "\n",
      "Weights saved to semisupervised_results/500_epochs_adam_results_run_2_noise/weights_*.pth\n"
     ]
    },
    {
     "data": {
      "application/vnd.jupyter.widget-view+json": {
       "model_id": "9a75623b3c1843a4a01d9a2a9ef4421c",
       "version_major": 2,
       "version_minor": 0
      },
      "text/plain": [
       "Epoch [240/500]:   0%|          | 0/500 [00:00<?, ?it/s]"
      ]
     },
     "metadata": {},
     "output_type": "display_data"
    },
    {
     "name": "stdout",
     "output_type": "stream",
     "text": [
      "Epoch 240/500 — Recon: 0.0998, Disc_Cat: 1.3673, Gen_Cat: 1.2703, Disc_Style: 1.3863, Gen_Style: 0.6933, SemiSup: 0.0157\n",
      "Validation Accuracy: 99.03%\n",
      "\n",
      "Weights saved to semisupervised_results/500_epochs_adam_results_run_2_noise/weights_*.pth\n"
     ]
    },
    {
     "data": {
      "application/vnd.jupyter.widget-view+json": {
       "model_id": "f5e7b42c3f734722b6d8ac9c30a00544",
       "version_major": 2,
       "version_minor": 0
      },
      "text/plain": [
       "Epoch [241/500]:   0%|          | 0/500 [00:00<?, ?it/s]"
      ]
     },
     "metadata": {},
     "output_type": "display_data"
    },
    {
     "name": "stdout",
     "output_type": "stream",
     "text": [
      "Epoch 241/500 — Recon: 0.1000, Disc_Cat: 1.3663, Gen_Cat: 1.3034, Disc_Style: 1.3865, Gen_Style: 0.6925, SemiSup: 0.0110\n",
      "Validation Accuracy: 99.04%\n",
      "\n",
      "Weights saved to semisupervised_results/500_epochs_adam_results_run_2_noise/weights_*.pth\n"
     ]
    },
    {
     "data": {
      "application/vnd.jupyter.widget-view+json": {
       "model_id": "b8258b416d0f4ed8badb034648431497",
       "version_major": 2,
       "version_minor": 0
      },
      "text/plain": [
       "Epoch [242/500]:   0%|          | 0/500 [00:00<?, ?it/s]"
      ]
     },
     "metadata": {},
     "output_type": "display_data"
    },
    {
     "name": "stdout",
     "output_type": "stream",
     "text": [
      "Epoch 242/500 — Recon: 0.0999, Disc_Cat: 1.3665, Gen_Cat: 1.2940, Disc_Style: 1.3863, Gen_Style: 0.6935, SemiSup: 0.0139\n",
      "Validation Accuracy: 98.97%\n",
      "\n",
      "Weights saved to semisupervised_results/500_epochs_adam_results_run_2_noise/weights_*.pth\n"
     ]
    },
    {
     "data": {
      "application/vnd.jupyter.widget-view+json": {
       "model_id": "5cff81fd4a2f4248a435c4a32b1ec023",
       "version_major": 2,
       "version_minor": 0
      },
      "text/plain": [
       "Epoch [243/500]:   0%|          | 0/500 [00:00<?, ?it/s]"
      ]
     },
     "metadata": {},
     "output_type": "display_data"
    },
    {
     "name": "stdout",
     "output_type": "stream",
     "text": [
      "Epoch 243/500 — Recon: 0.0999, Disc_Cat: 1.3649, Gen_Cat: 1.3356, Disc_Style: 1.3864, Gen_Style: 0.6934, SemiSup: 0.0150\n",
      "Validation Accuracy: 99.03%\n",
      "\n",
      "Weights saved to semisupervised_results/500_epochs_adam_results_run_2_noise/weights_*.pth\n"
     ]
    },
    {
     "data": {
      "application/vnd.jupyter.widget-view+json": {
       "model_id": "bbc9d1b2253743ae8dfff6078651262c",
       "version_major": 2,
       "version_minor": 0
      },
      "text/plain": [
       "Epoch [244/500]:   0%|          | 0/500 [00:00<?, ?it/s]"
      ]
     },
     "metadata": {},
     "output_type": "display_data"
    },
    {
     "name": "stdout",
     "output_type": "stream",
     "text": [
      "Epoch 244/500 — Recon: 0.1000, Disc_Cat: 1.3679, Gen_Cat: 1.2647, Disc_Style: 1.3863, Gen_Style: 0.6930, SemiSup: 0.0152\n",
      "Validation Accuracy: 98.88%\n",
      "\n",
      "Weights saved to semisupervised_results/500_epochs_adam_results_run_2_noise/weights_*.pth\n"
     ]
    },
    {
     "data": {
      "application/vnd.jupyter.widget-view+json": {
       "model_id": "1bbfa516511e4369a4b5260826c9394c",
       "version_major": 2,
       "version_minor": 0
      },
      "text/plain": [
       "Epoch [245/500]:   0%|          | 0/500 [00:00<?, ?it/s]"
      ]
     },
     "metadata": {},
     "output_type": "display_data"
    },
    {
     "name": "stdout",
     "output_type": "stream",
     "text": [
      "Epoch 245/500 — Recon: 0.1000, Disc_Cat: 1.3654, Gen_Cat: 1.3095, Disc_Style: 1.3865, Gen_Style: 0.6936, SemiSup: 0.0136\n",
      "Validation Accuracy: 98.94%\n",
      "\n",
      "Weights saved to semisupervised_results/500_epochs_adam_results_run_2_noise/weights_*.pth\n"
     ]
    },
    {
     "data": {
      "application/vnd.jupyter.widget-view+json": {
       "model_id": "8bc5045286c8469f864f87c23ef0767a",
       "version_major": 2,
       "version_minor": 0
      },
      "text/plain": [
       "Epoch [246/500]:   0%|          | 0/500 [00:00<?, ?it/s]"
      ]
     },
     "metadata": {},
     "output_type": "display_data"
    },
    {
     "name": "stdout",
     "output_type": "stream",
     "text": [
      "Epoch 246/500 — Recon: 0.0999, Disc_Cat: 1.3666, Gen_Cat: 1.2612, Disc_Style: 1.3863, Gen_Style: 0.6928, SemiSup: 0.0126\n",
      "Validation Accuracy: 98.91%\n",
      "\n",
      "Weights saved to semisupervised_results/500_epochs_adam_results_run_2_noise/weights_*.pth\n"
     ]
    },
    {
     "data": {
      "application/vnd.jupyter.widget-view+json": {
       "model_id": "c9c6b6c14a51466c94aa01fecd4e8a5e",
       "version_major": 2,
       "version_minor": 0
      },
      "text/plain": [
       "Epoch [247/500]:   0%|          | 0/500 [00:00<?, ?it/s]"
      ]
     },
     "metadata": {},
     "output_type": "display_data"
    },
    {
     "name": "stdout",
     "output_type": "stream",
     "text": [
      "Epoch 247/500 — Recon: 0.1000, Disc_Cat: 1.3680, Gen_Cat: 1.2682, Disc_Style: 1.3864, Gen_Style: 0.6936, SemiSup: 0.0124\n",
      "Validation Accuracy: 98.98%\n",
      "\n",
      "Weights saved to semisupervised_results/500_epochs_adam_results_run_2_noise/weights_*.pth\n"
     ]
    },
    {
     "data": {
      "application/vnd.jupyter.widget-view+json": {
       "model_id": "c14b7c9198f34ae0b377d5d79500ecff",
       "version_major": 2,
       "version_minor": 0
      },
      "text/plain": [
       "Epoch [248/500]:   0%|          | 0/500 [00:00<?, ?it/s]"
      ]
     },
     "metadata": {},
     "output_type": "display_data"
    },
    {
     "name": "stdout",
     "output_type": "stream",
     "text": [
      "Epoch 248/500 — Recon: 0.0998, Disc_Cat: 1.3666, Gen_Cat: 1.2737, Disc_Style: 1.3863, Gen_Style: 0.6932, SemiSup: 0.0128\n",
      "Validation Accuracy: 98.97%\n",
      "\n",
      "Weights saved to semisupervised_results/500_epochs_adam_results_run_2_noise/weights_*.pth\n"
     ]
    },
    {
     "data": {
      "application/vnd.jupyter.widget-view+json": {
       "model_id": "a44fe5706abb4b19a47f6af729e895d8",
       "version_major": 2,
       "version_minor": 0
      },
      "text/plain": [
       "Epoch [249/500]:   0%|          | 0/500 [00:00<?, ?it/s]"
      ]
     },
     "metadata": {},
     "output_type": "display_data"
    },
    {
     "name": "stdout",
     "output_type": "stream",
     "text": [
      "Epoch 249/500 — Recon: 0.1000, Disc_Cat: 1.3669, Gen_Cat: 1.2656, Disc_Style: 1.3864, Gen_Style: 0.6932, SemiSup: 0.0108\n",
      "Validation Accuracy: 98.87%\n",
      "\n",
      "Weights saved to semisupervised_results/500_epochs_adam_results_run_2_noise/weights_*.pth\n"
     ]
    },
    {
     "data": {
      "application/vnd.jupyter.widget-view+json": {
       "model_id": "93736417aa5f4564bc7fa4b915ae7791",
       "version_major": 2,
       "version_minor": 0
      },
      "text/plain": [
       "Epoch [250/500]:   0%|          | 0/500 [00:00<?, ?it/s]"
      ]
     },
     "metadata": {},
     "output_type": "display_data"
    },
    {
     "name": "stdout",
     "output_type": "stream",
     "text": [
      "Epoch 250/500 — Recon: 0.0999, Disc_Cat: 1.3670, Gen_Cat: 1.2342, Disc_Style: 1.3864, Gen_Style: 0.6929, SemiSup: 0.0101\n",
      "Validation Accuracy: 98.88%\n",
      "\n",
      "Weights saved to semisupervised_results/500_epochs_adam_results_run_2_noise/weights_epoch_250_*.pth\n",
      "Weights saved to semisupervised_results/500_epochs_adam_results_run_2_noise/weights_*.pth\n"
     ]
    },
    {
     "data": {
      "application/vnd.jupyter.widget-view+json": {
       "model_id": "1e1e4ff649084adc83716bc1ef8fa6d7",
       "version_major": 2,
       "version_minor": 0
      },
      "text/plain": [
       "Epoch [251/500]:   0%|          | 0/500 [00:00<?, ?it/s]"
      ]
     },
     "metadata": {},
     "output_type": "display_data"
    },
    {
     "name": "stdout",
     "output_type": "stream",
     "text": [
      "Epoch 251/500 — Recon: 0.0999, Disc_Cat: 1.3657, Gen_Cat: 1.3068, Disc_Style: 1.3864, Gen_Style: 0.6932, SemiSup: 0.0148\n",
      "Validation Accuracy: 98.87%\n",
      "\n",
      "Weights saved to semisupervised_results/500_epochs_adam_results_run_2_noise/weights_*.pth\n"
     ]
    },
    {
     "data": {
      "application/vnd.jupyter.widget-view+json": {
       "model_id": "20a1e607f7164e958dc06b32de4f3fcb",
       "version_major": 2,
       "version_minor": 0
      },
      "text/plain": [
       "Epoch [252/500]:   0%|          | 0/500 [00:00<?, ?it/s]"
      ]
     },
     "metadata": {},
     "output_type": "display_data"
    },
    {
     "name": "stdout",
     "output_type": "stream",
     "text": [
      "Epoch 252/500 — Recon: 0.0999, Disc_Cat: 1.3680, Gen_Cat: 1.2452, Disc_Style: 1.3862, Gen_Style: 0.6931, SemiSup: 0.0105\n",
      "Validation Accuracy: 98.94%\n",
      "\n",
      "Weights saved to semisupervised_results/500_epochs_adam_results_run_2_noise/weights_*.pth\n"
     ]
    },
    {
     "data": {
      "application/vnd.jupyter.widget-view+json": {
       "model_id": "ecdbb45246614fe68c2c357758206236",
       "version_major": 2,
       "version_minor": 0
      },
      "text/plain": [
       "Epoch [253/500]:   0%|          | 0/500 [00:00<?, ?it/s]"
      ]
     },
     "metadata": {},
     "output_type": "display_data"
    },
    {
     "name": "stdout",
     "output_type": "stream",
     "text": [
      "Epoch 253/500 — Recon: 0.1000, Disc_Cat: 1.3677, Gen_Cat: 1.2460, Disc_Style: 1.3864, Gen_Style: 0.6933, SemiSup: 0.0127\n",
      "Validation Accuracy: 98.93%\n",
      "\n",
      "Weights saved to semisupervised_results/500_epochs_adam_results_run_2_noise/weights_*.pth\n"
     ]
    },
    {
     "data": {
      "application/vnd.jupyter.widget-view+json": {
       "model_id": "a064211398414ddbb9852ad52d3e0577",
       "version_major": 2,
       "version_minor": 0
      },
      "text/plain": [
       "Epoch [254/500]:   0%|          | 0/500 [00:00<?, ?it/s]"
      ]
     },
     "metadata": {},
     "output_type": "display_data"
    },
    {
     "name": "stdout",
     "output_type": "stream",
     "text": [
      "Epoch 254/500 — Recon: 0.0998, Disc_Cat: 1.3665, Gen_Cat: 1.2667, Disc_Style: 1.3864, Gen_Style: 0.6935, SemiSup: 0.0129\n",
      "Validation Accuracy: 98.92%\n",
      "\n",
      "Weights saved to semisupervised_results/500_epochs_adam_results_run_2_noise/weights_*.pth\n"
     ]
    },
    {
     "data": {
      "application/vnd.jupyter.widget-view+json": {
       "model_id": "1631cca464e34a8eb30dc6dc38f62d10",
       "version_major": 2,
       "version_minor": 0
      },
      "text/plain": [
       "Epoch [255/500]:   0%|          | 0/500 [00:00<?, ?it/s]"
      ]
     },
     "metadata": {},
     "output_type": "display_data"
    },
    {
     "name": "stdout",
     "output_type": "stream",
     "text": [
      "Epoch 255/500 — Recon: 0.1000, Disc_Cat: 1.3672, Gen_Cat: 1.2697, Disc_Style: 1.3863, Gen_Style: 0.6933, SemiSup: 0.0118\n",
      "Validation Accuracy: 98.94%\n",
      "\n",
      "Weights saved to semisupervised_results/500_epochs_adam_results_run_2_noise/weights_*.pth\n"
     ]
    },
    {
     "data": {
      "application/vnd.jupyter.widget-view+json": {
       "model_id": "75c71761367f40c291f5f3be241e0dbf",
       "version_major": 2,
       "version_minor": 0
      },
      "text/plain": [
       "Epoch [256/500]:   0%|          | 0/500 [00:00<?, ?it/s]"
      ]
     },
     "metadata": {},
     "output_type": "display_data"
    },
    {
     "name": "stdout",
     "output_type": "stream",
     "text": [
      "Epoch 256/500 — Recon: 0.0999, Disc_Cat: 1.3662, Gen_Cat: 1.2887, Disc_Style: 1.3865, Gen_Style: 0.6931, SemiSup: 0.0143\n",
      "Validation Accuracy: 98.96%\n",
      "\n",
      "Weights saved to semisupervised_results/500_epochs_adam_results_run_2_noise/weights_*.pth\n"
     ]
    },
    {
     "data": {
      "application/vnd.jupyter.widget-view+json": {
       "model_id": "d4b60fd7f2d543cca9c80492bef9a779",
       "version_major": 2,
       "version_minor": 0
      },
      "text/plain": [
       "Epoch [257/500]:   0%|          | 0/500 [00:00<?, ?it/s]"
      ]
     },
     "metadata": {},
     "output_type": "display_data"
    },
    {
     "name": "stdout",
     "output_type": "stream",
     "text": [
      "Epoch 257/500 — Recon: 0.0998, Disc_Cat: 1.3672, Gen_Cat: 1.2718, Disc_Style: 1.3863, Gen_Style: 0.6930, SemiSup: 0.0131\n",
      "Validation Accuracy: 98.94%\n",
      "\n",
      "Weights saved to semisupervised_results/500_epochs_adam_results_run_2_noise/weights_*.pth\n"
     ]
    },
    {
     "data": {
      "application/vnd.jupyter.widget-view+json": {
       "model_id": "fc7ae4aeea3f4550b946f46b9bea1d13",
       "version_major": 2,
       "version_minor": 0
      },
      "text/plain": [
       "Epoch [258/500]:   0%|          | 0/500 [00:00<?, ?it/s]"
      ]
     },
     "metadata": {},
     "output_type": "display_data"
    },
    {
     "name": "stdout",
     "output_type": "stream",
     "text": [
      "Epoch 258/500 — Recon: 0.1001, Disc_Cat: 1.3680, Gen_Cat: 1.2561, Disc_Style: 1.3864, Gen_Style: 0.6930, SemiSup: 0.0120\n",
      "Validation Accuracy: 98.90%\n",
      "\n",
      "Weights saved to semisupervised_results/500_epochs_adam_results_run_2_noise/weights_*.pth\n"
     ]
    },
    {
     "data": {
      "application/vnd.jupyter.widget-view+json": {
       "model_id": "d320b9d4c2cd453694748c912e981ad9",
       "version_major": 2,
       "version_minor": 0
      },
      "text/plain": [
       "Epoch [259/500]:   0%|          | 0/500 [00:00<?, ?it/s]"
      ]
     },
     "metadata": {},
     "output_type": "display_data"
    },
    {
     "name": "stdout",
     "output_type": "stream",
     "text": [
      "Epoch 259/500 — Recon: 0.0997, Disc_Cat: 1.3680, Gen_Cat: 1.2600, Disc_Style: 1.3863, Gen_Style: 0.6935, SemiSup: 0.0114\n",
      "Validation Accuracy: 98.95%\n",
      "\n",
      "Weights saved to semisupervised_results/500_epochs_adam_results_run_2_noise/weights_*.pth\n"
     ]
    },
    {
     "data": {
      "application/vnd.jupyter.widget-view+json": {
       "model_id": "37674970ece7423089461cd6e3476339",
       "version_major": 2,
       "version_minor": 0
      },
      "text/plain": [
       "Epoch [260/500]:   0%|          | 0/500 [00:00<?, ?it/s]"
      ]
     },
     "metadata": {},
     "output_type": "display_data"
    },
    {
     "name": "stdout",
     "output_type": "stream",
     "text": [
      "Epoch 260/500 — Recon: 0.0997, Disc_Cat: 1.3678, Gen_Cat: 1.2473, Disc_Style: 1.3862, Gen_Style: 0.6932, SemiSup: 0.0100\n",
      "Validation Accuracy: 98.98%\n",
      "\n",
      "Weights saved to semisupervised_results/500_epochs_adam_results_run_2_noise/weights_*.pth\n"
     ]
    },
    {
     "data": {
      "application/vnd.jupyter.widget-view+json": {
       "model_id": "ad1ad46f629b4f9da879245d5e97c9e4",
       "version_major": 2,
       "version_minor": 0
      },
      "text/plain": [
       "Epoch [261/500]:   0%|          | 0/500 [00:00<?, ?it/s]"
      ]
     },
     "metadata": {},
     "output_type": "display_data"
    },
    {
     "name": "stdout",
     "output_type": "stream",
     "text": [
      "Epoch 261/500 — Recon: 0.1001, Disc_Cat: 1.3672, Gen_Cat: 1.2467, Disc_Style: 1.3864, Gen_Style: 0.6931, SemiSup: 0.0114\n",
      "Validation Accuracy: 98.91%\n",
      "\n",
      "Weights saved to semisupervised_results/500_epochs_adam_results_run_2_noise/weights_*.pth\n"
     ]
    },
    {
     "data": {
      "application/vnd.jupyter.widget-view+json": {
       "model_id": "d9df81d157a045949fdbfc8cf46e9d83",
       "version_major": 2,
       "version_minor": 0
      },
      "text/plain": [
       "Epoch [262/500]:   0%|          | 0/500 [00:00<?, ?it/s]"
      ]
     },
     "metadata": {},
     "output_type": "display_data"
    },
    {
     "name": "stdout",
     "output_type": "stream",
     "text": [
      "Epoch 262/500 — Recon: 0.0998, Disc_Cat: 1.3668, Gen_Cat: 1.2971, Disc_Style: 1.3864, Gen_Style: 0.6929, SemiSup: 0.0135\n",
      "Validation Accuracy: 98.95%\n",
      "\n",
      "Weights saved to semisupervised_results/500_epochs_adam_results_run_2_noise/weights_*.pth\n"
     ]
    },
    {
     "data": {
      "application/vnd.jupyter.widget-view+json": {
       "model_id": "b4d984a3ef004359b9ca97036c85890b",
       "version_major": 2,
       "version_minor": 0
      },
      "text/plain": [
       "Epoch [263/500]:   0%|          | 0/500 [00:00<?, ?it/s]"
      ]
     },
     "metadata": {},
     "output_type": "display_data"
    },
    {
     "name": "stdout",
     "output_type": "stream",
     "text": [
      "Epoch 263/500 — Recon: 0.1000, Disc_Cat: 1.3677, Gen_Cat: 1.2491, Disc_Style: 1.3864, Gen_Style: 0.6936, SemiSup: 0.0138\n",
      "Validation Accuracy: 99.03%\n",
      "\n",
      "Weights saved to semisupervised_results/500_epochs_adam_results_run_2_noise/weights_*.pth\n"
     ]
    },
    {
     "data": {
      "application/vnd.jupyter.widget-view+json": {
       "model_id": "2bf3e9b8fe934c0296394a8898b9fa12",
       "version_major": 2,
       "version_minor": 0
      },
      "text/plain": [
       "Epoch [264/500]:   0%|          | 0/500 [00:00<?, ?it/s]"
      ]
     },
     "metadata": {},
     "output_type": "display_data"
    },
    {
     "name": "stdout",
     "output_type": "stream",
     "text": [
      "Epoch 264/500 — Recon: 0.0999, Disc_Cat: 1.3682, Gen_Cat: 1.2379, Disc_Style: 1.3864, Gen_Style: 0.6933, SemiSup: 0.0111\n",
      "Validation Accuracy: 98.95%\n",
      "\n",
      "Weights saved to semisupervised_results/500_epochs_adam_results_run_2_noise/weights_*.pth\n"
     ]
    },
    {
     "data": {
      "application/vnd.jupyter.widget-view+json": {
       "model_id": "b256949253f345acb9e8ff265e563a4a",
       "version_major": 2,
       "version_minor": 0
      },
      "text/plain": [
       "Epoch [265/500]:   0%|          | 0/500 [00:00<?, ?it/s]"
      ]
     },
     "metadata": {},
     "output_type": "display_data"
    },
    {
     "name": "stdout",
     "output_type": "stream",
     "text": [
      "Epoch 265/500 — Recon: 0.0999, Disc_Cat: 1.3659, Gen_Cat: 1.2846, Disc_Style: 1.3863, Gen_Style: 0.6929, SemiSup: 0.0118\n",
      "Validation Accuracy: 98.89%\n",
      "\n",
      "Weights saved to semisupervised_results/500_epochs_adam_results_run_2_noise/weights_*.pth\n"
     ]
    },
    {
     "data": {
      "application/vnd.jupyter.widget-view+json": {
       "model_id": "e269948bcde743edba6e504a7cc6d790",
       "version_major": 2,
       "version_minor": 0
      },
      "text/plain": [
       "Epoch [266/500]:   0%|          | 0/500 [00:00<?, ?it/s]"
      ]
     },
     "metadata": {},
     "output_type": "display_data"
    },
    {
     "name": "stdout",
     "output_type": "stream",
     "text": [
      "Epoch 266/500 — Recon: 0.0997, Disc_Cat: 1.3666, Gen_Cat: 1.2798, Disc_Style: 1.3863, Gen_Style: 0.6933, SemiSup: 0.0143\n",
      "Validation Accuracy: 98.98%\n",
      "\n",
      "Weights saved to semisupervised_results/500_epochs_adam_results_run_2_noise/weights_*.pth\n"
     ]
    },
    {
     "data": {
      "application/vnd.jupyter.widget-view+json": {
       "model_id": "646c3a1212f540fc92b64ee98bc308f7",
       "version_major": 2,
       "version_minor": 0
      },
      "text/plain": [
       "Epoch [267/500]:   0%|          | 0/500 [00:00<?, ?it/s]"
      ]
     },
     "metadata": {},
     "output_type": "display_data"
    },
    {
     "name": "stdout",
     "output_type": "stream",
     "text": [
      "Epoch 267/500 — Recon: 0.0998, Disc_Cat: 1.3675, Gen_Cat: 1.2551, Disc_Style: 1.3863, Gen_Style: 0.6930, SemiSup: 0.0109\n",
      "Validation Accuracy: 98.94%\n",
      "\n",
      "Weights saved to semisupervised_results/500_epochs_adam_results_run_2_noise/weights_*.pth\n"
     ]
    },
    {
     "data": {
      "application/vnd.jupyter.widget-view+json": {
       "model_id": "d1328147c52c4cdbb571f50587beaddf",
       "version_major": 2,
       "version_minor": 0
      },
      "text/plain": [
       "Epoch [268/500]:   0%|          | 0/500 [00:00<?, ?it/s]"
      ]
     },
     "metadata": {},
     "output_type": "display_data"
    },
    {
     "name": "stdout",
     "output_type": "stream",
     "text": [
      "Epoch 268/500 — Recon: 0.0998, Disc_Cat: 1.3677, Gen_Cat: 1.2470, Disc_Style: 1.3864, Gen_Style: 0.6934, SemiSup: 0.0136\n",
      "Validation Accuracy: 98.89%\n",
      "\n",
      "Weights saved to semisupervised_results/500_epochs_adam_results_run_2_noise/weights_*.pth\n"
     ]
    },
    {
     "data": {
      "application/vnd.jupyter.widget-view+json": {
       "model_id": "79983e408c0c42869f64b5f0e37410e8",
       "version_major": 2,
       "version_minor": 0
      },
      "text/plain": [
       "Epoch [269/500]:   0%|          | 0/500 [00:00<?, ?it/s]"
      ]
     },
     "metadata": {},
     "output_type": "display_data"
    },
    {
     "name": "stdout",
     "output_type": "stream",
     "text": [
      "Epoch 269/500 — Recon: 0.0999, Disc_Cat: 1.3686, Gen_Cat: 1.2205, Disc_Style: 1.3863, Gen_Style: 0.6933, SemiSup: 0.0121\n",
      "Validation Accuracy: 98.93%\n",
      "\n",
      "Weights saved to semisupervised_results/500_epochs_adam_results_run_2_noise/weights_*.pth\n"
     ]
    },
    {
     "data": {
      "application/vnd.jupyter.widget-view+json": {
       "model_id": "dbd659ec166148c0aae31868f253a245",
       "version_major": 2,
       "version_minor": 0
      },
      "text/plain": [
       "Epoch [270/500]:   0%|          | 0/500 [00:00<?, ?it/s]"
      ]
     },
     "metadata": {},
     "output_type": "display_data"
    },
    {
     "name": "stdout",
     "output_type": "stream",
     "text": [
      "Epoch 270/500 — Recon: 0.0997, Disc_Cat: 1.3674, Gen_Cat: 1.2673, Disc_Style: 1.3863, Gen_Style: 0.6932, SemiSup: 0.0105\n",
      "Validation Accuracy: 98.93%\n",
      "\n",
      "Weights saved to semisupervised_results/500_epochs_adam_results_run_2_noise/weights_*.pth\n"
     ]
    },
    {
     "data": {
      "application/vnd.jupyter.widget-view+json": {
       "model_id": "5a3ba2c8be12499ca51d0bdb5ca75f95",
       "version_major": 2,
       "version_minor": 0
      },
      "text/plain": [
       "Epoch [271/500]:   0%|          | 0/500 [00:00<?, ?it/s]"
      ]
     },
     "metadata": {},
     "output_type": "display_data"
    },
    {
     "name": "stdout",
     "output_type": "stream",
     "text": [
      "Epoch 271/500 — Recon: 0.0997, Disc_Cat: 1.3686, Gen_Cat: 1.2410, Disc_Style: 1.3863, Gen_Style: 0.6932, SemiSup: 0.0110\n",
      "Validation Accuracy: 98.88%\n",
      "\n",
      "Weights saved to semisupervised_results/500_epochs_adam_results_run_2_noise/weights_*.pth\n"
     ]
    },
    {
     "data": {
      "application/vnd.jupyter.widget-view+json": {
       "model_id": "0ad74b0d2f46494c9e7759b1123cddfb",
       "version_major": 2,
       "version_minor": 0
      },
      "text/plain": [
       "Epoch [272/500]:   0%|          | 0/500 [00:00<?, ?it/s]"
      ]
     },
     "metadata": {},
     "output_type": "display_data"
    },
    {
     "name": "stdout",
     "output_type": "stream",
     "text": [
      "Epoch 272/500 — Recon: 0.0998, Disc_Cat: 1.3672, Gen_Cat: 1.2520, Disc_Style: 1.3863, Gen_Style: 0.6933, SemiSup: 0.0100\n",
      "Validation Accuracy: 98.85%\n",
      "\n",
      "Weights saved to semisupervised_results/500_epochs_adam_results_run_2_noise/weights_*.pth\n"
     ]
    },
    {
     "data": {
      "application/vnd.jupyter.widget-view+json": {
       "model_id": "df9627a9792048c7b83f13d91dd8321c",
       "version_major": 2,
       "version_minor": 0
      },
      "text/plain": [
       "Epoch [273/500]:   0%|          | 0/500 [00:00<?, ?it/s]"
      ]
     },
     "metadata": {},
     "output_type": "display_data"
    },
    {
     "name": "stdout",
     "output_type": "stream",
     "text": [
      "Epoch 273/500 — Recon: 0.0998, Disc_Cat: 1.3681, Gen_Cat: 1.2485, Disc_Style: 1.3863, Gen_Style: 0.6930, SemiSup: 0.0121\n",
      "Validation Accuracy: 98.98%\n",
      "\n",
      "Weights saved to semisupervised_results/500_epochs_adam_results_run_2_noise/weights_*.pth\n"
     ]
    },
    {
     "data": {
      "application/vnd.jupyter.widget-view+json": {
       "model_id": "9f5987b2ff8249b4b1da5ef875960575",
       "version_major": 2,
       "version_minor": 0
      },
      "text/plain": [
       "Epoch [274/500]:   0%|          | 0/500 [00:00<?, ?it/s]"
      ]
     },
     "metadata": {},
     "output_type": "display_data"
    },
    {
     "name": "stdout",
     "output_type": "stream",
     "text": [
      "Epoch 274/500 — Recon: 0.0998, Disc_Cat: 1.3677, Gen_Cat: 1.2581, Disc_Style: 1.3864, Gen_Style: 0.6934, SemiSup: 0.0129\n",
      "Validation Accuracy: 98.95%\n",
      "\n",
      "Weights saved to semisupervised_results/500_epochs_adam_results_run_2_noise/weights_*.pth\n"
     ]
    },
    {
     "data": {
      "application/vnd.jupyter.widget-view+json": {
       "model_id": "e020860bb6f14158be4b04a2319e9a39",
       "version_major": 2,
       "version_minor": 0
      },
      "text/plain": [
       "Epoch [275/500]:   0%|          | 0/500 [00:00<?, ?it/s]"
      ]
     },
     "metadata": {},
     "output_type": "display_data"
    },
    {
     "name": "stdout",
     "output_type": "stream",
     "text": [
      "Epoch 275/500 — Recon: 0.0997, Disc_Cat: 1.3680, Gen_Cat: 1.2643, Disc_Style: 1.3862, Gen_Style: 0.6930, SemiSup: 0.0120\n",
      "Validation Accuracy: 98.98%\n",
      "\n",
      "Weights saved to semisupervised_results/500_epochs_adam_results_run_2_noise/weights_*.pth\n"
     ]
    },
    {
     "data": {
      "application/vnd.jupyter.widget-view+json": {
       "model_id": "a37f7cc2ea704a4091a4f529daaf8db7",
       "version_major": 2,
       "version_minor": 0
      },
      "text/plain": [
       "Epoch [276/500]:   0%|          | 0/500 [00:00<?, ?it/s]"
      ]
     },
     "metadata": {},
     "output_type": "display_data"
    },
    {
     "name": "stdout",
     "output_type": "stream",
     "text": [
      "Epoch 276/500 — Recon: 0.0999, Disc_Cat: 1.3675, Gen_Cat: 1.2590, Disc_Style: 1.3863, Gen_Style: 0.6933, SemiSup: 0.0119\n",
      "Validation Accuracy: 98.87%\n",
      "\n",
      "Weights saved to semisupervised_results/500_epochs_adam_results_run_2_noise/weights_*.pth\n"
     ]
    },
    {
     "data": {
      "application/vnd.jupyter.widget-view+json": {
       "model_id": "56980e0c4f534ee697525019ef06cd12",
       "version_major": 2,
       "version_minor": 0
      },
      "text/plain": [
       "Epoch [277/500]:   0%|          | 0/500 [00:00<?, ?it/s]"
      ]
     },
     "metadata": {},
     "output_type": "display_data"
    },
    {
     "name": "stdout",
     "output_type": "stream",
     "text": [
      "Epoch 277/500 — Recon: 0.0998, Disc_Cat: 1.3674, Gen_Cat: 1.2560, Disc_Style: 1.3863, Gen_Style: 0.6933, SemiSup: 0.0116\n",
      "Validation Accuracy: 98.98%\n",
      "\n",
      "Weights saved to semisupervised_results/500_epochs_adam_results_run_2_noise/weights_*.pth\n"
     ]
    },
    {
     "data": {
      "application/vnd.jupyter.widget-view+json": {
       "model_id": "d9d5c654fc1b4b9b8c0a51ba416eee21",
       "version_major": 2,
       "version_minor": 0
      },
      "text/plain": [
       "Epoch [278/500]:   0%|          | 0/500 [00:00<?, ?it/s]"
      ]
     },
     "metadata": {},
     "output_type": "display_data"
    },
    {
     "name": "stdout",
     "output_type": "stream",
     "text": [
      "Epoch 278/500 — Recon: 0.0997, Disc_Cat: 1.3682, Gen_Cat: 1.2458, Disc_Style: 1.3863, Gen_Style: 0.6931, SemiSup: 0.0115\n",
      "Validation Accuracy: 98.91%\n",
      "\n",
      "Weights saved to semisupervised_results/500_epochs_adam_results_run_2_noise/weights_*.pth\n"
     ]
    },
    {
     "data": {
      "application/vnd.jupyter.widget-view+json": {
       "model_id": "2658828b2f804e3aa7305c082f56a305",
       "version_major": 2,
       "version_minor": 0
      },
      "text/plain": [
       "Epoch [279/500]:   0%|          | 0/500 [00:00<?, ?it/s]"
      ]
     },
     "metadata": {},
     "output_type": "display_data"
    },
    {
     "name": "stdout",
     "output_type": "stream",
     "text": [
      "Epoch 279/500 — Recon: 0.0999, Disc_Cat: 1.3669, Gen_Cat: 1.2823, Disc_Style: 1.3864, Gen_Style: 0.6933, SemiSup: 0.0127\n",
      "Validation Accuracy: 98.89%\n",
      "\n",
      "Weights saved to semisupervised_results/500_epochs_adam_results_run_2_noise/weights_*.pth\n"
     ]
    },
    {
     "data": {
      "application/vnd.jupyter.widget-view+json": {
       "model_id": "abcbfe4503194deaa789716aba6a1c46",
       "version_major": 2,
       "version_minor": 0
      },
      "text/plain": [
       "Epoch [280/500]:   0%|          | 0/500 [00:00<?, ?it/s]"
      ]
     },
     "metadata": {},
     "output_type": "display_data"
    },
    {
     "name": "stdout",
     "output_type": "stream",
     "text": [
      "Epoch 280/500 — Recon: 0.0997, Disc_Cat: 1.3673, Gen_Cat: 1.2665, Disc_Style: 1.3863, Gen_Style: 0.6931, SemiSup: 0.0109\n",
      "Validation Accuracy: 99.01%\n",
      "\n",
      "Weights saved to semisupervised_results/500_epochs_adam_results_run_2_noise/weights_*.pth\n"
     ]
    },
    {
     "data": {
      "application/vnd.jupyter.widget-view+json": {
       "model_id": "ce96146cbb624bfcbebddad1d6d7b10f",
       "version_major": 2,
       "version_minor": 0
      },
      "text/plain": [
       "Epoch [281/500]:   0%|          | 0/500 [00:00<?, ?it/s]"
      ]
     },
     "metadata": {},
     "output_type": "display_data"
    },
    {
     "name": "stdout",
     "output_type": "stream",
     "text": [
      "Epoch 281/500 — Recon: 0.0998, Disc_Cat: 1.3670, Gen_Cat: 1.2566, Disc_Style: 1.3864, Gen_Style: 0.6933, SemiSup: 0.0143\n",
      "Validation Accuracy: 98.89%\n",
      "\n",
      "Weights saved to semisupervised_results/500_epochs_adam_results_run_2_noise/weights_*.pth\n"
     ]
    },
    {
     "data": {
      "application/vnd.jupyter.widget-view+json": {
       "model_id": "9c36362801a143c8a5d8976f585c6c5d",
       "version_major": 2,
       "version_minor": 0
      },
      "text/plain": [
       "Epoch [282/500]:   0%|          | 0/500 [00:00<?, ?it/s]"
      ]
     },
     "metadata": {},
     "output_type": "display_data"
    },
    {
     "name": "stdout",
     "output_type": "stream",
     "text": [
      "Epoch 282/500 — Recon: 0.0997, Disc_Cat: 1.3675, Gen_Cat: 1.2593, Disc_Style: 1.3863, Gen_Style: 0.6930, SemiSup: 0.0117\n",
      "Validation Accuracy: 98.93%\n",
      "\n",
      "Weights saved to semisupervised_results/500_epochs_adam_results_run_2_noise/weights_*.pth\n"
     ]
    },
    {
     "data": {
      "application/vnd.jupyter.widget-view+json": {
       "model_id": "7a0b5b85225545aa94c6293a5ea2b98c",
       "version_major": 2,
       "version_minor": 0
      },
      "text/plain": [
       "Epoch [283/500]:   0%|          | 0/500 [00:00<?, ?it/s]"
      ]
     },
     "metadata": {},
     "output_type": "display_data"
    },
    {
     "name": "stdout",
     "output_type": "stream",
     "text": [
      "Epoch 283/500 — Recon: 0.0997, Disc_Cat: 1.3687, Gen_Cat: 1.2327, Disc_Style: 1.3863, Gen_Style: 0.6932, SemiSup: 0.0115\n",
      "Validation Accuracy: 98.90%\n",
      "\n",
      "Weights saved to semisupervised_results/500_epochs_adam_results_run_2_noise/weights_*.pth\n"
     ]
    },
    {
     "data": {
      "application/vnd.jupyter.widget-view+json": {
       "model_id": "135b8d3ffc1e4b908574957127031c2a",
       "version_major": 2,
       "version_minor": 0
      },
      "text/plain": [
       "Epoch [284/500]:   0%|          | 0/500 [00:00<?, ?it/s]"
      ]
     },
     "metadata": {},
     "output_type": "display_data"
    },
    {
     "name": "stdout",
     "output_type": "stream",
     "text": [
      "Epoch 284/500 — Recon: 0.0998, Disc_Cat: 1.3670, Gen_Cat: 1.2708, Disc_Style: 1.3863, Gen_Style: 0.6933, SemiSup: 0.0120\n",
      "Validation Accuracy: 98.89%\n",
      "\n",
      "Weights saved to semisupervised_results/500_epochs_adam_results_run_2_noise/weights_*.pth\n"
     ]
    },
    {
     "data": {
      "application/vnd.jupyter.widget-view+json": {
       "model_id": "0ce779f470064e1fa23f49ac57c65a9b",
       "version_major": 2,
       "version_minor": 0
      },
      "text/plain": [
       "Epoch [285/500]:   0%|          | 0/500 [00:00<?, ?it/s]"
      ]
     },
     "metadata": {},
     "output_type": "display_data"
    },
    {
     "name": "stdout",
     "output_type": "stream",
     "text": [
      "Epoch 285/500 — Recon: 0.0998, Disc_Cat: 1.3684, Gen_Cat: 1.2364, Disc_Style: 1.3863, Gen_Style: 0.6931, SemiSup: 0.0109\n",
      "Validation Accuracy: 98.89%\n",
      "\n",
      "Weights saved to semisupervised_results/500_epochs_adam_results_run_2_noise/weights_*.pth\n"
     ]
    },
    {
     "data": {
      "application/vnd.jupyter.widget-view+json": {
       "model_id": "07576978f7334b6299a8c500c33666b3",
       "version_major": 2,
       "version_minor": 0
      },
      "text/plain": [
       "Epoch [286/500]:   0%|          | 0/500 [00:00<?, ?it/s]"
      ]
     },
     "metadata": {},
     "output_type": "display_data"
    },
    {
     "name": "stdout",
     "output_type": "stream",
     "text": [
      "Epoch 286/500 — Recon: 0.0997, Disc_Cat: 1.3680, Gen_Cat: 1.2358, Disc_Style: 1.3863, Gen_Style: 0.6932, SemiSup: 0.0130\n",
      "Validation Accuracy: 98.89%\n",
      "\n",
      "Weights saved to semisupervised_results/500_epochs_adam_results_run_2_noise/weights_*.pth\n"
     ]
    },
    {
     "data": {
      "application/vnd.jupyter.widget-view+json": {
       "model_id": "026ad63dcbf14af8ba32faaa43f9f818",
       "version_major": 2,
       "version_minor": 0
      },
      "text/plain": [
       "Epoch [287/500]:   0%|          | 0/500 [00:00<?, ?it/s]"
      ]
     },
     "metadata": {},
     "output_type": "display_data"
    },
    {
     "name": "stdout",
     "output_type": "stream",
     "text": [
      "Epoch 287/500 — Recon: 0.0998, Disc_Cat: 1.3689, Gen_Cat: 1.2368, Disc_Style: 1.3864, Gen_Style: 0.6931, SemiSup: 0.0102\n",
      "Validation Accuracy: 98.92%\n",
      "\n",
      "Weights saved to semisupervised_results/500_epochs_adam_results_run_2_noise/weights_*.pth\n"
     ]
    },
    {
     "data": {
      "application/vnd.jupyter.widget-view+json": {
       "model_id": "3bfa3232ce354462a79d4f5693e6712b",
       "version_major": 2,
       "version_minor": 0
      },
      "text/plain": [
       "Epoch [288/500]:   0%|          | 0/500 [00:00<?, ?it/s]"
      ]
     },
     "metadata": {},
     "output_type": "display_data"
    },
    {
     "name": "stdout",
     "output_type": "stream",
     "text": [
      "Epoch 288/500 — Recon: 0.0996, Disc_Cat: 1.3680, Gen_Cat: 1.2419, Disc_Style: 1.3863, Gen_Style: 0.6932, SemiSup: 0.0103\n",
      "Validation Accuracy: 98.89%\n",
      "\n",
      "Weights saved to semisupervised_results/500_epochs_adam_results_run_2_noise/weights_*.pth\n"
     ]
    },
    {
     "data": {
      "application/vnd.jupyter.widget-view+json": {
       "model_id": "884912bdc42146298863c9a6b5998c1e",
       "version_major": 2,
       "version_minor": 0
      },
      "text/plain": [
       "Epoch [289/500]:   0%|          | 0/500 [00:00<?, ?it/s]"
      ]
     },
     "metadata": {},
     "output_type": "display_data"
    },
    {
     "name": "stdout",
     "output_type": "stream",
     "text": [
      "Epoch 289/500 — Recon: 0.0998, Disc_Cat: 1.3692, Gen_Cat: 1.2232, Disc_Style: 1.3863, Gen_Style: 0.6934, SemiSup: 0.0118\n",
      "Validation Accuracy: 98.93%\n",
      "\n",
      "Weights saved to semisupervised_results/500_epochs_adam_results_run_2_noise/weights_*.pth\n"
     ]
    },
    {
     "data": {
      "application/vnd.jupyter.widget-view+json": {
       "model_id": "e8870d3d3692440cbfd5b1c37c5147e5",
       "version_major": 2,
       "version_minor": 0
      },
      "text/plain": [
       "Epoch [290/500]:   0%|          | 0/500 [00:00<?, ?it/s]"
      ]
     },
     "metadata": {},
     "output_type": "display_data"
    },
    {
     "name": "stdout",
     "output_type": "stream",
     "text": [
      "Epoch 290/500 — Recon: 0.0996, Disc_Cat: 1.3682, Gen_Cat: 1.2355, Disc_Style: 1.3863, Gen_Style: 0.6931, SemiSup: 0.0114\n",
      "Validation Accuracy: 98.98%\n",
      "\n",
      "Weights saved to semisupervised_results/500_epochs_adam_results_run_2_noise/weights_*.pth\n"
     ]
    },
    {
     "data": {
      "application/vnd.jupyter.widget-view+json": {
       "model_id": "3b070d95761643e4a8135a34665e6226",
       "version_major": 2,
       "version_minor": 0
      },
      "text/plain": [
       "Epoch [291/500]:   0%|          | 0/500 [00:00<?, ?it/s]"
      ]
     },
     "metadata": {},
     "output_type": "display_data"
    },
    {
     "name": "stdout",
     "output_type": "stream",
     "text": [
      "Epoch 291/500 — Recon: 0.0998, Disc_Cat: 1.3682, Gen_Cat: 1.2398, Disc_Style: 1.3864, Gen_Style: 0.6933, SemiSup: 0.0082\n",
      "Validation Accuracy: 98.97%\n",
      "\n",
      "Weights saved to semisupervised_results/500_epochs_adam_results_run_2_noise/weights_*.pth\n"
     ]
    },
    {
     "data": {
      "application/vnd.jupyter.widget-view+json": {
       "model_id": "173e258dc2e14f5fbe7ad1231710610a",
       "version_major": 2,
       "version_minor": 0
      },
      "text/plain": [
       "Epoch [292/500]:   0%|          | 0/500 [00:00<?, ?it/s]"
      ]
     },
     "metadata": {},
     "output_type": "display_data"
    },
    {
     "name": "stdout",
     "output_type": "stream",
     "text": [
      "Epoch 292/500 — Recon: 0.0997, Disc_Cat: 1.3692, Gen_Cat: 1.2239, Disc_Style: 1.3863, Gen_Style: 0.6931, SemiSup: 0.0102\n",
      "Validation Accuracy: 98.89%\n",
      "\n",
      "Weights saved to semisupervised_results/500_epochs_adam_results_run_2_noise/weights_*.pth\n"
     ]
    },
    {
     "data": {
      "application/vnd.jupyter.widget-view+json": {
       "model_id": "d075ab7e7b474dcd972091eec6215c63",
       "version_major": 2,
       "version_minor": 0
      },
      "text/plain": [
       "Epoch [293/500]:   0%|          | 0/500 [00:00<?, ?it/s]"
      ]
     },
     "metadata": {},
     "output_type": "display_data"
    },
    {
     "name": "stdout",
     "output_type": "stream",
     "text": [
      "Epoch 293/500 — Recon: 0.0998, Disc_Cat: 1.3677, Gen_Cat: 1.2543, Disc_Style: 1.3864, Gen_Style: 0.6932, SemiSup: 0.0106\n",
      "Validation Accuracy: 98.77%\n",
      "\n",
      "Weights saved to semisupervised_results/500_epochs_adam_results_run_2_noise/weights_*.pth\n"
     ]
    },
    {
     "data": {
      "application/vnd.jupyter.widget-view+json": {
       "model_id": "a6d2177d74454e6d842793767b71f35b",
       "version_major": 2,
       "version_minor": 0
      },
      "text/plain": [
       "Epoch [294/500]:   0%|          | 0/500 [00:00<?, ?it/s]"
      ]
     },
     "metadata": {},
     "output_type": "display_data"
    },
    {
     "name": "stdout",
     "output_type": "stream",
     "text": [
      "Epoch 294/500 — Recon: 0.0997, Disc_Cat: 1.3671, Gen_Cat: 1.2591, Disc_Style: 1.3863, Gen_Style: 0.6932, SemiSup: 0.0092\n",
      "Validation Accuracy: 98.92%\n",
      "\n",
      "Weights saved to semisupervised_results/500_epochs_adam_results_run_2_noise/weights_*.pth\n"
     ]
    },
    {
     "data": {
      "application/vnd.jupyter.widget-view+json": {
       "model_id": "42c9c49ff8dc4555944d93dded97c4d3",
       "version_major": 2,
       "version_minor": 0
      },
      "text/plain": [
       "Epoch [295/500]:   0%|          | 0/500 [00:00<?, ?it/s]"
      ]
     },
     "metadata": {},
     "output_type": "display_data"
    },
    {
     "name": "stdout",
     "output_type": "stream",
     "text": [
      "Epoch 295/500 — Recon: 0.0996, Disc_Cat: 1.3678, Gen_Cat: 1.2782, Disc_Style: 1.3863, Gen_Style: 0.6931, SemiSup: 0.0116\n",
      "Validation Accuracy: 99.04%\n",
      "\n",
      "Weights saved to semisupervised_results/500_epochs_adam_results_run_2_noise/weights_*.pth\n"
     ]
    },
    {
     "data": {
      "application/vnd.jupyter.widget-view+json": {
       "model_id": "73b33f3e86174840bafad256d7781921",
       "version_major": 2,
       "version_minor": 0
      },
      "text/plain": [
       "Epoch [296/500]:   0%|          | 0/500 [00:00<?, ?it/s]"
      ]
     },
     "metadata": {},
     "output_type": "display_data"
    },
    {
     "name": "stdout",
     "output_type": "stream",
     "text": [
      "Epoch 296/500 — Recon: 0.0996, Disc_Cat: 1.3686, Gen_Cat: 1.2345, Disc_Style: 1.3863, Gen_Style: 0.6932, SemiSup: 0.0117\n",
      "Validation Accuracy: 99.05%\n",
      "\n",
      "Weights saved to semisupervised_results/500_epochs_adam_results_run_2_noise/weights_*.pth\n"
     ]
    },
    {
     "data": {
      "application/vnd.jupyter.widget-view+json": {
       "model_id": "f886ebac9933451e8475316fe8d0052a",
       "version_major": 2,
       "version_minor": 0
      },
      "text/plain": [
       "Epoch [297/500]:   0%|          | 0/500 [00:00<?, ?it/s]"
      ]
     },
     "metadata": {},
     "output_type": "display_data"
    },
    {
     "name": "stdout",
     "output_type": "stream",
     "text": [
      "Epoch 297/500 — Recon: 0.0997, Disc_Cat: 1.3687, Gen_Cat: 1.2530, Disc_Style: 1.3863, Gen_Style: 0.6931, SemiSup: 0.0109\n",
      "Validation Accuracy: 98.96%\n",
      "\n",
      "Weights saved to semisupervised_results/500_epochs_adam_results_run_2_noise/weights_*.pth\n"
     ]
    },
    {
     "data": {
      "application/vnd.jupyter.widget-view+json": {
       "model_id": "5a2e86777c5f406989f353cbb3ac96c5",
       "version_major": 2,
       "version_minor": 0
      },
      "text/plain": [
       "Epoch [298/500]:   0%|          | 0/500 [00:00<?, ?it/s]"
      ]
     },
     "metadata": {},
     "output_type": "display_data"
    },
    {
     "name": "stdout",
     "output_type": "stream",
     "text": [
      "Epoch 298/500 — Recon: 0.0997, Disc_Cat: 1.3685, Gen_Cat: 1.2344, Disc_Style: 1.3863, Gen_Style: 0.6932, SemiSup: 0.0095\n",
      "Validation Accuracy: 98.94%\n",
      "\n",
      "Weights saved to semisupervised_results/500_epochs_adam_results_run_2_noise/weights_*.pth\n"
     ]
    },
    {
     "data": {
      "application/vnd.jupyter.widget-view+json": {
       "model_id": "c647a88384ab4fdcb0657e396a9b131f",
       "version_major": 2,
       "version_minor": 0
      },
      "text/plain": [
       "Epoch [299/500]:   0%|          | 0/500 [00:00<?, ?it/s]"
      ]
     },
     "metadata": {},
     "output_type": "display_data"
    },
    {
     "name": "stdout",
     "output_type": "stream",
     "text": [
      "Epoch 299/500 — Recon: 0.0997, Disc_Cat: 1.3681, Gen_Cat: 1.2499, Disc_Style: 1.3863, Gen_Style: 0.6931, SemiSup: 0.0115\n",
      "Validation Accuracy: 98.90%\n",
      "\n",
      "Weights saved to semisupervised_results/500_epochs_adam_results_run_2_noise/weights_*.pth\n"
     ]
    },
    {
     "data": {
      "application/vnd.jupyter.widget-view+json": {
       "model_id": "8f975810b5bd4cfdb4b65f83811c2ada",
       "version_major": 2,
       "version_minor": 0
      },
      "text/plain": [
       "Epoch [300/500]:   0%|          | 0/500 [00:00<?, ?it/s]"
      ]
     },
     "metadata": {},
     "output_type": "display_data"
    },
    {
     "name": "stdout",
     "output_type": "stream",
     "text": [
      "Epoch 300/500 — Recon: 0.0997, Disc_Cat: 1.3706, Gen_Cat: 1.1852, Disc_Style: 1.3863, Gen_Style: 0.6932, SemiSup: 0.0108\n",
      "Validation Accuracy: 98.94%\n",
      "\n",
      "Weights saved to semisupervised_results/500_epochs_adam_results_run_2_noise/weights_epoch_300_*.pth\n",
      "Weights saved to semisupervised_results/500_epochs_adam_results_run_2_noise/weights_*.pth\n"
     ]
    },
    {
     "data": {
      "application/vnd.jupyter.widget-view+json": {
       "model_id": "5bf311d6382243399db1a685e807fd3d",
       "version_major": 2,
       "version_minor": 0
      },
      "text/plain": [
       "Epoch [301/500]:   0%|          | 0/500 [00:00<?, ?it/s]"
      ]
     },
     "metadata": {},
     "output_type": "display_data"
    },
    {
     "name": "stdout",
     "output_type": "stream",
     "text": [
      "Epoch 301/500 — Recon: 0.0997, Disc_Cat: 1.3689, Gen_Cat: 1.2168, Disc_Style: 1.3863, Gen_Style: 0.6931, SemiSup: 0.0104\n",
      "Validation Accuracy: 98.90%\n",
      "\n",
      "Weights saved to semisupervised_results/500_epochs_adam_results_run_2_noise/weights_*.pth\n"
     ]
    },
    {
     "data": {
      "application/vnd.jupyter.widget-view+json": {
       "model_id": "827c3c88339a47b78a81bd0b6b1f1ae0",
       "version_major": 2,
       "version_minor": 0
      },
      "text/plain": [
       "Epoch [302/500]:   0%|          | 0/500 [00:00<?, ?it/s]"
      ]
     },
     "metadata": {},
     "output_type": "display_data"
    },
    {
     "name": "stdout",
     "output_type": "stream",
     "text": [
      "Epoch 302/500 — Recon: 0.0997, Disc_Cat: 1.3692, Gen_Cat: 1.2164, Disc_Style: 1.3863, Gen_Style: 0.6932, SemiSup: 0.0099\n",
      "Validation Accuracy: 98.83%\n",
      "\n",
      "Weights saved to semisupervised_results/500_epochs_adam_results_run_2_noise/weights_*.pth\n"
     ]
    },
    {
     "data": {
      "application/vnd.jupyter.widget-view+json": {
       "model_id": "954f1dc403bc46a69c579c6c404512e0",
       "version_major": 2,
       "version_minor": 0
      },
      "text/plain": [
       "Epoch [303/500]:   0%|          | 0/500 [00:00<?, ?it/s]"
      ]
     },
     "metadata": {},
     "output_type": "display_data"
    },
    {
     "name": "stdout",
     "output_type": "stream",
     "text": [
      "Epoch 303/500 — Recon: 0.0997, Disc_Cat: 1.3684, Gen_Cat: 1.2499, Disc_Style: 1.3863, Gen_Style: 0.6931, SemiSup: 0.0120\n",
      "Validation Accuracy: 98.89%\n",
      "\n",
      "Weights saved to semisupervised_results/500_epochs_adam_results_run_2_noise/weights_*.pth\n"
     ]
    },
    {
     "data": {
      "application/vnd.jupyter.widget-view+json": {
       "model_id": "a007abd50c684a56854a6200a38ee352",
       "version_major": 2,
       "version_minor": 0
      },
      "text/plain": [
       "Epoch [304/500]:   0%|          | 0/500 [00:00<?, ?it/s]"
      ]
     },
     "metadata": {},
     "output_type": "display_data"
    },
    {
     "name": "stdout",
     "output_type": "stream",
     "text": [
      "Epoch 304/500 — Recon: 0.0995, Disc_Cat: 1.3683, Gen_Cat: 1.2431, Disc_Style: 1.3863, Gen_Style: 0.6931, SemiSup: 0.0089\n",
      "Validation Accuracy: 99.01%\n",
      "\n",
      "Weights saved to semisupervised_results/500_epochs_adam_results_run_2_noise/weights_*.pth\n"
     ]
    },
    {
     "data": {
      "application/vnd.jupyter.widget-view+json": {
       "model_id": "48a4dc5bc8e84834b29c53acdfac5ca8",
       "version_major": 2,
       "version_minor": 0
      },
      "text/plain": [
       "Epoch [305/500]:   0%|          | 0/500 [00:00<?, ?it/s]"
      ]
     },
     "metadata": {},
     "output_type": "display_data"
    },
    {
     "name": "stdout",
     "output_type": "stream",
     "text": [
      "Epoch 305/500 — Recon: 0.0997, Disc_Cat: 1.3679, Gen_Cat: 1.2628, Disc_Style: 1.3864, Gen_Style: 0.6932, SemiSup: 0.0131\n",
      "Validation Accuracy: 98.89%\n",
      "\n",
      "Weights saved to semisupervised_results/500_epochs_adam_results_run_2_noise/weights_*.pth\n"
     ]
    },
    {
     "data": {
      "application/vnd.jupyter.widget-view+json": {
       "model_id": "95bf96c1a3ce4bc08db030fa536ffe2d",
       "version_major": 2,
       "version_minor": 0
      },
      "text/plain": [
       "Epoch [306/500]:   0%|          | 0/500 [00:00<?, ?it/s]"
      ]
     },
     "metadata": {},
     "output_type": "display_data"
    },
    {
     "name": "stdout",
     "output_type": "stream",
     "text": [
      "Epoch 306/500 — Recon: 0.0996, Disc_Cat: 1.3693, Gen_Cat: 1.2293, Disc_Style: 1.3863, Gen_Style: 0.6932, SemiSup: 0.0120\n",
      "Validation Accuracy: 98.87%\n",
      "\n",
      "Weights saved to semisupervised_results/500_epochs_adam_results_run_2_noise/weights_*.pth\n"
     ]
    },
    {
     "data": {
      "application/vnd.jupyter.widget-view+json": {
       "model_id": "b74359ad86b84875856a68c1a2b1ee2f",
       "version_major": 2,
       "version_minor": 0
      },
      "text/plain": [
       "Epoch [307/500]:   0%|          | 0/500 [00:00<?, ?it/s]"
      ]
     },
     "metadata": {},
     "output_type": "display_data"
    },
    {
     "name": "stdout",
     "output_type": "stream",
     "text": [
      "Epoch 307/500 — Recon: 0.0996, Disc_Cat: 1.3686, Gen_Cat: 1.2389, Disc_Style: 1.3863, Gen_Style: 0.6932, SemiSup: 0.0116\n",
      "Validation Accuracy: 98.89%\n",
      "\n",
      "Weights saved to semisupervised_results/500_epochs_adam_results_run_2_noise/weights_*.pth\n"
     ]
    },
    {
     "data": {
      "application/vnd.jupyter.widget-view+json": {
       "model_id": "2ca86cefa0774693bcc2f686686542ab",
       "version_major": 2,
       "version_minor": 0
      },
      "text/plain": [
       "Epoch [308/500]:   0%|          | 0/500 [00:00<?, ?it/s]"
      ]
     },
     "metadata": {},
     "output_type": "display_data"
    },
    {
     "name": "stdout",
     "output_type": "stream",
     "text": [
      "Epoch 308/500 — Recon: 0.0996, Disc_Cat: 1.3698, Gen_Cat: 1.2277, Disc_Style: 1.3863, Gen_Style: 0.6932, SemiSup: 0.0099\n",
      "Validation Accuracy: 98.94%\n",
      "\n",
      "Weights saved to semisupervised_results/500_epochs_adam_results_run_2_noise/weights_*.pth\n"
     ]
    },
    {
     "data": {
      "application/vnd.jupyter.widget-view+json": {
       "model_id": "21d8680dc7944acd87a1d359206b37c7",
       "version_major": 2,
       "version_minor": 0
      },
      "text/plain": [
       "Epoch [309/500]:   0%|          | 0/500 [00:00<?, ?it/s]"
      ]
     },
     "metadata": {},
     "output_type": "display_data"
    },
    {
     "name": "stdout",
     "output_type": "stream",
     "text": [
      "Epoch 309/500 — Recon: 0.0996, Disc_Cat: 1.3699, Gen_Cat: 1.1926, Disc_Style: 1.3863, Gen_Style: 0.6931, SemiSup: 0.0096\n",
      "Validation Accuracy: 98.97%\n",
      "\n",
      "Weights saved to semisupervised_results/500_epochs_adam_results_run_2_noise/weights_*.pth\n"
     ]
    },
    {
     "data": {
      "application/vnd.jupyter.widget-view+json": {
       "model_id": "d71da0c3d57f41e4b6bc57eb179841c8",
       "version_major": 2,
       "version_minor": 0
      },
      "text/plain": [
       "Epoch [310/500]:   0%|          | 0/500 [00:00<?, ?it/s]"
      ]
     },
     "metadata": {},
     "output_type": "display_data"
    },
    {
     "name": "stdout",
     "output_type": "stream",
     "text": [
      "Epoch 310/500 — Recon: 0.0995, Disc_Cat: 1.3694, Gen_Cat: 1.2133, Disc_Style: 1.3863, Gen_Style: 0.6932, SemiSup: 0.0097\n",
      "Validation Accuracy: 98.94%\n",
      "\n",
      "Weights saved to semisupervised_results/500_epochs_adam_results_run_2_noise/weights_*.pth\n"
     ]
    },
    {
     "data": {
      "application/vnd.jupyter.widget-view+json": {
       "model_id": "12c81df05dd64c858e468fb9c19ebaf9",
       "version_major": 2,
       "version_minor": 0
      },
      "text/plain": [
       "Epoch [311/500]:   0%|          | 0/500 [00:00<?, ?it/s]"
      ]
     },
     "metadata": {},
     "output_type": "display_data"
    },
    {
     "name": "stdout",
     "output_type": "stream",
     "text": [
      "Epoch 311/500 — Recon: 0.0996, Disc_Cat: 1.3685, Gen_Cat: 1.2255, Disc_Style: 1.3863, Gen_Style: 0.6932, SemiSup: 0.0106\n",
      "Validation Accuracy: 98.87%\n",
      "\n",
      "Weights saved to semisupervised_results/500_epochs_adam_results_run_2_noise/weights_*.pth\n"
     ]
    },
    {
     "data": {
      "application/vnd.jupyter.widget-view+json": {
       "model_id": "c5473c6f5aac4ac08d91fbc1fe035dd5",
       "version_major": 2,
       "version_minor": 0
      },
      "text/plain": [
       "Epoch [312/500]:   0%|          | 0/500 [00:00<?, ?it/s]"
      ]
     },
     "metadata": {},
     "output_type": "display_data"
    },
    {
     "name": "stdout",
     "output_type": "stream",
     "text": [
      "Epoch 312/500 — Recon: 0.0994, Disc_Cat: 1.3693, Gen_Cat: 1.2134, Disc_Style: 1.3863, Gen_Style: 0.6932, SemiSup: 0.0098\n",
      "Validation Accuracy: 98.93%\n",
      "\n",
      "Weights saved to semisupervised_results/500_epochs_adam_results_run_2_noise/weights_*.pth\n"
     ]
    },
    {
     "data": {
      "application/vnd.jupyter.widget-view+json": {
       "model_id": "71c2f0176ed243939a04427e2fc7545a",
       "version_major": 2,
       "version_minor": 0
      },
      "text/plain": [
       "Epoch [313/500]:   0%|          | 0/500 [00:00<?, ?it/s]"
      ]
     },
     "metadata": {},
     "output_type": "display_data"
    },
    {
     "name": "stdout",
     "output_type": "stream",
     "text": [
      "Epoch 313/500 — Recon: 0.0995, Disc_Cat: 1.3685, Gen_Cat: 1.2259, Disc_Style: 1.3863, Gen_Style: 0.6931, SemiSup: 0.0118\n",
      "Validation Accuracy: 98.84%\n",
      "\n",
      "Weights saved to semisupervised_results/500_epochs_adam_results_run_2_noise/weights_*.pth\n"
     ]
    },
    {
     "data": {
      "application/vnd.jupyter.widget-view+json": {
       "model_id": "e775de1ef8a24dffbb4f66f7b37f4e57",
       "version_major": 2,
       "version_minor": 0
      },
      "text/plain": [
       "Epoch [314/500]:   0%|          | 0/500 [00:00<?, ?it/s]"
      ]
     },
     "metadata": {},
     "output_type": "display_data"
    },
    {
     "name": "stdout",
     "output_type": "stream",
     "text": [
      "Epoch 314/500 — Recon: 0.0996, Disc_Cat: 1.3686, Gen_Cat: 1.2103, Disc_Style: 1.3863, Gen_Style: 0.6932, SemiSup: 0.0108\n",
      "Validation Accuracy: 98.87%\n",
      "\n",
      "Weights saved to semisupervised_results/500_epochs_adam_results_run_2_noise/weights_*.pth\n"
     ]
    },
    {
     "data": {
      "application/vnd.jupyter.widget-view+json": {
       "model_id": "691da0813c814c2b9adf8183840baf98",
       "version_major": 2,
       "version_minor": 0
      },
      "text/plain": [
       "Epoch [315/500]:   0%|          | 0/500 [00:00<?, ?it/s]"
      ]
     },
     "metadata": {},
     "output_type": "display_data"
    },
    {
     "name": "stdout",
     "output_type": "stream",
     "text": [
      "Epoch 315/500 — Recon: 0.0995, Disc_Cat: 1.3697, Gen_Cat: 1.2003, Disc_Style: 1.3863, Gen_Style: 0.6932, SemiSup: 0.0084\n",
      "Validation Accuracy: 98.82%\n",
      "\n",
      "Weights saved to semisupervised_results/500_epochs_adam_results_run_2_noise/weights_*.pth\n"
     ]
    },
    {
     "data": {
      "application/vnd.jupyter.widget-view+json": {
       "model_id": "53b52319a9b64993802bad713b6df173",
       "version_major": 2,
       "version_minor": 0
      },
      "text/plain": [
       "Epoch [316/500]:   0%|          | 0/500 [00:00<?, ?it/s]"
      ]
     },
     "metadata": {},
     "output_type": "display_data"
    },
    {
     "name": "stdout",
     "output_type": "stream",
     "text": [
      "Epoch 316/500 — Recon: 0.0996, Disc_Cat: 1.3698, Gen_Cat: 1.2214, Disc_Style: 1.3863, Gen_Style: 0.6932, SemiSup: 0.0123\n",
      "Validation Accuracy: 99.00%\n",
      "\n",
      "Weights saved to semisupervised_results/500_epochs_adam_results_run_2_noise/weights_*.pth\n"
     ]
    },
    {
     "data": {
      "application/vnd.jupyter.widget-view+json": {
       "model_id": "865b8d2438e24a47883b0317949e6c6c",
       "version_major": 2,
       "version_minor": 0
      },
      "text/plain": [
       "Epoch [317/500]:   0%|          | 0/500 [00:00<?, ?it/s]"
      ]
     },
     "metadata": {},
     "output_type": "display_data"
    },
    {
     "name": "stdout",
     "output_type": "stream",
     "text": [
      "Epoch 317/500 — Recon: 0.0995, Disc_Cat: 1.3689, Gen_Cat: 1.2033, Disc_Style: 1.3863, Gen_Style: 0.6931, SemiSup: 0.0086\n",
      "Validation Accuracy: 98.98%\n",
      "\n",
      "Weights saved to semisupervised_results/500_epochs_adam_results_run_2_noise/weights_*.pth\n"
     ]
    },
    {
     "data": {
      "application/vnd.jupyter.widget-view+json": {
       "model_id": "45c24b55b63643cd8ccbebc320d8460e",
       "version_major": 2,
       "version_minor": 0
      },
      "text/plain": [
       "Epoch [318/500]:   0%|          | 0/500 [00:00<?, ?it/s]"
      ]
     },
     "metadata": {},
     "output_type": "display_data"
    },
    {
     "name": "stdout",
     "output_type": "stream",
     "text": [
      "Epoch 318/500 — Recon: 0.0996, Disc_Cat: 1.3692, Gen_Cat: 1.1931, Disc_Style: 1.3864, Gen_Style: 0.6932, SemiSup: 0.0098\n",
      "Validation Accuracy: 98.93%\n",
      "\n",
      "Weights saved to semisupervised_results/500_epochs_adam_results_run_2_noise/weights_*.pth\n"
     ]
    },
    {
     "data": {
      "application/vnd.jupyter.widget-view+json": {
       "model_id": "e1a765eb225848b18c4c7a7005e14b53",
       "version_major": 2,
       "version_minor": 0
      },
      "text/plain": [
       "Epoch [319/500]:   0%|          | 0/500 [00:00<?, ?it/s]"
      ]
     },
     "metadata": {},
     "output_type": "display_data"
    },
    {
     "name": "stdout",
     "output_type": "stream",
     "text": [
      "Epoch 319/500 — Recon: 0.0995, Disc_Cat: 1.3693, Gen_Cat: 1.1928, Disc_Style: 1.3863, Gen_Style: 0.6931, SemiSup: 0.0100\n",
      "Validation Accuracy: 98.87%\n",
      "\n",
      "Weights saved to semisupervised_results/500_epochs_adam_results_run_2_noise/weights_*.pth\n"
     ]
    },
    {
     "data": {
      "application/vnd.jupyter.widget-view+json": {
       "model_id": "3ceeb8a912894d2d8ef0959c5e37648f",
       "version_major": 2,
       "version_minor": 0
      },
      "text/plain": [
       "Epoch [320/500]:   0%|          | 0/500 [00:00<?, ?it/s]"
      ]
     },
     "metadata": {},
     "output_type": "display_data"
    },
    {
     "name": "stdout",
     "output_type": "stream",
     "text": [
      "Epoch 320/500 — Recon: 0.0996, Disc_Cat: 1.3694, Gen_Cat: 1.2039, Disc_Style: 1.3863, Gen_Style: 0.6931, SemiSup: 0.0116\n",
      "Validation Accuracy: 98.94%\n",
      "\n",
      "Weights saved to semisupervised_results/500_epochs_adam_results_run_2_noise/weights_*.pth\n"
     ]
    },
    {
     "data": {
      "application/vnd.jupyter.widget-view+json": {
       "model_id": "f9bbd75d7e564bb5b8ca685c6f2b8dc2",
       "version_major": 2,
       "version_minor": 0
      },
      "text/plain": [
       "Epoch [321/500]:   0%|          | 0/500 [00:00<?, ?it/s]"
      ]
     },
     "metadata": {},
     "output_type": "display_data"
    },
    {
     "name": "stdout",
     "output_type": "stream",
     "text": [
      "Epoch 321/500 — Recon: 0.0996, Disc_Cat: 1.3682, Gen_Cat: 1.2217, Disc_Style: 1.3863, Gen_Style: 0.6932, SemiSup: 0.0105\n",
      "Validation Accuracy: 98.90%\n",
      "\n",
      "Weights saved to semisupervised_results/500_epochs_adam_results_run_2_noise/weights_*.pth\n"
     ]
    },
    {
     "data": {
      "application/vnd.jupyter.widget-view+json": {
       "model_id": "c2f474a76d894eee886f75d95d2d7b21",
       "version_major": 2,
       "version_minor": 0
      },
      "text/plain": [
       "Epoch [322/500]:   0%|          | 0/500 [00:00<?, ?it/s]"
      ]
     },
     "metadata": {},
     "output_type": "display_data"
    },
    {
     "name": "stdout",
     "output_type": "stream",
     "text": [
      "Epoch 322/500 — Recon: 0.0995, Disc_Cat: 1.3692, Gen_Cat: 1.2296, Disc_Style: 1.3863, Gen_Style: 0.6931, SemiSup: 0.0107\n",
      "Validation Accuracy: 98.95%\n",
      "\n",
      "Weights saved to semisupervised_results/500_epochs_adam_results_run_2_noise/weights_*.pth\n"
     ]
    },
    {
     "data": {
      "application/vnd.jupyter.widget-view+json": {
       "model_id": "d3d00bc3b6e84be78a9fc817abcccd90",
       "version_major": 2,
       "version_minor": 0
      },
      "text/plain": [
       "Epoch [323/500]:   0%|          | 0/500 [00:00<?, ?it/s]"
      ]
     },
     "metadata": {},
     "output_type": "display_data"
    },
    {
     "name": "stdout",
     "output_type": "stream",
     "text": [
      "Epoch 323/500 — Recon: 0.0995, Disc_Cat: 1.3689, Gen_Cat: 1.2101, Disc_Style: 1.3863, Gen_Style: 0.6933, SemiSup: 0.0104\n",
      "Validation Accuracy: 98.85%\n",
      "\n",
      "Weights saved to semisupervised_results/500_epochs_adam_results_run_2_noise/weights_*.pth\n"
     ]
    },
    {
     "data": {
      "application/vnd.jupyter.widget-view+json": {
       "model_id": "a6671d870cef49d69f23833f74621cd8",
       "version_major": 2,
       "version_minor": 0
      },
      "text/plain": [
       "Epoch [324/500]:   0%|          | 0/500 [00:00<?, ?it/s]"
      ]
     },
     "metadata": {},
     "output_type": "display_data"
    },
    {
     "name": "stdout",
     "output_type": "stream",
     "text": [
      "Epoch 324/500 — Recon: 0.0995, Disc_Cat: 1.3692, Gen_Cat: 1.2060, Disc_Style: 1.3863, Gen_Style: 0.6931, SemiSup: 0.0126\n",
      "Validation Accuracy: 98.87%\n",
      "\n",
      "Weights saved to semisupervised_results/500_epochs_adam_results_run_2_noise/weights_*.pth\n"
     ]
    },
    {
     "data": {
      "application/vnd.jupyter.widget-view+json": {
       "model_id": "194a5a967ac64c40bdeedfdf611edd6c",
       "version_major": 2,
       "version_minor": 0
      },
      "text/plain": [
       "Epoch [325/500]:   0%|          | 0/500 [00:00<?, ?it/s]"
      ]
     },
     "metadata": {},
     "output_type": "display_data"
    },
    {
     "name": "stdout",
     "output_type": "stream",
     "text": [
      "Epoch 325/500 — Recon: 0.0995, Disc_Cat: 1.3689, Gen_Cat: 1.2148, Disc_Style: 1.3864, Gen_Style: 0.6932, SemiSup: 0.0109\n",
      "Validation Accuracy: 98.90%\n",
      "\n",
      "Weights saved to semisupervised_results/500_epochs_adam_results_run_2_noise/weights_*.pth\n"
     ]
    },
    {
     "data": {
      "application/vnd.jupyter.widget-view+json": {
       "model_id": "04d9ce96ab08458a89eb975ed3326d36",
       "version_major": 2,
       "version_minor": 0
      },
      "text/plain": [
       "Epoch [326/500]:   0%|          | 0/500 [00:00<?, ?it/s]"
      ]
     },
     "metadata": {},
     "output_type": "display_data"
    },
    {
     "name": "stdout",
     "output_type": "stream",
     "text": [
      "Epoch 326/500 — Recon: 0.0994, Disc_Cat: 1.3695, Gen_Cat: 1.2050, Disc_Style: 1.3863, Gen_Style: 0.6931, SemiSup: 0.0109\n",
      "Validation Accuracy: 99.02%\n",
      "\n",
      "Weights saved to semisupervised_results/500_epochs_adam_results_run_2_noise/weights_*.pth\n"
     ]
    },
    {
     "data": {
      "application/vnd.jupyter.widget-view+json": {
       "model_id": "b920374d195445fdbf085a950cb7d7a6",
       "version_major": 2,
       "version_minor": 0
      },
      "text/plain": [
       "Epoch [327/500]:   0%|          | 0/500 [00:00<?, ?it/s]"
      ]
     },
     "metadata": {},
     "output_type": "display_data"
    },
    {
     "name": "stdout",
     "output_type": "stream",
     "text": [
      "Epoch 327/500 — Recon: 0.0995, Disc_Cat: 1.3698, Gen_Cat: 1.1787, Disc_Style: 1.3863, Gen_Style: 0.6932, SemiSup: 0.0103\n",
      "Validation Accuracy: 98.90%\n",
      "\n",
      "Weights saved to semisupervised_results/500_epochs_adam_results_run_2_noise/weights_*.pth\n"
     ]
    },
    {
     "data": {
      "application/vnd.jupyter.widget-view+json": {
       "model_id": "a63dc4d7b52b4c10acd3ec337bcac130",
       "version_major": 2,
       "version_minor": 0
      },
      "text/plain": [
       "Epoch [328/500]:   0%|          | 0/500 [00:00<?, ?it/s]"
      ]
     },
     "metadata": {},
     "output_type": "display_data"
    },
    {
     "name": "stdout",
     "output_type": "stream",
     "text": [
      "Epoch 328/500 — Recon: 0.0996, Disc_Cat: 1.3697, Gen_Cat: 1.1990, Disc_Style: 1.3863, Gen_Style: 0.6932, SemiSup: 0.0082\n",
      "Validation Accuracy: 98.91%\n",
      "\n",
      "Weights saved to semisupervised_results/500_epochs_adam_results_run_2_noise/weights_*.pth\n"
     ]
    },
    {
     "data": {
      "application/vnd.jupyter.widget-view+json": {
       "model_id": "a4fddde4d291460690dda0dbe3accb89",
       "version_major": 2,
       "version_minor": 0
      },
      "text/plain": [
       "Epoch [329/500]:   0%|          | 0/500 [00:00<?, ?it/s]"
      ]
     },
     "metadata": {},
     "output_type": "display_data"
    },
    {
     "name": "stdout",
     "output_type": "stream",
     "text": [
      "Epoch 329/500 — Recon: 0.0997, Disc_Cat: 1.3696, Gen_Cat: 1.2073, Disc_Style: 1.3864, Gen_Style: 0.6932, SemiSup: 0.0091\n",
      "Validation Accuracy: 98.92%\n",
      "\n",
      "Weights saved to semisupervised_results/500_epochs_adam_results_run_2_noise/weights_*.pth\n"
     ]
    },
    {
     "data": {
      "application/vnd.jupyter.widget-view+json": {
       "model_id": "fb57261335f34ab099ad192a60b426e2",
       "version_major": 2,
       "version_minor": 0
      },
      "text/plain": [
       "Epoch [330/500]:   0%|          | 0/500 [00:00<?, ?it/s]"
      ]
     },
     "metadata": {},
     "output_type": "display_data"
    },
    {
     "name": "stdout",
     "output_type": "stream",
     "text": [
      "Epoch 330/500 — Recon: 0.0993, Disc_Cat: 1.3693, Gen_Cat: 1.2054, Disc_Style: 1.3863, Gen_Style: 0.6931, SemiSup: 0.0109\n",
      "Validation Accuracy: 98.85%\n",
      "\n",
      "Weights saved to semisupervised_results/500_epochs_adam_results_run_2_noise/weights_*.pth\n"
     ]
    },
    {
     "data": {
      "application/vnd.jupyter.widget-view+json": {
       "model_id": "1dde225c2d494d03ace72437ae77b008",
       "version_major": 2,
       "version_minor": 0
      },
      "text/plain": [
       "Epoch [331/500]:   0%|          | 0/500 [00:00<?, ?it/s]"
      ]
     },
     "metadata": {},
     "output_type": "display_data"
    },
    {
     "name": "stdout",
     "output_type": "stream",
     "text": [
      "Epoch 331/500 — Recon: 0.0993, Disc_Cat: 1.3686, Gen_Cat: 1.2070, Disc_Style: 1.3863, Gen_Style: 0.6931, SemiSup: 0.0106\n",
      "Validation Accuracy: 98.96%\n",
      "\n",
      "Weights saved to semisupervised_results/500_epochs_adam_results_run_2_noise/weights_*.pth\n"
     ]
    },
    {
     "data": {
      "application/vnd.jupyter.widget-view+json": {
       "model_id": "7125afb330634b36b770b82ceb3324b2",
       "version_major": 2,
       "version_minor": 0
      },
      "text/plain": [
       "Epoch [332/500]:   0%|          | 0/500 [00:00<?, ?it/s]"
      ]
     },
     "metadata": {},
     "output_type": "display_data"
    },
    {
     "name": "stdout",
     "output_type": "stream",
     "text": [
      "Epoch 332/500 — Recon: 0.0995, Disc_Cat: 1.3685, Gen_Cat: 1.2232, Disc_Style: 1.3863, Gen_Style: 0.6931, SemiSup: 0.0111\n",
      "Validation Accuracy: 99.01%\n",
      "\n",
      "Weights saved to semisupervised_results/500_epochs_adam_results_run_2_noise/weights_*.pth\n"
     ]
    },
    {
     "data": {
      "application/vnd.jupyter.widget-view+json": {
       "model_id": "81fb006fb0654b1a93fa1a71563d6424",
       "version_major": 2,
       "version_minor": 0
      },
      "text/plain": [
       "Epoch [333/500]:   0%|          | 0/500 [00:00<?, ?it/s]"
      ]
     },
     "metadata": {},
     "output_type": "display_data"
    },
    {
     "name": "stdout",
     "output_type": "stream",
     "text": [
      "Epoch 333/500 — Recon: 0.0996, Disc_Cat: 1.3699, Gen_Cat: 1.2145, Disc_Style: 1.3863, Gen_Style: 0.6932, SemiSup: 0.0110\n",
      "Validation Accuracy: 99.02%\n",
      "\n",
      "Weights saved to semisupervised_results/500_epochs_adam_results_run_2_noise/weights_*.pth\n"
     ]
    },
    {
     "data": {
      "application/vnd.jupyter.widget-view+json": {
       "model_id": "d7a58cb8095f42e3bddcfdbb13b6e07e",
       "version_major": 2,
       "version_minor": 0
      },
      "text/plain": [
       "Epoch [334/500]:   0%|          | 0/500 [00:00<?, ?it/s]"
      ]
     },
     "metadata": {},
     "output_type": "display_data"
    },
    {
     "name": "stdout",
     "output_type": "stream",
     "text": [
      "Epoch 334/500 — Recon: 0.0994, Disc_Cat: 1.3695, Gen_Cat: 1.1960, Disc_Style: 1.3863, Gen_Style: 0.6932, SemiSup: 0.0088\n",
      "Validation Accuracy: 98.91%\n",
      "\n",
      "Weights saved to semisupervised_results/500_epochs_adam_results_run_2_noise/weights_*.pth\n"
     ]
    },
    {
     "data": {
      "application/vnd.jupyter.widget-view+json": {
       "model_id": "9f37be82ee1e444db111bddbd03614e0",
       "version_major": 2,
       "version_minor": 0
      },
      "text/plain": [
       "Epoch [335/500]:   0%|          | 0/500 [00:00<?, ?it/s]"
      ]
     },
     "metadata": {},
     "output_type": "display_data"
    },
    {
     "name": "stdout",
     "output_type": "stream",
     "text": [
      "Epoch 335/500 — Recon: 0.0993, Disc_Cat: 1.3688, Gen_Cat: 1.1988, Disc_Style: 1.3863, Gen_Style: 0.6931, SemiSup: 0.0103\n",
      "Validation Accuracy: 99.02%\n",
      "\n",
      "Weights saved to semisupervised_results/500_epochs_adam_results_run_2_noise/weights_*.pth\n"
     ]
    },
    {
     "data": {
      "application/vnd.jupyter.widget-view+json": {
       "model_id": "e4d0b76bf6a2415a90dc87beeae25d7a",
       "version_major": 2,
       "version_minor": 0
      },
      "text/plain": [
       "Epoch [336/500]:   0%|          | 0/500 [00:00<?, ?it/s]"
      ]
     },
     "metadata": {},
     "output_type": "display_data"
    },
    {
     "name": "stdout",
     "output_type": "stream",
     "text": [
      "Epoch 336/500 — Recon: 0.0996, Disc_Cat: 1.3699, Gen_Cat: 1.1875, Disc_Style: 1.3863, Gen_Style: 0.6932, SemiSup: 0.0102\n",
      "Validation Accuracy: 98.99%\n",
      "\n",
      "Weights saved to semisupervised_results/500_epochs_adam_results_run_2_noise/weights_*.pth\n"
     ]
    },
    {
     "data": {
      "application/vnd.jupyter.widget-view+json": {
       "model_id": "5cfc54bb32254474b281023ca2d5f332",
       "version_major": 2,
       "version_minor": 0
      },
      "text/plain": [
       "Epoch [337/500]:   0%|          | 0/500 [00:00<?, ?it/s]"
      ]
     },
     "metadata": {},
     "output_type": "display_data"
    },
    {
     "name": "stdout",
     "output_type": "stream",
     "text": [
      "Epoch 337/500 — Recon: 0.0993, Disc_Cat: 1.3695, Gen_Cat: 1.2032, Disc_Style: 1.3863, Gen_Style: 0.6931, SemiSup: 0.0110\n",
      "Validation Accuracy: 98.97%\n",
      "\n",
      "Weights saved to semisupervised_results/500_epochs_adam_results_run_2_noise/weights_*.pth\n"
     ]
    },
    {
     "data": {
      "application/vnd.jupyter.widget-view+json": {
       "model_id": "d5ca39515f004f8992edb558562c7e0c",
       "version_major": 2,
       "version_minor": 0
      },
      "text/plain": [
       "Epoch [338/500]:   0%|          | 0/500 [00:00<?, ?it/s]"
      ]
     },
     "metadata": {},
     "output_type": "display_data"
    },
    {
     "name": "stdout",
     "output_type": "stream",
     "text": [
      "Epoch 338/500 — Recon: 0.0995, Disc_Cat: 1.3701, Gen_Cat: 1.1787, Disc_Style: 1.3863, Gen_Style: 0.6932, SemiSup: 0.0093\n",
      "Validation Accuracy: 98.94%\n",
      "\n",
      "Weights saved to semisupervised_results/500_epochs_adam_results_run_2_noise/weights_*.pth\n"
     ]
    },
    {
     "data": {
      "application/vnd.jupyter.widget-view+json": {
       "model_id": "5ff9d6959363492684643c50a0765c35",
       "version_major": 2,
       "version_minor": 0
      },
      "text/plain": [
       "Epoch [339/500]:   0%|          | 0/500 [00:00<?, ?it/s]"
      ]
     },
     "metadata": {},
     "output_type": "display_data"
    },
    {
     "name": "stdout",
     "output_type": "stream",
     "text": [
      "Epoch 339/500 — Recon: 0.0994, Disc_Cat: 1.3704, Gen_Cat: 1.1704, Disc_Style: 1.3863, Gen_Style: 0.6931, SemiSup: 0.0102\n",
      "Validation Accuracy: 98.88%\n",
      "\n",
      "Weights saved to semisupervised_results/500_epochs_adam_results_run_2_noise/weights_*.pth\n"
     ]
    },
    {
     "data": {
      "application/vnd.jupyter.widget-view+json": {
       "model_id": "622eba4b0ad34c3fada83a3c9a8d12c5",
       "version_major": 2,
       "version_minor": 0
      },
      "text/plain": [
       "Epoch [340/500]:   0%|          | 0/500 [00:00<?, ?it/s]"
      ]
     },
     "metadata": {},
     "output_type": "display_data"
    },
    {
     "name": "stdout",
     "output_type": "stream",
     "text": [
      "Epoch 340/500 — Recon: 0.0995, Disc_Cat: 1.3696, Gen_Cat: 1.2017, Disc_Style: 1.3863, Gen_Style: 0.6932, SemiSup: 0.0094\n",
      "Validation Accuracy: 98.91%\n",
      "\n",
      "Weights saved to semisupervised_results/500_epochs_adam_results_run_2_noise/weights_*.pth\n"
     ]
    },
    {
     "data": {
      "application/vnd.jupyter.widget-view+json": {
       "model_id": "1a53f75fba014f429bf09f632d3401a2",
       "version_major": 2,
       "version_minor": 0
      },
      "text/plain": [
       "Epoch [341/500]:   0%|          | 0/500 [00:00<?, ?it/s]"
      ]
     },
     "metadata": {},
     "output_type": "display_data"
    },
    {
     "name": "stdout",
     "output_type": "stream",
     "text": [
      "Epoch 341/500 — Recon: 0.0994, Disc_Cat: 1.3706, Gen_Cat: 1.1776, Disc_Style: 1.3863, Gen_Style: 0.6931, SemiSup: 0.0106\n",
      "Validation Accuracy: 98.99%\n",
      "\n",
      "Weights saved to semisupervised_results/500_epochs_adam_results_run_2_noise/weights_*.pth\n"
     ]
    },
    {
     "data": {
      "application/vnd.jupyter.widget-view+json": {
       "model_id": "197a255725864af2b72cec4ff80f5db7",
       "version_major": 2,
       "version_minor": 0
      },
      "text/plain": [
       "Epoch [342/500]:   0%|          | 0/500 [00:00<?, ?it/s]"
      ]
     },
     "metadata": {},
     "output_type": "display_data"
    },
    {
     "name": "stdout",
     "output_type": "stream",
     "text": [
      "Epoch 342/500 — Recon: 0.0996, Disc_Cat: 1.3699, Gen_Cat: 1.1712, Disc_Style: 1.3863, Gen_Style: 0.6932, SemiSup: 0.0100\n",
      "Validation Accuracy: 98.86%\n",
      "\n",
      "Weights saved to semisupervised_results/500_epochs_adam_results_run_2_noise/weights_*.pth\n"
     ]
    },
    {
     "data": {
      "application/vnd.jupyter.widget-view+json": {
       "model_id": "3a5d130072264be995621adabe0ac561",
       "version_major": 2,
       "version_minor": 0
      },
      "text/plain": [
       "Epoch [343/500]:   0%|          | 0/500 [00:00<?, ?it/s]"
      ]
     },
     "metadata": {},
     "output_type": "display_data"
    },
    {
     "name": "stdout",
     "output_type": "stream",
     "text": [
      "Epoch 343/500 — Recon: 0.0994, Disc_Cat: 1.3697, Gen_Cat: 1.1880, Disc_Style: 1.3863, Gen_Style: 0.6931, SemiSup: 0.0100\n",
      "Validation Accuracy: 98.87%\n",
      "\n",
      "Weights saved to semisupervised_results/500_epochs_adam_results_run_2_noise/weights_*.pth\n"
     ]
    },
    {
     "data": {
      "application/vnd.jupyter.widget-view+json": {
       "model_id": "4f59c009399448e98d396fc867971a6a",
       "version_major": 2,
       "version_minor": 0
      },
      "text/plain": [
       "Epoch [344/500]:   0%|          | 0/500 [00:00<?, ?it/s]"
      ]
     },
     "metadata": {},
     "output_type": "display_data"
    },
    {
     "name": "stdout",
     "output_type": "stream",
     "text": [
      "Epoch 344/500 — Recon: 0.0994, Disc_Cat: 1.3690, Gen_Cat: 1.2068, Disc_Style: 1.3863, Gen_Style: 0.6932, SemiSup: 0.0084\n",
      "Validation Accuracy: 99.00%\n",
      "\n",
      "Weights saved to semisupervised_results/500_epochs_adam_results_run_2_noise/weights_*.pth\n"
     ]
    },
    {
     "data": {
      "application/vnd.jupyter.widget-view+json": {
       "model_id": "bc8f8ac3405144aa85471b7f4411f7c8",
       "version_major": 2,
       "version_minor": 0
      },
      "text/plain": [
       "Epoch [345/500]:   0%|          | 0/500 [00:00<?, ?it/s]"
      ]
     },
     "metadata": {},
     "output_type": "display_data"
    },
    {
     "name": "stdout",
     "output_type": "stream",
     "text": [
      "Epoch 345/500 — Recon: 0.0995, Disc_Cat: 1.3704, Gen_Cat: 1.1897, Disc_Style: 1.3863, Gen_Style: 0.6932, SemiSup: 0.0110\n",
      "Validation Accuracy: 98.77%\n",
      "\n",
      "Weights saved to semisupervised_results/500_epochs_adam_results_run_2_noise/weights_*.pth\n"
     ]
    },
    {
     "data": {
      "application/vnd.jupyter.widget-view+json": {
       "model_id": "c52e0a328a58421eac942c9b4f9a29f1",
       "version_major": 2,
       "version_minor": 0
      },
      "text/plain": [
       "Epoch [346/500]:   0%|          | 0/500 [00:00<?, ?it/s]"
      ]
     },
     "metadata": {},
     "output_type": "display_data"
    },
    {
     "name": "stdout",
     "output_type": "stream",
     "text": [
      "Epoch 346/500 — Recon: 0.0994, Disc_Cat: 1.3702, Gen_Cat: 1.1753, Disc_Style: 1.3863, Gen_Style: 0.6932, SemiSup: 0.0088\n",
      "Validation Accuracy: 98.93%\n",
      "\n",
      "Weights saved to semisupervised_results/500_epochs_adam_results_run_2_noise/weights_*.pth\n"
     ]
    },
    {
     "data": {
      "application/vnd.jupyter.widget-view+json": {
       "model_id": "b6b1c70a577d46b2888fb9a41bcd8e4e",
       "version_major": 2,
       "version_minor": 0
      },
      "text/plain": [
       "Epoch [347/500]:   0%|          | 0/500 [00:00<?, ?it/s]"
      ]
     },
     "metadata": {},
     "output_type": "display_data"
    },
    {
     "name": "stdout",
     "output_type": "stream",
     "text": [
      "Epoch 347/500 — Recon: 0.0994, Disc_Cat: 1.3693, Gen_Cat: 1.1685, Disc_Style: 1.3863, Gen_Style: 0.6932, SemiSup: 0.0097\n",
      "Validation Accuracy: 98.89%\n",
      "\n",
      "Weights saved to semisupervised_results/500_epochs_adam_results_run_2_noise/weights_*.pth\n"
     ]
    },
    {
     "data": {
      "application/vnd.jupyter.widget-view+json": {
       "model_id": "e72482d1e1f44bb8a4a1030fec4e92ae",
       "version_major": 2,
       "version_minor": 0
      },
      "text/plain": [
       "Epoch [348/500]:   0%|          | 0/500 [00:00<?, ?it/s]"
      ]
     },
     "metadata": {},
     "output_type": "display_data"
    },
    {
     "name": "stdout",
     "output_type": "stream",
     "text": [
      "Epoch 348/500 — Recon: 0.0993, Disc_Cat: 1.3696, Gen_Cat: 1.1829, Disc_Style: 1.3863, Gen_Style: 0.6931, SemiSup: 0.0119\n",
      "Validation Accuracy: 98.96%\n",
      "\n",
      "Weights saved to semisupervised_results/500_epochs_adam_results_run_2_noise/weights_*.pth\n"
     ]
    },
    {
     "data": {
      "application/vnd.jupyter.widget-view+json": {
       "model_id": "b17df8182eb04c788ccd21d6324eca7c",
       "version_major": 2,
       "version_minor": 0
      },
      "text/plain": [
       "Epoch [349/500]:   0%|          | 0/500 [00:00<?, ?it/s]"
      ]
     },
     "metadata": {},
     "output_type": "display_data"
    },
    {
     "name": "stdout",
     "output_type": "stream",
     "text": [
      "Epoch 349/500 — Recon: 0.0994, Disc_Cat: 1.3695, Gen_Cat: 1.2069, Disc_Style: 1.3863, Gen_Style: 0.6932, SemiSup: 0.0097\n",
      "Validation Accuracy: 98.88%\n",
      "\n",
      "Weights saved to semisupervised_results/500_epochs_adam_results_run_2_noise/weights_*.pth\n"
     ]
    },
    {
     "data": {
      "application/vnd.jupyter.widget-view+json": {
       "model_id": "1472b9c5a7b54e718f5e0dc599cf2860",
       "version_major": 2,
       "version_minor": 0
      },
      "text/plain": [
       "Epoch [350/500]:   0%|          | 0/500 [00:00<?, ?it/s]"
      ]
     },
     "metadata": {},
     "output_type": "display_data"
    },
    {
     "name": "stdout",
     "output_type": "stream",
     "text": [
      "Epoch 350/500 — Recon: 0.0993, Disc_Cat: 1.3704, Gen_Cat: 1.1667, Disc_Style: 1.3863, Gen_Style: 0.6931, SemiSup: 0.0095\n",
      "Validation Accuracy: 98.96%\n",
      "\n",
      "Weights saved to semisupervised_results/500_epochs_adam_results_run_2_noise/weights_epoch_350_*.pth\n",
      "Weights saved to semisupervised_results/500_epochs_adam_results_run_2_noise/weights_*.pth\n"
     ]
    },
    {
     "data": {
      "application/vnd.jupyter.widget-view+json": {
       "model_id": "1a6ea6b32d6241e4933fddd1e1860c63",
       "version_major": 2,
       "version_minor": 0
      },
      "text/plain": [
       "Epoch [351/500]:   0%|          | 0/500 [00:00<?, ?it/s]"
      ]
     },
     "metadata": {},
     "output_type": "display_data"
    },
    {
     "name": "stdout",
     "output_type": "stream",
     "text": [
      "Epoch 351/500 — Recon: 0.0993, Disc_Cat: 1.3698, Gen_Cat: 1.1966, Disc_Style: 1.3863, Gen_Style: 0.6932, SemiSup: 0.0101\n",
      "Validation Accuracy: 98.95%\n",
      "\n",
      "Weights saved to semisupervised_results/500_epochs_adam_results_run_2_noise/weights_*.pth\n"
     ]
    },
    {
     "data": {
      "application/vnd.jupyter.widget-view+json": {
       "model_id": "26ee613f773047a7be78bb8a33c9b220",
       "version_major": 2,
       "version_minor": 0
      },
      "text/plain": [
       "Epoch [352/500]:   0%|          | 0/500 [00:00<?, ?it/s]"
      ]
     },
     "metadata": {},
     "output_type": "display_data"
    },
    {
     "name": "stdout",
     "output_type": "stream",
     "text": [
      "Epoch 352/500 — Recon: 0.0994, Disc_Cat: 1.3693, Gen_Cat: 1.1975, Disc_Style: 1.3863, Gen_Style: 0.6932, SemiSup: 0.0083\n",
      "Validation Accuracy: 98.93%\n",
      "\n",
      "Weights saved to semisupervised_results/500_epochs_adam_results_run_2_noise/weights_*.pth\n"
     ]
    },
    {
     "data": {
      "application/vnd.jupyter.widget-view+json": {
       "model_id": "c4731043c10b4d8d94f3275d8bda5390",
       "version_major": 2,
       "version_minor": 0
      },
      "text/plain": [
       "Epoch [353/500]:   0%|          | 0/500 [00:00<?, ?it/s]"
      ]
     },
     "metadata": {},
     "output_type": "display_data"
    },
    {
     "name": "stdout",
     "output_type": "stream",
     "text": [
      "Epoch 353/500 — Recon: 0.0995, Disc_Cat: 1.3704, Gen_Cat: 1.1751, Disc_Style: 1.3863, Gen_Style: 0.6932, SemiSup: 0.0073\n",
      "Validation Accuracy: 98.97%\n",
      "\n",
      "Weights saved to semisupervised_results/500_epochs_adam_results_run_2_noise/weights_*.pth\n"
     ]
    },
    {
     "data": {
      "application/vnd.jupyter.widget-view+json": {
       "model_id": "4af93bf2466b4c419945d96fbcc60309",
       "version_major": 2,
       "version_minor": 0
      },
      "text/plain": [
       "Epoch [354/500]:   0%|          | 0/500 [00:00<?, ?it/s]"
      ]
     },
     "metadata": {},
     "output_type": "display_data"
    },
    {
     "name": "stdout",
     "output_type": "stream",
     "text": [
      "Epoch 354/500 — Recon: 0.0993, Disc_Cat: 1.3700, Gen_Cat: 1.2087, Disc_Style: 1.3863, Gen_Style: 0.6931, SemiSup: 0.0110\n",
      "Validation Accuracy: 99.01%\n",
      "\n",
      "Weights saved to semisupervised_results/500_epochs_adam_results_run_2_noise/weights_*.pth\n"
     ]
    },
    {
     "data": {
      "application/vnd.jupyter.widget-view+json": {
       "model_id": "a65db74fa4b341339d337a2fe0600b0e",
       "version_major": 2,
       "version_minor": 0
      },
      "text/plain": [
       "Epoch [355/500]:   0%|          | 0/500 [00:00<?, ?it/s]"
      ]
     },
     "metadata": {},
     "output_type": "display_data"
    },
    {
     "name": "stdout",
     "output_type": "stream",
     "text": [
      "Epoch 355/500 — Recon: 0.0994, Disc_Cat: 1.3695, Gen_Cat: 1.1865, Disc_Style: 1.3863, Gen_Style: 0.6932, SemiSup: 0.0097\n",
      "Validation Accuracy: 98.97%\n",
      "\n",
      "Weights saved to semisupervised_results/500_epochs_adam_results_run_2_noise/weights_*.pth\n"
     ]
    },
    {
     "data": {
      "application/vnd.jupyter.widget-view+json": {
       "model_id": "9f7d0a451ae24023a82006df0e6f3ae6",
       "version_major": 2,
       "version_minor": 0
      },
      "text/plain": [
       "Epoch [356/500]:   0%|          | 0/500 [00:00<?, ?it/s]"
      ]
     },
     "metadata": {},
     "output_type": "display_data"
    },
    {
     "name": "stdout",
     "output_type": "stream",
     "text": [
      "Epoch 356/500 — Recon: 0.0994, Disc_Cat: 1.3707, Gen_Cat: 1.1646, Disc_Style: 1.3863, Gen_Style: 0.6932, SemiSup: 0.0095\n",
      "Validation Accuracy: 98.98%\n",
      "\n",
      "Weights saved to semisupervised_results/500_epochs_adam_results_run_2_noise/weights_*.pth\n"
     ]
    },
    {
     "data": {
      "application/vnd.jupyter.widget-view+json": {
       "model_id": "809b34d6aff74f158f40bbc416b14a7d",
       "version_major": 2,
       "version_minor": 0
      },
      "text/plain": [
       "Epoch [357/500]:   0%|          | 0/500 [00:00<?, ?it/s]"
      ]
     },
     "metadata": {},
     "output_type": "display_data"
    },
    {
     "name": "stdout",
     "output_type": "stream",
     "text": [
      "Epoch 357/500 — Recon: 0.0993, Disc_Cat: 1.3702, Gen_Cat: 1.1856, Disc_Style: 1.3863, Gen_Style: 0.6932, SemiSup: 0.0106\n",
      "Validation Accuracy: 98.91%\n",
      "\n",
      "Weights saved to semisupervised_results/500_epochs_adam_results_run_2_noise/weights_*.pth\n"
     ]
    },
    {
     "data": {
      "application/vnd.jupyter.widget-view+json": {
       "model_id": "0a8eb87cc80f464793cae6c7537fd27e",
       "version_major": 2,
       "version_minor": 0
      },
      "text/plain": [
       "Epoch [358/500]:   0%|          | 0/500 [00:00<?, ?it/s]"
      ]
     },
     "metadata": {},
     "output_type": "display_data"
    },
    {
     "name": "stdout",
     "output_type": "stream",
     "text": [
      "Epoch 358/500 — Recon: 0.0994, Disc_Cat: 1.3696, Gen_Cat: 1.1786, Disc_Style: 1.3863, Gen_Style: 0.6932, SemiSup: 0.0100\n",
      "Validation Accuracy: 98.84%\n",
      "\n",
      "Weights saved to semisupervised_results/500_epochs_adam_results_run_2_noise/weights_*.pth\n"
     ]
    },
    {
     "data": {
      "application/vnd.jupyter.widget-view+json": {
       "model_id": "ca2cfc2a22884aebbf68590975b904c7",
       "version_major": 2,
       "version_minor": 0
      },
      "text/plain": [
       "Epoch [359/500]:   0%|          | 0/500 [00:00<?, ?it/s]"
      ]
     },
     "metadata": {},
     "output_type": "display_data"
    },
    {
     "name": "stdout",
     "output_type": "stream",
     "text": [
      "Epoch 359/500 — Recon: 0.0994, Disc_Cat: 1.3699, Gen_Cat: 1.1749, Disc_Style: 1.3863, Gen_Style: 0.6931, SemiSup: 0.0116\n",
      "Validation Accuracy: 98.98%\n",
      "\n",
      "Weights saved to semisupervised_results/500_epochs_adam_results_run_2_noise/weights_*.pth\n"
     ]
    },
    {
     "data": {
      "application/vnd.jupyter.widget-view+json": {
       "model_id": "2cfb7730c6d04d40a5c2dd878502dcbd",
       "version_major": 2,
       "version_minor": 0
      },
      "text/plain": [
       "Epoch [360/500]:   0%|          | 0/500 [00:00<?, ?it/s]"
      ]
     },
     "metadata": {},
     "output_type": "display_data"
    },
    {
     "name": "stdout",
     "output_type": "stream",
     "text": [
      "Epoch 360/500 — Recon: 0.0994, Disc_Cat: 1.3690, Gen_Cat: 1.1898, Disc_Style: 1.3863, Gen_Style: 0.6932, SemiSup: 0.0097\n",
      "Validation Accuracy: 99.01%\n",
      "\n",
      "Weights saved to semisupervised_results/500_epochs_adam_results_run_2_noise/weights_*.pth\n"
     ]
    },
    {
     "data": {
      "application/vnd.jupyter.widget-view+json": {
       "model_id": "112f1500ab8b4bcaa0a0e2090d78ac36",
       "version_major": 2,
       "version_minor": 0
      },
      "text/plain": [
       "Epoch [361/500]:   0%|          | 0/500 [00:00<?, ?it/s]"
      ]
     },
     "metadata": {},
     "output_type": "display_data"
    },
    {
     "name": "stdout",
     "output_type": "stream",
     "text": [
      "Epoch 361/500 — Recon: 0.0993, Disc_Cat: 1.3706, Gen_Cat: 1.1564, Disc_Style: 1.3863, Gen_Style: 0.6932, SemiSup: 0.0093\n",
      "Validation Accuracy: 99.00%\n",
      "\n",
      "Weights saved to semisupervised_results/500_epochs_adam_results_run_2_noise/weights_*.pth\n"
     ]
    },
    {
     "data": {
      "application/vnd.jupyter.widget-view+json": {
       "model_id": "73a9814d5b5a4128b7f6c4c9c4c04fba",
       "version_major": 2,
       "version_minor": 0
      },
      "text/plain": [
       "Epoch [362/500]:   0%|          | 0/500 [00:00<?, ?it/s]"
      ]
     },
     "metadata": {},
     "output_type": "display_data"
    },
    {
     "name": "stdout",
     "output_type": "stream",
     "text": [
      "Epoch 362/500 — Recon: 0.0994, Disc_Cat: 1.3700, Gen_Cat: 1.1816, Disc_Style: 1.3863, Gen_Style: 0.6932, SemiSup: 0.0083\n",
      "Validation Accuracy: 98.90%\n",
      "\n",
      "Weights saved to semisupervised_results/500_epochs_adam_results_run_2_noise/weights_*.pth\n"
     ]
    },
    {
     "data": {
      "application/vnd.jupyter.widget-view+json": {
       "model_id": "2b589fb1bcc2431dbb4095605290b26a",
       "version_major": 2,
       "version_minor": 0
      },
      "text/plain": [
       "Epoch [363/500]:   0%|          | 0/500 [00:00<?, ?it/s]"
      ]
     },
     "metadata": {},
     "output_type": "display_data"
    },
    {
     "name": "stdout",
     "output_type": "stream",
     "text": [
      "Epoch 363/500 — Recon: 0.0993, Disc_Cat: 1.3697, Gen_Cat: 1.2002, Disc_Style: 1.3863, Gen_Style: 0.6931, SemiSup: 0.0103\n",
      "Validation Accuracy: 99.00%\n",
      "\n",
      "Weights saved to semisupervised_results/500_epochs_adam_results_run_2_noise/weights_*.pth\n"
     ]
    },
    {
     "data": {
      "application/vnd.jupyter.widget-view+json": {
       "model_id": "33b3bbce13ca42aca1ff39620aee67a1",
       "version_major": 2,
       "version_minor": 0
      },
      "text/plain": [
       "Epoch [364/500]:   0%|          | 0/500 [00:00<?, ?it/s]"
      ]
     },
     "metadata": {},
     "output_type": "display_data"
    },
    {
     "name": "stdout",
     "output_type": "stream",
     "text": [
      "Epoch 364/500 — Recon: 0.0992, Disc_Cat: 1.3684, Gen_Cat: 1.1934, Disc_Style: 1.3863, Gen_Style: 0.6932, SemiSup: 0.0099\n",
      "Validation Accuracy: 98.97%\n",
      "\n",
      "Weights saved to semisupervised_results/500_epochs_adam_results_run_2_noise/weights_*.pth\n"
     ]
    },
    {
     "data": {
      "application/vnd.jupyter.widget-view+json": {
       "model_id": "a518f272ef334ba7bae08cc5da38cce7",
       "version_major": 2,
       "version_minor": 0
      },
      "text/plain": [
       "Epoch [365/500]:   0%|          | 0/500 [00:00<?, ?it/s]"
      ]
     },
     "metadata": {},
     "output_type": "display_data"
    },
    {
     "name": "stdout",
     "output_type": "stream",
     "text": [
      "Epoch 365/500 — Recon: 0.0991, Disc_Cat: 1.3693, Gen_Cat: 1.1770, Disc_Style: 1.3863, Gen_Style: 0.6931, SemiSup: 0.0110\n",
      "Validation Accuracy: 98.96%\n",
      "\n",
      "Weights saved to semisupervised_results/500_epochs_adam_results_run_2_noise/weights_*.pth\n"
     ]
    },
    {
     "data": {
      "application/vnd.jupyter.widget-view+json": {
       "model_id": "82a58b4e1b21434fad71d8940a4d4407",
       "version_major": 2,
       "version_minor": 0
      },
      "text/plain": [
       "Epoch [366/500]:   0%|          | 0/500 [00:00<?, ?it/s]"
      ]
     },
     "metadata": {},
     "output_type": "display_data"
    },
    {
     "name": "stdout",
     "output_type": "stream",
     "text": [
      "Epoch 366/500 — Recon: 0.0994, Disc_Cat: 1.3709, Gen_Cat: 1.1619, Disc_Style: 1.3863, Gen_Style: 0.6932, SemiSup: 0.0110\n",
      "Validation Accuracy: 98.93%\n",
      "\n",
      "Weights saved to semisupervised_results/500_epochs_adam_results_run_2_noise/weights_*.pth\n"
     ]
    },
    {
     "data": {
      "application/vnd.jupyter.widget-view+json": {
       "model_id": "1c36f13b30c54f119f24aaa89212afcb",
       "version_major": 2,
       "version_minor": 0
      },
      "text/plain": [
       "Epoch [367/500]:   0%|          | 0/500 [00:00<?, ?it/s]"
      ]
     },
     "metadata": {},
     "output_type": "display_data"
    },
    {
     "name": "stdout",
     "output_type": "stream",
     "text": [
      "Epoch 367/500 — Recon: 0.0994, Disc_Cat: 1.3700, Gen_Cat: 1.1843, Disc_Style: 1.3863, Gen_Style: 0.6932, SemiSup: 0.0089\n",
      "Validation Accuracy: 99.01%\n",
      "\n",
      "Weights saved to semisupervised_results/500_epochs_adam_results_run_2_noise/weights_*.pth\n"
     ]
    },
    {
     "data": {
      "application/vnd.jupyter.widget-view+json": {
       "model_id": "0213e1d6a291403580b4d055c953164d",
       "version_major": 2,
       "version_minor": 0
      },
      "text/plain": [
       "Epoch [368/500]:   0%|          | 0/500 [00:00<?, ?it/s]"
      ]
     },
     "metadata": {},
     "output_type": "display_data"
    },
    {
     "name": "stdout",
     "output_type": "stream",
     "text": [
      "Epoch 368/500 — Recon: 0.0993, Disc_Cat: 1.3695, Gen_Cat: 1.1916, Disc_Style: 1.3863, Gen_Style: 0.6931, SemiSup: 0.0103\n",
      "Validation Accuracy: 99.00%\n",
      "\n",
      "Weights saved to semisupervised_results/500_epochs_adam_results_run_2_noise/weights_*.pth\n"
     ]
    },
    {
     "data": {
      "application/vnd.jupyter.widget-view+json": {
       "model_id": "a97b1fe4327d4c5cb4a99e2552dcf325",
       "version_major": 2,
       "version_minor": 0
      },
      "text/plain": [
       "Epoch [369/500]:   0%|          | 0/500 [00:00<?, ?it/s]"
      ]
     },
     "metadata": {},
     "output_type": "display_data"
    },
    {
     "name": "stdout",
     "output_type": "stream",
     "text": [
      "Epoch 369/500 — Recon: 0.0994, Disc_Cat: 1.3699, Gen_Cat: 1.1754, Disc_Style: 1.3863, Gen_Style: 0.6932, SemiSup: 0.0115\n",
      "Validation Accuracy: 99.03%\n",
      "\n",
      "Weights saved to semisupervised_results/500_epochs_adam_results_run_2_noise/weights_*.pth\n"
     ]
    },
    {
     "data": {
      "application/vnd.jupyter.widget-view+json": {
       "model_id": "4d6d99adfcb14723a0ebd5f1de274918",
       "version_major": 2,
       "version_minor": 0
      },
      "text/plain": [
       "Epoch [370/500]:   0%|          | 0/500 [00:00<?, ?it/s]"
      ]
     },
     "metadata": {},
     "output_type": "display_data"
    },
    {
     "name": "stdout",
     "output_type": "stream",
     "text": [
      "Epoch 370/500 — Recon: 0.0992, Disc_Cat: 1.3710, Gen_Cat: 1.1505, Disc_Style: 1.3863, Gen_Style: 0.6932, SemiSup: 0.0111\n",
      "Validation Accuracy: 99.02%\n",
      "\n",
      "Weights saved to semisupervised_results/500_epochs_adam_results_run_2_noise/weights_*.pth\n"
     ]
    },
    {
     "data": {
      "application/vnd.jupyter.widget-view+json": {
       "model_id": "138db9595f5747afa03f6161c155da62",
       "version_major": 2,
       "version_minor": 0
      },
      "text/plain": [
       "Epoch [371/500]:   0%|          | 0/500 [00:00<?, ?it/s]"
      ]
     },
     "metadata": {},
     "output_type": "display_data"
    },
    {
     "name": "stdout",
     "output_type": "stream",
     "text": [
      "Epoch 371/500 — Recon: 0.0994, Disc_Cat: 1.3704, Gen_Cat: 1.1873, Disc_Style: 1.3863, Gen_Style: 0.6932, SemiSup: 0.0085\n",
      "Validation Accuracy: 98.94%\n",
      "\n",
      "Weights saved to semisupervised_results/500_epochs_adam_results_run_2_noise/weights_*.pth\n"
     ]
    },
    {
     "data": {
      "application/vnd.jupyter.widget-view+json": {
       "model_id": "276a8456f53540f4a1a3ead2412b4314",
       "version_major": 2,
       "version_minor": 0
      },
      "text/plain": [
       "Epoch [372/500]:   0%|          | 0/500 [00:00<?, ?it/s]"
      ]
     },
     "metadata": {},
     "output_type": "display_data"
    },
    {
     "name": "stdout",
     "output_type": "stream",
     "text": [
      "Epoch 372/500 — Recon: 0.0993, Disc_Cat: 1.3699, Gen_Cat: 1.1884, Disc_Style: 1.3863, Gen_Style: 0.6931, SemiSup: 0.0094\n",
      "Validation Accuracy: 99.01%\n",
      "\n",
      "Weights saved to semisupervised_results/500_epochs_adam_results_run_2_noise/weights_*.pth\n"
     ]
    },
    {
     "data": {
      "application/vnd.jupyter.widget-view+json": {
       "model_id": "c3515e5457c6498c91ab307287b6e478",
       "version_major": 2,
       "version_minor": 0
      },
      "text/plain": [
       "Epoch [373/500]:   0%|          | 0/500 [00:00<?, ?it/s]"
      ]
     },
     "metadata": {},
     "output_type": "display_data"
    },
    {
     "name": "stdout",
     "output_type": "stream",
     "text": [
      "Epoch 373/500 — Recon: 0.0993, Disc_Cat: 1.3698, Gen_Cat: 1.1864, Disc_Style: 1.3863, Gen_Style: 0.6932, SemiSup: 0.0103\n",
      "Validation Accuracy: 99.01%\n",
      "\n",
      "Weights saved to semisupervised_results/500_epochs_adam_results_run_2_noise/weights_*.pth\n"
     ]
    },
    {
     "data": {
      "application/vnd.jupyter.widget-view+json": {
       "model_id": "cd6aece445ae43008eb1ac9bc7cce1cc",
       "version_major": 2,
       "version_minor": 0
      },
      "text/plain": [
       "Epoch [374/500]:   0%|          | 0/500 [00:00<?, ?it/s]"
      ]
     },
     "metadata": {},
     "output_type": "display_data"
    },
    {
     "name": "stdout",
     "output_type": "stream",
     "text": [
      "Epoch 374/500 — Recon: 0.0993, Disc_Cat: 1.3708, Gen_Cat: 1.1630, Disc_Style: 1.3863, Gen_Style: 0.6932, SemiSup: 0.0118\n",
      "Validation Accuracy: 99.01%\n",
      "\n",
      "Weights saved to semisupervised_results/500_epochs_adam_results_run_2_noise/weights_*.pth\n"
     ]
    },
    {
     "data": {
      "application/vnd.jupyter.widget-view+json": {
       "model_id": "a4092070e7734eeb98847e56508bf9dc",
       "version_major": 2,
       "version_minor": 0
      },
      "text/plain": [
       "Epoch [375/500]:   0%|          | 0/500 [00:00<?, ?it/s]"
      ]
     },
     "metadata": {},
     "output_type": "display_data"
    },
    {
     "name": "stdout",
     "output_type": "stream",
     "text": [
      "Epoch 375/500 — Recon: 0.0993, Disc_Cat: 1.3703, Gen_Cat: 1.1671, Disc_Style: 1.3863, Gen_Style: 0.6932, SemiSup: 0.0088\n",
      "Validation Accuracy: 98.96%\n",
      "\n",
      "Weights saved to semisupervised_results/500_epochs_adam_results_run_2_noise/weights_*.pth\n"
     ]
    },
    {
     "data": {
      "application/vnd.jupyter.widget-view+json": {
       "model_id": "474821bc1d1640c3a95a8ea2ba8cb8b6",
       "version_major": 2,
       "version_minor": 0
      },
      "text/plain": [
       "Epoch [376/500]:   0%|          | 0/500 [00:00<?, ?it/s]"
      ]
     },
     "metadata": {},
     "output_type": "display_data"
    },
    {
     "name": "stdout",
     "output_type": "stream",
     "text": [
      "Epoch 376/500 — Recon: 0.0993, Disc_Cat: 1.3697, Gen_Cat: 1.1848, Disc_Style: 1.3863, Gen_Style: 0.6932, SemiSup: 0.0098\n",
      "Validation Accuracy: 98.98%\n",
      "\n",
      "Weights saved to semisupervised_results/500_epochs_adam_results_run_2_noise/weights_*.pth\n"
     ]
    },
    {
     "data": {
      "application/vnd.jupyter.widget-view+json": {
       "model_id": "900276ffd9294d83b5a43879a9061a0e",
       "version_major": 2,
       "version_minor": 0
      },
      "text/plain": [
       "Epoch [377/500]:   0%|          | 0/500 [00:00<?, ?it/s]"
      ]
     },
     "metadata": {},
     "output_type": "display_data"
    },
    {
     "name": "stdout",
     "output_type": "stream",
     "text": [
      "Epoch 377/500 — Recon: 0.0993, Disc_Cat: 1.3697, Gen_Cat: 1.1803, Disc_Style: 1.3863, Gen_Style: 0.6932, SemiSup: 0.0098\n",
      "Validation Accuracy: 99.01%\n",
      "\n",
      "Weights saved to semisupervised_results/500_epochs_adam_results_run_2_noise/weights_*.pth\n"
     ]
    },
    {
     "data": {
      "application/vnd.jupyter.widget-view+json": {
       "model_id": "9e5071f4f1454090b64b5674b027a6da",
       "version_major": 2,
       "version_minor": 0
      },
      "text/plain": [
       "Epoch [378/500]:   0%|          | 0/500 [00:00<?, ?it/s]"
      ]
     },
     "metadata": {},
     "output_type": "display_data"
    },
    {
     "name": "stdout",
     "output_type": "stream",
     "text": [
      "Epoch 378/500 — Recon: 0.0994, Disc_Cat: 1.3697, Gen_Cat: 1.1865, Disc_Style: 1.3863, Gen_Style: 0.6932, SemiSup: 0.0095\n",
      "Validation Accuracy: 98.90%\n",
      "\n",
      "Weights saved to semisupervised_results/500_epochs_adam_results_run_2_noise/weights_*.pth\n"
     ]
    },
    {
     "data": {
      "application/vnd.jupyter.widget-view+json": {
       "model_id": "c655c60e67164023b2cabbece441d7cd",
       "version_major": 2,
       "version_minor": 0
      },
      "text/plain": [
       "Epoch [379/500]:   0%|          | 0/500 [00:00<?, ?it/s]"
      ]
     },
     "metadata": {},
     "output_type": "display_data"
    },
    {
     "name": "stdout",
     "output_type": "stream",
     "text": [
      "Epoch 379/500 — Recon: 0.0992, Disc_Cat: 1.3700, Gen_Cat: 1.1775, Disc_Style: 1.3863, Gen_Style: 0.6932, SemiSup: 0.0097\n",
      "Validation Accuracy: 98.95%\n",
      "\n",
      "Weights saved to semisupervised_results/500_epochs_adam_results_run_2_noise/weights_*.pth\n"
     ]
    },
    {
     "data": {
      "application/vnd.jupyter.widget-view+json": {
       "model_id": "6c0c83cc21024269a6bee2a2260f62c1",
       "version_major": 2,
       "version_minor": 0
      },
      "text/plain": [
       "Epoch [380/500]:   0%|          | 0/500 [00:00<?, ?it/s]"
      ]
     },
     "metadata": {},
     "output_type": "display_data"
    },
    {
     "name": "stdout",
     "output_type": "stream",
     "text": [
      "Epoch 380/500 — Recon: 0.0992, Disc_Cat: 1.3700, Gen_Cat: 1.1663, Disc_Style: 1.3863, Gen_Style: 0.6932, SemiSup: 0.0090\n",
      "Validation Accuracy: 98.99%\n",
      "\n",
      "Weights saved to semisupervised_results/500_epochs_adam_results_run_2_noise/weights_*.pth\n"
     ]
    },
    {
     "data": {
      "application/vnd.jupyter.widget-view+json": {
       "model_id": "4705fd89f69f432bae3a5620a5e31894",
       "version_major": 2,
       "version_minor": 0
      },
      "text/plain": [
       "Epoch [381/500]:   0%|          | 0/500 [00:00<?, ?it/s]"
      ]
     },
     "metadata": {},
     "output_type": "display_data"
    },
    {
     "name": "stdout",
     "output_type": "stream",
     "text": [
      "Epoch 381/500 — Recon: 0.0993, Disc_Cat: 1.3701, Gen_Cat: 1.1623, Disc_Style: 1.3863, Gen_Style: 0.6932, SemiSup: 0.0101\n",
      "Validation Accuracy: 98.97%\n",
      "\n",
      "Weights saved to semisupervised_results/500_epochs_adam_results_run_2_noise/weights_*.pth\n"
     ]
    },
    {
     "data": {
      "application/vnd.jupyter.widget-view+json": {
       "model_id": "3959c633689a438dadb576d57faab95e",
       "version_major": 2,
       "version_minor": 0
      },
      "text/plain": [
       "Epoch [382/500]:   0%|          | 0/500 [00:00<?, ?it/s]"
      ]
     },
     "metadata": {},
     "output_type": "display_data"
    },
    {
     "name": "stdout",
     "output_type": "stream",
     "text": [
      "Epoch 382/500 — Recon: 0.0993, Disc_Cat: 1.3712, Gen_Cat: 1.1573, Disc_Style: 1.3863, Gen_Style: 0.6931, SemiSup: 0.0088\n",
      "Validation Accuracy: 99.01%\n",
      "\n",
      "Weights saved to semisupervised_results/500_epochs_adam_results_run_2_noise/weights_*.pth\n"
     ]
    },
    {
     "data": {
      "application/vnd.jupyter.widget-view+json": {
       "model_id": "00fbd4bf479b4ce3943f5efbf887abda",
       "version_major": 2,
       "version_minor": 0
      },
      "text/plain": [
       "Epoch [383/500]:   0%|          | 0/500 [00:00<?, ?it/s]"
      ]
     },
     "metadata": {},
     "output_type": "display_data"
    },
    {
     "name": "stdout",
     "output_type": "stream",
     "text": [
      "Epoch 383/500 — Recon: 0.0993, Disc_Cat: 1.3699, Gen_Cat: 1.1696, Disc_Style: 1.3863, Gen_Style: 0.6932, SemiSup: 0.0093\n",
      "Validation Accuracy: 99.05%\n",
      "\n",
      "Weights saved to semisupervised_results/500_epochs_adam_results_run_2_noise/weights_*.pth\n"
     ]
    },
    {
     "data": {
      "application/vnd.jupyter.widget-view+json": {
       "model_id": "82b9f9c8054645ee91aac22b2b378d46",
       "version_major": 2,
       "version_minor": 0
      },
      "text/plain": [
       "Epoch [384/500]:   0%|          | 0/500 [00:00<?, ?it/s]"
      ]
     },
     "metadata": {},
     "output_type": "display_data"
    },
    {
     "name": "stdout",
     "output_type": "stream",
     "text": [
      "Epoch 384/500 — Recon: 0.0992, Disc_Cat: 1.3698, Gen_Cat: 1.1759, Disc_Style: 1.3863, Gen_Style: 0.6931, SemiSup: 0.0086\n",
      "Validation Accuracy: 99.05%\n",
      "\n",
      "Weights saved to semisupervised_results/500_epochs_adam_results_run_2_noise/weights_*.pth\n"
     ]
    },
    {
     "data": {
      "application/vnd.jupyter.widget-view+json": {
       "model_id": "5a9756c0c1f24e88b0285cbdde61ac86",
       "version_major": 2,
       "version_minor": 0
      },
      "text/plain": [
       "Epoch [385/500]:   0%|          | 0/500 [00:00<?, ?it/s]"
      ]
     },
     "metadata": {},
     "output_type": "display_data"
    },
    {
     "name": "stdout",
     "output_type": "stream",
     "text": [
      "Epoch 385/500 — Recon: 0.0993, Disc_Cat: 1.3693, Gen_Cat: 1.1986, Disc_Style: 1.3863, Gen_Style: 0.6932, SemiSup: 0.0102\n",
      "Validation Accuracy: 99.00%\n",
      "\n",
      "Weights saved to semisupervised_results/500_epochs_adam_results_run_2_noise/weights_*.pth\n"
     ]
    },
    {
     "data": {
      "application/vnd.jupyter.widget-view+json": {
       "model_id": "742300d11777442ca5a63a8d6dfa681b",
       "version_major": 2,
       "version_minor": 0
      },
      "text/plain": [
       "Epoch [386/500]:   0%|          | 0/500 [00:00<?, ?it/s]"
      ]
     },
     "metadata": {},
     "output_type": "display_data"
    },
    {
     "name": "stdout",
     "output_type": "stream",
     "text": [
      "Epoch 386/500 — Recon: 0.0993, Disc_Cat: 1.3697, Gen_Cat: 1.1614, Disc_Style: 1.3863, Gen_Style: 0.6932, SemiSup: 0.0079\n",
      "Validation Accuracy: 98.99%\n",
      "\n",
      "Weights saved to semisupervised_results/500_epochs_adam_results_run_2_noise/weights_*.pth\n"
     ]
    },
    {
     "data": {
      "application/vnd.jupyter.widget-view+json": {
       "model_id": "4c2ab823119d4e7cb6e43d92fbca16cc",
       "version_major": 2,
       "version_minor": 0
      },
      "text/plain": [
       "Epoch [387/500]:   0%|          | 0/500 [00:00<?, ?it/s]"
      ]
     },
     "metadata": {},
     "output_type": "display_data"
    },
    {
     "name": "stdout",
     "output_type": "stream",
     "text": [
      "Epoch 387/500 — Recon: 0.0993, Disc_Cat: 1.3705, Gen_Cat: 1.1614, Disc_Style: 1.3863, Gen_Style: 0.6932, SemiSup: 0.0099\n",
      "Validation Accuracy: 99.06%\n",
      "\n",
      "Weights saved to semisupervised_results/500_epochs_adam_results_run_2_noise/weights_*.pth\n"
     ]
    },
    {
     "data": {
      "application/vnd.jupyter.widget-view+json": {
       "model_id": "a519063fb4df487ebc6e116b9628a3e2",
       "version_major": 2,
       "version_minor": 0
      },
      "text/plain": [
       "Epoch [388/500]:   0%|          | 0/500 [00:00<?, ?it/s]"
      ]
     },
     "metadata": {},
     "output_type": "display_data"
    },
    {
     "name": "stdout",
     "output_type": "stream",
     "text": [
      "Epoch 388/500 — Recon: 0.0992, Disc_Cat: 1.3709, Gen_Cat: 1.1632, Disc_Style: 1.3863, Gen_Style: 0.6932, SemiSup: 0.0100\n",
      "Validation Accuracy: 98.90%\n",
      "\n",
      "Weights saved to semisupervised_results/500_epochs_adam_results_run_2_noise/weights_*.pth\n"
     ]
    },
    {
     "data": {
      "application/vnd.jupyter.widget-view+json": {
       "model_id": "8f2b0c4bebaf449e9ea1902a97dc4fdf",
       "version_major": 2,
       "version_minor": 0
      },
      "text/plain": [
       "Epoch [389/500]:   0%|          | 0/500 [00:00<?, ?it/s]"
      ]
     },
     "metadata": {},
     "output_type": "display_data"
    },
    {
     "name": "stdout",
     "output_type": "stream",
     "text": [
      "Epoch 389/500 — Recon: 0.0992, Disc_Cat: 1.3704, Gen_Cat: 1.1626, Disc_Style: 1.3863, Gen_Style: 0.6932, SemiSup: 0.0093\n",
      "Validation Accuracy: 98.91%\n",
      "\n",
      "Weights saved to semisupervised_results/500_epochs_adam_results_run_2_noise/weights_*.pth\n"
     ]
    },
    {
     "data": {
      "application/vnd.jupyter.widget-view+json": {
       "model_id": "067c7ee554b940ef85b3505b0b33dbf6",
       "version_major": 2,
       "version_minor": 0
      },
      "text/plain": [
       "Epoch [390/500]:   0%|          | 0/500 [00:00<?, ?it/s]"
      ]
     },
     "metadata": {},
     "output_type": "display_data"
    },
    {
     "name": "stdout",
     "output_type": "stream",
     "text": [
      "Epoch 390/500 — Recon: 0.0992, Disc_Cat: 1.3709, Gen_Cat: 1.1591, Disc_Style: 1.3863, Gen_Style: 0.6932, SemiSup: 0.0098\n",
      "Validation Accuracy: 99.05%\n",
      "\n",
      "Weights saved to semisupervised_results/500_epochs_adam_results_run_2_noise/weights_*.pth\n"
     ]
    },
    {
     "data": {
      "application/vnd.jupyter.widget-view+json": {
       "model_id": "97e33a9472a54883b366ae985c172693",
       "version_major": 2,
       "version_minor": 0
      },
      "text/plain": [
       "Epoch [391/500]:   0%|          | 0/500 [00:00<?, ?it/s]"
      ]
     },
     "metadata": {},
     "output_type": "display_data"
    },
    {
     "name": "stdout",
     "output_type": "stream",
     "text": [
      "Epoch 391/500 — Recon: 0.0992, Disc_Cat: 1.3701, Gen_Cat: 1.1496, Disc_Style: 1.3863, Gen_Style: 0.6932, SemiSup: 0.0072\n",
      "Validation Accuracy: 98.99%\n",
      "\n",
      "Weights saved to semisupervised_results/500_epochs_adam_results_run_2_noise/weights_*.pth\n"
     ]
    },
    {
     "data": {
      "application/vnd.jupyter.widget-view+json": {
       "model_id": "9093eae158f844fc99843689247503f8",
       "version_major": 2,
       "version_minor": 0
      },
      "text/plain": [
       "Epoch [392/500]:   0%|          | 0/500 [00:00<?, ?it/s]"
      ]
     },
     "metadata": {},
     "output_type": "display_data"
    },
    {
     "name": "stdout",
     "output_type": "stream",
     "text": [
      "Epoch 392/500 — Recon: 0.0993, Disc_Cat: 1.3705, Gen_Cat: 1.1555, Disc_Style: 1.3863, Gen_Style: 0.6932, SemiSup: 0.0097\n",
      "Validation Accuracy: 98.97%\n",
      "\n",
      "Weights saved to semisupervised_results/500_epochs_adam_results_run_2_noise/weights_*.pth\n"
     ]
    },
    {
     "data": {
      "application/vnd.jupyter.widget-view+json": {
       "model_id": "185f12e077154cc5ac0b1a07ec1990ed",
       "version_major": 2,
       "version_minor": 0
      },
      "text/plain": [
       "Epoch [393/500]:   0%|          | 0/500 [00:00<?, ?it/s]"
      ]
     },
     "metadata": {},
     "output_type": "display_data"
    },
    {
     "name": "stdout",
     "output_type": "stream",
     "text": [
      "Epoch 393/500 — Recon: 0.0992, Disc_Cat: 1.3712, Gen_Cat: 1.1553, Disc_Style: 1.3863, Gen_Style: 0.6932, SemiSup: 0.0089\n",
      "Validation Accuracy: 99.01%\n",
      "\n",
      "Weights saved to semisupervised_results/500_epochs_adam_results_run_2_noise/weights_*.pth\n"
     ]
    },
    {
     "data": {
      "application/vnd.jupyter.widget-view+json": {
       "model_id": "007a1ba8423844be92c9262bbb4b3f99",
       "version_major": 2,
       "version_minor": 0
      },
      "text/plain": [
       "Epoch [394/500]:   0%|          | 0/500 [00:00<?, ?it/s]"
      ]
     },
     "metadata": {},
     "output_type": "display_data"
    },
    {
     "name": "stdout",
     "output_type": "stream",
     "text": [
      "Epoch 394/500 — Recon: 0.0993, Disc_Cat: 1.3711, Gen_Cat: 1.1628, Disc_Style: 1.3863, Gen_Style: 0.6932, SemiSup: 0.0088\n",
      "Validation Accuracy: 98.99%\n",
      "\n",
      "Weights saved to semisupervised_results/500_epochs_adam_results_run_2_noise/weights_*.pth\n"
     ]
    },
    {
     "data": {
      "application/vnd.jupyter.widget-view+json": {
       "model_id": "3470c5bcc15a4345a565227faeff6ddb",
       "version_major": 2,
       "version_minor": 0
      },
      "text/plain": [
       "Epoch [395/500]:   0%|          | 0/500 [00:00<?, ?it/s]"
      ]
     },
     "metadata": {},
     "output_type": "display_data"
    },
    {
     "name": "stdout",
     "output_type": "stream",
     "text": [
      "Epoch 395/500 — Recon: 0.0992, Disc_Cat: 1.3707, Gen_Cat: 1.1530, Disc_Style: 1.3863, Gen_Style: 0.6931, SemiSup: 0.0096\n",
      "Validation Accuracy: 98.99%\n",
      "\n",
      "Weights saved to semisupervised_results/500_epochs_adam_results_run_2_noise/weights_*.pth\n"
     ]
    },
    {
     "data": {
      "application/vnd.jupyter.widget-view+json": {
       "model_id": "5020d0e270494f77b87ca61b1341313d",
       "version_major": 2,
       "version_minor": 0
      },
      "text/plain": [
       "Epoch [396/500]:   0%|          | 0/500 [00:00<?, ?it/s]"
      ]
     },
     "metadata": {},
     "output_type": "display_data"
    },
    {
     "name": "stdout",
     "output_type": "stream",
     "text": [
      "Epoch 396/500 — Recon: 0.0992, Disc_Cat: 1.3720, Gen_Cat: 1.1349, Disc_Style: 1.3863, Gen_Style: 0.6932, SemiSup: 0.0083\n",
      "Validation Accuracy: 99.06%\n",
      "\n",
      "Weights saved to semisupervised_results/500_epochs_adam_results_run_2_noise/weights_*.pth\n"
     ]
    },
    {
     "data": {
      "application/vnd.jupyter.widget-view+json": {
       "model_id": "8de24cd99deb41899944c4e7848b6c58",
       "version_major": 2,
       "version_minor": 0
      },
      "text/plain": [
       "Epoch [397/500]:   0%|          | 0/500 [00:00<?, ?it/s]"
      ]
     },
     "metadata": {},
     "output_type": "display_data"
    },
    {
     "name": "stdout",
     "output_type": "stream",
     "text": [
      "Epoch 397/500 — Recon: 0.0993, Disc_Cat: 1.3716, Gen_Cat: 1.1443, Disc_Style: 1.3863, Gen_Style: 0.6932, SemiSup: 0.0101\n",
      "Validation Accuracy: 99.06%\n",
      "\n",
      "Weights saved to semisupervised_results/500_epochs_adam_results_run_2_noise/weights_*.pth\n"
     ]
    },
    {
     "data": {
      "application/vnd.jupyter.widget-view+json": {
       "model_id": "5c1007fbb6ad4143bd03ffd8e0eb856b",
       "version_major": 2,
       "version_minor": 0
      },
      "text/plain": [
       "Epoch [398/500]:   0%|          | 0/500 [00:00<?, ?it/s]"
      ]
     },
     "metadata": {},
     "output_type": "display_data"
    },
    {
     "name": "stdout",
     "output_type": "stream",
     "text": [
      "Epoch 398/500 — Recon: 0.0992, Disc_Cat: 1.3708, Gen_Cat: 1.1930, Disc_Style: 1.3863, Gen_Style: 0.6931, SemiSup: 0.0105\n",
      "Validation Accuracy: 99.04%\n",
      "\n",
      "Weights saved to semisupervised_results/500_epochs_adam_results_run_2_noise/weights_*.pth\n"
     ]
    },
    {
     "data": {
      "application/vnd.jupyter.widget-view+json": {
       "model_id": "9e526d37672246a8b1bc4d8324626654",
       "version_major": 2,
       "version_minor": 0
      },
      "text/plain": [
       "Epoch [399/500]:   0%|          | 0/500 [00:00<?, ?it/s]"
      ]
     },
     "metadata": {},
     "output_type": "display_data"
    },
    {
     "name": "stdout",
     "output_type": "stream",
     "text": [
      "Epoch 399/500 — Recon: 0.0993, Disc_Cat: 1.3697, Gen_Cat: 1.1739, Disc_Style: 1.3863, Gen_Style: 0.6932, SemiSup: 0.0092\n",
      "Validation Accuracy: 98.92%\n",
      "\n",
      "Weights saved to semisupervised_results/500_epochs_adam_results_run_2_noise/weights_*.pth\n"
     ]
    },
    {
     "data": {
      "application/vnd.jupyter.widget-view+json": {
       "model_id": "7ad96d0079464a6289b4803159b22127",
       "version_major": 2,
       "version_minor": 0
      },
      "text/plain": [
       "Epoch [400/500]:   0%|          | 0/500 [00:00<?, ?it/s]"
      ]
     },
     "metadata": {},
     "output_type": "display_data"
    },
    {
     "name": "stdout",
     "output_type": "stream",
     "text": [
      "Epoch 400/500 — Recon: 0.0992, Disc_Cat: 1.3705, Gen_Cat: 1.1674, Disc_Style: 1.3863, Gen_Style: 0.6932, SemiSup: 0.0106\n",
      "Validation Accuracy: 99.04%\n",
      "\n",
      "Weights saved to semisupervised_results/500_epochs_adam_results_run_2_noise/weights_epoch_400_*.pth\n",
      "Weights saved to semisupervised_results/500_epochs_adam_results_run_2_noise/weights_*.pth\n"
     ]
    },
    {
     "data": {
      "application/vnd.jupyter.widget-view+json": {
       "model_id": "7af2d5c8826f476193e7bd7da880904a",
       "version_major": 2,
       "version_minor": 0
      },
      "text/plain": [
       "Epoch [401/500]:   0%|          | 0/500 [00:00<?, ?it/s]"
      ]
     },
     "metadata": {},
     "output_type": "display_data"
    },
    {
     "name": "stdout",
     "output_type": "stream",
     "text": [
      "Epoch 401/500 — Recon: 0.0993, Disc_Cat: 1.3702, Gen_Cat: 1.1696, Disc_Style: 1.3863, Gen_Style: 0.6932, SemiSup: 0.0110\n",
      "Validation Accuracy: 99.00%\n",
      "\n",
      "Weights saved to semisupervised_results/500_epochs_adam_results_run_2_noise/weights_*.pth\n"
     ]
    },
    {
     "data": {
      "application/vnd.jupyter.widget-view+json": {
       "model_id": "508883227b7e4e04bd7ab72a79754649",
       "version_major": 2,
       "version_minor": 0
      },
      "text/plain": [
       "Epoch [402/500]:   0%|          | 0/500 [00:00<?, ?it/s]"
      ]
     },
     "metadata": {},
     "output_type": "display_data"
    },
    {
     "name": "stdout",
     "output_type": "stream",
     "text": [
      "Epoch 402/500 — Recon: 0.0992, Disc_Cat: 1.3712, Gen_Cat: 1.1592, Disc_Style: 1.3863, Gen_Style: 0.6932, SemiSup: 0.0088\n",
      "Validation Accuracy: 98.98%\n",
      "\n",
      "Weights saved to semisupervised_results/500_epochs_adam_results_run_2_noise/weights_*.pth\n"
     ]
    },
    {
     "data": {
      "application/vnd.jupyter.widget-view+json": {
       "model_id": "78e0b9b8752a42da98bdea59068bf57b",
       "version_major": 2,
       "version_minor": 0
      },
      "text/plain": [
       "Epoch [403/500]:   0%|          | 0/500 [00:00<?, ?it/s]"
      ]
     },
     "metadata": {},
     "output_type": "display_data"
    },
    {
     "name": "stdout",
     "output_type": "stream",
     "text": [
      "Epoch 403/500 — Recon: 0.0992, Disc_Cat: 1.3715, Gen_Cat: 1.1416, Disc_Style: 1.3863, Gen_Style: 0.6932, SemiSup: 0.0077\n",
      "Validation Accuracy: 98.98%\n",
      "\n",
      "Weights saved to semisupervised_results/500_epochs_adam_results_run_2_noise/weights_*.pth\n"
     ]
    },
    {
     "data": {
      "application/vnd.jupyter.widget-view+json": {
       "model_id": "44beb08472204bca91ad234f8d6be091",
       "version_major": 2,
       "version_minor": 0
      },
      "text/plain": [
       "Epoch [404/500]:   0%|          | 0/500 [00:00<?, ?it/s]"
      ]
     },
     "metadata": {},
     "output_type": "display_data"
    },
    {
     "name": "stdout",
     "output_type": "stream",
     "text": [
      "Epoch 404/500 — Recon: 0.0991, Disc_Cat: 1.3706, Gen_Cat: 1.1592, Disc_Style: 1.3863, Gen_Style: 0.6932, SemiSup: 0.0086\n",
      "Validation Accuracy: 98.94%\n",
      "\n",
      "Weights saved to semisupervised_results/500_epochs_adam_results_run_2_noise/weights_*.pth\n"
     ]
    },
    {
     "data": {
      "application/vnd.jupyter.widget-view+json": {
       "model_id": "fd909c07dce34d4ca393abda7d467c6a",
       "version_major": 2,
       "version_minor": 0
      },
      "text/plain": [
       "Epoch [405/500]:   0%|          | 0/500 [00:00<?, ?it/s]"
      ]
     },
     "metadata": {},
     "output_type": "display_data"
    },
    {
     "name": "stdout",
     "output_type": "stream",
     "text": [
      "Epoch 405/500 — Recon: 0.0994, Disc_Cat: 1.3697, Gen_Cat: 1.1789, Disc_Style: 1.3863, Gen_Style: 0.6932, SemiSup: 0.0109\n",
      "Validation Accuracy: 98.93%\n",
      "\n",
      "Weights saved to semisupervised_results/500_epochs_adam_results_run_2_noise/weights_*.pth\n"
     ]
    },
    {
     "data": {
      "application/vnd.jupyter.widget-view+json": {
       "model_id": "838dd334f241458f92d6ed6a3d9e4f00",
       "version_major": 2,
       "version_minor": 0
      },
      "text/plain": [
       "Epoch [406/500]:   0%|          | 0/500 [00:00<?, ?it/s]"
      ]
     },
     "metadata": {},
     "output_type": "display_data"
    },
    {
     "name": "stdout",
     "output_type": "stream",
     "text": [
      "Epoch 406/500 — Recon: 0.0991, Disc_Cat: 1.3706, Gen_Cat: 1.1478, Disc_Style: 1.3863, Gen_Style: 0.6932, SemiSup: 0.0089\n",
      "Validation Accuracy: 98.95%\n",
      "\n",
      "Weights saved to semisupervised_results/500_epochs_adam_results_run_2_noise/weights_*.pth\n"
     ]
    },
    {
     "data": {
      "application/vnd.jupyter.widget-view+json": {
       "model_id": "816531a3cb9444be9202694ecce07d0c",
       "version_major": 2,
       "version_minor": 0
      },
      "text/plain": [
       "Epoch [407/500]:   0%|          | 0/500 [00:00<?, ?it/s]"
      ]
     },
     "metadata": {},
     "output_type": "display_data"
    },
    {
     "name": "stdout",
     "output_type": "stream",
     "text": [
      "Epoch 407/500 — Recon: 0.0992, Disc_Cat: 1.3698, Gen_Cat: 1.1651, Disc_Style: 1.3863, Gen_Style: 0.6932, SemiSup: 0.0112\n",
      "Validation Accuracy: 99.06%\n",
      "\n",
      "Weights saved to semisupervised_results/500_epochs_adam_results_run_2_noise/weights_*.pth\n"
     ]
    },
    {
     "data": {
      "application/vnd.jupyter.widget-view+json": {
       "model_id": "0739e996ac724edd88eff0096f985bca",
       "version_major": 2,
       "version_minor": 0
      },
      "text/plain": [
       "Epoch [408/500]:   0%|          | 0/500 [00:00<?, ?it/s]"
      ]
     },
     "metadata": {},
     "output_type": "display_data"
    },
    {
     "name": "stdout",
     "output_type": "stream",
     "text": [
      "Epoch 408/500 — Recon: 0.0992, Disc_Cat: 1.3705, Gen_Cat: 1.1739, Disc_Style: 1.3863, Gen_Style: 0.6932, SemiSup: 0.0083\n",
      "Validation Accuracy: 98.95%\n",
      "\n",
      "Weights saved to semisupervised_results/500_epochs_adam_results_run_2_noise/weights_*.pth\n"
     ]
    },
    {
     "data": {
      "application/vnd.jupyter.widget-view+json": {
       "model_id": "bc72616b7f004144a06bb85e97091e66",
       "version_major": 2,
       "version_minor": 0
      },
      "text/plain": [
       "Epoch [409/500]:   0%|          | 0/500 [00:00<?, ?it/s]"
      ]
     },
     "metadata": {},
     "output_type": "display_data"
    },
    {
     "name": "stdout",
     "output_type": "stream",
     "text": [
      "Epoch 409/500 — Recon: 0.0993, Disc_Cat: 1.3707, Gen_Cat: 1.1571, Disc_Style: 1.3863, Gen_Style: 0.6932, SemiSup: 0.0076\n",
      "Validation Accuracy: 98.95%\n",
      "\n",
      "Weights saved to semisupervised_results/500_epochs_adam_results_run_2_noise/weights_*.pth\n"
     ]
    },
    {
     "data": {
      "application/vnd.jupyter.widget-view+json": {
       "model_id": "3115ac3b4ec64fe8a1b8c3c8f747135c",
       "version_major": 2,
       "version_minor": 0
      },
      "text/plain": [
       "Epoch [410/500]:   0%|          | 0/500 [00:00<?, ?it/s]"
      ]
     },
     "metadata": {},
     "output_type": "display_data"
    },
    {
     "name": "stdout",
     "output_type": "stream",
     "text": [
      "Epoch 410/500 — Recon: 0.0993, Disc_Cat: 1.3707, Gen_Cat: 1.1645, Disc_Style: 1.3863, Gen_Style: 0.6932, SemiSup: 0.0095\n",
      "Validation Accuracy: 98.96%\n",
      "\n",
      "Weights saved to semisupervised_results/500_epochs_adam_results_run_2_noise/weights_*.pth\n"
     ]
    },
    {
     "data": {
      "application/vnd.jupyter.widget-view+json": {
       "model_id": "2e4168975b5b443e918da5ae4a5ca60d",
       "version_major": 2,
       "version_minor": 0
      },
      "text/plain": [
       "Epoch [411/500]:   0%|          | 0/500 [00:00<?, ?it/s]"
      ]
     },
     "metadata": {},
     "output_type": "display_data"
    },
    {
     "name": "stdout",
     "output_type": "stream",
     "text": [
      "Epoch 411/500 — Recon: 0.0992, Disc_Cat: 1.3702, Gen_Cat: 1.1781, Disc_Style: 1.3863, Gen_Style: 0.6932, SemiSup: 0.0092\n",
      "Validation Accuracy: 99.01%\n",
      "\n",
      "Weights saved to semisupervised_results/500_epochs_adam_results_run_2_noise/weights_*.pth\n"
     ]
    },
    {
     "data": {
      "application/vnd.jupyter.widget-view+json": {
       "model_id": "78265dae22754831b651cdc718b7a5c8",
       "version_major": 2,
       "version_minor": 0
      },
      "text/plain": [
       "Epoch [412/500]:   0%|          | 0/500 [00:00<?, ?it/s]"
      ]
     },
     "metadata": {},
     "output_type": "display_data"
    },
    {
     "name": "stdout",
     "output_type": "stream",
     "text": [
      "Epoch 412/500 — Recon: 0.0992, Disc_Cat: 1.3707, Gen_Cat: 1.1726, Disc_Style: 1.3863, Gen_Style: 0.6932, SemiSup: 0.0094\n",
      "Validation Accuracy: 98.90%\n",
      "\n",
      "Weights saved to semisupervised_results/500_epochs_adam_results_run_2_noise/weights_*.pth\n"
     ]
    },
    {
     "data": {
      "application/vnd.jupyter.widget-view+json": {
       "model_id": "f102042660d9480fbf5a9d6262a5b20d",
       "version_major": 2,
       "version_minor": 0
      },
      "text/plain": [
       "Epoch [413/500]:   0%|          | 0/500 [00:00<?, ?it/s]"
      ]
     },
     "metadata": {},
     "output_type": "display_data"
    },
    {
     "name": "stdout",
     "output_type": "stream",
     "text": [
      "Epoch 413/500 — Recon: 0.0992, Disc_Cat: 1.3707, Gen_Cat: 1.1484, Disc_Style: 1.3863, Gen_Style: 0.6932, SemiSup: 0.0089\n",
      "Validation Accuracy: 99.02%\n",
      "\n",
      "Weights saved to semisupervised_results/500_epochs_adam_results_run_2_noise/weights_*.pth\n"
     ]
    },
    {
     "data": {
      "application/vnd.jupyter.widget-view+json": {
       "model_id": "961f72b37b764a5596ef37f233a375cb",
       "version_major": 2,
       "version_minor": 0
      },
      "text/plain": [
       "Epoch [414/500]:   0%|          | 0/500 [00:00<?, ?it/s]"
      ]
     },
     "metadata": {},
     "output_type": "display_data"
    },
    {
     "name": "stdout",
     "output_type": "stream",
     "text": [
      "Epoch 414/500 — Recon: 0.0991, Disc_Cat: 1.3703, Gen_Cat: 1.1578, Disc_Style: 1.3863, Gen_Style: 0.6932, SemiSup: 0.0095\n",
      "Validation Accuracy: 98.99%\n",
      "\n",
      "Weights saved to semisupervised_results/500_epochs_adam_results_run_2_noise/weights_*.pth\n"
     ]
    },
    {
     "data": {
      "application/vnd.jupyter.widget-view+json": {
       "model_id": "700672396b1c46a9964a7ba3895a005d",
       "version_major": 2,
       "version_minor": 0
      },
      "text/plain": [
       "Epoch [415/500]:   0%|          | 0/500 [00:00<?, ?it/s]"
      ]
     },
     "metadata": {},
     "output_type": "display_data"
    },
    {
     "name": "stdout",
     "output_type": "stream",
     "text": [
      "Epoch 415/500 — Recon: 0.0992, Disc_Cat: 1.3699, Gen_Cat: 1.1800, Disc_Style: 1.3863, Gen_Style: 0.6932, SemiSup: 0.0099\n",
      "Validation Accuracy: 98.94%\n",
      "\n",
      "Weights saved to semisupervised_results/500_epochs_adam_results_run_2_noise/weights_*.pth\n"
     ]
    },
    {
     "data": {
      "application/vnd.jupyter.widget-view+json": {
       "model_id": "be7b7598bd3546b7a0fd6355c3594f79",
       "version_major": 2,
       "version_minor": 0
      },
      "text/plain": [
       "Epoch [416/500]:   0%|          | 0/500 [00:00<?, ?it/s]"
      ]
     },
     "metadata": {},
     "output_type": "display_data"
    },
    {
     "name": "stdout",
     "output_type": "stream",
     "text": [
      "Epoch 416/500 — Recon: 0.0992, Disc_Cat: 1.3709, Gen_Cat: 1.1501, Disc_Style: 1.3863, Gen_Style: 0.6931, SemiSup: 0.0107\n",
      "Validation Accuracy: 98.95%\n",
      "\n",
      "Weights saved to semisupervised_results/500_epochs_adam_results_run_2_noise/weights_*.pth\n"
     ]
    },
    {
     "data": {
      "application/vnd.jupyter.widget-view+json": {
       "model_id": "7b8f698325f342138fa5d9562a20e5f0",
       "version_major": 2,
       "version_minor": 0
      },
      "text/plain": [
       "Epoch [417/500]:   0%|          | 0/500 [00:00<?, ?it/s]"
      ]
     },
     "metadata": {},
     "output_type": "display_data"
    },
    {
     "name": "stdout",
     "output_type": "stream",
     "text": [
      "Epoch 417/500 — Recon: 0.0993, Disc_Cat: 1.3699, Gen_Cat: 1.1744, Disc_Style: 1.3863, Gen_Style: 0.6933, SemiSup: 0.0089\n",
      "Validation Accuracy: 99.00%\n",
      "\n",
      "Weights saved to semisupervised_results/500_epochs_adam_results_run_2_noise/weights_*.pth\n"
     ]
    },
    {
     "data": {
      "application/vnd.jupyter.widget-view+json": {
       "model_id": "e59909642d804c689fe1d5e464e9082b",
       "version_major": 2,
       "version_minor": 0
      },
      "text/plain": [
       "Epoch [418/500]:   0%|          | 0/500 [00:00<?, ?it/s]"
      ]
     },
     "metadata": {},
     "output_type": "display_data"
    },
    {
     "name": "stdout",
     "output_type": "stream",
     "text": [
      "Epoch 418/500 — Recon: 0.0992, Disc_Cat: 1.3707, Gen_Cat: 1.1536, Disc_Style: 1.3863, Gen_Style: 0.6932, SemiSup: 0.0095\n",
      "Validation Accuracy: 99.03%\n",
      "\n",
      "Weights saved to semisupervised_results/500_epochs_adam_results_run_2_noise/weights_*.pth\n"
     ]
    },
    {
     "data": {
      "application/vnd.jupyter.widget-view+json": {
       "model_id": "77bac6a09a94419bb11e5de54a8372d0",
       "version_major": 2,
       "version_minor": 0
      },
      "text/plain": [
       "Epoch [419/500]:   0%|          | 0/500 [00:00<?, ?it/s]"
      ]
     },
     "metadata": {},
     "output_type": "display_data"
    },
    {
     "name": "stdout",
     "output_type": "stream",
     "text": [
      "Epoch 419/500 — Recon: 0.0992, Disc_Cat: 1.3711, Gen_Cat: 1.1479, Disc_Style: 1.3863, Gen_Style: 0.6931, SemiSup: 0.0073\n",
      "Validation Accuracy: 98.92%\n",
      "\n",
      "Weights saved to semisupervised_results/500_epochs_adam_results_run_2_noise/weights_*.pth\n"
     ]
    },
    {
     "data": {
      "application/vnd.jupyter.widget-view+json": {
       "model_id": "f212268c9ce3428a8854ed22c5939e8d",
       "version_major": 2,
       "version_minor": 0
      },
      "text/plain": [
       "Epoch [420/500]:   0%|          | 0/500 [00:00<?, ?it/s]"
      ]
     },
     "metadata": {},
     "output_type": "display_data"
    },
    {
     "name": "stdout",
     "output_type": "stream",
     "text": [
      "Epoch 420/500 — Recon: 0.0992, Disc_Cat: 1.3708, Gen_Cat: 1.1447, Disc_Style: 1.3863, Gen_Style: 0.6932, SemiSup: 0.0084\n",
      "Validation Accuracy: 99.07%\n",
      "\n",
      "Weights saved to semisupervised_results/500_epochs_adam_results_run_2_noise/weights_*.pth\n"
     ]
    },
    {
     "data": {
      "application/vnd.jupyter.widget-view+json": {
       "model_id": "d0c79a88351347fc80f6aada9575f445",
       "version_major": 2,
       "version_minor": 0
      },
      "text/plain": [
       "Epoch [421/500]:   0%|          | 0/500 [00:00<?, ?it/s]"
      ]
     },
     "metadata": {},
     "output_type": "display_data"
    },
    {
     "name": "stdout",
     "output_type": "stream",
     "text": [
      "Epoch 421/500 — Recon: 0.0992, Disc_Cat: 1.3712, Gen_Cat: 1.1381, Disc_Style: 1.3863, Gen_Style: 0.6932, SemiSup: 0.0078\n",
      "Validation Accuracy: 99.08%\n",
      "\n",
      "Weights saved to semisupervised_results/500_epochs_adam_results_run_2_noise/weights_*.pth\n"
     ]
    },
    {
     "data": {
      "application/vnd.jupyter.widget-view+json": {
       "model_id": "0caa46d34ca542b382fc486a0c83462d",
       "version_major": 2,
       "version_minor": 0
      },
      "text/plain": [
       "Epoch [422/500]:   0%|          | 0/500 [00:00<?, ?it/s]"
      ]
     },
     "metadata": {},
     "output_type": "display_data"
    },
    {
     "name": "stdout",
     "output_type": "stream",
     "text": [
      "Epoch 422/500 — Recon: 0.0993, Disc_Cat: 1.3713, Gen_Cat: 1.1537, Disc_Style: 1.3863, Gen_Style: 0.6932, SemiSup: 0.0085\n",
      "Validation Accuracy: 99.03%\n",
      "\n",
      "Weights saved to semisupervised_results/500_epochs_adam_results_run_2_noise/weights_*.pth\n"
     ]
    },
    {
     "data": {
      "application/vnd.jupyter.widget-view+json": {
       "model_id": "0d6b9930617a4083973d69273c141ad6",
       "version_major": 2,
       "version_minor": 0
      },
      "text/plain": [
       "Epoch [423/500]:   0%|          | 0/500 [00:00<?, ?it/s]"
      ]
     },
     "metadata": {},
     "output_type": "display_data"
    },
    {
     "name": "stdout",
     "output_type": "stream",
     "text": [
      "Epoch 423/500 — Recon: 0.0991, Disc_Cat: 1.3700, Gen_Cat: 1.1848, Disc_Style: 1.3863, Gen_Style: 0.6931, SemiSup: 0.0094\n",
      "Validation Accuracy: 99.03%\n",
      "\n",
      "Weights saved to semisupervised_results/500_epochs_adam_results_run_2_noise/weights_*.pth\n"
     ]
    },
    {
     "data": {
      "application/vnd.jupyter.widget-view+json": {
       "model_id": "e6adf6757cb84370b9f12600b290dbd1",
       "version_major": 2,
       "version_minor": 0
      },
      "text/plain": [
       "Epoch [424/500]:   0%|          | 0/500 [00:00<?, ?it/s]"
      ]
     },
     "metadata": {},
     "output_type": "display_data"
    },
    {
     "name": "stdout",
     "output_type": "stream",
     "text": [
      "Epoch 424/500 — Recon: 0.0992, Disc_Cat: 1.3714, Gen_Cat: 1.1296, Disc_Style: 1.3863, Gen_Style: 0.6932, SemiSup: 0.0084\n",
      "Validation Accuracy: 99.04%\n",
      "\n",
      "Weights saved to semisupervised_results/500_epochs_adam_results_run_2_noise/weights_*.pth\n"
     ]
    },
    {
     "data": {
      "application/vnd.jupyter.widget-view+json": {
       "model_id": "2848d919ac1d4a81a44063f4b5a2dbc6",
       "version_major": 2,
       "version_minor": 0
      },
      "text/plain": [
       "Epoch [425/500]:   0%|          | 0/500 [00:00<?, ?it/s]"
      ]
     },
     "metadata": {},
     "output_type": "display_data"
    },
    {
     "name": "stdout",
     "output_type": "stream",
     "text": [
      "Epoch 425/500 — Recon: 0.0991, Disc_Cat: 1.3699, Gen_Cat: 1.1821, Disc_Style: 1.3863, Gen_Style: 0.6931, SemiSup: 0.0092\n",
      "Validation Accuracy: 98.98%\n",
      "\n",
      "Weights saved to semisupervised_results/500_epochs_adam_results_run_2_noise/weights_*.pth\n"
     ]
    },
    {
     "data": {
      "application/vnd.jupyter.widget-view+json": {
       "model_id": "ad3a082edee343f78389c4dde8a9d64c",
       "version_major": 2,
       "version_minor": 0
      },
      "text/plain": [
       "Epoch [426/500]:   0%|          | 0/500 [00:00<?, ?it/s]"
      ]
     },
     "metadata": {},
     "output_type": "display_data"
    },
    {
     "name": "stdout",
     "output_type": "stream",
     "text": [
      "Epoch 426/500 — Recon: 0.0991, Disc_Cat: 1.3713, Gen_Cat: 1.1387, Disc_Style: 1.3863, Gen_Style: 0.6932, SemiSup: 0.0072\n",
      "Validation Accuracy: 99.09%\n",
      "\n",
      "Weights saved to semisupervised_results/500_epochs_adam_results_run_2_noise/weights_*.pth\n"
     ]
    },
    {
     "data": {
      "application/vnd.jupyter.widget-view+json": {
       "model_id": "f677641f2f3849e69208efb7601aed42",
       "version_major": 2,
       "version_minor": 0
      },
      "text/plain": [
       "Epoch [427/500]:   0%|          | 0/500 [00:00<?, ?it/s]"
      ]
     },
     "metadata": {},
     "output_type": "display_data"
    },
    {
     "name": "stdout",
     "output_type": "stream",
     "text": [
      "Epoch 427/500 — Recon: 0.0991, Disc_Cat: 1.3709, Gen_Cat: 1.1434, Disc_Style: 1.3863, Gen_Style: 0.6931, SemiSup: 0.0092\n",
      "Validation Accuracy: 99.04%\n",
      "\n",
      "Weights saved to semisupervised_results/500_epochs_adam_results_run_2_noise/weights_*.pth\n"
     ]
    },
    {
     "data": {
      "application/vnd.jupyter.widget-view+json": {
       "model_id": "d413347a0d504447b8b2c2ab67b8824d",
       "version_major": 2,
       "version_minor": 0
      },
      "text/plain": [
       "Epoch [428/500]:   0%|          | 0/500 [00:00<?, ?it/s]"
      ]
     },
     "metadata": {},
     "output_type": "display_data"
    },
    {
     "name": "stdout",
     "output_type": "stream",
     "text": [
      "Epoch 428/500 — Recon: 0.0992, Disc_Cat: 1.3703, Gen_Cat: 1.1556, Disc_Style: 1.3863, Gen_Style: 0.6932, SemiSup: 0.0105\n",
      "Validation Accuracy: 99.01%\n",
      "\n",
      "Weights saved to semisupervised_results/500_epochs_adam_results_run_2_noise/weights_*.pth\n"
     ]
    },
    {
     "data": {
      "application/vnd.jupyter.widget-view+json": {
       "model_id": "7583e97492f84ffb971cc977bff60bfd",
       "version_major": 2,
       "version_minor": 0
      },
      "text/plain": [
       "Epoch [429/500]:   0%|          | 0/500 [00:00<?, ?it/s]"
      ]
     },
     "metadata": {},
     "output_type": "display_data"
    },
    {
     "name": "stdout",
     "output_type": "stream",
     "text": [
      "Epoch 429/500 — Recon: 0.0992, Disc_Cat: 1.3710, Gen_Cat: 1.1672, Disc_Style: 1.3863, Gen_Style: 0.6932, SemiSup: 0.0087\n",
      "Validation Accuracy: 98.95%\n",
      "\n",
      "Weights saved to semisupervised_results/500_epochs_adam_results_run_2_noise/weights_*.pth\n"
     ]
    },
    {
     "data": {
      "application/vnd.jupyter.widget-view+json": {
       "model_id": "4bfcfe026cff4b8e94d302fe2aff9e04",
       "version_major": 2,
       "version_minor": 0
      },
      "text/plain": [
       "Epoch [430/500]:   0%|          | 0/500 [00:00<?, ?it/s]"
      ]
     },
     "metadata": {},
     "output_type": "display_data"
    },
    {
     "name": "stdout",
     "output_type": "stream",
     "text": [
      "Epoch 430/500 — Recon: 0.0992, Disc_Cat: 1.3720, Gen_Cat: 1.1155, Disc_Style: 1.3863, Gen_Style: 0.6931, SemiSup: 0.0079\n",
      "Validation Accuracy: 98.97%\n",
      "\n",
      "Weights saved to semisupervised_results/500_epochs_adam_results_run_2_noise/weights_*.pth\n"
     ]
    },
    {
     "data": {
      "application/vnd.jupyter.widget-view+json": {
       "model_id": "f44b5aed1c654e5ba24f5a4df2abe199",
       "version_major": 2,
       "version_minor": 0
      },
      "text/plain": [
       "Epoch [431/500]:   0%|          | 0/500 [00:00<?, ?it/s]"
      ]
     },
     "metadata": {},
     "output_type": "display_data"
    },
    {
     "name": "stdout",
     "output_type": "stream",
     "text": [
      "Epoch 431/500 — Recon: 0.0992, Disc_Cat: 1.3708, Gen_Cat: 1.1475, Disc_Style: 1.3863, Gen_Style: 0.6932, SemiSup: 0.0110\n",
      "Validation Accuracy: 99.07%\n",
      "\n",
      "Weights saved to semisupervised_results/500_epochs_adam_results_run_2_noise/weights_*.pth\n"
     ]
    },
    {
     "data": {
      "application/vnd.jupyter.widget-view+json": {
       "model_id": "2be50f61bb5a4b9e88e2132c3addcd0e",
       "version_major": 2,
       "version_minor": 0
      },
      "text/plain": [
       "Epoch [432/500]:   0%|          | 0/500 [00:00<?, ?it/s]"
      ]
     },
     "metadata": {},
     "output_type": "display_data"
    },
    {
     "name": "stdout",
     "output_type": "stream",
     "text": [
      "Epoch 432/500 — Recon: 0.0992, Disc_Cat: 1.3712, Gen_Cat: 1.1317, Disc_Style: 1.3864, Gen_Style: 0.6932, SemiSup: 0.0090\n",
      "Validation Accuracy: 99.02%\n",
      "\n",
      "Weights saved to semisupervised_results/500_epochs_adam_results_run_2_noise/weights_*.pth\n"
     ]
    },
    {
     "data": {
      "application/vnd.jupyter.widget-view+json": {
       "model_id": "323f9e2a9e0948d4944c09776f2e30bd",
       "version_major": 2,
       "version_minor": 0
      },
      "text/plain": [
       "Epoch [433/500]:   0%|          | 0/500 [00:00<?, ?it/s]"
      ]
     },
     "metadata": {},
     "output_type": "display_data"
    },
    {
     "name": "stdout",
     "output_type": "stream",
     "text": [
      "Epoch 433/500 — Recon: 0.0990, Disc_Cat: 1.3705, Gen_Cat: 1.1627, Disc_Style: 1.3863, Gen_Style: 0.6931, SemiSup: 0.0082\n",
      "Validation Accuracy: 98.98%\n",
      "\n",
      "Weights saved to semisupervised_results/500_epochs_adam_results_run_2_noise/weights_*.pth\n"
     ]
    },
    {
     "data": {
      "application/vnd.jupyter.widget-view+json": {
       "model_id": "1b64671319a644f3895e057d24e74819",
       "version_major": 2,
       "version_minor": 0
      },
      "text/plain": [
       "Epoch [434/500]:   0%|          | 0/500 [00:00<?, ?it/s]"
      ]
     },
     "metadata": {},
     "output_type": "display_data"
    },
    {
     "name": "stdout",
     "output_type": "stream",
     "text": [
      "Epoch 434/500 — Recon: 0.0992, Disc_Cat: 1.3701, Gen_Cat: 1.1558, Disc_Style: 1.3863, Gen_Style: 0.6932, SemiSup: 0.0094\n",
      "Validation Accuracy: 98.99%\n",
      "\n",
      "Weights saved to semisupervised_results/500_epochs_adam_results_run_2_noise/weights_*.pth\n"
     ]
    },
    {
     "data": {
      "application/vnd.jupyter.widget-view+json": {
       "model_id": "b0b6d35df3c4476e9040581e78fdcc3f",
       "version_major": 2,
       "version_minor": 0
      },
      "text/plain": [
       "Epoch [435/500]:   0%|          | 0/500 [00:00<?, ?it/s]"
      ]
     },
     "metadata": {},
     "output_type": "display_data"
    },
    {
     "name": "stdout",
     "output_type": "stream",
     "text": [
      "Epoch 435/500 — Recon: 0.0992, Disc_Cat: 1.3705, Gen_Cat: 1.1409, Disc_Style: 1.3863, Gen_Style: 0.6932, SemiSup: 0.0091\n",
      "Validation Accuracy: 98.90%\n",
      "\n",
      "Weights saved to semisupervised_results/500_epochs_adam_results_run_2_noise/weights_*.pth\n"
     ]
    },
    {
     "data": {
      "application/vnd.jupyter.widget-view+json": {
       "model_id": "80b477db008c4013b7dc42a3fc9e9aa6",
       "version_major": 2,
       "version_minor": 0
      },
      "text/plain": [
       "Epoch [436/500]:   0%|          | 0/500 [00:00<?, ?it/s]"
      ]
     },
     "metadata": {},
     "output_type": "display_data"
    },
    {
     "name": "stdout",
     "output_type": "stream",
     "text": [
      "Epoch 436/500 — Recon: 0.0991, Disc_Cat: 1.3717, Gen_Cat: 1.1276, Disc_Style: 1.3863, Gen_Style: 0.6931, SemiSup: 0.0086\n",
      "Validation Accuracy: 99.01%\n",
      "\n",
      "Weights saved to semisupervised_results/500_epochs_adam_results_run_2_noise/weights_*.pth\n"
     ]
    },
    {
     "data": {
      "application/vnd.jupyter.widget-view+json": {
       "model_id": "4d2d4f9095004ed69870e1313724114d",
       "version_major": 2,
       "version_minor": 0
      },
      "text/plain": [
       "Epoch [437/500]:   0%|          | 0/500 [00:00<?, ?it/s]"
      ]
     },
     "metadata": {},
     "output_type": "display_data"
    },
    {
     "name": "stdout",
     "output_type": "stream",
     "text": [
      "Epoch 437/500 — Recon: 0.0992, Disc_Cat: 1.3727, Gen_Cat: 1.1041, Disc_Style: 1.3863, Gen_Style: 0.6932, SemiSup: 0.0097\n",
      "Validation Accuracy: 98.93%\n",
      "\n",
      "Weights saved to semisupervised_results/500_epochs_adam_results_run_2_noise/weights_*.pth\n"
     ]
    },
    {
     "data": {
      "application/vnd.jupyter.widget-view+json": {
       "model_id": "0810a12ca0a8491dabcb6e6f8a1602d5",
       "version_major": 2,
       "version_minor": 0
      },
      "text/plain": [
       "Epoch [438/500]:   0%|          | 0/500 [00:00<?, ?it/s]"
      ]
     },
     "metadata": {},
     "output_type": "display_data"
    },
    {
     "name": "stdout",
     "output_type": "stream",
     "text": [
      "Epoch 438/500 — Recon: 0.0989, Disc_Cat: 1.3720, Gen_Cat: 1.1191, Disc_Style: 1.3863, Gen_Style: 0.6931, SemiSup: 0.0079\n",
      "Validation Accuracy: 99.05%\n",
      "\n",
      "Weights saved to semisupervised_results/500_epochs_adam_results_run_2_noise/weights_*.pth\n"
     ]
    },
    {
     "data": {
      "application/vnd.jupyter.widget-view+json": {
       "model_id": "ce2137f8069a4020a27d5bb04f21bda1",
       "version_major": 2,
       "version_minor": 0
      },
      "text/plain": [
       "Epoch [439/500]:   0%|          | 0/500 [00:00<?, ?it/s]"
      ]
     },
     "metadata": {},
     "output_type": "display_data"
    },
    {
     "name": "stdout",
     "output_type": "stream",
     "text": [
      "Epoch 439/500 — Recon: 0.0991, Disc_Cat: 1.3715, Gen_Cat: 1.1285, Disc_Style: 1.3863, Gen_Style: 0.6932, SemiSup: 0.0082\n",
      "Validation Accuracy: 99.06%\n",
      "\n",
      "Weights saved to semisupervised_results/500_epochs_adam_results_run_2_noise/weights_*.pth\n"
     ]
    },
    {
     "data": {
      "application/vnd.jupyter.widget-view+json": {
       "model_id": "02e1c9d0379642d9abea8adffa29a5c5",
       "version_major": 2,
       "version_minor": 0
      },
      "text/plain": [
       "Epoch [440/500]:   0%|          | 0/500 [00:00<?, ?it/s]"
      ]
     },
     "metadata": {},
     "output_type": "display_data"
    },
    {
     "name": "stdout",
     "output_type": "stream",
     "text": [
      "Epoch 440/500 — Recon: 0.0991, Disc_Cat: 1.3706, Gen_Cat: 1.1395, Disc_Style: 1.3863, Gen_Style: 0.6931, SemiSup: 0.0082\n",
      "Validation Accuracy: 99.04%\n",
      "\n",
      "Weights saved to semisupervised_results/500_epochs_adam_results_run_2_noise/weights_*.pth\n"
     ]
    },
    {
     "data": {
      "application/vnd.jupyter.widget-view+json": {
       "model_id": "05b6ae8684d14ef48e8cd46bd26c128a",
       "version_major": 2,
       "version_minor": 0
      },
      "text/plain": [
       "Epoch [441/500]:   0%|          | 0/500 [00:00<?, ?it/s]"
      ]
     },
     "metadata": {},
     "output_type": "display_data"
    },
    {
     "name": "stdout",
     "output_type": "stream",
     "text": [
      "Epoch 441/500 — Recon: 0.0991, Disc_Cat: 1.3705, Gen_Cat: 1.1594, Disc_Style: 1.3863, Gen_Style: 0.6931, SemiSup: 0.0098\n",
      "Validation Accuracy: 99.04%\n",
      "\n",
      "Weights saved to semisupervised_results/500_epochs_adam_results_run_2_noise/weights_*.pth\n"
     ]
    },
    {
     "data": {
      "application/vnd.jupyter.widget-view+json": {
       "model_id": "828f9762c7a34d38b13cd1eee9a36474",
       "version_major": 2,
       "version_minor": 0
      },
      "text/plain": [
       "Epoch [442/500]:   0%|          | 0/500 [00:00<?, ?it/s]"
      ]
     },
     "metadata": {},
     "output_type": "display_data"
    },
    {
     "name": "stdout",
     "output_type": "stream",
     "text": [
      "Epoch 442/500 — Recon: 0.0992, Disc_Cat: 1.3707, Gen_Cat: 1.1221, Disc_Style: 1.3863, Gen_Style: 0.6932, SemiSup: 0.0078\n",
      "Validation Accuracy: 98.93%\n",
      "\n",
      "Weights saved to semisupervised_results/500_epochs_adam_results_run_2_noise/weights_*.pth\n"
     ]
    },
    {
     "data": {
      "application/vnd.jupyter.widget-view+json": {
       "model_id": "02ca0c8f18044044b0d85d40fceed1c5",
       "version_major": 2,
       "version_minor": 0
      },
      "text/plain": [
       "Epoch [443/500]:   0%|          | 0/500 [00:00<?, ?it/s]"
      ]
     },
     "metadata": {},
     "output_type": "display_data"
    },
    {
     "name": "stdout",
     "output_type": "stream",
     "text": [
      "Epoch 443/500 — Recon: 0.0992, Disc_Cat: 1.3707, Gen_Cat: 1.1359, Disc_Style: 1.3863, Gen_Style: 0.6932, SemiSup: 0.0106\n",
      "Validation Accuracy: 99.10%\n",
      "\n",
      "Weights saved to semisupervised_results/500_epochs_adam_results_run_2_noise/weights_*.pth\n"
     ]
    },
    {
     "data": {
      "application/vnd.jupyter.widget-view+json": {
       "model_id": "8dbe4ed282394839bb829cce4b45dc99",
       "version_major": 2,
       "version_minor": 0
      },
      "text/plain": [
       "Epoch [444/500]:   0%|          | 0/500 [00:00<?, ?it/s]"
      ]
     },
     "metadata": {},
     "output_type": "display_data"
    },
    {
     "name": "stdout",
     "output_type": "stream",
     "text": [
      "Epoch 444/500 — Recon: 0.0992, Disc_Cat: 1.3709, Gen_Cat: 1.1484, Disc_Style: 1.3863, Gen_Style: 0.6932, SemiSup: 0.0073\n",
      "Validation Accuracy: 99.07%\n",
      "\n",
      "Weights saved to semisupervised_results/500_epochs_adam_results_run_2_noise/weights_*.pth\n"
     ]
    },
    {
     "data": {
      "application/vnd.jupyter.widget-view+json": {
       "model_id": "51a3e44cf269420ea252a55d5ce62c17",
       "version_major": 2,
       "version_minor": 0
      },
      "text/plain": [
       "Epoch [445/500]:   0%|          | 0/500 [00:00<?, ?it/s]"
      ]
     },
     "metadata": {},
     "output_type": "display_data"
    },
    {
     "name": "stdout",
     "output_type": "stream",
     "text": [
      "Epoch 445/500 — Recon: 0.0990, Disc_Cat: 1.3702, Gen_Cat: 1.1645, Disc_Style: 1.3863, Gen_Style: 0.6932, SemiSup: 0.0093\n",
      "Validation Accuracy: 99.06%\n",
      "\n",
      "Weights saved to semisupervised_results/500_epochs_adam_results_run_2_noise/weights_*.pth\n"
     ]
    },
    {
     "data": {
      "application/vnd.jupyter.widget-view+json": {
       "model_id": "abe6989df7094d79a59f6c4c5936f039",
       "version_major": 2,
       "version_minor": 0
      },
      "text/plain": [
       "Epoch [446/500]:   0%|          | 0/500 [00:00<?, ?it/s]"
      ]
     },
     "metadata": {},
     "output_type": "display_data"
    },
    {
     "name": "stdout",
     "output_type": "stream",
     "text": [
      "Epoch 446/500 — Recon: 0.0991, Disc_Cat: 1.3714, Gen_Cat: 1.1163, Disc_Style: 1.3863, Gen_Style: 0.6932, SemiSup: 0.0091\n",
      "Validation Accuracy: 99.00%\n",
      "\n",
      "Weights saved to semisupervised_results/500_epochs_adam_results_run_2_noise/weights_*.pth\n"
     ]
    },
    {
     "data": {
      "application/vnd.jupyter.widget-view+json": {
       "model_id": "6821a6865a774564a62bdd9cbfa246ab",
       "version_major": 2,
       "version_minor": 0
      },
      "text/plain": [
       "Epoch [447/500]:   0%|          | 0/500 [00:00<?, ?it/s]"
      ]
     },
     "metadata": {},
     "output_type": "display_data"
    },
    {
     "name": "stdout",
     "output_type": "stream",
     "text": [
      "Epoch 447/500 — Recon: 0.0990, Disc_Cat: 1.3721, Gen_Cat: 1.1014, Disc_Style: 1.3863, Gen_Style: 0.6931, SemiSup: 0.0085\n",
      "Validation Accuracy: 99.04%\n",
      "\n",
      "Weights saved to semisupervised_results/500_epochs_adam_results_run_2_noise/weights_*.pth\n"
     ]
    },
    {
     "data": {
      "application/vnd.jupyter.widget-view+json": {
       "model_id": "49a2d3cef90b45729c0708bad2bd9319",
       "version_major": 2,
       "version_minor": 0
      },
      "text/plain": [
       "Epoch [448/500]:   0%|          | 0/500 [00:00<?, ?it/s]"
      ]
     },
     "metadata": {},
     "output_type": "display_data"
    },
    {
     "name": "stdout",
     "output_type": "stream",
     "text": [
      "Epoch 448/500 — Recon: 0.0991, Disc_Cat: 1.3707, Gen_Cat: 1.1450, Disc_Style: 1.3863, Gen_Style: 0.6932, SemiSup: 0.0088\n",
      "Validation Accuracy: 98.99%\n",
      "\n",
      "Weights saved to semisupervised_results/500_epochs_adam_results_run_2_noise/weights_*.pth\n"
     ]
    },
    {
     "data": {
      "application/vnd.jupyter.widget-view+json": {
       "model_id": "ef30b1d8c1ca46aea68075d5791006b6",
       "version_major": 2,
       "version_minor": 0
      },
      "text/plain": [
       "Epoch [449/500]:   0%|          | 0/500 [00:00<?, ?it/s]"
      ]
     },
     "metadata": {},
     "output_type": "display_data"
    },
    {
     "name": "stdout",
     "output_type": "stream",
     "text": [
      "Epoch 449/500 — Recon: 0.0991, Disc_Cat: 1.3707, Gen_Cat: 1.1290, Disc_Style: 1.3863, Gen_Style: 0.6932, SemiSup: 0.0088\n",
      "Validation Accuracy: 99.08%\n",
      "\n",
      "Weights saved to semisupervised_results/500_epochs_adam_results_run_2_noise/weights_*.pth\n"
     ]
    },
    {
     "data": {
      "application/vnd.jupyter.widget-view+json": {
       "model_id": "962467b8938a4eba95c9880b69407008",
       "version_major": 2,
       "version_minor": 0
      },
      "text/plain": [
       "Epoch [450/500]:   0%|          | 0/500 [00:00<?, ?it/s]"
      ]
     },
     "metadata": {},
     "output_type": "display_data"
    },
    {
     "name": "stdout",
     "output_type": "stream",
     "text": [
      "Epoch 450/500 — Recon: 0.0990, Disc_Cat: 1.3721, Gen_Cat: 1.1114, Disc_Style: 1.3863, Gen_Style: 0.6931, SemiSup: 0.0090\n",
      "Validation Accuracy: 99.09%\n",
      "\n",
      "Weights saved to semisupervised_results/500_epochs_adam_results_run_2_noise/weights_epoch_450_*.pth\n",
      "Weights saved to semisupervised_results/500_epochs_adam_results_run_2_noise/weights_*.pth\n"
     ]
    },
    {
     "data": {
      "application/vnd.jupyter.widget-view+json": {
       "model_id": "7770f49f75e641afa2418c0f1d4608fe",
       "version_major": 2,
       "version_minor": 0
      },
      "text/plain": [
       "Epoch [451/500]:   0%|          | 0/500 [00:00<?, ?it/s]"
      ]
     },
     "metadata": {},
     "output_type": "display_data"
    },
    {
     "name": "stdout",
     "output_type": "stream",
     "text": [
      "Epoch 451/500 — Recon: 0.0991, Disc_Cat: 1.3723, Gen_Cat: 1.1091, Disc_Style: 1.3863, Gen_Style: 0.6932, SemiSup: 0.0082\n",
      "Validation Accuracy: 98.94%\n",
      "\n",
      "Weights saved to semisupervised_results/500_epochs_adam_results_run_2_noise/weights_*.pth\n"
     ]
    },
    {
     "data": {
      "application/vnd.jupyter.widget-view+json": {
       "model_id": "db4432d76be348b2b7e9f8e6d227d30d",
       "version_major": 2,
       "version_minor": 0
      },
      "text/plain": [
       "Epoch [452/500]:   0%|          | 0/500 [00:00<?, ?it/s]"
      ]
     },
     "metadata": {},
     "output_type": "display_data"
    },
    {
     "name": "stdout",
     "output_type": "stream",
     "text": [
      "Epoch 452/500 — Recon: 0.0991, Disc_Cat: 1.3709, Gen_Cat: 1.1481, Disc_Style: 1.3863, Gen_Style: 0.6931, SemiSup: 0.0089\n",
      "Validation Accuracy: 99.03%\n",
      "\n",
      "Weights saved to semisupervised_results/500_epochs_adam_results_run_2_noise/weights_*.pth\n"
     ]
    },
    {
     "data": {
      "application/vnd.jupyter.widget-view+json": {
       "model_id": "96389b23f56144e18779a660cb3cd26d",
       "version_major": 2,
       "version_minor": 0
      },
      "text/plain": [
       "Epoch [453/500]:   0%|          | 0/500 [00:00<?, ?it/s]"
      ]
     },
     "metadata": {},
     "output_type": "display_data"
    },
    {
     "name": "stdout",
     "output_type": "stream",
     "text": [
      "Epoch 453/500 — Recon: 0.0992, Disc_Cat: 1.3723, Gen_Cat: 1.1096, Disc_Style: 1.3863, Gen_Style: 0.6931, SemiSup: 0.0121\n",
      "Validation Accuracy: 98.97%\n",
      "\n",
      "Weights saved to semisupervised_results/500_epochs_adam_results_run_2_noise/weights_*.pth\n"
     ]
    },
    {
     "data": {
      "application/vnd.jupyter.widget-view+json": {
       "model_id": "96349bcdf53d4611b13d12a05d267999",
       "version_major": 2,
       "version_minor": 0
      },
      "text/plain": [
       "Epoch [454/500]:   0%|          | 0/500 [00:00<?, ?it/s]"
      ]
     },
     "metadata": {},
     "output_type": "display_data"
    },
    {
     "name": "stdout",
     "output_type": "stream",
     "text": [
      "Epoch 454/500 — Recon: 0.0990, Disc_Cat: 1.3715, Gen_Cat: 1.1079, Disc_Style: 1.3863, Gen_Style: 0.6932, SemiSup: 0.0096\n",
      "Validation Accuracy: 99.02%\n",
      "\n",
      "Weights saved to semisupervised_results/500_epochs_adam_results_run_2_noise/weights_*.pth\n"
     ]
    },
    {
     "data": {
      "application/vnd.jupyter.widget-view+json": {
       "model_id": "78f976fc03624e83a5fa09f420e74311",
       "version_major": 2,
       "version_minor": 0
      },
      "text/plain": [
       "Epoch [455/500]:   0%|          | 0/500 [00:00<?, ?it/s]"
      ]
     },
     "metadata": {},
     "output_type": "display_data"
    },
    {
     "name": "stdout",
     "output_type": "stream",
     "text": [
      "Epoch 455/500 — Recon: 0.0990, Disc_Cat: 1.3705, Gen_Cat: 1.1424, Disc_Style: 1.3863, Gen_Style: 0.6931, SemiSup: 0.0073\n",
      "Validation Accuracy: 99.03%\n",
      "\n",
      "Weights saved to semisupervised_results/500_epochs_adam_results_run_2_noise/weights_*.pth\n"
     ]
    },
    {
     "data": {
      "application/vnd.jupyter.widget-view+json": {
       "model_id": "140537f45be9411fbe556be33ea1e130",
       "version_major": 2,
       "version_minor": 0
      },
      "text/plain": [
       "Epoch [456/500]:   0%|          | 0/500 [00:00<?, ?it/s]"
      ]
     },
     "metadata": {},
     "output_type": "display_data"
    },
    {
     "name": "stdout",
     "output_type": "stream",
     "text": [
      "Epoch 456/500 — Recon: 0.0990, Disc_Cat: 1.3717, Gen_Cat: 1.1227, Disc_Style: 1.3863, Gen_Style: 0.6932, SemiSup: 0.0096\n",
      "Validation Accuracy: 99.05%\n",
      "\n",
      "Weights saved to semisupervised_results/500_epochs_adam_results_run_2_noise/weights_*.pth\n"
     ]
    },
    {
     "data": {
      "application/vnd.jupyter.widget-view+json": {
       "model_id": "8b203eb922ae429093b90a4bb1a6db08",
       "version_major": 2,
       "version_minor": 0
      },
      "text/plain": [
       "Epoch [457/500]:   0%|          | 0/500 [00:00<?, ?it/s]"
      ]
     },
     "metadata": {},
     "output_type": "display_data"
    },
    {
     "name": "stdout",
     "output_type": "stream",
     "text": [
      "Epoch 457/500 — Recon: 0.0990, Disc_Cat: 1.3716, Gen_Cat: 1.1248, Disc_Style: 1.3863, Gen_Style: 0.6932, SemiSup: 0.0084\n",
      "Validation Accuracy: 99.02%\n",
      "\n",
      "Weights saved to semisupervised_results/500_epochs_adam_results_run_2_noise/weights_*.pth\n"
     ]
    },
    {
     "data": {
      "application/vnd.jupyter.widget-view+json": {
       "model_id": "f2e353bd77254735ad9b5c0ad8eddf5e",
       "version_major": 2,
       "version_minor": 0
      },
      "text/plain": [
       "Epoch [458/500]:   0%|          | 0/500 [00:00<?, ?it/s]"
      ]
     },
     "metadata": {},
     "output_type": "display_data"
    },
    {
     "name": "stdout",
     "output_type": "stream",
     "text": [
      "Epoch 458/500 — Recon: 0.0992, Disc_Cat: 1.3719, Gen_Cat: 1.1082, Disc_Style: 1.3863, Gen_Style: 0.6932, SemiSup: 0.0100\n",
      "Validation Accuracy: 98.96%\n",
      "\n",
      "Weights saved to semisupervised_results/500_epochs_adam_results_run_2_noise/weights_*.pth\n"
     ]
    },
    {
     "data": {
      "application/vnd.jupyter.widget-view+json": {
       "model_id": "b765e26386794d749c3cc571e784f523",
       "version_major": 2,
       "version_minor": 0
      },
      "text/plain": [
       "Epoch [459/500]:   0%|          | 0/500 [00:00<?, ?it/s]"
      ]
     },
     "metadata": {},
     "output_type": "display_data"
    },
    {
     "name": "stdout",
     "output_type": "stream",
     "text": [
      "Epoch 459/500 — Recon: 0.0990, Disc_Cat: 1.3724, Gen_Cat: 1.1076, Disc_Style: 1.3863, Gen_Style: 0.6932, SemiSup: 0.0087\n",
      "Validation Accuracy: 99.03%\n",
      "\n",
      "Weights saved to semisupervised_results/500_epochs_adam_results_run_2_noise/weights_*.pth\n"
     ]
    },
    {
     "data": {
      "application/vnd.jupyter.widget-view+json": {
       "model_id": "2d48dcc98f3b47ddbf8e51f25acbbd47",
       "version_major": 2,
       "version_minor": 0
      },
      "text/plain": [
       "Epoch [460/500]:   0%|          | 0/500 [00:00<?, ?it/s]"
      ]
     },
     "metadata": {},
     "output_type": "display_data"
    },
    {
     "name": "stdout",
     "output_type": "stream",
     "text": [
      "Epoch 460/500 — Recon: 0.0989, Disc_Cat: 1.3710, Gen_Cat: 1.1224, Disc_Style: 1.3863, Gen_Style: 0.6932, SemiSup: 0.0084\n",
      "Validation Accuracy: 99.00%\n",
      "\n",
      "Weights saved to semisupervised_results/500_epochs_adam_results_run_2_noise/weights_*.pth\n"
     ]
    },
    {
     "data": {
      "application/vnd.jupyter.widget-view+json": {
       "model_id": "efa206f0f296430f88115e18f4435753",
       "version_major": 2,
       "version_minor": 0
      },
      "text/plain": [
       "Epoch [461/500]:   0%|          | 0/500 [00:00<?, ?it/s]"
      ]
     },
     "metadata": {},
     "output_type": "display_data"
    },
    {
     "name": "stdout",
     "output_type": "stream",
     "text": [
      "Epoch 461/500 — Recon: 0.0991, Disc_Cat: 1.3708, Gen_Cat: 1.1243, Disc_Style: 1.3863, Gen_Style: 0.6932, SemiSup: 0.0076\n",
      "Validation Accuracy: 99.00%\n",
      "\n",
      "Weights saved to semisupervised_results/500_epochs_adam_results_run_2_noise/weights_*.pth\n"
     ]
    },
    {
     "data": {
      "application/vnd.jupyter.widget-view+json": {
       "model_id": "88b37004c5594f49bb077859e6a326e9",
       "version_major": 2,
       "version_minor": 0
      },
      "text/plain": [
       "Epoch [462/500]:   0%|          | 0/500 [00:00<?, ?it/s]"
      ]
     },
     "metadata": {},
     "output_type": "display_data"
    },
    {
     "name": "stdout",
     "output_type": "stream",
     "text": [
      "Epoch 462/500 — Recon: 0.0989, Disc_Cat: 1.3724, Gen_Cat: 1.0959, Disc_Style: 1.3863, Gen_Style: 0.6931, SemiSup: 0.0084\n",
      "Validation Accuracy: 99.02%\n",
      "\n",
      "Weights saved to semisupervised_results/500_epochs_adam_results_run_2_noise/weights_*.pth\n"
     ]
    },
    {
     "data": {
      "application/vnd.jupyter.widget-view+json": {
       "model_id": "a326a52e7d104f14ac52eca64e2ed20b",
       "version_major": 2,
       "version_minor": 0
      },
      "text/plain": [
       "Epoch [463/500]:   0%|          | 0/500 [00:00<?, ?it/s]"
      ]
     },
     "metadata": {},
     "output_type": "display_data"
    },
    {
     "name": "stdout",
     "output_type": "stream",
     "text": [
      "Epoch 463/500 — Recon: 0.0991, Disc_Cat: 1.3709, Gen_Cat: 1.1239, Disc_Style: 1.3863, Gen_Style: 0.6931, SemiSup: 0.0087\n",
      "Validation Accuracy: 99.07%\n",
      "\n",
      "Weights saved to semisupervised_results/500_epochs_adam_results_run_2_noise/weights_*.pth\n"
     ]
    },
    {
     "data": {
      "application/vnd.jupyter.widget-view+json": {
       "model_id": "b66776cd7d63465ab83699d810049c61",
       "version_major": 2,
       "version_minor": 0
      },
      "text/plain": [
       "Epoch [464/500]:   0%|          | 0/500 [00:00<?, ?it/s]"
      ]
     },
     "metadata": {},
     "output_type": "display_data"
    },
    {
     "name": "stdout",
     "output_type": "stream",
     "text": [
      "Epoch 464/500 — Recon: 0.0991, Disc_Cat: 1.3706, Gen_Cat: 1.1313, Disc_Style: 1.3863, Gen_Style: 0.6932, SemiSup: 0.0079\n",
      "Validation Accuracy: 99.02%\n",
      "\n",
      "Weights saved to semisupervised_results/500_epochs_adam_results_run_2_noise/weights_*.pth\n"
     ]
    },
    {
     "data": {
      "application/vnd.jupyter.widget-view+json": {
       "model_id": "d61395424d054ea392af506f9a3146ba",
       "version_major": 2,
       "version_minor": 0
      },
      "text/plain": [
       "Epoch [465/500]:   0%|          | 0/500 [00:00<?, ?it/s]"
      ]
     },
     "metadata": {},
     "output_type": "display_data"
    },
    {
     "name": "stdout",
     "output_type": "stream",
     "text": [
      "Epoch 465/500 — Recon: 0.0991, Disc_Cat: 1.3717, Gen_Cat: 1.1121, Disc_Style: 1.3863, Gen_Style: 0.6931, SemiSup: 0.0076\n",
      "Validation Accuracy: 99.10%\n",
      "\n",
      "Weights saved to semisupervised_results/500_epochs_adam_results_run_2_noise/weights_*.pth\n"
     ]
    },
    {
     "data": {
      "application/vnd.jupyter.widget-view+json": {
       "model_id": "8371e9f6f7af440d8f764c5680d94aed",
       "version_major": 2,
       "version_minor": 0
      },
      "text/plain": [
       "Epoch [466/500]:   0%|          | 0/500 [00:00<?, ?it/s]"
      ]
     },
     "metadata": {},
     "output_type": "display_data"
    },
    {
     "name": "stdout",
     "output_type": "stream",
     "text": [
      "Epoch 466/500 — Recon: 0.0990, Disc_Cat: 1.3720, Gen_Cat: 1.0853, Disc_Style: 1.3863, Gen_Style: 0.6932, SemiSup: 0.0072\n",
      "Validation Accuracy: 99.02%\n",
      "\n",
      "Weights saved to semisupervised_results/500_epochs_adam_results_run_2_noise/weights_*.pth\n"
     ]
    },
    {
     "data": {
      "application/vnd.jupyter.widget-view+json": {
       "model_id": "c4ceffe8561e450198f8d63e9f5c143d",
       "version_major": 2,
       "version_minor": 0
      },
      "text/plain": [
       "Epoch [467/500]:   0%|          | 0/500 [00:00<?, ?it/s]"
      ]
     },
     "metadata": {},
     "output_type": "display_data"
    },
    {
     "name": "stdout",
     "output_type": "stream",
     "text": [
      "Epoch 467/500 — Recon: 0.0990, Disc_Cat: 1.3720, Gen_Cat: 1.1002, Disc_Style: 1.3863, Gen_Style: 0.6932, SemiSup: 0.0077\n",
      "Validation Accuracy: 99.01%\n",
      "\n",
      "Weights saved to semisupervised_results/500_epochs_adam_results_run_2_noise/weights_*.pth\n"
     ]
    },
    {
     "data": {
      "application/vnd.jupyter.widget-view+json": {
       "model_id": "a095108ffda3485c8ce84cf366f23c8a",
       "version_major": 2,
       "version_minor": 0
      },
      "text/plain": [
       "Epoch [468/500]:   0%|          | 0/500 [00:00<?, ?it/s]"
      ]
     },
     "metadata": {},
     "output_type": "display_data"
    },
    {
     "name": "stdout",
     "output_type": "stream",
     "text": [
      "Epoch 468/500 — Recon: 0.0990, Disc_Cat: 1.3709, Gen_Cat: 1.1470, Disc_Style: 1.3863, Gen_Style: 0.6931, SemiSup: 0.0083\n",
      "Validation Accuracy: 99.09%\n",
      "\n",
      "Weights saved to semisupervised_results/500_epochs_adam_results_run_2_noise/weights_*.pth\n"
     ]
    },
    {
     "data": {
      "application/vnd.jupyter.widget-view+json": {
       "model_id": "c56cb3cadd6740669673ee9a8e71686c",
       "version_major": 2,
       "version_minor": 0
      },
      "text/plain": [
       "Epoch [469/500]:   0%|          | 0/500 [00:00<?, ?it/s]"
      ]
     },
     "metadata": {},
     "output_type": "display_data"
    },
    {
     "name": "stdout",
     "output_type": "stream",
     "text": [
      "Epoch 469/500 — Recon: 0.0989, Disc_Cat: 1.3707, Gen_Cat: 1.1156, Disc_Style: 1.3863, Gen_Style: 0.6932, SemiSup: 0.0076\n",
      "Validation Accuracy: 99.12%\n",
      "\n",
      "Weights saved to semisupervised_results/500_epochs_adam_results_run_2_noise/weights_*.pth\n"
     ]
    },
    {
     "data": {
      "application/vnd.jupyter.widget-view+json": {
       "model_id": "af217e0a363244a3bd79f7c8bf952b1e",
       "version_major": 2,
       "version_minor": 0
      },
      "text/plain": [
       "Epoch [470/500]:   0%|          | 0/500 [00:00<?, ?it/s]"
      ]
     },
     "metadata": {},
     "output_type": "display_data"
    },
    {
     "name": "stdout",
     "output_type": "stream",
     "text": [
      "Epoch 470/500 — Recon: 0.0990, Disc_Cat: 1.3707, Gen_Cat: 1.1199, Disc_Style: 1.3863, Gen_Style: 0.6931, SemiSup: 0.0086\n",
      "Validation Accuracy: 99.08%\n",
      "\n",
      "Weights saved to semisupervised_results/500_epochs_adam_results_run_2_noise/weights_*.pth\n"
     ]
    },
    {
     "data": {
      "application/vnd.jupyter.widget-view+json": {
       "model_id": "31eb51b2ce72426399dc970d0c4ce3ad",
       "version_major": 2,
       "version_minor": 0
      },
      "text/plain": [
       "Epoch [471/500]:   0%|          | 0/500 [00:00<?, ?it/s]"
      ]
     },
     "metadata": {},
     "output_type": "display_data"
    },
    {
     "name": "stdout",
     "output_type": "stream",
     "text": [
      "Epoch 471/500 — Recon: 0.0991, Disc_Cat: 1.3722, Gen_Cat: 1.1032, Disc_Style: 1.3863, Gen_Style: 0.6932, SemiSup: 0.0085\n",
      "Validation Accuracy: 99.00%\n",
      "\n",
      "Weights saved to semisupervised_results/500_epochs_adam_results_run_2_noise/weights_*.pth\n"
     ]
    },
    {
     "data": {
      "application/vnd.jupyter.widget-view+json": {
       "model_id": "1495e90e799d4cac9345b35d8ab9d4a5",
       "version_major": 2,
       "version_minor": 0
      },
      "text/plain": [
       "Epoch [472/500]:   0%|          | 0/500 [00:00<?, ?it/s]"
      ]
     },
     "metadata": {},
     "output_type": "display_data"
    },
    {
     "name": "stdout",
     "output_type": "stream",
     "text": [
      "Epoch 472/500 — Recon: 0.0989, Disc_Cat: 1.3708, Gen_Cat: 1.1373, Disc_Style: 1.3863, Gen_Style: 0.6932, SemiSup: 0.0107\n",
      "Validation Accuracy: 99.00%\n",
      "\n",
      "Weights saved to semisupervised_results/500_epochs_adam_results_run_2_noise/weights_*.pth\n"
     ]
    },
    {
     "data": {
      "application/vnd.jupyter.widget-view+json": {
       "model_id": "e897dea3a1a7492e89b2e02fa9a7d57b",
       "version_major": 2,
       "version_minor": 0
      },
      "text/plain": [
       "Epoch [473/500]:   0%|          | 0/500 [00:00<?, ?it/s]"
      ]
     },
     "metadata": {},
     "output_type": "display_data"
    },
    {
     "name": "stdout",
     "output_type": "stream",
     "text": [
      "Epoch 473/500 — Recon: 0.0990, Disc_Cat: 1.3717, Gen_Cat: 1.1107, Disc_Style: 1.3863, Gen_Style: 0.6932, SemiSup: 0.0072\n",
      "Validation Accuracy: 99.07%\n",
      "\n",
      "Weights saved to semisupervised_results/500_epochs_adam_results_run_2_noise/weights_*.pth\n"
     ]
    },
    {
     "data": {
      "application/vnd.jupyter.widget-view+json": {
       "model_id": "f4c4b8add59d4e7bbcadc4fd74c660ea",
       "version_major": 2,
       "version_minor": 0
      },
      "text/plain": [
       "Epoch [474/500]:   0%|          | 0/500 [00:00<?, ?it/s]"
      ]
     },
     "metadata": {},
     "output_type": "display_data"
    },
    {
     "name": "stdout",
     "output_type": "stream",
     "text": [
      "Epoch 474/500 — Recon: 0.0989, Disc_Cat: 1.3714, Gen_Cat: 1.1060, Disc_Style: 1.3863, Gen_Style: 0.6932, SemiSup: 0.0093\n",
      "Validation Accuracy: 99.06%\n",
      "\n",
      "Weights saved to semisupervised_results/500_epochs_adam_results_run_2_noise/weights_*.pth\n"
     ]
    },
    {
     "data": {
      "application/vnd.jupyter.widget-view+json": {
       "model_id": "e076c4aa4baf4309a99ebaf09d45c91d",
       "version_major": 2,
       "version_minor": 0
      },
      "text/plain": [
       "Epoch [475/500]:   0%|          | 0/500 [00:00<?, ?it/s]"
      ]
     },
     "metadata": {},
     "output_type": "display_data"
    },
    {
     "name": "stdout",
     "output_type": "stream",
     "text": [
      "Epoch 475/500 — Recon: 0.0990, Disc_Cat: 1.3717, Gen_Cat: 1.0894, Disc_Style: 1.3863, Gen_Style: 0.6932, SemiSup: 0.0090\n",
      "Validation Accuracy: 99.15%\n",
      "\n",
      "Weights saved to semisupervised_results/500_epochs_adam_results_run_2_noise/weights_*.pth\n"
     ]
    },
    {
     "data": {
      "application/vnd.jupyter.widget-view+json": {
       "model_id": "affec001a0ff440d9cb7bbb24eb06162",
       "version_major": 2,
       "version_minor": 0
      },
      "text/plain": [
       "Epoch [476/500]:   0%|          | 0/500 [00:00<?, ?it/s]"
      ]
     },
     "metadata": {},
     "output_type": "display_data"
    },
    {
     "name": "stdout",
     "output_type": "stream",
     "text": [
      "Epoch 476/500 — Recon: 0.0989, Disc_Cat: 1.3718, Gen_Cat: 1.0924, Disc_Style: 1.3863, Gen_Style: 0.6932, SemiSup: 0.0072\n",
      "Validation Accuracy: 98.98%\n",
      "\n",
      "Weights saved to semisupervised_results/500_epochs_adam_results_run_2_noise/weights_*.pth\n"
     ]
    },
    {
     "data": {
      "application/vnd.jupyter.widget-view+json": {
       "model_id": "1fedd5eb22e0428aba6abd4b57b68de4",
       "version_major": 2,
       "version_minor": 0
      },
      "text/plain": [
       "Epoch [477/500]:   0%|          | 0/500 [00:00<?, ?it/s]"
      ]
     },
     "metadata": {},
     "output_type": "display_data"
    },
    {
     "name": "stdout",
     "output_type": "stream",
     "text": [
      "Epoch 477/500 — Recon: 0.0991, Disc_Cat: 1.3718, Gen_Cat: 1.1005, Disc_Style: 1.3863, Gen_Style: 0.6932, SemiSup: 0.0075\n",
      "Validation Accuracy: 99.10%\n",
      "\n",
      "Weights saved to semisupervised_results/500_epochs_adam_results_run_2_noise/weights_*.pth\n"
     ]
    },
    {
     "data": {
      "application/vnd.jupyter.widget-view+json": {
       "model_id": "14a8817ad49b4371b9b35ac374795fa8",
       "version_major": 2,
       "version_minor": 0
      },
      "text/plain": [
       "Epoch [478/500]:   0%|          | 0/500 [00:00<?, ?it/s]"
      ]
     },
     "metadata": {},
     "output_type": "display_data"
    },
    {
     "name": "stdout",
     "output_type": "stream",
     "text": [
      "Epoch 478/500 — Recon: 0.0989, Disc_Cat: 1.3711, Gen_Cat: 1.1377, Disc_Style: 1.3863, Gen_Style: 0.6931, SemiSup: 0.0087\n",
      "Validation Accuracy: 99.08%\n",
      "\n",
      "Weights saved to semisupervised_results/500_epochs_adam_results_run_2_noise/weights_*.pth\n"
     ]
    },
    {
     "data": {
      "application/vnd.jupyter.widget-view+json": {
       "model_id": "04360058002649629d9f048cdb17c193",
       "version_major": 2,
       "version_minor": 0
      },
      "text/plain": [
       "Epoch [479/500]:   0%|          | 0/500 [00:00<?, ?it/s]"
      ]
     },
     "metadata": {},
     "output_type": "display_data"
    },
    {
     "name": "stdout",
     "output_type": "stream",
     "text": [
      "Epoch 479/500 — Recon: 0.0992, Disc_Cat: 1.3709, Gen_Cat: 1.1103, Disc_Style: 1.3863, Gen_Style: 0.6932, SemiSup: 0.0084\n",
      "Validation Accuracy: 99.10%\n",
      "\n",
      "Weights saved to semisupervised_results/500_epochs_adam_results_run_2_noise/weights_*.pth\n"
     ]
    },
    {
     "data": {
      "application/vnd.jupyter.widget-view+json": {
       "model_id": "84d60f416d3047ed97887798bc7bb7af",
       "version_major": 2,
       "version_minor": 0
      },
      "text/plain": [
       "Epoch [480/500]:   0%|          | 0/500 [00:00<?, ?it/s]"
      ]
     },
     "metadata": {},
     "output_type": "display_data"
    },
    {
     "name": "stdout",
     "output_type": "stream",
     "text": [
      "Epoch 480/500 — Recon: 0.0990, Disc_Cat: 1.3705, Gen_Cat: 1.1464, Disc_Style: 1.3863, Gen_Style: 0.6931, SemiSup: 0.0088\n",
      "Validation Accuracy: 99.08%\n",
      "\n",
      "Weights saved to semisupervised_results/500_epochs_adam_results_run_2_noise/weights_*.pth\n"
     ]
    },
    {
     "data": {
      "application/vnd.jupyter.widget-view+json": {
       "model_id": "f3eb7fc353fb45d396ae1877620f43ba",
       "version_major": 2,
       "version_minor": 0
      },
      "text/plain": [
       "Epoch [481/500]:   0%|          | 0/500 [00:00<?, ?it/s]"
      ]
     },
     "metadata": {},
     "output_type": "display_data"
    },
    {
     "name": "stdout",
     "output_type": "stream",
     "text": [
      "Epoch 481/500 — Recon: 0.0989, Disc_Cat: 1.3724, Gen_Cat: 1.0821, Disc_Style: 1.3863, Gen_Style: 0.6931, SemiSup: 0.0093\n",
      "Validation Accuracy: 99.14%\n",
      "\n",
      "Weights saved to semisupervised_results/500_epochs_adam_results_run_2_noise/weights_*.pth\n"
     ]
    },
    {
     "data": {
      "application/vnd.jupyter.widget-view+json": {
       "model_id": "4df416862fac4f08b655a12bedde1989",
       "version_major": 2,
       "version_minor": 0
      },
      "text/plain": [
       "Epoch [482/500]:   0%|          | 0/500 [00:00<?, ?it/s]"
      ]
     },
     "metadata": {},
     "output_type": "display_data"
    },
    {
     "name": "stdout",
     "output_type": "stream",
     "text": [
      "Epoch 482/500 — Recon: 0.0991, Disc_Cat: 1.3710, Gen_Cat: 1.1287, Disc_Style: 1.3863, Gen_Style: 0.6932, SemiSup: 0.0078\n",
      "Validation Accuracy: 99.10%\n",
      "\n",
      "Weights saved to semisupervised_results/500_epochs_adam_results_run_2_noise/weights_*.pth\n"
     ]
    },
    {
     "data": {
      "application/vnd.jupyter.widget-view+json": {
       "model_id": "0aa0fb3785924e76ac5dd0cafb725c26",
       "version_major": 2,
       "version_minor": 0
      },
      "text/plain": [
       "Epoch [483/500]:   0%|          | 0/500 [00:00<?, ?it/s]"
      ]
     },
     "metadata": {},
     "output_type": "display_data"
    },
    {
     "name": "stdout",
     "output_type": "stream",
     "text": [
      "Epoch 483/500 — Recon: 0.0990, Disc_Cat: 1.3714, Gen_Cat: 1.1166, Disc_Style: 1.3863, Gen_Style: 0.6932, SemiSup: 0.0090\n",
      "Validation Accuracy: 99.06%\n",
      "\n",
      "Weights saved to semisupervised_results/500_epochs_adam_results_run_2_noise/weights_*.pth\n"
     ]
    },
    {
     "data": {
      "application/vnd.jupyter.widget-view+json": {
       "model_id": "c071013cacaa4309a34ba95ff6c09718",
       "version_major": 2,
       "version_minor": 0
      },
      "text/plain": [
       "Epoch [484/500]:   0%|          | 0/500 [00:00<?, ?it/s]"
      ]
     },
     "metadata": {},
     "output_type": "display_data"
    },
    {
     "name": "stdout",
     "output_type": "stream",
     "text": [
      "Epoch 484/500 — Recon: 0.0989, Disc_Cat: 1.3704, Gen_Cat: 1.1377, Disc_Style: 1.3863, Gen_Style: 0.6932, SemiSup: 0.0083\n",
      "Validation Accuracy: 99.03%\n",
      "\n",
      "Weights saved to semisupervised_results/500_epochs_adam_results_run_2_noise/weights_*.pth\n"
     ]
    },
    {
     "data": {
      "application/vnd.jupyter.widget-view+json": {
       "model_id": "3c2096310dc640499f9765a2692be185",
       "version_major": 2,
       "version_minor": 0
      },
      "text/plain": [
       "Epoch [485/500]:   0%|          | 0/500 [00:00<?, ?it/s]"
      ]
     },
     "metadata": {},
     "output_type": "display_data"
    },
    {
     "name": "stdout",
     "output_type": "stream",
     "text": [
      "Epoch 485/500 — Recon: 0.0990, Disc_Cat: 1.3719, Gen_Cat: 1.1051, Disc_Style: 1.3863, Gen_Style: 0.6932, SemiSup: 0.0095\n",
      "Validation Accuracy: 99.05%\n",
      "\n",
      "Weights saved to semisupervised_results/500_epochs_adam_results_run_2_noise/weights_*.pth\n"
     ]
    },
    {
     "data": {
      "application/vnd.jupyter.widget-view+json": {
       "model_id": "6ea8ef9505844aec95d3f9cbb203a821",
       "version_major": 2,
       "version_minor": 0
      },
      "text/plain": [
       "Epoch [486/500]:   0%|          | 0/500 [00:00<?, ?it/s]"
      ]
     },
     "metadata": {},
     "output_type": "display_data"
    },
    {
     "name": "stdout",
     "output_type": "stream",
     "text": [
      "Epoch 486/500 — Recon: 0.0989, Disc_Cat: 1.3723, Gen_Cat: 1.0916, Disc_Style: 1.3863, Gen_Style: 0.6931, SemiSup: 0.0085\n",
      "Validation Accuracy: 98.96%\n",
      "\n",
      "Weights saved to semisupervised_results/500_epochs_adam_results_run_2_noise/weights_*.pth\n"
     ]
    },
    {
     "data": {
      "application/vnd.jupyter.widget-view+json": {
       "model_id": "e531af60f8cb4c39984903a20ae68975",
       "version_major": 2,
       "version_minor": 0
      },
      "text/plain": [
       "Epoch [487/500]:   0%|          | 0/500 [00:00<?, ?it/s]"
      ]
     },
     "metadata": {},
     "output_type": "display_data"
    },
    {
     "name": "stdout",
     "output_type": "stream",
     "text": [
      "Epoch 487/500 — Recon: 0.0991, Disc_Cat: 1.3705, Gen_Cat: 1.1309, Disc_Style: 1.3863, Gen_Style: 0.6932, SemiSup: 0.0079\n",
      "Validation Accuracy: 99.08%\n",
      "\n",
      "Weights saved to semisupervised_results/500_epochs_adam_results_run_2_noise/weights_*.pth\n"
     ]
    },
    {
     "data": {
      "application/vnd.jupyter.widget-view+json": {
       "model_id": "6304c63acf854382987d25c58016bd2a",
       "version_major": 2,
       "version_minor": 0
      },
      "text/plain": [
       "Epoch [488/500]:   0%|          | 0/500 [00:00<?, ?it/s]"
      ]
     },
     "metadata": {},
     "output_type": "display_data"
    },
    {
     "name": "stdout",
     "output_type": "stream",
     "text": [
      "Epoch 488/500 — Recon: 0.0989, Disc_Cat: 1.3716, Gen_Cat: 1.1077, Disc_Style: 1.3863, Gen_Style: 0.6932, SemiSup: 0.0083\n",
      "Validation Accuracy: 99.06%\n",
      "\n",
      "Weights saved to semisupervised_results/500_epochs_adam_results_run_2_noise/weights_*.pth\n"
     ]
    },
    {
     "data": {
      "application/vnd.jupyter.widget-view+json": {
       "model_id": "a384f52929ff44ccb1a8c95a3c5e3a2b",
       "version_major": 2,
       "version_minor": 0
      },
      "text/plain": [
       "Epoch [489/500]:   0%|          | 0/500 [00:00<?, ?it/s]"
      ]
     },
     "metadata": {},
     "output_type": "display_data"
    },
    {
     "name": "stdout",
     "output_type": "stream",
     "text": [
      "Epoch 489/500 — Recon: 0.0990, Disc_Cat: 1.3720, Gen_Cat: 1.0923, Disc_Style: 1.3863, Gen_Style: 0.6932, SemiSup: 0.0084\n",
      "Validation Accuracy: 99.07%\n",
      "\n",
      "Weights saved to semisupervised_results/500_epochs_adam_results_run_2_noise/weights_*.pth\n"
     ]
    },
    {
     "data": {
      "application/vnd.jupyter.widget-view+json": {
       "model_id": "5cbc4778ebf74d99b98ae711badf3ff9",
       "version_major": 2,
       "version_minor": 0
      },
      "text/plain": [
       "Epoch [490/500]:   0%|          | 0/500 [00:00<?, ?it/s]"
      ]
     },
     "metadata": {},
     "output_type": "display_data"
    },
    {
     "name": "stdout",
     "output_type": "stream",
     "text": [
      "Epoch 490/500 — Recon: 0.0990, Disc_Cat: 1.3715, Gen_Cat: 1.1282, Disc_Style: 1.3863, Gen_Style: 0.6932, SemiSup: 0.0076\n",
      "Validation Accuracy: 98.95%\n",
      "\n",
      "Weights saved to semisupervised_results/500_epochs_adam_results_run_2_noise/weights_*.pth\n"
     ]
    },
    {
     "data": {
      "application/vnd.jupyter.widget-view+json": {
       "model_id": "0e679e41752844f69b04298119f542b2",
       "version_major": 2,
       "version_minor": 0
      },
      "text/plain": [
       "Epoch [491/500]:   0%|          | 0/500 [00:00<?, ?it/s]"
      ]
     },
     "metadata": {},
     "output_type": "display_data"
    },
    {
     "name": "stdout",
     "output_type": "stream",
     "text": [
      "Epoch 491/500 — Recon: 0.0989, Disc_Cat: 1.3714, Gen_Cat: 1.1027, Disc_Style: 1.3863, Gen_Style: 0.6932, SemiSup: 0.0088\n",
      "Validation Accuracy: 98.97%\n",
      "\n",
      "Weights saved to semisupervised_results/500_epochs_adam_results_run_2_noise/weights_*.pth\n"
     ]
    },
    {
     "data": {
      "application/vnd.jupyter.widget-view+json": {
       "model_id": "636a7fee7f984d8ca3188ff09fd833a5",
       "version_major": 2,
       "version_minor": 0
      },
      "text/plain": [
       "Epoch [492/500]:   0%|          | 0/500 [00:00<?, ?it/s]"
      ]
     },
     "metadata": {},
     "output_type": "display_data"
    },
    {
     "name": "stdout",
     "output_type": "stream",
     "text": [
      "Epoch 492/500 — Recon: 0.0990, Disc_Cat: 1.3712, Gen_Cat: 1.1221, Disc_Style: 1.3863, Gen_Style: 0.6931, SemiSup: 0.0088\n",
      "Validation Accuracy: 99.09%\n",
      "\n",
      "Weights saved to semisupervised_results/500_epochs_adam_results_run_2_noise/weights_*.pth\n"
     ]
    },
    {
     "data": {
      "application/vnd.jupyter.widget-view+json": {
       "model_id": "7538724e04e4451480b32777135c61e2",
       "version_major": 2,
       "version_minor": 0
      },
      "text/plain": [
       "Epoch [493/500]:   0%|          | 0/500 [00:00<?, ?it/s]"
      ]
     },
     "metadata": {},
     "output_type": "display_data"
    },
    {
     "name": "stdout",
     "output_type": "stream",
     "text": [
      "Epoch 493/500 — Recon: 0.0990, Disc_Cat: 1.3715, Gen_Cat: 1.0866, Disc_Style: 1.3863, Gen_Style: 0.6931, SemiSup: 0.0078\n",
      "Validation Accuracy: 99.04%\n",
      "\n",
      "Weights saved to semisupervised_results/500_epochs_adam_results_run_2_noise/weights_*.pth\n"
     ]
    },
    {
     "data": {
      "application/vnd.jupyter.widget-view+json": {
       "model_id": "a9e551c06b144d1baeb0661ab37f7350",
       "version_major": 2,
       "version_minor": 0
      },
      "text/plain": [
       "Epoch [494/500]:   0%|          | 0/500 [00:00<?, ?it/s]"
      ]
     },
     "metadata": {},
     "output_type": "display_data"
    },
    {
     "name": "stdout",
     "output_type": "stream",
     "text": [
      "Epoch 494/500 — Recon: 0.0990, Disc_Cat: 1.3715, Gen_Cat: 1.1113, Disc_Style: 1.3863, Gen_Style: 0.6933, SemiSup: 0.0089\n",
      "Validation Accuracy: 99.06%\n",
      "\n",
      "Weights saved to semisupervised_results/500_epochs_adam_results_run_2_noise/weights_*.pth\n"
     ]
    },
    {
     "data": {
      "application/vnd.jupyter.widget-view+json": {
       "model_id": "8b03d4aa49904416835b2b317e8ba966",
       "version_major": 2,
       "version_minor": 0
      },
      "text/plain": [
       "Epoch [495/500]:   0%|          | 0/500 [00:00<?, ?it/s]"
      ]
     },
     "metadata": {},
     "output_type": "display_data"
    },
    {
     "name": "stdout",
     "output_type": "stream",
     "text": [
      "Epoch 495/500 — Recon: 0.0989, Disc_Cat: 1.3726, Gen_Cat: 1.0902, Disc_Style: 1.3863, Gen_Style: 0.6932, SemiSup: 0.0091\n",
      "Validation Accuracy: 98.96%\n",
      "\n",
      "Weights saved to semisupervised_results/500_epochs_adam_results_run_2_noise/weights_*.pth\n"
     ]
    },
    {
     "data": {
      "application/vnd.jupyter.widget-view+json": {
       "model_id": "2e99ae4091b746658466e63ccbb04205",
       "version_major": 2,
       "version_minor": 0
      },
      "text/plain": [
       "Epoch [496/500]:   0%|          | 0/500 [00:00<?, ?it/s]"
      ]
     },
     "metadata": {},
     "output_type": "display_data"
    },
    {
     "name": "stdout",
     "output_type": "stream",
     "text": [
      "Epoch 496/500 — Recon: 0.0989, Disc_Cat: 1.3720, Gen_Cat: 1.0933, Disc_Style: 1.3863, Gen_Style: 0.6931, SemiSup: 0.0085\n",
      "Validation Accuracy: 99.04%\n",
      "\n",
      "Weights saved to semisupervised_results/500_epochs_adam_results_run_2_noise/weights_*.pth\n"
     ]
    },
    {
     "data": {
      "application/vnd.jupyter.widget-view+json": {
       "model_id": "de382afe39bc40edaa2231749f89ce9c",
       "version_major": 2,
       "version_minor": 0
      },
      "text/plain": [
       "Epoch [497/500]:   0%|          | 0/500 [00:00<?, ?it/s]"
      ]
     },
     "metadata": {},
     "output_type": "display_data"
    },
    {
     "name": "stdout",
     "output_type": "stream",
     "text": [
      "Epoch 497/500 — Recon: 0.0990, Disc_Cat: 1.3712, Gen_Cat: 1.1194, Disc_Style: 1.3863, Gen_Style: 0.6932, SemiSup: 0.0076\n",
      "Validation Accuracy: 99.02%\n",
      "\n",
      "Weights saved to semisupervised_results/500_epochs_adam_results_run_2_noise/weights_*.pth\n"
     ]
    },
    {
     "data": {
      "application/vnd.jupyter.widget-view+json": {
       "model_id": "ba575a6a15384935a09454c0d1933642",
       "version_major": 2,
       "version_minor": 0
      },
      "text/plain": [
       "Epoch [498/500]:   0%|          | 0/500 [00:00<?, ?it/s]"
      ]
     },
     "metadata": {},
     "output_type": "display_data"
    },
    {
     "name": "stdout",
     "output_type": "stream",
     "text": [
      "Epoch 498/500 — Recon: 0.0990, Disc_Cat: 1.3722, Gen_Cat: 1.0882, Disc_Style: 1.3863, Gen_Style: 0.6932, SemiSup: 0.0083\n",
      "Validation Accuracy: 99.07%\n",
      "\n",
      "Weights saved to semisupervised_results/500_epochs_adam_results_run_2_noise/weights_*.pth\n"
     ]
    },
    {
     "data": {
      "application/vnd.jupyter.widget-view+json": {
       "model_id": "21c83f89a4b14c6f8d58254885b4ad98",
       "version_major": 2,
       "version_minor": 0
      },
      "text/plain": [
       "Epoch [499/500]:   0%|          | 0/500 [00:00<?, ?it/s]"
      ]
     },
     "metadata": {},
     "output_type": "display_data"
    },
    {
     "name": "stdout",
     "output_type": "stream",
     "text": [
      "Epoch 499/500 — Recon: 0.0989, Disc_Cat: 1.3715, Gen_Cat: 1.1176, Disc_Style: 1.3863, Gen_Style: 0.6932, SemiSup: 0.0077\n",
      "Validation Accuracy: 98.96%\n",
      "\n",
      "Weights saved to semisupervised_results/500_epochs_adam_results_run_2_noise/weights_*.pth\n"
     ]
    },
    {
     "data": {
      "application/vnd.jupyter.widget-view+json": {
       "model_id": "f94504f65d024931b17b9ae300adfff9",
       "version_major": 2,
       "version_minor": 0
      },
      "text/plain": [
       "Epoch [500/500]:   0%|          | 0/500 [00:00<?, ?it/s]"
      ]
     },
     "metadata": {},
     "output_type": "display_data"
    },
    {
     "name": "stdout",
     "output_type": "stream",
     "text": [
      "Epoch 500/500 — Recon: 0.0989, Disc_Cat: 1.3719, Gen_Cat: 1.0931, Disc_Style: 1.3863, Gen_Style: 0.6931, SemiSup: 0.0073\n",
      "Validation Accuracy: 99.00%\n",
      "\n",
      "Weights saved to semisupervised_results/500_epochs_adam_results_run_2_noise/weights_epoch_500_*.pth\n",
      "Weights saved to semisupervised_results/500_epochs_adam_results_run_2_noise/weights_*.pth\n"
     ]
    }
   ],
   "source": [
    "model.train_mbgd(\n",
    "    train_loader=train_loader,\n",
    "    val_loader=val_loader,\n",
    "    epochs=NUM_EPOCHS,\n",
    "    prior_std=PRIOR_STD,\n",
    "    result_folder=RESULT_FOLDER,\n",
    "    add_gaussian_noise=GAUSSIAN_NOISE\n",
    ")"
   ]
  },
  {
   "cell_type": "code",
   "execution_count": null,
   "metadata": {},
   "outputs": [],
   "source": [
    "all_probs, all_preds = [], []\n",
    "for imgs, _ in test_loader:\n",
    "    probs, preds = model.predict(imgs)\n",
    "    all_probs.append(probs.cpu())\n",
    "    all_preds.append(preds.cpu())\n",
    "\n",
    "all_probs = torch.cat(all_probs, dim=0)\n",
    "all_preds = torch.cat(all_preds, dim=0)"
   ]
  },
  {
   "cell_type": "code",
   "execution_count": 10,
   "metadata": {},
   "outputs": [
    {
     "name": "stdout",
     "output_type": "stream",
     "text": [
      "Test accuracy: 98.89%\n"
     ]
    }
   ],
   "source": [
    "num_correct = torch.eq(all_preds, Y_test).sum().item()\n",
    "accuracy = num_correct / Y_test.size(0)\n",
    "print(f\"Test accuracy: {accuracy*100:.2f}%\")"
   ]
  },
  {
   "cell_type": "markdown",
   "metadata": {},
   "source": [
    "## Image Generation"
   ]
  },
  {
   "cell_type": "code",
   "execution_count": null,
   "metadata": {},
   "outputs": [],
   "source": [
    "model.load_weights(\"semisupervised_results/500_epochs_adam_results_run_2_noise/weights\")"
   ]
  },
  {
   "cell_type": "code",
   "execution_count": 77,
   "metadata": {},
   "outputs": [
    {
     "data": {
      "image/png": "[encoded data removed]",
      "text/plain": [
       "<Figure size 640x480 with 1 Axes>"
      ]
     },
     "metadata": {},
     "output_type": "display_data"
    }
   ],
   "source": [
    "import matplotlib.pyplot as plt\n",
    "\n",
    "img7 = model.generate_images(8, prior_std=1.0)\n",
    "plt.imshow(img7.squeeze().cpu().numpy(), cmap='gray')\n",
    "plt.axis('off')\n",
    "plt.show()"
   ]
  },
  {
   "cell_type": "code",
   "execution_count": 85,
   "metadata": {},
   "outputs": [],
   "source": [
    "fig, axes = plt.subplots(\n",
    "    nrows=10,\n",
    "    ncols=10,\n",
    "    figsize=(10, 10),\n",
    "    tight_layout=True\n",
    ")\n",
    "\n",
    "for digit in range(10):\n",
    "    # make a batch of labels all equal to `digit`\n",
    "    labels = torch.full(\n",
    "        (10,),\n",
    "        fill_value=digit,\n",
    "        dtype=torch.long,\n",
    "        device=model.device\n",
    "    )\n",
    "    # generate images; style_z=None → sampled inside with prior_std\n",
    "    imgs = model.generate_images(labels, style_z=None, prior_std=PRIOR_STD)\n",
    "\n",
    "    # plot each sample in its column\n",
    "    for col in range(10):\n",
    "        ax = axes[digit, col]\n",
    "        img = imgs[col].squeeze().cpu().numpy()\n",
    "        ax.imshow(img, cmap='gray')\n",
    "        ax.axis('off')\n",
    "\n",
    "# save to disk\n",
    "fig.savefig(f'{RESULT_FOLDER}/fig_2', dpi=300, bbox_inches='tight')\n",
    "plt.close(fig)"
   ]
  }
 ],
 "metadata": {
  "kernelspec": {
   "display_name": "adversarial-autoencoder-GiuVyiXw-py3.12",
   "language": "python",
   "name": "python3"
  },
  "language_info": {
   "codemirror_mode": {
    "name": "ipython",
    "version": 3
   },
   "file_extension": ".py",
   "mimetype": "text/x-python",
   "name": "python",
   "nbconvert_exporter": "python",
   "pygments_lexer": "ipython3",
   "version": "3.12.7"
  }
 },
 "nbformat": 4,
 "nbformat_minor": 2
}
