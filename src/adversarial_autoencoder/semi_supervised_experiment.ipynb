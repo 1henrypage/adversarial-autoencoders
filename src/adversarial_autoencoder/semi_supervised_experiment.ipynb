{
 "cells": [
  {
   "cell_type": "code",
   "execution_count": 1,
   "metadata": {},
   "outputs": [],
   "source": [
    "!export CUDA_VISIBLE_DEVICES=0"
   ]
  },
  {
   "cell_type": "code",
   "execution_count": 2,
   "metadata": {},
   "outputs": [
    {
     "name": "stdout",
     "output_type": "stream",
     "text": [
      "CUDA_VISIBLE_DEVICES: 0\n",
      "Built with CUDA: 12.4\n",
      "CUDA available?: True\n",
      "Device count: 1\n"
     ]
    }
   ],
   "source": [
    "import os, torch\n",
    "os.environ[\"CUDA_VISIBLE_DEVICES\"] = \"0\"\n",
    "print(\"CUDA_VISIBLE_DEVICES:\", os.environ.get(\"CUDA_VISIBLE_DEVICES\"))\n",
    "print(\"Built with CUDA:\", torch.version.cuda)     \n",
    "print(\"CUDA available?:\", torch.cuda.is_available())  \n",
    "print(\"Device count:\", torch.cuda.device_count())"
   ]
  },
  {
   "cell_type": "code",
   "execution_count": 3,
   "metadata": {},
   "outputs": [],
   "source": [
    "import numpy as np\n",
    "import matplotlib.pyplot as plt\n",
    "from torchvision import datasets, transforms\n",
    "from torch.utils.data import DataLoader\n",
    "from torch import nn\n",
    "from semisupervised import SemiSupervisedAutoEncoderOptions, SemiSupervisedAdversarialAutoencoder"
   ]
  },
  {
   "cell_type": "code",
   "execution_count": 4,
   "metadata": {},
   "outputs": [],
   "source": [
    "from torch.utils.data import random_split\n",
    "\n",
    "def configure_mnist(batch_size=100, val_size=10000):\n",
    "    # transform: ToTensor + flatten\n",
    "    transform = transforms.Compose([\n",
    "        transforms.ToTensor(),\n",
    "        transforms.Lambda(lambda x: x.view(-1))\n",
    "    ])\n",
    "\n",
    "    # full train + test datasets\n",
    "    full_train = datasets.MNIST(root='./data', train=True, download=True, transform=transform)\n",
    "    test_ds    = datasets.MNIST(root='./data', train=False, download=True, transform=transform)\n",
    "\n",
    "    # split full_train → train_ds (60k - val_size) and val_ds (val_size)\n",
    "    train_size = len(full_train) - val_size\n",
    "    train_ds, val_ds = random_split(full_train, [train_size, val_size])\n",
    "\n",
    "    # DataLoaders\n",
    "    train_loader = DataLoader(train_ds,  batch_size=batch_size, shuffle=True)\n",
    "    val_loader   = DataLoader(val_ds,   batch_size=batch_size, shuffle=False)\n",
    "    test_loader  = DataLoader(test_ds,  batch_size=batch_size, shuffle=False)\n",
    "\n",
    "    # (Optionally) extract raw tensors:\n",
    "    X_train = torch.stack([x for x, _ in train_ds])\n",
    "    Y_train = torch.tensor([y for _, y in train_ds])\n",
    "    X_val   = torch.stack([x for x, _ in val_ds])\n",
    "    Y_val   = torch.tensor([y for _, y in val_ds])\n",
    "    X_test  = torch.stack([x for x, _ in test_ds])\n",
    "    Y_test  = test_ds.targets.clone()\n",
    "\n",
    "    return (X_train, X_val, X_test,\n",
    "            Y_train, Y_val, Y_test,\n",
    "            train_loader, val_loader, test_loader)"
   ]
  },
  {
   "cell_type": "code",
   "execution_count": 6,
   "metadata": {},
   "outputs": [
    {
     "name": "stdout",
     "output_type": "stream",
     "text": [
      "tensor(9)\n",
      "tensor(0)\n"
     ]
    }
   ],
   "source": [
    "(X_train, X_val, X_test, Y_train, Y_val, Y_test, train_loader, val_loader, test_loader) = configure_mnist()\n",
    "\n",
    "print(Y_train.max())\n",
    "print(Y_train.min())"
   ]
  },
  {
   "cell_type": "code",
   "execution_count": 7,
   "metadata": {},
   "outputs": [],
   "source": [
    "INPUT_DIM = 784\n",
    "BATCH_SIZE = 100\n",
    "AE_HIDDEN = 1000\n",
    "DC_HIDDEN = 1000\n",
    "LATENT_DIM_CAT = 10\n",
    "LATENT_DIM_STYLE = 15\n",
    "PRIOR_STD = 5.0\n",
    "\n",
    "recon_loss = nn.MSELoss()\n",
    "init_recon_lr = 0.01\n",
    "\n",
    "semi_sup_loss = nn.CrossEntropyLoss()\n",
    "init_semi_sup_lr = 0.01\n",
    "\n",
    "init_gen_lr = init_disc_lr = 0.1\n",
    "use_decoder_sigmoid = True"
   ]
  },
  {
   "cell_type": "code",
   "execution_count": 8,
   "metadata": {},
   "outputs": [],
   "source": [
    "options = SemiSupervisedAutoEncoderOptions(\n",
    "    input_dim=INPUT_DIM,\n",
    "    ae_hidden_dim=AE_HIDDEN,\n",
    "    disc_hidden_dim=DC_HIDDEN,\n",
    "    latent_dim_categorical=LATENT_DIM_CAT,\n",
    "    latent_dim_style=LATENT_DIM_STYLE,\n",
    "    recon_loss_fn=recon_loss,\n",
    "    init_recon_lr=init_recon_lr,\n",
    "    semi_supervised_loss_fn=semi_sup_loss,\n",
    "    init_semi_sup_lr=init_semi_sup_lr,\n",
    "    init_gen_lr=init_gen_lr,\n",
    "    use_decoder_sigmoid=use_decoder_sigmoid,\n",
    "    init_disc_categorical_lr = init_disc_lr,\n",
    "    init_disc_style_lr = init_disc_lr\n",
    ")\n",
    "\n",
    "model = SemiSupervisedAdversarialAutoencoder(options);"
   ]
  },
  {
   "cell_type": "code",
   "execution_count": 9,
   "metadata": {},
   "outputs": [
    {
     "data": {
      "application/vnd.jupyter.widget-view+json": {
       "model_id": "a31c7b08869c47eba950320db3a064a5",
       "version_major": 2,
       "version_minor": 0
      },
      "text/plain": [
       "Epoch [1/50]:   0%|          | 0/500 [00:00<?, ?it/s]"
      ]
     },
     "metadata": {},
     "output_type": "display_data"
    },
    {
     "name": "stdout",
     "output_type": "stream",
     "text": [
      "Epoch 1/50 — Recon: 0.2298, Disc_Cat: 1.3773, Gen_Cat: 0.6969, Disc_Style: 0.3763, Gen_Style: 2.9231, SemiSup: 1.0498\n",
      "Validation Accuracy: 84.99%\n",
      "\n"
     ]
    },
    {
     "data": {
      "application/vnd.jupyter.widget-view+json": {
       "model_id": "8a39fb624ef7491db97a401dfe519619",
       "version_major": 2,
       "version_minor": 0
      },
      "text/plain": [
       "Epoch [2/50]:   0%|          | 0/500 [00:00<?, ?it/s]"
      ]
     },
     "metadata": {},
     "output_type": "display_data"
    },
    {
     "name": "stdout",
     "output_type": "stream",
     "text": [
      "Epoch 2/50 — Recon: 0.2241, Disc_Cat: 1.3398, Gen_Cat: 0.7190, Disc_Style: 0.7260, Gen_Style: 2.6286, SemiSup: 0.3729\n",
      "Validation Accuracy: 89.80%\n",
      "\n"
     ]
    },
    {
     "data": {
      "application/vnd.jupyter.widget-view+json": {
       "model_id": "64c0243735324560bb82ceef9bcbec72",
       "version_major": 2,
       "version_minor": 0
      },
      "text/plain": [
       "Epoch [3/50]:   0%|          | 0/500 [00:00<?, ?it/s]"
      ]
     },
     "metadata": {},
     "output_type": "display_data"
    },
    {
     "name": "stdout",
     "output_type": "stream",
     "text": [
      "Epoch 3/50 — Recon: 0.1938, Disc_Cat: 1.3066, Gen_Cat: 0.7924, Disc_Style: 0.9905, Gen_Style: 1.8502, SemiSup: 0.3181\n",
      "Validation Accuracy: 92.51%\n",
      "\n"
     ]
    },
    {
     "data": {
      "application/vnd.jupyter.widget-view+json": {
       "model_id": "048cddec855845ae986872a2161e1b23",
       "version_major": 2,
       "version_minor": 0
      },
      "text/plain": [
       "Epoch [4/50]:   0%|          | 0/500 [00:00<?, ?it/s]"
      ]
     },
     "metadata": {},
     "output_type": "display_data"
    },
    {
     "name": "stdout",
     "output_type": "stream",
     "text": [
      "Epoch 4/50 — Recon: 0.0972, Disc_Cat: 1.3283, Gen_Cat: 0.8337, Disc_Style: 1.1195, Gen_Style: 1.4546, SemiSup: 0.2868\n",
      "Validation Accuracy: 93.65%\n",
      "\n"
     ]
    },
    {
     "data": {
      "application/vnd.jupyter.widget-view+json": {
       "model_id": "a4604f2ae73a413087cd124bfa94084a",
       "version_major": 2,
       "version_minor": 0
      },
      "text/plain": [
       "Epoch [5/50]:   0%|          | 0/500 [00:00<?, ?it/s]"
      ]
     },
     "metadata": {},
     "output_type": "display_data"
    },
    {
     "name": "stdout",
     "output_type": "stream",
     "text": [
      "Epoch 5/50 — Recon: 0.0731, Disc_Cat: 1.3419, Gen_Cat: 0.8188, Disc_Style: 1.2035, Gen_Style: 1.1979, SemiSup: 0.2480\n",
      "Validation Accuracy: 94.95%\n",
      "\n"
     ]
    },
    {
     "data": {
      "application/vnd.jupyter.widget-view+json": {
       "model_id": "bbe2237b64474dfbb5d90301419ee3c4",
       "version_major": 2,
       "version_minor": 0
      },
      "text/plain": [
       "Epoch [6/50]:   0%|          | 0/500 [00:00<?, ?it/s]"
      ]
     },
     "metadata": {},
     "output_type": "display_data"
    },
    {
     "name": "stdout",
     "output_type": "stream",
     "text": [
      "Epoch 6/50 — Recon: 0.0709, Disc_Cat: 1.3464, Gen_Cat: 0.8106, Disc_Style: 1.2353, Gen_Style: 1.1062, SemiSup: 0.2134\n",
      "Validation Accuracy: 95.20%\n",
      "\n"
     ]
    },
    {
     "data": {
      "application/vnd.jupyter.widget-view+json": {
       "model_id": "f1cafd6fad6c461688141703609dc77a",
       "version_major": 2,
       "version_minor": 0
      },
      "text/plain": [
       "Epoch [7/50]:   0%|          | 0/500 [00:00<?, ?it/s]"
      ]
     },
     "metadata": {},
     "output_type": "display_data"
    },
    {
     "name": "stdout",
     "output_type": "stream",
     "text": [
      "Epoch 7/50 — Recon: 0.0699, Disc_Cat: 1.3542, Gen_Cat: 0.7944, Disc_Style: 1.2620, Gen_Style: 1.0226, SemiSup: 0.1902\n",
      "Validation Accuracy: 95.58%\n",
      "\n"
     ]
    },
    {
     "data": {
      "application/vnd.jupyter.widget-view+json": {
       "model_id": "c7dac15b0233445696b639e0f061d141",
       "version_major": 2,
       "version_minor": 0
      },
      "text/plain": [
       "Epoch [8/50]:   0%|          | 0/500 [00:00<?, ?it/s]"
      ]
     },
     "metadata": {},
     "output_type": "display_data"
    },
    {
     "name": "stdout",
     "output_type": "stream",
     "text": [
      "Epoch 8/50 — Recon: 0.0696, Disc_Cat: 1.3578, Gen_Cat: 0.7852, Disc_Style: 1.2902, Gen_Style: 0.9562, SemiSup: 0.1572\n",
      "Validation Accuracy: 95.93%\n",
      "\n"
     ]
    },
    {
     "data": {
      "application/vnd.jupyter.widget-view+json": {
       "model_id": "2473732529744cee8dacc4dadd9f8751",
       "version_major": 2,
       "version_minor": 0
      },
      "text/plain": [
       "Epoch [9/50]:   0%|          | 0/500 [00:00<?, ?it/s]"
      ]
     },
     "metadata": {},
     "output_type": "display_data"
    },
    {
     "name": "stdout",
     "output_type": "stream",
     "text": [
      "Epoch 9/50 — Recon: 0.0694, Disc_Cat: 1.3609, Gen_Cat: 0.7771, Disc_Style: 1.2983, Gen_Style: 0.9291, SemiSup: 0.1408\n",
      "Validation Accuracy: 96.63%\n",
      "\n"
     ]
    },
    {
     "data": {
      "application/vnd.jupyter.widget-view+json": {
       "model_id": "e2a9b2752c194eecab4e0cdd8a0e3f20",
       "version_major": 2,
       "version_minor": 0
      },
      "text/plain": [
       "Epoch [10/50]:   0%|          | 0/500 [00:00<?, ?it/s]"
      ]
     },
     "metadata": {},
     "output_type": "display_data"
    },
    {
     "name": "stdout",
     "output_type": "stream",
     "text": [
      "Epoch 10/50 — Recon: 0.0692, Disc_Cat: 1.3648, Gen_Cat: 0.7675, Disc_Style: 1.3133, Gen_Style: 0.9082, SemiSup: 0.1261\n",
      "Validation Accuracy: 96.26%\n",
      "\n"
     ]
    },
    {
     "data": {
      "application/vnd.jupyter.widget-view+json": {
       "model_id": "c540e147e5a3433ca07f527b35fa75aa",
       "version_major": 2,
       "version_minor": 0
      },
      "text/plain": [
       "Epoch [11/50]:   0%|          | 0/500 [00:00<?, ?it/s]"
      ]
     },
     "metadata": {},
     "output_type": "display_data"
    },
    {
     "name": "stdout",
     "output_type": "stream",
     "text": [
      "Epoch 11/50 — Recon: 0.0689, Disc_Cat: 1.3652, Gen_Cat: 0.7630, Disc_Style: 1.3309, Gen_Style: 0.8582, SemiSup: 0.1102\n",
      "Validation Accuracy: 96.51%\n",
      "\n"
     ]
    },
    {
     "data": {
      "application/vnd.jupyter.widget-view+json": {
       "model_id": "df618832815948868e25a5b7b27cae18",
       "version_major": 2,
       "version_minor": 0
      },
      "text/plain": [
       "Epoch [12/50]:   0%|          | 0/500 [00:00<?, ?it/s]"
      ]
     },
     "metadata": {},
     "output_type": "display_data"
    },
    {
     "name": "stdout",
     "output_type": "stream",
     "text": [
      "Epoch 12/50 — Recon: 0.0688, Disc_Cat: 1.3681, Gen_Cat: 0.7550, Disc_Style: 1.3353, Gen_Style: 0.8350, SemiSup: 0.1052\n",
      "Validation Accuracy: 97.14%\n",
      "\n"
     ]
    },
    {
     "data": {
      "application/vnd.jupyter.widget-view+json": {
       "model_id": "2a7c4c8671cf4dd9adcbe24b32715769",
       "version_major": 2,
       "version_minor": 0
      },
      "text/plain": [
       "Epoch [13/50]:   0%|          | 0/500 [00:00<?, ?it/s]"
      ]
     },
     "metadata": {},
     "output_type": "display_data"
    },
    {
     "name": "stdout",
     "output_type": "stream",
     "text": [
      "Epoch 13/50 — Recon: 0.0685, Disc_Cat: 1.3690, Gen_Cat: 0.7529, Disc_Style: 1.3368, Gen_Style: 0.8429, SemiSup: 0.0974\n",
      "Validation Accuracy: 97.08%\n",
      "\n"
     ]
    },
    {
     "data": {
      "application/vnd.jupyter.widget-view+json": {
       "model_id": "1ba1028c67854e53bfbf17f1985ab1a6",
       "version_major": 2,
       "version_minor": 0
      },
      "text/plain": [
       "Epoch [14/50]:   0%|          | 0/500 [00:00<?, ?it/s]"
      ]
     },
     "metadata": {},
     "output_type": "display_data"
    },
    {
     "name": "stdout",
     "output_type": "stream",
     "text": [
      "Epoch 14/50 — Recon: 0.0684, Disc_Cat: 1.3706, Gen_Cat: 0.7482, Disc_Style: 1.3431, Gen_Style: 0.8187, SemiSup: 0.0872\n",
      "Validation Accuracy: 97.21%\n",
      "\n"
     ]
    },
    {
     "data": {
      "application/vnd.jupyter.widget-view+json": {
       "model_id": "d99220c34010448b8a6f9e16363f2e30",
       "version_major": 2,
       "version_minor": 0
      },
      "text/plain": [
       "Epoch [15/50]:   0%|          | 0/500 [00:00<?, ?it/s]"
      ]
     },
     "metadata": {},
     "output_type": "display_data"
    },
    {
     "name": "stdout",
     "output_type": "stream",
     "text": [
      "Epoch 15/50 — Recon: 0.0684, Disc_Cat: 1.3737, Gen_Cat: 0.7399, Disc_Style: 1.3505, Gen_Style: 0.8013, SemiSup: 0.0750\n",
      "Validation Accuracy: 97.31%\n",
      "\n"
     ]
    },
    {
     "data": {
      "application/vnd.jupyter.widget-view+json": {
       "model_id": "0cbc99eb369b4a17842c594d6cc17298",
       "version_major": 2,
       "version_minor": 0
      },
      "text/plain": [
       "Epoch [16/50]:   0%|          | 0/500 [00:00<?, ?it/s]"
      ]
     },
     "metadata": {},
     "output_type": "display_data"
    },
    {
     "name": "stdout",
     "output_type": "stream",
     "text": [
      "Epoch 16/50 — Recon: 0.0681, Disc_Cat: 1.3732, Gen_Cat: 0.7378, Disc_Style: 1.3480, Gen_Style: 0.8010, SemiSup: 0.0703\n",
      "Validation Accuracy: 97.49%\n",
      "\n"
     ]
    },
    {
     "data": {
      "application/vnd.jupyter.widget-view+json": {
       "model_id": "760264e850ea4973b2c4bb0279a8e48e",
       "version_major": 2,
       "version_minor": 0
      },
      "text/plain": [
       "Epoch [17/50]:   0%|          | 0/500 [00:00<?, ?it/s]"
      ]
     },
     "metadata": {},
     "output_type": "display_data"
    },
    {
     "name": "stdout",
     "output_type": "stream",
     "text": [
      "Epoch 17/50 — Recon: 0.0679, Disc_Cat: 1.3730, Gen_Cat: 0.7373, Disc_Style: 1.3524, Gen_Style: 0.7966, SemiSup: 0.0659\n",
      "Validation Accuracy: 97.62%\n",
      "\n"
     ]
    },
    {
     "data": {
      "application/vnd.jupyter.widget-view+json": {
       "model_id": "a8cc328fc1df464095aa0e782b239048",
       "version_major": 2,
       "version_minor": 0
      },
      "text/plain": [
       "Epoch [18/50]:   0%|          | 0/500 [00:00<?, ?it/s]"
      ]
     },
     "metadata": {},
     "output_type": "display_data"
    },
    {
     "name": "stdout",
     "output_type": "stream",
     "text": [
      "Epoch 18/50 — Recon: 0.0680, Disc_Cat: 1.3757, Gen_Cat: 0.7317, Disc_Style: 1.3591, Gen_Style: 0.7807, SemiSup: 0.0555\n",
      "Validation Accuracy: 97.68%\n",
      "\n"
     ]
    },
    {
     "data": {
      "application/vnd.jupyter.widget-view+json": {
       "model_id": "ff5e30db378d4fe69c466ab997f5e225",
       "version_major": 2,
       "version_minor": 0
      },
      "text/plain": [
       "Epoch [19/50]:   0%|          | 0/500 [00:00<?, ?it/s]"
      ]
     },
     "metadata": {},
     "output_type": "display_data"
    },
    {
     "name": "stdout",
     "output_type": "stream",
     "text": [
      "Epoch 19/50 — Recon: 0.0678, Disc_Cat: 1.3766, Gen_Cat: 0.7285, Disc_Style: 1.3634, Gen_Style: 0.7665, SemiSup: 0.0543\n",
      "Validation Accuracy: 97.45%\n",
      "\n"
     ]
    },
    {
     "data": {
      "application/vnd.jupyter.widget-view+json": {
       "model_id": "a1490af0a69448ba95ba480767284719",
       "version_major": 2,
       "version_minor": 0
      },
      "text/plain": [
       "Epoch [20/50]:   0%|          | 0/500 [00:00<?, ?it/s]"
      ]
     },
     "metadata": {},
     "output_type": "display_data"
    },
    {
     "name": "stdout",
     "output_type": "stream",
     "text": [
      "Epoch 20/50 — Recon: 0.0677, Disc_Cat: 1.3763, Gen_Cat: 0.7270, Disc_Style: 1.3638, Gen_Style: 0.7614, SemiSup: 0.0479\n",
      "Validation Accuracy: 97.71%\n",
      "\n"
     ]
    },
    {
     "data": {
      "application/vnd.jupyter.widget-view+json": {
       "model_id": "6e3dc492c7c34691af12b1207de01ee3",
       "version_major": 2,
       "version_minor": 0
      },
      "text/plain": [
       "Epoch [21/50]:   0%|          | 0/500 [00:00<?, ?it/s]"
      ]
     },
     "metadata": {},
     "output_type": "display_data"
    },
    {
     "name": "stdout",
     "output_type": "stream",
     "text": [
      "Epoch 21/50 — Recon: 0.0673, Disc_Cat: 1.3773, Gen_Cat: 0.7250, Disc_Style: 1.3661, Gen_Style: 0.7559, SemiSup: 0.0418\n",
      "Validation Accuracy: 97.58%\n",
      "\n"
     ]
    },
    {
     "data": {
      "application/vnd.jupyter.widget-view+json": {
       "model_id": "cf9d820ca9a54e3cb555360146493ea3",
       "version_major": 2,
       "version_minor": 0
      },
      "text/plain": [
       "Epoch [22/50]:   0%|          | 0/500 [00:00<?, ?it/s]"
      ]
     },
     "metadata": {},
     "output_type": "display_data"
    },
    {
     "name": "stdout",
     "output_type": "stream",
     "text": [
      "Epoch 22/50 — Recon: 0.0671, Disc_Cat: 1.3779, Gen_Cat: 0.7229, Disc_Style: 1.3640, Gen_Style: 0.7602, SemiSup: 0.0425\n",
      "Validation Accuracy: 97.71%\n",
      "\n"
     ]
    },
    {
     "data": {
      "application/vnd.jupyter.widget-view+json": {
       "model_id": "f1617e480d54470497d095aa15e241a3",
       "version_major": 2,
       "version_minor": 0
      },
      "text/plain": [
       "Epoch [23/50]:   0%|          | 0/500 [00:00<?, ?it/s]"
      ]
     },
     "metadata": {},
     "output_type": "display_data"
    },
    {
     "name": "stdout",
     "output_type": "stream",
     "text": [
      "Epoch 23/50 — Recon: 0.0669, Disc_Cat: 1.3790, Gen_Cat: 0.7190, Disc_Style: 1.3700, Gen_Style: 0.7533, SemiSup: 0.0322\n",
      "Validation Accuracy: 97.87%\n",
      "\n"
     ]
    },
    {
     "data": {
      "application/vnd.jupyter.widget-view+json": {
       "model_id": "a42cfe14e6d24eb0948903f5863b2c36",
       "version_major": 2,
       "version_minor": 0
      },
      "text/plain": [
       "Epoch [24/50]:   0%|          | 0/500 [00:00<?, ?it/s]"
      ]
     },
     "metadata": {},
     "output_type": "display_data"
    },
    {
     "name": "stdout",
     "output_type": "stream",
     "text": [
      "Epoch 24/50 — Recon: 0.0672, Disc_Cat: 1.3794, Gen_Cat: 0.7177, Disc_Style: 1.3642, Gen_Style: 0.7611, SemiSup: 0.0291\n",
      "Validation Accuracy: 97.95%\n",
      "\n"
     ]
    },
    {
     "data": {
      "application/vnd.jupyter.widget-view+json": {
       "model_id": "0a1d73395d514de6b3deac3270fc907c",
       "version_major": 2,
       "version_minor": 0
      },
      "text/plain": [
       "Epoch [25/50]:   0%|          | 0/500 [00:00<?, ?it/s]"
      ]
     },
     "metadata": {},
     "output_type": "display_data"
    },
    {
     "name": "stdout",
     "output_type": "stream",
     "text": [
      "Epoch 25/50 — Recon: 0.0668, Disc_Cat: 1.3808, Gen_Cat: 0.7150, Disc_Style: 1.3685, Gen_Style: 0.7523, SemiSup: 0.0247\n",
      "Validation Accuracy: 97.97%\n",
      "\n"
     ]
    },
    {
     "data": {
      "application/vnd.jupyter.widget-view+json": {
       "model_id": "13201d2987d04a928e977194a03a7193",
       "version_major": 2,
       "version_minor": 0
      },
      "text/plain": [
       "Epoch [26/50]:   0%|          | 0/500 [00:00<?, ?it/s]"
      ]
     },
     "metadata": {},
     "output_type": "display_data"
    },
    {
     "name": "stdout",
     "output_type": "stream",
     "text": [
      "Epoch 26/50 — Recon: 0.0666, Disc_Cat: 1.3810, Gen_Cat: 0.7133, Disc_Style: 1.3720, Gen_Style: 0.7428, SemiSup: 0.0262\n",
      "Validation Accuracy: 97.86%\n",
      "\n"
     ]
    },
    {
     "data": {
      "application/vnd.jupyter.widget-view+json": {
       "model_id": "993c63e5b8af44ec974920c573f228cc",
       "version_major": 2,
       "version_minor": 0
      },
      "text/plain": [
       "Epoch [27/50]:   0%|          | 0/500 [00:00<?, ?it/s]"
      ]
     },
     "metadata": {},
     "output_type": "display_data"
    },
    {
     "name": "stdout",
     "output_type": "stream",
     "text": [
      "Epoch 27/50 — Recon: 0.0666, Disc_Cat: 1.3816, Gen_Cat: 0.7121, Disc_Style: 1.3730, Gen_Style: 0.7374, SemiSup: 0.0218\n",
      "Validation Accuracy: 97.94%\n",
      "\n"
     ]
    },
    {
     "data": {
      "application/vnd.jupyter.widget-view+json": {
       "model_id": "84278e2fc68a481c8cd34fcc13551b2a",
       "version_major": 2,
       "version_minor": 0
      },
      "text/plain": [
       "Epoch [28/50]:   0%|          | 0/500 [00:00<?, ?it/s]"
      ]
     },
     "metadata": {},
     "output_type": "display_data"
    },
    {
     "name": "stdout",
     "output_type": "stream",
     "text": [
      "Epoch 28/50 — Recon: 0.0662, Disc_Cat: 1.3814, Gen_Cat: 0.7113, Disc_Style: 1.3730, Gen_Style: 0.7388, SemiSup: 0.0212\n",
      "Validation Accuracy: 97.98%\n",
      "\n"
     ]
    },
    {
     "data": {
      "application/vnd.jupyter.widget-view+json": {
       "model_id": "2472e445fb2a427493b22ab667b384a5",
       "version_major": 2,
       "version_minor": 0
      },
      "text/plain": [
       "Epoch [29/50]:   0%|          | 0/500 [00:00<?, ?it/s]"
      ]
     },
     "metadata": {},
     "output_type": "display_data"
    },
    {
     "name": "stdout",
     "output_type": "stream",
     "text": [
      "Epoch 29/50 — Recon: 0.0659, Disc_Cat: 1.3823, Gen_Cat: 0.7084, Disc_Style: 1.3734, Gen_Style: 0.7341, SemiSup: 0.0151\n",
      "Validation Accuracy: 97.99%\n",
      "\n"
     ]
    },
    {
     "data": {
      "application/vnd.jupyter.widget-view+json": {
       "model_id": "fb0c9269b4b143ea9d7cbb941a117a4f",
       "version_major": 2,
       "version_minor": 0
      },
      "text/plain": [
       "Epoch [30/50]:   0%|          | 0/500 [00:00<?, ?it/s]"
      ]
     },
     "metadata": {},
     "output_type": "display_data"
    },
    {
     "name": "stdout",
     "output_type": "stream",
     "text": [
      "Epoch 30/50 — Recon: 0.0656, Disc_Cat: 1.3832, Gen_Cat: 0.7073, Disc_Style: 1.3761, Gen_Style: 0.7300, SemiSup: 0.0155\n",
      "Validation Accuracy: 98.11%\n",
      "\n"
     ]
    },
    {
     "data": {
      "application/vnd.jupyter.widget-view+json": {
       "model_id": "7f0dc6b4db3f41289171447ec3c12cef",
       "version_major": 2,
       "version_minor": 0
      },
      "text/plain": [
       "Epoch [31/50]:   0%|          | 0/500 [00:00<?, ?it/s]"
      ]
     },
     "metadata": {},
     "output_type": "display_data"
    },
    {
     "name": "stdout",
     "output_type": "stream",
     "text": [
      "Epoch 31/50 — Recon: 0.0657, Disc_Cat: 1.3835, Gen_Cat: 0.7062, Disc_Style: 1.3766, Gen_Style: 0.7278, SemiSup: 0.0119\n",
      "Validation Accuracy: 98.00%\n",
      "\n"
     ]
    },
    {
     "data": {
      "application/vnd.jupyter.widget-view+json": {
       "model_id": "9bd695de8dda4053a7a61758ee615804",
       "version_major": 2,
       "version_minor": 0
      },
      "text/plain": [
       "Epoch [32/50]:   0%|          | 0/500 [00:00<?, ?it/s]"
      ]
     },
     "metadata": {},
     "output_type": "display_data"
    },
    {
     "name": "stdout",
     "output_type": "stream",
     "text": [
      "Epoch 32/50 — Recon: 0.0654, Disc_Cat: 1.3833, Gen_Cat: 0.7059, Disc_Style: 1.3770, Gen_Style: 0.7271, SemiSup: 0.0090\n",
      "Validation Accuracy: 98.07%\n",
      "\n"
     ]
    },
    {
     "data": {
      "application/vnd.jupyter.widget-view+json": {
       "model_id": "e770597a7de74559ba9a7ccb5809aae3",
       "version_major": 2,
       "version_minor": 0
      },
      "text/plain": [
       "Epoch [33/50]:   0%|          | 0/500 [00:00<?, ?it/s]"
      ]
     },
     "metadata": {},
     "output_type": "display_data"
    },
    {
     "name": "stdout",
     "output_type": "stream",
     "text": [
      "Epoch 33/50 — Recon: 0.0654, Disc_Cat: 1.3838, Gen_Cat: 0.7040, Disc_Style: 1.3759, Gen_Style: 0.7273, SemiSup: 0.0085\n",
      "Validation Accuracy: 98.02%\n",
      "\n"
     ]
    },
    {
     "data": {
      "application/vnd.jupyter.widget-view+json": {
       "model_id": "3500dca900074b3bbe68908a9cfed832",
       "version_major": 2,
       "version_minor": 0
      },
      "text/plain": [
       "Epoch [34/50]:   0%|          | 0/500 [00:00<?, ?it/s]"
      ]
     },
     "metadata": {},
     "output_type": "display_data"
    },
    {
     "name": "stdout",
     "output_type": "stream",
     "text": [
      "Epoch 34/50 — Recon: 0.0651, Disc_Cat: 1.3840, Gen_Cat: 0.7036, Disc_Style: 1.3762, Gen_Style: 0.7295, SemiSup: 0.0070\n",
      "Validation Accuracy: 97.99%\n",
      "\n"
     ]
    },
    {
     "data": {
      "application/vnd.jupyter.widget-view+json": {
       "model_id": "5dfdc17431c84f1ab6d53d69e4e70ecb",
       "version_major": 2,
       "version_minor": 0
      },
      "text/plain": [
       "Epoch [35/50]:   0%|          | 0/500 [00:00<?, ?it/s]"
      ]
     },
     "metadata": {},
     "output_type": "display_data"
    },
    {
     "name": "stdout",
     "output_type": "stream",
     "text": [
      "Epoch 35/50 — Recon: 0.0646, Disc_Cat: 1.3842, Gen_Cat: 0.7031, Disc_Style: 1.3754, Gen_Style: 0.7310, SemiSup: 0.0059\n",
      "Validation Accuracy: 97.96%\n",
      "\n"
     ]
    },
    {
     "data": {
      "application/vnd.jupyter.widget-view+json": {
       "model_id": "e18c15061ff249ccbdb2d114036a6b12",
       "version_major": 2,
       "version_minor": 0
      },
      "text/plain": [
       "Epoch [36/50]:   0%|          | 0/500 [00:00<?, ?it/s]"
      ]
     },
     "metadata": {},
     "output_type": "display_data"
    },
    {
     "name": "stdout",
     "output_type": "stream",
     "text": [
      "Epoch 36/50 — Recon: 0.0648, Disc_Cat: 1.3847, Gen_Cat: 0.7020, Disc_Style: 1.3786, Gen_Style: 0.7238, SemiSup: 0.0053\n",
      "Validation Accuracy: 98.17%\n",
      "\n"
     ]
    },
    {
     "data": {
      "application/vnd.jupyter.widget-view+json": {
       "model_id": "0885922169be4c7ba54c4a8f3a917fc8",
       "version_major": 2,
       "version_minor": 0
      },
      "text/plain": [
       "Epoch [37/50]:   0%|          | 0/500 [00:00<?, ?it/s]"
      ]
     },
     "metadata": {},
     "output_type": "display_data"
    },
    {
     "name": "stdout",
     "output_type": "stream",
     "text": [
      "Epoch 37/50 — Recon: 0.0645, Disc_Cat: 1.3843, Gen_Cat: 0.7018, Disc_Style: 1.3787, Gen_Style: 0.7204, SemiSup: 0.0041\n",
      "Validation Accuracy: 98.13%\n",
      "\n"
     ]
    },
    {
     "data": {
      "application/vnd.jupyter.widget-view+json": {
       "model_id": "7a190d347f3840b9a9a42ce5e6076df5",
       "version_major": 2,
       "version_minor": 0
      },
      "text/plain": [
       "Epoch [38/50]:   0%|          | 0/500 [00:00<?, ?it/s]"
      ]
     },
     "metadata": {},
     "output_type": "display_data"
    },
    {
     "name": "stdout",
     "output_type": "stream",
     "text": [
      "Epoch 38/50 — Recon: 0.0640, Disc_Cat: 1.3849, Gen_Cat: 0.7007, Disc_Style: 1.3783, Gen_Style: 0.7216, SemiSup: 0.0032\n",
      "Validation Accuracy: 98.12%\n",
      "\n"
     ]
    },
    {
     "data": {
      "application/vnd.jupyter.widget-view+json": {
       "model_id": "839ac53b92144759b5d666501766b2ce",
       "version_major": 2,
       "version_minor": 0
      },
      "text/plain": [
       "Epoch [39/50]:   0%|          | 0/500 [00:00<?, ?it/s]"
      ]
     },
     "metadata": {},
     "output_type": "display_data"
    },
    {
     "name": "stdout",
     "output_type": "stream",
     "text": [
      "Epoch 39/50 — Recon: 0.0644, Disc_Cat: 1.3845, Gen_Cat: 0.7006, Disc_Style: 1.3790, Gen_Style: 0.7215, SemiSup: 0.0027\n",
      "Validation Accuracy: 98.14%\n",
      "\n"
     ]
    },
    {
     "data": {
      "application/vnd.jupyter.widget-view+json": {
       "model_id": "6acfa8e55bbe4cd29d9dec2b609060a6",
       "version_major": 2,
       "version_minor": 0
      },
      "text/plain": [
       "Epoch [40/50]:   0%|          | 0/500 [00:00<?, ?it/s]"
      ]
     },
     "metadata": {},
     "output_type": "display_data"
    },
    {
     "name": "stdout",
     "output_type": "stream",
     "text": [
      "Epoch 40/50 — Recon: 0.0642, Disc_Cat: 1.3852, Gen_Cat: 0.6997, Disc_Style: 1.3782, Gen_Style: 0.7199, SemiSup: 0.0026\n",
      "Validation Accuracy: 98.05%\n",
      "\n"
     ]
    },
    {
     "data": {
      "application/vnd.jupyter.widget-view+json": {
       "model_id": "f9474af8c8f74ded908ca6cb30717009",
       "version_major": 2,
       "version_minor": 0
      },
      "text/plain": [
       "Epoch [41/50]:   0%|          | 0/500 [00:00<?, ?it/s]"
      ]
     },
     "metadata": {},
     "output_type": "display_data"
    },
    {
     "name": "stdout",
     "output_type": "stream",
     "text": [
      "Epoch 41/50 — Recon: 0.0634, Disc_Cat: 1.3851, Gen_Cat: 0.6994, Disc_Style: 1.3793, Gen_Style: 0.7199, SemiSup: 0.0021\n",
      "Validation Accuracy: 98.07%\n",
      "\n"
     ]
    },
    {
     "data": {
      "application/vnd.jupyter.widget-view+json": {
       "model_id": "3adcd71660614ec88b288fee271c4ec9",
       "version_major": 2,
       "version_minor": 0
      },
      "text/plain": [
       "Epoch [42/50]:   0%|          | 0/500 [00:00<?, ?it/s]"
      ]
     },
     "metadata": {},
     "output_type": "display_data"
    },
    {
     "name": "stdout",
     "output_type": "stream",
     "text": [
      "Epoch 42/50 — Recon: 0.0626, Disc_Cat: 1.3850, Gen_Cat: 0.6993, Disc_Style: 1.3803, Gen_Style: 0.7152, SemiSup: 0.0017\n",
      "Validation Accuracy: 97.97%\n",
      "\n"
     ]
    },
    {
     "data": {
      "application/vnd.jupyter.widget-view+json": {
       "model_id": "c1f1b7c26cb14aff89ee1671686e43f0",
       "version_major": 2,
       "version_minor": 0
      },
      "text/plain": [
       "Epoch [43/50]:   0%|          | 0/500 [00:00<?, ?it/s]"
      ]
     },
     "metadata": {},
     "output_type": "display_data"
    },
    {
     "name": "stdout",
     "output_type": "stream",
     "text": [
      "Epoch 43/50 — Recon: 0.0628, Disc_Cat: 1.3854, Gen_Cat: 0.6985, Disc_Style: 1.3803, Gen_Style: 0.7171, SemiSup: 0.0014\n",
      "Validation Accuracy: 98.01%\n",
      "\n"
     ]
    },
    {
     "data": {
      "application/vnd.jupyter.widget-view+json": {
       "model_id": "1cfe60d8e237438b98c6379ee6569544",
       "version_major": 2,
       "version_minor": 0
      },
      "text/plain": [
       "Epoch [44/50]:   0%|          | 0/500 [00:00<?, ?it/s]"
      ]
     },
     "metadata": {},
     "output_type": "display_data"
    },
    {
     "name": "stdout",
     "output_type": "stream",
     "text": [
      "Epoch 44/50 — Recon: 0.0627, Disc_Cat: 1.3852, Gen_Cat: 0.6986, Disc_Style: 1.3812, Gen_Style: 0.7102, SemiSup: 0.0015\n",
      "Validation Accuracy: 98.03%\n",
      "\n"
     ]
    },
    {
     "data": {
      "application/vnd.jupyter.widget-view+json": {
       "model_id": "b2f9a9c88da440d8ba1dd88ab0dcf528",
       "version_major": 2,
       "version_minor": 0
      },
      "text/plain": [
       "Epoch [45/50]:   0%|          | 0/500 [00:00<?, ?it/s]"
      ]
     },
     "metadata": {},
     "output_type": "display_data"
    },
    {
     "name": "stdout",
     "output_type": "stream",
     "text": [
      "Epoch 45/50 — Recon: 0.0628, Disc_Cat: 1.3854, Gen_Cat: 0.6982, Disc_Style: 1.3801, Gen_Style: 0.7166, SemiSup: 0.0010\n",
      "Validation Accuracy: 97.86%\n",
      "\n"
     ]
    },
    {
     "data": {
      "application/vnd.jupyter.widget-view+json": {
       "model_id": "17b3344a76be409486cc58b39350b9c3",
       "version_major": 2,
       "version_minor": 0
      },
      "text/plain": [
       "Epoch [46/50]:   0%|          | 0/500 [00:00<?, ?it/s]"
      ]
     },
     "metadata": {},
     "output_type": "display_data"
    },
    {
     "name": "stdout",
     "output_type": "stream",
     "text": [
      "Epoch 46/50 — Recon: 0.0633, Disc_Cat: 1.3852, Gen_Cat: 0.6978, Disc_Style: 1.3817, Gen_Style: 0.7146, SemiSup: 0.0010\n",
      "Validation Accuracy: 98.04%\n",
      "\n"
     ]
    },
    {
     "data": {
      "application/vnd.jupyter.widget-view+json": {
       "model_id": "7d53d87e820b44649423fb17b642b64c",
       "version_major": 2,
       "version_minor": 0
      },
      "text/plain": [
       "Epoch [47/50]:   0%|          | 0/500 [00:00<?, ?it/s]"
      ]
     },
     "metadata": {},
     "output_type": "display_data"
    },
    {
     "name": "stdout",
     "output_type": "stream",
     "text": [
      "Epoch 47/50 — Recon: 0.0625, Disc_Cat: 1.3854, Gen_Cat: 0.6976, Disc_Style: 1.3812, Gen_Style: 0.7102, SemiSup: 0.0007\n",
      "Validation Accuracy: 98.03%\n",
      "\n"
     ]
    },
    {
     "data": {
      "application/vnd.jupyter.widget-view+json": {
       "model_id": "f8f17ddd188846838958819bea6b244f",
       "version_major": 2,
       "version_minor": 0
      },
      "text/plain": [
       "Epoch [48/50]:   0%|          | 0/500 [00:00<?, ?it/s]"
      ]
     },
     "metadata": {},
     "output_type": "display_data"
    },
    {
     "name": "stdout",
     "output_type": "stream",
     "text": [
      "Epoch 48/50 — Recon: 0.0623, Disc_Cat: 1.3855, Gen_Cat: 0.6974, Disc_Style: 1.3799, Gen_Style: 0.7140, SemiSup: 0.0010\n",
      "Validation Accuracy: 97.94%\n",
      "\n"
     ]
    },
    {
     "data": {
      "application/vnd.jupyter.widget-view+json": {
       "model_id": "eee81228be004076855b7031ee09949d",
       "version_major": 2,
       "version_minor": 0
      },
      "text/plain": [
       "Epoch [49/50]:   0%|          | 0/500 [00:00<?, ?it/s]"
      ]
     },
     "metadata": {},
     "output_type": "display_data"
    },
    {
     "name": "stdout",
     "output_type": "stream",
     "text": [
      "Epoch 49/50 — Recon: 0.0615, Disc_Cat: 1.3855, Gen_Cat: 0.6973, Disc_Style: 1.3811, Gen_Style: 0.7137, SemiSup: 0.0008\n",
      "Validation Accuracy: 98.01%\n",
      "\n"
     ]
    },
    {
     "data": {
      "application/vnd.jupyter.widget-view+json": {
       "model_id": "8a6896531887401087e2a000e7e9527e",
       "version_major": 2,
       "version_minor": 0
      },
      "text/plain": [
       "Epoch [50/50]:   0%|          | 0/500 [00:00<?, ?it/s]"
      ]
     },
     "metadata": {},
     "output_type": "display_data"
    },
    {
     "name": "stdout",
     "output_type": "stream",
     "text": [
      "Epoch 50/50 — Recon: 0.0609, Disc_Cat: 1.3855, Gen_Cat: 0.6969, Disc_Style: 1.3801, Gen_Style: 0.7163, SemiSup: 0.0008\n",
      "Validation Accuracy: 98.08%\n",
      "\n"
     ]
    }
   ],
   "source": [
    "model.train_mbgd(\n",
    "    train_loader=train_loader,\n",
    "    val_loader=val_loader,\n",
    "    epochs=50,\n",
    "    prior_std=PRIOR_STD,\n",
    ")"
   ]
  },
  {
   "cell_type": "code",
   "execution_count": 11,
   "metadata": {},
   "outputs": [],
   "source": [
    "all_probs, all_preds = [], []\n",
    "for imgs, _ in test_loader:\n",
    "    probs, preds = model.predict(imgs)\n",
    "    all_probs.append(probs.cpu())\n",
    "    all_preds.append(preds.cpu())\n",
    "\n",
    "all_probs = torch.cat(all_probs, dim=0)\n",
    "all_preds = torch.cat(all_preds, dim=0)"
   ]
  },
  {
   "cell_type": "code",
   "execution_count": 12,
   "metadata": {},
   "outputs": [
    {
     "name": "stdout",
     "output_type": "stream",
     "text": [
      "Test accuracy: 98.19%\n"
     ]
    }
   ],
   "source": [
    "num_correct = torch.eq(all_preds, Y_test).sum().item()\n",
    "accuracy = num_correct / Y_test.size(0)\n",
    "print(f\"Test accuracy: {accuracy*100:.2f}%\")"
   ]
  }
 ],
 "metadata": {
  "kernelspec": {
   "display_name": "adversarial-autoencoder-GiuVyiXw-py3.12",
   "language": "python",
   "name": "python3"
  },
  "language_info": {
   "codemirror_mode": {
    "name": "ipython",
    "version": 3
   },
   "file_extension": ".py",
   "mimetype": "text/x-python",
   "name": "python",
   "nbconvert_exporter": "python",
   "pygments_lexer": "ipython3",
   "version": "3.12.7"
  }
 },
 "nbformat": 4,
 "nbformat_minor": 2
}
