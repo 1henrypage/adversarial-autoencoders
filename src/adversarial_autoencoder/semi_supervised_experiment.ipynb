{
 "cells": [
  {
   "cell_type": "code",
   "execution_count": 1,
   "metadata": {},
   "outputs": [],
   "source": [
    "import numpy as np\n",
    "import torch\n",
    "import matplotlib.pyplot as plt\n",
    "from torchvision import datasets, transforms\n",
    "from torch.utils.data import DataLoader\n",
    "from torch import nn\n",
    "from semisupervised import SemiSupervisedAutoEncoderOptions, SemiSupervisedAdversarialAutoencoder"
   ]
  },
  {
   "cell_type": "code",
   "execution_count": 2,
   "metadata": {},
   "outputs": [],
   "source": [
    "def configure_mnist(batch_size=100):\n",
    "    # Transform: Just ToTensor (auto 0-1) + flatten\n",
    "    transform = transforms.Compose([\n",
    "        transforms.ToTensor(),  # Automatically scales pixels to [0, 1]\n",
    "        transforms.Lambda(lambda x: x.view(-1))  # Flatten\n",
    "    ])\n",
    "\n",
    "    # Load datasets (applies transform automatically)\n",
    "    train_dataset = datasets.MNIST(root='./data', train=True, transform=transform, download=True)\n",
    "    test_dataset = datasets.MNIST(root='./data', train=False, transform=transform, download=True)\n",
    "\n",
    "    # Get the actual transformed data (0-1 scaled, flattened)\n",
    "    X_train = torch.stack([x for x, _ in train_dataset])  # Exactly what DataLoader will see\n",
    "    X_test = torch.stack([x for x, _ in test_dataset])\n",
    "\n",
    "    Y_train = train_dataset.targets.clone()\n",
    "    Y_test = test_dataset.targets.clone()\n",
    "\n",
    "    # DataLoader (will serve same transformed data)\n",
    "    train_loader = DataLoader(\n",
    "        train_dataset,\n",
    "        batch_size=batch_size,\n",
    "        shuffle=True\n",
    "    )\n",
    "\n",
    "    return X_train, X_test, Y_train, Y_test, train_loader"
   ]
  },
  {
   "cell_type": "code",
   "execution_count": 3,
   "metadata": {},
   "outputs": [
    {
     "name": "stdout",
     "output_type": "stream",
     "text": [
      "tensor(9)\n",
      "tensor(0)\n"
     ]
    }
   ],
   "source": [
    "X_train, X_test, Y_train, Y_test, train_loader = configure_mnist()\n",
    "\n",
    "print(Y_train.max())\n",
    "print(Y_train.min())"
   ]
  },
  {
   "cell_type": "code",
   "execution_count": 4,
   "metadata": {},
   "outputs": [],
   "source": [
    "INPUT_DIM = 784\n",
    "BATCH_SIZE = 100\n",
    "AE_HIDDEN = 1000\n",
    "DC_HIDDEN = 1000\n",
    "LATENT_DIM_CAT = 10\n",
    "LATENT_DIM_STYLE = 15\n",
    "PRIOR_STD = 5.0\n",
    "\n",
    "recon_loss = nn.MSELoss()\n",
    "init_recon_lr = 0.01\n",
    "\n",
    "semi_sup_loss = nn.CrossEntropyLoss()\n",
    "init_semi_sup_lr = 0.01\n",
    "\n",
    "init_gen_lr = init_disc_lr = 0.1\n",
    "use_decoder_sigmoid = True"
   ]
  },
  {
   "cell_type": "code",
   "execution_count": 5,
   "metadata": {},
   "outputs": [
    {
     "ename": "AttributeError",
     "evalue": "'SemiSupervisedAutoEncoderOptions' object has no attribute 'init_disc_lr'",
     "output_type": "error",
     "traceback": [
      "\u001b[31m---------------------------------------------------------------------------\u001b[39m",
      "\u001b[31mAttributeError\u001b[39m                            Traceback (most recent call last)",
      "\u001b[36mCell\u001b[39m\u001b[36m \u001b[39m\u001b[32mIn[5]\u001b[39m\u001b[32m, line 17\u001b[39m\n\u001b[32m      1\u001b[39m options = SemiSupervisedAutoEncoderOptions(\n\u001b[32m      2\u001b[39m     input_dim=INPUT_DIM,\n\u001b[32m      3\u001b[39m     ae_hidden_dim=AE_HIDDEN,\n\u001b[32m   (...)\u001b[39m\u001b[32m     14\u001b[39m     init_disc_style_lr = init_disc_lr\n\u001b[32m     15\u001b[39m )\n\u001b[32m---> \u001b[39m\u001b[32m17\u001b[39m model = \u001b[43mSemiSupervisedAdversarialAutoencoder\u001b[49m\u001b[43m(\u001b[49m\u001b[43moptions\u001b[49m\u001b[43m)\u001b[49m;\n",
      "\u001b[36mFile \u001b[39m\u001b[32m~/VsCodeProjects/adversarial-autoencoders/src/adversarial_autoencoder/semisupervised.py:127\u001b[39m, in \u001b[36mSemiSupervisedAdversarialAutoencoder.__init__\u001b[39m\u001b[34m(self, options)\u001b[39m\n\u001b[32m    118\u001b[39m \u001b[38;5;28mself\u001b[39m.gen_style_opt = torch.optim.SGD(\n\u001b[32m    119\u001b[39m     \u001b[38;5;28mself\u001b[39m.encoder.parameters(),\n\u001b[32m    120\u001b[39m     lr=options.init_gen_lr,\n\u001b[32m    121\u001b[39m     momentum=\u001b[32m0.1\u001b[39m\n\u001b[32m    122\u001b[39m )\n\u001b[32m    124\u001b[39m \u001b[38;5;66;03m# optimizer for categorical discriminator \u001b[39;00m\n\u001b[32m    125\u001b[39m \u001b[38;5;28mself\u001b[39m.disc_cat_opt = torch.optim.SGD(\n\u001b[32m    126\u001b[39m     \u001b[38;5;28mself\u001b[39m.discriminator_categorical.parameters(),\n\u001b[32m--> \u001b[39m\u001b[32m127\u001b[39m     lr=\u001b[43moptions\u001b[49m\u001b[43m.\u001b[49m\u001b[43minit_disc_lr\u001b[49m,\n\u001b[32m    128\u001b[39m     momentum=\u001b[32m0.1\u001b[39m\n\u001b[32m    129\u001b[39m )\n\u001b[32m    131\u001b[39m \u001b[38;5;66;03m# optimizer for style discriminator\u001b[39;00m\n\u001b[32m    132\u001b[39m \u001b[38;5;28mself\u001b[39m.disc_style_opt = torch.optim.SGD(\n\u001b[32m    133\u001b[39m     \u001b[38;5;28mself\u001b[39m.discriminator_style.parameters(),\n\u001b[32m    134\u001b[39m     lr=options.init_disc_lr,\n\u001b[32m    135\u001b[39m     momentum=\u001b[32m0.1\u001b[39m\n\u001b[32m    136\u001b[39m )\n",
      "\u001b[31mAttributeError\u001b[39m: 'SemiSupervisedAutoEncoderOptions' object has no attribute 'init_disc_lr'"
     ]
    }
   ],
   "source": [
    "options = SemiSupervisedAutoEncoderOptions(\n",
    "    input_dim=INPUT_DIM,\n",
    "    ae_hidden_dim=AE_HIDDEN,\n",
    "    disc_hidden_dim=DC_HIDDEN,\n",
    "    latent_dim_categorical=LATENT_DIM_CAT,\n",
    "    latent_dim_style=LATENT_DIM_STYLE,\n",
    "    recon_loss_fn=recon_loss,\n",
    "    init_recon_lr=init_recon_lr,\n",
    "    semi_supervised_loss_fn=semi_sup_loss,\n",
    "    init_semi_sup_lr=init_semi_sup_lr,\n",
    "    init_gen_lr=init_gen_lr,\n",
    "    use_decoder_sigmoid=use_decoder_sigmoid,\n",
    "    init_disc_categorical_lr = init_disc_lr,\n",
    "    init_disc_style_lr = init_disc_lr\n",
    ")\n",
    "\n",
    "model = SemiSupervisedAdversarialAutoencoder(options);"
   ]
  },
  {
   "cell_type": "code",
   "execution_count": null,
   "metadata": {},
   "outputs": [],
   "source": [
    "model.train(\n",
    "    data_loader=train_loader,\n",
    "    epochs=50,\n",
    "    prior_std=PRIOR_STD,\n",
    ")"
   ]
  }
 ],
 "metadata": {
  "kernelspec": {
   "display_name": "adversarial-autoencoder-GiuVyiXw-py3.12",
   "language": "python",
   "name": "python3"
  },
  "language_info": {
   "codemirror_mode": {
    "name": "ipython",
    "version": 3
   },
   "file_extension": ".py",
   "mimetype": "text/x-python",
   "name": "python",
   "nbconvert_exporter": "python",
   "pygments_lexer": "ipython3",
   "version": "3.12.7"
  }
 },
 "nbformat": 4,
 "nbformat_minor": 2
}
