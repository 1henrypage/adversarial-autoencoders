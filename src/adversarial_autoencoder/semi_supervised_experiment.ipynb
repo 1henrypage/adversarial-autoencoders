{
 "cells": [
  {
   "cell_type": "code",
   "execution_count": 2,
   "metadata": {},
   "outputs": [],
   "source": [
    "!export CUDA_VISIBLE_DEVICES=0"
   ]
  },
  {
   "cell_type": "code",
   "execution_count": 3,
   "metadata": {},
   "outputs": [
    {
     "name": "stdout",
     "output_type": "stream",
     "text": [
      "CUDA_VISIBLE_DEVICES: 0\n",
      "Built with CUDA: 12.4\n",
      "CUDA available?: True\n",
      "Device count: 1\n"
     ]
    }
   ],
   "source": [
    "import os, torch\n",
    "os.environ[\"CUDA_VISIBLE_DEVICES\"] = \"0\"\n",
    "print(\"CUDA_VISIBLE_DEVICES:\", os.environ.get(\"CUDA_VISIBLE_DEVICES\"))\n",
    "print(\"Built with CUDA:\", torch.version.cuda)     \n",
    "print(\"CUDA available?:\", torch.cuda.is_available())  \n",
    "print(\"Device count:\", torch.cuda.device_count())"
   ]
  },
  {
   "cell_type": "code",
   "execution_count": 4,
   "metadata": {},
   "outputs": [],
   "source": [
    "import numpy as np\n",
    "import matplotlib.pyplot as plt\n",
    "from torchvision import datasets, transforms\n",
    "from torch.utils.data import DataLoader\n",
    "from torch import nn\n",
    "from torch.utils.data import random_split\n",
    "from semisupervised import SemiSupervisedAutoEncoderOptions, SemiSupervisedAdversarialAutoencoder"
   ]
  },
  {
   "cell_type": "markdown",
   "metadata": {},
   "source": [
    "## OG Setup"
   ]
  },
  {
   "cell_type": "code",
   "execution_count": 4,
   "metadata": {},
   "outputs": [],
   "source": [
    "def configure_mnist(batch_size=100, val_size=10000):\n",
    "    # transform: ToTensor + flatten\n",
    "    transform = transforms.Compose([\n",
    "        transforms.ToTensor(),\n",
    "        transforms.Lambda(lambda x: x.view(-1))\n",
    "    ])\n",
    "\n",
    "    # full train + test datasets\n",
    "    full_train = datasets.MNIST(root='./data', train=True, download=True, transform=transform)\n",
    "    test_ds    = datasets.MNIST(root='./data', train=False, download=True, transform=transform)\n",
    "\n",
    "    # split full_train → train_ds (60k - val_size) and val_ds (val_size)\n",
    "    print(len(full_train))\n",
    "    train_size = len(full_train) - val_size\n",
    "    train_ds, val_ds = random_split(full_train, [train_size, val_size], generator=torch.Generator().manual_seed(42))\n",
    "\n",
    "    # DataLoaders\n",
    "    train_loader = DataLoader(train_ds,  batch_size=batch_size, shuffle=True)\n",
    "    val_loader   = DataLoader(val_ds,   batch_size=batch_size, shuffle=False)\n",
    "    test_loader  = DataLoader(test_ds,  batch_size=batch_size, shuffle=False)\n",
    "\n",
    "    # (Optionally) extract raw tensors:\n",
    "    X_train = torch.stack([x for x, _ in train_ds])\n",
    "    Y_train = torch.tensor([y for _, y in train_ds])\n",
    "    X_val   = torch.stack([x for x, _ in val_ds])\n",
    "    Y_val   = torch.tensor([y for _, y in val_ds])\n",
    "    X_test  = torch.stack([x for x, _ in test_ds])\n",
    "    Y_test  = test_ds.targets.clone()\n",
    "\n",
    "    return (X_train, X_val, X_test,\n",
    "            Y_train, Y_val, Y_test,\n",
    "            train_loader, val_loader, test_loader)"
   ]
  },
  {
   "cell_type": "code",
   "execution_count": 5,
   "metadata": {},
   "outputs": [
    {
     "name": "stdout",
     "output_type": "stream",
     "text": [
      "60000\n",
      "tensor(9)\n",
      "tensor(0)\n"
     ]
    }
   ],
   "source": [
    "(X_train, X_val, X_test, Y_train, Y_val, Y_test, train_loader, val_loader, test_loader) = configure_mnist()\n",
    "\n",
    "print(Y_train.max())\n",
    "print(Y_train.min())"
   ]
  },
  {
   "cell_type": "code",
   "execution_count": 5,
   "metadata": {},
   "outputs": [],
   "source": [
    "NUM_EPOCHS = 50\n",
    "GAUSSIAN_NOISE = True\n",
    "INPUT_DIM = 784\n",
    "BATCH_SIZE = 100\n",
    "AE_HIDDEN = 1000\n",
    "DC_HIDDEN = 1000\n",
    "LATENT_DIM_CAT = 10\n",
    "LATENT_DIM_STYLE = 10\n",
    "PRIOR_STD = 1.0\n",
    "RESULT_FOLDER = 'semisupervised_results/50_momentum_noise_fixed'\n",
    "NUM_LABELED = 1000\n",
    "\n",
    "recon_loss = nn.MSELoss()\n",
    "# init_recon_lr = 0.001 #0.01\n",
    "init_recon_lr = 0.01\n",
    "\n",
    "semi_sup_loss = nn.CrossEntropyLoss()\n",
    "# init_semi_sup_lr = 0.001 #0.1\n",
    "init_semi_sup_lr = 0.1\n",
    "\n",
    "# init_gen_lr = init_disc_lr = 0.001 #0.1\n",
    "init_gen_lr = init_disc_lr = 0.1\n",
    "use_decoder_sigmoid = True"
   ]
  },
  {
   "cell_type": "code",
   "execution_count": 6,
   "metadata": {},
   "outputs": [],
   "source": [
    "options = SemiSupervisedAutoEncoderOptions(\n",
    "    input_dim=INPUT_DIM,\n",
    "    ae_hidden_dim=AE_HIDDEN,\n",
    "    disc_hidden_dim=DC_HIDDEN,\n",
    "    latent_dim_categorical=LATENT_DIM_CAT,\n",
    "    latent_dim_style=LATENT_DIM_STYLE,\n",
    "    recon_loss_fn=recon_loss,\n",
    "    init_recon_lr=init_recon_lr,\n",
    "    semi_supervised_loss_fn=semi_sup_loss,\n",
    "    init_semi_sup_lr=init_semi_sup_lr,\n",
    "    init_gen_lr=init_gen_lr,\n",
    "    use_decoder_sigmoid=use_decoder_sigmoid,\n",
    "    init_disc_categorical_lr = init_disc_lr,\n",
    "    init_disc_style_lr = init_disc_lr\n",
    ")\n",
    "\n",
    "model = SemiSupervisedAdversarialAutoencoder(options);"
   ]
  },
  {
   "cell_type": "code",
   "execution_count": null,
   "metadata": {},
   "outputs": [],
   "source": [
    "model.train_mbgd(\n",
    "    train_loader=train_loader,\n",
    "    val_loader=val_loader,\n",
    "    epochs=NUM_EPOCHS,\n",
    "    prior_std=PRIOR_STD,\n",
    "    result_folder=RESULT_FOLDER,\n",
    "    add_gaussian_noise=GAUSSIAN_NOISE\n",
    ")"
   ]
  },
  {
   "cell_type": "markdown",
   "metadata": {},
   "source": [
    "## Fixed Experiment"
   ]
  },
  {
   "cell_type": "code",
   "execution_count": 5,
   "metadata": {},
   "outputs": [],
   "source": [
    "NUM_EPOCHS = 1000\n",
    "GAUSSIAN_NOISE = True\n",
    "INPUT_DIM = 784\n",
    "BATCH_SIZE = 100\n",
    "AE_HIDDEN = 1000\n",
    "DC_HIDDEN = 1000\n",
    "LATENT_DIM_CAT = 10\n",
    "LATENT_DIM_STYLE = 10\n",
    "PRIOR_STD = 1.0\n",
    "RESULT_FOLDER = 'semisupervised_results/1000_epochs_adam_1000_samples'\n",
    "NUM_LABELED = 1000\n",
    "\n",
    "recon_loss = nn.MSELoss()\n",
    "init_recon_lr = 0.001 #0.01\n",
    "# init_recon_lr = 0.01\n",
    "\n",
    "semi_sup_loss = nn.CrossEntropyLoss()\n",
    "init_semi_sup_lr = 0.01 #0.1\n",
    "# init_semi_sup_lr = 0.1\n",
    "\n",
    "init_gen_lr = init_disc_lr = 0.001 #0.1\n",
    "# init_gen_lr = init_disc_lr = 0.1\n",
    "use_decoder_sigmoid = False"
   ]
  },
  {
   "cell_type": "code",
   "execution_count": 6,
   "metadata": {},
   "outputs": [],
   "source": [
    "from torch.utils.data import DataLoader, Subset, random_split, Dataset\n",
    "from torchvision import datasets, transforms\n",
    "import torch, numpy as np\n",
    "\n",
    "\n",
    "class UnlabeledWrapper(Dataset):\n",
    "    \"\"\"Return images only; label is always -1.\"\"\"\n",
    "    def __init__(self, base_ds, indices):\n",
    "        self.base_ds = base_ds\n",
    "        self.indices = indices\n",
    "    def __len__(self):\n",
    "        return len(self.indices)\n",
    "    def __getitem__(self, i):\n",
    "        x, _ = self.base_ds[self.indices[i]]\n",
    "        return x, -1\n",
    "\n",
    "\n",
    "def configure_mnist(batch_size=100, n_labeled=1000, val_fraction=0.10, seed=42):\n",
    "    transform = transforms.Compose([\n",
    "        transforms.ToTensor(),\n",
    "        transforms.Lambda(lambda x: x.view(-1))          # flatten to 784\n",
    "    ])\n",
    "\n",
    "    full_train = datasets.MNIST(root='./data', train=True,  download=True, transform=transform)\n",
    "    test_ds    = datasets.MNIST(root='./data', train=False, download=True, transform=transform)\n",
    "\n",
    "    rng = np.random.RandomState(seed)\n",
    "    all_idx       = np.arange(len(full_train))                       # 60 000 indices\n",
    "    labeled_idx   = rng.choice(all_idx, size=n_labeled, replace=False)\n",
    "    remaining_idx = np.setdiff1d(all_idx, labeled_idx)\n",
    "\n",
    "    n_val   = int(len(remaining_idx) * val_fraction)\n",
    "    val_idx = rng.choice(remaining_idx, size=n_val, replace=False)\n",
    "    unlabeled_idx = np.setdiff1d(remaining_idx, val_idx)\n",
    "\n",
    "    labeled_ds     = Subset(full_train, labeled_idx)                 # (x, y)\n",
    "    val_ds         = Subset(full_train, val_idx)                     # (x, y)\n",
    "    unlabeled_ds   = UnlabeledWrapper(full_train, unlabeled_idx)     # (x, -1)\n",
    "\n",
    "    train_labeled_loader   = DataLoader(labeled_ds,   batch_size=batch_size, shuffle=True,  drop_last=True)\n",
    "    train_unlabeled_loader = DataLoader(unlabeled_ds, batch_size=batch_size, shuffle=True,  drop_last=True)\n",
    "    val_loader             = DataLoader(val_ds,       batch_size=batch_size, shuffle=False)\n",
    "    test_loader            = DataLoader(test_ds,      batch_size=batch_size, shuffle=False)\n",
    "\n",
    "    X_lab = torch.stack([x for x, _ in labeled_ds])\n",
    "    Y_lab = torch.tensor([y for _, y in labeled_ds])\n",
    "\n",
    "    X_val = torch.stack([x for x, _ in val_ds])\n",
    "    Y_val = torch.tensor([y for _, y in val_ds])\n",
    "\n",
    "    X_test = torch.stack([x for x, _ in test_ds])\n",
    "    Y_test = test_ds.targets.clone()\n",
    "\n",
    "    return (X_lab, X_val, X_test,\n",
    "            Y_lab, Y_val, Y_test,\n",
    "            train_labeled_loader, train_unlabeled_loader, val_loader, test_loader)"
   ]
  },
  {
   "cell_type": "code",
   "execution_count": 7,
   "metadata": {},
   "outputs": [
    {
     "name": "stdout",
     "output_type": "stream",
     "text": [
      "labelled   : 1000\n",
      "unlabelled : 53100\n",
      "val        : 5900\n",
      "tensor(9) tensor(0)\n"
     ]
    }
   ],
   "source": [
    "(X_lab, X_val, X_test,\n",
    " Y_lab, Y_val, Y_test,\n",
    " train_labeled_loader,\n",
    " train_unlabeled_loader,\n",
    " val_loader,\n",
    " test_loader) = configure_mnist(batch_size=BATCH_SIZE, n_labeled=NUM_LABELED)\n",
    "\n",
    "print(\"labelled   :\", len(train_labeled_loader.dataset))   # 1 000\n",
    "print(\"unlabelled :\", len(train_unlabeled_loader.dataset)) # ≈53 000\n",
    "print(\"val        :\", len(val_loader.dataset))             # ≈6 000\n",
    "print(Y_lab.max(), Y_lab.min())      "
   ]
  },
  {
   "cell_type": "code",
   "execution_count": 8,
   "metadata": {},
   "outputs": [],
   "source": [
    "options = SemiSupervisedAutoEncoderOptions(\n",
    "    input_dim=INPUT_DIM,\n",
    "    ae_hidden_dim=AE_HIDDEN,\n",
    "    disc_hidden_dim=DC_HIDDEN,\n",
    "    latent_dim_categorical=LATENT_DIM_CAT,\n",
    "    latent_dim_style=LATENT_DIM_STYLE,\n",
    "    recon_loss_fn=recon_loss,\n",
    "    init_recon_lr=init_recon_lr,\n",
    "    semi_supervised_loss_fn=semi_sup_loss,\n",
    "    init_semi_sup_lr=init_semi_sup_lr,\n",
    "    init_gen_lr=init_gen_lr,\n",
    "    use_decoder_sigmoid=use_decoder_sigmoid,\n",
    "    init_disc_categorical_lr = init_disc_lr,\n",
    "    init_disc_style_lr = init_disc_lr\n",
    ")\n",
    "\n",
    "model = SemiSupervisedAdversarialAutoencoder(options);"
   ]
  },
  {
   "cell_type": "code",
   "execution_count": 9,
   "metadata": {},
   "outputs": [
    {
     "data": {
      "application/vnd.jupyter.widget-view+json": {
       "model_id": "cff2b38d0c434f03b0ce866089c0b092",
       "version_major": 2,
       "version_minor": 0
      },
      "text/plain": [
       "Epoch [1/1000]:   0%|          | 0/10 [00:00<?, ?it/s]"
      ]
     },
     "metadata": {},
     "output_type": "display_data"
    },
    {
     "name": "stdout",
     "output_type": "stream",
     "text": [
      "Epoch 1/1000 — Recon_U: 0.0953, Recon_L: 0.0938, SemiSup: 1.9864, Disc_Cat: 1.3447, Gen_Cat: 0.6743, Disc_Sty: 1.2381, Gen_Sty: 0.6962\n",
      "Validation Accuracy: 62.22%\n",
      "\n",
      "Weights saved to semisupervised_results/1000_epochs_adam_1000_samples/weights_*.pth\n"
     ]
    },
    {
     "data": {
      "application/vnd.jupyter.widget-view+json": {
       "model_id": "6ba040c0365b41729f9ef19459faa565",
       "version_major": 2,
       "version_minor": 0
      },
      "text/plain": [
       "Epoch [2/1000]:   0%|          | 0/10 [00:00<?, ?it/s]"
      ]
     },
     "metadata": {},
     "output_type": "display_data"
    },
    {
     "name": "stdout",
     "output_type": "stream",
     "text": [
      "Epoch 2/1000 — Recon_U: 0.0695, Recon_L: 0.0695, SemiSup: 0.9257, Disc_Cat: 1.2683, Gen_Cat: 0.6637, Disc_Sty: 0.7936, Gen_Sty: 0.8610\n",
      "Validation Accuracy: 81.07%\n",
      "\n",
      "Weights saved to semisupervised_results/1000_epochs_adam_1000_samples/weights_*.pth\n"
     ]
    },
    {
     "data": {
      "application/vnd.jupyter.widget-view+json": {
       "model_id": "f94bb195564449f08a68b50d37bbe82c",
       "version_major": 2,
       "version_minor": 0
      },
      "text/plain": [
       "Epoch [3/1000]:   0%|          | 0/10 [00:00<?, ?it/s]"
      ]
     },
     "metadata": {},
     "output_type": "display_data"
    },
    {
     "name": "stdout",
     "output_type": "stream",
     "text": [
      "Epoch 3/1000 — Recon_U: 0.0682, Recon_L: 0.0671, SemiSup: 0.5407, Disc_Cat: 1.1787, Gen_Cat: 0.7964, Disc_Sty: 1.0037, Gen_Sty: 1.1114\n",
      "Validation Accuracy: 86.63%\n",
      "\n",
      "Weights saved to semisupervised_results/1000_epochs_adam_1000_samples/weights_*.pth\n"
     ]
    },
    {
     "data": {
      "application/vnd.jupyter.widget-view+json": {
       "model_id": "bc11a9cd956c47dda3c55a6be49251df",
       "version_major": 2,
       "version_minor": 0
      },
      "text/plain": [
       "Epoch [4/1000]:   0%|          | 0/10 [00:00<?, ?it/s]"
      ]
     },
     "metadata": {},
     "output_type": "display_data"
    },
    {
     "name": "stdout",
     "output_type": "stream",
     "text": [
      "Epoch 4/1000 — Recon_U: 0.0658, Recon_L: 0.0647, SemiSup: 0.4641, Disc_Cat: 1.2215, Gen_Cat: 0.9231, Disc_Sty: 2.1783, Gen_Sty: 2.7870\n",
      "Validation Accuracy: 87.41%\n",
      "\n",
      "Weights saved to semisupervised_results/1000_epochs_adam_1000_samples/weights_*.pth\n"
     ]
    },
    {
     "data": {
      "application/vnd.jupyter.widget-view+json": {
       "model_id": "013513f27b5c4dae97ad974b56abe395",
       "version_major": 2,
       "version_minor": 0
      },
      "text/plain": [
       "Epoch [5/1000]:   0%|          | 0/10 [00:00<?, ?it/s]"
      ]
     },
     "metadata": {},
     "output_type": "display_data"
    },
    {
     "name": "stdout",
     "output_type": "stream",
     "text": [
      "Epoch 5/1000 — Recon_U: 0.0609, Recon_L: 0.0613, SemiSup: 0.3796, Disc_Cat: 1.1324, Gen_Cat: 1.1512, Disc_Sty: 1.6679, Gen_Sty: 3.0731\n",
      "Validation Accuracy: 87.69%\n",
      "\n",
      "Weights saved to semisupervised_results/1000_epochs_adam_1000_samples/weights_*.pth\n"
     ]
    },
    {
     "data": {
      "application/vnd.jupyter.widget-view+json": {
       "model_id": "42463e72efa9422bb3a3193c2f225ddb",
       "version_major": 2,
       "version_minor": 0
      },
      "text/plain": [
       "Epoch [6/1000]:   0%|          | 0/10 [00:00<?, ?it/s]"
      ]
     },
     "metadata": {},
     "output_type": "display_data"
    },
    {
     "name": "stdout",
     "output_type": "stream",
     "text": [
      "Epoch 6/1000 — Recon_U: 0.0586, Recon_L: 0.0578, SemiSup: 0.3341, Disc_Cat: 1.1856, Gen_Cat: 1.2304, Disc_Sty: 1.3440, Gen_Sty: 6.7432\n",
      "Validation Accuracy: 88.66%\n",
      "\n",
      "Weights saved to semisupervised_results/1000_epochs_adam_1000_samples/weights_*.pth\n"
     ]
    },
    {
     "data": {
      "application/vnd.jupyter.widget-view+json": {
       "model_id": "04b38268295447aca5b171d90d8cc3b0",
       "version_major": 2,
       "version_minor": 0
      },
      "text/plain": [
       "Epoch [7/1000]:   0%|          | 0/10 [00:00<?, ?it/s]"
      ]
     },
     "metadata": {},
     "output_type": "display_data"
    },
    {
     "name": "stdout",
     "output_type": "stream",
     "text": [
      "Epoch 7/1000 — Recon_U: 0.0549, Recon_L: 0.0553, SemiSup: 0.2607, Disc_Cat: 1.1949, Gen_Cat: 1.2953, Disc_Sty: 1.1258, Gen_Sty: 4.3700\n",
      "Validation Accuracy: 90.27%\n",
      "\n",
      "Weights saved to semisupervised_results/1000_epochs_adam_1000_samples/weights_*.pth\n"
     ]
    },
    {
     "data": {
      "application/vnd.jupyter.widget-view+json": {
       "model_id": "381a42e831604241b15c53b237dc3793",
       "version_major": 2,
       "version_minor": 0
      },
      "text/plain": [
       "Epoch [8/1000]:   0%|          | 0/10 [00:00<?, ?it/s]"
      ]
     },
     "metadata": {},
     "output_type": "display_data"
    },
    {
     "name": "stdout",
     "output_type": "stream",
     "text": [
      "Epoch 8/1000 — Recon_U: 0.0526, Recon_L: 0.0535, SemiSup: 0.2656, Disc_Cat: 1.2242, Gen_Cat: 1.2209, Disc_Sty: 1.1736, Gen_Sty: 3.4264\n",
      "Validation Accuracy: 89.20%\n",
      "\n",
      "Weights saved to semisupervised_results/1000_epochs_adam_1000_samples/weights_*.pth\n"
     ]
    },
    {
     "data": {
      "application/vnd.jupyter.widget-view+json": {
       "model_id": "4b6ec3afb96f438fadc16c82a24e518c",
       "version_major": 2,
       "version_minor": 0
      },
      "text/plain": [
       "Epoch [9/1000]:   0%|          | 0/10 [00:00<?, ?it/s]"
      ]
     },
     "metadata": {},
     "output_type": "display_data"
    },
    {
     "name": "stdout",
     "output_type": "stream",
     "text": [
      "Epoch 9/1000 — Recon_U: 0.0535, Recon_L: 0.0532, SemiSup: 0.2729, Disc_Cat: 1.1994, Gen_Cat: 1.2408, Disc_Sty: 1.3928, Gen_Sty: 3.0116\n",
      "Validation Accuracy: 88.20%\n",
      "\n",
      "Weights saved to semisupervised_results/1000_epochs_adam_1000_samples/weights_*.pth\n"
     ]
    },
    {
     "data": {
      "application/vnd.jupyter.widget-view+json": {
       "model_id": "13aa6d61e956475497700a68b9d652f6",
       "version_major": 2,
       "version_minor": 0
      },
      "text/plain": [
       "Epoch [10/1000]:   0%|          | 0/10 [00:00<?, ?it/s]"
      ]
     },
     "metadata": {},
     "output_type": "display_data"
    },
    {
     "name": "stdout",
     "output_type": "stream",
     "text": [
      "Epoch 10/1000 — Recon_U: 0.0521, Recon_L: 0.0520, SemiSup: 0.1862, Disc_Cat: 1.2193, Gen_Cat: 1.2437, Disc_Sty: 1.0047, Gen_Sty: 2.5400\n",
      "Validation Accuracy: 89.59%\n",
      "\n",
      "Weights saved to semisupervised_results/1000_epochs_adam_1000_samples/weights_*.pth\n"
     ]
    },
    {
     "data": {
      "application/vnd.jupyter.widget-view+json": {
       "model_id": "c7addc326d9848e681df9ca5140ac69f",
       "version_major": 2,
       "version_minor": 0
      },
      "text/plain": [
       "Epoch [11/1000]:   0%|          | 0/10 [00:00<?, ?it/s]"
      ]
     },
     "metadata": {},
     "output_type": "display_data"
    },
    {
     "name": "stdout",
     "output_type": "stream",
     "text": [
      "Epoch 11/1000 — Recon_U: 0.0509, Recon_L: 0.0509, SemiSup: 0.2263, Disc_Cat: 1.2397, Gen_Cat: 1.1595, Disc_Sty: 0.5685, Gen_Sty: 3.1113\n",
      "Validation Accuracy: 88.85%\n",
      "\n",
      "Weights saved to semisupervised_results/1000_epochs_adam_1000_samples/weights_*.pth\n"
     ]
    },
    {
     "data": {
      "application/vnd.jupyter.widget-view+json": {
       "model_id": "5f190b92d8b946c5bf75784b871be475",
       "version_major": 2,
       "version_minor": 0
      },
      "text/plain": [
       "Epoch [12/1000]:   0%|          | 0/10 [00:00<?, ?it/s]"
      ]
     },
     "metadata": {},
     "output_type": "display_data"
    },
    {
     "name": "stdout",
     "output_type": "stream",
     "text": [
      "Epoch 12/1000 — Recon_U: 0.0506, Recon_L: 0.0498, SemiSup: 0.1641, Disc_Cat: 1.1809, Gen_Cat: 1.2624, Disc_Sty: 0.6230, Gen_Sty: 3.3838\n",
      "Validation Accuracy: 89.86%\n",
      "\n",
      "Weights saved to semisupervised_results/1000_epochs_adam_1000_samples/weights_*.pth\n"
     ]
    },
    {
     "data": {
      "application/vnd.jupyter.widget-view+json": {
       "model_id": "da0eb12659554e3db1cac5b7e47d4d76",
       "version_major": 2,
       "version_minor": 0
      },
      "text/plain": [
       "Epoch [13/1000]:   0%|          | 0/10 [00:00<?, ?it/s]"
      ]
     },
     "metadata": {},
     "output_type": "display_data"
    },
    {
     "name": "stdout",
     "output_type": "stream",
     "text": [
      "Epoch 13/1000 — Recon_U: 0.0492, Recon_L: 0.0490, SemiSup: 0.2284, Disc_Cat: 1.2202, Gen_Cat: 1.2240, Disc_Sty: 1.3788, Gen_Sty: 2.5289\n",
      "Validation Accuracy: 90.39%\n",
      "\n",
      "Weights saved to semisupervised_results/1000_epochs_adam_1000_samples/weights_*.pth\n"
     ]
    },
    {
     "data": {
      "application/vnd.jupyter.widget-view+json": {
       "model_id": "d216fcbae54846e799c606f65710c0a5",
       "version_major": 2,
       "version_minor": 0
      },
      "text/plain": [
       "Epoch [14/1000]:   0%|          | 0/10 [00:00<?, ?it/s]"
      ]
     },
     "metadata": {},
     "output_type": "display_data"
    },
    {
     "name": "stdout",
     "output_type": "stream",
     "text": [
      "Epoch 14/1000 — Recon_U: 0.0483, Recon_L: 0.0487, SemiSup: 0.2289, Disc_Cat: 1.2372, Gen_Cat: 1.1802, Disc_Sty: 1.8298, Gen_Sty: 2.4763\n",
      "Validation Accuracy: 88.15%\n",
      "\n",
      "Weights saved to semisupervised_results/1000_epochs_adam_1000_samples/weights_*.pth\n"
     ]
    },
    {
     "data": {
      "application/vnd.jupyter.widget-view+json": {
       "model_id": "35d3c144e9574947a31c028069bf3da2",
       "version_major": 2,
       "version_minor": 0
      },
      "text/plain": [
       "Epoch [15/1000]:   0%|          | 0/10 [00:00<?, ?it/s]"
      ]
     },
     "metadata": {},
     "output_type": "display_data"
    },
    {
     "name": "stdout",
     "output_type": "stream",
     "text": [
      "Epoch 15/1000 — Recon_U: 0.0497, Recon_L: 0.0488, SemiSup: 0.2818, Disc_Cat: 1.2793, Gen_Cat: 1.2006, Disc_Sty: 1.5786, Gen_Sty: 2.5194\n",
      "Validation Accuracy: 87.64%\n",
      "\n",
      "Weights saved to semisupervised_results/1000_epochs_adam_1000_samples/weights_*.pth\n"
     ]
    },
    {
     "data": {
      "application/vnd.jupyter.widget-view+json": {
       "model_id": "6568d7cc3ea7418186964f2a95ab43f8",
       "version_major": 2,
       "version_minor": 0
      },
      "text/plain": [
       "Epoch [16/1000]:   0%|          | 0/10 [00:00<?, ?it/s]"
      ]
     },
     "metadata": {},
     "output_type": "display_data"
    },
    {
     "name": "stdout",
     "output_type": "stream",
     "text": [
      "Epoch 16/1000 — Recon_U: 0.0486, Recon_L: 0.0481, SemiSup: 0.1791, Disc_Cat: 1.2507, Gen_Cat: 1.2025, Disc_Sty: 1.3153, Gen_Sty: 1.9942\n",
      "Validation Accuracy: 89.69%\n",
      "\n",
      "Weights saved to semisupervised_results/1000_epochs_adam_1000_samples/weights_*.pth\n"
     ]
    },
    {
     "data": {
      "application/vnd.jupyter.widget-view+json": {
       "model_id": "bd3dd54e65b04e438bf925895fd22fe4",
       "version_major": 2,
       "version_minor": 0
      },
      "text/plain": [
       "Epoch [17/1000]:   0%|          | 0/10 [00:00<?, ?it/s]"
      ]
     },
     "metadata": {},
     "output_type": "display_data"
    },
    {
     "name": "stdout",
     "output_type": "stream",
     "text": [
      "Epoch 17/1000 — Recon_U: 0.0470, Recon_L: 0.0464, SemiSup: 0.1598, Disc_Cat: 1.2695, Gen_Cat: 1.1193, Disc_Sty: 0.9794, Gen_Sty: 1.6314\n",
      "Validation Accuracy: 90.97%\n",
      "\n",
      "Weights saved to semisupervised_results/1000_epochs_adam_1000_samples/weights_*.pth\n"
     ]
    },
    {
     "data": {
      "application/vnd.jupyter.widget-view+json": {
       "model_id": "1845597d181e40ff8b3ca3e153055709",
       "version_major": 2,
       "version_minor": 0
      },
      "text/plain": [
       "Epoch [18/1000]:   0%|          | 0/10 [00:00<?, ?it/s]"
      ]
     },
     "metadata": {},
     "output_type": "display_data"
    },
    {
     "name": "stdout",
     "output_type": "stream",
     "text": [
      "Epoch 18/1000 — Recon_U: 0.0455, Recon_L: 0.0454, SemiSup: 0.1511, Disc_Cat: 1.2537, Gen_Cat: 1.0890, Disc_Sty: 0.8490, Gen_Sty: 1.7490\n",
      "Validation Accuracy: 90.00%\n",
      "\n",
      "Weights saved to semisupervised_results/1000_epochs_adam_1000_samples/weights_*.pth\n"
     ]
    },
    {
     "data": {
      "application/vnd.jupyter.widget-view+json": {
       "model_id": "d6f152d96da14b58b1a6ec3e84c38289",
       "version_major": 2,
       "version_minor": 0
      },
      "text/plain": [
       "Epoch [19/1000]:   0%|          | 0/10 [00:00<?, ?it/s]"
      ]
     },
     "metadata": {},
     "output_type": "display_data"
    },
    {
     "name": "stdout",
     "output_type": "stream",
     "text": [
      "Epoch 19/1000 — Recon_U: 0.0442, Recon_L: 0.0440, SemiSup: 0.1217, Disc_Cat: 1.2547, Gen_Cat: 1.0940, Disc_Sty: 0.8303, Gen_Sty: 1.6751\n",
      "Validation Accuracy: 90.08%\n",
      "\n",
      "Weights saved to semisupervised_results/1000_epochs_adam_1000_samples/weights_*.pth\n"
     ]
    },
    {
     "data": {
      "application/vnd.jupyter.widget-view+json": {
       "model_id": "8db78cc44d6f4ba19f358b40190db929",
       "version_major": 2,
       "version_minor": 0
      },
      "text/plain": [
       "Epoch [20/1000]:   0%|          | 0/10 [00:00<?, ?it/s]"
      ]
     },
     "metadata": {},
     "output_type": "display_data"
    },
    {
     "name": "stdout",
     "output_type": "stream",
     "text": [
      "Epoch 20/1000 — Recon_U: 0.0445, Recon_L: 0.0430, SemiSup: 0.0924, Disc_Cat: 1.2531, Gen_Cat: 1.0815, Disc_Sty: 0.7793, Gen_Sty: 1.9035\n",
      "Validation Accuracy: 90.39%\n",
      "\n",
      "Weights saved to semisupervised_results/1000_epochs_adam_1000_samples/weights_*.pth\n"
     ]
    },
    {
     "data": {
      "application/vnd.jupyter.widget-view+json": {
       "model_id": "c1d612f307364361ac07a7cea0f5435f",
       "version_major": 2,
       "version_minor": 0
      },
      "text/plain": [
       "Epoch [21/1000]:   0%|          | 0/10 [00:00<?, ?it/s]"
      ]
     },
     "metadata": {},
     "output_type": "display_data"
    },
    {
     "name": "stdout",
     "output_type": "stream",
     "text": [
      "Epoch 21/1000 — Recon_U: 0.0428, Recon_L: 0.0424, SemiSup: 0.1444, Disc_Cat: 1.2865, Gen_Cat: 1.0334, Disc_Sty: 1.6816, Gen_Sty: 1.4336\n",
      "Validation Accuracy: 90.41%\n",
      "\n",
      "Weights saved to semisupervised_results/1000_epochs_adam_1000_samples/weights_*.pth\n"
     ]
    },
    {
     "data": {
      "application/vnd.jupyter.widget-view+json": {
       "model_id": "a5eeed973a854e12a3e024304b5c8df1",
       "version_major": 2,
       "version_minor": 0
      },
      "text/plain": [
       "Epoch [22/1000]:   0%|          | 0/10 [00:00<?, ?it/s]"
      ]
     },
     "metadata": {},
     "output_type": "display_data"
    },
    {
     "name": "stdout",
     "output_type": "stream",
     "text": [
      "Epoch 22/1000 — Recon_U: 0.0424, Recon_L: 0.0417, SemiSup: 0.1418, Disc_Cat: 1.2869, Gen_Cat: 1.0367, Disc_Sty: 1.6577, Gen_Sty: 3.2745\n",
      "Validation Accuracy: 89.10%\n",
      "\n",
      "Weights saved to semisupervised_results/1000_epochs_adam_1000_samples/weights_*.pth\n"
     ]
    },
    {
     "data": {
      "application/vnd.jupyter.widget-view+json": {
       "model_id": "a5e2e29820934c09989cf610c7795d3a",
       "version_major": 2,
       "version_minor": 0
      },
      "text/plain": [
       "Epoch [23/1000]:   0%|          | 0/10 [00:00<?, ?it/s]"
      ]
     },
     "metadata": {},
     "output_type": "display_data"
    },
    {
     "name": "stdout",
     "output_type": "stream",
     "text": [
      "Epoch 23/1000 — Recon_U: 0.0417, Recon_L: 0.0413, SemiSup: 0.1554, Disc_Cat: 1.2714, Gen_Cat: 1.0253, Disc_Sty: 1.8798, Gen_Sty: 1.5799\n",
      "Validation Accuracy: 89.46%\n",
      "\n",
      "Weights saved to semisupervised_results/1000_epochs_adam_1000_samples/weights_*.pth\n"
     ]
    },
    {
     "data": {
      "application/vnd.jupyter.widget-view+json": {
       "model_id": "30b61a5a6ced4f3b93c9a721fb69e3e2",
       "version_major": 2,
       "version_minor": 0
      },
      "text/plain": [
       "Epoch [24/1000]:   0%|          | 0/10 [00:00<?, ?it/s]"
      ]
     },
     "metadata": {},
     "output_type": "display_data"
    },
    {
     "name": "stdout",
     "output_type": "stream",
     "text": [
      "Epoch 24/1000 — Recon_U: 0.0419, Recon_L: 0.0411, SemiSup: 0.1968, Disc_Cat: 1.2822, Gen_Cat: 1.0640, Disc_Sty: 1.3710, Gen_Sty: 1.0762\n",
      "Validation Accuracy: 90.95%\n",
      "\n",
      "Weights saved to semisupervised_results/1000_epochs_adam_1000_samples/weights_*.pth\n"
     ]
    },
    {
     "data": {
      "application/vnd.jupyter.widget-view+json": {
       "model_id": "b418c137868c4df18c06d131c4614506",
       "version_major": 2,
       "version_minor": 0
      },
      "text/plain": [
       "Epoch [25/1000]:   0%|          | 0/10 [00:00<?, ?it/s]"
      ]
     },
     "metadata": {},
     "output_type": "display_data"
    },
    {
     "name": "stdout",
     "output_type": "stream",
     "text": [
      "Epoch 25/1000 — Recon_U: 0.0422, Recon_L: 0.0410, SemiSup: 0.1326, Disc_Cat: 1.2816, Gen_Cat: 1.0319, Disc_Sty: 1.0858, Gen_Sty: 1.4889\n",
      "Validation Accuracy: 88.86%\n",
      "\n",
      "Weights saved to semisupervised_results/1000_epochs_adam_1000_samples/weights_*.pth\n"
     ]
    },
    {
     "data": {
      "application/vnd.jupyter.widget-view+json": {
       "model_id": "b99f47e5cdda4d669799172cf338ca4e",
       "version_major": 2,
       "version_minor": 0
      },
      "text/plain": [
       "Epoch [26/1000]:   0%|          | 0/10 [00:00<?, ?it/s]"
      ]
     },
     "metadata": {},
     "output_type": "display_data"
    },
    {
     "name": "stdout",
     "output_type": "stream",
     "text": [
      "Epoch 26/1000 — Recon_U: 0.0402, Recon_L: 0.0401, SemiSup: 0.2010, Disc_Cat: 1.2828, Gen_Cat: 1.0754, Disc_Sty: 1.1993, Gen_Sty: 1.4635\n",
      "Validation Accuracy: 91.02%\n",
      "\n",
      "Weights saved to semisupervised_results/1000_epochs_adam_1000_samples/weights_*.pth\n"
     ]
    },
    {
     "data": {
      "application/vnd.jupyter.widget-view+json": {
       "model_id": "59e3a210fe8945d99d9725fc2d39fdc7",
       "version_major": 2,
       "version_minor": 0
      },
      "text/plain": [
       "Epoch [27/1000]:   0%|          | 0/10 [00:00<?, ?it/s]"
      ]
     },
     "metadata": {},
     "output_type": "display_data"
    },
    {
     "name": "stdout",
     "output_type": "stream",
     "text": [
      "Epoch 27/1000 — Recon_U: 0.0405, Recon_L: 0.0395, SemiSup: 0.0952, Disc_Cat: 1.2797, Gen_Cat: 1.0261, Disc_Sty: 1.6564, Gen_Sty: 1.0337\n",
      "Validation Accuracy: 91.54%\n",
      "\n",
      "Weights saved to semisupervised_results/1000_epochs_adam_1000_samples/weights_*.pth\n"
     ]
    },
    {
     "data": {
      "application/vnd.jupyter.widget-view+json": {
       "model_id": "ef682c80261747d199fa7d6a16e2e106",
       "version_major": 2,
       "version_minor": 0
      },
      "text/plain": [
       "Epoch [28/1000]:   0%|          | 0/10 [00:00<?, ?it/s]"
      ]
     },
     "metadata": {},
     "output_type": "display_data"
    },
    {
     "name": "stdout",
     "output_type": "stream",
     "text": [
      "Epoch 28/1000 — Recon_U: 0.0392, Recon_L: 0.0386, SemiSup: 0.1364, Disc_Cat: 1.2757, Gen_Cat: 1.0323, Disc_Sty: 1.5798, Gen_Sty: 1.1111\n",
      "Validation Accuracy: 89.90%\n",
      "\n",
      "Weights saved to semisupervised_results/1000_epochs_adam_1000_samples/weights_*.pth\n"
     ]
    },
    {
     "data": {
      "application/vnd.jupyter.widget-view+json": {
       "model_id": "ea841670795c49789f0ffedaf8e54cbf",
       "version_major": 2,
       "version_minor": 0
      },
      "text/plain": [
       "Epoch [29/1000]:   0%|          | 0/10 [00:00<?, ?it/s]"
      ]
     },
     "metadata": {},
     "output_type": "display_data"
    },
    {
     "name": "stdout",
     "output_type": "stream",
     "text": [
      "Epoch 29/1000 — Recon_U: 0.0379, Recon_L: 0.0379, SemiSup: 0.1334, Disc_Cat: 1.3100, Gen_Cat: 1.0116, Disc_Sty: 1.4390, Gen_Sty: 0.6931\n",
      "Validation Accuracy: 89.81%\n",
      "\n",
      "Weights saved to semisupervised_results/1000_epochs_adam_1000_samples/weights_*.pth\n"
     ]
    },
    {
     "data": {
      "application/vnd.jupyter.widget-view+json": {
       "model_id": "0b2624ab7cb24649baf36ba9d3882363",
       "version_major": 2,
       "version_minor": 0
      },
      "text/plain": [
       "Epoch [30/1000]:   0%|          | 0/10 [00:00<?, ?it/s]"
      ]
     },
     "metadata": {},
     "output_type": "display_data"
    },
    {
     "name": "stdout",
     "output_type": "stream",
     "text": [
      "Epoch 30/1000 — Recon_U: 0.0374, Recon_L: 0.0372, SemiSup: 0.1018, Disc_Cat: 1.3013, Gen_Cat: 0.9845, Disc_Sty: 1.3332, Gen_Sty: 0.6340\n",
      "Validation Accuracy: 90.93%\n",
      "\n",
      "Weights saved to semisupervised_results/1000_epochs_adam_1000_samples/weights_*.pth\n"
     ]
    },
    {
     "data": {
      "application/vnd.jupyter.widget-view+json": {
       "model_id": "53ac39acf2ef430690caef386c7dc719",
       "version_major": 2,
       "version_minor": 0
      },
      "text/plain": [
       "Epoch [31/1000]:   0%|          | 0/10 [00:00<?, ?it/s]"
      ]
     },
     "metadata": {},
     "output_type": "display_data"
    },
    {
     "name": "stdout",
     "output_type": "stream",
     "text": [
      "Epoch 31/1000 — Recon_U: 0.0375, Recon_L: 0.0366, SemiSup: 0.0598, Disc_Cat: 1.2898, Gen_Cat: 0.9773, Disc_Sty: 1.3556, Gen_Sty: 0.6449\n",
      "Validation Accuracy: 91.14%\n",
      "\n",
      "Weights saved to semisupervised_results/1000_epochs_adam_1000_samples/weights_*.pth\n"
     ]
    },
    {
     "data": {
      "application/vnd.jupyter.widget-view+json": {
       "model_id": "81f0182ca3e34cca9dd5099a4bb29f54",
       "version_major": 2,
       "version_minor": 0
      },
      "text/plain": [
       "Epoch [32/1000]:   0%|          | 0/10 [00:00<?, ?it/s]"
      ]
     },
     "metadata": {},
     "output_type": "display_data"
    },
    {
     "name": "stdout",
     "output_type": "stream",
     "text": [
      "Epoch 32/1000 — Recon_U: 0.0375, Recon_L: 0.0360, SemiSup: 0.1141, Disc_Cat: 1.3066, Gen_Cat: 0.9176, Disc_Sty: 1.1963, Gen_Sty: 0.9266\n",
      "Validation Accuracy: 90.32%\n",
      "\n",
      "Weights saved to semisupervised_results/1000_epochs_adam_1000_samples/weights_*.pth\n"
     ]
    },
    {
     "data": {
      "application/vnd.jupyter.widget-view+json": {
       "model_id": "e188581684d948a989e9e51bbd551378",
       "version_major": 2,
       "version_minor": 0
      },
      "text/plain": [
       "Epoch [33/1000]:   0%|          | 0/10 [00:00<?, ?it/s]"
      ]
     },
     "metadata": {},
     "output_type": "display_data"
    },
    {
     "name": "stdout",
     "output_type": "stream",
     "text": [
      "Epoch 33/1000 — Recon_U: 0.0367, Recon_L: 0.0355, SemiSup: 0.1287, Disc_Cat: 1.2974, Gen_Cat: 0.9654, Disc_Sty: 1.1477, Gen_Sty: 1.1286\n",
      "Validation Accuracy: 91.02%\n",
      "\n",
      "Weights saved to semisupervised_results/1000_epochs_adam_1000_samples/weights_*.pth\n"
     ]
    },
    {
     "data": {
      "application/vnd.jupyter.widget-view+json": {
       "model_id": "9a70b27453b74c3dbc0f6060f132d993",
       "version_major": 2,
       "version_minor": 0
      },
      "text/plain": [
       "Epoch [34/1000]:   0%|          | 0/10 [00:00<?, ?it/s]"
      ]
     },
     "metadata": {},
     "output_type": "display_data"
    },
    {
     "name": "stdout",
     "output_type": "stream",
     "text": [
      "Epoch 34/1000 — Recon_U: 0.0365, Recon_L: 0.0357, SemiSup: 0.1306, Disc_Cat: 1.3066, Gen_Cat: 0.9200, Disc_Sty: 1.3428, Gen_Sty: 0.8973\n",
      "Validation Accuracy: 90.29%\n",
      "\n",
      "Weights saved to semisupervised_results/1000_epochs_adam_1000_samples/weights_*.pth\n"
     ]
    },
    {
     "data": {
      "application/vnd.jupyter.widget-view+json": {
       "model_id": "dec85ccf13d44b8d89814aa6271090ed",
       "version_major": 2,
       "version_minor": 0
      },
      "text/plain": [
       "Epoch [35/1000]:   0%|          | 0/10 [00:00<?, ?it/s]"
      ]
     },
     "metadata": {},
     "output_type": "display_data"
    },
    {
     "name": "stdout",
     "output_type": "stream",
     "text": [
      "Epoch 35/1000 — Recon_U: 0.0363, Recon_L: 0.0357, SemiSup: 0.1661, Disc_Cat: 1.2833, Gen_Cat: 0.9852, Disc_Sty: 1.6369, Gen_Sty: 0.8609\n",
      "Validation Accuracy: 90.69%\n",
      "\n",
      "Weights saved to semisupervised_results/1000_epochs_adam_1000_samples/weights_*.pth\n"
     ]
    },
    {
     "data": {
      "application/vnd.jupyter.widget-view+json": {
       "model_id": "dd246d4953274ebb8756871d9265ec79",
       "version_major": 2,
       "version_minor": 0
      },
      "text/plain": [
       "Epoch [36/1000]:   0%|          | 0/10 [00:00<?, ?it/s]"
      ]
     },
     "metadata": {},
     "output_type": "display_data"
    },
    {
     "name": "stdout",
     "output_type": "stream",
     "text": [
      "Epoch 36/1000 — Recon_U: 0.0359, Recon_L: 0.0352, SemiSup: 0.1501, Disc_Cat: 1.3101, Gen_Cat: 0.9531, Disc_Sty: 1.2958, Gen_Sty: 1.6186\n",
      "Validation Accuracy: 89.66%\n",
      "\n",
      "Weights saved to semisupervised_results/1000_epochs_adam_1000_samples/weights_*.pth\n"
     ]
    },
    {
     "data": {
      "application/vnd.jupyter.widget-view+json": {
       "model_id": "37be58f2ea96416f94b42992345a87ec",
       "version_major": 2,
       "version_minor": 0
      },
      "text/plain": [
       "Epoch [37/1000]:   0%|          | 0/10 [00:00<?, ?it/s]"
      ]
     },
     "metadata": {},
     "output_type": "display_data"
    },
    {
     "name": "stdout",
     "output_type": "stream",
     "text": [
      "Epoch 37/1000 — Recon_U: 0.0366, Recon_L: 0.0348, SemiSup: 0.1245, Disc_Cat: 1.3097, Gen_Cat: 0.9472, Disc_Sty: 1.2925, Gen_Sty: 1.0476\n",
      "Validation Accuracy: 89.76%\n",
      "\n",
      "Weights saved to semisupervised_results/1000_epochs_adam_1000_samples/weights_*.pth\n"
     ]
    },
    {
     "data": {
      "application/vnd.jupyter.widget-view+json": {
       "model_id": "c498431f0341439bb9f59ce83cbab742",
       "version_major": 2,
       "version_minor": 0
      },
      "text/plain": [
       "Epoch [38/1000]:   0%|          | 0/10 [00:00<?, ?it/s]"
      ]
     },
     "metadata": {},
     "output_type": "display_data"
    },
    {
     "name": "stdout",
     "output_type": "stream",
     "text": [
      "Epoch 38/1000 — Recon_U: 0.0366, Recon_L: 0.0349, SemiSup: 0.1634, Disc_Cat: 1.3318, Gen_Cat: 0.9643, Disc_Sty: 1.1733, Gen_Sty: 1.4048\n",
      "Validation Accuracy: 89.71%\n",
      "\n",
      "Weights saved to semisupervised_results/1000_epochs_adam_1000_samples/weights_*.pth\n"
     ]
    },
    {
     "data": {
      "application/vnd.jupyter.widget-view+json": {
       "model_id": "09e0ad54cf9c4c28b8d894b780bdd146",
       "version_major": 2,
       "version_minor": 0
      },
      "text/plain": [
       "Epoch [39/1000]:   0%|          | 0/10 [00:00<?, ?it/s]"
      ]
     },
     "metadata": {},
     "output_type": "display_data"
    },
    {
     "name": "stdout",
     "output_type": "stream",
     "text": [
      "Epoch 39/1000 — Recon_U: 0.0365, Recon_L: 0.0348, SemiSup: 0.0826, Disc_Cat: 1.3106, Gen_Cat: 0.9498, Disc_Sty: 1.5771, Gen_Sty: 0.7977\n",
      "Validation Accuracy: 91.19%\n",
      "\n",
      "Weights saved to semisupervised_results/1000_epochs_adam_1000_samples/weights_*.pth\n"
     ]
    },
    {
     "data": {
      "application/vnd.jupyter.widget-view+json": {
       "model_id": "42d6201877c14430b888b66b43f42ad0",
       "version_major": 2,
       "version_minor": 0
      },
      "text/plain": [
       "Epoch [40/1000]:   0%|          | 0/10 [00:00<?, ?it/s]"
      ]
     },
     "metadata": {},
     "output_type": "display_data"
    },
    {
     "name": "stdout",
     "output_type": "stream",
     "text": [
      "Epoch 40/1000 — Recon_U: 0.0361, Recon_L: 0.0346, SemiSup: 0.1720, Disc_Cat: 1.3199, Gen_Cat: 0.9169, Disc_Sty: 1.4882, Gen_Sty: 1.1025\n",
      "Validation Accuracy: 90.17%\n",
      "\n",
      "Weights saved to semisupervised_results/1000_epochs_adam_1000_samples/weights_*.pth\n"
     ]
    },
    {
     "data": {
      "application/vnd.jupyter.widget-view+json": {
       "model_id": "6352fb50ef2e4532808a3f89926fe7b3",
       "version_major": 2,
       "version_minor": 0
      },
      "text/plain": [
       "Epoch [41/1000]:   0%|          | 0/10 [00:00<?, ?it/s]"
      ]
     },
     "metadata": {},
     "output_type": "display_data"
    },
    {
     "name": "stdout",
     "output_type": "stream",
     "text": [
      "Epoch 41/1000 — Recon_U: 0.0363, Recon_L: 0.0343, SemiSup: 0.1233, Disc_Cat: 1.3165, Gen_Cat: 0.8930, Disc_Sty: 1.2603, Gen_Sty: 1.7533\n",
      "Validation Accuracy: 90.66%\n",
      "\n",
      "Weights saved to semisupervised_results/1000_epochs_adam_1000_samples/weights_*.pth\n"
     ]
    },
    {
     "data": {
      "application/vnd.jupyter.widget-view+json": {
       "model_id": "d2b5f282a2b44c9181f5c73e0386e785",
       "version_major": 2,
       "version_minor": 0
      },
      "text/plain": [
       "Epoch [42/1000]:   0%|          | 0/10 [00:00<?, ?it/s]"
      ]
     },
     "metadata": {},
     "output_type": "display_data"
    },
    {
     "name": "stdout",
     "output_type": "stream",
     "text": [
      "Epoch 42/1000 — Recon_U: 0.0351, Recon_L: 0.0342, SemiSup: 0.0940, Disc_Cat: 1.2908, Gen_Cat: 0.9204, Disc_Sty: 1.4470, Gen_Sty: 0.9489\n",
      "Validation Accuracy: 90.47%\n",
      "\n",
      "Weights saved to semisupervised_results/1000_epochs_adam_1000_samples/weights_*.pth\n"
     ]
    },
    {
     "data": {
      "application/vnd.jupyter.widget-view+json": {
       "model_id": "f6183af40ee8431985c7f9bbb4af5fcb",
       "version_major": 2,
       "version_minor": 0
      },
      "text/plain": [
       "Epoch [43/1000]:   0%|          | 0/10 [00:00<?, ?it/s]"
      ]
     },
     "metadata": {},
     "output_type": "display_data"
    },
    {
     "name": "stdout",
     "output_type": "stream",
     "text": [
      "Epoch 43/1000 — Recon_U: 0.0363, Recon_L: 0.0342, SemiSup: 0.1416, Disc_Cat: 1.3040, Gen_Cat: 0.9839, Disc_Sty: 1.4516, Gen_Sty: 0.7315\n",
      "Validation Accuracy: 90.97%\n",
      "\n",
      "Weights saved to semisupervised_results/1000_epochs_adam_1000_samples/weights_*.pth\n"
     ]
    },
    {
     "data": {
      "application/vnd.jupyter.widget-view+json": {
       "model_id": "24b725b392a4438d9e3df56abf8d93a2",
       "version_major": 2,
       "version_minor": 0
      },
      "text/plain": [
       "Epoch [44/1000]:   0%|          | 0/10 [00:00<?, ?it/s]"
      ]
     },
     "metadata": {},
     "output_type": "display_data"
    },
    {
     "name": "stdout",
     "output_type": "stream",
     "text": [
      "Epoch 44/1000 — Recon_U: 0.0358, Recon_L: 0.0336, SemiSup: 0.1234, Disc_Cat: 1.3089, Gen_Cat: 0.9363, Disc_Sty: 1.3411, Gen_Sty: 0.8137\n",
      "Validation Accuracy: 90.95%\n",
      "\n",
      "Weights saved to semisupervised_results/1000_epochs_adam_1000_samples/weights_*.pth\n"
     ]
    },
    {
     "data": {
      "application/vnd.jupyter.widget-view+json": {
       "model_id": "60bb056345a946328be59cb7ca428300",
       "version_major": 2,
       "version_minor": 0
      },
      "text/plain": [
       "Epoch [45/1000]:   0%|          | 0/10 [00:00<?, ?it/s]"
      ]
     },
     "metadata": {},
     "output_type": "display_data"
    },
    {
     "name": "stdout",
     "output_type": "stream",
     "text": [
      "Epoch 45/1000 — Recon_U: 0.0358, Recon_L: 0.0330, SemiSup: 0.1360, Disc_Cat: 1.3281, Gen_Cat: 0.9547, Disc_Sty: 1.2842, Gen_Sty: 0.9482\n",
      "Validation Accuracy: 90.39%\n",
      "\n",
      "Weights saved to semisupervised_results/1000_epochs_adam_1000_samples/weights_*.pth\n"
     ]
    },
    {
     "data": {
      "application/vnd.jupyter.widget-view+json": {
       "model_id": "60b8b5f47eb54b6fb80eb93bd854abd3",
       "version_major": 2,
       "version_minor": 0
      },
      "text/plain": [
       "Epoch [46/1000]:   0%|          | 0/10 [00:00<?, ?it/s]"
      ]
     },
     "metadata": {},
     "output_type": "display_data"
    },
    {
     "name": "stdout",
     "output_type": "stream",
     "text": [
      "Epoch 46/1000 — Recon_U: 0.0352, Recon_L: 0.0329, SemiSup: 0.1076, Disc_Cat: 1.2867, Gen_Cat: 0.9785, Disc_Sty: 1.3053, Gen_Sty: 0.9837\n",
      "Validation Accuracy: 91.58%\n",
      "\n",
      "Weights saved to semisupervised_results/1000_epochs_adam_1000_samples/weights_*.pth\n"
     ]
    },
    {
     "data": {
      "application/vnd.jupyter.widget-view+json": {
       "model_id": "da361ca34c654105ac93133c6f745bca",
       "version_major": 2,
       "version_minor": 0
      },
      "text/plain": [
       "Epoch [47/1000]:   0%|          | 0/10 [00:00<?, ?it/s]"
      ]
     },
     "metadata": {},
     "output_type": "display_data"
    },
    {
     "name": "stdout",
     "output_type": "stream",
     "text": [
      "Epoch 47/1000 — Recon_U: 0.0346, Recon_L: 0.0325, SemiSup: 0.0699, Disc_Cat: 1.2947, Gen_Cat: 0.9340, Disc_Sty: 1.3515, Gen_Sty: 0.9085\n",
      "Validation Accuracy: 91.02%\n",
      "\n",
      "Weights saved to semisupervised_results/1000_epochs_adam_1000_samples/weights_*.pth\n"
     ]
    },
    {
     "data": {
      "application/vnd.jupyter.widget-view+json": {
       "model_id": "88c5052665a64a46b3d62ec3e0e65676",
       "version_major": 2,
       "version_minor": 0
      },
      "text/plain": [
       "Epoch [48/1000]:   0%|          | 0/10 [00:00<?, ?it/s]"
      ]
     },
     "metadata": {},
     "output_type": "display_data"
    },
    {
     "name": "stdout",
     "output_type": "stream",
     "text": [
      "Epoch 48/1000 — Recon_U: 0.0343, Recon_L: 0.0323, SemiSup: 0.0800, Disc_Cat: 1.3098, Gen_Cat: 0.9344, Disc_Sty: 1.3441, Gen_Sty: 0.8316\n",
      "Validation Accuracy: 90.64%\n",
      "\n",
      "Weights saved to semisupervised_results/1000_epochs_adam_1000_samples/weights_*.pth\n"
     ]
    },
    {
     "data": {
      "application/vnd.jupyter.widget-view+json": {
       "model_id": "6d59112ce18e4a3fa3e988accba90fa1",
       "version_major": 2,
       "version_minor": 0
      },
      "text/plain": [
       "Epoch [49/1000]:   0%|          | 0/10 [00:00<?, ?it/s]"
      ]
     },
     "metadata": {},
     "output_type": "display_data"
    },
    {
     "name": "stdout",
     "output_type": "stream",
     "text": [
      "Epoch 49/1000 — Recon_U: 0.0344, Recon_L: 0.0325, SemiSup: 0.0724, Disc_Cat: 1.3175, Gen_Cat: 0.9066, Disc_Sty: 1.2974, Gen_Sty: 0.8513\n",
      "Validation Accuracy: 91.19%\n",
      "\n",
      "Weights saved to semisupervised_results/1000_epochs_adam_1000_samples/weights_*.pth\n"
     ]
    },
    {
     "data": {
      "application/vnd.jupyter.widget-view+json": {
       "model_id": "640e731ed69642aaba8dfeff83d0fb4d",
       "version_major": 2,
       "version_minor": 0
      },
      "text/plain": [
       "Epoch [50/1000]:   0%|          | 0/10 [00:00<?, ?it/s]"
      ]
     },
     "metadata": {},
     "output_type": "display_data"
    },
    {
     "name": "stdout",
     "output_type": "stream",
     "text": [
      "Epoch 50/1000 — Recon_U: 0.0348, Recon_L: 0.0324, SemiSup: 0.1094, Disc_Cat: 1.3189, Gen_Cat: 0.9027, Disc_Sty: 1.2794, Gen_Sty: 0.8418\n",
      "Validation Accuracy: 91.75%\n",
      "\n",
      "Weights saved to semisupervised_results/1000_epochs_adam_1000_samples/weights_epoch_50/weights_*.pth\n",
      "Weights saved to semisupervised_results/1000_epochs_adam_1000_samples/weights_*.pth\n"
     ]
    },
    {
     "data": {
      "application/vnd.jupyter.widget-view+json": {
       "model_id": "fab931e52afb4ea6a30ce1120bc58e81",
       "version_major": 2,
       "version_minor": 0
      },
      "text/plain": [
       "Epoch [51/1000]:   0%|          | 0/10 [00:00<?, ?it/s]"
      ]
     },
     "metadata": {},
     "output_type": "display_data"
    },
    {
     "name": "stdout",
     "output_type": "stream",
     "text": [
      "Epoch 51/1000 — Recon_U: 0.0337, Recon_L: 0.0315, SemiSup: 0.0805, Disc_Cat: 1.3327, Gen_Cat: 0.8795, Disc_Sty: 1.2908, Gen_Sty: 0.8410\n",
      "Validation Accuracy: 91.75%\n",
      "\n",
      "Weights saved to semisupervised_results/1000_epochs_adam_1000_samples/weights_*.pth\n"
     ]
    },
    {
     "data": {
      "application/vnd.jupyter.widget-view+json": {
       "model_id": "23a5b1fdb0b04a06acb08900d26f7d36",
       "version_major": 2,
       "version_minor": 0
      },
      "text/plain": [
       "Epoch [52/1000]:   0%|          | 0/10 [00:00<?, ?it/s]"
      ]
     },
     "metadata": {},
     "output_type": "display_data"
    },
    {
     "name": "stdout",
     "output_type": "stream",
     "text": [
      "Epoch 52/1000 — Recon_U: 0.0337, Recon_L: 0.0309, SemiSup: 0.0354, Disc_Cat: 1.3043, Gen_Cat: 0.8850, Disc_Sty: 1.2955, Gen_Sty: 0.8221\n",
      "Validation Accuracy: 91.75%\n",
      "\n",
      "Weights saved to semisupervised_results/1000_epochs_adam_1000_samples/weights_*.pth\n"
     ]
    },
    {
     "data": {
      "application/vnd.jupyter.widget-view+json": {
       "model_id": "b5ed6a71ba204b18a13fe8ebd87a0beb",
       "version_major": 2,
       "version_minor": 0
      },
      "text/plain": [
       "Epoch [53/1000]:   0%|          | 0/10 [00:00<?, ?it/s]"
      ]
     },
     "metadata": {},
     "output_type": "display_data"
    },
    {
     "name": "stdout",
     "output_type": "stream",
     "text": [
      "Epoch 53/1000 — Recon_U: 0.0334, Recon_L: 0.0307, SemiSup: 0.0623, Disc_Cat: 1.3045, Gen_Cat: 0.8758, Disc_Sty: 1.3003, Gen_Sty: 0.8321\n",
      "Validation Accuracy: 91.80%\n",
      "\n",
      "Weights saved to semisupervised_results/1000_epochs_adam_1000_samples/weights_*.pth\n"
     ]
    },
    {
     "data": {
      "application/vnd.jupyter.widget-view+json": {
       "model_id": "398b82d8588042029b9c78bbd34949c7",
       "version_major": 2,
       "version_minor": 0
      },
      "text/plain": [
       "Epoch [54/1000]:   0%|          | 0/10 [00:00<?, ?it/s]"
      ]
     },
     "metadata": {},
     "output_type": "display_data"
    },
    {
     "name": "stdout",
     "output_type": "stream",
     "text": [
      "Epoch 54/1000 — Recon_U: 0.0333, Recon_L: 0.0305, SemiSup: 0.0524, Disc_Cat: 1.3003, Gen_Cat: 0.8955, Disc_Sty: 1.3050, Gen_Sty: 0.8323\n",
      "Validation Accuracy: 91.88%\n",
      "\n",
      "Weights saved to semisupervised_results/1000_epochs_adam_1000_samples/weights_*.pth\n"
     ]
    },
    {
     "data": {
      "application/vnd.jupyter.widget-view+json": {
       "model_id": "0a7e301f78b94689b65e8bc65cd782f9",
       "version_major": 2,
       "version_minor": 0
      },
      "text/plain": [
       "Epoch [55/1000]:   0%|          | 0/10 [00:00<?, ?it/s]"
      ]
     },
     "metadata": {},
     "output_type": "display_data"
    },
    {
     "name": "stdout",
     "output_type": "stream",
     "text": [
      "Epoch 55/1000 — Recon_U: 0.0334, Recon_L: 0.0304, SemiSup: 0.0505, Disc_Cat: 1.2904, Gen_Cat: 0.9086, Disc_Sty: 1.2988, Gen_Sty: 0.8268\n",
      "Validation Accuracy: 91.98%\n",
      "\n",
      "Weights saved to semisupervised_results/1000_epochs_adam_1000_samples/weights_*.pth\n"
     ]
    },
    {
     "data": {
      "application/vnd.jupyter.widget-view+json": {
       "model_id": "5db57e98954e4eedadd71e2dbc429ded",
       "version_major": 2,
       "version_minor": 0
      },
      "text/plain": [
       "Epoch [56/1000]:   0%|          | 0/10 [00:00<?, ?it/s]"
      ]
     },
     "metadata": {},
     "output_type": "display_data"
    },
    {
     "name": "stdout",
     "output_type": "stream",
     "text": [
      "Epoch 56/1000 — Recon_U: 0.0328, Recon_L: 0.0302, SemiSup: 0.0847, Disc_Cat: 1.3131, Gen_Cat: 0.8674, Disc_Sty: 1.3108, Gen_Sty: 0.8335\n",
      "Validation Accuracy: 92.14%\n",
      "\n",
      "Weights saved to semisupervised_results/1000_epochs_adam_1000_samples/weights_*.pth\n"
     ]
    },
    {
     "data": {
      "application/vnd.jupyter.widget-view+json": {
       "model_id": "2b3942f4fb834ae193d7cd2da3f8339b",
       "version_major": 2,
       "version_minor": 0
      },
      "text/plain": [
       "Epoch [57/1000]:   0%|          | 0/10 [00:00<?, ?it/s]"
      ]
     },
     "metadata": {},
     "output_type": "display_data"
    },
    {
     "name": "stdout",
     "output_type": "stream",
     "text": [
      "Epoch 57/1000 — Recon_U: 0.0335, Recon_L: 0.0304, SemiSup: 0.0367, Disc_Cat: 1.2923, Gen_Cat: 0.9310, Disc_Sty: 1.3235, Gen_Sty: 0.8297\n",
      "Validation Accuracy: 92.15%\n",
      "\n",
      "Weights saved to semisupervised_results/1000_epochs_adam_1000_samples/weights_*.pth\n"
     ]
    },
    {
     "data": {
      "application/vnd.jupyter.widget-view+json": {
       "model_id": "81370cb7c6ec4262999ee43d1abe7dba",
       "version_major": 2,
       "version_minor": 0
      },
      "text/plain": [
       "Epoch [58/1000]:   0%|          | 0/10 [00:00<?, ?it/s]"
      ]
     },
     "metadata": {},
     "output_type": "display_data"
    },
    {
     "name": "stdout",
     "output_type": "stream",
     "text": [
      "Epoch 58/1000 — Recon_U: 0.0319, Recon_L: 0.0302, SemiSup: 0.0392, Disc_Cat: 1.3130, Gen_Cat: 0.8367, Disc_Sty: 1.3130, Gen_Sty: 0.8442\n",
      "Validation Accuracy: 92.10%\n",
      "\n",
      "Weights saved to semisupervised_results/1000_epochs_adam_1000_samples/weights_*.pth\n"
     ]
    },
    {
     "data": {
      "application/vnd.jupyter.widget-view+json": {
       "model_id": "92002e09ec2948a698adf12008b25da7",
       "version_major": 2,
       "version_minor": 0
      },
      "text/plain": [
       "Epoch [59/1000]:   0%|          | 0/10 [00:00<?, ?it/s]"
      ]
     },
     "metadata": {},
     "output_type": "display_data"
    },
    {
     "name": "stdout",
     "output_type": "stream",
     "text": [
      "Epoch 59/1000 — Recon_U: 0.0328, Recon_L: 0.0302, SemiSup: 0.0457, Disc_Cat: 1.3014, Gen_Cat: 0.9057, Disc_Sty: 1.3096, Gen_Sty: 0.8514\n",
      "Validation Accuracy: 92.15%\n",
      "\n",
      "Weights saved to semisupervised_results/1000_epochs_adam_1000_samples/weights_*.pth\n"
     ]
    },
    {
     "data": {
      "application/vnd.jupyter.widget-view+json": {
       "model_id": "b59ad4906efc400e9e9e307e192b5f40",
       "version_major": 2,
       "version_minor": 0
      },
      "text/plain": [
       "Epoch [60/1000]:   0%|          | 0/10 [00:00<?, ?it/s]"
      ]
     },
     "metadata": {},
     "output_type": "display_data"
    },
    {
     "name": "stdout",
     "output_type": "stream",
     "text": [
      "Epoch 60/1000 — Recon_U: 0.0325, Recon_L: 0.0300, SemiSup: 0.0302, Disc_Cat: 1.3021, Gen_Cat: 0.8923, Disc_Sty: 1.3124, Gen_Sty: 0.8616\n",
      "Validation Accuracy: 92.19%\n",
      "\n",
      "Weights saved to semisupervised_results/1000_epochs_adam_1000_samples/weights_*.pth\n"
     ]
    },
    {
     "data": {
      "application/vnd.jupyter.widget-view+json": {
       "model_id": "2646a9d0f2574ecfa81bbea3814ef5c4",
       "version_major": 2,
       "version_minor": 0
      },
      "text/plain": [
       "Epoch [61/1000]:   0%|          | 0/10 [00:00<?, ?it/s]"
      ]
     },
     "metadata": {},
     "output_type": "display_data"
    },
    {
     "name": "stdout",
     "output_type": "stream",
     "text": [
      "Epoch 61/1000 — Recon_U: 0.0319, Recon_L: 0.0300, SemiSup: 0.0457, Disc_Cat: 1.3126, Gen_Cat: 0.8748, Disc_Sty: 1.3006, Gen_Sty: 0.8884\n",
      "Validation Accuracy: 92.17%\n",
      "\n",
      "Weights saved to semisupervised_results/1000_epochs_adam_1000_samples/weights_*.pth\n"
     ]
    },
    {
     "data": {
      "application/vnd.jupyter.widget-view+json": {
       "model_id": "1c2d2f074333498385ec9f7825a0a382",
       "version_major": 2,
       "version_minor": 0
      },
      "text/plain": [
       "Epoch [62/1000]:   0%|          | 0/10 [00:00<?, ?it/s]"
      ]
     },
     "metadata": {},
     "output_type": "display_data"
    },
    {
     "name": "stdout",
     "output_type": "stream",
     "text": [
      "Epoch 62/1000 — Recon_U: 0.0326, Recon_L: 0.0299, SemiSup: 0.0564, Disc_Cat: 1.3187, Gen_Cat: 0.8548, Disc_Sty: 1.3098, Gen_Sty: 0.8978\n",
      "Validation Accuracy: 92.22%\n",
      "\n",
      "Weights saved to semisupervised_results/1000_epochs_adam_1000_samples/weights_*.pth\n"
     ]
    },
    {
     "data": {
      "application/vnd.jupyter.widget-view+json": {
       "model_id": "e1b66f27d1ef45918f3d8afe0f1978ba",
       "version_major": 2,
       "version_minor": 0
      },
      "text/plain": [
       "Epoch [63/1000]:   0%|          | 0/10 [00:00<?, ?it/s]"
      ]
     },
     "metadata": {},
     "output_type": "display_data"
    },
    {
     "name": "stdout",
     "output_type": "stream",
     "text": [
      "Epoch 63/1000 — Recon_U: 0.0323, Recon_L: 0.0300, SemiSup: 0.0423, Disc_Cat: 1.2982, Gen_Cat: 0.9053, Disc_Sty: 1.2913, Gen_Sty: 0.9183\n",
      "Validation Accuracy: 92.24%\n",
      "\n",
      "Weights saved to semisupervised_results/1000_epochs_adam_1000_samples/weights_*.pth\n"
     ]
    },
    {
     "data": {
      "application/vnd.jupyter.widget-view+json": {
       "model_id": "05e33c43ac40435686e45bd5201f7154",
       "version_major": 2,
       "version_minor": 0
      },
      "text/plain": [
       "Epoch [64/1000]:   0%|          | 0/10 [00:00<?, ?it/s]"
      ]
     },
     "metadata": {},
     "output_type": "display_data"
    },
    {
     "name": "stdout",
     "output_type": "stream",
     "text": [
      "Epoch 64/1000 — Recon_U: 0.0320, Recon_L: 0.0297, SemiSup: 0.0338, Disc_Cat: 1.3075, Gen_Cat: 0.8785, Disc_Sty: 1.2977, Gen_Sty: 0.9300\n",
      "Validation Accuracy: 92.27%\n",
      "\n",
      "Weights saved to semisupervised_results/1000_epochs_adam_1000_samples/weights_*.pth\n"
     ]
    },
    {
     "data": {
      "application/vnd.jupyter.widget-view+json": {
       "model_id": "15a86b0170484097ba1245fef030c0fb",
       "version_major": 2,
       "version_minor": 0
      },
      "text/plain": [
       "Epoch [65/1000]:   0%|          | 0/10 [00:00<?, ?it/s]"
      ]
     },
     "metadata": {},
     "output_type": "display_data"
    },
    {
     "name": "stdout",
     "output_type": "stream",
     "text": [
      "Epoch 65/1000 — Recon_U: 0.0332, Recon_L: 0.0298, SemiSup: 0.0467, Disc_Cat: 1.3064, Gen_Cat: 0.9036, Disc_Sty: 1.2847, Gen_Sty: 0.9605\n",
      "Validation Accuracy: 92.22%\n",
      "\n",
      "Weights saved to semisupervised_results/1000_epochs_adam_1000_samples/weights_*.pth\n"
     ]
    },
    {
     "data": {
      "application/vnd.jupyter.widget-view+json": {
       "model_id": "1da5f2b7fe5b4cafad5cdffec0709a19",
       "version_major": 2,
       "version_minor": 0
      },
      "text/plain": [
       "Epoch [66/1000]:   0%|          | 0/10 [00:00<?, ?it/s]"
      ]
     },
     "metadata": {},
     "output_type": "display_data"
    },
    {
     "name": "stdout",
     "output_type": "stream",
     "text": [
      "Epoch 66/1000 — Recon_U: 0.0322, Recon_L: 0.0298, SemiSup: 0.0373, Disc_Cat: 1.3015, Gen_Cat: 0.8883, Disc_Sty: 1.2887, Gen_Sty: 0.9726\n",
      "Validation Accuracy: 92.24%\n",
      "\n",
      "Weights saved to semisupervised_results/1000_epochs_adam_1000_samples/weights_*.pth\n"
     ]
    },
    {
     "data": {
      "application/vnd.jupyter.widget-view+json": {
       "model_id": "572e736b96fd43039efe894f7bc0a228",
       "version_major": 2,
       "version_minor": 0
      },
      "text/plain": [
       "Epoch [67/1000]:   0%|          | 0/10 [00:00<?, ?it/s]"
      ]
     },
     "metadata": {},
     "output_type": "display_data"
    },
    {
     "name": "stdout",
     "output_type": "stream",
     "text": [
      "Epoch 67/1000 — Recon_U: 0.0320, Recon_L: 0.0298, SemiSup: 0.0392, Disc_Cat: 1.3060, Gen_Cat: 0.9105, Disc_Sty: 1.2854, Gen_Sty: 1.0034\n",
      "Validation Accuracy: 92.24%\n",
      "\n",
      "Weights saved to semisupervised_results/1000_epochs_adam_1000_samples/weights_*.pth\n"
     ]
    },
    {
     "data": {
      "application/vnd.jupyter.widget-view+json": {
       "model_id": "3eb357c4e8b1477b8af1c5231c38ac47",
       "version_major": 2,
       "version_minor": 0
      },
      "text/plain": [
       "Epoch [68/1000]:   0%|          | 0/10 [00:00<?, ?it/s]"
      ]
     },
     "metadata": {},
     "output_type": "display_data"
    },
    {
     "name": "stdout",
     "output_type": "stream",
     "text": [
      "Epoch 68/1000 — Recon_U: 0.0322, Recon_L: 0.0297, SemiSup: 0.0225, Disc_Cat: 1.3101, Gen_Cat: 0.8960, Disc_Sty: 1.2718, Gen_Sty: 0.9909\n",
      "Validation Accuracy: 92.31%\n",
      "\n",
      "Weights saved to semisupervised_results/1000_epochs_adam_1000_samples/weights_*.pth\n"
     ]
    },
    {
     "data": {
      "application/vnd.jupyter.widget-view+json": {
       "model_id": "f882778446ca435e8297f755989a404f",
       "version_major": 2,
       "version_minor": 0
      },
      "text/plain": [
       "Epoch [69/1000]:   0%|          | 0/10 [00:00<?, ?it/s]"
      ]
     },
     "metadata": {},
     "output_type": "display_data"
    },
    {
     "name": "stdout",
     "output_type": "stream",
     "text": [
      "Epoch 69/1000 — Recon_U: 0.0323, Recon_L: 0.0297, SemiSup: 0.0354, Disc_Cat: 1.3092, Gen_Cat: 0.8776, Disc_Sty: 1.2692, Gen_Sty: 0.9935\n",
      "Validation Accuracy: 92.27%\n",
      "\n",
      "Weights saved to semisupervised_results/1000_epochs_adam_1000_samples/weights_*.pth\n"
     ]
    },
    {
     "data": {
      "application/vnd.jupyter.widget-view+json": {
       "model_id": "4fe16eceee7748ceb7c44cc3a8937db1",
       "version_major": 2,
       "version_minor": 0
      },
      "text/plain": [
       "Epoch [70/1000]:   0%|          | 0/10 [00:00<?, ?it/s]"
      ]
     },
     "metadata": {},
     "output_type": "display_data"
    },
    {
     "name": "stdout",
     "output_type": "stream",
     "text": [
      "Epoch 70/1000 — Recon_U: 0.0326, Recon_L: 0.0296, SemiSup: 0.0267, Disc_Cat: 1.3052, Gen_Cat: 0.8911, Disc_Sty: 1.2788, Gen_Sty: 0.9872\n",
      "Validation Accuracy: 92.31%\n",
      "\n",
      "Weights saved to semisupervised_results/1000_epochs_adam_1000_samples/weights_*.pth\n"
     ]
    },
    {
     "data": {
      "application/vnd.jupyter.widget-view+json": {
       "model_id": "ec770b0c06ec410096fe0b891801063b",
       "version_major": 2,
       "version_minor": 0
      },
      "text/plain": [
       "Epoch [71/1000]:   0%|          | 0/10 [00:00<?, ?it/s]"
      ]
     },
     "metadata": {},
     "output_type": "display_data"
    },
    {
     "name": "stdout",
     "output_type": "stream",
     "text": [
      "Epoch 71/1000 — Recon_U: 0.0317, Recon_L: 0.0295, SemiSup: 0.0393, Disc_Cat: 1.3113, Gen_Cat: 0.8884, Disc_Sty: 1.2874, Gen_Sty: 0.9797\n",
      "Validation Accuracy: 92.25%\n",
      "\n",
      "Weights saved to semisupervised_results/1000_epochs_adam_1000_samples/weights_*.pth\n"
     ]
    },
    {
     "data": {
      "application/vnd.jupyter.widget-view+json": {
       "model_id": "f1d8640152174b1aa502a0fb8fbf3c4c",
       "version_major": 2,
       "version_minor": 0
      },
      "text/plain": [
       "Epoch [72/1000]:   0%|          | 0/10 [00:00<?, ?it/s]"
      ]
     },
     "metadata": {},
     "output_type": "display_data"
    },
    {
     "name": "stdout",
     "output_type": "stream",
     "text": [
      "Epoch 72/1000 — Recon_U: 0.0318, Recon_L: 0.0296, SemiSup: 0.0399, Disc_Cat: 1.3114, Gen_Cat: 0.9066, Disc_Sty: 1.2961, Gen_Sty: 0.9683\n",
      "Validation Accuracy: 92.29%\n",
      "\n",
      "Weights saved to semisupervised_results/1000_epochs_adam_1000_samples/weights_*.pth\n"
     ]
    },
    {
     "data": {
      "application/vnd.jupyter.widget-view+json": {
       "model_id": "d9c93c5c762a4a93befd76fa5a3be7fc",
       "version_major": 2,
       "version_minor": 0
      },
      "text/plain": [
       "Epoch [73/1000]:   0%|          | 0/10 [00:00<?, ?it/s]"
      ]
     },
     "metadata": {},
     "output_type": "display_data"
    },
    {
     "name": "stdout",
     "output_type": "stream",
     "text": [
      "Epoch 73/1000 — Recon_U: 0.0326, Recon_L: 0.0295, SemiSup: 0.0278, Disc_Cat: 1.3070, Gen_Cat: 0.9009, Disc_Sty: 1.2864, Gen_Sty: 0.9479\n",
      "Validation Accuracy: 92.27%\n",
      "\n",
      "Weights saved to semisupervised_results/1000_epochs_adam_1000_samples/weights_*.pth\n"
     ]
    },
    {
     "data": {
      "application/vnd.jupyter.widget-view+json": {
       "model_id": "2a408a53ab804a4d966bd18ed99da3aa",
       "version_major": 2,
       "version_minor": 0
      },
      "text/plain": [
       "Epoch [74/1000]:   0%|          | 0/10 [00:00<?, ?it/s]"
      ]
     },
     "metadata": {},
     "output_type": "display_data"
    },
    {
     "name": "stdout",
     "output_type": "stream",
     "text": [
      "Epoch 74/1000 — Recon_U: 0.0318, Recon_L: 0.0295, SemiSup: 0.0282, Disc_Cat: 1.3222, Gen_Cat: 0.8530, Disc_Sty: 1.2931, Gen_Sty: 0.9490\n",
      "Validation Accuracy: 92.31%\n",
      "\n",
      "Weights saved to semisupervised_results/1000_epochs_adam_1000_samples/weights_*.pth\n"
     ]
    },
    {
     "data": {
      "application/vnd.jupyter.widget-view+json": {
       "model_id": "26c85ce310aa491593c2332854bd5ebc",
       "version_major": 2,
       "version_minor": 0
      },
      "text/plain": [
       "Epoch [75/1000]:   0%|          | 0/10 [00:00<?, ?it/s]"
      ]
     },
     "metadata": {},
     "output_type": "display_data"
    },
    {
     "name": "stdout",
     "output_type": "stream",
     "text": [
      "Epoch 75/1000 — Recon_U: 0.0324, Recon_L: 0.0294, SemiSup: 0.0300, Disc_Cat: 1.3098, Gen_Cat: 0.8757, Disc_Sty: 1.3122, Gen_Sty: 0.9085\n",
      "Validation Accuracy: 92.34%\n",
      "\n",
      "Weights saved to semisupervised_results/1000_epochs_adam_1000_samples/weights_*.pth\n"
     ]
    },
    {
     "data": {
      "application/vnd.jupyter.widget-view+json": {
       "model_id": "a5119997fa434bde88bfc378211c9988",
       "version_major": 2,
       "version_minor": 0
      },
      "text/plain": [
       "Epoch [76/1000]:   0%|          | 0/10 [00:00<?, ?it/s]"
      ]
     },
     "metadata": {},
     "output_type": "display_data"
    },
    {
     "name": "stdout",
     "output_type": "stream",
     "text": [
      "Epoch 76/1000 — Recon_U: 0.0317, Recon_L: 0.0293, SemiSup: 0.0204, Disc_Cat: 1.3052, Gen_Cat: 0.8825, Disc_Sty: 1.3284, Gen_Sty: 0.8823\n",
      "Validation Accuracy: 92.29%\n",
      "\n",
      "Weights saved to semisupervised_results/1000_epochs_adam_1000_samples/weights_*.pth\n"
     ]
    },
    {
     "data": {
      "application/vnd.jupyter.widget-view+json": {
       "model_id": "c919bdf16f764eb8ba8fccb89a545b2f",
       "version_major": 2,
       "version_minor": 0
      },
      "text/plain": [
       "Epoch [77/1000]:   0%|          | 0/10 [00:00<?, ?it/s]"
      ]
     },
     "metadata": {},
     "output_type": "display_data"
    },
    {
     "name": "stdout",
     "output_type": "stream",
     "text": [
      "Epoch 77/1000 — Recon_U: 0.0323, Recon_L: 0.0294, SemiSup: 0.0557, Disc_Cat: 1.3030, Gen_Cat: 0.9135, Disc_Sty: 1.3443, Gen_Sty: 0.8456\n",
      "Validation Accuracy: 92.25%\n",
      "\n",
      "Weights saved to semisupervised_results/1000_epochs_adam_1000_samples/weights_*.pth\n"
     ]
    },
    {
     "data": {
      "application/vnd.jupyter.widget-view+json": {
       "model_id": "156a982bed304481b3805c6e41533501",
       "version_major": 2,
       "version_minor": 0
      },
      "text/plain": [
       "Epoch [78/1000]:   0%|          | 0/10 [00:00<?, ?it/s]"
      ]
     },
     "metadata": {},
     "output_type": "display_data"
    },
    {
     "name": "stdout",
     "output_type": "stream",
     "text": [
      "Epoch 78/1000 — Recon_U: 0.0325, Recon_L: 0.0294, SemiSup: 0.0256, Disc_Cat: 1.2984, Gen_Cat: 0.9171, Disc_Sty: 1.3264, Gen_Sty: 0.8544\n",
      "Validation Accuracy: 92.41%\n",
      "\n",
      "Weights saved to semisupervised_results/1000_epochs_adam_1000_samples/weights_*.pth\n"
     ]
    },
    {
     "data": {
      "application/vnd.jupyter.widget-view+json": {
       "model_id": "3bb8b39b3fb14d2ab31a9e86b31f0260",
       "version_major": 2,
       "version_minor": 0
      },
      "text/plain": [
       "Epoch [79/1000]:   0%|          | 0/10 [00:00<?, ?it/s]"
      ]
     },
     "metadata": {},
     "output_type": "display_data"
    },
    {
     "name": "stdout",
     "output_type": "stream",
     "text": [
      "Epoch 79/1000 — Recon_U: 0.0312, Recon_L: 0.0293, SemiSup: 0.0355, Disc_Cat: 1.3074, Gen_Cat: 0.9139, Disc_Sty: 1.3327, Gen_Sty: 0.8404\n",
      "Validation Accuracy: 92.41%\n",
      "\n",
      "Weights saved to semisupervised_results/1000_epochs_adam_1000_samples/weights_*.pth\n"
     ]
    },
    {
     "data": {
      "application/vnd.jupyter.widget-view+json": {
       "model_id": "4cb81ba3c03841789317bf421998d513",
       "version_major": 2,
       "version_minor": 0
      },
      "text/plain": [
       "Epoch [80/1000]:   0%|          | 0/10 [00:00<?, ?it/s]"
      ]
     },
     "metadata": {},
     "output_type": "display_data"
    },
    {
     "name": "stdout",
     "output_type": "stream",
     "text": [
      "Epoch 80/1000 — Recon_U: 0.0322, Recon_L: 0.0294, SemiSup: 0.0582, Disc_Cat: 1.3129, Gen_Cat: 0.8917, Disc_Sty: 1.3344, Gen_Sty: 0.8375\n",
      "Validation Accuracy: 92.44%\n",
      "\n",
      "Weights saved to semisupervised_results/1000_epochs_adam_1000_samples/weights_*.pth\n"
     ]
    },
    {
     "data": {
      "application/vnd.jupyter.widget-view+json": {
       "model_id": "73f28c2e7a58492da7083746bda35403",
       "version_major": 2,
       "version_minor": 0
      },
      "text/plain": [
       "Epoch [81/1000]:   0%|          | 0/10 [00:00<?, ?it/s]"
      ]
     },
     "metadata": {},
     "output_type": "display_data"
    },
    {
     "name": "stdout",
     "output_type": "stream",
     "text": [
      "Epoch 81/1000 — Recon_U: 0.0319, Recon_L: 0.0293, SemiSup: 0.0314, Disc_Cat: 1.3067, Gen_Cat: 0.9084, Disc_Sty: 1.3354, Gen_Sty: 0.8196\n",
      "Validation Accuracy: 92.41%\n",
      "\n",
      "Weights saved to semisupervised_results/1000_epochs_adam_1000_samples/weights_*.pth\n"
     ]
    },
    {
     "data": {
      "application/vnd.jupyter.widget-view+json": {
       "model_id": "256180244d1640d28787173f96c8c1a3",
       "version_major": 2,
       "version_minor": 0
      },
      "text/plain": [
       "Epoch [82/1000]:   0%|          | 0/10 [00:00<?, ?it/s]"
      ]
     },
     "metadata": {},
     "output_type": "display_data"
    },
    {
     "name": "stdout",
     "output_type": "stream",
     "text": [
      "Epoch 82/1000 — Recon_U: 0.0311, Recon_L: 0.0293, SemiSup: 0.0245, Disc_Cat: 1.3051, Gen_Cat: 0.9064, Disc_Sty: 1.3337, Gen_Sty: 0.8049\n",
      "Validation Accuracy: 92.39%\n",
      "\n",
      "Weights saved to semisupervised_results/1000_epochs_adam_1000_samples/weights_*.pth\n"
     ]
    },
    {
     "data": {
      "application/vnd.jupyter.widget-view+json": {
       "model_id": "c27716b49e2e4443929078ea539cbe61",
       "version_major": 2,
       "version_minor": 0
      },
      "text/plain": [
       "Epoch [83/1000]:   0%|          | 0/10 [00:00<?, ?it/s]"
      ]
     },
     "metadata": {},
     "output_type": "display_data"
    },
    {
     "name": "stdout",
     "output_type": "stream",
     "text": [
      "Epoch 83/1000 — Recon_U: 0.0311, Recon_L: 0.0293, SemiSup: 0.0340, Disc_Cat: 1.3075, Gen_Cat: 0.9047, Disc_Sty: 1.3299, Gen_Sty: 0.8139\n",
      "Validation Accuracy: 92.46%\n",
      "\n",
      "Weights saved to semisupervised_results/1000_epochs_adam_1000_samples/weights_*.pth\n"
     ]
    },
    {
     "data": {
      "application/vnd.jupyter.widget-view+json": {
       "model_id": "e59d4d2e7e3a4256bf77b892e12479da",
       "version_major": 2,
       "version_minor": 0
      },
      "text/plain": [
       "Epoch [84/1000]:   0%|          | 0/10 [00:00<?, ?it/s]"
      ]
     },
     "metadata": {},
     "output_type": "display_data"
    },
    {
     "name": "stdout",
     "output_type": "stream",
     "text": [
      "Epoch 84/1000 — Recon_U: 0.0318, Recon_L: 0.0292, SemiSup: 0.0341, Disc_Cat: 1.3066, Gen_Cat: 0.8986, Disc_Sty: 1.3320, Gen_Sty: 0.8116\n",
      "Validation Accuracy: 92.49%\n",
      "\n",
      "Weights saved to semisupervised_results/1000_epochs_adam_1000_samples/weights_*.pth\n"
     ]
    },
    {
     "data": {
      "application/vnd.jupyter.widget-view+json": {
       "model_id": "5a1124e7790d4388bd28f566d678d894",
       "version_major": 2,
       "version_minor": 0
      },
      "text/plain": [
       "Epoch [85/1000]:   0%|          | 0/10 [00:00<?, ?it/s]"
      ]
     },
     "metadata": {},
     "output_type": "display_data"
    },
    {
     "name": "stdout",
     "output_type": "stream",
     "text": [
      "Epoch 85/1000 — Recon_U: 0.0323, Recon_L: 0.0291, SemiSup: 0.0165, Disc_Cat: 1.3101, Gen_Cat: 0.9048, Disc_Sty: 1.3371, Gen_Sty: 0.8110\n",
      "Validation Accuracy: 92.49%\n",
      "\n",
      "Weights saved to semisupervised_results/1000_epochs_adam_1000_samples/weights_*.pth\n"
     ]
    },
    {
     "data": {
      "application/vnd.jupyter.widget-view+json": {
       "model_id": "66915b8fe7864ae2a117b616cb232b65",
       "version_major": 2,
       "version_minor": 0
      },
      "text/plain": [
       "Epoch [86/1000]:   0%|          | 0/10 [00:00<?, ?it/s]"
      ]
     },
     "metadata": {},
     "output_type": "display_data"
    },
    {
     "name": "stdout",
     "output_type": "stream",
     "text": [
      "Epoch 86/1000 — Recon_U: 0.0318, Recon_L: 0.0291, SemiSup: 0.0265, Disc_Cat: 1.3158, Gen_Cat: 0.8844, Disc_Sty: 1.3192, Gen_Sty: 0.8143\n",
      "Validation Accuracy: 92.49%\n",
      "\n",
      "Weights saved to semisupervised_results/1000_epochs_adam_1000_samples/weights_*.pth\n"
     ]
    },
    {
     "data": {
      "application/vnd.jupyter.widget-view+json": {
       "model_id": "1eceed40cd8348849eae89189184b388",
       "version_major": 2,
       "version_minor": 0
      },
      "text/plain": [
       "Epoch [87/1000]:   0%|          | 0/10 [00:00<?, ?it/s]"
      ]
     },
     "metadata": {},
     "output_type": "display_data"
    },
    {
     "name": "stdout",
     "output_type": "stream",
     "text": [
      "Epoch 87/1000 — Recon_U: 0.0315, Recon_L: 0.0291, SemiSup: 0.0326, Disc_Cat: 1.3091, Gen_Cat: 0.9037, Disc_Sty: 1.3312, Gen_Sty: 0.8191\n",
      "Validation Accuracy: 92.51%\n",
      "\n",
      "Weights saved to semisupervised_results/1000_epochs_adam_1000_samples/weights_*.pth\n"
     ]
    },
    {
     "data": {
      "application/vnd.jupyter.widget-view+json": {
       "model_id": "a3f2fd5978324ff0b515fe313fc97756",
       "version_major": 2,
       "version_minor": 0
      },
      "text/plain": [
       "Epoch [88/1000]:   0%|          | 0/10 [00:00<?, ?it/s]"
      ]
     },
     "metadata": {},
     "output_type": "display_data"
    },
    {
     "name": "stdout",
     "output_type": "stream",
     "text": [
      "Epoch 88/1000 — Recon_U: 0.0314, Recon_L: 0.0291, SemiSup: 0.0230, Disc_Cat: 1.3062, Gen_Cat: 0.9119, Disc_Sty: 1.3227, Gen_Sty: 0.8224\n",
      "Validation Accuracy: 92.46%\n",
      "\n",
      "Weights saved to semisupervised_results/1000_epochs_adam_1000_samples/weights_*.pth\n"
     ]
    },
    {
     "data": {
      "application/vnd.jupyter.widget-view+json": {
       "model_id": "4ef36419b86141718d48703b999b1cb5",
       "version_major": 2,
       "version_minor": 0
      },
      "text/plain": [
       "Epoch [89/1000]:   0%|          | 0/10 [00:00<?, ?it/s]"
      ]
     },
     "metadata": {},
     "output_type": "display_data"
    },
    {
     "name": "stdout",
     "output_type": "stream",
     "text": [
      "Epoch 89/1000 — Recon_U: 0.0311, Recon_L: 0.0291, SemiSup: 0.0520, Disc_Cat: 1.3037, Gen_Cat: 0.9294, Disc_Sty: 1.3254, Gen_Sty: 0.8085\n",
      "Validation Accuracy: 92.44%\n",
      "\n",
      "Weights saved to semisupervised_results/1000_epochs_adam_1000_samples/weights_*.pth\n"
     ]
    },
    {
     "data": {
      "application/vnd.jupyter.widget-view+json": {
       "model_id": "90b5af317b0a49c5803efc28c2e91f51",
       "version_major": 2,
       "version_minor": 0
      },
      "text/plain": [
       "Epoch [90/1000]:   0%|          | 0/10 [00:00<?, ?it/s]"
      ]
     },
     "metadata": {},
     "output_type": "display_data"
    },
    {
     "name": "stdout",
     "output_type": "stream",
     "text": [
      "Epoch 90/1000 — Recon_U: 0.0317, Recon_L: 0.0290, SemiSup: 0.0246, Disc_Cat: 1.3044, Gen_Cat: 0.8946, Disc_Sty: 1.3298, Gen_Sty: 0.8164\n",
      "Validation Accuracy: 92.53%\n",
      "\n",
      "Weights saved to semisupervised_results/1000_epochs_adam_1000_samples/weights_*.pth\n"
     ]
    },
    {
     "data": {
      "application/vnd.jupyter.widget-view+json": {
       "model_id": "7ec3a4d2ca9441e3a9c9046bd1b4377b",
       "version_major": 2,
       "version_minor": 0
      },
      "text/plain": [
       "Epoch [91/1000]:   0%|          | 0/10 [00:00<?, ?it/s]"
      ]
     },
     "metadata": {},
     "output_type": "display_data"
    },
    {
     "name": "stdout",
     "output_type": "stream",
     "text": [
      "Epoch 91/1000 — Recon_U: 0.0319, Recon_L: 0.0290, SemiSup: 0.0199, Disc_Cat: 1.3193, Gen_Cat: 0.9054, Disc_Sty: 1.3212, Gen_Sty: 0.8237\n",
      "Validation Accuracy: 92.51%\n",
      "\n",
      "Weights saved to semisupervised_results/1000_epochs_adam_1000_samples/weights_*.pth\n"
     ]
    },
    {
     "data": {
      "application/vnd.jupyter.widget-view+json": {
       "model_id": "337d87b9d4a64cfea2d75911f3470db0",
       "version_major": 2,
       "version_minor": 0
      },
      "text/plain": [
       "Epoch [92/1000]:   0%|          | 0/10 [00:00<?, ?it/s]"
      ]
     },
     "metadata": {},
     "output_type": "display_data"
    },
    {
     "name": "stdout",
     "output_type": "stream",
     "text": [
      "Epoch 92/1000 — Recon_U: 0.0319, Recon_L: 0.0288, SemiSup: 0.0220, Disc_Cat: 1.3118, Gen_Cat: 0.9237, Disc_Sty: 1.3403, Gen_Sty: 0.8106\n",
      "Validation Accuracy: 92.47%\n",
      "\n",
      "Weights saved to semisupervised_results/1000_epochs_adam_1000_samples/weights_*.pth\n"
     ]
    },
    {
     "data": {
      "application/vnd.jupyter.widget-view+json": {
       "model_id": "c1e8760541604851b0270fdbe5a445cf",
       "version_major": 2,
       "version_minor": 0
      },
      "text/plain": [
       "Epoch [93/1000]:   0%|          | 0/10 [00:00<?, ?it/s]"
      ]
     },
     "metadata": {},
     "output_type": "display_data"
    },
    {
     "name": "stdout",
     "output_type": "stream",
     "text": [
      "Epoch 93/1000 — Recon_U: 0.0316, Recon_L: 0.0288, SemiSup: 0.0572, Disc_Cat: 1.3027, Gen_Cat: 0.9159, Disc_Sty: 1.3393, Gen_Sty: 0.7951\n",
      "Validation Accuracy: 92.42%\n",
      "\n",
      "Weights saved to semisupervised_results/1000_epochs_adam_1000_samples/weights_*.pth\n"
     ]
    },
    {
     "data": {
      "application/vnd.jupyter.widget-view+json": {
       "model_id": "c9d839e26461467f96c37762fedc8c50",
       "version_major": 2,
       "version_minor": 0
      },
      "text/plain": [
       "Epoch [94/1000]:   0%|          | 0/10 [00:00<?, ?it/s]"
      ]
     },
     "metadata": {},
     "output_type": "display_data"
    },
    {
     "name": "stdout",
     "output_type": "stream",
     "text": [
      "Epoch 94/1000 — Recon_U: 0.0318, Recon_L: 0.0288, SemiSup: 0.0306, Disc_Cat: 1.3293, Gen_Cat: 0.8549, Disc_Sty: 1.3369, Gen_Sty: 0.8023\n",
      "Validation Accuracy: 92.54%\n",
      "\n",
      "Weights saved to semisupervised_results/1000_epochs_adam_1000_samples/weights_*.pth\n"
     ]
    },
    {
     "data": {
      "application/vnd.jupyter.widget-view+json": {
       "model_id": "31f66334d9594080810ebba033527dd2",
       "version_major": 2,
       "version_minor": 0
      },
      "text/plain": [
       "Epoch [95/1000]:   0%|          | 0/10 [00:00<?, ?it/s]"
      ]
     },
     "metadata": {},
     "output_type": "display_data"
    },
    {
     "name": "stdout",
     "output_type": "stream",
     "text": [
      "Epoch 95/1000 — Recon_U: 0.0308, Recon_L: 0.0288, SemiSup: 0.0215, Disc_Cat: 1.3153, Gen_Cat: 0.8717, Disc_Sty: 1.3338, Gen_Sty: 0.8056\n",
      "Validation Accuracy: 92.58%\n",
      "\n",
      "Weights saved to semisupervised_results/1000_epochs_adam_1000_samples/weights_*.pth\n"
     ]
    },
    {
     "data": {
      "application/vnd.jupyter.widget-view+json": {
       "model_id": "9b28c4939e474d67b020b1ee8b897eb1",
       "version_major": 2,
       "version_minor": 0
      },
      "text/plain": [
       "Epoch [96/1000]:   0%|          | 0/10 [00:00<?, ?it/s]"
      ]
     },
     "metadata": {},
     "output_type": "display_data"
    },
    {
     "name": "stdout",
     "output_type": "stream",
     "text": [
      "Epoch 96/1000 — Recon_U: 0.0320, Recon_L: 0.0288, SemiSup: 0.0284, Disc_Cat: 1.3103, Gen_Cat: 0.9305, Disc_Sty: 1.3465, Gen_Sty: 0.7927\n",
      "Validation Accuracy: 92.54%\n",
      "\n",
      "Weights saved to semisupervised_results/1000_epochs_adam_1000_samples/weights_*.pth\n"
     ]
    },
    {
     "data": {
      "application/vnd.jupyter.widget-view+json": {
       "model_id": "97cf2f23c761427cba35c660a559b87c",
       "version_major": 2,
       "version_minor": 0
      },
      "text/plain": [
       "Epoch [97/1000]:   0%|          | 0/10 [00:00<?, ?it/s]"
      ]
     },
     "metadata": {},
     "output_type": "display_data"
    },
    {
     "name": "stdout",
     "output_type": "stream",
     "text": [
      "Epoch 97/1000 — Recon_U: 0.0315, Recon_L: 0.0288, SemiSup: 0.0194, Disc_Cat: 1.3154, Gen_Cat: 0.9094, Disc_Sty: 1.3329, Gen_Sty: 0.7978\n",
      "Validation Accuracy: 92.58%\n",
      "\n",
      "Weights saved to semisupervised_results/1000_epochs_adam_1000_samples/weights_*.pth\n"
     ]
    },
    {
     "data": {
      "application/vnd.jupyter.widget-view+json": {
       "model_id": "e5da8551bca14751aaededa282170fce",
       "version_major": 2,
       "version_minor": 0
      },
      "text/plain": [
       "Epoch [98/1000]:   0%|          | 0/10 [00:00<?, ?it/s]"
      ]
     },
     "metadata": {},
     "output_type": "display_data"
    },
    {
     "name": "stdout",
     "output_type": "stream",
     "text": [
      "Epoch 98/1000 — Recon_U: 0.0322, Recon_L: 0.0287, SemiSup: 0.0246, Disc_Cat: 1.3040, Gen_Cat: 0.9468, Disc_Sty: 1.3365, Gen_Sty: 0.7870\n",
      "Validation Accuracy: 92.56%\n",
      "\n",
      "Weights saved to semisupervised_results/1000_epochs_adam_1000_samples/weights_*.pth\n"
     ]
    },
    {
     "data": {
      "application/vnd.jupyter.widget-view+json": {
       "model_id": "a9c881d910c845f4bf3752150f4a1c0e",
       "version_major": 2,
       "version_minor": 0
      },
      "text/plain": [
       "Epoch [99/1000]:   0%|          | 0/10 [00:00<?, ?it/s]"
      ]
     },
     "metadata": {},
     "output_type": "display_data"
    },
    {
     "name": "stdout",
     "output_type": "stream",
     "text": [
      "Epoch 99/1000 — Recon_U: 0.0319, Recon_L: 0.0287, SemiSup: 0.0268, Disc_Cat: 1.3133, Gen_Cat: 0.9224, Disc_Sty: 1.3543, Gen_Sty: 0.7832\n",
      "Validation Accuracy: 92.54%\n",
      "\n",
      "Weights saved to semisupervised_results/1000_epochs_adam_1000_samples/weights_*.pth\n"
     ]
    },
    {
     "data": {
      "application/vnd.jupyter.widget-view+json": {
       "model_id": "d7102a6b2861477a835a0d04d9ce5599",
       "version_major": 2,
       "version_minor": 0
      },
      "text/plain": [
       "Epoch [100/1000]:   0%|          | 0/10 [00:00<?, ?it/s]"
      ]
     },
     "metadata": {},
     "output_type": "display_data"
    },
    {
     "name": "stdout",
     "output_type": "stream",
     "text": [
      "Epoch 100/1000 — Recon_U: 0.0316, Recon_L: 0.0288, SemiSup: 0.0395, Disc_Cat: 1.3220, Gen_Cat: 0.8827, Disc_Sty: 1.3469, Gen_Sty: 0.7860\n",
      "Validation Accuracy: 92.44%\n",
      "\n",
      "Weights saved to semisupervised_results/1000_epochs_adam_1000_samples/weights_epoch_100/weights_*.pth\n",
      "Weights saved to semisupervised_results/1000_epochs_adam_1000_samples/weights_*.pth\n"
     ]
    },
    {
     "data": {
      "application/vnd.jupyter.widget-view+json": {
       "model_id": "ebf1ce9d7ac64b488293a886a845bcad",
       "version_major": 2,
       "version_minor": 0
      },
      "text/plain": [
       "Epoch [101/1000]:   0%|          | 0/10 [00:00<?, ?it/s]"
      ]
     },
     "metadata": {},
     "output_type": "display_data"
    },
    {
     "name": "stdout",
     "output_type": "stream",
     "text": [
      "Epoch 101/1000 — Recon_U: 0.0312, Recon_L: 0.0287, SemiSup: 0.0361, Disc_Cat: 1.3095, Gen_Cat: 0.9528, Disc_Sty: 1.3461, Gen_Sty: 0.7905\n",
      "Validation Accuracy: 92.54%\n",
      "\n",
      "Weights saved to semisupervised_results/1000_epochs_adam_1000_samples/weights_*.pth\n"
     ]
    },
    {
     "data": {
      "application/vnd.jupyter.widget-view+json": {
       "model_id": "11ed023389ae4c8b848bd4a6f6777262",
       "version_major": 2,
       "version_minor": 0
      },
      "text/plain": [
       "Epoch [102/1000]:   0%|          | 0/10 [00:00<?, ?it/s]"
      ]
     },
     "metadata": {},
     "output_type": "display_data"
    },
    {
     "name": "stdout",
     "output_type": "stream",
     "text": [
      "Epoch 102/1000 — Recon_U: 0.0317, Recon_L: 0.0286, SemiSup: 0.0356, Disc_Cat: 1.3151, Gen_Cat: 0.8933, Disc_Sty: 1.3540, Gen_Sty: 0.7885\n",
      "Validation Accuracy: 92.53%\n",
      "\n",
      "Weights saved to semisupervised_results/1000_epochs_adam_1000_samples/weights_*.pth\n"
     ]
    },
    {
     "data": {
      "application/vnd.jupyter.widget-view+json": {
       "model_id": "1dc112c018cc4206a42f01335de58d11",
       "version_major": 2,
       "version_minor": 0
      },
      "text/plain": [
       "Epoch [103/1000]:   0%|          | 0/10 [00:00<?, ?it/s]"
      ]
     },
     "metadata": {},
     "output_type": "display_data"
    },
    {
     "name": "stdout",
     "output_type": "stream",
     "text": [
      "Epoch 103/1000 — Recon_U: 0.0316, Recon_L: 0.0286, SemiSup: 0.0216, Disc_Cat: 1.3164, Gen_Cat: 0.9115, Disc_Sty: 1.3572, Gen_Sty: 0.7870\n",
      "Validation Accuracy: 92.61%\n",
      "\n",
      "Weights saved to semisupervised_results/1000_epochs_adam_1000_samples/weights_*.pth\n"
     ]
    },
    {
     "data": {
      "application/vnd.jupyter.widget-view+json": {
       "model_id": "9bfedd3212da491dafc5fddad85d01dd",
       "version_major": 2,
       "version_minor": 0
      },
      "text/plain": [
       "Epoch [104/1000]:   0%|          | 0/10 [00:00<?, ?it/s]"
      ]
     },
     "metadata": {},
     "output_type": "display_data"
    },
    {
     "name": "stdout",
     "output_type": "stream",
     "text": [
      "Epoch 104/1000 — Recon_U: 0.0314, Recon_L: 0.0287, SemiSup: 0.0398, Disc_Cat: 1.3293, Gen_Cat: 0.8724, Disc_Sty: 1.3503, Gen_Sty: 0.7813\n",
      "Validation Accuracy: 92.56%\n",
      "\n",
      "Weights saved to semisupervised_results/1000_epochs_adam_1000_samples/weights_*.pth\n"
     ]
    },
    {
     "data": {
      "application/vnd.jupyter.widget-view+json": {
       "model_id": "ebfb66a5f6db4eaea62e014c19f9788c",
       "version_major": 2,
       "version_minor": 0
      },
      "text/plain": [
       "Epoch [105/1000]:   0%|          | 0/10 [00:00<?, ?it/s]"
      ]
     },
     "metadata": {},
     "output_type": "display_data"
    },
    {
     "name": "stdout",
     "output_type": "stream",
     "text": [
      "Epoch 105/1000 — Recon_U: 0.0319, Recon_L: 0.0286, SemiSup: 0.0209, Disc_Cat: 1.3103, Gen_Cat: 0.9192, Disc_Sty: 1.3593, Gen_Sty: 0.7702\n",
      "Validation Accuracy: 92.59%\n",
      "\n",
      "Weights saved to semisupervised_results/1000_epochs_adam_1000_samples/weights_*.pth\n"
     ]
    },
    {
     "data": {
      "application/vnd.jupyter.widget-view+json": {
       "model_id": "ce8056e294b1421da7c0605b1e2bf212",
       "version_major": 2,
       "version_minor": 0
      },
      "text/plain": [
       "Epoch [106/1000]:   0%|          | 0/10 [00:00<?, ?it/s]"
      ]
     },
     "metadata": {},
     "output_type": "display_data"
    },
    {
     "name": "stdout",
     "output_type": "stream",
     "text": [
      "Epoch 106/1000 — Recon_U: 0.0318, Recon_L: 0.0286, SemiSup: 0.0187, Disc_Cat: 1.3070, Gen_Cat: 0.9348, Disc_Sty: 1.3588, Gen_Sty: 0.7804\n",
      "Validation Accuracy: 92.56%\n",
      "\n",
      "Weights saved to semisupervised_results/1000_epochs_adam_1000_samples/weights_*.pth\n"
     ]
    },
    {
     "data": {
      "application/vnd.jupyter.widget-view+json": {
       "model_id": "59564511a99e4951a1f799ae918311aa",
       "version_major": 2,
       "version_minor": 0
      },
      "text/plain": [
       "Epoch [107/1000]:   0%|          | 0/10 [00:00<?, ?it/s]"
      ]
     },
     "metadata": {},
     "output_type": "display_data"
    },
    {
     "name": "stdout",
     "output_type": "stream",
     "text": [
      "Epoch 107/1000 — Recon_U: 0.0314, Recon_L: 0.0285, SemiSup: 0.0213, Disc_Cat: 1.3128, Gen_Cat: 0.9213, Disc_Sty: 1.3590, Gen_Sty: 0.7762\n",
      "Validation Accuracy: 92.59%\n",
      "\n",
      "Weights saved to semisupervised_results/1000_epochs_adam_1000_samples/weights_*.pth\n"
     ]
    },
    {
     "data": {
      "application/vnd.jupyter.widget-view+json": {
       "model_id": "74f5091437694c4daa688bcb1325a27e",
       "version_major": 2,
       "version_minor": 0
      },
      "text/plain": [
       "Epoch [108/1000]:   0%|          | 0/10 [00:00<?, ?it/s]"
      ]
     },
     "metadata": {},
     "output_type": "display_data"
    },
    {
     "name": "stdout",
     "output_type": "stream",
     "text": [
      "Epoch 108/1000 — Recon_U: 0.0321, Recon_L: 0.0285, SemiSup: 0.0114, Disc_Cat: 1.3067, Gen_Cat: 0.9460, Disc_Sty: 1.3712, Gen_Sty: 0.7637\n",
      "Validation Accuracy: 92.64%\n",
      "\n",
      "Weights saved to semisupervised_results/1000_epochs_adam_1000_samples/weights_*.pth\n"
     ]
    },
    {
     "data": {
      "application/vnd.jupyter.widget-view+json": {
       "model_id": "366deebc2e134390a6060f20d635c939",
       "version_major": 2,
       "version_minor": 0
      },
      "text/plain": [
       "Epoch [109/1000]:   0%|          | 0/10 [00:00<?, ?it/s]"
      ]
     },
     "metadata": {},
     "output_type": "display_data"
    },
    {
     "name": "stdout",
     "output_type": "stream",
     "text": [
      "Epoch 109/1000 — Recon_U: 0.0312, Recon_L: 0.0284, SemiSup: 0.0255, Disc_Cat: 1.3098, Gen_Cat: 0.9094, Disc_Sty: 1.3628, Gen_Sty: 0.7677\n",
      "Validation Accuracy: 92.61%\n",
      "\n",
      "Weights saved to semisupervised_results/1000_epochs_adam_1000_samples/weights_*.pth\n"
     ]
    },
    {
     "data": {
      "application/vnd.jupyter.widget-view+json": {
       "model_id": "8416b5d884854cbc99d7c9da8dbb0e30",
       "version_major": 2,
       "version_minor": 0
      },
      "text/plain": [
       "Epoch [110/1000]:   0%|          | 0/10 [00:00<?, ?it/s]"
      ]
     },
     "metadata": {},
     "output_type": "display_data"
    },
    {
     "name": "stdout",
     "output_type": "stream",
     "text": [
      "Epoch 110/1000 — Recon_U: 0.0318, Recon_L: 0.0284, SemiSup: 0.0163, Disc_Cat: 1.3157, Gen_Cat: 0.9222, Disc_Sty: 1.3570, Gen_Sty: 0.7563\n",
      "Validation Accuracy: 92.58%\n",
      "\n",
      "Weights saved to semisupervised_results/1000_epochs_adam_1000_samples/weights_*.pth\n"
     ]
    },
    {
     "data": {
      "application/vnd.jupyter.widget-view+json": {
       "model_id": "bfee72c2345c429897a0a27e4da96f02",
       "version_major": 2,
       "version_minor": 0
      },
      "text/plain": [
       "Epoch [111/1000]:   0%|          | 0/10 [00:00<?, ?it/s]"
      ]
     },
     "metadata": {},
     "output_type": "display_data"
    },
    {
     "name": "stdout",
     "output_type": "stream",
     "text": [
      "Epoch 111/1000 — Recon_U: 0.0307, Recon_L: 0.0284, SemiSup: 0.0208, Disc_Cat: 1.3183, Gen_Cat: 0.8987, Disc_Sty: 1.3664, Gen_Sty: 0.7510\n",
      "Validation Accuracy: 92.51%\n",
      "\n",
      "Weights saved to semisupervised_results/1000_epochs_adam_1000_samples/weights_*.pth\n"
     ]
    },
    {
     "data": {
      "application/vnd.jupyter.widget-view+json": {
       "model_id": "68557e761f234062a4415e3f195925e4",
       "version_major": 2,
       "version_minor": 0
      },
      "text/plain": [
       "Epoch [112/1000]:   0%|          | 0/10 [00:00<?, ?it/s]"
      ]
     },
     "metadata": {},
     "output_type": "display_data"
    },
    {
     "name": "stdout",
     "output_type": "stream",
     "text": [
      "Epoch 112/1000 — Recon_U: 0.0313, Recon_L: 0.0283, SemiSup: 0.0303, Disc_Cat: 1.3187, Gen_Cat: 0.8931, Disc_Sty: 1.3672, Gen_Sty: 0.7472\n",
      "Validation Accuracy: 92.58%\n",
      "\n",
      "Weights saved to semisupervised_results/1000_epochs_adam_1000_samples/weights_*.pth\n"
     ]
    },
    {
     "data": {
      "application/vnd.jupyter.widget-view+json": {
       "model_id": "3aee1a3a42544c9f930449b6c86cff3b",
       "version_major": 2,
       "version_minor": 0
      },
      "text/plain": [
       "Epoch [113/1000]:   0%|          | 0/10 [00:00<?, ?it/s]"
      ]
     },
     "metadata": {},
     "output_type": "display_data"
    },
    {
     "name": "stdout",
     "output_type": "stream",
     "text": [
      "Epoch 113/1000 — Recon_U: 0.0314, Recon_L: 0.0284, SemiSup: 0.0382, Disc_Cat: 1.3158, Gen_Cat: 0.9151, Disc_Sty: 1.3625, Gen_Sty: 0.7429\n",
      "Validation Accuracy: 92.47%\n",
      "\n",
      "Weights saved to semisupervised_results/1000_epochs_adam_1000_samples/weights_*.pth\n"
     ]
    },
    {
     "data": {
      "application/vnd.jupyter.widget-view+json": {
       "model_id": "a8ec695c6f484b1d9a62b2efddf33c0f",
       "version_major": 2,
       "version_minor": 0
      },
      "text/plain": [
       "Epoch [114/1000]:   0%|          | 0/10 [00:00<?, ?it/s]"
      ]
     },
     "metadata": {},
     "output_type": "display_data"
    },
    {
     "name": "stdout",
     "output_type": "stream",
     "text": [
      "Epoch 114/1000 — Recon_U: 0.0308, Recon_L: 0.0283, SemiSup: 0.0322, Disc_Cat: 1.3136, Gen_Cat: 0.9119, Disc_Sty: 1.3561, Gen_Sty: 0.7360\n",
      "Validation Accuracy: 92.53%\n",
      "\n",
      "Weights saved to semisupervised_results/1000_epochs_adam_1000_samples/weights_*.pth\n"
     ]
    },
    {
     "data": {
      "application/vnd.jupyter.widget-view+json": {
       "model_id": "80117d3de7d841ad966b861803bc13d2",
       "version_major": 2,
       "version_minor": 0
      },
      "text/plain": [
       "Epoch [115/1000]:   0%|          | 0/10 [00:00<?, ?it/s]"
      ]
     },
     "metadata": {},
     "output_type": "display_data"
    },
    {
     "name": "stdout",
     "output_type": "stream",
     "text": [
      "Epoch 115/1000 — Recon_U: 0.0306, Recon_L: 0.0282, SemiSup: 0.0244, Disc_Cat: 1.3257, Gen_Cat: 0.8696, Disc_Sty: 1.3731, Gen_Sty: 0.7341\n",
      "Validation Accuracy: 92.51%\n",
      "\n",
      "Weights saved to semisupervised_results/1000_epochs_adam_1000_samples/weights_*.pth\n"
     ]
    },
    {
     "data": {
      "application/vnd.jupyter.widget-view+json": {
       "model_id": "aaf0e5e5b75b42ea9599e2d88f0fa5c1",
       "version_major": 2,
       "version_minor": 0
      },
      "text/plain": [
       "Epoch [116/1000]:   0%|          | 0/10 [00:00<?, ?it/s]"
      ]
     },
     "metadata": {},
     "output_type": "display_data"
    },
    {
     "name": "stdout",
     "output_type": "stream",
     "text": [
      "Epoch 116/1000 — Recon_U: 0.0315, Recon_L: 0.0282, SemiSup: 0.0499, Disc_Cat: 1.3174, Gen_Cat: 0.9169, Disc_Sty: 1.3633, Gen_Sty: 0.7414\n",
      "Validation Accuracy: 92.39%\n",
      "\n",
      "Weights saved to semisupervised_results/1000_epochs_adam_1000_samples/weights_*.pth\n"
     ]
    },
    {
     "data": {
      "application/vnd.jupyter.widget-view+json": {
       "model_id": "75e52c493acb4019a2a175b0c18934cd",
       "version_major": 2,
       "version_minor": 0
      },
      "text/plain": [
       "Epoch [117/1000]:   0%|          | 0/10 [00:00<?, ?it/s]"
      ]
     },
     "metadata": {},
     "output_type": "display_data"
    },
    {
     "name": "stdout",
     "output_type": "stream",
     "text": [
      "Epoch 117/1000 — Recon_U: 0.0303, Recon_L: 0.0281, SemiSup: 0.0296, Disc_Cat: 1.3202, Gen_Cat: 0.9045, Disc_Sty: 1.3692, Gen_Sty: 0.7329\n",
      "Validation Accuracy: 92.53%\n",
      "\n",
      "Weights saved to semisupervised_results/1000_epochs_adam_1000_samples/weights_*.pth\n"
     ]
    },
    {
     "data": {
      "application/vnd.jupyter.widget-view+json": {
       "model_id": "4d2de21f139a49c88fee1ed96353d5b8",
       "version_major": 2,
       "version_minor": 0
      },
      "text/plain": [
       "Epoch [118/1000]:   0%|          | 0/10 [00:00<?, ?it/s]"
      ]
     },
     "metadata": {},
     "output_type": "display_data"
    },
    {
     "name": "stdout",
     "output_type": "stream",
     "text": [
      "Epoch 118/1000 — Recon_U: 0.0318, Recon_L: 0.0282, SemiSup: 0.0415, Disc_Cat: 1.3070, Gen_Cat: 0.9378, Disc_Sty: 1.3656, Gen_Sty: 0.7260\n",
      "Validation Accuracy: 92.53%\n",
      "\n",
      "Weights saved to semisupervised_results/1000_epochs_adam_1000_samples/weights_*.pth\n"
     ]
    },
    {
     "data": {
      "application/vnd.jupyter.widget-view+json": {
       "model_id": "11afb68f74164c348f09196039017a8c",
       "version_major": 2,
       "version_minor": 0
      },
      "text/plain": [
       "Epoch [119/1000]:   0%|          | 0/10 [00:00<?, ?it/s]"
      ]
     },
     "metadata": {},
     "output_type": "display_data"
    },
    {
     "name": "stdout",
     "output_type": "stream",
     "text": [
      "Epoch 119/1000 — Recon_U: 0.0310, Recon_L: 0.0281, SemiSup: 0.0366, Disc_Cat: 1.3127, Gen_Cat: 0.9224, Disc_Sty: 1.3684, Gen_Sty: 0.7206\n",
      "Validation Accuracy: 92.46%\n",
      "\n",
      "Weights saved to semisupervised_results/1000_epochs_adam_1000_samples/weights_*.pth\n"
     ]
    },
    {
     "data": {
      "application/vnd.jupyter.widget-view+json": {
       "model_id": "0c3ca8f1da69423587bc0fa103a9511b",
       "version_major": 2,
       "version_minor": 0
      },
      "text/plain": [
       "Epoch [120/1000]:   0%|          | 0/10 [00:00<?, ?it/s]"
      ]
     },
     "metadata": {},
     "output_type": "display_data"
    },
    {
     "name": "stdout",
     "output_type": "stream",
     "text": [
      "Epoch 120/1000 — Recon_U: 0.0309, Recon_L: 0.0281, SemiSup: 0.0196, Disc_Cat: 1.3158, Gen_Cat: 0.9113, Disc_Sty: 1.3748, Gen_Sty: 0.7289\n",
      "Validation Accuracy: 92.51%\n",
      "\n",
      "Weights saved to semisupervised_results/1000_epochs_adam_1000_samples/weights_*.pth\n"
     ]
    },
    {
     "data": {
      "application/vnd.jupyter.widget-view+json": {
       "model_id": "bc9bea6bc4da49a5a8e8c8f341125fce",
       "version_major": 2,
       "version_minor": 0
      },
      "text/plain": [
       "Epoch [121/1000]:   0%|          | 0/10 [00:00<?, ?it/s]"
      ]
     },
     "metadata": {},
     "output_type": "display_data"
    },
    {
     "name": "stdout",
     "output_type": "stream",
     "text": [
      "Epoch 121/1000 — Recon_U: 0.0305, Recon_L: 0.0280, SemiSup: 0.0137, Disc_Cat: 1.3129, Gen_Cat: 0.9269, Disc_Sty: 1.3616, Gen_Sty: 0.7214\n",
      "Validation Accuracy: 92.51%\n",
      "\n",
      "Weights saved to semisupervised_results/1000_epochs_adam_1000_samples/weights_*.pth\n"
     ]
    },
    {
     "data": {
      "application/vnd.jupyter.widget-view+json": {
       "model_id": "b35bc5f3603146a8ba6cc17d7bf40661",
       "version_major": 2,
       "version_minor": 0
      },
      "text/plain": [
       "Epoch [122/1000]:   0%|          | 0/10 [00:00<?, ?it/s]"
      ]
     },
     "metadata": {},
     "output_type": "display_data"
    },
    {
     "name": "stdout",
     "output_type": "stream",
     "text": [
      "Epoch 122/1000 — Recon_U: 0.0313, Recon_L: 0.0280, SemiSup: 0.0233, Disc_Cat: 1.3214, Gen_Cat: 0.9056, Disc_Sty: 1.3695, Gen_Sty: 0.7153\n",
      "Validation Accuracy: 92.47%\n",
      "\n",
      "Weights saved to semisupervised_results/1000_epochs_adam_1000_samples/weights_*.pth\n"
     ]
    },
    {
     "data": {
      "application/vnd.jupyter.widget-view+json": {
       "model_id": "1dcd0be149104001aaf61b4e27667653",
       "version_major": 2,
       "version_minor": 0
      },
      "text/plain": [
       "Epoch [123/1000]:   0%|          | 0/10 [00:00<?, ?it/s]"
      ]
     },
     "metadata": {},
     "output_type": "display_data"
    },
    {
     "name": "stdout",
     "output_type": "stream",
     "text": [
      "Epoch 123/1000 — Recon_U: 0.0312, Recon_L: 0.0280, SemiSup: 0.0287, Disc_Cat: 1.3233, Gen_Cat: 0.9132, Disc_Sty: 1.3784, Gen_Sty: 0.7135\n",
      "Validation Accuracy: 92.53%\n",
      "\n",
      "Weights saved to semisupervised_results/1000_epochs_adam_1000_samples/weights_*.pth\n"
     ]
    },
    {
     "data": {
      "application/vnd.jupyter.widget-view+json": {
       "model_id": "5fb6b7779f2a4fc69e9d9c2734b35f29",
       "version_major": 2,
       "version_minor": 0
      },
      "text/plain": [
       "Epoch [124/1000]:   0%|          | 0/10 [00:00<?, ?it/s]"
      ]
     },
     "metadata": {},
     "output_type": "display_data"
    },
    {
     "name": "stdout",
     "output_type": "stream",
     "text": [
      "Epoch 124/1000 — Recon_U: 0.0305, Recon_L: 0.0280, SemiSup: 0.0337, Disc_Cat: 1.3190, Gen_Cat: 0.8906, Disc_Sty: 1.3633, Gen_Sty: 0.7183\n",
      "Validation Accuracy: 92.54%\n",
      "\n",
      "Weights saved to semisupervised_results/1000_epochs_adam_1000_samples/weights_*.pth\n"
     ]
    },
    {
     "data": {
      "application/vnd.jupyter.widget-view+json": {
       "model_id": "bf167c2ec1a8434d95537f27e1bbf670",
       "version_major": 2,
       "version_minor": 0
      },
      "text/plain": [
       "Epoch [125/1000]:   0%|          | 0/10 [00:00<?, ?it/s]"
      ]
     },
     "metadata": {},
     "output_type": "display_data"
    },
    {
     "name": "stdout",
     "output_type": "stream",
     "text": [
      "Epoch 125/1000 — Recon_U: 0.0307, Recon_L: 0.0279, SemiSup: 0.0157, Disc_Cat: 1.3209, Gen_Cat: 0.8833, Disc_Sty: 1.3707, Gen_Sty: 0.7186\n",
      "Validation Accuracy: 92.49%\n",
      "\n",
      "Weights saved to semisupervised_results/1000_epochs_adam_1000_samples/weights_*.pth\n"
     ]
    },
    {
     "data": {
      "application/vnd.jupyter.widget-view+json": {
       "model_id": "71a0194e22ea45309ab276ff7399a375",
       "version_major": 2,
       "version_minor": 0
      },
      "text/plain": [
       "Epoch [126/1000]:   0%|          | 0/10 [00:00<?, ?it/s]"
      ]
     },
     "metadata": {},
     "output_type": "display_data"
    },
    {
     "name": "stdout",
     "output_type": "stream",
     "text": [
      "Epoch 126/1000 — Recon_U: 0.0310, Recon_L: 0.0279, SemiSup: 0.0356, Disc_Cat: 1.3251, Gen_Cat: 0.8816, Disc_Sty: 1.3749, Gen_Sty: 0.6988\n",
      "Validation Accuracy: 92.51%\n",
      "\n",
      "Weights saved to semisupervised_results/1000_epochs_adam_1000_samples/weights_*.pth\n"
     ]
    },
    {
     "data": {
      "application/vnd.jupyter.widget-view+json": {
       "model_id": "cac542912313461983460eb5af69de5c",
       "version_major": 2,
       "version_minor": 0
      },
      "text/plain": [
       "Epoch [127/1000]:   0%|          | 0/10 [00:00<?, ?it/s]"
      ]
     },
     "metadata": {},
     "output_type": "display_data"
    },
    {
     "name": "stdout",
     "output_type": "stream",
     "text": [
      "Epoch 127/1000 — Recon_U: 0.0305, Recon_L: 0.0278, SemiSup: 0.0298, Disc_Cat: 1.3253, Gen_Cat: 0.8842, Disc_Sty: 1.3689, Gen_Sty: 0.7043\n",
      "Validation Accuracy: 92.53%\n",
      "\n",
      "Weights saved to semisupervised_results/1000_epochs_adam_1000_samples/weights_*.pth\n"
     ]
    },
    {
     "data": {
      "application/vnd.jupyter.widget-view+json": {
       "model_id": "8eb26d37da8d40b49a345a02031c6c18",
       "version_major": 2,
       "version_minor": 0
      },
      "text/plain": [
       "Epoch [128/1000]:   0%|          | 0/10 [00:00<?, ?it/s]"
      ]
     },
     "metadata": {},
     "output_type": "display_data"
    },
    {
     "name": "stdout",
     "output_type": "stream",
     "text": [
      "Epoch 128/1000 — Recon_U: 0.0314, Recon_L: 0.0277, SemiSup: 0.0409, Disc_Cat: 1.3207, Gen_Cat: 0.8982, Disc_Sty: 1.3731, Gen_Sty: 0.7031\n",
      "Validation Accuracy: 92.58%\n",
      "\n",
      "Weights saved to semisupervised_results/1000_epochs_adam_1000_samples/weights_*.pth\n"
     ]
    },
    {
     "data": {
      "application/vnd.jupyter.widget-view+json": {
       "model_id": "b153651967d3444b8083a9c4e36fa89c",
       "version_major": 2,
       "version_minor": 0
      },
      "text/plain": [
       "Epoch [129/1000]:   0%|          | 0/10 [00:00<?, ?it/s]"
      ]
     },
     "metadata": {},
     "output_type": "display_data"
    },
    {
     "name": "stdout",
     "output_type": "stream",
     "text": [
      "Epoch 129/1000 — Recon_U: 0.0305, Recon_L: 0.0278, SemiSup: 0.0139, Disc_Cat: 1.3248, Gen_Cat: 0.8956, Disc_Sty: 1.3668, Gen_Sty: 0.7022\n",
      "Validation Accuracy: 92.64%\n",
      "\n",
      "Weights saved to semisupervised_results/1000_epochs_adam_1000_samples/weights_*.pth\n"
     ]
    },
    {
     "data": {
      "application/vnd.jupyter.widget-view+json": {
       "model_id": "3a9162b3432c4838b9cacee30587e77b",
       "version_major": 2,
       "version_minor": 0
      },
      "text/plain": [
       "Epoch [130/1000]:   0%|          | 0/10 [00:00<?, ?it/s]"
      ]
     },
     "metadata": {},
     "output_type": "display_data"
    },
    {
     "name": "stdout",
     "output_type": "stream",
     "text": [
      "Epoch 130/1000 — Recon_U: 0.0311, Recon_L: 0.0278, SemiSup: 0.0239, Disc_Cat: 1.3134, Gen_Cat: 0.9320, Disc_Sty: 1.3828, Gen_Sty: 0.6902\n",
      "Validation Accuracy: 92.63%\n",
      "\n",
      "Weights saved to semisupervised_results/1000_epochs_adam_1000_samples/weights_*.pth\n"
     ]
    },
    {
     "data": {
      "application/vnd.jupyter.widget-view+json": {
       "model_id": "9b7d2b19c489445697754eb5036e5343",
       "version_major": 2,
       "version_minor": 0
      },
      "text/plain": [
       "Epoch [131/1000]:   0%|          | 0/10 [00:00<?, ?it/s]"
      ]
     },
     "metadata": {},
     "output_type": "display_data"
    },
    {
     "name": "stdout",
     "output_type": "stream",
     "text": [
      "Epoch 131/1000 — Recon_U: 0.0315, Recon_L: 0.0277, SemiSup: 0.0326, Disc_Cat: 1.3186, Gen_Cat: 0.9086, Disc_Sty: 1.3665, Gen_Sty: 0.7018\n",
      "Validation Accuracy: 92.54%\n",
      "\n",
      "Weights saved to semisupervised_results/1000_epochs_adam_1000_samples/weights_*.pth\n"
     ]
    },
    {
     "data": {
      "application/vnd.jupyter.widget-view+json": {
       "model_id": "0b4d1222e8134a27984b73746d2c3ba5",
       "version_major": 2,
       "version_minor": 0
      },
      "text/plain": [
       "Epoch [132/1000]:   0%|          | 0/10 [00:00<?, ?it/s]"
      ]
     },
     "metadata": {},
     "output_type": "display_data"
    },
    {
     "name": "stdout",
     "output_type": "stream",
     "text": [
      "Epoch 132/1000 — Recon_U: 0.0299, Recon_L: 0.0277, SemiSup: 0.0342, Disc_Cat: 1.3108, Gen_Cat: 0.8928, Disc_Sty: 1.3654, Gen_Sty: 0.7024\n",
      "Validation Accuracy: 92.59%\n",
      "\n",
      "Weights saved to semisupervised_results/1000_epochs_adam_1000_samples/weights_*.pth\n"
     ]
    },
    {
     "data": {
      "application/vnd.jupyter.widget-view+json": {
       "model_id": "8f51dc81dd804004917195d356444927",
       "version_major": 2,
       "version_minor": 0
      },
      "text/plain": [
       "Epoch [133/1000]:   0%|          | 0/10 [00:00<?, ?it/s]"
      ]
     },
     "metadata": {},
     "output_type": "display_data"
    },
    {
     "name": "stdout",
     "output_type": "stream",
     "text": [
      "Epoch 133/1000 — Recon_U: 0.0311, Recon_L: 0.0276, SemiSup: 0.0337, Disc_Cat: 1.3197, Gen_Cat: 0.9349, Disc_Sty: 1.3793, Gen_Sty: 0.6941\n",
      "Validation Accuracy: 92.63%\n",
      "\n",
      "Weights saved to semisupervised_results/1000_epochs_adam_1000_samples/weights_*.pth\n"
     ]
    },
    {
     "data": {
      "application/vnd.jupyter.widget-view+json": {
       "model_id": "fd636df478f1410c8fb266a2c29c6364",
       "version_major": 2,
       "version_minor": 0
      },
      "text/plain": [
       "Epoch [134/1000]:   0%|          | 0/10 [00:00<?, ?it/s]"
      ]
     },
     "metadata": {},
     "output_type": "display_data"
    },
    {
     "name": "stdout",
     "output_type": "stream",
     "text": [
      "Epoch 134/1000 — Recon_U: 0.0307, Recon_L: 0.0276, SemiSup: 0.0387, Disc_Cat: 1.3101, Gen_Cat: 0.9282, Disc_Sty: 1.3743, Gen_Sty: 0.6912\n",
      "Validation Accuracy: 92.61%\n",
      "\n",
      "Weights saved to semisupervised_results/1000_epochs_adam_1000_samples/weights_*.pth\n"
     ]
    },
    {
     "data": {
      "application/vnd.jupyter.widget-view+json": {
       "model_id": "1a82139d676a4163b47a35f48af6bf99",
       "version_major": 2,
       "version_minor": 0
      },
      "text/plain": [
       "Epoch [135/1000]:   0%|          | 0/10 [00:00<?, ?it/s]"
      ]
     },
     "metadata": {},
     "output_type": "display_data"
    },
    {
     "name": "stdout",
     "output_type": "stream",
     "text": [
      "Epoch 135/1000 — Recon_U: 0.0300, Recon_L: 0.0276, SemiSup: 0.0447, Disc_Cat: 1.3283, Gen_Cat: 0.8764, Disc_Sty: 1.3803, Gen_Sty: 0.6868\n",
      "Validation Accuracy: 92.61%\n",
      "\n",
      "Weights saved to semisupervised_results/1000_epochs_adam_1000_samples/weights_*.pth\n"
     ]
    },
    {
     "data": {
      "application/vnd.jupyter.widget-view+json": {
       "model_id": "11ac1346417b467ab0e470898ec7ea06",
       "version_major": 2,
       "version_minor": 0
      },
      "text/plain": [
       "Epoch [136/1000]:   0%|          | 0/10 [00:00<?, ?it/s]"
      ]
     },
     "metadata": {},
     "output_type": "display_data"
    },
    {
     "name": "stdout",
     "output_type": "stream",
     "text": [
      "Epoch 136/1000 — Recon_U: 0.0301, Recon_L: 0.0274, SemiSup: 0.0410, Disc_Cat: 1.3182, Gen_Cat: 0.9392, Disc_Sty: 1.3752, Gen_Sty: 0.6960\n",
      "Validation Accuracy: 92.66%\n",
      "\n",
      "Weights saved to semisupervised_results/1000_epochs_adam_1000_samples/weights_*.pth\n"
     ]
    },
    {
     "data": {
      "application/vnd.jupyter.widget-view+json": {
       "model_id": "67c35cdebb234c579c9e6bac98ec0f60",
       "version_major": 2,
       "version_minor": 0
      },
      "text/plain": [
       "Epoch [137/1000]:   0%|          | 0/10 [00:00<?, ?it/s]"
      ]
     },
     "metadata": {},
     "output_type": "display_data"
    },
    {
     "name": "stdout",
     "output_type": "stream",
     "text": [
      "Epoch 137/1000 — Recon_U: 0.0304, Recon_L: 0.0275, SemiSup: 0.0067, Disc_Cat: 1.3146, Gen_Cat: 0.9169, Disc_Sty: 1.3795, Gen_Sty: 0.6898\n",
      "Validation Accuracy: 92.56%\n",
      "\n",
      "Weights saved to semisupervised_results/1000_epochs_adam_1000_samples/weights_*.pth\n"
     ]
    },
    {
     "data": {
      "application/vnd.jupyter.widget-view+json": {
       "model_id": "2284c2bd163342b3912977987b1c0b71",
       "version_major": 2,
       "version_minor": 0
      },
      "text/plain": [
       "Epoch [138/1000]:   0%|          | 0/10 [00:00<?, ?it/s]"
      ]
     },
     "metadata": {},
     "output_type": "display_data"
    },
    {
     "name": "stdout",
     "output_type": "stream",
     "text": [
      "Epoch 138/1000 — Recon_U: 0.0310, Recon_L: 0.0275, SemiSup: 0.0122, Disc_Cat: 1.3141, Gen_Cat: 0.9205, Disc_Sty: 1.3819, Gen_Sty: 0.6914\n",
      "Validation Accuracy: 92.58%\n",
      "\n",
      "Weights saved to semisupervised_results/1000_epochs_adam_1000_samples/weights_*.pth\n"
     ]
    },
    {
     "data": {
      "application/vnd.jupyter.widget-view+json": {
       "model_id": "578c7352807d4f3c886d9b14c4848200",
       "version_major": 2,
       "version_minor": 0
      },
      "text/plain": [
       "Epoch [139/1000]:   0%|          | 0/10 [00:00<?, ?it/s]"
      ]
     },
     "metadata": {},
     "output_type": "display_data"
    },
    {
     "name": "stdout",
     "output_type": "stream",
     "text": [
      "Epoch 139/1000 — Recon_U: 0.0307, Recon_L: 0.0275, SemiSup: 0.0242, Disc_Cat: 1.3311, Gen_Cat: 0.8754, Disc_Sty: 1.3758, Gen_Sty: 0.6924\n",
      "Validation Accuracy: 92.68%\n",
      "\n",
      "Weights saved to semisupervised_results/1000_epochs_adam_1000_samples/weights_*.pth\n"
     ]
    },
    {
     "data": {
      "application/vnd.jupyter.widget-view+json": {
       "model_id": "97a37d1d0b54437a8f29907175cbf2ca",
       "version_major": 2,
       "version_minor": 0
      },
      "text/plain": [
       "Epoch [140/1000]:   0%|          | 0/10 [00:00<?, ?it/s]"
      ]
     },
     "metadata": {},
     "output_type": "display_data"
    },
    {
     "name": "stdout",
     "output_type": "stream",
     "text": [
      "Epoch 140/1000 — Recon_U: 0.0299, Recon_L: 0.0274, SemiSup: 0.0336, Disc_Cat: 1.3266, Gen_Cat: 0.8826, Disc_Sty: 1.3731, Gen_Sty: 0.6988\n",
      "Validation Accuracy: 92.66%\n",
      "\n",
      "Weights saved to semisupervised_results/1000_epochs_adam_1000_samples/weights_*.pth\n"
     ]
    },
    {
     "data": {
      "application/vnd.jupyter.widget-view+json": {
       "model_id": "da946db7233c4f2ba2198212dc72e9ea",
       "version_major": 2,
       "version_minor": 0
      },
      "text/plain": [
       "Epoch [141/1000]:   0%|          | 0/10 [00:00<?, ?it/s]"
      ]
     },
     "metadata": {},
     "output_type": "display_data"
    },
    {
     "name": "stdout",
     "output_type": "stream",
     "text": [
      "Epoch 141/1000 — Recon_U: 0.0301, Recon_L: 0.0276, SemiSup: 0.0214, Disc_Cat: 1.3083, Gen_Cat: 0.9482, Disc_Sty: 1.3770, Gen_Sty: 0.6861\n",
      "Validation Accuracy: 92.71%\n",
      "\n",
      "Weights saved to semisupervised_results/1000_epochs_adam_1000_samples/weights_*.pth\n"
     ]
    },
    {
     "data": {
      "application/vnd.jupyter.widget-view+json": {
       "model_id": "e5bcd0daf04443c4a7ad8994c347d8b1",
       "version_major": 2,
       "version_minor": 0
      },
      "text/plain": [
       "Epoch [142/1000]:   0%|          | 0/10 [00:00<?, ?it/s]"
      ]
     },
     "metadata": {},
     "output_type": "display_data"
    },
    {
     "name": "stdout",
     "output_type": "stream",
     "text": [
      "Epoch 142/1000 — Recon_U: 0.0303, Recon_L: 0.0274, SemiSup: 0.0264, Disc_Cat: 1.3116, Gen_Cat: 0.9565, Disc_Sty: 1.3870, Gen_Sty: 0.6803\n",
      "Validation Accuracy: 92.69%\n",
      "\n",
      "Weights saved to semisupervised_results/1000_epochs_adam_1000_samples/weights_*.pth\n"
     ]
    },
    {
     "data": {
      "application/vnd.jupyter.widget-view+json": {
       "model_id": "7ad2052d83d84fda91cfcb2976744fa5",
       "version_major": 2,
       "version_minor": 0
      },
      "text/plain": [
       "Epoch [143/1000]:   0%|          | 0/10 [00:00<?, ?it/s]"
      ]
     },
     "metadata": {},
     "output_type": "display_data"
    },
    {
     "name": "stdout",
     "output_type": "stream",
     "text": [
      "Epoch 143/1000 — Recon_U: 0.0305, Recon_L: 0.0274, SemiSup: 0.0112, Disc_Cat: 1.3184, Gen_Cat: 0.9144, Disc_Sty: 1.3742, Gen_Sty: 0.6887\n",
      "Validation Accuracy: 92.75%\n",
      "\n",
      "Weights saved to semisupervised_results/1000_epochs_adam_1000_samples/weights_*.pth\n"
     ]
    },
    {
     "data": {
      "application/vnd.jupyter.widget-view+json": {
       "model_id": "4b4faf5c13d84a81936e67f2ccf92c36",
       "version_major": 2,
       "version_minor": 0
      },
      "text/plain": [
       "Epoch [144/1000]:   0%|          | 0/10 [00:00<?, ?it/s]"
      ]
     },
     "metadata": {},
     "output_type": "display_data"
    },
    {
     "name": "stdout",
     "output_type": "stream",
     "text": [
      "Epoch 144/1000 — Recon_U: 0.0305, Recon_L: 0.0274, SemiSup: 0.0213, Disc_Cat: 1.3227, Gen_Cat: 0.9322, Disc_Sty: 1.3816, Gen_Sty: 0.6858\n",
      "Validation Accuracy: 92.71%\n",
      "\n",
      "Weights saved to semisupervised_results/1000_epochs_adam_1000_samples/weights_*.pth\n"
     ]
    },
    {
     "data": {
      "application/vnd.jupyter.widget-view+json": {
       "model_id": "a3ccdd241e7b407ebf55d488a02e8907",
       "version_major": 2,
       "version_minor": 0
      },
      "text/plain": [
       "Epoch [145/1000]:   0%|          | 0/10 [00:00<?, ?it/s]"
      ]
     },
     "metadata": {},
     "output_type": "display_data"
    },
    {
     "name": "stdout",
     "output_type": "stream",
     "text": [
      "Epoch 145/1000 — Recon_U: 0.0304, Recon_L: 0.0273, SemiSup: 0.0513, Disc_Cat: 1.3287, Gen_Cat: 0.9154, Disc_Sty: 1.3773, Gen_Sty: 0.6881\n",
      "Validation Accuracy: 92.71%\n",
      "\n",
      "Weights saved to semisupervised_results/1000_epochs_adam_1000_samples/weights_*.pth\n"
     ]
    },
    {
     "data": {
      "application/vnd.jupyter.widget-view+json": {
       "model_id": "181f19cfef4642b0833e57fdcee732e5",
       "version_major": 2,
       "version_minor": 0
      },
      "text/plain": [
       "Epoch [146/1000]:   0%|          | 0/10 [00:00<?, ?it/s]"
      ]
     },
     "metadata": {},
     "output_type": "display_data"
    },
    {
     "name": "stdout",
     "output_type": "stream",
     "text": [
      "Epoch 146/1000 — Recon_U: 0.0305, Recon_L: 0.0273, SemiSup: 0.0341, Disc_Cat: 1.3193, Gen_Cat: 0.9406, Disc_Sty: 1.3858, Gen_Sty: 0.6785\n",
      "Validation Accuracy: 92.68%\n",
      "\n",
      "Weights saved to semisupervised_results/1000_epochs_adam_1000_samples/weights_*.pth\n"
     ]
    },
    {
     "data": {
      "application/vnd.jupyter.widget-view+json": {
       "model_id": "cdd7488a670e4761b483909fd0b9f0e5",
       "version_major": 2,
       "version_minor": 0
      },
      "text/plain": [
       "Epoch [147/1000]:   0%|          | 0/10 [00:00<?, ?it/s]"
      ]
     },
     "metadata": {},
     "output_type": "display_data"
    },
    {
     "name": "stdout",
     "output_type": "stream",
     "text": [
      "Epoch 147/1000 — Recon_U: 0.0307, Recon_L: 0.0272, SemiSup: 0.0326, Disc_Cat: 1.3267, Gen_Cat: 0.8849, Disc_Sty: 1.3793, Gen_Sty: 0.6834\n",
      "Validation Accuracy: 92.75%\n",
      "\n",
      "Weights saved to semisupervised_results/1000_epochs_adam_1000_samples/weights_*.pth\n"
     ]
    },
    {
     "data": {
      "application/vnd.jupyter.widget-view+json": {
       "model_id": "151aa018ed064177a43b76aad3c333a3",
       "version_major": 2,
       "version_minor": 0
      },
      "text/plain": [
       "Epoch [148/1000]:   0%|          | 0/10 [00:00<?, ?it/s]"
      ]
     },
     "metadata": {},
     "output_type": "display_data"
    },
    {
     "name": "stdout",
     "output_type": "stream",
     "text": [
      "Epoch 148/1000 — Recon_U: 0.0297, Recon_L: 0.0272, SemiSup: 0.0236, Disc_Cat: 1.3149, Gen_Cat: 0.9187, Disc_Sty: 1.3860, Gen_Sty: 0.6770\n",
      "Validation Accuracy: 92.78%\n",
      "\n",
      "Weights saved to semisupervised_results/1000_epochs_adam_1000_samples/weights_*.pth\n"
     ]
    },
    {
     "data": {
      "application/vnd.jupyter.widget-view+json": {
       "model_id": "1f6668da064a43e4b2f5d655cf517abe",
       "version_major": 2,
       "version_minor": 0
      },
      "text/plain": [
       "Epoch [149/1000]:   0%|          | 0/10 [00:00<?, ?it/s]"
      ]
     },
     "metadata": {},
     "output_type": "display_data"
    },
    {
     "name": "stdout",
     "output_type": "stream",
     "text": [
      "Epoch 149/1000 — Recon_U: 0.0308, Recon_L: 0.0271, SemiSup: 0.0148, Disc_Cat: 1.3279, Gen_Cat: 0.9291, Disc_Sty: 1.3863, Gen_Sty: 0.6756\n",
      "Validation Accuracy: 92.78%\n",
      "\n",
      "Weights saved to semisupervised_results/1000_epochs_adam_1000_samples/weights_*.pth\n"
     ]
    },
    {
     "data": {
      "application/vnd.jupyter.widget-view+json": {
       "model_id": "31310f3847df439dbb3654d14aa0341b",
       "version_major": 2,
       "version_minor": 0
      },
      "text/plain": [
       "Epoch [150/1000]:   0%|          | 0/10 [00:00<?, ?it/s]"
      ]
     },
     "metadata": {},
     "output_type": "display_data"
    },
    {
     "name": "stdout",
     "output_type": "stream",
     "text": [
      "Epoch 150/1000 — Recon_U: 0.0303, Recon_L: 0.0272, SemiSup: 0.0399, Disc_Cat: 1.3200, Gen_Cat: 0.9297, Disc_Sty: 1.3764, Gen_Sty: 0.6842\n",
      "Validation Accuracy: 92.68%\n",
      "\n",
      "Weights saved to semisupervised_results/1000_epochs_adam_1000_samples/weights_epoch_150/weights_*.pth\n",
      "Weights saved to semisupervised_results/1000_epochs_adam_1000_samples/weights_*.pth\n"
     ]
    },
    {
     "data": {
      "application/vnd.jupyter.widget-view+json": {
       "model_id": "5a5a93aab4054a8f8fc43db4f25faa5c",
       "version_major": 2,
       "version_minor": 0
      },
      "text/plain": [
       "Epoch [151/1000]:   0%|          | 0/10 [00:00<?, ?it/s]"
      ]
     },
     "metadata": {},
     "output_type": "display_data"
    },
    {
     "name": "stdout",
     "output_type": "stream",
     "text": [
      "Epoch 151/1000 — Recon_U: 0.0310, Recon_L: 0.0270, SemiSup: 0.0148, Disc_Cat: 1.3153, Gen_Cat: 0.9481, Disc_Sty: 1.3867, Gen_Sty: 0.6758\n",
      "Validation Accuracy: 92.66%\n",
      "\n",
      "Weights saved to semisupervised_results/1000_epochs_adam_1000_samples/weights_*.pth\n"
     ]
    },
    {
     "data": {
      "application/vnd.jupyter.widget-view+json": {
       "model_id": "e91c181bf6d7485ab868d1f1a0fb6231",
       "version_major": 2,
       "version_minor": 0
      },
      "text/plain": [
       "Epoch [152/1000]:   0%|          | 0/10 [00:00<?, ?it/s]"
      ]
     },
     "metadata": {},
     "output_type": "display_data"
    },
    {
     "name": "stdout",
     "output_type": "stream",
     "text": [
      "Epoch 152/1000 — Recon_U: 0.0307, Recon_L: 0.0272, SemiSup: 0.0464, Disc_Cat: 1.3214, Gen_Cat: 0.9288, Disc_Sty: 1.3864, Gen_Sty: 0.6717\n",
      "Validation Accuracy: 92.68%\n",
      "\n",
      "Weights saved to semisupervised_results/1000_epochs_adam_1000_samples/weights_*.pth\n"
     ]
    },
    {
     "data": {
      "application/vnd.jupyter.widget-view+json": {
       "model_id": "7c0fbcb2a097455cbed90c149b2f5829",
       "version_major": 2,
       "version_minor": 0
      },
      "text/plain": [
       "Epoch [153/1000]:   0%|          | 0/10 [00:00<?, ?it/s]"
      ]
     },
     "metadata": {},
     "output_type": "display_data"
    },
    {
     "name": "stdout",
     "output_type": "stream",
     "text": [
      "Epoch 153/1000 — Recon_U: 0.0301, Recon_L: 0.0271, SemiSup: 0.0143, Disc_Cat: 1.3171, Gen_Cat: 0.9216, Disc_Sty: 1.3859, Gen_Sty: 0.6670\n",
      "Validation Accuracy: 92.73%\n",
      "\n",
      "Weights saved to semisupervised_results/1000_epochs_adam_1000_samples/weights_*.pth\n"
     ]
    },
    {
     "data": {
      "application/vnd.jupyter.widget-view+json": {
       "model_id": "15d28a17f6ce4c6c9ae44c9bbba58ada",
       "version_major": 2,
       "version_minor": 0
      },
      "text/plain": [
       "Epoch [154/1000]:   0%|          | 0/10 [00:00<?, ?it/s]"
      ]
     },
     "metadata": {},
     "output_type": "display_data"
    },
    {
     "name": "stdout",
     "output_type": "stream",
     "text": [
      "Epoch 154/1000 — Recon_U: 0.0301, Recon_L: 0.0271, SemiSup: 0.0160, Disc_Cat: 1.3254, Gen_Cat: 0.9140, Disc_Sty: 1.3843, Gen_Sty: 0.6702\n",
      "Validation Accuracy: 92.71%\n",
      "\n",
      "Weights saved to semisupervised_results/1000_epochs_adam_1000_samples/weights_*.pth\n"
     ]
    },
    {
     "data": {
      "application/vnd.jupyter.widget-view+json": {
       "model_id": "a0665093de3d4f00b81cec3c9d060772",
       "version_major": 2,
       "version_minor": 0
      },
      "text/plain": [
       "Epoch [155/1000]:   0%|          | 0/10 [00:00<?, ?it/s]"
      ]
     },
     "metadata": {},
     "output_type": "display_data"
    },
    {
     "name": "stdout",
     "output_type": "stream",
     "text": [
      "Epoch 155/1000 — Recon_U: 0.0305, Recon_L: 0.0271, SemiSup: 0.0170, Disc_Cat: 1.3241, Gen_Cat: 0.9023, Disc_Sty: 1.3869, Gen_Sty: 0.6696\n",
      "Validation Accuracy: 92.75%\n",
      "\n",
      "Weights saved to semisupervised_results/1000_epochs_adam_1000_samples/weights_*.pth\n"
     ]
    },
    {
     "data": {
      "application/vnd.jupyter.widget-view+json": {
       "model_id": "bc7a1db07e854a99a49c2fcc2efdc17d",
       "version_major": 2,
       "version_minor": 0
      },
      "text/plain": [
       "Epoch [156/1000]:   0%|          | 0/10 [00:00<?, ?it/s]"
      ]
     },
     "metadata": {},
     "output_type": "display_data"
    },
    {
     "name": "stdout",
     "output_type": "stream",
     "text": [
      "Epoch 156/1000 — Recon_U: 0.0302, Recon_L: 0.0271, SemiSup: 0.0173, Disc_Cat: 1.3293, Gen_Cat: 0.9087, Disc_Sty: 1.3777, Gen_Sty: 0.6714\n",
      "Validation Accuracy: 92.68%\n",
      "\n",
      "Weights saved to semisupervised_results/1000_epochs_adam_1000_samples/weights_*.pth\n"
     ]
    },
    {
     "data": {
      "application/vnd.jupyter.widget-view+json": {
       "model_id": "51778851a23e4a4abf515abc2bfabb70",
       "version_major": 2,
       "version_minor": 0
      },
      "text/plain": [
       "Epoch [157/1000]:   0%|          | 0/10 [00:00<?, ?it/s]"
      ]
     },
     "metadata": {},
     "output_type": "display_data"
    },
    {
     "name": "stdout",
     "output_type": "stream",
     "text": [
      "Epoch 157/1000 — Recon_U: 0.0303, Recon_L: 0.0269, SemiSup: 0.0349, Disc_Cat: 1.3260, Gen_Cat: 0.8983, Disc_Sty: 1.3847, Gen_Sty: 0.6690\n",
      "Validation Accuracy: 92.73%\n",
      "\n",
      "Weights saved to semisupervised_results/1000_epochs_adam_1000_samples/weights_*.pth\n"
     ]
    },
    {
     "data": {
      "application/vnd.jupyter.widget-view+json": {
       "model_id": "c246294fb1164bd193a237b94b17dba6",
       "version_major": 2,
       "version_minor": 0
      },
      "text/plain": [
       "Epoch [158/1000]:   0%|          | 0/10 [00:00<?, ?it/s]"
      ]
     },
     "metadata": {},
     "output_type": "display_data"
    },
    {
     "name": "stdout",
     "output_type": "stream",
     "text": [
      "Epoch 158/1000 — Recon_U: 0.0307, Recon_L: 0.0268, SemiSup: 0.0156, Disc_Cat: 1.3103, Gen_Cat: 0.9437, Disc_Sty: 1.3887, Gen_Sty: 0.6627\n",
      "Validation Accuracy: 92.76%\n",
      "\n",
      "Weights saved to semisupervised_results/1000_epochs_adam_1000_samples/weights_*.pth\n"
     ]
    },
    {
     "data": {
      "application/vnd.jupyter.widget-view+json": {
       "model_id": "18362eb6ed544c1dac933a2942cb7675",
       "version_major": 2,
       "version_minor": 0
      },
      "text/plain": [
       "Epoch [159/1000]:   0%|          | 0/10 [00:00<?, ?it/s]"
      ]
     },
     "metadata": {},
     "output_type": "display_data"
    },
    {
     "name": "stdout",
     "output_type": "stream",
     "text": [
      "Epoch 159/1000 — Recon_U: 0.0304, Recon_L: 0.0269, SemiSup: 0.0122, Disc_Cat: 1.3281, Gen_Cat: 0.8990, Disc_Sty: 1.3832, Gen_Sty: 0.6662\n",
      "Validation Accuracy: 92.75%\n",
      "\n",
      "Weights saved to semisupervised_results/1000_epochs_adam_1000_samples/weights_*.pth\n"
     ]
    },
    {
     "data": {
      "application/vnd.jupyter.widget-view+json": {
       "model_id": "5a01bae3f9184a10952351ec6a25aa4a",
       "version_major": 2,
       "version_minor": 0
      },
      "text/plain": [
       "Epoch [160/1000]:   0%|          | 0/10 [00:00<?, ?it/s]"
      ]
     },
     "metadata": {},
     "output_type": "display_data"
    },
    {
     "name": "stdout",
     "output_type": "stream",
     "text": [
      "Epoch 160/1000 — Recon_U: 0.0300, Recon_L: 0.0268, SemiSup: 0.0295, Disc_Cat: 1.3266, Gen_Cat: 0.9174, Disc_Sty: 1.3811, Gen_Sty: 0.6640\n",
      "Validation Accuracy: 92.76%\n",
      "\n",
      "Weights saved to semisupervised_results/1000_epochs_adam_1000_samples/weights_*.pth\n"
     ]
    },
    {
     "data": {
      "application/vnd.jupyter.widget-view+json": {
       "model_id": "50d89a0d567b4701a4d86c0f0236f699",
       "version_major": 2,
       "version_minor": 0
      },
      "text/plain": [
       "Epoch [161/1000]:   0%|          | 0/10 [00:00<?, ?it/s]"
      ]
     },
     "metadata": {},
     "output_type": "display_data"
    },
    {
     "name": "stdout",
     "output_type": "stream",
     "text": [
      "Epoch 161/1000 — Recon_U: 0.0309, Recon_L: 0.0268, SemiSup: 0.0190, Disc_Cat: 1.3048, Gen_Cat: 0.9626, Disc_Sty: 1.3862, Gen_Sty: 0.6566\n",
      "Validation Accuracy: 92.81%\n",
      "\n",
      "Weights saved to semisupervised_results/1000_epochs_adam_1000_samples/weights_*.pth\n"
     ]
    },
    {
     "data": {
      "application/vnd.jupyter.widget-view+json": {
       "model_id": "20a6ba4f290540eaaa9385af3aaaf784",
       "version_major": 2,
       "version_minor": 0
      },
      "text/plain": [
       "Epoch [162/1000]:   0%|          | 0/10 [00:00<?, ?it/s]"
      ]
     },
     "metadata": {},
     "output_type": "display_data"
    },
    {
     "name": "stdout",
     "output_type": "stream",
     "text": [
      "Epoch 162/1000 — Recon_U: 0.0295, Recon_L: 0.0268, SemiSup: 0.0124, Disc_Cat: 1.3274, Gen_Cat: 0.8997, Disc_Sty: 1.3803, Gen_Sty: 0.6650\n",
      "Validation Accuracy: 92.83%\n",
      "\n",
      "Weights saved to semisupervised_results/1000_epochs_adam_1000_samples/weights_*.pth\n"
     ]
    },
    {
     "data": {
      "application/vnd.jupyter.widget-view+json": {
       "model_id": "3a38d80944054cffaad26072241c7bda",
       "version_major": 2,
       "version_minor": 0
      },
      "text/plain": [
       "Epoch [163/1000]:   0%|          | 0/10 [00:00<?, ?it/s]"
      ]
     },
     "metadata": {},
     "output_type": "display_data"
    },
    {
     "name": "stdout",
     "output_type": "stream",
     "text": [
      "Epoch 163/1000 — Recon_U: 0.0309, Recon_L: 0.0268, SemiSup: 0.0372, Disc_Cat: 1.3237, Gen_Cat: 0.9605, Disc_Sty: 1.3836, Gen_Sty: 0.6597\n",
      "Validation Accuracy: 92.76%\n",
      "\n",
      "Weights saved to semisupervised_results/1000_epochs_adam_1000_samples/weights_*.pth\n"
     ]
    },
    {
     "data": {
      "application/vnd.jupyter.widget-view+json": {
       "model_id": "5da26d6247784036821906f51d97e909",
       "version_major": 2,
       "version_minor": 0
      },
      "text/plain": [
       "Epoch [164/1000]:   0%|          | 0/10 [00:00<?, ?it/s]"
      ]
     },
     "metadata": {},
     "output_type": "display_data"
    },
    {
     "name": "stdout",
     "output_type": "stream",
     "text": [
      "Epoch 164/1000 — Recon_U: 0.0294, Recon_L: 0.0268, SemiSup: 0.0148, Disc_Cat: 1.3285, Gen_Cat: 0.9125, Disc_Sty: 1.3837, Gen_Sty: 0.6576\n",
      "Validation Accuracy: 92.85%\n",
      "\n",
      "Weights saved to semisupervised_results/1000_epochs_adam_1000_samples/weights_*.pth\n"
     ]
    },
    {
     "data": {
      "application/vnd.jupyter.widget-view+json": {
       "model_id": "025c89db908d4474ad5a3d47743edfb9",
       "version_major": 2,
       "version_minor": 0
      },
      "text/plain": [
       "Epoch [165/1000]:   0%|          | 0/10 [00:00<?, ?it/s]"
      ]
     },
     "metadata": {},
     "output_type": "display_data"
    },
    {
     "name": "stdout",
     "output_type": "stream",
     "text": [
      "Epoch 165/1000 — Recon_U: 0.0300, Recon_L: 0.0267, SemiSup: 0.0255, Disc_Cat: 1.3160, Gen_Cat: 0.9545, Disc_Sty: 1.3860, Gen_Sty: 0.6604\n",
      "Validation Accuracy: 92.86%\n",
      "\n",
      "Weights saved to semisupervised_results/1000_epochs_adam_1000_samples/weights_*.pth\n"
     ]
    },
    {
     "data": {
      "application/vnd.jupyter.widget-view+json": {
       "model_id": "e796f1a726564c4ea3a2c6cf0bc147dc",
       "version_major": 2,
       "version_minor": 0
      },
      "text/plain": [
       "Epoch [166/1000]:   0%|          | 0/10 [00:00<?, ?it/s]"
      ]
     },
     "metadata": {},
     "output_type": "display_data"
    },
    {
     "name": "stdout",
     "output_type": "stream",
     "text": [
      "Epoch 166/1000 — Recon_U: 0.0305, Recon_L: 0.0267, SemiSup: 0.0098, Disc_Cat: 1.3166, Gen_Cat: 0.9563, Disc_Sty: 1.3788, Gen_Sty: 0.6625\n",
      "Validation Accuracy: 92.88%\n",
      "\n",
      "Weights saved to semisupervised_results/1000_epochs_adam_1000_samples/weights_*.pth\n"
     ]
    },
    {
     "data": {
      "application/vnd.jupyter.widget-view+json": {
       "model_id": "0307e4925fae4b6788c89de9c8d4727b",
       "version_major": 2,
       "version_minor": 0
      },
      "text/plain": [
       "Epoch [167/1000]:   0%|          | 0/10 [00:00<?, ?it/s]"
      ]
     },
     "metadata": {},
     "output_type": "display_data"
    },
    {
     "name": "stdout",
     "output_type": "stream",
     "text": [
      "Epoch 167/1000 — Recon_U: 0.0297, Recon_L: 0.0267, SemiSup: 0.0572, Disc_Cat: 1.3257, Gen_Cat: 0.9098, Disc_Sty: 1.3817, Gen_Sty: 0.6599\n",
      "Validation Accuracy: 92.95%\n",
      "\n",
      "Weights saved to semisupervised_results/1000_epochs_adam_1000_samples/weights_*.pth\n"
     ]
    },
    {
     "data": {
      "application/vnd.jupyter.widget-view+json": {
       "model_id": "7711c43a438f43c3ab42a740eccdc206",
       "version_major": 2,
       "version_minor": 0
      },
      "text/plain": [
       "Epoch [168/1000]:   0%|          | 0/10 [00:00<?, ?it/s]"
      ]
     },
     "metadata": {},
     "output_type": "display_data"
    },
    {
     "name": "stdout",
     "output_type": "stream",
     "text": [
      "Epoch 168/1000 — Recon_U: 0.0296, Recon_L: 0.0267, SemiSup: 0.0216, Disc_Cat: 1.3364, Gen_Cat: 0.8750, Disc_Sty: 1.3811, Gen_Sty: 0.6603\n",
      "Validation Accuracy: 92.90%\n",
      "\n",
      "Weights saved to semisupervised_results/1000_epochs_adam_1000_samples/weights_*.pth\n"
     ]
    },
    {
     "data": {
      "application/vnd.jupyter.widget-view+json": {
       "model_id": "8ec0f967145d4c85a153d5ed022003f9",
       "version_major": 2,
       "version_minor": 0
      },
      "text/plain": [
       "Epoch [169/1000]:   0%|          | 0/10 [00:00<?, ?it/s]"
      ]
     },
     "metadata": {},
     "output_type": "display_data"
    },
    {
     "name": "stdout",
     "output_type": "stream",
     "text": [
      "Epoch 169/1000 — Recon_U: 0.0302, Recon_L: 0.0266, SemiSup: 0.0250, Disc_Cat: 1.3118, Gen_Cat: 0.9677, Disc_Sty: 1.3870, Gen_Sty: 0.6635\n",
      "Validation Accuracy: 92.93%\n",
      "\n",
      "Weights saved to semisupervised_results/1000_epochs_adam_1000_samples/weights_*.pth\n"
     ]
    },
    {
     "data": {
      "application/vnd.jupyter.widget-view+json": {
       "model_id": "c278cde728e546e79cb6ce7697a49cfb",
       "version_major": 2,
       "version_minor": 0
      },
      "text/plain": [
       "Epoch [170/1000]:   0%|          | 0/10 [00:00<?, ?it/s]"
      ]
     },
     "metadata": {},
     "output_type": "display_data"
    },
    {
     "name": "stdout",
     "output_type": "stream",
     "text": [
      "Epoch 170/1000 — Recon_U: 0.0293, Recon_L: 0.0267, SemiSup: 0.0321, Disc_Cat: 1.3171, Gen_Cat: 0.9249, Disc_Sty: 1.3863, Gen_Sty: 0.6610\n",
      "Validation Accuracy: 92.92%\n",
      "\n",
      "Weights saved to semisupervised_results/1000_epochs_adam_1000_samples/weights_*.pth\n"
     ]
    },
    {
     "data": {
      "application/vnd.jupyter.widget-view+json": {
       "model_id": "529ac864afe842d5a3ab68928f95cbbd",
       "version_major": 2,
       "version_minor": 0
      },
      "text/plain": [
       "Epoch [171/1000]:   0%|          | 0/10 [00:00<?, ?it/s]"
      ]
     },
     "metadata": {},
     "output_type": "display_data"
    },
    {
     "name": "stdout",
     "output_type": "stream",
     "text": [
      "Epoch 171/1000 — Recon_U: 0.0304, Recon_L: 0.0264, SemiSup: 0.0115, Disc_Cat: 1.3194, Gen_Cat: 0.9451, Disc_Sty: 1.3828, Gen_Sty: 0.6678\n",
      "Validation Accuracy: 92.85%\n",
      "\n",
      "Weights saved to semisupervised_results/1000_epochs_adam_1000_samples/weights_*.pth\n"
     ]
    },
    {
     "data": {
      "application/vnd.jupyter.widget-view+json": {
       "model_id": "1384472897484f8e8047e8f42485576d",
       "version_major": 2,
       "version_minor": 0
      },
      "text/plain": [
       "Epoch [172/1000]:   0%|          | 0/10 [00:00<?, ?it/s]"
      ]
     },
     "metadata": {},
     "output_type": "display_data"
    },
    {
     "name": "stdout",
     "output_type": "stream",
     "text": [
      "Epoch 172/1000 — Recon_U: 0.0304, Recon_L: 0.0265, SemiSup: 0.0174, Disc_Cat: 1.3193, Gen_Cat: 0.9577, Disc_Sty: 1.3865, Gen_Sty: 0.6663\n",
      "Validation Accuracy: 92.76%\n",
      "\n",
      "Weights saved to semisupervised_results/1000_epochs_adam_1000_samples/weights_*.pth\n"
     ]
    },
    {
     "data": {
      "application/vnd.jupyter.widget-view+json": {
       "model_id": "eb5f3708b7a5468f88ab05426594d015",
       "version_major": 2,
       "version_minor": 0
      },
      "text/plain": [
       "Epoch [173/1000]:   0%|          | 0/10 [00:00<?, ?it/s]"
      ]
     },
     "metadata": {},
     "output_type": "display_data"
    },
    {
     "name": "stdout",
     "output_type": "stream",
     "text": [
      "Epoch 173/1000 — Recon_U: 0.0297, Recon_L: 0.0266, SemiSup: 0.0352, Disc_Cat: 1.3201, Gen_Cat: 0.9275, Disc_Sty: 1.3763, Gen_Sty: 0.6751\n",
      "Validation Accuracy: 92.73%\n",
      "\n",
      "Weights saved to semisupervised_results/1000_epochs_adam_1000_samples/weights_*.pth\n"
     ]
    },
    {
     "data": {
      "application/vnd.jupyter.widget-view+json": {
       "model_id": "8d07cd44fae9463d85595222fd66784d",
       "version_major": 2,
       "version_minor": 0
      },
      "text/plain": [
       "Epoch [174/1000]:   0%|          | 0/10 [00:00<?, ?it/s]"
      ]
     },
     "metadata": {},
     "output_type": "display_data"
    },
    {
     "name": "stdout",
     "output_type": "stream",
     "text": [
      "Epoch 174/1000 — Recon_U: 0.0295, Recon_L: 0.0264, SemiSup: 0.0222, Disc_Cat: 1.3274, Gen_Cat: 0.9048, Disc_Sty: 1.3743, Gen_Sty: 0.6773\n",
      "Validation Accuracy: 92.68%\n",
      "\n",
      "Weights saved to semisupervised_results/1000_epochs_adam_1000_samples/weights_*.pth\n"
     ]
    },
    {
     "data": {
      "application/vnd.jupyter.widget-view+json": {
       "model_id": "ab6e4174b6394c7c9dfa060167176968",
       "version_major": 2,
       "version_minor": 0
      },
      "text/plain": [
       "Epoch [175/1000]:   0%|          | 0/10 [00:00<?, ?it/s]"
      ]
     },
     "metadata": {},
     "output_type": "display_data"
    },
    {
     "name": "stdout",
     "output_type": "stream",
     "text": [
      "Epoch 175/1000 — Recon_U: 0.0300, Recon_L: 0.0265, SemiSup: 0.0116, Disc_Cat: 1.3222, Gen_Cat: 0.9284, Disc_Sty: 1.3836, Gen_Sty: 0.6744\n",
      "Validation Accuracy: 92.75%\n",
      "\n",
      "Weights saved to semisupervised_results/1000_epochs_adam_1000_samples/weights_*.pth\n"
     ]
    },
    {
     "data": {
      "application/vnd.jupyter.widget-view+json": {
       "model_id": "d98f5860d02e495192e8d4cfba1e692f",
       "version_major": 2,
       "version_minor": 0
      },
      "text/plain": [
       "Epoch [176/1000]:   0%|          | 0/10 [00:00<?, ?it/s]"
      ]
     },
     "metadata": {},
     "output_type": "display_data"
    },
    {
     "name": "stdout",
     "output_type": "stream",
     "text": [
      "Epoch 176/1000 — Recon_U: 0.0304, Recon_L: 0.0263, SemiSup: 0.0281, Disc_Cat: 1.3229, Gen_Cat: 0.9254, Disc_Sty: 1.3869, Gen_Sty: 0.6748\n",
      "Validation Accuracy: 92.78%\n",
      "\n",
      "Weights saved to semisupervised_results/1000_epochs_adam_1000_samples/weights_*.pth\n"
     ]
    },
    {
     "data": {
      "application/vnd.jupyter.widget-view+json": {
       "model_id": "ff78b0c720df496ca3463343edba8358",
       "version_major": 2,
       "version_minor": 0
      },
      "text/plain": [
       "Epoch [177/1000]:   0%|          | 0/10 [00:00<?, ?it/s]"
      ]
     },
     "metadata": {},
     "output_type": "display_data"
    },
    {
     "name": "stdout",
     "output_type": "stream",
     "text": [
      "Epoch 177/1000 — Recon_U: 0.0294, Recon_L: 0.0264, SemiSup: 0.0444, Disc_Cat: 1.3306, Gen_Cat: 0.8787, Disc_Sty: 1.3816, Gen_Sty: 0.6733\n",
      "Validation Accuracy: 92.81%\n",
      "\n",
      "Weights saved to semisupervised_results/1000_epochs_adam_1000_samples/weights_*.pth\n"
     ]
    },
    {
     "data": {
      "application/vnd.jupyter.widget-view+json": {
       "model_id": "9a0fa4cfda14434fabf6e358bc642b89",
       "version_major": 2,
       "version_minor": 0
      },
      "text/plain": [
       "Epoch [178/1000]:   0%|          | 0/10 [00:00<?, ?it/s]"
      ]
     },
     "metadata": {},
     "output_type": "display_data"
    },
    {
     "name": "stdout",
     "output_type": "stream",
     "text": [
      "Epoch 178/1000 — Recon_U: 0.0297, Recon_L: 0.0263, SemiSup: 0.0116, Disc_Cat: 1.3106, Gen_Cat: 0.9620, Disc_Sty: 1.3849, Gen_Sty: 0.6744\n",
      "Validation Accuracy: 92.93%\n",
      "\n",
      "Weights saved to semisupervised_results/1000_epochs_adam_1000_samples/weights_*.pth\n"
     ]
    },
    {
     "data": {
      "application/vnd.jupyter.widget-view+json": {
       "model_id": "e48e2c750c6544acae0a4a75094c7dc4",
       "version_major": 2,
       "version_minor": 0
      },
      "text/plain": [
       "Epoch [179/1000]:   0%|          | 0/10 [00:00<?, ?it/s]"
      ]
     },
     "metadata": {},
     "output_type": "display_data"
    },
    {
     "name": "stdout",
     "output_type": "stream",
     "text": [
      "Epoch 179/1000 — Recon_U: 0.0299, Recon_L: 0.0263, SemiSup: 0.0281, Disc_Cat: 1.3367, Gen_Cat: 0.9157, Disc_Sty: 1.3777, Gen_Sty: 0.6749\n",
      "Validation Accuracy: 92.92%\n",
      "\n",
      "Weights saved to semisupervised_results/1000_epochs_adam_1000_samples/weights_*.pth\n"
     ]
    },
    {
     "data": {
      "application/vnd.jupyter.widget-view+json": {
       "model_id": "00fc2575d58f4ae386602fe793603ad7",
       "version_major": 2,
       "version_minor": 0
      },
      "text/plain": [
       "Epoch [180/1000]:   0%|          | 0/10 [00:00<?, ?it/s]"
      ]
     },
     "metadata": {},
     "output_type": "display_data"
    },
    {
     "name": "stdout",
     "output_type": "stream",
     "text": [
      "Epoch 180/1000 — Recon_U: 0.0294, Recon_L: 0.0263, SemiSup: 0.0397, Disc_Cat: 1.3316, Gen_Cat: 0.8968, Disc_Sty: 1.3844, Gen_Sty: 0.6712\n",
      "Validation Accuracy: 92.92%\n",
      "\n",
      "Weights saved to semisupervised_results/1000_epochs_adam_1000_samples/weights_*.pth\n"
     ]
    },
    {
     "data": {
      "application/vnd.jupyter.widget-view+json": {
       "model_id": "6741c224f6cb483fb513dd1764377983",
       "version_major": 2,
       "version_minor": 0
      },
      "text/plain": [
       "Epoch [181/1000]:   0%|          | 0/10 [00:00<?, ?it/s]"
      ]
     },
     "metadata": {},
     "output_type": "display_data"
    },
    {
     "name": "stdout",
     "output_type": "stream",
     "text": [
      "Epoch 181/1000 — Recon_U: 0.0303, Recon_L: 0.0264, SemiSup: 0.0407, Disc_Cat: 1.3207, Gen_Cat: 0.9475, Disc_Sty: 1.3845, Gen_Sty: 0.6687\n",
      "Validation Accuracy: 92.80%\n",
      "\n",
      "Weights saved to semisupervised_results/1000_epochs_adam_1000_samples/weights_*.pth\n"
     ]
    },
    {
     "data": {
      "application/vnd.jupyter.widget-view+json": {
       "model_id": "9ac7cd4e510a463696cdf7abf641f31f",
       "version_major": 2,
       "version_minor": 0
      },
      "text/plain": [
       "Epoch [182/1000]:   0%|          | 0/10 [00:00<?, ?it/s]"
      ]
     },
     "metadata": {},
     "output_type": "display_data"
    },
    {
     "name": "stdout",
     "output_type": "stream",
     "text": [
      "Epoch 182/1000 — Recon_U: 0.0293, Recon_L: 0.0263, SemiSup: 0.0548, Disc_Cat: 1.3362, Gen_Cat: 0.8870, Disc_Sty: 1.3809, Gen_Sty: 0.6696\n",
      "Validation Accuracy: 92.85%\n",
      "\n",
      "Weights saved to semisupervised_results/1000_epochs_adam_1000_samples/weights_*.pth\n"
     ]
    },
    {
     "data": {
      "application/vnd.jupyter.widget-view+json": {
       "model_id": "0dda673ac8c34829949ce93d137ed09c",
       "version_major": 2,
       "version_minor": 0
      },
      "text/plain": [
       "Epoch [183/1000]:   0%|          | 0/10 [00:00<?, ?it/s]"
      ]
     },
     "metadata": {},
     "output_type": "display_data"
    },
    {
     "name": "stdout",
     "output_type": "stream",
     "text": [
      "Epoch 183/1000 — Recon_U: 0.0294, Recon_L: 0.0262, SemiSup: 0.0117, Disc_Cat: 1.3196, Gen_Cat: 0.9192, Disc_Sty: 1.3853, Gen_Sty: 0.6654\n",
      "Validation Accuracy: 92.92%\n",
      "\n",
      "Weights saved to semisupervised_results/1000_epochs_adam_1000_samples/weights_*.pth\n"
     ]
    },
    {
     "data": {
      "application/vnd.jupyter.widget-view+json": {
       "model_id": "36de8c0398504211875f956fe6c74bec",
       "version_major": 2,
       "version_minor": 0
      },
      "text/plain": [
       "Epoch [184/1000]:   0%|          | 0/10 [00:00<?, ?it/s]"
      ]
     },
     "metadata": {},
     "output_type": "display_data"
    },
    {
     "name": "stdout",
     "output_type": "stream",
     "text": [
      "Epoch 184/1000 — Recon_U: 0.0308, Recon_L: 0.0262, SemiSup: 0.0123, Disc_Cat: 1.3217, Gen_Cat: 0.9434, Disc_Sty: 1.3841, Gen_Sty: 0.6662\n",
      "Validation Accuracy: 93.00%\n",
      "\n",
      "Weights saved to semisupervised_results/1000_epochs_adam_1000_samples/weights_*.pth\n"
     ]
    },
    {
     "data": {
      "application/vnd.jupyter.widget-view+json": {
       "model_id": "2b75a5aa6fa34fc382a4e4ee8a59507f",
       "version_major": 2,
       "version_minor": 0
      },
      "text/plain": [
       "Epoch [185/1000]:   0%|          | 0/10 [00:00<?, ?it/s]"
      ]
     },
     "metadata": {},
     "output_type": "display_data"
    },
    {
     "name": "stdout",
     "output_type": "stream",
     "text": [
      "Epoch 185/1000 — Recon_U: 0.0293, Recon_L: 0.0261, SemiSup: 0.0231, Disc_Cat: 1.3354, Gen_Cat: 0.8790, Disc_Sty: 1.3792, Gen_Sty: 0.6691\n",
      "Validation Accuracy: 92.95%\n",
      "\n",
      "Weights saved to semisupervised_results/1000_epochs_adam_1000_samples/weights_*.pth\n"
     ]
    },
    {
     "data": {
      "application/vnd.jupyter.widget-view+json": {
       "model_id": "ec3ed356bde04ac088377f968481c091",
       "version_major": 2,
       "version_minor": 0
      },
      "text/plain": [
       "Epoch [186/1000]:   0%|          | 0/10 [00:00<?, ?it/s]"
      ]
     },
     "metadata": {},
     "output_type": "display_data"
    },
    {
     "name": "stdout",
     "output_type": "stream",
     "text": [
      "Epoch 186/1000 — Recon_U: 0.0298, Recon_L: 0.0260, SemiSup: 0.0221, Disc_Cat: 1.3235, Gen_Cat: 0.9212, Disc_Sty: 1.3841, Gen_Sty: 0.6663\n",
      "Validation Accuracy: 92.90%\n",
      "\n",
      "Weights saved to semisupervised_results/1000_epochs_adam_1000_samples/weights_*.pth\n"
     ]
    },
    {
     "data": {
      "application/vnd.jupyter.widget-view+json": {
       "model_id": "8b0ded83d7854a20a758917ab9d1b64d",
       "version_major": 2,
       "version_minor": 0
      },
      "text/plain": [
       "Epoch [187/1000]:   0%|          | 0/10 [00:00<?, ?it/s]"
      ]
     },
     "metadata": {},
     "output_type": "display_data"
    },
    {
     "name": "stdout",
     "output_type": "stream",
     "text": [
      "Epoch 187/1000 — Recon_U: 0.0295, Recon_L: 0.0262, SemiSup: 0.0176, Disc_Cat: 1.3298, Gen_Cat: 0.9192, Disc_Sty: 1.3768, Gen_Sty: 0.6672\n",
      "Validation Accuracy: 92.83%\n",
      "\n",
      "Weights saved to semisupervised_results/1000_epochs_adam_1000_samples/weights_*.pth\n"
     ]
    },
    {
     "data": {
      "application/vnd.jupyter.widget-view+json": {
       "model_id": "f6457669468847faa640e48858ca2953",
       "version_major": 2,
       "version_minor": 0
      },
      "text/plain": [
       "Epoch [188/1000]:   0%|          | 0/10 [00:00<?, ?it/s]"
      ]
     },
     "metadata": {},
     "output_type": "display_data"
    },
    {
     "name": "stdout",
     "output_type": "stream",
     "text": [
      "Epoch 188/1000 — Recon_U: 0.0290, Recon_L: 0.0261, SemiSup: 0.0222, Disc_Cat: 1.3240, Gen_Cat: 0.9583, Disc_Sty: 1.3829, Gen_Sty: 0.6623\n",
      "Validation Accuracy: 92.80%\n",
      "\n",
      "Weights saved to semisupervised_results/1000_epochs_adam_1000_samples/weights_*.pth\n"
     ]
    },
    {
     "data": {
      "application/vnd.jupyter.widget-view+json": {
       "model_id": "84ff532db9de4d0399cf8343fd3adf14",
       "version_major": 2,
       "version_minor": 0
      },
      "text/plain": [
       "Epoch [189/1000]:   0%|          | 0/10 [00:00<?, ?it/s]"
      ]
     },
     "metadata": {},
     "output_type": "display_data"
    },
    {
     "name": "stdout",
     "output_type": "stream",
     "text": [
      "Epoch 189/1000 — Recon_U: 0.0287, Recon_L: 0.0262, SemiSup: 0.0218, Disc_Cat: 1.3204, Gen_Cat: 0.9300, Disc_Sty: 1.3822, Gen_Sty: 0.6637\n",
      "Validation Accuracy: 92.80%\n",
      "\n",
      "Weights saved to semisupervised_results/1000_epochs_adam_1000_samples/weights_*.pth\n"
     ]
    },
    {
     "data": {
      "application/vnd.jupyter.widget-view+json": {
       "model_id": "dcf172a5182c48679985a03d6355764a",
       "version_major": 2,
       "version_minor": 0
      },
      "text/plain": [
       "Epoch [190/1000]:   0%|          | 0/10 [00:00<?, ?it/s]"
      ]
     },
     "metadata": {},
     "output_type": "display_data"
    },
    {
     "name": "stdout",
     "output_type": "stream",
     "text": [
      "Epoch 190/1000 — Recon_U: 0.0297, Recon_L: 0.0260, SemiSup: 0.0262, Disc_Cat: 1.3217, Gen_Cat: 0.9489, Disc_Sty: 1.3801, Gen_Sty: 0.6623\n",
      "Validation Accuracy: 92.83%\n",
      "\n",
      "Weights saved to semisupervised_results/1000_epochs_adam_1000_samples/weights_*.pth\n"
     ]
    },
    {
     "data": {
      "application/vnd.jupyter.widget-view+json": {
       "model_id": "2164006de19a47798c6975aa1a5d4092",
       "version_major": 2,
       "version_minor": 0
      },
      "text/plain": [
       "Epoch [191/1000]:   0%|          | 0/10 [00:00<?, ?it/s]"
      ]
     },
     "metadata": {},
     "output_type": "display_data"
    },
    {
     "name": "stdout",
     "output_type": "stream",
     "text": [
      "Epoch 191/1000 — Recon_U: 0.0300, Recon_L: 0.0260, SemiSup: 0.0212, Disc_Cat: 1.3118, Gen_Cat: 0.9924, Disc_Sty: 1.3800, Gen_Sty: 0.6632\n",
      "Validation Accuracy: 92.90%\n",
      "\n",
      "Weights saved to semisupervised_results/1000_epochs_adam_1000_samples/weights_*.pth\n"
     ]
    },
    {
     "data": {
      "application/vnd.jupyter.widget-view+json": {
       "model_id": "6d8d56f0fa3048d8ba3a6fbc018d3220",
       "version_major": 2,
       "version_minor": 0
      },
      "text/plain": [
       "Epoch [192/1000]:   0%|          | 0/10 [00:00<?, ?it/s]"
      ]
     },
     "metadata": {},
     "output_type": "display_data"
    },
    {
     "name": "stdout",
     "output_type": "stream",
     "text": [
      "Epoch 192/1000 — Recon_U: 0.0297, Recon_L: 0.0259, SemiSup: 0.0122, Disc_Cat: 1.3272, Gen_Cat: 0.9128, Disc_Sty: 1.3777, Gen_Sty: 0.6646\n",
      "Validation Accuracy: 92.93%\n",
      "\n",
      "Weights saved to semisupervised_results/1000_epochs_adam_1000_samples/weights_*.pth\n"
     ]
    },
    {
     "data": {
      "application/vnd.jupyter.widget-view+json": {
       "model_id": "35169e248ee0401eb6346b72ac7c4350",
       "version_major": 2,
       "version_minor": 0
      },
      "text/plain": [
       "Epoch [193/1000]:   0%|          | 0/10 [00:00<?, ?it/s]"
      ]
     },
     "metadata": {},
     "output_type": "display_data"
    },
    {
     "name": "stdout",
     "output_type": "stream",
     "text": [
      "Epoch 193/1000 — Recon_U: 0.0289, Recon_L: 0.0258, SemiSup: 0.0138, Disc_Cat: 1.3334, Gen_Cat: 0.8911, Disc_Sty: 1.3821, Gen_Sty: 0.6671\n",
      "Validation Accuracy: 92.85%\n",
      "\n",
      "Weights saved to semisupervised_results/1000_epochs_adam_1000_samples/weights_*.pth\n"
     ]
    },
    {
     "data": {
      "application/vnd.jupyter.widget-view+json": {
       "model_id": "4b0536bd57da41f29ba367413ccf5e3b",
       "version_major": 2,
       "version_minor": 0
      },
      "text/plain": [
       "Epoch [194/1000]:   0%|          | 0/10 [00:00<?, ?it/s]"
      ]
     },
     "metadata": {},
     "output_type": "display_data"
    },
    {
     "name": "stdout",
     "output_type": "stream",
     "text": [
      "Epoch 194/1000 — Recon_U: 0.0290, Recon_L: 0.0259, SemiSup: 0.0336, Disc_Cat: 1.3199, Gen_Cat: 0.9175, Disc_Sty: 1.3818, Gen_Sty: 0.6635\n",
      "Validation Accuracy: 92.86%\n",
      "\n",
      "Weights saved to semisupervised_results/1000_epochs_adam_1000_samples/weights_*.pth\n"
     ]
    },
    {
     "data": {
      "application/vnd.jupyter.widget-view+json": {
       "model_id": "c1a7f2a6184e436e868bc9eedd5040d5",
       "version_major": 2,
       "version_minor": 0
      },
      "text/plain": [
       "Epoch [195/1000]:   0%|          | 0/10 [00:00<?, ?it/s]"
      ]
     },
     "metadata": {},
     "output_type": "display_data"
    },
    {
     "name": "stdout",
     "output_type": "stream",
     "text": [
      "Epoch 195/1000 — Recon_U: 0.0289, Recon_L: 0.0258, SemiSup: 0.0196, Disc_Cat: 1.3190, Gen_Cat: 0.9582, Disc_Sty: 1.3776, Gen_Sty: 0.6657\n",
      "Validation Accuracy: 92.92%\n",
      "\n",
      "Weights saved to semisupervised_results/1000_epochs_adam_1000_samples/weights_*.pth\n"
     ]
    },
    {
     "data": {
      "application/vnd.jupyter.widget-view+json": {
       "model_id": "4c4cfa61f5d641b189aa9db03711a9fc",
       "version_major": 2,
       "version_minor": 0
      },
      "text/plain": [
       "Epoch [196/1000]:   0%|          | 0/10 [00:00<?, ?it/s]"
      ]
     },
     "metadata": {},
     "output_type": "display_data"
    },
    {
     "name": "stdout",
     "output_type": "stream",
     "text": [
      "Epoch 196/1000 — Recon_U: 0.0295, Recon_L: 0.0259, SemiSup: 0.0151, Disc_Cat: 1.3272, Gen_Cat: 0.9048, Disc_Sty: 1.3740, Gen_Sty: 0.6697\n",
      "Validation Accuracy: 92.95%\n",
      "\n",
      "Weights saved to semisupervised_results/1000_epochs_adam_1000_samples/weights_*.pth\n"
     ]
    },
    {
     "data": {
      "application/vnd.jupyter.widget-view+json": {
       "model_id": "f190a5358da8458ca4422b7b1bbf867e",
       "version_major": 2,
       "version_minor": 0
      },
      "text/plain": [
       "Epoch [197/1000]:   0%|          | 0/10 [00:00<?, ?it/s]"
      ]
     },
     "metadata": {},
     "output_type": "display_data"
    },
    {
     "name": "stdout",
     "output_type": "stream",
     "text": [
      "Epoch 197/1000 — Recon_U: 0.0296, Recon_L: 0.0258, SemiSup: 0.0244, Disc_Cat: 1.3345, Gen_Cat: 0.8860, Disc_Sty: 1.3745, Gen_Sty: 0.6754\n",
      "Validation Accuracy: 93.02%\n",
      "\n",
      "Weights saved to semisupervised_results/1000_epochs_adam_1000_samples/weights_*.pth\n"
     ]
    },
    {
     "data": {
      "application/vnd.jupyter.widget-view+json": {
       "model_id": "fdee61fe3b274b1ab3d7ba4dc79c7e2f",
       "version_major": 2,
       "version_minor": 0
      },
      "text/plain": [
       "Epoch [198/1000]:   0%|          | 0/10 [00:00<?, ?it/s]"
      ]
     },
     "metadata": {},
     "output_type": "display_data"
    },
    {
     "name": "stdout",
     "output_type": "stream",
     "text": [
      "Epoch 198/1000 — Recon_U: 0.0292, Recon_L: 0.0258, SemiSup: 0.0183, Disc_Cat: 1.3310, Gen_Cat: 0.9022, Disc_Sty: 1.3753, Gen_Sty: 0.6786\n",
      "Validation Accuracy: 92.98%\n",
      "\n",
      "Weights saved to semisupervised_results/1000_epochs_adam_1000_samples/weights_*.pth\n"
     ]
    },
    {
     "data": {
      "application/vnd.jupyter.widget-view+json": {
       "model_id": "7ec65bfe09264224950fcf10a8bc325a",
       "version_major": 2,
       "version_minor": 0
      },
      "text/plain": [
       "Epoch [199/1000]:   0%|          | 0/10 [00:00<?, ?it/s]"
      ]
     },
     "metadata": {},
     "output_type": "display_data"
    },
    {
     "name": "stdout",
     "output_type": "stream",
     "text": [
      "Epoch 199/1000 — Recon_U: 0.0294, Recon_L: 0.0258, SemiSup: 0.0200, Disc_Cat: 1.3328, Gen_Cat: 0.8961, Disc_Sty: 1.3797, Gen_Sty: 0.6758\n",
      "Validation Accuracy: 93.05%\n",
      "\n",
      "Weights saved to semisupervised_results/1000_epochs_adam_1000_samples/weights_*.pth\n"
     ]
    },
    {
     "data": {
      "application/vnd.jupyter.widget-view+json": {
       "model_id": "83a28ae4924a428f9e51a1c9420773c6",
       "version_major": 2,
       "version_minor": 0
      },
      "text/plain": [
       "Epoch [200/1000]:   0%|          | 0/10 [00:00<?, ?it/s]"
      ]
     },
     "metadata": {},
     "output_type": "display_data"
    },
    {
     "name": "stdout",
     "output_type": "stream",
     "text": [
      "Epoch 200/1000 — Recon_U: 0.0295, Recon_L: 0.0258, SemiSup: 0.0266, Disc_Cat: 1.3424, Gen_Cat: 0.8502, Disc_Sty: 1.3747, Gen_Sty: 0.6803\n",
      "Validation Accuracy: 93.07%\n",
      "\n",
      "Weights saved to semisupervised_results/1000_epochs_adam_1000_samples/weights_epoch_200/weights_*.pth\n",
      "Weights saved to semisupervised_results/1000_epochs_adam_1000_samples/weights_*.pth\n"
     ]
    },
    {
     "data": {
      "application/vnd.jupyter.widget-view+json": {
       "model_id": "8c24022c68c44d6b893fbfcc7008d454",
       "version_major": 2,
       "version_minor": 0
      },
      "text/plain": [
       "Epoch [201/1000]:   0%|          | 0/10 [00:00<?, ?it/s]"
      ]
     },
     "metadata": {},
     "output_type": "display_data"
    },
    {
     "name": "stdout",
     "output_type": "stream",
     "text": [
      "Epoch 201/1000 — Recon_U: 0.0290, Recon_L: 0.0258, SemiSup: 0.0161, Disc_Cat: 1.3275, Gen_Cat: 0.9118, Disc_Sty: 1.3809, Gen_Sty: 0.6831\n",
      "Validation Accuracy: 93.14%\n",
      "\n",
      "Weights saved to semisupervised_results/1000_epochs_adam_1000_samples/weights_*.pth\n"
     ]
    },
    {
     "data": {
      "application/vnd.jupyter.widget-view+json": {
       "model_id": "29c90ae08fbd4a21a0fd8f2dae94e3e8",
       "version_major": 2,
       "version_minor": 0
      },
      "text/plain": [
       "Epoch [202/1000]:   0%|          | 0/10 [00:00<?, ?it/s]"
      ]
     },
     "metadata": {},
     "output_type": "display_data"
    },
    {
     "name": "stdout",
     "output_type": "stream",
     "text": [
      "Epoch 202/1000 — Recon_U: 0.0294, Recon_L: 0.0258, SemiSup: 0.0160, Disc_Cat: 1.3388, Gen_Cat: 0.8801, Disc_Sty: 1.3785, Gen_Sty: 0.6818\n",
      "Validation Accuracy: 93.10%\n",
      "\n",
      "Weights saved to semisupervised_results/1000_epochs_adam_1000_samples/weights_*.pth\n"
     ]
    },
    {
     "data": {
      "application/vnd.jupyter.widget-view+json": {
       "model_id": "988478029bf94aabab70d9cc3503e8b2",
       "version_major": 2,
       "version_minor": 0
      },
      "text/plain": [
       "Epoch [203/1000]:   0%|          | 0/10 [00:00<?, ?it/s]"
      ]
     },
     "metadata": {},
     "output_type": "display_data"
    },
    {
     "name": "stdout",
     "output_type": "stream",
     "text": [
      "Epoch 203/1000 — Recon_U: 0.0295, Recon_L: 0.0257, SemiSup: 0.0347, Disc_Cat: 1.3180, Gen_Cat: 0.9545, Disc_Sty: 1.3803, Gen_Sty: 0.6810\n",
      "Validation Accuracy: 93.00%\n",
      "\n",
      "Weights saved to semisupervised_results/1000_epochs_adam_1000_samples/weights_*.pth\n"
     ]
    },
    {
     "data": {
      "application/vnd.jupyter.widget-view+json": {
       "model_id": "e272c79f8dc54b04a6156a83c6f531d4",
       "version_major": 2,
       "version_minor": 0
      },
      "text/plain": [
       "Epoch [204/1000]:   0%|          | 0/10 [00:00<?, ?it/s]"
      ]
     },
     "metadata": {},
     "output_type": "display_data"
    },
    {
     "name": "stdout",
     "output_type": "stream",
     "text": [
      "Epoch 204/1000 — Recon_U: 0.0300, Recon_L: 0.0257, SemiSup: 0.0174, Disc_Cat: 1.3290, Gen_Cat: 0.9095, Disc_Sty: 1.3829, Gen_Sty: 0.6744\n",
      "Validation Accuracy: 92.97%\n",
      "\n",
      "Weights saved to semisupervised_results/1000_epochs_adam_1000_samples/weights_*.pth\n"
     ]
    },
    {
     "data": {
      "application/vnd.jupyter.widget-view+json": {
       "model_id": "dce54550d9994a699b9ef48724beb5fc",
       "version_major": 2,
       "version_minor": 0
      },
      "text/plain": [
       "Epoch [205/1000]:   0%|          | 0/10 [00:00<?, ?it/s]"
      ]
     },
     "metadata": {},
     "output_type": "display_data"
    },
    {
     "name": "stdout",
     "output_type": "stream",
     "text": [
      "Epoch 205/1000 — Recon_U: 0.0296, Recon_L: 0.0256, SemiSup: 0.0156, Disc_Cat: 1.3225, Gen_Cat: 0.9501, Disc_Sty: 1.3795, Gen_Sty: 0.6731\n",
      "Validation Accuracy: 92.92%\n",
      "\n",
      "Weights saved to semisupervised_results/1000_epochs_adam_1000_samples/weights_*.pth\n"
     ]
    },
    {
     "data": {
      "application/vnd.jupyter.widget-view+json": {
       "model_id": "dd43c2ffff0747e3b4a560fc348d19db",
       "version_major": 2,
       "version_minor": 0
      },
      "text/plain": [
       "Epoch [206/1000]:   0%|          | 0/10 [00:00<?, ?it/s]"
      ]
     },
     "metadata": {},
     "output_type": "display_data"
    },
    {
     "name": "stdout",
     "output_type": "stream",
     "text": [
      "Epoch 206/1000 — Recon_U: 0.0292, Recon_L: 0.0256, SemiSup: 0.0200, Disc_Cat: 1.3386, Gen_Cat: 0.8953, Disc_Sty: 1.3833, Gen_Sty: 0.6687\n",
      "Validation Accuracy: 92.93%\n",
      "\n",
      "Weights saved to semisupervised_results/1000_epochs_adam_1000_samples/weights_*.pth\n"
     ]
    },
    {
     "data": {
      "application/vnd.jupyter.widget-view+json": {
       "model_id": "57eb5167480c4330946f9656b4ecdba1",
       "version_major": 2,
       "version_minor": 0
      },
      "text/plain": [
       "Epoch [207/1000]:   0%|          | 0/10 [00:00<?, ?it/s]"
      ]
     },
     "metadata": {},
     "output_type": "display_data"
    },
    {
     "name": "stdout",
     "output_type": "stream",
     "text": [
      "Epoch 207/1000 — Recon_U: 0.0289, Recon_L: 0.0256, SemiSup: 0.0064, Disc_Cat: 1.3307, Gen_Cat: 0.8924, Disc_Sty: 1.3793, Gen_Sty: 0.6707\n",
      "Validation Accuracy: 92.98%\n",
      "\n",
      "Weights saved to semisupervised_results/1000_epochs_adam_1000_samples/weights_*.pth\n"
     ]
    },
    {
     "data": {
      "application/vnd.jupyter.widget-view+json": {
       "model_id": "0c42a80799854017a087c4ebc3ac232e",
       "version_major": 2,
       "version_minor": 0
      },
      "text/plain": [
       "Epoch [208/1000]:   0%|          | 0/10 [00:00<?, ?it/s]"
      ]
     },
     "metadata": {},
     "output_type": "display_data"
    },
    {
     "name": "stdout",
     "output_type": "stream",
     "text": [
      "Epoch 208/1000 — Recon_U: 0.0296, Recon_L: 0.0257, SemiSup: 0.0229, Disc_Cat: 1.3205, Gen_Cat: 0.9509, Disc_Sty: 1.3848, Gen_Sty: 0.6662\n",
      "Validation Accuracy: 93.00%\n",
      "\n",
      "Weights saved to semisupervised_results/1000_epochs_adam_1000_samples/weights_*.pth\n"
     ]
    },
    {
     "data": {
      "application/vnd.jupyter.widget-view+json": {
       "model_id": "43bab7916e134f9ebe6cb30f221cb7c6",
       "version_major": 2,
       "version_minor": 0
      },
      "text/plain": [
       "Epoch [209/1000]:   0%|          | 0/10 [00:00<?, ?it/s]"
      ]
     },
     "metadata": {},
     "output_type": "display_data"
    },
    {
     "name": "stdout",
     "output_type": "stream",
     "text": [
      "Epoch 209/1000 — Recon_U: 0.0291, Recon_L: 0.0255, SemiSup: 0.0250, Disc_Cat: 1.3381, Gen_Cat: 0.9251, Disc_Sty: 1.3794, Gen_Sty: 0.6683\n",
      "Validation Accuracy: 93.02%\n",
      "\n",
      "Weights saved to semisupervised_results/1000_epochs_adam_1000_samples/weights_*.pth\n"
     ]
    },
    {
     "data": {
      "application/vnd.jupyter.widget-view+json": {
       "model_id": "27b98659704046428dcf9a620d74e779",
       "version_major": 2,
       "version_minor": 0
      },
      "text/plain": [
       "Epoch [210/1000]:   0%|          | 0/10 [00:00<?, ?it/s]"
      ]
     },
     "metadata": {},
     "output_type": "display_data"
    },
    {
     "name": "stdout",
     "output_type": "stream",
     "text": [
      "Epoch 210/1000 — Recon_U: 0.0293, Recon_L: 0.0255, SemiSup: 0.0368, Disc_Cat: 1.3390, Gen_Cat: 0.8858, Disc_Sty: 1.3766, Gen_Sty: 0.6642\n",
      "Validation Accuracy: 93.05%\n",
      "\n",
      "Weights saved to semisupervised_results/1000_epochs_adam_1000_samples/weights_*.pth\n"
     ]
    },
    {
     "data": {
      "application/vnd.jupyter.widget-view+json": {
       "model_id": "9dec7904f9014094a9bb271831920a9a",
       "version_major": 2,
       "version_minor": 0
      },
      "text/plain": [
       "Epoch [211/1000]:   0%|          | 0/10 [00:00<?, ?it/s]"
      ]
     },
     "metadata": {},
     "output_type": "display_data"
    },
    {
     "name": "stdout",
     "output_type": "stream",
     "text": [
      "Epoch 211/1000 — Recon_U: 0.0294, Recon_L: 0.0255, SemiSup: 0.0296, Disc_Cat: 1.3286, Gen_Cat: 0.9326, Disc_Sty: 1.3779, Gen_Sty: 0.6661\n",
      "Validation Accuracy: 93.08%\n",
      "\n",
      "Weights saved to semisupervised_results/1000_epochs_adam_1000_samples/weights_*.pth\n"
     ]
    },
    {
     "data": {
      "application/vnd.jupyter.widget-view+json": {
       "model_id": "f6acfe2778a240ed8d41f5c1b011f761",
       "version_major": 2,
       "version_minor": 0
      },
      "text/plain": [
       "Epoch [212/1000]:   0%|          | 0/10 [00:00<?, ?it/s]"
      ]
     },
     "metadata": {},
     "output_type": "display_data"
    },
    {
     "name": "stdout",
     "output_type": "stream",
     "text": [
      "Epoch 212/1000 — Recon_U: 0.0294, Recon_L: 0.0255, SemiSup: 0.0088, Disc_Cat: 1.3362, Gen_Cat: 0.8692, Disc_Sty: 1.3700, Gen_Sty: 0.6684\n",
      "Validation Accuracy: 93.08%\n",
      "\n",
      "Weights saved to semisupervised_results/1000_epochs_adam_1000_samples/weights_*.pth\n"
     ]
    },
    {
     "data": {
      "application/vnd.jupyter.widget-view+json": {
       "model_id": "ecf0d8dc936c4eeb978619242881381e",
       "version_major": 2,
       "version_minor": 0
      },
      "text/plain": [
       "Epoch [213/1000]:   0%|          | 0/10 [00:00<?, ?it/s]"
      ]
     },
     "metadata": {},
     "output_type": "display_data"
    },
    {
     "name": "stdout",
     "output_type": "stream",
     "text": [
      "Epoch 213/1000 — Recon_U: 0.0293, Recon_L: 0.0256, SemiSup: 0.0113, Disc_Cat: 1.3299, Gen_Cat: 0.9359, Disc_Sty: 1.3717, Gen_Sty: 0.6699\n",
      "Validation Accuracy: 93.14%\n",
      "\n",
      "Weights saved to semisupervised_results/1000_epochs_adam_1000_samples/weights_*.pth\n"
     ]
    },
    {
     "data": {
      "application/vnd.jupyter.widget-view+json": {
       "model_id": "5fe0102cc9a44890a2090565ecfc214a",
       "version_major": 2,
       "version_minor": 0
      },
      "text/plain": [
       "Epoch [214/1000]:   0%|          | 0/10 [00:00<?, ?it/s]"
      ]
     },
     "metadata": {},
     "output_type": "display_data"
    },
    {
     "name": "stdout",
     "output_type": "stream",
     "text": [
      "Epoch 214/1000 — Recon_U: 0.0298, Recon_L: 0.0255, SemiSup: 0.0222, Disc_Cat: 1.3052, Gen_Cat: 1.0203, Disc_Sty: 1.3761, Gen_Sty: 0.6656\n",
      "Validation Accuracy: 93.10%\n",
      "\n",
      "Weights saved to semisupervised_results/1000_epochs_adam_1000_samples/weights_*.pth\n"
     ]
    },
    {
     "data": {
      "application/vnd.jupyter.widget-view+json": {
       "model_id": "e2a2819ac4c84ce4bf77f0825492a87b",
       "version_major": 2,
       "version_minor": 0
      },
      "text/plain": [
       "Epoch [215/1000]:   0%|          | 0/10 [00:00<?, ?it/s]"
      ]
     },
     "metadata": {},
     "output_type": "display_data"
    },
    {
     "name": "stdout",
     "output_type": "stream",
     "text": [
      "Epoch 215/1000 — Recon_U: 0.0286, Recon_L: 0.0254, SemiSup: 0.0220, Disc_Cat: 1.3405, Gen_Cat: 0.8728, Disc_Sty: 1.3724, Gen_Sty: 0.6698\n",
      "Validation Accuracy: 93.10%\n",
      "\n",
      "Weights saved to semisupervised_results/1000_epochs_adam_1000_samples/weights_*.pth\n"
     ]
    },
    {
     "data": {
      "application/vnd.jupyter.widget-view+json": {
       "model_id": "b2ece961a116425f9390026115441e05",
       "version_major": 2,
       "version_minor": 0
      },
      "text/plain": [
       "Epoch [216/1000]:   0%|          | 0/10 [00:00<?, ?it/s]"
      ]
     },
     "metadata": {},
     "output_type": "display_data"
    },
    {
     "name": "stdout",
     "output_type": "stream",
     "text": [
      "Epoch 216/1000 — Recon_U: 0.0298, Recon_L: 0.0253, SemiSup: 0.0158, Disc_Cat: 1.3194, Gen_Cat: 0.9738, Disc_Sty: 1.3775, Gen_Sty: 0.6693\n",
      "Validation Accuracy: 93.20%\n",
      "\n",
      "Weights saved to semisupervised_results/1000_epochs_adam_1000_samples/weights_*.pth\n"
     ]
    },
    {
     "data": {
      "application/vnd.jupyter.widget-view+json": {
       "model_id": "15dced80166e46a4b76edfee9aa525e4",
       "version_major": 2,
       "version_minor": 0
      },
      "text/plain": [
       "Epoch [217/1000]:   0%|          | 0/10 [00:00<?, ?it/s]"
      ]
     },
     "metadata": {},
     "output_type": "display_data"
    },
    {
     "name": "stdout",
     "output_type": "stream",
     "text": [
      "Epoch 217/1000 — Recon_U: 0.0285, Recon_L: 0.0253, SemiSup: 0.0242, Disc_Cat: 1.3304, Gen_Cat: 0.9248, Disc_Sty: 1.3732, Gen_Sty: 0.6739\n",
      "Validation Accuracy: 93.20%\n",
      "\n",
      "Weights saved to semisupervised_results/1000_epochs_adam_1000_samples/weights_*.pth\n"
     ]
    },
    {
     "data": {
      "application/vnd.jupyter.widget-view+json": {
       "model_id": "2dfa0e45bc1948d99190b059af94278a",
       "version_major": 2,
       "version_minor": 0
      },
      "text/plain": [
       "Epoch [218/1000]:   0%|          | 0/10 [00:00<?, ?it/s]"
      ]
     },
     "metadata": {},
     "output_type": "display_data"
    },
    {
     "name": "stdout",
     "output_type": "stream",
     "text": [
      "Epoch 218/1000 — Recon_U: 0.0289, Recon_L: 0.0253, SemiSup: 0.0286, Disc_Cat: 1.3289, Gen_Cat: 0.9058, Disc_Sty: 1.3794, Gen_Sty: 0.6758\n",
      "Validation Accuracy: 93.15%\n",
      "\n",
      "Weights saved to semisupervised_results/1000_epochs_adam_1000_samples/weights_*.pth\n"
     ]
    },
    {
     "data": {
      "application/vnd.jupyter.widget-view+json": {
       "model_id": "decc1b1759f340deb9b463bdf5ce8ddb",
       "version_major": 2,
       "version_minor": 0
      },
      "text/plain": [
       "Epoch [219/1000]:   0%|          | 0/10 [00:00<?, ?it/s]"
      ]
     },
     "metadata": {},
     "output_type": "display_data"
    },
    {
     "name": "stdout",
     "output_type": "stream",
     "text": [
      "Epoch 219/1000 — Recon_U: 0.0291, Recon_L: 0.0253, SemiSup: 0.0224, Disc_Cat: 1.3277, Gen_Cat: 0.9076, Disc_Sty: 1.3760, Gen_Sty: 0.6759\n",
      "Validation Accuracy: 93.15%\n",
      "\n",
      "Weights saved to semisupervised_results/1000_epochs_adam_1000_samples/weights_*.pth\n"
     ]
    },
    {
     "data": {
      "application/vnd.jupyter.widget-view+json": {
       "model_id": "40ab9abbfed74a7f93985e6bbcf85697",
       "version_major": 2,
       "version_minor": 0
      },
      "text/plain": [
       "Epoch [220/1000]:   0%|          | 0/10 [00:00<?, ?it/s]"
      ]
     },
     "metadata": {},
     "output_type": "display_data"
    },
    {
     "name": "stdout",
     "output_type": "stream",
     "text": [
      "Epoch 220/1000 — Recon_U: 0.0288, Recon_L: 0.0254, SemiSup: 0.0181, Disc_Cat: 1.3225, Gen_Cat: 0.9443, Disc_Sty: 1.3728, Gen_Sty: 0.6834\n",
      "Validation Accuracy: 93.10%\n",
      "\n",
      "Weights saved to semisupervised_results/1000_epochs_adam_1000_samples/weights_*.pth\n"
     ]
    },
    {
     "data": {
      "application/vnd.jupyter.widget-view+json": {
       "model_id": "6eebc099e5e04de394fbac0fd575f905",
       "version_major": 2,
       "version_minor": 0
      },
      "text/plain": [
       "Epoch [221/1000]:   0%|          | 0/10 [00:00<?, ?it/s]"
      ]
     },
     "metadata": {},
     "output_type": "display_data"
    },
    {
     "name": "stdout",
     "output_type": "stream",
     "text": [
      "Epoch 221/1000 — Recon_U: 0.0283, Recon_L: 0.0253, SemiSup: 0.0096, Disc_Cat: 1.3386, Gen_Cat: 0.8770, Disc_Sty: 1.3685, Gen_Sty: 0.6903\n",
      "Validation Accuracy: 93.05%\n",
      "\n",
      "Weights saved to semisupervised_results/1000_epochs_adam_1000_samples/weights_*.pth\n"
     ]
    },
    {
     "data": {
      "application/vnd.jupyter.widget-view+json": {
       "model_id": "87d7aacf6d0945c1ba22f4df3e759ef8",
       "version_major": 2,
       "version_minor": 0
      },
      "text/plain": [
       "Epoch [222/1000]:   0%|          | 0/10 [00:00<?, ?it/s]"
      ]
     },
     "metadata": {},
     "output_type": "display_data"
    },
    {
     "name": "stdout",
     "output_type": "stream",
     "text": [
      "Epoch 222/1000 — Recon_U: 0.0292, Recon_L: 0.0253, SemiSup: 0.0207, Disc_Cat: 1.3285, Gen_Cat: 0.9054, Disc_Sty: 1.3724, Gen_Sty: 0.6922\n",
      "Validation Accuracy: 93.05%\n",
      "\n",
      "Weights saved to semisupervised_results/1000_epochs_adam_1000_samples/weights_*.pth\n"
     ]
    },
    {
     "data": {
      "application/vnd.jupyter.widget-view+json": {
       "model_id": "06cf91432c1447fe87eb2fde51d199d5",
       "version_major": 2,
       "version_minor": 0
      },
      "text/plain": [
       "Epoch [223/1000]:   0%|          | 0/10 [00:00<?, ?it/s]"
      ]
     },
     "metadata": {},
     "output_type": "display_data"
    },
    {
     "name": "stdout",
     "output_type": "stream",
     "text": [
      "Epoch 223/1000 — Recon_U: 0.0283, Recon_L: 0.0251, SemiSup: 0.0156, Disc_Cat: 1.3345, Gen_Cat: 0.9096, Disc_Sty: 1.3692, Gen_Sty: 0.6969\n",
      "Validation Accuracy: 93.00%\n",
      "\n",
      "Weights saved to semisupervised_results/1000_epochs_adam_1000_samples/weights_*.pth\n"
     ]
    },
    {
     "data": {
      "application/vnd.jupyter.widget-view+json": {
       "model_id": "345c680b2bea44cdb1356dc9ba1df5bf",
       "version_major": 2,
       "version_minor": 0
      },
      "text/plain": [
       "Epoch [224/1000]:   0%|          | 0/10 [00:00<?, ?it/s]"
      ]
     },
     "metadata": {},
     "output_type": "display_data"
    },
    {
     "name": "stdout",
     "output_type": "stream",
     "text": [
      "Epoch 224/1000 — Recon_U: 0.0297, Recon_L: 0.0252, SemiSup: 0.0211, Disc_Cat: 1.3323, Gen_Cat: 0.9252, Disc_Sty: 1.3817, Gen_Sty: 0.6853\n",
      "Validation Accuracy: 92.92%\n",
      "\n",
      "Weights saved to semisupervised_results/1000_epochs_adam_1000_samples/weights_*.pth\n"
     ]
    },
    {
     "data": {
      "application/vnd.jupyter.widget-view+json": {
       "model_id": "9e99227d726c40b7b6a75852c86bb46d",
       "version_major": 2,
       "version_minor": 0
      },
      "text/plain": [
       "Epoch [225/1000]:   0%|          | 0/10 [00:00<?, ?it/s]"
      ]
     },
     "metadata": {},
     "output_type": "display_data"
    },
    {
     "name": "stdout",
     "output_type": "stream",
     "text": [
      "Epoch 225/1000 — Recon_U: 0.0293, Recon_L: 0.0252, SemiSup: 0.0280, Disc_Cat: 1.3237, Gen_Cat: 0.9401, Disc_Sty: 1.3816, Gen_Sty: 0.6786\n",
      "Validation Accuracy: 92.90%\n",
      "\n",
      "Weights saved to semisupervised_results/1000_epochs_adam_1000_samples/weights_*.pth\n"
     ]
    },
    {
     "data": {
      "application/vnd.jupyter.widget-view+json": {
       "model_id": "36e3841a748b4c5d9a2615295f1a9b62",
       "version_major": 2,
       "version_minor": 0
      },
      "text/plain": [
       "Epoch [226/1000]:   0%|          | 0/10 [00:00<?, ?it/s]"
      ]
     },
     "metadata": {},
     "output_type": "display_data"
    },
    {
     "name": "stdout",
     "output_type": "stream",
     "text": [
      "Epoch 226/1000 — Recon_U: 0.0287, Recon_L: 0.0252, SemiSup: 0.0401, Disc_Cat: 1.3454, Gen_Cat: 0.8846, Disc_Sty: 1.3715, Gen_Sty: 0.6826\n",
      "Validation Accuracy: 92.90%\n",
      "\n",
      "Weights saved to semisupervised_results/1000_epochs_adam_1000_samples/weights_*.pth\n"
     ]
    },
    {
     "data": {
      "application/vnd.jupyter.widget-view+json": {
       "model_id": "315a15c42c954565ad4d56c7fe757157",
       "version_major": 2,
       "version_minor": 0
      },
      "text/plain": [
       "Epoch [227/1000]:   0%|          | 0/10 [00:00<?, ?it/s]"
      ]
     },
     "metadata": {},
     "output_type": "display_data"
    },
    {
     "name": "stdout",
     "output_type": "stream",
     "text": [
      "Epoch 227/1000 — Recon_U: 0.0286, Recon_L: 0.0251, SemiSup: 0.0118, Disc_Cat: 1.3379, Gen_Cat: 0.8814, Disc_Sty: 1.3725, Gen_Sty: 0.6809\n",
      "Validation Accuracy: 93.00%\n",
      "\n",
      "Weights saved to semisupervised_results/1000_epochs_adam_1000_samples/weights_*.pth\n"
     ]
    },
    {
     "data": {
      "application/vnd.jupyter.widget-view+json": {
       "model_id": "91c6429df3104c34817644b22b48a293",
       "version_major": 2,
       "version_minor": 0
      },
      "text/plain": [
       "Epoch [228/1000]:   0%|          | 0/10 [00:00<?, ?it/s]"
      ]
     },
     "metadata": {},
     "output_type": "display_data"
    },
    {
     "name": "stdout",
     "output_type": "stream",
     "text": [
      "Epoch 228/1000 — Recon_U: 0.0291, Recon_L: 0.0251, SemiSup: 0.0274, Disc_Cat: 1.3385, Gen_Cat: 0.9246, Disc_Sty: 1.3760, Gen_Sty: 0.6776\n",
      "Validation Accuracy: 93.07%\n",
      "\n",
      "Weights saved to semisupervised_results/1000_epochs_adam_1000_samples/weights_*.pth\n"
     ]
    },
    {
     "data": {
      "application/vnd.jupyter.widget-view+json": {
       "model_id": "66c4f8d357304847a9875f6ef9207430",
       "version_major": 2,
       "version_minor": 0
      },
      "text/plain": [
       "Epoch [229/1000]:   0%|          | 0/10 [00:00<?, ?it/s]"
      ]
     },
     "metadata": {},
     "output_type": "display_data"
    },
    {
     "name": "stdout",
     "output_type": "stream",
     "text": [
      "Epoch 229/1000 — Recon_U: 0.0294, Recon_L: 0.0250, SemiSup: 0.0555, Disc_Cat: 1.3319, Gen_Cat: 0.9059, Disc_Sty: 1.3719, Gen_Sty: 0.6777\n",
      "Validation Accuracy: 93.05%\n",
      "\n",
      "Weights saved to semisupervised_results/1000_epochs_adam_1000_samples/weights_*.pth\n"
     ]
    },
    {
     "data": {
      "application/vnd.jupyter.widget-view+json": {
       "model_id": "8af72880ed6d4cd5bc7160cffbd534f2",
       "version_major": 2,
       "version_minor": 0
      },
      "text/plain": [
       "Epoch [230/1000]:   0%|          | 0/10 [00:00<?, ?it/s]"
      ]
     },
     "metadata": {},
     "output_type": "display_data"
    },
    {
     "name": "stdout",
     "output_type": "stream",
     "text": [
      "Epoch 230/1000 — Recon_U: 0.0286, Recon_L: 0.0250, SemiSup: 0.0190, Disc_Cat: 1.3278, Gen_Cat: 0.9370, Disc_Sty: 1.3708, Gen_Sty: 0.6781\n",
      "Validation Accuracy: 93.12%\n",
      "\n",
      "Weights saved to semisupervised_results/1000_epochs_adam_1000_samples/weights_*.pth\n"
     ]
    },
    {
     "data": {
      "application/vnd.jupyter.widget-view+json": {
       "model_id": "2086dade0b464f9db460f9b5f664314e",
       "version_major": 2,
       "version_minor": 0
      },
      "text/plain": [
       "Epoch [231/1000]:   0%|          | 0/10 [00:00<?, ?it/s]"
      ]
     },
     "metadata": {},
     "output_type": "display_data"
    },
    {
     "name": "stdout",
     "output_type": "stream",
     "text": [
      "Epoch 231/1000 — Recon_U: 0.0284, Recon_L: 0.0249, SemiSup: 0.0245, Disc_Cat: 1.3261, Gen_Cat: 0.9323, Disc_Sty: 1.3683, Gen_Sty: 0.6780\n",
      "Validation Accuracy: 93.17%\n",
      "\n",
      "Weights saved to semisupervised_results/1000_epochs_adam_1000_samples/weights_*.pth\n"
     ]
    },
    {
     "data": {
      "application/vnd.jupyter.widget-view+json": {
       "model_id": "35a44009cde24f01b5e9258850797c18",
       "version_major": 2,
       "version_minor": 0
      },
      "text/plain": [
       "Epoch [232/1000]:   0%|          | 0/10 [00:00<?, ?it/s]"
      ]
     },
     "metadata": {},
     "output_type": "display_data"
    },
    {
     "name": "stdout",
     "output_type": "stream",
     "text": [
      "Epoch 232/1000 — Recon_U: 0.0294, Recon_L: 0.0250, SemiSup: 0.0363, Disc_Cat: 1.3327, Gen_Cat: 0.9257, Disc_Sty: 1.3697, Gen_Sty: 0.6765\n",
      "Validation Accuracy: 93.10%\n",
      "\n",
      "Weights saved to semisupervised_results/1000_epochs_adam_1000_samples/weights_*.pth\n"
     ]
    },
    {
     "data": {
      "application/vnd.jupyter.widget-view+json": {
       "model_id": "e6dd463f3c114716b4edc3c2a0c2ace1",
       "version_major": 2,
       "version_minor": 0
      },
      "text/plain": [
       "Epoch [233/1000]:   0%|          | 0/10 [00:00<?, ?it/s]"
      ]
     },
     "metadata": {},
     "output_type": "display_data"
    },
    {
     "name": "stdout",
     "output_type": "stream",
     "text": [
      "Epoch 233/1000 — Recon_U: 0.0282, Recon_L: 0.0249, SemiSup: 0.0198, Disc_Cat: 1.3377, Gen_Cat: 0.8974, Disc_Sty: 1.3747, Gen_Sty: 0.6747\n",
      "Validation Accuracy: 93.10%\n",
      "\n",
      "Weights saved to semisupervised_results/1000_epochs_adam_1000_samples/weights_*.pth\n"
     ]
    },
    {
     "data": {
      "application/vnd.jupyter.widget-view+json": {
       "model_id": "7f9eed4bf5834f959d758bc8330ab52f",
       "version_major": 2,
       "version_minor": 0
      },
      "text/plain": [
       "Epoch [234/1000]:   0%|          | 0/10 [00:00<?, ?it/s]"
      ]
     },
     "metadata": {},
     "output_type": "display_data"
    },
    {
     "name": "stdout",
     "output_type": "stream",
     "text": [
      "Epoch 234/1000 — Recon_U: 0.0295, Recon_L: 0.0250, SemiSup: 0.0173, Disc_Cat: 1.3198, Gen_Cat: 0.9909, Disc_Sty: 1.3749, Gen_Sty: 0.6736\n",
      "Validation Accuracy: 93.15%\n",
      "\n",
      "Weights saved to semisupervised_results/1000_epochs_adam_1000_samples/weights_*.pth\n"
     ]
    },
    {
     "data": {
      "application/vnd.jupyter.widget-view+json": {
       "model_id": "a5ea0a787a9442a080f48c3f52256efd",
       "version_major": 2,
       "version_minor": 0
      },
      "text/plain": [
       "Epoch [235/1000]:   0%|          | 0/10 [00:00<?, ?it/s]"
      ]
     },
     "metadata": {},
     "output_type": "display_data"
    },
    {
     "name": "stdout",
     "output_type": "stream",
     "text": [
      "Epoch 235/1000 — Recon_U: 0.0283, Recon_L: 0.0249, SemiSup: 0.0317, Disc_Cat: 1.3410, Gen_Cat: 0.9410, Disc_Sty: 1.3787, Gen_Sty: 0.6773\n",
      "Validation Accuracy: 93.15%\n",
      "\n",
      "Weights saved to semisupervised_results/1000_epochs_adam_1000_samples/weights_*.pth\n"
     ]
    },
    {
     "data": {
      "application/vnd.jupyter.widget-view+json": {
       "model_id": "22be7702ca0e452da65311fc792e1fc6",
       "version_major": 2,
       "version_minor": 0
      },
      "text/plain": [
       "Epoch [236/1000]:   0%|          | 0/10 [00:00<?, ?it/s]"
      ]
     },
     "metadata": {},
     "output_type": "display_data"
    },
    {
     "name": "stdout",
     "output_type": "stream",
     "text": [
      "Epoch 236/1000 — Recon_U: 0.0286, Recon_L: 0.0251, SemiSup: 0.0175, Disc_Cat: 1.3381, Gen_Cat: 0.8843, Disc_Sty: 1.3821, Gen_Sty: 0.6748\n",
      "Validation Accuracy: 93.17%\n",
      "\n",
      "Weights saved to semisupervised_results/1000_epochs_adam_1000_samples/weights_*.pth\n"
     ]
    },
    {
     "data": {
      "application/vnd.jupyter.widget-view+json": {
       "model_id": "bec83b174c7047d580c40fb05c89df3c",
       "version_major": 2,
       "version_minor": 0
      },
      "text/plain": [
       "Epoch [237/1000]:   0%|          | 0/10 [00:00<?, ?it/s]"
      ]
     },
     "metadata": {},
     "output_type": "display_data"
    },
    {
     "name": "stdout",
     "output_type": "stream",
     "text": [
      "Epoch 237/1000 — Recon_U: 0.0300, Recon_L: 0.0251, SemiSup: 0.0266, Disc_Cat: 1.3192, Gen_Cat: 0.9341, Disc_Sty: 1.3747, Gen_Sty: 0.6848\n",
      "Validation Accuracy: 93.20%\n",
      "\n",
      "Weights saved to semisupervised_results/1000_epochs_adam_1000_samples/weights_*.pth\n"
     ]
    },
    {
     "data": {
      "application/vnd.jupyter.widget-view+json": {
       "model_id": "f7edb5457c7a49f4af1ae3f36e131ade",
       "version_major": 2,
       "version_minor": 0
      },
      "text/plain": [
       "Epoch [238/1000]:   0%|          | 0/10 [00:00<?, ?it/s]"
      ]
     },
     "metadata": {},
     "output_type": "display_data"
    },
    {
     "name": "stdout",
     "output_type": "stream",
     "text": [
      "Epoch 238/1000 — Recon_U: 0.0287, Recon_L: 0.0250, SemiSup: 0.0140, Disc_Cat: 1.3278, Gen_Cat: 0.9369, Disc_Sty: 1.3694, Gen_Sty: 0.6877\n",
      "Validation Accuracy: 93.15%\n",
      "\n",
      "Weights saved to semisupervised_results/1000_epochs_adam_1000_samples/weights_*.pth\n"
     ]
    },
    {
     "data": {
      "application/vnd.jupyter.widget-view+json": {
       "model_id": "222b6e731b864ab891b34e5f7af2bbee",
       "version_major": 2,
       "version_minor": 0
      },
      "text/plain": [
       "Epoch [239/1000]:   0%|          | 0/10 [00:00<?, ?it/s]"
      ]
     },
     "metadata": {},
     "output_type": "display_data"
    },
    {
     "name": "stdout",
     "output_type": "stream",
     "text": [
      "Epoch 239/1000 — Recon_U: 0.0285, Recon_L: 0.0249, SemiSup: 0.0203, Disc_Cat: 1.3321, Gen_Cat: 0.9363, Disc_Sty: 1.3648, Gen_Sty: 0.6979\n",
      "Validation Accuracy: 93.19%\n",
      "\n",
      "Weights saved to semisupervised_results/1000_epochs_adam_1000_samples/weights_*.pth\n"
     ]
    },
    {
     "data": {
      "application/vnd.jupyter.widget-view+json": {
       "model_id": "44d041603a324d95b1f96278d9fcba19",
       "version_major": 2,
       "version_minor": 0
      },
      "text/plain": [
       "Epoch [240/1000]:   0%|          | 0/10 [00:00<?, ?it/s]"
      ]
     },
     "metadata": {},
     "output_type": "display_data"
    },
    {
     "name": "stdout",
     "output_type": "stream",
     "text": [
      "Epoch 240/1000 — Recon_U: 0.0289, Recon_L: 0.0249, SemiSup: 0.0247, Disc_Cat: 1.3242, Gen_Cat: 0.9309, Disc_Sty: 1.3725, Gen_Sty: 0.6920\n",
      "Validation Accuracy: 93.05%\n",
      "\n",
      "Weights saved to semisupervised_results/1000_epochs_adam_1000_samples/weights_*.pth\n"
     ]
    },
    {
     "data": {
      "application/vnd.jupyter.widget-view+json": {
       "model_id": "2ec691fbd7ed4991b07777bab93184b8",
       "version_major": 2,
       "version_minor": 0
      },
      "text/plain": [
       "Epoch [241/1000]:   0%|          | 0/10 [00:00<?, ?it/s]"
      ]
     },
     "metadata": {},
     "output_type": "display_data"
    },
    {
     "name": "stdout",
     "output_type": "stream",
     "text": [
      "Epoch 241/1000 — Recon_U: 0.0279, Recon_L: 0.0248, SemiSup: 0.0136, Disc_Cat: 1.3243, Gen_Cat: 0.9481, Disc_Sty: 1.3734, Gen_Sty: 0.6862\n",
      "Validation Accuracy: 93.05%\n",
      "\n",
      "Weights saved to semisupervised_results/1000_epochs_adam_1000_samples/weights_*.pth\n"
     ]
    },
    {
     "data": {
      "application/vnd.jupyter.widget-view+json": {
       "model_id": "82303949db5c47eabc0ff91b0fc8df91",
       "version_major": 2,
       "version_minor": 0
      },
      "text/plain": [
       "Epoch [242/1000]:   0%|          | 0/10 [00:00<?, ?it/s]"
      ]
     },
     "metadata": {},
     "output_type": "display_data"
    },
    {
     "name": "stdout",
     "output_type": "stream",
     "text": [
      "Epoch 242/1000 — Recon_U: 0.0279, Recon_L: 0.0248, SemiSup: 0.0120, Disc_Cat: 1.3308, Gen_Cat: 0.9056, Disc_Sty: 1.3742, Gen_Sty: 0.6864\n",
      "Validation Accuracy: 93.10%\n",
      "\n",
      "Weights saved to semisupervised_results/1000_epochs_adam_1000_samples/weights_*.pth\n"
     ]
    },
    {
     "data": {
      "application/vnd.jupyter.widget-view+json": {
       "model_id": "85ab96e4aa3e45578e6190831710bee0",
       "version_major": 2,
       "version_minor": 0
      },
      "text/plain": [
       "Epoch [243/1000]:   0%|          | 0/10 [00:00<?, ?it/s]"
      ]
     },
     "metadata": {},
     "output_type": "display_data"
    },
    {
     "name": "stdout",
     "output_type": "stream",
     "text": [
      "Epoch 243/1000 — Recon_U: 0.0287, Recon_L: 0.0248, SemiSup: 0.0461, Disc_Cat: 1.3351, Gen_Cat: 0.9266, Disc_Sty: 1.3720, Gen_Sty: 0.6815\n",
      "Validation Accuracy: 93.17%\n",
      "\n",
      "Weights saved to semisupervised_results/1000_epochs_adam_1000_samples/weights_*.pth\n"
     ]
    },
    {
     "data": {
      "application/vnd.jupyter.widget-view+json": {
       "model_id": "a1ef3e001a30424387be7ad83d39703d",
       "version_major": 2,
       "version_minor": 0
      },
      "text/plain": [
       "Epoch [244/1000]:   0%|          | 0/10 [00:00<?, ?it/s]"
      ]
     },
     "metadata": {},
     "output_type": "display_data"
    },
    {
     "name": "stdout",
     "output_type": "stream",
     "text": [
      "Epoch 244/1000 — Recon_U: 0.0288, Recon_L: 0.0247, SemiSup: 0.0268, Disc_Cat: 1.3241, Gen_Cat: 0.9109, Disc_Sty: 1.3708, Gen_Sty: 0.6783\n",
      "Validation Accuracy: 93.17%\n",
      "\n",
      "Weights saved to semisupervised_results/1000_epochs_adam_1000_samples/weights_*.pth\n"
     ]
    },
    {
     "data": {
      "application/vnd.jupyter.widget-view+json": {
       "model_id": "796199cd0f4b4f158d0d9a0be4596a30",
       "version_major": 2,
       "version_minor": 0
      },
      "text/plain": [
       "Epoch [245/1000]:   0%|          | 0/10 [00:00<?, ?it/s]"
      ]
     },
     "metadata": {},
     "output_type": "display_data"
    },
    {
     "name": "stdout",
     "output_type": "stream",
     "text": [
      "Epoch 245/1000 — Recon_U: 0.0293, Recon_L: 0.0247, SemiSup: 0.0241, Disc_Cat: 1.3329, Gen_Cat: 0.9327, Disc_Sty: 1.3708, Gen_Sty: 0.6748\n",
      "Validation Accuracy: 93.20%\n",
      "\n",
      "Weights saved to semisupervised_results/1000_epochs_adam_1000_samples/weights_*.pth\n"
     ]
    },
    {
     "data": {
      "application/vnd.jupyter.widget-view+json": {
       "model_id": "c606d78e8ef54e28a588c8e70b0daf28",
       "version_major": 2,
       "version_minor": 0
      },
      "text/plain": [
       "Epoch [246/1000]:   0%|          | 0/10 [00:00<?, ?it/s]"
      ]
     },
     "metadata": {},
     "output_type": "display_data"
    },
    {
     "name": "stdout",
     "output_type": "stream",
     "text": [
      "Epoch 246/1000 — Recon_U: 0.0279, Recon_L: 0.0248, SemiSup: 0.0177, Disc_Cat: 1.3343, Gen_Cat: 0.8837, Disc_Sty: 1.3693, Gen_Sty: 0.6784\n",
      "Validation Accuracy: 93.19%\n",
      "\n",
      "Weights saved to semisupervised_results/1000_epochs_adam_1000_samples/weights_*.pth\n"
     ]
    },
    {
     "data": {
      "application/vnd.jupyter.widget-view+json": {
       "model_id": "b8b3e70645b3446e98552b7d081048ef",
       "version_major": 2,
       "version_minor": 0
      },
      "text/plain": [
       "Epoch [247/1000]:   0%|          | 0/10 [00:00<?, ?it/s]"
      ]
     },
     "metadata": {},
     "output_type": "display_data"
    },
    {
     "name": "stdout",
     "output_type": "stream",
     "text": [
      "Epoch 247/1000 — Recon_U: 0.0283, Recon_L: 0.0247, SemiSup: 0.0086, Disc_Cat: 1.3246, Gen_Cat: 0.9275, Disc_Sty: 1.3674, Gen_Sty: 0.6763\n",
      "Validation Accuracy: 93.24%\n",
      "\n",
      "Weights saved to semisupervised_results/1000_epochs_adam_1000_samples/weights_*.pth\n"
     ]
    },
    {
     "data": {
      "application/vnd.jupyter.widget-view+json": {
       "model_id": "c20e510986af4b12bd11a05ed3184ffb",
       "version_major": 2,
       "version_minor": 0
      },
      "text/plain": [
       "Epoch [248/1000]:   0%|          | 0/10 [00:00<?, ?it/s]"
      ]
     },
     "metadata": {},
     "output_type": "display_data"
    },
    {
     "name": "stdout",
     "output_type": "stream",
     "text": [
      "Epoch 248/1000 — Recon_U: 0.0279, Recon_L: 0.0247, SemiSup: 0.0300, Disc_Cat: 1.3365, Gen_Cat: 0.8885, Disc_Sty: 1.3660, Gen_Sty: 0.6781\n",
      "Validation Accuracy: 93.20%\n",
      "\n",
      "Weights saved to semisupervised_results/1000_epochs_adam_1000_samples/weights_*.pth\n"
     ]
    },
    {
     "data": {
      "application/vnd.jupyter.widget-view+json": {
       "model_id": "daf854d8d1e9463f89a039afbaf9c592",
       "version_major": 2,
       "version_minor": 0
      },
      "text/plain": [
       "Epoch [249/1000]:   0%|          | 0/10 [00:00<?, ?it/s]"
      ]
     },
     "metadata": {},
     "output_type": "display_data"
    },
    {
     "name": "stdout",
     "output_type": "stream",
     "text": [
      "Epoch 249/1000 — Recon_U: 0.0288, Recon_L: 0.0245, SemiSup: 0.0149, Disc_Cat: 1.3277, Gen_Cat: 0.9213, Disc_Sty: 1.3677, Gen_Sty: 0.6726\n",
      "Validation Accuracy: 93.22%\n",
      "\n",
      "Weights saved to semisupervised_results/1000_epochs_adam_1000_samples/weights_*.pth\n"
     ]
    },
    {
     "data": {
      "application/vnd.jupyter.widget-view+json": {
       "model_id": "9a925c0f48b3463bbf08be7331c16a50",
       "version_major": 2,
       "version_minor": 0
      },
      "text/plain": [
       "Epoch [250/1000]:   0%|          | 0/10 [00:00<?, ?it/s]"
      ]
     },
     "metadata": {},
     "output_type": "display_data"
    },
    {
     "name": "stdout",
     "output_type": "stream",
     "text": [
      "Epoch 250/1000 — Recon_U: 0.0286, Recon_L: 0.0246, SemiSup: 0.0246, Disc_Cat: 1.3300, Gen_Cat: 0.9281, Disc_Sty: 1.3665, Gen_Sty: 0.6809\n",
      "Validation Accuracy: 93.24%\n",
      "\n",
      "Weights saved to semisupervised_results/1000_epochs_adam_1000_samples/weights_epoch_250/weights_*.pth\n",
      "Weights saved to semisupervised_results/1000_epochs_adam_1000_samples/weights_*.pth\n"
     ]
    },
    {
     "data": {
      "application/vnd.jupyter.widget-view+json": {
       "model_id": "efde17a228534465a460f7aa49e350f6",
       "version_major": 2,
       "version_minor": 0
      },
      "text/plain": [
       "Epoch [251/1000]:   0%|          | 0/10 [00:00<?, ?it/s]"
      ]
     },
     "metadata": {},
     "output_type": "display_data"
    },
    {
     "name": "stdout",
     "output_type": "stream",
     "text": [
      "Epoch 251/1000 — Recon_U: 0.0286, Recon_L: 0.0246, SemiSup: 0.0221, Disc_Cat: 1.3276, Gen_Cat: 0.9670, Disc_Sty: 1.3739, Gen_Sty: 0.6775\n",
      "Validation Accuracy: 93.31%\n",
      "\n",
      "Weights saved to semisupervised_results/1000_epochs_adam_1000_samples/weights_*.pth\n"
     ]
    },
    {
     "data": {
      "application/vnd.jupyter.widget-view+json": {
       "model_id": "5414fa74e9c14eef9c8430f3c84e60a0",
       "version_major": 2,
       "version_minor": 0
      },
      "text/plain": [
       "Epoch [252/1000]:   0%|          | 0/10 [00:00<?, ?it/s]"
      ]
     },
     "metadata": {},
     "output_type": "display_data"
    },
    {
     "name": "stdout",
     "output_type": "stream",
     "text": [
      "Epoch 252/1000 — Recon_U: 0.0285, Recon_L: 0.0246, SemiSup: 0.0408, Disc_Cat: 1.3226, Gen_Cat: 0.9483, Disc_Sty: 1.3760, Gen_Sty: 0.6768\n",
      "Validation Accuracy: 93.31%\n",
      "\n",
      "Weights saved to semisupervised_results/1000_epochs_adam_1000_samples/weights_*.pth\n"
     ]
    },
    {
     "data": {
      "application/vnd.jupyter.widget-view+json": {
       "model_id": "6c56b17e69be4c2695cbfdf299241104",
       "version_major": 2,
       "version_minor": 0
      },
      "text/plain": [
       "Epoch [253/1000]:   0%|          | 0/10 [00:00<?, ?it/s]"
      ]
     },
     "metadata": {},
     "output_type": "display_data"
    },
    {
     "name": "stdout",
     "output_type": "stream",
     "text": [
      "Epoch 253/1000 — Recon_U: 0.0288, Recon_L: 0.0246, SemiSup: 0.0270, Disc_Cat: 1.3361, Gen_Cat: 0.8921, Disc_Sty: 1.3724, Gen_Sty: 0.6814\n",
      "Validation Accuracy: 93.31%\n",
      "\n",
      "Weights saved to semisupervised_results/1000_epochs_adam_1000_samples/weights_*.pth\n"
     ]
    },
    {
     "data": {
      "application/vnd.jupyter.widget-view+json": {
       "model_id": "6a03cbca09b0452386b53508dc09f524",
       "version_major": 2,
       "version_minor": 0
      },
      "text/plain": [
       "Epoch [254/1000]:   0%|          | 0/10 [00:00<?, ?it/s]"
      ]
     },
     "metadata": {},
     "output_type": "display_data"
    },
    {
     "name": "stdout",
     "output_type": "stream",
     "text": [
      "Epoch 254/1000 — Recon_U: 0.0282, Recon_L: 0.0245, SemiSup: 0.0202, Disc_Cat: 1.3295, Gen_Cat: 0.9125, Disc_Sty: 1.3678, Gen_Sty: 0.6939\n",
      "Validation Accuracy: 93.36%\n",
      "\n",
      "Weights saved to semisupervised_results/1000_epochs_adam_1000_samples/weights_*.pth\n"
     ]
    },
    {
     "data": {
      "application/vnd.jupyter.widget-view+json": {
       "model_id": "705975781a3a4d628f5cec0446e89672",
       "version_major": 2,
       "version_minor": 0
      },
      "text/plain": [
       "Epoch [255/1000]:   0%|          | 0/10 [00:00<?, ?it/s]"
      ]
     },
     "metadata": {},
     "output_type": "display_data"
    },
    {
     "name": "stdout",
     "output_type": "stream",
     "text": [
      "Epoch 255/1000 — Recon_U: 0.0283, Recon_L: 0.0245, SemiSup: 0.0433, Disc_Cat: 1.3297, Gen_Cat: 0.9260, Disc_Sty: 1.3697, Gen_Sty: 0.6986\n",
      "Validation Accuracy: 93.29%\n",
      "\n",
      "Weights saved to semisupervised_results/1000_epochs_adam_1000_samples/weights_*.pth\n"
     ]
    },
    {
     "data": {
      "application/vnd.jupyter.widget-view+json": {
       "model_id": "5d651a7ba8ca4361bf2ea07b845a9165",
       "version_major": 2,
       "version_minor": 0
      },
      "text/plain": [
       "Epoch [256/1000]:   0%|          | 0/10 [00:00<?, ?it/s]"
      ]
     },
     "metadata": {},
     "output_type": "display_data"
    },
    {
     "name": "stdout",
     "output_type": "stream",
     "text": [
      "Epoch 256/1000 — Recon_U: 0.0290, Recon_L: 0.0245, SemiSup: 0.0311, Disc_Cat: 1.3233, Gen_Cat: 0.9408, Disc_Sty: 1.3617, Gen_Sty: 0.7028\n",
      "Validation Accuracy: 93.25%\n",
      "\n",
      "Weights saved to semisupervised_results/1000_epochs_adam_1000_samples/weights_*.pth\n"
     ]
    },
    {
     "data": {
      "application/vnd.jupyter.widget-view+json": {
       "model_id": "62f6a4ca6f7d489abe2100bb3bbec05b",
       "version_major": 2,
       "version_minor": 0
      },
      "text/plain": [
       "Epoch [257/1000]:   0%|          | 0/10 [00:00<?, ?it/s]"
      ]
     },
     "metadata": {},
     "output_type": "display_data"
    },
    {
     "name": "stdout",
     "output_type": "stream",
     "text": [
      "Epoch 257/1000 — Recon_U: 0.0288, Recon_L: 0.0244, SemiSup: 0.0216, Disc_Cat: 1.3315, Gen_Cat: 0.9102, Disc_Sty: 1.3669, Gen_Sty: 0.6947\n",
      "Validation Accuracy: 93.29%\n",
      "\n",
      "Weights saved to semisupervised_results/1000_epochs_adam_1000_samples/weights_*.pth\n"
     ]
    },
    {
     "data": {
      "application/vnd.jupyter.widget-view+json": {
       "model_id": "4224592e4fba42f0a62a4aadd756d8d2",
       "version_major": 2,
       "version_minor": 0
      },
      "text/plain": [
       "Epoch [258/1000]:   0%|          | 0/10 [00:00<?, ?it/s]"
      ]
     },
     "metadata": {},
     "output_type": "display_data"
    },
    {
     "name": "stdout",
     "output_type": "stream",
     "text": [
      "Epoch 258/1000 — Recon_U: 0.0291, Recon_L: 0.0246, SemiSup: 0.0074, Disc_Cat: 1.3309, Gen_Cat: 0.9124, Disc_Sty: 1.3776, Gen_Sty: 0.6829\n",
      "Validation Accuracy: 93.25%\n",
      "\n",
      "Weights saved to semisupervised_results/1000_epochs_adam_1000_samples/weights_*.pth\n"
     ]
    },
    {
     "data": {
      "application/vnd.jupyter.widget-view+json": {
       "model_id": "5d284ce531e24a6cab53b7303e411e2d",
       "version_major": 2,
       "version_minor": 0
      },
      "text/plain": [
       "Epoch [259/1000]:   0%|          | 0/10 [00:00<?, ?it/s]"
      ]
     },
     "metadata": {},
     "output_type": "display_data"
    },
    {
     "name": "stdout",
     "output_type": "stream",
     "text": [
      "Epoch 259/1000 — Recon_U: 0.0284, Recon_L: 0.0245, SemiSup: 0.0126, Disc_Cat: 1.3324, Gen_Cat: 0.9230, Disc_Sty: 1.3733, Gen_Sty: 0.6792\n",
      "Validation Accuracy: 93.19%\n",
      "\n",
      "Weights saved to semisupervised_results/1000_epochs_adam_1000_samples/weights_*.pth\n"
     ]
    },
    {
     "data": {
      "application/vnd.jupyter.widget-view+json": {
       "model_id": "aa5de850c2934efcb9e59708d694a024",
       "version_major": 2,
       "version_minor": 0
      },
      "text/plain": [
       "Epoch [260/1000]:   0%|          | 0/10 [00:00<?, ?it/s]"
      ]
     },
     "metadata": {},
     "output_type": "display_data"
    },
    {
     "name": "stdout",
     "output_type": "stream",
     "text": [
      "Epoch 260/1000 — Recon_U: 0.0284, Recon_L: 0.0243, SemiSup: 0.0078, Disc_Cat: 1.3341, Gen_Cat: 0.9200, Disc_Sty: 1.3707, Gen_Sty: 0.6798\n",
      "Validation Accuracy: 93.22%\n",
      "\n",
      "Weights saved to semisupervised_results/1000_epochs_adam_1000_samples/weights_*.pth\n"
     ]
    },
    {
     "data": {
      "application/vnd.jupyter.widget-view+json": {
       "model_id": "91e0ae5d907c4071bed0c43aa3ff0a80",
       "version_major": 2,
       "version_minor": 0
      },
      "text/plain": [
       "Epoch [261/1000]:   0%|          | 0/10 [00:00<?, ?it/s]"
      ]
     },
     "metadata": {},
     "output_type": "display_data"
    },
    {
     "name": "stdout",
     "output_type": "stream",
     "text": [
      "Epoch 261/1000 — Recon_U: 0.0285, Recon_L: 0.0244, SemiSup: 0.0242, Disc_Cat: 1.3338, Gen_Cat: 0.9327, Disc_Sty: 1.3732, Gen_Sty: 0.6799\n",
      "Validation Accuracy: 93.24%\n",
      "\n",
      "Weights saved to semisupervised_results/1000_epochs_adam_1000_samples/weights_*.pth\n"
     ]
    },
    {
     "data": {
      "application/vnd.jupyter.widget-view+json": {
       "model_id": "93cac2d9a0fa462db68290aef0952080",
       "version_major": 2,
       "version_minor": 0
      },
      "text/plain": [
       "Epoch [262/1000]:   0%|          | 0/10 [00:00<?, ?it/s]"
      ]
     },
     "metadata": {},
     "output_type": "display_data"
    },
    {
     "name": "stdout",
     "output_type": "stream",
     "text": [
      "Epoch 262/1000 — Recon_U: 0.0287, Recon_L: 0.0241, SemiSup: 0.0185, Disc_Cat: 1.3384, Gen_Cat: 0.8859, Disc_Sty: 1.3655, Gen_Sty: 0.6836\n",
      "Validation Accuracy: 93.32%\n",
      "\n",
      "Weights saved to semisupervised_results/1000_epochs_adam_1000_samples/weights_*.pth\n"
     ]
    },
    {
     "data": {
      "application/vnd.jupyter.widget-view+json": {
       "model_id": "bbd11ac17de34c878b1fcd4f98d12877",
       "version_major": 2,
       "version_minor": 0
      },
      "text/plain": [
       "Epoch [263/1000]:   0%|          | 0/10 [00:00<?, ?it/s]"
      ]
     },
     "metadata": {},
     "output_type": "display_data"
    },
    {
     "name": "stdout",
     "output_type": "stream",
     "text": [
      "Epoch 263/1000 — Recon_U: 0.0289, Recon_L: 0.0243, SemiSup: 0.0048, Disc_Cat: 1.3442, Gen_Cat: 0.8684, Disc_Sty: 1.3651, Gen_Sty: 0.6797\n",
      "Validation Accuracy: 93.31%\n",
      "\n",
      "Weights saved to semisupervised_results/1000_epochs_adam_1000_samples/weights_*.pth\n"
     ]
    },
    {
     "data": {
      "application/vnd.jupyter.widget-view+json": {
       "model_id": "ee4f91ef09f8424a8d5e21129597669f",
       "version_major": 2,
       "version_minor": 0
      },
      "text/plain": [
       "Epoch [264/1000]:   0%|          | 0/10 [00:00<?, ?it/s]"
      ]
     },
     "metadata": {},
     "output_type": "display_data"
    },
    {
     "name": "stdout",
     "output_type": "stream",
     "text": [
      "Epoch 264/1000 — Recon_U: 0.0283, Recon_L: 0.0243, SemiSup: 0.0229, Disc_Cat: 1.3267, Gen_Cat: 0.9428, Disc_Sty: 1.3669, Gen_Sty: 0.6814\n",
      "Validation Accuracy: 93.32%\n",
      "\n",
      "Weights saved to semisupervised_results/1000_epochs_adam_1000_samples/weights_*.pth\n"
     ]
    },
    {
     "data": {
      "application/vnd.jupyter.widget-view+json": {
       "model_id": "b847aaf7cae1437193b820fc5604cf7b",
       "version_major": 2,
       "version_minor": 0
      },
      "text/plain": [
       "Epoch [265/1000]:   0%|          | 0/10 [00:00<?, ?it/s]"
      ]
     },
     "metadata": {},
     "output_type": "display_data"
    },
    {
     "name": "stdout",
     "output_type": "stream",
     "text": [
      "Epoch 265/1000 — Recon_U: 0.0287, Recon_L: 0.0245, SemiSup: 0.0341, Disc_Cat: 1.3328, Gen_Cat: 0.9070, Disc_Sty: 1.3632, Gen_Sty: 0.6836\n",
      "Validation Accuracy: 93.37%\n",
      "\n",
      "Weights saved to semisupervised_results/1000_epochs_adam_1000_samples/weights_*.pth\n"
     ]
    },
    {
     "data": {
      "application/vnd.jupyter.widget-view+json": {
       "model_id": "6c01a071614b46f781e1bda04b335df1",
       "version_major": 2,
       "version_minor": 0
      },
      "text/plain": [
       "Epoch [266/1000]:   0%|          | 0/10 [00:00<?, ?it/s]"
      ]
     },
     "metadata": {},
     "output_type": "display_data"
    },
    {
     "name": "stdout",
     "output_type": "stream",
     "text": [
      "Epoch 266/1000 — Recon_U: 0.0286, Recon_L: 0.0242, SemiSup: 0.0162, Disc_Cat: 1.3356, Gen_Cat: 0.9459, Disc_Sty: 1.3681, Gen_Sty: 0.6812\n",
      "Validation Accuracy: 93.27%\n",
      "\n",
      "Weights saved to semisupervised_results/1000_epochs_adam_1000_samples/weights_*.pth\n"
     ]
    },
    {
     "data": {
      "application/vnd.jupyter.widget-view+json": {
       "model_id": "5215e77091f247d881397ab4c12d3ef9",
       "version_major": 2,
       "version_minor": 0
      },
      "text/plain": [
       "Epoch [267/1000]:   0%|          | 0/10 [00:00<?, ?it/s]"
      ]
     },
     "metadata": {},
     "output_type": "display_data"
    },
    {
     "name": "stdout",
     "output_type": "stream",
     "text": [
      "Epoch 267/1000 — Recon_U: 0.0291, Recon_L: 0.0243, SemiSup: 0.0104, Disc_Cat: 1.3272, Gen_Cat: 0.9409, Disc_Sty: 1.3791, Gen_Sty: 0.6731\n",
      "Validation Accuracy: 93.25%\n",
      "\n",
      "Weights saved to semisupervised_results/1000_epochs_adam_1000_samples/weights_*.pth\n"
     ]
    },
    {
     "data": {
      "application/vnd.jupyter.widget-view+json": {
       "model_id": "2ffb0b4480fe40b8bcc449f9f3e1e348",
       "version_major": 2,
       "version_minor": 0
      },
      "text/plain": [
       "Epoch [268/1000]:   0%|          | 0/10 [00:00<?, ?it/s]"
      ]
     },
     "metadata": {},
     "output_type": "display_data"
    },
    {
     "name": "stdout",
     "output_type": "stream",
     "text": [
      "Epoch 268/1000 — Recon_U: 0.0282, Recon_L: 0.0242, SemiSup: 0.0110, Disc_Cat: 1.3210, Gen_Cat: 0.9715, Disc_Sty: 1.3788, Gen_Sty: 0.6779\n",
      "Validation Accuracy: 93.25%\n",
      "\n",
      "Weights saved to semisupervised_results/1000_epochs_adam_1000_samples/weights_*.pth\n"
     ]
    },
    {
     "data": {
      "application/vnd.jupyter.widget-view+json": {
       "model_id": "f6b540aefff14e9b91b9c70c657805b0",
       "version_major": 2,
       "version_minor": 0
      },
      "text/plain": [
       "Epoch [269/1000]:   0%|          | 0/10 [00:00<?, ?it/s]"
      ]
     },
     "metadata": {},
     "output_type": "display_data"
    },
    {
     "name": "stdout",
     "output_type": "stream",
     "text": [
      "Epoch 269/1000 — Recon_U: 0.0289, Recon_L: 0.0242, SemiSup: 0.0230, Disc_Cat: 1.3313, Gen_Cat: 0.9469, Disc_Sty: 1.3697, Gen_Sty: 0.6864\n",
      "Validation Accuracy: 93.15%\n",
      "\n",
      "Weights saved to semisupervised_results/1000_epochs_adam_1000_samples/weights_*.pth\n"
     ]
    },
    {
     "data": {
      "application/vnd.jupyter.widget-view+json": {
       "model_id": "6aedf574ea034e10921b81002ad705f3",
       "version_major": 2,
       "version_minor": 0
      },
      "text/plain": [
       "Epoch [270/1000]:   0%|          | 0/10 [00:00<?, ?it/s]"
      ]
     },
     "metadata": {},
     "output_type": "display_data"
    },
    {
     "name": "stdout",
     "output_type": "stream",
     "text": [
      "Epoch 270/1000 — Recon_U: 0.0277, Recon_L: 0.0244, SemiSup: 0.0356, Disc_Cat: 1.3296, Gen_Cat: 0.9325, Disc_Sty: 1.3662, Gen_Sty: 0.7053\n",
      "Validation Accuracy: 93.19%\n",
      "\n",
      "Weights saved to semisupervised_results/1000_epochs_adam_1000_samples/weights_*.pth\n"
     ]
    },
    {
     "data": {
      "application/vnd.jupyter.widget-view+json": {
       "model_id": "9a607c86bf97424f89306ffc3017798b",
       "version_major": 2,
       "version_minor": 0
      },
      "text/plain": [
       "Epoch [271/1000]:   0%|          | 0/10 [00:00<?, ?it/s]"
      ]
     },
     "metadata": {},
     "output_type": "display_data"
    },
    {
     "name": "stdout",
     "output_type": "stream",
     "text": [
      "Epoch 271/1000 — Recon_U: 0.0286, Recon_L: 0.0243, SemiSup: 0.0274, Disc_Cat: 1.3352, Gen_Cat: 0.8997, Disc_Sty: 1.3685, Gen_Sty: 0.7136\n",
      "Validation Accuracy: 93.12%\n",
      "\n",
      "Weights saved to semisupervised_results/1000_epochs_adam_1000_samples/weights_*.pth\n"
     ]
    },
    {
     "data": {
      "application/vnd.jupyter.widget-view+json": {
       "model_id": "ab5a461dd919410eb37e1068519f6ea8",
       "version_major": 2,
       "version_minor": 0
      },
      "text/plain": [
       "Epoch [272/1000]:   0%|          | 0/10 [00:00<?, ?it/s]"
      ]
     },
     "metadata": {},
     "output_type": "display_data"
    },
    {
     "name": "stdout",
     "output_type": "stream",
     "text": [
      "Epoch 272/1000 — Recon_U: 0.0284, Recon_L: 0.0242, SemiSup: 0.0213, Disc_Cat: 1.3331, Gen_Cat: 0.9260, Disc_Sty: 1.3651, Gen_Sty: 0.7176\n",
      "Validation Accuracy: 93.19%\n",
      "\n",
      "Weights saved to semisupervised_results/1000_epochs_adam_1000_samples/weights_*.pth\n"
     ]
    },
    {
     "data": {
      "application/vnd.jupyter.widget-view+json": {
       "model_id": "480fa6f0a27f464fa46d6aef2e12d590",
       "version_major": 2,
       "version_minor": 0
      },
      "text/plain": [
       "Epoch [273/1000]:   0%|          | 0/10 [00:00<?, ?it/s]"
      ]
     },
     "metadata": {},
     "output_type": "display_data"
    },
    {
     "name": "stdout",
     "output_type": "stream",
     "text": [
      "Epoch 273/1000 — Recon_U: 0.0285, Recon_L: 0.0242, SemiSup: 0.0284, Disc_Cat: 1.3264, Gen_Cat: 0.9644, Disc_Sty: 1.3745, Gen_Sty: 0.7006\n",
      "Validation Accuracy: 93.24%\n",
      "\n",
      "Weights saved to semisupervised_results/1000_epochs_adam_1000_samples/weights_*.pth\n"
     ]
    },
    {
     "data": {
      "application/vnd.jupyter.widget-view+json": {
       "model_id": "09f54d8396bb4bf387c075e9ceb3777b",
       "version_major": 2,
       "version_minor": 0
      },
      "text/plain": [
       "Epoch [274/1000]:   0%|          | 0/10 [00:00<?, ?it/s]"
      ]
     },
     "metadata": {},
     "output_type": "display_data"
    },
    {
     "name": "stdout",
     "output_type": "stream",
     "text": [
      "Epoch 274/1000 — Recon_U: 0.0279, Recon_L: 0.0243, SemiSup: 0.0551, Disc_Cat: 1.3405, Gen_Cat: 0.9115, Disc_Sty: 1.3774, Gen_Sty: 0.6944\n",
      "Validation Accuracy: 93.22%\n",
      "\n",
      "Weights saved to semisupervised_results/1000_epochs_adam_1000_samples/weights_*.pth\n"
     ]
    },
    {
     "data": {
      "application/vnd.jupyter.widget-view+json": {
       "model_id": "146aae5f8e56477db45770fbeb596f5b",
       "version_major": 2,
       "version_minor": 0
      },
      "text/plain": [
       "Epoch [275/1000]:   0%|          | 0/10 [00:00<?, ?it/s]"
      ]
     },
     "metadata": {},
     "output_type": "display_data"
    },
    {
     "name": "stdout",
     "output_type": "stream",
     "text": [
      "Epoch 275/1000 — Recon_U: 0.0285, Recon_L: 0.0241, SemiSup: 0.0179, Disc_Cat: 1.3361, Gen_Cat: 0.9002, Disc_Sty: 1.3788, Gen_Sty: 0.6823\n",
      "Validation Accuracy: 93.27%\n",
      "\n",
      "Weights saved to semisupervised_results/1000_epochs_adam_1000_samples/weights_*.pth\n"
     ]
    },
    {
     "data": {
      "application/vnd.jupyter.widget-view+json": {
       "model_id": "bebf1bb08e5448c99495df70109ce5cf",
       "version_major": 2,
       "version_minor": 0
      },
      "text/plain": [
       "Epoch [276/1000]:   0%|          | 0/10 [00:00<?, ?it/s]"
      ]
     },
     "metadata": {},
     "output_type": "display_data"
    },
    {
     "name": "stdout",
     "output_type": "stream",
     "text": [
      "Epoch 276/1000 — Recon_U: 0.0277, Recon_L: 0.0241, SemiSup: 0.0177, Disc_Cat: 1.3390, Gen_Cat: 0.8896, Disc_Sty: 1.3771, Gen_Sty: 0.6769\n",
      "Validation Accuracy: 93.20%\n",
      "\n",
      "Weights saved to semisupervised_results/1000_epochs_adam_1000_samples/weights_*.pth\n"
     ]
    },
    {
     "data": {
      "application/vnd.jupyter.widget-view+json": {
       "model_id": "890297325780408b83ac9a049e34a19a",
       "version_major": 2,
       "version_minor": 0
      },
      "text/plain": [
       "Epoch [277/1000]:   0%|          | 0/10 [00:00<?, ?it/s]"
      ]
     },
     "metadata": {},
     "output_type": "display_data"
    },
    {
     "name": "stdout",
     "output_type": "stream",
     "text": [
      "Epoch 277/1000 — Recon_U: 0.0288, Recon_L: 0.0240, SemiSup: 0.0379, Disc_Cat: 1.3340, Gen_Cat: 0.9119, Disc_Sty: 1.3780, Gen_Sty: 0.6693\n",
      "Validation Accuracy: 93.29%\n",
      "\n",
      "Weights saved to semisupervised_results/1000_epochs_adam_1000_samples/weights_*.pth\n"
     ]
    },
    {
     "data": {
      "application/vnd.jupyter.widget-view+json": {
       "model_id": "679c9a5e4fd94cc49be44934a9dd7186",
       "version_major": 2,
       "version_minor": 0
      },
      "text/plain": [
       "Epoch [278/1000]:   0%|          | 0/10 [00:00<?, ?it/s]"
      ]
     },
     "metadata": {},
     "output_type": "display_data"
    },
    {
     "name": "stdout",
     "output_type": "stream",
     "text": [
      "Epoch 278/1000 — Recon_U: 0.0290, Recon_L: 0.0241, SemiSup: 0.0272, Disc_Cat: 1.3476, Gen_Cat: 0.9173, Disc_Sty: 1.3665, Gen_Sty: 0.6780\n",
      "Validation Accuracy: 93.29%\n",
      "\n",
      "Weights saved to semisupervised_results/1000_epochs_adam_1000_samples/weights_*.pth\n"
     ]
    },
    {
     "data": {
      "application/vnd.jupyter.widget-view+json": {
       "model_id": "1c7db7cb68c94eb2ab4a6a5f65c5413b",
       "version_major": 2,
       "version_minor": 0
      },
      "text/plain": [
       "Epoch [279/1000]:   0%|          | 0/10 [00:00<?, ?it/s]"
      ]
     },
     "metadata": {},
     "output_type": "display_data"
    },
    {
     "name": "stdout",
     "output_type": "stream",
     "text": [
      "Epoch 279/1000 — Recon_U: 0.0279, Recon_L: 0.0240, SemiSup: 0.0188, Disc_Cat: 1.3327, Gen_Cat: 0.9155, Disc_Sty: 1.3585, Gen_Sty: 0.6848\n",
      "Validation Accuracy: 93.34%\n",
      "\n",
      "Weights saved to semisupervised_results/1000_epochs_adam_1000_samples/weights_*.pth\n"
     ]
    },
    {
     "data": {
      "application/vnd.jupyter.widget-view+json": {
       "model_id": "dcec998492de4eb3a597969f068a0640",
       "version_major": 2,
       "version_minor": 0
      },
      "text/plain": [
       "Epoch [280/1000]:   0%|          | 0/10 [00:00<?, ?it/s]"
      ]
     },
     "metadata": {},
     "output_type": "display_data"
    },
    {
     "name": "stdout",
     "output_type": "stream",
     "text": [
      "Epoch 280/1000 — Recon_U: 0.0280, Recon_L: 0.0240, SemiSup: 0.0483, Disc_Cat: 1.3272, Gen_Cat: 0.9506, Disc_Sty: 1.3587, Gen_Sty: 0.6884\n",
      "Validation Accuracy: 93.34%\n",
      "\n",
      "Weights saved to semisupervised_results/1000_epochs_adam_1000_samples/weights_*.pth\n"
     ]
    },
    {
     "data": {
      "application/vnd.jupyter.widget-view+json": {
       "model_id": "efd2b150481f41b0bfee63384c06d97c",
       "version_major": 2,
       "version_minor": 0
      },
      "text/plain": [
       "Epoch [281/1000]:   0%|          | 0/10 [00:00<?, ?it/s]"
      ]
     },
     "metadata": {},
     "output_type": "display_data"
    },
    {
     "name": "stdout",
     "output_type": "stream",
     "text": [
      "Epoch 281/1000 — Recon_U: 0.0285, Recon_L: 0.0239, SemiSup: 0.0162, Disc_Cat: 1.3413, Gen_Cat: 0.8941, Disc_Sty: 1.3699, Gen_Sty: 0.6794\n",
      "Validation Accuracy: 93.41%\n",
      "\n",
      "Weights saved to semisupervised_results/1000_epochs_adam_1000_samples/weights_*.pth\n"
     ]
    },
    {
     "data": {
      "application/vnd.jupyter.widget-view+json": {
       "model_id": "a5ccfd100a5b46049ab8efd1f7351723",
       "version_major": 2,
       "version_minor": 0
      },
      "text/plain": [
       "Epoch [282/1000]:   0%|          | 0/10 [00:00<?, ?it/s]"
      ]
     },
     "metadata": {},
     "output_type": "display_data"
    },
    {
     "name": "stdout",
     "output_type": "stream",
     "text": [
      "Epoch 282/1000 — Recon_U: 0.0290, Recon_L: 0.0241, SemiSup: 0.0130, Disc_Cat: 1.3420, Gen_Cat: 0.8813, Disc_Sty: 1.3808, Gen_Sty: 0.6754\n",
      "Validation Accuracy: 93.42%\n",
      "\n",
      "Weights saved to semisupervised_results/1000_epochs_adam_1000_samples/weights_*.pth\n"
     ]
    },
    {
     "data": {
      "application/vnd.jupyter.widget-view+json": {
       "model_id": "28c27686780e4352951ef12885a74afa",
       "version_major": 2,
       "version_minor": 0
      },
      "text/plain": [
       "Epoch [283/1000]:   0%|          | 0/10 [00:00<?, ?it/s]"
      ]
     },
     "metadata": {},
     "output_type": "display_data"
    },
    {
     "name": "stdout",
     "output_type": "stream",
     "text": [
      "Epoch 283/1000 — Recon_U: 0.0279, Recon_L: 0.0241, SemiSup: 0.0253, Disc_Cat: 1.3294, Gen_Cat: 0.9395, Disc_Sty: 1.3822, Gen_Sty: 0.6804\n",
      "Validation Accuracy: 93.44%\n",
      "\n",
      "Weights saved to semisupervised_results/1000_epochs_adam_1000_samples/weights_*.pth\n"
     ]
    },
    {
     "data": {
      "application/vnd.jupyter.widget-view+json": {
       "model_id": "3a5a37eaa0ba45999f5143268f2bd7de",
       "version_major": 2,
       "version_minor": 0
      },
      "text/plain": [
       "Epoch [284/1000]:   0%|          | 0/10 [00:00<?, ?it/s]"
      ]
     },
     "metadata": {},
     "output_type": "display_data"
    },
    {
     "name": "stdout",
     "output_type": "stream",
     "text": [
      "Epoch 284/1000 — Recon_U: 0.0278, Recon_L: 0.0241, SemiSup: 0.0299, Disc_Cat: 1.3385, Gen_Cat: 0.8857, Disc_Sty: 1.3789, Gen_Sty: 0.6920\n",
      "Validation Accuracy: 93.42%\n",
      "\n",
      "Weights saved to semisupervised_results/1000_epochs_adam_1000_samples/weights_*.pth\n"
     ]
    },
    {
     "data": {
      "application/vnd.jupyter.widget-view+json": {
       "model_id": "fb43b0c1263a48819b9e0c72e6c20ec6",
       "version_major": 2,
       "version_minor": 0
      },
      "text/plain": [
       "Epoch [285/1000]:   0%|          | 0/10 [00:00<?, ?it/s]"
      ]
     },
     "metadata": {},
     "output_type": "display_data"
    },
    {
     "name": "stdout",
     "output_type": "stream",
     "text": [
      "Epoch 285/1000 — Recon_U: 0.0288, Recon_L: 0.0241, SemiSup: 0.0122, Disc_Cat: 1.3366, Gen_Cat: 0.9408, Disc_Sty: 1.3659, Gen_Sty: 0.7176\n",
      "Validation Accuracy: 93.36%\n",
      "\n",
      "Weights saved to semisupervised_results/1000_epochs_adam_1000_samples/weights_*.pth\n"
     ]
    },
    {
     "data": {
      "application/vnd.jupyter.widget-view+json": {
       "model_id": "a41cbefa1ae44f1d8d36a6c6174c4b4b",
       "version_major": 2,
       "version_minor": 0
      },
      "text/plain": [
       "Epoch [286/1000]:   0%|          | 0/10 [00:00<?, ?it/s]"
      ]
     },
     "metadata": {},
     "output_type": "display_data"
    },
    {
     "name": "stdout",
     "output_type": "stream",
     "text": [
      "Epoch 286/1000 — Recon_U: 0.0279, Recon_L: 0.0240, SemiSup: 0.0172, Disc_Cat: 1.3302, Gen_Cat: 0.9144, Disc_Sty: 1.3646, Gen_Sty: 0.7338\n",
      "Validation Accuracy: 93.34%\n",
      "\n",
      "Weights saved to semisupervised_results/1000_epochs_adam_1000_samples/weights_*.pth\n"
     ]
    },
    {
     "data": {
      "application/vnd.jupyter.widget-view+json": {
       "model_id": "152eb0d0513f4ba7b6978d319ecf7fa0",
       "version_major": 2,
       "version_minor": 0
      },
      "text/plain": [
       "Epoch [287/1000]:   0%|          | 0/10 [00:00<?, ?it/s]"
      ]
     },
     "metadata": {},
     "output_type": "display_data"
    },
    {
     "name": "stdout",
     "output_type": "stream",
     "text": [
      "Epoch 287/1000 — Recon_U: 0.0290, Recon_L: 0.0239, SemiSup: 0.0079, Disc_Cat: 1.3318, Gen_Cat: 0.9274, Disc_Sty: 1.3579, Gen_Sty: 0.7327\n",
      "Validation Accuracy: 93.27%\n",
      "\n",
      "Weights saved to semisupervised_results/1000_epochs_adam_1000_samples/weights_*.pth\n"
     ]
    },
    {
     "data": {
      "application/vnd.jupyter.widget-view+json": {
       "model_id": "3a6196780353451eb21a8e535c76dfb8",
       "version_major": 2,
       "version_minor": 0
      },
      "text/plain": [
       "Epoch [288/1000]:   0%|          | 0/10 [00:00<?, ?it/s]"
      ]
     },
     "metadata": {},
     "output_type": "display_data"
    },
    {
     "name": "stdout",
     "output_type": "stream",
     "text": [
      "Epoch 288/1000 — Recon_U: 0.0277, Recon_L: 0.0239, SemiSup: 0.0161, Disc_Cat: 1.3413, Gen_Cat: 0.8950, Disc_Sty: 1.3724, Gen_Sty: 0.7226\n",
      "Validation Accuracy: 93.27%\n",
      "\n",
      "Weights saved to semisupervised_results/1000_epochs_adam_1000_samples/weights_*.pth\n"
     ]
    },
    {
     "data": {
      "application/vnd.jupyter.widget-view+json": {
       "model_id": "40e980861b2b4f11a3d0e9305113d407",
       "version_major": 2,
       "version_minor": 0
      },
      "text/plain": [
       "Epoch [289/1000]:   0%|          | 0/10 [00:00<?, ?it/s]"
      ]
     },
     "metadata": {},
     "output_type": "display_data"
    },
    {
     "name": "stdout",
     "output_type": "stream",
     "text": [
      "Epoch 289/1000 — Recon_U: 0.0282, Recon_L: 0.0239, SemiSup: 0.0108, Disc_Cat: 1.3373, Gen_Cat: 0.8769, Disc_Sty: 1.3704, Gen_Sty: 0.7011\n",
      "Validation Accuracy: 93.36%\n",
      "\n",
      "Weights saved to semisupervised_results/1000_epochs_adam_1000_samples/weights_*.pth\n"
     ]
    },
    {
     "data": {
      "application/vnd.jupyter.widget-view+json": {
       "model_id": "3eed6092793d4f698b55953d6d485e65",
       "version_major": 2,
       "version_minor": 0
      },
      "text/plain": [
       "Epoch [290/1000]:   0%|          | 0/10 [00:00<?, ?it/s]"
      ]
     },
     "metadata": {},
     "output_type": "display_data"
    },
    {
     "name": "stdout",
     "output_type": "stream",
     "text": [
      "Epoch 290/1000 — Recon_U: 0.0291, Recon_L: 0.0238, SemiSup: 0.0059, Disc_Cat: 1.3324, Gen_Cat: 0.9382, Disc_Sty: 1.3702, Gen_Sty: 0.6901\n",
      "Validation Accuracy: 93.37%\n",
      "\n",
      "Weights saved to semisupervised_results/1000_epochs_adam_1000_samples/weights_*.pth\n"
     ]
    },
    {
     "data": {
      "application/vnd.jupyter.widget-view+json": {
       "model_id": "9e5de5b296db4d2c8fc4f95afcd0cf1a",
       "version_major": 2,
       "version_minor": 0
      },
      "text/plain": [
       "Epoch [291/1000]:   0%|          | 0/10 [00:00<?, ?it/s]"
      ]
     },
     "metadata": {},
     "output_type": "display_data"
    },
    {
     "name": "stdout",
     "output_type": "stream",
     "text": [
      "Epoch 291/1000 — Recon_U: 0.0282, Recon_L: 0.0239, SemiSup: 0.0145, Disc_Cat: 1.3326, Gen_Cat: 0.9315, Disc_Sty: 1.3695, Gen_Sty: 0.6796\n",
      "Validation Accuracy: 93.39%\n",
      "\n",
      "Weights saved to semisupervised_results/1000_epochs_adam_1000_samples/weights_*.pth\n"
     ]
    },
    {
     "data": {
      "application/vnd.jupyter.widget-view+json": {
       "model_id": "7b9f581995e945bd806b3356ec8e8c5a",
       "version_major": 2,
       "version_minor": 0
      },
      "text/plain": [
       "Epoch [292/1000]:   0%|          | 0/10 [00:00<?, ?it/s]"
      ]
     },
     "metadata": {},
     "output_type": "display_data"
    },
    {
     "name": "stdout",
     "output_type": "stream",
     "text": [
      "Epoch 292/1000 — Recon_U: 0.0277, Recon_L: 0.0239, SemiSup: 0.0094, Disc_Cat: 1.3372, Gen_Cat: 0.9247, Disc_Sty: 1.3737, Gen_Sty: 0.6706\n",
      "Validation Accuracy: 93.42%\n",
      "\n",
      "Weights saved to semisupervised_results/1000_epochs_adam_1000_samples/weights_*.pth\n"
     ]
    },
    {
     "data": {
      "application/vnd.jupyter.widget-view+json": {
       "model_id": "14fff239f7f14f26820c3034af1175db",
       "version_major": 2,
       "version_minor": 0
      },
      "text/plain": [
       "Epoch [293/1000]:   0%|          | 0/10 [00:00<?, ?it/s]"
      ]
     },
     "metadata": {},
     "output_type": "display_data"
    },
    {
     "name": "stdout",
     "output_type": "stream",
     "text": [
      "Epoch 293/1000 — Recon_U: 0.0283, Recon_L: 0.0239, SemiSup: 0.0257, Disc_Cat: 1.3313, Gen_Cat: 0.9147, Disc_Sty: 1.3622, Gen_Sty: 0.6786\n",
      "Validation Accuracy: 93.41%\n",
      "\n",
      "Weights saved to semisupervised_results/1000_epochs_adam_1000_samples/weights_*.pth\n"
     ]
    },
    {
     "data": {
      "application/vnd.jupyter.widget-view+json": {
       "model_id": "4c901b184a714896a0257b6717f592d2",
       "version_major": 2,
       "version_minor": 0
      },
      "text/plain": [
       "Epoch [294/1000]:   0%|          | 0/10 [00:00<?, ?it/s]"
      ]
     },
     "metadata": {},
     "output_type": "display_data"
    },
    {
     "name": "stdout",
     "output_type": "stream",
     "text": [
      "Epoch 294/1000 — Recon_U: 0.0276, Recon_L: 0.0238, SemiSup: 0.0122, Disc_Cat: 1.3402, Gen_Cat: 0.9102, Disc_Sty: 1.3602, Gen_Sty: 0.6791\n",
      "Validation Accuracy: 93.36%\n",
      "\n",
      "Weights saved to semisupervised_results/1000_epochs_adam_1000_samples/weights_*.pth\n"
     ]
    },
    {
     "data": {
      "application/vnd.jupyter.widget-view+json": {
       "model_id": "7da71ce00c77426eadf9c4d2d6e80610",
       "version_major": 2,
       "version_minor": 0
      },
      "text/plain": [
       "Epoch [295/1000]:   0%|          | 0/10 [00:00<?, ?it/s]"
      ]
     },
     "metadata": {},
     "output_type": "display_data"
    },
    {
     "name": "stdout",
     "output_type": "stream",
     "text": [
      "Epoch 295/1000 — Recon_U: 0.0272, Recon_L: 0.0237, SemiSup: 0.0258, Disc_Cat: 1.3355, Gen_Cat: 0.9052, Disc_Sty: 1.3589, Gen_Sty: 0.6868\n",
      "Validation Accuracy: 93.36%\n",
      "\n",
      "Weights saved to semisupervised_results/1000_epochs_adam_1000_samples/weights_*.pth\n"
     ]
    },
    {
     "data": {
      "application/vnd.jupyter.widget-view+json": {
       "model_id": "6cd6947e4f734080b0f88dcd2a989103",
       "version_major": 2,
       "version_minor": 0
      },
      "text/plain": [
       "Epoch [296/1000]:   0%|          | 0/10 [00:00<?, ?it/s]"
      ]
     },
     "metadata": {},
     "output_type": "display_data"
    },
    {
     "name": "stdout",
     "output_type": "stream",
     "text": [
      "Epoch 296/1000 — Recon_U: 0.0281, Recon_L: 0.0238, SemiSup: 0.0376, Disc_Cat: 1.3323, Gen_Cat: 0.9563, Disc_Sty: 1.3713, Gen_Sty: 0.6817\n",
      "Validation Accuracy: 93.37%\n",
      "\n",
      "Weights saved to semisupervised_results/1000_epochs_adam_1000_samples/weights_*.pth\n"
     ]
    },
    {
     "data": {
      "application/vnd.jupyter.widget-view+json": {
       "model_id": "cdb131db753c4124b02e424483d0e9d0",
       "version_major": 2,
       "version_minor": 0
      },
      "text/plain": [
       "Epoch [297/1000]:   0%|          | 0/10 [00:00<?, ?it/s]"
      ]
     },
     "metadata": {},
     "output_type": "display_data"
    },
    {
     "name": "stdout",
     "output_type": "stream",
     "text": [
      "Epoch 297/1000 — Recon_U: 0.0289, Recon_L: 0.0240, SemiSup: 0.0161, Disc_Cat: 1.3265, Gen_Cat: 0.9344, Disc_Sty: 1.3843, Gen_Sty: 0.6698\n",
      "Validation Accuracy: 93.42%\n",
      "\n",
      "Weights saved to semisupervised_results/1000_epochs_adam_1000_samples/weights_*.pth\n"
     ]
    },
    {
     "data": {
      "application/vnd.jupyter.widget-view+json": {
       "model_id": "a1bc936636b846d8938773fcc16eb6f1",
       "version_major": 2,
       "version_minor": 0
      },
      "text/plain": [
       "Epoch [298/1000]:   0%|          | 0/10 [00:00<?, ?it/s]"
      ]
     },
     "metadata": {},
     "output_type": "display_data"
    },
    {
     "name": "stdout",
     "output_type": "stream",
     "text": [
      "Epoch 298/1000 — Recon_U: 0.0286, Recon_L: 0.0239, SemiSup: 0.0107, Disc_Cat: 1.3270, Gen_Cat: 0.9590, Disc_Sty: 1.3902, Gen_Sty: 0.6800\n",
      "Validation Accuracy: 93.44%\n",
      "\n",
      "Weights saved to semisupervised_results/1000_epochs_adam_1000_samples/weights_*.pth\n"
     ]
    },
    {
     "data": {
      "application/vnd.jupyter.widget-view+json": {
       "model_id": "6af100b5e7934196ac55cd71590dbc32",
       "version_major": 2,
       "version_minor": 0
      },
      "text/plain": [
       "Epoch [299/1000]:   0%|          | 0/10 [00:00<?, ?it/s]"
      ]
     },
     "metadata": {},
     "output_type": "display_data"
    },
    {
     "name": "stdout",
     "output_type": "stream",
     "text": [
      "Epoch 299/1000 — Recon_U: 0.0279, Recon_L: 0.0238, SemiSup: 0.0181, Disc_Cat: 1.3381, Gen_Cat: 0.9066, Disc_Sty: 1.3822, Gen_Sty: 0.6954\n",
      "Validation Accuracy: 93.41%\n",
      "\n",
      "Weights saved to semisupervised_results/1000_epochs_adam_1000_samples/weights_*.pth\n"
     ]
    },
    {
     "data": {
      "application/vnd.jupyter.widget-view+json": {
       "model_id": "29eb1cff34f1475b8d2a3f2a8caff256",
       "version_major": 2,
       "version_minor": 0
      },
      "text/plain": [
       "Epoch [300/1000]:   0%|          | 0/10 [00:00<?, ?it/s]"
      ]
     },
     "metadata": {},
     "output_type": "display_data"
    },
    {
     "name": "stdout",
     "output_type": "stream",
     "text": [
      "Epoch 300/1000 — Recon_U: 0.0278, Recon_L: 0.0239, SemiSup: 0.0197, Disc_Cat: 1.3224, Gen_Cat: 0.9559, Disc_Sty: 1.3748, Gen_Sty: 0.7212\n",
      "Validation Accuracy: 93.36%\n",
      "\n",
      "Weights saved to semisupervised_results/1000_epochs_adam_1000_samples/weights_epoch_300/weights_*.pth\n",
      "Weights saved to semisupervised_results/1000_epochs_adam_1000_samples/weights_*.pth\n"
     ]
    },
    {
     "data": {
      "application/vnd.jupyter.widget-view+json": {
       "model_id": "0106c01caa474e0295274d7d9d1d09a9",
       "version_major": 2,
       "version_minor": 0
      },
      "text/plain": [
       "Epoch [301/1000]:   0%|          | 0/10 [00:00<?, ?it/s]"
      ]
     },
     "metadata": {},
     "output_type": "display_data"
    },
    {
     "name": "stdout",
     "output_type": "stream",
     "text": [
      "Epoch 301/1000 — Recon_U: 0.0275, Recon_L: 0.0239, SemiSup: 0.0136, Disc_Cat: 1.3334, Gen_Cat: 0.9026, Disc_Sty: 1.3617, Gen_Sty: 0.7478\n",
      "Validation Accuracy: 93.44%\n",
      "\n",
      "Weights saved to semisupervised_results/1000_epochs_adam_1000_samples/weights_*.pth\n"
     ]
    },
    {
     "data": {
      "application/vnd.jupyter.widget-view+json": {
       "model_id": "c8d1e2ad623141a1b8045f8352b78547",
       "version_major": 2,
       "version_minor": 0
      },
      "text/plain": [
       "Epoch [302/1000]:   0%|          | 0/10 [00:00<?, ?it/s]"
      ]
     },
     "metadata": {},
     "output_type": "display_data"
    },
    {
     "name": "stdout",
     "output_type": "stream",
     "text": [
      "Epoch 302/1000 — Recon_U: 0.0285, Recon_L: 0.0239, SemiSup: 0.0154, Disc_Cat: 1.3376, Gen_Cat: 0.9011, Disc_Sty: 1.3717, Gen_Sty: 0.7425\n",
      "Validation Accuracy: 93.44%\n",
      "\n",
      "Weights saved to semisupervised_results/1000_epochs_adam_1000_samples/weights_*.pth\n"
     ]
    },
    {
     "data": {
      "application/vnd.jupyter.widget-view+json": {
       "model_id": "b4d22cc7b8344199834df73c070c5ffe",
       "version_major": 2,
       "version_minor": 0
      },
      "text/plain": [
       "Epoch [303/1000]:   0%|          | 0/10 [00:00<?, ?it/s]"
      ]
     },
     "metadata": {},
     "output_type": "display_data"
    },
    {
     "name": "stdout",
     "output_type": "stream",
     "text": [
      "Epoch 303/1000 — Recon_U: 0.0284, Recon_L: 0.0238, SemiSup: 0.0143, Disc_Cat: 1.3344, Gen_Cat: 0.9122, Disc_Sty: 1.3795, Gen_Sty: 0.7176\n",
      "Validation Accuracy: 93.42%\n",
      "\n",
      "Weights saved to semisupervised_results/1000_epochs_adam_1000_samples/weights_*.pth\n"
     ]
    },
    {
     "data": {
      "application/vnd.jupyter.widget-view+json": {
       "model_id": "9ddc0ed09a67430d8971f0d0131d0749",
       "version_major": 2,
       "version_minor": 0
      },
      "text/plain": [
       "Epoch [304/1000]:   0%|          | 0/10 [00:00<?, ?it/s]"
      ]
     },
     "metadata": {},
     "output_type": "display_data"
    },
    {
     "name": "stdout",
     "output_type": "stream",
     "text": [
      "Epoch 304/1000 — Recon_U: 0.0281, Recon_L: 0.0238, SemiSup: 0.0215, Disc_Cat: 1.3464, Gen_Cat: 0.8903, Disc_Sty: 1.3803, Gen_Sty: 0.6999\n",
      "Validation Accuracy: 93.39%\n",
      "\n",
      "Weights saved to semisupervised_results/1000_epochs_adam_1000_samples/weights_*.pth\n"
     ]
    },
    {
     "data": {
      "application/vnd.jupyter.widget-view+json": {
       "model_id": "0ed5b50ec37846b18a9876e2fd6e4e5e",
       "version_major": 2,
       "version_minor": 0
      },
      "text/plain": [
       "Epoch [305/1000]:   0%|          | 0/10 [00:00<?, ?it/s]"
      ]
     },
     "metadata": {},
     "output_type": "display_data"
    },
    {
     "name": "stdout",
     "output_type": "stream",
     "text": [
      "Epoch 305/1000 — Recon_U: 0.0279, Recon_L: 0.0237, SemiSup: 0.0122, Disc_Cat: 1.3400, Gen_Cat: 0.8919, Disc_Sty: 1.3802, Gen_Sty: 0.6857\n",
      "Validation Accuracy: 93.39%\n",
      "\n",
      "Weights saved to semisupervised_results/1000_epochs_adam_1000_samples/weights_*.pth\n"
     ]
    },
    {
     "data": {
      "application/vnd.jupyter.widget-view+json": {
       "model_id": "783f664c018d4b97a4e7267eb65c556c",
       "version_major": 2,
       "version_minor": 0
      },
      "text/plain": [
       "Epoch [306/1000]:   0%|          | 0/10 [00:00<?, ?it/s]"
      ]
     },
     "metadata": {},
     "output_type": "display_data"
    },
    {
     "name": "stdout",
     "output_type": "stream",
     "text": [
      "Epoch 306/1000 — Recon_U: 0.0283, Recon_L: 0.0235, SemiSup: 0.0362, Disc_Cat: 1.3441, Gen_Cat: 0.9058, Disc_Sty: 1.3769, Gen_Sty: 0.6810\n",
      "Validation Accuracy: 93.42%\n",
      "\n",
      "Weights saved to semisupervised_results/1000_epochs_adam_1000_samples/weights_*.pth\n"
     ]
    },
    {
     "data": {
      "application/vnd.jupyter.widget-view+json": {
       "model_id": "d90ff28fdf294ed6bf3745ee58aaaba9",
       "version_major": 2,
       "version_minor": 0
      },
      "text/plain": [
       "Epoch [307/1000]:   0%|          | 0/10 [00:00<?, ?it/s]"
      ]
     },
     "metadata": {},
     "output_type": "display_data"
    },
    {
     "name": "stdout",
     "output_type": "stream",
     "text": [
      "Epoch 307/1000 — Recon_U: 0.0275, Recon_L: 0.0237, SemiSup: 0.0391, Disc_Cat: 1.3371, Gen_Cat: 0.8887, Disc_Sty: 1.3665, Gen_Sty: 0.6832\n",
      "Validation Accuracy: 93.39%\n",
      "\n",
      "Weights saved to semisupervised_results/1000_epochs_adam_1000_samples/weights_*.pth\n"
     ]
    },
    {
     "data": {
      "application/vnd.jupyter.widget-view+json": {
       "model_id": "a751745e4b2e4223a46f52da5aa0be74",
       "version_major": 2,
       "version_minor": 0
      },
      "text/plain": [
       "Epoch [308/1000]:   0%|          | 0/10 [00:00<?, ?it/s]"
      ]
     },
     "metadata": {},
     "output_type": "display_data"
    },
    {
     "name": "stdout",
     "output_type": "stream",
     "text": [
      "Epoch 308/1000 — Recon_U: 0.0277, Recon_L: 0.0237, SemiSup: 0.0505, Disc_Cat: 1.3441, Gen_Cat: 0.9024, Disc_Sty: 1.3595, Gen_Sty: 0.6887\n",
      "Validation Accuracy: 93.36%\n",
      "\n",
      "Weights saved to semisupervised_results/1000_epochs_adam_1000_samples/weights_*.pth\n"
     ]
    },
    {
     "data": {
      "application/vnd.jupyter.widget-view+json": {
       "model_id": "1c2d6ce06305436daa19181562ae7922",
       "version_major": 2,
       "version_minor": 0
      },
      "text/plain": [
       "Epoch [309/1000]:   0%|          | 0/10 [00:00<?, ?it/s]"
      ]
     },
     "metadata": {},
     "output_type": "display_data"
    },
    {
     "name": "stdout",
     "output_type": "stream",
     "text": [
      "Epoch 309/1000 — Recon_U: 0.0285, Recon_L: 0.0235, SemiSup: 0.0156, Disc_Cat: 1.3314, Gen_Cat: 0.9545, Disc_Sty: 1.3559, Gen_Sty: 0.6925\n",
      "Validation Accuracy: 93.31%\n",
      "\n",
      "Weights saved to semisupervised_results/1000_epochs_adam_1000_samples/weights_*.pth\n"
     ]
    },
    {
     "data": {
      "application/vnd.jupyter.widget-view+json": {
       "model_id": "65a1357619af4ba4a3f3a2a9348cab0a",
       "version_major": 2,
       "version_minor": 0
      },
      "text/plain": [
       "Epoch [310/1000]:   0%|          | 0/10 [00:00<?, ?it/s]"
      ]
     },
     "metadata": {},
     "output_type": "display_data"
    },
    {
     "name": "stdout",
     "output_type": "stream",
     "text": [
      "Epoch 310/1000 — Recon_U: 0.0281, Recon_L: 0.0235, SemiSup: 0.0301, Disc_Cat: 1.3382, Gen_Cat: 0.8922, Disc_Sty: 1.3678, Gen_Sty: 0.6863\n",
      "Validation Accuracy: 93.39%\n",
      "\n",
      "Weights saved to semisupervised_results/1000_epochs_adam_1000_samples/weights_*.pth\n"
     ]
    },
    {
     "data": {
      "application/vnd.jupyter.widget-view+json": {
       "model_id": "e2b6150c55f243b4aa9a6f646859b720",
       "version_major": 2,
       "version_minor": 0
      },
      "text/plain": [
       "Epoch [311/1000]:   0%|          | 0/10 [00:00<?, ?it/s]"
      ]
     },
     "metadata": {},
     "output_type": "display_data"
    },
    {
     "name": "stdout",
     "output_type": "stream",
     "text": [
      "Epoch 311/1000 — Recon_U: 0.0287, Recon_L: 0.0235, SemiSup: 0.0201, Disc_Cat: 1.3350, Gen_Cat: 0.9233, Disc_Sty: 1.3846, Gen_Sty: 0.6763\n",
      "Validation Accuracy: 93.39%\n",
      "\n",
      "Weights saved to semisupervised_results/1000_epochs_adam_1000_samples/weights_*.pth\n"
     ]
    },
    {
     "data": {
      "application/vnd.jupyter.widget-view+json": {
       "model_id": "4e1c13d2a8904852b21af431de654009",
       "version_major": 2,
       "version_minor": 0
      },
      "text/plain": [
       "Epoch [312/1000]:   0%|          | 0/10 [00:00<?, ?it/s]"
      ]
     },
     "metadata": {},
     "output_type": "display_data"
    },
    {
     "name": "stdout",
     "output_type": "stream",
     "text": [
      "Epoch 312/1000 — Recon_U: 0.0283, Recon_L: 0.0237, SemiSup: 0.0152, Disc_Cat: 1.3311, Gen_Cat: 0.9120, Disc_Sty: 1.3933, Gen_Sty: 0.6741\n",
      "Validation Accuracy: 93.41%\n",
      "\n",
      "Weights saved to semisupervised_results/1000_epochs_adam_1000_samples/weights_*.pth\n"
     ]
    },
    {
     "data": {
      "application/vnd.jupyter.widget-view+json": {
       "model_id": "15076f98bac0418bb7d507829c9023f1",
       "version_major": 2,
       "version_minor": 0
      },
      "text/plain": [
       "Epoch [313/1000]:   0%|          | 0/10 [00:00<?, ?it/s]"
      ]
     },
     "metadata": {},
     "output_type": "display_data"
    },
    {
     "name": "stdout",
     "output_type": "stream",
     "text": [
      "Epoch 313/1000 — Recon_U: 0.0279, Recon_L: 0.0236, SemiSup: 0.0301, Disc_Cat: 1.3477, Gen_Cat: 0.8576, Disc_Sty: 1.3820, Gen_Sty: 0.6944\n",
      "Validation Accuracy: 93.49%\n",
      "\n",
      "Weights saved to semisupervised_results/1000_epochs_adam_1000_samples/weights_*.pth\n"
     ]
    },
    {
     "data": {
      "application/vnd.jupyter.widget-view+json": {
       "model_id": "108a041a43b641fe9904419e7a3304dd",
       "version_major": 2,
       "version_minor": 0
      },
      "text/plain": [
       "Epoch [314/1000]:   0%|          | 0/10 [00:00<?, ?it/s]"
      ]
     },
     "metadata": {},
     "output_type": "display_data"
    },
    {
     "name": "stdout",
     "output_type": "stream",
     "text": [
      "Epoch 314/1000 — Recon_U: 0.0282, Recon_L: 0.0236, SemiSup: 0.0099, Disc_Cat: 1.3382, Gen_Cat: 0.8930, Disc_Sty: 1.3806, Gen_Sty: 0.7071\n",
      "Validation Accuracy: 93.47%\n",
      "\n",
      "Weights saved to semisupervised_results/1000_epochs_adam_1000_samples/weights_*.pth\n"
     ]
    },
    {
     "data": {
      "application/vnd.jupyter.widget-view+json": {
       "model_id": "37f74cda9fd143da8013c079c00f8bd4",
       "version_major": 2,
       "version_minor": 0
      },
      "text/plain": [
       "Epoch [315/1000]:   0%|          | 0/10 [00:00<?, ?it/s]"
      ]
     },
     "metadata": {},
     "output_type": "display_data"
    },
    {
     "name": "stdout",
     "output_type": "stream",
     "text": [
      "Epoch 315/1000 — Recon_U: 0.0282, Recon_L: 0.0236, SemiSup: 0.0228, Disc_Cat: 1.3508, Gen_Cat: 0.8766, Disc_Sty: 1.3697, Gen_Sty: 0.7218\n",
      "Validation Accuracy: 93.49%\n",
      "\n",
      "Weights saved to semisupervised_results/1000_epochs_adam_1000_samples/weights_*.pth\n"
     ]
    },
    {
     "data": {
      "application/vnd.jupyter.widget-view+json": {
       "model_id": "611e7c07b1b54620993b88a782a74bee",
       "version_major": 2,
       "version_minor": 0
      },
      "text/plain": [
       "Epoch [316/1000]:   0%|          | 0/10 [00:00<?, ?it/s]"
      ]
     },
     "metadata": {},
     "output_type": "display_data"
    },
    {
     "name": "stdout",
     "output_type": "stream",
     "text": [
      "Epoch 316/1000 — Recon_U: 0.0283, Recon_L: 0.0235, SemiSup: 0.0184, Disc_Cat: 1.3438, Gen_Cat: 0.9120, Disc_Sty: 1.3734, Gen_Sty: 0.7271\n",
      "Validation Accuracy: 93.49%\n",
      "\n",
      "Weights saved to semisupervised_results/1000_epochs_adam_1000_samples/weights_*.pth\n"
     ]
    },
    {
     "data": {
      "application/vnd.jupyter.widget-view+json": {
       "model_id": "07fb4b85237440ca9acb0797072dbfaa",
       "version_major": 2,
       "version_minor": 0
      },
      "text/plain": [
       "Epoch [317/1000]:   0%|          | 0/10 [00:00<?, ?it/s]"
      ]
     },
     "metadata": {},
     "output_type": "display_data"
    },
    {
     "name": "stdout",
     "output_type": "stream",
     "text": [
      "Epoch 317/1000 — Recon_U: 0.0281, Recon_L: 0.0236, SemiSup: 0.0099, Disc_Cat: 1.3475, Gen_Cat: 0.8393, Disc_Sty: 1.3717, Gen_Sty: 0.7194\n",
      "Validation Accuracy: 93.41%\n",
      "\n",
      "Weights saved to semisupervised_results/1000_epochs_adam_1000_samples/weights_*.pth\n"
     ]
    },
    {
     "data": {
      "application/vnd.jupyter.widget-view+json": {
       "model_id": "4a10ba02bbd94df687efc18722fd75dc",
       "version_major": 2,
       "version_minor": 0
      },
      "text/plain": [
       "Epoch [318/1000]:   0%|          | 0/10 [00:00<?, ?it/s]"
      ]
     },
     "metadata": {},
     "output_type": "display_data"
    },
    {
     "name": "stdout",
     "output_type": "stream",
     "text": [
      "Epoch 318/1000 — Recon_U: 0.0285, Recon_L: 0.0235, SemiSup: 0.0201, Disc_Cat: 1.3432, Gen_Cat: 0.8876, Disc_Sty: 1.3833, Gen_Sty: 0.6981\n",
      "Validation Accuracy: 93.32%\n",
      "\n",
      "Weights saved to semisupervised_results/1000_epochs_adam_1000_samples/weights_*.pth\n"
     ]
    },
    {
     "data": {
      "application/vnd.jupyter.widget-view+json": {
       "model_id": "46ada6306ca84d9d8f79f0a9aa2bcd30",
       "version_major": 2,
       "version_minor": 0
      },
      "text/plain": [
       "Epoch [319/1000]:   0%|          | 0/10 [00:00<?, ?it/s]"
      ]
     },
     "metadata": {},
     "output_type": "display_data"
    },
    {
     "name": "stdout",
     "output_type": "stream",
     "text": [
      "Epoch 319/1000 — Recon_U: 0.0280, Recon_L: 0.0234, SemiSup: 0.0125, Disc_Cat: 1.3477, Gen_Cat: 0.8792, Disc_Sty: 1.3708, Gen_Sty: 0.6934\n",
      "Validation Accuracy: 93.32%\n",
      "\n",
      "Weights saved to semisupervised_results/1000_epochs_adam_1000_samples/weights_*.pth\n"
     ]
    },
    {
     "data": {
      "application/vnd.jupyter.widget-view+json": {
       "model_id": "8688a3f2a03e41c99b6977bd7ce3d1aa",
       "version_major": 2,
       "version_minor": 0
      },
      "text/plain": [
       "Epoch [320/1000]:   0%|          | 0/10 [00:00<?, ?it/s]"
      ]
     },
     "metadata": {},
     "output_type": "display_data"
    },
    {
     "name": "stdout",
     "output_type": "stream",
     "text": [
      "Epoch 320/1000 — Recon_U: 0.0284, Recon_L: 0.0234, SemiSup: 0.0133, Disc_Cat: 1.3367, Gen_Cat: 0.9248, Disc_Sty: 1.3772, Gen_Sty: 0.6778\n",
      "Validation Accuracy: 93.37%\n",
      "\n",
      "Weights saved to semisupervised_results/1000_epochs_adam_1000_samples/weights_*.pth\n"
     ]
    },
    {
     "data": {
      "application/vnd.jupyter.widget-view+json": {
       "model_id": "e79697a8928248cfa542d675e58a802d",
       "version_major": 2,
       "version_minor": 0
      },
      "text/plain": [
       "Epoch [321/1000]:   0%|          | 0/10 [00:00<?, ?it/s]"
      ]
     },
     "metadata": {},
     "output_type": "display_data"
    },
    {
     "name": "stdout",
     "output_type": "stream",
     "text": [
      "Epoch 321/1000 — Recon_U: 0.0276, Recon_L: 0.0231, SemiSup: 0.0192, Disc_Cat: 1.3390, Gen_Cat: 0.8887, Disc_Sty: 1.3753, Gen_Sty: 0.6734\n",
      "Validation Accuracy: 93.44%\n",
      "\n",
      "Weights saved to semisupervised_results/1000_epochs_adam_1000_samples/weights_*.pth\n"
     ]
    },
    {
     "data": {
      "application/vnd.jupyter.widget-view+json": {
       "model_id": "6e2b40598cf848a3b7075e78bb0e5a37",
       "version_major": 2,
       "version_minor": 0
      },
      "text/plain": [
       "Epoch [322/1000]:   0%|          | 0/10 [00:00<?, ?it/s]"
      ]
     },
     "metadata": {},
     "output_type": "display_data"
    },
    {
     "name": "stdout",
     "output_type": "stream",
     "text": [
      "Epoch 322/1000 — Recon_U: 0.0280, Recon_L: 0.0233, SemiSup: 0.0213, Disc_Cat: 1.3346, Gen_Cat: 0.9333, Disc_Sty: 1.3672, Gen_Sty: 0.6779\n",
      "Validation Accuracy: 93.41%\n",
      "\n",
      "Weights saved to semisupervised_results/1000_epochs_adam_1000_samples/weights_*.pth\n"
     ]
    },
    {
     "data": {
      "application/vnd.jupyter.widget-view+json": {
       "model_id": "0503832449494047be3f2802397773b5",
       "version_major": 2,
       "version_minor": 0
      },
      "text/plain": [
       "Epoch [323/1000]:   0%|          | 0/10 [00:00<?, ?it/s]"
      ]
     },
     "metadata": {},
     "output_type": "display_data"
    },
    {
     "name": "stdout",
     "output_type": "stream",
     "text": [
      "Epoch 323/1000 — Recon_U: 0.0274, Recon_L: 0.0232, SemiSup: 0.0056, Disc_Cat: 1.3218, Gen_Cat: 0.9698, Disc_Sty: 1.3610, Gen_Sty: 0.6872\n",
      "Validation Accuracy: 93.44%\n",
      "\n",
      "Weights saved to semisupervised_results/1000_epochs_adam_1000_samples/weights_*.pth\n"
     ]
    },
    {
     "data": {
      "application/vnd.jupyter.widget-view+json": {
       "model_id": "56def372dc6f46c19272874e8ead88a7",
       "version_major": 2,
       "version_minor": 0
      },
      "text/plain": [
       "Epoch [324/1000]:   0%|          | 0/10 [00:00<?, ?it/s]"
      ]
     },
     "metadata": {},
     "output_type": "display_data"
    },
    {
     "name": "stdout",
     "output_type": "stream",
     "text": [
      "Epoch 324/1000 — Recon_U: 0.0281, Recon_L: 0.0233, SemiSup: 0.0142, Disc_Cat: 1.3353, Gen_Cat: 0.9372, Disc_Sty: 1.3594, Gen_Sty: 0.6901\n",
      "Validation Accuracy: 93.41%\n",
      "\n",
      "Weights saved to semisupervised_results/1000_epochs_adam_1000_samples/weights_*.pth\n"
     ]
    },
    {
     "data": {
      "application/vnd.jupyter.widget-view+json": {
       "model_id": "889eb9b5404045d3997c34d388446cda",
       "version_major": 2,
       "version_minor": 0
      },
      "text/plain": [
       "Epoch [325/1000]:   0%|          | 0/10 [00:00<?, ?it/s]"
      ]
     },
     "metadata": {},
     "output_type": "display_data"
    },
    {
     "name": "stdout",
     "output_type": "stream",
     "text": [
      "Epoch 325/1000 — Recon_U: 0.0276, Recon_L: 0.0232, SemiSup: 0.0031, Disc_Cat: 1.3357, Gen_Cat: 0.9367, Disc_Sty: 1.3628, Gen_Sty: 0.6975\n",
      "Validation Accuracy: 93.37%\n",
      "\n",
      "Weights saved to semisupervised_results/1000_epochs_adam_1000_samples/weights_*.pth\n"
     ]
    },
    {
     "data": {
      "application/vnd.jupyter.widget-view+json": {
       "model_id": "7a4e5170244b442189dbaa1b2e51fd84",
       "version_major": 2,
       "version_minor": 0
      },
      "text/plain": [
       "Epoch [326/1000]:   0%|          | 0/10 [00:00<?, ?it/s]"
      ]
     },
     "metadata": {},
     "output_type": "display_data"
    },
    {
     "name": "stdout",
     "output_type": "stream",
     "text": [
      "Epoch 326/1000 — Recon_U: 0.0276, Recon_L: 0.0232, SemiSup: 0.0113, Disc_Cat: 1.3376, Gen_Cat: 0.8892, Disc_Sty: 1.3754, Gen_Sty: 0.6976\n",
      "Validation Accuracy: 93.37%\n",
      "\n",
      "Weights saved to semisupervised_results/1000_epochs_adam_1000_samples/weights_*.pth\n"
     ]
    },
    {
     "data": {
      "application/vnd.jupyter.widget-view+json": {
       "model_id": "37a29810533a41d981127ddc35e73304",
       "version_major": 2,
       "version_minor": 0
      },
      "text/plain": [
       "Epoch [327/1000]:   0%|          | 0/10 [00:00<?, ?it/s]"
      ]
     },
     "metadata": {},
     "output_type": "display_data"
    },
    {
     "name": "stdout",
     "output_type": "stream",
     "text": [
      "Epoch 327/1000 — Recon_U: 0.0276, Recon_L: 0.0232, SemiSup: 0.0067, Disc_Cat: 1.3351, Gen_Cat: 0.9125, Disc_Sty: 1.3853, Gen_Sty: 0.6955\n",
      "Validation Accuracy: 93.44%\n",
      "\n",
      "Weights saved to semisupervised_results/1000_epochs_adam_1000_samples/weights_*.pth\n"
     ]
    },
    {
     "data": {
      "application/vnd.jupyter.widget-view+json": {
       "model_id": "ffbc78584ebd45829bf574d08f046dae",
       "version_major": 2,
       "version_minor": 0
      },
      "text/plain": [
       "Epoch [328/1000]:   0%|          | 0/10 [00:00<?, ?it/s]"
      ]
     },
     "metadata": {},
     "output_type": "display_data"
    },
    {
     "name": "stdout",
     "output_type": "stream",
     "text": [
      "Epoch 328/1000 — Recon_U: 0.0282, Recon_L: 0.0234, SemiSup: 0.0143, Disc_Cat: 1.3383, Gen_Cat: 0.9149, Disc_Sty: 1.3940, Gen_Sty: 0.6945\n",
      "Validation Accuracy: 93.46%\n",
      "\n",
      "Weights saved to semisupervised_results/1000_epochs_adam_1000_samples/weights_*.pth\n"
     ]
    },
    {
     "data": {
      "application/vnd.jupyter.widget-view+json": {
       "model_id": "04d7bd533b4c4d4daabe62bf45f716a4",
       "version_major": 2,
       "version_minor": 0
      },
      "text/plain": [
       "Epoch [329/1000]:   0%|          | 0/10 [00:00<?, ?it/s]"
      ]
     },
     "metadata": {},
     "output_type": "display_data"
    },
    {
     "name": "stdout",
     "output_type": "stream",
     "text": [
      "Epoch 329/1000 — Recon_U: 0.0275, Recon_L: 0.0233, SemiSup: 0.0235, Disc_Cat: 1.3392, Gen_Cat: 0.9054, Disc_Sty: 1.3847, Gen_Sty: 0.7103\n",
      "Validation Accuracy: 93.53%\n",
      "\n",
      "Weights saved to semisupervised_results/1000_epochs_adam_1000_samples/weights_*.pth\n"
     ]
    },
    {
     "data": {
      "application/vnd.jupyter.widget-view+json": {
       "model_id": "a7536e7627a94bdea94648befd349919",
       "version_major": 2,
       "version_minor": 0
      },
      "text/plain": [
       "Epoch [330/1000]:   0%|          | 0/10 [00:00<?, ?it/s]"
      ]
     },
     "metadata": {},
     "output_type": "display_data"
    },
    {
     "name": "stdout",
     "output_type": "stream",
     "text": [
      "Epoch 330/1000 — Recon_U: 0.0283, Recon_L: 0.0233, SemiSup: 0.0100, Disc_Cat: 1.3374, Gen_Cat: 0.9178, Disc_Sty: 1.3873, Gen_Sty: 0.7119\n",
      "Validation Accuracy: 93.46%\n",
      "\n",
      "Weights saved to semisupervised_results/1000_epochs_adam_1000_samples/weights_*.pth\n"
     ]
    },
    {
     "data": {
      "application/vnd.jupyter.widget-view+json": {
       "model_id": "12e307e99ca9434589714feab05f0ddc",
       "version_major": 2,
       "version_minor": 0
      },
      "text/plain": [
       "Epoch [331/1000]:   0%|          | 0/10 [00:00<?, ?it/s]"
      ]
     },
     "metadata": {},
     "output_type": "display_data"
    },
    {
     "name": "stdout",
     "output_type": "stream",
     "text": [
      "Epoch 331/1000 — Recon_U: 0.0288, Recon_L: 0.0233, SemiSup: 0.0081, Disc_Cat: 1.3389, Gen_Cat: 0.9007, Disc_Sty: 1.3737, Gen_Sty: 0.7216\n",
      "Validation Accuracy: 93.44%\n",
      "\n",
      "Weights saved to semisupervised_results/1000_epochs_adam_1000_samples/weights_*.pth\n"
     ]
    },
    {
     "data": {
      "application/vnd.jupyter.widget-view+json": {
       "model_id": "a2eb4d9cadd14547a978c6d1d97fc9e6",
       "version_major": 2,
       "version_minor": 0
      },
      "text/plain": [
       "Epoch [332/1000]:   0%|          | 0/10 [00:00<?, ?it/s]"
      ]
     },
     "metadata": {},
     "output_type": "display_data"
    },
    {
     "name": "stdout",
     "output_type": "stream",
     "text": [
      "Epoch 332/1000 — Recon_U: 0.0277, Recon_L: 0.0232, SemiSup: 0.0206, Disc_Cat: 1.3477, Gen_Cat: 0.8931, Disc_Sty: 1.3745, Gen_Sty: 0.7139\n",
      "Validation Accuracy: 93.42%\n",
      "\n",
      "Weights saved to semisupervised_results/1000_epochs_adam_1000_samples/weights_*.pth\n"
     ]
    },
    {
     "data": {
      "application/vnd.jupyter.widget-view+json": {
       "model_id": "a3192ee85db8435ab7979b487b7b7c85",
       "version_major": 2,
       "version_minor": 0
      },
      "text/plain": [
       "Epoch [333/1000]:   0%|          | 0/10 [00:00<?, ?it/s]"
      ]
     },
     "metadata": {},
     "output_type": "display_data"
    },
    {
     "name": "stdout",
     "output_type": "stream",
     "text": [
      "Epoch 333/1000 — Recon_U: 0.0274, Recon_L: 0.0232, SemiSup: 0.0289, Disc_Cat: 1.3408, Gen_Cat: 0.9105, Disc_Sty: 1.3674, Gen_Sty: 0.7080\n",
      "Validation Accuracy: 93.56%\n",
      "\n",
      "Weights saved to semisupervised_results/1000_epochs_adam_1000_samples/weights_*.pth\n"
     ]
    },
    {
     "data": {
      "application/vnd.jupyter.widget-view+json": {
       "model_id": "869be8e9bc2e4640a8bc4eb663605251",
       "version_major": 2,
       "version_minor": 0
      },
      "text/plain": [
       "Epoch [334/1000]:   0%|          | 0/10 [00:00<?, ?it/s]"
      ]
     },
     "metadata": {},
     "output_type": "display_data"
    },
    {
     "name": "stdout",
     "output_type": "stream",
     "text": [
      "Epoch 334/1000 — Recon_U: 0.0282, Recon_L: 0.0233, SemiSup: 0.0237, Disc_Cat: 1.3368, Gen_Cat: 0.8894, Disc_Sty: 1.3729, Gen_Sty: 0.6879\n",
      "Validation Accuracy: 93.53%\n",
      "\n",
      "Weights saved to semisupervised_results/1000_epochs_adam_1000_samples/weights_*.pth\n"
     ]
    },
    {
     "data": {
      "application/vnd.jupyter.widget-view+json": {
       "model_id": "5c5a971cc2da455c95df4cec50ff26d1",
       "version_major": 2,
       "version_minor": 0
      },
      "text/plain": [
       "Epoch [335/1000]:   0%|          | 0/10 [00:00<?, ?it/s]"
      ]
     },
     "metadata": {},
     "output_type": "display_data"
    },
    {
     "name": "stdout",
     "output_type": "stream",
     "text": [
      "Epoch 335/1000 — Recon_U: 0.0281, Recon_L: 0.0231, SemiSup: 0.0158, Disc_Cat: 1.3263, Gen_Cat: 0.9778, Disc_Sty: 1.3742, Gen_Sty: 0.6778\n",
      "Validation Accuracy: 93.51%\n",
      "\n",
      "Weights saved to semisupervised_results/1000_epochs_adam_1000_samples/weights_*.pth\n"
     ]
    },
    {
     "data": {
      "application/vnd.jupyter.widget-view+json": {
       "model_id": "4dc60f293b404ae9be02841bec9c0a9f",
       "version_major": 2,
       "version_minor": 0
      },
      "text/plain": [
       "Epoch [336/1000]:   0%|          | 0/10 [00:00<?, ?it/s]"
      ]
     },
     "metadata": {},
     "output_type": "display_data"
    },
    {
     "name": "stdout",
     "output_type": "stream",
     "text": [
      "Epoch 336/1000 — Recon_U: 0.0277, Recon_L: 0.0231, SemiSup: 0.0177, Disc_Cat: 1.3389, Gen_Cat: 0.8978, Disc_Sty: 1.3753, Gen_Sty: 0.6659\n",
      "Validation Accuracy: 93.54%\n",
      "\n",
      "Weights saved to semisupervised_results/1000_epochs_adam_1000_samples/weights_*.pth\n"
     ]
    },
    {
     "data": {
      "application/vnd.jupyter.widget-view+json": {
       "model_id": "cd87747dba6b4e698b07ce1b8b4d4972",
       "version_major": 2,
       "version_minor": 0
      },
      "text/plain": [
       "Epoch [337/1000]:   0%|          | 0/10 [00:00<?, ?it/s]"
      ]
     },
     "metadata": {},
     "output_type": "display_data"
    },
    {
     "name": "stdout",
     "output_type": "stream",
     "text": [
      "Epoch 337/1000 — Recon_U: 0.0272, Recon_L: 0.0230, SemiSup: 0.0274, Disc_Cat: 1.3272, Gen_Cat: 0.9267, Disc_Sty: 1.3857, Gen_Sty: 0.6598\n",
      "Validation Accuracy: 93.56%\n",
      "\n",
      "Weights saved to semisupervised_results/1000_epochs_adam_1000_samples/weights_*.pth\n"
     ]
    },
    {
     "data": {
      "application/vnd.jupyter.widget-view+json": {
       "model_id": "4ad797c4eccb4709a9626c29bd6ed8cd",
       "version_major": 2,
       "version_minor": 0
      },
      "text/plain": [
       "Epoch [338/1000]:   0%|          | 0/10 [00:00<?, ?it/s]"
      ]
     },
     "metadata": {},
     "output_type": "display_data"
    },
    {
     "name": "stdout",
     "output_type": "stream",
     "text": [
      "Epoch 338/1000 — Recon_U: 0.0281, Recon_L: 0.0230, SemiSup: 0.0217, Disc_Cat: 1.3432, Gen_Cat: 0.9176, Disc_Sty: 1.3779, Gen_Sty: 0.6698\n",
      "Validation Accuracy: 93.58%\n",
      "\n",
      "Weights saved to semisupervised_results/1000_epochs_adam_1000_samples/weights_*.pth\n"
     ]
    },
    {
     "data": {
      "application/vnd.jupyter.widget-view+json": {
       "model_id": "2d541e78e76f42d6a3e0f28609c527b2",
       "version_major": 2,
       "version_minor": 0
      },
      "text/plain": [
       "Epoch [339/1000]:   0%|          | 0/10 [00:00<?, ?it/s]"
      ]
     },
     "metadata": {},
     "output_type": "display_data"
    },
    {
     "name": "stdout",
     "output_type": "stream",
     "text": [
      "Epoch 339/1000 — Recon_U: 0.0272, Recon_L: 0.0229, SemiSup: 0.0081, Disc_Cat: 1.3392, Gen_Cat: 0.9168, Disc_Sty: 1.3710, Gen_Sty: 0.6845\n",
      "Validation Accuracy: 93.54%\n",
      "\n",
      "Weights saved to semisupervised_results/1000_epochs_adam_1000_samples/weights_*.pth\n"
     ]
    },
    {
     "data": {
      "application/vnd.jupyter.widget-view+json": {
       "model_id": "a9a7bba7acc846af9cbec0e045627ef8",
       "version_major": 2,
       "version_minor": 0
      },
      "text/plain": [
       "Epoch [340/1000]:   0%|          | 0/10 [00:00<?, ?it/s]"
      ]
     },
     "metadata": {},
     "output_type": "display_data"
    },
    {
     "name": "stdout",
     "output_type": "stream",
     "text": [
      "Epoch 340/1000 — Recon_U: 0.0283, Recon_L: 0.0229, SemiSup: 0.0115, Disc_Cat: 1.3330, Gen_Cat: 0.9020, Disc_Sty: 1.3584, Gen_Sty: 0.7146\n",
      "Validation Accuracy: 93.54%\n",
      "\n",
      "Weights saved to semisupervised_results/1000_epochs_adam_1000_samples/weights_*.pth\n"
     ]
    },
    {
     "data": {
      "application/vnd.jupyter.widget-view+json": {
       "model_id": "61ab852b72374185bf02c620a7db145d",
       "version_major": 2,
       "version_minor": 0
      },
      "text/plain": [
       "Epoch [341/1000]:   0%|          | 0/10 [00:00<?, ?it/s]"
      ]
     },
     "metadata": {},
     "output_type": "display_data"
    },
    {
     "name": "stdout",
     "output_type": "stream",
     "text": [
      "Epoch 341/1000 — Recon_U: 0.0272, Recon_L: 0.0230, SemiSup: 0.0053, Disc_Cat: 1.3382, Gen_Cat: 0.9138, Disc_Sty: 1.3516, Gen_Sty: 0.7457\n",
      "Validation Accuracy: 93.56%\n",
      "\n",
      "Weights saved to semisupervised_results/1000_epochs_adam_1000_samples/weights_*.pth\n"
     ]
    },
    {
     "data": {
      "application/vnd.jupyter.widget-view+json": {
       "model_id": "bc91baec002340068937109691592b89",
       "version_major": 2,
       "version_minor": 0
      },
      "text/plain": [
       "Epoch [342/1000]:   0%|          | 0/10 [00:00<?, ?it/s]"
      ]
     },
     "metadata": {},
     "output_type": "display_data"
    },
    {
     "name": "stdout",
     "output_type": "stream",
     "text": [
      "Epoch 342/1000 — Recon_U: 0.0279, Recon_L: 0.0230, SemiSup: 0.0386, Disc_Cat: 1.3389, Gen_Cat: 0.9137, Disc_Sty: 1.3737, Gen_Sty: 0.7302\n",
      "Validation Accuracy: 93.51%\n",
      "\n",
      "Weights saved to semisupervised_results/1000_epochs_adam_1000_samples/weights_*.pth\n"
     ]
    },
    {
     "data": {
      "application/vnd.jupyter.widget-view+json": {
       "model_id": "57950ecf55b94947a421320d4a57e10a",
       "version_major": 2,
       "version_minor": 0
      },
      "text/plain": [
       "Epoch [343/1000]:   0%|          | 0/10 [00:00<?, ?it/s]"
      ]
     },
     "metadata": {},
     "output_type": "display_data"
    },
    {
     "name": "stdout",
     "output_type": "stream",
     "text": [
      "Epoch 343/1000 — Recon_U: 0.0289, Recon_L: 0.0232, SemiSup: 0.0166, Disc_Cat: 1.3364, Gen_Cat: 0.9293, Disc_Sty: 1.3951, Gen_Sty: 0.7134\n",
      "Validation Accuracy: 93.46%\n",
      "\n",
      "Weights saved to semisupervised_results/1000_epochs_adam_1000_samples/weights_*.pth\n"
     ]
    },
    {
     "data": {
      "application/vnd.jupyter.widget-view+json": {
       "model_id": "a709750202e94828b765905c9019ef63",
       "version_major": 2,
       "version_minor": 0
      },
      "text/plain": [
       "Epoch [344/1000]:   0%|          | 0/10 [00:00<?, ?it/s]"
      ]
     },
     "metadata": {},
     "output_type": "display_data"
    },
    {
     "name": "stdout",
     "output_type": "stream",
     "text": [
      "Epoch 344/1000 — Recon_U: 0.0281, Recon_L: 0.0233, SemiSup: 0.0633, Disc_Cat: 1.3419, Gen_Cat: 0.8812, Disc_Sty: 1.4066, Gen_Sty: 0.6967\n",
      "Validation Accuracy: 93.53%\n",
      "\n",
      "Weights saved to semisupervised_results/1000_epochs_adam_1000_samples/weights_*.pth\n"
     ]
    },
    {
     "data": {
      "application/vnd.jupyter.widget-view+json": {
       "model_id": "33d85724dead43c8972b54155dd73332",
       "version_major": 2,
       "version_minor": 0
      },
      "text/plain": [
       "Epoch [345/1000]:   0%|          | 0/10 [00:00<?, ?it/s]"
      ]
     },
     "metadata": {},
     "output_type": "display_data"
    },
    {
     "name": "stdout",
     "output_type": "stream",
     "text": [
      "Epoch 345/1000 — Recon_U: 0.0274, Recon_L: 0.0234, SemiSup: 0.0231, Disc_Cat: 1.3312, Gen_Cat: 0.9233, Disc_Sty: 1.4062, Gen_Sty: 0.6903\n",
      "Validation Accuracy: 93.59%\n",
      "\n",
      "Weights saved to semisupervised_results/1000_epochs_adam_1000_samples/weights_*.pth\n"
     ]
    },
    {
     "data": {
      "application/vnd.jupyter.widget-view+json": {
       "model_id": "e0f80d61072346f6a27c5300475780d3",
       "version_major": 2,
       "version_minor": 0
      },
      "text/plain": [
       "Epoch [346/1000]:   0%|          | 0/10 [00:00<?, ?it/s]"
      ]
     },
     "metadata": {},
     "output_type": "display_data"
    },
    {
     "name": "stdout",
     "output_type": "stream",
     "text": [
      "Epoch 346/1000 — Recon_U: 0.0282, Recon_L: 0.0232, SemiSup: 0.0075, Disc_Cat: 1.3337, Gen_Cat: 0.9069, Disc_Sty: 1.3874, Gen_Sty: 0.7051\n",
      "Validation Accuracy: 93.61%\n",
      "\n",
      "Weights saved to semisupervised_results/1000_epochs_adam_1000_samples/weights_*.pth\n"
     ]
    },
    {
     "data": {
      "application/vnd.jupyter.widget-view+json": {
       "model_id": "ac3216f0be334c5c9b7556b907db1b36",
       "version_major": 2,
       "version_minor": 0
      },
      "text/plain": [
       "Epoch [347/1000]:   0%|          | 0/10 [00:00<?, ?it/s]"
      ]
     },
     "metadata": {},
     "output_type": "display_data"
    },
    {
     "name": "stdout",
     "output_type": "stream",
     "text": [
      "Epoch 347/1000 — Recon_U: 0.0274, Recon_L: 0.0232, SemiSup: 0.0462, Disc_Cat: 1.3448, Gen_Cat: 0.8614, Disc_Sty: 1.3802, Gen_Sty: 0.7048\n",
      "Validation Accuracy: 93.59%\n",
      "\n",
      "Weights saved to semisupervised_results/1000_epochs_adam_1000_samples/weights_*.pth\n"
     ]
    },
    {
     "data": {
      "application/vnd.jupyter.widget-view+json": {
       "model_id": "f4f83abd9fb346a9bb3e08579fb0a01d",
       "version_major": 2,
       "version_minor": 0
      },
      "text/plain": [
       "Epoch [348/1000]:   0%|          | 0/10 [00:00<?, ?it/s]"
      ]
     },
     "metadata": {},
     "output_type": "display_data"
    },
    {
     "name": "stdout",
     "output_type": "stream",
     "text": [
      "Epoch 348/1000 — Recon_U: 0.0271, Recon_L: 0.0230, SemiSup: 0.0111, Disc_Cat: 1.3266, Gen_Cat: 0.9537, Disc_Sty: 1.3704, Gen_Sty: 0.7032\n",
      "Validation Accuracy: 93.53%\n",
      "\n",
      "Weights saved to semisupervised_results/1000_epochs_adam_1000_samples/weights_*.pth\n"
     ]
    },
    {
     "data": {
      "application/vnd.jupyter.widget-view+json": {
       "model_id": "4e210d66968b4df18e6828fddb9702f0",
       "version_major": 2,
       "version_minor": 0
      },
      "text/plain": [
       "Epoch [349/1000]:   0%|          | 0/10 [00:00<?, ?it/s]"
      ]
     },
     "metadata": {},
     "output_type": "display_data"
    },
    {
     "name": "stdout",
     "output_type": "stream",
     "text": [
      "Epoch 349/1000 — Recon_U: 0.0275, Recon_L: 0.0229, SemiSup: 0.0214, Disc_Cat: 1.3331, Gen_Cat: 0.9470, Disc_Sty: 1.3751, Gen_Sty: 0.6944\n",
      "Validation Accuracy: 93.58%\n",
      "\n",
      "Weights saved to semisupervised_results/1000_epochs_adam_1000_samples/weights_*.pth\n"
     ]
    },
    {
     "data": {
      "application/vnd.jupyter.widget-view+json": {
       "model_id": "81058e94899f485f8767f1a1c2286032",
       "version_major": 2,
       "version_minor": 0
      },
      "text/plain": [
       "Epoch [350/1000]:   0%|          | 0/10 [00:00<?, ?it/s]"
      ]
     },
     "metadata": {},
     "output_type": "display_data"
    },
    {
     "name": "stdout",
     "output_type": "stream",
     "text": [
      "Epoch 350/1000 — Recon_U: 0.0279, Recon_L: 0.0228, SemiSup: 0.0071, Disc_Cat: 1.3356, Gen_Cat: 0.9186, Disc_Sty: 1.3789, Gen_Sty: 0.6866\n",
      "Validation Accuracy: 93.49%\n",
      "\n",
      "Weights saved to semisupervised_results/1000_epochs_adam_1000_samples/weights_epoch_350/weights_*.pth\n",
      "Weights saved to semisupervised_results/1000_epochs_adam_1000_samples/weights_*.pth\n"
     ]
    },
    {
     "data": {
      "application/vnd.jupyter.widget-view+json": {
       "model_id": "616e12c7787541818262324b090823e5",
       "version_major": 2,
       "version_minor": 0
      },
      "text/plain": [
       "Epoch [351/1000]:   0%|          | 0/10 [00:00<?, ?it/s]"
      ]
     },
     "metadata": {},
     "output_type": "display_data"
    },
    {
     "name": "stdout",
     "output_type": "stream",
     "text": [
      "Epoch 351/1000 — Recon_U: 0.0278, Recon_L: 0.0229, SemiSup: 0.0147, Disc_Cat: 1.3459, Gen_Cat: 0.8699, Disc_Sty: 1.3766, Gen_Sty: 0.6846\n",
      "Validation Accuracy: 93.46%\n",
      "\n",
      "Weights saved to semisupervised_results/1000_epochs_adam_1000_samples/weights_*.pth\n"
     ]
    },
    {
     "data": {
      "application/vnd.jupyter.widget-view+json": {
       "model_id": "d2253e3ab969430abf2d96de413e4133",
       "version_major": 2,
       "version_minor": 0
      },
      "text/plain": [
       "Epoch [352/1000]:   0%|          | 0/10 [00:00<?, ?it/s]"
      ]
     },
     "metadata": {},
     "output_type": "display_data"
    },
    {
     "name": "stdout",
     "output_type": "stream",
     "text": [
      "Epoch 352/1000 — Recon_U: 0.0275, Recon_L: 0.0227, SemiSup: 0.0312, Disc_Cat: 1.3419, Gen_Cat: 0.8935, Disc_Sty: 1.3794, Gen_Sty: 0.6802\n",
      "Validation Accuracy: 93.49%\n",
      "\n",
      "Weights saved to semisupervised_results/1000_epochs_adam_1000_samples/weights_*.pth\n"
     ]
    },
    {
     "data": {
      "application/vnd.jupyter.widget-view+json": {
       "model_id": "f4237f69e64a4d1a9c6d43d41d3eaa05",
       "version_major": 2,
       "version_minor": 0
      },
      "text/plain": [
       "Epoch [353/1000]:   0%|          | 0/10 [00:00<?, ?it/s]"
      ]
     },
     "metadata": {},
     "output_type": "display_data"
    },
    {
     "name": "stdout",
     "output_type": "stream",
     "text": [
      "Epoch 353/1000 — Recon_U: 0.0270, Recon_L: 0.0227, SemiSup: 0.0209, Disc_Cat: 1.3259, Gen_Cat: 0.9337, Disc_Sty: 1.3784, Gen_Sty: 0.6849\n",
      "Validation Accuracy: 93.53%\n",
      "\n",
      "Weights saved to semisupervised_results/1000_epochs_adam_1000_samples/weights_*.pth\n"
     ]
    },
    {
     "data": {
      "application/vnd.jupyter.widget-view+json": {
       "model_id": "a8d8eafd106d474ba804cebab10d538d",
       "version_major": 2,
       "version_minor": 0
      },
      "text/plain": [
       "Epoch [354/1000]:   0%|          | 0/10 [00:00<?, ?it/s]"
      ]
     },
     "metadata": {},
     "output_type": "display_data"
    },
    {
     "name": "stdout",
     "output_type": "stream",
     "text": [
      "Epoch 354/1000 — Recon_U: 0.0270, Recon_L: 0.0228, SemiSup: 0.0118, Disc_Cat: 1.3356, Gen_Cat: 0.9400, Disc_Sty: 1.3807, Gen_Sty: 0.6913\n",
      "Validation Accuracy: 93.51%\n",
      "\n",
      "Weights saved to semisupervised_results/1000_epochs_adam_1000_samples/weights_*.pth\n"
     ]
    },
    {
     "data": {
      "application/vnd.jupyter.widget-view+json": {
       "model_id": "4f03c3d1df58405d99b81ac2b2fdcb73",
       "version_major": 2,
       "version_minor": 0
      },
      "text/plain": [
       "Epoch [355/1000]:   0%|          | 0/10 [00:00<?, ?it/s]"
      ]
     },
     "metadata": {},
     "output_type": "display_data"
    },
    {
     "name": "stdout",
     "output_type": "stream",
     "text": [
      "Epoch 355/1000 — Recon_U: 0.0275, Recon_L: 0.0228, SemiSup: 0.0217, Disc_Cat: 1.3362, Gen_Cat: 0.9205, Disc_Sty: 1.3783, Gen_Sty: 0.7023\n",
      "Validation Accuracy: 93.61%\n",
      "\n",
      "Weights saved to semisupervised_results/1000_epochs_adam_1000_samples/weights_*.pth\n"
     ]
    },
    {
     "data": {
      "application/vnd.jupyter.widget-view+json": {
       "model_id": "3fe8d26244a8464bbabb0d3204f4e4ba",
       "version_major": 2,
       "version_minor": 0
      },
      "text/plain": [
       "Epoch [356/1000]:   0%|          | 0/10 [00:00<?, ?it/s]"
      ]
     },
     "metadata": {},
     "output_type": "display_data"
    },
    {
     "name": "stdout",
     "output_type": "stream",
     "text": [
      "Epoch 356/1000 — Recon_U: 0.0278, Recon_L: 0.0228, SemiSup: 0.0071, Disc_Cat: 1.3336, Gen_Cat: 0.9382, Disc_Sty: 1.3739, Gen_Sty: 0.7173\n",
      "Validation Accuracy: 93.49%\n",
      "\n",
      "Weights saved to semisupervised_results/1000_epochs_adam_1000_samples/weights_*.pth\n"
     ]
    },
    {
     "data": {
      "application/vnd.jupyter.widget-view+json": {
       "model_id": "87ee78095bd94fff8af083e71a5a58e6",
       "version_major": 2,
       "version_minor": 0
      },
      "text/plain": [
       "Epoch [357/1000]:   0%|          | 0/10 [00:00<?, ?it/s]"
      ]
     },
     "metadata": {},
     "output_type": "display_data"
    },
    {
     "name": "stdout",
     "output_type": "stream",
     "text": [
      "Epoch 357/1000 — Recon_U: 0.0279, Recon_L: 0.0228, SemiSup: 0.0202, Disc_Cat: 1.3380, Gen_Cat: 0.9301, Disc_Sty: 1.3657, Gen_Sty: 0.7347\n",
      "Validation Accuracy: 93.51%\n",
      "\n",
      "Weights saved to semisupervised_results/1000_epochs_adam_1000_samples/weights_*.pth\n"
     ]
    },
    {
     "data": {
      "application/vnd.jupyter.widget-view+json": {
       "model_id": "dc95fa4cc3184bbb86253e7dde8130a4",
       "version_major": 2,
       "version_minor": 0
      },
      "text/plain": [
       "Epoch [358/1000]:   0%|          | 0/10 [00:00<?, ?it/s]"
      ]
     },
     "metadata": {},
     "output_type": "display_data"
    },
    {
     "name": "stdout",
     "output_type": "stream",
     "text": [
      "Epoch 358/1000 — Recon_U: 0.0276, Recon_L: 0.0230, SemiSup: 0.0185, Disc_Cat: 1.3337, Gen_Cat: 0.9120, Disc_Sty: 1.3689, Gen_Sty: 0.7261\n",
      "Validation Accuracy: 93.56%\n",
      "\n",
      "Weights saved to semisupervised_results/1000_epochs_adam_1000_samples/weights_*.pth\n"
     ]
    },
    {
     "data": {
      "application/vnd.jupyter.widget-view+json": {
       "model_id": "f1d30cbbecda43de89b13293f68ddf1d",
       "version_major": 2,
       "version_minor": 0
      },
      "text/plain": [
       "Epoch [359/1000]:   0%|          | 0/10 [00:00<?, ?it/s]"
      ]
     },
     "metadata": {},
     "output_type": "display_data"
    },
    {
     "name": "stdout",
     "output_type": "stream",
     "text": [
      "Epoch 359/1000 — Recon_U: 0.0274, Recon_L: 0.0229, SemiSup: 0.0302, Disc_Cat: 1.3366, Gen_Cat: 0.9192, Disc_Sty: 1.3713, Gen_Sty: 0.7175\n",
      "Validation Accuracy: 93.49%\n",
      "\n",
      "Weights saved to semisupervised_results/1000_epochs_adam_1000_samples/weights_*.pth\n"
     ]
    },
    {
     "data": {
      "application/vnd.jupyter.widget-view+json": {
       "model_id": "dc3cfde67a4f41ef9eb5f95520e03c62",
       "version_major": 2,
       "version_minor": 0
      },
      "text/plain": [
       "Epoch [360/1000]:   0%|          | 0/10 [00:00<?, ?it/s]"
      ]
     },
     "metadata": {},
     "output_type": "display_data"
    },
    {
     "name": "stdout",
     "output_type": "stream",
     "text": [
      "Epoch 360/1000 — Recon_U: 0.0275, Recon_L: 0.0229, SemiSup: 0.0033, Disc_Cat: 1.3369, Gen_Cat: 0.9317, Disc_Sty: 1.3916, Gen_Sty: 0.6958\n",
      "Validation Accuracy: 93.46%\n",
      "\n",
      "Weights saved to semisupervised_results/1000_epochs_adam_1000_samples/weights_*.pth\n"
     ]
    },
    {
     "data": {
      "application/vnd.jupyter.widget-view+json": {
       "model_id": "4194d53ddfc949f599f611cd6828062b",
       "version_major": 2,
       "version_minor": 0
      },
      "text/plain": [
       "Epoch [361/1000]:   0%|          | 0/10 [00:00<?, ?it/s]"
      ]
     },
     "metadata": {},
     "output_type": "display_data"
    },
    {
     "name": "stdout",
     "output_type": "stream",
     "text": [
      "Epoch 361/1000 — Recon_U: 0.0273, Recon_L: 0.0229, SemiSup: 0.0175, Disc_Cat: 1.3433, Gen_Cat: 0.8769, Disc_Sty: 1.3944, Gen_Sty: 0.6827\n",
      "Validation Accuracy: 93.49%\n",
      "\n",
      "Weights saved to semisupervised_results/1000_epochs_adam_1000_samples/weights_*.pth\n"
     ]
    },
    {
     "data": {
      "application/vnd.jupyter.widget-view+json": {
       "model_id": "73935aa6dd73495da83f75bede706d82",
       "version_major": 2,
       "version_minor": 0
      },
      "text/plain": [
       "Epoch [362/1000]:   0%|          | 0/10 [00:00<?, ?it/s]"
      ]
     },
     "metadata": {},
     "output_type": "display_data"
    },
    {
     "name": "stdout",
     "output_type": "stream",
     "text": [
      "Epoch 362/1000 — Recon_U: 0.0284, Recon_L: 0.0229, SemiSup: 0.0115, Disc_Cat: 1.3497, Gen_Cat: 0.8715, Disc_Sty: 1.4007, Gen_Sty: 0.6669\n",
      "Validation Accuracy: 93.42%\n",
      "\n",
      "Weights saved to semisupervised_results/1000_epochs_adam_1000_samples/weights_*.pth\n"
     ]
    },
    {
     "data": {
      "application/vnd.jupyter.widget-view+json": {
       "model_id": "9e59c2801c984b4295b4ea9a570abea6",
       "version_major": 2,
       "version_minor": 0
      },
      "text/plain": [
       "Epoch [363/1000]:   0%|          | 0/10 [00:00<?, ?it/s]"
      ]
     },
     "metadata": {},
     "output_type": "display_data"
    },
    {
     "name": "stdout",
     "output_type": "stream",
     "text": [
      "Epoch 363/1000 — Recon_U: 0.0278, Recon_L: 0.0228, SemiSup: 0.0097, Disc_Cat: 1.3327, Gen_Cat: 0.9271, Disc_Sty: 1.3983, Gen_Sty: 0.6761\n",
      "Validation Accuracy: 93.44%\n",
      "\n",
      "Weights saved to semisupervised_results/1000_epochs_adam_1000_samples/weights_*.pth\n"
     ]
    },
    {
     "data": {
      "application/vnd.jupyter.widget-view+json": {
       "model_id": "fab5ac748149482cbd70ad2c57b8c6b7",
       "version_major": 2,
       "version_minor": 0
      },
      "text/plain": [
       "Epoch [364/1000]:   0%|          | 0/10 [00:00<?, ?it/s]"
      ]
     },
     "metadata": {},
     "output_type": "display_data"
    },
    {
     "name": "stdout",
     "output_type": "stream",
     "text": [
      "Epoch 364/1000 — Recon_U: 0.0280, Recon_L: 0.0227, SemiSup: 0.0047, Disc_Cat: 1.3322, Gen_Cat: 0.9438, Disc_Sty: 1.3762, Gen_Sty: 0.6984\n",
      "Validation Accuracy: 93.41%\n",
      "\n",
      "Weights saved to semisupervised_results/1000_epochs_adam_1000_samples/weights_*.pth\n"
     ]
    },
    {
     "data": {
      "application/vnd.jupyter.widget-view+json": {
       "model_id": "2a1bf3b31fbb4fc1818a0453c97a67c3",
       "version_major": 2,
       "version_minor": 0
      },
      "text/plain": [
       "Epoch [365/1000]:   0%|          | 0/10 [00:00<?, ?it/s]"
      ]
     },
     "metadata": {},
     "output_type": "display_data"
    },
    {
     "name": "stdout",
     "output_type": "stream",
     "text": [
      "Epoch 365/1000 — Recon_U: 0.0283, Recon_L: 0.0228, SemiSup: 0.0055, Disc_Cat: 1.3200, Gen_Cat: 0.9763, Disc_Sty: 1.3628, Gen_Sty: 0.7199\n",
      "Validation Accuracy: 93.37%\n",
      "\n",
      "Weights saved to semisupervised_results/1000_epochs_adam_1000_samples/weights_*.pth\n"
     ]
    },
    {
     "data": {
      "application/vnd.jupyter.widget-view+json": {
       "model_id": "a4932c0846c5493fb87e775da362cca3",
       "version_major": 2,
       "version_minor": 0
      },
      "text/plain": [
       "Epoch [366/1000]:   0%|          | 0/10 [00:00<?, ?it/s]"
      ]
     },
     "metadata": {},
     "output_type": "display_data"
    },
    {
     "name": "stdout",
     "output_type": "stream",
     "text": [
      "Epoch 366/1000 — Recon_U: 0.0271, Recon_L: 0.0227, SemiSup: 0.0154, Disc_Cat: 1.3399, Gen_Cat: 0.9084, Disc_Sty: 1.3626, Gen_Sty: 0.7318\n",
      "Validation Accuracy: 93.37%\n",
      "\n",
      "Weights saved to semisupervised_results/1000_epochs_adam_1000_samples/weights_*.pth\n"
     ]
    },
    {
     "data": {
      "application/vnd.jupyter.widget-view+json": {
       "model_id": "6bb4fab5014840efa66f2d85dbdc9750",
       "version_major": 2,
       "version_minor": 0
      },
      "text/plain": [
       "Epoch [367/1000]:   0%|          | 0/10 [00:00<?, ?it/s]"
      ]
     },
     "metadata": {},
     "output_type": "display_data"
    },
    {
     "name": "stdout",
     "output_type": "stream",
     "text": [
      "Epoch 367/1000 — Recon_U: 0.0272, Recon_L: 0.0228, SemiSup: 0.0109, Disc_Cat: 1.3516, Gen_Cat: 0.8956, Disc_Sty: 1.3717, Gen_Sty: 0.7223\n",
      "Validation Accuracy: 93.41%\n",
      "\n",
      "Weights saved to semisupervised_results/1000_epochs_adam_1000_samples/weights_*.pth\n"
     ]
    },
    {
     "data": {
      "application/vnd.jupyter.widget-view+json": {
       "model_id": "128ec58ffe7943cfb989cc1683277ec0",
       "version_major": 2,
       "version_minor": 0
      },
      "text/plain": [
       "Epoch [368/1000]:   0%|          | 0/10 [00:00<?, ?it/s]"
      ]
     },
     "metadata": {},
     "output_type": "display_data"
    },
    {
     "name": "stdout",
     "output_type": "stream",
     "text": [
      "Epoch 368/1000 — Recon_U: 0.0277, Recon_L: 0.0226, SemiSup: 0.0124, Disc_Cat: 1.3285, Gen_Cat: 0.9436, Disc_Sty: 1.3813, Gen_Sty: 0.6950\n",
      "Validation Accuracy: 93.36%\n",
      "\n",
      "Weights saved to semisupervised_results/1000_epochs_adam_1000_samples/weights_*.pth\n"
     ]
    },
    {
     "data": {
      "application/vnd.jupyter.widget-view+json": {
       "model_id": "05da8238982642a48d9e6b5990377278",
       "version_major": 2,
       "version_minor": 0
      },
      "text/plain": [
       "Epoch [369/1000]:   0%|          | 0/10 [00:00<?, ?it/s]"
      ]
     },
     "metadata": {},
     "output_type": "display_data"
    },
    {
     "name": "stdout",
     "output_type": "stream",
     "text": [
      "Epoch 369/1000 — Recon_U: 0.0275, Recon_L: 0.0225, SemiSup: 0.0157, Disc_Cat: 1.3417, Gen_Cat: 0.9170, Disc_Sty: 1.3927, Gen_Sty: 0.6758\n",
      "Validation Accuracy: 93.32%\n",
      "\n",
      "Weights saved to semisupervised_results/1000_epochs_adam_1000_samples/weights_*.pth\n"
     ]
    },
    {
     "data": {
      "application/vnd.jupyter.widget-view+json": {
       "model_id": "683eda655b3f41ed9885a67d6cdddd17",
       "version_major": 2,
       "version_minor": 0
      },
      "text/plain": [
       "Epoch [370/1000]:   0%|          | 0/10 [00:00<?, ?it/s]"
      ]
     },
     "metadata": {},
     "output_type": "display_data"
    },
    {
     "name": "stdout",
     "output_type": "stream",
     "text": [
      "Epoch 370/1000 — Recon_U: 0.0273, Recon_L: 0.0226, SemiSup: 0.0010, Disc_Cat: 1.3460, Gen_Cat: 0.9056, Disc_Sty: 1.3931, Gen_Sty: 0.6680\n",
      "Validation Accuracy: 93.41%\n",
      "\n",
      "Weights saved to semisupervised_results/1000_epochs_adam_1000_samples/weights_*.pth\n"
     ]
    },
    {
     "data": {
      "application/vnd.jupyter.widget-view+json": {
       "model_id": "33b973e4c64f43db9ce4295b832c65b0",
       "version_major": 2,
       "version_minor": 0
      },
      "text/plain": [
       "Epoch [371/1000]:   0%|          | 0/10 [00:00<?, ?it/s]"
      ]
     },
     "metadata": {},
     "output_type": "display_data"
    },
    {
     "name": "stdout",
     "output_type": "stream",
     "text": [
      "Epoch 371/1000 — Recon_U: 0.0282, Recon_L: 0.0226, SemiSup: 0.0112, Disc_Cat: 1.3450, Gen_Cat: 0.8550, Disc_Sty: 1.3850, Gen_Sty: 0.6760\n",
      "Validation Accuracy: 93.44%\n",
      "\n",
      "Weights saved to semisupervised_results/1000_epochs_adam_1000_samples/weights_*.pth\n"
     ]
    },
    {
     "data": {
      "application/vnd.jupyter.widget-view+json": {
       "model_id": "f4b04fdad1984899ae333d90059958c0",
       "version_major": 2,
       "version_minor": 0
      },
      "text/plain": [
       "Epoch [372/1000]:   0%|          | 0/10 [00:00<?, ?it/s]"
      ]
     },
     "metadata": {},
     "output_type": "display_data"
    },
    {
     "name": "stdout",
     "output_type": "stream",
     "text": [
      "Epoch 372/1000 — Recon_U: 0.0276, Recon_L: 0.0225, SemiSup: 0.0214, Disc_Cat: 1.3417, Gen_Cat: 0.9119, Disc_Sty: 1.3737, Gen_Sty: 0.6893\n",
      "Validation Accuracy: 93.47%\n",
      "\n",
      "Weights saved to semisupervised_results/1000_epochs_adam_1000_samples/weights_*.pth\n"
     ]
    },
    {
     "data": {
      "application/vnd.jupyter.widget-view+json": {
       "model_id": "cc52330497c74daa85a685be35e09746",
       "version_major": 2,
       "version_minor": 0
      },
      "text/plain": [
       "Epoch [373/1000]:   0%|          | 0/10 [00:00<?, ?it/s]"
      ]
     },
     "metadata": {},
     "output_type": "display_data"
    },
    {
     "name": "stdout",
     "output_type": "stream",
     "text": [
      "Epoch 373/1000 — Recon_U: 0.0277, Recon_L: 0.0226, SemiSup: 0.0096, Disc_Cat: 1.3371, Gen_Cat: 0.9277, Disc_Sty: 1.3670, Gen_Sty: 0.7013\n",
      "Validation Accuracy: 93.42%\n",
      "\n",
      "Weights saved to semisupervised_results/1000_epochs_adam_1000_samples/weights_*.pth\n"
     ]
    },
    {
     "data": {
      "application/vnd.jupyter.widget-view+json": {
       "model_id": "5db3e54e700649d5a0a3278421657145",
       "version_major": 2,
       "version_minor": 0
      },
      "text/plain": [
       "Epoch [374/1000]:   0%|          | 0/10 [00:00<?, ?it/s]"
      ]
     },
     "metadata": {},
     "output_type": "display_data"
    },
    {
     "name": "stdout",
     "output_type": "stream",
     "text": [
      "Epoch 374/1000 — Recon_U: 0.0274, Recon_L: 0.0228, SemiSup: 0.0282, Disc_Cat: 1.3397, Gen_Cat: 0.8833, Disc_Sty: 1.3696, Gen_Sty: 0.7119\n",
      "Validation Accuracy: 93.47%\n",
      "\n",
      "Weights saved to semisupervised_results/1000_epochs_adam_1000_samples/weights_*.pth\n"
     ]
    },
    {
     "data": {
      "application/vnd.jupyter.widget-view+json": {
       "model_id": "66ef22bc5a5b441795a881b895ff0a2d",
       "version_major": 2,
       "version_minor": 0
      },
      "text/plain": [
       "Epoch [375/1000]:   0%|          | 0/10 [00:00<?, ?it/s]"
      ]
     },
     "metadata": {},
     "output_type": "display_data"
    },
    {
     "name": "stdout",
     "output_type": "stream",
     "text": [
      "Epoch 375/1000 — Recon_U: 0.0279, Recon_L: 0.0227, SemiSup: 0.0030, Disc_Cat: 1.3441, Gen_Cat: 0.9046, Disc_Sty: 1.3852, Gen_Sty: 0.7120\n",
      "Validation Accuracy: 93.51%\n",
      "\n",
      "Weights saved to semisupervised_results/1000_epochs_adam_1000_samples/weights_*.pth\n"
     ]
    },
    {
     "data": {
      "application/vnd.jupyter.widget-view+json": {
       "model_id": "42be6a3e7c974be9aa9c9359f94408be",
       "version_major": 2,
       "version_minor": 0
      },
      "text/plain": [
       "Epoch [376/1000]:   0%|          | 0/10 [00:00<?, ?it/s]"
      ]
     },
     "metadata": {},
     "output_type": "display_data"
    },
    {
     "name": "stdout",
     "output_type": "stream",
     "text": [
      "Epoch 376/1000 — Recon_U: 0.0273, Recon_L: 0.0228, SemiSup: 0.0318, Disc_Cat: 1.3374, Gen_Cat: 0.9240, Disc_Sty: 1.3975, Gen_Sty: 0.7100\n",
      "Validation Accuracy: 93.47%\n",
      "\n",
      "Weights saved to semisupervised_results/1000_epochs_adam_1000_samples/weights_*.pth\n"
     ]
    },
    {
     "data": {
      "application/vnd.jupyter.widget-view+json": {
       "model_id": "5cf0fb600f994fa59f62ba6adcdb37e5",
       "version_major": 2,
       "version_minor": 0
      },
      "text/plain": [
       "Epoch [377/1000]:   0%|          | 0/10 [00:00<?, ?it/s]"
      ]
     },
     "metadata": {},
     "output_type": "display_data"
    },
    {
     "name": "stdout",
     "output_type": "stream",
     "text": [
      "Epoch 377/1000 — Recon_U: 0.0283, Recon_L: 0.0228, SemiSup: 0.0184, Disc_Cat: 1.3501, Gen_Cat: 0.8604, Disc_Sty: 1.4031, Gen_Sty: 0.7152\n",
      "Validation Accuracy: 93.47%\n",
      "\n",
      "Weights saved to semisupervised_results/1000_epochs_adam_1000_samples/weights_*.pth\n"
     ]
    },
    {
     "data": {
      "application/vnd.jupyter.widget-view+json": {
       "model_id": "438e484725754829bd32b7bfe795fcf4",
       "version_major": 2,
       "version_minor": 0
      },
      "text/plain": [
       "Epoch [378/1000]:   0%|          | 0/10 [00:00<?, ?it/s]"
      ]
     },
     "metadata": {},
     "output_type": "display_data"
    },
    {
     "name": "stdout",
     "output_type": "stream",
     "text": [
      "Epoch 378/1000 — Recon_U: 0.0276, Recon_L: 0.0227, SemiSup: 0.0347, Disc_Cat: 1.3469, Gen_Cat: 0.8710, Disc_Sty: 1.4025, Gen_Sty: 0.7104\n",
      "Validation Accuracy: 93.51%\n",
      "\n",
      "Weights saved to semisupervised_results/1000_epochs_adam_1000_samples/weights_*.pth\n"
     ]
    },
    {
     "data": {
      "application/vnd.jupyter.widget-view+json": {
       "model_id": "9effe79bbaf24c51bb768e72a1059d9b",
       "version_major": 2,
       "version_minor": 0
      },
      "text/plain": [
       "Epoch [379/1000]:   0%|          | 0/10 [00:00<?, ?it/s]"
      ]
     },
     "metadata": {},
     "output_type": "display_data"
    },
    {
     "name": "stdout",
     "output_type": "stream",
     "text": [
      "Epoch 379/1000 — Recon_U: 0.0275, Recon_L: 0.0226, SemiSup: 0.0089, Disc_Cat: 1.3384, Gen_Cat: 0.9233, Disc_Sty: 1.4033, Gen_Sty: 0.7056\n",
      "Validation Accuracy: 93.54%\n",
      "\n",
      "Weights saved to semisupervised_results/1000_epochs_adam_1000_samples/weights_*.pth\n"
     ]
    },
    {
     "data": {
      "application/vnd.jupyter.widget-view+json": {
       "model_id": "eecc919719464823a89cfbc6067dd351",
       "version_major": 2,
       "version_minor": 0
      },
      "text/plain": [
       "Epoch [380/1000]:   0%|          | 0/10 [00:00<?, ?it/s]"
      ]
     },
     "metadata": {},
     "output_type": "display_data"
    },
    {
     "name": "stdout",
     "output_type": "stream",
     "text": [
      "Epoch 380/1000 — Recon_U: 0.0273, Recon_L: 0.0226, SemiSup: 0.0314, Disc_Cat: 1.3407, Gen_Cat: 0.9176, Disc_Sty: 1.3854, Gen_Sty: 0.7097\n",
      "Validation Accuracy: 93.54%\n",
      "\n",
      "Weights saved to semisupervised_results/1000_epochs_adam_1000_samples/weights_*.pth\n"
     ]
    },
    {
     "data": {
      "application/vnd.jupyter.widget-view+json": {
       "model_id": "6c1f2177382e41f3a7a2f8dea02c7e9b",
       "version_major": 2,
       "version_minor": 0
      },
      "text/plain": [
       "Epoch [381/1000]:   0%|          | 0/10 [00:00<?, ?it/s]"
      ]
     },
     "metadata": {},
     "output_type": "display_data"
    },
    {
     "name": "stdout",
     "output_type": "stream",
     "text": [
      "Epoch 381/1000 — Recon_U: 0.0279, Recon_L: 0.0226, SemiSup: 0.0106, Disc_Cat: 1.3436, Gen_Cat: 0.8992, Disc_Sty: 1.3821, Gen_Sty: 0.7050\n",
      "Validation Accuracy: 93.49%\n",
      "\n",
      "Weights saved to semisupervised_results/1000_epochs_adam_1000_samples/weights_*.pth\n"
     ]
    },
    {
     "data": {
      "application/vnd.jupyter.widget-view+json": {
       "model_id": "245dcda7443945ad987ac3e426fd1798",
       "version_major": 2,
       "version_minor": 0
      },
      "text/plain": [
       "Epoch [382/1000]:   0%|          | 0/10 [00:00<?, ?it/s]"
      ]
     },
     "metadata": {},
     "output_type": "display_data"
    },
    {
     "name": "stdout",
     "output_type": "stream",
     "text": [
      "Epoch 382/1000 — Recon_U: 0.0268, Recon_L: 0.0223, SemiSup: 0.0295, Disc_Cat: 1.3213, Gen_Cat: 0.9714, Disc_Sty: 1.3712, Gen_Sty: 0.6997\n",
      "Validation Accuracy: 93.49%\n",
      "\n",
      "Weights saved to semisupervised_results/1000_epochs_adam_1000_samples/weights_*.pth\n"
     ]
    },
    {
     "data": {
      "application/vnd.jupyter.widget-view+json": {
       "model_id": "131f1f47fe96402eaeeb41380dc8ae74",
       "version_major": 2,
       "version_minor": 0
      },
      "text/plain": [
       "Epoch [383/1000]:   0%|          | 0/10 [00:00<?, ?it/s]"
      ]
     },
     "metadata": {},
     "output_type": "display_data"
    },
    {
     "name": "stdout",
     "output_type": "stream",
     "text": [
      "Epoch 383/1000 — Recon_U: 0.0273, Recon_L: 0.0224, SemiSup: 0.0374, Disc_Cat: 1.3439, Gen_Cat: 0.9233, Disc_Sty: 1.3777, Gen_Sty: 0.6884\n",
      "Validation Accuracy: 93.46%\n",
      "\n",
      "Weights saved to semisupervised_results/1000_epochs_adam_1000_samples/weights_*.pth\n"
     ]
    },
    {
     "data": {
      "application/vnd.jupyter.widget-view+json": {
       "model_id": "4d9bc7f8aec240b4b1a2c40598520c32",
       "version_major": 2,
       "version_minor": 0
      },
      "text/plain": [
       "Epoch [384/1000]:   0%|          | 0/10 [00:00<?, ?it/s]"
      ]
     },
     "metadata": {},
     "output_type": "display_data"
    },
    {
     "name": "stdout",
     "output_type": "stream",
     "text": [
      "Epoch 384/1000 — Recon_U: 0.0278, Recon_L: 0.0222, SemiSup: 0.0406, Disc_Cat: 1.3331, Gen_Cat: 0.9766, Disc_Sty: 1.3714, Gen_Sty: 0.6823\n",
      "Validation Accuracy: 93.47%\n",
      "\n",
      "Weights saved to semisupervised_results/1000_epochs_adam_1000_samples/weights_*.pth\n"
     ]
    },
    {
     "data": {
      "application/vnd.jupyter.widget-view+json": {
       "model_id": "e59a5b61b6f943329fa5b62db20b1ae4",
       "version_major": 2,
       "version_minor": 0
      },
      "text/plain": [
       "Epoch [385/1000]:   0%|          | 0/10 [00:00<?, ?it/s]"
      ]
     },
     "metadata": {},
     "output_type": "display_data"
    },
    {
     "name": "stdout",
     "output_type": "stream",
     "text": [
      "Epoch 385/1000 — Recon_U: 0.0271, Recon_L: 0.0223, SemiSup: 0.0291, Disc_Cat: 1.3430, Gen_Cat: 0.9119, Disc_Sty: 1.3811, Gen_Sty: 0.6704\n",
      "Validation Accuracy: 93.56%\n",
      "\n",
      "Weights saved to semisupervised_results/1000_epochs_adam_1000_samples/weights_*.pth\n"
     ]
    },
    {
     "data": {
      "application/vnd.jupyter.widget-view+json": {
       "model_id": "04bf1240e12046dfb6c3703b4da89fe1",
       "version_major": 2,
       "version_minor": 0
      },
      "text/plain": [
       "Epoch [386/1000]:   0%|          | 0/10 [00:00<?, ?it/s]"
      ]
     },
     "metadata": {},
     "output_type": "display_data"
    },
    {
     "name": "stdout",
     "output_type": "stream",
     "text": [
      "Epoch 386/1000 — Recon_U: 0.0268, Recon_L: 0.0222, SemiSup: 0.0219, Disc_Cat: 1.3364, Gen_Cat: 0.9267, Disc_Sty: 1.3792, Gen_Sty: 0.6698\n",
      "Validation Accuracy: 93.63%\n",
      "\n",
      "Weights saved to semisupervised_results/1000_epochs_adam_1000_samples/weights_*.pth\n"
     ]
    },
    {
     "data": {
      "application/vnd.jupyter.widget-view+json": {
       "model_id": "c1922e0232b944eba3e443e45be6b4a4",
       "version_major": 2,
       "version_minor": 0
      },
      "text/plain": [
       "Epoch [387/1000]:   0%|          | 0/10 [00:00<?, ?it/s]"
      ]
     },
     "metadata": {},
     "output_type": "display_data"
    },
    {
     "name": "stdout",
     "output_type": "stream",
     "text": [
      "Epoch 387/1000 — Recon_U: 0.0273, Recon_L: 0.0221, SemiSup: 0.0194, Disc_Cat: 1.3428, Gen_Cat: 0.9256, Disc_Sty: 1.3908, Gen_Sty: 0.6605\n",
      "Validation Accuracy: 93.56%\n",
      "\n",
      "Weights saved to semisupervised_results/1000_epochs_adam_1000_samples/weights_*.pth\n"
     ]
    },
    {
     "data": {
      "application/vnd.jupyter.widget-view+json": {
       "model_id": "b4be2334274b4a52bac6c7d936d6cfe7",
       "version_major": 2,
       "version_minor": 0
      },
      "text/plain": [
       "Epoch [388/1000]:   0%|          | 0/10 [00:00<?, ?it/s]"
      ]
     },
     "metadata": {},
     "output_type": "display_data"
    },
    {
     "name": "stdout",
     "output_type": "stream",
     "text": [
      "Epoch 388/1000 — Recon_U: 0.0273, Recon_L: 0.0221, SemiSup: 0.0143, Disc_Cat: 1.3376, Gen_Cat: 0.9337, Disc_Sty: 1.3819, Gen_Sty: 0.6755\n",
      "Validation Accuracy: 93.53%\n",
      "\n",
      "Weights saved to semisupervised_results/1000_epochs_adam_1000_samples/weights_*.pth\n"
     ]
    },
    {
     "data": {
      "application/vnd.jupyter.widget-view+json": {
       "model_id": "a6991672673f406f87241af30cb5e67b",
       "version_major": 2,
       "version_minor": 0
      },
      "text/plain": [
       "Epoch [389/1000]:   0%|          | 0/10 [00:00<?, ?it/s]"
      ]
     },
     "metadata": {},
     "output_type": "display_data"
    },
    {
     "name": "stdout",
     "output_type": "stream",
     "text": [
      "Epoch 389/1000 — Recon_U: 0.0272, Recon_L: 0.0221, SemiSup: 0.0090, Disc_Cat: 1.3382, Gen_Cat: 0.8845, Disc_Sty: 1.3733, Gen_Sty: 0.6963\n",
      "Validation Accuracy: 93.54%\n",
      "\n",
      "Weights saved to semisupervised_results/1000_epochs_adam_1000_samples/weights_*.pth\n"
     ]
    },
    {
     "data": {
      "application/vnd.jupyter.widget-view+json": {
       "model_id": "a2c61bfa75eb410e991bcdb7bbfdc022",
       "version_major": 2,
       "version_minor": 0
      },
      "text/plain": [
       "Epoch [390/1000]:   0%|          | 0/10 [00:00<?, ?it/s]"
      ]
     },
     "metadata": {},
     "output_type": "display_data"
    },
    {
     "name": "stdout",
     "output_type": "stream",
     "text": [
      "Epoch 390/1000 — Recon_U: 0.0267, Recon_L: 0.0223, SemiSup: 0.0305, Disc_Cat: 1.3318, Gen_Cat: 0.8961, Disc_Sty: 1.3642, Gen_Sty: 0.7170\n",
      "Validation Accuracy: 93.47%\n",
      "\n",
      "Weights saved to semisupervised_results/1000_epochs_adam_1000_samples/weights_*.pth\n"
     ]
    },
    {
     "data": {
      "application/vnd.jupyter.widget-view+json": {
       "model_id": "f499ed6bc16f4325a2b0c8e287b20471",
       "version_major": 2,
       "version_minor": 0
      },
      "text/plain": [
       "Epoch [391/1000]:   0%|          | 0/10 [00:00<?, ?it/s]"
      ]
     },
     "metadata": {},
     "output_type": "display_data"
    },
    {
     "name": "stdout",
     "output_type": "stream",
     "text": [
      "Epoch 391/1000 — Recon_U: 0.0279, Recon_L: 0.0223, SemiSup: 0.0237, Disc_Cat: 1.3420, Gen_Cat: 0.9546, Disc_Sty: 1.3803, Gen_Sty: 0.7246\n",
      "Validation Accuracy: 93.56%\n",
      "\n",
      "Weights saved to semisupervised_results/1000_epochs_adam_1000_samples/weights_*.pth\n"
     ]
    },
    {
     "data": {
      "application/vnd.jupyter.widget-view+json": {
       "model_id": "41b184114b684df5ace9e66815fdc667",
       "version_major": 2,
       "version_minor": 0
      },
      "text/plain": [
       "Epoch [392/1000]:   0%|          | 0/10 [00:00<?, ?it/s]"
      ]
     },
     "metadata": {},
     "output_type": "display_data"
    },
    {
     "name": "stdout",
     "output_type": "stream",
     "text": [
      "Epoch 392/1000 — Recon_U: 0.0270, Recon_L: 0.0224, SemiSup: 0.0166, Disc_Cat: 1.3377, Gen_Cat: 0.9249, Disc_Sty: 1.3787, Gen_Sty: 0.7240\n",
      "Validation Accuracy: 93.59%\n",
      "\n",
      "Weights saved to semisupervised_results/1000_epochs_adam_1000_samples/weights_*.pth\n"
     ]
    },
    {
     "data": {
      "application/vnd.jupyter.widget-view+json": {
       "model_id": "33eb66db2cc747a9b6c6918a3e50eb09",
       "version_major": 2,
       "version_minor": 0
      },
      "text/plain": [
       "Epoch [393/1000]:   0%|          | 0/10 [00:00<?, ?it/s]"
      ]
     },
     "metadata": {},
     "output_type": "display_data"
    },
    {
     "name": "stdout",
     "output_type": "stream",
     "text": [
      "Epoch 393/1000 — Recon_U: 0.0282, Recon_L: 0.0226, SemiSup: 0.0097, Disc_Cat: 1.3372, Gen_Cat: 0.8997, Disc_Sty: 1.4005, Gen_Sty: 0.7064\n",
      "Validation Accuracy: 93.56%\n",
      "\n",
      "Weights saved to semisupervised_results/1000_epochs_adam_1000_samples/weights_*.pth\n"
     ]
    },
    {
     "data": {
      "application/vnd.jupyter.widget-view+json": {
       "model_id": "4dd14c3003f34770816a28cd217b438a",
       "version_major": 2,
       "version_minor": 0
      },
      "text/plain": [
       "Epoch [394/1000]:   0%|          | 0/10 [00:00<?, ?it/s]"
      ]
     },
     "metadata": {},
     "output_type": "display_data"
    },
    {
     "name": "stdout",
     "output_type": "stream",
     "text": [
      "Epoch 394/1000 — Recon_U: 0.0274, Recon_L: 0.0225, SemiSup: 0.0034, Disc_Cat: 1.3374, Gen_Cat: 0.9180, Disc_Sty: 1.3949, Gen_Sty: 0.7126\n",
      "Validation Accuracy: 93.47%\n",
      "\n",
      "Weights saved to semisupervised_results/1000_epochs_adam_1000_samples/weights_*.pth\n"
     ]
    },
    {
     "data": {
      "application/vnd.jupyter.widget-view+json": {
       "model_id": "708edc52595847afb65960c22bd90cc5",
       "version_major": 2,
       "version_minor": 0
      },
      "text/plain": [
       "Epoch [395/1000]:   0%|          | 0/10 [00:00<?, ?it/s]"
      ]
     },
     "metadata": {},
     "output_type": "display_data"
    },
    {
     "name": "stdout",
     "output_type": "stream",
     "text": [
      "Epoch 395/1000 — Recon_U: 0.0272, Recon_L: 0.0224, SemiSup: 0.0216, Disc_Cat: 1.3474, Gen_Cat: 0.8457, Disc_Sty: 1.3838, Gen_Sty: 0.7133\n",
      "Validation Accuracy: 93.53%\n",
      "\n",
      "Weights saved to semisupervised_results/1000_epochs_adam_1000_samples/weights_*.pth\n"
     ]
    },
    {
     "data": {
      "application/vnd.jupyter.widget-view+json": {
       "model_id": "f84c7c6b3fc14b4fbe2685f51b404c9c",
       "version_major": 2,
       "version_minor": 0
      },
      "text/plain": [
       "Epoch [396/1000]:   0%|          | 0/10 [00:00<?, ?it/s]"
      ]
     },
     "metadata": {},
     "output_type": "display_data"
    },
    {
     "name": "stdout",
     "output_type": "stream",
     "text": [
      "Epoch 396/1000 — Recon_U: 0.0285, Recon_L: 0.0223, SemiSup: 0.0065, Disc_Cat: 1.3283, Gen_Cat: 0.9543, Disc_Sty: 1.3886, Gen_Sty: 0.7024\n",
      "Validation Accuracy: 93.46%\n",
      "\n",
      "Weights saved to semisupervised_results/1000_epochs_adam_1000_samples/weights_*.pth\n"
     ]
    },
    {
     "data": {
      "application/vnd.jupyter.widget-view+json": {
       "model_id": "8d7b2cdbb7c64d86aa93e6605daa88b9",
       "version_major": 2,
       "version_minor": 0
      },
      "text/plain": [
       "Epoch [397/1000]:   0%|          | 0/10 [00:00<?, ?it/s]"
      ]
     },
     "metadata": {},
     "output_type": "display_data"
    },
    {
     "name": "stdout",
     "output_type": "stream",
     "text": [
      "Epoch 397/1000 — Recon_U: 0.0281, Recon_L: 0.0224, SemiSup: 0.0096, Disc_Cat: 1.3287, Gen_Cat: 0.9639, Disc_Sty: 1.3897, Gen_Sty: 0.6894\n",
      "Validation Accuracy: 93.41%\n",
      "\n",
      "Weights saved to semisupervised_results/1000_epochs_adam_1000_samples/weights_*.pth\n"
     ]
    },
    {
     "data": {
      "application/vnd.jupyter.widget-view+json": {
       "model_id": "7f1519e3b3bf4cc5af1410b481aeb3b0",
       "version_major": 2,
       "version_minor": 0
      },
      "text/plain": [
       "Epoch [398/1000]:   0%|          | 0/10 [00:00<?, ?it/s]"
      ]
     },
     "metadata": {},
     "output_type": "display_data"
    },
    {
     "name": "stdout",
     "output_type": "stream",
     "text": [
      "Epoch 398/1000 — Recon_U: 0.0265, Recon_L: 0.0223, SemiSup: 0.0091, Disc_Cat: 1.3380, Gen_Cat: 0.8977, Disc_Sty: 1.4049, Gen_Sty: 0.6684\n",
      "Validation Accuracy: 93.42%\n",
      "\n",
      "Weights saved to semisupervised_results/1000_epochs_adam_1000_samples/weights_*.pth\n"
     ]
    },
    {
     "data": {
      "application/vnd.jupyter.widget-view+json": {
       "model_id": "2137dddd3efb483f82c972b50c01aeba",
       "version_major": 2,
       "version_minor": 0
      },
      "text/plain": [
       "Epoch [399/1000]:   0%|          | 0/10 [00:00<?, ?it/s]"
      ]
     },
     "metadata": {},
     "output_type": "display_data"
    },
    {
     "name": "stdout",
     "output_type": "stream",
     "text": [
      "Epoch 399/1000 — Recon_U: 0.0277, Recon_L: 0.0222, SemiSup: 0.0097, Disc_Cat: 1.3455, Gen_Cat: 0.9011, Disc_Sty: 1.4140, Gen_Sty: 0.6620\n",
      "Validation Accuracy: 93.41%\n",
      "\n",
      "Weights saved to semisupervised_results/1000_epochs_adam_1000_samples/weights_*.pth\n"
     ]
    },
    {
     "data": {
      "application/vnd.jupyter.widget-view+json": {
       "model_id": "a027184b2a3a447e9d42ca7c43ae5620",
       "version_major": 2,
       "version_minor": 0
      },
      "text/plain": [
       "Epoch [400/1000]:   0%|          | 0/10 [00:00<?, ?it/s]"
      ]
     },
     "metadata": {},
     "output_type": "display_data"
    },
    {
     "name": "stdout",
     "output_type": "stream",
     "text": [
      "Epoch 400/1000 — Recon_U: 0.0264, Recon_L: 0.0222, SemiSup: 0.0115, Disc_Cat: 1.3341, Gen_Cat: 0.9359, Disc_Sty: 1.3964, Gen_Sty: 0.6805\n",
      "Validation Accuracy: 93.42%\n",
      "\n",
      "Weights saved to semisupervised_results/1000_epochs_adam_1000_samples/weights_epoch_400/weights_*.pth\n",
      "Weights saved to semisupervised_results/1000_epochs_adam_1000_samples/weights_*.pth\n"
     ]
    },
    {
     "data": {
      "application/vnd.jupyter.widget-view+json": {
       "model_id": "510a2a86c10e40bb9d7b36af4b1360f8",
       "version_major": 2,
       "version_minor": 0
      },
      "text/plain": [
       "Epoch [401/1000]:   0%|          | 0/10 [00:00<?, ?it/s]"
      ]
     },
     "metadata": {},
     "output_type": "display_data"
    },
    {
     "name": "stdout",
     "output_type": "stream",
     "text": [
      "Epoch 401/1000 — Recon_U: 0.0265, Recon_L: 0.0222, SemiSup: 0.0125, Disc_Cat: 1.3333, Gen_Cat: 0.9328, Disc_Sty: 1.3725, Gen_Sty: 0.7086\n",
      "Validation Accuracy: 93.47%\n",
      "\n",
      "Weights saved to semisupervised_results/1000_epochs_adam_1000_samples/weights_*.pth\n"
     ]
    },
    {
     "data": {
      "application/vnd.jupyter.widget-view+json": {
       "model_id": "2c9b45de0ac640ba8f20a80fce594e70",
       "version_major": 2,
       "version_minor": 0
      },
      "text/plain": [
       "Epoch [402/1000]:   0%|          | 0/10 [00:00<?, ?it/s]"
      ]
     },
     "metadata": {},
     "output_type": "display_data"
    },
    {
     "name": "stdout",
     "output_type": "stream",
     "text": [
      "Epoch 402/1000 — Recon_U: 0.0270, Recon_L: 0.0221, SemiSup: 0.0093, Disc_Cat: 1.3327, Gen_Cat: 0.9416, Disc_Sty: 1.3563, Gen_Sty: 0.7401\n",
      "Validation Accuracy: 93.42%\n",
      "\n",
      "Weights saved to semisupervised_results/1000_epochs_adam_1000_samples/weights_*.pth\n"
     ]
    },
    {
     "data": {
      "application/vnd.jupyter.widget-view+json": {
       "model_id": "26dcc49457c84aa2a5968d6b24724b80",
       "version_major": 2,
       "version_minor": 0
      },
      "text/plain": [
       "Epoch [403/1000]:   0%|          | 0/10 [00:00<?, ?it/s]"
      ]
     },
     "metadata": {},
     "output_type": "display_data"
    },
    {
     "name": "stdout",
     "output_type": "stream",
     "text": [
      "Epoch 403/1000 — Recon_U: 0.0274, Recon_L: 0.0220, SemiSup: 0.0037, Disc_Cat: 1.3221, Gen_Cat: 0.9961, Disc_Sty: 1.3558, Gen_Sty: 0.7434\n",
      "Validation Accuracy: 93.46%\n",
      "\n",
      "Weights saved to semisupervised_results/1000_epochs_adam_1000_samples/weights_*.pth\n"
     ]
    },
    {
     "data": {
      "application/vnd.jupyter.widget-view+json": {
       "model_id": "836a45c411bb4eda8b1f1d83eb6b38c5",
       "version_major": 2,
       "version_minor": 0
      },
      "text/plain": [
       "Epoch [404/1000]:   0%|          | 0/10 [00:00<?, ?it/s]"
      ]
     },
     "metadata": {},
     "output_type": "display_data"
    },
    {
     "name": "stdout",
     "output_type": "stream",
     "text": [
      "Epoch 404/1000 — Recon_U: 0.0275, Recon_L: 0.0221, SemiSup: 0.0036, Disc_Cat: 1.3360, Gen_Cat: 0.9251, Disc_Sty: 1.3755, Gen_Sty: 0.7190\n",
      "Validation Accuracy: 93.46%\n",
      "\n",
      "Weights saved to semisupervised_results/1000_epochs_adam_1000_samples/weights_*.pth\n"
     ]
    },
    {
     "data": {
      "application/vnd.jupyter.widget-view+json": {
       "model_id": "778f8223a3ac47748299e724523d5a58",
       "version_major": 2,
       "version_minor": 0
      },
      "text/plain": [
       "Epoch [405/1000]:   0%|          | 0/10 [00:00<?, ?it/s]"
      ]
     },
     "metadata": {},
     "output_type": "display_data"
    },
    {
     "name": "stdout",
     "output_type": "stream",
     "text": [
      "Epoch 405/1000 — Recon_U: 0.0270, Recon_L: 0.0221, SemiSup: 0.0017, Disc_Cat: 1.3440, Gen_Cat: 0.9033, Disc_Sty: 1.3961, Gen_Sty: 0.6917\n",
      "Validation Accuracy: 93.49%\n",
      "\n",
      "Weights saved to semisupervised_results/1000_epochs_adam_1000_samples/weights_*.pth\n"
     ]
    },
    {
     "data": {
      "application/vnd.jupyter.widget-view+json": {
       "model_id": "8c773e358f1546a2a9f910c23cc42a86",
       "version_major": 2,
       "version_minor": 0
      },
      "text/plain": [
       "Epoch [406/1000]:   0%|          | 0/10 [00:00<?, ?it/s]"
      ]
     },
     "metadata": {},
     "output_type": "display_data"
    },
    {
     "name": "stdout",
     "output_type": "stream",
     "text": [
      "Epoch 406/1000 — Recon_U: 0.0270, Recon_L: 0.0222, SemiSup: 0.0105, Disc_Cat: 1.3301, Gen_Cat: 0.9446, Disc_Sty: 1.4075, Gen_Sty: 0.6739\n",
      "Validation Accuracy: 93.44%\n",
      "\n",
      "Weights saved to semisupervised_results/1000_epochs_adam_1000_samples/weights_*.pth\n"
     ]
    },
    {
     "data": {
      "application/vnd.jupyter.widget-view+json": {
       "model_id": "6e222fa0cbbf4372aa69d723928abe7a",
       "version_major": 2,
       "version_minor": 0
      },
      "text/plain": [
       "Epoch [407/1000]:   0%|          | 0/10 [00:00<?, ?it/s]"
      ]
     },
     "metadata": {},
     "output_type": "display_data"
    },
    {
     "name": "stdout",
     "output_type": "stream",
     "text": [
      "Epoch 407/1000 — Recon_U: 0.0264, Recon_L: 0.0222, SemiSup: 0.0036, Disc_Cat: 1.3369, Gen_Cat: 0.9047, Disc_Sty: 1.4053, Gen_Sty: 0.6728\n",
      "Validation Accuracy: 93.37%\n",
      "\n",
      "Weights saved to semisupervised_results/1000_epochs_adam_1000_samples/weights_*.pth\n"
     ]
    },
    {
     "data": {
      "application/vnd.jupyter.widget-view+json": {
       "model_id": "db0510e007d844a3a0ad347373554f2e",
       "version_major": 2,
       "version_minor": 0
      },
      "text/plain": [
       "Epoch [408/1000]:   0%|          | 0/10 [00:00<?, ?it/s]"
      ]
     },
     "metadata": {},
     "output_type": "display_data"
    },
    {
     "name": "stdout",
     "output_type": "stream",
     "text": [
      "Epoch 408/1000 — Recon_U: 0.0271, Recon_L: 0.0222, SemiSup: 0.0275, Disc_Cat: 1.3431, Gen_Cat: 0.8956, Disc_Sty: 1.3944, Gen_Sty: 0.6832\n",
      "Validation Accuracy: 93.36%\n",
      "\n",
      "Weights saved to semisupervised_results/1000_epochs_adam_1000_samples/weights_*.pth\n"
     ]
    },
    {
     "data": {
      "application/vnd.jupyter.widget-view+json": {
       "model_id": "2b5e4d203dc34fa79a8d048048cc9728",
       "version_major": 2,
       "version_minor": 0
      },
      "text/plain": [
       "Epoch [409/1000]:   0%|          | 0/10 [00:00<?, ?it/s]"
      ]
     },
     "metadata": {},
     "output_type": "display_data"
    },
    {
     "name": "stdout",
     "output_type": "stream",
     "text": [
      "Epoch 409/1000 — Recon_U: 0.0273, Recon_L: 0.0223, SemiSup: 0.0073, Disc_Cat: 1.3560, Gen_Cat: 0.8413, Disc_Sty: 1.3846, Gen_Sty: 0.6987\n",
      "Validation Accuracy: 93.34%\n",
      "\n",
      "Weights saved to semisupervised_results/1000_epochs_adam_1000_samples/weights_*.pth\n"
     ]
    },
    {
     "data": {
      "application/vnd.jupyter.widget-view+json": {
       "model_id": "a621e8b350714950b7c4314b48780a00",
       "version_major": 2,
       "version_minor": 0
      },
      "text/plain": [
       "Epoch [410/1000]:   0%|          | 0/10 [00:00<?, ?it/s]"
      ]
     },
     "metadata": {},
     "output_type": "display_data"
    },
    {
     "name": "stdout",
     "output_type": "stream",
     "text": [
      "Epoch 410/1000 — Recon_U: 0.0276, Recon_L: 0.0223, SemiSup: 0.0311, Disc_Cat: 1.3439, Gen_Cat: 0.9041, Disc_Sty: 1.3747, Gen_Sty: 0.7160\n",
      "Validation Accuracy: 93.39%\n",
      "\n",
      "Weights saved to semisupervised_results/1000_epochs_adam_1000_samples/weights_*.pth\n"
     ]
    },
    {
     "data": {
      "application/vnd.jupyter.widget-view+json": {
       "model_id": "cddb04a473104a148db027f0d05336b4",
       "version_major": 2,
       "version_minor": 0
      },
      "text/plain": [
       "Epoch [411/1000]:   0%|          | 0/10 [00:00<?, ?it/s]"
      ]
     },
     "metadata": {},
     "output_type": "display_data"
    },
    {
     "name": "stdout",
     "output_type": "stream",
     "text": [
      "Epoch 411/1000 — Recon_U: 0.0275, Recon_L: 0.0225, SemiSup: 0.0127, Disc_Cat: 1.3328, Gen_Cat: 0.9349, Disc_Sty: 1.3946, Gen_Sty: 0.7104\n",
      "Validation Accuracy: 93.41%\n",
      "\n",
      "Weights saved to semisupervised_results/1000_epochs_adam_1000_samples/weights_*.pth\n"
     ]
    },
    {
     "data": {
      "application/vnd.jupyter.widget-view+json": {
       "model_id": "20b2e9af99994124af93d529764e07d4",
       "version_major": 2,
       "version_minor": 0
      },
      "text/plain": [
       "Epoch [412/1000]:   0%|          | 0/10 [00:00<?, ?it/s]"
      ]
     },
     "metadata": {},
     "output_type": "display_data"
    },
    {
     "name": "stdout",
     "output_type": "stream",
     "text": [
      "Epoch 412/1000 — Recon_U: 0.0273, Recon_L: 0.0221, SemiSup: 0.0188, Disc_Cat: 1.3316, Gen_Cat: 0.9254, Disc_Sty: 1.4031, Gen_Sty: 0.7062\n",
      "Validation Accuracy: 93.37%\n",
      "\n",
      "Weights saved to semisupervised_results/1000_epochs_adam_1000_samples/weights_*.pth\n"
     ]
    },
    {
     "data": {
      "application/vnd.jupyter.widget-view+json": {
       "model_id": "a5b2579f486440cb8cf11f90bc5ce456",
       "version_major": 2,
       "version_minor": 0
      },
      "text/plain": [
       "Epoch [413/1000]:   0%|          | 0/10 [00:00<?, ?it/s]"
      ]
     },
     "metadata": {},
     "output_type": "display_data"
    },
    {
     "name": "stdout",
     "output_type": "stream",
     "text": [
      "Epoch 413/1000 — Recon_U: 0.0276, Recon_L: 0.0222, SemiSup: 0.0047, Disc_Cat: 1.3470, Gen_Cat: 0.8888, Disc_Sty: 1.4099, Gen_Sty: 0.7003\n",
      "Validation Accuracy: 93.39%\n",
      "\n",
      "Weights saved to semisupervised_results/1000_epochs_adam_1000_samples/weights_*.pth\n"
     ]
    },
    {
     "data": {
      "application/vnd.jupyter.widget-view+json": {
       "model_id": "bb16b3f7937a4b2990192f486bd5f02f",
       "version_major": 2,
       "version_minor": 0
      },
      "text/plain": [
       "Epoch [414/1000]:   0%|          | 0/10 [00:00<?, ?it/s]"
      ]
     },
     "metadata": {},
     "output_type": "display_data"
    },
    {
     "name": "stdout",
     "output_type": "stream",
     "text": [
      "Epoch 414/1000 — Recon_U: 0.0268, Recon_L: 0.0221, SemiSup: 0.0242, Disc_Cat: 1.3388, Gen_Cat: 0.8805, Disc_Sty: 1.4030, Gen_Sty: 0.7080\n",
      "Validation Accuracy: 93.34%\n",
      "\n",
      "Weights saved to semisupervised_results/1000_epochs_adam_1000_samples/weights_*.pth\n"
     ]
    },
    {
     "data": {
      "application/vnd.jupyter.widget-view+json": {
       "model_id": "fbf5daeebad040999296b62190f5adda",
       "version_major": 2,
       "version_minor": 0
      },
      "text/plain": [
       "Epoch [415/1000]:   0%|          | 0/10 [00:00<?, ?it/s]"
      ]
     },
     "metadata": {},
     "output_type": "display_data"
    },
    {
     "name": "stdout",
     "output_type": "stream",
     "text": [
      "Epoch 415/1000 — Recon_U: 0.0280, Recon_L: 0.0221, SemiSup: 0.0187, Disc_Cat: 1.3419, Gen_Cat: 0.9182, Disc_Sty: 1.4037, Gen_Sty: 0.7078\n",
      "Validation Accuracy: 93.47%\n",
      "\n",
      "Weights saved to semisupervised_results/1000_epochs_adam_1000_samples/weights_*.pth\n"
     ]
    },
    {
     "data": {
      "application/vnd.jupyter.widget-view+json": {
       "model_id": "bf3a4d29149e4850ac7c2213ee3ff728",
       "version_major": 2,
       "version_minor": 0
      },
      "text/plain": [
       "Epoch [416/1000]:   0%|          | 0/10 [00:00<?, ?it/s]"
      ]
     },
     "metadata": {},
     "output_type": "display_data"
    },
    {
     "name": "stdout",
     "output_type": "stream",
     "text": [
      "Epoch 416/1000 — Recon_U: 0.0275, Recon_L: 0.0220, SemiSup: 0.0087, Disc_Cat: 1.3329, Gen_Cat: 0.9467, Disc_Sty: 1.3988, Gen_Sty: 0.7067\n",
      "Validation Accuracy: 93.53%\n",
      "\n",
      "Weights saved to semisupervised_results/1000_epochs_adam_1000_samples/weights_*.pth\n"
     ]
    },
    {
     "data": {
      "application/vnd.jupyter.widget-view+json": {
       "model_id": "ef95019a022f4ebba6e37b568fffe835",
       "version_major": 2,
       "version_minor": 0
      },
      "text/plain": [
       "Epoch [417/1000]:   0%|          | 0/10 [00:00<?, ?it/s]"
      ]
     },
     "metadata": {},
     "output_type": "display_data"
    },
    {
     "name": "stdout",
     "output_type": "stream",
     "text": [
      "Epoch 417/1000 — Recon_U: 0.0275, Recon_L: 0.0219, SemiSup: 0.0156, Disc_Cat: 1.3373, Gen_Cat: 0.9365, Disc_Sty: 1.3925, Gen_Sty: 0.7055\n",
      "Validation Accuracy: 93.61%\n",
      "\n",
      "Weights saved to semisupervised_results/1000_epochs_adam_1000_samples/weights_*.pth\n"
     ]
    },
    {
     "data": {
      "application/vnd.jupyter.widget-view+json": {
       "model_id": "7621f8bb4d854addb7112de8c4f55f32",
       "version_major": 2,
       "version_minor": 0
      },
      "text/plain": [
       "Epoch [418/1000]:   0%|          | 0/10 [00:00<?, ?it/s]"
      ]
     },
     "metadata": {},
     "output_type": "display_data"
    },
    {
     "name": "stdout",
     "output_type": "stream",
     "text": [
      "Epoch 418/1000 — Recon_U: 0.0276, Recon_L: 0.0218, SemiSup: 0.0037, Disc_Cat: 1.3359, Gen_Cat: 0.9225, Disc_Sty: 1.3793, Gen_Sty: 0.7070\n",
      "Validation Accuracy: 93.64%\n",
      "\n",
      "Weights saved to semisupervised_results/1000_epochs_adam_1000_samples/weights_*.pth\n"
     ]
    },
    {
     "data": {
      "application/vnd.jupyter.widget-view+json": {
       "model_id": "3f6536721fb74d7993a9d408119018c3",
       "version_major": 2,
       "version_minor": 0
      },
      "text/plain": [
       "Epoch [419/1000]:   0%|          | 0/10 [00:00<?, ?it/s]"
      ]
     },
     "metadata": {},
     "output_type": "display_data"
    },
    {
     "name": "stdout",
     "output_type": "stream",
     "text": [
      "Epoch 419/1000 — Recon_U: 0.0268, Recon_L: 0.0218, SemiSup: 0.0245, Disc_Cat: 1.3376, Gen_Cat: 0.9201, Disc_Sty: 1.3749, Gen_Sty: 0.7025\n",
      "Validation Accuracy: 93.63%\n",
      "\n",
      "Weights saved to semisupervised_results/1000_epochs_adam_1000_samples/weights_*.pth\n"
     ]
    },
    {
     "data": {
      "application/vnd.jupyter.widget-view+json": {
       "model_id": "dbd00c0a44564bd9b19530e2372dba3b",
       "version_major": 2,
       "version_minor": 0
      },
      "text/plain": [
       "Epoch [420/1000]:   0%|          | 0/10 [00:00<?, ?it/s]"
      ]
     },
     "metadata": {},
     "output_type": "display_data"
    },
    {
     "name": "stdout",
     "output_type": "stream",
     "text": [
      "Epoch 420/1000 — Recon_U: 0.0268, Recon_L: 0.0216, SemiSup: 0.0092, Disc_Cat: 1.3440, Gen_Cat: 0.8937, Disc_Sty: 1.3692, Gen_Sty: 0.6997\n",
      "Validation Accuracy: 93.63%\n",
      "\n",
      "Weights saved to semisupervised_results/1000_epochs_adam_1000_samples/weights_*.pth\n"
     ]
    },
    {
     "data": {
      "application/vnd.jupyter.widget-view+json": {
       "model_id": "3a4ee83bbaa14af9aaba9bc23bdf34de",
       "version_major": 2,
       "version_minor": 0
      },
      "text/plain": [
       "Epoch [421/1000]:   0%|          | 0/10 [00:00<?, ?it/s]"
      ]
     },
     "metadata": {},
     "output_type": "display_data"
    },
    {
     "name": "stdout",
     "output_type": "stream",
     "text": [
      "Epoch 421/1000 — Recon_U: 0.0269, Recon_L: 0.0216, SemiSup: 0.0230, Disc_Cat: 1.3455, Gen_Cat: 0.8881, Disc_Sty: 1.3750, Gen_Sty: 0.6895\n",
      "Validation Accuracy: 93.46%\n",
      "\n",
      "Weights saved to semisupervised_results/1000_epochs_adam_1000_samples/weights_*.pth\n"
     ]
    },
    {
     "data": {
      "application/vnd.jupyter.widget-view+json": {
       "model_id": "c185db4b4a4c4516a4604c34c0b60e0e",
       "version_major": 2,
       "version_minor": 0
      },
      "text/plain": [
       "Epoch [422/1000]:   0%|          | 0/10 [00:00<?, ?it/s]"
      ]
     },
     "metadata": {},
     "output_type": "display_data"
    },
    {
     "name": "stdout",
     "output_type": "stream",
     "text": [
      "Epoch 422/1000 — Recon_U: 0.0268, Recon_L: 0.0216, SemiSup: 0.0277, Disc_Cat: 1.3415, Gen_Cat: 0.9125, Disc_Sty: 1.3817, Gen_Sty: 0.6764\n",
      "Validation Accuracy: 93.46%\n",
      "\n",
      "Weights saved to semisupervised_results/1000_epochs_adam_1000_samples/weights_*.pth\n"
     ]
    },
    {
     "data": {
      "application/vnd.jupyter.widget-view+json": {
       "model_id": "d610adb0b0f6450c80469f8d2a307158",
       "version_major": 2,
       "version_minor": 0
      },
      "text/plain": [
       "Epoch [423/1000]:   0%|          | 0/10 [00:00<?, ?it/s]"
      ]
     },
     "metadata": {},
     "output_type": "display_data"
    },
    {
     "name": "stdout",
     "output_type": "stream",
     "text": [
      "Epoch 423/1000 — Recon_U: 0.0268, Recon_L: 0.0215, SemiSup: 0.0310, Disc_Cat: 1.3543, Gen_Cat: 0.8744, Disc_Sty: 1.3799, Gen_Sty: 0.6714\n",
      "Validation Accuracy: 93.53%\n",
      "\n",
      "Weights saved to semisupervised_results/1000_epochs_adam_1000_samples/weights_*.pth\n"
     ]
    },
    {
     "data": {
      "application/vnd.jupyter.widget-view+json": {
       "model_id": "46be2fd830264eb2af1c77fde03f073b",
       "version_major": 2,
       "version_minor": 0
      },
      "text/plain": [
       "Epoch [424/1000]:   0%|          | 0/10 [00:00<?, ?it/s]"
      ]
     },
     "metadata": {},
     "output_type": "display_data"
    },
    {
     "name": "stdout",
     "output_type": "stream",
     "text": [
      "Epoch 424/1000 — Recon_U: 0.0276, Recon_L: 0.0215, SemiSup: 0.0114, Disc_Cat: 1.3481, Gen_Cat: 0.9012, Disc_Sty: 1.3981, Gen_Sty: 0.6572\n",
      "Validation Accuracy: 93.58%\n",
      "\n",
      "Weights saved to semisupervised_results/1000_epochs_adam_1000_samples/weights_*.pth\n"
     ]
    },
    {
     "data": {
      "application/vnd.jupyter.widget-view+json": {
       "model_id": "80b5a634410f4123bb65f67b911852fc",
       "version_major": 2,
       "version_minor": 0
      },
      "text/plain": [
       "Epoch [425/1000]:   0%|          | 0/10 [00:00<?, ?it/s]"
      ]
     },
     "metadata": {},
     "output_type": "display_data"
    },
    {
     "name": "stdout",
     "output_type": "stream",
     "text": [
      "Epoch 425/1000 — Recon_U: 0.0267, Recon_L: 0.0215, SemiSup: 0.0215, Disc_Cat: 1.3474, Gen_Cat: 0.8962, Disc_Sty: 1.3970, Gen_Sty: 0.6598\n",
      "Validation Accuracy: 93.59%\n",
      "\n",
      "Weights saved to semisupervised_results/1000_epochs_adam_1000_samples/weights_*.pth\n"
     ]
    },
    {
     "data": {
      "application/vnd.jupyter.widget-view+json": {
       "model_id": "bedce886058343b7bd57fc16bab1df69",
       "version_major": 2,
       "version_minor": 0
      },
      "text/plain": [
       "Epoch [426/1000]:   0%|          | 0/10 [00:00<?, ?it/s]"
      ]
     },
     "metadata": {},
     "output_type": "display_data"
    },
    {
     "name": "stdout",
     "output_type": "stream",
     "text": [
      "Epoch 426/1000 — Recon_U: 0.0274, Recon_L: 0.0215, SemiSup: 0.0083, Disc_Cat: 1.3317, Gen_Cat: 0.9366, Disc_Sty: 1.3989, Gen_Sty: 0.6623\n",
      "Validation Accuracy: 93.58%\n",
      "\n",
      "Weights saved to semisupervised_results/1000_epochs_adam_1000_samples/weights_*.pth\n"
     ]
    },
    {
     "data": {
      "application/vnd.jupyter.widget-view+json": {
       "model_id": "a9c445759bac4ffea0e1ce747835d8db",
       "version_major": 2,
       "version_minor": 0
      },
      "text/plain": [
       "Epoch [427/1000]:   0%|          | 0/10 [00:00<?, ?it/s]"
      ]
     },
     "metadata": {},
     "output_type": "display_data"
    },
    {
     "name": "stdout",
     "output_type": "stream",
     "text": [
      "Epoch 427/1000 — Recon_U: 0.0268, Recon_L: 0.0216, SemiSup: 0.0019, Disc_Cat: 1.3389, Gen_Cat: 0.9140, Disc_Sty: 1.3845, Gen_Sty: 0.6870\n",
      "Validation Accuracy: 93.53%\n",
      "\n",
      "Weights saved to semisupervised_results/1000_epochs_adam_1000_samples/weights_*.pth\n"
     ]
    },
    {
     "data": {
      "application/vnd.jupyter.widget-view+json": {
       "model_id": "b19a0536898d4d548fa39d65044d6cff",
       "version_major": 2,
       "version_minor": 0
      },
      "text/plain": [
       "Epoch [428/1000]:   0%|          | 0/10 [00:00<?, ?it/s]"
      ]
     },
     "metadata": {},
     "output_type": "display_data"
    },
    {
     "name": "stdout",
     "output_type": "stream",
     "text": [
      "Epoch 428/1000 — Recon_U: 0.0272, Recon_L: 0.0217, SemiSup: 0.0046, Disc_Cat: 1.3391, Gen_Cat: 0.9153, Disc_Sty: 1.3651, Gen_Sty: 0.7209\n",
      "Validation Accuracy: 93.56%\n",
      "\n",
      "Weights saved to semisupervised_results/1000_epochs_adam_1000_samples/weights_*.pth\n"
     ]
    },
    {
     "data": {
      "application/vnd.jupyter.widget-view+json": {
       "model_id": "f4cc8d0a3fd945c09fa0ddbae4d7631b",
       "version_major": 2,
       "version_minor": 0
      },
      "text/plain": [
       "Epoch [429/1000]:   0%|          | 0/10 [00:00<?, ?it/s]"
      ]
     },
     "metadata": {},
     "output_type": "display_data"
    },
    {
     "name": "stdout",
     "output_type": "stream",
     "text": [
      "Epoch 429/1000 — Recon_U: 0.0270, Recon_L: 0.0217, SemiSup: 0.0141, Disc_Cat: 1.3289, Gen_Cat: 0.9586, Disc_Sty: 1.3625, Gen_Sty: 0.7369\n",
      "Validation Accuracy: 93.58%\n",
      "\n",
      "Weights saved to semisupervised_results/1000_epochs_adam_1000_samples/weights_*.pth\n"
     ]
    },
    {
     "data": {
      "application/vnd.jupyter.widget-view+json": {
       "model_id": "b999a485079f48a1b1218de543165b83",
       "version_major": 2,
       "version_minor": 0
      },
      "text/plain": [
       "Epoch [430/1000]:   0%|          | 0/10 [00:00<?, ?it/s]"
      ]
     },
     "metadata": {},
     "output_type": "display_data"
    },
    {
     "name": "stdout",
     "output_type": "stream",
     "text": [
      "Epoch 430/1000 — Recon_U: 0.0271, Recon_L: 0.0218, SemiSup: 0.0384, Disc_Cat: 1.3410, Gen_Cat: 0.9288, Disc_Sty: 1.3705, Gen_Sty: 0.7338\n",
      "Validation Accuracy: 93.63%\n",
      "\n",
      "Weights saved to semisupervised_results/1000_epochs_adam_1000_samples/weights_*.pth\n"
     ]
    },
    {
     "data": {
      "application/vnd.jupyter.widget-view+json": {
       "model_id": "e2a11b0bf44f4f4580c008d4afa78a7e",
       "version_major": 2,
       "version_minor": 0
      },
      "text/plain": [
       "Epoch [431/1000]:   0%|          | 0/10 [00:00<?, ?it/s]"
      ]
     },
     "metadata": {},
     "output_type": "display_data"
    },
    {
     "name": "stdout",
     "output_type": "stream",
     "text": [
      "Epoch 431/1000 — Recon_U: 0.0271, Recon_L: 0.0219, SemiSup: 0.0281, Disc_Cat: 1.3334, Gen_Cat: 0.9291, Disc_Sty: 1.3938, Gen_Sty: 0.7122\n",
      "Validation Accuracy: 93.59%\n",
      "\n",
      "Weights saved to semisupervised_results/1000_epochs_adam_1000_samples/weights_*.pth\n"
     ]
    },
    {
     "data": {
      "application/vnd.jupyter.widget-view+json": {
       "model_id": "67cdebe76b4344ce9673df8c4e6c9abf",
       "version_major": 2,
       "version_minor": 0
      },
      "text/plain": [
       "Epoch [432/1000]:   0%|          | 0/10 [00:00<?, ?it/s]"
      ]
     },
     "metadata": {},
     "output_type": "display_data"
    },
    {
     "name": "stdout",
     "output_type": "stream",
     "text": [
      "Epoch 432/1000 — Recon_U: 0.0271, Recon_L: 0.0217, SemiSup: 0.0064, Disc_Cat: 1.3454, Gen_Cat: 0.8672, Disc_Sty: 1.4088, Gen_Sty: 0.6930\n",
      "Validation Accuracy: 93.59%\n",
      "\n",
      "Weights saved to semisupervised_results/1000_epochs_adam_1000_samples/weights_*.pth\n"
     ]
    },
    {
     "data": {
      "application/vnd.jupyter.widget-view+json": {
       "model_id": "cc34b8e1a8cc48989bf9f68b0f1de7ce",
       "version_major": 2,
       "version_minor": 0
      },
      "text/plain": [
       "Epoch [433/1000]:   0%|          | 0/10 [00:00<?, ?it/s]"
      ]
     },
     "metadata": {},
     "output_type": "display_data"
    },
    {
     "name": "stdout",
     "output_type": "stream",
     "text": [
      "Epoch 433/1000 — Recon_U: 0.0269, Recon_L: 0.0217, SemiSup: 0.0160, Disc_Cat: 1.3274, Gen_Cat: 0.9292, Disc_Sty: 1.4126, Gen_Sty: 0.6847\n",
      "Validation Accuracy: 93.49%\n",
      "\n",
      "Weights saved to semisupervised_results/1000_epochs_adam_1000_samples/weights_*.pth\n"
     ]
    },
    {
     "data": {
      "application/vnd.jupyter.widget-view+json": {
       "model_id": "2cdc9a7040404d07aa298f02027b2ec2",
       "version_major": 2,
       "version_minor": 0
      },
      "text/plain": [
       "Epoch [434/1000]:   0%|          | 0/10 [00:00<?, ?it/s]"
      ]
     },
     "metadata": {},
     "output_type": "display_data"
    },
    {
     "name": "stdout",
     "output_type": "stream",
     "text": [
      "Epoch 434/1000 — Recon_U: 0.0272, Recon_L: 0.0216, SemiSup: 0.0083, Disc_Cat: 1.3503, Gen_Cat: 0.9250, Disc_Sty: 1.3987, Gen_Sty: 0.6837\n",
      "Validation Accuracy: 93.49%\n",
      "\n",
      "Weights saved to semisupervised_results/1000_epochs_adam_1000_samples/weights_*.pth\n"
     ]
    },
    {
     "data": {
      "application/vnd.jupyter.widget-view+json": {
       "model_id": "be53eb99209e416db513dc623309bff0",
       "version_major": 2,
       "version_minor": 0
      },
      "text/plain": [
       "Epoch [435/1000]:   0%|          | 0/10 [00:00<?, ?it/s]"
      ]
     },
     "metadata": {},
     "output_type": "display_data"
    },
    {
     "name": "stdout",
     "output_type": "stream",
     "text": [
      "Epoch 435/1000 — Recon_U: 0.0264, Recon_L: 0.0216, SemiSup: 0.0411, Disc_Cat: 1.3289, Gen_Cat: 0.9752, Disc_Sty: 1.3860, Gen_Sty: 0.6952\n",
      "Validation Accuracy: 93.58%\n",
      "\n",
      "Weights saved to semisupervised_results/1000_epochs_adam_1000_samples/weights_*.pth\n"
     ]
    },
    {
     "data": {
      "application/vnd.jupyter.widget-view+json": {
       "model_id": "dc9f4bb353bb423a9f441384f81c5477",
       "version_major": 2,
       "version_minor": 0
      },
      "text/plain": [
       "Epoch [436/1000]:   0%|          | 0/10 [00:00<?, ?it/s]"
      ]
     },
     "metadata": {},
     "output_type": "display_data"
    },
    {
     "name": "stdout",
     "output_type": "stream",
     "text": [
      "Epoch 436/1000 — Recon_U: 0.0268, Recon_L: 0.0215, SemiSup: 0.0054, Disc_Cat: 1.3501, Gen_Cat: 0.8671, Disc_Sty: 1.3796, Gen_Sty: 0.6938\n",
      "Validation Accuracy: 93.63%\n",
      "\n",
      "Weights saved to semisupervised_results/1000_epochs_adam_1000_samples/weights_*.pth\n"
     ]
    },
    {
     "data": {
      "application/vnd.jupyter.widget-view+json": {
       "model_id": "2c2d25a05e5143c4baad5084c53c75f6",
       "version_major": 2,
       "version_minor": 0
      },
      "text/plain": [
       "Epoch [437/1000]:   0%|          | 0/10 [00:00<?, ?it/s]"
      ]
     },
     "metadata": {},
     "output_type": "display_data"
    },
    {
     "name": "stdout",
     "output_type": "stream",
     "text": [
      "Epoch 437/1000 — Recon_U: 0.0276, Recon_L: 0.0215, SemiSup: 0.0211, Disc_Cat: 1.3379, Gen_Cat: 0.9291, Disc_Sty: 1.3728, Gen_Sty: 0.6928\n",
      "Validation Accuracy: 93.61%\n",
      "\n",
      "Weights saved to semisupervised_results/1000_epochs_adam_1000_samples/weights_*.pth\n"
     ]
    },
    {
     "data": {
      "application/vnd.jupyter.widget-view+json": {
       "model_id": "3ed8b3571d144987ba27cd549e4effc8",
       "version_major": 2,
       "version_minor": 0
      },
      "text/plain": [
       "Epoch [438/1000]:   0%|          | 0/10 [00:00<?, ?it/s]"
      ]
     },
     "metadata": {},
     "output_type": "display_data"
    },
    {
     "name": "stdout",
     "output_type": "stream",
     "text": [
      "Epoch 438/1000 — Recon_U: 0.0269, Recon_L: 0.0214, SemiSup: 0.0256, Disc_Cat: 1.3387, Gen_Cat: 0.9193, Disc_Sty: 1.3720, Gen_Sty: 0.6882\n",
      "Validation Accuracy: 93.59%\n",
      "\n",
      "Weights saved to semisupervised_results/1000_epochs_adam_1000_samples/weights_*.pth\n"
     ]
    },
    {
     "data": {
      "application/vnd.jupyter.widget-view+json": {
       "model_id": "063e40d74c994083aa756f49081cd2e1",
       "version_major": 2,
       "version_minor": 0
      },
      "text/plain": [
       "Epoch [439/1000]:   0%|          | 0/10 [00:00<?, ?it/s]"
      ]
     },
     "metadata": {},
     "output_type": "display_data"
    },
    {
     "name": "stdout",
     "output_type": "stream",
     "text": [
      "Epoch 439/1000 — Recon_U: 0.0259, Recon_L: 0.0214, SemiSup: 0.0036, Disc_Cat: 1.3332, Gen_Cat: 0.9322, Disc_Sty: 1.3763, Gen_Sty: 0.6828\n",
      "Validation Accuracy: 93.58%\n",
      "\n",
      "Weights saved to semisupervised_results/1000_epochs_adam_1000_samples/weights_*.pth\n"
     ]
    },
    {
     "data": {
      "application/vnd.jupyter.widget-view+json": {
       "model_id": "c769b306e6f14fd39b2baced949f1848",
       "version_major": 2,
       "version_minor": 0
      },
      "text/plain": [
       "Epoch [440/1000]:   0%|          | 0/10 [00:00<?, ?it/s]"
      ]
     },
     "metadata": {},
     "output_type": "display_data"
    },
    {
     "name": "stdout",
     "output_type": "stream",
     "text": [
      "Epoch 440/1000 — Recon_U: 0.0271, Recon_L: 0.0212, SemiSup: 0.0106, Disc_Cat: 1.3429, Gen_Cat: 0.9080, Disc_Sty: 1.3840, Gen_Sty: 0.6751\n",
      "Validation Accuracy: 93.58%\n",
      "\n",
      "Weights saved to semisupervised_results/1000_epochs_adam_1000_samples/weights_*.pth\n"
     ]
    },
    {
     "data": {
      "application/vnd.jupyter.widget-view+json": {
       "model_id": "7386e6fe6d4841289f5dc4b253194cc2",
       "version_major": 2,
       "version_minor": 0
      },
      "text/plain": [
       "Epoch [441/1000]:   0%|          | 0/10 [00:00<?, ?it/s]"
      ]
     },
     "metadata": {},
     "output_type": "display_data"
    },
    {
     "name": "stdout",
     "output_type": "stream",
     "text": [
      "Epoch 441/1000 — Recon_U: 0.0268, Recon_L: 0.0214, SemiSup: 0.0224, Disc_Cat: 1.3477, Gen_Cat: 0.8969, Disc_Sty: 1.3915, Gen_Sty: 0.6700\n",
      "Validation Accuracy: 93.53%\n",
      "\n",
      "Weights saved to semisupervised_results/1000_epochs_adam_1000_samples/weights_*.pth\n"
     ]
    },
    {
     "data": {
      "application/vnd.jupyter.widget-view+json": {
       "model_id": "5d4e72ea7ee545a1bf3259dcf37edd0a",
       "version_major": 2,
       "version_minor": 0
      },
      "text/plain": [
       "Epoch [442/1000]:   0%|          | 0/10 [00:00<?, ?it/s]"
      ]
     },
     "metadata": {},
     "output_type": "display_data"
    },
    {
     "name": "stdout",
     "output_type": "stream",
     "text": [
      "Epoch 442/1000 — Recon_U: 0.0267, Recon_L: 0.0213, SemiSup: 0.0083, Disc_Cat: 1.3416, Gen_Cat: 0.9148, Disc_Sty: 1.3920, Gen_Sty: 0.6697\n",
      "Validation Accuracy: 93.56%\n",
      "\n",
      "Weights saved to semisupervised_results/1000_epochs_adam_1000_samples/weights_*.pth\n"
     ]
    },
    {
     "data": {
      "application/vnd.jupyter.widget-view+json": {
       "model_id": "fbf64bb1549d4de09016d2223a276f0c",
       "version_major": 2,
       "version_minor": 0
      },
      "text/plain": [
       "Epoch [443/1000]:   0%|          | 0/10 [00:00<?, ?it/s]"
      ]
     },
     "metadata": {},
     "output_type": "display_data"
    },
    {
     "name": "stdout",
     "output_type": "stream",
     "text": [
      "Epoch 443/1000 — Recon_U: 0.0264, Recon_L: 0.0214, SemiSup: 0.0077, Disc_Cat: 1.3422, Gen_Cat: 0.8772, Disc_Sty: 1.3899, Gen_Sty: 0.6808\n",
      "Validation Accuracy: 93.58%\n",
      "\n",
      "Weights saved to semisupervised_results/1000_epochs_adam_1000_samples/weights_*.pth\n"
     ]
    },
    {
     "data": {
      "application/vnd.jupyter.widget-view+json": {
       "model_id": "df3798535c0f482383719da867116050",
       "version_major": 2,
       "version_minor": 0
      },
      "text/plain": [
       "Epoch [444/1000]:   0%|          | 0/10 [00:00<?, ?it/s]"
      ]
     },
     "metadata": {},
     "output_type": "display_data"
    },
    {
     "name": "stdout",
     "output_type": "stream",
     "text": [
      "Epoch 444/1000 — Recon_U: 0.0265, Recon_L: 0.0213, SemiSup: 0.0121, Disc_Cat: 1.3473, Gen_Cat: 0.8987, Disc_Sty: 1.3793, Gen_Sty: 0.6948\n",
      "Validation Accuracy: 93.64%\n",
      "\n",
      "Weights saved to semisupervised_results/1000_epochs_adam_1000_samples/weights_*.pth\n"
     ]
    },
    {
     "data": {
      "application/vnd.jupyter.widget-view+json": {
       "model_id": "0ce10f8aa14940158c43a2e4e13339f2",
       "version_major": 2,
       "version_minor": 0
      },
      "text/plain": [
       "Epoch [445/1000]:   0%|          | 0/10 [00:00<?, ?it/s]"
      ]
     },
     "metadata": {},
     "output_type": "display_data"
    },
    {
     "name": "stdout",
     "output_type": "stream",
     "text": [
      "Epoch 445/1000 — Recon_U: 0.0268, Recon_L: 0.0212, SemiSup: 0.0045, Disc_Cat: 1.3417, Gen_Cat: 0.9198, Disc_Sty: 1.3728, Gen_Sty: 0.7081\n",
      "Validation Accuracy: 93.58%\n",
      "\n",
      "Weights saved to semisupervised_results/1000_epochs_adam_1000_samples/weights_*.pth\n"
     ]
    },
    {
     "data": {
      "application/vnd.jupyter.widget-view+json": {
       "model_id": "c580074998c2447598721dc8a206aea8",
       "version_major": 2,
       "version_minor": 0
      },
      "text/plain": [
       "Epoch [446/1000]:   0%|          | 0/10 [00:00<?, ?it/s]"
      ]
     },
     "metadata": {},
     "output_type": "display_data"
    },
    {
     "name": "stdout",
     "output_type": "stream",
     "text": [
      "Epoch 446/1000 — Recon_U: 0.0272, Recon_L: 0.0213, SemiSup: 0.0234, Disc_Cat: 1.3464, Gen_Cat: 0.9064, Disc_Sty: 1.3710, Gen_Sty: 0.7142\n",
      "Validation Accuracy: 93.66%\n",
      "\n",
      "Weights saved to semisupervised_results/1000_epochs_adam_1000_samples/weights_*.pth\n"
     ]
    },
    {
     "data": {
      "application/vnd.jupyter.widget-view+json": {
       "model_id": "ee82756560ab412db3c56a5d27d47f49",
       "version_major": 2,
       "version_minor": 0
      },
      "text/plain": [
       "Epoch [447/1000]:   0%|          | 0/10 [00:00<?, ?it/s]"
      ]
     },
     "metadata": {},
     "output_type": "display_data"
    },
    {
     "name": "stdout",
     "output_type": "stream",
     "text": [
      "Epoch 447/1000 — Recon_U: 0.0267, Recon_L: 0.0213, SemiSup: 0.0257, Disc_Cat: 1.3430, Gen_Cat: 0.8806, Disc_Sty: 1.3786, Gen_Sty: 0.7113\n",
      "Validation Accuracy: 93.58%\n",
      "\n",
      "Weights saved to semisupervised_results/1000_epochs_adam_1000_samples/weights_*.pth\n"
     ]
    },
    {
     "data": {
      "application/vnd.jupyter.widget-view+json": {
       "model_id": "481d1e1d0a1e4c7c916b47e8dc91bb0a",
       "version_major": 2,
       "version_minor": 0
      },
      "text/plain": [
       "Epoch [448/1000]:   0%|          | 0/10 [00:00<?, ?it/s]"
      ]
     },
     "metadata": {},
     "output_type": "display_data"
    },
    {
     "name": "stdout",
     "output_type": "stream",
     "text": [
      "Epoch 448/1000 — Recon_U: 0.0267, Recon_L: 0.0215, SemiSup: 0.0264, Disc_Cat: 1.3412, Gen_Cat: 0.9166, Disc_Sty: 1.3995, Gen_Sty: 0.6914\n",
      "Validation Accuracy: 93.53%\n",
      "\n",
      "Weights saved to semisupervised_results/1000_epochs_adam_1000_samples/weights_*.pth\n"
     ]
    },
    {
     "data": {
      "application/vnd.jupyter.widget-view+json": {
       "model_id": "9510875c596146f5992c03c78378a2f0",
       "version_major": 2,
       "version_minor": 0
      },
      "text/plain": [
       "Epoch [449/1000]:   0%|          | 0/10 [00:00<?, ?it/s]"
      ]
     },
     "metadata": {},
     "output_type": "display_data"
    },
    {
     "name": "stdout",
     "output_type": "stream",
     "text": [
      "Epoch 449/1000 — Recon_U: 0.0273, Recon_L: 0.0214, SemiSup: 0.0108, Disc_Cat: 1.3302, Gen_Cat: 0.9544, Disc_Sty: 1.4041, Gen_Sty: 0.6870\n",
      "Validation Accuracy: 93.53%\n",
      "\n",
      "Weights saved to semisupervised_results/1000_epochs_adam_1000_samples/weights_*.pth\n"
     ]
    },
    {
     "data": {
      "application/vnd.jupyter.widget-view+json": {
       "model_id": "8e25f07d151e4e2284a86617689cfbe8",
       "version_major": 2,
       "version_minor": 0
      },
      "text/plain": [
       "Epoch [450/1000]:   0%|          | 0/10 [00:00<?, ?it/s]"
      ]
     },
     "metadata": {},
     "output_type": "display_data"
    },
    {
     "name": "stdout",
     "output_type": "stream",
     "text": [
      "Epoch 450/1000 — Recon_U: 0.0276, Recon_L: 0.0215, SemiSup: 0.0120, Disc_Cat: 1.3434, Gen_Cat: 0.9103, Disc_Sty: 1.3986, Gen_Sty: 0.6882\n",
      "Validation Accuracy: 93.53%\n",
      "\n",
      "Weights saved to semisupervised_results/1000_epochs_adam_1000_samples/weights_epoch_450/weights_*.pth\n",
      "Weights saved to semisupervised_results/1000_epochs_adam_1000_samples/weights_*.pth\n"
     ]
    },
    {
     "data": {
      "application/vnd.jupyter.widget-view+json": {
       "model_id": "32e24a106fb24584872437ab25c8f6b2",
       "version_major": 2,
       "version_minor": 0
      },
      "text/plain": [
       "Epoch [451/1000]:   0%|          | 0/10 [00:00<?, ?it/s]"
      ]
     },
     "metadata": {},
     "output_type": "display_data"
    },
    {
     "name": "stdout",
     "output_type": "stream",
     "text": [
      "Epoch 451/1000 — Recon_U: 0.0260, Recon_L: 0.0216, SemiSup: 0.0292, Disc_Cat: 1.3387, Gen_Cat: 0.9020, Disc_Sty: 1.3881, Gen_Sty: 0.6965\n",
      "Validation Accuracy: 93.56%\n",
      "\n",
      "Weights saved to semisupervised_results/1000_epochs_adam_1000_samples/weights_*.pth\n"
     ]
    },
    {
     "data": {
      "application/vnd.jupyter.widget-view+json": {
       "model_id": "b3706c2f3aaa44599d7ca401d39cd3fa",
       "version_major": 2,
       "version_minor": 0
      },
      "text/plain": [
       "Epoch [452/1000]:   0%|          | 0/10 [00:00<?, ?it/s]"
      ]
     },
     "metadata": {},
     "output_type": "display_data"
    },
    {
     "name": "stdout",
     "output_type": "stream",
     "text": [
      "Epoch 452/1000 — Recon_U: 0.0271, Recon_L: 0.0216, SemiSup: 0.0098, Disc_Cat: 1.3384, Gen_Cat: 0.9482, Disc_Sty: 1.3795, Gen_Sty: 0.6985\n",
      "Validation Accuracy: 93.59%\n",
      "\n",
      "Weights saved to semisupervised_results/1000_epochs_adam_1000_samples/weights_*.pth\n"
     ]
    },
    {
     "data": {
      "application/vnd.jupyter.widget-view+json": {
       "model_id": "384c79de57174a93ac8d122024f1e559",
       "version_major": 2,
       "version_minor": 0
      },
      "text/plain": [
       "Epoch [453/1000]:   0%|          | 0/10 [00:00<?, ?it/s]"
      ]
     },
     "metadata": {},
     "output_type": "display_data"
    },
    {
     "name": "stdout",
     "output_type": "stream",
     "text": [
      "Epoch 453/1000 — Recon_U: 0.0267, Recon_L: 0.0214, SemiSup: 0.0090, Disc_Cat: 1.3499, Gen_Cat: 0.8981, Disc_Sty: 1.3904, Gen_Sty: 0.6917\n",
      "Validation Accuracy: 93.58%\n",
      "\n",
      "Weights saved to semisupervised_results/1000_epochs_adam_1000_samples/weights_*.pth\n"
     ]
    },
    {
     "data": {
      "application/vnd.jupyter.widget-view+json": {
       "model_id": "65c797bac07d452f8d861dfe81e6c9a9",
       "version_major": 2,
       "version_minor": 0
      },
      "text/plain": [
       "Epoch [454/1000]:   0%|          | 0/10 [00:00<?, ?it/s]"
      ]
     },
     "metadata": {},
     "output_type": "display_data"
    },
    {
     "name": "stdout",
     "output_type": "stream",
     "text": [
      "Epoch 454/1000 — Recon_U: 0.0263, Recon_L: 0.0215, SemiSup: 0.0156, Disc_Cat: 1.3424, Gen_Cat: 0.9177, Disc_Sty: 1.3988, Gen_Sty: 0.6905\n",
      "Validation Accuracy: 93.61%\n",
      "\n",
      "Weights saved to semisupervised_results/1000_epochs_adam_1000_samples/weights_*.pth\n"
     ]
    },
    {
     "data": {
      "application/vnd.jupyter.widget-view+json": {
       "model_id": "20e64e4fab67419283fd29348f125031",
       "version_major": 2,
       "version_minor": 0
      },
      "text/plain": [
       "Epoch [455/1000]:   0%|          | 0/10 [00:00<?, ?it/s]"
      ]
     },
     "metadata": {},
     "output_type": "display_data"
    },
    {
     "name": "stdout",
     "output_type": "stream",
     "text": [
      "Epoch 455/1000 — Recon_U: 0.0263, Recon_L: 0.0215, SemiSup: 0.0179, Disc_Cat: 1.3360, Gen_Cat: 0.9643, Disc_Sty: 1.3998, Gen_Sty: 0.6890\n",
      "Validation Accuracy: 93.58%\n",
      "\n",
      "Weights saved to semisupervised_results/1000_epochs_adam_1000_samples/weights_*.pth\n"
     ]
    },
    {
     "data": {
      "application/vnd.jupyter.widget-view+json": {
       "model_id": "e0853032de17407ba095f65499c669de",
       "version_major": 2,
       "version_minor": 0
      },
      "text/plain": [
       "Epoch [456/1000]:   0%|          | 0/10 [00:00<?, ?it/s]"
      ]
     },
     "metadata": {},
     "output_type": "display_data"
    },
    {
     "name": "stdout",
     "output_type": "stream",
     "text": [
      "Epoch 456/1000 — Recon_U: 0.0276, Recon_L: 0.0215, SemiSup: 0.0250, Disc_Cat: 1.3330, Gen_Cat: 0.9468, Disc_Sty: 1.3921, Gen_Sty: 0.7043\n",
      "Validation Accuracy: 93.59%\n",
      "\n",
      "Weights saved to semisupervised_results/1000_epochs_adam_1000_samples/weights_*.pth\n"
     ]
    },
    {
     "data": {
      "application/vnd.jupyter.widget-view+json": {
       "model_id": "404c4feaa81e4fe5a93f2aeb60866290",
       "version_major": 2,
       "version_minor": 0
      },
      "text/plain": [
       "Epoch [457/1000]:   0%|          | 0/10 [00:00<?, ?it/s]"
      ]
     },
     "metadata": {},
     "output_type": "display_data"
    },
    {
     "name": "stdout",
     "output_type": "stream",
     "text": [
      "Epoch 457/1000 — Recon_U: 0.0270, Recon_L: 0.0214, SemiSup: 0.0064, Disc_Cat: 1.3382, Gen_Cat: 0.9293, Disc_Sty: 1.3885, Gen_Sty: 0.7180\n",
      "Validation Accuracy: 93.71%\n",
      "\n",
      "Weights saved to semisupervised_results/1000_epochs_adam_1000_samples/weights_*.pth\n"
     ]
    },
    {
     "data": {
      "application/vnd.jupyter.widget-view+json": {
       "model_id": "f4e09501c5ef418ab0e540bbfd5bd046",
       "version_major": 2,
       "version_minor": 0
      },
      "text/plain": [
       "Epoch [458/1000]:   0%|          | 0/10 [00:00<?, ?it/s]"
      ]
     },
     "metadata": {},
     "output_type": "display_data"
    },
    {
     "name": "stdout",
     "output_type": "stream",
     "text": [
      "Epoch 458/1000 — Recon_U: 0.0267, Recon_L: 0.0214, SemiSup: 0.0474, Disc_Cat: 1.3375, Gen_Cat: 0.9259, Disc_Sty: 1.3943, Gen_Sty: 0.7206\n",
      "Validation Accuracy: 93.69%\n",
      "\n",
      "Weights saved to semisupervised_results/1000_epochs_adam_1000_samples/weights_*.pth\n"
     ]
    },
    {
     "data": {
      "application/vnd.jupyter.widget-view+json": {
       "model_id": "5cff6fd425934bf39a4bcaca8b4e157d",
       "version_major": 2,
       "version_minor": 0
      },
      "text/plain": [
       "Epoch [459/1000]:   0%|          | 0/10 [00:00<?, ?it/s]"
      ]
     },
     "metadata": {},
     "output_type": "display_data"
    },
    {
     "name": "stdout",
     "output_type": "stream",
     "text": [
      "Epoch 459/1000 — Recon_U: 0.0265, Recon_L: 0.0214, SemiSup: 0.0215, Disc_Cat: 1.3308, Gen_Cat: 0.9521, Disc_Sty: 1.4052, Gen_Sty: 0.7120\n",
      "Validation Accuracy: 93.73%\n",
      "\n",
      "Weights saved to semisupervised_results/1000_epochs_adam_1000_samples/weights_*.pth\n"
     ]
    },
    {
     "data": {
      "application/vnd.jupyter.widget-view+json": {
       "model_id": "58da6bbf6bd44400bcd2b008886992c7",
       "version_major": 2,
       "version_minor": 0
      },
      "text/plain": [
       "Epoch [460/1000]:   0%|          | 0/10 [00:00<?, ?it/s]"
      ]
     },
     "metadata": {},
     "output_type": "display_data"
    },
    {
     "name": "stdout",
     "output_type": "stream",
     "text": [
      "Epoch 460/1000 — Recon_U: 0.0261, Recon_L: 0.0214, SemiSup: 0.0318, Disc_Cat: 1.3325, Gen_Cat: 0.9329, Disc_Sty: 1.4046, Gen_Sty: 0.7025\n",
      "Validation Accuracy: 93.63%\n",
      "\n",
      "Weights saved to semisupervised_results/1000_epochs_adam_1000_samples/weights_*.pth\n"
     ]
    },
    {
     "data": {
      "application/vnd.jupyter.widget-view+json": {
       "model_id": "7b4a061356614861a7bfecd8e8caa0d1",
       "version_major": 2,
       "version_minor": 0
      },
      "text/plain": [
       "Epoch [461/1000]:   0%|          | 0/10 [00:00<?, ?it/s]"
      ]
     },
     "metadata": {},
     "output_type": "display_data"
    },
    {
     "name": "stdout",
     "output_type": "stream",
     "text": [
      "Epoch 461/1000 — Recon_U: 0.0265, Recon_L: 0.0212, SemiSup: 0.0142, Disc_Cat: 1.3498, Gen_Cat: 0.8884, Disc_Sty: 1.3923, Gen_Sty: 0.7038\n",
      "Validation Accuracy: 93.59%\n",
      "\n",
      "Weights saved to semisupervised_results/1000_epochs_adam_1000_samples/weights_*.pth\n"
     ]
    },
    {
     "data": {
      "application/vnd.jupyter.widget-view+json": {
       "model_id": "0a94204a4fa84ff09cc76a6784793bbe",
       "version_major": 2,
       "version_minor": 0
      },
      "text/plain": [
       "Epoch [462/1000]:   0%|          | 0/10 [00:00<?, ?it/s]"
      ]
     },
     "metadata": {},
     "output_type": "display_data"
    },
    {
     "name": "stdout",
     "output_type": "stream",
     "text": [
      "Epoch 462/1000 — Recon_U: 0.0264, Recon_L: 0.0212, SemiSup: 0.0358, Disc_Cat: 1.3444, Gen_Cat: 0.8757, Disc_Sty: 1.3815, Gen_Sty: 0.7089\n",
      "Validation Accuracy: 93.51%\n",
      "\n",
      "Weights saved to semisupervised_results/1000_epochs_adam_1000_samples/weights_*.pth\n"
     ]
    },
    {
     "data": {
      "application/vnd.jupyter.widget-view+json": {
       "model_id": "8cfe5a8a1bfb4743a26e7ddc4cef4778",
       "version_major": 2,
       "version_minor": 0
      },
      "text/plain": [
       "Epoch [463/1000]:   0%|          | 0/10 [00:00<?, ?it/s]"
      ]
     },
     "metadata": {},
     "output_type": "display_data"
    },
    {
     "name": "stdout",
     "output_type": "stream",
     "text": [
      "Epoch 463/1000 — Recon_U: 0.0269, Recon_L: 0.0210, SemiSup: 0.0061, Disc_Cat: 1.3385, Gen_Cat: 0.9288, Disc_Sty: 1.3688, Gen_Sty: 0.7155\n",
      "Validation Accuracy: 93.51%\n",
      "\n",
      "Weights saved to semisupervised_results/1000_epochs_adam_1000_samples/weights_*.pth\n"
     ]
    },
    {
     "data": {
      "application/vnd.jupyter.widget-view+json": {
       "model_id": "93885635ecc143689bb61df519a1923c",
       "version_major": 2,
       "version_minor": 0
      },
      "text/plain": [
       "Epoch [464/1000]:   0%|          | 0/10 [00:00<?, ?it/s]"
      ]
     },
     "metadata": {},
     "output_type": "display_data"
    },
    {
     "name": "stdout",
     "output_type": "stream",
     "text": [
      "Epoch 464/1000 — Recon_U: 0.0262, Recon_L: 0.0210, SemiSup: 0.0154, Disc_Cat: 1.3418, Gen_Cat: 0.8700, Disc_Sty: 1.3642, Gen_Sty: 0.7145\n",
      "Validation Accuracy: 93.54%\n",
      "\n",
      "Weights saved to semisupervised_results/1000_epochs_adam_1000_samples/weights_*.pth\n"
     ]
    },
    {
     "data": {
      "application/vnd.jupyter.widget-view+json": {
       "model_id": "847e28a6c3fc4193b3b22102c8f20374",
       "version_major": 2,
       "version_minor": 0
      },
      "text/plain": [
       "Epoch [465/1000]:   0%|          | 0/10 [00:00<?, ?it/s]"
      ]
     },
     "metadata": {},
     "output_type": "display_data"
    },
    {
     "name": "stdout",
     "output_type": "stream",
     "text": [
      "Epoch 465/1000 — Recon_U: 0.0267, Recon_L: 0.0209, SemiSup: 0.0117, Disc_Cat: 1.3470, Gen_Cat: 0.8733, Disc_Sty: 1.3698, Gen_Sty: 0.7045\n",
      "Validation Accuracy: 93.68%\n",
      "\n",
      "Weights saved to semisupervised_results/1000_epochs_adam_1000_samples/weights_*.pth\n"
     ]
    },
    {
     "data": {
      "application/vnd.jupyter.widget-view+json": {
       "model_id": "ccb9e6b2605d49aea469bb32f52fb65f",
       "version_major": 2,
       "version_minor": 0
      },
      "text/plain": [
       "Epoch [466/1000]:   0%|          | 0/10 [00:00<?, ?it/s]"
      ]
     },
     "metadata": {},
     "output_type": "display_data"
    },
    {
     "name": "stdout",
     "output_type": "stream",
     "text": [
      "Epoch 466/1000 — Recon_U: 0.0264, Recon_L: 0.0209, SemiSup: 0.0304, Disc_Cat: 1.3476, Gen_Cat: 0.9016, Disc_Sty: 1.3825, Gen_Sty: 0.6901\n",
      "Validation Accuracy: 93.66%\n",
      "\n",
      "Weights saved to semisupervised_results/1000_epochs_adam_1000_samples/weights_*.pth\n"
     ]
    },
    {
     "data": {
      "application/vnd.jupyter.widget-view+json": {
       "model_id": "bd4e41e0aa30469297370de16446f69c",
       "version_major": 2,
       "version_minor": 0
      },
      "text/plain": [
       "Epoch [467/1000]:   0%|          | 0/10 [00:00<?, ?it/s]"
      ]
     },
     "metadata": {},
     "output_type": "display_data"
    },
    {
     "name": "stdout",
     "output_type": "stream",
     "text": [
      "Epoch 467/1000 — Recon_U: 0.0261, Recon_L: 0.0210, SemiSup: 0.0101, Disc_Cat: 1.3467, Gen_Cat: 0.8714, Disc_Sty: 1.3992, Gen_Sty: 0.6764\n",
      "Validation Accuracy: 93.63%\n",
      "\n",
      "Weights saved to semisupervised_results/1000_epochs_adam_1000_samples/weights_*.pth\n"
     ]
    },
    {
     "data": {
      "application/vnd.jupyter.widget-view+json": {
       "model_id": "bca040d93204478ebba5d42dd67df7e3",
       "version_major": 2,
       "version_minor": 0
      },
      "text/plain": [
       "Epoch [468/1000]:   0%|          | 0/10 [00:00<?, ?it/s]"
      ]
     },
     "metadata": {},
     "output_type": "display_data"
    },
    {
     "name": "stdout",
     "output_type": "stream",
     "text": [
      "Epoch 468/1000 — Recon_U: 0.0271, Recon_L: 0.0211, SemiSup: 0.0084, Disc_Cat: 1.3535, Gen_Cat: 0.8752, Disc_Sty: 1.4036, Gen_Sty: 0.6701\n",
      "Validation Accuracy: 93.66%\n",
      "\n",
      "Weights saved to semisupervised_results/1000_epochs_adam_1000_samples/weights_*.pth\n"
     ]
    },
    {
     "data": {
      "application/vnd.jupyter.widget-view+json": {
       "model_id": "84b7023c373441c99efdc0dbe3b4715e",
       "version_major": 2,
       "version_minor": 0
      },
      "text/plain": [
       "Epoch [469/1000]:   0%|          | 0/10 [00:00<?, ?it/s]"
      ]
     },
     "metadata": {},
     "output_type": "display_data"
    },
    {
     "name": "stdout",
     "output_type": "stream",
     "text": [
      "Epoch 469/1000 — Recon_U: 0.0267, Recon_L: 0.0212, SemiSup: 0.0085, Disc_Cat: 1.3377, Gen_Cat: 0.9149, Disc_Sty: 1.4036, Gen_Sty: 0.6733\n",
      "Validation Accuracy: 93.63%\n",
      "\n",
      "Weights saved to semisupervised_results/1000_epochs_adam_1000_samples/weights_*.pth\n"
     ]
    },
    {
     "data": {
      "application/vnd.jupyter.widget-view+json": {
       "model_id": "42064be2ccfe41cea324576824fd2afd",
       "version_major": 2,
       "version_minor": 0
      },
      "text/plain": [
       "Epoch [470/1000]:   0%|          | 0/10 [00:00<?, ?it/s]"
      ]
     },
     "metadata": {},
     "output_type": "display_data"
    },
    {
     "name": "stdout",
     "output_type": "stream",
     "text": [
      "Epoch 470/1000 — Recon_U: 0.0274, Recon_L: 0.0211, SemiSup: 0.0030, Disc_Cat: 1.3332, Gen_Cat: 0.9680, Disc_Sty: 1.3917, Gen_Sty: 0.6866\n",
      "Validation Accuracy: 93.66%\n",
      "\n",
      "Weights saved to semisupervised_results/1000_epochs_adam_1000_samples/weights_*.pth\n"
     ]
    },
    {
     "data": {
      "application/vnd.jupyter.widget-view+json": {
       "model_id": "e38d1b11e92a4c2daaaa3cc535b0bdf9",
       "version_major": 2,
       "version_minor": 0
      },
      "text/plain": [
       "Epoch [471/1000]:   0%|          | 0/10 [00:00<?, ?it/s]"
      ]
     },
     "metadata": {},
     "output_type": "display_data"
    },
    {
     "name": "stdout",
     "output_type": "stream",
     "text": [
      "Epoch 471/1000 — Recon_U: 0.0275, Recon_L: 0.0210, SemiSup: 0.0224, Disc_Cat: 1.3451, Gen_Cat: 0.9066, Disc_Sty: 1.3875, Gen_Sty: 0.7017\n",
      "Validation Accuracy: 93.69%\n",
      "\n",
      "Weights saved to semisupervised_results/1000_epochs_adam_1000_samples/weights_*.pth\n"
     ]
    },
    {
     "data": {
      "application/vnd.jupyter.widget-view+json": {
       "model_id": "e4e26f51e8484c499210961f736b4e57",
       "version_major": 2,
       "version_minor": 0
      },
      "text/plain": [
       "Epoch [472/1000]:   0%|          | 0/10 [00:00<?, ?it/s]"
      ]
     },
     "metadata": {},
     "output_type": "display_data"
    },
    {
     "name": "stdout",
     "output_type": "stream",
     "text": [
      "Epoch 472/1000 — Recon_U: 0.0265, Recon_L: 0.0212, SemiSup: 0.0076, Disc_Cat: 1.3466, Gen_Cat: 0.9011, Disc_Sty: 1.3856, Gen_Sty: 0.7091\n",
      "Validation Accuracy: 93.69%\n",
      "\n",
      "Weights saved to semisupervised_results/1000_epochs_adam_1000_samples/weights_*.pth\n"
     ]
    },
    {
     "data": {
      "application/vnd.jupyter.widget-view+json": {
       "model_id": "ba0ef52beec942dc8fdaf3bd32441890",
       "version_major": 2,
       "version_minor": 0
      },
      "text/plain": [
       "Epoch [473/1000]:   0%|          | 0/10 [00:00<?, ?it/s]"
      ]
     },
     "metadata": {},
     "output_type": "display_data"
    },
    {
     "name": "stdout",
     "output_type": "stream",
     "text": [
      "Epoch 473/1000 — Recon_U: 0.0266, Recon_L: 0.0210, SemiSup: 0.0132, Disc_Cat: 1.3375, Gen_Cat: 0.9265, Disc_Sty: 1.3906, Gen_Sty: 0.7078\n",
      "Validation Accuracy: 93.63%\n",
      "\n",
      "Weights saved to semisupervised_results/1000_epochs_adam_1000_samples/weights_*.pth\n"
     ]
    },
    {
     "data": {
      "application/vnd.jupyter.widget-view+json": {
       "model_id": "89e7e0267316473082928d44b5671721",
       "version_major": 2,
       "version_minor": 0
      },
      "text/plain": [
       "Epoch [474/1000]:   0%|          | 0/10 [00:00<?, ?it/s]"
      ]
     },
     "metadata": {},
     "output_type": "display_data"
    },
    {
     "name": "stdout",
     "output_type": "stream",
     "text": [
      "Epoch 474/1000 — Recon_U: 0.0268, Recon_L: 0.0211, SemiSup: 0.0108, Disc_Cat: 1.3388, Gen_Cat: 0.9061, Disc_Sty: 1.4017, Gen_Sty: 0.6948\n",
      "Validation Accuracy: 93.58%\n",
      "\n",
      "Weights saved to semisupervised_results/1000_epochs_adam_1000_samples/weights_*.pth\n"
     ]
    },
    {
     "data": {
      "application/vnd.jupyter.widget-view+json": {
       "model_id": "2945d76c25e84bd7ae7b65258133b09c",
       "version_major": 2,
       "version_minor": 0
      },
      "text/plain": [
       "Epoch [475/1000]:   0%|          | 0/10 [00:00<?, ?it/s]"
      ]
     },
     "metadata": {},
     "output_type": "display_data"
    },
    {
     "name": "stdout",
     "output_type": "stream",
     "text": [
      "Epoch 475/1000 — Recon_U: 0.0267, Recon_L: 0.0211, SemiSup: 0.0279, Disc_Cat: 1.3475, Gen_Cat: 0.8800, Disc_Sty: 1.3987, Gen_Sty: 0.6923\n",
      "Validation Accuracy: 93.54%\n",
      "\n",
      "Weights saved to semisupervised_results/1000_epochs_adam_1000_samples/weights_*.pth\n"
     ]
    },
    {
     "data": {
      "application/vnd.jupyter.widget-view+json": {
       "model_id": "f950cd1a8a8443a891b6cd7b63f21594",
       "version_major": 2,
       "version_minor": 0
      },
      "text/plain": [
       "Epoch [476/1000]:   0%|          | 0/10 [00:00<?, ?it/s]"
      ]
     },
     "metadata": {},
     "output_type": "display_data"
    },
    {
     "name": "stdout",
     "output_type": "stream",
     "text": [
      "Epoch 476/1000 — Recon_U: 0.0266, Recon_L: 0.0209, SemiSup: 0.0119, Disc_Cat: 1.3492, Gen_Cat: 0.8750, Disc_Sty: 1.3915, Gen_Sty: 0.6925\n",
      "Validation Accuracy: 93.63%\n",
      "\n",
      "Weights saved to semisupervised_results/1000_epochs_adam_1000_samples/weights_*.pth\n"
     ]
    },
    {
     "data": {
      "application/vnd.jupyter.widget-view+json": {
       "model_id": "c08754ef48224fec8736e3d0cef069ea",
       "version_major": 2,
       "version_minor": 0
      },
      "text/plain": [
       "Epoch [477/1000]:   0%|          | 0/10 [00:00<?, ?it/s]"
      ]
     },
     "metadata": {},
     "output_type": "display_data"
    },
    {
     "name": "stdout",
     "output_type": "stream",
     "text": [
      "Epoch 477/1000 — Recon_U: 0.0274, Recon_L: 0.0208, SemiSup: 0.0082, Disc_Cat: 1.3415, Gen_Cat: 0.8837, Disc_Sty: 1.3919, Gen_Sty: 0.6917\n",
      "Validation Accuracy: 93.63%\n",
      "\n",
      "Weights saved to semisupervised_results/1000_epochs_adam_1000_samples/weights_*.pth\n"
     ]
    },
    {
     "data": {
      "application/vnd.jupyter.widget-view+json": {
       "model_id": "8e5c3724780044deabca7ff2a1506c20",
       "version_major": 2,
       "version_minor": 0
      },
      "text/plain": [
       "Epoch [478/1000]:   0%|          | 0/10 [00:00<?, ?it/s]"
      ]
     },
     "metadata": {},
     "output_type": "display_data"
    },
    {
     "name": "stdout",
     "output_type": "stream",
     "text": [
      "Epoch 478/1000 — Recon_U: 0.0262, Recon_L: 0.0209, SemiSup: 0.0127, Disc_Cat: 1.3446, Gen_Cat: 0.9097, Disc_Sty: 1.3857, Gen_Sty: 0.6948\n",
      "Validation Accuracy: 93.61%\n",
      "\n",
      "Weights saved to semisupervised_results/1000_epochs_adam_1000_samples/weights_*.pth\n"
     ]
    },
    {
     "data": {
      "application/vnd.jupyter.widget-view+json": {
       "model_id": "5177df17a5f2462988975731b232b680",
       "version_major": 2,
       "version_minor": 0
      },
      "text/plain": [
       "Epoch [479/1000]:   0%|          | 0/10 [00:00<?, ?it/s]"
      ]
     },
     "metadata": {},
     "output_type": "display_data"
    },
    {
     "name": "stdout",
     "output_type": "stream",
     "text": [
      "Epoch 479/1000 — Recon_U: 0.0267, Recon_L: 0.0207, SemiSup: 0.0116, Disc_Cat: 1.3320, Gen_Cat: 0.9491, Disc_Sty: 1.3798, Gen_Sty: 0.6945\n",
      "Validation Accuracy: 93.61%\n",
      "\n",
      "Weights saved to semisupervised_results/1000_epochs_adam_1000_samples/weights_*.pth\n"
     ]
    },
    {
     "data": {
      "application/vnd.jupyter.widget-view+json": {
       "model_id": "beb00479765a43269c74ca625f92f5fc",
       "version_major": 2,
       "version_minor": 0
      },
      "text/plain": [
       "Epoch [480/1000]:   0%|          | 0/10 [00:00<?, ?it/s]"
      ]
     },
     "metadata": {},
     "output_type": "display_data"
    },
    {
     "name": "stdout",
     "output_type": "stream",
     "text": [
      "Epoch 480/1000 — Recon_U: 0.0265, Recon_L: 0.0206, SemiSup: 0.0308, Disc_Cat: 1.3458, Gen_Cat: 0.8857, Disc_Sty: 1.3801, Gen_Sty: 0.6946\n",
      "Validation Accuracy: 93.64%\n",
      "\n",
      "Weights saved to semisupervised_results/1000_epochs_adam_1000_samples/weights_*.pth\n"
     ]
    },
    {
     "data": {
      "application/vnd.jupyter.widget-view+json": {
       "model_id": "17ddced76ffa4373ae2c731bcb60e7e1",
       "version_major": 2,
       "version_minor": 0
      },
      "text/plain": [
       "Epoch [481/1000]:   0%|          | 0/10 [00:00<?, ?it/s]"
      ]
     },
     "metadata": {},
     "output_type": "display_data"
    },
    {
     "name": "stdout",
     "output_type": "stream",
     "text": [
      "Epoch 481/1000 — Recon_U: 0.0262, Recon_L: 0.0206, SemiSup: 0.0051, Disc_Cat: 1.3404, Gen_Cat: 0.9047, Disc_Sty: 1.3751, Gen_Sty: 0.6966\n",
      "Validation Accuracy: 93.63%\n",
      "\n",
      "Weights saved to semisupervised_results/1000_epochs_adam_1000_samples/weights_*.pth\n"
     ]
    },
    {
     "data": {
      "application/vnd.jupyter.widget-view+json": {
       "model_id": "7c5cc5625e6842e785d3de3cd624e208",
       "version_major": 2,
       "version_minor": 0
      },
      "text/plain": [
       "Epoch [482/1000]:   0%|          | 0/10 [00:00<?, ?it/s]"
      ]
     },
     "metadata": {},
     "output_type": "display_data"
    },
    {
     "name": "stdout",
     "output_type": "stream",
     "text": [
      "Epoch 482/1000 — Recon_U: 0.0266, Recon_L: 0.0206, SemiSup: 0.0140, Disc_Cat: 1.3301, Gen_Cat: 0.9733, Disc_Sty: 1.3756, Gen_Sty: 0.6932\n",
      "Validation Accuracy: 93.63%\n",
      "\n",
      "Weights saved to semisupervised_results/1000_epochs_adam_1000_samples/weights_*.pth\n"
     ]
    },
    {
     "data": {
      "application/vnd.jupyter.widget-view+json": {
       "model_id": "b6a800223051443f9abd8c8d9f8aa3bf",
       "version_major": 2,
       "version_minor": 0
      },
      "text/plain": [
       "Epoch [483/1000]:   0%|          | 0/10 [00:00<?, ?it/s]"
      ]
     },
     "metadata": {},
     "output_type": "display_data"
    },
    {
     "name": "stdout",
     "output_type": "stream",
     "text": [
      "Epoch 483/1000 — Recon_U: 0.0261, Recon_L: 0.0205, SemiSup: 0.0040, Disc_Cat: 1.3447, Gen_Cat: 0.9042, Disc_Sty: 1.3804, Gen_Sty: 0.6885\n",
      "Validation Accuracy: 93.54%\n",
      "\n",
      "Weights saved to semisupervised_results/1000_epochs_adam_1000_samples/weights_*.pth\n"
     ]
    },
    {
     "data": {
      "application/vnd.jupyter.widget-view+json": {
       "model_id": "72fdd157f31b46bb8951bb916ad90095",
       "version_major": 2,
       "version_minor": 0
      },
      "text/plain": [
       "Epoch [484/1000]:   0%|          | 0/10 [00:00<?, ?it/s]"
      ]
     },
     "metadata": {},
     "output_type": "display_data"
    },
    {
     "name": "stdout",
     "output_type": "stream",
     "text": [
      "Epoch 484/1000 — Recon_U: 0.0263, Recon_L: 0.0205, SemiSup: 0.0114, Disc_Cat: 1.3372, Gen_Cat: 0.9627, Disc_Sty: 1.3864, Gen_Sty: 0.6803\n",
      "Validation Accuracy: 93.58%\n",
      "\n",
      "Weights saved to semisupervised_results/1000_epochs_adam_1000_samples/weights_*.pth\n"
     ]
    },
    {
     "data": {
      "application/vnd.jupyter.widget-view+json": {
       "model_id": "f8d1ce743ca3410c8ffadda0f85f69c8",
       "version_major": 2,
       "version_minor": 0
      },
      "text/plain": [
       "Epoch [485/1000]:   0%|          | 0/10 [00:00<?, ?it/s]"
      ]
     },
     "metadata": {},
     "output_type": "display_data"
    },
    {
     "name": "stdout",
     "output_type": "stream",
     "text": [
      "Epoch 485/1000 — Recon_U: 0.0262, Recon_L: 0.0205, SemiSup: 0.0134, Disc_Cat: 1.3510, Gen_Cat: 0.8565, Disc_Sty: 1.3926, Gen_Sty: 0.6721\n",
      "Validation Accuracy: 93.53%\n",
      "\n",
      "Weights saved to semisupervised_results/1000_epochs_adam_1000_samples/weights_*.pth\n"
     ]
    },
    {
     "data": {
      "application/vnd.jupyter.widget-view+json": {
       "model_id": "900b3d264cb1450a9fda068497b1e004",
       "version_major": 2,
       "version_minor": 0
      },
      "text/plain": [
       "Epoch [486/1000]:   0%|          | 0/10 [00:00<?, ?it/s]"
      ]
     },
     "metadata": {},
     "output_type": "display_data"
    },
    {
     "name": "stdout",
     "output_type": "stream",
     "text": [
      "Epoch 486/1000 — Recon_U: 0.0262, Recon_L: 0.0207, SemiSup: 0.0542, Disc_Cat: 1.3382, Gen_Cat: 0.9212, Disc_Sty: 1.3930, Gen_Sty: 0.6695\n",
      "Validation Accuracy: 93.51%\n",
      "\n",
      "Weights saved to semisupervised_results/1000_epochs_adam_1000_samples/weights_*.pth\n"
     ]
    },
    {
     "data": {
      "application/vnd.jupyter.widget-view+json": {
       "model_id": "7bdc7607a2c14d949cdacce40616402f",
       "version_major": 2,
       "version_minor": 0
      },
      "text/plain": [
       "Epoch [487/1000]:   0%|          | 0/10 [00:00<?, ?it/s]"
      ]
     },
     "metadata": {},
     "output_type": "display_data"
    },
    {
     "name": "stdout",
     "output_type": "stream",
     "text": [
      "Epoch 487/1000 — Recon_U: 0.0261, Recon_L: 0.0205, SemiSup: 0.0108, Disc_Cat: 1.3451, Gen_Cat: 0.9142, Disc_Sty: 1.3925, Gen_Sty: 0.6713\n",
      "Validation Accuracy: 93.54%\n",
      "\n",
      "Weights saved to semisupervised_results/1000_epochs_adam_1000_samples/weights_*.pth\n"
     ]
    },
    {
     "data": {
      "application/vnd.jupyter.widget-view+json": {
       "model_id": "36a3b11056784e979fbf84239c88792a",
       "version_major": 2,
       "version_minor": 0
      },
      "text/plain": [
       "Epoch [488/1000]:   0%|          | 0/10 [00:00<?, ?it/s]"
      ]
     },
     "metadata": {},
     "output_type": "display_data"
    },
    {
     "name": "stdout",
     "output_type": "stream",
     "text": [
      "Epoch 488/1000 — Recon_U: 0.0262, Recon_L: 0.0207, SemiSup: 0.0323, Disc_Cat: 1.3233, Gen_Cat: 0.9433, Disc_Sty: 1.3907, Gen_Sty: 0.6774\n",
      "Validation Accuracy: 93.51%\n",
      "\n",
      "Weights saved to semisupervised_results/1000_epochs_adam_1000_samples/weights_*.pth\n"
     ]
    },
    {
     "data": {
      "application/vnd.jupyter.widget-view+json": {
       "model_id": "a3318def19aa4f2f9d69c9ee14d7d18c",
       "version_major": 2,
       "version_minor": 0
      },
      "text/plain": [
       "Epoch [489/1000]:   0%|          | 0/10 [00:00<?, ?it/s]"
      ]
     },
     "metadata": {},
     "output_type": "display_data"
    },
    {
     "name": "stdout",
     "output_type": "stream",
     "text": [
      "Epoch 489/1000 — Recon_U: 0.0259, Recon_L: 0.0204, SemiSup: 0.0050, Disc_Cat: 1.3457, Gen_Cat: 0.9069, Disc_Sty: 1.3859, Gen_Sty: 0.6885\n",
      "Validation Accuracy: 93.63%\n",
      "\n",
      "Weights saved to semisupervised_results/1000_epochs_adam_1000_samples/weights_*.pth\n"
     ]
    },
    {
     "data": {
      "application/vnd.jupyter.widget-view+json": {
       "model_id": "1ddab435df61438a93d5708f571583b1",
       "version_major": 2,
       "version_minor": 0
      },
      "text/plain": [
       "Epoch [490/1000]:   0%|          | 0/10 [00:00<?, ?it/s]"
      ]
     },
     "metadata": {},
     "output_type": "display_data"
    },
    {
     "name": "stdout",
     "output_type": "stream",
     "text": [
      "Epoch 490/1000 — Recon_U: 0.0274, Recon_L: 0.0205, SemiSup: 0.0393, Disc_Cat: 1.3400, Gen_Cat: 0.9715, Disc_Sty: 1.3719, Gen_Sty: 0.7040\n",
      "Validation Accuracy: 93.58%\n",
      "\n",
      "Weights saved to semisupervised_results/1000_epochs_adam_1000_samples/weights_*.pth\n"
     ]
    },
    {
     "data": {
      "application/vnd.jupyter.widget-view+json": {
       "model_id": "0f5be4816e61434b91a2e708c88a9541",
       "version_major": 2,
       "version_minor": 0
      },
      "text/plain": [
       "Epoch [491/1000]:   0%|          | 0/10 [00:00<?, ?it/s]"
      ]
     },
     "metadata": {},
     "output_type": "display_data"
    },
    {
     "name": "stdout",
     "output_type": "stream",
     "text": [
      "Epoch 491/1000 — Recon_U: 0.0264, Recon_L: 0.0205, SemiSup: 0.0148, Disc_Cat: 1.3471, Gen_Cat: 0.8853, Disc_Sty: 1.3720, Gen_Sty: 0.7053\n",
      "Validation Accuracy: 93.63%\n",
      "\n",
      "Weights saved to semisupervised_results/1000_epochs_adam_1000_samples/weights_*.pth\n"
     ]
    },
    {
     "data": {
      "application/vnd.jupyter.widget-view+json": {
       "model_id": "6232e3620bc74ceab3d979041add6d93",
       "version_major": 2,
       "version_minor": 0
      },
      "text/plain": [
       "Epoch [492/1000]:   0%|          | 0/10 [00:00<?, ?it/s]"
      ]
     },
     "metadata": {},
     "output_type": "display_data"
    },
    {
     "name": "stdout",
     "output_type": "stream",
     "text": [
      "Epoch 492/1000 — Recon_U: 0.0259, Recon_L: 0.0206, SemiSup: 0.0275, Disc_Cat: 1.3414, Gen_Cat: 0.9200, Disc_Sty: 1.3734, Gen_Sty: 0.7052\n",
      "Validation Accuracy: 93.66%\n",
      "\n",
      "Weights saved to semisupervised_results/1000_epochs_adam_1000_samples/weights_*.pth\n"
     ]
    },
    {
     "data": {
      "application/vnd.jupyter.widget-view+json": {
       "model_id": "f263759887cb41fbb7fe2c58992bfb1f",
       "version_major": 2,
       "version_minor": 0
      },
      "text/plain": [
       "Epoch [493/1000]:   0%|          | 0/10 [00:00<?, ?it/s]"
      ]
     },
     "metadata": {},
     "output_type": "display_data"
    },
    {
     "name": "stdout",
     "output_type": "stream",
     "text": [
      "Epoch 493/1000 — Recon_U: 0.0268, Recon_L: 0.0207, SemiSup: 0.0023, Disc_Cat: 1.3393, Gen_Cat: 0.9065, Disc_Sty: 1.3869, Gen_Sty: 0.6927\n",
      "Validation Accuracy: 93.66%\n",
      "\n",
      "Weights saved to semisupervised_results/1000_epochs_adam_1000_samples/weights_*.pth\n"
     ]
    },
    {
     "data": {
      "application/vnd.jupyter.widget-view+json": {
       "model_id": "ca0aed1c4fc84d22b6649b5ac5b7aabd",
       "version_major": 2,
       "version_minor": 0
      },
      "text/plain": [
       "Epoch [494/1000]:   0%|          | 0/10 [00:00<?, ?it/s]"
      ]
     },
     "metadata": {},
     "output_type": "display_data"
    },
    {
     "name": "stdout",
     "output_type": "stream",
     "text": [
      "Epoch 494/1000 — Recon_U: 0.0264, Recon_L: 0.0207, SemiSup: 0.0049, Disc_Cat: 1.3554, Gen_Cat: 0.8819, Disc_Sty: 1.4022, Gen_Sty: 0.6772\n",
      "Validation Accuracy: 93.68%\n",
      "\n",
      "Weights saved to semisupervised_results/1000_epochs_adam_1000_samples/weights_*.pth\n"
     ]
    },
    {
     "data": {
      "application/vnd.jupyter.widget-view+json": {
       "model_id": "c0db3f193620491f8c24e9633d9c529a",
       "version_major": 2,
       "version_minor": 0
      },
      "text/plain": [
       "Epoch [495/1000]:   0%|          | 0/10 [00:00<?, ?it/s]"
      ]
     },
     "metadata": {},
     "output_type": "display_data"
    },
    {
     "name": "stdout",
     "output_type": "stream",
     "text": [
      "Epoch 495/1000 — Recon_U: 0.0264, Recon_L: 0.0206, SemiSup: 0.0094, Disc_Cat: 1.3502, Gen_Cat: 0.8515, Disc_Sty: 1.4097, Gen_Sty: 0.6699\n",
      "Validation Accuracy: 93.71%\n",
      "\n",
      "Weights saved to semisupervised_results/1000_epochs_adam_1000_samples/weights_*.pth\n"
     ]
    },
    {
     "data": {
      "application/vnd.jupyter.widget-view+json": {
       "model_id": "72d4452ae255493fb19fbd26a1839c45",
       "version_major": 2,
       "version_minor": 0
      },
      "text/plain": [
       "Epoch [496/1000]:   0%|          | 0/10 [00:00<?, ?it/s]"
      ]
     },
     "metadata": {},
     "output_type": "display_data"
    },
    {
     "name": "stdout",
     "output_type": "stream",
     "text": [
      "Epoch 496/1000 — Recon_U: 0.0264, Recon_L: 0.0206, SemiSup: 0.0324, Disc_Cat: 1.3371, Gen_Cat: 0.9056, Disc_Sty: 1.4012, Gen_Sty: 0.6787\n",
      "Validation Accuracy: 93.61%\n",
      "\n",
      "Weights saved to semisupervised_results/1000_epochs_adam_1000_samples/weights_*.pth\n"
     ]
    },
    {
     "data": {
      "application/vnd.jupyter.widget-view+json": {
       "model_id": "bacaab9dbfdf41588808c0df0f6e431b",
       "version_major": 2,
       "version_minor": 0
      },
      "text/plain": [
       "Epoch [497/1000]:   0%|          | 0/10 [00:00<?, ?it/s]"
      ]
     },
     "metadata": {},
     "output_type": "display_data"
    },
    {
     "name": "stdout",
     "output_type": "stream",
     "text": [
      "Epoch 497/1000 — Recon_U: 0.0263, Recon_L: 0.0205, SemiSup: 0.0007, Disc_Cat: 1.3331, Gen_Cat: 0.9601, Disc_Sty: 1.3929, Gen_Sty: 0.6920\n",
      "Validation Accuracy: 93.63%\n",
      "\n",
      "Weights saved to semisupervised_results/1000_epochs_adam_1000_samples/weights_*.pth\n"
     ]
    },
    {
     "data": {
      "application/vnd.jupyter.widget-view+json": {
       "model_id": "a33fb3c668a3440fa4e204f2e3cdb506",
       "version_major": 2,
       "version_minor": 0
      },
      "text/plain": [
       "Epoch [498/1000]:   0%|          | 0/10 [00:00<?, ?it/s]"
      ]
     },
     "metadata": {},
     "output_type": "display_data"
    },
    {
     "name": "stdout",
     "output_type": "stream",
     "text": [
      "Epoch 498/1000 — Recon_U: 0.0267, Recon_L: 0.0206, SemiSup: 0.0191, Disc_Cat: 1.3391, Gen_Cat: 0.8924, Disc_Sty: 1.3829, Gen_Sty: 0.7019\n",
      "Validation Accuracy: 93.64%\n",
      "\n",
      "Weights saved to semisupervised_results/1000_epochs_adam_1000_samples/weights_*.pth\n"
     ]
    },
    {
     "data": {
      "application/vnd.jupyter.widget-view+json": {
       "model_id": "93a318e3dc01463198b976429cea6ad2",
       "version_major": 2,
       "version_minor": 0
      },
      "text/plain": [
       "Epoch [499/1000]:   0%|          | 0/10 [00:00<?, ?it/s]"
      ]
     },
     "metadata": {},
     "output_type": "display_data"
    },
    {
     "name": "stdout",
     "output_type": "stream",
     "text": [
      "Epoch 499/1000 — Recon_U: 0.0265, Recon_L: 0.0205, SemiSup: 0.0030, Disc_Cat: 1.3413, Gen_Cat: 0.9045, Disc_Sty: 1.3796, Gen_Sty: 0.7028\n",
      "Validation Accuracy: 93.66%\n",
      "\n",
      "Weights saved to semisupervised_results/1000_epochs_adam_1000_samples/weights_*.pth\n"
     ]
    },
    {
     "data": {
      "application/vnd.jupyter.widget-view+json": {
       "model_id": "a6ee05b2877c4621b4a86b3cf3fd64c6",
       "version_major": 2,
       "version_minor": 0
      },
      "text/plain": [
       "Epoch [500/1000]:   0%|          | 0/10 [00:00<?, ?it/s]"
      ]
     },
     "metadata": {},
     "output_type": "display_data"
    },
    {
     "name": "stdout",
     "output_type": "stream",
     "text": [
      "Epoch 500/1000 — Recon_U: 0.0264, Recon_L: 0.0203, SemiSup: 0.0094, Disc_Cat: 1.3478, Gen_Cat: 0.9137, Disc_Sty: 1.3746, Gen_Sty: 0.7106\n",
      "Validation Accuracy: 93.51%\n",
      "\n",
      "Weights saved to semisupervised_results/1000_epochs_adam_1000_samples/weights_epoch_500/weights_*.pth\n",
      "Weights saved to semisupervised_results/1000_epochs_adam_1000_samples/weights_*.pth\n"
     ]
    },
    {
     "data": {
      "application/vnd.jupyter.widget-view+json": {
       "model_id": "36f8467cde90441c842ad7669bd674c2",
       "version_major": 2,
       "version_minor": 0
      },
      "text/plain": [
       "Epoch [501/1000]:   0%|          | 0/10 [00:00<?, ?it/s]"
      ]
     },
     "metadata": {},
     "output_type": "display_data"
    },
    {
     "name": "stdout",
     "output_type": "stream",
     "text": [
      "Epoch 501/1000 — Recon_U: 0.0259, Recon_L: 0.0204, SemiSup: 0.0029, Disc_Cat: 1.3408, Gen_Cat: 0.8983, Disc_Sty: 1.3848, Gen_Sty: 0.6998\n",
      "Validation Accuracy: 93.51%\n",
      "\n",
      "Weights saved to semisupervised_results/1000_epochs_adam_1000_samples/weights_*.pth\n"
     ]
    },
    {
     "data": {
      "application/vnd.jupyter.widget-view+json": {
       "model_id": "55558e69254f43f98b98ec80fa1a4cff",
       "version_major": 2,
       "version_minor": 0
      },
      "text/plain": [
       "Epoch [502/1000]:   0%|          | 0/10 [00:00<?, ?it/s]"
      ]
     },
     "metadata": {},
     "output_type": "display_data"
    },
    {
     "name": "stdout",
     "output_type": "stream",
     "text": [
      "Epoch 502/1000 — Recon_U: 0.0269, Recon_L: 0.0204, SemiSup: 0.0124, Disc_Cat: 1.3324, Gen_Cat: 0.9539, Disc_Sty: 1.3865, Gen_Sty: 0.6951\n",
      "Validation Accuracy: 93.54%\n",
      "\n",
      "Weights saved to semisupervised_results/1000_epochs_adam_1000_samples/weights_*.pth\n"
     ]
    },
    {
     "data": {
      "application/vnd.jupyter.widget-view+json": {
       "model_id": "97db0f0d7b1d4872b3facba9e26604c4",
       "version_major": 2,
       "version_minor": 0
      },
      "text/plain": [
       "Epoch [503/1000]:   0%|          | 0/10 [00:00<?, ?it/s]"
      ]
     },
     "metadata": {},
     "output_type": "display_data"
    },
    {
     "name": "stdout",
     "output_type": "stream",
     "text": [
      "Epoch 503/1000 — Recon_U: 0.0268, Recon_L: 0.0203, SemiSup: 0.0031, Disc_Cat: 1.3387, Gen_Cat: 0.9195, Disc_Sty: 1.3874, Gen_Sty: 0.6878\n",
      "Validation Accuracy: 93.59%\n",
      "\n",
      "Weights saved to semisupervised_results/1000_epochs_adam_1000_samples/weights_*.pth\n"
     ]
    },
    {
     "data": {
      "application/vnd.jupyter.widget-view+json": {
       "model_id": "d291d94e2ff449f19a70b373989b24d2",
       "version_major": 2,
       "version_minor": 0
      },
      "text/plain": [
       "Epoch [504/1000]:   0%|          | 0/10 [00:00<?, ?it/s]"
      ]
     },
     "metadata": {},
     "output_type": "display_data"
    },
    {
     "name": "stdout",
     "output_type": "stream",
     "text": [
      "Epoch 504/1000 — Recon_U: 0.0252, Recon_L: 0.0204, SemiSup: 0.0078, Disc_Cat: 1.3374, Gen_Cat: 0.9265, Disc_Sty: 1.3842, Gen_Sty: 0.6845\n",
      "Validation Accuracy: 93.59%\n",
      "\n",
      "Weights saved to semisupervised_results/1000_epochs_adam_1000_samples/weights_*.pth\n"
     ]
    },
    {
     "data": {
      "application/vnd.jupyter.widget-view+json": {
       "model_id": "527a297896e246f9b2822a8ef3d18662",
       "version_major": 2,
       "version_minor": 0
      },
      "text/plain": [
       "Epoch [505/1000]:   0%|          | 0/10 [00:00<?, ?it/s]"
      ]
     },
     "metadata": {},
     "output_type": "display_data"
    },
    {
     "name": "stdout",
     "output_type": "stream",
     "text": [
      "Epoch 505/1000 — Recon_U: 0.0263, Recon_L: 0.0204, SemiSup: 0.0132, Disc_Cat: 1.3301, Gen_Cat: 0.9584, Disc_Sty: 1.3868, Gen_Sty: 0.6790\n",
      "Validation Accuracy: 93.51%\n",
      "\n",
      "Weights saved to semisupervised_results/1000_epochs_adam_1000_samples/weights_*.pth\n"
     ]
    },
    {
     "data": {
      "application/vnd.jupyter.widget-view+json": {
       "model_id": "2e87c46386fd49019095d35ce565a5a9",
       "version_major": 2,
       "version_minor": 0
      },
      "text/plain": [
       "Epoch [506/1000]:   0%|          | 0/10 [00:00<?, ?it/s]"
      ]
     },
     "metadata": {},
     "output_type": "display_data"
    },
    {
     "name": "stdout",
     "output_type": "stream",
     "text": [
      "Epoch 506/1000 — Recon_U: 0.0261, Recon_L: 0.0204, SemiSup: 0.0363, Disc_Cat: 1.3370, Gen_Cat: 0.9145, Disc_Sty: 1.3867, Gen_Sty: 0.6775\n",
      "Validation Accuracy: 93.59%\n",
      "\n",
      "Weights saved to semisupervised_results/1000_epochs_adam_1000_samples/weights_*.pth\n"
     ]
    },
    {
     "data": {
      "application/vnd.jupyter.widget-view+json": {
       "model_id": "6041496813284efdb43005c3ee983e8b",
       "version_major": 2,
       "version_minor": 0
      },
      "text/plain": [
       "Epoch [507/1000]:   0%|          | 0/10 [00:00<?, ?it/s]"
      ]
     },
     "metadata": {},
     "output_type": "display_data"
    },
    {
     "name": "stdout",
     "output_type": "stream",
     "text": [
      "Epoch 507/1000 — Recon_U: 0.0255, Recon_L: 0.0205, SemiSup: 0.0069, Disc_Cat: 1.3415, Gen_Cat: 0.8722, Disc_Sty: 1.3839, Gen_Sty: 0.6811\n",
      "Validation Accuracy: 93.66%\n",
      "\n",
      "Weights saved to semisupervised_results/1000_epochs_adam_1000_samples/weights_*.pth\n"
     ]
    },
    {
     "data": {
      "application/vnd.jupyter.widget-view+json": {
       "model_id": "5711fc1e5bdf49d1a1ce917e3eb0a63c",
       "version_major": 2,
       "version_minor": 0
      },
      "text/plain": [
       "Epoch [508/1000]:   0%|          | 0/10 [00:00<?, ?it/s]"
      ]
     },
     "metadata": {},
     "output_type": "display_data"
    },
    {
     "name": "stdout",
     "output_type": "stream",
     "text": [
      "Epoch 508/1000 — Recon_U: 0.0256, Recon_L: 0.0203, SemiSup: 0.0206, Disc_Cat: 1.3379, Gen_Cat: 0.9125, Disc_Sty: 1.3815, Gen_Sty: 0.6801\n",
      "Validation Accuracy: 93.68%\n",
      "\n",
      "Weights saved to semisupervised_results/1000_epochs_adam_1000_samples/weights_*.pth\n"
     ]
    },
    {
     "data": {
      "application/vnd.jupyter.widget-view+json": {
       "model_id": "5e119aeab21f4a3ebc4af9dd367ae253",
       "version_major": 2,
       "version_minor": 0
      },
      "text/plain": [
       "Epoch [509/1000]:   0%|          | 0/10 [00:00<?, ?it/s]"
      ]
     },
     "metadata": {},
     "output_type": "display_data"
    },
    {
     "name": "stdout",
     "output_type": "stream",
     "text": [
      "Epoch 509/1000 — Recon_U: 0.0266, Recon_L: 0.0204, SemiSup: 0.0192, Disc_Cat: 1.3308, Gen_Cat: 0.9691, Disc_Sty: 1.3846, Gen_Sty: 0.6814\n",
      "Validation Accuracy: 93.68%\n",
      "\n",
      "Weights saved to semisupervised_results/1000_epochs_adam_1000_samples/weights_*.pth\n"
     ]
    },
    {
     "data": {
      "application/vnd.jupyter.widget-view+json": {
       "model_id": "686627a7763b4a9593c04e8124c935f4",
       "version_major": 2,
       "version_minor": 0
      },
      "text/plain": [
       "Epoch [510/1000]:   0%|          | 0/10 [00:00<?, ?it/s]"
      ]
     },
     "metadata": {},
     "output_type": "display_data"
    },
    {
     "name": "stdout",
     "output_type": "stream",
     "text": [
      "Epoch 510/1000 — Recon_U: 0.0266, Recon_L: 0.0203, SemiSup: 0.0241, Disc_Cat: 1.3358, Gen_Cat: 0.9515, Disc_Sty: 1.3861, Gen_Sty: 0.6826\n",
      "Validation Accuracy: 93.66%\n",
      "\n",
      "Weights saved to semisupervised_results/1000_epochs_adam_1000_samples/weights_*.pth\n"
     ]
    },
    {
     "data": {
      "application/vnd.jupyter.widget-view+json": {
       "model_id": "c7fddb56b02c4828831eee0d3f35f426",
       "version_major": 2,
       "version_minor": 0
      },
      "text/plain": [
       "Epoch [511/1000]:   0%|          | 0/10 [00:00<?, ?it/s]"
      ]
     },
     "metadata": {},
     "output_type": "display_data"
    },
    {
     "name": "stdout",
     "output_type": "stream",
     "text": [
      "Epoch 511/1000 — Recon_U: 0.0258, Recon_L: 0.0203, SemiSup: 0.0054, Disc_Cat: 1.3415, Gen_Cat: 0.8960, Disc_Sty: 1.3842, Gen_Sty: 0.6897\n",
      "Validation Accuracy: 93.76%\n",
      "\n",
      "Weights saved to semisupervised_results/1000_epochs_adam_1000_samples/weights_*.pth\n"
     ]
    },
    {
     "data": {
      "application/vnd.jupyter.widget-view+json": {
       "model_id": "a00d927aabdc4ba8b6969e5b4e48e757",
       "version_major": 2,
       "version_minor": 0
      },
      "text/plain": [
       "Epoch [512/1000]:   0%|          | 0/10 [00:00<?, ?it/s]"
      ]
     },
     "metadata": {},
     "output_type": "display_data"
    },
    {
     "name": "stdout",
     "output_type": "stream",
     "text": [
      "Epoch 512/1000 — Recon_U: 0.0260, Recon_L: 0.0203, SemiSup: 0.0259, Disc_Cat: 1.3463, Gen_Cat: 0.9278, Disc_Sty: 1.3886, Gen_Sty: 0.6940\n",
      "Validation Accuracy: 93.76%\n",
      "\n",
      "Weights saved to semisupervised_results/1000_epochs_adam_1000_samples/weights_*.pth\n"
     ]
    },
    {
     "data": {
      "application/vnd.jupyter.widget-view+json": {
       "model_id": "a3c1f2e410db421bad22abb570b1c0a1",
       "version_major": 2,
       "version_minor": 0
      },
      "text/plain": [
       "Epoch [513/1000]:   0%|          | 0/10 [00:00<?, ?it/s]"
      ]
     },
     "metadata": {},
     "output_type": "display_data"
    },
    {
     "name": "stdout",
     "output_type": "stream",
     "text": [
      "Epoch 513/1000 — Recon_U: 0.0260, Recon_L: 0.0203, SemiSup: 0.0071, Disc_Cat: 1.3331, Gen_Cat: 0.9433, Disc_Sty: 1.3829, Gen_Sty: 0.7058\n",
      "Validation Accuracy: 93.68%\n",
      "\n",
      "Weights saved to semisupervised_results/1000_epochs_adam_1000_samples/weights_*.pth\n"
     ]
    },
    {
     "data": {
      "application/vnd.jupyter.widget-view+json": {
       "model_id": "2af319f903a647a78ca8dffad3ca6000",
       "version_major": 2,
       "version_minor": 0
      },
      "text/plain": [
       "Epoch [514/1000]:   0%|          | 0/10 [00:00<?, ?it/s]"
      ]
     },
     "metadata": {},
     "output_type": "display_data"
    },
    {
     "name": "stdout",
     "output_type": "stream",
     "text": [
      "Epoch 514/1000 — Recon_U: 0.0255, Recon_L: 0.0204, SemiSup: 0.0066, Disc_Cat: 1.3552, Gen_Cat: 0.8926, Disc_Sty: 1.3854, Gen_Sty: 0.7104\n",
      "Validation Accuracy: 93.68%\n",
      "\n",
      "Weights saved to semisupervised_results/1000_epochs_adam_1000_samples/weights_*.pth\n"
     ]
    },
    {
     "data": {
      "application/vnd.jupyter.widget-view+json": {
       "model_id": "3cdb4199018048639e1f1db3082daced",
       "version_major": 2,
       "version_minor": 0
      },
      "text/plain": [
       "Epoch [515/1000]:   0%|          | 0/10 [00:00<?, ?it/s]"
      ]
     },
     "metadata": {},
     "output_type": "display_data"
    },
    {
     "name": "stdout",
     "output_type": "stream",
     "text": [
      "Epoch 515/1000 — Recon_U: 0.0265, Recon_L: 0.0203, SemiSup: 0.0042, Disc_Cat: 1.3495, Gen_Cat: 0.8868, Disc_Sty: 1.3855, Gen_Sty: 0.7053\n",
      "Validation Accuracy: 93.69%\n",
      "\n",
      "Weights saved to semisupervised_results/1000_epochs_adam_1000_samples/weights_*.pth\n"
     ]
    },
    {
     "data": {
      "application/vnd.jupyter.widget-view+json": {
       "model_id": "1369f859d886492ba5dad73a830f9f4e",
       "version_major": 2,
       "version_minor": 0
      },
      "text/plain": [
       "Epoch [516/1000]:   0%|          | 0/10 [00:00<?, ?it/s]"
      ]
     },
     "metadata": {},
     "output_type": "display_data"
    },
    {
     "name": "stdout",
     "output_type": "stream",
     "text": [
      "Epoch 516/1000 — Recon_U: 0.0266, Recon_L: 0.0202, SemiSup: 0.0072, Disc_Cat: 1.3478, Gen_Cat: 0.9073, Disc_Sty: 1.3883, Gen_Sty: 0.6990\n",
      "Validation Accuracy: 93.71%\n",
      "\n",
      "Weights saved to semisupervised_results/1000_epochs_adam_1000_samples/weights_*.pth\n"
     ]
    },
    {
     "data": {
      "application/vnd.jupyter.widget-view+json": {
       "model_id": "56802c350bbe4fd1afa707903e534726",
       "version_major": 2,
       "version_minor": 0
      },
      "text/plain": [
       "Epoch [517/1000]:   0%|          | 0/10 [00:00<?, ?it/s]"
      ]
     },
     "metadata": {},
     "output_type": "display_data"
    },
    {
     "name": "stdout",
     "output_type": "stream",
     "text": [
      "Epoch 517/1000 — Recon_U: 0.0260, Recon_L: 0.0202, SemiSup: 0.0134, Disc_Cat: 1.3394, Gen_Cat: 0.9070, Disc_Sty: 1.3938, Gen_Sty: 0.6901\n",
      "Validation Accuracy: 93.75%\n",
      "\n",
      "Weights saved to semisupervised_results/1000_epochs_adam_1000_samples/weights_*.pth\n"
     ]
    },
    {
     "data": {
      "application/vnd.jupyter.widget-view+json": {
       "model_id": "bec0407f42f441bd8937ba43e0faaf35",
       "version_major": 2,
       "version_minor": 0
      },
      "text/plain": [
       "Epoch [518/1000]:   0%|          | 0/10 [00:00<?, ?it/s]"
      ]
     },
     "metadata": {},
     "output_type": "display_data"
    },
    {
     "name": "stdout",
     "output_type": "stream",
     "text": [
      "Epoch 518/1000 — Recon_U: 0.0260, Recon_L: 0.0201, SemiSup: 0.0033, Disc_Cat: 1.3389, Gen_Cat: 0.9239, Disc_Sty: 1.3862, Gen_Sty: 0.6867\n",
      "Validation Accuracy: 93.75%\n",
      "\n",
      "Weights saved to semisupervised_results/1000_epochs_adam_1000_samples/weights_*.pth\n"
     ]
    },
    {
     "data": {
      "application/vnd.jupyter.widget-view+json": {
       "model_id": "7aa0f52970fe4bb49ea92de4877e2530",
       "version_major": 2,
       "version_minor": 0
      },
      "text/plain": [
       "Epoch [519/1000]:   0%|          | 0/10 [00:00<?, ?it/s]"
      ]
     },
     "metadata": {},
     "output_type": "display_data"
    },
    {
     "name": "stdout",
     "output_type": "stream",
     "text": [
      "Epoch 519/1000 — Recon_U: 0.0261, Recon_L: 0.0202, SemiSup: 0.0181, Disc_Cat: 1.3486, Gen_Cat: 0.8660, Disc_Sty: 1.3875, Gen_Sty: 0.6784\n",
      "Validation Accuracy: 93.73%\n",
      "\n",
      "Weights saved to semisupervised_results/1000_epochs_adam_1000_samples/weights_*.pth\n"
     ]
    },
    {
     "data": {
      "application/vnd.jupyter.widget-view+json": {
       "model_id": "d10ab05a9d144d4c86e43f6a0aa085be",
       "version_major": 2,
       "version_minor": 0
      },
      "text/plain": [
       "Epoch [520/1000]:   0%|          | 0/10 [00:00<?, ?it/s]"
      ]
     },
     "metadata": {},
     "output_type": "display_data"
    },
    {
     "name": "stdout",
     "output_type": "stream",
     "text": [
      "Epoch 520/1000 — Recon_U: 0.0255, Recon_L: 0.0199, SemiSup: 0.0077, Disc_Cat: 1.3420, Gen_Cat: 0.8955, Disc_Sty: 1.3838, Gen_Sty: 0.6778\n",
      "Validation Accuracy: 93.76%\n",
      "\n",
      "Weights saved to semisupervised_results/1000_epochs_adam_1000_samples/weights_*.pth\n"
     ]
    },
    {
     "data": {
      "application/vnd.jupyter.widget-view+json": {
       "model_id": "a5dda5f1ebc94f4bbae7e50948cc4693",
       "version_major": 2,
       "version_minor": 0
      },
      "text/plain": [
       "Epoch [521/1000]:   0%|          | 0/10 [00:00<?, ?it/s]"
      ]
     },
     "metadata": {},
     "output_type": "display_data"
    },
    {
     "name": "stdout",
     "output_type": "stream",
     "text": [
      "Epoch 521/1000 — Recon_U: 0.0265, Recon_L: 0.0202, SemiSup: 0.0219, Disc_Cat: 1.3350, Gen_Cat: 0.9339, Disc_Sty: 1.3818, Gen_Sty: 0.6753\n",
      "Validation Accuracy: 93.66%\n",
      "\n",
      "Weights saved to semisupervised_results/1000_epochs_adam_1000_samples/weights_*.pth\n"
     ]
    },
    {
     "data": {
      "application/vnd.jupyter.widget-view+json": {
       "model_id": "a7344c8f47c04d1b8b2c233c8c16ba97",
       "version_major": 2,
       "version_minor": 0
      },
      "text/plain": [
       "Epoch [522/1000]:   0%|          | 0/10 [00:00<?, ?it/s]"
      ]
     },
     "metadata": {},
     "output_type": "display_data"
    },
    {
     "name": "stdout",
     "output_type": "stream",
     "text": [
      "Epoch 522/1000 — Recon_U: 0.0261, Recon_L: 0.0201, SemiSup: 0.0042, Disc_Cat: 1.3382, Gen_Cat: 0.9233, Disc_Sty: 1.3820, Gen_Sty: 0.6765\n",
      "Validation Accuracy: 93.73%\n",
      "\n",
      "Weights saved to semisupervised_results/1000_epochs_adam_1000_samples/weights_*.pth\n"
     ]
    },
    {
     "data": {
      "application/vnd.jupyter.widget-view+json": {
       "model_id": "d1ef0bc64cc84813b0939bc2aecbf468",
       "version_major": 2,
       "version_minor": 0
      },
      "text/plain": [
       "Epoch [523/1000]:   0%|          | 0/10 [00:00<?, ?it/s]"
      ]
     },
     "metadata": {},
     "output_type": "display_data"
    },
    {
     "name": "stdout",
     "output_type": "stream",
     "text": [
      "Epoch 523/1000 — Recon_U: 0.0268, Recon_L: 0.0200, SemiSup: 0.0112, Disc_Cat: 1.3389, Gen_Cat: 0.9445, Disc_Sty: 1.3832, Gen_Sty: 0.6727\n",
      "Validation Accuracy: 93.71%\n",
      "\n",
      "Weights saved to semisupervised_results/1000_epochs_adam_1000_samples/weights_*.pth\n"
     ]
    },
    {
     "data": {
      "application/vnd.jupyter.widget-view+json": {
       "model_id": "2c4c3fce08984c6a9a911434fc3ebf39",
       "version_major": 2,
       "version_minor": 0
      },
      "text/plain": [
       "Epoch [524/1000]:   0%|          | 0/10 [00:00<?, ?it/s]"
      ]
     },
     "metadata": {},
     "output_type": "display_data"
    },
    {
     "name": "stdout",
     "output_type": "stream",
     "text": [
      "Epoch 524/1000 — Recon_U: 0.0268, Recon_L: 0.0200, SemiSup: 0.0133, Disc_Cat: 1.3409, Gen_Cat: 0.9257, Disc_Sty: 1.3822, Gen_Sty: 0.6725\n",
      "Validation Accuracy: 93.69%\n",
      "\n",
      "Weights saved to semisupervised_results/1000_epochs_adam_1000_samples/weights_*.pth\n"
     ]
    },
    {
     "data": {
      "application/vnd.jupyter.widget-view+json": {
       "model_id": "2335adc2a26d41658e8439132a95cc3c",
       "version_major": 2,
       "version_minor": 0
      },
      "text/plain": [
       "Epoch [525/1000]:   0%|          | 0/10 [00:00<?, ?it/s]"
      ]
     },
     "metadata": {},
     "output_type": "display_data"
    },
    {
     "name": "stdout",
     "output_type": "stream",
     "text": [
      "Epoch 525/1000 — Recon_U: 0.0260, Recon_L: 0.0200, SemiSup: 0.0182, Disc_Cat: 1.3417, Gen_Cat: 0.8993, Disc_Sty: 1.3880, Gen_Sty: 0.6764\n",
      "Validation Accuracy: 93.73%\n",
      "\n",
      "Weights saved to semisupervised_results/1000_epochs_adam_1000_samples/weights_*.pth\n"
     ]
    },
    {
     "data": {
      "application/vnd.jupyter.widget-view+json": {
       "model_id": "83fe19d89dc94e59aee522a0d26f878d",
       "version_major": 2,
       "version_minor": 0
      },
      "text/plain": [
       "Epoch [526/1000]:   0%|          | 0/10 [00:00<?, ?it/s]"
      ]
     },
     "metadata": {},
     "output_type": "display_data"
    },
    {
     "name": "stdout",
     "output_type": "stream",
     "text": [
      "Epoch 526/1000 — Recon_U: 0.0257, Recon_L: 0.0200, SemiSup: 0.0161, Disc_Cat: 1.3424, Gen_Cat: 0.9343, Disc_Sty: 1.3819, Gen_Sty: 0.6854\n",
      "Validation Accuracy: 93.69%\n",
      "\n",
      "Weights saved to semisupervised_results/1000_epochs_adam_1000_samples/weights_*.pth\n"
     ]
    },
    {
     "data": {
      "application/vnd.jupyter.widget-view+json": {
       "model_id": "4605f0d537094aeaa383dc1a96a83e8d",
       "version_major": 2,
       "version_minor": 0
      },
      "text/plain": [
       "Epoch [527/1000]:   0%|          | 0/10 [00:00<?, ?it/s]"
      ]
     },
     "metadata": {},
     "output_type": "display_data"
    },
    {
     "name": "stdout",
     "output_type": "stream",
     "text": [
      "Epoch 527/1000 — Recon_U: 0.0261, Recon_L: 0.0200, SemiSup: 0.0110, Disc_Cat: 1.3380, Gen_Cat: 0.9179, Disc_Sty: 1.3854, Gen_Sty: 0.6885\n",
      "Validation Accuracy: 93.69%\n",
      "\n",
      "Weights saved to semisupervised_results/1000_epochs_adam_1000_samples/weights_*.pth\n"
     ]
    },
    {
     "data": {
      "application/vnd.jupyter.widget-view+json": {
       "model_id": "c3cd7b53f6ab46a59215ed162db2df03",
       "version_major": 2,
       "version_minor": 0
      },
      "text/plain": [
       "Epoch [528/1000]:   0%|          | 0/10 [00:00<?, ?it/s]"
      ]
     },
     "metadata": {},
     "output_type": "display_data"
    },
    {
     "name": "stdout",
     "output_type": "stream",
     "text": [
      "Epoch 528/1000 — Recon_U: 0.0263, Recon_L: 0.0200, SemiSup: 0.0019, Disc_Cat: 1.3360, Gen_Cat: 0.9447, Disc_Sty: 1.3844, Gen_Sty: 0.6957\n",
      "Validation Accuracy: 93.73%\n",
      "\n",
      "Weights saved to semisupervised_results/1000_epochs_adam_1000_samples/weights_*.pth\n"
     ]
    },
    {
     "data": {
      "application/vnd.jupyter.widget-view+json": {
       "model_id": "ed1154f3d5334d74828597e6a229cd57",
       "version_major": 2,
       "version_minor": 0
      },
      "text/plain": [
       "Epoch [529/1000]:   0%|          | 0/10 [00:00<?, ?it/s]"
      ]
     },
     "metadata": {},
     "output_type": "display_data"
    },
    {
     "name": "stdout",
     "output_type": "stream",
     "text": [
      "Epoch 529/1000 — Recon_U: 0.0261, Recon_L: 0.0200, SemiSup: 0.0280, Disc_Cat: 1.3487, Gen_Cat: 0.9026, Disc_Sty: 1.3830, Gen_Sty: 0.7000\n",
      "Validation Accuracy: 93.83%\n",
      "\n",
      "Weights saved to semisupervised_results/1000_epochs_adam_1000_samples/weights_*.pth\n"
     ]
    },
    {
     "data": {
      "application/vnd.jupyter.widget-view+json": {
       "model_id": "39b1ec541e054a8c8a86fb00aaee7fdb",
       "version_major": 2,
       "version_minor": 0
      },
      "text/plain": [
       "Epoch [530/1000]:   0%|          | 0/10 [00:00<?, ?it/s]"
      ]
     },
     "metadata": {},
     "output_type": "display_data"
    },
    {
     "name": "stdout",
     "output_type": "stream",
     "text": [
      "Epoch 530/1000 — Recon_U: 0.0265, Recon_L: 0.0199, SemiSup: 0.0201, Disc_Cat: 1.3482, Gen_Cat: 0.8780, Disc_Sty: 1.3858, Gen_Sty: 0.6984\n",
      "Validation Accuracy: 93.78%\n",
      "\n",
      "Weights saved to semisupervised_results/1000_epochs_adam_1000_samples/weights_*.pth\n"
     ]
    },
    {
     "data": {
      "application/vnd.jupyter.widget-view+json": {
       "model_id": "a1b3ac54205447eb8a51d9e639bc52a5",
       "version_major": 2,
       "version_minor": 0
      },
      "text/plain": [
       "Epoch [531/1000]:   0%|          | 0/10 [00:00<?, ?it/s]"
      ]
     },
     "metadata": {},
     "output_type": "display_data"
    },
    {
     "name": "stdout",
     "output_type": "stream",
     "text": [
      "Epoch 531/1000 — Recon_U: 0.0260, Recon_L: 0.0198, SemiSup: 0.0070, Disc_Cat: 1.3498, Gen_Cat: 0.9090, Disc_Sty: 1.3813, Gen_Sty: 0.6992\n",
      "Validation Accuracy: 93.75%\n",
      "\n",
      "Weights saved to semisupervised_results/1000_epochs_adam_1000_samples/weights_*.pth\n"
     ]
    },
    {
     "data": {
      "application/vnd.jupyter.widget-view+json": {
       "model_id": "717b8098b5de48309c2dfe2be3c60f59",
       "version_major": 2,
       "version_minor": 0
      },
      "text/plain": [
       "Epoch [532/1000]:   0%|          | 0/10 [00:00<?, ?it/s]"
      ]
     },
     "metadata": {},
     "output_type": "display_data"
    },
    {
     "name": "stdout",
     "output_type": "stream",
     "text": [
      "Epoch 532/1000 — Recon_U: 0.0262, Recon_L: 0.0199, SemiSup: 0.0027, Disc_Cat: 1.3352, Gen_Cat: 0.9232, Disc_Sty: 1.3787, Gen_Sty: 0.6980\n",
      "Validation Accuracy: 93.69%\n",
      "\n",
      "Weights saved to semisupervised_results/1000_epochs_adam_1000_samples/weights_*.pth\n"
     ]
    },
    {
     "data": {
      "application/vnd.jupyter.widget-view+json": {
       "model_id": "ebe8e2d66857414fa9dbc6cf3a414dd7",
       "version_major": 2,
       "version_minor": 0
      },
      "text/plain": [
       "Epoch [533/1000]:   0%|          | 0/10 [00:00<?, ?it/s]"
      ]
     },
     "metadata": {},
     "output_type": "display_data"
    },
    {
     "name": "stdout",
     "output_type": "stream",
     "text": [
      "Epoch 533/1000 — Recon_U: 0.0263, Recon_L: 0.0199, SemiSup: 0.0248, Disc_Cat: 1.3414, Gen_Cat: 0.9371, Disc_Sty: 1.3764, Gen_Sty: 0.6972\n",
      "Validation Accuracy: 93.75%\n",
      "\n",
      "Weights saved to semisupervised_results/1000_epochs_adam_1000_samples/weights_*.pth\n"
     ]
    },
    {
     "data": {
      "application/vnd.jupyter.widget-view+json": {
       "model_id": "d56053cc7bdd4ad19f479dffacb94910",
       "version_major": 2,
       "version_minor": 0
      },
      "text/plain": [
       "Epoch [534/1000]:   0%|          | 0/10 [00:00<?, ?it/s]"
      ]
     },
     "metadata": {},
     "output_type": "display_data"
    },
    {
     "name": "stdout",
     "output_type": "stream",
     "text": [
      "Epoch 534/1000 — Recon_U: 0.0258, Recon_L: 0.0197, SemiSup: 0.0030, Disc_Cat: 1.3515, Gen_Cat: 0.8687, Disc_Sty: 1.3752, Gen_Sty: 0.6962\n",
      "Validation Accuracy: 93.76%\n",
      "\n",
      "Weights saved to semisupervised_results/1000_epochs_adam_1000_samples/weights_*.pth\n"
     ]
    },
    {
     "data": {
      "application/vnd.jupyter.widget-view+json": {
       "model_id": "24ddbed8703a4344b99dbe3e95b590c4",
       "version_major": 2,
       "version_minor": 0
      },
      "text/plain": [
       "Epoch [535/1000]:   0%|          | 0/10 [00:00<?, ?it/s]"
      ]
     },
     "metadata": {},
     "output_type": "display_data"
    },
    {
     "name": "stdout",
     "output_type": "stream",
     "text": [
      "Epoch 535/1000 — Recon_U: 0.0262, Recon_L: 0.0196, SemiSup: 0.0247, Disc_Cat: 1.3394, Gen_Cat: 0.9680, Disc_Sty: 1.3807, Gen_Sty: 0.6922\n",
      "Validation Accuracy: 93.78%\n",
      "\n",
      "Weights saved to semisupervised_results/1000_epochs_adam_1000_samples/weights_*.pth\n"
     ]
    },
    {
     "data": {
      "application/vnd.jupyter.widget-view+json": {
       "model_id": "69ba249bdba240fb860d046d6ece3d80",
       "version_major": 2,
       "version_minor": 0
      },
      "text/plain": [
       "Epoch [536/1000]:   0%|          | 0/10 [00:00<?, ?it/s]"
      ]
     },
     "metadata": {},
     "output_type": "display_data"
    },
    {
     "name": "stdout",
     "output_type": "stream",
     "text": [
      "Epoch 536/1000 — Recon_U: 0.0258, Recon_L: 0.0198, SemiSup: 0.0027, Disc_Cat: 1.3592, Gen_Cat: 0.8594, Disc_Sty: 1.3817, Gen_Sty: 0.6884\n",
      "Validation Accuracy: 93.78%\n",
      "\n",
      "Weights saved to semisupervised_results/1000_epochs_adam_1000_samples/weights_*.pth\n"
     ]
    },
    {
     "data": {
      "application/vnd.jupyter.widget-view+json": {
       "model_id": "b4009bfef14b482c97a29f976b7d762d",
       "version_major": 2,
       "version_minor": 0
      },
      "text/plain": [
       "Epoch [537/1000]:   0%|          | 0/10 [00:00<?, ?it/s]"
      ]
     },
     "metadata": {},
     "output_type": "display_data"
    },
    {
     "name": "stdout",
     "output_type": "stream",
     "text": [
      "Epoch 537/1000 — Recon_U: 0.0263, Recon_L: 0.0198, SemiSup: 0.0247, Disc_Cat: 1.3390, Gen_Cat: 0.9220, Disc_Sty: 1.3871, Gen_Sty: 0.6863\n",
      "Validation Accuracy: 93.83%\n",
      "\n",
      "Weights saved to semisupervised_results/1000_epochs_adam_1000_samples/weights_*.pth\n"
     ]
    },
    {
     "data": {
      "application/vnd.jupyter.widget-view+json": {
       "model_id": "f5c554945d4b4b20a359dfd73fd9c353",
       "version_major": 2,
       "version_minor": 0
      },
      "text/plain": [
       "Epoch [538/1000]:   0%|          | 0/10 [00:00<?, ?it/s]"
      ]
     },
     "metadata": {},
     "output_type": "display_data"
    },
    {
     "name": "stdout",
     "output_type": "stream",
     "text": [
      "Epoch 538/1000 — Recon_U: 0.0257, Recon_L: 0.0198, SemiSup: 0.0010, Disc_Cat: 1.3393, Gen_Cat: 0.9274, Disc_Sty: 1.3872, Gen_Sty: 0.6855\n",
      "Validation Accuracy: 93.81%\n",
      "\n",
      "Weights saved to semisupervised_results/1000_epochs_adam_1000_samples/weights_*.pth\n"
     ]
    },
    {
     "data": {
      "application/vnd.jupyter.widget-view+json": {
       "model_id": "986d66a86dea4ffe9edc451f07e7579b",
       "version_major": 2,
       "version_minor": 0
      },
      "text/plain": [
       "Epoch [539/1000]:   0%|          | 0/10 [00:00<?, ?it/s]"
      ]
     },
     "metadata": {},
     "output_type": "display_data"
    },
    {
     "name": "stdout",
     "output_type": "stream",
     "text": [
      "Epoch 539/1000 — Recon_U: 0.0258, Recon_L: 0.0200, SemiSup: 0.0120, Disc_Cat: 1.3454, Gen_Cat: 0.8948, Disc_Sty: 1.3893, Gen_Sty: 0.6846\n",
      "Validation Accuracy: 93.80%\n",
      "\n",
      "Weights saved to semisupervised_results/1000_epochs_adam_1000_samples/weights_*.pth\n"
     ]
    },
    {
     "data": {
      "application/vnd.jupyter.widget-view+json": {
       "model_id": "10b77abffe7e4abe9f6cb4897854da19",
       "version_major": 2,
       "version_minor": 0
      },
      "text/plain": [
       "Epoch [540/1000]:   0%|          | 0/10 [00:00<?, ?it/s]"
      ]
     },
     "metadata": {},
     "output_type": "display_data"
    },
    {
     "name": "stdout",
     "output_type": "stream",
     "text": [
      "Epoch 540/1000 — Recon_U: 0.0261, Recon_L: 0.0199, SemiSup: 0.0231, Disc_Cat: 1.3450, Gen_Cat: 0.8894, Disc_Sty: 1.3855, Gen_Sty: 0.6937\n",
      "Validation Accuracy: 93.76%\n",
      "\n",
      "Weights saved to semisupervised_results/1000_epochs_adam_1000_samples/weights_*.pth\n"
     ]
    },
    {
     "data": {
      "application/vnd.jupyter.widget-view+json": {
       "model_id": "73e94a44ff9e4d239d6b930b0355eb29",
       "version_major": 2,
       "version_minor": 0
      },
      "text/plain": [
       "Epoch [541/1000]:   0%|          | 0/10 [00:00<?, ?it/s]"
      ]
     },
     "metadata": {},
     "output_type": "display_data"
    },
    {
     "name": "stdout",
     "output_type": "stream",
     "text": [
      "Epoch 541/1000 — Recon_U: 0.0257, Recon_L: 0.0200, SemiSup: 0.0112, Disc_Cat: 1.3298, Gen_Cat: 0.9514, Disc_Sty: 1.3842, Gen_Sty: 0.6989\n",
      "Validation Accuracy: 93.78%\n",
      "\n",
      "Weights saved to semisupervised_results/1000_epochs_adam_1000_samples/weights_*.pth\n"
     ]
    },
    {
     "data": {
      "application/vnd.jupyter.widget-view+json": {
       "model_id": "ba03be79d13c433cadb30f41f757ac38",
       "version_major": 2,
       "version_minor": 0
      },
      "text/plain": [
       "Epoch [542/1000]:   0%|          | 0/10 [00:00<?, ?it/s]"
      ]
     },
     "metadata": {},
     "output_type": "display_data"
    },
    {
     "name": "stdout",
     "output_type": "stream",
     "text": [
      "Epoch 542/1000 — Recon_U: 0.0257, Recon_L: 0.0201, SemiSup: 0.0076, Disc_Cat: 1.3450, Gen_Cat: 0.8890, Disc_Sty: 1.3859, Gen_Sty: 0.7008\n",
      "Validation Accuracy: 93.75%\n",
      "\n",
      "Weights saved to semisupervised_results/1000_epochs_adam_1000_samples/weights_*.pth\n"
     ]
    },
    {
     "data": {
      "application/vnd.jupyter.widget-view+json": {
       "model_id": "a9da2352e69346b5aa175beff719a816",
       "version_major": 2,
       "version_minor": 0
      },
      "text/plain": [
       "Epoch [543/1000]:   0%|          | 0/10 [00:00<?, ?it/s]"
      ]
     },
     "metadata": {},
     "output_type": "display_data"
    },
    {
     "name": "stdout",
     "output_type": "stream",
     "text": [
      "Epoch 543/1000 — Recon_U: 0.0270, Recon_L: 0.0200, SemiSup: 0.0008, Disc_Cat: 1.3386, Gen_Cat: 0.9419, Disc_Sty: 1.3873, Gen_Sty: 0.6953\n",
      "Validation Accuracy: 93.68%\n",
      "\n",
      "Weights saved to semisupervised_results/1000_epochs_adam_1000_samples/weights_*.pth\n"
     ]
    },
    {
     "data": {
      "application/vnd.jupyter.widget-view+json": {
       "model_id": "1d79b7d8e2a14e01a9b46d2b649ec8c4",
       "version_major": 2,
       "version_minor": 0
      },
      "text/plain": [
       "Epoch [544/1000]:   0%|          | 0/10 [00:00<?, ?it/s]"
      ]
     },
     "metadata": {},
     "output_type": "display_data"
    },
    {
     "name": "stdout",
     "output_type": "stream",
     "text": [
      "Epoch 544/1000 — Recon_U: 0.0261, Recon_L: 0.0198, SemiSup: 0.0176, Disc_Cat: 1.3421, Gen_Cat: 0.9042, Disc_Sty: 1.3886, Gen_Sty: 0.6973\n",
      "Validation Accuracy: 93.66%\n",
      "\n",
      "Weights saved to semisupervised_results/1000_epochs_adam_1000_samples/weights_*.pth\n"
     ]
    },
    {
     "data": {
      "application/vnd.jupyter.widget-view+json": {
       "model_id": "84d9fc7986754797855cd26a4983835d",
       "version_major": 2,
       "version_minor": 0
      },
      "text/plain": [
       "Epoch [545/1000]:   0%|          | 0/10 [00:00<?, ?it/s]"
      ]
     },
     "metadata": {},
     "output_type": "display_data"
    },
    {
     "name": "stdout",
     "output_type": "stream",
     "text": [
      "Epoch 545/1000 — Recon_U: 0.0251, Recon_L: 0.0197, SemiSup: 0.0276, Disc_Cat: 1.3476, Gen_Cat: 0.9216, Disc_Sty: 1.3885, Gen_Sty: 0.6963\n",
      "Validation Accuracy: 93.63%\n",
      "\n",
      "Weights saved to semisupervised_results/1000_epochs_adam_1000_samples/weights_*.pth\n"
     ]
    },
    {
     "data": {
      "application/vnd.jupyter.widget-view+json": {
       "model_id": "5240ec377bd94cdeb6f82f2fe28aac9a",
       "version_major": 2,
       "version_minor": 0
      },
      "text/plain": [
       "Epoch [546/1000]:   0%|          | 0/10 [00:00<?, ?it/s]"
      ]
     },
     "metadata": {},
     "output_type": "display_data"
    },
    {
     "name": "stdout",
     "output_type": "stream",
     "text": [
      "Epoch 546/1000 — Recon_U: 0.0267, Recon_L: 0.0198, SemiSup: 0.0086, Disc_Cat: 1.3443, Gen_Cat: 0.8871, Disc_Sty: 1.3852, Gen_Sty: 0.6921\n",
      "Validation Accuracy: 93.73%\n",
      "\n",
      "Weights saved to semisupervised_results/1000_epochs_adam_1000_samples/weights_*.pth\n"
     ]
    },
    {
     "data": {
      "application/vnd.jupyter.widget-view+json": {
       "model_id": "5591770fcfd9484b892a46c89d97b1ef",
       "version_major": 2,
       "version_minor": 0
      },
      "text/plain": [
       "Epoch [547/1000]:   0%|          | 0/10 [00:00<?, ?it/s]"
      ]
     },
     "metadata": {},
     "output_type": "display_data"
    },
    {
     "name": "stdout",
     "output_type": "stream",
     "text": [
      "Epoch 547/1000 — Recon_U: 0.0258, Recon_L: 0.0198, SemiSup: 0.0129, Disc_Cat: 1.3499, Gen_Cat: 0.8900, Disc_Sty: 1.3859, Gen_Sty: 0.6894\n",
      "Validation Accuracy: 93.76%\n",
      "\n",
      "Weights saved to semisupervised_results/1000_epochs_adam_1000_samples/weights_*.pth\n"
     ]
    },
    {
     "data": {
      "application/vnd.jupyter.widget-view+json": {
       "model_id": "ee9d3e51fb224b988ac9af6830453b78",
       "version_major": 2,
       "version_minor": 0
      },
      "text/plain": [
       "Epoch [548/1000]:   0%|          | 0/10 [00:00<?, ?it/s]"
      ]
     },
     "metadata": {},
     "output_type": "display_data"
    },
    {
     "name": "stdout",
     "output_type": "stream",
     "text": [
      "Epoch 548/1000 — Recon_U: 0.0261, Recon_L: 0.0197, SemiSup: 0.0188, Disc_Cat: 1.3372, Gen_Cat: 0.9235, Disc_Sty: 1.3827, Gen_Sty: 0.6898\n",
      "Validation Accuracy: 93.68%\n",
      "\n",
      "Weights saved to semisupervised_results/1000_epochs_adam_1000_samples/weights_*.pth\n"
     ]
    },
    {
     "data": {
      "application/vnd.jupyter.widget-view+json": {
       "model_id": "496df9edb333473c9f4ed29c85b8b699",
       "version_major": 2,
       "version_minor": 0
      },
      "text/plain": [
       "Epoch [549/1000]:   0%|          | 0/10 [00:00<?, ?it/s]"
      ]
     },
     "metadata": {},
     "output_type": "display_data"
    },
    {
     "name": "stdout",
     "output_type": "stream",
     "text": [
      "Epoch 549/1000 — Recon_U: 0.0258, Recon_L: 0.0196, SemiSup: 0.0153, Disc_Cat: 1.3295, Gen_Cat: 0.9752, Disc_Sty: 1.3816, Gen_Sty: 0.6892\n",
      "Validation Accuracy: 93.64%\n",
      "\n",
      "Weights saved to semisupervised_results/1000_epochs_adam_1000_samples/weights_*.pth\n"
     ]
    },
    {
     "data": {
      "application/vnd.jupyter.widget-view+json": {
       "model_id": "68a72c3d9e1946e6a45edf9ff8f2b846",
       "version_major": 2,
       "version_minor": 0
      },
      "text/plain": [
       "Epoch [550/1000]:   0%|          | 0/10 [00:00<?, ?it/s]"
      ]
     },
     "metadata": {},
     "output_type": "display_data"
    },
    {
     "name": "stdout",
     "output_type": "stream",
     "text": [
      "Epoch 550/1000 — Recon_U: 0.0257, Recon_L: 0.0196, SemiSup: 0.0271, Disc_Cat: 1.3398, Gen_Cat: 0.9239, Disc_Sty: 1.3855, Gen_Sty: 0.6879\n",
      "Validation Accuracy: 93.71%\n",
      "\n",
      "Weights saved to semisupervised_results/1000_epochs_adam_1000_samples/weights_epoch_550/weights_*.pth\n",
      "Weights saved to semisupervised_results/1000_epochs_adam_1000_samples/weights_*.pth\n"
     ]
    },
    {
     "data": {
      "application/vnd.jupyter.widget-view+json": {
       "model_id": "328dd19fff624bc7a3c22bdf83735363",
       "version_major": 2,
       "version_minor": 0
      },
      "text/plain": [
       "Epoch [551/1000]:   0%|          | 0/10 [00:00<?, ?it/s]"
      ]
     },
     "metadata": {},
     "output_type": "display_data"
    },
    {
     "name": "stdout",
     "output_type": "stream",
     "text": [
      "Epoch 551/1000 — Recon_U: 0.0261, Recon_L: 0.0197, SemiSup: 0.0293, Disc_Cat: 1.3508, Gen_Cat: 0.8797, Disc_Sty: 1.3864, Gen_Sty: 0.6894\n",
      "Validation Accuracy: 93.73%\n",
      "\n",
      "Weights saved to semisupervised_results/1000_epochs_adam_1000_samples/weights_*.pth\n"
     ]
    },
    {
     "data": {
      "application/vnd.jupyter.widget-view+json": {
       "model_id": "aebcb322474342b59debe6cf20315d8b",
       "version_major": 2,
       "version_minor": 0
      },
      "text/plain": [
       "Epoch [552/1000]:   0%|          | 0/10 [00:00<?, ?it/s]"
      ]
     },
     "metadata": {},
     "output_type": "display_data"
    },
    {
     "name": "stdout",
     "output_type": "stream",
     "text": [
      "Epoch 552/1000 — Recon_U: 0.0257, Recon_L: 0.0198, SemiSup: 0.0345, Disc_Cat: 1.3480, Gen_Cat: 0.9025, Disc_Sty: 1.3930, Gen_Sty: 0.6898\n",
      "Validation Accuracy: 93.78%\n",
      "\n",
      "Weights saved to semisupervised_results/1000_epochs_adam_1000_samples/weights_*.pth\n"
     ]
    },
    {
     "data": {
      "application/vnd.jupyter.widget-view+json": {
       "model_id": "7464b07115324d879d9d3e57ffc24f68",
       "version_major": 2,
       "version_minor": 0
      },
      "text/plain": [
       "Epoch [553/1000]:   0%|          | 0/10 [00:00<?, ?it/s]"
      ]
     },
     "metadata": {},
     "output_type": "display_data"
    },
    {
     "name": "stdout",
     "output_type": "stream",
     "text": [
      "Epoch 553/1000 — Recon_U: 0.0263, Recon_L: 0.0196, SemiSup: 0.0043, Disc_Cat: 1.3385, Gen_Cat: 0.9370, Disc_Sty: 1.3862, Gen_Sty: 0.7021\n",
      "Validation Accuracy: 93.83%\n",
      "\n",
      "Weights saved to semisupervised_results/1000_epochs_adam_1000_samples/weights_*.pth\n"
     ]
    },
    {
     "data": {
      "application/vnd.jupyter.widget-view+json": {
       "model_id": "884041a9c1d642458877217a83243989",
       "version_major": 2,
       "version_minor": 0
      },
      "text/plain": [
       "Epoch [554/1000]:   0%|          | 0/10 [00:00<?, ?it/s]"
      ]
     },
     "metadata": {},
     "output_type": "display_data"
    },
    {
     "name": "stdout",
     "output_type": "stream",
     "text": [
      "Epoch 554/1000 — Recon_U: 0.0256, Recon_L: 0.0197, SemiSup: 0.0072, Disc_Cat: 1.3511, Gen_Cat: 0.8615, Disc_Sty: 1.3890, Gen_Sty: 0.7061\n",
      "Validation Accuracy: 93.86%\n",
      "\n",
      "Weights saved to semisupervised_results/1000_epochs_adam_1000_samples/weights_*.pth\n"
     ]
    },
    {
     "data": {
      "application/vnd.jupyter.widget-view+json": {
       "model_id": "bf13ab110bba40cb997914a9a3911ac8",
       "version_major": 2,
       "version_minor": 0
      },
      "text/plain": [
       "Epoch [555/1000]:   0%|          | 0/10 [00:00<?, ?it/s]"
      ]
     },
     "metadata": {},
     "output_type": "display_data"
    },
    {
     "name": "stdout",
     "output_type": "stream",
     "text": [
      "Epoch 555/1000 — Recon_U: 0.0266, Recon_L: 0.0197, SemiSup: 0.0075, Disc_Cat: 1.3514, Gen_Cat: 0.9152, Disc_Sty: 1.3881, Gen_Sty: 0.7079\n",
      "Validation Accuracy: 93.81%\n",
      "\n",
      "Weights saved to semisupervised_results/1000_epochs_adam_1000_samples/weights_*.pth\n"
     ]
    },
    {
     "data": {
      "application/vnd.jupyter.widget-view+json": {
       "model_id": "cb0211896c884b5bbba91f33db0541c3",
       "version_major": 2,
       "version_minor": 0
      },
      "text/plain": [
       "Epoch [556/1000]:   0%|          | 0/10 [00:00<?, ?it/s]"
      ]
     },
     "metadata": {},
     "output_type": "display_data"
    },
    {
     "name": "stdout",
     "output_type": "stream",
     "text": [
      "Epoch 556/1000 — Recon_U: 0.0263, Recon_L: 0.0197, SemiSup: 0.0027, Disc_Cat: 1.3377, Gen_Cat: 0.9185, Disc_Sty: 1.3912, Gen_Sty: 0.7025\n",
      "Validation Accuracy: 93.88%\n",
      "\n",
      "Weights saved to semisupervised_results/1000_epochs_adam_1000_samples/weights_*.pth\n"
     ]
    },
    {
     "data": {
      "application/vnd.jupyter.widget-view+json": {
       "model_id": "e5c6792b7e0d46568698c4683f8d4ff4",
       "version_major": 2,
       "version_minor": 0
      },
      "text/plain": [
       "Epoch [557/1000]:   0%|          | 0/10 [00:00<?, ?it/s]"
      ]
     },
     "metadata": {},
     "output_type": "display_data"
    },
    {
     "name": "stdout",
     "output_type": "stream",
     "text": [
      "Epoch 557/1000 — Recon_U: 0.0250, Recon_L: 0.0196, SemiSup: 0.0207, Disc_Cat: 1.3453, Gen_Cat: 0.8785, Disc_Sty: 1.3870, Gen_Sty: 0.6978\n",
      "Validation Accuracy: 93.88%\n",
      "\n",
      "Weights saved to semisupervised_results/1000_epochs_adam_1000_samples/weights_*.pth\n"
     ]
    },
    {
     "data": {
      "application/vnd.jupyter.widget-view+json": {
       "model_id": "fe28306f94374cc9b136dd388ae296f6",
       "version_major": 2,
       "version_minor": 0
      },
      "text/plain": [
       "Epoch [558/1000]:   0%|          | 0/10 [00:00<?, ?it/s]"
      ]
     },
     "metadata": {},
     "output_type": "display_data"
    },
    {
     "name": "stdout",
     "output_type": "stream",
     "text": [
      "Epoch 558/1000 — Recon_U: 0.0259, Recon_L: 0.0195, SemiSup: 0.0021, Disc_Cat: 1.3450, Gen_Cat: 0.9096, Disc_Sty: 1.3867, Gen_Sty: 0.6933\n",
      "Validation Accuracy: 93.80%\n",
      "\n",
      "Weights saved to semisupervised_results/1000_epochs_adam_1000_samples/weights_*.pth\n"
     ]
    },
    {
     "data": {
      "application/vnd.jupyter.widget-view+json": {
       "model_id": "8c23e07bb84e4e889aa2fa10ed493bd0",
       "version_major": 2,
       "version_minor": 0
      },
      "text/plain": [
       "Epoch [559/1000]:   0%|          | 0/10 [00:00<?, ?it/s]"
      ]
     },
     "metadata": {},
     "output_type": "display_data"
    },
    {
     "name": "stdout",
     "output_type": "stream",
     "text": [
      "Epoch 559/1000 — Recon_U: 0.0255, Recon_L: 0.0195, SemiSup: 0.0144, Disc_Cat: 1.3428, Gen_Cat: 0.8799, Disc_Sty: 1.3881, Gen_Sty: 0.6869\n",
      "Validation Accuracy: 93.66%\n",
      "\n",
      "Weights saved to semisupervised_results/1000_epochs_adam_1000_samples/weights_*.pth\n"
     ]
    },
    {
     "data": {
      "application/vnd.jupyter.widget-view+json": {
       "model_id": "310b279f188c49fe9c7f19de09cdf477",
       "version_major": 2,
       "version_minor": 0
      },
      "text/plain": [
       "Epoch [560/1000]:   0%|          | 0/10 [00:00<?, ?it/s]"
      ]
     },
     "metadata": {},
     "output_type": "display_data"
    },
    {
     "name": "stdout",
     "output_type": "stream",
     "text": [
      "Epoch 560/1000 — Recon_U: 0.0249, Recon_L: 0.0195, SemiSup: 0.0025, Disc_Cat: 1.3517, Gen_Cat: 0.8764, Disc_Sty: 1.3807, Gen_Sty: 0.6876\n",
      "Validation Accuracy: 93.63%\n",
      "\n",
      "Weights saved to semisupervised_results/1000_epochs_adam_1000_samples/weights_*.pth\n"
     ]
    },
    {
     "data": {
      "application/vnd.jupyter.widget-view+json": {
       "model_id": "80ab10e1859d4ecf8129ef2ab8ef0a14",
       "version_major": 2,
       "version_minor": 0
      },
      "text/plain": [
       "Epoch [561/1000]:   0%|          | 0/10 [00:00<?, ?it/s]"
      ]
     },
     "metadata": {},
     "output_type": "display_data"
    },
    {
     "name": "stdout",
     "output_type": "stream",
     "text": [
      "Epoch 561/1000 — Recon_U: 0.0254, Recon_L: 0.0195, SemiSup: 0.0098, Disc_Cat: 1.3312, Gen_Cat: 0.9586, Disc_Sty: 1.3815, Gen_Sty: 0.6865\n",
      "Validation Accuracy: 93.66%\n",
      "\n",
      "Weights saved to semisupervised_results/1000_epochs_adam_1000_samples/weights_*.pth\n"
     ]
    },
    {
     "data": {
      "application/vnd.jupyter.widget-view+json": {
       "model_id": "939368066e224b5ba95d10b49af3fc88",
       "version_major": 2,
       "version_minor": 0
      },
      "text/plain": [
       "Epoch [562/1000]:   0%|          | 0/10 [00:00<?, ?it/s]"
      ]
     },
     "metadata": {},
     "output_type": "display_data"
    },
    {
     "name": "stdout",
     "output_type": "stream",
     "text": [
      "Epoch 562/1000 — Recon_U: 0.0258, Recon_L: 0.0195, SemiSup: 0.0120, Disc_Cat: 1.3418, Gen_Cat: 0.9131, Disc_Sty: 1.3853, Gen_Sty: 0.6845\n",
      "Validation Accuracy: 93.75%\n",
      "\n",
      "Weights saved to semisupervised_results/1000_epochs_adam_1000_samples/weights_*.pth\n"
     ]
    },
    {
     "data": {
      "application/vnd.jupyter.widget-view+json": {
       "model_id": "ea72b0743ec74094a394f0d8e19ebc31",
       "version_major": 2,
       "version_minor": 0
      },
      "text/plain": [
       "Epoch [563/1000]:   0%|          | 0/10 [00:00<?, ?it/s]"
      ]
     },
     "metadata": {},
     "output_type": "display_data"
    },
    {
     "name": "stdout",
     "output_type": "stream",
     "text": [
      "Epoch 563/1000 — Recon_U: 0.0264, Recon_L: 0.0195, SemiSup: 0.0116, Disc_Cat: 1.3294, Gen_Cat: 0.9823, Disc_Sty: 1.3882, Gen_Sty: 0.6823\n",
      "Validation Accuracy: 93.81%\n",
      "\n",
      "Weights saved to semisupervised_results/1000_epochs_adam_1000_samples/weights_*.pth\n"
     ]
    },
    {
     "data": {
      "application/vnd.jupyter.widget-view+json": {
       "model_id": "ac1ac27ddbd343fcba180eefd75cfca9",
       "version_major": 2,
       "version_minor": 0
      },
      "text/plain": [
       "Epoch [564/1000]:   0%|          | 0/10 [00:00<?, ?it/s]"
      ]
     },
     "metadata": {},
     "output_type": "display_data"
    },
    {
     "name": "stdout",
     "output_type": "stream",
     "text": [
      "Epoch 564/1000 — Recon_U: 0.0257, Recon_L: 0.0196, SemiSup: 0.0257, Disc_Cat: 1.3389, Gen_Cat: 0.9208, Disc_Sty: 1.3842, Gen_Sty: 0.6903\n",
      "Validation Accuracy: 93.81%\n",
      "\n",
      "Weights saved to semisupervised_results/1000_epochs_adam_1000_samples/weights_*.pth\n"
     ]
    },
    {
     "data": {
      "application/vnd.jupyter.widget-view+json": {
       "model_id": "87b4f46188094e65a4cc8e74df395e76",
       "version_major": 2,
       "version_minor": 0
      },
      "text/plain": [
       "Epoch [565/1000]:   0%|          | 0/10 [00:00<?, ?it/s]"
      ]
     },
     "metadata": {},
     "output_type": "display_data"
    },
    {
     "name": "stdout",
     "output_type": "stream",
     "text": [
      "Epoch 565/1000 — Recon_U: 0.0255, Recon_L: 0.0195, SemiSup: 0.0225, Disc_Cat: 1.3439, Gen_Cat: 0.9149, Disc_Sty: 1.3882, Gen_Sty: 0.6959\n",
      "Validation Accuracy: 93.80%\n",
      "\n",
      "Weights saved to semisupervised_results/1000_epochs_adam_1000_samples/weights_*.pth\n"
     ]
    },
    {
     "data": {
      "application/vnd.jupyter.widget-view+json": {
       "model_id": "7cfaeb75c57d4aeaa0ec925a1714f82e",
       "version_major": 2,
       "version_minor": 0
      },
      "text/plain": [
       "Epoch [566/1000]:   0%|          | 0/10 [00:00<?, ?it/s]"
      ]
     },
     "metadata": {},
     "output_type": "display_data"
    },
    {
     "name": "stdout",
     "output_type": "stream",
     "text": [
      "Epoch 566/1000 — Recon_U: 0.0256, Recon_L: 0.0195, SemiSup: 0.0095, Disc_Cat: 1.3387, Gen_Cat: 0.9156, Disc_Sty: 1.3844, Gen_Sty: 0.7080\n",
      "Validation Accuracy: 93.80%\n",
      "\n",
      "Weights saved to semisupervised_results/1000_epochs_adam_1000_samples/weights_*.pth\n"
     ]
    },
    {
     "data": {
      "application/vnd.jupyter.widget-view+json": {
       "model_id": "046407e807404182b8694d872caacccf",
       "version_major": 2,
       "version_minor": 0
      },
      "text/plain": [
       "Epoch [567/1000]:   0%|          | 0/10 [00:00<?, ?it/s]"
      ]
     },
     "metadata": {},
     "output_type": "display_data"
    },
    {
     "name": "stdout",
     "output_type": "stream",
     "text": [
      "Epoch 567/1000 — Recon_U: 0.0252, Recon_L: 0.0195, SemiSup: 0.0041, Disc_Cat: 1.3453, Gen_Cat: 0.8898, Disc_Sty: 1.3842, Gen_Sty: 0.7140\n",
      "Validation Accuracy: 93.81%\n",
      "\n",
      "Weights saved to semisupervised_results/1000_epochs_adam_1000_samples/weights_*.pth\n"
     ]
    },
    {
     "data": {
      "application/vnd.jupyter.widget-view+json": {
       "model_id": "e29815a65d574b9d83136bfdb9fef5f6",
       "version_major": 2,
       "version_minor": 0
      },
      "text/plain": [
       "Epoch [568/1000]:   0%|          | 0/10 [00:00<?, ?it/s]"
      ]
     },
     "metadata": {},
     "output_type": "display_data"
    },
    {
     "name": "stdout",
     "output_type": "stream",
     "text": [
      "Epoch 568/1000 — Recon_U: 0.0259, Recon_L: 0.0195, SemiSup: 0.0122, Disc_Cat: 1.3422, Gen_Cat: 0.8822, Disc_Sty: 1.3809, Gen_Sty: 0.7135\n",
      "Validation Accuracy: 93.75%\n",
      "\n",
      "Weights saved to semisupervised_results/1000_epochs_adam_1000_samples/weights_*.pth\n"
     ]
    },
    {
     "data": {
      "application/vnd.jupyter.widget-view+json": {
       "model_id": "b6860bde151d47fd92709aedf372c1b1",
       "version_major": 2,
       "version_minor": 0
      },
      "text/plain": [
       "Epoch [569/1000]:   0%|          | 0/10 [00:00<?, ?it/s]"
      ]
     },
     "metadata": {},
     "output_type": "display_data"
    },
    {
     "name": "stdout",
     "output_type": "stream",
     "text": [
      "Epoch 569/1000 — Recon_U: 0.0260, Recon_L: 0.0195, SemiSup: 0.0071, Disc_Cat: 1.3395, Gen_Cat: 0.9360, Disc_Sty: 1.3857, Gen_Sty: 0.7132\n",
      "Validation Accuracy: 93.78%\n",
      "\n",
      "Weights saved to semisupervised_results/1000_epochs_adam_1000_samples/weights_*.pth\n"
     ]
    },
    {
     "data": {
      "application/vnd.jupyter.widget-view+json": {
       "model_id": "fce20cb17284471cadb924fa42152e9e",
       "version_major": 2,
       "version_minor": 0
      },
      "text/plain": [
       "Epoch [570/1000]:   0%|          | 0/10 [00:00<?, ?it/s]"
      ]
     },
     "metadata": {},
     "output_type": "display_data"
    },
    {
     "name": "stdout",
     "output_type": "stream",
     "text": [
      "Epoch 570/1000 — Recon_U: 0.0260, Recon_L: 0.0196, SemiSup: 0.0311, Disc_Cat: 1.3498, Gen_Cat: 0.8897, Disc_Sty: 1.3856, Gen_Sty: 0.7066\n",
      "Validation Accuracy: 93.78%\n",
      "\n",
      "Weights saved to semisupervised_results/1000_epochs_adam_1000_samples/weights_*.pth\n"
     ]
    },
    {
     "data": {
      "application/vnd.jupyter.widget-view+json": {
       "model_id": "ddde2aab91aa480791d22383aaf3bba3",
       "version_major": 2,
       "version_minor": 0
      },
      "text/plain": [
       "Epoch [571/1000]:   0%|          | 0/10 [00:00<?, ?it/s]"
      ]
     },
     "metadata": {},
     "output_type": "display_data"
    },
    {
     "name": "stdout",
     "output_type": "stream",
     "text": [
      "Epoch 571/1000 — Recon_U: 0.0259, Recon_L: 0.0196, SemiSup: 0.0228, Disc_Cat: 1.3422, Gen_Cat: 0.9192, Disc_Sty: 1.3833, Gen_Sty: 0.7028\n",
      "Validation Accuracy: 93.80%\n",
      "\n",
      "Weights saved to semisupervised_results/1000_epochs_adam_1000_samples/weights_*.pth\n"
     ]
    },
    {
     "data": {
      "application/vnd.jupyter.widget-view+json": {
       "model_id": "0df2ea6517ce4ab48b3a2b72a317f2d1",
       "version_major": 2,
       "version_minor": 0
      },
      "text/plain": [
       "Epoch [572/1000]:   0%|          | 0/10 [00:00<?, ?it/s]"
      ]
     },
     "metadata": {},
     "output_type": "display_data"
    },
    {
     "name": "stdout",
     "output_type": "stream",
     "text": [
      "Epoch 572/1000 — Recon_U: 0.0258, Recon_L: 0.0194, SemiSup: 0.0186, Disc_Cat: 1.3440, Gen_Cat: 0.9075, Disc_Sty: 1.3854, Gen_Sty: 0.6948\n",
      "Validation Accuracy: 93.85%\n",
      "\n",
      "Weights saved to semisupervised_results/1000_epochs_adam_1000_samples/weights_*.pth\n"
     ]
    },
    {
     "data": {
      "application/vnd.jupyter.widget-view+json": {
       "model_id": "dd1924781dbb4cc1b83d2996ff869110",
       "version_major": 2,
       "version_minor": 0
      },
      "text/plain": [
       "Epoch [573/1000]:   0%|          | 0/10 [00:00<?, ?it/s]"
      ]
     },
     "metadata": {},
     "output_type": "display_data"
    },
    {
     "name": "stdout",
     "output_type": "stream",
     "text": [
      "Epoch 573/1000 — Recon_U: 0.0250, Recon_L: 0.0194, SemiSup: 0.0128, Disc_Cat: 1.3382, Gen_Cat: 0.9209, Disc_Sty: 1.3870, Gen_Sty: 0.6892\n",
      "Validation Accuracy: 93.83%\n",
      "\n",
      "Weights saved to semisupervised_results/1000_epochs_adam_1000_samples/weights_*.pth\n"
     ]
    },
    {
     "data": {
      "application/vnd.jupyter.widget-view+json": {
       "model_id": "7eb3053f45db4ae0b56ea45ef0e522a8",
       "version_major": 2,
       "version_minor": 0
      },
      "text/plain": [
       "Epoch [574/1000]:   0%|          | 0/10 [00:00<?, ?it/s]"
      ]
     },
     "metadata": {},
     "output_type": "display_data"
    },
    {
     "name": "stdout",
     "output_type": "stream",
     "text": [
      "Epoch 574/1000 — Recon_U: 0.0263, Recon_L: 0.0195, SemiSup: 0.0138, Disc_Cat: 1.3511, Gen_Cat: 0.8870, Disc_Sty: 1.3920, Gen_Sty: 0.6812\n",
      "Validation Accuracy: 93.80%\n",
      "\n",
      "Weights saved to semisupervised_results/1000_epochs_adam_1000_samples/weights_*.pth\n"
     ]
    },
    {
     "data": {
      "application/vnd.jupyter.widget-view+json": {
       "model_id": "f5b3b07d6241470181ec8d2e833c6008",
       "version_major": 2,
       "version_minor": 0
      },
      "text/plain": [
       "Epoch [575/1000]:   0%|          | 0/10 [00:00<?, ?it/s]"
      ]
     },
     "metadata": {},
     "output_type": "display_data"
    },
    {
     "name": "stdout",
     "output_type": "stream",
     "text": [
      "Epoch 575/1000 — Recon_U: 0.0260, Recon_L: 0.0195, SemiSup: 0.0089, Disc_Cat: 1.3430, Gen_Cat: 0.9071, Disc_Sty: 1.3843, Gen_Sty: 0.6857\n",
      "Validation Accuracy: 93.80%\n",
      "\n",
      "Weights saved to semisupervised_results/1000_epochs_adam_1000_samples/weights_*.pth\n"
     ]
    },
    {
     "data": {
      "application/vnd.jupyter.widget-view+json": {
       "model_id": "b08c98bdfc824da6ba6312abbb948280",
       "version_major": 2,
       "version_minor": 0
      },
      "text/plain": [
       "Epoch [576/1000]:   0%|          | 0/10 [00:00<?, ?it/s]"
      ]
     },
     "metadata": {},
     "output_type": "display_data"
    },
    {
     "name": "stdout",
     "output_type": "stream",
     "text": [
      "Epoch 576/1000 — Recon_U: 0.0264, Recon_L: 0.0195, SemiSup: 0.0073, Disc_Cat: 1.3439, Gen_Cat: 0.9084, Disc_Sty: 1.3796, Gen_Sty: 0.6868\n",
      "Validation Accuracy: 93.83%\n",
      "\n",
      "Weights saved to semisupervised_results/1000_epochs_adam_1000_samples/weights_*.pth\n"
     ]
    },
    {
     "data": {
      "application/vnd.jupyter.widget-view+json": {
       "model_id": "ed81a075b65d4c699eacd0b703d390e2",
       "version_major": 2,
       "version_minor": 0
      },
      "text/plain": [
       "Epoch [577/1000]:   0%|          | 0/10 [00:00<?, ?it/s]"
      ]
     },
     "metadata": {},
     "output_type": "display_data"
    },
    {
     "name": "stdout",
     "output_type": "stream",
     "text": [
      "Epoch 577/1000 — Recon_U: 0.0265, Recon_L: 0.0196, SemiSup: 0.0101, Disc_Cat: 1.3472, Gen_Cat: 0.8440, Disc_Sty: 1.3836, Gen_Sty: 0.6877\n",
      "Validation Accuracy: 93.90%\n",
      "\n",
      "Weights saved to semisupervised_results/1000_epochs_adam_1000_samples/weights_*.pth\n"
     ]
    },
    {
     "data": {
      "application/vnd.jupyter.widget-view+json": {
       "model_id": "643c9654f08b4e2a90dd4bc44efb2eea",
       "version_major": 2,
       "version_minor": 0
      },
      "text/plain": [
       "Epoch [578/1000]:   0%|          | 0/10 [00:00<?, ?it/s]"
      ]
     },
     "metadata": {},
     "output_type": "display_data"
    },
    {
     "name": "stdout",
     "output_type": "stream",
     "text": [
      "Epoch 578/1000 — Recon_U: 0.0257, Recon_L: 0.0195, SemiSup: 0.0064, Disc_Cat: 1.3483, Gen_Cat: 0.9022, Disc_Sty: 1.3907, Gen_Sty: 0.6840\n",
      "Validation Accuracy: 93.93%\n",
      "\n",
      "Weights saved to semisupervised_results/1000_epochs_adam_1000_samples/weights_*.pth\n"
     ]
    },
    {
     "data": {
      "application/vnd.jupyter.widget-view+json": {
       "model_id": "293fb16176f443178ec1307eba30c9bf",
       "version_major": 2,
       "version_minor": 0
      },
      "text/plain": [
       "Epoch [579/1000]:   0%|          | 0/10 [00:00<?, ?it/s]"
      ]
     },
     "metadata": {},
     "output_type": "display_data"
    },
    {
     "name": "stdout",
     "output_type": "stream",
     "text": [
      "Epoch 579/1000 — Recon_U: 0.0257, Recon_L: 0.0195, SemiSup: 0.0004, Disc_Cat: 1.3390, Gen_Cat: 0.9103, Disc_Sty: 1.3914, Gen_Sty: 0.6855\n",
      "Validation Accuracy: 93.90%\n",
      "\n",
      "Weights saved to semisupervised_results/1000_epochs_adam_1000_samples/weights_*.pth\n"
     ]
    },
    {
     "data": {
      "application/vnd.jupyter.widget-view+json": {
       "model_id": "62953aac8a754370bcdf62059447d499",
       "version_major": 2,
       "version_minor": 0
      },
      "text/plain": [
       "Epoch [580/1000]:   0%|          | 0/10 [00:00<?, ?it/s]"
      ]
     },
     "metadata": {},
     "output_type": "display_data"
    },
    {
     "name": "stdout",
     "output_type": "stream",
     "text": [
      "Epoch 580/1000 — Recon_U: 0.0257, Recon_L: 0.0196, SemiSup: 0.0081, Disc_Cat: 1.3364, Gen_Cat: 0.9386, Disc_Sty: 1.3986, Gen_Sty: 0.6854\n",
      "Validation Accuracy: 93.85%\n",
      "\n",
      "Weights saved to semisupervised_results/1000_epochs_adam_1000_samples/weights_*.pth\n"
     ]
    },
    {
     "data": {
      "application/vnd.jupyter.widget-view+json": {
       "model_id": "1082e8aaf2fc48718671c861acafa23b",
       "version_major": 2,
       "version_minor": 0
      },
      "text/plain": [
       "Epoch [581/1000]:   0%|          | 0/10 [00:00<?, ?it/s]"
      ]
     },
     "metadata": {},
     "output_type": "display_data"
    },
    {
     "name": "stdout",
     "output_type": "stream",
     "text": [
      "Epoch 581/1000 — Recon_U: 0.0260, Recon_L: 0.0196, SemiSup: 0.0221, Disc_Cat: 1.3446, Gen_Cat: 0.9231, Disc_Sty: 1.3943, Gen_Sty: 0.6965\n",
      "Validation Accuracy: 93.75%\n",
      "\n",
      "Weights saved to semisupervised_results/1000_epochs_adam_1000_samples/weights_*.pth\n"
     ]
    },
    {
     "data": {
      "application/vnd.jupyter.widget-view+json": {
       "model_id": "e7216483722945fdb2c0df5b3e0bba12",
       "version_major": 2,
       "version_minor": 0
      },
      "text/plain": [
       "Epoch [582/1000]:   0%|          | 0/10 [00:00<?, ?it/s]"
      ]
     },
     "metadata": {},
     "output_type": "display_data"
    },
    {
     "name": "stdout",
     "output_type": "stream",
     "text": [
      "Epoch 582/1000 — Recon_U: 0.0257, Recon_L: 0.0195, SemiSup: 0.0089, Disc_Cat: 1.3443, Gen_Cat: 0.8939, Disc_Sty: 1.3872, Gen_Sty: 0.7057\n",
      "Validation Accuracy: 93.76%\n",
      "\n",
      "Weights saved to semisupervised_results/1000_epochs_adam_1000_samples/weights_*.pth\n"
     ]
    },
    {
     "data": {
      "application/vnd.jupyter.widget-view+json": {
       "model_id": "1e12343d0797473fb48aaf84ce3d5c59",
       "version_major": 2,
       "version_minor": 0
      },
      "text/plain": [
       "Epoch [583/1000]:   0%|          | 0/10 [00:00<?, ?it/s]"
      ]
     },
     "metadata": {},
     "output_type": "display_data"
    },
    {
     "name": "stdout",
     "output_type": "stream",
     "text": [
      "Epoch 583/1000 — Recon_U: 0.0263, Recon_L: 0.0196, SemiSup: 0.0119, Disc_Cat: 1.3447, Gen_Cat: 0.8780, Disc_Sty: 1.3905, Gen_Sty: 0.7084\n",
      "Validation Accuracy: 93.83%\n",
      "\n",
      "Weights saved to semisupervised_results/1000_epochs_adam_1000_samples/weights_*.pth\n"
     ]
    },
    {
     "data": {
      "application/vnd.jupyter.widget-view+json": {
       "model_id": "f4bfa4a6329e44b4b4e80d1fef356e7c",
       "version_major": 2,
       "version_minor": 0
      },
      "text/plain": [
       "Epoch [584/1000]:   0%|          | 0/10 [00:00<?, ?it/s]"
      ]
     },
     "metadata": {},
     "output_type": "display_data"
    },
    {
     "name": "stdout",
     "output_type": "stream",
     "text": [
      "Epoch 584/1000 — Recon_U: 0.0259, Recon_L: 0.0195, SemiSup: 0.0123, Disc_Cat: 1.3463, Gen_Cat: 0.8973, Disc_Sty: 1.3896, Gen_Sty: 0.7076\n",
      "Validation Accuracy: 93.73%\n",
      "\n",
      "Weights saved to semisupervised_results/1000_epochs_adam_1000_samples/weights_*.pth\n"
     ]
    },
    {
     "data": {
      "application/vnd.jupyter.widget-view+json": {
       "model_id": "a3cb469c25ee45dc8da8ee193990f8a5",
       "version_major": 2,
       "version_minor": 0
      },
      "text/plain": [
       "Epoch [585/1000]:   0%|          | 0/10 [00:00<?, ?it/s]"
      ]
     },
     "metadata": {},
     "output_type": "display_data"
    },
    {
     "name": "stdout",
     "output_type": "stream",
     "text": [
      "Epoch 585/1000 — Recon_U: 0.0260, Recon_L: 0.0193, SemiSup: 0.0055, Disc_Cat: 1.3381, Gen_Cat: 0.9264, Disc_Sty: 1.3884, Gen_Sty: 0.7048\n",
      "Validation Accuracy: 93.78%\n",
      "\n",
      "Weights saved to semisupervised_results/1000_epochs_adam_1000_samples/weights_*.pth\n"
     ]
    },
    {
     "data": {
      "application/vnd.jupyter.widget-view+json": {
       "model_id": "2ef5617d5a90431db868c144994163ef",
       "version_major": 2,
       "version_minor": 0
      },
      "text/plain": [
       "Epoch [586/1000]:   0%|          | 0/10 [00:00<?, ?it/s]"
      ]
     },
     "metadata": {},
     "output_type": "display_data"
    },
    {
     "name": "stdout",
     "output_type": "stream",
     "text": [
      "Epoch 586/1000 — Recon_U: 0.0262, Recon_L: 0.0193, SemiSup: 0.0170, Disc_Cat: 1.3256, Gen_Cat: 0.9953, Disc_Sty: 1.3856, Gen_Sty: 0.7024\n",
      "Validation Accuracy: 93.85%\n",
      "\n",
      "Weights saved to semisupervised_results/1000_epochs_adam_1000_samples/weights_*.pth\n"
     ]
    },
    {
     "data": {
      "application/vnd.jupyter.widget-view+json": {
       "model_id": "571bae7f2aef44fd97c05476b868ba80",
       "version_major": 2,
       "version_minor": 0
      },
      "text/plain": [
       "Epoch [587/1000]:   0%|          | 0/10 [00:00<?, ?it/s]"
      ]
     },
     "metadata": {},
     "output_type": "display_data"
    },
    {
     "name": "stdout",
     "output_type": "stream",
     "text": [
      "Epoch 587/1000 — Recon_U: 0.0253, Recon_L: 0.0191, SemiSup: 0.0017, Disc_Cat: 1.3415, Gen_Cat: 0.9211, Disc_Sty: 1.3845, Gen_Sty: 0.6996\n",
      "Validation Accuracy: 93.88%\n",
      "\n",
      "Weights saved to semisupervised_results/1000_epochs_adam_1000_samples/weights_*.pth\n"
     ]
    },
    {
     "data": {
      "application/vnd.jupyter.widget-view+json": {
       "model_id": "4113f4515e2943fd8fe8b1466b015daa",
       "version_major": 2,
       "version_minor": 0
      },
      "text/plain": [
       "Epoch [588/1000]:   0%|          | 0/10 [00:00<?, ?it/s]"
      ]
     },
     "metadata": {},
     "output_type": "display_data"
    },
    {
     "name": "stdout",
     "output_type": "stream",
     "text": [
      "Epoch 588/1000 — Recon_U: 0.0262, Recon_L: 0.0192, SemiSup: 0.0138, Disc_Cat: 1.3344, Gen_Cat: 0.9777, Disc_Sty: 1.3823, Gen_Sty: 0.6967\n",
      "Validation Accuracy: 93.88%\n",
      "\n",
      "Weights saved to semisupervised_results/1000_epochs_adam_1000_samples/weights_*.pth\n"
     ]
    },
    {
     "data": {
      "application/vnd.jupyter.widget-view+json": {
       "model_id": "ac321bb92e724eb688d6d3abadc39354",
       "version_major": 2,
       "version_minor": 0
      },
      "text/plain": [
       "Epoch [589/1000]:   0%|          | 0/10 [00:00<?, ?it/s]"
      ]
     },
     "metadata": {},
     "output_type": "display_data"
    },
    {
     "name": "stdout",
     "output_type": "stream",
     "text": [
      "Epoch 589/1000 — Recon_U: 0.0251, Recon_L: 0.0191, SemiSup: 0.0071, Disc_Cat: 1.3484, Gen_Cat: 0.8570, Disc_Sty: 1.3834, Gen_Sty: 0.6934\n",
      "Validation Accuracy: 93.88%\n",
      "\n",
      "Weights saved to semisupervised_results/1000_epochs_adam_1000_samples/weights_*.pth\n"
     ]
    },
    {
     "data": {
      "application/vnd.jupyter.widget-view+json": {
       "model_id": "f2e5e96badcd459995d89db16c9f6b48",
       "version_major": 2,
       "version_minor": 0
      },
      "text/plain": [
       "Epoch [590/1000]:   0%|          | 0/10 [00:00<?, ?it/s]"
      ]
     },
     "metadata": {},
     "output_type": "display_data"
    },
    {
     "name": "stdout",
     "output_type": "stream",
     "text": [
      "Epoch 590/1000 — Recon_U: 0.0258, Recon_L: 0.0192, SemiSup: 0.0175, Disc_Cat: 1.3455, Gen_Cat: 0.9103, Disc_Sty: 1.3813, Gen_Sty: 0.6913\n",
      "Validation Accuracy: 93.71%\n",
      "\n",
      "Weights saved to semisupervised_results/1000_epochs_adam_1000_samples/weights_*.pth\n"
     ]
    },
    {
     "data": {
      "application/vnd.jupyter.widget-view+json": {
       "model_id": "73c68d4b9d0a4cf4b5632a902d455fee",
       "version_major": 2,
       "version_minor": 0
      },
      "text/plain": [
       "Epoch [591/1000]:   0%|          | 0/10 [00:00<?, ?it/s]"
      ]
     },
     "metadata": {},
     "output_type": "display_data"
    },
    {
     "name": "stdout",
     "output_type": "stream",
     "text": [
      "Epoch 591/1000 — Recon_U: 0.0255, Recon_L: 0.0192, SemiSup: 0.0201, Disc_Cat: 1.3512, Gen_Cat: 0.8489, Disc_Sty: 1.3845, Gen_Sty: 0.6856\n",
      "Validation Accuracy: 93.69%\n",
      "\n",
      "Weights saved to semisupervised_results/1000_epochs_adam_1000_samples/weights_*.pth\n"
     ]
    },
    {
     "data": {
      "application/vnd.jupyter.widget-view+json": {
       "model_id": "6d0e1c35956c4ab3b666085eb15a0a49",
       "version_major": 2,
       "version_minor": 0
      },
      "text/plain": [
       "Epoch [592/1000]:   0%|          | 0/10 [00:00<?, ?it/s]"
      ]
     },
     "metadata": {},
     "output_type": "display_data"
    },
    {
     "name": "stdout",
     "output_type": "stream",
     "text": [
      "Epoch 592/1000 — Recon_U: 0.0252, Recon_L: 0.0192, SemiSup: 0.0105, Disc_Cat: 1.3450, Gen_Cat: 0.8749, Disc_Sty: 1.3875, Gen_Sty: 0.6789\n",
      "Validation Accuracy: 93.75%\n",
      "\n",
      "Weights saved to semisupervised_results/1000_epochs_adam_1000_samples/weights_*.pth\n"
     ]
    },
    {
     "data": {
      "application/vnd.jupyter.widget-view+json": {
       "model_id": "87d502f0ba8f4d0fa34b957e8b62ae22",
       "version_major": 2,
       "version_minor": 0
      },
      "text/plain": [
       "Epoch [593/1000]:   0%|          | 0/10 [00:00<?, ?it/s]"
      ]
     },
     "metadata": {},
     "output_type": "display_data"
    },
    {
     "name": "stdout",
     "output_type": "stream",
     "text": [
      "Epoch 593/1000 — Recon_U: 0.0255, Recon_L: 0.0192, SemiSup: 0.0056, Disc_Cat: 1.3465, Gen_Cat: 0.9280, Disc_Sty: 1.3908, Gen_Sty: 0.6774\n",
      "Validation Accuracy: 93.80%\n",
      "\n",
      "Weights saved to semisupervised_results/1000_epochs_adam_1000_samples/weights_*.pth\n"
     ]
    },
    {
     "data": {
      "application/vnd.jupyter.widget-view+json": {
       "model_id": "000d51ee12b440d5addfd472573127df",
       "version_major": 2,
       "version_minor": 0
      },
      "text/plain": [
       "Epoch [594/1000]:   0%|          | 0/10 [00:00<?, ?it/s]"
      ]
     },
     "metadata": {},
     "output_type": "display_data"
    },
    {
     "name": "stdout",
     "output_type": "stream",
     "text": [
      "Epoch 594/1000 — Recon_U: 0.0255, Recon_L: 0.0193, SemiSup: 0.0127, Disc_Cat: 1.3300, Gen_Cat: 0.9452, Disc_Sty: 1.3909, Gen_Sty: 0.6778\n",
      "Validation Accuracy: 93.76%\n",
      "\n",
      "Weights saved to semisupervised_results/1000_epochs_adam_1000_samples/weights_*.pth\n"
     ]
    },
    {
     "data": {
      "application/vnd.jupyter.widget-view+json": {
       "model_id": "ca89def4043746e587fb1699e0c5a77e",
       "version_major": 2,
       "version_minor": 0
      },
      "text/plain": [
       "Epoch [595/1000]:   0%|          | 0/10 [00:00<?, ?it/s]"
      ]
     },
     "metadata": {},
     "output_type": "display_data"
    },
    {
     "name": "stdout",
     "output_type": "stream",
     "text": [
      "Epoch 595/1000 — Recon_U: 0.0251, Recon_L: 0.0193, SemiSup: 0.0029, Disc_Cat: 1.3493, Gen_Cat: 0.9112, Disc_Sty: 1.3910, Gen_Sty: 0.6873\n",
      "Validation Accuracy: 93.66%\n",
      "\n",
      "Weights saved to semisupervised_results/1000_epochs_adam_1000_samples/weights_*.pth\n"
     ]
    },
    {
     "data": {
      "application/vnd.jupyter.widget-view+json": {
       "model_id": "a15ec0bd40d6420a9b4f62cc61113632",
       "version_major": 2,
       "version_minor": 0
      },
      "text/plain": [
       "Epoch [596/1000]:   0%|          | 0/10 [00:00<?, ?it/s]"
      ]
     },
     "metadata": {},
     "output_type": "display_data"
    },
    {
     "name": "stdout",
     "output_type": "stream",
     "text": [
      "Epoch 596/1000 — Recon_U: 0.0264, Recon_L: 0.0191, SemiSup: 0.0007, Disc_Cat: 1.3404, Gen_Cat: 0.9319, Disc_Sty: 1.3842, Gen_Sty: 0.6993\n",
      "Validation Accuracy: 93.69%\n",
      "\n",
      "Weights saved to semisupervised_results/1000_epochs_adam_1000_samples/weights_*.pth\n"
     ]
    },
    {
     "data": {
      "application/vnd.jupyter.widget-view+json": {
       "model_id": "43baaa55c6784f039663a345145325f9",
       "version_major": 2,
       "version_minor": 0
      },
      "text/plain": [
       "Epoch [597/1000]:   0%|          | 0/10 [00:00<?, ?it/s]"
      ]
     },
     "metadata": {},
     "output_type": "display_data"
    },
    {
     "name": "stdout",
     "output_type": "stream",
     "text": [
      "Epoch 597/1000 — Recon_U: 0.0257, Recon_L: 0.0191, SemiSup: 0.0116, Disc_Cat: 1.3354, Gen_Cat: 0.9365, Disc_Sty: 1.3809, Gen_Sty: 0.7092\n",
      "Validation Accuracy: 93.69%\n",
      "\n",
      "Weights saved to semisupervised_results/1000_epochs_adam_1000_samples/weights_*.pth\n"
     ]
    },
    {
     "data": {
      "application/vnd.jupyter.widget-view+json": {
       "model_id": "5322b159365245ce88b6be4db9b5ed27",
       "version_major": 2,
       "version_minor": 0
      },
      "text/plain": [
       "Epoch [598/1000]:   0%|          | 0/10 [00:00<?, ?it/s]"
      ]
     },
     "metadata": {},
     "output_type": "display_data"
    },
    {
     "name": "stdout",
     "output_type": "stream",
     "text": [
      "Epoch 598/1000 — Recon_U: 0.0253, Recon_L: 0.0191, SemiSup: 0.0252, Disc_Cat: 1.3446, Gen_Cat: 0.9242, Disc_Sty: 1.3844, Gen_Sty: 0.7076\n",
      "Validation Accuracy: 93.69%\n",
      "\n",
      "Weights saved to semisupervised_results/1000_epochs_adam_1000_samples/weights_*.pth\n"
     ]
    },
    {
     "data": {
      "application/vnd.jupyter.widget-view+json": {
       "model_id": "8c25d99877504302af0c3ebbeb7e757a",
       "version_major": 2,
       "version_minor": 0
      },
      "text/plain": [
       "Epoch [599/1000]:   0%|          | 0/10 [00:00<?, ?it/s]"
      ]
     },
     "metadata": {},
     "output_type": "display_data"
    },
    {
     "name": "stdout",
     "output_type": "stream",
     "text": [
      "Epoch 599/1000 — Recon_U: 0.0259, Recon_L: 0.0193, SemiSup: 0.0258, Disc_Cat: 1.3433, Gen_Cat: 0.9000, Disc_Sty: 1.3853, Gen_Sty: 0.7048\n",
      "Validation Accuracy: 93.71%\n",
      "\n",
      "Weights saved to semisupervised_results/1000_epochs_adam_1000_samples/weights_*.pth\n"
     ]
    },
    {
     "data": {
      "application/vnd.jupyter.widget-view+json": {
       "model_id": "30e4015e40be4f5c80d1934e3308fd32",
       "version_major": 2,
       "version_minor": 0
      },
      "text/plain": [
       "Epoch [600/1000]:   0%|          | 0/10 [00:00<?, ?it/s]"
      ]
     },
     "metadata": {},
     "output_type": "display_data"
    },
    {
     "name": "stdout",
     "output_type": "stream",
     "text": [
      "Epoch 600/1000 — Recon_U: 0.0255, Recon_L: 0.0191, SemiSup: 0.0065, Disc_Cat: 1.3484, Gen_Cat: 0.9088, Disc_Sty: 1.3912, Gen_Sty: 0.6975\n",
      "Validation Accuracy: 93.78%\n",
      "\n",
      "Weights saved to semisupervised_results/1000_epochs_adam_1000_samples/weights_epoch_600/weights_*.pth\n",
      "Weights saved to semisupervised_results/1000_epochs_adam_1000_samples/weights_*.pth\n"
     ]
    },
    {
     "data": {
      "application/vnd.jupyter.widget-view+json": {
       "model_id": "15c927a325ed46e6a4ca72b7420fd900",
       "version_major": 2,
       "version_minor": 0
      },
      "text/plain": [
       "Epoch [601/1000]:   0%|          | 0/10 [00:00<?, ?it/s]"
      ]
     },
     "metadata": {},
     "output_type": "display_data"
    },
    {
     "name": "stdout",
     "output_type": "stream",
     "text": [
      "Epoch 601/1000 — Recon_U: 0.0260, Recon_L: 0.0191, SemiSup: 0.0206, Disc_Cat: 1.3305, Gen_Cat: 0.9494, Disc_Sty: 1.3853, Gen_Sty: 0.6978\n",
      "Validation Accuracy: 93.78%\n",
      "\n",
      "Weights saved to semisupervised_results/1000_epochs_adam_1000_samples/weights_*.pth\n"
     ]
    },
    {
     "data": {
      "application/vnd.jupyter.widget-view+json": {
       "model_id": "9c70fe0f87b6462abec1840b3ccf8e95",
       "version_major": 2,
       "version_minor": 0
      },
      "text/plain": [
       "Epoch [602/1000]:   0%|          | 0/10 [00:00<?, ?it/s]"
      ]
     },
     "metadata": {},
     "output_type": "display_data"
    },
    {
     "name": "stdout",
     "output_type": "stream",
     "text": [
      "Epoch 602/1000 — Recon_U: 0.0253, Recon_L: 0.0190, SemiSup: 0.0122, Disc_Cat: 1.3376, Gen_Cat: 0.9386, Disc_Sty: 1.3880, Gen_Sty: 0.6954\n",
      "Validation Accuracy: 93.81%\n",
      "\n",
      "Weights saved to semisupervised_results/1000_epochs_adam_1000_samples/weights_*.pth\n"
     ]
    },
    {
     "data": {
      "application/vnd.jupyter.widget-view+json": {
       "model_id": "d3b74418020c4cbda85ced25f1d0a6e1",
       "version_major": 2,
       "version_minor": 0
      },
      "text/plain": [
       "Epoch [603/1000]:   0%|          | 0/10 [00:00<?, ?it/s]"
      ]
     },
     "metadata": {},
     "output_type": "display_data"
    },
    {
     "name": "stdout",
     "output_type": "stream",
     "text": [
      "Epoch 603/1000 — Recon_U: 0.0254, Recon_L: 0.0189, SemiSup: 0.0085, Disc_Cat: 1.3246, Gen_Cat: 0.9749, Disc_Sty: 1.3811, Gen_Sty: 0.6976\n",
      "Validation Accuracy: 93.83%\n",
      "\n",
      "Weights saved to semisupervised_results/1000_epochs_adam_1000_samples/weights_*.pth\n"
     ]
    },
    {
     "data": {
      "application/vnd.jupyter.widget-view+json": {
       "model_id": "14952cb0fa014e54af6d01afc29334d3",
       "version_major": 2,
       "version_minor": 0
      },
      "text/plain": [
       "Epoch [604/1000]:   0%|          | 0/10 [00:00<?, ?it/s]"
      ]
     },
     "metadata": {},
     "output_type": "display_data"
    },
    {
     "name": "stdout",
     "output_type": "stream",
     "text": [
      "Epoch 604/1000 — Recon_U: 0.0259, Recon_L: 0.0190, SemiSup: 0.0060, Disc_Cat: 1.3535, Gen_Cat: 0.8640, Disc_Sty: 1.3822, Gen_Sty: 0.6969\n",
      "Validation Accuracy: 93.80%\n",
      "\n",
      "Weights saved to semisupervised_results/1000_epochs_adam_1000_samples/weights_*.pth\n"
     ]
    },
    {
     "data": {
      "application/vnd.jupyter.widget-view+json": {
       "model_id": "fac3ff4a67084fda9a25502801210c8b",
       "version_major": 2,
       "version_minor": 0
      },
      "text/plain": [
       "Epoch [605/1000]:   0%|          | 0/10 [00:00<?, ?it/s]"
      ]
     },
     "metadata": {},
     "output_type": "display_data"
    },
    {
     "name": "stdout",
     "output_type": "stream",
     "text": [
      "Epoch 605/1000 — Recon_U: 0.0251, Recon_L: 0.0188, SemiSup: 0.0053, Disc_Cat: 1.3519, Gen_Cat: 0.8868, Disc_Sty: 1.3817, Gen_Sty: 0.6937\n",
      "Validation Accuracy: 93.85%\n",
      "\n",
      "Weights saved to semisupervised_results/1000_epochs_adam_1000_samples/weights_*.pth\n"
     ]
    },
    {
     "data": {
      "application/vnd.jupyter.widget-view+json": {
       "model_id": "e557957d443e4e938e9cc3af6d8171ea",
       "version_major": 2,
       "version_minor": 0
      },
      "text/plain": [
       "Epoch [606/1000]:   0%|          | 0/10 [00:00<?, ?it/s]"
      ]
     },
     "metadata": {},
     "output_type": "display_data"
    },
    {
     "name": "stdout",
     "output_type": "stream",
     "text": [
      "Epoch 606/1000 — Recon_U: 0.0258, Recon_L: 0.0189, SemiSup: 0.0106, Disc_Cat: 1.3364, Gen_Cat: 0.9576, Disc_Sty: 1.3837, Gen_Sty: 0.6908\n",
      "Validation Accuracy: 93.95%\n",
      "\n",
      "Weights saved to semisupervised_results/1000_epochs_adam_1000_samples/weights_*.pth\n"
     ]
    },
    {
     "data": {
      "application/vnd.jupyter.widget-view+json": {
       "model_id": "387359754b5d4231aa606e2b4adf45e2",
       "version_major": 2,
       "version_minor": 0
      },
      "text/plain": [
       "Epoch [607/1000]:   0%|          | 0/10 [00:00<?, ?it/s]"
      ]
     },
     "metadata": {},
     "output_type": "display_data"
    },
    {
     "name": "stdout",
     "output_type": "stream",
     "text": [
      "Epoch 607/1000 — Recon_U: 0.0251, Recon_L: 0.0189, SemiSup: 0.0111, Disc_Cat: 1.3476, Gen_Cat: 0.8864, Disc_Sty: 1.3846, Gen_Sty: 0.6928\n",
      "Validation Accuracy: 93.95%\n",
      "\n",
      "Weights saved to semisupervised_results/1000_epochs_adam_1000_samples/weights_*.pth\n"
     ]
    },
    {
     "data": {
      "application/vnd.jupyter.widget-view+json": {
       "model_id": "0655a187f74b4001913338820aa4689a",
       "version_major": 2,
       "version_minor": 0
      },
      "text/plain": [
       "Epoch [608/1000]:   0%|          | 0/10 [00:00<?, ?it/s]"
      ]
     },
     "metadata": {},
     "output_type": "display_data"
    },
    {
     "name": "stdout",
     "output_type": "stream",
     "text": [
      "Epoch 608/1000 — Recon_U: 0.0258, Recon_L: 0.0189, SemiSup: 0.0012, Disc_Cat: 1.3384, Gen_Cat: 0.9157, Disc_Sty: 1.3832, Gen_Sty: 0.6925\n",
      "Validation Accuracy: 93.97%\n",
      "\n",
      "Weights saved to semisupervised_results/1000_epochs_adam_1000_samples/weights_*.pth\n"
     ]
    },
    {
     "data": {
      "application/vnd.jupyter.widget-view+json": {
       "model_id": "6af53f9d3e4244baa7228263568d11cd",
       "version_major": 2,
       "version_minor": 0
      },
      "text/plain": [
       "Epoch [609/1000]:   0%|          | 0/10 [00:00<?, ?it/s]"
      ]
     },
     "metadata": {},
     "output_type": "display_data"
    },
    {
     "name": "stdout",
     "output_type": "stream",
     "text": [
      "Epoch 609/1000 — Recon_U: 0.0262, Recon_L: 0.0188, SemiSup: 0.0147, Disc_Cat: 1.3426, Gen_Cat: 0.9049, Disc_Sty: 1.3835, Gen_Sty: 0.6937\n",
      "Validation Accuracy: 93.90%\n",
      "\n",
      "Weights saved to semisupervised_results/1000_epochs_adam_1000_samples/weights_*.pth\n"
     ]
    },
    {
     "data": {
      "application/vnd.jupyter.widget-view+json": {
       "model_id": "17381ffbfbc5453fbc02b5fc0eb546d1",
       "version_major": 2,
       "version_minor": 0
      },
      "text/plain": [
       "Epoch [610/1000]:   0%|          | 0/10 [00:00<?, ?it/s]"
      ]
     },
     "metadata": {},
     "output_type": "display_data"
    },
    {
     "name": "stdout",
     "output_type": "stream",
     "text": [
      "Epoch 610/1000 — Recon_U: 0.0246, Recon_L: 0.0189, SemiSup: 0.0260, Disc_Cat: 1.3384, Gen_Cat: 0.8860, Disc_Sty: 1.3839, Gen_Sty: 0.6932\n",
      "Validation Accuracy: 93.88%\n",
      "\n",
      "Weights saved to semisupervised_results/1000_epochs_adam_1000_samples/weights_*.pth\n"
     ]
    },
    {
     "data": {
      "application/vnd.jupyter.widget-view+json": {
       "model_id": "8bdd8915749247f7a70837702f797247",
       "version_major": 2,
       "version_minor": 0
      },
      "text/plain": [
       "Epoch [611/1000]:   0%|          | 0/10 [00:00<?, ?it/s]"
      ]
     },
     "metadata": {},
     "output_type": "display_data"
    },
    {
     "name": "stdout",
     "output_type": "stream",
     "text": [
      "Epoch 611/1000 — Recon_U: 0.0255, Recon_L: 0.0189, SemiSup: 0.0199, Disc_Cat: 1.3380, Gen_Cat: 0.9320, Disc_Sty: 1.3838, Gen_Sty: 0.6942\n",
      "Validation Accuracy: 93.90%\n",
      "\n",
      "Weights saved to semisupervised_results/1000_epochs_adam_1000_samples/weights_*.pth\n"
     ]
    },
    {
     "data": {
      "application/vnd.jupyter.widget-view+json": {
       "model_id": "c71747efccfa446280b911eecc39a82f",
       "version_major": 2,
       "version_minor": 0
      },
      "text/plain": [
       "Epoch [612/1000]:   0%|          | 0/10 [00:00<?, ?it/s]"
      ]
     },
     "metadata": {},
     "output_type": "display_data"
    },
    {
     "name": "stdout",
     "output_type": "stream",
     "text": [
      "Epoch 612/1000 — Recon_U: 0.0253, Recon_L: 0.0188, SemiSup: 0.0064, Disc_Cat: 1.3468, Gen_Cat: 0.9137, Disc_Sty: 1.3867, Gen_Sty: 0.6943\n",
      "Validation Accuracy: 93.80%\n",
      "\n",
      "Weights saved to semisupervised_results/1000_epochs_adam_1000_samples/weights_*.pth\n"
     ]
    },
    {
     "data": {
      "application/vnd.jupyter.widget-view+json": {
       "model_id": "8d32a39f4c424e5f87bd693a7f1f33df",
       "version_major": 2,
       "version_minor": 0
      },
      "text/plain": [
       "Epoch [613/1000]:   0%|          | 0/10 [00:00<?, ?it/s]"
      ]
     },
     "metadata": {},
     "output_type": "display_data"
    },
    {
     "name": "stdout",
     "output_type": "stream",
     "text": [
      "Epoch 613/1000 — Recon_U: 0.0247, Recon_L: 0.0189, SemiSup: 0.0168, Disc_Cat: 1.3415, Gen_Cat: 0.9365, Disc_Sty: 1.3877, Gen_Sty: 0.6936\n",
      "Validation Accuracy: 93.97%\n",
      "\n",
      "Weights saved to semisupervised_results/1000_epochs_adam_1000_samples/weights_*.pth\n"
     ]
    },
    {
     "data": {
      "application/vnd.jupyter.widget-view+json": {
       "model_id": "0148656954e74771ada776a9a723c9fd",
       "version_major": 2,
       "version_minor": 0
      },
      "text/plain": [
       "Epoch [614/1000]:   0%|          | 0/10 [00:00<?, ?it/s]"
      ]
     },
     "metadata": {},
     "output_type": "display_data"
    },
    {
     "name": "stdout",
     "output_type": "stream",
     "text": [
      "Epoch 614/1000 — Recon_U: 0.0247, Recon_L: 0.0188, SemiSup: 0.0123, Disc_Cat: 1.3329, Gen_Cat: 0.9760, Disc_Sty: 1.3828, Gen_Sty: 0.6984\n",
      "Validation Accuracy: 94.00%\n",
      "\n",
      "Weights saved to semisupervised_results/1000_epochs_adam_1000_samples/weights_*.pth\n"
     ]
    },
    {
     "data": {
      "application/vnd.jupyter.widget-view+json": {
       "model_id": "a06df1ff8c4848819b049f93b1f51cce",
       "version_major": 2,
       "version_minor": 0
      },
      "text/plain": [
       "Epoch [615/1000]:   0%|          | 0/10 [00:00<?, ?it/s]"
      ]
     },
     "metadata": {},
     "output_type": "display_data"
    },
    {
     "name": "stdout",
     "output_type": "stream",
     "text": [
      "Epoch 615/1000 — Recon_U: 0.0255, Recon_L: 0.0187, SemiSup: 0.0070, Disc_Cat: 1.3357, Gen_Cat: 0.9323, Disc_Sty: 1.3828, Gen_Sty: 0.6990\n",
      "Validation Accuracy: 93.95%\n",
      "\n",
      "Weights saved to semisupervised_results/1000_epochs_adam_1000_samples/weights_*.pth\n"
     ]
    },
    {
     "data": {
      "application/vnd.jupyter.widget-view+json": {
       "model_id": "17985a9c750e4124b6ce928c1898166b",
       "version_major": 2,
       "version_minor": 0
      },
      "text/plain": [
       "Epoch [616/1000]:   0%|          | 0/10 [00:00<?, ?it/s]"
      ]
     },
     "metadata": {},
     "output_type": "display_data"
    },
    {
     "name": "stdout",
     "output_type": "stream",
     "text": [
      "Epoch 616/1000 — Recon_U: 0.0259, Recon_L: 0.0188, SemiSup: 0.0018, Disc_Cat: 1.3371, Gen_Cat: 0.9324, Disc_Sty: 1.3822, Gen_Sty: 0.7003\n",
      "Validation Accuracy: 93.95%\n",
      "\n",
      "Weights saved to semisupervised_results/1000_epochs_adam_1000_samples/weights_*.pth\n"
     ]
    },
    {
     "data": {
      "application/vnd.jupyter.widget-view+json": {
       "model_id": "c78090ad3c1d45569140552d98bbf313",
       "version_major": 2,
       "version_minor": 0
      },
      "text/plain": [
       "Epoch [617/1000]:   0%|          | 0/10 [00:00<?, ?it/s]"
      ]
     },
     "metadata": {},
     "output_type": "display_data"
    },
    {
     "name": "stdout",
     "output_type": "stream",
     "text": [
      "Epoch 617/1000 — Recon_U: 0.0254, Recon_L: 0.0188, SemiSup: 0.0137, Disc_Cat: 1.3347, Gen_Cat: 0.9463, Disc_Sty: 1.3812, Gen_Sty: 0.7020\n",
      "Validation Accuracy: 93.92%\n",
      "\n",
      "Weights saved to semisupervised_results/1000_epochs_adam_1000_samples/weights_*.pth\n"
     ]
    },
    {
     "data": {
      "application/vnd.jupyter.widget-view+json": {
       "model_id": "ae0168618a614bcf8e4806712b896a0b",
       "version_major": 2,
       "version_minor": 0
      },
      "text/plain": [
       "Epoch [618/1000]:   0%|          | 0/10 [00:00<?, ?it/s]"
      ]
     },
     "metadata": {},
     "output_type": "display_data"
    },
    {
     "name": "stdout",
     "output_type": "stream",
     "text": [
      "Epoch 618/1000 — Recon_U: 0.0251, Recon_L: 0.0186, SemiSup: 0.0040, Disc_Cat: 1.3508, Gen_Cat: 0.8760, Disc_Sty: 1.3841, Gen_Sty: 0.6996\n",
      "Validation Accuracy: 93.95%\n",
      "\n",
      "Weights saved to semisupervised_results/1000_epochs_adam_1000_samples/weights_*.pth\n"
     ]
    },
    {
     "data": {
      "application/vnd.jupyter.widget-view+json": {
       "model_id": "ffe602ea6dc04aeea37f2ef4f2033b9d",
       "version_major": 2,
       "version_minor": 0
      },
      "text/plain": [
       "Epoch [619/1000]:   0%|          | 0/10 [00:00<?, ?it/s]"
      ]
     },
     "metadata": {},
     "output_type": "display_data"
    },
    {
     "name": "stdout",
     "output_type": "stream",
     "text": [
      "Epoch 619/1000 — Recon_U: 0.0249, Recon_L: 0.0189, SemiSup: 0.0215, Disc_Cat: 1.3309, Gen_Cat: 0.9420, Disc_Sty: 1.3817, Gen_Sty: 0.6987\n",
      "Validation Accuracy: 94.00%\n",
      "\n",
      "Weights saved to semisupervised_results/1000_epochs_adam_1000_samples/weights_*.pth\n"
     ]
    },
    {
     "data": {
      "application/vnd.jupyter.widget-view+json": {
       "model_id": "365f9f84a6cf4482a11fa76b09ca3e67",
       "version_major": 2,
       "version_minor": 0
      },
      "text/plain": [
       "Epoch [620/1000]:   0%|          | 0/10 [00:00<?, ?it/s]"
      ]
     },
     "metadata": {},
     "output_type": "display_data"
    },
    {
     "name": "stdout",
     "output_type": "stream",
     "text": [
      "Epoch 620/1000 — Recon_U: 0.0249, Recon_L: 0.0187, SemiSup: 0.0073, Disc_Cat: 1.3476, Gen_Cat: 0.9101, Disc_Sty: 1.3815, Gen_Sty: 0.6964\n",
      "Validation Accuracy: 94.00%\n",
      "\n",
      "Weights saved to semisupervised_results/1000_epochs_adam_1000_samples/weights_*.pth\n"
     ]
    },
    {
     "data": {
      "application/vnd.jupyter.widget-view+json": {
       "model_id": "e33ec55996204234aa58bdcaedf5b59e",
       "version_major": 2,
       "version_minor": 0
      },
      "text/plain": [
       "Epoch [621/1000]:   0%|          | 0/10 [00:00<?, ?it/s]"
      ]
     },
     "metadata": {},
     "output_type": "display_data"
    },
    {
     "name": "stdout",
     "output_type": "stream",
     "text": [
      "Epoch 621/1000 — Recon_U: 0.0255, Recon_L: 0.0189, SemiSup: 0.0175, Disc_Cat: 1.3442, Gen_Cat: 0.9023, Disc_Sty: 1.3877, Gen_Sty: 0.6915\n",
      "Validation Accuracy: 93.97%\n",
      "\n",
      "Weights saved to semisupervised_results/1000_epochs_adam_1000_samples/weights_*.pth\n"
     ]
    },
    {
     "data": {
      "application/vnd.jupyter.widget-view+json": {
       "model_id": "45cd7caa17184c96ab7156e7d3e8434f",
       "version_major": 2,
       "version_minor": 0
      },
      "text/plain": [
       "Epoch [622/1000]:   0%|          | 0/10 [00:00<?, ?it/s]"
      ]
     },
     "metadata": {},
     "output_type": "display_data"
    },
    {
     "name": "stdout",
     "output_type": "stream",
     "text": [
      "Epoch 622/1000 — Recon_U: 0.0255, Recon_L: 0.0187, SemiSup: 0.0074, Disc_Cat: 1.3371, Gen_Cat: 0.9719, Disc_Sty: 1.3859, Gen_Sty: 0.6935\n",
      "Validation Accuracy: 94.00%\n",
      "\n",
      "Weights saved to semisupervised_results/1000_epochs_adam_1000_samples/weights_*.pth\n"
     ]
    },
    {
     "data": {
      "application/vnd.jupyter.widget-view+json": {
       "model_id": "16fa14cb63a84ba085d9e1cc09934a48",
       "version_major": 2,
       "version_minor": 0
      },
      "text/plain": [
       "Epoch [623/1000]:   0%|          | 0/10 [00:00<?, ?it/s]"
      ]
     },
     "metadata": {},
     "output_type": "display_data"
    },
    {
     "name": "stdout",
     "output_type": "stream",
     "text": [
      "Epoch 623/1000 — Recon_U: 0.0255, Recon_L: 0.0187, SemiSup: 0.0054, Disc_Cat: 1.3444, Gen_Cat: 0.9420, Disc_Sty: 1.3835, Gen_Sty: 0.6966\n",
      "Validation Accuracy: 93.98%\n",
      "\n",
      "Weights saved to semisupervised_results/1000_epochs_adam_1000_samples/weights_*.pth\n"
     ]
    },
    {
     "data": {
      "application/vnd.jupyter.widget-view+json": {
       "model_id": "639aec58aa234fd4abb26ffd7016580e",
       "version_major": 2,
       "version_minor": 0
      },
      "text/plain": [
       "Epoch [624/1000]:   0%|          | 0/10 [00:00<?, ?it/s]"
      ]
     },
     "metadata": {},
     "output_type": "display_data"
    },
    {
     "name": "stdout",
     "output_type": "stream",
     "text": [
      "Epoch 624/1000 — Recon_U: 0.0254, Recon_L: 0.0187, SemiSup: 0.0141, Disc_Cat: 1.3323, Gen_Cat: 0.9657, Disc_Sty: 1.3841, Gen_Sty: 0.6995\n",
      "Validation Accuracy: 94.00%\n",
      "\n",
      "Weights saved to semisupervised_results/1000_epochs_adam_1000_samples/weights_*.pth\n"
     ]
    },
    {
     "data": {
      "application/vnd.jupyter.widget-view+json": {
       "model_id": "9d511277dcf9438d8ff71d7ae089773c",
       "version_major": 2,
       "version_minor": 0
      },
      "text/plain": [
       "Epoch [625/1000]:   0%|          | 0/10 [00:00<?, ?it/s]"
      ]
     },
     "metadata": {},
     "output_type": "display_data"
    },
    {
     "name": "stdout",
     "output_type": "stream",
     "text": [
      "Epoch 625/1000 — Recon_U: 0.0253, Recon_L: 0.0188, SemiSup: 0.0131, Disc_Cat: 1.3429, Gen_Cat: 0.9206, Disc_Sty: 1.3849, Gen_Sty: 0.7003\n",
      "Validation Accuracy: 94.03%\n",
      "\n",
      "Weights saved to semisupervised_results/1000_epochs_adam_1000_samples/weights_*.pth\n"
     ]
    },
    {
     "data": {
      "application/vnd.jupyter.widget-view+json": {
       "model_id": "cf71b462ae834d25836e6cbfaf6c07a6",
       "version_major": 2,
       "version_minor": 0
      },
      "text/plain": [
       "Epoch [626/1000]:   0%|          | 0/10 [00:00<?, ?it/s]"
      ]
     },
     "metadata": {},
     "output_type": "display_data"
    },
    {
     "name": "stdout",
     "output_type": "stream",
     "text": [
      "Epoch 626/1000 — Recon_U: 0.0248, Recon_L: 0.0188, SemiSup: 0.0233, Disc_Cat: 1.3397, Gen_Cat: 0.8934, Disc_Sty: 1.3850, Gen_Sty: 0.7048\n",
      "Validation Accuracy: 94.02%\n",
      "\n",
      "Weights saved to semisupervised_results/1000_epochs_adam_1000_samples/weights_*.pth\n"
     ]
    },
    {
     "data": {
      "application/vnd.jupyter.widget-view+json": {
       "model_id": "d5f61a1a09a74a879c7bc39364072edd",
       "version_major": 2,
       "version_minor": 0
      },
      "text/plain": [
       "Epoch [627/1000]:   0%|          | 0/10 [00:00<?, ?it/s]"
      ]
     },
     "metadata": {},
     "output_type": "display_data"
    },
    {
     "name": "stdout",
     "output_type": "stream",
     "text": [
      "Epoch 627/1000 — Recon_U: 0.0258, Recon_L: 0.0189, SemiSup: 0.0233, Disc_Cat: 1.3382, Gen_Cat: 0.9687, Disc_Sty: 1.3827, Gen_Sty: 0.7068\n",
      "Validation Accuracy: 94.08%\n",
      "\n",
      "Weights saved to semisupervised_results/1000_epochs_adam_1000_samples/weights_*.pth\n"
     ]
    },
    {
     "data": {
      "application/vnd.jupyter.widget-view+json": {
       "model_id": "364470f8c34945918762032f68f9e54a",
       "version_major": 2,
       "version_minor": 0
      },
      "text/plain": [
       "Epoch [628/1000]:   0%|          | 0/10 [00:00<?, ?it/s]"
      ]
     },
     "metadata": {},
     "output_type": "display_data"
    },
    {
     "name": "stdout",
     "output_type": "stream",
     "text": [
      "Epoch 628/1000 — Recon_U: 0.0253, Recon_L: 0.0189, SemiSup: 0.0013, Disc_Cat: 1.3449, Gen_Cat: 0.9472, Disc_Sty: 1.3900, Gen_Sty: 0.7014\n",
      "Validation Accuracy: 94.14%\n",
      "\n",
      "Weights saved to semisupervised_results/1000_epochs_adam_1000_samples/weights_*.pth\n"
     ]
    },
    {
     "data": {
      "application/vnd.jupyter.widget-view+json": {
       "model_id": "4c9c0a7b90b847f08a1dd839273d693e",
       "version_major": 2,
       "version_minor": 0
      },
      "text/plain": [
       "Epoch [629/1000]:   0%|          | 0/10 [00:00<?, ?it/s]"
      ]
     },
     "metadata": {},
     "output_type": "display_data"
    },
    {
     "name": "stdout",
     "output_type": "stream",
     "text": [
      "Epoch 629/1000 — Recon_U: 0.0262, Recon_L: 0.0188, SemiSup: 0.0101, Disc_Cat: 1.3358, Gen_Cat: 0.9547, Disc_Sty: 1.3854, Gen_Sty: 0.6998\n",
      "Validation Accuracy: 94.02%\n",
      "\n",
      "Weights saved to semisupervised_results/1000_epochs_adam_1000_samples/weights_*.pth\n"
     ]
    },
    {
     "data": {
      "application/vnd.jupyter.widget-view+json": {
       "model_id": "265440a9b86746baade064d0756d7022",
       "version_major": 2,
       "version_minor": 0
      },
      "text/plain": [
       "Epoch [630/1000]:   0%|          | 0/10 [00:00<?, ?it/s]"
      ]
     },
     "metadata": {},
     "output_type": "display_data"
    },
    {
     "name": "stdout",
     "output_type": "stream",
     "text": [
      "Epoch 630/1000 — Recon_U: 0.0259, Recon_L: 0.0187, SemiSup: 0.0027, Disc_Cat: 1.3428, Gen_Cat: 0.9226, Disc_Sty: 1.3907, Gen_Sty: 0.6941\n",
      "Validation Accuracy: 93.98%\n",
      "\n",
      "Weights saved to semisupervised_results/1000_epochs_adam_1000_samples/weights_*.pth\n"
     ]
    },
    {
     "data": {
      "application/vnd.jupyter.widget-view+json": {
       "model_id": "de41520314f44ec296bfff94f005cb72",
       "version_major": 2,
       "version_minor": 0
      },
      "text/plain": [
       "Epoch [631/1000]:   0%|          | 0/10 [00:00<?, ?it/s]"
      ]
     },
     "metadata": {},
     "output_type": "display_data"
    },
    {
     "name": "stdout",
     "output_type": "stream",
     "text": [
      "Epoch 631/1000 — Recon_U: 0.0256, Recon_L: 0.0186, SemiSup: 0.0065, Disc_Cat: 1.3443, Gen_Cat: 0.9085, Disc_Sty: 1.3866, Gen_Sty: 0.6908\n",
      "Validation Accuracy: 94.00%\n",
      "\n",
      "Weights saved to semisupervised_results/1000_epochs_adam_1000_samples/weights_*.pth\n"
     ]
    },
    {
     "data": {
      "application/vnd.jupyter.widget-view+json": {
       "model_id": "d015263fe4174f479282605e8afabb9b",
       "version_major": 2,
       "version_minor": 0
      },
      "text/plain": [
       "Epoch [632/1000]:   0%|          | 0/10 [00:00<?, ?it/s]"
      ]
     },
     "metadata": {},
     "output_type": "display_data"
    },
    {
     "name": "stdout",
     "output_type": "stream",
     "text": [
      "Epoch 632/1000 — Recon_U: 0.0250, Recon_L: 0.0188, SemiSup: 0.0109, Disc_Cat: 1.3471, Gen_Cat: 0.8993, Disc_Sty: 1.3853, Gen_Sty: 0.6912\n",
      "Validation Accuracy: 94.02%\n",
      "\n",
      "Weights saved to semisupervised_results/1000_epochs_adam_1000_samples/weights_*.pth\n"
     ]
    },
    {
     "data": {
      "application/vnd.jupyter.widget-view+json": {
       "model_id": "8814ad9c58704f3ea1a81131ba373c76",
       "version_major": 2,
       "version_minor": 0
      },
      "text/plain": [
       "Epoch [633/1000]:   0%|          | 0/10 [00:00<?, ?it/s]"
      ]
     },
     "metadata": {},
     "output_type": "display_data"
    },
    {
     "name": "stdout",
     "output_type": "stream",
     "text": [
      "Epoch 633/1000 — Recon_U: 0.0257, Recon_L: 0.0187, SemiSup: 0.0021, Disc_Cat: 1.3354, Gen_Cat: 0.9244, Disc_Sty: 1.3848, Gen_Sty: 0.6929\n",
      "Validation Accuracy: 94.00%\n",
      "\n",
      "Weights saved to semisupervised_results/1000_epochs_adam_1000_samples/weights_*.pth\n"
     ]
    },
    {
     "data": {
      "application/vnd.jupyter.widget-view+json": {
       "model_id": "490162944f3943f7bd9b6a757904adf3",
       "version_major": 2,
       "version_minor": 0
      },
      "text/plain": [
       "Epoch [634/1000]:   0%|          | 0/10 [00:00<?, ?it/s]"
      ]
     },
     "metadata": {},
     "output_type": "display_data"
    },
    {
     "name": "stdout",
     "output_type": "stream",
     "text": [
      "Epoch 634/1000 — Recon_U: 0.0253, Recon_L: 0.0185, SemiSup: 0.0060, Disc_Cat: 1.3483, Gen_Cat: 0.8807, Disc_Sty: 1.3821, Gen_Sty: 0.6952\n",
      "Validation Accuracy: 93.92%\n",
      "\n",
      "Weights saved to semisupervised_results/1000_epochs_adam_1000_samples/weights_*.pth\n"
     ]
    },
    {
     "data": {
      "application/vnd.jupyter.widget-view+json": {
       "model_id": "f3b8b5724c3742639d37283aa9665e20",
       "version_major": 2,
       "version_minor": 0
      },
      "text/plain": [
       "Epoch [635/1000]:   0%|          | 0/10 [00:00<?, ?it/s]"
      ]
     },
     "metadata": {},
     "output_type": "display_data"
    },
    {
     "name": "stdout",
     "output_type": "stream",
     "text": [
      "Epoch 635/1000 — Recon_U: 0.0253, Recon_L: 0.0187, SemiSup: 0.0137, Disc_Cat: 1.3384, Gen_Cat: 0.9394, Disc_Sty: 1.3825, Gen_Sty: 0.6943\n",
      "Validation Accuracy: 93.93%\n",
      "\n",
      "Weights saved to semisupervised_results/1000_epochs_adam_1000_samples/weights_*.pth\n"
     ]
    },
    {
     "data": {
      "application/vnd.jupyter.widget-view+json": {
       "model_id": "5f25b2ab465b4a97be6e117a1610a2a3",
       "version_major": 2,
       "version_minor": 0
      },
      "text/plain": [
       "Epoch [636/1000]:   0%|          | 0/10 [00:00<?, ?it/s]"
      ]
     },
     "metadata": {},
     "output_type": "display_data"
    },
    {
     "name": "stdout",
     "output_type": "stream",
     "text": [
      "Epoch 636/1000 — Recon_U: 0.0258, Recon_L: 0.0186, SemiSup: 0.0049, Disc_Cat: 1.3419, Gen_Cat: 0.9151, Disc_Sty: 1.3821, Gen_Sty: 0.6960\n",
      "Validation Accuracy: 93.85%\n",
      "\n",
      "Weights saved to semisupervised_results/1000_epochs_adam_1000_samples/weights_*.pth\n"
     ]
    },
    {
     "data": {
      "application/vnd.jupyter.widget-view+json": {
       "model_id": "c59e2335c4bf429bba6accdad4ec61bb",
       "version_major": 2,
       "version_minor": 0
      },
      "text/plain": [
       "Epoch [637/1000]:   0%|          | 0/10 [00:00<?, ?it/s]"
      ]
     },
     "metadata": {},
     "output_type": "display_data"
    },
    {
     "name": "stdout",
     "output_type": "stream",
     "text": [
      "Epoch 637/1000 — Recon_U: 0.0254, Recon_L: 0.0185, SemiSup: 0.0104, Disc_Cat: 1.3410, Gen_Cat: 0.9304, Disc_Sty: 1.3836, Gen_Sty: 0.6945\n",
      "Validation Accuracy: 94.03%\n",
      "\n",
      "Weights saved to semisupervised_results/1000_epochs_adam_1000_samples/weights_*.pth\n"
     ]
    },
    {
     "data": {
      "application/vnd.jupyter.widget-view+json": {
       "model_id": "6b4949c31f3746378bdbc49a162f8e61",
       "version_major": 2,
       "version_minor": 0
      },
      "text/plain": [
       "Epoch [638/1000]:   0%|          | 0/10 [00:00<?, ?it/s]"
      ]
     },
     "metadata": {},
     "output_type": "display_data"
    },
    {
     "name": "stdout",
     "output_type": "stream",
     "text": [
      "Epoch 638/1000 — Recon_U: 0.0254, Recon_L: 0.0186, SemiSup: 0.0358, Disc_Cat: 1.3388, Gen_Cat: 0.9201, Disc_Sty: 1.3878, Gen_Sty: 0.6928\n",
      "Validation Accuracy: 93.93%\n",
      "\n",
      "Weights saved to semisupervised_results/1000_epochs_adam_1000_samples/weights_*.pth\n"
     ]
    },
    {
     "data": {
      "application/vnd.jupyter.widget-view+json": {
       "model_id": "13309807c6ea4ec49f61b9596d4eb638",
       "version_major": 2,
       "version_minor": 0
      },
      "text/plain": [
       "Epoch [639/1000]:   0%|          | 0/10 [00:00<?, ?it/s]"
      ]
     },
     "metadata": {},
     "output_type": "display_data"
    },
    {
     "name": "stdout",
     "output_type": "stream",
     "text": [
      "Epoch 639/1000 — Recon_U: 0.0260, Recon_L: 0.0185, SemiSup: 0.0107, Disc_Cat: 1.3361, Gen_Cat: 0.9370, Disc_Sty: 1.3889, Gen_Sty: 0.6929\n",
      "Validation Accuracy: 93.88%\n",
      "\n",
      "Weights saved to semisupervised_results/1000_epochs_adam_1000_samples/weights_*.pth\n"
     ]
    },
    {
     "data": {
      "application/vnd.jupyter.widget-view+json": {
       "model_id": "2f732ebeeaa14b04becedd14817347f1",
       "version_major": 2,
       "version_minor": 0
      },
      "text/plain": [
       "Epoch [640/1000]:   0%|          | 0/10 [00:00<?, ?it/s]"
      ]
     },
     "metadata": {},
     "output_type": "display_data"
    },
    {
     "name": "stdout",
     "output_type": "stream",
     "text": [
      "Epoch 640/1000 — Recon_U: 0.0249, Recon_L: 0.0185, SemiSup: 0.0084, Disc_Cat: 1.3453, Gen_Cat: 0.9128, Disc_Sty: 1.3825, Gen_Sty: 0.6994\n",
      "Validation Accuracy: 93.98%\n",
      "\n",
      "Weights saved to semisupervised_results/1000_epochs_adam_1000_samples/weights_*.pth\n"
     ]
    },
    {
     "data": {
      "application/vnd.jupyter.widget-view+json": {
       "model_id": "39ad335dd21e41898936183f06d07d5d",
       "version_major": 2,
       "version_minor": 0
      },
      "text/plain": [
       "Epoch [641/1000]:   0%|          | 0/10 [00:00<?, ?it/s]"
      ]
     },
     "metadata": {},
     "output_type": "display_data"
    },
    {
     "name": "stdout",
     "output_type": "stream",
     "text": [
      "Epoch 641/1000 — Recon_U: 0.0258, Recon_L: 0.0185, SemiSup: 0.0021, Disc_Cat: 1.3394, Gen_Cat: 0.9282, Disc_Sty: 1.3831, Gen_Sty: 0.7017\n",
      "Validation Accuracy: 93.97%\n",
      "\n",
      "Weights saved to semisupervised_results/1000_epochs_adam_1000_samples/weights_*.pth\n"
     ]
    },
    {
     "data": {
      "application/vnd.jupyter.widget-view+json": {
       "model_id": "4f69516ef05f412aae5c1ae8fe55e532",
       "version_major": 2,
       "version_minor": 0
      },
      "text/plain": [
       "Epoch [642/1000]:   0%|          | 0/10 [00:00<?, ?it/s]"
      ]
     },
     "metadata": {},
     "output_type": "display_data"
    },
    {
     "name": "stdout",
     "output_type": "stream",
     "text": [
      "Epoch 642/1000 — Recon_U: 0.0248, Recon_L: 0.0185, SemiSup: 0.0016, Disc_Cat: 1.3413, Gen_Cat: 0.9573, Disc_Sty: 1.3837, Gen_Sty: 0.7009\n",
      "Validation Accuracy: 93.95%\n",
      "\n",
      "Weights saved to semisupervised_results/1000_epochs_adam_1000_samples/weights_*.pth\n"
     ]
    },
    {
     "data": {
      "application/vnd.jupyter.widget-view+json": {
       "model_id": "c3f679a0dab5437b8471e6588be902d1",
       "version_major": 2,
       "version_minor": 0
      },
      "text/plain": [
       "Epoch [643/1000]:   0%|          | 0/10 [00:00<?, ?it/s]"
      ]
     },
     "metadata": {},
     "output_type": "display_data"
    },
    {
     "name": "stdout",
     "output_type": "stream",
     "text": [
      "Epoch 643/1000 — Recon_U: 0.0255, Recon_L: 0.0186, SemiSup: 0.0133, Disc_Cat: 1.3473, Gen_Cat: 0.8835, Disc_Sty: 1.3852, Gen_Sty: 0.6975\n",
      "Validation Accuracy: 93.93%\n",
      "\n",
      "Weights saved to semisupervised_results/1000_epochs_adam_1000_samples/weights_*.pth\n"
     ]
    },
    {
     "data": {
      "application/vnd.jupyter.widget-view+json": {
       "model_id": "00cb3a6450154a69a46340cc04bf95fc",
       "version_major": 2,
       "version_minor": 0
      },
      "text/plain": [
       "Epoch [644/1000]:   0%|          | 0/10 [00:00<?, ?it/s]"
      ]
     },
     "metadata": {},
     "output_type": "display_data"
    },
    {
     "name": "stdout",
     "output_type": "stream",
     "text": [
      "Epoch 644/1000 — Recon_U: 0.0255, Recon_L: 0.0185, SemiSup: 0.0165, Disc_Cat: 1.3419, Gen_Cat: 0.8950, Disc_Sty: 1.3877, Gen_Sty: 0.6929\n",
      "Validation Accuracy: 93.98%\n",
      "\n",
      "Weights saved to semisupervised_results/1000_epochs_adam_1000_samples/weights_*.pth\n"
     ]
    },
    {
     "data": {
      "application/vnd.jupyter.widget-view+json": {
       "model_id": "29213021195a4b28978613f1d4dfda64",
       "version_major": 2,
       "version_minor": 0
      },
      "text/plain": [
       "Epoch [645/1000]:   0%|          | 0/10 [00:00<?, ?it/s]"
      ]
     },
     "metadata": {},
     "output_type": "display_data"
    },
    {
     "name": "stdout",
     "output_type": "stream",
     "text": [
      "Epoch 645/1000 — Recon_U: 0.0252, Recon_L: 0.0185, SemiSup: 0.0016, Disc_Cat: 1.3442, Gen_Cat: 0.8935, Disc_Sty: 1.3869, Gen_Sty: 0.6882\n",
      "Validation Accuracy: 94.10%\n",
      "\n",
      "Weights saved to semisupervised_results/1000_epochs_adam_1000_samples/weights_*.pth\n"
     ]
    },
    {
     "data": {
      "application/vnd.jupyter.widget-view+json": {
       "model_id": "9777a9ddf1974848b9dee4a0697bc7d0",
       "version_major": 2,
       "version_minor": 0
      },
      "text/plain": [
       "Epoch [646/1000]:   0%|          | 0/10 [00:00<?, ?it/s]"
      ]
     },
     "metadata": {},
     "output_type": "display_data"
    },
    {
     "name": "stdout",
     "output_type": "stream",
     "text": [
      "Epoch 646/1000 — Recon_U: 0.0246, Recon_L: 0.0184, SemiSup: 0.0134, Disc_Cat: 1.3465, Gen_Cat: 0.9072, Disc_Sty: 1.3831, Gen_Sty: 0.6901\n",
      "Validation Accuracy: 94.12%\n",
      "\n",
      "Weights saved to semisupervised_results/1000_epochs_adam_1000_samples/weights_*.pth\n"
     ]
    },
    {
     "data": {
      "application/vnd.jupyter.widget-view+json": {
       "model_id": "19288c5034474fb38aec4662297c21cf",
       "version_major": 2,
       "version_minor": 0
      },
      "text/plain": [
       "Epoch [647/1000]:   0%|          | 0/10 [00:00<?, ?it/s]"
      ]
     },
     "metadata": {},
     "output_type": "display_data"
    },
    {
     "name": "stdout",
     "output_type": "stream",
     "text": [
      "Epoch 647/1000 — Recon_U: 0.0255, Recon_L: 0.0185, SemiSup: 0.0066, Disc_Cat: 1.3394, Gen_Cat: 0.9510, Disc_Sty: 1.3795, Gen_Sty: 0.6905\n",
      "Validation Accuracy: 94.10%\n",
      "\n",
      "Weights saved to semisupervised_results/1000_epochs_adam_1000_samples/weights_*.pth\n"
     ]
    },
    {
     "data": {
      "application/vnd.jupyter.widget-view+json": {
       "model_id": "1a3cbfb080a943c89a7b2a354d51efe4",
       "version_major": 2,
       "version_minor": 0
      },
      "text/plain": [
       "Epoch [648/1000]:   0%|          | 0/10 [00:00<?, ?it/s]"
      ]
     },
     "metadata": {},
     "output_type": "display_data"
    },
    {
     "name": "stdout",
     "output_type": "stream",
     "text": [
      "Epoch 648/1000 — Recon_U: 0.0244, Recon_L: 0.0183, SemiSup: 0.0160, Disc_Cat: 1.3385, Gen_Cat: 0.9515, Disc_Sty: 1.3841, Gen_Sty: 0.6882\n",
      "Validation Accuracy: 94.03%\n",
      "\n",
      "Weights saved to semisupervised_results/1000_epochs_adam_1000_samples/weights_*.pth\n"
     ]
    },
    {
     "data": {
      "application/vnd.jupyter.widget-view+json": {
       "model_id": "6a008cfc5ec74f5bb2432693b947a30e",
       "version_major": 2,
       "version_minor": 0
      },
      "text/plain": [
       "Epoch [649/1000]:   0%|          | 0/10 [00:00<?, ?it/s]"
      ]
     },
     "metadata": {},
     "output_type": "display_data"
    },
    {
     "name": "stdout",
     "output_type": "stream",
     "text": [
      "Epoch 649/1000 — Recon_U: 0.0261, Recon_L: 0.0183, SemiSup: 0.0165, Disc_Cat: 1.3418, Gen_Cat: 0.9506, Disc_Sty: 1.3860, Gen_Sty: 0.6899\n",
      "Validation Accuracy: 94.10%\n",
      "\n",
      "Weights saved to semisupervised_results/1000_epochs_adam_1000_samples/weights_*.pth\n"
     ]
    },
    {
     "data": {
      "application/vnd.jupyter.widget-view+json": {
       "model_id": "87164f9d3a054e65aee32f4c3b82bc84",
       "version_major": 2,
       "version_minor": 0
      },
      "text/plain": [
       "Epoch [650/1000]:   0%|          | 0/10 [00:00<?, ?it/s]"
      ]
     },
     "metadata": {},
     "output_type": "display_data"
    },
    {
     "name": "stdout",
     "output_type": "stream",
     "text": [
      "Epoch 650/1000 — Recon_U: 0.0253, Recon_L: 0.0184, SemiSup: 0.0087, Disc_Cat: 1.3484, Gen_Cat: 0.9184, Disc_Sty: 1.3880, Gen_Sty: 0.6931\n",
      "Validation Accuracy: 94.12%\n",
      "\n",
      "Weights saved to semisupervised_results/1000_epochs_adam_1000_samples/weights_epoch_650/weights_*.pth\n",
      "Weights saved to semisupervised_results/1000_epochs_adam_1000_samples/weights_*.pth\n"
     ]
    },
    {
     "data": {
      "application/vnd.jupyter.widget-view+json": {
       "model_id": "2975f1e0859844c892f623d3a213f461",
       "version_major": 2,
       "version_minor": 0
      },
      "text/plain": [
       "Epoch [651/1000]:   0%|          | 0/10 [00:00<?, ?it/s]"
      ]
     },
     "metadata": {},
     "output_type": "display_data"
    },
    {
     "name": "stdout",
     "output_type": "stream",
     "text": [
      "Epoch 651/1000 — Recon_U: 0.0253, Recon_L: 0.0185, SemiSup: 0.0066, Disc_Cat: 1.3455, Gen_Cat: 0.9148, Disc_Sty: 1.3863, Gen_Sty: 0.6984\n",
      "Validation Accuracy: 94.08%\n",
      "\n",
      "Weights saved to semisupervised_results/1000_epochs_adam_1000_samples/weights_*.pth\n"
     ]
    },
    {
     "data": {
      "application/vnd.jupyter.widget-view+json": {
       "model_id": "174eef607c004c26afc6dcf236ef3b9c",
       "version_major": 2,
       "version_minor": 0
      },
      "text/plain": [
       "Epoch [652/1000]:   0%|          | 0/10 [00:00<?, ?it/s]"
      ]
     },
     "metadata": {},
     "output_type": "display_data"
    },
    {
     "name": "stdout",
     "output_type": "stream",
     "text": [
      "Epoch 652/1000 — Recon_U: 0.0252, Recon_L: 0.0185, SemiSup: 0.0211, Disc_Cat: 1.3485, Gen_Cat: 0.8934, Disc_Sty: 1.3856, Gen_Sty: 0.7032\n",
      "Validation Accuracy: 94.10%\n",
      "\n",
      "Weights saved to semisupervised_results/1000_epochs_adam_1000_samples/weights_*.pth\n"
     ]
    },
    {
     "data": {
      "application/vnd.jupyter.widget-view+json": {
       "model_id": "92e3f1e80a9e4b2d862cfe9a9e0facd8",
       "version_major": 2,
       "version_minor": 0
      },
      "text/plain": [
       "Epoch [653/1000]:   0%|          | 0/10 [00:00<?, ?it/s]"
      ]
     },
     "metadata": {},
     "output_type": "display_data"
    },
    {
     "name": "stdout",
     "output_type": "stream",
     "text": [
      "Epoch 653/1000 — Recon_U: 0.0254, Recon_L: 0.0185, SemiSup: 0.0041, Disc_Cat: 1.3407, Gen_Cat: 0.9470, Disc_Sty: 1.3852, Gen_Sty: 0.7026\n",
      "Validation Accuracy: 94.10%\n",
      "\n",
      "Weights saved to semisupervised_results/1000_epochs_adam_1000_samples/weights_*.pth\n"
     ]
    },
    {
     "data": {
      "application/vnd.jupyter.widget-view+json": {
       "model_id": "306bb2879cba483ba8533b835602e0be",
       "version_major": 2,
       "version_minor": 0
      },
      "text/plain": [
       "Epoch [654/1000]:   0%|          | 0/10 [00:00<?, ?it/s]"
      ]
     },
     "metadata": {},
     "output_type": "display_data"
    },
    {
     "name": "stdout",
     "output_type": "stream",
     "text": [
      "Epoch 654/1000 — Recon_U: 0.0255, Recon_L: 0.0183, SemiSup: 0.0122, Disc_Cat: 1.3491, Gen_Cat: 0.8593, Disc_Sty: 1.3834, Gen_Sty: 0.7027\n",
      "Validation Accuracy: 94.12%\n",
      "\n",
      "Weights saved to semisupervised_results/1000_epochs_adam_1000_samples/weights_*.pth\n"
     ]
    },
    {
     "data": {
      "application/vnd.jupyter.widget-view+json": {
       "model_id": "55de3ca31a4f43e782c362e99d5630f7",
       "version_major": 2,
       "version_minor": 0
      },
      "text/plain": [
       "Epoch [655/1000]:   0%|          | 0/10 [00:00<?, ?it/s]"
      ]
     },
     "metadata": {},
     "output_type": "display_data"
    },
    {
     "name": "stdout",
     "output_type": "stream",
     "text": [
      "Epoch 655/1000 — Recon_U: 0.0251, Recon_L: 0.0185, SemiSup: 0.0082, Disc_Cat: 1.3506, Gen_Cat: 0.8630, Disc_Sty: 1.3860, Gen_Sty: 0.6946\n",
      "Validation Accuracy: 94.03%\n",
      "\n",
      "Weights saved to semisupervised_results/1000_epochs_adam_1000_samples/weights_*.pth\n"
     ]
    },
    {
     "data": {
      "application/vnd.jupyter.widget-view+json": {
       "model_id": "6badb20a0a9b43109c7e4c87e81d8f74",
       "version_major": 2,
       "version_minor": 0
      },
      "text/plain": [
       "Epoch [656/1000]:   0%|          | 0/10 [00:00<?, ?it/s]"
      ]
     },
     "metadata": {},
     "output_type": "display_data"
    },
    {
     "name": "stdout",
     "output_type": "stream",
     "text": [
      "Epoch 656/1000 — Recon_U: 0.0254, Recon_L: 0.0185, SemiSup: 0.0112, Disc_Cat: 1.3480, Gen_Cat: 0.8777, Disc_Sty: 1.3937, Gen_Sty: 0.6861\n",
      "Validation Accuracy: 93.95%\n",
      "\n",
      "Weights saved to semisupervised_results/1000_epochs_adam_1000_samples/weights_*.pth\n"
     ]
    },
    {
     "data": {
      "application/vnd.jupyter.widget-view+json": {
       "model_id": "ecfccf98665c46429f9e04a507092940",
       "version_major": 2,
       "version_minor": 0
      },
      "text/plain": [
       "Epoch [657/1000]:   0%|          | 0/10 [00:00<?, ?it/s]"
      ]
     },
     "metadata": {},
     "output_type": "display_data"
    },
    {
     "name": "stdout",
     "output_type": "stream",
     "text": [
      "Epoch 657/1000 — Recon_U: 0.0254, Recon_L: 0.0185, SemiSup: 0.0134, Disc_Cat: 1.3484, Gen_Cat: 0.9087, Disc_Sty: 1.3925, Gen_Sty: 0.6859\n",
      "Validation Accuracy: 93.92%\n",
      "\n",
      "Weights saved to semisupervised_results/1000_epochs_adam_1000_samples/weights_*.pth\n"
     ]
    },
    {
     "data": {
      "application/vnd.jupyter.widget-view+json": {
       "model_id": "684d3a48a00a4fcca02ece8758d21edc",
       "version_major": 2,
       "version_minor": 0
      },
      "text/plain": [
       "Epoch [658/1000]:   0%|          | 0/10 [00:00<?, ?it/s]"
      ]
     },
     "metadata": {},
     "output_type": "display_data"
    },
    {
     "name": "stdout",
     "output_type": "stream",
     "text": [
      "Epoch 658/1000 — Recon_U: 0.0246, Recon_L: 0.0185, SemiSup: 0.0365, Disc_Cat: 1.3534, Gen_Cat: 0.8638, Disc_Sty: 1.3864, Gen_Sty: 0.6927\n",
      "Validation Accuracy: 93.97%\n",
      "\n",
      "Weights saved to semisupervised_results/1000_epochs_adam_1000_samples/weights_*.pth\n"
     ]
    },
    {
     "data": {
      "application/vnd.jupyter.widget-view+json": {
       "model_id": "f480037246bc4de48ed1778a314e9268",
       "version_major": 2,
       "version_minor": 0
      },
      "text/plain": [
       "Epoch [659/1000]:   0%|          | 0/10 [00:00<?, ?it/s]"
      ]
     },
     "metadata": {},
     "output_type": "display_data"
    },
    {
     "name": "stdout",
     "output_type": "stream",
     "text": [
      "Epoch 659/1000 — Recon_U: 0.0257, Recon_L: 0.0183, SemiSup: 0.0136, Disc_Cat: 1.3401, Gen_Cat: 0.9055, Disc_Sty: 1.3795, Gen_Sty: 0.7000\n",
      "Validation Accuracy: 94.03%\n",
      "\n",
      "Weights saved to semisupervised_results/1000_epochs_adam_1000_samples/weights_*.pth\n"
     ]
    },
    {
     "data": {
      "application/vnd.jupyter.widget-view+json": {
       "model_id": "c1eb6f294c53431597d31203551d9a7f",
       "version_major": 2,
       "version_minor": 0
      },
      "text/plain": [
       "Epoch [660/1000]:   0%|          | 0/10 [00:00<?, ?it/s]"
      ]
     },
     "metadata": {},
     "output_type": "display_data"
    },
    {
     "name": "stdout",
     "output_type": "stream",
     "text": [
      "Epoch 660/1000 — Recon_U: 0.0249, Recon_L: 0.0184, SemiSup: 0.0291, Disc_Cat: 1.3456, Gen_Cat: 0.9163, Disc_Sty: 1.3779, Gen_Sty: 0.7027\n",
      "Validation Accuracy: 93.95%\n",
      "\n",
      "Weights saved to semisupervised_results/1000_epochs_adam_1000_samples/weights_*.pth\n"
     ]
    },
    {
     "data": {
      "application/vnd.jupyter.widget-view+json": {
       "model_id": "1189b7e00fe54cf0b1bbc7835536a656",
       "version_major": 2,
       "version_minor": 0
      },
      "text/plain": [
       "Epoch [661/1000]:   0%|          | 0/10 [00:00<?, ?it/s]"
      ]
     },
     "metadata": {},
     "output_type": "display_data"
    },
    {
     "name": "stdout",
     "output_type": "stream",
     "text": [
      "Epoch 661/1000 — Recon_U: 0.0254, Recon_L: 0.0184, SemiSup: 0.0095, Disc_Cat: 1.3421, Gen_Cat: 0.9124, Disc_Sty: 1.3853, Gen_Sty: 0.6925\n",
      "Validation Accuracy: 93.93%\n",
      "\n",
      "Weights saved to semisupervised_results/1000_epochs_adam_1000_samples/weights_*.pth\n"
     ]
    },
    {
     "data": {
      "application/vnd.jupyter.widget-view+json": {
       "model_id": "9190cc180fb34a1ea3fdfe1052bc2eee",
       "version_major": 2,
       "version_minor": 0
      },
      "text/plain": [
       "Epoch [662/1000]:   0%|          | 0/10 [00:00<?, ?it/s]"
      ]
     },
     "metadata": {},
     "output_type": "display_data"
    },
    {
     "name": "stdout",
     "output_type": "stream",
     "text": [
      "Epoch 662/1000 — Recon_U: 0.0263, Recon_L: 0.0185, SemiSup: 0.0110, Disc_Cat: 1.3387, Gen_Cat: 0.9060, Disc_Sty: 1.3930, Gen_Sty: 0.6843\n",
      "Validation Accuracy: 93.88%\n",
      "\n",
      "Weights saved to semisupervised_results/1000_epochs_adam_1000_samples/weights_*.pth\n"
     ]
    },
    {
     "data": {
      "application/vnd.jupyter.widget-view+json": {
       "model_id": "12bb6659a5574f6ca303abd60eeb563e",
       "version_major": 2,
       "version_minor": 0
      },
      "text/plain": [
       "Epoch [663/1000]:   0%|          | 0/10 [00:00<?, ?it/s]"
      ]
     },
     "metadata": {},
     "output_type": "display_data"
    },
    {
     "name": "stdout",
     "output_type": "stream",
     "text": [
      "Epoch 663/1000 — Recon_U: 0.0247, Recon_L: 0.0185, SemiSup: 0.0019, Disc_Cat: 1.3431, Gen_Cat: 0.9044, Disc_Sty: 1.4013, Gen_Sty: 0.6795\n",
      "Validation Accuracy: 93.80%\n",
      "\n",
      "Weights saved to semisupervised_results/1000_epochs_adam_1000_samples/weights_*.pth\n"
     ]
    },
    {
     "data": {
      "application/vnd.jupyter.widget-view+json": {
       "model_id": "291e1d9e646245a497564cd3ca82dfff",
       "version_major": 2,
       "version_minor": 0
      },
      "text/plain": [
       "Epoch [664/1000]:   0%|          | 0/10 [00:00<?, ?it/s]"
      ]
     },
     "metadata": {},
     "output_type": "display_data"
    },
    {
     "name": "stdout",
     "output_type": "stream",
     "text": [
      "Epoch 664/1000 — Recon_U: 0.0255, Recon_L: 0.0184, SemiSup: 0.0179, Disc_Cat: 1.3366, Gen_Cat: 0.9615, Disc_Sty: 1.3904, Gen_Sty: 0.6914\n",
      "Validation Accuracy: 93.86%\n",
      "\n",
      "Weights saved to semisupervised_results/1000_epochs_adam_1000_samples/weights_*.pth\n"
     ]
    },
    {
     "data": {
      "application/vnd.jupyter.widget-view+json": {
       "model_id": "fea3684ebfc94304b93c0c05509992df",
       "version_major": 2,
       "version_minor": 0
      },
      "text/plain": [
       "Epoch [665/1000]:   0%|          | 0/10 [00:00<?, ?it/s]"
      ]
     },
     "metadata": {},
     "output_type": "display_data"
    },
    {
     "name": "stdout",
     "output_type": "stream",
     "text": [
      "Epoch 665/1000 — Recon_U: 0.0250, Recon_L: 0.0184, SemiSup: 0.0044, Disc_Cat: 1.3345, Gen_Cat: 0.9418, Disc_Sty: 1.3814, Gen_Sty: 0.7094\n",
      "Validation Accuracy: 93.93%\n",
      "\n",
      "Weights saved to semisupervised_results/1000_epochs_adam_1000_samples/weights_*.pth\n"
     ]
    },
    {
     "data": {
      "application/vnd.jupyter.widget-view+json": {
       "model_id": "4223b0acf53a465191403485c1814b5f",
       "version_major": 2,
       "version_minor": 0
      },
      "text/plain": [
       "Epoch [666/1000]:   0%|          | 0/10 [00:00<?, ?it/s]"
      ]
     },
     "metadata": {},
     "output_type": "display_data"
    },
    {
     "name": "stdout",
     "output_type": "stream",
     "text": [
      "Epoch 666/1000 — Recon_U: 0.0246, Recon_L: 0.0183, SemiSup: 0.0026, Disc_Cat: 1.3556, Gen_Cat: 0.9117, Disc_Sty: 1.3803, Gen_Sty: 0.7161\n",
      "Validation Accuracy: 94.02%\n",
      "\n",
      "Weights saved to semisupervised_results/1000_epochs_adam_1000_samples/weights_*.pth\n"
     ]
    },
    {
     "data": {
      "application/vnd.jupyter.widget-view+json": {
       "model_id": "f46adb25712b4d40bc6d88373848807e",
       "version_major": 2,
       "version_minor": 0
      },
      "text/plain": [
       "Epoch [667/1000]:   0%|          | 0/10 [00:00<?, ?it/s]"
      ]
     },
     "metadata": {},
     "output_type": "display_data"
    },
    {
     "name": "stdout",
     "output_type": "stream",
     "text": [
      "Epoch 667/1000 — Recon_U: 0.0248, Recon_L: 0.0184, SemiSup: 0.0046, Disc_Cat: 1.3308, Gen_Cat: 0.9622, Disc_Sty: 1.3833, Gen_Sty: 0.7126\n",
      "Validation Accuracy: 93.93%\n",
      "\n",
      "Weights saved to semisupervised_results/1000_epochs_adam_1000_samples/weights_*.pth\n"
     ]
    },
    {
     "data": {
      "application/vnd.jupyter.widget-view+json": {
       "model_id": "c166736bbc4f4f54a5f9e0a36cb7ee79",
       "version_major": 2,
       "version_minor": 0
      },
      "text/plain": [
       "Epoch [668/1000]:   0%|          | 0/10 [00:00<?, ?it/s]"
      ]
     },
     "metadata": {},
     "output_type": "display_data"
    },
    {
     "name": "stdout",
     "output_type": "stream",
     "text": [
      "Epoch 668/1000 — Recon_U: 0.0252, Recon_L: 0.0184, SemiSup: 0.0021, Disc_Cat: 1.3370, Gen_Cat: 0.9497, Disc_Sty: 1.3944, Gen_Sty: 0.6998\n",
      "Validation Accuracy: 93.88%\n",
      "\n",
      "Weights saved to semisupervised_results/1000_epochs_adam_1000_samples/weights_*.pth\n"
     ]
    },
    {
     "data": {
      "application/vnd.jupyter.widget-view+json": {
       "model_id": "660d54b3978749f68f595d34b3411366",
       "version_major": 2,
       "version_minor": 0
      },
      "text/plain": [
       "Epoch [669/1000]:   0%|          | 0/10 [00:00<?, ?it/s]"
      ]
     },
     "metadata": {},
     "output_type": "display_data"
    },
    {
     "name": "stdout",
     "output_type": "stream",
     "text": [
      "Epoch 669/1000 — Recon_U: 0.0259, Recon_L: 0.0185, SemiSup: 0.0102, Disc_Cat: 1.3340, Gen_Cat: 0.9155, Disc_Sty: 1.3928, Gen_Sty: 0.6926\n",
      "Validation Accuracy: 93.92%\n",
      "\n",
      "Weights saved to semisupervised_results/1000_epochs_adam_1000_samples/weights_*.pth\n"
     ]
    },
    {
     "data": {
      "application/vnd.jupyter.widget-view+json": {
       "model_id": "a4c4992b3f85434cb92ff2f1a133b62f",
       "version_major": 2,
       "version_minor": 0
      },
      "text/plain": [
       "Epoch [670/1000]:   0%|          | 0/10 [00:00<?, ?it/s]"
      ]
     },
     "metadata": {},
     "output_type": "display_data"
    },
    {
     "name": "stdout",
     "output_type": "stream",
     "text": [
      "Epoch 670/1000 — Recon_U: 0.0253, Recon_L: 0.0183, SemiSup: 0.0155, Disc_Cat: 1.3366, Gen_Cat: 0.9712, Disc_Sty: 1.3923, Gen_Sty: 0.6876\n",
      "Validation Accuracy: 93.90%\n",
      "\n",
      "Weights saved to semisupervised_results/1000_epochs_adam_1000_samples/weights_*.pth\n"
     ]
    },
    {
     "data": {
      "application/vnd.jupyter.widget-view+json": {
       "model_id": "715003a74b4a4ee6955ef391a86db314",
       "version_major": 2,
       "version_minor": 0
      },
      "text/plain": [
       "Epoch [671/1000]:   0%|          | 0/10 [00:00<?, ?it/s]"
      ]
     },
     "metadata": {},
     "output_type": "display_data"
    },
    {
     "name": "stdout",
     "output_type": "stream",
     "text": [
      "Epoch 671/1000 — Recon_U: 0.0247, Recon_L: 0.0181, SemiSup: 0.0069, Disc_Cat: 1.3447, Gen_Cat: 0.9084, Disc_Sty: 1.3901, Gen_Sty: 0.6884\n",
      "Validation Accuracy: 93.86%\n",
      "\n",
      "Weights saved to semisupervised_results/1000_epochs_adam_1000_samples/weights_*.pth\n"
     ]
    },
    {
     "data": {
      "application/vnd.jupyter.widget-view+json": {
       "model_id": "91c66972727a4977a38b2d32f433f984",
       "version_major": 2,
       "version_minor": 0
      },
      "text/plain": [
       "Epoch [672/1000]:   0%|          | 0/10 [00:00<?, ?it/s]"
      ]
     },
     "metadata": {},
     "output_type": "display_data"
    },
    {
     "name": "stdout",
     "output_type": "stream",
     "text": [
      "Epoch 672/1000 — Recon_U: 0.0246, Recon_L: 0.0182, SemiSup: 0.0213, Disc_Cat: 1.3376, Gen_Cat: 0.9269, Disc_Sty: 1.3821, Gen_Sty: 0.6920\n",
      "Validation Accuracy: 93.95%\n",
      "\n",
      "Weights saved to semisupervised_results/1000_epochs_adam_1000_samples/weights_*.pth\n"
     ]
    },
    {
     "data": {
      "application/vnd.jupyter.widget-view+json": {
       "model_id": "cc1c5cb6b0e741cc8349979b5e6cd93d",
       "version_major": 2,
       "version_minor": 0
      },
      "text/plain": [
       "Epoch [673/1000]:   0%|          | 0/10 [00:00<?, ?it/s]"
      ]
     },
     "metadata": {},
     "output_type": "display_data"
    },
    {
     "name": "stdout",
     "output_type": "stream",
     "text": [
      "Epoch 673/1000 — Recon_U: 0.0246, Recon_L: 0.0181, SemiSup: 0.0078, Disc_Cat: 1.3619, Gen_Cat: 0.8356, Disc_Sty: 1.3837, Gen_Sty: 0.6936\n",
      "Validation Accuracy: 94.00%\n",
      "\n",
      "Weights saved to semisupervised_results/1000_epochs_adam_1000_samples/weights_*.pth\n"
     ]
    },
    {
     "data": {
      "application/vnd.jupyter.widget-view+json": {
       "model_id": "0d50a63cb13947c9baa5bdd4ae477826",
       "version_major": 2,
       "version_minor": 0
      },
      "text/plain": [
       "Epoch [674/1000]:   0%|          | 0/10 [00:00<?, ?it/s]"
      ]
     },
     "metadata": {},
     "output_type": "display_data"
    },
    {
     "name": "stdout",
     "output_type": "stream",
     "text": [
      "Epoch 674/1000 — Recon_U: 0.0250, Recon_L: 0.0181, SemiSup: 0.0109, Disc_Cat: 1.3490, Gen_Cat: 0.8709, Disc_Sty: 1.3839, Gen_Sty: 0.6957\n",
      "Validation Accuracy: 93.98%\n",
      "\n",
      "Weights saved to semisupervised_results/1000_epochs_adam_1000_samples/weights_*.pth\n"
     ]
    },
    {
     "data": {
      "application/vnd.jupyter.widget-view+json": {
       "model_id": "29e9562e26cf4aabad5c2671a24d31a9",
       "version_major": 2,
       "version_minor": 0
      },
      "text/plain": [
       "Epoch [675/1000]:   0%|          | 0/10 [00:00<?, ?it/s]"
      ]
     },
     "metadata": {},
     "output_type": "display_data"
    },
    {
     "name": "stdout",
     "output_type": "stream",
     "text": [
      "Epoch 675/1000 — Recon_U: 0.0254, Recon_L: 0.0181, SemiSup: 0.0145, Disc_Cat: 1.3428, Gen_Cat: 0.9472, Disc_Sty: 1.3878, Gen_Sty: 0.6933\n",
      "Validation Accuracy: 94.00%\n",
      "\n",
      "Weights saved to semisupervised_results/1000_epochs_adam_1000_samples/weights_*.pth\n"
     ]
    },
    {
     "data": {
      "application/vnd.jupyter.widget-view+json": {
       "model_id": "1058bc06f33c4cd8827618e2a1a1e0f3",
       "version_major": 2,
       "version_minor": 0
      },
      "text/plain": [
       "Epoch [676/1000]:   0%|          | 0/10 [00:00<?, ?it/s]"
      ]
     },
     "metadata": {},
     "output_type": "display_data"
    },
    {
     "name": "stdout",
     "output_type": "stream",
     "text": [
      "Epoch 676/1000 — Recon_U: 0.0253, Recon_L: 0.0182, SemiSup: 0.0158, Disc_Cat: 1.3418, Gen_Cat: 0.9236, Disc_Sty: 1.3868, Gen_Sty: 0.6957\n",
      "Validation Accuracy: 93.98%\n",
      "\n",
      "Weights saved to semisupervised_results/1000_epochs_adam_1000_samples/weights_*.pth\n"
     ]
    },
    {
     "data": {
      "application/vnd.jupyter.widget-view+json": {
       "model_id": "809e6047f49f4f6b98c71fdfd59c0c49",
       "version_major": 2,
       "version_minor": 0
      },
      "text/plain": [
       "Epoch [677/1000]:   0%|          | 0/10 [00:00<?, ?it/s]"
      ]
     },
     "metadata": {},
     "output_type": "display_data"
    },
    {
     "name": "stdout",
     "output_type": "stream",
     "text": [
      "Epoch 677/1000 — Recon_U: 0.0252, Recon_L: 0.0182, SemiSup: 0.0044, Disc_Cat: 1.3417, Gen_Cat: 0.9089, Disc_Sty: 1.3845, Gen_Sty: 0.6984\n",
      "Validation Accuracy: 93.92%\n",
      "\n",
      "Weights saved to semisupervised_results/1000_epochs_adam_1000_samples/weights_*.pth\n"
     ]
    },
    {
     "data": {
      "application/vnd.jupyter.widget-view+json": {
       "model_id": "be67a983ddf045b19ca4879761b9ff64",
       "version_major": 2,
       "version_minor": 0
      },
      "text/plain": [
       "Epoch [678/1000]:   0%|          | 0/10 [00:00<?, ?it/s]"
      ]
     },
     "metadata": {},
     "output_type": "display_data"
    },
    {
     "name": "stdout",
     "output_type": "stream",
     "text": [
      "Epoch 678/1000 — Recon_U: 0.0252, Recon_L: 0.0182, SemiSup: 0.0058, Disc_Cat: 1.3481, Gen_Cat: 0.8963, Disc_Sty: 1.3895, Gen_Sty: 0.6956\n",
      "Validation Accuracy: 93.85%\n",
      "\n",
      "Weights saved to semisupervised_results/1000_epochs_adam_1000_samples/weights_*.pth\n"
     ]
    },
    {
     "data": {
      "application/vnd.jupyter.widget-view+json": {
       "model_id": "85acccb343fc491ebd6be9e01320171a",
       "version_major": 2,
       "version_minor": 0
      },
      "text/plain": [
       "Epoch [679/1000]:   0%|          | 0/10 [00:00<?, ?it/s]"
      ]
     },
     "metadata": {},
     "output_type": "display_data"
    },
    {
     "name": "stdout",
     "output_type": "stream",
     "text": [
      "Epoch 679/1000 — Recon_U: 0.0246, Recon_L: 0.0181, SemiSup: 0.0113, Disc_Cat: 1.3471, Gen_Cat: 0.8872, Disc_Sty: 1.3877, Gen_Sty: 0.6975\n",
      "Validation Accuracy: 93.88%\n",
      "\n",
      "Weights saved to semisupervised_results/1000_epochs_adam_1000_samples/weights_*.pth\n"
     ]
    },
    {
     "data": {
      "application/vnd.jupyter.widget-view+json": {
       "model_id": "eac40aafea8c4400a335eba59f18f8ff",
       "version_major": 2,
       "version_minor": 0
      },
      "text/plain": [
       "Epoch [680/1000]:   0%|          | 0/10 [00:00<?, ?it/s]"
      ]
     },
     "metadata": {},
     "output_type": "display_data"
    },
    {
     "name": "stdout",
     "output_type": "stream",
     "text": [
      "Epoch 680/1000 — Recon_U: 0.0253, Recon_L: 0.0182, SemiSup: 0.0353, Disc_Cat: 1.3455, Gen_Cat: 0.9358, Disc_Sty: 1.3863, Gen_Sty: 0.6963\n",
      "Validation Accuracy: 93.92%\n",
      "\n",
      "Weights saved to semisupervised_results/1000_epochs_adam_1000_samples/weights_*.pth\n"
     ]
    },
    {
     "data": {
      "application/vnd.jupyter.widget-view+json": {
       "model_id": "2079e9e2084c4d04b076826788d8706b",
       "version_major": 2,
       "version_minor": 0
      },
      "text/plain": [
       "Epoch [681/1000]:   0%|          | 0/10 [00:00<?, ?it/s]"
      ]
     },
     "metadata": {},
     "output_type": "display_data"
    },
    {
     "name": "stdout",
     "output_type": "stream",
     "text": [
      "Epoch 681/1000 — Recon_U: 0.0251, Recon_L: 0.0182, SemiSup: 0.0133, Disc_Cat: 1.3427, Gen_Cat: 0.9209, Disc_Sty: 1.3835, Gen_Sty: 0.6952\n",
      "Validation Accuracy: 93.86%\n",
      "\n",
      "Weights saved to semisupervised_results/1000_epochs_adam_1000_samples/weights_*.pth\n"
     ]
    },
    {
     "data": {
      "application/vnd.jupyter.widget-view+json": {
       "model_id": "d9de5978e5fa4d68acb25cbfadad3a8c",
       "version_major": 2,
       "version_minor": 0
      },
      "text/plain": [
       "Epoch [682/1000]:   0%|          | 0/10 [00:00<?, ?it/s]"
      ]
     },
     "metadata": {},
     "output_type": "display_data"
    },
    {
     "name": "stdout",
     "output_type": "stream",
     "text": [
      "Epoch 682/1000 — Recon_U: 0.0259, Recon_L: 0.0180, SemiSup: 0.0026, Disc_Cat: 1.3430, Gen_Cat: 0.9044, Disc_Sty: 1.3860, Gen_Sty: 0.6909\n",
      "Validation Accuracy: 93.83%\n",
      "\n",
      "Weights saved to semisupervised_results/1000_epochs_adam_1000_samples/weights_*.pth\n"
     ]
    },
    {
     "data": {
      "application/vnd.jupyter.widget-view+json": {
       "model_id": "79793c7950df4122b8e7fb6c09940ee2",
       "version_major": 2,
       "version_minor": 0
      },
      "text/plain": [
       "Epoch [683/1000]:   0%|          | 0/10 [00:00<?, ?it/s]"
      ]
     },
     "metadata": {},
     "output_type": "display_data"
    },
    {
     "name": "stdout",
     "output_type": "stream",
     "text": [
      "Epoch 683/1000 — Recon_U: 0.0257, Recon_L: 0.0182, SemiSup: 0.0153, Disc_Cat: 1.3400, Gen_Cat: 0.9275, Disc_Sty: 1.3835, Gen_Sty: 0.6891\n",
      "Validation Accuracy: 93.78%\n",
      "\n",
      "Weights saved to semisupervised_results/1000_epochs_adam_1000_samples/weights_*.pth\n"
     ]
    },
    {
     "data": {
      "application/vnd.jupyter.widget-view+json": {
       "model_id": "cb847fac67f940f8a4022f3eaac4e776",
       "version_major": 2,
       "version_minor": 0
      },
      "text/plain": [
       "Epoch [684/1000]:   0%|          | 0/10 [00:00<?, ?it/s]"
      ]
     },
     "metadata": {},
     "output_type": "display_data"
    },
    {
     "name": "stdout",
     "output_type": "stream",
     "text": [
      "Epoch 684/1000 — Recon_U: 0.0251, Recon_L: 0.0182, SemiSup: 0.0147, Disc_Cat: 1.3428, Gen_Cat: 0.9424, Disc_Sty: 1.3904, Gen_Sty: 0.6865\n",
      "Validation Accuracy: 93.81%\n",
      "\n",
      "Weights saved to semisupervised_results/1000_epochs_adam_1000_samples/weights_*.pth\n"
     ]
    },
    {
     "data": {
      "application/vnd.jupyter.widget-view+json": {
       "model_id": "1f13ac0842884f17b322a3f048c14b7a",
       "version_major": 2,
       "version_minor": 0
      },
      "text/plain": [
       "Epoch [685/1000]:   0%|          | 0/10 [00:00<?, ?it/s]"
      ]
     },
     "metadata": {},
     "output_type": "display_data"
    },
    {
     "name": "stdout",
     "output_type": "stream",
     "text": [
      "Epoch 685/1000 — Recon_U: 0.0249, Recon_L: 0.0181, SemiSup: 0.0352, Disc_Cat: 1.3508, Gen_Cat: 0.8883, Disc_Sty: 1.3849, Gen_Sty: 0.6883\n",
      "Validation Accuracy: 93.88%\n",
      "\n",
      "Weights saved to semisupervised_results/1000_epochs_adam_1000_samples/weights_*.pth\n"
     ]
    },
    {
     "data": {
      "application/vnd.jupyter.widget-view+json": {
       "model_id": "992b6722b8ab48728e0c43c41a8a14da",
       "version_major": 2,
       "version_minor": 0
      },
      "text/plain": [
       "Epoch [686/1000]:   0%|          | 0/10 [00:00<?, ?it/s]"
      ]
     },
     "metadata": {},
     "output_type": "display_data"
    },
    {
     "name": "stdout",
     "output_type": "stream",
     "text": [
      "Epoch 686/1000 — Recon_U: 0.0254, Recon_L: 0.0180, SemiSup: 0.0067, Disc_Cat: 1.3400, Gen_Cat: 0.8945, Disc_Sty: 1.3884, Gen_Sty: 0.6866\n",
      "Validation Accuracy: 93.88%\n",
      "\n",
      "Weights saved to semisupervised_results/1000_epochs_adam_1000_samples/weights_*.pth\n"
     ]
    },
    {
     "data": {
      "application/vnd.jupyter.widget-view+json": {
       "model_id": "275e82c56a414a9a9babc156da222d41",
       "version_major": 2,
       "version_minor": 0
      },
      "text/plain": [
       "Epoch [687/1000]:   0%|          | 0/10 [00:00<?, ?it/s]"
      ]
     },
     "metadata": {},
     "output_type": "display_data"
    },
    {
     "name": "stdout",
     "output_type": "stream",
     "text": [
      "Epoch 687/1000 — Recon_U: 0.0251, Recon_L: 0.0181, SemiSup: 0.0088, Disc_Cat: 1.3343, Gen_Cat: 0.9672, Disc_Sty: 1.3854, Gen_Sty: 0.6909\n",
      "Validation Accuracy: 93.88%\n",
      "\n",
      "Weights saved to semisupervised_results/1000_epochs_adam_1000_samples/weights_*.pth\n"
     ]
    },
    {
     "data": {
      "application/vnd.jupyter.widget-view+json": {
       "model_id": "3a51e693f72b4b7ab84aff16e69aade6",
       "version_major": 2,
       "version_minor": 0
      },
      "text/plain": [
       "Epoch [688/1000]:   0%|          | 0/10 [00:00<?, ?it/s]"
      ]
     },
     "metadata": {},
     "output_type": "display_data"
    },
    {
     "name": "stdout",
     "output_type": "stream",
     "text": [
      "Epoch 688/1000 — Recon_U: 0.0251, Recon_L: 0.0181, SemiSup: 0.0063, Disc_Cat: 1.3461, Gen_Cat: 0.9166, Disc_Sty: 1.3848, Gen_Sty: 0.6955\n",
      "Validation Accuracy: 93.93%\n",
      "\n",
      "Weights saved to semisupervised_results/1000_epochs_adam_1000_samples/weights_*.pth\n"
     ]
    },
    {
     "data": {
      "application/vnd.jupyter.widget-view+json": {
       "model_id": "8bda215e58cd43239722db5e05ac7e39",
       "version_major": 2,
       "version_minor": 0
      },
      "text/plain": [
       "Epoch [689/1000]:   0%|          | 0/10 [00:00<?, ?it/s]"
      ]
     },
     "metadata": {},
     "output_type": "display_data"
    },
    {
     "name": "stdout",
     "output_type": "stream",
     "text": [
      "Epoch 689/1000 — Recon_U: 0.0255, Recon_L: 0.0180, SemiSup: 0.0185, Disc_Cat: 1.3459, Gen_Cat: 0.9069, Disc_Sty: 1.3809, Gen_Sty: 0.7017\n",
      "Validation Accuracy: 93.92%\n",
      "\n",
      "Weights saved to semisupervised_results/1000_epochs_adam_1000_samples/weights_*.pth\n"
     ]
    },
    {
     "data": {
      "application/vnd.jupyter.widget-view+json": {
       "model_id": "5a83b69453ac46aab5ae6184e2b1ba42",
       "version_major": 2,
       "version_minor": 0
      },
      "text/plain": [
       "Epoch [690/1000]:   0%|          | 0/10 [00:00<?, ?it/s]"
      ]
     },
     "metadata": {},
     "output_type": "display_data"
    },
    {
     "name": "stdout",
     "output_type": "stream",
     "text": [
      "Epoch 690/1000 — Recon_U: 0.0252, Recon_L: 0.0180, SemiSup: 0.0144, Disc_Cat: 1.3518, Gen_Cat: 0.8861, Disc_Sty: 1.3869, Gen_Sty: 0.7006\n",
      "Validation Accuracy: 93.97%\n",
      "\n",
      "Weights saved to semisupervised_results/1000_epochs_adam_1000_samples/weights_*.pth\n"
     ]
    },
    {
     "data": {
      "application/vnd.jupyter.widget-view+json": {
       "model_id": "88ebb37a4c674e02a2970ca522da4338",
       "version_major": 2,
       "version_minor": 0
      },
      "text/plain": [
       "Epoch [691/1000]:   0%|          | 0/10 [00:00<?, ?it/s]"
      ]
     },
     "metadata": {},
     "output_type": "display_data"
    },
    {
     "name": "stdout",
     "output_type": "stream",
     "text": [
      "Epoch 691/1000 — Recon_U: 0.0251, Recon_L: 0.0181, SemiSup: 0.0030, Disc_Cat: 1.3489, Gen_Cat: 0.8842, Disc_Sty: 1.3880, Gen_Sty: 0.6990\n",
      "Validation Accuracy: 93.98%\n",
      "\n",
      "Weights saved to semisupervised_results/1000_epochs_adam_1000_samples/weights_*.pth\n"
     ]
    },
    {
     "data": {
      "application/vnd.jupyter.widget-view+json": {
       "model_id": "59b3124682a248db88479dfd8d9e7ac5",
       "version_major": 2,
       "version_minor": 0
      },
      "text/plain": [
       "Epoch [692/1000]:   0%|          | 0/10 [00:00<?, ?it/s]"
      ]
     },
     "metadata": {},
     "output_type": "display_data"
    },
    {
     "name": "stdout",
     "output_type": "stream",
     "text": [
      "Epoch 692/1000 — Recon_U: 0.0255, Recon_L: 0.0179, SemiSup: 0.0073, Disc_Cat: 1.3248, Gen_Cat: 0.9506, Disc_Sty: 1.3859, Gen_Sty: 0.6957\n",
      "Validation Accuracy: 93.92%\n",
      "\n",
      "Weights saved to semisupervised_results/1000_epochs_adam_1000_samples/weights_*.pth\n"
     ]
    },
    {
     "data": {
      "application/vnd.jupyter.widget-view+json": {
       "model_id": "580a5d4172884e05b875164500a774fc",
       "version_major": 2,
       "version_minor": 0
      },
      "text/plain": [
       "Epoch [693/1000]:   0%|          | 0/10 [00:00<?, ?it/s]"
      ]
     },
     "metadata": {},
     "output_type": "display_data"
    },
    {
     "name": "stdout",
     "output_type": "stream",
     "text": [
      "Epoch 693/1000 — Recon_U: 0.0245, Recon_L: 0.0179, SemiSup: 0.0130, Disc_Cat: 1.3410, Gen_Cat: 0.9466, Disc_Sty: 1.3833, Gen_Sty: 0.6955\n",
      "Validation Accuracy: 93.88%\n",
      "\n",
      "Weights saved to semisupervised_results/1000_epochs_adam_1000_samples/weights_*.pth\n"
     ]
    },
    {
     "data": {
      "application/vnd.jupyter.widget-view+json": {
       "model_id": "f239c618ed2f46cf90c34c1149f9a3ee",
       "version_major": 2,
       "version_minor": 0
      },
      "text/plain": [
       "Epoch [694/1000]:   0%|          | 0/10 [00:00<?, ?it/s]"
      ]
     },
     "metadata": {},
     "output_type": "display_data"
    },
    {
     "name": "stdout",
     "output_type": "stream",
     "text": [
      "Epoch 694/1000 — Recon_U: 0.0259, Recon_L: 0.0179, SemiSup: 0.0036, Disc_Cat: 1.3423, Gen_Cat: 0.8930, Disc_Sty: 1.3821, Gen_Sty: 0.6968\n",
      "Validation Accuracy: 93.80%\n",
      "\n",
      "Weights saved to semisupervised_results/1000_epochs_adam_1000_samples/weights_*.pth\n"
     ]
    },
    {
     "data": {
      "application/vnd.jupyter.widget-view+json": {
       "model_id": "df684bca96b348118444e1dac2f8e368",
       "version_major": 2,
       "version_minor": 0
      },
      "text/plain": [
       "Epoch [695/1000]:   0%|          | 0/10 [00:00<?, ?it/s]"
      ]
     },
     "metadata": {},
     "output_type": "display_data"
    },
    {
     "name": "stdout",
     "output_type": "stream",
     "text": [
      "Epoch 695/1000 — Recon_U: 0.0244, Recon_L: 0.0179, SemiSup: 0.0086, Disc_Cat: 1.3428, Gen_Cat: 0.9278, Disc_Sty: 1.3836, Gen_Sty: 0.6928\n",
      "Validation Accuracy: 93.80%\n",
      "\n",
      "Weights saved to semisupervised_results/1000_epochs_adam_1000_samples/weights_*.pth\n"
     ]
    },
    {
     "data": {
      "application/vnd.jupyter.widget-view+json": {
       "model_id": "c5e2432c8dae48108cbd78ebb3954ab2",
       "version_major": 2,
       "version_minor": 0
      },
      "text/plain": [
       "Epoch [696/1000]:   0%|          | 0/10 [00:00<?, ?it/s]"
      ]
     },
     "metadata": {},
     "output_type": "display_data"
    },
    {
     "name": "stdout",
     "output_type": "stream",
     "text": [
      "Epoch 696/1000 — Recon_U: 0.0251, Recon_L: 0.0180, SemiSup: 0.0009, Disc_Cat: 1.3356, Gen_Cat: 0.9156, Disc_Sty: 1.3850, Gen_Sty: 0.6921\n",
      "Validation Accuracy: 93.76%\n",
      "\n",
      "Weights saved to semisupervised_results/1000_epochs_adam_1000_samples/weights_*.pth\n"
     ]
    },
    {
     "data": {
      "application/vnd.jupyter.widget-view+json": {
       "model_id": "3ec6e0df098c4c16b76d3f616ffcda54",
       "version_major": 2,
       "version_minor": 0
      },
      "text/plain": [
       "Epoch [697/1000]:   0%|          | 0/10 [00:00<?, ?it/s]"
      ]
     },
     "metadata": {},
     "output_type": "display_data"
    },
    {
     "name": "stdout",
     "output_type": "stream",
     "text": [
      "Epoch 697/1000 — Recon_U: 0.0252, Recon_L: 0.0181, SemiSup: 0.0520, Disc_Cat: 1.3429, Gen_Cat: 0.9245, Disc_Sty: 1.3897, Gen_Sty: 0.6884\n",
      "Validation Accuracy: 93.78%\n",
      "\n",
      "Weights saved to semisupervised_results/1000_epochs_adam_1000_samples/weights_*.pth\n"
     ]
    },
    {
     "data": {
      "application/vnd.jupyter.widget-view+json": {
       "model_id": "1d653f1adb30453889bd0731b195b765",
       "version_major": 2,
       "version_minor": 0
      },
      "text/plain": [
       "Epoch [698/1000]:   0%|          | 0/10 [00:00<?, ?it/s]"
      ]
     },
     "metadata": {},
     "output_type": "display_data"
    },
    {
     "name": "stdout",
     "output_type": "stream",
     "text": [
      "Epoch 698/1000 — Recon_U: 0.0249, Recon_L: 0.0180, SemiSup: 0.0185, Disc_Cat: 1.3362, Gen_Cat: 0.9367, Disc_Sty: 1.3873, Gen_Sty: 0.6912\n",
      "Validation Accuracy: 93.85%\n",
      "\n",
      "Weights saved to semisupervised_results/1000_epochs_adam_1000_samples/weights_*.pth\n"
     ]
    },
    {
     "data": {
      "application/vnd.jupyter.widget-view+json": {
       "model_id": "599c0122dc0e41c09c9474e571a9fe1d",
       "version_major": 2,
       "version_minor": 0
      },
      "text/plain": [
       "Epoch [699/1000]:   0%|          | 0/10 [00:00<?, ?it/s]"
      ]
     },
     "metadata": {},
     "output_type": "display_data"
    },
    {
     "name": "stdout",
     "output_type": "stream",
     "text": [
      "Epoch 699/1000 — Recon_U: 0.0245, Recon_L: 0.0181, SemiSup: 0.0382, Disc_Cat: 1.3470, Gen_Cat: 0.9122, Disc_Sty: 1.3842, Gen_Sty: 0.6955\n",
      "Validation Accuracy: 93.88%\n",
      "\n",
      "Weights saved to semisupervised_results/1000_epochs_adam_1000_samples/weights_*.pth\n"
     ]
    },
    {
     "data": {
      "application/vnd.jupyter.widget-view+json": {
       "model_id": "16b1fbf356d74da5818312cff6bdc4ea",
       "version_major": 2,
       "version_minor": 0
      },
      "text/plain": [
       "Epoch [700/1000]:   0%|          | 0/10 [00:00<?, ?it/s]"
      ]
     },
     "metadata": {},
     "output_type": "display_data"
    },
    {
     "name": "stdout",
     "output_type": "stream",
     "text": [
      "Epoch 700/1000 — Recon_U: 0.0252, Recon_L: 0.0179, SemiSup: 0.0084, Disc_Cat: 1.3354, Gen_Cat: 0.9260, Disc_Sty: 1.3855, Gen_Sty: 0.6987\n",
      "Validation Accuracy: 93.93%\n",
      "\n",
      "Weights saved to semisupervised_results/1000_epochs_adam_1000_samples/weights_epoch_700/weights_*.pth\n",
      "Weights saved to semisupervised_results/1000_epochs_adam_1000_samples/weights_*.pth\n"
     ]
    },
    {
     "data": {
      "application/vnd.jupyter.widget-view+json": {
       "model_id": "1df2e94232034098aca3962513ab8782",
       "version_major": 2,
       "version_minor": 0
      },
      "text/plain": [
       "Epoch [701/1000]:   0%|          | 0/10 [00:00<?, ?it/s]"
      ]
     },
     "metadata": {},
     "output_type": "display_data"
    },
    {
     "name": "stdout",
     "output_type": "stream",
     "text": [
      "Epoch 701/1000 — Recon_U: 0.0243, Recon_L: 0.0179, SemiSup: 0.0075, Disc_Cat: 1.3464, Gen_Cat: 0.9029, Disc_Sty: 1.3864, Gen_Sty: 0.6994\n",
      "Validation Accuracy: 94.07%\n",
      "\n",
      "Weights saved to semisupervised_results/1000_epochs_adam_1000_samples/weights_*.pth\n"
     ]
    },
    {
     "data": {
      "application/vnd.jupyter.widget-view+json": {
       "model_id": "741bf8ef6bf24f87a77a4525cdc970ad",
       "version_major": 2,
       "version_minor": 0
      },
      "text/plain": [
       "Epoch [702/1000]:   0%|          | 0/10 [00:00<?, ?it/s]"
      ]
     },
     "metadata": {},
     "output_type": "display_data"
    },
    {
     "name": "stdout",
     "output_type": "stream",
     "text": [
      "Epoch 702/1000 — Recon_U: 0.0256, Recon_L: 0.0180, SemiSup: 0.0086, Disc_Cat: 1.3427, Gen_Cat: 0.9160, Disc_Sty: 1.3894, Gen_Sty: 0.6937\n",
      "Validation Accuracy: 94.07%\n",
      "\n",
      "Weights saved to semisupervised_results/1000_epochs_adam_1000_samples/weights_*.pth\n"
     ]
    },
    {
     "data": {
      "application/vnd.jupyter.widget-view+json": {
       "model_id": "f5241791ae6b46a08ac295c05c344ad3",
       "version_major": 2,
       "version_minor": 0
      },
      "text/plain": [
       "Epoch [703/1000]:   0%|          | 0/10 [00:00<?, ?it/s]"
      ]
     },
     "metadata": {},
     "output_type": "display_data"
    },
    {
     "name": "stdout",
     "output_type": "stream",
     "text": [
      "Epoch 703/1000 — Recon_U: 0.0255, Recon_L: 0.0180, SemiSup: 0.0149, Disc_Cat: 1.3412, Gen_Cat: 0.9248, Disc_Sty: 1.3890, Gen_Sty: 0.6907\n",
      "Validation Accuracy: 94.03%\n",
      "\n",
      "Weights saved to semisupervised_results/1000_epochs_adam_1000_samples/weights_*.pth\n"
     ]
    },
    {
     "data": {
      "application/vnd.jupyter.widget-view+json": {
       "model_id": "f9544a305bfa417896758bb256af6720",
       "version_major": 2,
       "version_minor": 0
      },
      "text/plain": [
       "Epoch [704/1000]:   0%|          | 0/10 [00:00<?, ?it/s]"
      ]
     },
     "metadata": {},
     "output_type": "display_data"
    },
    {
     "name": "stdout",
     "output_type": "stream",
     "text": [
      "Epoch 704/1000 — Recon_U: 0.0249, Recon_L: 0.0178, SemiSup: 0.0085, Disc_Cat: 1.3570, Gen_Cat: 0.8852, Disc_Sty: 1.3860, Gen_Sty: 0.6898\n",
      "Validation Accuracy: 93.98%\n",
      "\n",
      "Weights saved to semisupervised_results/1000_epochs_adam_1000_samples/weights_*.pth\n"
     ]
    },
    {
     "data": {
      "application/vnd.jupyter.widget-view+json": {
       "model_id": "6ee8daddd89740b3b197fc38511c538e",
       "version_major": 2,
       "version_minor": 0
      },
      "text/plain": [
       "Epoch [705/1000]:   0%|          | 0/10 [00:00<?, ?it/s]"
      ]
     },
     "metadata": {},
     "output_type": "display_data"
    },
    {
     "name": "stdout",
     "output_type": "stream",
     "text": [
      "Epoch 705/1000 — Recon_U: 0.0248, Recon_L: 0.0178, SemiSup: 0.0027, Disc_Cat: 1.3476, Gen_Cat: 0.8679, Disc_Sty: 1.3838, Gen_Sty: 0.6917\n",
      "Validation Accuracy: 94.03%\n",
      "\n",
      "Weights saved to semisupervised_results/1000_epochs_adam_1000_samples/weights_*.pth\n"
     ]
    },
    {
     "data": {
      "application/vnd.jupyter.widget-view+json": {
       "model_id": "ffde8d3418bf4e47bba0d6360b4c309b",
       "version_major": 2,
       "version_minor": 0
      },
      "text/plain": [
       "Epoch [706/1000]:   0%|          | 0/10 [00:00<?, ?it/s]"
      ]
     },
     "metadata": {},
     "output_type": "display_data"
    },
    {
     "name": "stdout",
     "output_type": "stream",
     "text": [
      "Epoch 706/1000 — Recon_U: 0.0249, Recon_L: 0.0178, SemiSup: 0.0152, Disc_Cat: 1.3427, Gen_Cat: 0.9416, Disc_Sty: 1.3803, Gen_Sty: 0.6940\n",
      "Validation Accuracy: 94.00%\n",
      "\n",
      "Weights saved to semisupervised_results/1000_epochs_adam_1000_samples/weights_*.pth\n"
     ]
    },
    {
     "data": {
      "application/vnd.jupyter.widget-view+json": {
       "model_id": "8f29cd3db6c4403cbbe8c7a02be41dba",
       "version_major": 2,
       "version_minor": 0
      },
      "text/plain": [
       "Epoch [707/1000]:   0%|          | 0/10 [00:00<?, ?it/s]"
      ]
     },
     "metadata": {},
     "output_type": "display_data"
    },
    {
     "name": "stdout",
     "output_type": "stream",
     "text": [
      "Epoch 707/1000 — Recon_U: 0.0252, Recon_L: 0.0176, SemiSup: 0.0069, Disc_Cat: 1.3427, Gen_Cat: 0.9233, Disc_Sty: 1.3781, Gen_Sty: 0.6946\n",
      "Validation Accuracy: 94.00%\n",
      "\n",
      "Weights saved to semisupervised_results/1000_epochs_adam_1000_samples/weights_*.pth\n"
     ]
    },
    {
     "data": {
      "application/vnd.jupyter.widget-view+json": {
       "model_id": "774c1c002e044236af9f845046896772",
       "version_major": 2,
       "version_minor": 0
      },
      "text/plain": [
       "Epoch [708/1000]:   0%|          | 0/10 [00:00<?, ?it/s]"
      ]
     },
     "metadata": {},
     "output_type": "display_data"
    },
    {
     "name": "stdout",
     "output_type": "stream",
     "text": [
      "Epoch 708/1000 — Recon_U: 0.0246, Recon_L: 0.0177, SemiSup: 0.0014, Disc_Cat: 1.3444, Gen_Cat: 0.8893, Disc_Sty: 1.3838, Gen_Sty: 0.6907\n",
      "Validation Accuracy: 93.88%\n",
      "\n",
      "Weights saved to semisupervised_results/1000_epochs_adam_1000_samples/weights_*.pth\n"
     ]
    },
    {
     "data": {
      "application/vnd.jupyter.widget-view+json": {
       "model_id": "3f19eb9a90a641509d0dbf2e2ebaec9f",
       "version_major": 2,
       "version_minor": 0
      },
      "text/plain": [
       "Epoch [709/1000]:   0%|          | 0/10 [00:00<?, ?it/s]"
      ]
     },
     "metadata": {},
     "output_type": "display_data"
    },
    {
     "name": "stdout",
     "output_type": "stream",
     "text": [
      "Epoch 709/1000 — Recon_U: 0.0248, Recon_L: 0.0178, SemiSup: 0.0127, Disc_Cat: 1.3275, Gen_Cat: 0.9715, Disc_Sty: 1.3893, Gen_Sty: 0.6893\n",
      "Validation Accuracy: 93.90%\n",
      "\n",
      "Weights saved to semisupervised_results/1000_epochs_adam_1000_samples/weights_*.pth\n"
     ]
    },
    {
     "data": {
      "application/vnd.jupyter.widget-view+json": {
       "model_id": "b462c057e9db4179846c0beeb19445ee",
       "version_major": 2,
       "version_minor": 0
      },
      "text/plain": [
       "Epoch [710/1000]:   0%|          | 0/10 [00:00<?, ?it/s]"
      ]
     },
     "metadata": {},
     "output_type": "display_data"
    },
    {
     "name": "stdout",
     "output_type": "stream",
     "text": [
      "Epoch 710/1000 — Recon_U: 0.0252, Recon_L: 0.0178, SemiSup: 0.0061, Disc_Cat: 1.3560, Gen_Cat: 0.9011, Disc_Sty: 1.3909, Gen_Sty: 0.6920\n",
      "Validation Accuracy: 93.88%\n",
      "\n",
      "Weights saved to semisupervised_results/1000_epochs_adam_1000_samples/weights_*.pth\n"
     ]
    },
    {
     "data": {
      "application/vnd.jupyter.widget-view+json": {
       "model_id": "32d05d194ad64ef39f15945450608874",
       "version_major": 2,
       "version_minor": 0
      },
      "text/plain": [
       "Epoch [711/1000]:   0%|          | 0/10 [00:00<?, ?it/s]"
      ]
     },
     "metadata": {},
     "output_type": "display_data"
    },
    {
     "name": "stdout",
     "output_type": "stream",
     "text": [
      "Epoch 711/1000 — Recon_U: 0.0246, Recon_L: 0.0177, SemiSup: 0.0153, Disc_Cat: 1.3438, Gen_Cat: 0.9285, Disc_Sty: 1.3872, Gen_Sty: 0.6995\n",
      "Validation Accuracy: 93.90%\n",
      "\n",
      "Weights saved to semisupervised_results/1000_epochs_adam_1000_samples/weights_*.pth\n"
     ]
    },
    {
     "data": {
      "application/vnd.jupyter.widget-view+json": {
       "model_id": "a69ca763e11142779f61e5d90781916d",
       "version_major": 2,
       "version_minor": 0
      },
      "text/plain": [
       "Epoch [712/1000]:   0%|          | 0/10 [00:00<?, ?it/s]"
      ]
     },
     "metadata": {},
     "output_type": "display_data"
    },
    {
     "name": "stdout",
     "output_type": "stream",
     "text": [
      "Epoch 712/1000 — Recon_U: 0.0256, Recon_L: 0.0177, SemiSup: 0.0010, Disc_Cat: 1.3424, Gen_Cat: 0.9389, Disc_Sty: 1.3839, Gen_Sty: 0.7062\n",
      "Validation Accuracy: 94.00%\n",
      "\n",
      "Weights saved to semisupervised_results/1000_epochs_adam_1000_samples/weights_*.pth\n"
     ]
    },
    {
     "data": {
      "application/vnd.jupyter.widget-view+json": {
       "model_id": "dcdfeb414a554a109a37401d6efd4c7e",
       "version_major": 2,
       "version_minor": 0
      },
      "text/plain": [
       "Epoch [713/1000]:   0%|          | 0/10 [00:00<?, ?it/s]"
      ]
     },
     "metadata": {},
     "output_type": "display_data"
    },
    {
     "name": "stdout",
     "output_type": "stream",
     "text": [
      "Epoch 713/1000 — Recon_U: 0.0246, Recon_L: 0.0178, SemiSup: 0.0010, Disc_Cat: 1.3486, Gen_Cat: 0.8836, Disc_Sty: 1.3850, Gen_Sty: 0.7090\n",
      "Validation Accuracy: 93.98%\n",
      "\n",
      "Weights saved to semisupervised_results/1000_epochs_adam_1000_samples/weights_*.pth\n"
     ]
    },
    {
     "data": {
      "application/vnd.jupyter.widget-view+json": {
       "model_id": "8b65a220c3cd4c8280dc6e39097f00db",
       "version_major": 2,
       "version_minor": 0
      },
      "text/plain": [
       "Epoch [714/1000]:   0%|          | 0/10 [00:00<?, ?it/s]"
      ]
     },
     "metadata": {},
     "output_type": "display_data"
    },
    {
     "name": "stdout",
     "output_type": "stream",
     "text": [
      "Epoch 714/1000 — Recon_U: 0.0248, Recon_L: 0.0180, SemiSup: 0.0312, Disc_Cat: 1.3332, Gen_Cat: 0.9431, Disc_Sty: 1.3857, Gen_Sty: 0.7024\n",
      "Validation Accuracy: 93.98%\n",
      "\n",
      "Weights saved to semisupervised_results/1000_epochs_adam_1000_samples/weights_*.pth\n"
     ]
    },
    {
     "data": {
      "application/vnd.jupyter.widget-view+json": {
       "model_id": "04dda1955f294f3cabd469d75ebc2f22",
       "version_major": 2,
       "version_minor": 0
      },
      "text/plain": [
       "Epoch [715/1000]:   0%|          | 0/10 [00:00<?, ?it/s]"
      ]
     },
     "metadata": {},
     "output_type": "display_data"
    },
    {
     "name": "stdout",
     "output_type": "stream",
     "text": [
      "Epoch 715/1000 — Recon_U: 0.0259, Recon_L: 0.0178, SemiSup: 0.0037, Disc_Cat: 1.3425, Gen_Cat: 0.9288, Disc_Sty: 1.3851, Gen_Sty: 0.6966\n",
      "Validation Accuracy: 93.90%\n",
      "\n",
      "Weights saved to semisupervised_results/1000_epochs_adam_1000_samples/weights_*.pth\n"
     ]
    },
    {
     "data": {
      "application/vnd.jupyter.widget-view+json": {
       "model_id": "940a70a0c463459fbc0a16c5535d2c35",
       "version_major": 2,
       "version_minor": 0
      },
      "text/plain": [
       "Epoch [716/1000]:   0%|          | 0/10 [00:00<?, ?it/s]"
      ]
     },
     "metadata": {},
     "output_type": "display_data"
    },
    {
     "name": "stdout",
     "output_type": "stream",
     "text": [
      "Epoch 716/1000 — Recon_U: 0.0244, Recon_L: 0.0178, SemiSup: 0.0069, Disc_Cat: 1.3350, Gen_Cat: 0.9336, Disc_Sty: 1.3869, Gen_Sty: 0.6880\n",
      "Validation Accuracy: 93.90%\n",
      "\n",
      "Weights saved to semisupervised_results/1000_epochs_adam_1000_samples/weights_*.pth\n"
     ]
    },
    {
     "data": {
      "application/vnd.jupyter.widget-view+json": {
       "model_id": "48254e18478f47b89cff09ca83973055",
       "version_major": 2,
       "version_minor": 0
      },
      "text/plain": [
       "Epoch [717/1000]:   0%|          | 0/10 [00:00<?, ?it/s]"
      ]
     },
     "metadata": {},
     "output_type": "display_data"
    },
    {
     "name": "stdout",
     "output_type": "stream",
     "text": [
      "Epoch 717/1000 — Recon_U: 0.0248, Recon_L: 0.0179, SemiSup: 0.0068, Disc_Cat: 1.3430, Gen_Cat: 0.9467, Disc_Sty: 1.3880, Gen_Sty: 0.6833\n",
      "Validation Accuracy: 93.85%\n",
      "\n",
      "Weights saved to semisupervised_results/1000_epochs_adam_1000_samples/weights_*.pth\n"
     ]
    },
    {
     "data": {
      "application/vnd.jupyter.widget-view+json": {
       "model_id": "5a356bb72b8447c5afa1d65e322fb4d1",
       "version_major": 2,
       "version_minor": 0
      },
      "text/plain": [
       "Epoch [718/1000]:   0%|          | 0/10 [00:00<?, ?it/s]"
      ]
     },
     "metadata": {},
     "output_type": "display_data"
    },
    {
     "name": "stdout",
     "output_type": "stream",
     "text": [
      "Epoch 718/1000 — Recon_U: 0.0247, Recon_L: 0.0178, SemiSup: 0.0029, Disc_Cat: 1.3382, Gen_Cat: 0.9222, Disc_Sty: 1.3869, Gen_Sty: 0.6844\n",
      "Validation Accuracy: 93.80%\n",
      "\n",
      "Weights saved to semisupervised_results/1000_epochs_adam_1000_samples/weights_*.pth\n"
     ]
    },
    {
     "data": {
      "application/vnd.jupyter.widget-view+json": {
       "model_id": "9f8fdd4213ba4bf786f17b5078a6139b",
       "version_major": 2,
       "version_minor": 0
      },
      "text/plain": [
       "Epoch [719/1000]:   0%|          | 0/10 [00:00<?, ?it/s]"
      ]
     },
     "metadata": {},
     "output_type": "display_data"
    },
    {
     "name": "stdout",
     "output_type": "stream",
     "text": [
      "Epoch 719/1000 — Recon_U: 0.0243, Recon_L: 0.0179, SemiSup: 0.0157, Disc_Cat: 1.3484, Gen_Cat: 0.9261, Disc_Sty: 1.3852, Gen_Sty: 0.6903\n",
      "Validation Accuracy: 93.73%\n",
      "\n",
      "Weights saved to semisupervised_results/1000_epochs_adam_1000_samples/weights_*.pth\n"
     ]
    },
    {
     "data": {
      "application/vnd.jupyter.widget-view+json": {
       "model_id": "c6cd2008d5194db6a97b09698ada605d",
       "version_major": 2,
       "version_minor": 0
      },
      "text/plain": [
       "Epoch [720/1000]:   0%|          | 0/10 [00:00<?, ?it/s]"
      ]
     },
     "metadata": {},
     "output_type": "display_data"
    },
    {
     "name": "stdout",
     "output_type": "stream",
     "text": [
      "Epoch 720/1000 — Recon_U: 0.0240, Recon_L: 0.0177, SemiSup: 0.0078, Disc_Cat: 1.3492, Gen_Cat: 0.8772, Disc_Sty: 1.3788, Gen_Sty: 0.7023\n",
      "Validation Accuracy: 93.78%\n",
      "\n",
      "Weights saved to semisupervised_results/1000_epochs_adam_1000_samples/weights_*.pth\n"
     ]
    },
    {
     "data": {
      "application/vnd.jupyter.widget-view+json": {
       "model_id": "8c59e573d95e43f5b25e20e4361d919f",
       "version_major": 2,
       "version_minor": 0
      },
      "text/plain": [
       "Epoch [721/1000]:   0%|          | 0/10 [00:00<?, ?it/s]"
      ]
     },
     "metadata": {},
     "output_type": "display_data"
    },
    {
     "name": "stdout",
     "output_type": "stream",
     "text": [
      "Epoch 721/1000 — Recon_U: 0.0253, Recon_L: 0.0178, SemiSup: 0.0056, Disc_Cat: 1.3367, Gen_Cat: 0.9565, Disc_Sty: 1.3821, Gen_Sty: 0.7027\n",
      "Validation Accuracy: 93.86%\n",
      "\n",
      "Weights saved to semisupervised_results/1000_epochs_adam_1000_samples/weights_*.pth\n"
     ]
    },
    {
     "data": {
      "application/vnd.jupyter.widget-view+json": {
       "model_id": "44943e9116ac47fd9bc4928e3f09751d",
       "version_major": 2,
       "version_minor": 0
      },
      "text/plain": [
       "Epoch [722/1000]:   0%|          | 0/10 [00:00<?, ?it/s]"
      ]
     },
     "metadata": {},
     "output_type": "display_data"
    },
    {
     "name": "stdout",
     "output_type": "stream",
     "text": [
      "Epoch 722/1000 — Recon_U: 0.0256, Recon_L: 0.0179, SemiSup: 0.0039, Disc_Cat: 1.3347, Gen_Cat: 0.9608, Disc_Sty: 1.3907, Gen_Sty: 0.7007\n",
      "Validation Accuracy: 93.83%\n",
      "\n",
      "Weights saved to semisupervised_results/1000_epochs_adam_1000_samples/weights_*.pth\n"
     ]
    },
    {
     "data": {
      "application/vnd.jupyter.widget-view+json": {
       "model_id": "957a3cf75a194acbb2da9daf7229cdf5",
       "version_major": 2,
       "version_minor": 0
      },
      "text/plain": [
       "Epoch [723/1000]:   0%|          | 0/10 [00:00<?, ?it/s]"
      ]
     },
     "metadata": {},
     "output_type": "display_data"
    },
    {
     "name": "stdout",
     "output_type": "stream",
     "text": [
      "Epoch 723/1000 — Recon_U: 0.0252, Recon_L: 0.0180, SemiSup: 0.0180, Disc_Cat: 1.3474, Gen_Cat: 0.8941, Disc_Sty: 1.3895, Gen_Sty: 0.7015\n",
      "Validation Accuracy: 93.85%\n",
      "\n",
      "Weights saved to semisupervised_results/1000_epochs_adam_1000_samples/weights_*.pth\n"
     ]
    },
    {
     "data": {
      "application/vnd.jupyter.widget-view+json": {
       "model_id": "fdb38606390f4743be9da675e99893a7",
       "version_major": 2,
       "version_minor": 0
      },
      "text/plain": [
       "Epoch [724/1000]:   0%|          | 0/10 [00:00<?, ?it/s]"
      ]
     },
     "metadata": {},
     "output_type": "display_data"
    },
    {
     "name": "stdout",
     "output_type": "stream",
     "text": [
      "Epoch 724/1000 — Recon_U: 0.0244, Recon_L: 0.0178, SemiSup: 0.0075, Disc_Cat: 1.3448, Gen_Cat: 0.8740, Disc_Sty: 1.3908, Gen_Sty: 0.7018\n",
      "Validation Accuracy: 93.85%\n",
      "\n",
      "Weights saved to semisupervised_results/1000_epochs_adam_1000_samples/weights_*.pth\n"
     ]
    },
    {
     "data": {
      "application/vnd.jupyter.widget-view+json": {
       "model_id": "fe41319881304152bd80927aa930dc16",
       "version_major": 2,
       "version_minor": 0
      },
      "text/plain": [
       "Epoch [725/1000]:   0%|          | 0/10 [00:00<?, ?it/s]"
      ]
     },
     "metadata": {},
     "output_type": "display_data"
    },
    {
     "name": "stdout",
     "output_type": "stream",
     "text": [
      "Epoch 725/1000 — Recon_U: 0.0245, Recon_L: 0.0178, SemiSup: 0.0153, Disc_Cat: 1.3267, Gen_Cat: 0.9581, Disc_Sty: 1.3898, Gen_Sty: 0.7027\n",
      "Validation Accuracy: 93.83%\n",
      "\n",
      "Weights saved to semisupervised_results/1000_epochs_adam_1000_samples/weights_*.pth\n"
     ]
    },
    {
     "data": {
      "application/vnd.jupyter.widget-view+json": {
       "model_id": "9df18de7b9c140b2bf230518cffeeee1",
       "version_major": 2,
       "version_minor": 0
      },
      "text/plain": [
       "Epoch [726/1000]:   0%|          | 0/10 [00:00<?, ?it/s]"
      ]
     },
     "metadata": {},
     "output_type": "display_data"
    },
    {
     "name": "stdout",
     "output_type": "stream",
     "text": [
      "Epoch 726/1000 — Recon_U: 0.0245, Recon_L: 0.0178, SemiSup: 0.0212, Disc_Cat: 1.3519, Gen_Cat: 0.8835, Disc_Sty: 1.3888, Gen_Sty: 0.6993\n",
      "Validation Accuracy: 93.92%\n",
      "\n",
      "Weights saved to semisupervised_results/1000_epochs_adam_1000_samples/weights_*.pth\n"
     ]
    },
    {
     "data": {
      "application/vnd.jupyter.widget-view+json": {
       "model_id": "5781a3f4121e499bbe6cb5a53e680ec2",
       "version_major": 2,
       "version_minor": 0
      },
      "text/plain": [
       "Epoch [727/1000]:   0%|          | 0/10 [00:00<?, ?it/s]"
      ]
     },
     "metadata": {},
     "output_type": "display_data"
    },
    {
     "name": "stdout",
     "output_type": "stream",
     "text": [
      "Epoch 727/1000 — Recon_U: 0.0250, Recon_L: 0.0175, SemiSup: 0.0026, Disc_Cat: 1.3402, Gen_Cat: 0.8876, Disc_Sty: 1.3904, Gen_Sty: 0.6957\n",
      "Validation Accuracy: 93.93%\n",
      "\n",
      "Weights saved to semisupervised_results/1000_epochs_adam_1000_samples/weights_*.pth\n"
     ]
    },
    {
     "data": {
      "application/vnd.jupyter.widget-view+json": {
       "model_id": "68c7a4501d6147e89d35082693fb0bc3",
       "version_major": 2,
       "version_minor": 0
      },
      "text/plain": [
       "Epoch [728/1000]:   0%|          | 0/10 [00:00<?, ?it/s]"
      ]
     },
     "metadata": {},
     "output_type": "display_data"
    },
    {
     "name": "stdout",
     "output_type": "stream",
     "text": [
      "Epoch 728/1000 — Recon_U: 0.0251, Recon_L: 0.0178, SemiSup: 0.0078, Disc_Cat: 1.3437, Gen_Cat: 0.9177, Disc_Sty: 1.3885, Gen_Sty: 0.6921\n",
      "Validation Accuracy: 93.92%\n",
      "\n",
      "Weights saved to semisupervised_results/1000_epochs_adam_1000_samples/weights_*.pth\n"
     ]
    },
    {
     "data": {
      "application/vnd.jupyter.widget-view+json": {
       "model_id": "965a8baa1db740c0901685cbb10d9da0",
       "version_major": 2,
       "version_minor": 0
      },
      "text/plain": [
       "Epoch [729/1000]:   0%|          | 0/10 [00:00<?, ?it/s]"
      ]
     },
     "metadata": {},
     "output_type": "display_data"
    },
    {
     "name": "stdout",
     "output_type": "stream",
     "text": [
      "Epoch 729/1000 — Recon_U: 0.0248, Recon_L: 0.0177, SemiSup: 0.0010, Disc_Cat: 1.3463, Gen_Cat: 0.9025, Disc_Sty: 1.3859, Gen_Sty: 0.6918\n",
      "Validation Accuracy: 93.90%\n",
      "\n",
      "Weights saved to semisupervised_results/1000_epochs_adam_1000_samples/weights_*.pth\n"
     ]
    },
    {
     "data": {
      "application/vnd.jupyter.widget-view+json": {
       "model_id": "99b0889cfb87440483d345994485c6d9",
       "version_major": 2,
       "version_minor": 0
      },
      "text/plain": [
       "Epoch [730/1000]:   0%|          | 0/10 [00:00<?, ?it/s]"
      ]
     },
     "metadata": {},
     "output_type": "display_data"
    },
    {
     "name": "stdout",
     "output_type": "stream",
     "text": [
      "Epoch 730/1000 — Recon_U: 0.0251, Recon_L: 0.0178, SemiSup: 0.0021, Disc_Cat: 1.3311, Gen_Cat: 0.9639, Disc_Sty: 1.3836, Gen_Sty: 0.6906\n",
      "Validation Accuracy: 93.86%\n",
      "\n",
      "Weights saved to semisupervised_results/1000_epochs_adam_1000_samples/weights_*.pth\n"
     ]
    },
    {
     "data": {
      "application/vnd.jupyter.widget-view+json": {
       "model_id": "e2eb823e93e74dd8aeb85f8a845ec6a6",
       "version_major": 2,
       "version_minor": 0
      },
      "text/plain": [
       "Epoch [731/1000]:   0%|          | 0/10 [00:00<?, ?it/s]"
      ]
     },
     "metadata": {},
     "output_type": "display_data"
    },
    {
     "name": "stdout",
     "output_type": "stream",
     "text": [
      "Epoch 731/1000 — Recon_U: 0.0246, Recon_L: 0.0177, SemiSup: 0.0321, Disc_Cat: 1.3475, Gen_Cat: 0.8995, Disc_Sty: 1.3849, Gen_Sty: 0.6855\n",
      "Validation Accuracy: 93.92%\n",
      "\n",
      "Weights saved to semisupervised_results/1000_epochs_adam_1000_samples/weights_*.pth\n"
     ]
    },
    {
     "data": {
      "application/vnd.jupyter.widget-view+json": {
       "model_id": "d9164b588c3543459ddb00c9269745f3",
       "version_major": 2,
       "version_minor": 0
      },
      "text/plain": [
       "Epoch [732/1000]:   0%|          | 0/10 [00:00<?, ?it/s]"
      ]
     },
     "metadata": {},
     "output_type": "display_data"
    },
    {
     "name": "stdout",
     "output_type": "stream",
     "text": [
      "Epoch 732/1000 — Recon_U: 0.0245, Recon_L: 0.0176, SemiSup: 0.0078, Disc_Cat: 1.3532, Gen_Cat: 0.8543, Disc_Sty: 1.3860, Gen_Sty: 0.6834\n",
      "Validation Accuracy: 93.95%\n",
      "\n",
      "Weights saved to semisupervised_results/1000_epochs_adam_1000_samples/weights_*.pth\n"
     ]
    },
    {
     "data": {
      "application/vnd.jupyter.widget-view+json": {
       "model_id": "6b2c0b5ce7cb42caa52580f58c1624d6",
       "version_major": 2,
       "version_minor": 0
      },
      "text/plain": [
       "Epoch [733/1000]:   0%|          | 0/10 [00:00<?, ?it/s]"
      ]
     },
     "metadata": {},
     "output_type": "display_data"
    },
    {
     "name": "stdout",
     "output_type": "stream",
     "text": [
      "Epoch 733/1000 — Recon_U: 0.0248, Recon_L: 0.0177, SemiSup: 0.0127, Disc_Cat: 1.3458, Gen_Cat: 0.9110, Disc_Sty: 1.3878, Gen_Sty: 0.6815\n",
      "Validation Accuracy: 93.93%\n",
      "\n",
      "Weights saved to semisupervised_results/1000_epochs_adam_1000_samples/weights_*.pth\n"
     ]
    },
    {
     "data": {
      "application/vnd.jupyter.widget-view+json": {
       "model_id": "09dfd42bb5c44f38bc54756b658ef0fa",
       "version_major": 2,
       "version_minor": 0
      },
      "text/plain": [
       "Epoch [734/1000]:   0%|          | 0/10 [00:00<?, ?it/s]"
      ]
     },
     "metadata": {},
     "output_type": "display_data"
    },
    {
     "name": "stdout",
     "output_type": "stream",
     "text": [
      "Epoch 734/1000 — Recon_U: 0.0251, Recon_L: 0.0178, SemiSup: 0.0036, Disc_Cat: 1.3408, Gen_Cat: 0.9692, Disc_Sty: 1.3907, Gen_Sty: 0.6834\n",
      "Validation Accuracy: 93.97%\n",
      "\n",
      "Weights saved to semisupervised_results/1000_epochs_adam_1000_samples/weights_*.pth\n"
     ]
    },
    {
     "data": {
      "application/vnd.jupyter.widget-view+json": {
       "model_id": "5b6262e334054d7687c9c032c534ee31",
       "version_major": 2,
       "version_minor": 0
      },
      "text/plain": [
       "Epoch [735/1000]:   0%|          | 0/10 [00:00<?, ?it/s]"
      ]
     },
     "metadata": {},
     "output_type": "display_data"
    },
    {
     "name": "stdout",
     "output_type": "stream",
     "text": [
      "Epoch 735/1000 — Recon_U: 0.0257, Recon_L: 0.0177, SemiSup: 0.0082, Disc_Cat: 1.3437, Gen_Cat: 0.9100, Disc_Sty: 1.3884, Gen_Sty: 0.6903\n",
      "Validation Accuracy: 93.83%\n",
      "\n",
      "Weights saved to semisupervised_results/1000_epochs_adam_1000_samples/weights_*.pth\n"
     ]
    },
    {
     "data": {
      "application/vnd.jupyter.widget-view+json": {
       "model_id": "d7511dfdf0774191a4e675c74a97c013",
       "version_major": 2,
       "version_minor": 0
      },
      "text/plain": [
       "Epoch [736/1000]:   0%|          | 0/10 [00:00<?, ?it/s]"
      ]
     },
     "metadata": {},
     "output_type": "display_data"
    },
    {
     "name": "stdout",
     "output_type": "stream",
     "text": [
      "Epoch 736/1000 — Recon_U: 0.0254, Recon_L: 0.0178, SemiSup: 0.0179, Disc_Cat: 1.3444, Gen_Cat: 0.8939, Disc_Sty: 1.3846, Gen_Sty: 0.7036\n",
      "Validation Accuracy: 93.81%\n",
      "\n",
      "Weights saved to semisupervised_results/1000_epochs_adam_1000_samples/weights_*.pth\n"
     ]
    },
    {
     "data": {
      "application/vnd.jupyter.widget-view+json": {
       "model_id": "4603e5c422164384bc67a71b3c257984",
       "version_major": 2,
       "version_minor": 0
      },
      "text/plain": [
       "Epoch [737/1000]:   0%|          | 0/10 [00:00<?, ?it/s]"
      ]
     },
     "metadata": {},
     "output_type": "display_data"
    },
    {
     "name": "stdout",
     "output_type": "stream",
     "text": [
      "Epoch 737/1000 — Recon_U: 0.0246, Recon_L: 0.0177, SemiSup: 0.0233, Disc_Cat: 1.3419, Gen_Cat: 0.9366, Disc_Sty: 1.3839, Gen_Sty: 0.7101\n",
      "Validation Accuracy: 93.81%\n",
      "\n",
      "Weights saved to semisupervised_results/1000_epochs_adam_1000_samples/weights_*.pth\n"
     ]
    },
    {
     "data": {
      "application/vnd.jupyter.widget-view+json": {
       "model_id": "909dcaf593ee4c1fae596c216e27b77d",
       "version_major": 2,
       "version_minor": 0
      },
      "text/plain": [
       "Epoch [738/1000]:   0%|          | 0/10 [00:00<?, ?it/s]"
      ]
     },
     "metadata": {},
     "output_type": "display_data"
    },
    {
     "name": "stdout",
     "output_type": "stream",
     "text": [
      "Epoch 738/1000 — Recon_U: 0.0248, Recon_L: 0.0177, SemiSup: 0.0043, Disc_Cat: 1.3381, Gen_Cat: 0.9354, Disc_Sty: 1.3871, Gen_Sty: 0.7111\n",
      "Validation Accuracy: 93.80%\n",
      "\n",
      "Weights saved to semisupervised_results/1000_epochs_adam_1000_samples/weights_*.pth\n"
     ]
    },
    {
     "data": {
      "application/vnd.jupyter.widget-view+json": {
       "model_id": "b35be0513cf94a7d818dbfc06f220865",
       "version_major": 2,
       "version_minor": 0
      },
      "text/plain": [
       "Epoch [739/1000]:   0%|          | 0/10 [00:00<?, ?it/s]"
      ]
     },
     "metadata": {},
     "output_type": "display_data"
    },
    {
     "name": "stdout",
     "output_type": "stream",
     "text": [
      "Epoch 739/1000 — Recon_U: 0.0252, Recon_L: 0.0178, SemiSup: 0.0193, Disc_Cat: 1.3403, Gen_Cat: 0.9226, Disc_Sty: 1.3895, Gen_Sty: 0.7061\n",
      "Validation Accuracy: 93.92%\n",
      "\n",
      "Weights saved to semisupervised_results/1000_epochs_adam_1000_samples/weights_*.pth\n"
     ]
    },
    {
     "data": {
      "application/vnd.jupyter.widget-view+json": {
       "model_id": "55037bf4dee74848a7ab495e9ae51c36",
       "version_major": 2,
       "version_minor": 0
      },
      "text/plain": [
       "Epoch [740/1000]:   0%|          | 0/10 [00:00<?, ?it/s]"
      ]
     },
     "metadata": {},
     "output_type": "display_data"
    },
    {
     "name": "stdout",
     "output_type": "stream",
     "text": [
      "Epoch 740/1000 — Recon_U: 0.0247, Recon_L: 0.0176, SemiSup: 0.0109, Disc_Cat: 1.3423, Gen_Cat: 0.9090, Disc_Sty: 1.3915, Gen_Sty: 0.7002\n",
      "Validation Accuracy: 93.86%\n",
      "\n",
      "Weights saved to semisupervised_results/1000_epochs_adam_1000_samples/weights_*.pth\n"
     ]
    },
    {
     "data": {
      "application/vnd.jupyter.widget-view+json": {
       "model_id": "24b92fa906d74bbaa9de69e4390f1d8d",
       "version_major": 2,
       "version_minor": 0
      },
      "text/plain": [
       "Epoch [741/1000]:   0%|          | 0/10 [00:00<?, ?it/s]"
      ]
     },
     "metadata": {},
     "output_type": "display_data"
    },
    {
     "name": "stdout",
     "output_type": "stream",
     "text": [
      "Epoch 741/1000 — Recon_U: 0.0249, Recon_L: 0.0177, SemiSup: 0.0180, Disc_Cat: 1.3425, Gen_Cat: 0.9112, Disc_Sty: 1.3918, Gen_Sty: 0.6941\n",
      "Validation Accuracy: 93.92%\n",
      "\n",
      "Weights saved to semisupervised_results/1000_epochs_adam_1000_samples/weights_*.pth\n"
     ]
    },
    {
     "data": {
      "application/vnd.jupyter.widget-view+json": {
       "model_id": "7898d687f76b4fc6802a046aeca7a223",
       "version_major": 2,
       "version_minor": 0
      },
      "text/plain": [
       "Epoch [742/1000]:   0%|          | 0/10 [00:00<?, ?it/s]"
      ]
     },
     "metadata": {},
     "output_type": "display_data"
    },
    {
     "name": "stdout",
     "output_type": "stream",
     "text": [
      "Epoch 742/1000 — Recon_U: 0.0250, Recon_L: 0.0176, SemiSup: 0.0120, Disc_Cat: 1.3381, Gen_Cat: 0.9204, Disc_Sty: 1.3858, Gen_Sty: 0.6937\n",
      "Validation Accuracy: 93.92%\n",
      "\n",
      "Weights saved to semisupervised_results/1000_epochs_adam_1000_samples/weights_*.pth\n"
     ]
    },
    {
     "data": {
      "application/vnd.jupyter.widget-view+json": {
       "model_id": "0279d2916077468ea0884610164125ab",
       "version_major": 2,
       "version_minor": 0
      },
      "text/plain": [
       "Epoch [743/1000]:   0%|          | 0/10 [00:00<?, ?it/s]"
      ]
     },
     "metadata": {},
     "output_type": "display_data"
    },
    {
     "name": "stdout",
     "output_type": "stream",
     "text": [
      "Epoch 743/1000 — Recon_U: 0.0250, Recon_L: 0.0175, SemiSup: 0.0018, Disc_Cat: 1.3513, Gen_Cat: 0.8855, Disc_Sty: 1.3837, Gen_Sty: 0.6897\n",
      "Validation Accuracy: 93.86%\n",
      "\n",
      "Weights saved to semisupervised_results/1000_epochs_adam_1000_samples/weights_*.pth\n"
     ]
    },
    {
     "data": {
      "application/vnd.jupyter.widget-view+json": {
       "model_id": "5080da736999494588423dd3b74ee3f1",
       "version_major": 2,
       "version_minor": 0
      },
      "text/plain": [
       "Epoch [744/1000]:   0%|          | 0/10 [00:00<?, ?it/s]"
      ]
     },
     "metadata": {},
     "output_type": "display_data"
    },
    {
     "name": "stdout",
     "output_type": "stream",
     "text": [
      "Epoch 744/1000 — Recon_U: 0.0250, Recon_L: 0.0173, SemiSup: 0.0352, Disc_Cat: 1.3340, Gen_Cat: 0.9568, Disc_Sty: 1.3804, Gen_Sty: 0.6882\n",
      "Validation Accuracy: 93.97%\n",
      "\n",
      "Weights saved to semisupervised_results/1000_epochs_adam_1000_samples/weights_*.pth\n"
     ]
    },
    {
     "data": {
      "application/vnd.jupyter.widget-view+json": {
       "model_id": "fb72a24878024f488a4fe529f03390f1",
       "version_major": 2,
       "version_minor": 0
      },
      "text/plain": [
       "Epoch [745/1000]:   0%|          | 0/10 [00:00<?, ?it/s]"
      ]
     },
     "metadata": {},
     "output_type": "display_data"
    },
    {
     "name": "stdout",
     "output_type": "stream",
     "text": [
      "Epoch 745/1000 — Recon_U: 0.0255, Recon_L: 0.0175, SemiSup: 0.0100, Disc_Cat: 1.3301, Gen_Cat: 0.9781, Disc_Sty: 1.3828, Gen_Sty: 0.6842\n",
      "Validation Accuracy: 93.92%\n",
      "\n",
      "Weights saved to semisupervised_results/1000_epochs_adam_1000_samples/weights_*.pth\n"
     ]
    },
    {
     "data": {
      "application/vnd.jupyter.widget-view+json": {
       "model_id": "7c98c16637af467ab1619a0857b354d8",
       "version_major": 2,
       "version_minor": 0
      },
      "text/plain": [
       "Epoch [746/1000]:   0%|          | 0/10 [00:00<?, ?it/s]"
      ]
     },
     "metadata": {},
     "output_type": "display_data"
    },
    {
     "name": "stdout",
     "output_type": "stream",
     "text": [
      "Epoch 746/1000 — Recon_U: 0.0241, Recon_L: 0.0174, SemiSup: 0.0095, Disc_Cat: 1.3403, Gen_Cat: 0.9353, Disc_Sty: 1.3839, Gen_Sty: 0.6829\n",
      "Validation Accuracy: 94.03%\n",
      "\n",
      "Weights saved to semisupervised_results/1000_epochs_adam_1000_samples/weights_*.pth\n"
     ]
    },
    {
     "data": {
      "application/vnd.jupyter.widget-view+json": {
       "model_id": "5abe42f046ca47159187dcad2d462322",
       "version_major": 2,
       "version_minor": 0
      },
      "text/plain": [
       "Epoch [747/1000]:   0%|          | 0/10 [00:00<?, ?it/s]"
      ]
     },
     "metadata": {},
     "output_type": "display_data"
    },
    {
     "name": "stdout",
     "output_type": "stream",
     "text": [
      "Epoch 747/1000 — Recon_U: 0.0255, Recon_L: 0.0175, SemiSup: 0.0053, Disc_Cat: 1.3408, Gen_Cat: 0.9418, Disc_Sty: 1.3872, Gen_Sty: 0.6825\n",
      "Validation Accuracy: 94.10%\n",
      "\n",
      "Weights saved to semisupervised_results/1000_epochs_adam_1000_samples/weights_*.pth\n"
     ]
    },
    {
     "data": {
      "application/vnd.jupyter.widget-view+json": {
       "model_id": "41ff52ce4b264dd580f336dad2eaa73d",
       "version_major": 2,
       "version_minor": 0
      },
      "text/plain": [
       "Epoch [748/1000]:   0%|          | 0/10 [00:00<?, ?it/s]"
      ]
     },
     "metadata": {},
     "output_type": "display_data"
    },
    {
     "name": "stdout",
     "output_type": "stream",
     "text": [
      "Epoch 748/1000 — Recon_U: 0.0245, Recon_L: 0.0175, SemiSup: 0.0051, Disc_Cat: 1.3454, Gen_Cat: 0.9281, Disc_Sty: 1.3888, Gen_Sty: 0.6875\n",
      "Validation Accuracy: 94.12%\n",
      "\n",
      "Weights saved to semisupervised_results/1000_epochs_adam_1000_samples/weights_*.pth\n"
     ]
    },
    {
     "data": {
      "application/vnd.jupyter.widget-view+json": {
       "model_id": "05506b6cd19740d29a90f90ff03fee88",
       "version_major": 2,
       "version_minor": 0
      },
      "text/plain": [
       "Epoch [749/1000]:   0%|          | 0/10 [00:00<?, ?it/s]"
      ]
     },
     "metadata": {},
     "output_type": "display_data"
    },
    {
     "name": "stdout",
     "output_type": "stream",
     "text": [
      "Epoch 749/1000 — Recon_U: 0.0248, Recon_L: 0.0176, SemiSup: 0.0050, Disc_Cat: 1.3304, Gen_Cat: 0.9680, Disc_Sty: 1.3876, Gen_Sty: 0.6971\n",
      "Validation Accuracy: 94.08%\n",
      "\n",
      "Weights saved to semisupervised_results/1000_epochs_adam_1000_samples/weights_*.pth\n"
     ]
    },
    {
     "data": {
      "application/vnd.jupyter.widget-view+json": {
       "model_id": "77fd0e8f14a844caa62fdcf1eaa795cb",
       "version_major": 2,
       "version_minor": 0
      },
      "text/plain": [
       "Epoch [750/1000]:   0%|          | 0/10 [00:00<?, ?it/s]"
      ]
     },
     "metadata": {},
     "output_type": "display_data"
    },
    {
     "name": "stdout",
     "output_type": "stream",
     "text": [
      "Epoch 750/1000 — Recon_U: 0.0247, Recon_L: 0.0175, SemiSup: 0.0043, Disc_Cat: 1.3392, Gen_Cat: 0.9345, Disc_Sty: 1.3838, Gen_Sty: 0.7078\n",
      "Validation Accuracy: 94.07%\n",
      "\n",
      "Weights saved to semisupervised_results/1000_epochs_adam_1000_samples/weights_epoch_750/weights_*.pth\n",
      "Weights saved to semisupervised_results/1000_epochs_adam_1000_samples/weights_*.pth\n"
     ]
    },
    {
     "data": {
      "application/vnd.jupyter.widget-view+json": {
       "model_id": "5a1a06e45280457da06b3421e39a0cfa",
       "version_major": 2,
       "version_minor": 0
      },
      "text/plain": [
       "Epoch [751/1000]:   0%|          | 0/10 [00:00<?, ?it/s]"
      ]
     },
     "metadata": {},
     "output_type": "display_data"
    },
    {
     "name": "stdout",
     "output_type": "stream",
     "text": [
      "Epoch 751/1000 — Recon_U: 0.0248, Recon_L: 0.0175, SemiSup: 0.0006, Disc_Cat: 1.3356, Gen_Cat: 0.9151, Disc_Sty: 1.3850, Gen_Sty: 0.7092\n",
      "Validation Accuracy: 93.97%\n",
      "\n",
      "Weights saved to semisupervised_results/1000_epochs_adam_1000_samples/weights_*.pth\n"
     ]
    },
    {
     "data": {
      "application/vnd.jupyter.widget-view+json": {
       "model_id": "0cca704aac9a44dd86d85f24221fd115",
       "version_major": 2,
       "version_minor": 0
      },
      "text/plain": [
       "Epoch [752/1000]:   0%|          | 0/10 [00:00<?, ?it/s]"
      ]
     },
     "metadata": {},
     "output_type": "display_data"
    },
    {
     "name": "stdout",
     "output_type": "stream",
     "text": [
      "Epoch 752/1000 — Recon_U: 0.0243, Recon_L: 0.0177, SemiSup: 0.0046, Disc_Cat: 1.3402, Gen_Cat: 0.9237, Disc_Sty: 1.3913, Gen_Sty: 0.7074\n",
      "Validation Accuracy: 93.97%\n",
      "\n",
      "Weights saved to semisupervised_results/1000_epochs_adam_1000_samples/weights_*.pth\n"
     ]
    },
    {
     "data": {
      "application/vnd.jupyter.widget-view+json": {
       "model_id": "6ca53bd8ff844684b00cea1451b654b7",
       "version_major": 2,
       "version_minor": 0
      },
      "text/plain": [
       "Epoch [753/1000]:   0%|          | 0/10 [00:00<?, ?it/s]"
      ]
     },
     "metadata": {},
     "output_type": "display_data"
    },
    {
     "name": "stdout",
     "output_type": "stream",
     "text": [
      "Epoch 753/1000 — Recon_U: 0.0251, Recon_L: 0.0177, SemiSup: 0.0068, Disc_Cat: 1.3407, Gen_Cat: 0.9363, Disc_Sty: 1.3924, Gen_Sty: 0.7028\n",
      "Validation Accuracy: 93.95%\n",
      "\n",
      "Weights saved to semisupervised_results/1000_epochs_adam_1000_samples/weights_*.pth\n"
     ]
    },
    {
     "data": {
      "application/vnd.jupyter.widget-view+json": {
       "model_id": "9cf2d126e1a34c91bb45898223d4f9e9",
       "version_major": 2,
       "version_minor": 0
      },
      "text/plain": [
       "Epoch [754/1000]:   0%|          | 0/10 [00:00<?, ?it/s]"
      ]
     },
     "metadata": {},
     "output_type": "display_data"
    },
    {
     "name": "stdout",
     "output_type": "stream",
     "text": [
      "Epoch 754/1000 — Recon_U: 0.0240, Recon_L: 0.0177, SemiSup: 0.0044, Disc_Cat: 1.3382, Gen_Cat: 0.9279, Disc_Sty: 1.3897, Gen_Sty: 0.7008\n",
      "Validation Accuracy: 93.93%\n",
      "\n",
      "Weights saved to semisupervised_results/1000_epochs_adam_1000_samples/weights_*.pth\n"
     ]
    },
    {
     "data": {
      "application/vnd.jupyter.widget-view+json": {
       "model_id": "71011fbe72ac4aa3aaa1b940335d59f4",
       "version_major": 2,
       "version_minor": 0
      },
      "text/plain": [
       "Epoch [755/1000]:   0%|          | 0/10 [00:00<?, ?it/s]"
      ]
     },
     "metadata": {},
     "output_type": "display_data"
    },
    {
     "name": "stdout",
     "output_type": "stream",
     "text": [
      "Epoch 755/1000 — Recon_U: 0.0253, Recon_L: 0.0175, SemiSup: 0.0195, Disc_Cat: 1.3455, Gen_Cat: 0.9489, Disc_Sty: 1.3861, Gen_Sty: 0.6968\n",
      "Validation Accuracy: 94.02%\n",
      "\n",
      "Weights saved to semisupervised_results/1000_epochs_adam_1000_samples/weights_*.pth\n"
     ]
    },
    {
     "data": {
      "application/vnd.jupyter.widget-view+json": {
       "model_id": "2f24abf7eaca49e38579ef3d21962d08",
       "version_major": 2,
       "version_minor": 0
      },
      "text/plain": [
       "Epoch [756/1000]:   0%|          | 0/10 [00:00<?, ?it/s]"
      ]
     },
     "metadata": {},
     "output_type": "display_data"
    },
    {
     "name": "stdout",
     "output_type": "stream",
     "text": [
      "Epoch 756/1000 — Recon_U: 0.0250, Recon_L: 0.0174, SemiSup: 0.0011, Disc_Cat: 1.3366, Gen_Cat: 0.9618, Disc_Sty: 1.3804, Gen_Sty: 0.6961\n",
      "Validation Accuracy: 94.02%\n",
      "\n",
      "Weights saved to semisupervised_results/1000_epochs_adam_1000_samples/weights_*.pth\n"
     ]
    },
    {
     "data": {
      "application/vnd.jupyter.widget-view+json": {
       "model_id": "a14768557eaa4a0fb68e1be808889689",
       "version_major": 2,
       "version_minor": 0
      },
      "text/plain": [
       "Epoch [757/1000]:   0%|          | 0/10 [00:00<?, ?it/s]"
      ]
     },
     "metadata": {},
     "output_type": "display_data"
    },
    {
     "name": "stdout",
     "output_type": "stream",
     "text": [
      "Epoch 757/1000 — Recon_U: 0.0246, Recon_L: 0.0173, SemiSup: 0.0073, Disc_Cat: 1.3491, Gen_Cat: 0.8942, Disc_Sty: 1.3769, Gen_Sty: 0.6936\n",
      "Validation Accuracy: 94.03%\n",
      "\n",
      "Weights saved to semisupervised_results/1000_epochs_adam_1000_samples/weights_*.pth\n"
     ]
    },
    {
     "data": {
      "application/vnd.jupyter.widget-view+json": {
       "model_id": "527953385dbc407498861972a485b9c5",
       "version_major": 2,
       "version_minor": 0
      },
      "text/plain": [
       "Epoch [758/1000]:   0%|          | 0/10 [00:00<?, ?it/s]"
      ]
     },
     "metadata": {},
     "output_type": "display_data"
    },
    {
     "name": "stdout",
     "output_type": "stream",
     "text": [
      "Epoch 758/1000 — Recon_U: 0.0245, Recon_L: 0.0174, SemiSup: 0.0025, Disc_Cat: 1.3403, Gen_Cat: 0.9240, Disc_Sty: 1.3829, Gen_Sty: 0.6845\n",
      "Validation Accuracy: 94.10%\n",
      "\n",
      "Weights saved to semisupervised_results/1000_epochs_adam_1000_samples/weights_*.pth\n"
     ]
    },
    {
     "data": {
      "application/vnd.jupyter.widget-view+json": {
       "model_id": "038dfe78c1ae4c00bca67fdcc547493f",
       "version_major": 2,
       "version_minor": 0
      },
      "text/plain": [
       "Epoch [759/1000]:   0%|          | 0/10 [00:00<?, ?it/s]"
      ]
     },
     "metadata": {},
     "output_type": "display_data"
    },
    {
     "name": "stdout",
     "output_type": "stream",
     "text": [
      "Epoch 759/1000 — Recon_U: 0.0250, Recon_L: 0.0174, SemiSup: 0.0003, Disc_Cat: 1.3443, Gen_Cat: 0.9247, Disc_Sty: 1.3922, Gen_Sty: 0.6737\n",
      "Validation Accuracy: 94.12%\n",
      "\n",
      "Weights saved to semisupervised_results/1000_epochs_adam_1000_samples/weights_*.pth\n"
     ]
    },
    {
     "data": {
      "application/vnd.jupyter.widget-view+json": {
       "model_id": "a6a0e4a4c62b44c4a96753b4a54bbe17",
       "version_major": 2,
       "version_minor": 0
      },
      "text/plain": [
       "Epoch [760/1000]:   0%|          | 0/10 [00:00<?, ?it/s]"
      ]
     },
     "metadata": {},
     "output_type": "display_data"
    },
    {
     "name": "stdout",
     "output_type": "stream",
     "text": [
      "Epoch 760/1000 — Recon_U: 0.0253, Recon_L: 0.0175, SemiSup: 0.0005, Disc_Cat: 1.3386, Gen_Cat: 0.9217, Disc_Sty: 1.4008, Gen_Sty: 0.6676\n",
      "Validation Accuracy: 94.05%\n",
      "\n",
      "Weights saved to semisupervised_results/1000_epochs_adam_1000_samples/weights_*.pth\n"
     ]
    },
    {
     "data": {
      "application/vnd.jupyter.widget-view+json": {
       "model_id": "79139e545d1c4bbdb5b478fc8525be94",
       "version_major": 2,
       "version_minor": 0
      },
      "text/plain": [
       "Epoch [761/1000]:   0%|          | 0/10 [00:00<?, ?it/s]"
      ]
     },
     "metadata": {},
     "output_type": "display_data"
    },
    {
     "name": "stdout",
     "output_type": "stream",
     "text": [
      "Epoch 761/1000 — Recon_U: 0.0246, Recon_L: 0.0177, SemiSup: 0.0117, Disc_Cat: 1.3371, Gen_Cat: 0.9269, Disc_Sty: 1.3954, Gen_Sty: 0.6791\n",
      "Validation Accuracy: 94.07%\n",
      "\n",
      "Weights saved to semisupervised_results/1000_epochs_adam_1000_samples/weights_*.pth\n"
     ]
    },
    {
     "data": {
      "application/vnd.jupyter.widget-view+json": {
       "model_id": "87d9141e3ad341b8874ba25f58ef87b0",
       "version_major": 2,
       "version_minor": 0
      },
      "text/plain": [
       "Epoch [762/1000]:   0%|          | 0/10 [00:00<?, ?it/s]"
      ]
     },
     "metadata": {},
     "output_type": "display_data"
    },
    {
     "name": "stdout",
     "output_type": "stream",
     "text": [
      "Epoch 762/1000 — Recon_U: 0.0245, Recon_L: 0.0175, SemiSup: 0.0045, Disc_Cat: 1.3407, Gen_Cat: 0.9216, Disc_Sty: 1.3822, Gen_Sty: 0.7023\n",
      "Validation Accuracy: 94.10%\n",
      "\n",
      "Weights saved to semisupervised_results/1000_epochs_adam_1000_samples/weights_*.pth\n"
     ]
    },
    {
     "data": {
      "application/vnd.jupyter.widget-view+json": {
       "model_id": "da1ff24231744b1ba12b591c3ca2533e",
       "version_major": 2,
       "version_minor": 0
      },
      "text/plain": [
       "Epoch [763/1000]:   0%|          | 0/10 [00:00<?, ?it/s]"
      ]
     },
     "metadata": {},
     "output_type": "display_data"
    },
    {
     "name": "stdout",
     "output_type": "stream",
     "text": [
      "Epoch 763/1000 — Recon_U: 0.0253, Recon_L: 0.0176, SemiSup: 0.0012, Disc_Cat: 1.3427, Gen_Cat: 0.9380, Disc_Sty: 1.3730, Gen_Sty: 0.7192\n",
      "Validation Accuracy: 94.05%\n",
      "\n",
      "Weights saved to semisupervised_results/1000_epochs_adam_1000_samples/weights_*.pth\n"
     ]
    },
    {
     "data": {
      "application/vnd.jupyter.widget-view+json": {
       "model_id": "55a4d66a9797426b8066ef4d24392ea4",
       "version_major": 2,
       "version_minor": 0
      },
      "text/plain": [
       "Epoch [764/1000]:   0%|          | 0/10 [00:00<?, ?it/s]"
      ]
     },
     "metadata": {},
     "output_type": "display_data"
    },
    {
     "name": "stdout",
     "output_type": "stream",
     "text": [
      "Epoch 764/1000 — Recon_U: 0.0243, Recon_L: 0.0177, SemiSup: 0.0062, Disc_Cat: 1.3496, Gen_Cat: 0.8783, Disc_Sty: 1.3831, Gen_Sty: 0.7132\n",
      "Validation Accuracy: 94.12%\n",
      "\n",
      "Weights saved to semisupervised_results/1000_epochs_adam_1000_samples/weights_*.pth\n"
     ]
    },
    {
     "data": {
      "application/vnd.jupyter.widget-view+json": {
       "model_id": "49e4ed06d9a24a8bb3b9d0bbc2425af0",
       "version_major": 2,
       "version_minor": 0
      },
      "text/plain": [
       "Epoch [765/1000]:   0%|          | 0/10 [00:00<?, ?it/s]"
      ]
     },
     "metadata": {},
     "output_type": "display_data"
    },
    {
     "name": "stdout",
     "output_type": "stream",
     "text": [
      "Epoch 765/1000 — Recon_U: 0.0254, Recon_L: 0.0176, SemiSup: 0.0057, Disc_Cat: 1.3379, Gen_Cat: 0.9340, Disc_Sty: 1.3933, Gen_Sty: 0.7024\n",
      "Validation Accuracy: 94.17%\n",
      "\n",
      "Weights saved to semisupervised_results/1000_epochs_adam_1000_samples/weights_*.pth\n"
     ]
    },
    {
     "data": {
      "application/vnd.jupyter.widget-view+json": {
       "model_id": "5785ed057e604d15ac76f2bc456fc320",
       "version_major": 2,
       "version_minor": 0
      },
      "text/plain": [
       "Epoch [766/1000]:   0%|          | 0/10 [00:00<?, ?it/s]"
      ]
     },
     "metadata": {},
     "output_type": "display_data"
    },
    {
     "name": "stdout",
     "output_type": "stream",
     "text": [
      "Epoch 766/1000 — Recon_U: 0.0244, Recon_L: 0.0176, SemiSup: 0.0064, Disc_Cat: 1.3453, Gen_Cat: 0.9245, Disc_Sty: 1.3965, Gen_Sty: 0.6918\n",
      "Validation Accuracy: 94.07%\n",
      "\n",
      "Weights saved to semisupervised_results/1000_epochs_adam_1000_samples/weights_*.pth\n"
     ]
    },
    {
     "data": {
      "application/vnd.jupyter.widget-view+json": {
       "model_id": "ec0020c8f8b8483bafc961dc1d65f6b5",
       "version_major": 2,
       "version_minor": 0
      },
      "text/plain": [
       "Epoch [767/1000]:   0%|          | 0/10 [00:00<?, ?it/s]"
      ]
     },
     "metadata": {},
     "output_type": "display_data"
    },
    {
     "name": "stdout",
     "output_type": "stream",
     "text": [
      "Epoch 767/1000 — Recon_U: 0.0247, Recon_L: 0.0176, SemiSup: 0.0010, Disc_Cat: 1.3434, Gen_Cat: 0.9011, Disc_Sty: 1.3920, Gen_Sty: 0.6873\n",
      "Validation Accuracy: 94.12%\n",
      "\n",
      "Weights saved to semisupervised_results/1000_epochs_adam_1000_samples/weights_*.pth\n"
     ]
    },
    {
     "data": {
      "application/vnd.jupyter.widget-view+json": {
       "model_id": "ba982b0d2b004178bca072a59178d74f",
       "version_major": 2,
       "version_minor": 0
      },
      "text/plain": [
       "Epoch [768/1000]:   0%|          | 0/10 [00:00<?, ?it/s]"
      ]
     },
     "metadata": {},
     "output_type": "display_data"
    },
    {
     "name": "stdout",
     "output_type": "stream",
     "text": [
      "Epoch 768/1000 — Recon_U: 0.0256, Recon_L: 0.0174, SemiSup: 0.0173, Disc_Cat: 1.3379, Gen_Cat: 0.9712, Disc_Sty: 1.3921, Gen_Sty: 0.6853\n",
      "Validation Accuracy: 94.17%\n",
      "\n",
      "Weights saved to semisupervised_results/1000_epochs_adam_1000_samples/weights_*.pth\n"
     ]
    },
    {
     "data": {
      "application/vnd.jupyter.widget-view+json": {
       "model_id": "f2863943f8c24982a87e0e6fc326fec8",
       "version_major": 2,
       "version_minor": 0
      },
      "text/plain": [
       "Epoch [769/1000]:   0%|          | 0/10 [00:00<?, ?it/s]"
      ]
     },
     "metadata": {},
     "output_type": "display_data"
    },
    {
     "name": "stdout",
     "output_type": "stream",
     "text": [
      "Epoch 769/1000 — Recon_U: 0.0246, Recon_L: 0.0174, SemiSup: 0.0166, Disc_Cat: 1.3387, Gen_Cat: 0.9336, Disc_Sty: 1.3899, Gen_Sty: 0.6867\n",
      "Validation Accuracy: 94.15%\n",
      "\n",
      "Weights saved to semisupervised_results/1000_epochs_adam_1000_samples/weights_*.pth\n"
     ]
    },
    {
     "data": {
      "application/vnd.jupyter.widget-view+json": {
       "model_id": "885db86d40c842b888be6018d897b653",
       "version_major": 2,
       "version_minor": 0
      },
      "text/plain": [
       "Epoch [770/1000]:   0%|          | 0/10 [00:00<?, ?it/s]"
      ]
     },
     "metadata": {},
     "output_type": "display_data"
    },
    {
     "name": "stdout",
     "output_type": "stream",
     "text": [
      "Epoch 770/1000 — Recon_U: 0.0246, Recon_L: 0.0174, SemiSup: 0.0028, Disc_Cat: 1.3444, Gen_Cat: 0.9086, Disc_Sty: 1.3862, Gen_Sty: 0.6923\n",
      "Validation Accuracy: 94.15%\n",
      "\n",
      "Weights saved to semisupervised_results/1000_epochs_adam_1000_samples/weights_*.pth\n"
     ]
    },
    {
     "data": {
      "application/vnd.jupyter.widget-view+json": {
       "model_id": "1513fed7fc1a4825a212a41fb09668eb",
       "version_major": 2,
       "version_minor": 0
      },
      "text/plain": [
       "Epoch [771/1000]:   0%|          | 0/10 [00:00<?, ?it/s]"
      ]
     },
     "metadata": {},
     "output_type": "display_data"
    },
    {
     "name": "stdout",
     "output_type": "stream",
     "text": [
      "Epoch 771/1000 — Recon_U: 0.0248, Recon_L: 0.0174, SemiSup: 0.0095, Disc_Cat: 1.3265, Gen_Cat: 0.9613, Disc_Sty: 1.3820, Gen_Sty: 0.6978\n",
      "Validation Accuracy: 94.19%\n",
      "\n",
      "Weights saved to semisupervised_results/1000_epochs_adam_1000_samples/weights_*.pth\n"
     ]
    },
    {
     "data": {
      "application/vnd.jupyter.widget-view+json": {
       "model_id": "327c309a6498433593902d8cc7fc903f",
       "version_major": 2,
       "version_minor": 0
      },
      "text/plain": [
       "Epoch [772/1000]:   0%|          | 0/10 [00:00<?, ?it/s]"
      ]
     },
     "metadata": {},
     "output_type": "display_data"
    },
    {
     "name": "stdout",
     "output_type": "stream",
     "text": [
      "Epoch 772/1000 — Recon_U: 0.0240, Recon_L: 0.0173, SemiSup: 0.0173, Disc_Cat: 1.3403, Gen_Cat: 0.9847, Disc_Sty: 1.3845, Gen_Sty: 0.6999\n",
      "Validation Accuracy: 94.14%\n",
      "\n",
      "Weights saved to semisupervised_results/1000_epochs_adam_1000_samples/weights_*.pth\n"
     ]
    },
    {
     "data": {
      "application/vnd.jupyter.widget-view+json": {
       "model_id": "6dcdba3fd41f44faaa3a077c90d25a78",
       "version_major": 2,
       "version_minor": 0
      },
      "text/plain": [
       "Epoch [773/1000]:   0%|          | 0/10 [00:00<?, ?it/s]"
      ]
     },
     "metadata": {},
     "output_type": "display_data"
    },
    {
     "name": "stdout",
     "output_type": "stream",
     "text": [
      "Epoch 773/1000 — Recon_U: 0.0243, Recon_L: 0.0174, SemiSup: 0.0066, Disc_Cat: 1.3369, Gen_Cat: 0.9245, Disc_Sty: 1.3916, Gen_Sty: 0.6959\n",
      "Validation Accuracy: 94.12%\n",
      "\n",
      "Weights saved to semisupervised_results/1000_epochs_adam_1000_samples/weights_*.pth\n"
     ]
    },
    {
     "data": {
      "application/vnd.jupyter.widget-view+json": {
       "model_id": "b74ac6598bff4d48b30cd94507fdb465",
       "version_major": 2,
       "version_minor": 0
      },
      "text/plain": [
       "Epoch [774/1000]:   0%|          | 0/10 [00:00<?, ?it/s]"
      ]
     },
     "metadata": {},
     "output_type": "display_data"
    },
    {
     "name": "stdout",
     "output_type": "stream",
     "text": [
      "Epoch 774/1000 — Recon_U: 0.0249, Recon_L: 0.0174, SemiSup: 0.0130, Disc_Cat: 1.3312, Gen_Cat: 0.9910, Disc_Sty: 1.3941, Gen_Sty: 0.6964\n",
      "Validation Accuracy: 94.03%\n",
      "\n",
      "Weights saved to semisupervised_results/1000_epochs_adam_1000_samples/weights_*.pth\n"
     ]
    },
    {
     "data": {
      "application/vnd.jupyter.widget-view+json": {
       "model_id": "2db56439046c4758be762a55b8f10044",
       "version_major": 2,
       "version_minor": 0
      },
      "text/plain": [
       "Epoch [775/1000]:   0%|          | 0/10 [00:00<?, ?it/s]"
      ]
     },
     "metadata": {},
     "output_type": "display_data"
    },
    {
     "name": "stdout",
     "output_type": "stream",
     "text": [
      "Epoch 775/1000 — Recon_U: 0.0251, Recon_L: 0.0173, SemiSup: 0.0019, Disc_Cat: 1.3392, Gen_Cat: 0.9193, Disc_Sty: 1.3907, Gen_Sty: 0.6998\n",
      "Validation Accuracy: 93.95%\n",
      "\n",
      "Weights saved to semisupervised_results/1000_epochs_adam_1000_samples/weights_*.pth\n"
     ]
    },
    {
     "data": {
      "application/vnd.jupyter.widget-view+json": {
       "model_id": "9cec238e22d84385ac8af46a19886801",
       "version_major": 2,
       "version_minor": 0
      },
      "text/plain": [
       "Epoch [776/1000]:   0%|          | 0/10 [00:00<?, ?it/s]"
      ]
     },
     "metadata": {},
     "output_type": "display_data"
    },
    {
     "name": "stdout",
     "output_type": "stream",
     "text": [
      "Epoch 776/1000 — Recon_U: 0.0253, Recon_L: 0.0173, SemiSup: 0.0098, Disc_Cat: 1.3417, Gen_Cat: 0.9165, Disc_Sty: 1.3858, Gen_Sty: 0.7033\n",
      "Validation Accuracy: 93.86%\n",
      "\n",
      "Weights saved to semisupervised_results/1000_epochs_adam_1000_samples/weights_*.pth\n"
     ]
    },
    {
     "data": {
      "application/vnd.jupyter.widget-view+json": {
       "model_id": "06abbb92bfbb477cac3b20dac477136d",
       "version_major": 2,
       "version_minor": 0
      },
      "text/plain": [
       "Epoch [777/1000]:   0%|          | 0/10 [00:00<?, ?it/s]"
      ]
     },
     "metadata": {},
     "output_type": "display_data"
    },
    {
     "name": "stdout",
     "output_type": "stream",
     "text": [
      "Epoch 777/1000 — Recon_U: 0.0241, Recon_L: 0.0174, SemiSup: 0.0090, Disc_Cat: 1.3457, Gen_Cat: 0.8907, Disc_Sty: 1.3880, Gen_Sty: 0.6996\n",
      "Validation Accuracy: 93.93%\n",
      "\n",
      "Weights saved to semisupervised_results/1000_epochs_adam_1000_samples/weights_*.pth\n"
     ]
    },
    {
     "data": {
      "application/vnd.jupyter.widget-view+json": {
       "model_id": "85f6bec3e7104dc0a735a2ebfcaf5361",
       "version_major": 2,
       "version_minor": 0
      },
      "text/plain": [
       "Epoch [778/1000]:   0%|          | 0/10 [00:00<?, ?it/s]"
      ]
     },
     "metadata": {},
     "output_type": "display_data"
    },
    {
     "name": "stdout",
     "output_type": "stream",
     "text": [
      "Epoch 778/1000 — Recon_U: 0.0244, Recon_L: 0.0173, SemiSup: 0.0037, Disc_Cat: 1.3428, Gen_Cat: 0.9489, Disc_Sty: 1.3889, Gen_Sty: 0.6955\n",
      "Validation Accuracy: 93.97%\n",
      "\n",
      "Weights saved to semisupervised_results/1000_epochs_adam_1000_samples/weights_*.pth\n"
     ]
    },
    {
     "data": {
      "application/vnd.jupyter.widget-view+json": {
       "model_id": "0fd9f706d4254b04b1d52d9e69387f14",
       "version_major": 2,
       "version_minor": 0
      },
      "text/plain": [
       "Epoch [779/1000]:   0%|          | 0/10 [00:00<?, ?it/s]"
      ]
     },
     "metadata": {},
     "output_type": "display_data"
    },
    {
     "name": "stdout",
     "output_type": "stream",
     "text": [
      "Epoch 779/1000 — Recon_U: 0.0238, Recon_L: 0.0172, SemiSup: 0.0123, Disc_Cat: 1.3463, Gen_Cat: 0.9004, Disc_Sty: 1.3895, Gen_Sty: 0.6915\n",
      "Validation Accuracy: 93.92%\n",
      "\n",
      "Weights saved to semisupervised_results/1000_epochs_adam_1000_samples/weights_*.pth\n"
     ]
    },
    {
     "data": {
      "application/vnd.jupyter.widget-view+json": {
       "model_id": "c779cf957ac64b57ac3046b58aa4a20a",
       "version_major": 2,
       "version_minor": 0
      },
      "text/plain": [
       "Epoch [780/1000]:   0%|          | 0/10 [00:00<?, ?it/s]"
      ]
     },
     "metadata": {},
     "output_type": "display_data"
    },
    {
     "name": "stdout",
     "output_type": "stream",
     "text": [
      "Epoch 780/1000 — Recon_U: 0.0249, Recon_L: 0.0172, SemiSup: 0.0177, Disc_Cat: 1.3467, Gen_Cat: 0.8788, Disc_Sty: 1.3911, Gen_Sty: 0.6856\n",
      "Validation Accuracy: 93.95%\n",
      "\n",
      "Weights saved to semisupervised_results/1000_epochs_adam_1000_samples/weights_*.pth\n"
     ]
    },
    {
     "data": {
      "application/vnd.jupyter.widget-view+json": {
       "model_id": "5c7a9bb0ed13490a820606ec9c568afb",
       "version_major": 2,
       "version_minor": 0
      },
      "text/plain": [
       "Epoch [781/1000]:   0%|          | 0/10 [00:00<?, ?it/s]"
      ]
     },
     "metadata": {},
     "output_type": "display_data"
    },
    {
     "name": "stdout",
     "output_type": "stream",
     "text": [
      "Epoch 781/1000 — Recon_U: 0.0246, Recon_L: 0.0171, SemiSup: 0.0019, Disc_Cat: 1.3490, Gen_Cat: 0.9045, Disc_Sty: 1.3872, Gen_Sty: 0.6866\n",
      "Validation Accuracy: 93.97%\n",
      "\n",
      "Weights saved to semisupervised_results/1000_epochs_adam_1000_samples/weights_*.pth\n"
     ]
    },
    {
     "data": {
      "application/vnd.jupyter.widget-view+json": {
       "model_id": "04e0ba4b65ad45ddaefd15df3855d24d",
       "version_major": 2,
       "version_minor": 0
      },
      "text/plain": [
       "Epoch [782/1000]:   0%|          | 0/10 [00:00<?, ?it/s]"
      ]
     },
     "metadata": {},
     "output_type": "display_data"
    },
    {
     "name": "stdout",
     "output_type": "stream",
     "text": [
      "Epoch 782/1000 — Recon_U: 0.0245, Recon_L: 0.0171, SemiSup: 0.0090, Disc_Cat: 1.3410, Gen_Cat: 0.9595, Disc_Sty: 1.3837, Gen_Sty: 0.6876\n",
      "Validation Accuracy: 93.97%\n",
      "\n",
      "Weights saved to semisupervised_results/1000_epochs_adam_1000_samples/weights_*.pth\n"
     ]
    },
    {
     "data": {
      "application/vnd.jupyter.widget-view+json": {
       "model_id": "59e268f892d94cc89be480af508b89f7",
       "version_major": 2,
       "version_minor": 0
      },
      "text/plain": [
       "Epoch [783/1000]:   0%|          | 0/10 [00:00<?, ?it/s]"
      ]
     },
     "metadata": {},
     "output_type": "display_data"
    },
    {
     "name": "stdout",
     "output_type": "stream",
     "text": [
      "Epoch 783/1000 — Recon_U: 0.0244, Recon_L: 0.0169, SemiSup: 0.0055, Disc_Cat: 1.3386, Gen_Cat: 0.9419, Disc_Sty: 1.3815, Gen_Sty: 0.6880\n",
      "Validation Accuracy: 94.02%\n",
      "\n",
      "Weights saved to semisupervised_results/1000_epochs_adam_1000_samples/weights_*.pth\n"
     ]
    },
    {
     "data": {
      "application/vnd.jupyter.widget-view+json": {
       "model_id": "96d3279708294ccea57a10bc5b3e0312",
       "version_major": 2,
       "version_minor": 0
      },
      "text/plain": [
       "Epoch [784/1000]:   0%|          | 0/10 [00:00<?, ?it/s]"
      ]
     },
     "metadata": {},
     "output_type": "display_data"
    },
    {
     "name": "stdout",
     "output_type": "stream",
     "text": [
      "Epoch 784/1000 — Recon_U: 0.0245, Recon_L: 0.0171, SemiSup: 0.0100, Disc_Cat: 1.3483, Gen_Cat: 0.8962, Disc_Sty: 1.3845, Gen_Sty: 0.6877\n",
      "Validation Accuracy: 94.07%\n",
      "\n",
      "Weights saved to semisupervised_results/1000_epochs_adam_1000_samples/weights_*.pth\n"
     ]
    },
    {
     "data": {
      "application/vnd.jupyter.widget-view+json": {
       "model_id": "e8df19eed95f45599822166f758edca9",
       "version_major": 2,
       "version_minor": 0
      },
      "text/plain": [
       "Epoch [785/1000]:   0%|          | 0/10 [00:00<?, ?it/s]"
      ]
     },
     "metadata": {},
     "output_type": "display_data"
    },
    {
     "name": "stdout",
     "output_type": "stream",
     "text": [
      "Epoch 785/1000 — Recon_U: 0.0242, Recon_L: 0.0171, SemiSup: 0.0231, Disc_Cat: 1.3502, Gen_Cat: 0.8865, Disc_Sty: 1.3848, Gen_Sty: 0.6876\n",
      "Validation Accuracy: 94.05%\n",
      "\n",
      "Weights saved to semisupervised_results/1000_epochs_adam_1000_samples/weights_*.pth\n"
     ]
    },
    {
     "data": {
      "application/vnd.jupyter.widget-view+json": {
       "model_id": "80d689b18a104e60ad3b201401a77020",
       "version_major": 2,
       "version_minor": 0
      },
      "text/plain": [
       "Epoch [786/1000]:   0%|          | 0/10 [00:00<?, ?it/s]"
      ]
     },
     "metadata": {},
     "output_type": "display_data"
    },
    {
     "name": "stdout",
     "output_type": "stream",
     "text": [
      "Epoch 786/1000 — Recon_U: 0.0245, Recon_L: 0.0170, SemiSup: 0.0066, Disc_Cat: 1.3389, Gen_Cat: 0.9117, Disc_Sty: 1.3866, Gen_Sty: 0.6868\n",
      "Validation Accuracy: 94.02%\n",
      "\n",
      "Weights saved to semisupervised_results/1000_epochs_adam_1000_samples/weights_*.pth\n"
     ]
    },
    {
     "data": {
      "application/vnd.jupyter.widget-view+json": {
       "model_id": "3dda1457ca7147a799c967a0b341f57a",
       "version_major": 2,
       "version_minor": 0
      },
      "text/plain": [
       "Epoch [787/1000]:   0%|          | 0/10 [00:00<?, ?it/s]"
      ]
     },
     "metadata": {},
     "output_type": "display_data"
    },
    {
     "name": "stdout",
     "output_type": "stream",
     "text": [
      "Epoch 787/1000 — Recon_U: 0.0251, Recon_L: 0.0171, SemiSup: 0.0037, Disc_Cat: 1.3355, Gen_Cat: 0.9617, Disc_Sty: 1.3878, Gen_Sty: 0.6890\n",
      "Validation Accuracy: 94.10%\n",
      "\n",
      "Weights saved to semisupervised_results/1000_epochs_adam_1000_samples/weights_*.pth\n"
     ]
    },
    {
     "data": {
      "application/vnd.jupyter.widget-view+json": {
       "model_id": "56e19a3f53c74f768c91ce649e3c99cb",
       "version_major": 2,
       "version_minor": 0
      },
      "text/plain": [
       "Epoch [788/1000]:   0%|          | 0/10 [00:00<?, ?it/s]"
      ]
     },
     "metadata": {},
     "output_type": "display_data"
    },
    {
     "name": "stdout",
     "output_type": "stream",
     "text": [
      "Epoch 788/1000 — Recon_U: 0.0249, Recon_L: 0.0171, SemiSup: 0.0127, Disc_Cat: 1.3404, Gen_Cat: 0.9396, Disc_Sty: 1.3874, Gen_Sty: 0.6929\n",
      "Validation Accuracy: 93.98%\n",
      "\n",
      "Weights saved to semisupervised_results/1000_epochs_adam_1000_samples/weights_*.pth\n"
     ]
    },
    {
     "data": {
      "application/vnd.jupyter.widget-view+json": {
       "model_id": "f8f615c5a90a40a88a427312ddb1b949",
       "version_major": 2,
       "version_minor": 0
      },
      "text/plain": [
       "Epoch [789/1000]:   0%|          | 0/10 [00:00<?, ?it/s]"
      ]
     },
     "metadata": {},
     "output_type": "display_data"
    },
    {
     "name": "stdout",
     "output_type": "stream",
     "text": [
      "Epoch 789/1000 — Recon_U: 0.0250, Recon_L: 0.0170, SemiSup: 0.0046, Disc_Cat: 1.3494, Gen_Cat: 0.9154, Disc_Sty: 1.3841, Gen_Sty: 0.6991\n",
      "Validation Accuracy: 93.93%\n",
      "\n",
      "Weights saved to semisupervised_results/1000_epochs_adam_1000_samples/weights_*.pth\n"
     ]
    },
    {
     "data": {
      "application/vnd.jupyter.widget-view+json": {
       "model_id": "ceebf6c7d88c4e0f9ea4c615d597134b",
       "version_major": 2,
       "version_minor": 0
      },
      "text/plain": [
       "Epoch [790/1000]:   0%|          | 0/10 [00:00<?, ?it/s]"
      ]
     },
     "metadata": {},
     "output_type": "display_data"
    },
    {
     "name": "stdout",
     "output_type": "stream",
     "text": [
      "Epoch 790/1000 — Recon_U: 0.0245, Recon_L: 0.0169, SemiSup: 0.0298, Disc_Cat: 1.3371, Gen_Cat: 0.9498, Disc_Sty: 1.3851, Gen_Sty: 0.7028\n",
      "Validation Accuracy: 93.97%\n",
      "\n",
      "Weights saved to semisupervised_results/1000_epochs_adam_1000_samples/weights_*.pth\n"
     ]
    },
    {
     "data": {
      "application/vnd.jupyter.widget-view+json": {
       "model_id": "5c513553ddd84e5eb3a2fd41596f96ba",
       "version_major": 2,
       "version_minor": 0
      },
      "text/plain": [
       "Epoch [791/1000]:   0%|          | 0/10 [00:00<?, ?it/s]"
      ]
     },
     "metadata": {},
     "output_type": "display_data"
    },
    {
     "name": "stdout",
     "output_type": "stream",
     "text": [
      "Epoch 791/1000 — Recon_U: 0.0246, Recon_L: 0.0170, SemiSup: 0.0092, Disc_Cat: 1.3385, Gen_Cat: 0.9368, Disc_Sty: 1.3851, Gen_Sty: 0.7042\n",
      "Validation Accuracy: 94.08%\n",
      "\n",
      "Weights saved to semisupervised_results/1000_epochs_adam_1000_samples/weights_*.pth\n"
     ]
    },
    {
     "data": {
      "application/vnd.jupyter.widget-view+json": {
       "model_id": "9d15eff3c81e40278d2d0935d9cb5f32",
       "version_major": 2,
       "version_minor": 0
      },
      "text/plain": [
       "Epoch [792/1000]:   0%|          | 0/10 [00:00<?, ?it/s]"
      ]
     },
     "metadata": {},
     "output_type": "display_data"
    },
    {
     "name": "stdout",
     "output_type": "stream",
     "text": [
      "Epoch 792/1000 — Recon_U: 0.0246, Recon_L: 0.0170, SemiSup: 0.0058, Disc_Cat: 1.3384, Gen_Cat: 0.9411, Disc_Sty: 1.3890, Gen_Sty: 0.7020\n",
      "Validation Accuracy: 94.08%\n",
      "\n",
      "Weights saved to semisupervised_results/1000_epochs_adam_1000_samples/weights_*.pth\n"
     ]
    },
    {
     "data": {
      "application/vnd.jupyter.widget-view+json": {
       "model_id": "f9c58e9932ef40efba25ee69d4a1cbe6",
       "version_major": 2,
       "version_minor": 0
      },
      "text/plain": [
       "Epoch [793/1000]:   0%|          | 0/10 [00:00<?, ?it/s]"
      ]
     },
     "metadata": {},
     "output_type": "display_data"
    },
    {
     "name": "stdout",
     "output_type": "stream",
     "text": [
      "Epoch 793/1000 — Recon_U: 0.0249, Recon_L: 0.0172, SemiSup: 0.0198, Disc_Cat: 1.3407, Gen_Cat: 0.9639, Disc_Sty: 1.3895, Gen_Sty: 0.6992\n",
      "Validation Accuracy: 94.12%\n",
      "\n",
      "Weights saved to semisupervised_results/1000_epochs_adam_1000_samples/weights_*.pth\n"
     ]
    },
    {
     "data": {
      "application/vnd.jupyter.widget-view+json": {
       "model_id": "2f3b8908bda0452987b0eee7bfdf8b67",
       "version_major": 2,
       "version_minor": 0
      },
      "text/plain": [
       "Epoch [794/1000]:   0%|          | 0/10 [00:00<?, ?it/s]"
      ]
     },
     "metadata": {},
     "output_type": "display_data"
    },
    {
     "name": "stdout",
     "output_type": "stream",
     "text": [
      "Epoch 794/1000 — Recon_U: 0.0247, Recon_L: 0.0171, SemiSup: 0.0011, Disc_Cat: 1.3546, Gen_Cat: 0.8776, Disc_Sty: 1.3897, Gen_Sty: 0.6962\n",
      "Validation Accuracy: 94.14%\n",
      "\n",
      "Weights saved to semisupervised_results/1000_epochs_adam_1000_samples/weights_*.pth\n"
     ]
    },
    {
     "data": {
      "application/vnd.jupyter.widget-view+json": {
       "model_id": "665737cc6e1f4ac09de256cc2a8cf7df",
       "version_major": 2,
       "version_minor": 0
      },
      "text/plain": [
       "Epoch [795/1000]:   0%|          | 0/10 [00:00<?, ?it/s]"
      ]
     },
     "metadata": {},
     "output_type": "display_data"
    },
    {
     "name": "stdout",
     "output_type": "stream",
     "text": [
      "Epoch 795/1000 — Recon_U: 0.0245, Recon_L: 0.0170, SemiSup: 0.0059, Disc_Cat: 1.3454, Gen_Cat: 0.9090, Disc_Sty: 1.3869, Gen_Sty: 0.6948\n",
      "Validation Accuracy: 94.10%\n",
      "\n",
      "Weights saved to semisupervised_results/1000_epochs_adam_1000_samples/weights_*.pth\n"
     ]
    },
    {
     "data": {
      "application/vnd.jupyter.widget-view+json": {
       "model_id": "4456fff1bc374348b4b1664e3eee99d9",
       "version_major": 2,
       "version_minor": 0
      },
      "text/plain": [
       "Epoch [796/1000]:   0%|          | 0/10 [00:00<?, ?it/s]"
      ]
     },
     "metadata": {},
     "output_type": "display_data"
    },
    {
     "name": "stdout",
     "output_type": "stream",
     "text": [
      "Epoch 796/1000 — Recon_U: 0.0249, Recon_L: 0.0168, SemiSup: 0.0044, Disc_Cat: 1.3521, Gen_Cat: 0.8748, Disc_Sty: 1.3834, Gen_Sty: 0.6925\n",
      "Validation Accuracy: 94.08%\n",
      "\n",
      "Weights saved to semisupervised_results/1000_epochs_adam_1000_samples/weights_*.pth\n"
     ]
    },
    {
     "data": {
      "application/vnd.jupyter.widget-view+json": {
       "model_id": "53607ca709474306b7add457c47acf00",
       "version_major": 2,
       "version_minor": 0
      },
      "text/plain": [
       "Epoch [797/1000]:   0%|          | 0/10 [00:00<?, ?it/s]"
      ]
     },
     "metadata": {},
     "output_type": "display_data"
    },
    {
     "name": "stdout",
     "output_type": "stream",
     "text": [
      "Epoch 797/1000 — Recon_U: 0.0246, Recon_L: 0.0169, SemiSup: 0.0068, Disc_Cat: 1.3397, Gen_Cat: 0.9327, Disc_Sty: 1.3813, Gen_Sty: 0.6915\n",
      "Validation Accuracy: 94.14%\n",
      "\n",
      "Weights saved to semisupervised_results/1000_epochs_adam_1000_samples/weights_*.pth\n"
     ]
    },
    {
     "data": {
      "application/vnd.jupyter.widget-view+json": {
       "model_id": "f426c98c42d24ea79f9543abfe1bde4c",
       "version_major": 2,
       "version_minor": 0
      },
      "text/plain": [
       "Epoch [798/1000]:   0%|          | 0/10 [00:00<?, ?it/s]"
      ]
     },
     "metadata": {},
     "output_type": "display_data"
    },
    {
     "name": "stdout",
     "output_type": "stream",
     "text": [
      "Epoch 798/1000 — Recon_U: 0.0249, Recon_L: 0.0168, SemiSup: 0.0036, Disc_Cat: 1.3329, Gen_Cat: 0.9506, Disc_Sty: 1.3823, Gen_Sty: 0.6879\n",
      "Validation Accuracy: 94.12%\n",
      "\n",
      "Weights saved to semisupervised_results/1000_epochs_adam_1000_samples/weights_*.pth\n"
     ]
    },
    {
     "data": {
      "application/vnd.jupyter.widget-view+json": {
       "model_id": "feba8ff9697b4cfeb4b27b71d18ea322",
       "version_major": 2,
       "version_minor": 0
      },
      "text/plain": [
       "Epoch [799/1000]:   0%|          | 0/10 [00:00<?, ?it/s]"
      ]
     },
     "metadata": {},
     "output_type": "display_data"
    },
    {
     "name": "stdout",
     "output_type": "stream",
     "text": [
      "Epoch 799/1000 — Recon_U: 0.0242, Recon_L: 0.0168, SemiSup: 0.0139, Disc_Cat: 1.3415, Gen_Cat: 0.9676, Disc_Sty: 1.3820, Gen_Sty: 0.6869\n",
      "Validation Accuracy: 94.08%\n",
      "\n",
      "Weights saved to semisupervised_results/1000_epochs_adam_1000_samples/weights_*.pth\n"
     ]
    },
    {
     "data": {
      "application/vnd.jupyter.widget-view+json": {
       "model_id": "ddae1c4be5a6435588765f95951d4d1f",
       "version_major": 2,
       "version_minor": 0
      },
      "text/plain": [
       "Epoch [800/1000]:   0%|          | 0/10 [00:00<?, ?it/s]"
      ]
     },
     "metadata": {},
     "output_type": "display_data"
    },
    {
     "name": "stdout",
     "output_type": "stream",
     "text": [
      "Epoch 800/1000 — Recon_U: 0.0249, Recon_L: 0.0167, SemiSup: 0.0016, Disc_Cat: 1.3368, Gen_Cat: 0.9527, Disc_Sty: 1.3855, Gen_Sty: 0.6850\n",
      "Validation Accuracy: 94.08%\n",
      "\n",
      "Weights saved to semisupervised_results/1000_epochs_adam_1000_samples/weights_epoch_800/weights_*.pth\n",
      "Weights saved to semisupervised_results/1000_epochs_adam_1000_samples/weights_*.pth\n"
     ]
    },
    {
     "data": {
      "application/vnd.jupyter.widget-view+json": {
       "model_id": "0d6a15562f0840eea03c4b6521d47d53",
       "version_major": 2,
       "version_minor": 0
      },
      "text/plain": [
       "Epoch [801/1000]:   0%|          | 0/10 [00:00<?, ?it/s]"
      ]
     },
     "metadata": {},
     "output_type": "display_data"
    },
    {
     "name": "stdout",
     "output_type": "stream",
     "text": [
      "Epoch 801/1000 — Recon_U: 0.0241, Recon_L: 0.0167, SemiSup: 0.0011, Disc_Cat: 1.3501, Gen_Cat: 0.8822, Disc_Sty: 1.3872, Gen_Sty: 0.6849\n",
      "Validation Accuracy: 94.12%\n",
      "\n",
      "Weights saved to semisupervised_results/1000_epochs_adam_1000_samples/weights_*.pth\n"
     ]
    },
    {
     "data": {
      "application/vnd.jupyter.widget-view+json": {
       "model_id": "d4d9af5436774ff6917e37e4c13d1bf0",
       "version_major": 2,
       "version_minor": 0
      },
      "text/plain": [
       "Epoch [802/1000]:   0%|          | 0/10 [00:00<?, ?it/s]"
      ]
     },
     "metadata": {},
     "output_type": "display_data"
    },
    {
     "name": "stdout",
     "output_type": "stream",
     "text": [
      "Epoch 802/1000 — Recon_U: 0.0250, Recon_L: 0.0170, SemiSup: 0.0193, Disc_Cat: 1.3536, Gen_Cat: 0.9022, Disc_Sty: 1.3887, Gen_Sty: 0.6896\n",
      "Validation Accuracy: 94.14%\n",
      "\n",
      "Weights saved to semisupervised_results/1000_epochs_adam_1000_samples/weights_*.pth\n"
     ]
    },
    {
     "data": {
      "application/vnd.jupyter.widget-view+json": {
       "model_id": "c29b0ca4656f42c1bcb893924e7fa928",
       "version_major": 2,
       "version_minor": 0
      },
      "text/plain": [
       "Epoch [803/1000]:   0%|          | 0/10 [00:00<?, ?it/s]"
      ]
     },
     "metadata": {},
     "output_type": "display_data"
    },
    {
     "name": "stdout",
     "output_type": "stream",
     "text": [
      "Epoch 803/1000 — Recon_U: 0.0241, Recon_L: 0.0169, SemiSup: 0.0121, Disc_Cat: 1.3435, Gen_Cat: 0.9089, Disc_Sty: 1.3843, Gen_Sty: 0.6992\n",
      "Validation Accuracy: 94.14%\n",
      "\n",
      "Weights saved to semisupervised_results/1000_epochs_adam_1000_samples/weights_*.pth\n"
     ]
    },
    {
     "data": {
      "application/vnd.jupyter.widget-view+json": {
       "model_id": "dd88b2feefb846c5901b8c636c61bea8",
       "version_major": 2,
       "version_minor": 0
      },
      "text/plain": [
       "Epoch [804/1000]:   0%|          | 0/10 [00:00<?, ?it/s]"
      ]
     },
     "metadata": {},
     "output_type": "display_data"
    },
    {
     "name": "stdout",
     "output_type": "stream",
     "text": [
      "Epoch 804/1000 — Recon_U: 0.0246, Recon_L: 0.0169, SemiSup: 0.0031, Disc_Cat: 1.3488, Gen_Cat: 0.8608, Disc_Sty: 1.3807, Gen_Sty: 0.7082\n",
      "Validation Accuracy: 94.12%\n",
      "\n",
      "Weights saved to semisupervised_results/1000_epochs_adam_1000_samples/weights_*.pth\n"
     ]
    },
    {
     "data": {
      "application/vnd.jupyter.widget-view+json": {
       "model_id": "94ef009663ff451583b87b55992835c5",
       "version_major": 2,
       "version_minor": 0
      },
      "text/plain": [
       "Epoch [805/1000]:   0%|          | 0/10 [00:00<?, ?it/s]"
      ]
     },
     "metadata": {},
     "output_type": "display_data"
    },
    {
     "name": "stdout",
     "output_type": "stream",
     "text": [
      "Epoch 805/1000 — Recon_U: 0.0239, Recon_L: 0.0169, SemiSup: 0.0074, Disc_Cat: 1.3451, Gen_Cat: 0.9007, Disc_Sty: 1.3795, Gen_Sty: 0.7122\n",
      "Validation Accuracy: 94.10%\n",
      "\n",
      "Weights saved to semisupervised_results/1000_epochs_adam_1000_samples/weights_*.pth\n"
     ]
    },
    {
     "data": {
      "application/vnd.jupyter.widget-view+json": {
       "model_id": "7804d3e05cc943ff8d4e087ffefae560",
       "version_major": 2,
       "version_minor": 0
      },
      "text/plain": [
       "Epoch [806/1000]:   0%|          | 0/10 [00:00<?, ?it/s]"
      ]
     },
     "metadata": {},
     "output_type": "display_data"
    },
    {
     "name": "stdout",
     "output_type": "stream",
     "text": [
      "Epoch 806/1000 — Recon_U: 0.0248, Recon_L: 0.0171, SemiSup: 0.0006, Disc_Cat: 1.3488, Gen_Cat: 0.9114, Disc_Sty: 1.3880, Gen_Sty: 0.7072\n",
      "Validation Accuracy: 94.10%\n",
      "\n",
      "Weights saved to semisupervised_results/1000_epochs_adam_1000_samples/weights_*.pth\n"
     ]
    },
    {
     "data": {
      "application/vnd.jupyter.widget-view+json": {
       "model_id": "86f9b59daaeb4f208988f891200d9665",
       "version_major": 2,
       "version_minor": 0
      },
      "text/plain": [
       "Epoch [807/1000]:   0%|          | 0/10 [00:00<?, ?it/s]"
      ]
     },
     "metadata": {},
     "output_type": "display_data"
    },
    {
     "name": "stdout",
     "output_type": "stream",
     "text": [
      "Epoch 807/1000 — Recon_U: 0.0239, Recon_L: 0.0170, SemiSup: 0.0037, Disc_Cat: 1.3353, Gen_Cat: 0.9631, Disc_Sty: 1.3915, Gen_Sty: 0.6994\n",
      "Validation Accuracy: 94.05%\n",
      "\n",
      "Weights saved to semisupervised_results/1000_epochs_adam_1000_samples/weights_*.pth\n"
     ]
    },
    {
     "data": {
      "application/vnd.jupyter.widget-view+json": {
       "model_id": "0925ea8bd24d4948a910f51783e22e99",
       "version_major": 2,
       "version_minor": 0
      },
      "text/plain": [
       "Epoch [808/1000]:   0%|          | 0/10 [00:00<?, ?it/s]"
      ]
     },
     "metadata": {},
     "output_type": "display_data"
    },
    {
     "name": "stdout",
     "output_type": "stream",
     "text": [
      "Epoch 808/1000 — Recon_U: 0.0249, Recon_L: 0.0171, SemiSup: 0.0018, Disc_Cat: 1.3418, Gen_Cat: 0.8945, Disc_Sty: 1.3935, Gen_Sty: 0.6936\n",
      "Validation Accuracy: 94.10%\n",
      "\n",
      "Weights saved to semisupervised_results/1000_epochs_adam_1000_samples/weights_*.pth\n"
     ]
    },
    {
     "data": {
      "application/vnd.jupyter.widget-view+json": {
       "model_id": "4006b913d4384e31a1eb30f7767ec647",
       "version_major": 2,
       "version_minor": 0
      },
      "text/plain": [
       "Epoch [809/1000]:   0%|          | 0/10 [00:00<?, ?it/s]"
      ]
     },
     "metadata": {},
     "output_type": "display_data"
    },
    {
     "name": "stdout",
     "output_type": "stream",
     "text": [
      "Epoch 809/1000 — Recon_U: 0.0251, Recon_L: 0.0170, SemiSup: 0.0016, Disc_Cat: 1.3438, Gen_Cat: 0.9353, Disc_Sty: 1.3904, Gen_Sty: 0.6906\n",
      "Validation Accuracy: 94.10%\n",
      "\n",
      "Weights saved to semisupervised_results/1000_epochs_adam_1000_samples/weights_*.pth\n"
     ]
    },
    {
     "data": {
      "application/vnd.jupyter.widget-view+json": {
       "model_id": "bfa5067c6b614dd7a7789a2134353734",
       "version_major": 2,
       "version_minor": 0
      },
      "text/plain": [
       "Epoch [810/1000]:   0%|          | 0/10 [00:00<?, ?it/s]"
      ]
     },
     "metadata": {},
     "output_type": "display_data"
    },
    {
     "name": "stdout",
     "output_type": "stream",
     "text": [
      "Epoch 810/1000 — Recon_U: 0.0242, Recon_L: 0.0170, SemiSup: 0.0222, Disc_Cat: 1.3357, Gen_Cat: 0.9492, Disc_Sty: 1.3855, Gen_Sty: 0.6905\n",
      "Validation Accuracy: 94.10%\n",
      "\n",
      "Weights saved to semisupervised_results/1000_epochs_adam_1000_samples/weights_*.pth\n"
     ]
    },
    {
     "data": {
      "application/vnd.jupyter.widget-view+json": {
       "model_id": "13ce7aa8dacc43e8995d915fc8aadb4a",
       "version_major": 2,
       "version_minor": 0
      },
      "text/plain": [
       "Epoch [811/1000]:   0%|          | 0/10 [00:00<?, ?it/s]"
      ]
     },
     "metadata": {},
     "output_type": "display_data"
    },
    {
     "name": "stdout",
     "output_type": "stream",
     "text": [
      "Epoch 811/1000 — Recon_U: 0.0244, Recon_L: 0.0168, SemiSup: 0.0041, Disc_Cat: 1.3517, Gen_Cat: 0.9250, Disc_Sty: 1.3810, Gen_Sty: 0.6914\n",
      "Validation Accuracy: 94.07%\n",
      "\n",
      "Weights saved to semisupervised_results/1000_epochs_adam_1000_samples/weights_*.pth\n"
     ]
    },
    {
     "data": {
      "application/vnd.jupyter.widget-view+json": {
       "model_id": "c36f5244dfed46068630e4b0ec4e1645",
       "version_major": 2,
       "version_minor": 0
      },
      "text/plain": [
       "Epoch [812/1000]:   0%|          | 0/10 [00:00<?, ?it/s]"
      ]
     },
     "metadata": {},
     "output_type": "display_data"
    },
    {
     "name": "stdout",
     "output_type": "stream",
     "text": [
      "Epoch 812/1000 — Recon_U: 0.0246, Recon_L: 0.0169, SemiSup: 0.0041, Disc_Cat: 1.3452, Gen_Cat: 0.9002, Disc_Sty: 1.3802, Gen_Sty: 0.6899\n",
      "Validation Accuracy: 94.07%\n",
      "\n",
      "Weights saved to semisupervised_results/1000_epochs_adam_1000_samples/weights_*.pth\n"
     ]
    },
    {
     "data": {
      "application/vnd.jupyter.widget-view+json": {
       "model_id": "1339a3a5e1cb41059ce046179e16fafd",
       "version_major": 2,
       "version_minor": 0
      },
      "text/plain": [
       "Epoch [813/1000]:   0%|          | 0/10 [00:00<?, ?it/s]"
      ]
     },
     "metadata": {},
     "output_type": "display_data"
    },
    {
     "name": "stdout",
     "output_type": "stream",
     "text": [
      "Epoch 813/1000 — Recon_U: 0.0249, Recon_L: 0.0169, SemiSup: 0.0145, Disc_Cat: 1.3433, Gen_Cat: 0.9254, Disc_Sty: 1.3822, Gen_Sty: 0.6857\n",
      "Validation Accuracy: 94.14%\n",
      "\n",
      "Weights saved to semisupervised_results/1000_epochs_adam_1000_samples/weights_*.pth\n"
     ]
    },
    {
     "data": {
      "application/vnd.jupyter.widget-view+json": {
       "model_id": "7c5089ea26044d8991972e7bdbe61042",
       "version_major": 2,
       "version_minor": 0
      },
      "text/plain": [
       "Epoch [814/1000]:   0%|          | 0/10 [00:00<?, ?it/s]"
      ]
     },
     "metadata": {},
     "output_type": "display_data"
    },
    {
     "name": "stdout",
     "output_type": "stream",
     "text": [
      "Epoch 814/1000 — Recon_U: 0.0243, Recon_L: 0.0169, SemiSup: 0.0176, Disc_Cat: 1.3461, Gen_Cat: 0.9124, Disc_Sty: 1.3889, Gen_Sty: 0.6815\n",
      "Validation Accuracy: 94.12%\n",
      "\n",
      "Weights saved to semisupervised_results/1000_epochs_adam_1000_samples/weights_*.pth\n"
     ]
    },
    {
     "data": {
      "application/vnd.jupyter.widget-view+json": {
       "model_id": "a463eabbfb714cfdbb5b2e06d79f94c6",
       "version_major": 2,
       "version_minor": 0
      },
      "text/plain": [
       "Epoch [815/1000]:   0%|          | 0/10 [00:00<?, ?it/s]"
      ]
     },
     "metadata": {},
     "output_type": "display_data"
    },
    {
     "name": "stdout",
     "output_type": "stream",
     "text": [
      "Epoch 815/1000 — Recon_U: 0.0240, Recon_L: 0.0170, SemiSup: 0.0042, Disc_Cat: 1.3330, Gen_Cat: 0.9670, Disc_Sty: 1.3906, Gen_Sty: 0.6809\n",
      "Validation Accuracy: 94.14%\n",
      "\n",
      "Weights saved to semisupervised_results/1000_epochs_adam_1000_samples/weights_*.pth\n"
     ]
    },
    {
     "data": {
      "application/vnd.jupyter.widget-view+json": {
       "model_id": "13ae6686cb364fbba8ddbf5eac877cb5",
       "version_major": 2,
       "version_minor": 0
      },
      "text/plain": [
       "Epoch [816/1000]:   0%|          | 0/10 [00:00<?, ?it/s]"
      ]
     },
     "metadata": {},
     "output_type": "display_data"
    },
    {
     "name": "stdout",
     "output_type": "stream",
     "text": [
      "Epoch 816/1000 — Recon_U: 0.0252, Recon_L: 0.0171, SemiSup: 0.0104, Disc_Cat: 1.3458, Gen_Cat: 0.9127, Disc_Sty: 1.3914, Gen_Sty: 0.6850\n",
      "Validation Accuracy: 94.07%\n",
      "\n",
      "Weights saved to semisupervised_results/1000_epochs_adam_1000_samples/weights_*.pth\n"
     ]
    },
    {
     "data": {
      "application/vnd.jupyter.widget-view+json": {
       "model_id": "9c63f97e138e45ff99b5b7a7c42a1b85",
       "version_major": 2,
       "version_minor": 0
      },
      "text/plain": [
       "Epoch [817/1000]:   0%|          | 0/10 [00:00<?, ?it/s]"
      ]
     },
     "metadata": {},
     "output_type": "display_data"
    },
    {
     "name": "stdout",
     "output_type": "stream",
     "text": [
      "Epoch 817/1000 — Recon_U: 0.0240, Recon_L: 0.0170, SemiSup: 0.0072, Disc_Cat: 1.3406, Gen_Cat: 0.9311, Disc_Sty: 1.3872, Gen_Sty: 0.6967\n",
      "Validation Accuracy: 94.10%\n",
      "\n",
      "Weights saved to semisupervised_results/1000_epochs_adam_1000_samples/weights_*.pth\n"
     ]
    },
    {
     "data": {
      "application/vnd.jupyter.widget-view+json": {
       "model_id": "2ee45f572e5e4621b099a1613dec1dfe",
       "version_major": 2,
       "version_minor": 0
      },
      "text/plain": [
       "Epoch [818/1000]:   0%|          | 0/10 [00:00<?, ?it/s]"
      ]
     },
     "metadata": {},
     "output_type": "display_data"
    },
    {
     "name": "stdout",
     "output_type": "stream",
     "text": [
      "Epoch 818/1000 — Recon_U: 0.0253, Recon_L: 0.0171, SemiSup: 0.0040, Disc_Cat: 1.3483, Gen_Cat: 0.9243, Disc_Sty: 1.3811, Gen_Sty: 0.7085\n",
      "Validation Accuracy: 94.14%\n",
      "\n",
      "Weights saved to semisupervised_results/1000_epochs_adam_1000_samples/weights_*.pth\n"
     ]
    },
    {
     "data": {
      "application/vnd.jupyter.widget-view+json": {
       "model_id": "46ad7c26c23c4825bb3e5d21bc1aa7c3",
       "version_major": 2,
       "version_minor": 0
      },
      "text/plain": [
       "Epoch [819/1000]:   0%|          | 0/10 [00:00<?, ?it/s]"
      ]
     },
     "metadata": {},
     "output_type": "display_data"
    },
    {
     "name": "stdout",
     "output_type": "stream",
     "text": [
      "Epoch 819/1000 — Recon_U: 0.0243, Recon_L: 0.0173, SemiSup: 0.0026, Disc_Cat: 1.3457, Gen_Cat: 0.8907, Disc_Sty: 1.3834, Gen_Sty: 0.7106\n",
      "Validation Accuracy: 94.14%\n",
      "\n",
      "Weights saved to semisupervised_results/1000_epochs_adam_1000_samples/weights_*.pth\n"
     ]
    },
    {
     "data": {
      "application/vnd.jupyter.widget-view+json": {
       "model_id": "33089830fde14aa0a2aa178436ca56a7",
       "version_major": 2,
       "version_minor": 0
      },
      "text/plain": [
       "Epoch [820/1000]:   0%|          | 0/10 [00:00<?, ?it/s]"
      ]
     },
     "metadata": {},
     "output_type": "display_data"
    },
    {
     "name": "stdout",
     "output_type": "stream",
     "text": [
      "Epoch 820/1000 — Recon_U: 0.0246, Recon_L: 0.0173, SemiSup: 0.0110, Disc_Cat: 1.3429, Gen_Cat: 0.8916, Disc_Sty: 1.3896, Gen_Sty: 0.7037\n",
      "Validation Accuracy: 94.10%\n",
      "\n",
      "Weights saved to semisupervised_results/1000_epochs_adam_1000_samples/weights_*.pth\n"
     ]
    },
    {
     "data": {
      "application/vnd.jupyter.widget-view+json": {
       "model_id": "565fbd8201b847fa834190cd4c87be3d",
       "version_major": 2,
       "version_minor": 0
      },
      "text/plain": [
       "Epoch [821/1000]:   0%|          | 0/10 [00:00<?, ?it/s]"
      ]
     },
     "metadata": {},
     "output_type": "display_data"
    },
    {
     "name": "stdout",
     "output_type": "stream",
     "text": [
      "Epoch 821/1000 — Recon_U: 0.0256, Recon_L: 0.0172, SemiSup: 0.0078, Disc_Cat: 1.3295, Gen_Cat: 0.9906, Disc_Sty: 1.3896, Gen_Sty: 0.6992\n",
      "Validation Accuracy: 94.12%\n",
      "\n",
      "Weights saved to semisupervised_results/1000_epochs_adam_1000_samples/weights_*.pth\n"
     ]
    },
    {
     "data": {
      "application/vnd.jupyter.widget-view+json": {
       "model_id": "882f9c48ab9841c88cf53c7253dea91e",
       "version_major": 2,
       "version_minor": 0
      },
      "text/plain": [
       "Epoch [822/1000]:   0%|          | 0/10 [00:00<?, ?it/s]"
      ]
     },
     "metadata": {},
     "output_type": "display_data"
    },
    {
     "name": "stdout",
     "output_type": "stream",
     "text": [
      "Epoch 822/1000 — Recon_U: 0.0245, Recon_L: 0.0170, SemiSup: 0.0055, Disc_Cat: 1.3388, Gen_Cat: 0.9675, Disc_Sty: 1.3898, Gen_Sty: 0.6929\n",
      "Validation Accuracy: 94.15%\n",
      "\n",
      "Weights saved to semisupervised_results/1000_epochs_adam_1000_samples/weights_*.pth\n"
     ]
    },
    {
     "data": {
      "application/vnd.jupyter.widget-view+json": {
       "model_id": "b35976e559e24e7ab263a831d41378c8",
       "version_major": 2,
       "version_minor": 0
      },
      "text/plain": [
       "Epoch [823/1000]:   0%|          | 0/10 [00:00<?, ?it/s]"
      ]
     },
     "metadata": {},
     "output_type": "display_data"
    },
    {
     "name": "stdout",
     "output_type": "stream",
     "text": [
      "Epoch 823/1000 — Recon_U: 0.0240, Recon_L: 0.0170, SemiSup: 0.0020, Disc_Cat: 1.3371, Gen_Cat: 0.9476, Disc_Sty: 1.3914, Gen_Sty: 0.6875\n",
      "Validation Accuracy: 94.19%\n",
      "\n",
      "Weights saved to semisupervised_results/1000_epochs_adam_1000_samples/weights_*.pth\n"
     ]
    },
    {
     "data": {
      "application/vnd.jupyter.widget-view+json": {
       "model_id": "86ec1992bc1441f88aa601e474a91af3",
       "version_major": 2,
       "version_minor": 0
      },
      "text/plain": [
       "Epoch [824/1000]:   0%|          | 0/10 [00:00<?, ?it/s]"
      ]
     },
     "metadata": {},
     "output_type": "display_data"
    },
    {
     "name": "stdout",
     "output_type": "stream",
     "text": [
      "Epoch 824/1000 — Recon_U: 0.0246, Recon_L: 0.0170, SemiSup: 0.0082, Disc_Cat: 1.3352, Gen_Cat: 0.9479, Disc_Sty: 1.3913, Gen_Sty: 0.6844\n",
      "Validation Accuracy: 94.08%\n",
      "\n",
      "Weights saved to semisupervised_results/1000_epochs_adam_1000_samples/weights_*.pth\n"
     ]
    },
    {
     "data": {
      "application/vnd.jupyter.widget-view+json": {
       "model_id": "24a2a11c891e43e6928e377bf9743761",
       "version_major": 2,
       "version_minor": 0
      },
      "text/plain": [
       "Epoch [825/1000]:   0%|          | 0/10 [00:00<?, ?it/s]"
      ]
     },
     "metadata": {},
     "output_type": "display_data"
    },
    {
     "name": "stdout",
     "output_type": "stream",
     "text": [
      "Epoch 825/1000 — Recon_U: 0.0240, Recon_L: 0.0169, SemiSup: 0.0053, Disc_Cat: 1.3473, Gen_Cat: 0.9196, Disc_Sty: 1.3914, Gen_Sty: 0.6852\n",
      "Validation Accuracy: 94.07%\n",
      "\n",
      "Weights saved to semisupervised_results/1000_epochs_adam_1000_samples/weights_*.pth\n"
     ]
    },
    {
     "data": {
      "application/vnd.jupyter.widget-view+json": {
       "model_id": "c5e621530efb48e8a6386488aeb9030d",
       "version_major": 2,
       "version_minor": 0
      },
      "text/plain": [
       "Epoch [826/1000]:   0%|          | 0/10 [00:00<?, ?it/s]"
      ]
     },
     "metadata": {},
     "output_type": "display_data"
    },
    {
     "name": "stdout",
     "output_type": "stream",
     "text": [
      "Epoch 826/1000 — Recon_U: 0.0239, Recon_L: 0.0170, SemiSup: 0.0012, Disc_Cat: 1.3345, Gen_Cat: 0.9269, Disc_Sty: 1.3869, Gen_Sty: 0.6897\n",
      "Validation Accuracy: 94.07%\n",
      "\n",
      "Weights saved to semisupervised_results/1000_epochs_adam_1000_samples/weights_*.pth\n"
     ]
    },
    {
     "data": {
      "application/vnd.jupyter.widget-view+json": {
       "model_id": "d6434521eaa44631bbdc783751d97a96",
       "version_major": 2,
       "version_minor": 0
      },
      "text/plain": [
       "Epoch [827/1000]:   0%|          | 0/10 [00:00<?, ?it/s]"
      ]
     },
     "metadata": {},
     "output_type": "display_data"
    },
    {
     "name": "stdout",
     "output_type": "stream",
     "text": [
      "Epoch 827/1000 — Recon_U: 0.0247, Recon_L: 0.0170, SemiSup: 0.0207, Disc_Cat: 1.3357, Gen_Cat: 1.0085, Disc_Sty: 1.3855, Gen_Sty: 0.6916\n",
      "Validation Accuracy: 94.05%\n",
      "\n",
      "Weights saved to semisupervised_results/1000_epochs_adam_1000_samples/weights_*.pth\n"
     ]
    },
    {
     "data": {
      "application/vnd.jupyter.widget-view+json": {
       "model_id": "edb76027280346638530b2eb2b152c63",
       "version_major": 2,
       "version_minor": 0
      },
      "text/plain": [
       "Epoch [828/1000]:   0%|          | 0/10 [00:00<?, ?it/s]"
      ]
     },
     "metadata": {},
     "output_type": "display_data"
    },
    {
     "name": "stdout",
     "output_type": "stream",
     "text": [
      "Epoch 828/1000 — Recon_U: 0.0249, Recon_L: 0.0169, SemiSup: 0.0095, Disc_Cat: 1.3462, Gen_Cat: 0.9096, Disc_Sty: 1.3881, Gen_Sty: 0.6898\n",
      "Validation Accuracy: 94.10%\n",
      "\n",
      "Weights saved to semisupervised_results/1000_epochs_adam_1000_samples/weights_*.pth\n"
     ]
    },
    {
     "data": {
      "application/vnd.jupyter.widget-view+json": {
       "model_id": "dddaef353845402e9127e464a0592413",
       "version_major": 2,
       "version_minor": 0
      },
      "text/plain": [
       "Epoch [829/1000]:   0%|          | 0/10 [00:00<?, ?it/s]"
      ]
     },
     "metadata": {},
     "output_type": "display_data"
    },
    {
     "name": "stdout",
     "output_type": "stream",
     "text": [
      "Epoch 829/1000 — Recon_U: 0.0250, Recon_L: 0.0169, SemiSup: 0.0039, Disc_Cat: 1.3352, Gen_Cat: 0.9245, Disc_Sty: 1.3912, Gen_Sty: 0.6885\n",
      "Validation Accuracy: 94.07%\n",
      "\n",
      "Weights saved to semisupervised_results/1000_epochs_adam_1000_samples/weights_*.pth\n"
     ]
    },
    {
     "data": {
      "application/vnd.jupyter.widget-view+json": {
       "model_id": "a829dc2a94494e3eb065a36724b8d234",
       "version_major": 2,
       "version_minor": 0
      },
      "text/plain": [
       "Epoch [830/1000]:   0%|          | 0/10 [00:00<?, ?it/s]"
      ]
     },
     "metadata": {},
     "output_type": "display_data"
    },
    {
     "name": "stdout",
     "output_type": "stream",
     "text": [
      "Epoch 830/1000 — Recon_U: 0.0242, Recon_L: 0.0170, SemiSup: 0.0090, Disc_Cat: 1.3407, Gen_Cat: 0.9593, Disc_Sty: 1.3918, Gen_Sty: 0.6879\n",
      "Validation Accuracy: 94.03%\n",
      "\n",
      "Weights saved to semisupervised_results/1000_epochs_adam_1000_samples/weights_*.pth\n"
     ]
    },
    {
     "data": {
      "application/vnd.jupyter.widget-view+json": {
       "model_id": "417daccc03e74bc7926d5849481b57f7",
       "version_major": 2,
       "version_minor": 0
      },
      "text/plain": [
       "Epoch [831/1000]:   0%|          | 0/10 [00:00<?, ?it/s]"
      ]
     },
     "metadata": {},
     "output_type": "display_data"
    },
    {
     "name": "stdout",
     "output_type": "stream",
     "text": [
      "Epoch 831/1000 — Recon_U: 0.0240, Recon_L: 0.0169, SemiSup: 0.0221, Disc_Cat: 1.3335, Gen_Cat: 0.9537, Disc_Sty: 1.3934, Gen_Sty: 0.6871\n",
      "Validation Accuracy: 94.08%\n",
      "\n",
      "Weights saved to semisupervised_results/1000_epochs_adam_1000_samples/weights_*.pth\n"
     ]
    },
    {
     "data": {
      "application/vnd.jupyter.widget-view+json": {
       "model_id": "a92a11b447764601a042bdbd42c03ef1",
       "version_major": 2,
       "version_minor": 0
      },
      "text/plain": [
       "Epoch [832/1000]:   0%|          | 0/10 [00:00<?, ?it/s]"
      ]
     },
     "metadata": {},
     "output_type": "display_data"
    },
    {
     "name": "stdout",
     "output_type": "stream",
     "text": [
      "Epoch 832/1000 — Recon_U: 0.0235, Recon_L: 0.0170, SemiSup: 0.0285, Disc_Cat: 1.3383, Gen_Cat: 0.9423, Disc_Sty: 1.3890, Gen_Sty: 0.6896\n",
      "Validation Accuracy: 94.05%\n",
      "\n",
      "Weights saved to semisupervised_results/1000_epochs_adam_1000_samples/weights_*.pth\n"
     ]
    },
    {
     "data": {
      "application/vnd.jupyter.widget-view+json": {
       "model_id": "81787c4930574c5c863ba61504fb1651",
       "version_major": 2,
       "version_minor": 0
      },
      "text/plain": [
       "Epoch [833/1000]:   0%|          | 0/10 [00:00<?, ?it/s]"
      ]
     },
     "metadata": {},
     "output_type": "display_data"
    },
    {
     "name": "stdout",
     "output_type": "stream",
     "text": [
      "Epoch 833/1000 — Recon_U: 0.0245, Recon_L: 0.0169, SemiSup: 0.0120, Disc_Cat: 1.3387, Gen_Cat: 0.9267, Disc_Sty: 1.3876, Gen_Sty: 0.6918\n",
      "Validation Accuracy: 94.15%\n",
      "\n",
      "Weights saved to semisupervised_results/1000_epochs_adam_1000_samples/weights_*.pth\n"
     ]
    },
    {
     "data": {
      "application/vnd.jupyter.widget-view+json": {
       "model_id": "b725eebc31a84ffcafcc63aca99f7c4d",
       "version_major": 2,
       "version_minor": 0
      },
      "text/plain": [
       "Epoch [834/1000]:   0%|          | 0/10 [00:00<?, ?it/s]"
      ]
     },
     "metadata": {},
     "output_type": "display_data"
    },
    {
     "name": "stdout",
     "output_type": "stream",
     "text": [
      "Epoch 834/1000 — Recon_U: 0.0245, Recon_L: 0.0167, SemiSup: 0.0095, Disc_Cat: 1.3400, Gen_Cat: 0.9322, Disc_Sty: 1.3870, Gen_Sty: 0.6944\n",
      "Validation Accuracy: 94.08%\n",
      "\n",
      "Weights saved to semisupervised_results/1000_epochs_adam_1000_samples/weights_*.pth\n"
     ]
    },
    {
     "data": {
      "application/vnd.jupyter.widget-view+json": {
       "model_id": "069727951bca443490ffb82dee5688c6",
       "version_major": 2,
       "version_minor": 0
      },
      "text/plain": [
       "Epoch [835/1000]:   0%|          | 0/10 [00:00<?, ?it/s]"
      ]
     },
     "metadata": {},
     "output_type": "display_data"
    },
    {
     "name": "stdout",
     "output_type": "stream",
     "text": [
      "Epoch 835/1000 — Recon_U: 0.0244, Recon_L: 0.0167, SemiSup: 0.0082, Disc_Cat: 1.3405, Gen_Cat: 0.9178, Disc_Sty: 1.3827, Gen_Sty: 0.6990\n",
      "Validation Accuracy: 94.02%\n",
      "\n",
      "Weights saved to semisupervised_results/1000_epochs_adam_1000_samples/weights_*.pth\n"
     ]
    },
    {
     "data": {
      "application/vnd.jupyter.widget-view+json": {
       "model_id": "be3369c47dc34283adffa704827dd696",
       "version_major": 2,
       "version_minor": 0
      },
      "text/plain": [
       "Epoch [836/1000]:   0%|          | 0/10 [00:00<?, ?it/s]"
      ]
     },
     "metadata": {},
     "output_type": "display_data"
    },
    {
     "name": "stdout",
     "output_type": "stream",
     "text": [
      "Epoch 836/1000 — Recon_U: 0.0244, Recon_L: 0.0166, SemiSup: 0.0096, Disc_Cat: 1.3477, Gen_Cat: 0.9254, Disc_Sty: 1.3858, Gen_Sty: 0.6981\n",
      "Validation Accuracy: 94.00%\n",
      "\n",
      "Weights saved to semisupervised_results/1000_epochs_adam_1000_samples/weights_*.pth\n"
     ]
    },
    {
     "data": {
      "application/vnd.jupyter.widget-view+json": {
       "model_id": "16c25c0976cc48489df184dba6b07c6a",
       "version_major": 2,
       "version_minor": 0
      },
      "text/plain": [
       "Epoch [837/1000]:   0%|          | 0/10 [00:00<?, ?it/s]"
      ]
     },
     "metadata": {},
     "output_type": "display_data"
    },
    {
     "name": "stdout",
     "output_type": "stream",
     "text": [
      "Epoch 837/1000 — Recon_U: 0.0248, Recon_L: 0.0166, SemiSup: 0.0285, Disc_Cat: 1.3468, Gen_Cat: 0.8971, Disc_Sty: 1.3857, Gen_Sty: 0.6961\n",
      "Validation Accuracy: 93.97%\n",
      "\n",
      "Weights saved to semisupervised_results/1000_epochs_adam_1000_samples/weights_*.pth\n"
     ]
    },
    {
     "data": {
      "application/vnd.jupyter.widget-view+json": {
       "model_id": "2a3c5878b9c34158831776aead6a2c20",
       "version_major": 2,
       "version_minor": 0
      },
      "text/plain": [
       "Epoch [838/1000]:   0%|          | 0/10 [00:00<?, ?it/s]"
      ]
     },
     "metadata": {},
     "output_type": "display_data"
    },
    {
     "name": "stdout",
     "output_type": "stream",
     "text": [
      "Epoch 838/1000 — Recon_U: 0.0239, Recon_L: 0.0167, SemiSup: 0.0122, Disc_Cat: 1.3417, Gen_Cat: 0.9120, Disc_Sty: 1.3867, Gen_Sty: 0.6948\n",
      "Validation Accuracy: 94.02%\n",
      "\n",
      "Weights saved to semisupervised_results/1000_epochs_adam_1000_samples/weights_*.pth\n"
     ]
    },
    {
     "data": {
      "application/vnd.jupyter.widget-view+json": {
       "model_id": "ff2ffa793b9242979838d46a22d339fd",
       "version_major": 2,
       "version_minor": 0
      },
      "text/plain": [
       "Epoch [839/1000]:   0%|          | 0/10 [00:00<?, ?it/s]"
      ]
     },
     "metadata": {},
     "output_type": "display_data"
    },
    {
     "name": "stdout",
     "output_type": "stream",
     "text": [
      "Epoch 839/1000 — Recon_U: 0.0241, Recon_L: 0.0166, SemiSup: 0.0106, Disc_Cat: 1.3342, Gen_Cat: 0.9551, Disc_Sty: 1.3881, Gen_Sty: 0.6906\n",
      "Validation Accuracy: 94.00%\n",
      "\n",
      "Weights saved to semisupervised_results/1000_epochs_adam_1000_samples/weights_*.pth\n"
     ]
    },
    {
     "data": {
      "application/vnd.jupyter.widget-view+json": {
       "model_id": "524cdecafaa846d38f17956d89889eeb",
       "version_major": 2,
       "version_minor": 0
      },
      "text/plain": [
       "Epoch [840/1000]:   0%|          | 0/10 [00:00<?, ?it/s]"
      ]
     },
     "metadata": {},
     "output_type": "display_data"
    },
    {
     "name": "stdout",
     "output_type": "stream",
     "text": [
      "Epoch 840/1000 — Recon_U: 0.0250, Recon_L: 0.0165, SemiSup: 0.0046, Disc_Cat: 1.3455, Gen_Cat: 0.9476, Disc_Sty: 1.3875, Gen_Sty: 0.6889\n",
      "Validation Accuracy: 94.05%\n",
      "\n",
      "Weights saved to semisupervised_results/1000_epochs_adam_1000_samples/weights_*.pth\n"
     ]
    },
    {
     "data": {
      "application/vnd.jupyter.widget-view+json": {
       "model_id": "3ccb1ae60651458e8bc743d332cce146",
       "version_major": 2,
       "version_minor": 0
      },
      "text/plain": [
       "Epoch [841/1000]:   0%|          | 0/10 [00:00<?, ?it/s]"
      ]
     },
     "metadata": {},
     "output_type": "display_data"
    },
    {
     "name": "stdout",
     "output_type": "stream",
     "text": [
      "Epoch 841/1000 — Recon_U: 0.0244, Recon_L: 0.0164, SemiSup: 0.0017, Disc_Cat: 1.3300, Gen_Cat: 0.9684, Disc_Sty: 1.3888, Gen_Sty: 0.6876\n",
      "Validation Accuracy: 94.05%\n",
      "\n",
      "Weights saved to semisupervised_results/1000_epochs_adam_1000_samples/weights_*.pth\n"
     ]
    },
    {
     "data": {
      "application/vnd.jupyter.widget-view+json": {
       "model_id": "d623de1aaee1416f8ddd42f7e674b851",
       "version_major": 2,
       "version_minor": 0
      },
      "text/plain": [
       "Epoch [842/1000]:   0%|          | 0/10 [00:00<?, ?it/s]"
      ]
     },
     "metadata": {},
     "output_type": "display_data"
    },
    {
     "name": "stdout",
     "output_type": "stream",
     "text": [
      "Epoch 842/1000 — Recon_U: 0.0249, Recon_L: 0.0164, SemiSup: 0.0009, Disc_Cat: 1.3383, Gen_Cat: 0.9244, Disc_Sty: 1.3844, Gen_Sty: 0.6889\n",
      "Validation Accuracy: 94.08%\n",
      "\n",
      "Weights saved to semisupervised_results/1000_epochs_adam_1000_samples/weights_*.pth\n"
     ]
    },
    {
     "data": {
      "application/vnd.jupyter.widget-view+json": {
       "model_id": "6dc65ee5ad3b4a20aaee7a44c9f43176",
       "version_major": 2,
       "version_minor": 0
      },
      "text/plain": [
       "Epoch [843/1000]:   0%|          | 0/10 [00:00<?, ?it/s]"
      ]
     },
     "metadata": {},
     "output_type": "display_data"
    },
    {
     "name": "stdout",
     "output_type": "stream",
     "text": [
      "Epoch 843/1000 — Recon_U: 0.0244, Recon_L: 0.0164, SemiSup: 0.0019, Disc_Cat: 1.3474, Gen_Cat: 0.9252, Disc_Sty: 1.3851, Gen_Sty: 0.6890\n",
      "Validation Accuracy: 94.12%\n",
      "\n",
      "Weights saved to semisupervised_results/1000_epochs_adam_1000_samples/weights_*.pth\n"
     ]
    },
    {
     "data": {
      "application/vnd.jupyter.widget-view+json": {
       "model_id": "cb9095fecd48466183b6e77a848f66af",
       "version_major": 2,
       "version_minor": 0
      },
      "text/plain": [
       "Epoch [844/1000]:   0%|          | 0/10 [00:00<?, ?it/s]"
      ]
     },
     "metadata": {},
     "output_type": "display_data"
    },
    {
     "name": "stdout",
     "output_type": "stream",
     "text": [
      "Epoch 844/1000 — Recon_U: 0.0240, Recon_L: 0.0165, SemiSup: 0.0111, Disc_Cat: 1.3451, Gen_Cat: 0.8789, Disc_Sty: 1.3816, Gen_Sty: 0.6942\n",
      "Validation Accuracy: 94.10%\n",
      "\n",
      "Weights saved to semisupervised_results/1000_epochs_adam_1000_samples/weights_*.pth\n"
     ]
    },
    {
     "data": {
      "application/vnd.jupyter.widget-view+json": {
       "model_id": "90240203b8084b9eb62ffa091d193795",
       "version_major": 2,
       "version_minor": 0
      },
      "text/plain": [
       "Epoch [845/1000]:   0%|          | 0/10 [00:00<?, ?it/s]"
      ]
     },
     "metadata": {},
     "output_type": "display_data"
    },
    {
     "name": "stdout",
     "output_type": "stream",
     "text": [
      "Epoch 845/1000 — Recon_U: 0.0241, Recon_L: 0.0163, SemiSup: 0.0053, Disc_Cat: 1.3326, Gen_Cat: 0.9963, Disc_Sty: 1.3808, Gen_Sty: 0.6956\n",
      "Validation Accuracy: 94.07%\n",
      "\n",
      "Weights saved to semisupervised_results/1000_epochs_adam_1000_samples/weights_*.pth\n"
     ]
    },
    {
     "data": {
      "application/vnd.jupyter.widget-view+json": {
       "model_id": "74198389bdf240a5a8fd42adf28b8bf4",
       "version_major": 2,
       "version_minor": 0
      },
      "text/plain": [
       "Epoch [846/1000]:   0%|          | 0/10 [00:00<?, ?it/s]"
      ]
     },
     "metadata": {},
     "output_type": "display_data"
    },
    {
     "name": "stdout",
     "output_type": "stream",
     "text": [
      "Epoch 846/1000 — Recon_U: 0.0245, Recon_L: 0.0164, SemiSup: 0.0024, Disc_Cat: 1.3469, Gen_Cat: 0.8992, Disc_Sty: 1.3815, Gen_Sty: 0.6961\n",
      "Validation Accuracy: 94.15%\n",
      "\n",
      "Weights saved to semisupervised_results/1000_epochs_adam_1000_samples/weights_*.pth\n"
     ]
    },
    {
     "data": {
      "application/vnd.jupyter.widget-view+json": {
       "model_id": "1d138dd4d56c4e39a9fd1d25634e7dbc",
       "version_major": 2,
       "version_minor": 0
      },
      "text/plain": [
       "Epoch [847/1000]:   0%|          | 0/10 [00:00<?, ?it/s]"
      ]
     },
     "metadata": {},
     "output_type": "display_data"
    },
    {
     "name": "stdout",
     "output_type": "stream",
     "text": [
      "Epoch 847/1000 — Recon_U: 0.0243, Recon_L: 0.0165, SemiSup: 0.0120, Disc_Cat: 1.3451, Gen_Cat: 0.9356, Disc_Sty: 1.3871, Gen_Sty: 0.6945\n",
      "Validation Accuracy: 94.14%\n",
      "\n",
      "Weights saved to semisupervised_results/1000_epochs_adam_1000_samples/weights_*.pth\n"
     ]
    },
    {
     "data": {
      "application/vnd.jupyter.widget-view+json": {
       "model_id": "5e2d4267109b448cbf6673f2805fd9e2",
       "version_major": 2,
       "version_minor": 0
      },
      "text/plain": [
       "Epoch [848/1000]:   0%|          | 0/10 [00:00<?, ?it/s]"
      ]
     },
     "metadata": {},
     "output_type": "display_data"
    },
    {
     "name": "stdout",
     "output_type": "stream",
     "text": [
      "Epoch 848/1000 — Recon_U: 0.0245, Recon_L: 0.0165, SemiSup: 0.0135, Disc_Cat: 1.3491, Gen_Cat: 0.9046, Disc_Sty: 1.3882, Gen_Sty: 0.6943\n",
      "Validation Accuracy: 94.10%\n",
      "\n",
      "Weights saved to semisupervised_results/1000_epochs_adam_1000_samples/weights_*.pth\n"
     ]
    },
    {
     "data": {
      "application/vnd.jupyter.widget-view+json": {
       "model_id": "1e5a1df237904dceacac4d3d93a4d88f",
       "version_major": 2,
       "version_minor": 0
      },
      "text/plain": [
       "Epoch [849/1000]:   0%|          | 0/10 [00:00<?, ?it/s]"
      ]
     },
     "metadata": {},
     "output_type": "display_data"
    },
    {
     "name": "stdout",
     "output_type": "stream",
     "text": [
      "Epoch 849/1000 — Recon_U: 0.0247, Recon_L: 0.0165, SemiSup: 0.0082, Disc_Cat: 1.3447, Gen_Cat: 0.8938, Disc_Sty: 1.3890, Gen_Sty: 0.6942\n",
      "Validation Accuracy: 94.08%\n",
      "\n",
      "Weights saved to semisupervised_results/1000_epochs_adam_1000_samples/weights_*.pth\n"
     ]
    },
    {
     "data": {
      "application/vnd.jupyter.widget-view+json": {
       "model_id": "f85d8e6ddbcb4e15b7899b3311c0a070",
       "version_major": 2,
       "version_minor": 0
      },
      "text/plain": [
       "Epoch [850/1000]:   0%|          | 0/10 [00:00<?, ?it/s]"
      ]
     },
     "metadata": {},
     "output_type": "display_data"
    },
    {
     "name": "stdout",
     "output_type": "stream",
     "text": [
      "Epoch 850/1000 — Recon_U: 0.0242, Recon_L: 0.0166, SemiSup: 0.0009, Disc_Cat: 1.3435, Gen_Cat: 0.9321, Disc_Sty: 1.3880, Gen_Sty: 0.6959\n",
      "Validation Accuracy: 93.98%\n",
      "\n",
      "Weights saved to semisupervised_results/1000_epochs_adam_1000_samples/weights_epoch_850/weights_*.pth\n",
      "Weights saved to semisupervised_results/1000_epochs_adam_1000_samples/weights_*.pth\n"
     ]
    },
    {
     "data": {
      "application/vnd.jupyter.widget-view+json": {
       "model_id": "b5102916cc02480a9d2384d6378ab4f3",
       "version_major": 2,
       "version_minor": 0
      },
      "text/plain": [
       "Epoch [851/1000]:   0%|          | 0/10 [00:00<?, ?it/s]"
      ]
     },
     "metadata": {},
     "output_type": "display_data"
    },
    {
     "name": "stdout",
     "output_type": "stream",
     "text": [
      "Epoch 851/1000 — Recon_U: 0.0249, Recon_L: 0.0165, SemiSup: 0.0001, Disc_Cat: 1.3327, Gen_Cat: 0.9662, Disc_Sty: 1.3879, Gen_Sty: 0.6988\n",
      "Validation Accuracy: 94.03%\n",
      "\n",
      "Weights saved to semisupervised_results/1000_epochs_adam_1000_samples/weights_*.pth\n"
     ]
    },
    {
     "data": {
      "application/vnd.jupyter.widget-view+json": {
       "model_id": "2636d28bce5449ca8965e11e04130950",
       "version_major": 2,
       "version_minor": 0
      },
      "text/plain": [
       "Epoch [852/1000]:   0%|          | 0/10 [00:00<?, ?it/s]"
      ]
     },
     "metadata": {},
     "output_type": "display_data"
    },
    {
     "name": "stdout",
     "output_type": "stream",
     "text": [
      "Epoch 852/1000 — Recon_U: 0.0240, Recon_L: 0.0164, SemiSup: 0.0224, Disc_Cat: 1.3381, Gen_Cat: 0.9733, Disc_Sty: 1.3859, Gen_Sty: 0.7016\n",
      "Validation Accuracy: 94.03%\n",
      "\n",
      "Weights saved to semisupervised_results/1000_epochs_adam_1000_samples/weights_*.pth\n"
     ]
    },
    {
     "data": {
      "application/vnd.jupyter.widget-view+json": {
       "model_id": "c2d602315aa14cca91630e6d30cd915b",
       "version_major": 2,
       "version_minor": 0
      },
      "text/plain": [
       "Epoch [853/1000]:   0%|          | 0/10 [00:00<?, ?it/s]"
      ]
     },
     "metadata": {},
     "output_type": "display_data"
    },
    {
     "name": "stdout",
     "output_type": "stream",
     "text": [
      "Epoch 853/1000 — Recon_U: 0.0245, Recon_L: 0.0167, SemiSup: 0.0029, Disc_Cat: 1.3549, Gen_Cat: 0.8830, Disc_Sty: 1.3845, Gen_Sty: 0.7009\n",
      "Validation Accuracy: 94.03%\n",
      "\n",
      "Weights saved to semisupervised_results/1000_epochs_adam_1000_samples/weights_*.pth\n"
     ]
    },
    {
     "data": {
      "application/vnd.jupyter.widget-view+json": {
       "model_id": "f884308f31e0418ebe286bc19e4f1836",
       "version_major": 2,
       "version_minor": 0
      },
      "text/plain": [
       "Epoch [854/1000]:   0%|          | 0/10 [00:00<?, ?it/s]"
      ]
     },
     "metadata": {},
     "output_type": "display_data"
    },
    {
     "name": "stdout",
     "output_type": "stream",
     "text": [
      "Epoch 854/1000 — Recon_U: 0.0238, Recon_L: 0.0165, SemiSup: 0.0009, Disc_Cat: 1.3447, Gen_Cat: 0.9503, Disc_Sty: 1.3842, Gen_Sty: 0.7006\n",
      "Validation Accuracy: 94.05%\n",
      "\n",
      "Weights saved to semisupervised_results/1000_epochs_adam_1000_samples/weights_*.pth\n"
     ]
    },
    {
     "data": {
      "application/vnd.jupyter.widget-view+json": {
       "model_id": "f33c6644efcb4f41be9ebeae3066cfea",
       "version_major": 2,
       "version_minor": 0
      },
      "text/plain": [
       "Epoch [855/1000]:   0%|          | 0/10 [00:00<?, ?it/s]"
      ]
     },
     "metadata": {},
     "output_type": "display_data"
    },
    {
     "name": "stdout",
     "output_type": "stream",
     "text": [
      "Epoch 855/1000 — Recon_U: 0.0248, Recon_L: 0.0164, SemiSup: 0.0009, Disc_Cat: 1.3426, Gen_Cat: 0.9452, Disc_Sty: 1.3860, Gen_Sty: 0.6966\n",
      "Validation Accuracy: 94.02%\n",
      "\n",
      "Weights saved to semisupervised_results/1000_epochs_adam_1000_samples/weights_*.pth\n"
     ]
    },
    {
     "data": {
      "application/vnd.jupyter.widget-view+json": {
       "model_id": "2c1fb22a59e7457b9b2f6acd7e218f57",
       "version_major": 2,
       "version_minor": 0
      },
      "text/plain": [
       "Epoch [856/1000]:   0%|          | 0/10 [00:00<?, ?it/s]"
      ]
     },
     "metadata": {},
     "output_type": "display_data"
    },
    {
     "name": "stdout",
     "output_type": "stream",
     "text": [
      "Epoch 856/1000 — Recon_U: 0.0240, Recon_L: 0.0163, SemiSup: 0.0019, Disc_Cat: 1.3414, Gen_Cat: 0.9260, Disc_Sty: 1.3845, Gen_Sty: 0.6929\n",
      "Validation Accuracy: 94.00%\n",
      "\n",
      "Weights saved to semisupervised_results/1000_epochs_adam_1000_samples/weights_*.pth\n"
     ]
    },
    {
     "data": {
      "application/vnd.jupyter.widget-view+json": {
       "model_id": "1373fcebbb8a4f988a12a7fffda5f8b4",
       "version_major": 2,
       "version_minor": 0
      },
      "text/plain": [
       "Epoch [857/1000]:   0%|          | 0/10 [00:00<?, ?it/s]"
      ]
     },
     "metadata": {},
     "output_type": "display_data"
    },
    {
     "name": "stdout",
     "output_type": "stream",
     "text": [
      "Epoch 857/1000 — Recon_U: 0.0239, Recon_L: 0.0163, SemiSup: 0.0080, Disc_Cat: 1.3416, Gen_Cat: 0.9312, Disc_Sty: 1.3866, Gen_Sty: 0.6884\n",
      "Validation Accuracy: 93.93%\n",
      "\n",
      "Weights saved to semisupervised_results/1000_epochs_adam_1000_samples/weights_*.pth\n"
     ]
    },
    {
     "data": {
      "application/vnd.jupyter.widget-view+json": {
       "model_id": "f933392a06a849a69676f9ded1189159",
       "version_major": 2,
       "version_minor": 0
      },
      "text/plain": [
       "Epoch [858/1000]:   0%|          | 0/10 [00:00<?, ?it/s]"
      ]
     },
     "metadata": {},
     "output_type": "display_data"
    },
    {
     "name": "stdout",
     "output_type": "stream",
     "text": [
      "Epoch 858/1000 — Recon_U: 0.0241, Recon_L: 0.0165, SemiSup: 0.0293, Disc_Cat: 1.3436, Gen_Cat: 0.9162, Disc_Sty: 1.3852, Gen_Sty: 0.6871\n",
      "Validation Accuracy: 93.95%\n",
      "\n",
      "Weights saved to semisupervised_results/1000_epochs_adam_1000_samples/weights_*.pth\n"
     ]
    },
    {
     "data": {
      "application/vnd.jupyter.widget-view+json": {
       "model_id": "20339417d27b496e9eae31c921770c66",
       "version_major": 2,
       "version_minor": 0
      },
      "text/plain": [
       "Epoch [859/1000]:   0%|          | 0/10 [00:00<?, ?it/s]"
      ]
     },
     "metadata": {},
     "output_type": "display_data"
    },
    {
     "name": "stdout",
     "output_type": "stream",
     "text": [
      "Epoch 859/1000 — Recon_U: 0.0246, Recon_L: 0.0164, SemiSup: 0.0335, Disc_Cat: 1.3406, Gen_Cat: 0.9305, Disc_Sty: 1.3868, Gen_Sty: 0.6861\n",
      "Validation Accuracy: 93.97%\n",
      "\n",
      "Weights saved to semisupervised_results/1000_epochs_adam_1000_samples/weights_*.pth\n"
     ]
    },
    {
     "data": {
      "application/vnd.jupyter.widget-view+json": {
       "model_id": "1b974594b5734cc4bd85d40ec9e6653e",
       "version_major": 2,
       "version_minor": 0
      },
      "text/plain": [
       "Epoch [860/1000]:   0%|          | 0/10 [00:00<?, ?it/s]"
      ]
     },
     "metadata": {},
     "output_type": "display_data"
    },
    {
     "name": "stdout",
     "output_type": "stream",
     "text": [
      "Epoch 860/1000 — Recon_U: 0.0236, Recon_L: 0.0163, SemiSup: 0.0035, Disc_Cat: 1.3434, Gen_Cat: 0.9357, Disc_Sty: 1.3868, Gen_Sty: 0.6857\n",
      "Validation Accuracy: 93.98%\n",
      "\n",
      "Weights saved to semisupervised_results/1000_epochs_adam_1000_samples/weights_*.pth\n"
     ]
    },
    {
     "data": {
      "application/vnd.jupyter.widget-view+json": {
       "model_id": "b47ae7efbc244b3f8195b9de98a623b1",
       "version_major": 2,
       "version_minor": 0
      },
      "text/plain": [
       "Epoch [861/1000]:   0%|          | 0/10 [00:00<?, ?it/s]"
      ]
     },
     "metadata": {},
     "output_type": "display_data"
    },
    {
     "name": "stdout",
     "output_type": "stream",
     "text": [
      "Epoch 861/1000 — Recon_U: 0.0245, Recon_L: 0.0163, SemiSup: 0.0090, Disc_Cat: 1.3348, Gen_Cat: 0.9213, Disc_Sty: 1.3844, Gen_Sty: 0.6897\n",
      "Validation Accuracy: 93.97%\n",
      "\n",
      "Weights saved to semisupervised_results/1000_epochs_adam_1000_samples/weights_*.pth\n"
     ]
    },
    {
     "data": {
      "application/vnd.jupyter.widget-view+json": {
       "model_id": "37afe728a47442829543e8a63838ab7c",
       "version_major": 2,
       "version_minor": 0
      },
      "text/plain": [
       "Epoch [862/1000]:   0%|          | 0/10 [00:00<?, ?it/s]"
      ]
     },
     "metadata": {},
     "output_type": "display_data"
    },
    {
     "name": "stdout",
     "output_type": "stream",
     "text": [
      "Epoch 862/1000 — Recon_U: 0.0248, Recon_L: 0.0162, SemiSup: 0.0034, Disc_Cat: 1.3449, Gen_Cat: 0.9494, Disc_Sty: 1.3819, Gen_Sty: 0.6923\n",
      "Validation Accuracy: 94.05%\n",
      "\n",
      "Weights saved to semisupervised_results/1000_epochs_adam_1000_samples/weights_*.pth\n"
     ]
    },
    {
     "data": {
      "application/vnd.jupyter.widget-view+json": {
       "model_id": "1d924d8475fa40848bb0e1cff70e34d2",
       "version_major": 2,
       "version_minor": 0
      },
      "text/plain": [
       "Epoch [863/1000]:   0%|          | 0/10 [00:00<?, ?it/s]"
      ]
     },
     "metadata": {},
     "output_type": "display_data"
    },
    {
     "name": "stdout",
     "output_type": "stream",
     "text": [
      "Epoch 863/1000 — Recon_U: 0.0238, Recon_L: 0.0162, SemiSup: 0.0171, Disc_Cat: 1.3537, Gen_Cat: 0.8616, Disc_Sty: 1.3809, Gen_Sty: 0.6944\n",
      "Validation Accuracy: 94.07%\n",
      "\n",
      "Weights saved to semisupervised_results/1000_epochs_adam_1000_samples/weights_*.pth\n"
     ]
    },
    {
     "data": {
      "application/vnd.jupyter.widget-view+json": {
       "model_id": "fa8f40b502a445949da0c1726206ee47",
       "version_major": 2,
       "version_minor": 0
      },
      "text/plain": [
       "Epoch [864/1000]:   0%|          | 0/10 [00:00<?, ?it/s]"
      ]
     },
     "metadata": {},
     "output_type": "display_data"
    },
    {
     "name": "stdout",
     "output_type": "stream",
     "text": [
      "Epoch 864/1000 — Recon_U: 0.0239, Recon_L: 0.0162, SemiSup: 0.0208, Disc_Cat: 1.3469, Gen_Cat: 0.8992, Disc_Sty: 1.3801, Gen_Sty: 0.6960\n",
      "Validation Accuracy: 94.07%\n",
      "\n",
      "Weights saved to semisupervised_results/1000_epochs_adam_1000_samples/weights_*.pth\n"
     ]
    },
    {
     "data": {
      "application/vnd.jupyter.widget-view+json": {
       "model_id": "bd03472fe2b94379943b61859fd702bf",
       "version_major": 2,
       "version_minor": 0
      },
      "text/plain": [
       "Epoch [865/1000]:   0%|          | 0/10 [00:00<?, ?it/s]"
      ]
     },
     "metadata": {},
     "output_type": "display_data"
    },
    {
     "name": "stdout",
     "output_type": "stream",
     "text": [
      "Epoch 865/1000 — Recon_U: 0.0246, Recon_L: 0.0162, SemiSup: 0.0234, Disc_Cat: 1.3433, Gen_Cat: 0.9171, Disc_Sty: 1.3867, Gen_Sty: 0.6922\n",
      "Validation Accuracy: 94.10%\n",
      "\n",
      "Weights saved to semisupervised_results/1000_epochs_adam_1000_samples/weights_*.pth\n"
     ]
    },
    {
     "data": {
      "application/vnd.jupyter.widget-view+json": {
       "model_id": "2ec5bcf2a2d64a8eb99dc34f994122c9",
       "version_major": 2,
       "version_minor": 0
      },
      "text/plain": [
       "Epoch [866/1000]:   0%|          | 0/10 [00:00<?, ?it/s]"
      ]
     },
     "metadata": {},
     "output_type": "display_data"
    },
    {
     "name": "stdout",
     "output_type": "stream",
     "text": [
      "Epoch 866/1000 — Recon_U: 0.0242, Recon_L: 0.0163, SemiSup: 0.0028, Disc_Cat: 1.3400, Gen_Cat: 0.9377, Disc_Sty: 1.3871, Gen_Sty: 0.6912\n",
      "Validation Accuracy: 94.14%\n",
      "\n",
      "Weights saved to semisupervised_results/1000_epochs_adam_1000_samples/weights_*.pth\n"
     ]
    },
    {
     "data": {
      "application/vnd.jupyter.widget-view+json": {
       "model_id": "a108acbd99cb45318bfe17c9d4f56b69",
       "version_major": 2,
       "version_minor": 0
      },
      "text/plain": [
       "Epoch [867/1000]:   0%|          | 0/10 [00:00<?, ?it/s]"
      ]
     },
     "metadata": {},
     "output_type": "display_data"
    },
    {
     "name": "stdout",
     "output_type": "stream",
     "text": [
      "Epoch 867/1000 — Recon_U: 0.0242, Recon_L: 0.0163, SemiSup: 0.0000, Disc_Cat: 1.3386, Gen_Cat: 0.9023, Disc_Sty: 1.3868, Gen_Sty: 0.6916\n",
      "Validation Accuracy: 94.10%\n",
      "\n",
      "Weights saved to semisupervised_results/1000_epochs_adam_1000_samples/weights_*.pth\n"
     ]
    },
    {
     "data": {
      "application/vnd.jupyter.widget-view+json": {
       "model_id": "2cfb64e632a44d32a2b789bc6869a34b",
       "version_major": 2,
       "version_minor": 0
      },
      "text/plain": [
       "Epoch [868/1000]:   0%|          | 0/10 [00:00<?, ?it/s]"
      ]
     },
     "metadata": {},
     "output_type": "display_data"
    },
    {
     "name": "stdout",
     "output_type": "stream",
     "text": [
      "Epoch 868/1000 — Recon_U: 0.0237, Recon_L: 0.0162, SemiSup: 0.0116, Disc_Cat: 1.3293, Gen_Cat: 0.9591, Disc_Sty: 1.3874, Gen_Sty: 0.6939\n",
      "Validation Accuracy: 94.12%\n",
      "\n",
      "Weights saved to semisupervised_results/1000_epochs_adam_1000_samples/weights_*.pth\n"
     ]
    },
    {
     "data": {
      "application/vnd.jupyter.widget-view+json": {
       "model_id": "837a9aa928da4a85990d463c00d41821",
       "version_major": 2,
       "version_minor": 0
      },
      "text/plain": [
       "Epoch [869/1000]:   0%|          | 0/10 [00:00<?, ?it/s]"
      ]
     },
     "metadata": {},
     "output_type": "display_data"
    },
    {
     "name": "stdout",
     "output_type": "stream",
     "text": [
      "Epoch 869/1000 — Recon_U: 0.0245, Recon_L: 0.0162, SemiSup: 0.0010, Disc_Cat: 1.3424, Gen_Cat: 0.9865, Disc_Sty: 1.3828, Gen_Sty: 0.6985\n",
      "Validation Accuracy: 94.15%\n",
      "\n",
      "Weights saved to semisupervised_results/1000_epochs_adam_1000_samples/weights_*.pth\n"
     ]
    },
    {
     "data": {
      "application/vnd.jupyter.widget-view+json": {
       "model_id": "b7e44e9052514907a26873d15506b1dc",
       "version_major": 2,
       "version_minor": 0
      },
      "text/plain": [
       "Epoch [870/1000]:   0%|          | 0/10 [00:00<?, ?it/s]"
      ]
     },
     "metadata": {},
     "output_type": "display_data"
    },
    {
     "name": "stdout",
     "output_type": "stream",
     "text": [
      "Epoch 870/1000 — Recon_U: 0.0238, Recon_L: 0.0162, SemiSup: 0.0091, Disc_Cat: 1.3450, Gen_Cat: 0.9260, Disc_Sty: 1.3837, Gen_Sty: 0.6994\n",
      "Validation Accuracy: 94.15%\n",
      "\n",
      "Weights saved to semisupervised_results/1000_epochs_adam_1000_samples/weights_*.pth\n"
     ]
    },
    {
     "data": {
      "application/vnd.jupyter.widget-view+json": {
       "model_id": "b95e040be932469ebde7188ed290908d",
       "version_major": 2,
       "version_minor": 0
      },
      "text/plain": [
       "Epoch [871/1000]:   0%|          | 0/10 [00:00<?, ?it/s]"
      ]
     },
     "metadata": {},
     "output_type": "display_data"
    },
    {
     "name": "stdout",
     "output_type": "stream",
     "text": [
      "Epoch 871/1000 — Recon_U: 0.0246, Recon_L: 0.0162, SemiSup: 0.0120, Disc_Cat: 1.3421, Gen_Cat: 0.9265, Disc_Sty: 1.3826, Gen_Sty: 0.7000\n",
      "Validation Accuracy: 94.10%\n",
      "\n",
      "Weights saved to semisupervised_results/1000_epochs_adam_1000_samples/weights_*.pth\n"
     ]
    },
    {
     "data": {
      "application/vnd.jupyter.widget-view+json": {
       "model_id": "cc3248a71a4847c4a61d6be6a254a4fb",
       "version_major": 2,
       "version_minor": 0
      },
      "text/plain": [
       "Epoch [872/1000]:   0%|          | 0/10 [00:00<?, ?it/s]"
      ]
     },
     "metadata": {},
     "output_type": "display_data"
    },
    {
     "name": "stdout",
     "output_type": "stream",
     "text": [
      "Epoch 872/1000 — Recon_U: 0.0237, Recon_L: 0.0162, SemiSup: 0.0002, Disc_Cat: 1.3435, Gen_Cat: 0.9297, Disc_Sty: 1.3837, Gen_Sty: 0.6989\n",
      "Validation Accuracy: 94.02%\n",
      "\n",
      "Weights saved to semisupervised_results/1000_epochs_adam_1000_samples/weights_*.pth\n"
     ]
    },
    {
     "data": {
      "application/vnd.jupyter.widget-view+json": {
       "model_id": "2045bebc52f540f7992374a9d207b0a7",
       "version_major": 2,
       "version_minor": 0
      },
      "text/plain": [
       "Epoch [873/1000]:   0%|          | 0/10 [00:00<?, ?it/s]"
      ]
     },
     "metadata": {},
     "output_type": "display_data"
    },
    {
     "name": "stdout",
     "output_type": "stream",
     "text": [
      "Epoch 873/1000 — Recon_U: 0.0242, Recon_L: 0.0163, SemiSup: 0.0349, Disc_Cat: 1.3471, Gen_Cat: 0.8799, Disc_Sty: 1.3864, Gen_Sty: 0.6960\n",
      "Validation Accuracy: 93.93%\n",
      "\n",
      "Weights saved to semisupervised_results/1000_epochs_adam_1000_samples/weights_*.pth\n"
     ]
    },
    {
     "data": {
      "application/vnd.jupyter.widget-view+json": {
       "model_id": "4ffd3f4b6f5e416a8160d71e9a145937",
       "version_major": 2,
       "version_minor": 0
      },
      "text/plain": [
       "Epoch [874/1000]:   0%|          | 0/10 [00:00<?, ?it/s]"
      ]
     },
     "metadata": {},
     "output_type": "display_data"
    },
    {
     "name": "stdout",
     "output_type": "stream",
     "text": [
      "Epoch 874/1000 — Recon_U: 0.0250, Recon_L: 0.0161, SemiSup: 0.0022, Disc_Cat: 1.3354, Gen_Cat: 0.9752, Disc_Sty: 1.3854, Gen_Sty: 0.6937\n",
      "Validation Accuracy: 93.97%\n",
      "\n",
      "Weights saved to semisupervised_results/1000_epochs_adam_1000_samples/weights_*.pth\n"
     ]
    },
    {
     "data": {
      "application/vnd.jupyter.widget-view+json": {
       "model_id": "8aa8f9a7bb274cdfb9912e14f260e9bb",
       "version_major": 2,
       "version_minor": 0
      },
      "text/plain": [
       "Epoch [875/1000]:   0%|          | 0/10 [00:00<?, ?it/s]"
      ]
     },
     "metadata": {},
     "output_type": "display_data"
    },
    {
     "name": "stdout",
     "output_type": "stream",
     "text": [
      "Epoch 875/1000 — Recon_U: 0.0244, Recon_L: 0.0161, SemiSup: 0.0139, Disc_Cat: 1.3335, Gen_Cat: 0.9589, Disc_Sty: 1.3844, Gen_Sty: 0.6918\n",
      "Validation Accuracy: 93.98%\n",
      "\n",
      "Weights saved to semisupervised_results/1000_epochs_adam_1000_samples/weights_*.pth\n"
     ]
    },
    {
     "data": {
      "application/vnd.jupyter.widget-view+json": {
       "model_id": "ac4a6ec350ce4e6bb9241349d0f46e6c",
       "version_major": 2,
       "version_minor": 0
      },
      "text/plain": [
       "Epoch [876/1000]:   0%|          | 0/10 [00:00<?, ?it/s]"
      ]
     },
     "metadata": {},
     "output_type": "display_data"
    },
    {
     "name": "stdout",
     "output_type": "stream",
     "text": [
      "Epoch 876/1000 — Recon_U: 0.0236, Recon_L: 0.0163, SemiSup: 0.0108, Disc_Cat: 1.3367, Gen_Cat: 0.9590, Disc_Sty: 1.3820, Gen_Sty: 0.6927\n",
      "Validation Accuracy: 94.00%\n",
      "\n",
      "Weights saved to semisupervised_results/1000_epochs_adam_1000_samples/weights_*.pth\n"
     ]
    },
    {
     "data": {
      "application/vnd.jupyter.widget-view+json": {
       "model_id": "41478635af9e4f1e812fcce136f08a25",
       "version_major": 2,
       "version_minor": 0
      },
      "text/plain": [
       "Epoch [877/1000]:   0%|          | 0/10 [00:00<?, ?it/s]"
      ]
     },
     "metadata": {},
     "output_type": "display_data"
    },
    {
     "name": "stdout",
     "output_type": "stream",
     "text": [
      "Epoch 877/1000 — Recon_U: 0.0242, Recon_L: 0.0162, SemiSup: 0.0273, Disc_Cat: 1.3379, Gen_Cat: 0.9502, Disc_Sty: 1.3830, Gen_Sty: 0.6934\n",
      "Validation Accuracy: 93.93%\n",
      "\n",
      "Weights saved to semisupervised_results/1000_epochs_adam_1000_samples/weights_*.pth\n"
     ]
    },
    {
     "data": {
      "application/vnd.jupyter.widget-view+json": {
       "model_id": "ec82b313eaf84d6cb5eead70999d24d8",
       "version_major": 2,
       "version_minor": 0
      },
      "text/plain": [
       "Epoch [878/1000]:   0%|          | 0/10 [00:00<?, ?it/s]"
      ]
     },
     "metadata": {},
     "output_type": "display_data"
    },
    {
     "name": "stdout",
     "output_type": "stream",
     "text": [
      "Epoch 878/1000 — Recon_U: 0.0233, Recon_L: 0.0161, SemiSup: 0.0022, Disc_Cat: 1.3512, Gen_Cat: 0.8987, Disc_Sty: 1.3824, Gen_Sty: 0.6940\n",
      "Validation Accuracy: 93.90%\n",
      "\n",
      "Weights saved to semisupervised_results/1000_epochs_adam_1000_samples/weights_*.pth\n"
     ]
    },
    {
     "data": {
      "application/vnd.jupyter.widget-view+json": {
       "model_id": "faf182288df243c1a92c90a3087189da",
       "version_major": 2,
       "version_minor": 0
      },
      "text/plain": [
       "Epoch [879/1000]:   0%|          | 0/10 [00:00<?, ?it/s]"
      ]
     },
     "metadata": {},
     "output_type": "display_data"
    },
    {
     "name": "stdout",
     "output_type": "stream",
     "text": [
      "Epoch 879/1000 — Recon_U: 0.0233, Recon_L: 0.0161, SemiSup: 0.0087, Disc_Cat: 1.3385, Gen_Cat: 0.8950, Disc_Sty: 1.3858, Gen_Sty: 0.6944\n",
      "Validation Accuracy: 93.95%\n",
      "\n",
      "Weights saved to semisupervised_results/1000_epochs_adam_1000_samples/weights_*.pth\n"
     ]
    },
    {
     "data": {
      "application/vnd.jupyter.widget-view+json": {
       "model_id": "bb628cc4a8794b76acc96b199212b0af",
       "version_major": 2,
       "version_minor": 0
      },
      "text/plain": [
       "Epoch [880/1000]:   0%|          | 0/10 [00:00<?, ?it/s]"
      ]
     },
     "metadata": {},
     "output_type": "display_data"
    },
    {
     "name": "stdout",
     "output_type": "stream",
     "text": [
      "Epoch 880/1000 — Recon_U: 0.0242, Recon_L: 0.0162, SemiSup: 0.0152, Disc_Cat: 1.3348, Gen_Cat: 0.9860, Disc_Sty: 1.3846, Gen_Sty: 0.6954\n",
      "Validation Accuracy: 93.93%\n",
      "\n",
      "Weights saved to semisupervised_results/1000_epochs_adam_1000_samples/weights_*.pth\n"
     ]
    },
    {
     "data": {
      "application/vnd.jupyter.widget-view+json": {
       "model_id": "dede3c39b1f746e59e3f90603c6bf508",
       "version_major": 2,
       "version_minor": 0
      },
      "text/plain": [
       "Epoch [881/1000]:   0%|          | 0/10 [00:00<?, ?it/s]"
      ]
     },
     "metadata": {},
     "output_type": "display_data"
    },
    {
     "name": "stdout",
     "output_type": "stream",
     "text": [
      "Epoch 881/1000 — Recon_U: 0.0244, Recon_L: 0.0163, SemiSup: 0.0026, Disc_Cat: 1.3359, Gen_Cat: 0.9516, Disc_Sty: 1.3868, Gen_Sty: 0.6952\n",
      "Validation Accuracy: 93.92%\n",
      "\n",
      "Weights saved to semisupervised_results/1000_epochs_adam_1000_samples/weights_*.pth\n"
     ]
    },
    {
     "data": {
      "application/vnd.jupyter.widget-view+json": {
       "model_id": "95d9dfb2c8ef4f1e8dec6a74aef02557",
       "version_major": 2,
       "version_minor": 0
      },
      "text/plain": [
       "Epoch [882/1000]:   0%|          | 0/10 [00:00<?, ?it/s]"
      ]
     },
     "metadata": {},
     "output_type": "display_data"
    },
    {
     "name": "stdout",
     "output_type": "stream",
     "text": [
      "Epoch 882/1000 — Recon_U: 0.0245, Recon_L: 0.0163, SemiSup: 0.0023, Disc_Cat: 1.3480, Gen_Cat: 0.8468, Disc_Sty: 1.3853, Gen_Sty: 0.6992\n",
      "Validation Accuracy: 93.97%\n",
      "\n",
      "Weights saved to semisupervised_results/1000_epochs_adam_1000_samples/weights_*.pth\n"
     ]
    },
    {
     "data": {
      "application/vnd.jupyter.widget-view+json": {
       "model_id": "d6224745ba2e4a73bdaf31ab5e981abf",
       "version_major": 2,
       "version_minor": 0
      },
      "text/plain": [
       "Epoch [883/1000]:   0%|          | 0/10 [00:00<?, ?it/s]"
      ]
     },
     "metadata": {},
     "output_type": "display_data"
    },
    {
     "name": "stdout",
     "output_type": "stream",
     "text": [
      "Epoch 883/1000 — Recon_U: 0.0241, Recon_L: 0.0163, SemiSup: 0.0126, Disc_Cat: 1.3495, Gen_Cat: 0.8734, Disc_Sty: 1.3854, Gen_Sty: 0.7005\n",
      "Validation Accuracy: 94.00%\n",
      "\n",
      "Weights saved to semisupervised_results/1000_epochs_adam_1000_samples/weights_*.pth\n"
     ]
    },
    {
     "data": {
      "application/vnd.jupyter.widget-view+json": {
       "model_id": "3e0bfc7fef244a198614f5ba36120b32",
       "version_major": 2,
       "version_minor": 0
      },
      "text/plain": [
       "Epoch [884/1000]:   0%|          | 0/10 [00:00<?, ?it/s]"
      ]
     },
     "metadata": {},
     "output_type": "display_data"
    },
    {
     "name": "stdout",
     "output_type": "stream",
     "text": [
      "Epoch 884/1000 — Recon_U: 0.0234, Recon_L: 0.0161, SemiSup: 0.0020, Disc_Cat: 1.3411, Gen_Cat: 0.9009, Disc_Sty: 1.3850, Gen_Sty: 0.7007\n",
      "Validation Accuracy: 93.97%\n",
      "\n",
      "Weights saved to semisupervised_results/1000_epochs_adam_1000_samples/weights_*.pth\n"
     ]
    },
    {
     "data": {
      "application/vnd.jupyter.widget-view+json": {
       "model_id": "ba906573e2ee49f4929dbd8170e89df5",
       "version_major": 2,
       "version_minor": 0
      },
      "text/plain": [
       "Epoch [885/1000]:   0%|          | 0/10 [00:00<?, ?it/s]"
      ]
     },
     "metadata": {},
     "output_type": "display_data"
    },
    {
     "name": "stdout",
     "output_type": "stream",
     "text": [
      "Epoch 885/1000 — Recon_U: 0.0234, Recon_L: 0.0162, SemiSup: 0.0008, Disc_Cat: 1.3438, Gen_Cat: 0.9053, Disc_Sty: 1.3860, Gen_Sty: 0.6987\n",
      "Validation Accuracy: 93.98%\n",
      "\n",
      "Weights saved to semisupervised_results/1000_epochs_adam_1000_samples/weights_*.pth\n"
     ]
    },
    {
     "data": {
      "application/vnd.jupyter.widget-view+json": {
       "model_id": "bf82da863f604e2396359999d9f02e7e",
       "version_major": 2,
       "version_minor": 0
      },
      "text/plain": [
       "Epoch [886/1000]:   0%|          | 0/10 [00:00<?, ?it/s]"
      ]
     },
     "metadata": {},
     "output_type": "display_data"
    },
    {
     "name": "stdout",
     "output_type": "stream",
     "text": [
      "Epoch 886/1000 — Recon_U: 0.0240, Recon_L: 0.0162, SemiSup: 0.0001, Disc_Cat: 1.3400, Gen_Cat: 0.9537, Disc_Sty: 1.3871, Gen_Sty: 0.6950\n",
      "Validation Accuracy: 94.02%\n",
      "\n",
      "Weights saved to semisupervised_results/1000_epochs_adam_1000_samples/weights_*.pth\n"
     ]
    },
    {
     "data": {
      "application/vnd.jupyter.widget-view+json": {
       "model_id": "fc8a52298ed74a8ba0e3cfac14b2986f",
       "version_major": 2,
       "version_minor": 0
      },
      "text/plain": [
       "Epoch [887/1000]:   0%|          | 0/10 [00:00<?, ?it/s]"
      ]
     },
     "metadata": {},
     "output_type": "display_data"
    },
    {
     "name": "stdout",
     "output_type": "stream",
     "text": [
      "Epoch 887/1000 — Recon_U: 0.0244, Recon_L: 0.0160, SemiSup: 0.0035, Disc_Cat: 1.3380, Gen_Cat: 0.9457, Disc_Sty: 1.3864, Gen_Sty: 0.6925\n",
      "Validation Accuracy: 94.02%\n",
      "\n",
      "Weights saved to semisupervised_results/1000_epochs_adam_1000_samples/weights_*.pth\n"
     ]
    },
    {
     "data": {
      "application/vnd.jupyter.widget-view+json": {
       "model_id": "cab9334228d247e9ae7296c2cb10df1e",
       "version_major": 2,
       "version_minor": 0
      },
      "text/plain": [
       "Epoch [888/1000]:   0%|          | 0/10 [00:00<?, ?it/s]"
      ]
     },
     "metadata": {},
     "output_type": "display_data"
    },
    {
     "name": "stdout",
     "output_type": "stream",
     "text": [
      "Epoch 888/1000 — Recon_U: 0.0242, Recon_L: 0.0161, SemiSup: 0.0009, Disc_Cat: 1.3491, Gen_Cat: 0.8989, Disc_Sty: 1.3857, Gen_Sty: 0.6906\n",
      "Validation Accuracy: 94.00%\n",
      "\n",
      "Weights saved to semisupervised_results/1000_epochs_adam_1000_samples/weights_*.pth\n"
     ]
    },
    {
     "data": {
      "application/vnd.jupyter.widget-view+json": {
       "model_id": "b5c333eb8e044070bdce13b2525c0ce0",
       "version_major": 2,
       "version_minor": 0
      },
      "text/plain": [
       "Epoch [889/1000]:   0%|          | 0/10 [00:00<?, ?it/s]"
      ]
     },
     "metadata": {},
     "output_type": "display_data"
    },
    {
     "name": "stdout",
     "output_type": "stream",
     "text": [
      "Epoch 889/1000 — Recon_U: 0.0239, Recon_L: 0.0160, SemiSup: 0.0021, Disc_Cat: 1.3388, Gen_Cat: 0.9680, Disc_Sty: 1.3833, Gen_Sty: 0.6901\n",
      "Validation Accuracy: 94.00%\n",
      "\n",
      "Weights saved to semisupervised_results/1000_epochs_adam_1000_samples/weights_*.pth\n"
     ]
    },
    {
     "data": {
      "application/vnd.jupyter.widget-view+json": {
       "model_id": "9979d7edd3ad42eab4c98f7cd5cfa9ed",
       "version_major": 2,
       "version_minor": 0
      },
      "text/plain": [
       "Epoch [890/1000]:   0%|          | 0/10 [00:00<?, ?it/s]"
      ]
     },
     "metadata": {},
     "output_type": "display_data"
    },
    {
     "name": "stdout",
     "output_type": "stream",
     "text": [
      "Epoch 890/1000 — Recon_U: 0.0239, Recon_L: 0.0163, SemiSup: 0.0056, Disc_Cat: 1.3413, Gen_Cat: 0.9374, Disc_Sty: 1.3827, Gen_Sty: 0.6895\n",
      "Validation Accuracy: 94.02%\n",
      "\n",
      "Weights saved to semisupervised_results/1000_epochs_adam_1000_samples/weights_*.pth\n"
     ]
    },
    {
     "data": {
      "application/vnd.jupyter.widget-view+json": {
       "model_id": "a18638fc5bae43a8a5e0baff2adf06c9",
       "version_major": 2,
       "version_minor": 0
      },
      "text/plain": [
       "Epoch [891/1000]:   0%|          | 0/10 [00:00<?, ?it/s]"
      ]
     },
     "metadata": {},
     "output_type": "display_data"
    },
    {
     "name": "stdout",
     "output_type": "stream",
     "text": [
      "Epoch 891/1000 — Recon_U: 0.0240, Recon_L: 0.0161, SemiSup: 0.0124, Disc_Cat: 1.3518, Gen_Cat: 0.8734, Disc_Sty: 1.3839, Gen_Sty: 0.6884\n",
      "Validation Accuracy: 94.02%\n",
      "\n",
      "Weights saved to semisupervised_results/1000_epochs_adam_1000_samples/weights_*.pth\n"
     ]
    },
    {
     "data": {
      "application/vnd.jupyter.widget-view+json": {
       "model_id": "f772020d5482445db43351fc2c31c021",
       "version_major": 2,
       "version_minor": 0
      },
      "text/plain": [
       "Epoch [892/1000]:   0%|          | 0/10 [00:00<?, ?it/s]"
      ]
     },
     "metadata": {},
     "output_type": "display_data"
    },
    {
     "name": "stdout",
     "output_type": "stream",
     "text": [
      "Epoch 892/1000 — Recon_U: 0.0239, Recon_L: 0.0164, SemiSup: 0.0035, Disc_Cat: 1.3475, Gen_Cat: 0.8770, Disc_Sty: 1.3845, Gen_Sty: 0.6882\n",
      "Validation Accuracy: 94.00%\n",
      "\n",
      "Weights saved to semisupervised_results/1000_epochs_adam_1000_samples/weights_*.pth\n"
     ]
    },
    {
     "data": {
      "application/vnd.jupyter.widget-view+json": {
       "model_id": "27c283eb14eb42348e233f4e69152146",
       "version_major": 2,
       "version_minor": 0
      },
      "text/plain": [
       "Epoch [893/1000]:   0%|          | 0/10 [00:00<?, ?it/s]"
      ]
     },
     "metadata": {},
     "output_type": "display_data"
    },
    {
     "name": "stdout",
     "output_type": "stream",
     "text": [
      "Epoch 893/1000 — Recon_U: 0.0250, Recon_L: 0.0162, SemiSup: 0.0031, Disc_Cat: 1.3385, Gen_Cat: 0.9430, Disc_Sty: 1.3874, Gen_Sty: 0.6883\n",
      "Validation Accuracy: 94.02%\n",
      "\n",
      "Weights saved to semisupervised_results/1000_epochs_adam_1000_samples/weights_*.pth\n"
     ]
    },
    {
     "data": {
      "application/vnd.jupyter.widget-view+json": {
       "model_id": "fcf8dc5de2c243229dacc209e5d19532",
       "version_major": 2,
       "version_minor": 0
      },
      "text/plain": [
       "Epoch [894/1000]:   0%|          | 0/10 [00:00<?, ?it/s]"
      ]
     },
     "metadata": {},
     "output_type": "display_data"
    },
    {
     "name": "stdout",
     "output_type": "stream",
     "text": [
      "Epoch 894/1000 — Recon_U: 0.0245, Recon_L: 0.0164, SemiSup: 0.0120, Disc_Cat: 1.3293, Gen_Cat: 0.9830, Disc_Sty: 1.3889, Gen_Sty: 0.6903\n",
      "Validation Accuracy: 94.00%\n",
      "\n",
      "Weights saved to semisupervised_results/1000_epochs_adam_1000_samples/weights_*.pth\n"
     ]
    },
    {
     "data": {
      "application/vnd.jupyter.widget-view+json": {
       "model_id": "0768000cf00b4d88b816542d1f83dc76",
       "version_major": 2,
       "version_minor": 0
      },
      "text/plain": [
       "Epoch [895/1000]:   0%|          | 0/10 [00:00<?, ?it/s]"
      ]
     },
     "metadata": {},
     "output_type": "display_data"
    },
    {
     "name": "stdout",
     "output_type": "stream",
     "text": [
      "Epoch 895/1000 — Recon_U: 0.0248, Recon_L: 0.0163, SemiSup: 0.0011, Disc_Cat: 1.3476, Gen_Cat: 0.9050, Disc_Sty: 1.3873, Gen_Sty: 0.6961\n",
      "Validation Accuracy: 94.08%\n",
      "\n",
      "Weights saved to semisupervised_results/1000_epochs_adam_1000_samples/weights_*.pth\n"
     ]
    },
    {
     "data": {
      "application/vnd.jupyter.widget-view+json": {
       "model_id": "74d2695cec1040048a333e52fecbe182",
       "version_major": 2,
       "version_minor": 0
      },
      "text/plain": [
       "Epoch [896/1000]:   0%|          | 0/10 [00:00<?, ?it/s]"
      ]
     },
     "metadata": {},
     "output_type": "display_data"
    },
    {
     "name": "stdout",
     "output_type": "stream",
     "text": [
      "Epoch 896/1000 — Recon_U: 0.0248, Recon_L: 0.0162, SemiSup: 0.0087, Disc_Cat: 1.3325, Gen_Cat: 0.9578, Disc_Sty: 1.3841, Gen_Sty: 0.7000\n",
      "Validation Accuracy: 94.10%\n",
      "\n",
      "Weights saved to semisupervised_results/1000_epochs_adam_1000_samples/weights_*.pth\n"
     ]
    },
    {
     "data": {
      "application/vnd.jupyter.widget-view+json": {
       "model_id": "4e49d171958745c4aaf61e9504724547",
       "version_major": 2,
       "version_minor": 0
      },
      "text/plain": [
       "Epoch [897/1000]:   0%|          | 0/10 [00:00<?, ?it/s]"
      ]
     },
     "metadata": {},
     "output_type": "display_data"
    },
    {
     "name": "stdout",
     "output_type": "stream",
     "text": [
      "Epoch 897/1000 — Recon_U: 0.0238, Recon_L: 0.0161, SemiSup: 0.0123, Disc_Cat: 1.3466, Gen_Cat: 0.9317, Disc_Sty: 1.3842, Gen_Sty: 0.7030\n",
      "Validation Accuracy: 94.07%\n",
      "\n",
      "Weights saved to semisupervised_results/1000_epochs_adam_1000_samples/weights_*.pth\n"
     ]
    },
    {
     "data": {
      "application/vnd.jupyter.widget-view+json": {
       "model_id": "aab2eecac4c24a79b85dde27aed8991b",
       "version_major": 2,
       "version_minor": 0
      },
      "text/plain": [
       "Epoch [898/1000]:   0%|          | 0/10 [00:00<?, ?it/s]"
      ]
     },
     "metadata": {},
     "output_type": "display_data"
    },
    {
     "name": "stdout",
     "output_type": "stream",
     "text": [
      "Epoch 898/1000 — Recon_U: 0.0240, Recon_L: 0.0161, SemiSup: 0.0005, Disc_Cat: 1.3453, Gen_Cat: 0.9012, Disc_Sty: 1.3873, Gen_Sty: 0.7021\n",
      "Validation Accuracy: 94.08%\n",
      "\n",
      "Weights saved to semisupervised_results/1000_epochs_adam_1000_samples/weights_*.pth\n"
     ]
    },
    {
     "data": {
      "application/vnd.jupyter.widget-view+json": {
       "model_id": "d635d72326f14851863a93352e1b72ec",
       "version_major": 2,
       "version_minor": 0
      },
      "text/plain": [
       "Epoch [899/1000]:   0%|          | 0/10 [00:00<?, ?it/s]"
      ]
     },
     "metadata": {},
     "output_type": "display_data"
    },
    {
     "name": "stdout",
     "output_type": "stream",
     "text": [
      "Epoch 899/1000 — Recon_U: 0.0245, Recon_L: 0.0161, SemiSup: 0.0008, Disc_Cat: 1.3342, Gen_Cat: 0.9432, Disc_Sty: 1.3864, Gen_Sty: 0.7003\n",
      "Validation Accuracy: 94.03%\n",
      "\n",
      "Weights saved to semisupervised_results/1000_epochs_adam_1000_samples/weights_*.pth\n"
     ]
    },
    {
     "data": {
      "application/vnd.jupyter.widget-view+json": {
       "model_id": "af3bb871e5ec49649271b649ac923a43",
       "version_major": 2,
       "version_minor": 0
      },
      "text/plain": [
       "Epoch [900/1000]:   0%|          | 0/10 [00:00<?, ?it/s]"
      ]
     },
     "metadata": {},
     "output_type": "display_data"
    },
    {
     "name": "stdout",
     "output_type": "stream",
     "text": [
      "Epoch 900/1000 — Recon_U: 0.0241, Recon_L: 0.0161, SemiSup: 0.0178, Disc_Cat: 1.3374, Gen_Cat: 0.9403, Disc_Sty: 1.3886, Gen_Sty: 0.6970\n",
      "Validation Accuracy: 94.08%\n",
      "\n",
      "Weights saved to semisupervised_results/1000_epochs_adam_1000_samples/weights_epoch_900/weights_*.pth\n",
      "Weights saved to semisupervised_results/1000_epochs_adam_1000_samples/weights_*.pth\n"
     ]
    },
    {
     "data": {
      "application/vnd.jupyter.widget-view+json": {
       "model_id": "4a4265ca143d4f88850c41f09241a017",
       "version_major": 2,
       "version_minor": 0
      },
      "text/plain": [
       "Epoch [901/1000]:   0%|          | 0/10 [00:00<?, ?it/s]"
      ]
     },
     "metadata": {},
     "output_type": "display_data"
    },
    {
     "name": "stdout",
     "output_type": "stream",
     "text": [
      "Epoch 901/1000 — Recon_U: 0.0240, Recon_L: 0.0159, SemiSup: 0.0051, Disc_Cat: 1.3453, Gen_Cat: 0.9319, Disc_Sty: 1.3847, Gen_Sty: 0.6964\n",
      "Validation Accuracy: 94.12%\n",
      "\n",
      "Weights saved to semisupervised_results/1000_epochs_adam_1000_samples/weights_*.pth\n"
     ]
    },
    {
     "data": {
      "application/vnd.jupyter.widget-view+json": {
       "model_id": "133ec6f30086488dbeb00b4d62c6c401",
       "version_major": 2,
       "version_minor": 0
      },
      "text/plain": [
       "Epoch [902/1000]:   0%|          | 0/10 [00:00<?, ?it/s]"
      ]
     },
     "metadata": {},
     "output_type": "display_data"
    },
    {
     "name": "stdout",
     "output_type": "stream",
     "text": [
      "Epoch 902/1000 — Recon_U: 0.0248, Recon_L: 0.0160, SemiSup: 0.0112, Disc_Cat: 1.3418, Gen_Cat: 0.9209, Disc_Sty: 1.3849, Gen_Sty: 0.6935\n",
      "Validation Accuracy: 94.14%\n",
      "\n",
      "Weights saved to semisupervised_results/1000_epochs_adam_1000_samples/weights_*.pth\n"
     ]
    },
    {
     "data": {
      "application/vnd.jupyter.widget-view+json": {
       "model_id": "e95b23aad22445e79ca5a67cfde3f0eb",
       "version_major": 2,
       "version_minor": 0
      },
      "text/plain": [
       "Epoch [903/1000]:   0%|          | 0/10 [00:00<?, ?it/s]"
      ]
     },
     "metadata": {},
     "output_type": "display_data"
    },
    {
     "name": "stdout",
     "output_type": "stream",
     "text": [
      "Epoch 903/1000 — Recon_U: 0.0242, Recon_L: 0.0159, SemiSup: 0.0048, Disc_Cat: 1.3422, Gen_Cat: 0.9561, Disc_Sty: 1.3827, Gen_Sty: 0.6934\n",
      "Validation Accuracy: 94.15%\n",
      "\n",
      "Weights saved to semisupervised_results/1000_epochs_adam_1000_samples/weights_*.pth\n"
     ]
    },
    {
     "data": {
      "application/vnd.jupyter.widget-view+json": {
       "model_id": "24ccb0958d554a15b851b4b55320d031",
       "version_major": 2,
       "version_minor": 0
      },
      "text/plain": [
       "Epoch [904/1000]:   0%|          | 0/10 [00:00<?, ?it/s]"
      ]
     },
     "metadata": {},
     "output_type": "display_data"
    },
    {
     "name": "stdout",
     "output_type": "stream",
     "text": [
      "Epoch 904/1000 — Recon_U: 0.0243, Recon_L: 0.0158, SemiSup: 0.0042, Disc_Cat: 1.3449, Gen_Cat: 0.9038, Disc_Sty: 1.3832, Gen_Sty: 0.6936\n",
      "Validation Accuracy: 94.14%\n",
      "\n",
      "Weights saved to semisupervised_results/1000_epochs_adam_1000_samples/weights_*.pth\n"
     ]
    },
    {
     "data": {
      "application/vnd.jupyter.widget-view+json": {
       "model_id": "6be1f604b5f94c4c81f88537d3ac0bb8",
       "version_major": 2,
       "version_minor": 0
      },
      "text/plain": [
       "Epoch [905/1000]:   0%|          | 0/10 [00:00<?, ?it/s]"
      ]
     },
     "metadata": {},
     "output_type": "display_data"
    },
    {
     "name": "stdout",
     "output_type": "stream",
     "text": [
      "Epoch 905/1000 — Recon_U: 0.0241, Recon_L: 0.0159, SemiSup: 0.0038, Disc_Cat: 1.3402, Gen_Cat: 0.9465, Disc_Sty: 1.3822, Gen_Sty: 0.6957\n",
      "Validation Accuracy: 94.02%\n",
      "\n",
      "Weights saved to semisupervised_results/1000_epochs_adam_1000_samples/weights_*.pth\n"
     ]
    },
    {
     "data": {
      "application/vnd.jupyter.widget-view+json": {
       "model_id": "f4c999d8041947c69af216e0032e5e57",
       "version_major": 2,
       "version_minor": 0
      },
      "text/plain": [
       "Epoch [906/1000]:   0%|          | 0/10 [00:00<?, ?it/s]"
      ]
     },
     "metadata": {},
     "output_type": "display_data"
    },
    {
     "name": "stdout",
     "output_type": "stream",
     "text": [
      "Epoch 906/1000 — Recon_U: 0.0244, Recon_L: 0.0160, SemiSup: 0.0075, Disc_Cat: 1.3387, Gen_Cat: 0.9505, Disc_Sty: 1.3830, Gen_Sty: 0.6960\n",
      "Validation Accuracy: 94.08%\n",
      "\n",
      "Weights saved to semisupervised_results/1000_epochs_adam_1000_samples/weights_*.pth\n"
     ]
    },
    {
     "data": {
      "application/vnd.jupyter.widget-view+json": {
       "model_id": "35ee1f73d5f648ce98fbce84d82eeefb",
       "version_major": 2,
       "version_minor": 0
      },
      "text/plain": [
       "Epoch [907/1000]:   0%|          | 0/10 [00:00<?, ?it/s]"
      ]
     },
     "metadata": {},
     "output_type": "display_data"
    },
    {
     "name": "stdout",
     "output_type": "stream",
     "text": [
      "Epoch 907/1000 — Recon_U: 0.0238, Recon_L: 0.0161, SemiSup: 0.0035, Disc_Cat: 1.3408, Gen_Cat: 0.9232, Disc_Sty: 1.3862, Gen_Sty: 0.6965\n",
      "Validation Accuracy: 94.08%\n",
      "\n",
      "Weights saved to semisupervised_results/1000_epochs_adam_1000_samples/weights_*.pth\n"
     ]
    },
    {
     "data": {
      "application/vnd.jupyter.widget-view+json": {
       "model_id": "1e55477e7a2e4faab80c4c96dbc5b56c",
       "version_major": 2,
       "version_minor": 0
      },
      "text/plain": [
       "Epoch [908/1000]:   0%|          | 0/10 [00:00<?, ?it/s]"
      ]
     },
     "metadata": {},
     "output_type": "display_data"
    },
    {
     "name": "stdout",
     "output_type": "stream",
     "text": [
      "Epoch 908/1000 — Recon_U: 0.0246, Recon_L: 0.0161, SemiSup: 0.0186, Disc_Cat: 1.3370, Gen_Cat: 0.9262, Disc_Sty: 1.3873, Gen_Sty: 0.6972\n",
      "Validation Accuracy: 94.05%\n",
      "\n",
      "Weights saved to semisupervised_results/1000_epochs_adam_1000_samples/weights_*.pth\n"
     ]
    },
    {
     "data": {
      "application/vnd.jupyter.widget-view+json": {
       "model_id": "28f8f2b087fb4a1c9954eadbd39300f5",
       "version_major": 2,
       "version_minor": 0
      },
      "text/plain": [
       "Epoch [909/1000]:   0%|          | 0/10 [00:00<?, ?it/s]"
      ]
     },
     "metadata": {},
     "output_type": "display_data"
    },
    {
     "name": "stdout",
     "output_type": "stream",
     "text": [
      "Epoch 909/1000 — Recon_U: 0.0238, Recon_L: 0.0161, SemiSup: 0.0037, Disc_Cat: 1.3439, Gen_Cat: 0.9164, Disc_Sty: 1.3886, Gen_Sty: 0.6970\n",
      "Validation Accuracy: 94.07%\n",
      "\n",
      "Weights saved to semisupervised_results/1000_epochs_adam_1000_samples/weights_*.pth\n"
     ]
    },
    {
     "data": {
      "application/vnd.jupyter.widget-view+json": {
       "model_id": "1f6d4a3f15234cc98852f31c4b4ce552",
       "version_major": 2,
       "version_minor": 0
      },
      "text/plain": [
       "Epoch [910/1000]:   0%|          | 0/10 [00:00<?, ?it/s]"
      ]
     },
     "metadata": {},
     "output_type": "display_data"
    },
    {
     "name": "stdout",
     "output_type": "stream",
     "text": [
      "Epoch 910/1000 — Recon_U: 0.0241, Recon_L: 0.0162, SemiSup: 0.0052, Disc_Cat: 1.3418, Gen_Cat: 0.9300, Disc_Sty: 1.3918, Gen_Sty: 0.6926\n",
      "Validation Accuracy: 94.02%\n",
      "\n",
      "Weights saved to semisupervised_results/1000_epochs_adam_1000_samples/weights_*.pth\n"
     ]
    },
    {
     "data": {
      "application/vnd.jupyter.widget-view+json": {
       "model_id": "cf165c4ce99a4a5f8e3936e0e9a6f348",
       "version_major": 2,
       "version_minor": 0
      },
      "text/plain": [
       "Epoch [911/1000]:   0%|          | 0/10 [00:00<?, ?it/s]"
      ]
     },
     "metadata": {},
     "output_type": "display_data"
    },
    {
     "name": "stdout",
     "output_type": "stream",
     "text": [
      "Epoch 911/1000 — Recon_U: 0.0237, Recon_L: 0.0161, SemiSup: 0.0035, Disc_Cat: 1.3470, Gen_Cat: 0.8959, Disc_Sty: 1.3858, Gen_Sty: 0.6920\n",
      "Validation Accuracy: 94.03%\n",
      "\n",
      "Weights saved to semisupervised_results/1000_epochs_adam_1000_samples/weights_*.pth\n"
     ]
    },
    {
     "data": {
      "application/vnd.jupyter.widget-view+json": {
       "model_id": "8a4dd39032444ba6aa075a230da84f9c",
       "version_major": 2,
       "version_minor": 0
      },
      "text/plain": [
       "Epoch [912/1000]:   0%|          | 0/10 [00:00<?, ?it/s]"
      ]
     },
     "metadata": {},
     "output_type": "display_data"
    },
    {
     "name": "stdout",
     "output_type": "stream",
     "text": [
      "Epoch 912/1000 — Recon_U: 0.0243, Recon_L: 0.0161, SemiSup: 0.0023, Disc_Cat: 1.3523, Gen_Cat: 0.9007, Disc_Sty: 1.3849, Gen_Sty: 0.6924\n",
      "Validation Accuracy: 93.98%\n",
      "\n",
      "Weights saved to semisupervised_results/1000_epochs_adam_1000_samples/weights_*.pth\n"
     ]
    },
    {
     "data": {
      "application/vnd.jupyter.widget-view+json": {
       "model_id": "866e44cd0824462bb3ad9bf794075eb9",
       "version_major": 2,
       "version_minor": 0
      },
      "text/plain": [
       "Epoch [913/1000]:   0%|          | 0/10 [00:00<?, ?it/s]"
      ]
     },
     "metadata": {},
     "output_type": "display_data"
    },
    {
     "name": "stdout",
     "output_type": "stream",
     "text": [
      "Epoch 913/1000 — Recon_U: 0.0235, Recon_L: 0.0160, SemiSup: 0.0165, Disc_Cat: 1.3331, Gen_Cat: 0.9601, Disc_Sty: 1.3818, Gen_Sty: 0.6933\n",
      "Validation Accuracy: 94.00%\n",
      "\n",
      "Weights saved to semisupervised_results/1000_epochs_adam_1000_samples/weights_*.pth\n"
     ]
    },
    {
     "data": {
      "application/vnd.jupyter.widget-view+json": {
       "model_id": "91d354e351694c5d8d15cdc9ea50557e",
       "version_major": 2,
       "version_minor": 0
      },
      "text/plain": [
       "Epoch [914/1000]:   0%|          | 0/10 [00:00<?, ?it/s]"
      ]
     },
     "metadata": {},
     "output_type": "display_data"
    },
    {
     "name": "stdout",
     "output_type": "stream",
     "text": [
      "Epoch 914/1000 — Recon_U: 0.0241, Recon_L: 0.0160, SemiSup: 0.0157, Disc_Cat: 1.3435, Gen_Cat: 0.9225, Disc_Sty: 1.3829, Gen_Sty: 0.6907\n",
      "Validation Accuracy: 94.05%\n",
      "\n",
      "Weights saved to semisupervised_results/1000_epochs_adam_1000_samples/weights_*.pth\n"
     ]
    },
    {
     "data": {
      "application/vnd.jupyter.widget-view+json": {
       "model_id": "d1dce5b05e7d40e9866a08397dfa92a3",
       "version_major": 2,
       "version_minor": 0
      },
      "text/plain": [
       "Epoch [915/1000]:   0%|          | 0/10 [00:00<?, ?it/s]"
      ]
     },
     "metadata": {},
     "output_type": "display_data"
    },
    {
     "name": "stdout",
     "output_type": "stream",
     "text": [
      "Epoch 915/1000 — Recon_U: 0.0245, Recon_L: 0.0160, SemiSup: 0.0091, Disc_Cat: 1.3399, Gen_Cat: 0.9804, Disc_Sty: 1.3840, Gen_Sty: 0.6882\n",
      "Validation Accuracy: 94.03%\n",
      "\n",
      "Weights saved to semisupervised_results/1000_epochs_adam_1000_samples/weights_*.pth\n"
     ]
    },
    {
     "data": {
      "application/vnd.jupyter.widget-view+json": {
       "model_id": "f265656414e74e26a2e83af6d731fc15",
       "version_major": 2,
       "version_minor": 0
      },
      "text/plain": [
       "Epoch [916/1000]:   0%|          | 0/10 [00:00<?, ?it/s]"
      ]
     },
     "metadata": {},
     "output_type": "display_data"
    },
    {
     "name": "stdout",
     "output_type": "stream",
     "text": [
      "Epoch 916/1000 — Recon_U: 0.0240, Recon_L: 0.0159, SemiSup: 0.0011, Disc_Cat: 1.3467, Gen_Cat: 0.9364, Disc_Sty: 1.3828, Gen_Sty: 0.6864\n",
      "Validation Accuracy: 94.10%\n",
      "\n",
      "Weights saved to semisupervised_results/1000_epochs_adam_1000_samples/weights_*.pth\n"
     ]
    },
    {
     "data": {
      "application/vnd.jupyter.widget-view+json": {
       "model_id": "8cc66a7b58d54392b281b838cb0776aa",
       "version_major": 2,
       "version_minor": 0
      },
      "text/plain": [
       "Epoch [917/1000]:   0%|          | 0/10 [00:00<?, ?it/s]"
      ]
     },
     "metadata": {},
     "output_type": "display_data"
    },
    {
     "name": "stdout",
     "output_type": "stream",
     "text": [
      "Epoch 917/1000 — Recon_U: 0.0239, Recon_L: 0.0160, SemiSup: 0.0010, Disc_Cat: 1.3402, Gen_Cat: 0.9613, Disc_Sty: 1.3870, Gen_Sty: 0.6823\n",
      "Validation Accuracy: 94.05%\n",
      "\n",
      "Weights saved to semisupervised_results/1000_epochs_adam_1000_samples/weights_*.pth\n"
     ]
    },
    {
     "data": {
      "application/vnd.jupyter.widget-view+json": {
       "model_id": "fc9344e628e04933a4f93b5856667414",
       "version_major": 2,
       "version_minor": 0
      },
      "text/plain": [
       "Epoch [918/1000]:   0%|          | 0/10 [00:00<?, ?it/s]"
      ]
     },
     "metadata": {},
     "output_type": "display_data"
    },
    {
     "name": "stdout",
     "output_type": "stream",
     "text": [
      "Epoch 918/1000 — Recon_U: 0.0244, Recon_L: 0.0161, SemiSup: 0.0082, Disc_Cat: 1.3397, Gen_Cat: 0.9777, Disc_Sty: 1.3882, Gen_Sty: 0.6814\n",
      "Validation Accuracy: 94.08%\n",
      "\n",
      "Weights saved to semisupervised_results/1000_epochs_adam_1000_samples/weights_*.pth\n"
     ]
    },
    {
     "data": {
      "application/vnd.jupyter.widget-view+json": {
       "model_id": "8e6ae19c834c4f86b1b88f40bd1d60e8",
       "version_major": 2,
       "version_minor": 0
      },
      "text/plain": [
       "Epoch [919/1000]:   0%|          | 0/10 [00:00<?, ?it/s]"
      ]
     },
     "metadata": {},
     "output_type": "display_data"
    },
    {
     "name": "stdout",
     "output_type": "stream",
     "text": [
      "Epoch 919/1000 — Recon_U: 0.0242, Recon_L: 0.0162, SemiSup: 0.0012, Disc_Cat: 1.3489, Gen_Cat: 0.8780, Disc_Sty: 1.3908, Gen_Sty: 0.6812\n",
      "Validation Accuracy: 94.05%\n",
      "\n",
      "Weights saved to semisupervised_results/1000_epochs_adam_1000_samples/weights_*.pth\n"
     ]
    },
    {
     "data": {
      "application/vnd.jupyter.widget-view+json": {
       "model_id": "d8850ecc951e4bfe94f75070f178fd10",
       "version_major": 2,
       "version_minor": 0
      },
      "text/plain": [
       "Epoch [920/1000]:   0%|          | 0/10 [00:00<?, ?it/s]"
      ]
     },
     "metadata": {},
     "output_type": "display_data"
    },
    {
     "name": "stdout",
     "output_type": "stream",
     "text": [
      "Epoch 920/1000 — Recon_U: 0.0243, Recon_L: 0.0161, SemiSup: 0.0227, Disc_Cat: 1.3506, Gen_Cat: 0.8720, Disc_Sty: 1.3849, Gen_Sty: 0.6903\n",
      "Validation Accuracy: 94.03%\n",
      "\n",
      "Weights saved to semisupervised_results/1000_epochs_adam_1000_samples/weights_*.pth\n"
     ]
    },
    {
     "data": {
      "application/vnd.jupyter.widget-view+json": {
       "model_id": "094e099463e141f6b9b67142aa64a261",
       "version_major": 2,
       "version_minor": 0
      },
      "text/plain": [
       "Epoch [921/1000]:   0%|          | 0/10 [00:00<?, ?it/s]"
      ]
     },
     "metadata": {},
     "output_type": "display_data"
    },
    {
     "name": "stdout",
     "output_type": "stream",
     "text": [
      "Epoch 921/1000 — Recon_U: 0.0237, Recon_L: 0.0160, SemiSup: 0.0160, Disc_Cat: 1.3317, Gen_Cat: 0.9611, Disc_Sty: 1.3794, Gen_Sty: 0.7003\n",
      "Validation Accuracy: 94.02%\n",
      "\n",
      "Weights saved to semisupervised_results/1000_epochs_adam_1000_samples/weights_*.pth\n"
     ]
    },
    {
     "data": {
      "application/vnd.jupyter.widget-view+json": {
       "model_id": "51f246910f274c228d4792efbb4af78b",
       "version_major": 2,
       "version_minor": 0
      },
      "text/plain": [
       "Epoch [922/1000]:   0%|          | 0/10 [00:00<?, ?it/s]"
      ]
     },
     "metadata": {},
     "output_type": "display_data"
    },
    {
     "name": "stdout",
     "output_type": "stream",
     "text": [
      "Epoch 922/1000 — Recon_U: 0.0247, Recon_L: 0.0161, SemiSup: 0.0011, Disc_Cat: 1.3482, Gen_Cat: 0.9358, Disc_Sty: 1.3823, Gen_Sty: 0.7014\n",
      "Validation Accuracy: 94.02%\n",
      "\n",
      "Weights saved to semisupervised_results/1000_epochs_adam_1000_samples/weights_*.pth\n"
     ]
    },
    {
     "data": {
      "application/vnd.jupyter.widget-view+json": {
       "model_id": "869230f12752443f956ba186607e673c",
       "version_major": 2,
       "version_minor": 0
      },
      "text/plain": [
       "Epoch [923/1000]:   0%|          | 0/10 [00:00<?, ?it/s]"
      ]
     },
     "metadata": {},
     "output_type": "display_data"
    },
    {
     "name": "stdout",
     "output_type": "stream",
     "text": [
      "Epoch 923/1000 — Recon_U: 0.0240, Recon_L: 0.0163, SemiSup: 0.0006, Disc_Cat: 1.3488, Gen_Cat: 0.9182, Disc_Sty: 1.3856, Gen_Sty: 0.6974\n",
      "Validation Accuracy: 94.03%\n",
      "\n",
      "Weights saved to semisupervised_results/1000_epochs_adam_1000_samples/weights_*.pth\n"
     ]
    },
    {
     "data": {
      "application/vnd.jupyter.widget-view+json": {
       "model_id": "e071a1297422411fb19557155713f1c9",
       "version_major": 2,
       "version_minor": 0
      },
      "text/plain": [
       "Epoch [924/1000]:   0%|          | 0/10 [00:00<?, ?it/s]"
      ]
     },
     "metadata": {},
     "output_type": "display_data"
    },
    {
     "name": "stdout",
     "output_type": "stream",
     "text": [
      "Epoch 924/1000 — Recon_U: 0.0251, Recon_L: 0.0163, SemiSup: 0.0057, Disc_Cat: 1.3430, Gen_Cat: 0.9594, Disc_Sty: 1.3966, Gen_Sty: 0.6885\n",
      "Validation Accuracy: 94.07%\n",
      "\n",
      "Weights saved to semisupervised_results/1000_epochs_adam_1000_samples/weights_*.pth\n"
     ]
    },
    {
     "data": {
      "application/vnd.jupyter.widget-view+json": {
       "model_id": "02806cdef11f48c085efbe8ea063934a",
       "version_major": 2,
       "version_minor": 0
      },
      "text/plain": [
       "Epoch [925/1000]:   0%|          | 0/10 [00:00<?, ?it/s]"
      ]
     },
     "metadata": {},
     "output_type": "display_data"
    },
    {
     "name": "stdout",
     "output_type": "stream",
     "text": [
      "Epoch 925/1000 — Recon_U: 0.0244, Recon_L: 0.0164, SemiSup: 0.0084, Disc_Cat: 1.3404, Gen_Cat: 0.9577, Disc_Sty: 1.3963, Gen_Sty: 0.6882\n",
      "Validation Accuracy: 94.14%\n",
      "\n",
      "Weights saved to semisupervised_results/1000_epochs_adam_1000_samples/weights_*.pth\n"
     ]
    },
    {
     "data": {
      "application/vnd.jupyter.widget-view+json": {
       "model_id": "550a08cf2b54431f8e4d4bdc85865ab5",
       "version_major": 2,
       "version_minor": 0
      },
      "text/plain": [
       "Epoch [926/1000]:   0%|          | 0/10 [00:00<?, ?it/s]"
      ]
     },
     "metadata": {},
     "output_type": "display_data"
    },
    {
     "name": "stdout",
     "output_type": "stream",
     "text": [
      "Epoch 926/1000 — Recon_U: 0.0240, Recon_L: 0.0164, SemiSup: 0.0092, Disc_Cat: 1.3378, Gen_Cat: 0.9474, Disc_Sty: 1.3884, Gen_Sty: 0.6926\n",
      "Validation Accuracy: 94.03%\n",
      "\n",
      "Weights saved to semisupervised_results/1000_epochs_adam_1000_samples/weights_*.pth\n"
     ]
    },
    {
     "data": {
      "application/vnd.jupyter.widget-view+json": {
       "model_id": "1294800ba4de422eb296ab163b20d0cd",
       "version_major": 2,
       "version_minor": 0
      },
      "text/plain": [
       "Epoch [927/1000]:   0%|          | 0/10 [00:00<?, ?it/s]"
      ]
     },
     "metadata": {},
     "output_type": "display_data"
    },
    {
     "name": "stdout",
     "output_type": "stream",
     "text": [
      "Epoch 927/1000 — Recon_U: 0.0249, Recon_L: 0.0162, SemiSup: 0.0096, Disc_Cat: 1.3277, Gen_Cat: 0.9999, Disc_Sty: 1.3837, Gen_Sty: 0.6945\n",
      "Validation Accuracy: 94.08%\n",
      "\n",
      "Weights saved to semisupervised_results/1000_epochs_adam_1000_samples/weights_*.pth\n"
     ]
    },
    {
     "data": {
      "application/vnd.jupyter.widget-view+json": {
       "model_id": "ba2233be5e9b454e9c431e87cf9b7741",
       "version_major": 2,
       "version_minor": 0
      },
      "text/plain": [
       "Epoch [928/1000]:   0%|          | 0/10 [00:00<?, ?it/s]"
      ]
     },
     "metadata": {},
     "output_type": "display_data"
    },
    {
     "name": "stdout",
     "output_type": "stream",
     "text": [
      "Epoch 928/1000 — Recon_U: 0.0247, Recon_L: 0.0161, SemiSup: 0.0081, Disc_Cat: 1.3397, Gen_Cat: 0.9576, Disc_Sty: 1.3829, Gen_Sty: 0.6947\n",
      "Validation Accuracy: 94.10%\n",
      "\n",
      "Weights saved to semisupervised_results/1000_epochs_adam_1000_samples/weights_*.pth\n"
     ]
    },
    {
     "data": {
      "application/vnd.jupyter.widget-view+json": {
       "model_id": "35730e458a334a7e8967b12a1b91620d",
       "version_major": 2,
       "version_minor": 0
      },
      "text/plain": [
       "Epoch [929/1000]:   0%|          | 0/10 [00:00<?, ?it/s]"
      ]
     },
     "metadata": {},
     "output_type": "display_data"
    },
    {
     "name": "stdout",
     "output_type": "stream",
     "text": [
      "Epoch 929/1000 — Recon_U: 0.0234, Recon_L: 0.0161, SemiSup: 0.0037, Disc_Cat: 1.3407, Gen_Cat: 0.9298, Disc_Sty: 1.3872, Gen_Sty: 0.6897\n",
      "Validation Accuracy: 94.10%\n",
      "\n",
      "Weights saved to semisupervised_results/1000_epochs_adam_1000_samples/weights_*.pth\n"
     ]
    },
    {
     "data": {
      "application/vnd.jupyter.widget-view+json": {
       "model_id": "06b9187c9c01446cab92bdf4c0cd7ade",
       "version_major": 2,
       "version_minor": 0
      },
      "text/plain": [
       "Epoch [930/1000]:   0%|          | 0/10 [00:00<?, ?it/s]"
      ]
     },
     "metadata": {},
     "output_type": "display_data"
    },
    {
     "name": "stdout",
     "output_type": "stream",
     "text": [
      "Epoch 930/1000 — Recon_U: 0.0244, Recon_L: 0.0162, SemiSup: 0.0037, Disc_Cat: 1.3463, Gen_Cat: 0.9090, Disc_Sty: 1.3914, Gen_Sty: 0.6874\n",
      "Validation Accuracy: 94.12%\n",
      "\n",
      "Weights saved to semisupervised_results/1000_epochs_adam_1000_samples/weights_*.pth\n"
     ]
    },
    {
     "data": {
      "application/vnd.jupyter.widget-view+json": {
       "model_id": "bf2032a9c3c54fc98bd448e57c21aef9",
       "version_major": 2,
       "version_minor": 0
      },
      "text/plain": [
       "Epoch [931/1000]:   0%|          | 0/10 [00:00<?, ?it/s]"
      ]
     },
     "metadata": {},
     "output_type": "display_data"
    },
    {
     "name": "stdout",
     "output_type": "stream",
     "text": [
      "Epoch 931/1000 — Recon_U: 0.0236, Recon_L: 0.0163, SemiSup: 0.0190, Disc_Cat: 1.3432, Gen_Cat: 0.9142, Disc_Sty: 1.3926, Gen_Sty: 0.6908\n",
      "Validation Accuracy: 94.07%\n",
      "\n",
      "Weights saved to semisupervised_results/1000_epochs_adam_1000_samples/weights_*.pth\n"
     ]
    },
    {
     "data": {
      "application/vnd.jupyter.widget-view+json": {
       "model_id": "8e1838a895fd46dfb1e019f5896a766c",
       "version_major": 2,
       "version_minor": 0
      },
      "text/plain": [
       "Epoch [932/1000]:   0%|          | 0/10 [00:00<?, ?it/s]"
      ]
     },
     "metadata": {},
     "output_type": "display_data"
    },
    {
     "name": "stdout",
     "output_type": "stream",
     "text": [
      "Epoch 932/1000 — Recon_U: 0.0237, Recon_L: 0.0163, SemiSup: 0.0022, Disc_Cat: 1.3397, Gen_Cat: 0.9396, Disc_Sty: 1.3887, Gen_Sty: 0.6996\n",
      "Validation Accuracy: 94.10%\n",
      "\n",
      "Weights saved to semisupervised_results/1000_epochs_adam_1000_samples/weights_*.pth\n"
     ]
    },
    {
     "data": {
      "application/vnd.jupyter.widget-view+json": {
       "model_id": "07fee1e2dfaa475fb357e7e8abbfbe52",
       "version_major": 2,
       "version_minor": 0
      },
      "text/plain": [
       "Epoch [933/1000]:   0%|          | 0/10 [00:00<?, ?it/s]"
      ]
     },
     "metadata": {},
     "output_type": "display_data"
    },
    {
     "name": "stdout",
     "output_type": "stream",
     "text": [
      "Epoch 933/1000 — Recon_U: 0.0241, Recon_L: 0.0162, SemiSup: 0.0006, Disc_Cat: 1.3388, Gen_Cat: 0.9585, Disc_Sty: 1.3852, Gen_Sty: 0.7046\n",
      "Validation Accuracy: 94.07%\n",
      "\n",
      "Weights saved to semisupervised_results/1000_epochs_adam_1000_samples/weights_*.pth\n"
     ]
    },
    {
     "data": {
      "application/vnd.jupyter.widget-view+json": {
       "model_id": "8478498d3bd24e8f81a74871b8da1045",
       "version_major": 2,
       "version_minor": 0
      },
      "text/plain": [
       "Epoch [934/1000]:   0%|          | 0/10 [00:00<?, ?it/s]"
      ]
     },
     "metadata": {},
     "output_type": "display_data"
    },
    {
     "name": "stdout",
     "output_type": "stream",
     "text": [
      "Epoch 934/1000 — Recon_U: 0.0246, Recon_L: 0.0162, SemiSup: 0.0163, Disc_Cat: 1.3336, Gen_Cat: 0.9594, Disc_Sty: 1.3866, Gen_Sty: 0.7010\n",
      "Validation Accuracy: 94.03%\n",
      "\n",
      "Weights saved to semisupervised_results/1000_epochs_adam_1000_samples/weights_*.pth\n"
     ]
    },
    {
     "data": {
      "application/vnd.jupyter.widget-view+json": {
       "model_id": "6d59fba4d102489c8ee6e456c57a79ff",
       "version_major": 2,
       "version_minor": 0
      },
      "text/plain": [
       "Epoch [935/1000]:   0%|          | 0/10 [00:00<?, ?it/s]"
      ]
     },
     "metadata": {},
     "output_type": "display_data"
    },
    {
     "name": "stdout",
     "output_type": "stream",
     "text": [
      "Epoch 935/1000 — Recon_U: 0.0245, Recon_L: 0.0162, SemiSup: 0.0002, Disc_Cat: 1.3474, Gen_Cat: 0.9036, Disc_Sty: 1.3879, Gen_Sty: 0.6972\n",
      "Validation Accuracy: 94.00%\n",
      "\n",
      "Weights saved to semisupervised_results/1000_epochs_adam_1000_samples/weights_*.pth\n"
     ]
    },
    {
     "data": {
      "application/vnd.jupyter.widget-view+json": {
       "model_id": "0a41861abb794f06900ad2175033e8bd",
       "version_major": 2,
       "version_minor": 0
      },
      "text/plain": [
       "Epoch [936/1000]:   0%|          | 0/10 [00:00<?, ?it/s]"
      ]
     },
     "metadata": {},
     "output_type": "display_data"
    },
    {
     "name": "stdout",
     "output_type": "stream",
     "text": [
      "Epoch 936/1000 — Recon_U: 0.0243, Recon_L: 0.0161, SemiSup: 0.0015, Disc_Cat: 1.3344, Gen_Cat: 1.0052, Disc_Sty: 1.3901, Gen_Sty: 0.6923\n",
      "Validation Accuracy: 93.98%\n",
      "\n",
      "Weights saved to semisupervised_results/1000_epochs_adam_1000_samples/weights_*.pth\n"
     ]
    },
    {
     "data": {
      "application/vnd.jupyter.widget-view+json": {
       "model_id": "e9b058d552d04a0bbab65195f432a238",
       "version_major": 2,
       "version_minor": 0
      },
      "text/plain": [
       "Epoch [937/1000]:   0%|          | 0/10 [00:00<?, ?it/s]"
      ]
     },
     "metadata": {},
     "output_type": "display_data"
    },
    {
     "name": "stdout",
     "output_type": "stream",
     "text": [
      "Epoch 937/1000 — Recon_U: 0.0238, Recon_L: 0.0160, SemiSup: 0.0132, Disc_Cat: 1.3304, Gen_Cat: 0.9460, Disc_Sty: 1.3874, Gen_Sty: 0.6901\n",
      "Validation Accuracy: 94.05%\n",
      "\n",
      "Weights saved to semisupervised_results/1000_epochs_adam_1000_samples/weights_*.pth\n"
     ]
    },
    {
     "data": {
      "application/vnd.jupyter.widget-view+json": {
       "model_id": "3ce93e7d3b0442a7bf4f1b9590243217",
       "version_major": 2,
       "version_minor": 0
      },
      "text/plain": [
       "Epoch [938/1000]:   0%|          | 0/10 [00:00<?, ?it/s]"
      ]
     },
     "metadata": {},
     "output_type": "display_data"
    },
    {
     "name": "stdout",
     "output_type": "stream",
     "text": [
      "Epoch 938/1000 — Recon_U: 0.0234, Recon_L: 0.0160, SemiSup: 0.0007, Disc_Cat: 1.3371, Gen_Cat: 0.9395, Disc_Sty: 1.3844, Gen_Sty: 0.6889\n",
      "Validation Accuracy: 94.03%\n",
      "\n",
      "Weights saved to semisupervised_results/1000_epochs_adam_1000_samples/weights_*.pth\n"
     ]
    },
    {
     "data": {
      "application/vnd.jupyter.widget-view+json": {
       "model_id": "14a51423ca3947cf968dab2d58841c2c",
       "version_major": 2,
       "version_minor": 0
      },
      "text/plain": [
       "Epoch [939/1000]:   0%|          | 0/10 [00:00<?, ?it/s]"
      ]
     },
     "metadata": {},
     "output_type": "display_data"
    },
    {
     "name": "stdout",
     "output_type": "stream",
     "text": [
      "Epoch 939/1000 — Recon_U: 0.0240, Recon_L: 0.0160, SemiSup: 0.0060, Disc_Cat: 1.3512, Gen_Cat: 0.8860, Disc_Sty: 1.3861, Gen_Sty: 0.6875\n",
      "Validation Accuracy: 93.98%\n",
      "\n",
      "Weights saved to semisupervised_results/1000_epochs_adam_1000_samples/weights_*.pth\n"
     ]
    },
    {
     "data": {
      "application/vnd.jupyter.widget-view+json": {
       "model_id": "61b75dfc3a2548bf98f1c38ab8339d82",
       "version_major": 2,
       "version_minor": 0
      },
      "text/plain": [
       "Epoch [940/1000]:   0%|          | 0/10 [00:00<?, ?it/s]"
      ]
     },
     "metadata": {},
     "output_type": "display_data"
    },
    {
     "name": "stdout",
     "output_type": "stream",
     "text": [
      "Epoch 940/1000 — Recon_U: 0.0239, Recon_L: 0.0159, SemiSup: 0.0006, Disc_Cat: 1.3470, Gen_Cat: 0.8857, Disc_Sty: 1.3845, Gen_Sty: 0.6874\n",
      "Validation Accuracy: 93.95%\n",
      "\n",
      "Weights saved to semisupervised_results/1000_epochs_adam_1000_samples/weights_*.pth\n"
     ]
    },
    {
     "data": {
      "application/vnd.jupyter.widget-view+json": {
       "model_id": "85c9a320cfcb45a3a0d89b323bdfb8b7",
       "version_major": 2,
       "version_minor": 0
      },
      "text/plain": [
       "Epoch [941/1000]:   0%|          | 0/10 [00:00<?, ?it/s]"
      ]
     },
     "metadata": {},
     "output_type": "display_data"
    },
    {
     "name": "stdout",
     "output_type": "stream",
     "text": [
      "Epoch 941/1000 — Recon_U: 0.0242, Recon_L: 0.0157, SemiSup: 0.0142, Disc_Cat: 1.3607, Gen_Cat: 0.8640, Disc_Sty: 1.3859, Gen_Sty: 0.6866\n",
      "Validation Accuracy: 94.00%\n",
      "\n",
      "Weights saved to semisupervised_results/1000_epochs_adam_1000_samples/weights_*.pth\n"
     ]
    },
    {
     "data": {
      "application/vnd.jupyter.widget-view+json": {
       "model_id": "1a091e5f321c46478c36efce47b1db1c",
       "version_major": 2,
       "version_minor": 0
      },
      "text/plain": [
       "Epoch [942/1000]:   0%|          | 0/10 [00:00<?, ?it/s]"
      ]
     },
     "metadata": {},
     "output_type": "display_data"
    },
    {
     "name": "stdout",
     "output_type": "stream",
     "text": [
      "Epoch 942/1000 — Recon_U: 0.0240, Recon_L: 0.0157, SemiSup: 0.0029, Disc_Cat: 1.3465, Gen_Cat: 0.9132, Disc_Sty: 1.3839, Gen_Sty: 0.6871\n",
      "Validation Accuracy: 94.03%\n",
      "\n",
      "Weights saved to semisupervised_results/1000_epochs_adam_1000_samples/weights_*.pth\n"
     ]
    },
    {
     "data": {
      "application/vnd.jupyter.widget-view+json": {
       "model_id": "e0464dc92cd04eb7ad9143704085a379",
       "version_major": 2,
       "version_minor": 0
      },
      "text/plain": [
       "Epoch [943/1000]:   0%|          | 0/10 [00:00<?, ?it/s]"
      ]
     },
     "metadata": {},
     "output_type": "display_data"
    },
    {
     "name": "stdout",
     "output_type": "stream",
     "text": [
      "Epoch 943/1000 — Recon_U: 0.0238, Recon_L: 0.0159, SemiSup: 0.0014, Disc_Cat: 1.3335, Gen_Cat: 0.9773, Disc_Sty: 1.3864, Gen_Sty: 0.6853\n",
      "Validation Accuracy: 94.10%\n",
      "\n",
      "Weights saved to semisupervised_results/1000_epochs_adam_1000_samples/weights_*.pth\n"
     ]
    },
    {
     "data": {
      "application/vnd.jupyter.widget-view+json": {
       "model_id": "8b59f700c298438ea3ecd855350d2c61",
       "version_major": 2,
       "version_minor": 0
      },
      "text/plain": [
       "Epoch [944/1000]:   0%|          | 0/10 [00:00<?, ?it/s]"
      ]
     },
     "metadata": {},
     "output_type": "display_data"
    },
    {
     "name": "stdout",
     "output_type": "stream",
     "text": [
      "Epoch 944/1000 — Recon_U: 0.0241, Recon_L: 0.0160, SemiSup: 0.0112, Disc_Cat: 1.3422, Gen_Cat: 0.9430, Disc_Sty: 1.3899, Gen_Sty: 0.6866\n",
      "Validation Accuracy: 94.07%\n",
      "\n",
      "Weights saved to semisupervised_results/1000_epochs_adam_1000_samples/weights_*.pth\n"
     ]
    },
    {
     "data": {
      "application/vnd.jupyter.widget-view+json": {
       "model_id": "477808bd40dc4883868538dc2ee50c77",
       "version_major": 2,
       "version_minor": 0
      },
      "text/plain": [
       "Epoch [945/1000]:   0%|          | 0/10 [00:00<?, ?it/s]"
      ]
     },
     "metadata": {},
     "output_type": "display_data"
    },
    {
     "name": "stdout",
     "output_type": "stream",
     "text": [
      "Epoch 945/1000 — Recon_U: 0.0236, Recon_L: 0.0160, SemiSup: 0.0109, Disc_Cat: 1.3354, Gen_Cat: 0.9143, Disc_Sty: 1.3875, Gen_Sty: 0.6925\n",
      "Validation Accuracy: 94.14%\n",
      "\n",
      "Weights saved to semisupervised_results/1000_epochs_adam_1000_samples/weights_*.pth\n"
     ]
    },
    {
     "data": {
      "application/vnd.jupyter.widget-view+json": {
       "model_id": "22bf27987443451b92c74aacebc82c2f",
       "version_major": 2,
       "version_minor": 0
      },
      "text/plain": [
       "Epoch [946/1000]:   0%|          | 0/10 [00:00<?, ?it/s]"
      ]
     },
     "metadata": {},
     "output_type": "display_data"
    },
    {
     "name": "stdout",
     "output_type": "stream",
     "text": [
      "Epoch 946/1000 — Recon_U: 0.0248, Recon_L: 0.0160, SemiSup: 0.0058, Disc_Cat: 1.3377, Gen_Cat: 0.9723, Disc_Sty: 1.3854, Gen_Sty: 0.6994\n",
      "Validation Accuracy: 94.14%\n",
      "\n",
      "Weights saved to semisupervised_results/1000_epochs_adam_1000_samples/weights_*.pth\n"
     ]
    },
    {
     "data": {
      "application/vnd.jupyter.widget-view+json": {
       "model_id": "1fb7a3ade1ad4461a7b8d1ae967da214",
       "version_major": 2,
       "version_minor": 0
      },
      "text/plain": [
       "Epoch [947/1000]:   0%|          | 0/10 [00:00<?, ?it/s]"
      ]
     },
     "metadata": {},
     "output_type": "display_data"
    },
    {
     "name": "stdout",
     "output_type": "stream",
     "text": [
      "Epoch 947/1000 — Recon_U: 0.0241, Recon_L: 0.0160, SemiSup: 0.0002, Disc_Cat: 1.3412, Gen_Cat: 0.9540, Disc_Sty: 1.3851, Gen_Sty: 0.7030\n",
      "Validation Accuracy: 94.20%\n",
      "\n",
      "Weights saved to semisupervised_results/1000_epochs_adam_1000_samples/weights_*.pth\n"
     ]
    },
    {
     "data": {
      "application/vnd.jupyter.widget-view+json": {
       "model_id": "7771341ad97b4ff088d9f93128dde11b",
       "version_major": 2,
       "version_minor": 0
      },
      "text/plain": [
       "Epoch [948/1000]:   0%|          | 0/10 [00:00<?, ?it/s]"
      ]
     },
     "metadata": {},
     "output_type": "display_data"
    },
    {
     "name": "stdout",
     "output_type": "stream",
     "text": [
      "Epoch 948/1000 — Recon_U: 0.0246, Recon_L: 0.0160, SemiSup: 0.0061, Disc_Cat: 1.3427, Gen_Cat: 0.9057, Disc_Sty: 1.3857, Gen_Sty: 0.7049\n",
      "Validation Accuracy: 94.25%\n",
      "\n",
      "Weights saved to semisupervised_results/1000_epochs_adam_1000_samples/weights_*.pth\n"
     ]
    },
    {
     "data": {
      "application/vnd.jupyter.widget-view+json": {
       "model_id": "b0ff256e9ffb4dc68586ee472e203192",
       "version_major": 2,
       "version_minor": 0
      },
      "text/plain": [
       "Epoch [949/1000]:   0%|          | 0/10 [00:00<?, ?it/s]"
      ]
     },
     "metadata": {},
     "output_type": "display_data"
    },
    {
     "name": "stdout",
     "output_type": "stream",
     "text": [
      "Epoch 949/1000 — Recon_U: 0.0248, Recon_L: 0.0160, SemiSup: 0.0078, Disc_Cat: 1.3448, Gen_Cat: 0.8965, Disc_Sty: 1.3904, Gen_Sty: 0.7020\n",
      "Validation Accuracy: 94.24%\n",
      "\n",
      "Weights saved to semisupervised_results/1000_epochs_adam_1000_samples/weights_*.pth\n"
     ]
    },
    {
     "data": {
      "application/vnd.jupyter.widget-view+json": {
       "model_id": "2c3e6704b6bd4329a85e8047665c915c",
       "version_major": 2,
       "version_minor": 0
      },
      "text/plain": [
       "Epoch [950/1000]:   0%|          | 0/10 [00:00<?, ?it/s]"
      ]
     },
     "metadata": {},
     "output_type": "display_data"
    },
    {
     "name": "stdout",
     "output_type": "stream",
     "text": [
      "Epoch 950/1000 — Recon_U: 0.0239, Recon_L: 0.0159, SemiSup: 0.0021, Disc_Cat: 1.3496, Gen_Cat: 0.8959, Disc_Sty: 1.3888, Gen_Sty: 0.6993\n",
      "Validation Accuracy: 94.19%\n",
      "\n",
      "Weights saved to semisupervised_results/1000_epochs_adam_1000_samples/weights_epoch_950/weights_*.pth\n",
      "Weights saved to semisupervised_results/1000_epochs_adam_1000_samples/weights_*.pth\n"
     ]
    },
    {
     "data": {
      "application/vnd.jupyter.widget-view+json": {
       "model_id": "a34f0fd698344c619a7eac6e85d6209c",
       "version_major": 2,
       "version_minor": 0
      },
      "text/plain": [
       "Epoch [951/1000]:   0%|          | 0/10 [00:00<?, ?it/s]"
      ]
     },
     "metadata": {},
     "output_type": "display_data"
    },
    {
     "name": "stdout",
     "output_type": "stream",
     "text": [
      "Epoch 951/1000 — Recon_U: 0.0238, Recon_L: 0.0158, SemiSup: 0.0010, Disc_Cat: 1.3553, Gen_Cat: 0.8979, Disc_Sty: 1.3886, Gen_Sty: 0.6970\n",
      "Validation Accuracy: 94.17%\n",
      "\n",
      "Weights saved to semisupervised_results/1000_epochs_adam_1000_samples/weights_*.pth\n"
     ]
    },
    {
     "data": {
      "application/vnd.jupyter.widget-view+json": {
       "model_id": "2a97272d0eb34846bc0fe3aa6f052ec1",
       "version_major": 2,
       "version_minor": 0
      },
      "text/plain": [
       "Epoch [952/1000]:   0%|          | 0/10 [00:00<?, ?it/s]"
      ]
     },
     "metadata": {},
     "output_type": "display_data"
    },
    {
     "name": "stdout",
     "output_type": "stream",
     "text": [
      "Epoch 952/1000 — Recon_U: 0.0241, Recon_L: 0.0159, SemiSup: 0.0024, Disc_Cat: 1.3334, Gen_Cat: 0.9423, Disc_Sty: 1.3873, Gen_Sty: 0.6938\n",
      "Validation Accuracy: 94.15%\n",
      "\n",
      "Weights saved to semisupervised_results/1000_epochs_adam_1000_samples/weights_*.pth\n"
     ]
    },
    {
     "data": {
      "application/vnd.jupyter.widget-view+json": {
       "model_id": "51bc742ce5264736a452f9cb9d901294",
       "version_major": 2,
       "version_minor": 0
      },
      "text/plain": [
       "Epoch [953/1000]:   0%|          | 0/10 [00:00<?, ?it/s]"
      ]
     },
     "metadata": {},
     "output_type": "display_data"
    },
    {
     "name": "stdout",
     "output_type": "stream",
     "text": [
      "Epoch 953/1000 — Recon_U: 0.0241, Recon_L: 0.0157, SemiSup: 0.0103, Disc_Cat: 1.3422, Gen_Cat: 0.9412, Disc_Sty: 1.3859, Gen_Sty: 0.6930\n",
      "Validation Accuracy: 94.19%\n",
      "\n",
      "Weights saved to semisupervised_results/1000_epochs_adam_1000_samples/weights_*.pth\n"
     ]
    },
    {
     "data": {
      "application/vnd.jupyter.widget-view+json": {
       "model_id": "ec421cf2e4584d2b9a4a8411a0a52295",
       "version_major": 2,
       "version_minor": 0
      },
      "text/plain": [
       "Epoch [954/1000]:   0%|          | 0/10 [00:00<?, ?it/s]"
      ]
     },
     "metadata": {},
     "output_type": "display_data"
    },
    {
     "name": "stdout",
     "output_type": "stream",
     "text": [
      "Epoch 954/1000 — Recon_U: 0.0238, Recon_L: 0.0157, SemiSup: 0.0035, Disc_Cat: 1.3409, Gen_Cat: 0.9429, Disc_Sty: 1.3840, Gen_Sty: 0.6915\n",
      "Validation Accuracy: 94.17%\n",
      "\n",
      "Weights saved to semisupervised_results/1000_epochs_adam_1000_samples/weights_*.pth\n"
     ]
    },
    {
     "data": {
      "application/vnd.jupyter.widget-view+json": {
       "model_id": "b7324632e5334ad8bd1b55f373c72abf",
       "version_major": 2,
       "version_minor": 0
      },
      "text/plain": [
       "Epoch [955/1000]:   0%|          | 0/10 [00:00<?, ?it/s]"
      ]
     },
     "metadata": {},
     "output_type": "display_data"
    },
    {
     "name": "stdout",
     "output_type": "stream",
     "text": [
      "Epoch 955/1000 — Recon_U: 0.0248, Recon_L: 0.0158, SemiSup: 0.0130, Disc_Cat: 1.3490, Gen_Cat: 0.8785, Disc_Sty: 1.3827, Gen_Sty: 0.6891\n",
      "Validation Accuracy: 94.14%\n",
      "\n",
      "Weights saved to semisupervised_results/1000_epochs_adam_1000_samples/weights_*.pth\n"
     ]
    },
    {
     "data": {
      "application/vnd.jupyter.widget-view+json": {
       "model_id": "0523ab56833a4826b432e8ec2b1e7987",
       "version_major": 2,
       "version_minor": 0
      },
      "text/plain": [
       "Epoch [956/1000]:   0%|          | 0/10 [00:00<?, ?it/s]"
      ]
     },
     "metadata": {},
     "output_type": "display_data"
    },
    {
     "name": "stdout",
     "output_type": "stream",
     "text": [
      "Epoch 956/1000 — Recon_U: 0.0240, Recon_L: 0.0158, SemiSup: 0.0170, Disc_Cat: 1.3469, Gen_Cat: 0.9074, Disc_Sty: 1.3855, Gen_Sty: 0.6890\n",
      "Validation Accuracy: 94.14%\n",
      "\n",
      "Weights saved to semisupervised_results/1000_epochs_adam_1000_samples/weights_*.pth\n"
     ]
    },
    {
     "data": {
      "application/vnd.jupyter.widget-view+json": {
       "model_id": "083a41dbf2d245c294c1a92747d417fe",
       "version_major": 2,
       "version_minor": 0
      },
      "text/plain": [
       "Epoch [957/1000]:   0%|          | 0/10 [00:00<?, ?it/s]"
      ]
     },
     "metadata": {},
     "output_type": "display_data"
    },
    {
     "name": "stdout",
     "output_type": "stream",
     "text": [
      "Epoch 957/1000 — Recon_U: 0.0246, Recon_L: 0.0158, SemiSup: 0.0016, Disc_Cat: 1.3419, Gen_Cat: 0.9419, Disc_Sty: 1.3860, Gen_Sty: 0.6872\n",
      "Validation Accuracy: 94.05%\n",
      "\n",
      "Weights saved to semisupervised_results/1000_epochs_adam_1000_samples/weights_*.pth\n"
     ]
    },
    {
     "data": {
      "application/vnd.jupyter.widget-view+json": {
       "model_id": "4812203558094d57be9f60b92eb6aad8",
       "version_major": 2,
       "version_minor": 0
      },
      "text/plain": [
       "Epoch [958/1000]:   0%|          | 0/10 [00:00<?, ?it/s]"
      ]
     },
     "metadata": {},
     "output_type": "display_data"
    },
    {
     "name": "stdout",
     "output_type": "stream",
     "text": [
      "Epoch 958/1000 — Recon_U: 0.0240, Recon_L: 0.0159, SemiSup: 0.0206, Disc_Cat: 1.3410, Gen_Cat: 0.9527, Disc_Sty: 1.3880, Gen_Sty: 0.6865\n",
      "Validation Accuracy: 94.02%\n",
      "\n",
      "Weights saved to semisupervised_results/1000_epochs_adam_1000_samples/weights_*.pth\n"
     ]
    },
    {
     "data": {
      "application/vnd.jupyter.widget-view+json": {
       "model_id": "deee1c307c674798b0ed10496150b7d9",
       "version_major": 2,
       "version_minor": 0
      },
      "text/plain": [
       "Epoch [959/1000]:   0%|          | 0/10 [00:00<?, ?it/s]"
      ]
     },
     "metadata": {},
     "output_type": "display_data"
    },
    {
     "name": "stdout",
     "output_type": "stream",
     "text": [
      "Epoch 959/1000 — Recon_U: 0.0244, Recon_L: 0.0157, SemiSup: 0.0056, Disc_Cat: 1.3383, Gen_Cat: 0.9239, Disc_Sty: 1.3878, Gen_Sty: 0.6903\n",
      "Validation Accuracy: 94.07%\n",
      "\n",
      "Weights saved to semisupervised_results/1000_epochs_adam_1000_samples/weights_*.pth\n"
     ]
    },
    {
     "data": {
      "application/vnd.jupyter.widget-view+json": {
       "model_id": "7cd8e72133a64c21a58884e9245abaf7",
       "version_major": 2,
       "version_minor": 0
      },
      "text/plain": [
       "Epoch [960/1000]:   0%|          | 0/10 [00:00<?, ?it/s]"
      ]
     },
     "metadata": {},
     "output_type": "display_data"
    },
    {
     "name": "stdout",
     "output_type": "stream",
     "text": [
      "Epoch 960/1000 — Recon_U: 0.0241, Recon_L: 0.0158, SemiSup: 0.0012, Disc_Cat: 1.3438, Gen_Cat: 0.9488, Disc_Sty: 1.3846, Gen_Sty: 0.6952\n",
      "Validation Accuracy: 94.07%\n",
      "\n",
      "Weights saved to semisupervised_results/1000_epochs_adam_1000_samples/weights_*.pth\n"
     ]
    },
    {
     "data": {
      "application/vnd.jupyter.widget-view+json": {
       "model_id": "3b2d8a793ac04a53ab7f97a3f549f1a3",
       "version_major": 2,
       "version_minor": 0
      },
      "text/plain": [
       "Epoch [961/1000]:   0%|          | 0/10 [00:00<?, ?it/s]"
      ]
     },
     "metadata": {},
     "output_type": "display_data"
    },
    {
     "name": "stdout",
     "output_type": "stream",
     "text": [
      "Epoch 961/1000 — Recon_U: 0.0242, Recon_L: 0.0157, SemiSup: 0.0028, Disc_Cat: 1.3392, Gen_Cat: 0.8976, Disc_Sty: 1.3836, Gen_Sty: 0.6996\n",
      "Validation Accuracy: 94.14%\n",
      "\n",
      "Weights saved to semisupervised_results/1000_epochs_adam_1000_samples/weights_*.pth\n"
     ]
    },
    {
     "data": {
      "application/vnd.jupyter.widget-view+json": {
       "model_id": "08813c339a8946cc9a30302574a704aa",
       "version_major": 2,
       "version_minor": 0
      },
      "text/plain": [
       "Epoch [962/1000]:   0%|          | 0/10 [00:00<?, ?it/s]"
      ]
     },
     "metadata": {},
     "output_type": "display_data"
    },
    {
     "name": "stdout",
     "output_type": "stream",
     "text": [
      "Epoch 962/1000 — Recon_U: 0.0240, Recon_L: 0.0159, SemiSup: 0.0082, Disc_Cat: 1.3518, Gen_Cat: 0.9211, Disc_Sty: 1.3827, Gen_Sty: 0.7027\n",
      "Validation Accuracy: 94.03%\n",
      "\n",
      "Weights saved to semisupervised_results/1000_epochs_adam_1000_samples/weights_*.pth\n"
     ]
    },
    {
     "data": {
      "application/vnd.jupyter.widget-view+json": {
       "model_id": "e2b90cb15ebb444b9fa01fe02b27499f",
       "version_major": 2,
       "version_minor": 0
      },
      "text/plain": [
       "Epoch [963/1000]:   0%|          | 0/10 [00:00<?, ?it/s]"
      ]
     },
     "metadata": {},
     "output_type": "display_data"
    },
    {
     "name": "stdout",
     "output_type": "stream",
     "text": [
      "Epoch 963/1000 — Recon_U: 0.0240, Recon_L: 0.0158, SemiSup: 0.0007, Disc_Cat: 1.3492, Gen_Cat: 0.8935, Disc_Sty: 1.3841, Gen_Sty: 0.7014\n",
      "Validation Accuracy: 94.03%\n",
      "\n",
      "Weights saved to semisupervised_results/1000_epochs_adam_1000_samples/weights_*.pth\n"
     ]
    },
    {
     "data": {
      "application/vnd.jupyter.widget-view+json": {
       "model_id": "a37d2c9151fe4fb5b067d8ad54e76fc7",
       "version_major": 2,
       "version_minor": 0
      },
      "text/plain": [
       "Epoch [964/1000]:   0%|          | 0/10 [00:00<?, ?it/s]"
      ]
     },
     "metadata": {},
     "output_type": "display_data"
    },
    {
     "name": "stdout",
     "output_type": "stream",
     "text": [
      "Epoch 964/1000 — Recon_U: 0.0239, Recon_L: 0.0157, SemiSup: 0.0099, Disc_Cat: 1.3374, Gen_Cat: 0.9439, Disc_Sty: 1.3851, Gen_Sty: 0.6980\n",
      "Validation Accuracy: 93.95%\n",
      "\n",
      "Weights saved to semisupervised_results/1000_epochs_adam_1000_samples/weights_*.pth\n"
     ]
    },
    {
     "data": {
      "application/vnd.jupyter.widget-view+json": {
       "model_id": "0cc397eca11f4437a5df9d06d9721753",
       "version_major": 2,
       "version_minor": 0
      },
      "text/plain": [
       "Epoch [965/1000]:   0%|          | 0/10 [00:00<?, ?it/s]"
      ]
     },
     "metadata": {},
     "output_type": "display_data"
    },
    {
     "name": "stdout",
     "output_type": "stream",
     "text": [
      "Epoch 965/1000 — Recon_U: 0.0243, Recon_L: 0.0159, SemiSup: 0.0175, Disc_Cat: 1.3463, Gen_Cat: 0.9296, Disc_Sty: 1.3875, Gen_Sty: 0.6943\n",
      "Validation Accuracy: 94.02%\n",
      "\n",
      "Weights saved to semisupervised_results/1000_epochs_adam_1000_samples/weights_*.pth\n"
     ]
    },
    {
     "data": {
      "application/vnd.jupyter.widget-view+json": {
       "model_id": "0fe6ed28daac418f9f8633463dd477d3",
       "version_major": 2,
       "version_minor": 0
      },
      "text/plain": [
       "Epoch [966/1000]:   0%|          | 0/10 [00:00<?, ?it/s]"
      ]
     },
     "metadata": {},
     "output_type": "display_data"
    },
    {
     "name": "stdout",
     "output_type": "stream",
     "text": [
      "Epoch 966/1000 — Recon_U: 0.0233, Recon_L: 0.0157, SemiSup: 0.0149, Disc_Cat: 1.3304, Gen_Cat: 0.9949, Disc_Sty: 1.3875, Gen_Sty: 0.6926\n",
      "Validation Accuracy: 94.02%\n",
      "\n",
      "Weights saved to semisupervised_results/1000_epochs_adam_1000_samples/weights_*.pth\n"
     ]
    },
    {
     "data": {
      "application/vnd.jupyter.widget-view+json": {
       "model_id": "e31588cf8e3a452dafbc955bcf22239f",
       "version_major": 2,
       "version_minor": 0
      },
      "text/plain": [
       "Epoch [967/1000]:   0%|          | 0/10 [00:00<?, ?it/s]"
      ]
     },
     "metadata": {},
     "output_type": "display_data"
    },
    {
     "name": "stdout",
     "output_type": "stream",
     "text": [
      "Epoch 967/1000 — Recon_U: 0.0237, Recon_L: 0.0157, SemiSup: 0.0042, Disc_Cat: 1.3458, Gen_Cat: 0.9096, Disc_Sty: 1.3850, Gen_Sty: 0.6904\n",
      "Validation Accuracy: 94.05%\n",
      "\n",
      "Weights saved to semisupervised_results/1000_epochs_adam_1000_samples/weights_*.pth\n"
     ]
    },
    {
     "data": {
      "application/vnd.jupyter.widget-view+json": {
       "model_id": "126dbbd0f716455499b09c9d569807a5",
       "version_major": 2,
       "version_minor": 0
      },
      "text/plain": [
       "Epoch [968/1000]:   0%|          | 0/10 [00:00<?, ?it/s]"
      ]
     },
     "metadata": {},
     "output_type": "display_data"
    },
    {
     "name": "stdout",
     "output_type": "stream",
     "text": [
      "Epoch 968/1000 — Recon_U: 0.0246, Recon_L: 0.0156, SemiSup: 0.0044, Disc_Cat: 1.3472, Gen_Cat: 0.9176, Disc_Sty: 1.3874, Gen_Sty: 0.6884\n",
      "Validation Accuracy: 94.00%\n",
      "\n",
      "Weights saved to semisupervised_results/1000_epochs_adam_1000_samples/weights_*.pth\n"
     ]
    },
    {
     "data": {
      "application/vnd.jupyter.widget-view+json": {
       "model_id": "688dcdec01b74a8e95d4affae8c60f4a",
       "version_major": 2,
       "version_minor": 0
      },
      "text/plain": [
       "Epoch [969/1000]:   0%|          | 0/10 [00:00<?, ?it/s]"
      ]
     },
     "metadata": {},
     "output_type": "display_data"
    },
    {
     "name": "stdout",
     "output_type": "stream",
     "text": [
      "Epoch 969/1000 — Recon_U: 0.0239, Recon_L: 0.0156, SemiSup: 0.0007, Disc_Cat: 1.3387, Gen_Cat: 0.9415, Disc_Sty: 1.3860, Gen_Sty: 0.6880\n",
      "Validation Accuracy: 94.07%\n",
      "\n",
      "Weights saved to semisupervised_results/1000_epochs_adam_1000_samples/weights_*.pth\n"
     ]
    },
    {
     "data": {
      "application/vnd.jupyter.widget-view+json": {
       "model_id": "454547f38aa7439b835ad65003d57797",
       "version_major": 2,
       "version_minor": 0
      },
      "text/plain": [
       "Epoch [970/1000]:   0%|          | 0/10 [00:00<?, ?it/s]"
      ]
     },
     "metadata": {},
     "output_type": "display_data"
    },
    {
     "name": "stdout",
     "output_type": "stream",
     "text": [
      "Epoch 970/1000 — Recon_U: 0.0234, Recon_L: 0.0155, SemiSup: 0.0021, Disc_Cat: 1.3525, Gen_Cat: 0.8979, Disc_Sty: 1.3816, Gen_Sty: 0.6918\n",
      "Validation Accuracy: 94.19%\n",
      "\n",
      "Weights saved to semisupervised_results/1000_epochs_adam_1000_samples/weights_*.pth\n"
     ]
    },
    {
     "data": {
      "application/vnd.jupyter.widget-view+json": {
       "model_id": "cf4dcd5859734652827e81a16a8b6a85",
       "version_major": 2,
       "version_minor": 0
      },
      "text/plain": [
       "Epoch [971/1000]:   0%|          | 0/10 [00:00<?, ?it/s]"
      ]
     },
     "metadata": {},
     "output_type": "display_data"
    },
    {
     "name": "stdout",
     "output_type": "stream",
     "text": [
      "Epoch 971/1000 — Recon_U: 0.0242, Recon_L: 0.0156, SemiSup: 0.0046, Disc_Cat: 1.3451, Gen_Cat: 0.9041, Disc_Sty: 1.3809, Gen_Sty: 0.6908\n",
      "Validation Accuracy: 94.20%\n",
      "\n",
      "Weights saved to semisupervised_results/1000_epochs_adam_1000_samples/weights_*.pth\n"
     ]
    },
    {
     "data": {
      "application/vnd.jupyter.widget-view+json": {
       "model_id": "19253d8e711f48b5970c3b5725fbe7f7",
       "version_major": 2,
       "version_minor": 0
      },
      "text/plain": [
       "Epoch [972/1000]:   0%|          | 0/10 [00:00<?, ?it/s]"
      ]
     },
     "metadata": {},
     "output_type": "display_data"
    },
    {
     "name": "stdout",
     "output_type": "stream",
     "text": [
      "Epoch 972/1000 — Recon_U: 0.0238, Recon_L: 0.0155, SemiSup: 0.0016, Disc_Cat: 1.3486, Gen_Cat: 0.9036, Disc_Sty: 1.3834, Gen_Sty: 0.6905\n",
      "Validation Accuracy: 94.12%\n",
      "\n",
      "Weights saved to semisupervised_results/1000_epochs_adam_1000_samples/weights_*.pth\n"
     ]
    },
    {
     "data": {
      "application/vnd.jupyter.widget-view+json": {
       "model_id": "ef47cea9454046aca7fec19d074b3fe0",
       "version_major": 2,
       "version_minor": 0
      },
      "text/plain": [
       "Epoch [973/1000]:   0%|          | 0/10 [00:00<?, ?it/s]"
      ]
     },
     "metadata": {},
     "output_type": "display_data"
    },
    {
     "name": "stdout",
     "output_type": "stream",
     "text": [
      "Epoch 973/1000 — Recon_U: 0.0238, Recon_L: 0.0155, SemiSup: 0.0085, Disc_Cat: 1.3441, Gen_Cat: 0.9063, Disc_Sty: 1.3840, Gen_Sty: 0.6902\n",
      "Validation Accuracy: 94.02%\n",
      "\n",
      "Weights saved to semisupervised_results/1000_epochs_adam_1000_samples/weights_*.pth\n"
     ]
    },
    {
     "data": {
      "application/vnd.jupyter.widget-view+json": {
       "model_id": "d26924f807304cd6aac9afc59dc00777",
       "version_major": 2,
       "version_minor": 0
      },
      "text/plain": [
       "Epoch [974/1000]:   0%|          | 0/10 [00:00<?, ?it/s]"
      ]
     },
     "metadata": {},
     "output_type": "display_data"
    },
    {
     "name": "stdout",
     "output_type": "stream",
     "text": [
      "Epoch 974/1000 — Recon_U: 0.0235, Recon_L: 0.0156, SemiSup: 0.0043, Disc_Cat: 1.3392, Gen_Cat: 0.9469, Disc_Sty: 1.3837, Gen_Sty: 0.6925\n",
      "Validation Accuracy: 94.08%\n",
      "\n",
      "Weights saved to semisupervised_results/1000_epochs_adam_1000_samples/weights_*.pth\n"
     ]
    },
    {
     "data": {
      "application/vnd.jupyter.widget-view+json": {
       "model_id": "4e6157b73a5b43eb8513b1a1ccd791d6",
       "version_major": 2,
       "version_minor": 0
      },
      "text/plain": [
       "Epoch [975/1000]:   0%|          | 0/10 [00:00<?, ?it/s]"
      ]
     },
     "metadata": {},
     "output_type": "display_data"
    },
    {
     "name": "stdout",
     "output_type": "stream",
     "text": [
      "Epoch 975/1000 — Recon_U: 0.0240, Recon_L: 0.0156, SemiSup: 0.0042, Disc_Cat: 1.3461, Gen_Cat: 0.9076, Disc_Sty: 1.3878, Gen_Sty: 0.6914\n",
      "Validation Accuracy: 94.08%\n",
      "\n",
      "Weights saved to semisupervised_results/1000_epochs_adam_1000_samples/weights_*.pth\n"
     ]
    },
    {
     "data": {
      "application/vnd.jupyter.widget-view+json": {
       "model_id": "b74d5721e2f94d88aabd6ed2f5bab7ee",
       "version_major": 2,
       "version_minor": 0
      },
      "text/plain": [
       "Epoch [976/1000]:   0%|          | 0/10 [00:00<?, ?it/s]"
      ]
     },
     "metadata": {},
     "output_type": "display_data"
    },
    {
     "name": "stdout",
     "output_type": "stream",
     "text": [
      "Epoch 976/1000 — Recon_U: 0.0239, Recon_L: 0.0156, SemiSup: 0.0336, Disc_Cat: 1.3432, Gen_Cat: 0.9148, Disc_Sty: 1.3848, Gen_Sty: 0.6954\n",
      "Validation Accuracy: 94.02%\n",
      "\n",
      "Weights saved to semisupervised_results/1000_epochs_adam_1000_samples/weights_*.pth\n"
     ]
    },
    {
     "data": {
      "application/vnd.jupyter.widget-view+json": {
       "model_id": "8988cc1775ab4d1e9326ece2bfc70698",
       "version_major": 2,
       "version_minor": 0
      },
      "text/plain": [
       "Epoch [977/1000]:   0%|          | 0/10 [00:00<?, ?it/s]"
      ]
     },
     "metadata": {},
     "output_type": "display_data"
    },
    {
     "name": "stdout",
     "output_type": "stream",
     "text": [
      "Epoch 977/1000 — Recon_U: 0.0243, Recon_L: 0.0157, SemiSup: 0.0004, Disc_Cat: 1.3398, Gen_Cat: 0.9391, Disc_Sty: 1.3850, Gen_Sty: 0.6978\n",
      "Validation Accuracy: 94.08%\n",
      "\n",
      "Weights saved to semisupervised_results/1000_epochs_adam_1000_samples/weights_*.pth\n"
     ]
    },
    {
     "data": {
      "application/vnd.jupyter.widget-view+json": {
       "model_id": "a130fbf7a7744dc5b3d039d978be26ef",
       "version_major": 2,
       "version_minor": 0
      },
      "text/plain": [
       "Epoch [978/1000]:   0%|          | 0/10 [00:00<?, ?it/s]"
      ]
     },
     "metadata": {},
     "output_type": "display_data"
    },
    {
     "name": "stdout",
     "output_type": "stream",
     "text": [
      "Epoch 978/1000 — Recon_U: 0.0238, Recon_L: 0.0156, SemiSup: 0.0090, Disc_Cat: 1.3442, Gen_Cat: 0.9209, Disc_Sty: 1.3842, Gen_Sty: 0.7020\n",
      "Validation Accuracy: 94.03%\n",
      "\n",
      "Weights saved to semisupervised_results/1000_epochs_adam_1000_samples/weights_*.pth\n"
     ]
    },
    {
     "data": {
      "application/vnd.jupyter.widget-view+json": {
       "model_id": "37c13a1d338b418da23237edea5c424b",
       "version_major": 2,
       "version_minor": 0
      },
      "text/plain": [
       "Epoch [979/1000]:   0%|          | 0/10 [00:00<?, ?it/s]"
      ]
     },
     "metadata": {},
     "output_type": "display_data"
    },
    {
     "name": "stdout",
     "output_type": "stream",
     "text": [
      "Epoch 979/1000 — Recon_U: 0.0238, Recon_L: 0.0157, SemiSup: 0.0058, Disc_Cat: 1.3487, Gen_Cat: 0.9063, Disc_Sty: 1.3849, Gen_Sty: 0.7044\n",
      "Validation Accuracy: 94.05%\n",
      "\n",
      "Weights saved to semisupervised_results/1000_epochs_adam_1000_samples/weights_*.pth\n"
     ]
    },
    {
     "data": {
      "application/vnd.jupyter.widget-view+json": {
       "model_id": "62f557ca0241404c978361061cac72b4",
       "version_major": 2,
       "version_minor": 0
      },
      "text/plain": [
       "Epoch [980/1000]:   0%|          | 0/10 [00:00<?, ?it/s]"
      ]
     },
     "metadata": {},
     "output_type": "display_data"
    },
    {
     "name": "stdout",
     "output_type": "stream",
     "text": [
      "Epoch 980/1000 — Recon_U: 0.0245, Recon_L: 0.0156, SemiSup: 0.0039, Disc_Cat: 1.3326, Gen_Cat: 0.9666, Disc_Sty: 1.3863, Gen_Sty: 0.7016\n",
      "Validation Accuracy: 94.12%\n",
      "\n",
      "Weights saved to semisupervised_results/1000_epochs_adam_1000_samples/weights_*.pth\n"
     ]
    },
    {
     "data": {
      "application/vnd.jupyter.widget-view+json": {
       "model_id": "4f5e9eaead534af49cd32f207643c5b2",
       "version_major": 2,
       "version_minor": 0
      },
      "text/plain": [
       "Epoch [981/1000]:   0%|          | 0/10 [00:00<?, ?it/s]"
      ]
     },
     "metadata": {},
     "output_type": "display_data"
    },
    {
     "name": "stdout",
     "output_type": "stream",
     "text": [
      "Epoch 981/1000 — Recon_U: 0.0246, Recon_L: 0.0156, SemiSup: 0.0016, Disc_Cat: 1.3456, Gen_Cat: 0.9363, Disc_Sty: 1.3845, Gen_Sty: 0.6993\n",
      "Validation Accuracy: 94.17%\n",
      "\n",
      "Weights saved to semisupervised_results/1000_epochs_adam_1000_samples/weights_*.pth\n"
     ]
    },
    {
     "data": {
      "application/vnd.jupyter.widget-view+json": {
       "model_id": "02e61f33dbf04d9b845cab27580083fc",
       "version_major": 2,
       "version_minor": 0
      },
      "text/plain": [
       "Epoch [982/1000]:   0%|          | 0/10 [00:00<?, ?it/s]"
      ]
     },
     "metadata": {},
     "output_type": "display_data"
    },
    {
     "name": "stdout",
     "output_type": "stream",
     "text": [
      "Epoch 982/1000 — Recon_U: 0.0230, Recon_L: 0.0156, SemiSup: 0.0023, Disc_Cat: 1.3373, Gen_Cat: 0.9246, Disc_Sty: 1.3869, Gen_Sty: 0.6964\n",
      "Validation Accuracy: 94.14%\n",
      "\n",
      "Weights saved to semisupervised_results/1000_epochs_adam_1000_samples/weights_*.pth\n"
     ]
    },
    {
     "data": {
      "application/vnd.jupyter.widget-view+json": {
       "model_id": "ef64fb23e15249c0afe687529f02361b",
       "version_major": 2,
       "version_minor": 0
      },
      "text/plain": [
       "Epoch [983/1000]:   0%|          | 0/10 [00:00<?, ?it/s]"
      ]
     },
     "metadata": {},
     "output_type": "display_data"
    },
    {
     "name": "stdout",
     "output_type": "stream",
     "text": [
      "Epoch 983/1000 — Recon_U: 0.0240, Recon_L: 0.0155, SemiSup: 0.0048, Disc_Cat: 1.3331, Gen_Cat: 0.9677, Disc_Sty: 1.3847, Gen_Sty: 0.6940\n",
      "Validation Accuracy: 94.22%\n",
      "\n",
      "Weights saved to semisupervised_results/1000_epochs_adam_1000_samples/weights_*.pth\n"
     ]
    },
    {
     "data": {
      "application/vnd.jupyter.widget-view+json": {
       "model_id": "00595f395f3443709e2efcb230c894e6",
       "version_major": 2,
       "version_minor": 0
      },
      "text/plain": [
       "Epoch [984/1000]:   0%|          | 0/10 [00:00<?, ?it/s]"
      ]
     },
     "metadata": {},
     "output_type": "display_data"
    },
    {
     "name": "stdout",
     "output_type": "stream",
     "text": [
      "Epoch 984/1000 — Recon_U: 0.0236, Recon_L: 0.0155, SemiSup: 0.0074, Disc_Cat: 1.3398, Gen_Cat: 0.9488, Disc_Sty: 1.3877, Gen_Sty: 0.6927\n",
      "Validation Accuracy: 94.20%\n",
      "\n",
      "Weights saved to semisupervised_results/1000_epochs_adam_1000_samples/weights_*.pth\n"
     ]
    },
    {
     "data": {
      "application/vnd.jupyter.widget-view+json": {
       "model_id": "28e3de2c5da043009801052fb5e5aa62",
       "version_major": 2,
       "version_minor": 0
      },
      "text/plain": [
       "Epoch [985/1000]:   0%|          | 0/10 [00:00<?, ?it/s]"
      ]
     },
     "metadata": {},
     "output_type": "display_data"
    },
    {
     "name": "stdout",
     "output_type": "stream",
     "text": [
      "Epoch 985/1000 — Recon_U: 0.0230, Recon_L: 0.0155, SemiSup: 0.0163, Disc_Cat: 1.3476, Gen_Cat: 0.9210, Disc_Sty: 1.3857, Gen_Sty: 0.6936\n",
      "Validation Accuracy: 94.14%\n",
      "\n",
      "Weights saved to semisupervised_results/1000_epochs_adam_1000_samples/weights_*.pth\n"
     ]
    },
    {
     "data": {
      "application/vnd.jupyter.widget-view+json": {
       "model_id": "e0c2cbcb2dda4b7aaecf1e3dcb242a83",
       "version_major": 2,
       "version_minor": 0
      },
      "text/plain": [
       "Epoch [986/1000]:   0%|          | 0/10 [00:00<?, ?it/s]"
      ]
     },
     "metadata": {},
     "output_type": "display_data"
    },
    {
     "name": "stdout",
     "output_type": "stream",
     "text": [
      "Epoch 986/1000 — Recon_U: 0.0237, Recon_L: 0.0154, SemiSup: 0.0015, Disc_Cat: 1.3458, Gen_Cat: 0.9251, Disc_Sty: 1.3843, Gen_Sty: 0.6940\n",
      "Validation Accuracy: 94.15%\n",
      "\n",
      "Weights saved to semisupervised_results/1000_epochs_adam_1000_samples/weights_*.pth\n"
     ]
    },
    {
     "data": {
      "application/vnd.jupyter.widget-view+json": {
       "model_id": "2a05edd7b44e48a8a19082e85d5ce112",
       "version_major": 2,
       "version_minor": 0
      },
      "text/plain": [
       "Epoch [987/1000]:   0%|          | 0/10 [00:00<?, ?it/s]"
      ]
     },
     "metadata": {},
     "output_type": "display_data"
    },
    {
     "name": "stdout",
     "output_type": "stream",
     "text": [
      "Epoch 987/1000 — Recon_U: 0.0247, Recon_L: 0.0153, SemiSup: 0.0042, Disc_Cat: 1.3380, Gen_Cat: 0.9276, Disc_Sty: 1.3838, Gen_Sty: 0.6945\n",
      "Validation Accuracy: 94.22%\n",
      "\n",
      "Weights saved to semisupervised_results/1000_epochs_adam_1000_samples/weights_*.pth\n"
     ]
    },
    {
     "data": {
      "application/vnd.jupyter.widget-view+json": {
       "model_id": "1bf4266f9ebb4ed7933f769c12c95410",
       "version_major": 2,
       "version_minor": 0
      },
      "text/plain": [
       "Epoch [988/1000]:   0%|          | 0/10 [00:00<?, ?it/s]"
      ]
     },
     "metadata": {},
     "output_type": "display_data"
    },
    {
     "name": "stdout",
     "output_type": "stream",
     "text": [
      "Epoch 988/1000 — Recon_U: 0.0239, Recon_L: 0.0155, SemiSup: 0.0118, Disc_Cat: 1.3446, Gen_Cat: 0.9178, Disc_Sty: 1.3847, Gen_Sty: 0.6943\n",
      "Validation Accuracy: 94.20%\n",
      "\n",
      "Weights saved to semisupervised_results/1000_epochs_adam_1000_samples/weights_*.pth\n"
     ]
    },
    {
     "data": {
      "application/vnd.jupyter.widget-view+json": {
       "model_id": "2612ea8915284f01b729a074780bdf24",
       "version_major": 2,
       "version_minor": 0
      },
      "text/plain": [
       "Epoch [989/1000]:   0%|          | 0/10 [00:00<?, ?it/s]"
      ]
     },
     "metadata": {},
     "output_type": "display_data"
    },
    {
     "name": "stdout",
     "output_type": "stream",
     "text": [
      "Epoch 989/1000 — Recon_U: 0.0237, Recon_L: 0.0154, SemiSup: 0.0155, Disc_Cat: 1.3439, Gen_Cat: 0.9147, Disc_Sty: 1.3854, Gen_Sty: 0.6939\n",
      "Validation Accuracy: 94.29%\n",
      "\n",
      "Weights saved to semisupervised_results/1000_epochs_adam_1000_samples/weights_*.pth\n"
     ]
    },
    {
     "data": {
      "application/vnd.jupyter.widget-view+json": {
       "model_id": "919c12e92eb14bc39db1f24877aaab0b",
       "version_major": 2,
       "version_minor": 0
      },
      "text/plain": [
       "Epoch [990/1000]:   0%|          | 0/10 [00:00<?, ?it/s]"
      ]
     },
     "metadata": {},
     "output_type": "display_data"
    },
    {
     "name": "stdout",
     "output_type": "stream",
     "text": [
      "Epoch 990/1000 — Recon_U: 0.0236, Recon_L: 0.0154, SemiSup: 0.0067, Disc_Cat: 1.3354, Gen_Cat: 0.9612, Disc_Sty: 1.3849, Gen_Sty: 0.6950\n",
      "Validation Accuracy: 94.24%\n",
      "\n",
      "Weights saved to semisupervised_results/1000_epochs_adam_1000_samples/weights_*.pth\n"
     ]
    },
    {
     "data": {
      "application/vnd.jupyter.widget-view+json": {
       "model_id": "61e4aef0e6984d98aa6986a90218e8d4",
       "version_major": 2,
       "version_minor": 0
      },
      "text/plain": [
       "Epoch [991/1000]:   0%|          | 0/10 [00:00<?, ?it/s]"
      ]
     },
     "metadata": {},
     "output_type": "display_data"
    },
    {
     "name": "stdout",
     "output_type": "stream",
     "text": [
      "Epoch 991/1000 — Recon_U: 0.0232, Recon_L: 0.0154, SemiSup: 0.0136, Disc_Cat: 1.3413, Gen_Cat: 0.9335, Disc_Sty: 1.3823, Gen_Sty: 0.6981\n",
      "Validation Accuracy: 94.14%\n",
      "\n",
      "Weights saved to semisupervised_results/1000_epochs_adam_1000_samples/weights_*.pth\n"
     ]
    },
    {
     "data": {
      "application/vnd.jupyter.widget-view+json": {
       "model_id": "1e0286bf296b46a580e5ca9c4fd2ab79",
       "version_major": 2,
       "version_minor": 0
      },
      "text/plain": [
       "Epoch [992/1000]:   0%|          | 0/10 [00:00<?, ?it/s]"
      ]
     },
     "metadata": {},
     "output_type": "display_data"
    },
    {
     "name": "stdout",
     "output_type": "stream",
     "text": [
      "Epoch 992/1000 — Recon_U: 0.0239, Recon_L: 0.0156, SemiSup: 0.0010, Disc_Cat: 1.3445, Gen_Cat: 0.9137, Disc_Sty: 1.3856, Gen_Sty: 0.6979\n",
      "Validation Accuracy: 94.12%\n",
      "\n",
      "Weights saved to semisupervised_results/1000_epochs_adam_1000_samples/weights_*.pth\n"
     ]
    },
    {
     "data": {
      "application/vnd.jupyter.widget-view+json": {
       "model_id": "f568b8db0e4141df864d93c03b090c6b",
       "version_major": 2,
       "version_minor": 0
      },
      "text/plain": [
       "Epoch [993/1000]:   0%|          | 0/10 [00:00<?, ?it/s]"
      ]
     },
     "metadata": {},
     "output_type": "display_data"
    },
    {
     "name": "stdout",
     "output_type": "stream",
     "text": [
      "Epoch 993/1000 — Recon_U: 0.0237, Recon_L: 0.0156, SemiSup: 0.0129, Disc_Cat: 1.3478, Gen_Cat: 0.9227, Disc_Sty: 1.3853, Gen_Sty: 0.6980\n",
      "Validation Accuracy: 94.12%\n",
      "\n",
      "Weights saved to semisupervised_results/1000_epochs_adam_1000_samples/weights_*.pth\n"
     ]
    },
    {
     "data": {
      "application/vnd.jupyter.widget-view+json": {
       "model_id": "42348fb4b4644f76952eeb05a5ed5779",
       "version_major": 2,
       "version_minor": 0
      },
      "text/plain": [
       "Epoch [994/1000]:   0%|          | 0/10 [00:00<?, ?it/s]"
      ]
     },
     "metadata": {},
     "output_type": "display_data"
    },
    {
     "name": "stdout",
     "output_type": "stream",
     "text": [
      "Epoch 994/1000 — Recon_U: 0.0241, Recon_L: 0.0157, SemiSup: 0.0118, Disc_Cat: 1.3476, Gen_Cat: 0.9406, Disc_Sty: 1.3876, Gen_Sty: 0.6952\n",
      "Validation Accuracy: 94.08%\n",
      "\n",
      "Weights saved to semisupervised_results/1000_epochs_adam_1000_samples/weights_*.pth\n"
     ]
    },
    {
     "data": {
      "application/vnd.jupyter.widget-view+json": {
       "model_id": "df35a3af87c24ddba65ab83550c20ae0",
       "version_major": 2,
       "version_minor": 0
      },
      "text/plain": [
       "Epoch [995/1000]:   0%|          | 0/10 [00:00<?, ?it/s]"
      ]
     },
     "metadata": {},
     "output_type": "display_data"
    },
    {
     "name": "stdout",
     "output_type": "stream",
     "text": [
      "Epoch 995/1000 — Recon_U: 0.0239, Recon_L: 0.0155, SemiSup: 0.0168, Disc_Cat: 1.3413, Gen_Cat: 0.9518, Disc_Sty: 1.3871, Gen_Sty: 0.6912\n",
      "Validation Accuracy: 94.00%\n",
      "\n",
      "Weights saved to semisupervised_results/1000_epochs_adam_1000_samples/weights_*.pth\n"
     ]
    },
    {
     "data": {
      "application/vnd.jupyter.widget-view+json": {
       "model_id": "e6249ec48be24c3caf51bb8845410bd3",
       "version_major": 2,
       "version_minor": 0
      },
      "text/plain": [
       "Epoch [996/1000]:   0%|          | 0/10 [00:00<?, ?it/s]"
      ]
     },
     "metadata": {},
     "output_type": "display_data"
    },
    {
     "name": "stdout",
     "output_type": "stream",
     "text": [
      "Epoch 996/1000 — Recon_U: 0.0239, Recon_L: 0.0156, SemiSup: 0.0022, Disc_Cat: 1.3374, Gen_Cat: 0.9655, Disc_Sty: 1.3853, Gen_Sty: 0.6904\n",
      "Validation Accuracy: 94.02%\n",
      "\n",
      "Weights saved to semisupervised_results/1000_epochs_adam_1000_samples/weights_*.pth\n"
     ]
    },
    {
     "data": {
      "application/vnd.jupyter.widget-view+json": {
       "model_id": "9e26e669bbd948eda58eaa9fe0e64dd1",
       "version_major": 2,
       "version_minor": 0
      },
      "text/plain": [
       "Epoch [997/1000]:   0%|          | 0/10 [00:00<?, ?it/s]"
      ]
     },
     "metadata": {},
     "output_type": "display_data"
    },
    {
     "name": "stdout",
     "output_type": "stream",
     "text": [
      "Epoch 997/1000 — Recon_U: 0.0238, Recon_L: 0.0155, SemiSup: 0.0027, Disc_Cat: 1.3522, Gen_Cat: 0.8723, Disc_Sty: 1.3839, Gen_Sty: 0.6880\n",
      "Validation Accuracy: 94.08%\n",
      "\n",
      "Weights saved to semisupervised_results/1000_epochs_adam_1000_samples/weights_*.pth\n"
     ]
    },
    {
     "data": {
      "application/vnd.jupyter.widget-view+json": {
       "model_id": "b03e29b3de5b4c2581d3ddf96358773a",
       "version_major": 2,
       "version_minor": 0
      },
      "text/plain": [
       "Epoch [998/1000]:   0%|          | 0/10 [00:00<?, ?it/s]"
      ]
     },
     "metadata": {},
     "output_type": "display_data"
    },
    {
     "name": "stdout",
     "output_type": "stream",
     "text": [
      "Epoch 998/1000 — Recon_U: 0.0235, Recon_L: 0.0154, SemiSup: 0.0149, Disc_Cat: 1.3544, Gen_Cat: 0.8744, Disc_Sty: 1.3825, Gen_Sty: 0.6887\n",
      "Validation Accuracy: 94.07%\n",
      "\n",
      "Weights saved to semisupervised_results/1000_epochs_adam_1000_samples/weights_*.pth\n"
     ]
    },
    {
     "data": {
      "application/vnd.jupyter.widget-view+json": {
       "model_id": "75a77a4cccf04fb793d4a63026d87fa0",
       "version_major": 2,
       "version_minor": 0
      },
      "text/plain": [
       "Epoch [999/1000]:   0%|          | 0/10 [00:00<?, ?it/s]"
      ]
     },
     "metadata": {},
     "output_type": "display_data"
    },
    {
     "name": "stdout",
     "output_type": "stream",
     "text": [
      "Epoch 999/1000 — Recon_U: 0.0244, Recon_L: 0.0155, SemiSup: 0.0065, Disc_Cat: 1.3435, Gen_Cat: 0.9200, Disc_Sty: 1.3821, Gen_Sty: 0.6890\n",
      "Validation Accuracy: 94.07%\n",
      "\n",
      "Weights saved to semisupervised_results/1000_epochs_adam_1000_samples/weights_*.pth\n"
     ]
    },
    {
     "data": {
      "application/vnd.jupyter.widget-view+json": {
       "model_id": "a3b823a3d6e448fe89b8102c7842cbed",
       "version_major": 2,
       "version_minor": 0
      },
      "text/plain": [
       "Epoch [1000/1000]:   0%|          | 0/10 [00:00<?, ?it/s]"
      ]
     },
     "metadata": {},
     "output_type": "display_data"
    },
    {
     "name": "stdout",
     "output_type": "stream",
     "text": [
      "Epoch 1000/1000 — Recon_U: 0.0239, Recon_L: 0.0155, SemiSup: 0.0051, Disc_Cat: 1.3305, Gen_Cat: 0.9655, Disc_Sty: 1.3837, Gen_Sty: 0.6892\n",
      "Validation Accuracy: 93.95%\n",
      "\n",
      "Weights saved to semisupervised_results/1000_epochs_adam_1000_samples/weights_epoch_1000/weights_*.pth\n",
      "Weights saved to semisupervised_results/1000_epochs_adam_1000_samples/weights_*.pth\n"
     ]
    }
   ],
   "source": [
    "model.train_mbgd_2(\n",
    "    val_loader=val_loader,\n",
    "    epochs=NUM_EPOCHS,\n",
    "    prior_std=PRIOR_STD,\n",
    "    result_folder=RESULT_FOLDER,\n",
    "    add_gaussian_noise=GAUSSIAN_NOISE,\n",
    "    train_labeled_loader=train_labeled_loader,\n",
    "    train_unlabeled_loader=train_unlabeled_loader\n",
    ")"
   ]
  },
  {
   "cell_type": "markdown",
   "metadata": {},
   "source": [
    "## Accuracy Eval"
   ]
  },
  {
   "cell_type": "code",
   "execution_count": 14,
   "metadata": {},
   "outputs": [
    {
     "name": "stdout",
     "output_type": "stream",
     "text": [
      "Weights loaded from /home/franciszek-latala/VsCodeProjects/adversarial-autoencoders/src/adversarial_autoencoder/semisupervised_results/500_epochs_1000_labeled_sgd_momentum_noise_030_run_1/weights_*.pth\n"
     ]
    }
   ],
   "source": [
    "model.load_weights(\"/home/franciszek-latala/VsCodeProjects/adversarial-autoencoders/src/adversarial_autoencoder/semisupervised_results/500_epochs_1000_labeled_sgd_momentum_noise_030_run_1/weights\")"
   ]
  },
  {
   "cell_type": "code",
   "execution_count": 10,
   "metadata": {},
   "outputs": [],
   "source": [
    "all_probs, all_preds = [], []\n",
    "for imgs, _ in test_loader:\n",
    "    probs, preds = model.predict(imgs)\n",
    "    all_probs.append(probs.cpu())\n",
    "    all_preds.append(preds.cpu())\n",
    "\n",
    "all_probs = torch.cat(all_probs, dim=0)\n",
    "all_preds = torch.cat(all_preds, dim=0)"
   ]
  },
  {
   "cell_type": "code",
   "execution_count": 11,
   "metadata": {},
   "outputs": [
    {
     "name": "stdout",
     "output_type": "stream",
     "text": [
      "Test accuracy: 94.10%\n"
     ]
    }
   ],
   "source": [
    "num_correct = torch.eq(all_preds, Y_test).sum().item()\n",
    "accuracy = num_correct / Y_test.size(0)\n",
    "print(f\"Test accuracy: {accuracy*100:.2f}%\")"
   ]
  },
  {
   "cell_type": "markdown",
   "metadata": {},
   "source": [
    "## Image Generation"
   ]
  },
  {
   "cell_type": "code",
   "execution_count": 28,
   "metadata": {},
   "outputs": [
    {
     "name": "stdout",
     "output_type": "stream",
     "text": [
      "Weights loaded from /home/franciszek-latala/VsCodeProjects/adversarial-autoencoders/src/adversarial_autoencoder/semisupervised_results/adam_full_and_semi_sup/500_epochs_adam_results_run_2/weights_*.pth\n"
     ]
    }
   ],
   "source": [
    "model.load_weights(\"/home/franciszek-latala/VsCodeProjects/adversarial-autoencoders/src/adversarial_autoencoder/semisupervised_results/adam_full_and_semi_sup/500_epochs_adam_results_run_1/weights\")"
   ]
  },
  {
   "cell_type": "code",
   "execution_count": 21,
   "metadata": {},
   "outputs": [
    {
     "data": {
      "image/png": "[encoded data removed]",
      "text/plain": [
       "<Figure size 640x480 with 1 Axes>"
      ]
     },
     "metadata": {},
     "output_type": "display_data"
    }
   ],
   "source": [
    "import matplotlib.pyplot as plt\n",
    "\n",
    "img7 = model.generate_images(5, prior_std=0.001)\n",
    "plt.imshow(img7.squeeze().cpu().numpy(), cmap='gray')\n",
    "plt.axis('off')\n",
    "plt.show()"
   ]
  },
  {
   "cell_type": "code",
   "execution_count": 22,
   "metadata": {},
   "outputs": [],
   "source": [
    "fig, axes = plt.subplots(\n",
    "    nrows=10,\n",
    "    ncols=10,\n",
    "    figsize=(10, 10),\n",
    "    tight_layout=True\n",
    ")\n",
    "\n",
    "for digit in range(10):\n",
    "    # make a batch of labels all equal to `digit`\n",
    "    labels = torch.full(\n",
    "        (10,),\n",
    "        fill_value=digit,\n",
    "        dtype=torch.long,\n",
    "        device=model.device\n",
    "    )\n",
    "    # generate images; style_z=None → sampled inside with prior_std\n",
    "    imgs = model.generate_images(labels, style_z=None, prior_std=PRIOR_STD)\n",
    "\n",
    "    # plot each sample in its column\n",
    "    for col in range(10):\n",
    "        ax = axes[digit, col]\n",
    "        img = imgs[col].squeeze().cpu().numpy()\n",
    "        ax.imshow(img, cmap='gray')\n",
    "        ax.axis('off')\n",
    "\n",
    "# save to disk\n",
    "fig.savefig(f'/home/franciszek-latala/VsCodeProjects/adversarial-autoencoders/src/adversarial_autoencoder/semisupervised_results/500_epochs_100_labeled_sgd_momentum_noise_030_run_2/fig_1', dpi=300, bbox_inches='tight')\n",
    "plt.close(fig)"
   ]
  },
  {
   "cell_type": "code",
   "execution_count": 34,
   "metadata": {},
   "outputs": [],
   "source": [
    "import numpy as np\n",
    "import torch\n",
    "import matplotlib.pyplot as plt\n",
    "\n",
    "# Set grid range\n",
    "n = 10  # grid size per axis\n",
    "grid_range = 5.0  # range from -2 to 2\n",
    "\n",
    "# Make meshgrid for style latent\n",
    "style_grid_x = np.linspace(-grid_range, grid_range, n)\n",
    "style_grid_y = np.linspace(-grid_range, grid_range, n)\n",
    "\n",
    "fig, axes = plt.subplots(n, n, figsize=(10, 10), tight_layout=True)\n",
    "\n",
    "digit = 4  # fix the digit you want to visualize, e.g. 0, or loop for all digits\n",
    "\n",
    "# Prepare all latent style codes in advance for the grid\n",
    "style_z = torch.zeros((n * n, model.options.latent_dim_style), device=model.device)\n",
    "for i, sx in enumerate(style_grid_x):\n",
    "    for j, sy in enumerate(style_grid_y):\n",
    "        idx = i * n + j\n",
    "        style_z[idx, 0] = sx  # first style dim\n",
    "        style_z[idx, 1] = sy  # second style dim\n",
    "        # if more style dims, leave them as 0\n",
    "\n",
    "# All labels are digit\n",
    "labels = torch.full((n * n,), fill_value=digit, dtype=torch.long, device=model.device)\n",
    "imgs = model.generate_images(labels, style_z=style_z)\n",
    "\n",
    "# Plot grid: i = row, j = col\n",
    "for i in range(n):\n",
    "    for j in range(n):\n",
    "        ax = axes[i, j]\n",
    "        idx = i * n + j\n",
    "        img = imgs[idx].squeeze().cpu().numpy()\n",
    "        ax.imshow(img, cmap='gray')\n",
    "        ax.axis('off')\n",
    "\n",
    "fig.savefig('fig_style_grid.png', dpi=300, bbox_inches='tight')\n",
    "plt.close(fig)\n"
   ]
  }
 ],
 "metadata": {
  "kernelspec": {
   "display_name": "adversarial-autoencoder-GiuVyiXw-py3.12",
   "language": "python",
   "name": "python3"
  },
  "language_info": {
   "codemirror_mode": {
    "name": "ipython",
    "version": 3
   },
   "file_extension": ".py",
   "mimetype": "text/x-python",
   "name": "python",
   "nbconvert_exporter": "python",
   "pygments_lexer": "ipython3",
   "version": "3.12.7"
  }
 },
 "nbformat": 4,
 "nbformat_minor": 2
}
