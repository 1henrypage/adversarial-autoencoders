{
 "cells": [
  {
   "metadata": {},
   "cell_type": "markdown",
   "source": "# Supervised Experiment",
   "id": "90a2d6b4ff9cfe71"
  },
  {
   "cell_type": "code",
   "id": "initial_id",
   "metadata": {
    "collapsed": true,
    "ExecuteTime": {
     "end_time": "2025-05-15T12:28:12.651487Z",
     "start_time": "2025-05-15T12:28:10.867601Z"
    }
   },
   "source": [
    "import torch\n",
    "from matplotlib import pyplot as plt\n",
    "from torch import nn\n",
    "from torchvision import datasets, transforms\n",
    "from torch.utils.data import DataLoader\n",
    "\n",
    "from src.adversarial_autoencoder.supervised import SupervisedAdversarialAutoencoder"
   ],
   "outputs": [],
   "execution_count": 1
  },
  {
   "metadata": {},
   "cell_type": "markdown",
   "source": "### Paper Config",
   "id": "6149481fdebeb3d9"
  },
  {
   "metadata": {
    "ExecuteTime": {
     "end_time": "2025-05-15T12:28:12.658910Z",
     "start_time": "2025-05-15T12:28:12.656620Z"
    }
   },
   "cell_type": "code",
   "source": [
    "NUM_EPOCHS = 5\n",
    "\n",
    "INPUT_DIM = 784\n",
    "BATCH_SIZE = 100\n",
    "AE_HIDDEN = 1000\n",
    "DC_HIDDEN = 1000\n",
    "LATENT_DIM = 2\n",
    "NUM_CLASSES = 10\n",
    "PRIOR_STD = 5.0\n",
    "recon_loss = nn.MSELoss()\n",
    "init_recon_lr = 0.01\n",
    "init_gen_lr = init_disc_lr = 0.1\n",
    "use_decoder_sigmoid = True\n",
    "device = torch.device(\"cuda\" if torch.cuda.is_available() else \"cpu\")\n"
   ],
   "id": "a4068a55159707f8",
   "outputs": [],
   "execution_count": 2
  },
  {
   "metadata": {},
   "cell_type": "markdown",
   "source": "### Load Training Data",
   "id": "4fa594e2dd543349"
  },
  {
   "metadata": {
    "ExecuteTime": {
     "end_time": "2025-05-15T12:28:16.043830Z",
     "start_time": "2025-05-15T12:28:12.692984Z"
    }
   },
   "cell_type": "code",
   "source": [
    "# Define the transform\n",
    "transform = transforms.Compose([\n",
    "    transforms.ToTensor(),\n",
    "    transforms.Normalize((0.1307,), (0.3081,)),\n",
    "    transforms.Lambda(lambda x: x.view(-1)),  # Flatten the image\n",
    "])\n",
    "\n",
    "# Load full MNIST training and test sets\n",
    "train_dataset = datasets.MNIST(root=\"../data\", train=True, download=True, transform=transform)\n",
    "test_dataset = datasets.MNIST(root=\"../data\", train=False, download=True, transform=transform)\n",
    "\n",
    "# DataLoaders with batch_size set to 100 as defined in your parameters\n",
    "train_loader = DataLoader(train_dataset, batch_size=BATCH_SIZE, shuffle=True)\n",
    "test_loader = DataLoader(test_dataset, batch_size=BATCH_SIZE, shuffle=False)\n",
    "\n",
    "# Get the actual transformed data (0-1 scaled, flattened)\n",
    "X_train = torch.stack([x for x, _ in train_dataset])  # Exactly what DataLoader will see\n",
    "X_test = torch.stack([x for x, _ in test_dataset])\n",
    "\n",
    "Y_train = train_dataset.targets.clone()\n",
    "Y_test = test_dataset.targets.clone()\n"
   ],
   "id": "db9cd79c60faa096",
   "outputs": [],
   "execution_count": 3
  },
  {
   "metadata": {},
   "cell_type": "markdown",
   "source": "### Model setup",
   "id": "159605e1f656be70"
  },
  {
   "metadata": {
    "ExecuteTime": {
     "end_time": "2025-05-15T12:28:16.117801Z",
     "start_time": "2025-05-15T12:28:16.051971Z"
    }
   },
   "cell_type": "code",
   "source": [
    "aae = SupervisedAdversarialAutoencoder(\n",
    "    input_dim=INPUT_DIM,\n",
    "    ae_hidden=AE_HIDDEN,\n",
    "    dc_hidden=DC_HIDDEN,\n",
    "    latent_dim=LATENT_DIM,\n",
    "    recon_loss_fn=recon_loss,\n",
    "    num_classes=NUM_CLASSES,\n",
    "    init_recon_lr=init_recon_lr,\n",
    "    init_gen_lr=init_gen_lr,\n",
    "    init_disc_lr=init_disc_lr,\n",
    "    use_decoder_sigmoid=use_decoder_sigmoid,\n",
    "    device = \"cuda\" if torch.cuda.is_available() else \"cpu\"\n",
    ")"
   ],
   "id": "72aba123a7a1eb2f",
   "outputs": [],
   "execution_count": 4
  },
  {
   "metadata": {},
   "cell_type": "markdown",
   "source": "### Train Model",
   "id": "868a10d272019475"
  },
  {
   "metadata": {
    "ExecuteTime": {
     "start_time": "2025-05-15T12:28:16.137623Z"
    }
   },
   "cell_type": "code",
   "source": [
    "# aae.load_weights(\"supervised_aae_weights5\")\n",
    "aae.train_mbgd(\n",
    "    data_loader=train_loader,\n",
    "    epochs=NUM_EPOCHS,\n",
    "    prior_std=PRIOR_STD,\n",
    ")\n",
    "aae.save_weights(\"supervised_aae_weights\" + str(NUM_EPOCHS))"
   ],
   "id": "4ac0d909b0e9c387",
   "outputs": [
    {
     "name": "stderr",
     "output_type": "stream",
     "text": [
      "Training Epochs:   0%|          | 0/5 [00:00<?, ?epoch/s]"
     ]
    },
    {
     "name": "stdout",
     "output_type": "stream",
     "text": [
      "x shape: torch.Size([100, 784]), y_onehot shape: torch.Size([100, 10]), labels shape: torch.Size([100])\n",
      "x shape: torch.Size([100, 784]), y_onehot shape: torch.Size([100, 10]), labels shape: torch.Size([100])\n",
      "x shape: torch.Size([100, 784]), y_onehot shape: torch.Size([100, 10]), labels shape: torch.Size([100])\n",
      "x shape: torch.Size([100, 784]), y_onehot shape: torch.Size([100, 10]), labels shape: torch.Size([100])\n",
      "x shape: torch.Size([100, 784]), y_onehot shape: torch.Size([100, 10]), labels shape: torch.Size([100])\n",
      "x shape: torch.Size([100, 784]), y_onehot shape: torch.Size([100, 10]), labels shape: torch.Size([100])\n",
      "x shape: torch.Size([100, 784]), y_onehot shape: torch.Size([100, 10]), labels shape: torch.Size([100])\n",
      "x shape: torch.Size([100, 784]), y_onehot shape: torch.Size([100, 10]), labels shape: torch.Size([100])\n",
      "x shape: torch.Size([100, 784]), y_onehot shape: torch.Size([100, 10]), labels shape: torch.Size([100])\n",
      "x shape: torch.Size([100, 784]), y_onehot shape: torch.Size([100, 10]), labels shape: torch.Size([100])\n",
      "x shape: torch.Size([100, 784]), y_onehot shape: torch.Size([100, 10]), labels shape: torch.Size([100])\n",
      "x shape: torch.Size([100, 784]), y_onehot shape: torch.Size([100, 10]), labels shape: torch.Size([100])\n",
      "x shape: torch.Size([100, 784]), y_onehot shape: torch.Size([100, 10]), labels shape: torch.Size([100])\n",
      "x shape: torch.Size([100, 784]), y_onehot shape: torch.Size([100, 10]), labels shape: torch.Size([100])\n",
      "x shape: torch.Size([100, 784]), y_onehot shape: torch.Size([100, 10]), labels shape: torch.Size([100])\n",
      "x shape: torch.Size([100, 784]), y_onehot shape: torch.Size([100, 10]), labels shape: torch.Size([100])\n",
      "x shape: torch.Size([100, 784]), y_onehot shape: torch.Size([100, 10]), labels shape: torch.Size([100])\n",
      "x shape: torch.Size([100, 784]), y_onehot shape: torch.Size([100, 10]), labels shape: torch.Size([100])\n",
      "x shape: torch.Size([100, 784]), y_onehot shape: torch.Size([100, 10]), labels shape: torch.Size([100])\n",
      "x shape: torch.Size([100, 784]), y_onehot shape: torch.Size([100, 10]), labels shape: torch.Size([100])\n",
      "x shape: torch.Size([100, 784]), y_onehot shape: torch.Size([100, 10]), labels shape: torch.Size([100])\n",
      "x shape: torch.Size([100, 784]), y_onehot shape: torch.Size([100, 10]), labels shape: torch.Size([100])\n",
      "x shape: torch.Size([100, 784]), y_onehot shape: torch.Size([100, 10]), labels shape: torch.Size([100])\n",
      "x shape: torch.Size([100, 784]), y_onehot shape: torch.Size([100, 10]), labels shape: torch.Size([100])\n",
      "x shape: torch.Size([100, 784]), y_onehot shape: torch.Size([100, 10]), labels shape: torch.Size([100])\n",
      "x shape: torch.Size([100, 784]), y_onehot shape: torch.Size([100, 10]), labels shape: torch.Size([100])\n",
      "x shape: torch.Size([100, 784]), y_onehot shape: torch.Size([100, 10]), labels shape: torch.Size([100])\n",
      "x shape: torch.Size([100, 784]), y_onehot shape: torch.Size([100, 10]), labels shape: torch.Size([100])\n",
      "x shape: torch.Size([100, 784]), y_onehot shape: torch.Size([100, 10]), labels shape: torch.Size([100])\n",
      "x shape: torch.Size([100, 784]), y_onehot shape: torch.Size([100, 10]), labels shape: torch.Size([100])\n",
      "x shape: torch.Size([100, 784]), y_onehot shape: torch.Size([100, 10]), labels shape: torch.Size([100])\n",
      "x shape: torch.Size([100, 784]), y_onehot shape: torch.Size([100, 10]), labels shape: torch.Size([100])\n",
      "x shape: torch.Size([100, 784]), y_onehot shape: torch.Size([100, 10]), labels shape: torch.Size([100])\n",
      "x shape: torch.Size([100, 784]), y_onehot shape: torch.Size([100, 10]), labels shape: torch.Size([100])\n",
      "x shape: torch.Size([100, 784]), y_onehot shape: torch.Size([100, 10]), labels shape: torch.Size([100])\n",
      "x shape: torch.Size([100, 784]), y_onehot shape: torch.Size([100, 10]), labels shape: torch.Size([100])\n",
      "x shape: torch.Size([100, 784]), y_onehot shape: torch.Size([100, 10]), labels shape: torch.Size([100])\n",
      "x shape: torch.Size([100, 784]), y_onehot shape: torch.Size([100, 10]), labels shape: torch.Size([100])\n",
      "x shape: torch.Size([100, 784]), y_onehot shape: torch.Size([100, 10]), labels shape: torch.Size([100])\n",
      "x shape: torch.Size([100, 784]), y_onehot shape: torch.Size([100, 10]), labels shape: torch.Size([100])\n",
      "x shape: torch.Size([100, 784]), y_onehot shape: torch.Size([100, 10]), labels shape: torch.Size([100])\n",
      "x shape: torch.Size([100, 784]), y_onehot shape: torch.Size([100, 10]), labels shape: torch.Size([100])\n",
      "x shape: torch.Size([100, 784]), y_onehot shape: torch.Size([100, 10]), labels shape: torch.Size([100])\n",
      "x shape: torch.Size([100, 784]), y_onehot shape: torch.Size([100, 10]), labels shape: torch.Size([100])\n",
      "x shape: torch.Size([100, 784]), y_onehot shape: torch.Size([100, 10]), labels shape: torch.Size([100])\n",
      "x shape: torch.Size([100, 784]), y_onehot shape: torch.Size([100, 10]), labels shape: torch.Size([100])\n",
      "x shape: torch.Size([100, 784]), y_onehot shape: torch.Size([100, 10]), labels shape: torch.Size([100])\n",
      "x shape: torch.Size([100, 784]), y_onehot shape: torch.Size([100, 10]), labels shape: torch.Size([100])\n",
      "x shape: torch.Size([100, 784]), y_onehot shape: torch.Size([100, 10]), labels shape: torch.Size([100])\n",
      "x shape: torch.Size([100, 784]), y_onehot shape: torch.Size([100, 10]), labels shape: torch.Size([100])\n",
      "x shape: torch.Size([100, 784]), y_onehot shape: torch.Size([100, 10]), labels shape: torch.Size([100])\n",
      "x shape: torch.Size([100, 784]), y_onehot shape: torch.Size([100, 10]), labels shape: torch.Size([100])\n",
      "x shape: torch.Size([100, 784]), y_onehot shape: torch.Size([100, 10]), labels shape: torch.Size([100])\n",
      "x shape: torch.Size([100, 784]), y_onehot shape: torch.Size([100, 10]), labels shape: torch.Size([100])\n",
      "x shape: torch.Size([100, 784]), y_onehot shape: torch.Size([100, 10]), labels shape: torch.Size([100])\n",
      "x shape: torch.Size([100, 784]), y_onehot shape: torch.Size([100, 10]), labels shape: torch.Size([100])\n",
      "x shape: torch.Size([100, 784]), y_onehot shape: torch.Size([100, 10]), labels shape: torch.Size([100])\n",
      "x shape: torch.Size([100, 784]), y_onehot shape: torch.Size([100, 10]), labels shape: torch.Size([100])\n",
      "x shape: torch.Size([100, 784]), y_onehot shape: torch.Size([100, 10]), labels shape: torch.Size([100])\n",
      "x shape: torch.Size([100, 784]), y_onehot shape: torch.Size([100, 10]), labels shape: torch.Size([100])\n",
      "x shape: torch.Size([100, 784]), y_onehot shape: torch.Size([100, 10]), labels shape: torch.Size([100])\n",
      "x shape: torch.Size([100, 784]), y_onehot shape: torch.Size([100, 10]), labels shape: torch.Size([100])\n",
      "x shape: torch.Size([100, 784]), y_onehot shape: torch.Size([100, 10]), labels shape: torch.Size([100])\n",
      "x shape: torch.Size([100, 784]), y_onehot shape: torch.Size([100, 10]), labels shape: torch.Size([100])\n",
      "x shape: torch.Size([100, 784]), y_onehot shape: torch.Size([100, 10]), labels shape: torch.Size([100])\n",
      "x shape: torch.Size([100, 784]), y_onehot shape: torch.Size([100, 10]), labels shape: torch.Size([100])\n",
      "x shape: torch.Size([100, 784]), y_onehot shape: torch.Size([100, 10]), labels shape: torch.Size([100])\n",
      "x shape: torch.Size([100, 784]), y_onehot shape: torch.Size([100, 10]), labels shape: torch.Size([100])\n",
      "x shape: torch.Size([100, 784]), y_onehot shape: torch.Size([100, 10]), labels shape: torch.Size([100])\n",
      "x shape: torch.Size([100, 784]), y_onehot shape: torch.Size([100, 10]), labels shape: torch.Size([100])\n",
      "x shape: torch.Size([100, 784]), y_onehot shape: torch.Size([100, 10]), labels shape: torch.Size([100])\n",
      "x shape: torch.Size([100, 784]), y_onehot shape: torch.Size([100, 10]), labels shape: torch.Size([100])\n",
      "x shape: torch.Size([100, 784]), y_onehot shape: torch.Size([100, 10]), labels shape: torch.Size([100])\n",
      "x shape: torch.Size([100, 784]), y_onehot shape: torch.Size([100, 10]), labels shape: torch.Size([100])\n",
      "x shape: torch.Size([100, 784]), y_onehot shape: torch.Size([100, 10]), labels shape: torch.Size([100])\n",
      "x shape: torch.Size([100, 784]), y_onehot shape: torch.Size([100, 10]), labels shape: torch.Size([100])\n",
      "x shape: torch.Size([100, 784]), y_onehot shape: torch.Size([100, 10]), labels shape: torch.Size([100])\n",
      "x shape: torch.Size([100, 784]), y_onehot shape: torch.Size([100, 10]), labels shape: torch.Size([100])\n",
      "x shape: torch.Size([100, 784]), y_onehot shape: torch.Size([100, 10]), labels shape: torch.Size([100])\n",
      "x shape: torch.Size([100, 784]), y_onehot shape: torch.Size([100, 10]), labels shape: torch.Size([100])\n",
      "x shape: torch.Size([100, 784]), y_onehot shape: torch.Size([100, 10]), labels shape: torch.Size([100])\n",
      "x shape: torch.Size([100, 784]), y_onehot shape: torch.Size([100, 10]), labels shape: torch.Size([100])\n",
      "x shape: torch.Size([100, 784]), y_onehot shape: torch.Size([100, 10]), labels shape: torch.Size([100])\n"
     ]
    },
    {
     "name": "stderr",
     "output_type": "stream",
     "text": [
      "Training Epochs:   0%|          | 0/5 [00:02<?, ?epoch/s]"
     ]
    },
    {
     "name": "stdout",
     "output_type": "stream",
     "text": [
      "x shape: torch.Size([100, 784]), y_onehot shape: torch.Size([100, 10]), labels shape: torch.Size([100])\n",
      "x shape: torch.Size([100, 784]), y_onehot shape: torch.Size([100, 10]), labels shape: torch.Size([100])\n"
     ]
    },
    {
     "name": "stderr",
     "output_type": "stream",
     "text": [
      "\n"
     ]
    },
    {
     "ename": "KeyboardInterrupt",
     "evalue": "",
     "output_type": "error",
     "traceback": [
      "\u001B[0;31m---------------------------------------------------------------------------\u001B[0m",
      "\u001B[0;31mKeyboardInterrupt\u001B[0m                         Traceback (most recent call last)",
      "Cell \u001B[0;32mIn[5], line 2\u001B[0m\n\u001B[1;32m      1\u001B[0m \u001B[38;5;66;03m# aae.load_weights(\"supervised_aae_weights5\")\u001B[39;00m\n\u001B[0;32m----> 2\u001B[0m \u001B[43maae\u001B[49m\u001B[38;5;241;43m.\u001B[39;49m\u001B[43mtrain_mbgd\u001B[49m\u001B[43m(\u001B[49m\n\u001B[1;32m      3\u001B[0m \u001B[43m    \u001B[49m\u001B[43mdata_loader\u001B[49m\u001B[38;5;241;43m=\u001B[39;49m\u001B[43mtrain_loader\u001B[49m\u001B[43m,\u001B[49m\n\u001B[1;32m      4\u001B[0m \u001B[43m    \u001B[49m\u001B[43mepochs\u001B[49m\u001B[38;5;241;43m=\u001B[39;49m\u001B[43mNUM_EPOCHS\u001B[49m\u001B[43m,\u001B[49m\n\u001B[1;32m      5\u001B[0m \u001B[43m    \u001B[49m\u001B[43mprior_std\u001B[49m\u001B[38;5;241;43m=\u001B[39;49m\u001B[43mPRIOR_STD\u001B[49m\u001B[43m,\u001B[49m\n\u001B[1;32m      6\u001B[0m \u001B[43m)\u001B[49m\n\u001B[1;32m      7\u001B[0m aae\u001B[38;5;241m.\u001B[39msave_weights(\u001B[38;5;124m\"\u001B[39m\u001B[38;5;124msupervised_aae_weights\u001B[39m\u001B[38;5;124m\"\u001B[39m \u001B[38;5;241m+\u001B[39m \u001B[38;5;28mstr\u001B[39m(NUM_EPOCHS))\n",
      "File \u001B[0;32m~/Documents/word_documents/TUDelft/TUD_Masters/Y1/Q4/GM/adversarial-autoencoders/src/adversarial_autoencoder/supervised.py:167\u001B[0m, in \u001B[0;36mSupervisedAdversarialAutoencoder.train_mbgd\u001B[0;34m(self, data_loader, epochs, prior_std)\u001B[0m\n\u001B[1;32m    164\u001B[0m \u001B[38;5;28mself\u001B[39m\u001B[38;5;241m.\u001B[39mdisc_opt\u001B[38;5;241m.\u001B[39mstep()\n\u001B[1;32m    166\u001B[0m \u001B[38;5;66;03m# === GENERATOR ===\u001B[39;00m\n\u001B[0;32m--> 167\u001B[0m \u001B[38;5;28;43mself\u001B[39;49m\u001B[38;5;241;43m.\u001B[39;49m\u001B[43mgen_opt\u001B[49m\u001B[38;5;241;43m.\u001B[39;49m\u001B[43mzero_grad\u001B[49m\u001B[43m(\u001B[49m\u001B[43m)\u001B[49m\n\u001B[1;32m    168\u001B[0m z \u001B[38;5;241m=\u001B[39m \u001B[38;5;28mself\u001B[39m\u001B[38;5;241m.\u001B[39mencoder(x)\n\u001B[1;32m    169\u001B[0m d_pred \u001B[38;5;241m=\u001B[39m \u001B[38;5;28mself\u001B[39m\u001B[38;5;241m.\u001B[39mdiscriminator(z)\n",
      "File \u001B[0;32m/opt/miniconda3/envs/NLP_RAG/lib/python3.10/site-packages/torch/_compile.py:32\u001B[0m, in \u001B[0;36m_disable_dynamo.<locals>.inner\u001B[0;34m(*args, **kwargs)\u001B[0m\n\u001B[1;32m     29\u001B[0m     disable_fn \u001B[38;5;241m=\u001B[39m torch\u001B[38;5;241m.\u001B[39m_dynamo\u001B[38;5;241m.\u001B[39mdisable(fn, recursive)\n\u001B[1;32m     30\u001B[0m     fn\u001B[38;5;241m.\u001B[39m__dynamo_disable \u001B[38;5;241m=\u001B[39m disable_fn\n\u001B[0;32m---> 32\u001B[0m \u001B[38;5;28;01mreturn\u001B[39;00m \u001B[43mdisable_fn\u001B[49m\u001B[43m(\u001B[49m\u001B[38;5;241;43m*\u001B[39;49m\u001B[43margs\u001B[49m\u001B[43m,\u001B[49m\u001B[43m \u001B[49m\u001B[38;5;241;43m*\u001B[39;49m\u001B[38;5;241;43m*\u001B[39;49m\u001B[43mkwargs\u001B[49m\u001B[43m)\u001B[49m\n",
      "File \u001B[0;32m/opt/miniconda3/envs/NLP_RAG/lib/python3.10/site-packages/torch/_dynamo/eval_frame.py:745\u001B[0m, in \u001B[0;36mDisableContext.__call__.<locals>._fn\u001B[0;34m(*args, **kwargs)\u001B[0m\n\u001B[1;32m    741\u001B[0m prior_skip_guard_eval_unsafe \u001B[38;5;241m=\u001B[39m set_skip_guard_eval_unsafe(\n\u001B[1;32m    742\u001B[0m     _is_skip_guard_eval_unsafe_stance()\n\u001B[1;32m    743\u001B[0m )\n\u001B[1;32m    744\u001B[0m \u001B[38;5;28;01mtry\u001B[39;00m:\n\u001B[0;32m--> 745\u001B[0m     \u001B[38;5;28;01mreturn\u001B[39;00m \u001B[43mfn\u001B[49m\u001B[43m(\u001B[49m\u001B[38;5;241;43m*\u001B[39;49m\u001B[43margs\u001B[49m\u001B[43m,\u001B[49m\u001B[43m \u001B[49m\u001B[38;5;241;43m*\u001B[39;49m\u001B[38;5;241;43m*\u001B[39;49m\u001B[43mkwargs\u001B[49m\u001B[43m)\u001B[49m\n\u001B[1;32m    746\u001B[0m \u001B[38;5;28;01mfinally\u001B[39;00m:\n\u001B[1;32m    747\u001B[0m     _maybe_set_eval_frame(prior)\n",
      "File \u001B[0;32m/opt/miniconda3/envs/NLP_RAG/lib/python3.10/site-packages/torch/optim/optimizer.py:975\u001B[0m, in \u001B[0;36mOptimizer.zero_grad\u001B[0;34m(self, set_to_none)\u001B[0m\n\u001B[1;32m    973\u001B[0m \u001B[38;5;28;01mif\u001B[39;00m p\u001B[38;5;241m.\u001B[39mgrad \u001B[38;5;129;01mis\u001B[39;00m \u001B[38;5;129;01mnot\u001B[39;00m \u001B[38;5;28;01mNone\u001B[39;00m:\n\u001B[1;32m    974\u001B[0m     \u001B[38;5;28;01mif\u001B[39;00m set_to_none:\n\u001B[0;32m--> 975\u001B[0m         p\u001B[38;5;241m.\u001B[39mgrad \u001B[38;5;241m=\u001B[39m \u001B[38;5;28;01mNone\u001B[39;00m\n\u001B[1;32m    976\u001B[0m     \u001B[38;5;28;01melse\u001B[39;00m:\n\u001B[1;32m    977\u001B[0m         \u001B[38;5;28;01mif\u001B[39;00m p\u001B[38;5;241m.\u001B[39mgrad\u001B[38;5;241m.\u001B[39mgrad_fn \u001B[38;5;129;01mis\u001B[39;00m \u001B[38;5;129;01mnot\u001B[39;00m \u001B[38;5;28;01mNone\u001B[39;00m:\n",
      "\u001B[0;31mKeyboardInterrupt\u001B[0m: "
     ]
    }
   ],
   "execution_count": 5
  },
  {
   "metadata": {},
   "cell_type": "markdown",
   "source": "### Visualize",
   "id": "ab2f69f2b306311d"
  },
  {
   "metadata": {
    "ExecuteTime": {
     "end_time": "2025-05-15T12:28:18.604948Z",
     "start_time": "2025-05-15T11:42:04.056380Z"
    }
   },
   "cell_type": "code",
   "source": [
    "# import matplotlib.pyplot as plt\n",
    "# \n",
    "# def display_reconstructions(model, test_loader, num_images=5):\n",
    "#     model.eval()\n",
    "#     data_iter = iter(test_loader)\n",
    "#     images, labels = next(data_iter)\n",
    "#     images = images.to(model.device)\n",
    "#     images_flattened = images.view(images.size(0), -1)\n",
    "#     labels_one_hot = torch.nn.functional.one_hot(labels, num_classes=model.num_classes).float().to(model.device)\n",
    "#     \n",
    "#     # Pass through the encoder and decoder\n",
    "#     with torch.no_grad():\n",
    "#         z = model.encoder(images_flattened)\n",
    "#         z_cat = torch.cat([z, labels_one_hot], dim=1)\n",
    "#         recon_images = model.decoder(z_cat)\n",
    "#     \n",
    "#     # Plot the original images and their reconstructions\n",
    "#     fig, axes = plt.subplots(2, num_images, figsize=(12, 6))\n",
    "#     \n",
    "#     for i in range(num_images):\n",
    "#         # Original image\n",
    "#         ax = axes[0, i]\n",
    "#         ax.imshow(images[i].cpu().detach().numpy().reshape(28, 28), cmap='gray')\n",
    "#         ax.axis('off')\n",
    "#         ax.set_title(f\"Original {labels[i].item()}\")\n",
    "#         \n",
    "#         # Reconstructed image\n",
    "#         ax = axes[1, i]\n",
    "#         ax.imshow(recon_images[i].cpu().detach().numpy().reshape(28, 28), cmap='gray')\n",
    "#         ax.axis('off')\n",
    "#         ax.set_title(f\"Reconstruction {labels[i].item()}\")\n",
    "#     \n",
    "#     plt.tight_layout()\n",
    "#     plt.show()\n",
    "# \n",
    "# # Call the function to display the results\n",
    "# display_reconstructions(aae, test_loader)\n"
   ],
   "id": "5bf5db6de7332f13",
   "outputs": [],
   "execution_count": 6
  },
  {
   "metadata": {
    "ExecuteTime": {
     "end_time": "2025-05-15T12:28:18.605689Z",
     "start_time": "2025-05-15T11:42:04.219011Z"
    }
   },
   "cell_type": "code",
   "source": "",
   "id": "49cdf21eeb6b3ffd",
   "outputs": [],
   "execution_count": null
  },
  {
   "metadata": {
    "ExecuteTime": {
     "end_time": "2025-05-15T12:28:18.605890Z",
     "start_time": "2025-05-15T11:42:04.246633Z"
    }
   },
   "cell_type": "code",
   "source": [
    "# Generate and display samples\n",
    "# generated_samples = aae.generate_sample_from_test(train_loader)"
   ],
   "id": "571e34a8f0486bde",
   "outputs": [],
   "execution_count": 7
  },
  {
   "metadata": {
    "ExecuteTime": {
     "end_time": "2025-05-15T12:28:18.606081Z",
     "start_time": "2025-05-15T11:42:04.312328Z"
    }
   },
   "cell_type": "code",
   "source": [
    "def generate_image_grid(aae, latent_dim, prior_std, n_classes=10):\n",
    "    aae.eval()\n",
    "    device = next(aae.parameters()).device  # Get device from model\n",
    "    fig, axes = plt.subplots(1, n_classes, figsize=(15, 2))\n",
    "    z = torch.randn(1, latent_dim).to(device) * prior_std\n",
    "\n",
    "    # Sample z with batch dimension (shape: [1, latent_dim])\n",
    "\n",
    "    for i in range(n_classes):\n",
    "        # Create one-hot y (shape: [1, n_classes])\n",
    "        y = torch.zeros(1, n_classes).to(device)\n",
    "        y[0, i] = 1  # Set i-th class to 1\n",
    "        print(f\"y: {y}\")\n",
    "        z_and_y = torch.cat([z, y], dim=1)  # Output shape: [1, latent_dim + n_classes]\n",
    "\n",
    "        with torch.no_grad():\n",
    "            x_hat = aae.decoder(z_and_y)  # Pass through decoder\n",
    "            x_hat = x_hat.view(28, 28).cpu()  # Reshape to image\n",
    "\n",
    "        axes[i].imshow(x_hat, cmap='gray', vmin=0, vmax=1)\n",
    "        axes[i].axis('off')\n",
    "        axes[i].set_title(f'{i}')\n",
    "\n",
    "    plt.tight_layout()\n",
    "    plt.show()\n",
    "\n",
    "generate_image_grid(aae, latent_dim=LATENT_DIM, prior_std=PRIOR_STD)"
   ],
   "id": "fecbc349116c2c95",
   "outputs": [
    {
     "name": "stdout",
     "output_type": "stream",
     "text": [
      "y: tensor([[1., 0., 0., 0., 0., 0., 0., 0., 0., 0.]])\n",
      "y: tensor([[0., 1., 0., 0., 0., 0., 0., 0., 0., 0.]])\n",
      "y: tensor([[0., 0., 1., 0., 0., 0., 0., 0., 0., 0.]])\n",
      "y: tensor([[0., 0., 0., 1., 0., 0., 0., 0., 0., 0.]])\n",
      "y: tensor([[0., 0., 0., 0., 1., 0., 0., 0., 0., 0.]])\n",
      "y: tensor([[0., 0., 0., 0., 0., 1., 0., 0., 0., 0.]])\n",
      "y: tensor([[0., 0., 0., 0., 0., 0., 1., 0., 0., 0.]])\n",
      "y: tensor([[0., 0., 0., 0., 0., 0., 0., 1., 0., 0.]])\n",
      "y: tensor([[0., 0., 0., 0., 0., 0., 0., 0., 1., 0.]])\n",
      "y: tensor([[0., 0., 0., 0., 0., 0., 0., 0., 0., 1.]])\n"
     ]
    },
    {
     "data": {
      "text/plain": [
       "<Figure size 1500x200 with 10 Axes>"
      ],
      "image/png": "[encoded data removed]"
     },
     "metadata": {},
     "output_type": "display_data"
    }
   ],
   "execution_count": 8
  },
  {
   "metadata": {
    "ExecuteTime": {
     "end_time": "2025-05-15T12:28:18.606273Z",
     "start_time": "2025-05-15T11:42:04.702628Z"
    }
   },
   "cell_type": "code",
   "source": [
    "model = aae\n",
    "# Set model to evaluation mode\n",
    "model.eval()\n",
    "\n",
    "# Pick one image from the test set (or validation set)\n",
    "x, labels = next(iter(train_loader))  # Or load a specific batch\n",
    "\n",
    "x = x.to(model.device)  # Move the image to the device\n",
    "y_onehot = torch.nn.functional.one_hot(labels, num_classes=model.num_classes).float().to(model.device)\n",
    "\n",
    "# Flatten the image (if needed)\n",
    "x_flat = x.view(x.size(0), -1)\n",
    "\n",
    "# Forward pass to get reconstruction\n",
    "with torch.no_grad():  # No need to track gradients\n",
    "    z = model.encoder(x_flat)  # Encoder output (latent space)\n",
    "    z_cat = torch.cat([z, y_onehot], dim=1)  # Concatenate latent vector with one-hot labels\n",
    "    x_hat = model.decoder(z_cat)  # Reconstructed image\n",
    "\n",
    "# Visualize the first image in the batch\n",
    "output_img = x_hat[1].detach().cpu().view(1, 28, 28)  # Detach, move to CPU, reshape to 28x28\n",
    "plt.imshow(output_img.squeeze(), cmap=\"gray\")  # Squeeze to remove unnecessary dimensions\n",
    "plt.title(f\"Reconstructed Image\")\n",
    "plt.axis('off')\n",
    "plt.show()\n",
    "diff = torch.abs(x_hat[1] - x_hat[7])\n",
    "print(f\"Pixel-wise difference: {diff.sum()}\")\n"
   ],
   "id": "5ec04f97eae21ec4",
   "outputs": [
    {
     "data": {
      "text/plain": [
       "<Figure size 640x480 with 1 Axes>"
      ],
      "image/png": "[encoded data removed]"
     },
     "metadata": {},
     "output_type": "display_data"
    },
    {
     "name": "stdout",
     "output_type": "stream",
     "text": [
      "Pixel-wise difference: 50.402854919433594\n"
     ]
    }
   ],
   "execution_count": 9
  },
  {
   "metadata": {
    "ExecuteTime": {
     "end_time": "2025-05-15T12:28:18.606790Z",
     "start_time": "2025-05-15T11:42:04.784617Z"
    }
   },
   "cell_type": "code",
   "source": "",
   "id": "4e4161cca660ea40",
   "outputs": [],
   "execution_count": null
  }
 ],
 "metadata": {
  "kernelspec": {
   "display_name": "Python 3",
   "language": "python",
   "name": "python3"
  },
  "language_info": {
   "codemirror_mode": {
    "name": "ipython",
    "version": 2
   },
   "file_extension": ".py",
   "mimetype": "text/x-python",
   "name": "python",
   "nbconvert_exporter": "python",
   "pygments_lexer": "ipython2",
   "version": "2.7.6"
  }
 },
 "nbformat": 4,
 "nbformat_minor": 5
}
