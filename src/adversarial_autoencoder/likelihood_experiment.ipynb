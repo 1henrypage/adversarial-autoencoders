{
 "cells": [
  {
   "metadata": {},
   "cell_type": "markdown",
   "source": "## Adversarial Autoencoder (Basic Implementation)",
   "id": "cc6f0c4da6afad06"
  },
  {
   "cell_type": "code",
   "id": "initial_id",
   "metadata": {
    "collapsed": true,
    "ExecuteTime": {
     "end_time": "2025-05-11T21:58:44.049950Z",
     "start_time": "2025-05-11T21:58:40.718590Z"
    }
   },
   "source": [
    "import numpy as np\n",
    "import torch\n",
    "import matplotlib.pyplot as plt\n",
    "from torchvision import datasets, transforms\n",
    "from torch.utils.data import DataLoader\n",
    "from torch import nn\n",
    "from adversarial import AdversarialAutoencoder\n",
    "from likelihood import cross_validate_sigma, estimate_log_likelihood"
   ],
   "outputs": [],
   "execution_count": 1
  },
  {
   "metadata": {},
   "cell_type": "markdown",
   "source": "## Dataset Configuration",
   "id": "d6e7501bcda3f6b1"
  },
  {
   "metadata": {
    "ExecuteTime": {
     "end_time": "2025-05-11T21:58:47.162552Z",
     "start_time": "2025-05-11T21:58:47.156988Z"
    }
   },
   "cell_type": "code",
   "source": [
    "def configure_mnist(batch_size=100):\n",
    "    # Define the transform to convert to tensor and flatten the image\n",
    "    transform = transforms.Compose([\n",
    "        transforms.ToTensor(),  # [0, 1 normalization]\n",
    "        transforms.Lambda(lambda x: x.view(-1))  # Flatten\n",
    "    ])\n",
    "\n",
    "    # Load the training and test datasets\n",
    "    train_dataset = datasets.MNIST(root='./data', train=True, transform=transform, download=True)\n",
    "    test_dataset = datasets.MNIST(root='./data', train=False, transform=transform, download=True)\n",
    "\n",
    "    # Extract the training and test data and labels\n",
    "    X_train = train_dataset.data.float().div(255).view(-1, 28 * 28)  # Normalize and flatten\n",
    "    X_test = test_dataset.data.float().div(255).view(-1, 28 * 28)\n",
    "\n",
    "    Y_train = train_dataset.targets  # Get corresponding labels\n",
    "    Y_test = test_dataset.targets  # Get corresponding labels\n",
    "\n",
    "    # Create the DataLoader for training\n",
    "    train_loader = DataLoader(\n",
    "        train_dataset,\n",
    "        batch_size=batch_size,\n",
    "        shuffle=True\n",
    "    )\n",
    "\n",
    "    # Return data and dataloader as a tuple\n",
    "    return X_train, X_test, Y_train, Y_test, train_loader\n",
    "\n",
    "\n",
    "\n",
    "\n"
   ],
   "id": "1d205ac29e836e51",
   "outputs": [],
   "execution_count": 3
  },
  {
   "metadata": {},
   "cell_type": "markdown",
   "source": "## Paper Configuration",
   "id": "6ac1fa5ebb04e182"
  },
  {
   "metadata": {
    "ExecuteTime": {
     "end_time": "2025-05-11T21:58:49.436733Z",
     "start_time": "2025-05-11T21:58:49.433351Z"
    }
   },
   "cell_type": "code",
   "source": [
    "INPUT_DIM = 784\n",
    "BATCH_SIZE = 100\n",
    "AE_HIDDEN = 1000\n",
    "DC_HIDDEN = 1000\n",
    "LATENT_DIM = 8\n",
    "PRIOR_STD = 5.0\n",
    "recon_loss = nn.MSELoss()\n",
    "init_recon_lr = 0.01\n",
    "init_gen_lr = init_disc_lr = 0.1\n",
    "use_decoder_sigmoid = True\n"
   ],
   "id": "1b0bb15c7c03c19d",
   "outputs": [],
   "execution_count": 4
  },
  {
   "metadata": {},
   "cell_type": "markdown",
   "source": "## Training",
   "id": "beaffbcac085f1c8"
  },
  {
   "metadata": {
    "ExecuteTime": {
     "end_time": "2025-05-11T21:58:51.205930Z",
     "start_time": "2025-05-11T21:58:50.926703Z"
    }
   },
   "cell_type": "code",
   "source": [
    "aae = AdversarialAutoencoder(\n",
    "    input_dim=INPUT_DIM,\n",
    "    ae_hidden=AE_HIDDEN,\n",
    "    dc_hidden=DC_HIDDEN,\n",
    "    latent_dim=LATENT_DIM,\n",
    "    recon_loss_fn=recon_loss,\n",
    "    init_recon_lr=init_recon_lr,\n",
    "    init_gen_lr=init_gen_lr,\n",
    "    init_disc_lr=init_disc_lr,\n",
    "    use_decoder_sigmoid=use_decoder_sigmoid,\n",
    "    device = \"cuda\" if torch.cuda.is_available() else \"cpu\"\n",
    ")\n",
    "\n",
    "X_train, X_test, Y_train, Y_test, train_loader = configure_mnist(batch_size=BATCH_SIZE)\n",
    "\n"
   ],
   "id": "38ae34fd974a4959",
   "outputs": [],
   "execution_count": 5
  },
  {
   "metadata": {},
   "cell_type": "code",
   "source": [
    "aae.train_mbgd(\n",
    "    data_loader=train_loader,\n",
    "    epochs=50,\n",
    "    prior_std=PRIOR_STD,\n",
    ")"
   ],
   "id": "3c342f55b0afaf44",
   "outputs": [],
   "execution_count": null
  },
  {
   "metadata": {},
   "cell_type": "markdown",
   "source": "## Evaluation",
   "id": "2b59937fd99ca13c"
  },
  {
   "metadata": {
    "ExecuteTime": {
     "end_time": "2025-05-11T21:58:56.946201Z",
     "start_time": "2025-05-11T21:58:56.926781Z"
    }
   },
   "cell_type": "code",
   "source": "aae.load_weights(path_prefix=\"aae_weights\")",
   "id": "aed1c8ebded9bf22",
   "outputs": [
    {
     "name": "stdout",
     "output_type": "stream",
     "text": [
      "Weights loaded from 50_aae_weights_*.pth\n"
     ]
    }
   ],
   "execution_count": 6
  },
  {
   "metadata": {
    "ExecuteTime": {
     "end_time": "2025-05-11T21:59:00.472116Z",
     "start_time": "2025-05-11T21:59:00.422288Z"
    }
   },
   "cell_type": "code",
   "source": "samples = aae.generate_samples(n=10000, prior_std=PRIOR_STD)",
   "id": "74119ee5b4d31e0f",
   "outputs": [],
   "execution_count": 7
  },
  {
   "metadata": {
    "ExecuteTime": {
     "end_time": "2025-05-11T23:08:06.217586Z",
     "start_time": "2025-05-11T22:51:44.809269Z"
    }
   },
   "cell_type": "code",
   "source": [
    "\n",
    "cross_validate_sigma(\n",
    "    samples=samples,\n",
    "    validation_dataset=X_train[50000:60000],\n",
    "    sigma_range=np.exp(np.linspace(np.log(0.167), np.log(0.18), 10)),\n",
    "    batch_size=100,\n",
    ")\n",
    "\n",
    "\n",
    "\n"
   ],
   "id": "6546e2782cbfb046",
   "outputs": [
    {
     "name": "stdout",
     "output_type": "stream",
     "text": [
      "Evaluating sigma = 0.15999999999999998\n",
      "Sigma: 0.16000, Log-Likelihood: 285.59569\n",
      "Evaluating sigma = 0.16210768217462557\n",
      "Sigma: 0.16211, Log-Likelihood: 283.94969\n",
      "Evaluating sigma = 0.16424312887518386\n",
      "Sigma: 0.16424, Log-Likelihood: 284.04009\n",
      "Evaluating sigma = 0.16640670584415235\n",
      "Sigma: 0.16641, Log-Likelihood: 282.12530\n",
      "Evaluating sigma = 0.16859878364193906\n",
      "Sigma: 0.16860, Log-Likelihood: 289.70884\n",
      "Evaluating sigma = 0.17081973771034953\n",
      "Sigma: 0.17082, Log-Likelihood: 286.45709\n",
      "Evaluating sigma = 0.173069948436889\n",
      "Sigma: 0.17307, Log-Likelihood: 291.83917\n",
      "Evaluating sigma = 0.17534980121991275\n",
      "Sigma: 0.17535, Log-Likelihood: 285.40476\n",
      "Evaluating sigma = 0.17765968653463365\n",
      "Sigma: 0.17766, Log-Likelihood: 288.41038\n",
      "Evaluating sigma = 0.18000000000000002\n",
      "Sigma: 0.18000, Log-Likelihood: 288.95250\n",
      "Best sigma: 0.173069948436889\n"
     ]
    },
    {
     "data": {
      "text/plain": [
       "np.float64(0.173069948436889)"
      ]
     },
     "execution_count": 13,
     "metadata": {},
     "output_type": "execute_result"
    }
   ],
   "execution_count": 13
  },
  {
   "metadata": {
    "ExecuteTime": {
     "end_time": "2025-05-11T23:14:54.548401Z",
     "start_time": "2025-05-11T23:13:16.976066Z"
    }
   },
   "cell_type": "code",
   "source": [
    "estimate_log_likelihood(\n",
    "    samples=samples,\n",
    "    test_data=X_test,\n",
    "    sigma=0.16859878364193906\n",
    ")"
   ],
   "id": "616086957e41d44c",
   "outputs": [
    {
     "data": {
      "text/plain": [
       "(np.float64(290.69415833171877), np.float64(3.2503453024047224))"
      ]
     },
     "execution_count": 15,
     "metadata": {},
     "output_type": "execute_result"
    }
   ],
   "execution_count": 15
  }
 ],
 "metadata": {
  "kernelspec": {
   "display_name": "Python 3",
   "language": "python",
   "name": "python3"
  },
  "language_info": {
   "codemirror_mode": {
    "name": "ipython",
    "version": 2
   },
   "file_extension": ".py",
   "mimetype": "text/x-python",
   "name": "python",
   "nbconvert_exporter": "python",
   "pygments_lexer": "ipython2",
   "version": "2.7.6"
  }
 },
 "nbformat": 4,
 "nbformat_minor": 5
}
